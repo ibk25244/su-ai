{
  "nbformat": 4,
  "nbformat_minor": 0,
  "metadata": {
    "celltoolbar": "Slideshow",
    "colab": {
      "name": "00-2(colab).seaborn-tasting",
      "provenance": [],
      "collapsed_sections": [],
      "include_colab_link": true
    },
    "kernelspec": {
      "display_name": "Python 3",
      "language": "python",
      "name": "python3"
    },
    "language_info": {
      "codemirror_mode": {
        "name": "ipython",
        "version": 3
      },
      "file_extension": ".py",
      "mimetype": "text/x-python",
      "name": "python",
      "nbconvert_exporter": "python",
      "pygments_lexer": "ipython3",
      "version": "3.8.2"
    },
    "toc": {
      "base_numbering": 1,
      "nav_menu": {},
      "number_sections": true,
      "sideBar": true,
      "skip_h1_title": false,
      "title_cell": "Table of Contents",
      "title_sidebar": "Contents",
      "toc_cell": true,
      "toc_position": {},
      "toc_section_display": true,
      "toc_window_display": false
    },
    "varInspector": {
      "cols": {
        "lenName": 16,
        "lenType": 16,
        "lenVar": 40
      },
      "kernels_config": {
        "python": {
          "delete_cmd_postfix": "",
          "delete_cmd_prefix": "del ",
          "library": "var_list.py",
          "varRefreshCmd": "print(var_dic_list())"
        },
        "r": {
          "delete_cmd_postfix": ") ",
          "delete_cmd_prefix": "rm(",
          "library": "var_list.r",
          "varRefreshCmd": "cat(var_dic_list()) "
        }
      },
      "types_to_exclude": [
        "module",
        "function",
        "builtin_function_or_method",
        "instance",
        "_Feature"
      ],
      "window_display": false
    }
  },
  "cells": [
    {
      "cell_type": "markdown",
      "metadata": {
        "id": "view-in-github",
        "colab_type": "text"
      },
      "source": [
        "<a href=\"https://colab.research.google.com/github/ibk25244/su-ai/blob/master/00_2(colab)_seaborn_tasting.ipynb\" target=\"_parent\"><img src=\"https://colab.research.google.com/assets/colab-badge.svg\" alt=\"Open In Colab\"/></a>"
      ]
    },
    {
      "cell_type": "markdown",
      "metadata": {
        "id": "AxOXt-f9abOI",
        "colab_type": "text"
      },
      "source": [
        "- - -\n",
        "\n",
        "<font size=6 color='royalblue'>시각화 : seaborn</font>\n",
        "\n",
        "<font size=5 color='forestgreen'>Visualization : seaborn</font> \n",
        "\n",
        "* * *\n",
        "\n",
        "**<font size=4>박 진 수</font>** 교수  \n",
        "Intelligent Data Semantics Lab  \n",
        "Seoul National University\n",
        "\n",
        "- - -"
      ]
    },
    {
      "cell_type": "markdown",
      "metadata": {
        "id": "tKL3jlmpabOJ",
        "colab_type": "text"
      },
      "source": [
        "<div align='right'><font size='-1'>[credit: 김도훈(2019학번)]</font></div>"
      ]
    },
    {
      "cell_type": "markdown",
      "metadata": {
        "id": "ioetqTt6bYIu",
        "colab_type": "toc"
      },
      "source": [
        ">[seaborn](#scrollTo=CfCAnt-LLg5a)\n",
        "\n",
        ">[Google Colaboratory 환경에서 한글 폰트 설치하기](#scrollTo=PuLjKZ2X03Uv)\n",
        "\n",
        ">[준비하기](#scrollTo=XEvJwwi7abOc)\n",
        "\n",
        ">[막대 그래프](#scrollTo=j6RcgVbsabOp)\n",
        "\n",
        ">>[Lab: 타이타닉 데이터로 막대 그래프 그리기](#scrollTo=fHlgKJdJabO7)\n",
        "\n",
        ">[카운트 플롯](#scrollTo=UyeVq85qabO-)\n",
        "\n",
        ">>[Lab: 타이타닉 데이터로 카운트 플롯 그리기(simple version)](#scrollTo=30KQi92MabPF)\n",
        "\n",
        ">[러그 플롯](#scrollTo=27KkvNUeabPL)\n",
        "\n",
        ">[커널 밀도 플롯](#scrollTo=5PvgEImKHcMT)\n",
        "\n",
        ">[히스토그램](#scrollTo=skugNtuPabPj)\n",
        "\n",
        ">>[Lab: 타이타닉 데이터로 러그 플롯, 커널 밀도 플롯, 히스토그램 그리기](#scrollTo=Dmg6wFMKabP9)\n",
        "\n",
        ">[박스 그래프](#scrollTo=JuR3SO9HR-wX)\n",
        "\n",
        ">>[Lab: 타이타닉 데이터로 박스 그래프 그리기](#scrollTo=jeph3kM2R-xG)\n",
        "\n",
        ">[바이올린 플롯](#scrollTo=mWWeduW2R-xS)\n",
        "\n",
        ">[스트립 플롯](#scrollTo=FrHyT3hGR-yu)\n",
        "\n",
        ">>[Lab: 타이타닉 데이터로 스트립 플롯 그리기](#scrollTo=Q_WTAcSXR-zO)\n",
        "\n",
        ">[스웜 플롯](#scrollTo=IA3d_kZFR-zb)\n",
        "\n",
        ">>[Lab: 타이타닉 데이터로 바이올린 플롯과 스웜 플롯 겹쳐 그리기](#scrollTo=lVEM1RKsR-0D)\n",
        "\n",
        ">[산점도](#scrollTo=38fq3Sm9R-0O)\n",
        "\n",
        ">>[Lab: 타이타닉 데이터로 산점도 그리기](#scrollTo=A_qH-4MNR-0V)\n",
        "\n",
        ">[히트맵](#scrollTo=GV6lRvRdR-0i)\n",
        "\n",
        ">>[Lab: 타이타닉 데이터로 히트맵 만들기](#scrollTo=XZfhe9S7R-1A)\n",
        "\n",
        ">[조인트 플롯](#scrollTo=1dI3RbdKLHgn)\n",
        "\n",
        ">>[Lab: 타이타닉 데이터로 조인트 플롯 그리기](#scrollTo=gwcZe5cUSy04)\n",
        "\n",
        ">[캣 플롯](#scrollTo=FvtMj3TzSy0_)\n",
        "\n",
        ">>[Lab: 타이타닉 데이터로 캣 플롯 그리기(가로 모양의 바이올린)](#scrollTo=vDdVXzX8Sy1R)\n",
        "\n",
        ">>[Lab: 타이타닉 데이터로 캣 플롯 그리기(세로 모양의 바이올린)](#scrollTo=RD4sWzJwSy1V)\n",
        "\n",
        ">[페어 플롯](#scrollTo=UHqoCvAkSy1Y)\n",
        "\n",
        ">>[Lab: 다이아몬드 데이터로 페어 플롯 그리기](#scrollTo=gyPEriHoSy1l)\n",
        "\n",
        ">>>[다이아몬드 데이터에 대한 설명](#scrollTo=Y2kVPiifSy1r)\n",
        "\n",
        ">[조인트 플롯 vs. 캣 플롯 vs.  페어 플롯](#scrollTo=49es3hmXSy1u)\n",
        "\n",
        ">[THE END](#scrollTo=Je1472zzabQB)\n",
        "\n"
      ]
    },
    {
      "cell_type": "markdown",
      "metadata": {
        "colab_type": "text",
        "id": "CfCAnt-LLg5a"
      },
      "source": [
        "# seaborn"
      ]
    },
    {
      "cell_type": "markdown",
      "metadata": {
        "colab_type": "text",
        "id": "RxCWDguBabOK"
      },
      "source": [
        "**seaborn**이란?\n",
        "\n",
        "- matplotlib을 기반으로 다양한 색상 테마와 통계용 도표 등의 기능을 추가한 시각화 패키지다. \n",
        "- 기본적인 시각화 기능은 matplotlib 패키지를, 통계 기능은 statsmodels 패키지를 기반으로 한다.\n",
        "- 아래의 링크에서 seaborn에 대해 더 자세히 찾아볼 수 있다.\n",
        "    - https://seaborn.pydata.org/index.html\n",
        "\n",
        "\n",
        "matplotlib과 비교했을때 여러 장점이 있다.\n",
        "\n",
        "1. 시각적으로 더 보기 좋다. \n",
        "1. 데이터를 다루는 라이브러리인 판다스의 데이터프레임 기능을 제공하기 때문에 CSV 파일 등의 전체 데이터 세트에서 데이터를 불러와서 그릴 수 있다.\n",
        "1. 보다 많은 차트와 색 테마들을 지원한다.\n",
        "1. 그래프를 보다 쉽게 그려준다.\n",
        "1. 데이터의 패턴이나 형상을 그리는데 장점을 보인다.\n",
        "\n",
        "\n",
        "단점은 다음과 같다.\n",
        "- matplotlib와의 호환성 문제로 matplotlib에서 작동하는 함수들이 seaborn에서 작동하지 않는 경우가 간혹 있다. "
      ]
    },
    {
      "cell_type": "markdown",
      "metadata": {
        "id": "PuLjKZ2X03Uv",
        "colab_type": "text"
      },
      "source": [
        "# Google Colaboratory 환경에서 한글 폰트 설치하기"
      ]
    },
    {
      "cell_type": "markdown",
      "metadata": {
        "id": "6X9cc000zFii",
        "colab_type": "text"
      },
      "source": [
        "구글 콜랩에서는 기본적으로 한글 폰트가 설치되어 있지 않기 때문에 사용자가 폰트를 설치해서 사용해아 한다."
      ]
    },
    {
      "cell_type": "code",
      "metadata": {
        "id": "UqtlufVY4SJ0",
        "colab_type": "code",
        "colab": {}
      },
      "source": [
        "import matplotlib \n",
        "from matplotlib import font_manager, pyplot\n",
        " \n",
        " # 폰트를 설치하기 위해 구글 콜랩에서 설치할 수 있는 폰트의 리스트를 출력한다.\n",
        "!apt -qq -y install fonts-nanum\n",
        " \n",
        "# 나눔바른고딕(NanumBarunGothic)을 사용하기 위해 경로를 포함시킨다.\n",
        "fontpath = '/usr/share/fonts/truetype/nanum/NanumBarunGothic.ttf' \n",
        "\n",
        "# font_manager.FontProperties를 이용하여 등록한다.\n",
        "font = font_manager.FontProperties(fname=fontpath, size=9)\n",
        "\n",
        "# 나눔바른고딕으로 폰트를 설정한다.\n",
        "pyplot.rc('font', family='NanumBarunGothic') \n",
        "\n",
        "# matplotlib의 폰트 캐시 파일을 업데이트 한다.\n",
        "font_manager._rebuild() "
      ],
      "execution_count": null,
      "outputs": []
    },
    {
      "cell_type": "markdown",
      "metadata": {
        "colab_type": "text",
        "id": "wZXwQgzCXfsN"
      },
      "source": [
        "이제 폰트를 변경하기에 앞서 **런타임 다시 시작**을 하고 아래 셀을 실행한다.\n",
        "- **런타임** -> **런타임 다시 시작**"
      ]
    },
    {
      "cell_type": "code",
      "metadata": {
        "id": "zvW4b5CLvt09",
        "colab_type": "code",
        "colab": {}
      },
      "source": [
        "import matplotlib \n",
        "from matplotlib import font_manager, pyplot\n",
        "\n",
        "# 나눔바른고딕으로 폰트를 설정한다.\n",
        "pyplot.rc('font', family='NanumBarunGothic') \n",
        "\n",
        "# matplotlib의 폰트 캐시 파일을 업데이트 한다.\n",
        "font_manager._rebuild() "
      ],
      "execution_count": null,
      "outputs": []
    },
    {
      "cell_type": "code",
      "metadata": {
        "id": "l1NzD5lK0RCS",
        "colab_type": "code",
        "colab": {}
      },
      "source": [
        "# Retina 스크린을 장착한 컴퓨터인 경우 아래 매직 명령어를 사용해 고화질 도표를 생성할 수 있다.\n",
        "%config InlineBackend.figure_format = 'retina'"
      ],
      "execution_count": null,
      "outputs": []
    },
    {
      "cell_type": "code",
      "metadata": {
        "id": "fsbkN7Wx03U4",
        "colab_type": "code",
        "colab": {}
      },
      "source": [
        "# 나눔바른고딕(Nanum Barun Gothic) 폰트로 출력한다.\n",
        "pyplot.title('한글 제목')\n",
        "\n",
        "x = 1, 2, 3\n",
        "pyplot.plot(x, x);"
      ],
      "execution_count": null,
      "outputs": []
    },
    {
      "cell_type": "markdown",
      "metadata": {
        "id": "XEvJwwi7abOc",
        "colab_type": "text"
      },
      "source": [
        "# 준비하기"
      ]
    },
    {
      "cell_type": "code",
      "metadata": {
        "colab_type": "code",
        "id": "RiSPtZT_zWWp",
        "colab": {}
      },
      "source": [
        "# 버전 차이에 따른 경고 문자는 모두 무시한다.\n",
        "import warnings\n",
        "warnings.simplefilter(action='ignore')\n",
        "\n",
        "# --- seaborn과 관련 모듈 불러오기\n",
        "# 주로 seaborn을 sns란 별칭으로 사용하지만 여기서는 seaborn으로 사용한다.\n",
        "import seaborn  # as sns\n",
        "import matplotlib\n",
        "\n",
        "# matplotlib도 함께 불러와야 한다.\n",
        "from matplotlib import pyplot \n",
        "\n",
        "# 마이너스 기호를 사용할 때 마이너스 기호가 깨지는 것을 방지하기 위해 아래 설정을 한다.\n",
        "matplotlib.rcParams['axes.unicode_minus'] = False\n",
        "\n",
        "# --- 버전 확인하기\n",
        "print('Seaborn version......:', seaborn.__version__)\n",
        "print('Matplotlib version...:', matplotlib.__version__)"
      ],
      "execution_count": null,
      "outputs": []
    },
    {
      "cell_type": "markdown",
      "metadata": {
        "id": "j6RcgVbsabOp",
        "colab_type": "text"
      },
      "source": [
        "# 막대 그래프"
      ]
    },
    {
      "cell_type": "markdown",
      "metadata": {
        "id": "OGzwqqsFabOp",
        "colab_type": "text"
      },
      "source": [
        "[seaborn.barplot](https://seaborn.pydata.org/generated/seaborn.barplot.html)\n",
        "\n",
        "**seaborn**에서 막대 그래프는 수치형 값의 특정 집계(평균, 합계 등)를 동일한 너비의 여러 막대로 표시하고 각 막대 위에 오차 막대를 그려주는 그래프다.\n",
        "\n",
        "막대 그래프를 작성하려면 **barplot()** 메소드를 주로 **barplot(*x=None, y=None, hue=None, data=None, order=None, estimator=<function mean at 0x10a2a03b0>, ci=95*)** 형식으로 사용하면 된다.\n",
        "\n",
        "- ***x, y*** 에는 데이터의 변수명을 입력한다.\n",
        "- ***hue*** 에도 데이터의 변수명을 입력하며 생성된 막대들을 입력한 변수의 범주에 따라 색으로 나눠준다.\n",
        "- ***data***  는 입력하는 전체 데이터의 이름이다.\n",
        "- ***order***는 입력한 범주형 변수의 범주들을 문자열의 리스트로 입력하여 각 범주가 그래프에 막대로 그려지는 순서를 설정한다.\n",
        "- ***estimator*** 는 막대 그래프의 큰 막대들이 그려지는 기준을 설정한다. 기본값으로는 **mean**(평균)을 막대로 그리며 이외에 **sum**(합계), **max**(최댓값), **min**(최솟값) 등을 설정할 수 있다.\n",
        "- ***ci*** 는 추정 값을 중심으로 하는 신뢰구간을 범주 별로 생성되는 큰 막대 위에 작은색 검은 막대로 표시해준다. 실수(**float**)를 입력하면 **실수%** 의 신뢰구간(confidence level)이 범주 별 막대 위에 그려진다. 기본값은 **95**로 추정 값이 **95**%의 확률로 존재할 것으로 기대되는 구간을 의미한다.  **'sd'** 를 입력하면 데이터 값들의 표준 편차(standard deviation)가 그려진다.\n",
        "    - 표준 오차란 표본 평균들의 표준 편차를 의미한다.\n",
        "    - 표준 편차란 모집단에 속한 숫자들이 모평균과 차이나는 정도를 의미한다.\n",
        "    - 신뢰구간이란 이 구간 내에 실제 데이터가 존재할 것으로 예측되는 구간을 의미한다.\n",
        "- 더 자세한 내용은 아래의 링크에서 확인할 수 있다.\n",
        "    - https://seaborn.pydata.org/generated/seaborn.barplot.html\n",
        "\n",
        "**barplot()** 메소드로 출력하는 도표는 하나이므로 x축과 y축을 라벨링할 때 **pyplot.xlabel()** 과 **pyplot.ylabel()** 을 호출하면 된다.\n",
        "\n",
        "범주별로 생성되는 막대들의 눈금에 라벨을 붙이려면 **barplot()** 메소드가 반환하는 객체인 **AxesSubplot**을 새로운 변수로 할당하고 **set_xticklabels()** 을 사용한다."
      ]
    },
    {
      "cell_type": "markdown",
      "metadata": {
        "id": "G86l3rXzOel3",
        "colab_type": "text"
      },
      "source": [
        "다음 예는 연비 데이터에서 생산 국가별 자동차의 평균 마력을 막대 그래프로 작성한 코드다."
      ]
    },
    {
      "cell_type": "code",
      "metadata": {
        "id": "XKeGLcM-abcV",
        "colab_type": "code",
        "colab": {}
      },
      "source": [
        "# 연비 데이터\n",
        "mpg = seaborn.load_dataset('mpg')          \n",
        "mpgmpg"
      ],
      "execution_count": null,
      "outputs": []
    },
    {
      "cell_type": "code",
      "metadata": {
        "colab_type": "code",
        "id": "GgzVdWlCabOr",
        "colab": {}
      },
      "source": [
        "# --- 연비 데이터(mpg)에서 생산 국가별 자동차의 평균 마력을 막대 그래프로 작성한다.\n",
        "# > 연비 데이터는 자동차와 관련된 정보들을 기록한 데이터 세트다.\n",
        "# > mpg(연비), cylinders(실린더), displacement(배기량), horsepower(마력),\n",
        "# > weight(무게), accleration(가속), model_year(연식), origin(제조국가), \n",
        "# > name(이름)으로 총 9개의 속성을 가지고 있다. \n",
        "\n",
        "# x='origin'으로 설정하여 x축을 범주형 변수인 생산 국가로,\n",
        "# y='horsepower'로 설정하여 y축을 실숫값인 자동차 마력으로 설정한다.\n",
        "# estimator를 설정하지 않았으므로 막대의 높이는 각 범주에 해당하는 값들의 평균이 된다.\n",
        "# ci는 따로 설정하지 않아 기본값을 가지므로 95%의 신뢰구간을 오차 막대로 그린다.\n",
        "# barplot이 반환하는 객체인 AxesSubplot을 'ax'라는 변수로 할당한다.\n",
        "ax = seaborn.barplot(__TODO__)\n",
        "\n",
        "# AxesSubplot.set_xticklabels()로 x축에 작성하는 범주들을 각각 미국, 일본, 유럽으로 라벨링한다.\n",
        "ax.set_xticklabels(__TODO__)\n",
        "\n",
        "pyplot.title('생산 국가별 자동차 평균 마력\\n(막대 그래프 - 연비 데이터)')\n",
        "pyplot.ylabel('자동차 마력 평균')\n",
        "pyplot.xlabel('생산 국가')\n",
        "pyplot.show()"
      ],
      "execution_count": null,
      "outputs": []
    },
    {
      "cell_type": "markdown",
      "metadata": {
        "id": "Bws2G6bPabOt",
        "colab_type": "text"
      },
      "source": [
        "**실행 결과**  \n",
        "![seaborn01](https://drive.google.com/uc?id=1BxXl-TMtbWbzjNCuylQJkldxrk9JCCUn)"
      ]
    },
    {
      "cell_type": "markdown",
      "metadata": {
        "id": "fHlgKJdJabO7",
        "colab_type": "text"
      },
      "source": [
        "## Lab: 타이타닉 데이터로 막대 그래프 그리기"
      ]
    },
    {
      "cell_type": "markdown",
      "metadata": {
        "id": "KH8-lwtrabO7",
        "colab_type": "text"
      },
      "source": [
        "- - -\n",
        "- 타이타닉 생존 데이터에서 클래스 등급(class)에 따른 생존자 수의 합계를 막대 그래프로 작성한다.\n",
        "\n",
        "- 전체 도표의 제목과 x축, y축의 라벨을 적절한 내용으로 설정한다.\n",
        "\n",
        "- x축 범주 눈금의 라벨도 설정한다.\n",
        "\n",
        "- - -"
      ]
    },
    {
      "cell_type": "code",
      "metadata": {
        "id": "koO_8t9SbCDh",
        "colab_type": "code",
        "colab": {}
      },
      "source": [
        "# 타이타닉 생존 데이터\n",
        "titanic = seaborn.load_dataset('titanic')  \n",
        "titanic"
      ],
      "execution_count": null,
      "outputs": []
    },
    {
      "cell_type": "code",
      "metadata": {
        "id": "kt8l3pFyjzBj",
        "colab_type": "code",
        "colab": {}
      },
      "source": [
        "# Your answer here"
      ],
      "execution_count": null,
      "outputs": []
    },
    {
      "cell_type": "markdown",
      "metadata": {
        "id": "UyeVq85qabO-",
        "colab_type": "text"
      },
      "source": [
        "# 카운트 플롯"
      ]
    },
    {
      "cell_type": "markdown",
      "metadata": {
        "id": "m2MuLjHpabO-",
        "colab_type": "text"
      },
      "source": [
        "[seaborn.countplot](https://seaborn.pydata.org/generated/seaborn.countplot.html)\n",
        "\n",
        "카운트 플롯은 각 범주별로 데이터가 얼마나 있는지 나타낼 수 있다.\n",
        "\n",
        "카운트 플롯을 작성하려면 **countplot()** 메소드를 주로 **countplot(*x=None, y=None, hue=None, data=None, color=None, palette=None*)** 형식으로 사용하면 된다.\n",
        "\n",
        "- ***x***, ***y***, ***hue*** 는 데이터의 열 이름(변수명) 문자열이다. \n",
        "    + ***x*** 와 ***y*** 는 동시에 입력할 수 없다. \n",
        "    + ***x*** 만 입력하면 세로로 막대가 그려지고 ***y*** 만 입력하면 가로로 막대가 그려진다. \n",
        "    + ***hue*** 를 같이 사용하면 범례가 생성되며 다른 범주와 함께 비교할 수 있다.\n",
        "- ***data*** 는 입력하는 전체 데이터 값이다.\n",
        "- ***color*** 는 막대의 색상을 설정한다.\n",
        "- ***palette*** 는 **color**를 지정하지 않았을 때 자동으로 칠하는 색상 순서를 설정한다. 기본값으로는 파랑, 주황, 초록, 빨강 등의 순서로 칠해지는데 *'Set3'* 등으로 설정할 수 있다.\n",
        "    - https://seaborn.pydata.org/generated/seaborn.color_palette.html#seaborn.color_palette\n",
        "    - 'Set3'은 **seaborn**이 제공하는 palette 중 하나다. palette는 사용자가 임의로 만들 수도 있지만 기본적으로 제공하는 palette가 몇 개 있는데, 'Set1', 'Set2', 'Set3', 'Blues', 'Paired' 등이 여기에 해당한다.\n",
        "        - https://seaborn.pydata.org/tutorial/color_palettes.html#palette-tutorial \n",
        "        - http://colorbrewer2.org/#type=sequential&scheme=BuGn&n=3\n",
        "- 더 자세한 내용은 아래의 링크에서 확인할 수 있다.\n",
        "    - https://seaborn.pydata.org/generated/seaborn.countplot.html\n",
        "\n",
        "**countplot()** 메소드로 출력하는 도표는 하나이므로 x축과 y축을 라벨링할 때 **pyplot.xlabel()** 과 **pyplot.ylabel()** 을 호출하면 된다."
      ]
    },
    {
      "cell_type": "markdown",
      "metadata": {
        "id": "tre6t-0UaJkx",
        "colab_type": "text"
      },
      "source": [
        "다음 예는 팁 데이터의 요일 데이터와 성별 데이터로 요일별 방문한 고객 성별 거래 건수를 카운트 플롯을 작성한 코드다."
      ]
    },
    {
      "cell_type": "code",
      "metadata": {
        "id": "5Crj1uxtbNnD",
        "colab_type": "code",
        "colab": {}
      },
      "source": [
        "# 팁 데이터\n",
        "tips = seaborn.load_dataset('tips')\n",
        "tips"
      ],
      "execution_count": null,
      "outputs": []
    },
    {
      "cell_type": "code",
      "metadata": {
        "colab_type": "code",
        "id": "6ckD1iLrabPB",
        "colab": {}
      },
      "source": [
        "# --- 팁 데이터(tips)에서 요일별 방문한 고객 성별 거래 건수를 카운트 플롯을 작성한다.\n",
        "# > 팁 데이터는 고객 정보와 고객의 청구서 금액 및 팁을 기록한 데이터 세트다.\n",
        "# > total_bill(전체 금액), tip(팁), sex(성별), smoker(흡연자 여부), \n",
        "# > day(요일), time(시간), size(인원 수)로 총 7개의 속성을 가지고 있다.\n",
        "\n",
        "# x='day'로 설정하여 x축을 범주형 변수인 요일로,\n",
        "# hue='sex'로 설정하여 고객을 성별로 구분한다. \n",
        "# 팁 데이터에서 x축을 요일로 설정하고 고객의 성별을 범례로 표시한다.\n",
        "# y축은 팁을 포함한 전체 식사료, 즉 총 금액을 지불한 행위인 거래 건수를 뜻하며\n",
        "# 지불 주체가 여성인지 남성인지를 구분하여 보여준다.\n",
        "# countplot이 반환하는 객체인 AxesSubplot을 'ax' 라는 변수로 할당한다.\n",
        "ax = seaborn.countplot(__TODO__)\n",
        "\n",
        "# AxesSubplot.set_xticklabels()로 x축에 작성하는 범주들을 각각 라벨링한다.\n",
        "ax.set_xticklabels(__TODO__)\n",
        "\n",
        "pyplot.title('요일별 방문한 고객 성별 거래 건수\\n(카운트 플롯 - 팁 데이터)')\n",
        "pyplot.ylabel('거래 건수')\n",
        "pyplot.xlabel('요일') \n",
        "pyplot.show()"
      ],
      "execution_count": null,
      "outputs": []
    },
    {
      "cell_type": "markdown",
      "metadata": {
        "id": "Sl7k1p5VabPD",
        "colab_type": "text"
      },
      "source": [
        "**실행 결과**  \n",
        "\n",
        "![seaborn04](https://drive.google.com/uc?id=15zlEUvSUlGGbxyH-PyYmNUqNf86g7zlF)"
      ]
    },
    {
      "cell_type": "markdown",
      "metadata": {
        "id": "30KQi92MabPF",
        "colab_type": "text"
      },
      "source": [
        "## Lab: 타이타닉 데이터로 카운트 플롯 그리기(simple version)"
      ]
    },
    {
      "cell_type": "markdown",
      "metadata": {
        "id": "eGYQ-cBiabPF",
        "colab_type": "text"
      },
      "source": [
        "- - - \n",
        "\n",
        "- 타이타닉 생존 데이터에서 좌석의 클래스 등급(class)에 따른 생존 여부(survived)에 따라 색상을 구분하여 사망자와 생존자의 수를 카웃트 플롯으로 작성한 도표를 보여준다.\n",
        "\n",
        "- 전체 도표의 제목과 x축, y축의 라벨을 적절한 내용으로 설정한다. \n",
        "\n",
        "- 코드를 단순하게 하기 위해 ***hue*** 로 생성하는 범례의 범주를 한글로 라벨을 설정하지 않고 자동으로 생성되는 라벨을 그대로 사용한다.\n",
        "\n",
        "\n",
        "**[참고]**\n",
        "survived 값 중\n",
        "- **0**은 사망\n",
        "- **1**은 생존  \n",
        "을 의미한다.\n",
        "\n",
        "- - -"
      ]
    },
    {
      "cell_type": "code",
      "metadata": {
        "id": "ia0F7JoabkMh",
        "colab_type": "code",
        "colab": {}
      },
      "source": [
        "# 타이타닉 생존 데이터\n",
        "titanic = seaborn.load_dataset('titanic')  \n",
        "titanic"
      ],
      "execution_count": null,
      "outputs": []
    },
    {
      "cell_type": "code",
      "metadata": {
        "id": "Ar_r4hBjj5k1",
        "colab_type": "code",
        "colab": {}
      },
      "source": [
        "# Your answer here"
      ],
      "execution_count": null,
      "outputs": []
    },
    {
      "cell_type": "markdown",
      "metadata": {
        "id": "27KkvNUeabPL",
        "colab_type": "text"
      },
      "source": [
        "# 러그 플롯"
      ]
    },
    {
      "cell_type": "markdown",
      "metadata": {
        "id": "hvtRJ10cabPL",
        "colab_type": "text"
      },
      "source": [
        "[seaborn.rugplot](http://seaborn.pydata.org/generated/seaborn.rugplot.html)\n",
        "\n",
        "러그 플롯은 데이터 위치를 x축 위에 작은 막대로 나타내어 실제 데이터들의 분포를 시각화한다.\n",
        "\n",
        "러그 플롯을 작성하려면 **rugplot()** 메소드를 주로 **rugplot(*a, height=0.05, axis='x'*)** 형식으로  사용하면 된다.\n",
        "- ***a*** 는 입력하는 데이터 값이다. 1차원 배열(1D Arrary) 형태를 가진다.\n",
        "- ***height*** 는 막대의 길이를, \n",
        "- ***axis*** 는 러그 플롯을 그리는 축을 설정한다. **'x'** 와 **'y'** 중 하나를 받으며 기본값은 **'x'** 로 *x*축에 러그 플롯을 그린다.\n",
        "- 더 자세한 내용은 아래의 링크에서 확인할 수 있다.\n",
        "    - http://seaborn.pydata.org/generated/seaborn.rugplot.html\n",
        "\n",
        "**rugplot()** 메소드로 출력하는 도표는 하나이므로 x축과 y축을 라벨링할 때 **pyplot.xlabel()** 과 **pyplot.ylabel()** 을 호출하면 된다."
      ]
    },
    {
      "cell_type": "markdown",
      "metadata": {
        "id": "l1JtflFeabPM",
        "colab_type": "text"
      },
      "source": [
        "다음 예는 연비 데이터의 배기량 값을 러그 플롯으로 작성한 코드다."
      ]
    },
    {
      "cell_type": "code",
      "metadata": {
        "id": "m03hWgInabPM",
        "colab_type": "code",
        "colab": {}
      },
      "source": [
        "# 연비 데이터\n",
        "mpg = seaborn.load_dataset('mpg')          \n",
        "mpg.displacement"
      ],
      "execution_count": null,
      "outputs": []
    },
    {
      "cell_type": "code",
      "metadata": {
        "colab_type": "code",
        "id": "W2V_81EnMb18",
        "colab": {}
      },
      "source": [
        "# --- 연비 데이터(mpg)로 배기량 값을 러그 플롯으로 작성한다.\n",
        "# > 연비 데이터는 자동차와 관련된 정보들을 기록한 데이터 세트다.\n",
        "# > mpg(연비), cylinders(실린더), displacement(배기량), horsepower(마력),\n",
        "# > weight(무게), accleration(가속), model_year(연식), origin(제조국가), \n",
        "# > name(이름)으로 총 9개의 속성을 가지고 있다. \n",
        "import numpy\n",
        "\n",
        "# 배기량(displacement) 분포를 보여준다.\n",
        "seaborn.rugplot(__TODO__)\n",
        "\n",
        "pyplot.title('자동차 배기량\\n(러그 플롯 - 연비 데이터)')\n",
        "pyplot.xlabel('자동차 배기량(단위: 세제곱 인치(cubic inch))')\n",
        "pyplot.show()"
      ],
      "execution_count": null,
      "outputs": []
    },
    {
      "cell_type": "markdown",
      "metadata": {
        "id": "CGiucn72abPQ",
        "colab_type": "text"
      },
      "source": [
        "**실행 결과**  \n",
        "\n",
        "![seaborn05](https://drive.google.com/uc?id=1dQ1lX8a68fxaGv4vydmOBFAT3sDD3vmv)"
      ]
    },
    {
      "cell_type": "markdown",
      "metadata": {
        "id": "5PvgEImKHcMT",
        "colab_type": "text"
      },
      "source": [
        "# 커널 밀도 플롯"
      ]
    },
    {
      "cell_type": "markdown",
      "metadata": {
        "id": "KwIrwxLMabPX",
        "colab_type": "text"
      },
      "source": [
        "\n",
        "\n",
        "[seaborn.kdeplot](https://seaborn.pydata.org/generated/seaborn.kdeplot.html)\n",
        "\n",
        "커널(kernel)이라는 함수를 겹치는 방법으로 히스토그램보다 부드러운 형태의 분포 곡선을 시각화한다. \n",
        "\n",
        "히스토그램은 데이터의 밀도를 간단한 형태로 표현해주는 그래프로서 모양이 막대(bin)의 시작점과 폭에 의존하며 추정한 밀도가 불연속적이라 매끄럽지 못한 경우가 있다. 커널 밀도 플롯은 커널 함수를 사용하여 이런 단점들을 완화한다.\n",
        "\n",
        "**[참고]**  \n",
        "커널 함수란 확률 분포를 나타내기에 적합한 함수로서 원점을 중심으로 대칭이고, 적분이 **1**인 양의 함수를 뜻한다. \n",
        "- 커널 함수에는 가우시안(Gaussian), 코사인(Cosine), Epanechnikov, uniform 등이 있는데, **seaborn**에서는 기본값으로 가우시안 커널 함수를 사용한다.\n",
        "\n",
        "커널 밀도 플롯을 작성하려면 **kdeplot()** 메소드를 주로 **kdeplot(*data, data2=None, shade=False, vertical=False, kernel='gau'*)** 형식으로 사용하면 된다.\n",
        "- ***data*** 는 입력하는 데이터 값이다. 1차원 배열(1D Arrary) 형태를 가진다.\n",
        "- ***data2*** 도 입력하는 데이터 값이다. 1차원 배열(1D Arrary) 형태를 가지는데 두 개 변수를 가지는 커널 밀도 플롯을 그릴 때 설정한다.\n",
        "- ***shade*** 는 **bool** 자료형을 입력하여 곡선 아래의 공간을 음영 처리할지 설정하며, 기본값은 **False**로 음영 처리를 하지 않는다.\n",
        "- ***vertical*** 은 **bool** 자료형을 입력하여 커널 밀도를 표현하는 축을 설정한다. 기본값은 **False**로 y축에 커널 밀도를 표현한다.\n",
        "- ***kernel*** 은 그려지는 커널 밀도의 형태를 설정한다. **{'gau' | 'cos' | 'biw' | 'epa' | 'tri' | 'triw' }** 중 하나를 선택하며 기본값은 **'gau'** 다.\n",
        "- 더 자세한 내용은 아래의 링크에서 확인할 수 있다.\n",
        "    - https://seaborn.pydata.org/generated/seaborn.kdeplot.html\n",
        "\n",
        "**kdeplot()** 메소드로 출력하는 도표는 하나이므로 x축과 y축을 라벨링할 때 **pyplot.xlabel()** 과 **pyplot.ylabel()** 을 호출하면 된다."
      ]
    },
    {
      "cell_type": "markdown",
      "metadata": {
        "id": "h0f6H89pdaZ2",
        "colab_type": "text"
      },
      "source": [
        "다음 예는 연비 데이터의 실린더 값을 커널 밀도 플롯으로 작성한 코드다."
      ]
    },
    {
      "cell_type": "code",
      "metadata": {
        "id": "GssaddDaabPb",
        "colab_type": "code",
        "colab": {}
      },
      "source": [
        "# 연비 데이터\n",
        "mpg = seaborn.load_dataset('mpg')          \n",
        "mpg.cylinders"
      ],
      "execution_count": null,
      "outputs": []
    },
    {
      "cell_type": "code",
      "metadata": {
        "colab_type": "code",
        "id": "x3wLgd-XabPd",
        "colab": {}
      },
      "source": [
        "# --- 연비 데이터(mpg)로 실린더 값을 커널 밀도 플롯으로 작성한다.\n",
        "# > 연비 데이터는 자동차와 관련된 정보들을 기록한 데이터 세트다.\n",
        "# > mpg(연비), cylinders(실린더), displacement(배기량), horsepower(마력),\n",
        "# > weight(무게), accleration(가속), model_year(연식), origin(제조국가), \n",
        "# > name(이름)으로 총 9개의 속성을 가지고 있다. \n",
        "import numpy\n",
        "\n",
        "# 자동차 실린더 개수('cylinders') 분포를 확률 밀도로 보여준다.\n",
        "# shade=True로 설정하여 곡선 아래의 공간을 음영 처리한다.\n",
        "seaborn.kdeplot(__TODO__)\n",
        "\n",
        "pyplot.title('자동차 실린더 개수\\n(커널 밀도 플롯 - 연비 데이터)')\n",
        "pyplot.ylabel('확률 밀도')\n",
        "pyplot.xlabel('자동차 실린더 개수') \n",
        "pyplot.show()"
      ],
      "execution_count": null,
      "outputs": []
    },
    {
      "cell_type": "markdown",
      "metadata": {
        "id": "GbcvWAjLabPf",
        "colab_type": "text"
      },
      "source": [
        "**실행 결과**  \n",
        "\n",
        "![seaborn07](https://drive.google.com/uc?id=1P9f3Sv8xZkGVbG7E6Tr39KB9AhMFsAuE)"
      ]
    },
    {
      "cell_type": "markdown",
      "metadata": {
        "id": "skugNtuPabPj",
        "colab_type": "text"
      },
      "source": [
        "# 히스토그램"
      ]
    },
    {
      "cell_type": "markdown",
      "metadata": {
        "id": "jdTTeUkQabPk",
        "colab_type": "text"
      },
      "source": [
        "[seaborn.distplot](https://seaborn.pydata.org/generated/seaborn.distplot.html)\n",
        "\n",
        "히스토그램은 도수분포표를 시각적으로 표현한 막대 그래프다. 즉, 특정 구간에 속하는 자료의 개수를 나타내는 빈도표(frequency table)인 도수분포표를 시각화한 도형으로 비교할 양이나 수치에 대한 구간별 빈도수를 막대 모양의 도형으로 나타낸 그래프다.\n",
        "\n",
        "히스토그램을 작성하려면 **distplot()** 메소드를 주로 **distplot(*a, bins=None, hist=True, kde=True, rug=False, norm_hist=False*)** 형식으로 사용하면 된다.\n",
        "- ***a*** 는 입력하는 데이터 값이다. 1차원 배열(1D Array), 리스트(list), 또는 시리즈(series)형태를 가진다.\n",
        "- ***bins*** 는 구간 수, 즉 도형에 들어갈 막대의 개수다. 설정하지 않으면 유용한 결과를 가지도록 자동으로 설정된다.\n",
        "- ***hist*** 에는 **bool** 자료형을 입력하여 히스토그램을 그릴지 설정한다. 기본값은 **True**로 히스토그램을 그린다.\n",
        "- ***kde*** 에는 **bool** 자료형을 입력하여 커널 밀도 플롯을 그릴지 여부를 설정한다. 기본값은 **True**로 커널 밀도 플롯으로 그린다.\n",
        "- ***rug*** 에는 **bool** 자료형을 입력하여 러그 플롯으로 그릴지 여부를 설정한다. 기본값은 **False**로 러그 플롯으로 그리지 않는다.\n",
        "- ***norm_hist*** 에는 **bool** 자료형을 입력하여 히스토그램의 막대가 자료의 개수가 아닌 확률 밀도를 의미할지 여부를 설정한다. 기본값은 **False**로 막대는 자료의 개수를 의미한다. 만약 커널 밀도 플롯을 같이 그리는 경우 **True**가 되어 히스토그램의 막대는 확률 밀도가 된다. 여기서 확률 밀도는 상대 도수를 이용하는 확률 밀도 함수로 계산된 확률 밀도다. 확률 밀도 함수란 확률 변수의 분포를 나타내는 함수로 어떤 변수가 가질 수 있는 값 및 그 값을 가질 가능성의 정도를 의미한다.\n",
        "- 더 자세한 내용은 아래의 링크에서 확인할 수 있다.\n",
        "    - https://seaborn.pydata.org/generated/seaborn.distplot.html\n",
        "\n",
        "**distplot()** 메소드는 히스토그램 뿐만 아니라 커널 밀도 플롯과 러그 플롯 등을 같이 그릴 수 있으나 출력하는 그림은 결국 하나이므로 x축과 y축을 라벨링할 때 **pyplot.xlabel()** 과 **pyplot.ylabel()** 을 호출하면 된다."
      ]
    },
    {
      "cell_type": "markdown",
      "metadata": {
        "id": "U2OGJ3dVeJkm",
        "colab_type": "text"
      },
      "source": [
        "다음 예는 연비 데이터의 자동차 배기량 값을 히스토그램으로 작성한 코드다."
      ]
    },
    {
      "cell_type": "code",
      "metadata": {
        "id": "9bfvwet_ecME",
        "colab_type": "code",
        "colab": {}
      },
      "source": [
        "# 연비 데이터\n",
        "mpg = seaborn.load_dataset('mpg')          \n",
        "mpg.displacement"
      ],
      "execution_count": null,
      "outputs": []
    },
    {
      "cell_type": "code",
      "metadata": {
        "colab_type": "code",
        "id": "Q5MPR4uwabPn",
        "colab": {}
      },
      "source": [
        "# --- 연비 데이터(mpg)로 자동차 배기량 값을 히스토그램으로 작성한다.\n",
        "# > 연비 데이터는 자동차와 관련된 정보들을 기록한 데이터 세트다.\n",
        "# > mpg(연비), cylinders(실린더), displacement(배기량), horsepower(마력),\n",
        "# > weight(무게), accleration(가속), model_year(연식), origin(제조국가), \n",
        "# > name(이름)으로 총 9개의 속성을 가지고 있다. \n",
        "import numpy\n",
        "\n",
        "# 자동차 배기량(displacement)에 따른 자동차 대수를 보여준다.\n",
        "# kde=False로 설정하여 히스토그램만 그리도록 설정한다.\n",
        "seaborn.distplot(__TODO__)\n",
        "\n",
        "pyplot.title('자동차 배기량에 따른 자동차 대수\\n(히스토그램 - 연비 데이터)')\n",
        "pyplot.ylabel('자동차 대수')\n",
        "pyplot.xlabel('자동차 배기량')\n",
        "pyplot.show()"
      ],
      "execution_count": null,
      "outputs": []
    },
    {
      "cell_type": "markdown",
      "metadata": {
        "id": "h3KOk-h8abPo",
        "colab_type": "text"
      },
      "source": [
        "**실행 결과**  \n",
        "\n",
        "![seaborn08](https://drive.google.com/uc?id=1KBU3qni0oLaZjd4tAjEpIYwj6_bDANrc)"
      ]
    },
    {
      "cell_type": "markdown",
      "metadata": {
        "id": "TiA5wIJxeuqI",
        "colab_type": "text"
      },
      "source": [
        "다음 예는 연비 데이터의 자동차 배기량 값을 히스토그램, 커널 밀도 플롯, 러그 플롯으로 동시에 보여주는 코드다."
      ]
    },
    {
      "cell_type": "code",
      "metadata": {
        "colab_type": "code",
        "id": "B78rttoTabPt",
        "colab": {}
      },
      "source": [
        "# --- 연비 데이터(mpg)로 자동차 배기량 값을 히스토그램, 커널 밀도 플롯, 러그 플롯을 동시에 보여준다.\n",
        "# > 연비 데이터는 자동차와 관련된 정보들을 기록한 데이터 세트다.\n",
        "# > mpg(연비), cylinders(실린더), displacement(배기량), horsepower(마력),\n",
        "# > weight(무게), accleration(가속), model_year(연식), origin(제조국가), \n",
        "# > name(이름)으로 총 9개의 속성을 가지고 있다. \n",
        "import numpy\n",
        "\n",
        "# 자동차 배기량에 따른 확률 밀도와 배기량 분포 등을 보여준다.\n",
        "# hist와 kde는 기본값이 True이기 때문에 rug=True만 설정하면 \n",
        "# 히스토그램, 커널 밀도 플롯, 러그 플롯을 동시에 그릴 수 있다.\n",
        "seaborn.distplot(__TODO__)\n",
        "\n",
        "pyplot.title('자동차 배기량에 대한 히스토그램, 커널 밀도 플롯, 러그 플롯\\n(연비 데이터)')\n",
        "pyplot.ylabel('자동차 배기량의 확률 밀도') \n",
        "pyplot.xlabel('자동차 배기량')\n",
        "pyplot.show()"
      ],
      "execution_count": null,
      "outputs": []
    },
    {
      "cell_type": "markdown",
      "metadata": {
        "id": "1rm4bGi1abPv",
        "colab_type": "text"
      },
      "source": [
        "**실행 결과**  \n",
        "\n",
        "![seaborn09](https://drive.google.com/uc?id=1vBwrM2iKLWBh6WdwcNorzSKRA9M57ra7)"
      ]
    },
    {
      "cell_type": "markdown",
      "metadata": {
        "id": "Dmg6wFMKabP9",
        "colab_type": "text"
      },
      "source": [
        "## Lab: 타이타닉 데이터로 러그 플롯, 커널 밀도 플롯, 히스토그램 그리기"
      ]
    },
    {
      "cell_type": "markdown",
      "metadata": {
        "id": "8tKcKlR4abP9",
        "colab_type": "text"
      },
      "source": [
        "- - - \n",
        "\n",
        "- 타이타닉 생존 데이터에서 지불한 fare(운임)의 분포를 히스토그램으로 보여준다. 이 때 히스트그램과 함께 커널 밀도 플롯과 러그 플롯도 함께 보여주는 도표를 작성한다.\n",
        "\n",
        "- 전체 도표의 제목과 x축, y축의 라벨을 적절한 내용으로 설정한다.\n",
        "\n",
        "- - -"
      ]
    },
    {
      "cell_type": "code",
      "metadata": {
        "id": "8zyqAFPHfe4O",
        "colab_type": "code",
        "colab": {}
      },
      "source": [
        "# 타이타닉 생존 데이터\n",
        "titanic = seaborn.load_dataset('titanic')  \n",
        "titanic"
      ],
      "execution_count": null,
      "outputs": []
    },
    {
      "cell_type": "code",
      "metadata": {
        "colab_type": "code",
        "id": "_zopVc0nkps-",
        "colab": {}
      },
      "source": [
        "# Your answer here"
      ],
      "execution_count": null,
      "outputs": []
    },
    {
      "cell_type": "markdown",
      "metadata": {
        "id": "JuR3SO9HR-wX",
        "colab_type": "text"
      },
      "source": [
        "# 박스 그래프"
      ]
    },
    {
      "cell_type": "markdown",
      "metadata": {
        "id": "GcjDKgQ1R-wX",
        "colab_type": "text"
      },
      "source": [
        "[seaborn.boxplot](https://seaborn.pydata.org/generated/seaborn.boxplot.html)\n",
        "\n",
        "\n",
        "박스 그래프는 데이터의 분포를 시각적으로 표현한 박스 모양의 그래프다. 데이터의 범위, 중앙값과 이상치를 빠르게 확인할 수 있는 장점이 있다.\n",
        "\n",
        "- 박스 그래프는 데이터에서 사분위수를 계산하고 제 **1** 사분위(**Q1**)와 제 **3** 사분위(**Q3**)를 밑변으로 하는 박스를 그린다.\n",
        "- 제 **3** 사분위 수 **Q3**은 전체 자료의 중앙값을 기준으로 봤을때 중앙값보다 큰 값들의 중앙값으로 누적 백분율이 **25%** 에 해당하는 값이다\n",
        "- 제 **1** 사분위 수 **Q1**은 전체 자료의 중앙값을 기준으로 봤을때 중앙값보다 작은 값들의 중앙값으로 누적 백분율이 **75%** 에 해당하는 값이다.\n",
        "- 중앙값의 좌우로부터 동일한 백분율을 가진 두 점간의 거리를 계산하기 위해서 제 **3** 사분위수에서 제 **1** 사분위수를 빼서 사분위수 범위 **IQR**(interquartile range)를 계산한다. **Q1 - 1.5 * IQR** 보다 작거나 **Q3 + 1.5 * IQR** 보다 큰 값은 이상치이다.\n",
        "- 박스 그래프 바깥의 선은 이상치를 제외한 최댓값과 최솟값을 의미한다.\n",
        "\n",
        "박스 그래프를 작성하려면 **boxplot()** 메소드를 주로 **boxplot(*x=None, y=None, hue=None, data=None, order=None, orient=None, fliersize=5*)** 형식으로 사용하면 된다.\n",
        "\n",
        "- ***x, y*** 에는 데이터의 변수명을 입력한다. ***x*** 와 ***y*** 중 수치형 데이터 값이 적어도 하나는 들어가야 박스 그래프가 생성된다. 범주형 데이터 값을 가지는 변수명과 수치형 데이터 값을 가지는 변수명을 사용하면 범주별로 박스 그래프가 생성된다.\n",
        "- ***hue*** 에는 데이터의 변수명이 입력하며 생성한 박스들은 입력한 변수의 범주에 따라 색으로 나눠준다. \n",
        "- ***data*** 는 입력하는 전체 데이터의 이름이다. ***x, y*** 를 입력하지 않고 ***data*** 만 입력하면 전체 데이터를 옆으로 긴 데이터프레임(long-form dataframe)으로 인식하여 수치형 변수들에 대해서만 박스 그래프를 작성한다.\n",
        "- ***order*** 에는 문자열의 리스트를 입력하여 각 범주값이 그래프에 박스로 그려지는 순서를 설정한다.\n",
        "- ***orient*** 는 **'v'** 또는 **'h'** 를 입력해 박스가 그려지는 방향을 vertical(세로) 또는 horizontal(가로)로 설정한다. 기본값은 **None**으로 x와 y 중 수치형 데이터를 입력한 축의 방향으로 그려진다. 즉 y축에 수치형 데이터 값을 가지는 변수명을 입력하면 박스 그래프는 세로로 그린다. 수치형 변수들에 대해서만 박스 그래프를 작성할 때 사용한다.\n",
        "- ***fliersize*** 는 데이터의 이상치를 표시하는 마커의 사이즈를 설정한다.\n",
        "- 더 자세한 내용은 아래의 링크에서 확인할 수 있다.\n",
        "    - https://seaborn.pydata.org/generated/seaborn.boxplot.html\n",
        "\n",
        "**boxplot()** 메소드로 출력하는 그림은 하나이므로 x축과 y축을 라벨링할 때 **pyplot.xlabel()** 과 **pyplot.ylabel()** 을 호출하면 된다.\n",
        "\n",
        "범주별로 생성하는 박스들의 눈금에 라벨을 붙이려면 **boxplot()** 메소드가 반환하는 객체인 **AxesSubplot**을 새로운 변수에 할당하고 **set_xticklabels()** 을 사용한다."
      ]
    },
    {
      "cell_type": "markdown",
      "metadata": {
        "id": "gfQ7SmydR-wZ",
        "colab_type": "text"
      },
      "source": [
        "다음 예는 팁 데이터에서 요일별 청구서 금액을 박스 그래프로 작성한 코드다."
      ]
    },
    {
      "cell_type": "code",
      "metadata": {
        "id": "zLrvjmfStW51",
        "colab_type": "code",
        "colab": {}
      },
      "source": [
        "# 팁 데이터\n",
        "tips = seaborn.load_dataset('tips')\n",
        "tips"
      ],
      "execution_count": null,
      "outputs": []
    },
    {
      "cell_type": "code",
      "metadata": {
        "id": "PzXkLWSXR-wZ",
        "colab_type": "code",
        "colab": {}
      },
      "source": [
        "# --- 팁 데이터(tips)에서 요일별 청구서 금액을 박스 그래프로 작성한다.\n",
        "# > 팁 데이터는 고객 정보와 고객의 청구서 금액 및 팁을 기록한 데이터 세트다.\n",
        "# > total_bill(전체 금액), tip(팁), sex(성별), smoker(흡연자 여부), \n",
        "# > day(요일), time(시간), size(인원 수)로 총 7개의 속성을 가지고 있다.\n",
        "\n",
        "# x='day'로 설정하여 x축을 범주형 변수인 요일로, \n",
        "# y='total_bill'로 설정하여 y축을 실숫값인 청구서 금액으로 설정한다.\n",
        "# y축에 수치형 데이터 값을 가지는 변수 'total_bill'가 오기 때문에 박스 그래프는 세로로 그려진다.\n",
        "# boxplot이 반환하는 객체인 AxesSubplot을 'ax'라는 변수로 할당한다.\n",
        "ax = seaborn.boxplot(__TODO__)\n",
        "\n",
        "# AxesSubplot.set_xticklabels()로 x축에 작성하는 범주들을 각각 라벨링한다.\n",
        "ax.set_xticklabels(__TODO__)\n",
        "\n",
        "pyplot.title('요일별 청구서 금액\\n(박스 그래프 - 팁 데이터)')\n",
        "pyplot.ylabel('청구서 금액')\n",
        "pyplot.xlabel('요일')\n",
        "pyplot.show()"
      ],
      "execution_count": null,
      "outputs": []
    },
    {
      "cell_type": "markdown",
      "metadata": {
        "id": "JuKWhPrAR-wg",
        "colab_type": "text"
      },
      "source": [
        "**실행 결과**  \n",
        "\n",
        "![seaborn10](https://drive.google.com/uc?id=1PaglFz0vm0yydXJx3O-Kdb9KbmwWHQWS)"
      ]
    },
    {
      "cell_type": "markdown",
      "metadata": {
        "id": "tjrvqtz0R-wq",
        "colab_type": "text"
      },
      "source": [
        "다음 예는 팁 데이터에서 고객의 흡연 여부에 따라 구분한 요일별 청구서 금액을 박스 그래프로 작성한 코드다."
      ]
    },
    {
      "cell_type": "code",
      "metadata": {
        "id": "rmC9Xi5SR-ws",
        "colab_type": "code",
        "colab": {}
      },
      "source": [
        "# --- 팁 데이터(tips)에서 고객의 흡연 여부에 따라 구분한 요일별 청구서 금액을 박스 그래프로 작성한다.\n",
        "# > 팁 데이터는 고객 정보와 고객의 청구서 금액 및 팁을 기록한 데이터 세트다.\n",
        "# > total_bill(전체 금액), tip(팁), sex(성별), smoker(흡연자 여부), \n",
        "# > day(요일), time(시간), size(인원 수)로 총 7개의 속성을 가지고 있다.\n",
        "\n",
        "# x='day'로 설정하여 x축을 범주형 변수인 요일로, \n",
        "# y='total_bill'로 설정하여 y축을 실숫값인 청구서 금액으로 설정한다.\n",
        "# hue='smoker'로 설정하여 요일 별 박스가 흡연 여부에 따라 작은 박스들로 나눠지게 한다.\n",
        "# fliersize=8로 설정하여 이상치 마커의 크기를 조금 키운다.\n",
        "# boxplot이 반환하는 객체인 AxesSubplot을 'ax'라는 변수로 할당한다.\n",
        "ax = seaborn.boxplot(__TODO__)\n",
        "\n",
        "# AxesSubplot.set_xticklabels()로 x축에 작성하는 범주들을 각각 라벨링한다.\n",
        "ax.set_xticklabels(__TODO__)\n",
        "\n",
        "# hue를 사용하여 작성하는 범례들을 라벨링하기 위해 AxesSubplot.get_legend_handles_labels()로 \n",
        "# 범례와 범례 라벨을 반환하고 변수에 할당한다.\n",
        "legend_colors, _ = ax.get_legend_handles_labels()\n",
        "\n",
        "# AxesSubplot.legend()에 앞에서 범례를 저장한 변수를 입력하고 원하는 라벨 텍스트를 입력한다. \n",
        "# 매개변수 bbox_to_anchor=(1, 1)로 범례를 박스 그래프 오른쪽에 위치시킨다.\n",
        "ax.legend(legend_colors, __TODO__, __TODO__)\n",
        "\n",
        "pyplot.title('요일별 청구서 금액\\n(박스 그래프 - 팁 데이터)')\n",
        "pyplot.ylabel('청구서 금액')\n",
        "pyplot.xlabel('요일')\n",
        "pyplot.show()"
      ],
      "execution_count": null,
      "outputs": []
    },
    {
      "cell_type": "markdown",
      "metadata": {
        "id": "jDMDOR8IR-w9",
        "colab_type": "text"
      },
      "source": [
        "**실행 결과**  \n",
        "\n",
        "![seaborn11](https://drive.google.com/uc?id=1lAK4f2u7aJ-ZpiJqixILMD9TtOxLgTtd)"
      ]
    },
    {
      "cell_type": "markdown",
      "metadata": {
        "id": "jeph3kM2R-xG",
        "colab_type": "text"
      },
      "source": [
        "## Lab: 타이타닉 데이터로 박스 그래프 그리기"
      ]
    },
    {
      "cell_type": "markdown",
      "metadata": {
        "id": "77Mt62ehR-xH",
        "colab_type": "text"
      },
      "source": [
        "- - -\n",
        "\n",
        "- 타이타닉 생존 데이터에서 성별(sex)에 따른 나이(age)의 분포와 통계량을 보여주는 박스 그래프를 작성한다. 이 때 성별 박스를 생존 여부에 따라 다른 색깔을 가지는 박스로 나누어 그린다.\n",
        "\n",
        "- 전체 도표의 제목과 x축, y축의 라벨을 적절한 내용으로 설정한다. 이 때 각 박스의 색깔에 대한 범례에 라벨을 설정한다.\n",
        "\n",
        "- x축의 범주 눈금의 라벨도 설정한다.\n",
        "\n",
        "- - -"
      ]
    },
    {
      "cell_type": "code",
      "metadata": {
        "id": "BzYCrdKKtjO5",
        "colab_type": "code",
        "colab": {}
      },
      "source": [
        "# 타이타닉 생존 데이터\n",
        "titanic = seaborn.load_dataset('titanic')\n",
        "titanic"
      ],
      "execution_count": null,
      "outputs": []
    },
    {
      "cell_type": "code",
      "metadata": {
        "colab_type": "code",
        "id": "PrcoT-kWkuol",
        "colab": {}
      },
      "source": [
        "# Your answer here"
      ],
      "execution_count": null,
      "outputs": []
    },
    {
      "cell_type": "markdown",
      "metadata": {
        "id": "mWWeduW2R-xS",
        "colab_type": "text"
      },
      "source": [
        "# 바이올린 플롯"
      ]
    },
    {
      "cell_type": "markdown",
      "metadata": {
        "id": "PrV_2uxbR-xT",
        "colab_type": "text"
      },
      "source": [
        "[seaborn.violinplot](https://seaborn.pydata.org/generated/seaborn.violinplot.html)\n",
        "\n",
        "바이올린 플롯은 **박스 그래프**를 그리고 그 위에 **커널 밀도 플롯**을 좌우 대칭으로 그려 데이터의 분포를 표현하는 그래프이다.\n",
        "\n",
        "바이올린 플롯을 작성하려면 **violinplot()** 메소드를 주로 **violinplot(*x=None, y=None, hue=None, data=None, order=None, scale='area', inner='box', split=False, orient=None*)** 형식으로 사용하면 된다.\n",
        "\n",
        "- ***x, y*** 에는 데이터의 변수명을 입력한다. ***x*** 와 ***y*** 중 수치형 데이터 값이 적어도 하나는 들어가야 바이올린 플롯이 생성된다. 범주형 데이터 값을 가지는 변수명과 수치형 데이터 값을 가지는 변수명을 사용하면 범주별로 바이올린 플롯이 생성된다.\n",
        "- ***hue*** 에는 데이터의 변수명을 입력하며 생성한 바이올린 도형들을 입력한 변수의 범주에 따라 색으로 나눠준다.\n",
        "- ***data*** 는 입력하는 전체 데이터의 이름이다. ***x, y*** 를 입력하지 않고 **data**만 입력하면 전체 데이터를 옆으로 긴 데이터프레임(long-form dataframe)으로 인식하여 수치형 변수들에 대해서만 바이올린 플롯을 작성한다.\n",
        "- ***order*** 에는 문자열의 리스트를 입력하여 각 범주값이 그래프에 바이올린 도형으로 그려지는 순서를 설정한다.\n",
        "- ***scale***은 각 바이올린 도형의 너비를 조정하는 방법이다. *{'area' | 'count' | 'width'}* 중 하나를 선택하여 기본값은 **'area'** 로 바이올린 도형의 면적(area)이 같도록 한다. **'count'** 를 입력하면 바이올린 도형의 너비는 데이터 개수에 따라 조정된다. **'width'** 를 입력하면 모든 바이올린 도형은 같은 너비를 가지게 된다.\n",
        "- ***inner*** 는 각 바이올린 도형 내부에 그릴 그래프나 도형을 선택한다. *{'box' | 'quartile' | 'point' | 'stick' | None}'* 중 하나를 선택하며 기본값은 **'box'** 로 작은 박스 그래프를 그린다. **'quartile'** 은 사분위 값을 바이올린 도형안에 점선으로 표시한다. **'point'** 와 **'stick'** 는 데이터 포인트를 각각 점과 선으로 표시한다.\n",
        "- ***split*** 에는 **bool** 자료형을 입력하며 그려지는 바이올린 도형이 하나의 범주에 대한 좌우 대칭 커널 밀도 플롯이 아니라, ***hue*** 로 입력 받는 범주형 변수의 두 가지 범주로 바이올린 도형의 양 날개를 나누어 그린다. 기본값은 **False**이며 **True**로 설정하여 사용하기 위해서는 반드시 ***hue*** 로 입력 받는 변수가 **2개의 범주**를 가지는 범주형 변수여야만 한다.\n",
        "    + 두 개의 범주를 가지는 변수를 ***hue*** 에 사용할 때 ***split*** 을 **True**로 설정하면 각 범주에 대해 바이올린을 절반으로 양쪽 날개에 그리게 된다. 이를 통해 커널 밀도 분포를 직접 비교하기가 훨씬 수월해진다.\n",
        "    + 매개변수 **split** 는 매개변수 ***hue*** 의 값이 반드시 설정되어 있어야 적용가능하다. 즉, ***hue*** 가 없다면 **split=True** 로 설정한 것과 **split=False** 로 설정한 것은 아무런 차이가 없다.\n",
        "        - ***hue*** 를 설정하고 매개변수 ***split*** 를 **False**로 설정하면 x축에 그려지는 각 바이올린 플롯이 ***hue*** 의 범주에 따라 두 개가 각각 그려진다. \n",
        "        - ***hue*** 를 설정하고 매개변수 ***split*** 를 **True**로 설정하면 x축에 그려지는 각 바이올린 플롯이 ***hue*** 의 두 개 범주를 바이올린 플롯의 각 날개로 그리게 된다. \n",
        "- ***orient***는 **'v'** 또는 **'h'** 를 입력 받아 바이올린 플롯이 그려지는 방향을 vertical(세로) 또는 horizontal(가로)로 설정한다. 기본값은 **None**으로 x와 y 중 수치형 데이터를 입력한 축의 방향으로 그린다. 즉 y축에 수치형 데이터 값을 가지는 변수명이 입력되면 바이올린 플롯은 세로로 그려진다. 수치형 변수들에 대해서만 바이올린 플롯을 작성할 경우 사용한다.\n",
        "- 더 자세한 내용은 아래의 링크에서 확인할 수 있다.\n",
        "    - https://seaborn.pydata.org/generated/seaborn.violinplot.html\n",
        "\n",
        "**violin()** 메소드는 박스 그래프와 커널 밀도 플롯을 같이 그릴 수 있으나 출력하는 그림은 결국 하나이므로 x축과 y축을 라벨링할 때 **pyplot.xlabel()** 과 **pyplot.ylabel()** 을 호출하면 된다.\n",
        "\n",
        "범주별로 생성되는 바이올린 도형들의 눈금에 라벨을 붙이려면 **violinplot()** 메소드가 반환하는 객체인 **AxesSubplot**을 새로운 변수에 할당하고 **set_xticklabels()** 을 사용한다.\n",
        "\n",
        "**[참고]** 커널 밀도로 도표를 그릴 경우 데이터가 음수가 아니더라도 **0**에 가까운 데이터가 많다면 커널 밀도는 음수에 그려질 수 있다. 만약 커널 밀도 함수 값에서 음수를 보고 싶지 않으면 매개변수 중 ***cut*** 을 **0**으로 설정(**cut=0**)하면 **0** 이상의 값들만 확인할 수 있다."
      ]
    },
    {
      "cell_type": "markdown",
      "metadata": {
        "id": "jrlORlTtR-xU",
        "colab_type": "text"
      },
      "source": [
        "다음 예는 연비 데이터에서 생산 국가별 자동차 마력을 바이올린 플롯으로 작성한 코드다."
      ]
    },
    {
      "cell_type": "code",
      "metadata": {
        "id": "UKvL14lmt3La",
        "colab_type": "code",
        "colab": {}
      },
      "source": [
        "# 연비 데이터\n",
        "mpg = seaborn.load_dataset('mpg')\n",
        "mpg"
      ],
      "execution_count": null,
      "outputs": []
    },
    {
      "cell_type": "code",
      "metadata": {
        "colab_type": "code",
        "id": "1US6ML98TUe1",
        "colab": {}
      },
      "source": [
        "# --- 연비 데이터(mpg)에서 생산 국가별 자동차 마력을 바이올린 플롯으로 작성한다.\n",
        "# > 연비 데이터는 자동차와 관련된 정보들을 기록한 데이터 세트다.\n",
        "# > mpg(연비), cylinders(실린더), displacement(배기량), horsepower(마력),\n",
        "# > weight(무게), accleration(가속), model_year(연식), origin(제조국가), \n",
        "# > name(이름)으로 총 9개의 속성을 가지고 있다. \n",
        "\n",
        "# x='origin'으로 설정하여 x축을 범주형 변수인 생산 국가로,\n",
        "# y='horsepower'로 설정하여 y축을 실숫값인 자동차 마력으로 설정한다.\n",
        "# y축에 수치형 데이터 값을 가지는 변수 'horsepower'가 오기 때문에 바이올린 플롯은 세로로 그려진다.\n",
        "# violinplot이 반환하는 객체인 AxesSubplot을 'ax'라는 변수로 할당한다.\n",
        "ax = seaborn.violinplot(__TODO__)\n",
        "\n",
        "# AxesSubplot.set_xticklabels()로 x축에 작성하는 범주들을 각각 라벨링한다.\n",
        "ax.set_xticklabels(__TODO__)\n",
        "\n",
        "pyplot.title('생산 국가별 자동차 마력 분포\\n(바이올린 플롯 - 연비 데이터)')\n",
        "pyplot.xlabel('생산 국가')\n",
        "pyplot.ylabel('자동차 마력')\n",
        "pyplot.show()"
      ],
      "execution_count": null,
      "outputs": []
    },
    {
      "cell_type": "markdown",
      "metadata": {
        "id": "PTqANlybR-xc",
        "colab_type": "text"
      },
      "source": [
        "**실행 결과**  \n",
        "\n",
        "![seaborn12](https://drive.google.com/uc?id=1wg_1dteUcrx5BLKLuzNv1dhDXaQMBYvX)"
      ]
    },
    {
      "cell_type": "markdown",
      "metadata": {
        "id": "FrHyT3hGR-yu",
        "colab_type": "text"
      },
      "source": [
        "# 스트립 플롯"
      ]
    },
    {
      "cell_type": "markdown",
      "metadata": {
        "id": "lAJDjBh-R-yv",
        "colab_type": "text"
      },
      "source": [
        "[seaborn.stripplot](https://seaborn.pydata.org/generated/seaborn.stripplot.html)\n",
        "\n",
        "\n",
        "스트립 플롯은 입력되는 변수 하나가 범주형인 **산점도**를 그린다. 따라서 각 점은 데이터 한 개를 뜻한다.\n",
        "\n",
        "스트립 플롯을 작성하려면 **stripplot()** 메소드를 주로 **stripplot(*x=None, y=None, hue=None, data=None, order=None, jitter=True, color=None, size=5*)** 형식으로 사용하면 된다.\n",
        "\n",
        "- ***x, y*** 에는 데이터의 변수명을 입력한다. ***x*** 와 ***y*** 에는 범주형 변수와 수치형 변수를 각각 하나씩 입력해야 한다. 두 개의 수치형 변수를 입력할 수는 있지만 그럴 경우 ***x*** 에 입력하는 수치형 데이터 값을 각각 하나의 범주로 간주하여 그린다. 즉, 이 경우 스트립 플롯보다는 산점도를 사용하는게 적합하다.\n",
        "- ***hue*** 에는 데이터의 변수명을 입력하며 생성한 범주별 산점도를 입력한 변수의 범주에 따라 다른 색으로 표현한다.\n",
        "- ***data*** 는 입력하는 전체 데이터의 이름이다. ***x, y*** 를 입력하지 않고 ***data***만 입력하면 전체 데이터를 옆으로 긴 데이터프레임(long-form dataframe)으로 인식하여 수치형 변수들에 대해서만 스트립 플롯을 작성한다.\n",
        "- ***order*** 는 문자열의 리스트를 입력하여 각 범주값이 그래프에 스트립 플롯으로 그려지는 순서를 설정한다.\n",
        "- ***jitter*** 는 **bool** 자료형 또는 **float** 자료형을 입력하며 데이터를 표현한 점들이 겹칠 때 이 점들을 범주형 데이터가 입력된 축의 방향으로 무작위로 늘어뜨려 겹치지 않도록 한다. 기본값은 **True**로 실수 1이 들어간 결과와 같으며 seaborn 패키지 내에서 자동으로 데이터를 적당히 늘어뜨려준다. 실수는 0부터 1미만의 값이 들어가며 0에 가까울수록 점들이 겹쳐진다.\n",
        "- ***color*** 에는 컬러 문자열을 입력하여 점의 색상을 설정한다. 컬러 문자열에는 파랑색 **'b'**, 초록색 **'g'**, 빨강색 **'r'**, 노랑색 **'y'**, 하양색 **'w'** 등이 있다. 더 많은 컬러 문자열은 아래 링크에서 확인할 수 있다.\n",
        "    - https://matplotlib.org/3.1.0/gallery/color/named_colors.html\n",
        "- ***size*** 는 점의 크기를 설정한다. 기본값은 **5**이며 값이 커질수록 점의 크기가 커진다.\n",
        "- 더 자세한 내용은 아래의 링크에서 확인할 수 있다.\n",
        "    - https://seaborn.pydata.org/generated/seaborn.stripplot.html\n",
        "\n",
        "**stripplot()** 메소드로 출력하는 그림은 하나이므로 x축과 y축을 라벨링할 때 **pyplot.xlabel()** 과 **pyplot.ylabel()** 을 호출하면 된다.\n",
        "\n",
        "범주별로 생성되는 산점도들의 눈금에 라벨을 붙이려면 **stripplot()** 메소드가 반환하는 객체인 **AxesSubplot**을 새로운 변수로 할당하고 **set_xticklabels()** 을 사용한다."
      ]
    },
    {
      "cell_type": "markdown",
      "metadata": {
        "id": "IwpY_diiR-yv",
        "colab_type": "text"
      },
      "source": [
        "다음 예는 연비 데이터에서 생산 국가별 자동차 마력을 스트립 플롯으로 작성한 코드다."
      ]
    },
    {
      "cell_type": "code",
      "metadata": {
        "id": "A5V3LLT7vRW6",
        "colab_type": "code",
        "colab": {}
      },
      "source": [
        "# 연비 데이터\n",
        "mpg = seaborn.load_dataset('mpg')\n",
        "mpg"
      ],
      "execution_count": null,
      "outputs": []
    },
    {
      "cell_type": "code",
      "metadata": {
        "colab_type": "code",
        "id": "_QRG--_9TXzN",
        "colab": {}
      },
      "source": [
        "# --- 연비 데이터(mpg)에서 생산 국가별 자동차 마력을 스트립 플롯으로 작성한다.\n",
        "# > 연비 데이터는 자동차와 관련된 정보들을 기록한 데이터 세트다.\n",
        "# > mpg(연비), cylinders(실린더), displacement(배기량), horsepower(마력),\n",
        "# > weight(무게), accleration(가속), model_year(연식), origin(제조국가), \n",
        "# > name(이름)으로 총 9개의 속성을 가지고 있다. \n",
        "\n",
        "# x='origin'으로 설정하여 x축을 범주형 변수인 생산 국가로,\n",
        "# y='horsepower'로 설정하여 y축을 실숫값인 자동차 마력으로 설정한다.\n",
        "# y축에 수치형 데이터 값을 가지는 변수 'horsepower'가 오기 때문에 스트립 플롯은 세로로 그려진다.\n",
        "# stripplot이 반환하는 객체인 AxesSubplot을 'ax'라는 변수로 할당한다.\n",
        "ax = seaborn.stripplot(__TODO__)\n",
        "\n",
        "# AxesSubplot.set_xticklabels()를 이용하여 x축에 작성하는 범주들을 각각 라벨링한다.\n",
        "ax.set_xticklabels(__TODO__)\n",
        "\n",
        "pyplot.title('생산 국가별 자동차 마력 분포\\n(스트립 플롯 - 연비 데이터)')\n",
        "pyplot.xlabel('생산국가')\n",
        "pyplot.ylabel('자동차 마력')\n",
        "pyplot.show()"
      ],
      "execution_count": null,
      "outputs": []
    },
    {
      "cell_type": "markdown",
      "metadata": {
        "id": "XdihB293R-y7",
        "colab_type": "text"
      },
      "source": [
        "**실행 결과**  \n",
        "\n",
        "![seaborn15](https://drive.google.com/uc?id=1YBypiNuOd7JZ_Gv8zjciuTVANedv7tzC)"
      ]
    },
    {
      "cell_type": "markdown",
      "metadata": {
        "id": "Q_WTAcSXR-zO",
        "colab_type": "text"
      },
      "source": [
        "## Lab: 타이타닉 데이터로 스트립 플롯 그리기"
      ]
    },
    {
      "cell_type": "markdown",
      "metadata": {
        "id": "mO3HibNRR-zP",
        "colab_type": "text"
      },
      "source": [
        "- - -\n",
        "\n",
        "- 타이타닉 생존 데이터에서 동반한 형제 자매 및 배우자 수(sibsp)와 나이(age)의 상관 관계를 보여주는 스트립 플롯을 작성한다. 이 때 겹친 점들을 흩뜨리도록 설정한다.\n",
        "\n",
        "- 전체 도표의 제목과 x축, y축의 라벨을 적절한 내용으로 설정한다.\n",
        "\n",
        "- - -"
      ]
    },
    {
      "cell_type": "code",
      "metadata": {
        "id": "h0hblYMzvbEt",
        "colab_type": "code",
        "colab": {}
      },
      "source": [
        "# 타이타닉 생존 데이터\n",
        "titanic = seaborn.load_dataset('titanic')\n",
        "titanic"
      ],
      "execution_count": null,
      "outputs": []
    },
    {
      "cell_type": "code",
      "metadata": {
        "colab_type": "code",
        "id": "tN6lS_8Ukzp4",
        "colab": {}
      },
      "source": [
        "# Your answer here"
      ],
      "execution_count": null,
      "outputs": []
    },
    {
      "cell_type": "markdown",
      "metadata": {
        "id": "IA3d_kZFR-zb",
        "colab_type": "text"
      },
      "source": [
        "# 스웜 플롯"
      ]
    },
    {
      "cell_type": "markdown",
      "metadata": {
        "id": "ky9R611wR-zb",
        "colab_type": "text"
      },
      "source": [
        "[seaborn.swarmplot](https://seaborn.pydata.org/generated/seaborn.swarmplot.html)\n",
        "\n",
        "\n",
        "스웜 플롯은 각 범주에 속하는 수치형 데이터를 최대한 겹치지 않도록 퍼뜨려 점 형태로 나타낸다. **점을 겹치지 않게 그린 스트립 플롯**이라고 할 수 있으며 데이터의 분포 정도를 잘 보여준다.\n",
        "\n",
        "스웜 플롯을 작성하려면 **swarmplot()** 메소드를 주로 **swarmplot(*x=None, y=None, hue=None, data=None, order=None, color=None, size=5*)** 형식으로 사용하면 된다.\n",
        "\n",
        "- ***x, y*** 에는 데이터의 변수명을 입력한다. ***x*** 와 ***y*** 에는 범주형 변수와 수치형 변수를 각각 하나씩 입력해야 한다. 두 개의 수치형 변수를 입력할 수는 있지만 그럴 경우 ***x*** 에 입력하는 수치형 데이터 값을 각각 하나의 범주로 간주하여 그린다. 즉, 이 경우 스웜 플롯보다는 산점도를 사용하는게 적합하다.\n",
        "- ***hue*** 에는 데이터의 변수명을 입력하며 생성한 범주별 산점도를 입력한 변수의 범주에 따라 색으로 나눠준다.\n",
        "- ***data*** 는 입력하는 전체 데이터의 이름이다. ***x, y*** 를 입력하지 않고 **data**만 입력하면 전체 데이터를 옆으로 긴 데이터프레임(long-form dataframe)으로 인식하여 수치형 변수들에 대해서만 스웜 플롯을 작성한다.\n",
        "- ***order*** 은 문자열의 리스트를 입력하여 각 범주값이 그래프에 스웜 플롯으로 그려지는 순서를 설정한다.\n",
        "- ***color*** 에는 컬러 문자열을 입력하여 점의 색상을 설정한다. 대표적인 컬러 문자열로 파랑색은 **'b'**, 초록색은 **'g'**, 빨강색은 **'r'**, 노랑색은 **'y'**, 하양색은 **'w'**, 검정색은 **'k'** 등이 있다. 더 많은 컬러 문자열은 아래 링크에서 확인할 수 있다.\n",
        "    - https://matplotlib.org/3.1.0/gallery/color/named_colors.html\n",
        "- ***size*** 는 점의 크기를 설정한다. 기본값은 **5**이며 값이 커질수록 점의 크기가 커진다.\n",
        "- 더 자세한 내용은 아래의 링크에서 확인할 수 있다.\n",
        "    - https://seaborn.pydata.org/generated/seaborn.swarmplot.html\n",
        "\n",
        "**swarmplot()** 메소드로 출력하는 그림은 하나이므로 x축과 y축을 라벨링할 때 **pyplot.xlabel()** 과 **pyplot.ylabel()** 을 호출하면 된다.\n",
        "\n",
        "범주별로 생성되는 산점도들의 눈금에 라벨을 붙이려면 **swarmplot()** 메소드가 반환하는 객체인 **AxesSubplot** 을 새로운 변수에 할당하고 **set_xticklabels()** 을 사용한다.\n"
      ]
    },
    {
      "cell_type": "markdown",
      "metadata": {
        "id": "nTvCR-V5R-z1",
        "colab_type": "text"
      },
      "source": [
        "다음 예는 팁 데이터에서 요일 별 산점도를 흡연 여부에 따라 나눈 청구서 금액을 스웜 플롯으로 작성한 코드다."
      ]
    },
    {
      "cell_type": "code",
      "metadata": {
        "colab_type": "code",
        "id": "jTA-AyDATwNO",
        "colab": {}
      },
      "source": [
        "# --- 팁 데이터(tips)에서 요일 별 산점도를 흡연 여부에 따라 나눈 청구서 금액을 스웜 플롯으로 작성한다.\n",
        "# > 팁 데이터는 고객 정보와 고객의 청구서 금액 및 팁을 기록한 데이터 세트다.\n",
        "# > total_bill(전체 금액), tip(팁), sex(성별), smoker(흡연자 여부), \n",
        "# > day(요일), time(시간), size(인원 수)로 총 7개의 속성을 가지고 있다.\n",
        "\n",
        "# x='day'로 설정하여 x축을 범주형 변수인 요일로,\n",
        "# y='total_bill'로 설정하여 y축을 실숫값인 청구서 금액으로 설정한다.\n",
        "# y축에 수치형 데이터 값을 가지는 변수 'total_bill'이 오기 때문에 스웜 플롯은 세로로 그려진다.\n",
        "# hue='smoker'로 설정하여 요일 별 산점도의 점 형태가 흡연 여부에 따라 다른 색상을 가지도록 한다.\n",
        "# size=6으로 설정하여 점들의 크기를 조금 키운다.\n",
        "# swarmplot이 반환하는 객체인 AxesSubplot을 'ax'라는 변수로 할당한다.\n",
        "ax = seaborn.swarmplot(__TODO__)\n",
        "\n",
        "# AxesSubplot.set_xticklabels()로 x축에 작성되는 범주들을 각각 라벨링한다.\n",
        "ax.set_xticklabels(__TODO__)\n",
        "\n",
        "# hue를 사용하여 작성하는 범례들을 라벨링하기 위해 AxesSubplot.get_legend_handles_labels()로 \n",
        "# 범례와 범례 라벨을 반환하고 변수에 할당한다.\n",
        "legend_colors, _ = ax.get_legend_handles_labels()\n",
        "\n",
        "# AxesSubplot.legend()에 앞에서 범례를 저장한 변수를 입력하고 원하는 라벨 텍스트를 입력한다. \n",
        "# bbox_to_anchor=(1, 1)로 범례를 박스 그래프 오른쪽에 위치시킨다.\n",
        "ax.legend(legend_colors, __TODO__, __TODO__)\n",
        "\n",
        "pyplot.title('요일별 흡연 여부에 따른 청구서 금액\\n(스트립 플롯 - 팁 데이터)')\n",
        "pyplot.xlabel('요일')\n",
        "pyplot.ylabel('청구서 금액')\n",
        "pyplot.show()"
      ],
      "execution_count": null,
      "outputs": []
    },
    {
      "cell_type": "markdown",
      "metadata": {
        "id": "lbiknSwpR-z4",
        "colab_type": "text"
      },
      "source": [
        "**실행 결과**  \n",
        "\n",
        "![seaborn20](https://drive.google.com/uc?id=19WwFXSZAHJLqptOelu8SF68XT2wS-Raz)"
      ]
    },
    {
      "cell_type": "markdown",
      "metadata": {
        "id": "lVEM1RKsR-0D",
        "colab_type": "text"
      },
      "source": [
        "## Lab: 타이타닉 데이터로 바이올린 플롯과 스웜 플롯 겹쳐 그리기"
      ]
    },
    {
      "cell_type": "markdown",
      "metadata": {
        "id": "dxwlT4H6R-0D",
        "colab_type": "text"
      },
      "source": [
        "- - -\n",
        "\n",
        "- 타이타닉 생존 데이터에서 클래스 등급(class)과 운임(fare)의 분포와 통계량을 보여주는 바이올린 플롯과 스웜 플롯을 겹쳐 그린다. 이 때 스웜 플롯이 그리는 점들의 원하는 색상으로 설정하여 두 도표가 서로 가려 보이지 않도록 한다.\n",
        "\n",
        "- 전체 도표의 제목과 x축, y축의 라벨을 적절한 내용으로 설정한다.\n",
        "\n",
        "- - -"
      ]
    },
    {
      "cell_type": "code",
      "metadata": {
        "id": "Oi4no9RrxSxH",
        "colab_type": "code",
        "colab": {}
      },
      "source": [
        "# 타이타닉 생존 데이터\n",
        "titanic = seaborn.load_dataset('titanic')\n",
        "titanic"
      ],
      "execution_count": null,
      "outputs": []
    },
    {
      "cell_type": "code",
      "metadata": {
        "colab_type": "code",
        "id": "aP92e2gIk2f2",
        "colab": {}
      },
      "source": [
        "# Your answer here"
      ],
      "execution_count": null,
      "outputs": []
    },
    {
      "cell_type": "markdown",
      "metadata": {
        "id": "38fq3Sm9R-0O",
        "colab_type": "text"
      },
      "source": [
        "# 산점도"
      ]
    },
    {
      "cell_type": "markdown",
      "metadata": {
        "id": "aMicpvmaR-0P",
        "colab_type": "text"
      },
      "source": [
        "[seaborn.scatterplot](https://seaborn.pydata.org/generated/seaborn.scatterplot.html)\n",
        "\n",
        "산점도는 두 변수 간의 관계를 좌표평면 상에 점으로 나타내는 도표다.\n",
        "\n",
        "산점도를 작성하려면 **scatterplot()** 메소드를 주로 **scatterplot(*x=None, y=None, hue=None, style=None, size=None, data=None, palette=None*)** 형식으로 사용하면 된다.\n",
        "\n",
        "- ***x*** 는 x축에 그려지는 데이터 또는 데이터의 열 이름(변수명)으로 문자열이다.\n",
        "- ***y*** 는 y축에 그려지는 데이터 또는 데이터의 열 이름(변수명)으로 문자열이다.\n",
        "- ***hue*** 에는 데이터의 열 이름을 입력하여 색상이 다른 점들을 생성한다. 만약 범주형을 입력하면 범주에 따라 다른 색상을 나타내고, 수치형을 입력하면 자동으로 일정한 수치에 따라 색을 다르게 표현한다.\n",
        "- ***style*** 에는 데이터의 열 이름을 입력하여 다른 형태의 마커를 가지는 점들을 생성한다. 수치형과 범주형 모두 입력할 수 있지만 수치형도 범주형으로 간주하여 마커를 표현한다. \n",
        "- ***size*** 는 데이터의 열 이름을 입력받아 크기가 다른 점들을 생성한다. 만약 범주형을 입력하면 범주에 따라 크기를 다르게 하고, 수치형을 입력하면 자동으로 일정한 수치에 따라 점의 크기를 다르게 표현한다.\n",
        "- ***data*** 는 입력되는 전체 데이터의 이름이다.\n",
        "- ***palette*** 는 **hue**로 칠해지는 색상들의 순서를 설정한다.\n",
        "- 양 축에 라벨링을 하려면 **pyplot.xlabel()** 과 **pyplot.ylabel()** 을 호출하면 된다.\n",
        "- 더 자세한 내용은 아래의 링크에서 확인할 수 있다.\n",
        "    - https://seaborn.pydata.org/generated/seaborn.scatterplot.html"
      ]
    },
    {
      "cell_type": "markdown",
      "metadata": {
        "id": "D-mmMzzTR-0P",
        "colab_type": "text"
      },
      "source": [
        "다음 예는 팁 데이터에서 청구서 금액과 팁의 관계를 산점도로 작성한 코드다."
      ]
    },
    {
      "cell_type": "code",
      "metadata": {
        "id": "dXzoySGSxeSa",
        "colab_type": "code",
        "colab": {}
      },
      "source": [
        "# 팁 데이터\n",
        "tips = seaborn.load_dataset('tips')\n",
        "tips"
      ],
      "execution_count": null,
      "outputs": []
    },
    {
      "cell_type": "code",
      "metadata": {
        "id": "MLd8mpCKR-0Q",
        "colab_type": "code",
        "colab": {}
      },
      "source": [
        "# --- 팁 데이터(tips)에서 구서 금액과 팁의 관계를 산점도로 작성한다.\n",
        "# > 팁 데이터는 고객 정보와 고객의 청구서 금액 및 팁을 기록한 데이터 세트다.\n",
        "# > total_bill(전체 금액), tip(팁), sex(성별), smoker(흡연자 여부), \n",
        "# > day(요일), time(시간), size(인원 수)로 총 7개의 속성을 가지고 있다.\n",
        "\n",
        "# data=tip, x='total_bill', y='tip'을 설정하여 팁 데이터에서 \n",
        "# x축을 청구서 금액, y축을 팁으로 산점도를 그린다.\n",
        "# hue='smoker'로 점들의 색상이 흡연 여부에 따라 다르게 표현하도록 한다.\n",
        "seaborn.scatterplot(__TODO__)\n",
        "\n",
        "pyplot.title('흡연 여부에 따른 청구서 금액과 팁 간의 상관 관계\\n(산점도 - 팁 데이터)')\n",
        "pyplot.xlabel('청구서 금액')\n",
        "pyplot.ylabel('팁')\n",
        "pyplot.show()"
      ],
      "execution_count": null,
      "outputs": []
    },
    {
      "cell_type": "markdown",
      "metadata": {
        "id": "qDc7k3f9R-0S",
        "colab_type": "text"
      },
      "source": [
        "**실행 결과**  \n",
        "\n",
        "![seaborn22](https://drive.google.com/uc?id=13t5OqbdAuVjhpsDUBJGWbQzrXnWIgMG7)"
      ]
    },
    {
      "cell_type": "markdown",
      "metadata": {
        "id": "A_qH-4MNR-0V",
        "colab_type": "text"
      },
      "source": [
        "## Lab: 타이타닉 데이터로 산점도 그리기"
      ]
    },
    {
      "cell_type": "markdown",
      "metadata": {
        "id": "fnFJGfRIR-0W",
        "colab_type": "text"
      },
      "source": [
        "- - - \n",
        "\n",
        "- 타이타닉 생존 데이터에서 나이(age)와 운임(fare)의 상관 관계를 보여주는 산점도를 그린다. 이 때 산점도에 표시되는 각 점을 '남자(man)', '여자(woman)', 어린이(child)'에 따라 다른 색깔로 표시한다. \n",
        "\n",
        "- 전체 도표의 제목과 x축, y축의 라벨을 적절한 내용으로 설정한다. 이 때 각 점의 색깔에 대한 범례에 라벨을 설정한다. \n",
        "\n",
        "- - -"
      ]
    },
    {
      "cell_type": "code",
      "metadata": {
        "id": "rsm9OGV9xvjA",
        "colab_type": "code",
        "colab": {}
      },
      "source": [
        "# 타이타닉 생존 데이터\n",
        "titanic = seaborn.load_dataset('titanic')\n",
        "titanic"
      ],
      "execution_count": null,
      "outputs": []
    },
    {
      "cell_type": "code",
      "metadata": {
        "colab_type": "code",
        "id": "5GkHTk5Lk6yc",
        "colab": {}
      },
      "source": [
        "# Your answer here"
      ],
      "execution_count": null,
      "outputs": []
    },
    {
      "cell_type": "markdown",
      "metadata": {
        "id": "GV6lRvRdR-0i",
        "colab_type": "text"
      },
      "source": [
        "# 히트맵"
      ]
    },
    {
      "cell_type": "markdown",
      "metadata": {
        "id": "-0H53ls1R-0i",
        "colab_type": "text"
      },
      "source": [
        "[seaborn.heatmap](https://seaborn.pydata.org/generated/seaborn.heatmap.html)\n",
        "\n",
        "히트맵은 2차원 데이터를 색으로 표시한다.\n",
        "\n",
        "히트맵을 작성하려면 **heatmap()** 메소드를 주로 **heatmap(*data, cmap=None, annot=None, fmt='.2g', annot_kws=None, linewidths=0*)** 형식으로 사용하면 된다.\n",
        "- ***data*** 는 다차원 배열(ndarray)으로 변환할 수 있는 2차원 데이터 세트나 데이터프레임이다.\n",
        "- ***cmap*** 으로 히트맵의 색상을 설정한다.\n",
        "- ***annot*** 은 **bool** 자료형을 입력하여 히트맵의 각 셀 안에 데이터 값을 표시할지 여부를 정한다.\n",
        "- ***fmt*** 는 각 셀 안에 표시하는 값의 포맷을 설정한다. 문자열로 입력하고 예를 들어 '.2f'를 입력하면 소수점 두 번째 자리까지 표시한다.\n",
        "- ***annot_kws*** 는 ***annot***이 **True**일 때 각 셀 안에 표기하는 값의 글자의 크기와 위치 등을 설정할 수 있다.\n",
        "- ***linewidths*** 는 각 셀을 나누는 선의 너비를 설정한다.\n",
        "- 양 축에 라벨링을 하려면 **pyplot.xlabel()** 과 **pyplot.ylabel()** 을 호출하면 된다.\n",
        "- 더 자세한 내용은 아래의 링크에서 확인할 수 있다.\n",
        "    - https://seaborn.pydata.org/generated/seaborn.heatmap.html\n",
        "\n",
        "\n",
        "**[참고 1]**  \n",
        "매개변수 ***cmap*** 은 컬러맵을 뜻하는데 이 컬러맵은 네 가지 종류가 있다.\n",
        "1. **sequential colormap**은 색의 밝기와 채도를 점차적으로 증가시키는 컬러맵이다. 순차가 있는 값을 나타낼 때 사용한다. \n",
        "1. **diverging colormap**은 색의 밝기와 채도가 변하는 두 가지 색상이 중앙에서 만나게 된다. 양 또는 음의 편차를 강조하는 양극성 데이터에 주로 사용한다. \n",
        "1. **cyclic colormap**은 색의 사이클을 이용하는 컬러맵이다. 시간과 같이 시작과 끝이 같은 값에 주로 사용한다.\n",
        "1. **qualitative colormap**은 순차가 없는 범주형 데이터에 주로 사용한다. 즉, 범주를 구분하기 위해 색이 사용한다.\n",
        "\n",
        "\n",
        "**[참고 2]**  \n",
        "히트맵은 값에 따라 색의 진한 정도가 달라지기 때문에 sequential colormap에 해당하는 색 전달인자를 사용한다. 대표적으로 Greys, Purples, Blues, YlGnBu, BuPu 등이 있다. Greys는 회색, Purples는 보라색, Blues는 파란색으로 값에 따라 진하기를 다르게 표현한다. YlGnBu는 노랑색, 초록색, 파란색을 같이 사용하여 값에 따라 노랑색에서 파랑색으로 진하기를 다르게 표현한다. BuPu는 파란색, 보라색을 같이 사용하여 값에 따라 색이 파란색에서 보라색으로 표현한다. 더 자세한 내용은 아래의 링크에서 확인할 수 있다.\n",
        "- https://matplotlib.org/3.1.1/gallery/color/colormap_reference.html\n"
      ]
    },
    {
      "cell_type": "markdown",
      "metadata": {
        "id": "_5U1GuBLR-0i",
        "colab_type": "text"
      },
      "source": [
        "히트맵을 생성하려면 피벗 테이블을 사용해야 한다. 따라서 히트맵 작성에 앞서 피벗 테이블을 작성한다. 피벗 테이블에 대한 간단한 설명은 바로 다음의 내용을 참고하면 된다."
      ]
    },
    {
      "cell_type": "markdown",
      "metadata": {
        "id": "8c4r9wzeR-0j",
        "colab_type": "text"
      },
      "source": [
        "다음 예는 항공기 데이터를 이용하여 년도와 월을 각각 행과 열로 설정하고 년도별 매월 탑승객 수를 피벗 테이블로 작성한 코드다."
      ]
    },
    {
      "cell_type": "code",
      "metadata": {
        "id": "TKKd8sgwyYR5",
        "colab_type": "code",
        "colab": {}
      },
      "source": [
        "# 항공기 데이터\n",
        "flights = seaborn.load_dataset('flights')  \n",
        "flights"
      ],
      "execution_count": null,
      "outputs": []
    },
    {
      "cell_type": "code",
      "metadata": {
        "id": "s-G6JezBR-0j",
        "colab_type": "code",
        "colab": {}
      },
      "source": [
        "# --- 항공기 데이터(flights)에서 연도별 매월 탐승객 수를 피벗 테이블로 작성한다.\n",
        "# > 항공기 데이터는 연도별 월별 승객 수를 기록한 데이터 세트다.\n",
        "# > year(연도), month(월), passengers(승객 수)로 총 3 개의 속성을 가지고 있다.\n",
        "import pandas\n",
        "\n",
        "# 항공기 데이터에서 values='passengers'로 탑승객 수를 집계한다.\n",
        "# index='year'로 설정하여 행을 년도로 columns='month'로 설정하여 \n",
        "# 열을 월별로 해서 피벗 테이블을 작성한다.\n",
        "flights_pivot = pandas.pivot_table(flights, values='passengers', \n",
        "                                  index='year', columns='month')\n",
        "flights_pivot"
      ],
      "execution_count": null,
      "outputs": []
    },
    {
      "cell_type": "markdown",
      "metadata": {
        "id": "Aum5bep8R-0l",
        "colab_type": "text"
      },
      "source": [
        "다음 예는 앞서 작성한 피벗 테이블로 히트맵을 그리는 코드다."
      ]
    },
    {
      "cell_type": "code",
      "metadata": {
        "id": "Fod7yb-AR-0m",
        "colab_type": "code",
        "colab": {}
      },
      "source": [
        "# pyplot.figure(figsize=(10, 8))로 히트맵의 크기를 설정한다.\n",
        "pyplot.figure(figsize=(10, 8))\n",
        "\n",
        "# annot=True, fmt='d'로 셀 안의 데이터 값을 정수 형태로 표시한다.\n",
        "seaborn.heatmap(__TODO__)\n",
        "\n",
        "# pyplot.ylim(0, 12)으로 설정하여 히트맵의 y축의 범위가 1949부터 1960이 되도록 한다.\n",
        "# ylim()을 설정하지 않으면 위에서 작성된 피벗 테이블의 형태 그대로 히트맵을 생성하게 되어\n",
        "# y축의 시작(즉, 좌측 하단)이 1960이 된다.\n",
        "pyplot.__TODO__\n",
        "\n",
        "pyplot.title('년도별 월별 승객 수\\n(히트맵 - 항공기 데이터)')\n",
        "pyplot.xlabel('월')\n",
        "pyplot.ylabel('년')\n",
        "pyplot.show()"
      ],
      "execution_count": null,
      "outputs": []
    },
    {
      "cell_type": "markdown",
      "metadata": {
        "id": "f78N1Zb9R-0p",
        "colab_type": "text"
      },
      "source": [
        "**실행 결과**  \n",
        "\n",
        "![seaborn23](https://drive.google.com/uc?id=1YyL6e1wJlnsTSvCxYgbCDo3BSxhldZAC)"
      ]
    },
    {
      "cell_type": "markdown",
      "metadata": {
        "id": "_uyI7oe3R-0s",
        "colab_type": "text"
      },
      "source": [
        "**[참고]**    \n",
        "일반적으로 그래프는 입력한 x, y 값의 최소부터 최대의 구간으로 작성하게 된다. 이 구간을 키우거나 줄이려면 x, y의 구간을 설정하면 된다. x축은 **pyplot.xlim(최소, 최대)**, y축은 **pyplot.ylim(최소, 최대)**으로 설정한다.\n",
        "\n",
        "그런데 히트맵에서는 **pyplot.xlim()**, **pyplot.ylim()**을 사용하여 입력하는 셀의 구간과 순서를 정한다. 히트맵에서**ylim**을 설정하지 않고 사용하면 피벗 테이블의 행 순서를 그대로 사용하게 될 뿐만 아니라 가장 위와 가장 아래의 셀들이 잘려서 나온다. 이러한 이유로 앞의 예에서는 눈금의 셀부터 가장 위에 있는 셀까지의 개수를 세서 **ylim(12, 0)**로 설정한다."
      ]
    },
    {
      "cell_type": "markdown",
      "metadata": {
        "id": "XZfhe9S7R-1A",
        "colab_type": "text"
      },
      "source": [
        "## Lab: 타이타닉 데이터로 히트맵 만들기"
      ]
    },
    {
      "cell_type": "markdown",
      "metadata": {
        "id": "7lFueSFBR-1A",
        "colab_type": "text"
      },
      "source": [
        "- - -\n",
        "\n",
        "- 타이타닉 생존 데이터에서 클래스 등급(class)과 성별(sex)에 대한 승객 수를 히트맵으로 작성한다.\n",
        "\n",
        "- 히트맵이 피벗 테이블을 데이터로 사용하기 때문에 먼저 타이타닉 생존 데이터로 피벗 테이플 생성한다.\n",
        "\n",
        "- 히트맵의 각 셀 안에 승객 수를 정수로 기록하도록 설정한다.\n",
        "\n",
        "- y축 구간을 설정하여 클래스 등급의 범주가 좌측 하단부터 그려되도록 설정한다.\n",
        "\n",
        "- 전체 도표의 제목과 x축, y축의 라벨을 적절한 내용으로 설정한다.\n",
        "\n",
        "\n",
        "\n",
        "\n",
        "- - -"
      ]
    },
    {
      "cell_type": "code",
      "metadata": {
        "id": "EYAT985L0Dd_",
        "colab_type": "code",
        "colab": {}
      },
      "source": [
        "# 팁 데이터\n",
        "tips = seaborn.load_dataset('tips')\n",
        "tips"
      ],
      "execution_count": null,
      "outputs": []
    },
    {
      "cell_type": "code",
      "metadata": {
        "colab_type": "code",
        "id": "8Rym9qQllBvJ",
        "colab": {}
      },
      "source": [
        "# Your answer here"
      ],
      "execution_count": null,
      "outputs": []
    },
    {
      "cell_type": "markdown",
      "metadata": {
        "id": "1dI3RbdKLHgn",
        "colab_type": "text"
      },
      "source": [
        "# 조인트 플롯"
      ]
    },
    {
      "cell_type": "markdown",
      "metadata": {
        "id": "G19p7nL8Sy0e",
        "colab_type": "text"
      },
      "source": [
        "[seaborn.jointplot](https://seaborn.pydata.org/generated/seaborn.jointplot.html)\n",
        "\n",
        "조인트 플롯(joint plot)은 특정 그래프를 도표의 안쪽에 그리고 그래프의 가장자리에는 안에 그려진 그래프에 따라 히스토그램 또는 커널 밀도 플롯을 그려주는 도표다.\n",
        "\n",
        "조인트 플롯을 작성하려면 **jointplot()** 메소드를 주로 **jointplot(*x, y, data=None, kind='scatter', color=None, height=6, space=0.2*)** 형식으로 사용하면 된다.\n",
        "\n",
        "- ***x*** 는 x축에 그려지는 데이터 또는 데이터의 열 이름(변수명) 문자열이다.\n",
        "- ***y*** 는 y축에 그려지는 데이터 또는 데이터의 열 이름(변수명) 문자열이다.\n",
        "- ***data*** 는 입력되는 전체 데이터의 이름이다.\n",
        "- ***kind*** 는 안에 그려지는 그래프의 종류를 설정한다. *{ 'scatter' | 'reg' | 'resid' | 'kde' | 'hex' }* 중 하나를 선택하며 기본값은 **'scatter'** 로 산점도를 그린다. 가장자리에는 자동으로 히스토그램을 그린다. **'reg'** 는 데이터와 선형회귀의 직선을 그려주는 **regplot**을, **'resid'** 는 데이터와 잔차(residual)를 그려주는 **residplot**을, **'hex'** 는 데이터의 수를 육각형의 형태로 보여주는 **hexbin** 플롯을 뜻한다. 여기서 선형회귀의 직선은 데이터로부터 *x*와 *y*의 관계를 가장 잘 나타내는 직선을 뜻하고 잔차(redidual)는 데이터의 관측값과 예측값의 차이를 뜻한다. 이 때 **'scatter'** 나 **'hex'** 를 선택하면 가장자리 도형으로는 히스토그램을 그려주며, **'kde'** 를 선택하면 가장자리 도형으로는 **1**차원 커널 밀도를 그린다. **'reg'** 이나 **'reside'** 를 선택하면 가장자리 도형으로 히스토그램과 **1**차원 커널밀도 둘 다 함께 그린다.\n",
        "    - 잔차(residual)는 표본 집단(sample)에서 도출한 회귀식으로 얻은 예측값과 실제 데이터 값과의 차이를 뜻한다. \n",
        "    - 표본 집단은 전체 대상인 모집단으로부터 추출된 모집단의 부분 집합이다.\n",
        "    - 모집단에서 도출한 회귀식으로 얻은 예측값과 실제 데이터값의 차이는 오차(error)라고 한다.\n",
        "- ***color*** 는 안과 가장자리에 그려지는 그래프의 점, 선의 색상을 설정한다. 대표적인 컬러로 파랑색은 **'b'**, 초록색은 **'g'**, 빨강색은 **'r'**, 노랑색은 **'y'**, 하양색은 **'w'**, 검정색은 **'k'** 등이 있다. 더 많은 컬러 문자열은 아래의 링크에서 확인할 수 있다.\n",
        "    - https://matplotlib.org/3.1.0/gallery/color/named_colors.html\n",
        "- ***height*** 는 작성하는 전체 그래프의 사이즈를 설정한다. 숫자를 입력하며 전체 그래프는 입력한 숫자의 크기를 변의 길이로 가지는 정사각형 형태로 그려진다.\n",
        "- ***space*** 는 안에 그려지는 그래프와 가장자리에 그려지는 그래프 사이의 공간을 설정한다. 숫자를 입력하며 **0**에 가까울 수록 두 그래프는 가까워진다.\n",
        "- 더 자세한 내용은 아래의 링크에서 확인할 수 있다.\n",
        "    - https://seaborn.pydata.org/generated/seaborn.jointplot.html\n",
        "\n",
        "하나의 그래프에 제목을 설정할 때는 **pyplot.title()** 을 이용한다. 하지만 조인트 플롯에 **pyplot.title()** 을 사용하면 제목의 위치가 내부 도표와 외부 도표 사이에 위치하게 된다. 조인트 플롯 전체에 대한 제목을 설정하려면 **pyplot.suptitle()** 을 호출해야 한다. 조인트 플롯에서 내부 도표와 외부 도표에 각각 제목을 짓는 것은 가능하지 않다. 비록 조인트 폴롯으로 두 개의 그래프를 그리지만 서브플롯(subplot)의 개념이 아니라 조인트 플롯 자체가 하나의 도표이기 때문이다.\n",
        "\n",
        "조인트 플롯에서 각 축을 라벨링 하려면 **jointplot**이 반환하는 객체를 변수에 할당하고 해당 변수에 **set_axis_labels**(*xlabel='', ylabel=''*)로 값을 설정하여 각 축을 라벨링한다. \n",
        "- **jointplot**이 반환하는 객체는 **JointGrid**다.\n",
        "- **JointGrid**는 이변량 플롯(bivariate plot)을 그리기 위한 그리드이다."
      ]
    },
    {
      "cell_type": "markdown",
      "metadata": {
        "id": "BP5gcOTK3Y0q",
        "colab_type": "text"
      },
      "source": [
        "다음 예 붓꽃 데이터의 꽃받침의 길이와 꽃잎 길이로 도표를 작성하되 도표 안에는 산점도를 바깥에는 히스토그램을 보여주는 조인트 플롯을 작성한 코드다."
      ]
    },
    {
      "cell_type": "code",
      "metadata": {
        "id": "GP_5_z1U3XNm",
        "colab_type": "code",
        "colab": {}
      },
      "source": [
        "# 붓꽃 데이터\n",
        "iris = seaborn.load_dataset('iris')\n",
        "iris"
      ],
      "execution_count": null,
      "outputs": []
    },
    {
      "cell_type": "code",
      "metadata": {
        "colab_type": "code",
        "id": "vUxHqFXbSy0i",
        "colab": {}
      },
      "source": [
        "# --- 붓꽃 데이터(iris)에서 꽃받침의 길이와 꽃잎 길이의 상관 관계를 조인트 플롯(산점도 + 히스토그램)으로 작성한다.\n",
        "# > 붓꽃 데이터는 꽃과 관련된 속성들과 어떤 종류의 붓꽃인지를 기록한 데이터 세트다.\n",
        "# > sepal_length(꽃받침의 길이), sepal_width(꽃받침의 너비), \n",
        "# > petal_length(꽃잎의 길이), petal_width(꽃잎의 너비), \n",
        "# > species(꽃의 종류)로 총 5개의 속성을 가지고 있다.\n",
        "\n",
        "# x='sepal_length', y='petal_length', data=iris로 설정하여 \n",
        "# 붓꽃 데이터에서 x축을 꽃받침의 길이, y축을 꽃잎의 길이로 산점도를 그린다.\n",
        "# 조인트 플롯이 반환하는 객체를 변수로 할당해서 양 축을 라벨링할 때 사용한다.\n",
        "g = seaborn.jointplot(__TODO__)\n",
        "\n",
        "# 조인트 플롯의 반환한 JointGrid의 set_axis_labels()를 사용하여 x축과 y축을 라벨링한다.\n",
        "g.set_axis_labels(__TODO__)\n",
        "\n",
        "# 하나의 전체 결과 그림에 제목을 지어주기 위해 pyplot.suptitle()을 사용한다.\n",
        "# pyplot.suptitle(y=1.05)로 제목의 y좌표를 설정하여 가장자리의 히스토그램과 겹치지 않도록 한다.\n",
        "pyplot.suptitle('꽃받침 길이와 꽃잎 길이의 상관 관계\\n(조인트 플롯(산점도 + 히스토그램) - 붓꽃 데이터)', \n",
        "                __TODO__)\n",
        "pyplot.show()"
      ],
      "execution_count": null,
      "outputs": []
    },
    {
      "cell_type": "markdown",
      "metadata": {
        "id": "1V35swGfSy0n",
        "colab_type": "text"
      },
      "source": [
        "**실행 결과**  \n",
        "\n",
        "![seaborn26](https://drive.google.com/uc?id=19J0nAJdVaJGAKhrL2a25O81jfcJ9tar2)"
      ]
    },
    {
      "cell_type": "markdown",
      "metadata": {
        "id": "gwcZe5cUSy04",
        "colab_type": "text"
      },
      "source": [
        "## Lab: 타이타닉 데이터로 조인트 플롯 그리기"
      ]
    },
    {
      "cell_type": "markdown",
      "metadata": {
        "id": "fY_hauk8Sy04",
        "colab_type": "text"
      },
      "source": [
        "- - - \n",
        "\n",
        "- 타이타닉 생존 데이터에서 승객의 나이(age)와 운임(fare)의 상관 관계를 조인트 플롯(산점도 + 히스토그램)으로 작성한다. 이 때 조인트 플롯의 내부 도표는 산점도로 하고 가장자리는 히스토그램으로 한다.\n",
        "\n",
        "- 도표의 제목은 가장자리의 히스토그램 위에 오도록 설정한다.\n",
        "\n",
        "- x축과 y축의 라벨도 설정한다.\n",
        "\n",
        "- - -"
      ]
    },
    {
      "cell_type": "code",
      "metadata": {
        "id": "E_xCkVix304G",
        "colab_type": "code",
        "colab": {}
      },
      "source": [
        "# 타이타닉 생존 데이터\n",
        "titanic = seaborn.load_dataset('titanic')\n",
        "titanic"
      ],
      "execution_count": null,
      "outputs": []
    },
    {
      "cell_type": "code",
      "metadata": {
        "colab_type": "code",
        "id": "e3V68VJDlGNd",
        "colab": {}
      },
      "source": [
        "# Your answer here"
      ],
      "execution_count": null,
      "outputs": []
    },
    {
      "cell_type": "markdown",
      "metadata": {
        "id": "FvtMj3TzSy0_",
        "colab_type": "text"
      },
      "source": [
        "# 캣 플롯"
      ]
    },
    {
      "cell_type": "markdown",
      "metadata": {
        "id": "gReYvI8YSy0_",
        "colab_type": "text"
      },
      "source": [
        "[seaborn.catplot](https://seaborn.pydata.org/generated/seaborn.catplot.html)\n",
        "\n",
        "캣 플롯은 앞에서 설명한 여러 그래프와 플롯 중 하나를 사용하여 범주형 변수와 수치형 변수 간의 관계를 시각화한다.\n",
        "\n",
        "캣 플롯은 범주형 변수와 수치형 변수간의 관계를 사용자가 원하는 그래프 중 하나를 선택하여 시각화한다. 이 때 매개 변수 ***row*** 와 ***col*** 에 범주형 변수를 입력하면 선택한 그래프를 범주에 따라 여러 개의 행이나 열로 그려준다. 즉, 캣 플롯은 범주형 변수와 수치형 변수간의 관계를 각 범주에 따라 한 가지 종류의 그래프로 여러 개를 그린다.\n",
        "\n",
        "캣 플롯을 작성하려면 **catplot()** 메소드를 주로 **catplot(*x=None, y=None, hue=None, data=None, row=None, col=None, kind='strip'*)** 형식으로 사용하면 된다.\n",
        "\n",
        "- ***x, y*** 에는 데이터의 변수명을 입력한다. ***x*** 와 ***y*** 에는 범주형 변수와 수치형 변수를 각각 하나씩 입력해야 한다. 두 개의 수치형 변수를 입력할 수는 있지만 그럴 경우 ***x***에 입력하는 수치형 데이터 값을 각각 하나의 범주로 간주하여 그린다.\n",
        "- ***hue*** 에는 데이터의 변수명을 입력하며 생성한 범주별 도표를 입력한 변수의 범주에 따라 다른 색으로 표현한다.\n",
        "- ***data*** 는 입력한는 전체 데이터의 이름이다.\n",
        "- ***row, col*** 은 범주형 변수명을 입력하여 범주 별로 그래프를 행과 열로 작성한다.\n",
        "- ***kind*** 는 그릴 플롯의 종류를 설정한다. *{'point' | 'bar' | 'strip' | 'swarm' | 'box' | 'violin' | 'boxen'}* 중 하나를 선택한다. 기본값은 **'strip'** 으로 스트립 플롯을 그린다. **'point'** 는 꺾은선 그래프를 그려주는 **pointplot**을, **'boxen'** 은 큰 데이터 세트에 사용되는 박스 그래프인 **boxenplot**을 그린다.  \n",
        "- 더 자세한 내용은 아래의 링크에서 확인할 수 있다.\n",
        "    - https://seaborn.pydata.org/generated/seaborn.catplot.html\n",
        "\n",
        "캣 플롯에서는 행으로 표현하기 원하는 범주형 변수는 매개변수 ***row*** 에 설정하고, 열로 표현하기 원하는 범주형 변수는 매개변수 ***col*** 에 설정하면 된다.\n",
        "\n",
        "**catplot()** 메소드에서 **x**와 **y** 변수만 입력하여 하나의 그래프를 그리면 **pyplot.title**로 제목을 짓고 x축과 y축을 라벨링 할 때 **pyplot.xlabel()** 과 **pyplot.ylabel()** 을 호출하면 된다. \n",
        "\n",
        "캣 플롯에서 각 축을 라벨링 하려면 **catplot**이 반환하는 객체를 변수에 할당하고 해당 변수에 **set_axis_labels**(*xlabel='', ylabel=''*)로 값을 설정하여 각 축을 라벨링한다. \n",
        "- **catplot**이 반환하는 객체는 **FacetGrid**다.\n",
        "- **FacetGrid**는 변수 간의 관계를 범주에 따라 행과 열로 표현하는 그리드다.\n",
        "    - **seaborn** 패키지에서는 FacetGrid를 '조건부 관계(conditional relationships)를 그리기 위한 다중 플롯 그리드'로 정의하고 있다.\n",
        "  \n",
        "**catplot()** 메소드에서 매개변수 ***row*** 를 사용하여 캣 플롯이 ***row*** 의 범주에 따라 여러 개의 서브 플롯들로 그릴 수 있다. 그러므로 전체 도표에 대해 제목을 짓기 위해서는 **pyplot.suptitle()** 을 사용해야 한다. 여러 개의 서브 플롯이 그려지면 캣 플롯이 반환하는 객체를 변수에 할당하고 **axes** 속성을 이용하여 라벨링을 할 수 있다. 그려지는 서브 플롯의 순서에 따라 **axes[x, y].set_xlabel()**, **axes[x, y].set_ylabel()** 로 라벨링을 한다. 여기서 **[x, y]** 은 몇 번째 서브 플롯인지를 설정한다. ***x*** 가 행이 되고 ***y*** 가 열이 되는데 예를 들어 **[0, 3]** 이라면 첫 번째 행의 네번째 열을 의미한다."
      ]
    },
    {
      "cell_type": "markdown",
      "metadata": {
        "id": "ke0ZSTtSSy1F",
        "colab_type": "text"
      },
      "source": [
        "다음 예는 팁 데이터에서 요일 별로 흡연 여부에 따라 성별로 구분하여 청구서 금액과의 관계를 캣 플롯을 사용하여 바이올린 플롯으로 작성한 코드다."
      ]
    },
    {
      "cell_type": "code",
      "metadata": {
        "id": "UnTtUpSW4N7P",
        "colab_type": "code",
        "colab": {}
      },
      "source": [
        "# 팁 데이터\n",
        "tips = seaborn.load_dataset('tips')\n",
        "tips"
      ],
      "execution_count": null,
      "outputs": []
    },
    {
      "cell_type": "code",
      "metadata": {
        "colab_type": "code",
        "id": "mxi9XhrISy1F",
        "colab": {}
      },
      "source": [
        "# --- 팁 데이터(tips)에서 요일 별로 흡연 여부에 따라 성별로 구분하여 청구서 금액과의 관계를 \n",
        "# 캣 플롯을 사용하여 바이올린 플롯으로 작성한 코드다.\n",
        "# > 팁 데이터는 고객 정보와 고객의 청구서 금액 및 팁을 기록한 데이터 세트다.\n",
        "# > total_bill(전체 금액), tip(팁), sex(성별), smoker(흡연자 여부), \n",
        "# > day(요일), time(시간), size(인원 수)로 총 7개의 속성을 가지고 있다.\n",
        "\n",
        "# x='sex'로 설정하여 x축을 범주형 변수인 성별로, \n",
        "# y='total_bill'로 설정하여 y축을 실숫값인 청구서 금액으로 설정한다.\n",
        "# kind='violin'으로 설정하여 바이올린 플롯으로 그린다.\n",
        "# hue='smoker'로 설정하여 성별 바이올린 도형들이 흡연 여부에 따라 작은 바이올린 도형으로 나눠지게 한다.\n",
        "# 이 때 매개변수 split를 기본값인 False로 해서 흡연 여부에 따라 바이올린 플롯을 나눠서 그리도록 한다.\n",
        "# 즉 흡연하는 남성, 흡연 하지 않는 남성, 흡연 하는 여성, 흡연 하지 않는 여성으로 총 4개의 바이올린 플롯을 그린다.\n",
        "# 참고로 매개변수 split를 True로 설정하면 x축에 그려지는 각 바이올린 플롯이 hue의 두 개 범주를 바이올린 플롯의 좌우 날개로 그리게 된다. \n",
        "# 즉 x축에 성별에 따라 바이올린 플롯을 두 개 그리는데 hue='smoker'로 설정하였으므로 \n",
        "# 각 성별 축(남성 또는 여성)에 그려지는 하나의 바이올린 플롯은 흡연 여부로 좌우 날개를 그리게 된다.\n",
        "# row='day'로 설정하여 요일 범주를 행으로 작성한다.\n",
        "# y축에 수치형 데이터 값을 가지는 변수 'total_bill'이 오기 때문에 바이올린 플롯은 세로로 그려진다.\n",
        "# catplot이 반환하는 객체인 FacetGrid를 'g'라는 변수로 할당한다.\n",
        "g = seaborn.catplot(__TODO__)\n",
        "\n",
        "# FacetGrid.set_xticklabels()로 x축에 작성하는 범주들을 각각 라벨링한다.\n",
        "g.set_xticklabels(__TODO__)\n",
        "\n",
        "# FacetGrid 객체 'g'의 axes속성을 사용하여 라벨링을 한다.\n",
        "# 그려지는 서브 플롯의 순서에 따라 axes[x, y].set_xlabel(), axes[x, y].set_ylabel()로 라벨링하면 된다.\n",
        "g.axes[__TODO__].set_xlabel('요일')\n",
        "g.axes[__TODO__].set_ylabel('목요일 청구서 금액')\n",
        "g.axes[__TODO__].set_ylabel('금요일 청구서 금액')\n",
        "g.axes[__TODO__].set_ylabel('토요일 청구서 금액')\n",
        "g.axes[__TODO__].set_ylabel('일요일 청구서 금액')\n",
        "\n",
        "# FacetGrid 객체 'g'의 axes로 각 서브플롯을 호출하고 \n",
        "# 여기에 set_title()을 사용하여 서브플롯의 제목을 짓는다.\n",
        "g.axes[__TODO__].set_title('목요일')\n",
        "g.axes[__TODO__].set_title('금요일')\n",
        "g.axes[__TODO__].set_title('토요일')\n",
        "g.axes[__TODO__].set_title('일요일')\n",
        "\n",
        "# 여러 개의 서브 플롯을 그리기 때문에 전체 도표에 대한 제목은 pyplot.suptitle()를 호출하는데 \n",
        "# y=1.05로 제목을 y축 방향으로 이동한다. 그리고 fontsize를 15로 설정하여 제목의 크기를 크게 한다. \n",
        "# 폰트의 기본 크기는 fontsize=12다.\n",
        "pyplot.suptitle('성별 흡연 여부에 따른 요일별 청구서 금액\\n캣 플롯(바이올린 플롯) - 팁 데이터',\n",
        "                __TODO__, __TODO__)\n",
        "pyplot.show();"
      ],
      "execution_count": null,
      "outputs": []
    },
    {
      "cell_type": "markdown",
      "metadata": {
        "id": "tkSRs0nuSy1H",
        "colab_type": "text"
      },
      "source": [
        "**실행 결과**  \n",
        "\n",
        "![seaborn30](https://drive.google.com/uc?id=13d87bNxVd8U7VXpzzUTde9vl1Oalbiot)"
      ]
    },
    {
      "cell_type": "markdown",
      "metadata": {
        "id": "vDdVXzX8Sy1R",
        "colab_type": "text"
      },
      "source": [
        "## Lab: 타이타닉 데이터로 캣 플롯 그리기(가로 모양의 바이올린)"
      ]
    },
    {
      "cell_type": "markdown",
      "metadata": {
        "id": "aBD1Hg6lSy1S",
        "colab_type": "text"
      },
      "source": [
        "- - -\n",
        "\n",
        "- 타이타닉 생존 데이터에서 클래스 등급(class)별로 성별(sex)에 따른 나이(age)의 분포를 캣 플롯으로 작성한다. 이 때 그리는 도표의 종류는 바이올린 플롯으로 설정하고 바이올린이 가로 모양으로 그려지도록 설정한다.\n",
        "\n",
        "- 클래스 등급(class)별로 행을 나누어 그리도록 설정한다.\n",
        "\n",
        "- 전체 도표의 제목과 x축, y축의 라벨을 적절한 내용으로 설정한다.\n",
        "\n",
        "- 범주에 대한 눈금의 라벨도 설정한다.\n",
        "\n",
        "- - -"
      ]
    },
    {
      "cell_type": "code",
      "metadata": {
        "id": "hYRcPIHf4YEW",
        "colab_type": "code",
        "colab": {}
      },
      "source": [
        "# 타이타닉 생존 데이터\n",
        "titanic = seaborn.load_dataset('titanic')\n",
        "titanic"
      ],
      "execution_count": null,
      "outputs": []
    },
    {
      "cell_type": "code",
      "metadata": {
        "colab_type": "code",
        "id": "mmwPVl5rlLO3",
        "colab": {}
      },
      "source": [
        "# Your answer here"
      ],
      "execution_count": null,
      "outputs": []
    },
    {
      "cell_type": "markdown",
      "metadata": {
        "id": "RD4sWzJwSy1V",
        "colab_type": "text"
      },
      "source": [
        "## Lab: 타이타닉 데이터로 캣 플롯 그리기(세로 모양의 바이올린)\n"
      ]
    },
    {
      "cell_type": "markdown",
      "metadata": {
        "id": "ht5JW0KaSy1V",
        "colab_type": "text"
      },
      "source": [
        "- - -\n",
        "\n",
        "- 타이타닉 생존 데이터에서 클래스 등급(class)별로 suvived(생존 여부)에 따른 성별(sex) 나이(age) 분포를 캣 플롯으로 작성한다. 이 때 그리는 도표의 종류는 바이올린 플롯으로 설정하고 바이올린이 세로 모양으로 그려지도록 설정한다.\n",
        "\n",
        "- 클래스 등급(class)별로 행을 나누어 그리고, 바이올린 도형의 양쪽 날개를 성별(sex)로 나누어 그리도록 설정한다.\n",
        "\n",
        "- 전체 도표의 제목과 x축, y축의 라벨을 적절한 내용으로 설정한다.\n",
        "\n",
        "- 범주에 대한 눈금의 라벨도 설정한다.\n",
        "\n",
        "- - -"
      ]
    },
    {
      "cell_type": "code",
      "metadata": {
        "id": "Qcq_A9FS46i7",
        "colab_type": "code",
        "colab": {}
      },
      "source": [
        "# 타이타닉 생존 데이터\n",
        "titanic = seaborn.load_dataset('titanic')\n",
        "titanic"
      ],
      "execution_count": null,
      "outputs": []
    },
    {
      "cell_type": "code",
      "metadata": {
        "colab_type": "code",
        "id": "LEoCpoKvlPGE",
        "colab": {}
      },
      "source": [
        "# Your answer here"
      ],
      "execution_count": null,
      "outputs": []
    },
    {
      "cell_type": "markdown",
      "metadata": {
        "id": "UHqoCvAkSy1Y",
        "colab_type": "text"
      },
      "source": [
        "# 페어 플롯"
      ]
    },
    {
      "cell_type": "markdown",
      "metadata": {
        "id": "VH87ZKKoSy1Z",
        "colab_type": "text"
      },
      "source": [
        "[seaborn.pairplot](https://seaborn.pydata.org/generated/seaborn.pairplot.html)\n",
        "\n",
        "페어 플롯은 데이터 세트 내의 모든 변수간의 관계를 좌표평면 상에 점으로 나타내는 그래프이다. 모든 변수에 대해 산점도를 그린다고 보면 된다. 따라서 데이터 세트에 있는 변수 개수의 제곱만큼 서브 플롯을 생성한다. \n",
        "\n",
        "페어 플롯을 작성하려면 **pairplot()** 메소드를 주로 **pairplot(*data, hue=None, palette=None, kind='scatter', markers=None*)** 형식으로 사용하면 된다.\n",
        "\n",
        "- ***data*** 는 행이 데이터의 관측값, 열이 변수인 전체 데이터 세트이다.\n",
        "- ***hue*** 는 전체 데이터 세트 중 하나의 변수명이며 **pairplot**의 막대나 마커를 범주별로 색상을 다르게 표현할 수 있다.\n",
        "- ***palette*** 는 자동으로 칠하는 색상의 순서와 종류를 설정한다.\n",
        "- ***kind*** 는 서로 다른 변수에 대한 그래프를 그릴 때 그래프의 종류를 설정한다. *{‘scatter’ | ‘reg’}* 중 하나를 선택하며 기본값은 **'scatter'** 로 산점도를 그린다. **'reg'** 는 선형 회귀 적합선이 포함된 산점도를 그린다.\n",
        "- ***diag_kind*** 는 같은 변수 간 그래프를 그릴때 그래프의 종류를 설정한다. **{‘auto’, ‘hist’, ‘kde’, None}** 중 하나를 선택하며 기본값은 **'auto'** 다.\n",
        "- ***markers*** 는 산점도의 마커 모양을 설정한다.\n",
        "- 더 자세한 내용은 아래의 링크에서 확인할 수 있다.\n",
        "    - https://seaborn.pydata.org/generated/seaborn.pairplot.html\n",
        "\n",
        "전체 페어 플롯에 대해 제목을 설정하려면 **pyplot.suptitle()** 을 사용해야한다. 그리고 페어 플롯은 여러 개의 서브 플롯을 그리기 때문에 페어 플롯이 반환하는 객체를 변수에 할당하고 **axes** 속성을 사용하여 각 축을 라벨링 할 수 있다. 그려지는 서브 플롯의 순서에 따라 **axes[*x, y*].set_xlabel()**, **axes[*x, y*].set_ylabel()** 메소드로 라벨링을 하면된다. 여기서 **[*x, y*]** 은 몇 번째 서브 플롯인지를 설정할 때 사용한다. ***x***가 행이고 ***y***가 열인데, 예를 들어 **[0, 3]** 이라면 첫 번째 행의 네번째 열을 의미한다.\n"
      ]
    },
    {
      "cell_type": "markdown",
      "metadata": {
        "id": "3VKxY0gsSy1Z",
        "colab_type": "text"
      },
      "source": [
        "다음 예는 붓꽃 데이터에서 꽃받침 길이, 꽃받침 너비, 꽃잎 길이, 꽃잎 너비의 상관 관계를 페어 플롯을 작성한 코드다."
      ]
    },
    {
      "cell_type": "code",
      "metadata": {
        "id": "_Sn7hOmT5Ifk",
        "colab_type": "code",
        "colab": {}
      },
      "source": [
        "# 붓꽃 데이터\n",
        "iris = seaborn.load_dataset('iris')\n",
        "iris"
      ],
      "execution_count": null,
      "outputs": []
    },
    {
      "cell_type": "code",
      "metadata": {
        "id": "VedNBDlcSy1a",
        "colab_type": "code",
        "colab": {}
      },
      "source": [
        "# --- 붓꽃 데이터(iris)에서 꽃받침 길이, 꽃받침 너비, 꽃잎 길이, 꽃잎 너비의 상관 관계를 페어 플롯을 작성한다.\n",
        "# > 붓꽃 데이터는 꽃과 관련된 속성들과 어떤 종류의 붓꽃인지를 기록한 데이터 세트다.\n",
        "# > sepal_length(꽃받침의 길이), sepal_width(꽃받침의 너비), \n",
        "# > petal_length(꽃잎의 길이), petal_width(꽃잎의 너비), \n",
        "# > species(꽃의 종류)로 총 5개의 속성을 가지고 있다.\n",
        "\n",
        "# 페어 플롯이 반환하는 객체를 'g'라는 변수에 할당한다. \n",
        "g = seaborn.pairplot(__TODO__)\n",
        "\n",
        "# g의 axes[x, y].set_xlabel()과 axex[x, y].set_ylabel()로 각 축을 라벨링한다.\n",
        "g.axes[__TODO__].set_ylabel('꽃받침 길이')   # 가장 위의 가장 왼쪽에 있는 subplot의 y축을 라벨링한다.\n",
        "g.axes[__TODO__].set_ylabel('꽃받침 너비')   # 위에서 두 번째, 가장 왼쪽에 있는 subplot의 y축을 라벨링한다.\n",
        "g.axes[__TODO__].set_ylabel('꽃잎 길이')    # 위에서 세 번째, 가장 왼쪽에 있는 subplot의 y축을 라벨링한다.\n",
        "g.axes[__TODO__].set_ylabel('꽃잎 너비')    # 위에서 네 번째, 가장 왼쪽에 있는 subplot의 y축을 라벨링을 한다.\n",
        "\n",
        "g.axes[__TODO__].set_xlabel('꽃받침 길이')  # 가장 아래의 가장 왼쪽에 있는 subplot의 x축을 라벨링한다.\n",
        "g.axes[__TODO__].set_xlabel('꽃받침 너비')  # 가장 아래의, 왼쪽에서 두 번째에 있는 subplot의 x축을 라벨링한다.\n",
        "g.axes[__TODO__].set_xlabel('꽃잎 길이')   # 가장 아래의, 왼쪽에서 세 번째에 있는 subplot의 x축을 라벨링한다.\n",
        "g.axes[__TODO__].set_xlabel('꽃잎 너비')   # 가장 아래의, 왼쪽에서 네 번째에 있는 subplot의 x축을 라벨링한다.\n",
        "\n",
        "# 전체 페어 플롯에 제목을 설정하기 위해 pyplot.suptitle()을 사용한다.\n",
        "# y=1.09로 설정하여 제목이 페어 플롯과 겹치지 않도록 제목을 위로 이동한다.\n",
        "# fontsize를 20으로 설정하여 제목의 크기를 크게 한다.\n",
        "pyplot.suptitle('꽃받침 길이, 꽃받침 너비, 꽃잎 길이, 꽃잎 너비의 상관 관계\\n(페어 플롯 - 붓꽃 데이터)', \n",
        "                __TODO__, __TODO__)\n",
        "pyplot.show()"
      ],
      "execution_count": null,
      "outputs": []
    },
    {
      "cell_type": "markdown",
      "metadata": {
        "id": "DgQeeYebSy1d",
        "colab_type": "text"
      },
      "source": [
        "**실행 결과**  \n",
        "\n",
        "![seaborn32](https://drive.google.com/uc?id=13_ovCvydi5mWIoUoJDWuXOFtFr0M5AnP)"
      ]
    },
    {
      "cell_type": "markdown",
      "metadata": {
        "id": "gyPEriHoSy1l",
        "colab_type": "text"
      },
      "source": [
        "## Lab: 다이아몬드 데이터로 페어 플롯 그리기"
      ]
    },
    {
      "cell_type": "markdown",
      "metadata": {
        "id": "_MQFNK-MSy1l",
        "colab_type": "text"
      },
      "source": [
        "- - - \n",
        "\n",
        "- 다이아몬드 데이터에서 전체 수치형 변수들에 대한 분포를 페어 플롯으로 작성한다. 이 때 산점도에 표시하는 각 점과 커널 밀도 플롯이 그리는 곡선을 투명도(clarity)에 따라 다른 색상으로 표시한다.\n",
        "\n",
        "- 전체 도표의 제목과 x축, y축의 라벨을 적절한 내용으로 설정한다.\n",
        "\n",
        "_ _ _\n"
      ]
    },
    {
      "cell_type": "code",
      "metadata": {
        "id": "mB93wgLD6Zc9",
        "colab_type": "code",
        "colab": {}
      },
      "source": [
        "# 다이아몬드 데이터\n",
        "diamonds = seaborn.load_dataset('diamonds', data_home='./data')\n",
        "diamonds"
      ],
      "execution_count": null,
      "outputs": []
    },
    {
      "cell_type": "markdown",
      "metadata": {
        "id": "Y2kVPiifSy1r",
        "colab_type": "text"
      },
      "source": [
        "### 다이아몬드 데이터에 대한 설명"
      ]
    },
    {
      "cell_type": "markdown",
      "metadata": {
        "id": "7TEfgmn-Sy1r",
        "colab_type": "text"
      },
      "source": [
        "다이아몬드 데이터는 다이아몬드와 관련된 정보들이 기록한 데이터 세트다.\n",
        "- carat(캐럿), cut(절단면 품질), color(색상), clarity(투명도), depth(깊이 백분율), table(테이블 면의 너비 백분율), price(가격), x(길이), y(너비), z(깊이)로 총 10 개의 속성을 가지고 있다.\n",
        "\n",
        "각 범주에 대한 간단한 설명은 다음과 같다.\n",
        "- carat(캐럿)은 다이아몬드 등의 보석의 질량을 재는 단위이며 1 캐럿은 200mg에 해당한다.\n",
        "- cut(절단면 품질)의 범주는 'Fair', 'Good', Very Good, Premium, Ideal을 가지며 뒤로 갈수록 좋은 품질을 의미한다.\n",
        "- color(색상)의 범주는 알파벳 'D' 부터 'J' 까지의 범주를 가지는데 'D' 는 무색 다이아몬드를 의미하며 뒤로 갈수록 옅은 색을 가진다.\n",
        "- clarity(투명도)는 다이아몬드의 투명도로 매긴 등급으로 'IF', 'Vvs1', 'vvs2', 'vs1', 'vs2', 'sl1', 'sl2', 'I1' 범주를 가지며 뒤로 갈수록 낮은 투명도를 의미한다.\n",
        "- depth(깊이 백분율)는 다이아몬드의 높이를 거들 지름 평균으로 나눈 값을 %로 표시한다.\n",
        "- table(테이블 면의 너비 백분율)은 평균 지름의 백분율로 표시한 다이아몬드 테이블의 너비를 의미한다.\n",
        "- price(가격)는 다이아몬드의 가격이며 단위는 USD이다.\n",
        "- x, y, z는 각각 다이아몬드의 길이, 너비, 깊이를 mm로 기록한 값이다."
      ]
    },
    {
      "cell_type": "code",
      "metadata": {
        "colab_type": "code",
        "id": "L98knqzsloz9",
        "colab": {}
      },
      "source": [
        "# Your answer here"
      ],
      "execution_count": null,
      "outputs": []
    },
    {
      "cell_type": "markdown",
      "metadata": {
        "id": "49es3hmXSy1u",
        "colab_type": "text"
      },
      "source": [
        "# 조인트 플롯 vs. 캣 플롯 vs.  페어 플롯"
      ]
    },
    {
      "cell_type": "markdown",
      "metadata": {
        "id": "2UXQM-lJSy1u",
        "colab_type": "text"
      },
      "source": [
        "**조인트 플롯** \n",
        "- 두 가지 종류의 그래프를 그림 하나의 내부와 외부에 각각 작성한다.\n",
        "\n",
        "**캣 플롯** \n",
        "- 한 가지 종류의 그래프를 여러 개의 서브 플롯으로 작성한다.\n",
        "- 매개변수 ***hue***, ***row***, ***col*** 에 범주형 변수명을 전달하여 범주 값에 의한 차이를 여러 개의 그래프로 그려준다. \n",
        "\n",
        "**페어 플롯**\n",
        "- 다차원 수치형 데이터에 사용한다.\n",
        "- 수치형 변수간의 관계를 여러 개의 산점도 서브플롯으로 그리며, 같은 변수가 만나는 영역은 히스토그램을 그린다. 그려지는 서브 플롯의 개수는 수치형 변수의 제곱만큼이다.\n",
        "    - 예) 'tips' 데이터로 페어 플롯을 그리면 수치형 변수들인 'total_bill', 'tip', 'size' 간의 관계를 6개의 산점도와 3개의 히스토그램으로 그려 총 9개의 서브 플롯이 작성하게 된다.\n",
        "- 페어 플롯이 수치형 데이터를 자동으로 산점도와 히스토그램으로 그려준다면 캣 플롯은 하나의 그래프를 ***hue***, ***row***, ***col*** 세 개의 범주형 변수의 범주 별로 그려준다."
      ]
    },
    {
      "cell_type": "markdown",
      "metadata": {
        "id": "Je1472zzabQB",
        "colab_type": "text"
      },
      "source": [
        "- - -\n",
        "# <font color='red'>THE END</font>"
      ]
    }
  ]
}