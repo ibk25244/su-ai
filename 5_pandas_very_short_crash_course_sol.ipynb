{
  "nbformat": 4,
  "nbformat_minor": 0,
  "metadata": {
    "anaconda-cloud": {},
    "celltoolbar": "Slideshow",
    "hide_input": false,
    "kernelspec": {
      "display_name": "Python 3",
      "language": "python",
      "name": "python3"
    },
    "language_info": {
      "codemirror_mode": {
        "name": "ipython",
        "version": 3
      },
      "file_extension": ".py",
      "mimetype": "text/x-python",
      "name": "python",
      "nbconvert_exporter": "python",
      "pygments_lexer": "ipython3",
      "version": "3.8.2"
    },
    "toc": {
      "base_numbering": 1,
      "nav_menu": {},
      "number_sections": true,
      "sideBar": true,
      "skip_h1_title": false,
      "title_cell": "Table of Contents",
      "title_sidebar": "Contents",
      "toc_cell": true,
      "toc_position": {},
      "toc_section_display": "block",
      "toc_window_display": false
    },
    "varInspector": {
      "cols": {
        "lenName": 16,
        "lenType": 16,
        "lenVar": 40
      },
      "kernels_config": {
        "python": {
          "delete_cmd_postfix": "",
          "delete_cmd_prefix": "del ",
          "library": "var_list.py",
          "varRefreshCmd": "print(var_dic_list())"
        },
        "r": {
          "delete_cmd_postfix": ") ",
          "delete_cmd_prefix": "rm(",
          "library": "var_list.r",
          "varRefreshCmd": "cat(var_dic_list()) "
        }
      },
      "types_to_exclude": [
        "module",
        "function",
        "builtin_function_or_method",
        "instance",
        "_Feature"
      ],
      "window_display": false
    },
    "colab": {
      "name": "5.pandas-very-short-crash-course-sol",
      "provenance": [],
      "collapsed_sections": [],
      "toc_visible": true,
      "include_colab_link": true
    }
  },
  "cells": [
    {
      "cell_type": "markdown",
      "metadata": {
        "id": "view-in-github",
        "colab_type": "text"
      },
      "source": [
        "<a href=\"https://colab.research.google.com/github/ibk25244/su-ai/blob/master/5_pandas_very_short_crash_course_sol.ipynb\" target=\"_parent\"><img src=\"https://colab.research.google.com/assets/colab-badge.svg\" alt=\"Open In Colab\"/></a>"
      ]
    },
    {
      "cell_type": "markdown",
      "metadata": {
        "id": "hapcT4oEmsKK",
        "colab_type": "text"
      },
      "source": [
        "- - -\n",
        "\n",
        "<font size=6 color='royalblue'>판다스 극초단기 입문</font>\n",
        "\n",
        "<font size=5 color='forestgreen'>Pandas Primer: A Very Short Crash Course</font> \n",
        "\n",
        "* * *\n",
        "\n",
        "**<font size=4>박 진 수</font>** 교수  \n",
        "Intelligent Data Semantics Lab  \n",
        "Seoul National University\n",
        "\n",
        "- - -"
      ]
    },
    {
      "cell_type": "markdown",
      "metadata": {
        "id": "wmSyTr8pnv2G",
        "colab_type": "toc"
      },
      "source": [
        ">[판다스(Pandas)란?](#scrollTo=KoP5rVzMmsKL)\n",
        "\n",
        ">[관련 모듈 불러오기](#scrollTo=RhpsqBd-msKM)\n",
        "\n",
        ">[판다스 시리즈(Series)](#scrollTo=hX5ZQSYPmsKS)\n",
        "\n",
        ">>[Lab: __TODO__ 채우기](#scrollTo=uLpQj2VHmsKv)\n",
        "\n",
        ">[판다스 데이터프레임(DataFrame)](#scrollTo=eto6svfUmsLO)\n",
        "\n",
        ">>[Lab: 데이터프레임 구성하기](#scrollTo=6j_LLgRumsL7)\n",
        "\n",
        ">[데이터 호출 및 저장](#scrollTo=Xdw8F2dN2qDW)\n",
        "\n",
        ">>[실습 파일 내려받기](#scrollTo=xQlb6YCAY2Vn)\n",
        "\n",
        ">>[CSV와 텍스트 데이터](#scrollTo=BmMRa9UaY2Vs)\n",
        "\n",
        ">>[엑셀 데이터 불러오기](#scrollTo=-wJc3kTWY2Wc)\n",
        "\n",
        ">>>[Lab: 엑셀 파일을 데이터프레임으로 불러오기](#scrollTo=aaRMilt1Y2Wj)\n",
        "\n",
        ">>[HTML 파일 불러오기](#scrollTo=t9BfDPXzY2Wo)\n",
        "\n",
        ">>[JSON 파일 불러오기](#scrollTo=UdhaPHaKY2W3)\n",
        "\n",
        ">>[클립보드 내용 불러오기](#scrollTo=P0TItuHOY2XI)\n",
        "\n",
        ">>[데이터 저장하기](#scrollTo=YGYoCDfuY2XJ)\n",
        "\n",
        ">>>[Lab: 데이터프레임을 엑셀 파일로 저장하기](#scrollTo=DuzG_ZZrY2XW)\n",
        "\n",
        ">[데이터프레임 열람](#scrollTo=tJT2FfE3msMD)\n",
        "\n",
        ">[데이터프레임 인덱스](#scrollTo=wayBOMZXmsOG)\n",
        "\n",
        ">[데이터프레임 갱신](#scrollTo=OOB9hmdcmsOX)\n",
        "\n",
        ">[데이터프레임 병합](#scrollTo=Bcy9f-XSmsO-)\n",
        "\n",
        ">>[concat() 메소드](#scrollTo=bV2TFmDdmsO-)\n",
        "\n",
        ">>[merge() 메소드](#scrollTo=VOScPofDmsPR)\n",
        "\n",
        ">[피벗 테이블](#scrollTo=gWlDrFHL7srs)\n",
        "\n",
        ">[THE END](#scrollTo=UO5CCoeGmsPZ)\n",
        "\n"
      ]
    },
    {
      "cell_type": "markdown",
      "metadata": {
        "id": "KoP5rVzMmsKL",
        "colab_type": "text"
      },
      "source": [
        "# 판다스(Pandas)란?"
      ]
    },
    {
      "cell_type": "markdown",
      "metadata": {
        "id": "97Tip_1CmsKL",
        "colab_type": "text"
      },
      "source": [
        "데이터 전처리와 준비를 효과적으로 할 수 있도록 도와주는 파이썬 라이브러리다.\n",
        "- 파이썬 데이터 분석 라이브러리(**P**ytho**n** **D**ata **A**nalysi**s** Library)\n",
        "    - 또는 패널 데이터 분석(**Pan**el **D**ata **A**nalysi**s** Library)\n",
        "- 재무 데이터에 대한 정량 분석을 위해 2008년 AQR 캐피탈 매니지먼트 소속의 웨스 맥키니(Wes McKinney)가 개발한 유연한 고성능 파이썬 툴이다.\n",
        "- 비시계열 데이터 뿐만 아니라 시계열 데이터를 다룰 수 있는 기능을 제공하고 있다.\n",
        "- 엑셀의 시트와 같은 '관계형' 또는 '테이블 형' 데이터인 '데이터프레임(DataFrame)'을 활용하여 데이터를 쉽게 처리할 수 있다.\n",
        "- 넘파이(NumPy)에 기반하고 있다.\n",
        "    - Numpy는 계산과학(computation science)분야에서 자주 활용하는 파이썬 라이브러리다.\n",
        "    - NumPy와 통합하여 사용하기 위해 설계되었다.\n",
        "- 판다스는 Numpy보다 더 복잡한 형태의 자료인 시리즈(Series), 데이터프레임(DataFrame) 등을 다루지만, Numpy를 이용해 만든 배열(array) 자료를 이용해서 시리즈(Series)나 데이터프레임(DataFrame) 자료를 생성하거나 수정할 수 있다. \n",
        "- 판다스의 **기본 데이터 구조**는 두 개다.\n",
        "    - **시리즈**(Series)\n",
        "    - **데이터프레임**(DataFrame)\n",
        "- Documentation\n",
        "    - <http://pandas.pydata.org/pandas-docs/stable/> "
      ]
    },
    {
      "cell_type": "markdown",
      "metadata": {
        "id": "RhpsqBd-msKM",
        "colab_type": "text"
      },
      "source": [
        "# 관련 모듈 불러오기"
      ]
    },
    {
      "cell_type": "markdown",
      "metadata": {
        "id": "-s_v4P4XmsKP",
        "colab_type": "text"
      },
      "source": [
        "**import pandas**로 pandas를 불러와서 사용해야 한다.\n",
        "- 주로 **import pandas as pd**로 pandas를 불러와서, 짧게 *pd*로 사용하는 경우가 많다."
      ]
    },
    {
      "cell_type": "code",
      "metadata": {
        "id": "GG1LTsolmsKP",
        "colab_type": "code",
        "colab": {
          "base_uri": "https://localhost:8080/",
          "height": 52
        },
        "outputId": "fd322d68-3cda-46c9-da06-6f1d0b9474cf"
      },
      "source": [
        "import pandas  # as pd\n",
        "import numpy   # as np \n",
        "\n",
        "print('Pandas version...:', pandas.__version__)\n",
        "print('NumPy version....:', numpy.__version__)"
      ],
      "execution_count": null,
      "outputs": [
        {
          "output_type": "stream",
          "text": [
            "Pandas version...: 1.0.5\n",
            "NumPy version....: 1.18.5\n"
          ],
          "name": "stdout"
        }
      ]
    },
    {
      "cell_type": "markdown",
      "metadata": {
        "id": "hX5ZQSYPmsKS",
        "colab_type": "text"
      },
      "source": [
        "# 판다스 시리즈(Series)"
      ]
    },
    {
      "cell_type": "markdown",
      "metadata": {
        "id": "GN-u-7_imsKS",
        "colab_type": "text"
      },
      "source": [
        "**시리즈**(Series)란?\n",
        "- 1차원 데이터를 표현하는 판다스의 자료구조다.\n",
        "    + 인텍스(index)가 있는 1차원 리스트 또는 배열\n",
        "        - 인덱스(index)와 데이터 값(value)으로 구성되어 있다.\n",
        "        - 시리즈 이름('name')을 설정할 수 있다.\n",
        "- 넘파이(NumPy)의 1차원 배열(array)과 유사하지만 넘파이(NumPy)의 1차원 배열과는 다르게 이종 자료형도 시리즈(Series) 내에 담을 수 있다.\n",
        "- 엑셀의 스프레드시트와 같은 데이터에서 하나의 행, 혹은 열을 나타낸다.\n",
        "\n",
        "[pandas.Series](https://pandas.pydata.org/pandas-docs/stable/reference/series.html)\n",
        "- One-dimensional ndarray with axis labels (including time series)\n",
        "- [pandas.**Series**(*data=None, index=None, dtype=None, name=None, copy=False, fastpath=False*)](https://pandas.pydata.org/pandas-docs/stable/reference/api/pandas.Series.html#pandas.Series)\n",
        "    - ***data*** : *array-like, Iterable, dict, or scalar value*\n",
        "        - Contains data stored in Series.\n",
        "        - If data is a dict, argument order is maintained for Python 3.6 and later.\n",
        "    - ***index*** : *array-like or Index (1d)*\n",
        "        - Values must be hashable and have the same length as *data*. Non-unique index values are allowed. Will default to RangeIndex (0, 1, 2, …, n) if not provided. If both a dict and index sequence are used, the index will override the keys found in the dict."
      ]
    },
    {
      "cell_type": "markdown",
      "metadata": {
        "id": "6Hkl1gU4msKT",
        "colab_type": "text"
      },
      "source": [
        "**<font size='+1'>시리즈 구성하기</font>**"
      ]
    },
    {
      "cell_type": "markdown",
      "metadata": {
        "id": "t3AxRv3lmsKT",
        "colab_type": "text"
      },
      "source": [
        "[pandas.Series](https://pandas.pydata.org/pandas-docs/stable/reference/api/pandas.Series.html)\n",
        "- One-dimensional ndarray with axis labels (including time series).\n",
        "- *class* pandas.**Series**(*data=None, index=None, dtype=None, name=None, copy=False, fastpath=False*)\n",
        "    + ***data*** 에는\n",
        "        - 리스트\n",
        "        - 딕셔너리\n",
        "        - 튜플\n",
        "        - Scalar 값 (숫자, 문자열 등)\n",
        "    + 등이 들어갈 수 있다."
      ]
    },
    {
      "cell_type": "markdown",
      "metadata": {
        "id": "pRK-N40nmsKT",
        "colab_type": "text"
      },
      "source": [
        "파이썬 리스트와 비슷하지만 파이썬 딕셔너리의 역할도 한다."
      ]
    },
    {
      "cell_type": "markdown",
      "metadata": {
        "id": "hCuc5Yw9msKU",
        "colab_type": "text"
      },
      "source": [
        "예로 다음과 같은 주식 데이터가 있다고 가정하자.\n",
        "\n",
        "| Date | Company A |\n",
        "|------|-----------|\n",
        "|2025-5-12| 52600|\n",
        "|2025-5-13| 52400|\n",
        "|2025-5-14| 52100|\n",
        "|2025-5-15| 52300|\n",
        "|2025-5-16| 52500|"
      ]
    },
    {
      "cell_type": "markdown",
      "metadata": {
        "id": "Xi4o3Lq9msKU",
        "colab_type": "text"
      },
      "source": [
        "**판다스 시리즈**는\n",
        "\n",
        "- 인덱스와 값을 동시에 저장한다.\n",
        "- 뿐만 아니라 내가 원하는 인덱스를 지정하는 것도 가능하다.\n",
        "- 인덱스와 값으로 저장하기 때문에, 인덱스를 이용해 데이터를 검색할 수 있다.\n",
        "- 이는 파이썬의 딕셔너리(dictionary)와 비슷하다."
      ]
    },
    {
      "cell_type": "code",
      "metadata": {
        "scrolled": true,
        "id": "-fn2ZrKvmsKV",
        "colab_type": "code",
        "colab": {
          "base_uri": "https://localhost:8080/",
          "height": 121
        },
        "outputId": "981d06b3-1e8a-449f-d237-760e2a2def0d"
      },
      "source": [
        "# 판다스 시리저는 자동으로 인덱스과 값을 동시에 저장한다.\n",
        "stock_price = pandas.Series([52600, 52400, 52100, 52300, 52500])\n",
        "stock_price"
      ],
      "execution_count": null,
      "outputs": [
        {
          "output_type": "execute_result",
          "data": {
            "text/plain": [
              "0    52600\n",
              "1    52400\n",
              "2    52100\n",
              "3    52300\n",
              "4    52500\n",
              "dtype: int64"
            ]
          },
          "metadata": {
            "tags": []
          },
          "execution_count": 3
        }
      ]
    },
    {
      "cell_type": "code",
      "metadata": {
        "id": "5OS20lFtmsKX",
        "colab_type": "code",
        "colab": {
          "base_uri": "https://localhost:8080/",
          "height": 69
        },
        "outputId": "b62f1805-664c-40b7-98a9-0b9287e57502"
      },
      "source": [
        "# --- 원하는 인덱스를 지정하는 것도 가능하다.\n",
        "# (1) 날짜 인덱스를 생성한다.\n",
        "dates = pandas.date_range('2025-5-12', periods=5)\n",
        "dates"
      ],
      "execution_count": null,
      "outputs": [
        {
          "output_type": "execute_result",
          "data": {
            "text/plain": [
              "DatetimeIndex(['2025-05-12', '2025-05-13', '2025-05-14', '2025-05-15',\n",
              "               '2025-05-16'],\n",
              "              dtype='datetime64[ns]', freq='D')"
            ]
          },
          "metadata": {
            "tags": []
          },
          "execution_count": 4
        }
      ]
    },
    {
      "cell_type": "markdown",
      "metadata": {
        "id": "AqyaSTDBmsKZ",
        "colab_type": "text"
      },
      "source": [
        "[pandas.date_range](https://pandas.pydata.org/pandas-docs/stable/reference/api/pandas.date_range.html#pandas.date_range)\n",
        "- Return a fixed frequency DatetimeIndex.\n",
        "- pandas.**date_range**(*start=None, end=None, periods=None, freq=None, tz=None, normalize=False, name=None, closed=None, \\**kwargs*)"
      ]
    },
    {
      "cell_type": "code",
      "metadata": {
        "id": "NDs4dX59msKZ",
        "colab_type": "code",
        "colab": {
          "base_uri": "https://localhost:8080/",
          "height": 121
        },
        "outputId": "5fea4eaa-0d9e-4be8-98fb-a0582978461b"
      },
      "source": [
        "# (2) 날짜를 인덱스로 지정한다.\n",
        "stock_price = pandas.Series([52600, 52400, 52100, 52300, 52500], \n",
        "                            index=dates)\n",
        "stock_price"
      ],
      "execution_count": null,
      "outputs": [
        {
          "output_type": "execute_result",
          "data": {
            "text/plain": [
              "2025-05-12    52600\n",
              "2025-05-13    52400\n",
              "2025-05-14    52100\n",
              "2025-05-15    52300\n",
              "2025-05-16    52500\n",
              "Freq: D, dtype: int64"
            ]
          },
          "metadata": {
            "tags": []
          },
          "execution_count": 5
        }
      ]
    },
    {
      "cell_type": "code",
      "metadata": {
        "id": "ZhB37mCXmsKb",
        "colab_type": "code",
        "colab": {
          "base_uri": "https://localhost:8080/",
          "height": 35
        },
        "outputId": "b5c968c5-99ce-44bd-b59b-f4f4350d279b"
      },
      "source": [
        "# 인덱스와 값으로 저장하기 때문에\n",
        "# 인덱스 문자열을 이용해 데이터를 검색할 수 있다.\n",
        "# 이는 파이썬의 딕셔너리(dictionary)와 비슷하다.\n",
        "stock_price['2025-5-15']"
      ],
      "execution_count": null,
      "outputs": [
        {
          "output_type": "execute_result",
          "data": {
            "text/plain": [
              "52300"
            ]
          },
          "metadata": {
            "tags": []
          },
          "execution_count": 6
        }
      ]
    },
    {
      "cell_type": "code",
      "metadata": {
        "id": "YmZwgcE7msKd",
        "colab_type": "code",
        "colab": {
          "base_uri": "https://localhost:8080/",
          "height": 104
        },
        "outputId": "b49edc5b-540c-4d97-f33c-ff6273bde00b"
      },
      "source": [
        "# 인덱스에 접근하려면 .index\n",
        "for date in stock_price.index:\n",
        "  print(date)"
      ],
      "execution_count": null,
      "outputs": [
        {
          "output_type": "stream",
          "text": [
            "2025-05-12 00:00:00\n",
            "2025-05-13 00:00:00\n",
            "2025-05-14 00:00:00\n",
            "2025-05-15 00:00:00\n",
            "2025-05-16 00:00:00\n"
          ],
          "name": "stdout"
        }
      ]
    },
    {
      "cell_type": "code",
      "metadata": {
        "id": "rDJ57WPZmsKe",
        "colab_type": "code",
        "colab": {
          "base_uri": "https://localhost:8080/",
          "height": 104
        },
        "outputId": "e5644b45-7df2-4143-d580-1c26869bb913"
      },
      "source": [
        "# 인덱스의 값에 접근하려면 .to_numpy() 또는 .values\n",
        "for value in stock_price.to_numpy():\n",
        "  print(value)"
      ],
      "execution_count": null,
      "outputs": [
        {
          "output_type": "stream",
          "text": [
            "52600\n",
            "52400\n",
            "52100\n",
            "52300\n",
            "52500\n"
          ],
          "name": "stdout"
        }
      ]
    },
    {
      "cell_type": "markdown",
      "metadata": {
        "id": "hEprnXx-msKg",
        "colab_type": "text"
      },
      "source": [
        "**<font size='+1'>Not a Number</font>**"
      ]
    },
    {
      "cell_type": "markdown",
      "metadata": {
        "id": "FPgeYLdbmsKh",
        "colab_type": "text"
      },
      "source": [
        "**numpy.nan**를 통해 **NaN(Not a Number)** 표현이 가능하다.  **NaN** 은 정의할 수 없는 숫자를 나타내는 말로서 \n",
        "- 연산을 수행한 후 그 결과 값을 숫자로 표현할 수 없는 실수(float) 값 또는\n",
        "- 판다스에서 결측치(missing data)를 의미할 때 사용한다."
      ]
    },
    {
      "cell_type": "code",
      "metadata": {
        "id": "oQgylXcmmsKh",
        "colab_type": "code",
        "colab": {
          "base_uri": "https://localhost:8080/",
          "height": 138
        },
        "outputId": "806c031a-2897-4b6e-ce15-b99524025ed9"
      },
      "source": [
        "# numpy.nan이 있으면 자료형은 실수다.\n",
        "s1 = pandas.Series([1, 2, 3, numpy.nan, 4, 5])\n",
        "s1"
      ],
      "execution_count": null,
      "outputs": [
        {
          "output_type": "execute_result",
          "data": {
            "text/plain": [
              "0    1.0\n",
              "1    2.0\n",
              "2    3.0\n",
              "3    NaN\n",
              "4    4.0\n",
              "5    5.0\n",
              "dtype: float64"
            ]
          },
          "metadata": {
            "tags": []
          },
          "execution_count": 9
        }
      ]
    },
    {
      "cell_type": "markdown",
      "metadata": {
        "id": "HRoOXh0VmsKj",
        "colab_type": "text"
      },
      "source": [
        "**<font size='+1'>이종 자료형</font>**"
      ]
    },
    {
      "cell_type": "markdown",
      "metadata": {
        "id": "fXtyHdhcmsKj",
        "colab_type": "text"
      },
      "source": [
        "numpy의 배열과 달리 이종 자료형도 시리즈 내에 담을 수 있다.\n",
        "- 이런 점에서는 파이썬 리스트와 유사하다."
      ]
    },
    {
      "cell_type": "code",
      "metadata": {
        "id": "CkLEczY6msKk",
        "colab_type": "code",
        "colab": {
          "base_uri": "https://localhost:8080/",
          "height": 155
        },
        "outputId": "5c9f158b-48d6-49c6-d4e1-d33d0e110aec"
      },
      "source": [
        "# numpy의 배열과 달리 이종 자료형도 담을 수 있다. 이 경우 자료형은 object이다.\n",
        "s2 = pandas.Series([1, 4, 7, 8, 9, 10, 'a'])\n",
        "s2"
      ],
      "execution_count": null,
      "outputs": [
        {
          "output_type": "execute_result",
          "data": {
            "text/plain": [
              "0     1\n",
              "1     4\n",
              "2     7\n",
              "3     8\n",
              "4     9\n",
              "5    10\n",
              "6     a\n",
              "dtype: object"
            ]
          },
          "metadata": {
            "tags": []
          },
          "execution_count": 10
        }
      ]
    },
    {
      "cell_type": "markdown",
      "metadata": {
        "id": "0ZPpqasOmsKl",
        "colab_type": "text"
      },
      "source": [
        "**<font size='+1'>시리즈 인덱싱</font>**"
      ]
    },
    {
      "cell_type": "markdown",
      "metadata": {
        "id": "pYCd1NeRmsKm",
        "colab_type": "text"
      },
      "source": [
        "두 시리즈에서 \n",
        "- 각 시리즈 객체의 인덱싱 순서는 다를 수 있지만, \n",
        "- 같은 인덱스끼리는 연산을 수행한다."
      ]
    },
    {
      "cell_type": "code",
      "metadata": {
        "id": "LD7U3CKfmsKm",
        "colab_type": "code",
        "colab": {
          "base_uri": "https://localhost:8080/",
          "height": 86
        },
        "outputId": "5d86a88c-8749-4193-e9a3-b7a7b3c88d43"
      },
      "source": [
        "student1 = pandas.Series([91, 73, 60], \n",
        "                         index=['english', 'math', 'science'])\n",
        "student1"
      ],
      "execution_count": null,
      "outputs": [
        {
          "output_type": "execute_result",
          "data": {
            "text/plain": [
              "english    91\n",
              "math       73\n",
              "science    60\n",
              "dtype: int64"
            ]
          },
          "metadata": {
            "tags": []
          },
          "execution_count": 11
        }
      ]
    },
    {
      "cell_type": "code",
      "metadata": {
        "id": "MhX8MPY_msKo",
        "colab_type": "code",
        "colab": {
          "base_uri": "https://localhost:8080/",
          "height": 86
        },
        "outputId": "d4e98a3e-5936-4743-95ec-98bf7406c9b8"
      },
      "source": [
        "student2 = pandas.Series([84, 55, 90], \n",
        "                         index=['science', 'english', 'math'])\n",
        "student2"
      ],
      "execution_count": null,
      "outputs": [
        {
          "output_type": "execute_result",
          "data": {
            "text/plain": [
              "science    84\n",
              "english    55\n",
              "math       90\n",
              "dtype: int64"
            ]
          },
          "metadata": {
            "tags": []
          },
          "execution_count": 12
        }
      ]
    },
    {
      "cell_type": "code",
      "metadata": {
        "id": "ae1d7KwqmsKp",
        "colab_type": "code",
        "colab": {
          "base_uri": "https://localhost:8080/",
          "height": 86
        },
        "outputId": "d68f94cf-1cc4-4e6b-b0f7-a1db23e7c571"
      },
      "source": [
        "student1 + student2"
      ],
      "execution_count": null,
      "outputs": [
        {
          "output_type": "execute_result",
          "data": {
            "text/plain": [
              "english    146\n",
              "math       163\n",
              "science    144\n",
              "dtype: int64"
            ]
          },
          "metadata": {
            "tags": []
          },
          "execution_count": 13
        }
      ]
    },
    {
      "cell_type": "markdown",
      "metadata": {
        "id": "BLksCZgLmsKr",
        "colab_type": "text"
      },
      "source": [
        "***시리즈가 담고 있는 객체의 수가 다르면?***"
      ]
    },
    {
      "cell_type": "code",
      "metadata": {
        "id": "ghsUxpLImsKs",
        "colab_type": "code",
        "colab": {
          "base_uri": "https://localhost:8080/",
          "height": 104
        },
        "outputId": "91982528-fc24-4039-cce0-c9fe7979939a"
      },
      "source": [
        "student3 = pandas.Series([99, 84, 55, 90], \n",
        "                         index=['music', 'science', 'english', 'math'])\n",
        "student3"
      ],
      "execution_count": null,
      "outputs": [
        {
          "output_type": "execute_result",
          "data": {
            "text/plain": [
              "music      99\n",
              "science    84\n",
              "english    55\n",
              "math       90\n",
              "dtype: int64"
            ]
          },
          "metadata": {
            "tags": []
          },
          "execution_count": 14
        }
      ]
    },
    {
      "cell_type": "code",
      "metadata": {
        "id": "k011JaixmsKt",
        "colab_type": "code",
        "colab": {
          "base_uri": "https://localhost:8080/",
          "height": 104
        },
        "outputId": "4e251d43-1663-43e2-a588-e36a314d7285"
      },
      "source": [
        "student1 + student3"
      ],
      "execution_count": null,
      "outputs": [
        {
          "output_type": "execute_result",
          "data": {
            "text/plain": [
              "english    146.0\n",
              "math       163.0\n",
              "music        NaN\n",
              "science    144.0\n",
              "dtype: float64"
            ]
          },
          "metadata": {
            "tags": []
          },
          "execution_count": 15
        }
      ]
    },
    {
      "cell_type": "markdown",
      "metadata": {
        "id": "uLpQj2VHmsKv",
        "colab_type": "text"
      },
      "source": [
        "## Lab: \\_\\_TODO__ 채우기"
      ]
    },
    {
      "cell_type": "markdown",
      "metadata": {
        "id": "CoivuYJrmsKv",
        "colab_type": "text"
      },
      "source": [
        "**<font size='+1'>리스트로 시리즈 구성</font>**"
      ]
    },
    {
      "cell_type": "code",
      "metadata": {
        "id": "YNqJuEyjmsK1",
        "colab_type": "code",
        "colab": {
          "base_uri": "https://localhost:8080/",
          "height": 119
        },
        "outputId": "53e9bf9c-bac0-4fa9-9dbb-ac3437f1d254"
      },
      "source": [
        "import pandas\n",
        "\n",
        "# 리스트로 시리즈를 구성한다.\n",
        "# 인덱스 값을 지정하지 않으면 0부터 자동으로 인덱스가 부여된다.\n",
        "L = list('abcde')\n",
        "\n",
        "s = pandas.Series(L)\n",
        "print(s)"
      ],
      "execution_count": null,
      "outputs": [
        {
          "output_type": "stream",
          "text": [
            "0    a\n",
            "1    b\n",
            "2    c\n",
            "3    d\n",
            "4    e\n",
            "dtype: object\n"
          ],
          "name": "stdout"
        }
      ]
    },
    {
      "cell_type": "markdown",
      "metadata": {
        "id": "MaB9km-QmsK2",
        "colab_type": "text"
      },
      "source": [
        "**<font size='+1'>시리즈 인덱싱</font>**"
      ]
    },
    {
      "cell_type": "code",
      "metadata": {
        "id": "qPXTnFSamsK5",
        "colab_type": "code",
        "colab": {
          "base_uri": "https://localhost:8080/",
          "height": 221
        },
        "outputId": "0d272571-0599-4f05-d131-f12b99d2ab18"
      },
      "source": [
        "# 인덱스를 명시적으로 지정하여 시리즈를 구성한다.\n",
        "# 인덱스의 길이는 리스트의 길이와 같아야 한다.\n",
        "s1 = pandas.Series(L, index=['string', 3, 0.98, True, -5])\n",
        "print(s1)\n",
        "\n",
        "s2 = pandas.Series(L, index=range(10, 15))\n",
        "print(s2)"
      ],
      "execution_count": null,
      "outputs": [
        {
          "output_type": "stream",
          "text": [
            "string    a\n",
            "3         b\n",
            "0.98      c\n",
            "True      d\n",
            "-5        e\n",
            "dtype: object\n",
            "10    a\n",
            "11    b\n",
            "12    c\n",
            "13    d\n",
            "14    e\n",
            "dtype: object\n"
          ],
          "name": "stdout"
        }
      ]
    },
    {
      "cell_type": "markdown",
      "metadata": {
        "id": "MoJAt1memsK7",
        "colab_type": "text"
      },
      "source": [
        "**<font size='+1'>딕셔너리로 시리즈 구성</font>**"
      ]
    },
    {
      "cell_type": "code",
      "metadata": {
        "id": "U9uzWSjrmsK9",
        "colab_type": "code",
        "colab": {
          "base_uri": "https://localhost:8080/",
          "height": 119
        },
        "outputId": "8a30aa2f-8d3c-4cc9-dc02-98615c288072"
      },
      "source": [
        "# 딕셔너리로 시리즈를 구성한다.\n",
        "# 딕셔너리의 키가 생성된 시리즈의 인덱스가 된다.\n",
        "d = {\n",
        "  'english': 55,\n",
        "  'math' : 'I',\n",
        "  'science' : 'P',\n",
        "  'music' : 99,\n",
        "  'python' : [89, 72, 91, 85, 88]\n",
        "}\n",
        "\n",
        "s3 = pandas.Series(d)\n",
        "print(s3)"
      ],
      "execution_count": null,
      "outputs": [
        {
          "output_type": "stream",
          "text": [
            "english                      55\n",
            "math                          I\n",
            "science                       P\n",
            "music                        99\n",
            "python     [89, 72, 91, 85, 88]\n",
            "dtype: object\n"
          ],
          "name": "stdout"
        }
      ]
    },
    {
      "cell_type": "markdown",
      "metadata": {
        "id": "enmKP21FmsK_",
        "colab_type": "text"
      },
      "source": [
        "**<font size='+1'>특정 인덱스만 선택하여 시리즈 구성</font>**"
      ]
    },
    {
      "cell_type": "code",
      "metadata": {
        "id": "9rDvSA1FmsLB",
        "colab_type": "code",
        "colab": {
          "base_uri": "https://localhost:8080/",
          "height": 85
        },
        "outputId": "dd4a6a81-74cb-46d9-92ee-a4e506f8f648"
      },
      "source": [
        "# 특정 인덱스만 선택하여 시리즈를 구성한다.\n",
        "s4 = pandas.Series(d, index=['python', 'music', 'math'])\n",
        "print(s4)"
      ],
      "execution_count": null,
      "outputs": [
        {
          "output_type": "stream",
          "text": [
            "python    [89, 72, 91, 85, 88]\n",
            "music                       99\n",
            "math                         I\n",
            "dtype: object\n"
          ],
          "name": "stdout"
        }
      ]
    },
    {
      "cell_type": "markdown",
      "metadata": {
        "id": "2iui7sIEmsLD",
        "colab_type": "text"
      },
      "source": [
        "**<font size='+1'>튜플로 시리즈 구성</font>**"
      ]
    },
    {
      "cell_type": "code",
      "metadata": {
        "id": "s2cKvvu3msLF",
        "colab_type": "code",
        "colab": {
          "base_uri": "https://localhost:8080/",
          "height": 119
        },
        "outputId": "57830275-2a60-4af7-cba8-258dfa85c55d"
      },
      "source": [
        "# 튜플로 시리즈를 구성한다.\n",
        "t = 101, 201, 301, 401, 501\n",
        "\n",
        "s5 = pandas.Series(t)\n",
        "print(s5)"
      ],
      "execution_count": null,
      "outputs": [
        {
          "output_type": "stream",
          "text": [
            "0    101\n",
            "1    201\n",
            "2    301\n",
            "3    401\n",
            "4    501\n",
            "dtype: int64\n"
          ],
          "name": "stdout"
        }
      ]
    },
    {
      "cell_type": "markdown",
      "metadata": {
        "id": "nO_2yQU1msLH",
        "colab_type": "text"
      },
      "source": [
        "**<font size='+1'>스칼라(scalar) 값으로 시리즈 구성</font>**"
      ]
    },
    {
      "cell_type": "code",
      "metadata": {
        "id": "Aw3f-QDhmsLJ",
        "colab_type": "code",
        "colab": {
          "base_uri": "https://localhost:8080/",
          "height": 272
        },
        "outputId": "dfcb3eab-62db-462b-a1dc-256780df9fe6"
      },
      "source": [
        "# 정수 한 개로 시리즈를 구성한다.\n",
        "s6 = pandas.Series(55)\n",
        "print(s6)\n",
        "\n",
        "# 실수 한 개로 시리즈를 구성한다.\n",
        "s7 = pandas.Series(3.14)\n",
        "print(s7)\n",
        "\n",
        "# 문자열 한 개로 시리즈를 구성한다.\n",
        "# 인덱스에 리스트 값을 지정하면 인덱스 리스트 크기의 시리즈를 구성할 수 있다.\n",
        "s8 = pandas.Series('value', index=range(10))\n",
        "print(s8)"
      ],
      "execution_count": null,
      "outputs": [
        {
          "output_type": "stream",
          "text": [
            "0    55\n",
            "dtype: int64\n",
            "0    3.14\n",
            "dtype: float64\n",
            "0    value\n",
            "1    value\n",
            "2    value\n",
            "3    value\n",
            "4    value\n",
            "5    value\n",
            "6    value\n",
            "7    value\n",
            "8    value\n",
            "9    value\n",
            "dtype: object\n"
          ],
          "name": "stdout"
        }
      ]
    },
    {
      "cell_type": "markdown",
      "metadata": {
        "id": "ZQ574M6jmsLK",
        "colab_type": "text"
      },
      "source": [
        "**<font size='+1'>시리즈 이름 설정</font>**"
      ]
    },
    {
      "cell_type": "code",
      "metadata": {
        "id": "-GBzar_kmsLN",
        "colab_type": "code",
        "colab": {
          "base_uri": "https://localhost:8080/",
          "height": 221
        },
        "outputId": "0c430906-ee41-4683-c5ad-6f4d8c918c41"
      },
      "source": [
        "# 시리즈의 name을 설정할 수 있다.\n",
        "s9 = pandas.Series(L, name='알파벳')\n",
        "print(s9)\n",
        "\n",
        "# 다른 name으로 바꿀 수도 있다.\n",
        "s9.name = 'alphabet'\n",
        "print(s9)"
      ],
      "execution_count": null,
      "outputs": [
        {
          "output_type": "stream",
          "text": [
            "0    a\n",
            "1    b\n",
            "2    c\n",
            "3    d\n",
            "4    e\n",
            "Name: 알파벳, dtype: object\n",
            "0    a\n",
            "1    b\n",
            "2    c\n",
            "3    d\n",
            "4    e\n",
            "Name: alphabet, dtype: object\n"
          ],
          "name": "stdout"
        }
      ]
    },
    {
      "cell_type": "markdown",
      "metadata": {
        "id": "eto6svfUmsLO",
        "colab_type": "text"
      },
      "source": [
        "# 판다스 데이터프레임(DataFrame)"
      ]
    },
    {
      "cell_type": "markdown",
      "metadata": {
        "id": "UEQ-UzXtmsLP",
        "colab_type": "text"
      },
      "source": [
        "- 2차원의 자료구조다.\n",
        "    - 2차원 배열 혹은 리스트와 유사한 자료 구조다.\n",
        "- 시리즈(Series)의 집합이다.\n",
        "- 행렬(matrix)과 같이 행(row)과 열(column)로 이루어져 있으며, 인덱스를 이용해 접근이 가능하다.\n",
        "    - 두 개의 축(axis)이 있어 행과 열을 관리한다.\n",
        "- 데이터프레임도 시리즈처럼 이종 자료형을 담을 수 있다.   \n",
        "\n",
        "[pandas.DataFrame](https://pandas.pydata.org/pandas-docs/stable/reference/frame.html)\n",
        "- Two-dimensional size-mutable, potentially heterogeneous tabular data structure with labeled axes (rows and columns). \n",
        "- [pandas.**DataFrame**(*data=None, index=None, columns=None, dtype=None, copy=False)*](https://pandas.pydata.org/pandas-docs/stable/reference/api/pandas.DataFrame.html#pandas.DataFrame)\n",
        "    + ***data*** 에는\n",
        "         - 1차원의 리스트, 딕셔너리 혹은 시리즈를 값(**value**)으로 갖는 딕셔너리\n",
        "         - 1차원의 리스트, 딕셔너리 혹은 시리즈의 리스트\n",
        "         - 시리즈(Series)\n",
        "         - 데이터프레임(DataFrame)\n",
        "    + 등이 들어갈 수 있다."
      ]
    },
    {
      "cell_type": "markdown",
      "metadata": {
        "id": "cWZV513DmsLQ",
        "colab_type": "text"
      },
      "source": [
        "**<font size='+1'>배열/리스트로 데이터프레임 구성하기</font>**"
      ]
    },
    {
      "cell_type": "code",
      "metadata": {
        "id": "Yi_oB6ylmsLQ",
        "colab_type": "code",
        "colab": {
          "base_uri": "https://localhost:8080/",
          "height": 111
        },
        "outputId": "b8596336-d4bd-4f0d-c76b-6272f3a83967"
      },
      "source": [
        "# 넘파이 배열(array)로 데이터프레임을 구성한다.\n",
        "df1 = pandas.DataFrame(numpy.zeros((2, 3)))\n",
        "df1"
      ],
      "execution_count": null,
      "outputs": [
        {
          "output_type": "execute_result",
          "data": {
            "text/html": [
              "<div>\n",
              "<style scoped>\n",
              "    .dataframe tbody tr th:only-of-type {\n",
              "        vertical-align: middle;\n",
              "    }\n",
              "\n",
              "    .dataframe tbody tr th {\n",
              "        vertical-align: top;\n",
              "    }\n",
              "\n",
              "    .dataframe thead th {\n",
              "        text-align: right;\n",
              "    }\n",
              "</style>\n",
              "<table border=\"1\" class=\"dataframe\">\n",
              "  <thead>\n",
              "    <tr style=\"text-align: right;\">\n",
              "      <th></th>\n",
              "      <th>0</th>\n",
              "      <th>1</th>\n",
              "      <th>2</th>\n",
              "    </tr>\n",
              "  </thead>\n",
              "  <tbody>\n",
              "    <tr>\n",
              "      <th>0</th>\n",
              "      <td>0.0</td>\n",
              "      <td>0.0</td>\n",
              "      <td>0.0</td>\n",
              "    </tr>\n",
              "    <tr>\n",
              "      <th>1</th>\n",
              "      <td>0.0</td>\n",
              "      <td>0.0</td>\n",
              "      <td>0.0</td>\n",
              "    </tr>\n",
              "  </tbody>\n",
              "</table>\n",
              "</div>"
            ],
            "text/plain": [
              "     0    1    2\n",
              "0  0.0  0.0  0.0\n",
              "1  0.0  0.0  0.0"
            ]
          },
          "metadata": {
            "tags": []
          },
          "execution_count": 22
        }
      ]
    },
    {
      "cell_type": "code",
      "metadata": {
        "scrolled": true,
        "id": "CcJc1ZHXmsLR",
        "colab_type": "code",
        "colab": {
          "base_uri": "https://localhost:8080/",
          "height": 111
        },
        "outputId": "a536c39f-dd50-4052-f504-82087d450799"
      },
      "source": [
        "# 파이썬 리스트 자료형으로 데이터프레임을 구성한다.\n",
        "df2 = pandas.DataFrame([[1, 2, 3], [4, 5, 6]])\n",
        "df2"
      ],
      "execution_count": null,
      "outputs": [
        {
          "output_type": "execute_result",
          "data": {
            "text/html": [
              "<div>\n",
              "<style scoped>\n",
              "    .dataframe tbody tr th:only-of-type {\n",
              "        vertical-align: middle;\n",
              "    }\n",
              "\n",
              "    .dataframe tbody tr th {\n",
              "        vertical-align: top;\n",
              "    }\n",
              "\n",
              "    .dataframe thead th {\n",
              "        text-align: right;\n",
              "    }\n",
              "</style>\n",
              "<table border=\"1\" class=\"dataframe\">\n",
              "  <thead>\n",
              "    <tr style=\"text-align: right;\">\n",
              "      <th></th>\n",
              "      <th>0</th>\n",
              "      <th>1</th>\n",
              "      <th>2</th>\n",
              "    </tr>\n",
              "  </thead>\n",
              "  <tbody>\n",
              "    <tr>\n",
              "      <th>0</th>\n",
              "      <td>1</td>\n",
              "      <td>2</td>\n",
              "      <td>3</td>\n",
              "    </tr>\n",
              "    <tr>\n",
              "      <th>1</th>\n",
              "      <td>4</td>\n",
              "      <td>5</td>\n",
              "      <td>6</td>\n",
              "    </tr>\n",
              "  </tbody>\n",
              "</table>\n",
              "</div>"
            ],
            "text/plain": [
              "   0  1  2\n",
              "0  1  2  3\n",
              "1  4  5  6"
            ]
          },
          "metadata": {
            "tags": []
          },
          "execution_count": 23
        }
      ]
    },
    {
      "cell_type": "code",
      "metadata": {
        "scrolled": true,
        "id": "3AlfG8R-msLV",
        "colab_type": "code",
        "colab": {
          "base_uri": "https://localhost:8080/",
          "height": 173
        },
        "outputId": "5cf5baef-fcc5-4ad2-b61f-c9db92840e03"
      },
      "source": [
        "# 중첩 리스트(리스트의 리스트: 2차원 리스트)로 데이터프레임을 구성한다.\n",
        "list_of_list = [\n",
        "    ['John', 'Tim', 'Elizabeth', 'Bruce', 'Nancy'],\n",
        "    ['A+', 'B-', 'F'],\n",
        "    ['M', 'M', 'F', 'M', 'F'],\n",
        "    [None, {}, 3.14, True]\n",
        "]\n",
        "\n",
        "df3 = pandas.DataFrame(list_of_list)\n",
        "df3"
      ],
      "execution_count": null,
      "outputs": [
        {
          "output_type": "execute_result",
          "data": {
            "text/html": [
              "<div>\n",
              "<style scoped>\n",
              "    .dataframe tbody tr th:only-of-type {\n",
              "        vertical-align: middle;\n",
              "    }\n",
              "\n",
              "    .dataframe tbody tr th {\n",
              "        vertical-align: top;\n",
              "    }\n",
              "\n",
              "    .dataframe thead th {\n",
              "        text-align: right;\n",
              "    }\n",
              "</style>\n",
              "<table border=\"1\" class=\"dataframe\">\n",
              "  <thead>\n",
              "    <tr style=\"text-align: right;\">\n",
              "      <th></th>\n",
              "      <th>0</th>\n",
              "      <th>1</th>\n",
              "      <th>2</th>\n",
              "      <th>3</th>\n",
              "      <th>4</th>\n",
              "    </tr>\n",
              "  </thead>\n",
              "  <tbody>\n",
              "    <tr>\n",
              "      <th>0</th>\n",
              "      <td>John</td>\n",
              "      <td>Tim</td>\n",
              "      <td>Elizabeth</td>\n",
              "      <td>Bruce</td>\n",
              "      <td>Nancy</td>\n",
              "    </tr>\n",
              "    <tr>\n",
              "      <th>1</th>\n",
              "      <td>A+</td>\n",
              "      <td>B-</td>\n",
              "      <td>F</td>\n",
              "      <td>None</td>\n",
              "      <td>None</td>\n",
              "    </tr>\n",
              "    <tr>\n",
              "      <th>2</th>\n",
              "      <td>M</td>\n",
              "      <td>M</td>\n",
              "      <td>F</td>\n",
              "      <td>M</td>\n",
              "      <td>F</td>\n",
              "    </tr>\n",
              "    <tr>\n",
              "      <th>3</th>\n",
              "      <td>None</td>\n",
              "      <td>{}</td>\n",
              "      <td>3.14</td>\n",
              "      <td>True</td>\n",
              "      <td>None</td>\n",
              "    </tr>\n",
              "  </tbody>\n",
              "</table>\n",
              "</div>"
            ],
            "text/plain": [
              "      0    1          2      3      4\n",
              "0  John  Tim  Elizabeth  Bruce  Nancy\n",
              "1    A+   B-          F   None   None\n",
              "2     M    M          F      M      F\n",
              "3  None   {}       3.14   True   None"
            ]
          },
          "metadata": {
            "tags": []
          },
          "execution_count": 24
        }
      ]
    },
    {
      "cell_type": "markdown",
      "metadata": {
        "id": "fb5hwxPKmsLX",
        "colab_type": "text"
      },
      "source": [
        "**<font size='+1'>딕셔너리로 데이터프레임 구성하기 : 기초</font>**"
      ]
    },
    {
      "cell_type": "markdown",
      "metadata": {
        "id": "t_-AaWXfmsLY",
        "colab_type": "text"
      },
      "source": [
        "- 딕셔너리 형태로 구성하는 것이 제일 간편하다."
      ]
    },
    {
      "cell_type": "markdown",
      "metadata": {
        "id": "zh65zK6OmsLY",
        "colab_type": "text"
      },
      "source": [
        "**키 = 열(컬럼) 이름**"
      ]
    },
    {
      "cell_type": "code",
      "metadata": {
        "id": "-iICRBxomsLY",
        "colab_type": "code",
        "colab": {
          "base_uri": "https://localhost:8080/",
          "height": 34
        },
        "outputId": "c7cafe46-9210-44e2-ef2a-f7ba69476781"
      },
      "source": [
        "names = ['John', 'Tim', 'Bruce']\n",
        "grades = ['A+', 'B-', 'F']\n",
        "d = {'grade': grades, 'name': names}\n",
        "d"
      ],
      "execution_count": null,
      "outputs": [
        {
          "output_type": "execute_result",
          "data": {
            "text/plain": [
              "{'grade': ['A+', 'B-', 'F'], 'name': ['John', 'Tim', 'Bruce']}"
            ]
          },
          "metadata": {
            "tags": []
          },
          "execution_count": 25
        }
      ]
    },
    {
      "cell_type": "code",
      "metadata": {
        "id": "1p_0B_shmsLc",
        "colab_type": "code",
        "colab": {
          "base_uri": "https://localhost:8080/",
          "height": 142
        },
        "outputId": "a0b85805-ae8f-474e-cc1b-c1a172519f93"
      },
      "source": [
        "# 파이썬 딕셔너리 자료형으로 데이터프레임을 생성한다.\n",
        "# 이렇게 하면 카가 열의 인덱스 값으로 사용된다.\n",
        "df4 = pandas.DataFrame(d)\n",
        "df4"
      ],
      "execution_count": null,
      "outputs": [
        {
          "output_type": "execute_result",
          "data": {
            "text/html": [
              "<div>\n",
              "<style scoped>\n",
              "    .dataframe tbody tr th:only-of-type {\n",
              "        vertical-align: middle;\n",
              "    }\n",
              "\n",
              "    .dataframe tbody tr th {\n",
              "        vertical-align: top;\n",
              "    }\n",
              "\n",
              "    .dataframe thead th {\n",
              "        text-align: right;\n",
              "    }\n",
              "</style>\n",
              "<table border=\"1\" class=\"dataframe\">\n",
              "  <thead>\n",
              "    <tr style=\"text-align: right;\">\n",
              "      <th></th>\n",
              "      <th>grade</th>\n",
              "      <th>name</th>\n",
              "    </tr>\n",
              "  </thead>\n",
              "  <tbody>\n",
              "    <tr>\n",
              "      <th>0</th>\n",
              "      <td>A+</td>\n",
              "      <td>John</td>\n",
              "    </tr>\n",
              "    <tr>\n",
              "      <th>1</th>\n",
              "      <td>B-</td>\n",
              "      <td>Tim</td>\n",
              "    </tr>\n",
              "    <tr>\n",
              "      <th>2</th>\n",
              "      <td>F</td>\n",
              "      <td>Bruce</td>\n",
              "    </tr>\n",
              "  </tbody>\n",
              "</table>\n",
              "</div>"
            ],
            "text/plain": [
              "  grade   name\n",
              "0    A+   John\n",
              "1    B-    Tim\n",
              "2     F  Bruce"
            ]
          },
          "metadata": {
            "tags": []
          },
          "execution_count": 26
        }
      ]
    },
    {
      "cell_type": "markdown",
      "metadata": {
        "id": "oyJtFVj4msLd",
        "colab_type": "text"
      },
      "source": [
        "**열(컬럼) 순서 지정하기**"
      ]
    },
    {
      "cell_type": "markdown",
      "metadata": {
        "id": "H7GfZIZomsLe",
        "colab_type": "text"
      },
      "source": [
        "이때 딕셔너리 자료형의 특성 때문에 열의 순서가 임의로 정해질 수 있는데 이를 원하는 순서로 지정하려면 컬럼 값을 지정하면 된다."
      ]
    },
    {
      "cell_type": "code",
      "metadata": {
        "id": "QWbleW7xmsLf",
        "colab_type": "code",
        "colab": {
          "base_uri": "https://localhost:8080/",
          "height": 142
        },
        "outputId": "4961996d-c8d6-41ec-858d-5e5c7672aeda"
      },
      "source": [
        "# 열의 순서를 정할 수 있다.\n",
        "df5 = pandas.DataFrame(d, columns=['name', 'grade'])\n",
        "df5"
      ],
      "execution_count": null,
      "outputs": [
        {
          "output_type": "execute_result",
          "data": {
            "text/html": [
              "<div>\n",
              "<style scoped>\n",
              "    .dataframe tbody tr th:only-of-type {\n",
              "        vertical-align: middle;\n",
              "    }\n",
              "\n",
              "    .dataframe tbody tr th {\n",
              "        vertical-align: top;\n",
              "    }\n",
              "\n",
              "    .dataframe thead th {\n",
              "        text-align: right;\n",
              "    }\n",
              "</style>\n",
              "<table border=\"1\" class=\"dataframe\">\n",
              "  <thead>\n",
              "    <tr style=\"text-align: right;\">\n",
              "      <th></th>\n",
              "      <th>name</th>\n",
              "      <th>grade</th>\n",
              "    </tr>\n",
              "  </thead>\n",
              "  <tbody>\n",
              "    <tr>\n",
              "      <th>0</th>\n",
              "      <td>John</td>\n",
              "      <td>A+</td>\n",
              "    </tr>\n",
              "    <tr>\n",
              "      <th>1</th>\n",
              "      <td>Tim</td>\n",
              "      <td>B-</td>\n",
              "    </tr>\n",
              "    <tr>\n",
              "      <th>2</th>\n",
              "      <td>Bruce</td>\n",
              "      <td>F</td>\n",
              "    </tr>\n",
              "  </tbody>\n",
              "</table>\n",
              "</div>"
            ],
            "text/plain": [
              "    name grade\n",
              "0   John    A+\n",
              "1    Tim    B-\n",
              "2  Bruce     F"
            ]
          },
          "metadata": {
            "tags": []
          },
          "execution_count": 27
        }
      ]
    },
    {
      "cell_type": "markdown",
      "metadata": {
        "id": "tRayWwO7msLh",
        "colab_type": "text"
      },
      "source": [
        "**열(컬럼) 이름으로 접근하기**"
      ]
    },
    {
      "cell_type": "markdown",
      "metadata": {
        "id": "NJtdb-JDmsLh",
        "colab_type": "text"
      },
      "source": [
        "키가 열의 이름이기 때문에 마치 딕셔너리에 접근하듯이 열(컬럼)의 이름으로 데이터에 접근이 가능하다."
      ]
    },
    {
      "cell_type": "code",
      "metadata": {
        "id": "EEj-RndJmsLj",
        "colab_type": "code",
        "colab": {
          "base_uri": "https://localhost:8080/",
          "height": 85
        },
        "outputId": "a7c0366e-50a0-4d17-b626-bc5cce7a3562"
      },
      "source": [
        "# df5에서 name 열의 데이터를 열람한다.\n",
        "df5['name']"
      ],
      "execution_count": null,
      "outputs": [
        {
          "output_type": "execute_result",
          "data": {
            "text/plain": [
              "0     John\n",
              "1      Tim\n",
              "2    Bruce\n",
              "Name: name, dtype: object"
            ]
          },
          "metadata": {
            "tags": []
          },
          "execution_count": 28
        }
      ]
    },
    {
      "cell_type": "markdown",
      "metadata": {
        "id": "fmOHYRXOmsLm",
        "colab_type": "text"
      },
      "source": [
        "또한 클래스의 속성에 접근하듯이 열 이름으로 접근이 가능하다."
      ]
    },
    {
      "cell_type": "code",
      "metadata": {
        "id": "Wa0ZIAn0msLn",
        "colab_type": "code",
        "colab": {
          "base_uri": "https://localhost:8080/",
          "height": 85
        },
        "outputId": "19447006-9ed3-432a-f653-6820c97ba4bb"
      },
      "source": [
        "# df5에서 name 열의 데이터를 열람한다.\n",
        "# 위와 동일하게 작동한다.\n",
        "df5.name"
      ],
      "execution_count": null,
      "outputs": [
        {
          "output_type": "execute_result",
          "data": {
            "text/plain": [
              "0     John\n",
              "1      Tim\n",
              "2    Bruce\n",
              "Name: name, dtype: object"
            ]
          },
          "metadata": {
            "tags": []
          },
          "execution_count": 29
        }
      ]
    },
    {
      "cell_type": "markdown",
      "metadata": {
        "id": "CJqytDqDmsLq",
        "colab_type": "text"
      },
      "source": [
        "**열(컬럼) 자료형은?**"
      ]
    },
    {
      "cell_type": "markdown",
      "metadata": {
        "id": "9ktNoj8TmsLq",
        "colab_type": "text"
      },
      "source": [
        "각 열의 자료형은 시리즈(Series)이다."
      ]
    },
    {
      "cell_type": "code",
      "metadata": {
        "id": "ZHbEFwc7msLt",
        "colab_type": "code",
        "colab": {
          "base_uri": "https://localhost:8080/",
          "height": 34
        },
        "outputId": "eb9e3290-8d2a-4d9a-a24b-d832cae0c833"
      },
      "source": [
        "# df5의 grade 열의 자료형을 확인한다.\n",
        "type(df5.grade)"
      ],
      "execution_count": null,
      "outputs": [
        {
          "output_type": "execute_result",
          "data": {
            "text/plain": [
              "pandas.core.series.Series"
            ]
          },
          "metadata": {
            "tags": []
          },
          "execution_count": 30
        }
      ]
    },
    {
      "cell_type": "markdown",
      "metadata": {
        "id": "LFyfX9DTmsLu",
        "colab_type": "text"
      },
      "source": [
        "**인덱스 값 지정하기**"
      ]
    },
    {
      "cell_type": "markdown",
      "metadata": {
        "id": "SnWo8t3smsLu",
        "colab_type": "text"
      },
      "source": [
        "인덱스의 값도 지정할 수 있다."
      ]
    },
    {
      "cell_type": "code",
      "metadata": {
        "id": "7La5NcrqmsLw",
        "colab_type": "code",
        "colab": {
          "base_uri": "https://localhost:8080/",
          "height": 142
        },
        "outputId": "5165e1c1-cee5-4f06-edbf-442fa1058cb6"
      },
      "source": [
        "student_id = ['1111', '1112', '1113']\n",
        "df6 = pandas.DataFrame(d, index=student_id)\n",
        "df6"
      ],
      "execution_count": null,
      "outputs": [
        {
          "output_type": "execute_result",
          "data": {
            "text/html": [
              "<div>\n",
              "<style scoped>\n",
              "    .dataframe tbody tr th:only-of-type {\n",
              "        vertical-align: middle;\n",
              "    }\n",
              "\n",
              "    .dataframe tbody tr th {\n",
              "        vertical-align: top;\n",
              "    }\n",
              "\n",
              "    .dataframe thead th {\n",
              "        text-align: right;\n",
              "    }\n",
              "</style>\n",
              "<table border=\"1\" class=\"dataframe\">\n",
              "  <thead>\n",
              "    <tr style=\"text-align: right;\">\n",
              "      <th></th>\n",
              "      <th>grade</th>\n",
              "      <th>name</th>\n",
              "    </tr>\n",
              "  </thead>\n",
              "  <tbody>\n",
              "    <tr>\n",
              "      <th>1111</th>\n",
              "      <td>A+</td>\n",
              "      <td>John</td>\n",
              "    </tr>\n",
              "    <tr>\n",
              "      <th>1112</th>\n",
              "      <td>B-</td>\n",
              "      <td>Tim</td>\n",
              "    </tr>\n",
              "    <tr>\n",
              "      <th>1113</th>\n",
              "      <td>F</td>\n",
              "      <td>Bruce</td>\n",
              "    </tr>\n",
              "  </tbody>\n",
              "</table>\n",
              "</div>"
            ],
            "text/plain": [
              "     grade   name\n",
              "1111    A+   John\n",
              "1112    B-    Tim\n",
              "1113     F  Bruce"
            ]
          },
          "metadata": {
            "tags": []
          },
          "execution_count": 31
        }
      ]
    },
    {
      "cell_type": "markdown",
      "metadata": {
        "id": "oUwQ5P4nmsLx",
        "colab_type": "text"
      },
      "source": [
        "**<font size='+1'>열(컬럼)과 인덱스 이름을 지정하고 데이터프레임 구성하기</font>**"
      ]
    },
    {
      "cell_type": "markdown",
      "metadata": {
        "id": "v-GnifQ9msLx",
        "colab_type": "text"
      },
      "source": [
        "- 열 이름과 인덱스를 전달인자로 설정할 수 있다.\n",
        "- 따로 설정하지 않을 경우 기본값(**0**부터 시작하는 정수)으로 설정된다."
      ]
    },
    {
      "cell_type": "markdown",
      "metadata": {
        "id": "2Y89EhPzmsL0",
        "colab_type": "text"
      },
      "source": [
        "[참고]\n",
        "- [numpy.random.randn](https://docs.scipy.org/doc/numpy/reference/generated/numpy.random.randn.html?highlight=randn#numpy.random.randn)\n",
        "    - Return a sample (or samples) from the “standard normal” distribution.\n",
        "    - numpy.**random.randn**(*d0, d1, ..., dn*)"
      ]
    },
    {
      "cell_type": "code",
      "metadata": {
        "id": "6GJY3McLmsL0",
        "colab_type": "code",
        "colab": {
          "base_uri": "https://localhost:8080/",
          "height": 359
        },
        "outputId": "413a6857-6568-4a92-fb28-f9af477e3295"
      },
      "source": [
        "df1 = pandas.DataFrame(\n",
        "    numpy.random.randn(10, 3),  # shape of (10, 3)\n",
        "    index=list('abcdefghij'), \n",
        "    columns=list('ABC')\n",
        ")\n",
        "df1"
      ],
      "execution_count": null,
      "outputs": [
        {
          "output_type": "execute_result",
          "data": {
            "text/html": [
              "<div>\n",
              "<style scoped>\n",
              "    .dataframe tbody tr th:only-of-type {\n",
              "        vertical-align: middle;\n",
              "    }\n",
              "\n",
              "    .dataframe tbody tr th {\n",
              "        vertical-align: top;\n",
              "    }\n",
              "\n",
              "    .dataframe thead th {\n",
              "        text-align: right;\n",
              "    }\n",
              "</style>\n",
              "<table border=\"1\" class=\"dataframe\">\n",
              "  <thead>\n",
              "    <tr style=\"text-align: right;\">\n",
              "      <th></th>\n",
              "      <th>A</th>\n",
              "      <th>B</th>\n",
              "      <th>C</th>\n",
              "    </tr>\n",
              "  </thead>\n",
              "  <tbody>\n",
              "    <tr>\n",
              "      <th>a</th>\n",
              "      <td>0.503891</td>\n",
              "      <td>0.812038</td>\n",
              "      <td>-1.042983</td>\n",
              "    </tr>\n",
              "    <tr>\n",
              "      <th>b</th>\n",
              "      <td>1.438733</td>\n",
              "      <td>-0.354790</td>\n",
              "      <td>0.268121</td>\n",
              "    </tr>\n",
              "    <tr>\n",
              "      <th>c</th>\n",
              "      <td>-0.914177</td>\n",
              "      <td>-0.780485</td>\n",
              "      <td>1.096936</td>\n",
              "    </tr>\n",
              "    <tr>\n",
              "      <th>d</th>\n",
              "      <td>0.232168</td>\n",
              "      <td>-0.304219</td>\n",
              "      <td>-0.708027</td>\n",
              "    </tr>\n",
              "    <tr>\n",
              "      <th>e</th>\n",
              "      <td>-0.614871</td>\n",
              "      <td>-0.552910</td>\n",
              "      <td>-0.970913</td>\n",
              "    </tr>\n",
              "    <tr>\n",
              "      <th>f</th>\n",
              "      <td>-0.642808</td>\n",
              "      <td>-0.666701</td>\n",
              "      <td>0.622208</td>\n",
              "    </tr>\n",
              "    <tr>\n",
              "      <th>g</th>\n",
              "      <td>-1.822634</td>\n",
              "      <td>-1.192563</td>\n",
              "      <td>-1.839506</td>\n",
              "    </tr>\n",
              "    <tr>\n",
              "      <th>h</th>\n",
              "      <td>0.473255</td>\n",
              "      <td>-2.050460</td>\n",
              "      <td>-1.123108</td>\n",
              "    </tr>\n",
              "    <tr>\n",
              "      <th>i</th>\n",
              "      <td>0.334233</td>\n",
              "      <td>-1.582742</td>\n",
              "      <td>-1.997992</td>\n",
              "    </tr>\n",
              "    <tr>\n",
              "      <th>j</th>\n",
              "      <td>0.823683</td>\n",
              "      <td>-1.037461</td>\n",
              "      <td>0.836463</td>\n",
              "    </tr>\n",
              "  </tbody>\n",
              "</table>\n",
              "</div>"
            ],
            "text/plain": [
              "          A         B         C\n",
              "a  0.503891  0.812038 -1.042983\n",
              "b  1.438733 -0.354790  0.268121\n",
              "c -0.914177 -0.780485  1.096936\n",
              "d  0.232168 -0.304219 -0.708027\n",
              "e -0.614871 -0.552910 -0.970913\n",
              "f -0.642808 -0.666701  0.622208\n",
              "g -1.822634 -1.192563 -1.839506\n",
              "h  0.473255 -2.050460 -1.123108\n",
              "i  0.334233 -1.582742 -1.997992\n",
              "j  0.823683 -1.037461  0.836463"
            ]
          },
          "metadata": {
            "tags": []
          },
          "execution_count": 32
        }
      ]
    },
    {
      "cell_type": "markdown",
      "metadata": {
        "id": "NuIgby5ymsL3",
        "colab_type": "text"
      },
      "source": [
        "[numpy.random.mtrand.RandomState.randint](https://docs.scipy.org/doc/numpy/reference/random/generated/numpy.random.mtrand.RandomState.randint.html#numpy.random.mtrand.RandomState.randint)\n",
        "- Return random integers from ***low*** (inclusive) to ***high*** (exclusive).\n",
        "- Return random integers from the “discrete uniform” distribution of the specified dtype in the “half-open” interval **[low, high)**. If ***high*** is **None** (the default), then results are from **[0, low)**.\n",
        "- RandomState.**randint**(*low, high=None, size=None, dtype='l'*)\n",
        "    - ***low*** : *int or array-like of ints*\n",
        "        - Lowest (signed) integers to be drawn from the distribution (unless **high=None**, in which case this parameter is one above the highest such integer).\n",
        "    - ***high*** : *int or array-like of ints, optional*\n",
        "        - If provided, one above the largest (signed) integer to be drawn from the distribution (see above for behavior if **high=None**). If array-like, must contain integer values\n",
        "    - ***size*** : *int or tuple of ints, optional*\n",
        "        - Output shape. If the given shape is, e.g., **(m, n, k)**, then m * n * k samples are drawn. \n",
        "        - Default is **None**, in which case a single value is returned.\n",
        "    - ***dtype*** : *dtype, optional*\n",
        "        - Desired dtype of the result. All dtypes are determined by their name, i.e., ‘int64’, ‘int’, etc, so byteorder is not available and a specific precision may have different C types depending on the platform. \n",
        "        - The default value is ‘np.int’."
      ]
    },
    {
      "cell_type": "code",
      "metadata": {
        "id": "DPIWnbTcmsL3",
        "colab_type": "code",
        "colab": {
          "base_uri": "https://localhost:8080/",
          "height": 204
        },
        "outputId": "48142f6c-626a-4853-d237-233f8672ae0c"
      },
      "source": [
        "# --- 각 열의 자료형을 다르게 해서 복잡한 데이터프레임을 만들 수 있다.\n",
        "df2 = pandas.DataFrame({\n",
        "    'A': pandas.Series(list(range(1, 6)), \n",
        "                      index=pandas.date_range('2025-5-12', periods=5),\n",
        "                      dtype='float32'),\n",
        "    'B': numpy.random.randint(1, 100, size=5),\n",
        "    'C': pandas.Categorical(['AAA', 'AA', 'BB', 'B', 'C']),\n",
        "    'D': 'pd',\n",
        "    'E': pandas.Timestamp('2050-10-9')\n",
        "})\n",
        "df2"
      ],
      "execution_count": null,
      "outputs": [
        {
          "output_type": "execute_result",
          "data": {
            "text/html": [
              "<div>\n",
              "<style scoped>\n",
              "    .dataframe tbody tr th:only-of-type {\n",
              "        vertical-align: middle;\n",
              "    }\n",
              "\n",
              "    .dataframe tbody tr th {\n",
              "        vertical-align: top;\n",
              "    }\n",
              "\n",
              "    .dataframe thead th {\n",
              "        text-align: right;\n",
              "    }\n",
              "</style>\n",
              "<table border=\"1\" class=\"dataframe\">\n",
              "  <thead>\n",
              "    <tr style=\"text-align: right;\">\n",
              "      <th></th>\n",
              "      <th>A</th>\n",
              "      <th>B</th>\n",
              "      <th>C</th>\n",
              "      <th>D</th>\n",
              "      <th>E</th>\n",
              "    </tr>\n",
              "  </thead>\n",
              "  <tbody>\n",
              "    <tr>\n",
              "      <th>2025-05-12</th>\n",
              "      <td>1.0</td>\n",
              "      <td>41</td>\n",
              "      <td>AAA</td>\n",
              "      <td>pd</td>\n",
              "      <td>2050-10-09</td>\n",
              "    </tr>\n",
              "    <tr>\n",
              "      <th>2025-05-13</th>\n",
              "      <td>2.0</td>\n",
              "      <td>85</td>\n",
              "      <td>AA</td>\n",
              "      <td>pd</td>\n",
              "      <td>2050-10-09</td>\n",
              "    </tr>\n",
              "    <tr>\n",
              "      <th>2025-05-14</th>\n",
              "      <td>3.0</td>\n",
              "      <td>76</td>\n",
              "      <td>BB</td>\n",
              "      <td>pd</td>\n",
              "      <td>2050-10-09</td>\n",
              "    </tr>\n",
              "    <tr>\n",
              "      <th>2025-05-15</th>\n",
              "      <td>4.0</td>\n",
              "      <td>86</td>\n",
              "      <td>B</td>\n",
              "      <td>pd</td>\n",
              "      <td>2050-10-09</td>\n",
              "    </tr>\n",
              "    <tr>\n",
              "      <th>2025-05-16</th>\n",
              "      <td>5.0</td>\n",
              "      <td>19</td>\n",
              "      <td>C</td>\n",
              "      <td>pd</td>\n",
              "      <td>2050-10-09</td>\n",
              "    </tr>\n",
              "  </tbody>\n",
              "</table>\n",
              "</div>"
            ],
            "text/plain": [
              "              A   B    C   D          E\n",
              "2025-05-12  1.0  41  AAA  pd 2050-10-09\n",
              "2025-05-13  2.0  85   AA  pd 2050-10-09\n",
              "2025-05-14  3.0  76   BB  pd 2050-10-09\n",
              "2025-05-15  4.0  86    B  pd 2050-10-09\n",
              "2025-05-16  5.0  19    C  pd 2050-10-09"
            ]
          },
          "metadata": {
            "tags": []
          },
          "execution_count": 33
        }
      ]
    },
    {
      "cell_type": "code",
      "metadata": {
        "id": "JAcHztSjmsL5",
        "colab_type": "code",
        "colab": {
          "base_uri": "https://localhost:8080/",
          "height": 119
        },
        "outputId": "96990b54-3e94-47d4-b534-cbfe7412343c"
      },
      "source": [
        "# df2 모든 열의 자료형을 확인한다.\n",
        "df2.dtypes"
      ],
      "execution_count": null,
      "outputs": [
        {
          "output_type": "execute_result",
          "data": {
            "text/plain": [
              "A           float32\n",
              "B             int64\n",
              "C          category\n",
              "D            object\n",
              "E    datetime64[ns]\n",
              "dtype: object"
            ]
          },
          "metadata": {
            "tags": []
          },
          "execution_count": 34
        }
      ]
    },
    {
      "cell_type": "markdown",
      "metadata": {
        "id": "6j_LLgRumsL7",
        "colab_type": "text"
      },
      "source": [
        "## Lab: 데이터프레임 구성하기"
      ]
    },
    {
      "cell_type": "markdown",
      "metadata": {
        "id": "NVy7JhjAmsL7",
        "colab_type": "text"
      },
      "source": [
        "다음 내용의 데이터를 담은 데이터프레임을 구성해 보자."
      ]
    },
    {
      "cell_type": "markdown",
      "metadata": {
        "id": "b4C5D5kfmsL7",
        "colab_type": "text"
      },
      "source": [
        "Index|Title|Artist|Length|Year\n",
        ":-:|:-:|:-:|:-:|:-:\n",
        "0|Skyfall|Adele|4:46|2012\n",
        "1|Lose Yourself|Eminem|5:26|2002\n",
        "2|Another Brick in the Wall|Pink Floyd|3:59|1979\n",
        "3|Use Somebody|Kings of Leon|3:51|2008\n",
        "4|Treasure|Bruno Mars|2:58|2013"
      ]
    },
    {
      "cell_type": "markdown",
      "metadata": {
        "id": "8e4s99CTmsL7",
        "colab_type": "text"
      },
      "source": [
        "**Title**, **Artist**, **Length**는 문자열(string)로, **Year**는 정수형(int)으로 저장한다.\n",
        "\n",
        "결과로 만들어진 데이터프레임 출력한다."
      ]
    },
    {
      "cell_type": "code",
      "metadata": {
        "id": "aamd-2CCmsL8",
        "colab_type": "code",
        "colab": {}
      },
      "source": [
        "d = {\n",
        "  'Title': ['Skyfall', 'Lose Yourself', 'Another Brick in the Wall', 'Use Somebody', 'Treasure'],\n",
        "  'Artist': ['Adele', 'Eminem', 'Pink Floyd', 'Kings of Leon', 'Bruno Mars'],\n",
        "  'Length': ['4:46', '5:26', '3:59', '3:51', '2:58'],\n",
        "  'Year': [2012, 2002, 1979, 2008, 2013]\n",
        "}\n",
        "\n",
        "df_movies = pandas.DataFrame(d)"
      ],
      "execution_count": null,
      "outputs": []
    },
    {
      "cell_type": "code",
      "metadata": {
        "id": "Z9j919PWmsL8",
        "colab_type": "code",
        "colab": {
          "base_uri": "https://localhost:8080/",
          "height": 204
        },
        "outputId": "ac0bd8c0-3e56-404f-9ada-184fca43b6e2"
      },
      "source": [
        "df_movies"
      ],
      "execution_count": null,
      "outputs": [
        {
          "output_type": "execute_result",
          "data": {
            "text/html": [
              "<div>\n",
              "<style scoped>\n",
              "    .dataframe tbody tr th:only-of-type {\n",
              "        vertical-align: middle;\n",
              "    }\n",
              "\n",
              "    .dataframe tbody tr th {\n",
              "        vertical-align: top;\n",
              "    }\n",
              "\n",
              "    .dataframe thead th {\n",
              "        text-align: right;\n",
              "    }\n",
              "</style>\n",
              "<table border=\"1\" class=\"dataframe\">\n",
              "  <thead>\n",
              "    <tr style=\"text-align: right;\">\n",
              "      <th></th>\n",
              "      <th>Title</th>\n",
              "      <th>Artist</th>\n",
              "      <th>Length</th>\n",
              "      <th>Year</th>\n",
              "    </tr>\n",
              "  </thead>\n",
              "  <tbody>\n",
              "    <tr>\n",
              "      <th>0</th>\n",
              "      <td>Skyfall</td>\n",
              "      <td>Adele</td>\n",
              "      <td>4:46</td>\n",
              "      <td>2012</td>\n",
              "    </tr>\n",
              "    <tr>\n",
              "      <th>1</th>\n",
              "      <td>Lose Yourself</td>\n",
              "      <td>Eminem</td>\n",
              "      <td>5:26</td>\n",
              "      <td>2002</td>\n",
              "    </tr>\n",
              "    <tr>\n",
              "      <th>2</th>\n",
              "      <td>Another Brick in the Wall</td>\n",
              "      <td>Pink Floyd</td>\n",
              "      <td>3:59</td>\n",
              "      <td>1979</td>\n",
              "    </tr>\n",
              "    <tr>\n",
              "      <th>3</th>\n",
              "      <td>Use Somebody</td>\n",
              "      <td>Kings of Leon</td>\n",
              "      <td>3:51</td>\n",
              "      <td>2008</td>\n",
              "    </tr>\n",
              "    <tr>\n",
              "      <th>4</th>\n",
              "      <td>Treasure</td>\n",
              "      <td>Bruno Mars</td>\n",
              "      <td>2:58</td>\n",
              "      <td>2013</td>\n",
              "    </tr>\n",
              "  </tbody>\n",
              "</table>\n",
              "</div>"
            ],
            "text/plain": [
              "                       Title         Artist Length  Year\n",
              "0                    Skyfall          Adele   4:46  2012\n",
              "1              Lose Yourself         Eminem   5:26  2002\n",
              "2  Another Brick in the Wall     Pink Floyd   3:59  1979\n",
              "3               Use Somebody  Kings of Leon   3:51  2008\n",
              "4                   Treasure     Bruno Mars   2:58  2013"
            ]
          },
          "metadata": {
            "tags": []
          },
          "execution_count": 39
        }
      ]
    },
    {
      "cell_type": "code",
      "metadata": {
        "id": "gUQwTG3vmsMA",
        "colab_type": "code",
        "colab": {}
      },
      "source": [
        "title = ['Skyfall', 'Lose Yourself', 'Another Brick in the Wall', 'Use Somebody', 'Treasure']\n",
        "artist = ['Adele', 'Eminem', 'Pink Floyd', 'Kings of Leon', 'Bruno Mars']\n",
        "length = ['4:46', '5:26', '3:59', '3:51', '2:58']\n",
        "year = [2012, 2002, 1979, 2008, 2013]\n",
        "\n",
        "df_movies = pandas.DataFrame({\n",
        "    'Title': title, \n",
        "    'Artist': artist, \n",
        "    'Length': length, \n",
        "    'Year': year})"
      ],
      "execution_count": null,
      "outputs": []
    },
    {
      "cell_type": "code",
      "metadata": {
        "id": "cZ1n0QGCmsMC",
        "colab_type": "code",
        "colab": {
          "base_uri": "https://localhost:8080/",
          "height": 204
        },
        "outputId": "012ba859-ee88-4bc6-9ac7-aec8bc54872b"
      },
      "source": [
        "df_movies"
      ],
      "execution_count": null,
      "outputs": [
        {
          "output_type": "execute_result",
          "data": {
            "text/html": [
              "<div>\n",
              "<style scoped>\n",
              "    .dataframe tbody tr th:only-of-type {\n",
              "        vertical-align: middle;\n",
              "    }\n",
              "\n",
              "    .dataframe tbody tr th {\n",
              "        vertical-align: top;\n",
              "    }\n",
              "\n",
              "    .dataframe thead th {\n",
              "        text-align: right;\n",
              "    }\n",
              "</style>\n",
              "<table border=\"1\" class=\"dataframe\">\n",
              "  <thead>\n",
              "    <tr style=\"text-align: right;\">\n",
              "      <th></th>\n",
              "      <th>Title</th>\n",
              "      <th>Artist</th>\n",
              "      <th>Length</th>\n",
              "      <th>Year</th>\n",
              "    </tr>\n",
              "  </thead>\n",
              "  <tbody>\n",
              "    <tr>\n",
              "      <th>0</th>\n",
              "      <td>Skyfall</td>\n",
              "      <td>Adele</td>\n",
              "      <td>4:46</td>\n",
              "      <td>2012</td>\n",
              "    </tr>\n",
              "    <tr>\n",
              "      <th>1</th>\n",
              "      <td>Lose Yourself</td>\n",
              "      <td>Eminem</td>\n",
              "      <td>5:26</td>\n",
              "      <td>2002</td>\n",
              "    </tr>\n",
              "    <tr>\n",
              "      <th>2</th>\n",
              "      <td>Another Brick in the Wall</td>\n",
              "      <td>Pink Floyd</td>\n",
              "      <td>3:59</td>\n",
              "      <td>1979</td>\n",
              "    </tr>\n",
              "    <tr>\n",
              "      <th>3</th>\n",
              "      <td>Use Somebody</td>\n",
              "      <td>Kings of Leon</td>\n",
              "      <td>3:51</td>\n",
              "      <td>2008</td>\n",
              "    </tr>\n",
              "    <tr>\n",
              "      <th>4</th>\n",
              "      <td>Treasure</td>\n",
              "      <td>Bruno Mars</td>\n",
              "      <td>2:58</td>\n",
              "      <td>2013</td>\n",
              "    </tr>\n",
              "  </tbody>\n",
              "</table>\n",
              "</div>"
            ],
            "text/plain": [
              "                       Title         Artist Length  Year\n",
              "0                    Skyfall          Adele   4:46  2012\n",
              "1              Lose Yourself         Eminem   5:26  2002\n",
              "2  Another Brick in the Wall     Pink Floyd   3:59  1979\n",
              "3               Use Somebody  Kings of Leon   3:51  2008\n",
              "4                   Treasure     Bruno Mars   2:58  2013"
            ]
          },
          "metadata": {
            "tags": []
          },
          "execution_count": 37
        }
      ]
    },
    {
      "cell_type": "markdown",
      "metadata": {
        "id": "Xdw8F2dN2qDW",
        "colab_type": "text"
      },
      "source": [
        "# 데이터 호출 및 저장"
      ]
    },
    {
      "cell_type": "markdown",
      "metadata": {
        "id": "xQlb6YCAY2Vn",
        "colab_type": "text"
      },
      "source": [
        "## 실습 파일 내려받기"
      ]
    },
    {
      "cell_type": "markdown",
      "metadata": {
        "id": "tkzxwufuZyMv",
        "colab_type": "text"
      },
      "source": [
        "데이터 파일을 내려받는다."
      ]
    },
    {
      "cell_type": "code",
      "metadata": {
        "code_folding": [],
        "colab_type": "code",
        "id": "RiSPtZT_zWWp",
        "colab": {
          "base_uri": "https://localhost:8080/",
          "height": 138
        },
        "outputId": "aafb3866-3e7f-499d-c56f-a0ec20d7706e"
      },
      "source": [
        "# --- wget으로 모든 파일을 'data'라는 하위 폴더에 내려받는다.\n",
        "\n",
        "# 하위 폴더 'data'가 없으면 새로 만든다.\n",
        "import os\n",
        "if not os.path.exists('data'):\n",
        "    os.makedirs('data')  \n",
        "\n",
        "!wget -O csv_data.csv -q --show-progress --no-check-certificate 'https://docs.google.com/uc?export=download&id=15bNIuuFsEAhAaL0EkVjm4ZW32MjjNjFe'\n",
        "!wget -O csv_data_no_header.csv -q --show-progress --no-check-certificate 'https://docs.google.com/uc?export=download&id=1K8mCBeD-ytafeCDg3jMpOKuzlnJ_aBfd'\n",
        "!wget -O csv_data_semicolon.csv -q --show-progress --no-check-certificate 'https://docs.google.com/uc?export=download&id=1EkvCWCrmgsKXsXppF_PcdzL1DGP7r2c5'\n",
        "!wget -O excel_data.xlsx -q --show-progress --no-check-certificate 'https://docs.google.com/uc?export=download&id=1e1Jai4Gob62F9Ijut3AYxJrrzbyC7PTO'\n",
        "!wget -O animals.xlsx -q --show-progress --no-check-certificate 'https://docs.google.com/uc?export=download&id=1HXMoFKGi_z8XLPWvJaKAnOsdYejSv5z4'\n",
        "!wget -O NBA_2019_totals.html -q --show-progress --no-check-certificate 'https://docs.google.com/uc?export=download&id=1mB6jU4tP_clxt0DuyBMH5z68zRnGz6nA'\n",
        "!wget -O bitcoin_price.json -q --show-progress --no-check-certificate 'https://docs.google.com/uc?export=download&id=10O0GyM3uyC9H8XBBVcQS_qyi9sc_jR07'"
      ],
      "execution_count": null,
      "outputs": [
        {
          "output_type": "stream",
          "text": [
            "csv_data.csv        100%[===================>]      63  --.-KB/s    in 0s      \n",
            "csv_data_no_header. 100%[===================>]      50  --.-KB/s    in 0s      \n",
            "csv_data_semicolon. 100%[===================>]      68  --.-KB/s    in 0s      \n",
            "excel_data.xlsx     100%[===================>]   8.52K  --.-KB/s    in 0s      \n",
            "animals.xlsx        100%[===================>]  17.46K  --.-KB/s    in 0s      \n",
            "NBA_2019_totals.htm 100%[===================>]   1.23M  --.-KB/s    in 0.009s  \n",
            "bitcoin_price.json  100%[===================>]     511  --.-KB/s    in 0s      \n"
          ],
          "name": "stdout"
        }
      ]
    },
    {
      "cell_type": "markdown",
      "metadata": {
        "id": "BmMRa9UaY2Vs",
        "colab_type": "text"
      },
      "source": [
        "## CSV와 텍스트 데이터 "
      ]
    },
    {
      "cell_type": "markdown",
      "metadata": {
        "id": "-VLMPj-0Y2Vs",
        "colab_type": "text"
      },
      "source": [
        "**CSV**(comma-separated values)란?\n",
        "- 데이터의 각 열을 쉼표(**,**)로 구분하여 저장하는 텍스트 파일이다.\n",
        "- 확장자는 **.csv**다.\n",
        "- 각 열의 구분자(delimiter)로 쉼표(**,**)가 일반적이지만, 탭('**\\t**'), 쌍반점('**;**') 등의 구분자도 자주 사용한다. "
      ]
    },
    {
      "cell_type": "markdown",
      "metadata": {
        "id": "1J_IIEQXY2Vs",
        "colab_type": "text"
      },
      "source": [
        "판다스(Pandas)도 넘파이(NumPy)와 유사하게 CSV와 텍스트(text) 데이터를 불러올 수 있다.\n",
        "- **read_csv()** 메소드로 CSV 파일의 데이터를 불러오면 자동으로 데이터프레임으로 저장한다.\n",
        "- **read_table()** 메소드로 텍스트(text) 파일의 데이터를 불러오면 자동으로 데이터프레임으로 저장한다."
      ]
    },
    {
      "cell_type": "markdown",
      "metadata": {
        "id": "XE421qfZY2Vt",
        "colab_type": "text"
      },
      "source": [
        "[pandas.read_csv](https://pandas.pydata.org/pandas-docs/stable/reference/api/pandas.read_csv.html#pandas.read_csv)\n",
        "- Read a comma-separated values (csv) file into DataFrame.\n",
        "- Also supports optionally iterating or breaking of the file into chunks.\n",
        "- pandas.**read_csv**(*filepath_or_buffer: Union[str, pathlib.Path, IO[~AnyStr]], sep=',', delimiter=None, header='infer', names=None, index_col=None, usecols=None, squeeze=False, prefix=None, mangle_dupe_cols=True, dtype=None, engine=None, converters=None, true_values=None, false_values=None, skipinitialspace=False, skiprows=None, skipfooter=0, nrows=None, na_values=None, keep_default_na=True, na_filter=True, verbose=False, skip_blank_lines=True, parse_dates=False, infer_datetime_format=False, keep_date_col=False, date_parser=None, dayfirst=False, cache_dates=True, iterator=False, chunksize=None, compression='infer', thousands=None, decimal=b'.', lineterminator=None, quotechar='\"', quoting=0, doublequote=True, escapechar=None, comment=None, encoding=None, dialect=None, error_bad_lines=True, warn_bad_lines=True, delim_whitespace=False, low_memory=True, memory_map=False, float_precision=None*)\n",
        "\n",
        "[pandas.read_table](https://pandas.pydata.org/pandas-docs/stable/reference/api/pandas.read_table.html#pandas.read_table)\n",
        "- Read general delimited file into DataFrame.\n",
        "- Also supports optionally iterating or breaking of the file into chunks.\n",
        "- pandas.**read_table**(*filepath_or_buffer: Union[str, pathlib.Path, IO[~AnyStr]], sep='t', delimiter=None, header='infer', names=None, index_col=None, usecols=None, squeeze=False, prefix=None, mangle_dupe_cols=True, dtype=None, engine=None, converters=None, true_values=None, false_values=None, skipinitialspace=False, skiprows=None, skipfooter=0, nrows=None, na_values=None, keep_default_na=True, na_filter=True, verbose=False, skip_blank_lines=True, parse_dates=False, infer_datetime_format=False, keep_date_col=False, date_parser=None, dayfirst=False, cache_dates=True, iterator=False, chunksize=None, compression='infer', thousands=None, decimal=b'.', lineterminator=None, quotechar='\"', quoting=0, doublequote=True, escapechar=None, comment=None, encoding=None, dialect=None, error_bad_lines=True, warn_bad_lines=True, delim_whitespace=False, low_memory=True, memory_map=False, float_precision=None*)"
      ]
    },
    {
      "cell_type": "code",
      "metadata": {
        "id": "BdahQu7bY2Vt",
        "colab_type": "code",
        "colab": {}
      },
      "source": [
        "%pycat csv_data.csv"
      ],
      "execution_count": null,
      "outputs": []
    },
    {
      "cell_type": "code",
      "metadata": {
        "id": "PAx3DTTAY2Vy",
        "colab_type": "code",
        "colab": {
          "base_uri": "https://localhost:8080/",
          "height": 204
        },
        "outputId": "fcd5cbf0-23ac-422b-89a5-4924e05c86d9"
      },
      "source": [
        "# CSV 파일('csv_data.csv')을 불러온다. \n",
        "# read_csv()의 기본 구분자는 콤마(',')이다.\n",
        "df = pandas.read_csv('csv_data.csv')\n",
        "df"
      ],
      "execution_count": null,
      "outputs": [
        {
          "output_type": "execute_result",
          "data": {
            "text/html": [
              "<div>\n",
              "<style scoped>\n",
              "    .dataframe tbody tr th:only-of-type {\n",
              "        vertical-align: middle;\n",
              "    }\n",
              "\n",
              "    .dataframe tbody tr th {\n",
              "        vertical-align: top;\n",
              "    }\n",
              "\n",
              "    .dataframe thead th {\n",
              "        text-align: right;\n",
              "    }\n",
              "</style>\n",
              "<table border=\"1\" class=\"dataframe\">\n",
              "  <thead>\n",
              "    <tr style=\"text-align: right;\">\n",
              "      <th></th>\n",
              "      <th>ID</th>\n",
              "      <th>LAST_NAME</th>\n",
              "      <th>AGE</th>\n",
              "    </tr>\n",
              "  </thead>\n",
              "  <tbody>\n",
              "    <tr>\n",
              "      <th>0</th>\n",
              "      <td>1</td>\n",
              "      <td>KIM</td>\n",
              "      <td>30</td>\n",
              "    </tr>\n",
              "    <tr>\n",
              "      <th>1</th>\n",
              "      <td>2</td>\n",
              "      <td>CHOI</td>\n",
              "      <td>25</td>\n",
              "    </tr>\n",
              "    <tr>\n",
              "      <th>2</th>\n",
              "      <td>3</td>\n",
              "      <td>LEE</td>\n",
              "      <td>41</td>\n",
              "    </tr>\n",
              "    <tr>\n",
              "      <th>3</th>\n",
              "      <td>4</td>\n",
              "      <td>PARK</td>\n",
              "      <td>19</td>\n",
              "    </tr>\n",
              "    <tr>\n",
              "      <th>4</th>\n",
              "      <td>5</td>\n",
              "      <td>LIM</td>\n",
              "      <td>36</td>\n",
              "    </tr>\n",
              "  </tbody>\n",
              "</table>\n",
              "</div>"
            ],
            "text/plain": [
              "   ID LAST_NAME  AGE\n",
              "0   1       KIM   30\n",
              "1   2      CHOI   25\n",
              "2   3       LEE   41\n",
              "3   4      PARK   19\n",
              "4   5       LIM   36"
            ]
          },
          "metadata": {
            "tags": []
          },
          "execution_count": 5
        }
      ]
    },
    {
      "cell_type": "code",
      "metadata": {
        "id": "voEUlHOKY2V3",
        "colab_type": "code",
        "colab": {
          "base_uri": "https://localhost:8080/",
          "height": 204
        },
        "outputId": "42879bbd-5638-4842-a300-b77f0e64ddd0"
      },
      "source": [
        "# 특정 열만 (열 위치로) 선택하여 불러온다.\n",
        "df = pandas.read_csv('csv_data.csv', usecols=[1, 2])\n",
        "df"
      ],
      "execution_count": null,
      "outputs": [
        {
          "output_type": "execute_result",
          "data": {
            "text/html": [
              "<div>\n",
              "<style scoped>\n",
              "    .dataframe tbody tr th:only-of-type {\n",
              "        vertical-align: middle;\n",
              "    }\n",
              "\n",
              "    .dataframe tbody tr th {\n",
              "        vertical-align: top;\n",
              "    }\n",
              "\n",
              "    .dataframe thead th {\n",
              "        text-align: right;\n",
              "    }\n",
              "</style>\n",
              "<table border=\"1\" class=\"dataframe\">\n",
              "  <thead>\n",
              "    <tr style=\"text-align: right;\">\n",
              "      <th></th>\n",
              "      <th>LAST_NAME</th>\n",
              "      <th>AGE</th>\n",
              "    </tr>\n",
              "  </thead>\n",
              "  <tbody>\n",
              "    <tr>\n",
              "      <th>0</th>\n",
              "      <td>KIM</td>\n",
              "      <td>30</td>\n",
              "    </tr>\n",
              "    <tr>\n",
              "      <th>1</th>\n",
              "      <td>CHOI</td>\n",
              "      <td>25</td>\n",
              "    </tr>\n",
              "    <tr>\n",
              "      <th>2</th>\n",
              "      <td>LEE</td>\n",
              "      <td>41</td>\n",
              "    </tr>\n",
              "    <tr>\n",
              "      <th>3</th>\n",
              "      <td>PARK</td>\n",
              "      <td>19</td>\n",
              "    </tr>\n",
              "    <tr>\n",
              "      <th>4</th>\n",
              "      <td>LIM</td>\n",
              "      <td>36</td>\n",
              "    </tr>\n",
              "  </tbody>\n",
              "</table>\n",
              "</div>"
            ],
            "text/plain": [
              "  LAST_NAME  AGE\n",
              "0       KIM   30\n",
              "1      CHOI   25\n",
              "2       LEE   41\n",
              "3      PARK   19\n",
              "4       LIM   36"
            ]
          },
          "metadata": {
            "tags": []
          },
          "execution_count": 6
        }
      ]
    },
    {
      "cell_type": "code",
      "metadata": {
        "id": "iWmzbcSMY2V7",
        "colab_type": "code",
        "colab": {
          "base_uri": "https://localhost:8080/",
          "height": 204
        },
        "outputId": "26d89ee2-6151-429f-ec95-44d568aa638f"
      },
      "source": [
        "# 특정 열만 (열 이름으로) 선택하여 불러온다.\n",
        "df = pandas.read_csv('csv_data.csv', usecols=['LAST_NAME', 'ID'])\n",
        "df"
      ],
      "execution_count": null,
      "outputs": [
        {
          "output_type": "execute_result",
          "data": {
            "text/html": [
              "<div>\n",
              "<style scoped>\n",
              "    .dataframe tbody tr th:only-of-type {\n",
              "        vertical-align: middle;\n",
              "    }\n",
              "\n",
              "    .dataframe tbody tr th {\n",
              "        vertical-align: top;\n",
              "    }\n",
              "\n",
              "    .dataframe thead th {\n",
              "        text-align: right;\n",
              "    }\n",
              "</style>\n",
              "<table border=\"1\" class=\"dataframe\">\n",
              "  <thead>\n",
              "    <tr style=\"text-align: right;\">\n",
              "      <th></th>\n",
              "      <th>ID</th>\n",
              "      <th>LAST_NAME</th>\n",
              "    </tr>\n",
              "  </thead>\n",
              "  <tbody>\n",
              "    <tr>\n",
              "      <th>0</th>\n",
              "      <td>1</td>\n",
              "      <td>KIM</td>\n",
              "    </tr>\n",
              "    <tr>\n",
              "      <th>1</th>\n",
              "      <td>2</td>\n",
              "      <td>CHOI</td>\n",
              "    </tr>\n",
              "    <tr>\n",
              "      <th>2</th>\n",
              "      <td>3</td>\n",
              "      <td>LEE</td>\n",
              "    </tr>\n",
              "    <tr>\n",
              "      <th>3</th>\n",
              "      <td>4</td>\n",
              "      <td>PARK</td>\n",
              "    </tr>\n",
              "    <tr>\n",
              "      <th>4</th>\n",
              "      <td>5</td>\n",
              "      <td>LIM</td>\n",
              "    </tr>\n",
              "  </tbody>\n",
              "</table>\n",
              "</div>"
            ],
            "text/plain": [
              "   ID LAST_NAME\n",
              "0   1       KIM\n",
              "1   2      CHOI\n",
              "2   3       LEE\n",
              "3   4      PARK\n",
              "4   5       LIM"
            ]
          },
          "metadata": {
            "tags": []
          },
          "execution_count": 7
        }
      ]
    },
    {
      "cell_type": "code",
      "metadata": {
        "id": "UBIMM_uyY2V_",
        "colab_type": "code",
        "colab": {
          "base_uri": "https://localhost:8080/",
          "height": 204
        },
        "outputId": "ae97ada1-717a-43da-b669-9518bb3ac521"
      },
      "source": [
        "# read_table()을 사용하면 매개변수 sep에 구분자를 설정해야 한다.\n",
        "# read_table()의 기본 구분자는 탭('\\t')이다.\n",
        "df = pandas.read_table('csv_data.csv', sep=',')\n",
        "df"
      ],
      "execution_count": null,
      "outputs": [
        {
          "output_type": "execute_result",
          "data": {
            "text/html": [
              "<div>\n",
              "<style scoped>\n",
              "    .dataframe tbody tr th:only-of-type {\n",
              "        vertical-align: middle;\n",
              "    }\n",
              "\n",
              "    .dataframe tbody tr th {\n",
              "        vertical-align: top;\n",
              "    }\n",
              "\n",
              "    .dataframe thead th {\n",
              "        text-align: right;\n",
              "    }\n",
              "</style>\n",
              "<table border=\"1\" class=\"dataframe\">\n",
              "  <thead>\n",
              "    <tr style=\"text-align: right;\">\n",
              "      <th></th>\n",
              "      <th>ID</th>\n",
              "      <th>LAST_NAME</th>\n",
              "      <th>AGE</th>\n",
              "    </tr>\n",
              "  </thead>\n",
              "  <tbody>\n",
              "    <tr>\n",
              "      <th>0</th>\n",
              "      <td>1</td>\n",
              "      <td>KIM</td>\n",
              "      <td>30</td>\n",
              "    </tr>\n",
              "    <tr>\n",
              "      <th>1</th>\n",
              "      <td>2</td>\n",
              "      <td>CHOI</td>\n",
              "      <td>25</td>\n",
              "    </tr>\n",
              "    <tr>\n",
              "      <th>2</th>\n",
              "      <td>3</td>\n",
              "      <td>LEE</td>\n",
              "      <td>41</td>\n",
              "    </tr>\n",
              "    <tr>\n",
              "      <th>3</th>\n",
              "      <td>4</td>\n",
              "      <td>PARK</td>\n",
              "      <td>19</td>\n",
              "    </tr>\n",
              "    <tr>\n",
              "      <th>4</th>\n",
              "      <td>5</td>\n",
              "      <td>LIM</td>\n",
              "      <td>36</td>\n",
              "    </tr>\n",
              "  </tbody>\n",
              "</table>\n",
              "</div>"
            ],
            "text/plain": [
              "   ID LAST_NAME  AGE\n",
              "0   1       KIM   30\n",
              "1   2      CHOI   25\n",
              "2   3       LEE   41\n",
              "3   4      PARK   19\n",
              "4   5       LIM   36"
            ]
          },
          "metadata": {
            "tags": []
          },
          "execution_count": 8
        }
      ]
    },
    {
      "cell_type": "code",
      "metadata": {
        "id": "cFliDNUvY2WD",
        "colab_type": "code",
        "colab": {
          "base_uri": "https://localhost:8080/",
          "height": 204
        },
        "outputId": "3b8e0737-2d55-40ff-9849-bbd37a6f4a57"
      },
      "source": [
        "# read_table()로 특정 열만 (열 이름으로) 선택하여 불러온다.\n",
        "df = pandas.read_table('csv_data.csv', sep=',', usecols=['ID', 'LAST_NAME'])\n",
        "df"
      ],
      "execution_count": null,
      "outputs": [
        {
          "output_type": "execute_result",
          "data": {
            "text/html": [
              "<div>\n",
              "<style scoped>\n",
              "    .dataframe tbody tr th:only-of-type {\n",
              "        vertical-align: middle;\n",
              "    }\n",
              "\n",
              "    .dataframe tbody tr th {\n",
              "        vertical-align: top;\n",
              "    }\n",
              "\n",
              "    .dataframe thead th {\n",
              "        text-align: right;\n",
              "    }\n",
              "</style>\n",
              "<table border=\"1\" class=\"dataframe\">\n",
              "  <thead>\n",
              "    <tr style=\"text-align: right;\">\n",
              "      <th></th>\n",
              "      <th>ID</th>\n",
              "      <th>LAST_NAME</th>\n",
              "    </tr>\n",
              "  </thead>\n",
              "  <tbody>\n",
              "    <tr>\n",
              "      <th>0</th>\n",
              "      <td>1</td>\n",
              "      <td>KIM</td>\n",
              "    </tr>\n",
              "    <tr>\n",
              "      <th>1</th>\n",
              "      <td>2</td>\n",
              "      <td>CHOI</td>\n",
              "    </tr>\n",
              "    <tr>\n",
              "      <th>2</th>\n",
              "      <td>3</td>\n",
              "      <td>LEE</td>\n",
              "    </tr>\n",
              "    <tr>\n",
              "      <th>3</th>\n",
              "      <td>4</td>\n",
              "      <td>PARK</td>\n",
              "    </tr>\n",
              "    <tr>\n",
              "      <th>4</th>\n",
              "      <td>5</td>\n",
              "      <td>LIM</td>\n",
              "    </tr>\n",
              "  </tbody>\n",
              "</table>\n",
              "</div>"
            ],
            "text/plain": [
              "   ID LAST_NAME\n",
              "0   1       KIM\n",
              "1   2      CHOI\n",
              "2   3       LEE\n",
              "3   4      PARK\n",
              "4   5       LIM"
            ]
          },
          "metadata": {
            "tags": []
          },
          "execution_count": 9
        }
      ]
    },
    {
      "cell_type": "code",
      "metadata": {
        "id": "vJ24VT60Y2WF",
        "colab_type": "code",
        "colab": {},
        "outputId": "32a0ba2c-7909-4ace-943c-828944758ba5"
      },
      "source": [
        "# -- 열 이름이 없는 CSV 파일\n",
        "%pycat csv_data_no_header.csv"
      ],
      "execution_count": null,
      "outputs": [
        {
          "output_type": "stream",
          "text": [
            "1,KIM,30\n",
            "2,CHOI,25\n",
            "3,LEE,41\n",
            "4,PARK,19\n",
            "5,LIM,36"
          ],
          "name": "stdout"
        }
      ]
    },
    {
      "cell_type": "code",
      "metadata": {
        "id": "2cgN84i2Y2WJ",
        "colab_type": "code",
        "colab": {
          "base_uri": "https://localhost:8080/",
          "height": 173
        },
        "outputId": "f406dfa5-c2df-41e7-e478-58d6e729d3fa"
      },
      "source": [
        "# 열 이름이 없는 CSV 파일('csv_data_no_header.csv')을 불러온다. \n",
        "# 그런데 첫 번째 행이 열 이름으로 된다.\n",
        "df = pandas.read_csv('csv_data_no_header.csv')\n",
        "df"
      ],
      "execution_count": null,
      "outputs": [
        {
          "output_type": "execute_result",
          "data": {
            "text/html": [
              "<div>\n",
              "<style scoped>\n",
              "    .dataframe tbody tr th:only-of-type {\n",
              "        vertical-align: middle;\n",
              "    }\n",
              "\n",
              "    .dataframe tbody tr th {\n",
              "        vertical-align: top;\n",
              "    }\n",
              "\n",
              "    .dataframe thead th {\n",
              "        text-align: right;\n",
              "    }\n",
              "</style>\n",
              "<table border=\"1\" class=\"dataframe\">\n",
              "  <thead>\n",
              "    <tr style=\"text-align: right;\">\n",
              "      <th></th>\n",
              "      <th>1</th>\n",
              "      <th>KIM</th>\n",
              "      <th>30</th>\n",
              "    </tr>\n",
              "  </thead>\n",
              "  <tbody>\n",
              "    <tr>\n",
              "      <th>0</th>\n",
              "      <td>2</td>\n",
              "      <td>CHOI</td>\n",
              "      <td>25</td>\n",
              "    </tr>\n",
              "    <tr>\n",
              "      <th>1</th>\n",
              "      <td>3</td>\n",
              "      <td>LEE</td>\n",
              "      <td>41</td>\n",
              "    </tr>\n",
              "    <tr>\n",
              "      <th>2</th>\n",
              "      <td>4</td>\n",
              "      <td>PARK</td>\n",
              "      <td>19</td>\n",
              "    </tr>\n",
              "    <tr>\n",
              "      <th>3</th>\n",
              "      <td>5</td>\n",
              "      <td>LIM</td>\n",
              "      <td>36</td>\n",
              "    </tr>\n",
              "  </tbody>\n",
              "</table>\n",
              "</div>"
            ],
            "text/plain": [
              "   1   KIM  30\n",
              "0  2  CHOI  25\n",
              "1  3   LEE  41\n",
              "2  4  PARK  19\n",
              "3  5   LIM  36"
            ]
          },
          "metadata": {
            "tags": []
          },
          "execution_count": 10
        }
      ]
    },
    {
      "cell_type": "code",
      "metadata": {
        "id": "mbfoTXinY2WN",
        "colab_type": "code",
        "colab": {
          "base_uri": "https://localhost:8080/",
          "height": 204
        },
        "outputId": "c4035dd9-9588-4d93-e5f7-b7a050cb0899"
      },
      "source": [
        "# 따라서 열 이름이 없는 CSV 파일을 불러올 때 열 이름이 없다고 설정해야 한다.\n",
        "df = pandas.read_csv('csv_data_no_header.csv', header=None)\n",
        "df"
      ],
      "execution_count": null,
      "outputs": [
        {
          "output_type": "execute_result",
          "data": {
            "text/html": [
              "<div>\n",
              "<style scoped>\n",
              "    .dataframe tbody tr th:only-of-type {\n",
              "        vertical-align: middle;\n",
              "    }\n",
              "\n",
              "    .dataframe tbody tr th {\n",
              "        vertical-align: top;\n",
              "    }\n",
              "\n",
              "    .dataframe thead th {\n",
              "        text-align: right;\n",
              "    }\n",
              "</style>\n",
              "<table border=\"1\" class=\"dataframe\">\n",
              "  <thead>\n",
              "    <tr style=\"text-align: right;\">\n",
              "      <th></th>\n",
              "      <th>0</th>\n",
              "      <th>1</th>\n",
              "      <th>2</th>\n",
              "    </tr>\n",
              "  </thead>\n",
              "  <tbody>\n",
              "    <tr>\n",
              "      <th>0</th>\n",
              "      <td>1</td>\n",
              "      <td>KIM</td>\n",
              "      <td>30</td>\n",
              "    </tr>\n",
              "    <tr>\n",
              "      <th>1</th>\n",
              "      <td>2</td>\n",
              "      <td>CHOI</td>\n",
              "      <td>25</td>\n",
              "    </tr>\n",
              "    <tr>\n",
              "      <th>2</th>\n",
              "      <td>3</td>\n",
              "      <td>LEE</td>\n",
              "      <td>41</td>\n",
              "    </tr>\n",
              "    <tr>\n",
              "      <th>3</th>\n",
              "      <td>4</td>\n",
              "      <td>PARK</td>\n",
              "      <td>19</td>\n",
              "    </tr>\n",
              "    <tr>\n",
              "      <th>4</th>\n",
              "      <td>5</td>\n",
              "      <td>LIM</td>\n",
              "      <td>36</td>\n",
              "    </tr>\n",
              "  </tbody>\n",
              "</table>\n",
              "</div>"
            ],
            "text/plain": [
              "   0     1   2\n",
              "0  1   KIM  30\n",
              "1  2  CHOI  25\n",
              "2  3   LEE  41\n",
              "3  4  PARK  19\n",
              "4  5   LIM  36"
            ]
          },
          "metadata": {
            "tags": []
          },
          "execution_count": 11
        }
      ]
    },
    {
      "cell_type": "code",
      "metadata": {
        "id": "wJrG1-p7Y2WO",
        "colab_type": "code",
        "colab": {},
        "outputId": "f4f208a0-0f43-4cf0-8745-31a26ca61652"
      },
      "source": [
        "# -- 구분자가 쉼표','가 아닌 CSV 파일\n",
        "%pycat csv_data_semicolon.csv"
      ],
      "execution_count": null,
      "outputs": [
        {
          "output_type": "stream",
          "text": [
            "ID;LAST_NAME;AGE\n",
            "1;KIM;30\n",
            "2;CHOI;25\n",
            "3;LEE;41\n",
            "4;PARK;19\n",
            "5;LIM;36"
          ],
          "name": "stdout"
        }
      ]
    },
    {
      "cell_type": "code",
      "metadata": {
        "id": "qnWrKLO4Y2WT",
        "colab_type": "code",
        "colab": {
          "base_uri": "https://localhost:8080/",
          "height": 204
        },
        "outputId": "76fe8231-5c6d-4ba9-bf24-b74ff1ecd27a"
      },
      "source": [
        "# 구분자가 쉼표','가 아닌 CSV 파일을 읽을 때는 \n",
        "# 매개변수 sep에 구분자를 설정해야 한다.\n",
        "df = pandas.read_csv('csv_data_semicolon.csv', sep=';')\n",
        "df"
      ],
      "execution_count": null,
      "outputs": [
        {
          "output_type": "execute_result",
          "data": {
            "text/html": [
              "<div>\n",
              "<style scoped>\n",
              "    .dataframe tbody tr th:only-of-type {\n",
              "        vertical-align: middle;\n",
              "    }\n",
              "\n",
              "    .dataframe tbody tr th {\n",
              "        vertical-align: top;\n",
              "    }\n",
              "\n",
              "    .dataframe thead th {\n",
              "        text-align: right;\n",
              "    }\n",
              "</style>\n",
              "<table border=\"1\" class=\"dataframe\">\n",
              "  <thead>\n",
              "    <tr style=\"text-align: right;\">\n",
              "      <th></th>\n",
              "      <th>ID</th>\n",
              "      <th>LAST_NAME</th>\n",
              "      <th>AGE</th>\n",
              "    </tr>\n",
              "  </thead>\n",
              "  <tbody>\n",
              "    <tr>\n",
              "      <th>0</th>\n",
              "      <td>1</td>\n",
              "      <td>KIM</td>\n",
              "      <td>30</td>\n",
              "    </tr>\n",
              "    <tr>\n",
              "      <th>1</th>\n",
              "      <td>2</td>\n",
              "      <td>CHOI</td>\n",
              "      <td>25</td>\n",
              "    </tr>\n",
              "    <tr>\n",
              "      <th>2</th>\n",
              "      <td>3</td>\n",
              "      <td>LEE</td>\n",
              "      <td>41</td>\n",
              "    </tr>\n",
              "    <tr>\n",
              "      <th>3</th>\n",
              "      <td>4</td>\n",
              "      <td>PARK</td>\n",
              "      <td>19</td>\n",
              "    </tr>\n",
              "    <tr>\n",
              "      <th>4</th>\n",
              "      <td>5</td>\n",
              "      <td>LIM</td>\n",
              "      <td>36</td>\n",
              "    </tr>\n",
              "  </tbody>\n",
              "</table>\n",
              "</div>"
            ],
            "text/plain": [
              "   ID LAST_NAME  AGE\n",
              "0   1       KIM   30\n",
              "1   2      CHOI   25\n",
              "2   3       LEE   41\n",
              "3   4      PARK   19\n",
              "4   5       LIM   36"
            ]
          },
          "metadata": {
            "tags": []
          },
          "execution_count": 12
        }
      ]
    },
    {
      "cell_type": "code",
      "metadata": {
        "id": "qkErPCjdY2WW",
        "colab_type": "code",
        "colab": {
          "base_uri": "https://localhost:8080/",
          "height": 204
        },
        "outputId": "a6d615b4-24ad-41bb-de9e-3bfc3801c688"
      },
      "source": [
        "# read_table()을 사용해도 같은 결과를 가져온다.\n",
        "# read_table()의 기본 구분자는 탭('\\t')이다.\n",
        "df = pandas.read_table('csv_data_semicolon.csv', sep=';')\n",
        "df"
      ],
      "execution_count": null,
      "outputs": [
        {
          "output_type": "execute_result",
          "data": {
            "text/html": [
              "<div>\n",
              "<style scoped>\n",
              "    .dataframe tbody tr th:only-of-type {\n",
              "        vertical-align: middle;\n",
              "    }\n",
              "\n",
              "    .dataframe tbody tr th {\n",
              "        vertical-align: top;\n",
              "    }\n",
              "\n",
              "    .dataframe thead th {\n",
              "        text-align: right;\n",
              "    }\n",
              "</style>\n",
              "<table border=\"1\" class=\"dataframe\">\n",
              "  <thead>\n",
              "    <tr style=\"text-align: right;\">\n",
              "      <th></th>\n",
              "      <th>ID</th>\n",
              "      <th>LAST_NAME</th>\n",
              "      <th>AGE</th>\n",
              "    </tr>\n",
              "  </thead>\n",
              "  <tbody>\n",
              "    <tr>\n",
              "      <th>0</th>\n",
              "      <td>1</td>\n",
              "      <td>KIM</td>\n",
              "      <td>30</td>\n",
              "    </tr>\n",
              "    <tr>\n",
              "      <th>1</th>\n",
              "      <td>2</td>\n",
              "      <td>CHOI</td>\n",
              "      <td>25</td>\n",
              "    </tr>\n",
              "    <tr>\n",
              "      <th>2</th>\n",
              "      <td>3</td>\n",
              "      <td>LEE</td>\n",
              "      <td>41</td>\n",
              "    </tr>\n",
              "    <tr>\n",
              "      <th>3</th>\n",
              "      <td>4</td>\n",
              "      <td>PARK</td>\n",
              "      <td>19</td>\n",
              "    </tr>\n",
              "    <tr>\n",
              "      <th>4</th>\n",
              "      <td>5</td>\n",
              "      <td>LIM</td>\n",
              "      <td>36</td>\n",
              "    </tr>\n",
              "  </tbody>\n",
              "</table>\n",
              "</div>"
            ],
            "text/plain": [
              "   ID LAST_NAME  AGE\n",
              "0   1       KIM   30\n",
              "1   2      CHOI   25\n",
              "2   3       LEE   41\n",
              "3   4      PARK   19\n",
              "4   5       LIM   36"
            ]
          },
          "metadata": {
            "tags": []
          },
          "execution_count": 13
        }
      ]
    },
    {
      "cell_type": "code",
      "metadata": {
        "id": "76PrYQoyY2Wb",
        "colab_type": "code",
        "colab": {
          "base_uri": "https://localhost:8080/",
          "height": 204
        },
        "outputId": "fbf78fc2-181a-41c1-e765-6e345a5594ee"
      },
      "source": [
        "# 특정 열만 (열 이름으로) 선택하여 불러온다. \n",
        "df = pandas.read_csv('csv_data_semicolon.csv', \n",
        "                     sep=';', \n",
        "                     usecols=('LAST_NAME', 'AGE'))  # list-like (튜플로 가능)\n",
        "df"
      ],
      "execution_count": null,
      "outputs": [
        {
          "output_type": "execute_result",
          "data": {
            "text/html": [
              "<div>\n",
              "<style scoped>\n",
              "    .dataframe tbody tr th:only-of-type {\n",
              "        vertical-align: middle;\n",
              "    }\n",
              "\n",
              "    .dataframe tbody tr th {\n",
              "        vertical-align: top;\n",
              "    }\n",
              "\n",
              "    .dataframe thead th {\n",
              "        text-align: right;\n",
              "    }\n",
              "</style>\n",
              "<table border=\"1\" class=\"dataframe\">\n",
              "  <thead>\n",
              "    <tr style=\"text-align: right;\">\n",
              "      <th></th>\n",
              "      <th>LAST_NAME</th>\n",
              "      <th>AGE</th>\n",
              "    </tr>\n",
              "  </thead>\n",
              "  <tbody>\n",
              "    <tr>\n",
              "      <th>0</th>\n",
              "      <td>KIM</td>\n",
              "      <td>30</td>\n",
              "    </tr>\n",
              "    <tr>\n",
              "      <th>1</th>\n",
              "      <td>CHOI</td>\n",
              "      <td>25</td>\n",
              "    </tr>\n",
              "    <tr>\n",
              "      <th>2</th>\n",
              "      <td>LEE</td>\n",
              "      <td>41</td>\n",
              "    </tr>\n",
              "    <tr>\n",
              "      <th>3</th>\n",
              "      <td>PARK</td>\n",
              "      <td>19</td>\n",
              "    </tr>\n",
              "    <tr>\n",
              "      <th>4</th>\n",
              "      <td>LIM</td>\n",
              "      <td>36</td>\n",
              "    </tr>\n",
              "  </tbody>\n",
              "</table>\n",
              "</div>"
            ],
            "text/plain": [
              "  LAST_NAME  AGE\n",
              "0       KIM   30\n",
              "1      CHOI   25\n",
              "2       LEE   41\n",
              "3      PARK   19\n",
              "4       LIM   36"
            ]
          },
          "metadata": {
            "tags": []
          },
          "execution_count": 14
        }
      ]
    },
    {
      "cell_type": "markdown",
      "metadata": {
        "id": "-wJc3kTWY2Wc",
        "colab_type": "text"
      },
      "source": [
        "## 엑셀 데이터 불러오기 "
      ]
    },
    {
      "cell_type": "markdown",
      "metadata": {
        "id": "Z1TJ4EfyY2Wc",
        "colab_type": "text"
      },
      "source": [
        "판다스(Pandas)에서는 엑셀(excel) 형태(.xlsx/.xls)의 데이터도 쉽게 불러올 수 있다.\n",
        "- **read_excel()** 메소드를 통해 데이터를 불러오면 자동으로 데이터프레임으로 저장된다.\n",
        "    + 매개변수 ***sheet_name***을 설정하지 않으면 기본값인 **0**으로 첫 번째 sheet를 가져온다.\n",
        "    + ***sheet_name***으로 숫자가 올 수도 있고 sheet 이름이 올 수도 있다. **1**은 두 번째 sheet다.\n",
        "    + ***sheet_name=None***은 모든 sheet를 가져온다."
      ]
    },
    {
      "cell_type": "markdown",
      "metadata": {
        "id": "NGJlJsXEY2Wd",
        "colab_type": "text"
      },
      "source": [
        "[pandas.read_excel](https://pandas.pydata.org/pandas-docs/stable/reference/api/pandas.read_excel.html#pandas.read_excel)\n",
        "- Read an Excel file into a pandas DataFrame.\n",
        "- Support both **xls** and **xlsx** file extensions from a local filesystem or URL. \n",
        "    - Support an option to read a single sheet or a list of sheets.\n",
        "- pandas.**read_excel**(*io, sheet_name=0, header=0, names=None, index_col=None, usecols=None, squeeze=False, dtype=None, engine=None, converters=None, true_values=None, false_values=None, skiprows=None, nrows=None, na_values=None, keep_default_na=True, verbose=False, parse_dates=False, date_parser=None, thousands=None, comment=None, skip_footer=0, skipfooter=0, convert_float=True, mangle_dupe_cols=True, \\*\\*kwds*)"
      ]
    },
    {
      "cell_type": "markdown",
      "metadata": {
        "id": "FGxvZrxQY2Wd",
        "colab_type": "text"
      },
      "source": [
        "엑셀 파일을 처리하려면 [xlrd](https://xlrd.readthedocs.io/en/latest/) 모듈을 설치해야 한다."
      ]
    },
    {
      "cell_type": "code",
      "metadata": {
        "id": "Ra8naCDdY2Wd",
        "colab_type": "code",
        "colab": {}
      },
      "source": [
        "# 엑셀 파일을 처리하려면 xlrd 모듈을 설치해야 한다.\n",
        "# Google Colab에는 이미 설치가 되어 있다.\n",
        "# !pip install --upgrade xlrd"
      ],
      "execution_count": null,
      "outputs": []
    },
    {
      "cell_type": "code",
      "metadata": {
        "id": "E64G67aMY2Wh",
        "colab_type": "code",
        "colab": {
          "base_uri": "https://localhost:8080/",
          "height": 204
        },
        "outputId": "0302ac6b-ca4d-4dae-971e-bf92c483a2ca"
      },
      "source": [
        "# 엑셀 파일('excel_data.xlsx')을 불러온다. \n",
        "# sheet_name을 설정하지 않으면 기본값인 0으로 첫 번째 sheet를 가져온다.\n",
        "# sheet_name으로 숫자가 올 수도 있고 sheet 이름이 올 수도 있다.\n",
        "# sheet_name=None은 모든 sheet를 가져온다.\n",
        "df = pandas.read_excel('excel_data.xlsx', sheet_name='customers')\n",
        "df"
      ],
      "execution_count": null,
      "outputs": [
        {
          "output_type": "execute_result",
          "data": {
            "text/html": [
              "<div>\n",
              "<style scoped>\n",
              "    .dataframe tbody tr th:only-of-type {\n",
              "        vertical-align: middle;\n",
              "    }\n",
              "\n",
              "    .dataframe tbody tr th {\n",
              "        vertical-align: top;\n",
              "    }\n",
              "\n",
              "    .dataframe thead th {\n",
              "        text-align: right;\n",
              "    }\n",
              "</style>\n",
              "<table border=\"1\" class=\"dataframe\">\n",
              "  <thead>\n",
              "    <tr style=\"text-align: right;\">\n",
              "      <th></th>\n",
              "      <th>ID</th>\n",
              "      <th>LAST_NAME</th>\n",
              "      <th>AGE</th>\n",
              "    </tr>\n",
              "  </thead>\n",
              "  <tbody>\n",
              "    <tr>\n",
              "      <th>0</th>\n",
              "      <td>1</td>\n",
              "      <td>KIM</td>\n",
              "      <td>30</td>\n",
              "    </tr>\n",
              "    <tr>\n",
              "      <th>1</th>\n",
              "      <td>2</td>\n",
              "      <td>CHOI</td>\n",
              "      <td>25</td>\n",
              "    </tr>\n",
              "    <tr>\n",
              "      <th>2</th>\n",
              "      <td>3</td>\n",
              "      <td>LEE</td>\n",
              "      <td>41</td>\n",
              "    </tr>\n",
              "    <tr>\n",
              "      <th>3</th>\n",
              "      <td>4</td>\n",
              "      <td>PARK</td>\n",
              "      <td>19</td>\n",
              "    </tr>\n",
              "    <tr>\n",
              "      <th>4</th>\n",
              "      <td>5</td>\n",
              "      <td>LIM</td>\n",
              "      <td>36</td>\n",
              "    </tr>\n",
              "  </tbody>\n",
              "</table>\n",
              "</div>"
            ],
            "text/plain": [
              "   ID LAST_NAME  AGE\n",
              "0   1       KIM   30\n",
              "1   2      CHOI   25\n",
              "2   3       LEE   41\n",
              "3   4      PARK   19\n",
              "4   5       LIM   36"
            ]
          },
          "metadata": {
            "tags": []
          },
          "execution_count": 15
        }
      ]
    },
    {
      "cell_type": "markdown",
      "metadata": {
        "id": "aaRMilt1Y2Wj",
        "colab_type": "text"
      },
      "source": [
        "### Lab: 엑셀 파일을 데이터프레임으로 불러오기"
      ]
    },
    {
      "cell_type": "markdown",
      "metadata": {
        "id": "fRUh35mXY2Wk",
        "colab_type": "text"
      },
      "source": [
        "---\n",
        "\n",
        "- 하위 폴더 **data**에 있는 'animals.xlsx' 파일을 불러와 데이터프레임을 생성한 후 출력한다.\n",
        "- 엑셀 파일의 첫 세 컬럼('name', 'hair', 'feathers')의 데이터만 포함하는 데이터프레임을 생성한 후 출력한다.\n",
        "\n",
        "---"
      ]
    },
    {
      "cell_type": "code",
      "metadata": {
        "id": "Rv_-eU44Y2Wl",
        "colab_type": "code",
        "colab": {
          "base_uri": "https://localhost:8080/",
          "height": 419
        },
        "outputId": "ac5c8f0f-224c-4c58-bcf6-3c6aaa854088"
      },
      "source": [
        "df_animals = pandas.read_excel('animals.xlsx')\n",
        "df_animals"
      ],
      "execution_count": null,
      "outputs": [
        {
          "output_type": "execute_result",
          "data": {
            "text/html": [
              "<div>\n",
              "<style scoped>\n",
              "    .dataframe tbody tr th:only-of-type {\n",
              "        vertical-align: middle;\n",
              "    }\n",
              "\n",
              "    .dataframe tbody tr th {\n",
              "        vertical-align: top;\n",
              "    }\n",
              "\n",
              "    .dataframe thead th {\n",
              "        text-align: right;\n",
              "    }\n",
              "</style>\n",
              "<table border=\"1\" class=\"dataframe\">\n",
              "  <thead>\n",
              "    <tr style=\"text-align: right;\">\n",
              "      <th></th>\n",
              "      <th>name</th>\n",
              "      <th>hair</th>\n",
              "      <th>feathers</th>\n",
              "      <th>eggs</th>\n",
              "      <th>milk</th>\n",
              "      <th>airborne</th>\n",
              "      <th>aquatic</th>\n",
              "      <th>predator</th>\n",
              "      <th>toothed</th>\n",
              "      <th>backbone</th>\n",
              "      <th>breathes</th>\n",
              "      <th>venomous</th>\n",
              "      <th>fins</th>\n",
              "      <th>legs</th>\n",
              "      <th>tail</th>\n",
              "      <th>domestic</th>\n",
              "      <th>catsize</th>\n",
              "      <th>type</th>\n",
              "    </tr>\n",
              "  </thead>\n",
              "  <tbody>\n",
              "    <tr>\n",
              "      <th>0</th>\n",
              "      <td>aardvark</td>\n",
              "      <td>1</td>\n",
              "      <td>0</td>\n",
              "      <td>0</td>\n",
              "      <td>1</td>\n",
              "      <td>0</td>\n",
              "      <td>0</td>\n",
              "      <td>1</td>\n",
              "      <td>1</td>\n",
              "      <td>1</td>\n",
              "      <td>1</td>\n",
              "      <td>0</td>\n",
              "      <td>0</td>\n",
              "      <td>4</td>\n",
              "      <td>0</td>\n",
              "      <td>0</td>\n",
              "      <td>1</td>\n",
              "      <td>1</td>\n",
              "    </tr>\n",
              "    <tr>\n",
              "      <th>1</th>\n",
              "      <td>antelope</td>\n",
              "      <td>1</td>\n",
              "      <td>0</td>\n",
              "      <td>0</td>\n",
              "      <td>1</td>\n",
              "      <td>0</td>\n",
              "      <td>0</td>\n",
              "      <td>0</td>\n",
              "      <td>1</td>\n",
              "      <td>1</td>\n",
              "      <td>1</td>\n",
              "      <td>0</td>\n",
              "      <td>0</td>\n",
              "      <td>4</td>\n",
              "      <td>1</td>\n",
              "      <td>0</td>\n",
              "      <td>1</td>\n",
              "      <td>1</td>\n",
              "    </tr>\n",
              "    <tr>\n",
              "      <th>2</th>\n",
              "      <td>bass</td>\n",
              "      <td>0</td>\n",
              "      <td>0</td>\n",
              "      <td>1</td>\n",
              "      <td>0</td>\n",
              "      <td>0</td>\n",
              "      <td>1</td>\n",
              "      <td>1</td>\n",
              "      <td>1</td>\n",
              "      <td>1</td>\n",
              "      <td>0</td>\n",
              "      <td>0</td>\n",
              "      <td>1</td>\n",
              "      <td>0</td>\n",
              "      <td>1</td>\n",
              "      <td>0</td>\n",
              "      <td>0</td>\n",
              "      <td>4</td>\n",
              "    </tr>\n",
              "    <tr>\n",
              "      <th>3</th>\n",
              "      <td>bear</td>\n",
              "      <td>1</td>\n",
              "      <td>0</td>\n",
              "      <td>0</td>\n",
              "      <td>1</td>\n",
              "      <td>0</td>\n",
              "      <td>0</td>\n",
              "      <td>1</td>\n",
              "      <td>1</td>\n",
              "      <td>1</td>\n",
              "      <td>1</td>\n",
              "      <td>0</td>\n",
              "      <td>0</td>\n",
              "      <td>4</td>\n",
              "      <td>0</td>\n",
              "      <td>0</td>\n",
              "      <td>1</td>\n",
              "      <td>1</td>\n",
              "    </tr>\n",
              "    <tr>\n",
              "      <th>4</th>\n",
              "      <td>boar</td>\n",
              "      <td>1</td>\n",
              "      <td>0</td>\n",
              "      <td>0</td>\n",
              "      <td>1</td>\n",
              "      <td>0</td>\n",
              "      <td>0</td>\n",
              "      <td>1</td>\n",
              "      <td>1</td>\n",
              "      <td>1</td>\n",
              "      <td>1</td>\n",
              "      <td>0</td>\n",
              "      <td>0</td>\n",
              "      <td>4</td>\n",
              "      <td>1</td>\n",
              "      <td>0</td>\n",
              "      <td>1</td>\n",
              "      <td>1</td>\n",
              "    </tr>\n",
              "    <tr>\n",
              "      <th>...</th>\n",
              "      <td>...</td>\n",
              "      <td>...</td>\n",
              "      <td>...</td>\n",
              "      <td>...</td>\n",
              "      <td>...</td>\n",
              "      <td>...</td>\n",
              "      <td>...</td>\n",
              "      <td>...</td>\n",
              "      <td>...</td>\n",
              "      <td>...</td>\n",
              "      <td>...</td>\n",
              "      <td>...</td>\n",
              "      <td>...</td>\n",
              "      <td>...</td>\n",
              "      <td>...</td>\n",
              "      <td>...</td>\n",
              "      <td>...</td>\n",
              "      <td>...</td>\n",
              "    </tr>\n",
              "    <tr>\n",
              "      <th>96</th>\n",
              "      <td>wallaby</td>\n",
              "      <td>1</td>\n",
              "      <td>0</td>\n",
              "      <td>0</td>\n",
              "      <td>1</td>\n",
              "      <td>0</td>\n",
              "      <td>0</td>\n",
              "      <td>0</td>\n",
              "      <td>1</td>\n",
              "      <td>1</td>\n",
              "      <td>1</td>\n",
              "      <td>0</td>\n",
              "      <td>0</td>\n",
              "      <td>2</td>\n",
              "      <td>1</td>\n",
              "      <td>0</td>\n",
              "      <td>1</td>\n",
              "      <td>1</td>\n",
              "    </tr>\n",
              "    <tr>\n",
              "      <th>97</th>\n",
              "      <td>wasp</td>\n",
              "      <td>1</td>\n",
              "      <td>0</td>\n",
              "      <td>1</td>\n",
              "      <td>0</td>\n",
              "      <td>1</td>\n",
              "      <td>0</td>\n",
              "      <td>0</td>\n",
              "      <td>0</td>\n",
              "      <td>0</td>\n",
              "      <td>1</td>\n",
              "      <td>1</td>\n",
              "      <td>0</td>\n",
              "      <td>6</td>\n",
              "      <td>0</td>\n",
              "      <td>0</td>\n",
              "      <td>0</td>\n",
              "      <td>6</td>\n",
              "    </tr>\n",
              "    <tr>\n",
              "      <th>98</th>\n",
              "      <td>wolf</td>\n",
              "      <td>1</td>\n",
              "      <td>0</td>\n",
              "      <td>0</td>\n",
              "      <td>1</td>\n",
              "      <td>0</td>\n",
              "      <td>0</td>\n",
              "      <td>1</td>\n",
              "      <td>1</td>\n",
              "      <td>1</td>\n",
              "      <td>1</td>\n",
              "      <td>0</td>\n",
              "      <td>0</td>\n",
              "      <td>4</td>\n",
              "      <td>1</td>\n",
              "      <td>0</td>\n",
              "      <td>1</td>\n",
              "      <td>1</td>\n",
              "    </tr>\n",
              "    <tr>\n",
              "      <th>99</th>\n",
              "      <td>worm</td>\n",
              "      <td>0</td>\n",
              "      <td>0</td>\n",
              "      <td>1</td>\n",
              "      <td>0</td>\n",
              "      <td>0</td>\n",
              "      <td>0</td>\n",
              "      <td>0</td>\n",
              "      <td>0</td>\n",
              "      <td>0</td>\n",
              "      <td>1</td>\n",
              "      <td>0</td>\n",
              "      <td>0</td>\n",
              "      <td>0</td>\n",
              "      <td>0</td>\n",
              "      <td>0</td>\n",
              "      <td>0</td>\n",
              "      <td>7</td>\n",
              "    </tr>\n",
              "    <tr>\n",
              "      <th>100</th>\n",
              "      <td>wren</td>\n",
              "      <td>0</td>\n",
              "      <td>1</td>\n",
              "      <td>1</td>\n",
              "      <td>0</td>\n",
              "      <td>1</td>\n",
              "      <td>0</td>\n",
              "      <td>0</td>\n",
              "      <td>0</td>\n",
              "      <td>1</td>\n",
              "      <td>1</td>\n",
              "      <td>0</td>\n",
              "      <td>0</td>\n",
              "      <td>2</td>\n",
              "      <td>1</td>\n",
              "      <td>0</td>\n",
              "      <td>0</td>\n",
              "      <td>2</td>\n",
              "    </tr>\n",
              "  </tbody>\n",
              "</table>\n",
              "<p>101 rows × 18 columns</p>\n",
              "</div>"
            ],
            "text/plain": [
              "         name  hair  feathers  eggs  milk  ...  legs  tail  domestic  catsize  type\n",
              "0    aardvark     1         0     0     1  ...     4     0         0        1     1\n",
              "1    antelope     1         0     0     1  ...     4     1         0        1     1\n",
              "2        bass     0         0     1     0  ...     0     1         0        0     4\n",
              "3        bear     1         0     0     1  ...     4     0         0        1     1\n",
              "4        boar     1         0     0     1  ...     4     1         0        1     1\n",
              "..        ...   ...       ...   ...   ...  ...   ...   ...       ...      ...   ...\n",
              "96    wallaby     1         0     0     1  ...     2     1         0        1     1\n",
              "97       wasp     1         0     1     0  ...     6     0         0        0     6\n",
              "98       wolf     1         0     0     1  ...     4     1         0        1     1\n",
              "99       worm     0         0     1     0  ...     0     0         0        0     7\n",
              "100      wren     0         1     1     0  ...     2     1         0        0     2\n",
              "\n",
              "[101 rows x 18 columns]"
            ]
          },
          "metadata": {
            "tags": []
          },
          "execution_count": 17
        }
      ]
    },
    {
      "cell_type": "code",
      "metadata": {
        "scrolled": true,
        "id": "VgO_6mtXY2Wn",
        "colab_type": "code",
        "colab": {
          "base_uri": "https://localhost:8080/",
          "height": 419
        },
        "outputId": "6ebe9eef-c517-485b-acfe-c7affcaef036"
      },
      "source": [
        "# animals = data.loc[:, ['name', 'hair', 'feathers']]과 같은 결과를 가진다.\n",
        "df_animals3 = df_animals[['name', 'hair', 'feathers']]\n",
        "df_animals3"
      ],
      "execution_count": null,
      "outputs": [
        {
          "output_type": "execute_result",
          "data": {
            "text/html": [
              "<div>\n",
              "<style scoped>\n",
              "    .dataframe tbody tr th:only-of-type {\n",
              "        vertical-align: middle;\n",
              "    }\n",
              "\n",
              "    .dataframe tbody tr th {\n",
              "        vertical-align: top;\n",
              "    }\n",
              "\n",
              "    .dataframe thead th {\n",
              "        text-align: right;\n",
              "    }\n",
              "</style>\n",
              "<table border=\"1\" class=\"dataframe\">\n",
              "  <thead>\n",
              "    <tr style=\"text-align: right;\">\n",
              "      <th></th>\n",
              "      <th>name</th>\n",
              "      <th>hair</th>\n",
              "      <th>feathers</th>\n",
              "    </tr>\n",
              "  </thead>\n",
              "  <tbody>\n",
              "    <tr>\n",
              "      <th>0</th>\n",
              "      <td>aardvark</td>\n",
              "      <td>1</td>\n",
              "      <td>0</td>\n",
              "    </tr>\n",
              "    <tr>\n",
              "      <th>1</th>\n",
              "      <td>antelope</td>\n",
              "      <td>1</td>\n",
              "      <td>0</td>\n",
              "    </tr>\n",
              "    <tr>\n",
              "      <th>2</th>\n",
              "      <td>bass</td>\n",
              "      <td>0</td>\n",
              "      <td>0</td>\n",
              "    </tr>\n",
              "    <tr>\n",
              "      <th>3</th>\n",
              "      <td>bear</td>\n",
              "      <td>1</td>\n",
              "      <td>0</td>\n",
              "    </tr>\n",
              "    <tr>\n",
              "      <th>4</th>\n",
              "      <td>boar</td>\n",
              "      <td>1</td>\n",
              "      <td>0</td>\n",
              "    </tr>\n",
              "    <tr>\n",
              "      <th>...</th>\n",
              "      <td>...</td>\n",
              "      <td>...</td>\n",
              "      <td>...</td>\n",
              "    </tr>\n",
              "    <tr>\n",
              "      <th>96</th>\n",
              "      <td>wallaby</td>\n",
              "      <td>1</td>\n",
              "      <td>0</td>\n",
              "    </tr>\n",
              "    <tr>\n",
              "      <th>97</th>\n",
              "      <td>wasp</td>\n",
              "      <td>1</td>\n",
              "      <td>0</td>\n",
              "    </tr>\n",
              "    <tr>\n",
              "      <th>98</th>\n",
              "      <td>wolf</td>\n",
              "      <td>1</td>\n",
              "      <td>0</td>\n",
              "    </tr>\n",
              "    <tr>\n",
              "      <th>99</th>\n",
              "      <td>worm</td>\n",
              "      <td>0</td>\n",
              "      <td>0</td>\n",
              "    </tr>\n",
              "    <tr>\n",
              "      <th>100</th>\n",
              "      <td>wren</td>\n",
              "      <td>0</td>\n",
              "      <td>1</td>\n",
              "    </tr>\n",
              "  </tbody>\n",
              "</table>\n",
              "<p>101 rows × 3 columns</p>\n",
              "</div>"
            ],
            "text/plain": [
              "         name  hair  feathers\n",
              "0    aardvark     1         0\n",
              "1    antelope     1         0\n",
              "2        bass     0         0\n",
              "3        bear     1         0\n",
              "4        boar     1         0\n",
              "..        ...   ...       ...\n",
              "96    wallaby     1         0\n",
              "97       wasp     1         0\n",
              "98       wolf     1         0\n",
              "99       worm     0         0\n",
              "100      wren     0         1\n",
              "\n",
              "[101 rows x 3 columns]"
            ]
          },
          "metadata": {
            "tags": []
          },
          "execution_count": 18
        }
      ]
    },
    {
      "cell_type": "markdown",
      "metadata": {
        "id": "t9BfDPXzY2Wo",
        "colab_type": "text"
      },
      "source": [
        "## HTML 파일 불러오기 "
      ]
    },
    {
      "cell_type": "markdown",
      "metadata": {
        "id": "COguW8-PY2Wo",
        "colab_type": "text"
      },
      "source": [
        "**HTML**(hypertext markup language)이란?\n",
        "- 웹페이지 문서를 작성하는 언어다.\n",
        "- 확장자는 **.html**, **.htm**이다.\n",
        "- 홑화살괄호 (**<  >**)로 구분되는 태그들로 구성되어 있는 파일 형식이다."
      ]
    },
    {
      "cell_type": "markdown",
      "metadata": {
        "id": "9yRbeXstY2Wp",
        "colab_type": "text"
      },
      "source": [
        "판다스(Pandas)에서는 HTML 문서에 있는 표(table) 데이터를 쉽게 불러올 수 있다.\n",
        "- **read_html()** 메소드는 HTML문서에서 표(<**table**> 태그)에 해당하는 부분만 자동으로 읽어온다.\n",
        "    + pandas.**read_html**(*url*)\n",
        "    + pandas.**read_html**(*filepath*)\n",
        "    + **[주의]** : **read_html()** 메소드는 데이터프레임을 담은 **리스트**를 반환한다.    "
      ]
    },
    {
      "cell_type": "markdown",
      "metadata": {
        "id": "cTrw0wjMY2Wp",
        "colab_type": "text"
      },
      "source": [
        "[pandas.read_html](https://pandas.pydata.org/pandas-docs/stable/reference/api/pandas.read_html.html)\n",
        "- Read HTML tables into a list of DataFrame objects.\n",
        "- pandas.**read_html**(*io, match='.+', flavor=None, header=None, index_col=None, skiprows=None, attrs=None, parse_dates=False, thousands=', ', encoding=None, decimal='.', converters=None, na_values=None, keep_default_na=True, displayed_only=True*)"
      ]
    },
    {
      "cell_type": "code",
      "metadata": {
        "id": "ijdGNhf-Y2Ws",
        "colab_type": "code",
        "colab": {
          "base_uri": "https://localhost:8080/",
          "height": 407
        },
        "outputId": "d084d3e7-7dcd-4cc5-9462-6da0e5b9ebbc"
      },
      "source": [
        "# 해당 url의 html 파일 중 태그가 <table>로 구성되어 있는 데이터를 가져온다.\n",
        "# 이 때 read_html() 메소드는 데이터프레임을 담은 리스트를 반환한다.\n",
        "\n",
        "url = 'https://www.basketball-reference.com/leagues/NBA_2019_totals.html'\n",
        "list_of_dfs = pandas.read_html(url)\n",
        "df = list_of_dfs[0]\n",
        "df"
      ],
      "execution_count": null,
      "outputs": [
        {
          "output_type": "execute_result",
          "data": {
            "text/html": [
              "<div>\n",
              "<style scoped>\n",
              "    .dataframe tbody tr th:only-of-type {\n",
              "        vertical-align: middle;\n",
              "    }\n",
              "\n",
              "    .dataframe tbody tr th {\n",
              "        vertical-align: top;\n",
              "    }\n",
              "\n",
              "    .dataframe thead th {\n",
              "        text-align: right;\n",
              "    }\n",
              "</style>\n",
              "<table border=\"1\" class=\"dataframe\">\n",
              "  <thead>\n",
              "    <tr style=\"text-align: right;\">\n",
              "      <th></th>\n",
              "      <th>Rk</th>\n",
              "      <th>Player</th>\n",
              "      <th>Pos</th>\n",
              "      <th>Age</th>\n",
              "      <th>Tm</th>\n",
              "      <th>G</th>\n",
              "      <th>GS</th>\n",
              "      <th>MP</th>\n",
              "      <th>FG</th>\n",
              "      <th>FGA</th>\n",
              "      <th>FG%</th>\n",
              "      <th>3P</th>\n",
              "      <th>3PA</th>\n",
              "      <th>3P%</th>\n",
              "      <th>2P</th>\n",
              "      <th>2PA</th>\n",
              "      <th>2P%</th>\n",
              "      <th>eFG%</th>\n",
              "      <th>FT</th>\n",
              "      <th>FTA</th>\n",
              "      <th>FT%</th>\n",
              "      <th>ORB</th>\n",
              "      <th>DRB</th>\n",
              "      <th>TRB</th>\n",
              "      <th>AST</th>\n",
              "      <th>STL</th>\n",
              "      <th>BLK</th>\n",
              "      <th>TOV</th>\n",
              "      <th>PF</th>\n",
              "      <th>PTS</th>\n",
              "    </tr>\n",
              "  </thead>\n",
              "  <tbody>\n",
              "    <tr>\n",
              "      <th>0</th>\n",
              "      <td>1</td>\n",
              "      <td>Álex Abrines</td>\n",
              "      <td>SG</td>\n",
              "      <td>25</td>\n",
              "      <td>OKC</td>\n",
              "      <td>31</td>\n",
              "      <td>2</td>\n",
              "      <td>588</td>\n",
              "      <td>56</td>\n",
              "      <td>157</td>\n",
              "      <td>.357</td>\n",
              "      <td>41</td>\n",
              "      <td>127</td>\n",
              "      <td>.323</td>\n",
              "      <td>15</td>\n",
              "      <td>30</td>\n",
              "      <td>.500</td>\n",
              "      <td>.487</td>\n",
              "      <td>12</td>\n",
              "      <td>13</td>\n",
              "      <td>.923</td>\n",
              "      <td>5</td>\n",
              "      <td>43</td>\n",
              "      <td>48</td>\n",
              "      <td>20</td>\n",
              "      <td>17</td>\n",
              "      <td>6</td>\n",
              "      <td>14</td>\n",
              "      <td>53</td>\n",
              "      <td>165</td>\n",
              "    </tr>\n",
              "    <tr>\n",
              "      <th>1</th>\n",
              "      <td>2</td>\n",
              "      <td>Quincy Acy</td>\n",
              "      <td>PF</td>\n",
              "      <td>28</td>\n",
              "      <td>PHO</td>\n",
              "      <td>10</td>\n",
              "      <td>0</td>\n",
              "      <td>123</td>\n",
              "      <td>4</td>\n",
              "      <td>18</td>\n",
              "      <td>.222</td>\n",
              "      <td>2</td>\n",
              "      <td>15</td>\n",
              "      <td>.133</td>\n",
              "      <td>2</td>\n",
              "      <td>3</td>\n",
              "      <td>.667</td>\n",
              "      <td>.278</td>\n",
              "      <td>7</td>\n",
              "      <td>10</td>\n",
              "      <td>.700</td>\n",
              "      <td>3</td>\n",
              "      <td>22</td>\n",
              "      <td>25</td>\n",
              "      <td>8</td>\n",
              "      <td>1</td>\n",
              "      <td>4</td>\n",
              "      <td>4</td>\n",
              "      <td>24</td>\n",
              "      <td>17</td>\n",
              "    </tr>\n",
              "    <tr>\n",
              "      <th>2</th>\n",
              "      <td>3</td>\n",
              "      <td>Jaylen Adams</td>\n",
              "      <td>PG</td>\n",
              "      <td>22</td>\n",
              "      <td>ATL</td>\n",
              "      <td>34</td>\n",
              "      <td>1</td>\n",
              "      <td>428</td>\n",
              "      <td>38</td>\n",
              "      <td>110</td>\n",
              "      <td>.345</td>\n",
              "      <td>25</td>\n",
              "      <td>74</td>\n",
              "      <td>.338</td>\n",
              "      <td>13</td>\n",
              "      <td>36</td>\n",
              "      <td>.361</td>\n",
              "      <td>.459</td>\n",
              "      <td>7</td>\n",
              "      <td>9</td>\n",
              "      <td>.778</td>\n",
              "      <td>11</td>\n",
              "      <td>49</td>\n",
              "      <td>60</td>\n",
              "      <td>65</td>\n",
              "      <td>14</td>\n",
              "      <td>5</td>\n",
              "      <td>28</td>\n",
              "      <td>45</td>\n",
              "      <td>108</td>\n",
              "    </tr>\n",
              "    <tr>\n",
              "      <th>3</th>\n",
              "      <td>4</td>\n",
              "      <td>Steven Adams</td>\n",
              "      <td>C</td>\n",
              "      <td>25</td>\n",
              "      <td>OKC</td>\n",
              "      <td>80</td>\n",
              "      <td>80</td>\n",
              "      <td>2669</td>\n",
              "      <td>481</td>\n",
              "      <td>809</td>\n",
              "      <td>.595</td>\n",
              "      <td>0</td>\n",
              "      <td>2</td>\n",
              "      <td>.000</td>\n",
              "      <td>481</td>\n",
              "      <td>807</td>\n",
              "      <td>.596</td>\n",
              "      <td>.595</td>\n",
              "      <td>146</td>\n",
              "      <td>292</td>\n",
              "      <td>.500</td>\n",
              "      <td>391</td>\n",
              "      <td>369</td>\n",
              "      <td>760</td>\n",
              "      <td>124</td>\n",
              "      <td>117</td>\n",
              "      <td>76</td>\n",
              "      <td>135</td>\n",
              "      <td>204</td>\n",
              "      <td>1108</td>\n",
              "    </tr>\n",
              "    <tr>\n",
              "      <th>4</th>\n",
              "      <td>5</td>\n",
              "      <td>Bam Adebayo</td>\n",
              "      <td>C</td>\n",
              "      <td>21</td>\n",
              "      <td>MIA</td>\n",
              "      <td>82</td>\n",
              "      <td>28</td>\n",
              "      <td>1913</td>\n",
              "      <td>280</td>\n",
              "      <td>486</td>\n",
              "      <td>.576</td>\n",
              "      <td>3</td>\n",
              "      <td>15</td>\n",
              "      <td>.200</td>\n",
              "      <td>277</td>\n",
              "      <td>471</td>\n",
              "      <td>.588</td>\n",
              "      <td>.579</td>\n",
              "      <td>166</td>\n",
              "      <td>226</td>\n",
              "      <td>.735</td>\n",
              "      <td>165</td>\n",
              "      <td>432</td>\n",
              "      <td>597</td>\n",
              "      <td>184</td>\n",
              "      <td>71</td>\n",
              "      <td>65</td>\n",
              "      <td>121</td>\n",
              "      <td>203</td>\n",
              "      <td>729</td>\n",
              "    </tr>\n",
              "    <tr>\n",
              "      <th>...</th>\n",
              "      <td>...</td>\n",
              "      <td>...</td>\n",
              "      <td>...</td>\n",
              "      <td>...</td>\n",
              "      <td>...</td>\n",
              "      <td>...</td>\n",
              "      <td>...</td>\n",
              "      <td>...</td>\n",
              "      <td>...</td>\n",
              "      <td>...</td>\n",
              "      <td>...</td>\n",
              "      <td>...</td>\n",
              "      <td>...</td>\n",
              "      <td>...</td>\n",
              "      <td>...</td>\n",
              "      <td>...</td>\n",
              "      <td>...</td>\n",
              "      <td>...</td>\n",
              "      <td>...</td>\n",
              "      <td>...</td>\n",
              "      <td>...</td>\n",
              "      <td>...</td>\n",
              "      <td>...</td>\n",
              "      <td>...</td>\n",
              "      <td>...</td>\n",
              "      <td>...</td>\n",
              "      <td>...</td>\n",
              "      <td>...</td>\n",
              "      <td>...</td>\n",
              "      <td>...</td>\n",
              "    </tr>\n",
              "    <tr>\n",
              "      <th>729</th>\n",
              "      <td>528</td>\n",
              "      <td>Tyler Zeller</td>\n",
              "      <td>C</td>\n",
              "      <td>29</td>\n",
              "      <td>MEM</td>\n",
              "      <td>4</td>\n",
              "      <td>1</td>\n",
              "      <td>82</td>\n",
              "      <td>16</td>\n",
              "      <td>28</td>\n",
              "      <td>.571</td>\n",
              "      <td>0</td>\n",
              "      <td>0</td>\n",
              "      <td>NaN</td>\n",
              "      <td>16</td>\n",
              "      <td>28</td>\n",
              "      <td>.571</td>\n",
              "      <td>.571</td>\n",
              "      <td>14</td>\n",
              "      <td>18</td>\n",
              "      <td>.778</td>\n",
              "      <td>9</td>\n",
              "      <td>9</td>\n",
              "      <td>18</td>\n",
              "      <td>3</td>\n",
              "      <td>1</td>\n",
              "      <td>3</td>\n",
              "      <td>4</td>\n",
              "      <td>16</td>\n",
              "      <td>46</td>\n",
              "    </tr>\n",
              "    <tr>\n",
              "      <th>730</th>\n",
              "      <td>529</td>\n",
              "      <td>Ante Žižić</td>\n",
              "      <td>C</td>\n",
              "      <td>22</td>\n",
              "      <td>CLE</td>\n",
              "      <td>59</td>\n",
              "      <td>25</td>\n",
              "      <td>1082</td>\n",
              "      <td>183</td>\n",
              "      <td>331</td>\n",
              "      <td>.553</td>\n",
              "      <td>0</td>\n",
              "      <td>0</td>\n",
              "      <td>NaN</td>\n",
              "      <td>183</td>\n",
              "      <td>331</td>\n",
              "      <td>.553</td>\n",
              "      <td>.553</td>\n",
              "      <td>93</td>\n",
              "      <td>132</td>\n",
              "      <td>.705</td>\n",
              "      <td>108</td>\n",
              "      <td>212</td>\n",
              "      <td>320</td>\n",
              "      <td>53</td>\n",
              "      <td>13</td>\n",
              "      <td>22</td>\n",
              "      <td>61</td>\n",
              "      <td>113</td>\n",
              "      <td>459</td>\n",
              "    </tr>\n",
              "    <tr>\n",
              "      <th>731</th>\n",
              "      <td>530</td>\n",
              "      <td>Ivica Zubac</td>\n",
              "      <td>C</td>\n",
              "      <td>21</td>\n",
              "      <td>TOT</td>\n",
              "      <td>59</td>\n",
              "      <td>37</td>\n",
              "      <td>1040</td>\n",
              "      <td>212</td>\n",
              "      <td>379</td>\n",
              "      <td>.559</td>\n",
              "      <td>0</td>\n",
              "      <td>0</td>\n",
              "      <td>NaN</td>\n",
              "      <td>212</td>\n",
              "      <td>379</td>\n",
              "      <td>.559</td>\n",
              "      <td>.559</td>\n",
              "      <td>101</td>\n",
              "      <td>126</td>\n",
              "      <td>.802</td>\n",
              "      <td>115</td>\n",
              "      <td>247</td>\n",
              "      <td>362</td>\n",
              "      <td>63</td>\n",
              "      <td>14</td>\n",
              "      <td>51</td>\n",
              "      <td>70</td>\n",
              "      <td>137</td>\n",
              "      <td>525</td>\n",
              "    </tr>\n",
              "    <tr>\n",
              "      <th>732</th>\n",
              "      <td>530</td>\n",
              "      <td>Ivica Zubac</td>\n",
              "      <td>C</td>\n",
              "      <td>21</td>\n",
              "      <td>LAL</td>\n",
              "      <td>33</td>\n",
              "      <td>12</td>\n",
              "      <td>516</td>\n",
              "      <td>112</td>\n",
              "      <td>193</td>\n",
              "      <td>.580</td>\n",
              "      <td>0</td>\n",
              "      <td>0</td>\n",
              "      <td>NaN</td>\n",
              "      <td>112</td>\n",
              "      <td>193</td>\n",
              "      <td>.580</td>\n",
              "      <td>.580</td>\n",
              "      <td>57</td>\n",
              "      <td>66</td>\n",
              "      <td>.864</td>\n",
              "      <td>54</td>\n",
              "      <td>108</td>\n",
              "      <td>162</td>\n",
              "      <td>25</td>\n",
              "      <td>4</td>\n",
              "      <td>27</td>\n",
              "      <td>33</td>\n",
              "      <td>73</td>\n",
              "      <td>281</td>\n",
              "    </tr>\n",
              "    <tr>\n",
              "      <th>733</th>\n",
              "      <td>530</td>\n",
              "      <td>Ivica Zubac</td>\n",
              "      <td>C</td>\n",
              "      <td>21</td>\n",
              "      <td>LAC</td>\n",
              "      <td>26</td>\n",
              "      <td>25</td>\n",
              "      <td>524</td>\n",
              "      <td>100</td>\n",
              "      <td>186</td>\n",
              "      <td>.538</td>\n",
              "      <td>0</td>\n",
              "      <td>0</td>\n",
              "      <td>NaN</td>\n",
              "      <td>100</td>\n",
              "      <td>186</td>\n",
              "      <td>.538</td>\n",
              "      <td>.538</td>\n",
              "      <td>44</td>\n",
              "      <td>60</td>\n",
              "      <td>.733</td>\n",
              "      <td>61</td>\n",
              "      <td>139</td>\n",
              "      <td>200</td>\n",
              "      <td>38</td>\n",
              "      <td>10</td>\n",
              "      <td>24</td>\n",
              "      <td>37</td>\n",
              "      <td>64</td>\n",
              "      <td>244</td>\n",
              "    </tr>\n",
              "  </tbody>\n",
              "</table>\n",
              "<p>734 rows × 30 columns</p>\n",
              "</div>"
            ],
            "text/plain": [
              "      Rk        Player Pos Age   Tm   G  GS  ...  TRB  AST  STL BLK  TOV   PF   PTS\n",
              "0      1  Álex Abrines  SG  25  OKC  31   2  ...   48   20   17   6   14   53   165\n",
              "1      2    Quincy Acy  PF  28  PHO  10   0  ...   25    8    1   4    4   24    17\n",
              "2      3  Jaylen Adams  PG  22  ATL  34   1  ...   60   65   14   5   28   45   108\n",
              "3      4  Steven Adams   C  25  OKC  80  80  ...  760  124  117  76  135  204  1108\n",
              "4      5   Bam Adebayo   C  21  MIA  82  28  ...  597  184   71  65  121  203   729\n",
              "..   ...           ...  ..  ..  ...  ..  ..  ...  ...  ...  ...  ..  ...  ...   ...\n",
              "729  528  Tyler Zeller   C  29  MEM   4   1  ...   18    3    1   3    4   16    46\n",
              "730  529    Ante Žižić   C  22  CLE  59  25  ...  320   53   13  22   61  113   459\n",
              "731  530   Ivica Zubac   C  21  TOT  59  37  ...  362   63   14  51   70  137   525\n",
              "732  530   Ivica Zubac   C  21  LAL  33  12  ...  162   25    4  27   33   73   281\n",
              "733  530   Ivica Zubac   C  21  LAC  26  25  ...  200   38   10  24   37   64   244\n",
              "\n",
              "[734 rows x 30 columns]"
            ]
          },
          "metadata": {
            "tags": []
          },
          "execution_count": 2
        }
      ]
    },
    {
      "cell_type": "code",
      "metadata": {
        "id": "bPYewqLBY2Wy",
        "colab_type": "code",
        "colab": {
          "base_uri": "https://localhost:8080/",
          "height": 419
        },
        "outputId": "af48778e-bbb9-4c6b-8979-ab8d026e968f"
      },
      "source": [
        "# 파일로 저장된 html 문서는 일반 파일처럼 파일 경로를 통해 해당 페이지의 <table> 내용을 가져온다.\n",
        "# 가져올 html 파일은 'NBA_2019_totals.html'\n",
        "list_of_dfs = pandas.read_html('NBA_2019_totals.html')\n",
        "df = list_of_dfs[0]\n",
        "df"
      ],
      "execution_count": null,
      "outputs": [
        {
          "output_type": "execute_result",
          "data": {
            "text/html": [
              "<div>\n",
              "<style scoped>\n",
              "    .dataframe tbody tr th:only-of-type {\n",
              "        vertical-align: middle;\n",
              "    }\n",
              "\n",
              "    .dataframe tbody tr th {\n",
              "        vertical-align: top;\n",
              "    }\n",
              "\n",
              "    .dataframe thead th {\n",
              "        text-align: right;\n",
              "    }\n",
              "</style>\n",
              "<table border=\"1\" class=\"dataframe\">\n",
              "  <thead>\n",
              "    <tr style=\"text-align: right;\">\n",
              "      <th></th>\n",
              "      <th>Rk</th>\n",
              "      <th>Player</th>\n",
              "      <th>Pos</th>\n",
              "      <th>Age</th>\n",
              "      <th>Tm</th>\n",
              "      <th>G</th>\n",
              "      <th>GS</th>\n",
              "      <th>MP</th>\n",
              "      <th>FG</th>\n",
              "      <th>FGA</th>\n",
              "      <th>FG%</th>\n",
              "      <th>3P</th>\n",
              "      <th>3PA</th>\n",
              "      <th>3P%</th>\n",
              "      <th>2P</th>\n",
              "      <th>2PA</th>\n",
              "      <th>2P%</th>\n",
              "      <th>eFG%</th>\n",
              "      <th>FT</th>\n",
              "      <th>FTA</th>\n",
              "      <th>FT%</th>\n",
              "      <th>ORB</th>\n",
              "      <th>DRB</th>\n",
              "      <th>TRB</th>\n",
              "      <th>AST</th>\n",
              "      <th>STL</th>\n",
              "      <th>BLK</th>\n",
              "      <th>TOV</th>\n",
              "      <th>PF</th>\n",
              "      <th>PTS</th>\n",
              "    </tr>\n",
              "  </thead>\n",
              "  <tbody>\n",
              "    <tr>\n",
              "      <th>0</th>\n",
              "      <td>1</td>\n",
              "      <td>Álex Abrines</td>\n",
              "      <td>SG</td>\n",
              "      <td>25</td>\n",
              "      <td>OKC</td>\n",
              "      <td>31</td>\n",
              "      <td>2</td>\n",
              "      <td>588</td>\n",
              "      <td>56</td>\n",
              "      <td>157</td>\n",
              "      <td>.357</td>\n",
              "      <td>41</td>\n",
              "      <td>127</td>\n",
              "      <td>.323</td>\n",
              "      <td>15</td>\n",
              "      <td>30</td>\n",
              "      <td>.500</td>\n",
              "      <td>.487</td>\n",
              "      <td>12</td>\n",
              "      <td>13</td>\n",
              "      <td>.923</td>\n",
              "      <td>5</td>\n",
              "      <td>43</td>\n",
              "      <td>48</td>\n",
              "      <td>20</td>\n",
              "      <td>17</td>\n",
              "      <td>6</td>\n",
              "      <td>14</td>\n",
              "      <td>53</td>\n",
              "      <td>165</td>\n",
              "    </tr>\n",
              "    <tr>\n",
              "      <th>1</th>\n",
              "      <td>2</td>\n",
              "      <td>Quincy Acy</td>\n",
              "      <td>PF</td>\n",
              "      <td>28</td>\n",
              "      <td>PHO</td>\n",
              "      <td>10</td>\n",
              "      <td>0</td>\n",
              "      <td>123</td>\n",
              "      <td>4</td>\n",
              "      <td>18</td>\n",
              "      <td>.222</td>\n",
              "      <td>2</td>\n",
              "      <td>15</td>\n",
              "      <td>.133</td>\n",
              "      <td>2</td>\n",
              "      <td>3</td>\n",
              "      <td>.667</td>\n",
              "      <td>.278</td>\n",
              "      <td>7</td>\n",
              "      <td>10</td>\n",
              "      <td>.700</td>\n",
              "      <td>3</td>\n",
              "      <td>22</td>\n",
              "      <td>25</td>\n",
              "      <td>8</td>\n",
              "      <td>1</td>\n",
              "      <td>4</td>\n",
              "      <td>4</td>\n",
              "      <td>24</td>\n",
              "      <td>17</td>\n",
              "    </tr>\n",
              "    <tr>\n",
              "      <th>2</th>\n",
              "      <td>3</td>\n",
              "      <td>Jaylen Adams</td>\n",
              "      <td>PG</td>\n",
              "      <td>22</td>\n",
              "      <td>ATL</td>\n",
              "      <td>34</td>\n",
              "      <td>1</td>\n",
              "      <td>428</td>\n",
              "      <td>38</td>\n",
              "      <td>110</td>\n",
              "      <td>.345</td>\n",
              "      <td>25</td>\n",
              "      <td>74</td>\n",
              "      <td>.338</td>\n",
              "      <td>13</td>\n",
              "      <td>36</td>\n",
              "      <td>.361</td>\n",
              "      <td>.459</td>\n",
              "      <td>7</td>\n",
              "      <td>9</td>\n",
              "      <td>.778</td>\n",
              "      <td>11</td>\n",
              "      <td>49</td>\n",
              "      <td>60</td>\n",
              "      <td>65</td>\n",
              "      <td>14</td>\n",
              "      <td>5</td>\n",
              "      <td>28</td>\n",
              "      <td>45</td>\n",
              "      <td>108</td>\n",
              "    </tr>\n",
              "    <tr>\n",
              "      <th>3</th>\n",
              "      <td>4</td>\n",
              "      <td>Steven Adams</td>\n",
              "      <td>C</td>\n",
              "      <td>25</td>\n",
              "      <td>OKC</td>\n",
              "      <td>80</td>\n",
              "      <td>80</td>\n",
              "      <td>2669</td>\n",
              "      <td>481</td>\n",
              "      <td>809</td>\n",
              "      <td>.595</td>\n",
              "      <td>0</td>\n",
              "      <td>2</td>\n",
              "      <td>.000</td>\n",
              "      <td>481</td>\n",
              "      <td>807</td>\n",
              "      <td>.596</td>\n",
              "      <td>.595</td>\n",
              "      <td>146</td>\n",
              "      <td>292</td>\n",
              "      <td>.500</td>\n",
              "      <td>391</td>\n",
              "      <td>369</td>\n",
              "      <td>760</td>\n",
              "      <td>124</td>\n",
              "      <td>117</td>\n",
              "      <td>76</td>\n",
              "      <td>135</td>\n",
              "      <td>204</td>\n",
              "      <td>1108</td>\n",
              "    </tr>\n",
              "    <tr>\n",
              "      <th>4</th>\n",
              "      <td>5</td>\n",
              "      <td>Bam Adebayo</td>\n",
              "      <td>C</td>\n",
              "      <td>21</td>\n",
              "      <td>MIA</td>\n",
              "      <td>82</td>\n",
              "      <td>28</td>\n",
              "      <td>1913</td>\n",
              "      <td>280</td>\n",
              "      <td>486</td>\n",
              "      <td>.576</td>\n",
              "      <td>3</td>\n",
              "      <td>15</td>\n",
              "      <td>.200</td>\n",
              "      <td>277</td>\n",
              "      <td>471</td>\n",
              "      <td>.588</td>\n",
              "      <td>.579</td>\n",
              "      <td>166</td>\n",
              "      <td>226</td>\n",
              "      <td>.735</td>\n",
              "      <td>165</td>\n",
              "      <td>432</td>\n",
              "      <td>597</td>\n",
              "      <td>184</td>\n",
              "      <td>71</td>\n",
              "      <td>65</td>\n",
              "      <td>121</td>\n",
              "      <td>203</td>\n",
              "      <td>729</td>\n",
              "    </tr>\n",
              "    <tr>\n",
              "      <th>...</th>\n",
              "      <td>...</td>\n",
              "      <td>...</td>\n",
              "      <td>...</td>\n",
              "      <td>...</td>\n",
              "      <td>...</td>\n",
              "      <td>...</td>\n",
              "      <td>...</td>\n",
              "      <td>...</td>\n",
              "      <td>...</td>\n",
              "      <td>...</td>\n",
              "      <td>...</td>\n",
              "      <td>...</td>\n",
              "      <td>...</td>\n",
              "      <td>...</td>\n",
              "      <td>...</td>\n",
              "      <td>...</td>\n",
              "      <td>...</td>\n",
              "      <td>...</td>\n",
              "      <td>...</td>\n",
              "      <td>...</td>\n",
              "      <td>...</td>\n",
              "      <td>...</td>\n",
              "      <td>...</td>\n",
              "      <td>...</td>\n",
              "      <td>...</td>\n",
              "      <td>...</td>\n",
              "      <td>...</td>\n",
              "      <td>...</td>\n",
              "      <td>...</td>\n",
              "      <td>...</td>\n",
              "    </tr>\n",
              "    <tr>\n",
              "      <th>729</th>\n",
              "      <td>528</td>\n",
              "      <td>Tyler Zeller</td>\n",
              "      <td>C</td>\n",
              "      <td>29</td>\n",
              "      <td>MEM</td>\n",
              "      <td>4</td>\n",
              "      <td>1</td>\n",
              "      <td>82</td>\n",
              "      <td>16</td>\n",
              "      <td>28</td>\n",
              "      <td>.571</td>\n",
              "      <td>0</td>\n",
              "      <td>0</td>\n",
              "      <td>NaN</td>\n",
              "      <td>16</td>\n",
              "      <td>28</td>\n",
              "      <td>.571</td>\n",
              "      <td>.571</td>\n",
              "      <td>14</td>\n",
              "      <td>18</td>\n",
              "      <td>.778</td>\n",
              "      <td>9</td>\n",
              "      <td>9</td>\n",
              "      <td>18</td>\n",
              "      <td>3</td>\n",
              "      <td>1</td>\n",
              "      <td>3</td>\n",
              "      <td>4</td>\n",
              "      <td>16</td>\n",
              "      <td>46</td>\n",
              "    </tr>\n",
              "    <tr>\n",
              "      <th>730</th>\n",
              "      <td>529</td>\n",
              "      <td>Ante Žižić</td>\n",
              "      <td>C</td>\n",
              "      <td>22</td>\n",
              "      <td>CLE</td>\n",
              "      <td>59</td>\n",
              "      <td>25</td>\n",
              "      <td>1082</td>\n",
              "      <td>183</td>\n",
              "      <td>331</td>\n",
              "      <td>.553</td>\n",
              "      <td>0</td>\n",
              "      <td>0</td>\n",
              "      <td>NaN</td>\n",
              "      <td>183</td>\n",
              "      <td>331</td>\n",
              "      <td>.553</td>\n",
              "      <td>.553</td>\n",
              "      <td>93</td>\n",
              "      <td>132</td>\n",
              "      <td>.705</td>\n",
              "      <td>108</td>\n",
              "      <td>212</td>\n",
              "      <td>320</td>\n",
              "      <td>53</td>\n",
              "      <td>13</td>\n",
              "      <td>22</td>\n",
              "      <td>61</td>\n",
              "      <td>113</td>\n",
              "      <td>459</td>\n",
              "    </tr>\n",
              "    <tr>\n",
              "      <th>731</th>\n",
              "      <td>530</td>\n",
              "      <td>Ivica Zubac</td>\n",
              "      <td>C</td>\n",
              "      <td>21</td>\n",
              "      <td>TOT</td>\n",
              "      <td>59</td>\n",
              "      <td>37</td>\n",
              "      <td>1040</td>\n",
              "      <td>212</td>\n",
              "      <td>379</td>\n",
              "      <td>.559</td>\n",
              "      <td>0</td>\n",
              "      <td>0</td>\n",
              "      <td>NaN</td>\n",
              "      <td>212</td>\n",
              "      <td>379</td>\n",
              "      <td>.559</td>\n",
              "      <td>.559</td>\n",
              "      <td>101</td>\n",
              "      <td>126</td>\n",
              "      <td>.802</td>\n",
              "      <td>115</td>\n",
              "      <td>247</td>\n",
              "      <td>362</td>\n",
              "      <td>63</td>\n",
              "      <td>14</td>\n",
              "      <td>51</td>\n",
              "      <td>70</td>\n",
              "      <td>137</td>\n",
              "      <td>525</td>\n",
              "    </tr>\n",
              "    <tr>\n",
              "      <th>732</th>\n",
              "      <td>530</td>\n",
              "      <td>Ivica Zubac</td>\n",
              "      <td>C</td>\n",
              "      <td>21</td>\n",
              "      <td>LAL</td>\n",
              "      <td>33</td>\n",
              "      <td>12</td>\n",
              "      <td>516</td>\n",
              "      <td>112</td>\n",
              "      <td>193</td>\n",
              "      <td>.580</td>\n",
              "      <td>0</td>\n",
              "      <td>0</td>\n",
              "      <td>NaN</td>\n",
              "      <td>112</td>\n",
              "      <td>193</td>\n",
              "      <td>.580</td>\n",
              "      <td>.580</td>\n",
              "      <td>57</td>\n",
              "      <td>66</td>\n",
              "      <td>.864</td>\n",
              "      <td>54</td>\n",
              "      <td>108</td>\n",
              "      <td>162</td>\n",
              "      <td>25</td>\n",
              "      <td>4</td>\n",
              "      <td>27</td>\n",
              "      <td>33</td>\n",
              "      <td>73</td>\n",
              "      <td>281</td>\n",
              "    </tr>\n",
              "    <tr>\n",
              "      <th>733</th>\n",
              "      <td>530</td>\n",
              "      <td>Ivica Zubac</td>\n",
              "      <td>C</td>\n",
              "      <td>21</td>\n",
              "      <td>LAC</td>\n",
              "      <td>26</td>\n",
              "      <td>25</td>\n",
              "      <td>524</td>\n",
              "      <td>100</td>\n",
              "      <td>186</td>\n",
              "      <td>.538</td>\n",
              "      <td>0</td>\n",
              "      <td>0</td>\n",
              "      <td>NaN</td>\n",
              "      <td>100</td>\n",
              "      <td>186</td>\n",
              "      <td>.538</td>\n",
              "      <td>.538</td>\n",
              "      <td>44</td>\n",
              "      <td>60</td>\n",
              "      <td>.733</td>\n",
              "      <td>61</td>\n",
              "      <td>139</td>\n",
              "      <td>200</td>\n",
              "      <td>38</td>\n",
              "      <td>10</td>\n",
              "      <td>24</td>\n",
              "      <td>37</td>\n",
              "      <td>64</td>\n",
              "      <td>244</td>\n",
              "    </tr>\n",
              "  </tbody>\n",
              "</table>\n",
              "<p>734 rows × 30 columns</p>\n",
              "</div>"
            ],
            "text/plain": [
              "      Rk        Player Pos Age   Tm   G  GS  ...  TRB  AST  STL BLK  TOV   PF   PTS\n",
              "0      1  Álex Abrines  SG  25  OKC  31   2  ...   48   20   17   6   14   53   165\n",
              "1      2    Quincy Acy  PF  28  PHO  10   0  ...   25    8    1   4    4   24    17\n",
              "2      3  Jaylen Adams  PG  22  ATL  34   1  ...   60   65   14   5   28   45   108\n",
              "3      4  Steven Adams   C  25  OKC  80  80  ...  760  124  117  76  135  204  1108\n",
              "4      5   Bam Adebayo   C  21  MIA  82  28  ...  597  184   71  65  121  203   729\n",
              "..   ...           ...  ..  ..  ...  ..  ..  ...  ...  ...  ...  ..  ...  ...   ...\n",
              "729  528  Tyler Zeller   C  29  MEM   4   1  ...   18    3    1   3    4   16    46\n",
              "730  529    Ante Žižić   C  22  CLE  59  25  ...  320   53   13  22   61  113   459\n",
              "731  530   Ivica Zubac   C  21  TOT  59  37  ...  362   63   14  51   70  137   525\n",
              "732  530   Ivica Zubac   C  21  LAL  33  12  ...  162   25    4  27   33   73   281\n",
              "733  530   Ivica Zubac   C  21  LAC  26  25  ...  200   38   10  24   37   64   244\n",
              "\n",
              "[734 rows x 30 columns]"
            ]
          },
          "metadata": {
            "tags": []
          },
          "execution_count": 22
        }
      ]
    },
    {
      "cell_type": "markdown",
      "metadata": {
        "id": "UdhaPHaKY2W3",
        "colab_type": "text"
      },
      "source": [
        "## JSON 파일 불러오기 "
      ]
    },
    {
      "cell_type": "markdown",
      "metadata": {
        "id": "S-u7LVG2Y2W3",
        "colab_type": "text"
      },
      "source": [
        "**JSON**(**J**ava**S**cript **O**bject **N**otation)이란?\n",
        "- Lightweight data-interchange format\n",
        "    + 사람이 읽을 수 있고 기계가 처리할 수 있는 경량 데이터 교환 형식이다.\n",
        "    + 파이썬의 딕셔너리처럼 키:매핑값 형식으로 내용을 저장한다.\n",
        "- 확장자는 **.json**이다. \n",
        "- 프로그래밍 언어와 플랫폼에 독립적이라 많은 응용 프로그램에서 데이터 교환용으로 많이 사용한다.\n",
        "    + 특히 웹에서 데이터를 주고 받을 때 자주 사용하는 파일 형식이다.\n",
        "- 추가 정보 : http://json.org    "
      ]
    },
    {
      "cell_type": "markdown",
      "metadata": {
        "id": "xGN1Y45TY2W4",
        "colab_type": "text"
      },
      "source": [
        "**json** 형식은 파이썬의 딕셔너리와 유사하다. 하지만 트리(tree) 구조로 이해를 하는 것이 좀더 직관적이다.\n",
        "- <https://www.sitepoint.com/demos/online-json-tree-viewer/>를 이용하면\n",
        "- JSON 파일을 트리구조로 시각화 할 수 있다.\n",
        "\n"
      ]
    },
    {
      "cell_type": "markdown",
      "metadata": {
        "id": "RL5vL3pfY2W4",
        "colab_type": "text"
      },
      "source": [
        "판다스(Pandas)에서는 JSON 파일도 쉽게 불러올 수 있다.\n",
        "- **read_json()** 메소드를 통해 데이터를 불러오면 자동으로 데이터프레임으로 저장된다.\n",
        "    + pandas.**read_json**(*url*)\n",
        "    + pandas.**read_json**(*filepath*)"
      ]
    },
    {
      "cell_type": "markdown",
      "metadata": {
        "id": "zzgaZP8VY2W4",
        "colab_type": "text"
      },
      "source": [
        "[pandas.read_json](https://pandas.pydata.org/pandas-docs/stable/reference/api/pandas.read_json.html)\n",
        "- Convert a JSON string to pandas object.\n",
        "- pandas.**read_json**(*path_or_buf=None, orient=None, typ='frame', dtype=None, convert_axes=None, convert_dates=True, keep_default_dates=True, numpy=False, precise_float=False, date_unit=None, encoding=None, lines=False, chunksize=None, compression='infer'*)"
      ]
    },
    {
      "cell_type": "code",
      "metadata": {
        "id": "8vv2amgRY2W7",
        "colab_type": "code",
        "colab": {
          "base_uri": "https://localhost:8080/",
          "height": 198
        },
        "outputId": "acbb1431-729e-422b-ebf6-c48002654f8e"
      },
      "source": [
        "# 해당 url의 json 파일을 가져온다.\n",
        "url = 'https://api.coindesk.com/v1/bpi/currentprice/KRW.json' \n",
        "df = pandas.read_json(url)\n",
        "df"
      ],
      "execution_count": null,
      "outputs": [
        {
          "output_type": "execute_result",
          "data": {
            "text/html": [
              "<div>\n",
              "<style scoped>\n",
              "    .dataframe tbody tr th:only-of-type {\n",
              "        vertical-align: middle;\n",
              "    }\n",
              "\n",
              "    .dataframe tbody tr th {\n",
              "        vertical-align: top;\n",
              "    }\n",
              "\n",
              "    .dataframe thead th {\n",
              "        text-align: right;\n",
              "    }\n",
              "</style>\n",
              "<table border=\"1\" class=\"dataframe\">\n",
              "  <thead>\n",
              "    <tr style=\"text-align: right;\">\n",
              "      <th></th>\n",
              "      <th>time</th>\n",
              "      <th>disclaimer</th>\n",
              "      <th>bpi</th>\n",
              "    </tr>\n",
              "  </thead>\n",
              "  <tbody>\n",
              "    <tr>\n",
              "      <th>updated</th>\n",
              "      <td>Jul 25, 2020 13:00:00 UTC</td>\n",
              "      <td>This data was produced from the CoinDesk Bitco...</td>\n",
              "      <td>NaN</td>\n",
              "    </tr>\n",
              "    <tr>\n",
              "      <th>updatedISO</th>\n",
              "      <td>2020-07-25T13:00:00+00:00</td>\n",
              "      <td>This data was produced from the CoinDesk Bitco...</td>\n",
              "      <td>NaN</td>\n",
              "    </tr>\n",
              "    <tr>\n",
              "      <th>updateduk</th>\n",
              "      <td>Jul 25, 2020 at 14:00 BST</td>\n",
              "      <td>This data was produced from the CoinDesk Bitco...</td>\n",
              "      <td>NaN</td>\n",
              "    </tr>\n",
              "    <tr>\n",
              "      <th>USD</th>\n",
              "      <td>NaN</td>\n",
              "      <td>This data was produced from the CoinDesk Bitco...</td>\n",
              "      <td>{'code': 'USD', 'rate': '9,624.5054', 'descrip...</td>\n",
              "    </tr>\n",
              "    <tr>\n",
              "      <th>KRW</th>\n",
              "      <td>NaN</td>\n",
              "      <td>This data was produced from the CoinDesk Bitco...</td>\n",
              "      <td>{'code': 'KRW', 'rate': '11,564,709.0904', 'de...</td>\n",
              "    </tr>\n",
              "  </tbody>\n",
              "</table>\n",
              "</div>"
            ],
            "text/plain": [
              "                                 time  ...                                                bpi\n",
              "updated     Jul 25, 2020 13:00:00 UTC  ...                                                NaN\n",
              "updatedISO  2020-07-25T13:00:00+00:00  ...                                                NaN\n",
              "updateduk   Jul 25, 2020 at 14:00 BST  ...                                                NaN\n",
              "USD                               NaN  ...  {'code': 'USD', 'rate': '9,624.5054', 'descrip...\n",
              "KRW                               NaN  ...  {'code': 'KRW', 'rate': '11,564,709.0904', 'de...\n",
              "\n",
              "[5 rows x 3 columns]"
            ]
          },
          "metadata": {
            "tags": []
          },
          "execution_count": 4
        }
      ]
    },
    {
      "cell_type": "code",
      "metadata": {
        "id": "FV_8vewnY2W_",
        "colab_type": "code",
        "colab": {
          "base_uri": "https://localhost:8080/",
          "height": 204
        },
        "outputId": "a70317cc-3e11-4523-f957-2140c174ebac"
      },
      "source": [
        "# 파일로 저장된 json 문서는 일반 파일처럼 파일 경로를 통해 json 파일을 가져온다.\n",
        "# 가져올 json 파일은 'bitcoin_price.json'\n",
        "df = pandas.read_json('bitcoin_price.json')\n",
        "df"
      ],
      "execution_count": null,
      "outputs": [
        {
          "output_type": "execute_result",
          "data": {
            "text/html": [
              "<div>\n",
              "<style scoped>\n",
              "    .dataframe tbody tr th:only-of-type {\n",
              "        vertical-align: middle;\n",
              "    }\n",
              "\n",
              "    .dataframe tbody tr th {\n",
              "        vertical-align: top;\n",
              "    }\n",
              "\n",
              "    .dataframe thead th {\n",
              "        text-align: right;\n",
              "    }\n",
              "</style>\n",
              "<table border=\"1\" class=\"dataframe\">\n",
              "  <thead>\n",
              "    <tr style=\"text-align: right;\">\n",
              "      <th></th>\n",
              "      <th>time</th>\n",
              "      <th>disclaimer</th>\n",
              "      <th>bpi</th>\n",
              "    </tr>\n",
              "  </thead>\n",
              "  <tbody>\n",
              "    <tr>\n",
              "      <th>updated</th>\n",
              "      <td>Apr 2, 2020 10:44:00 UTC</td>\n",
              "      <td>This data was produced from the CoinDesk Bitco...</td>\n",
              "      <td>NaN</td>\n",
              "    </tr>\n",
              "    <tr>\n",
              "      <th>updatedISO</th>\n",
              "      <td>2020-04-02T10:44:00+00:00</td>\n",
              "      <td>This data was produced from the CoinDesk Bitco...</td>\n",
              "      <td>NaN</td>\n",
              "    </tr>\n",
              "    <tr>\n",
              "      <th>updateduk</th>\n",
              "      <td>Apr 2, 2020 at 11:44 BST</td>\n",
              "      <td>This data was produced from the CoinDesk Bitco...</td>\n",
              "      <td>NaN</td>\n",
              "    </tr>\n",
              "    <tr>\n",
              "      <th>USD</th>\n",
              "      <td>NaN</td>\n",
              "      <td>This data was produced from the CoinDesk Bitco...</td>\n",
              "      <td>{'code': 'USD', 'rate': '6,663.3517', 'descrip...</td>\n",
              "    </tr>\n",
              "    <tr>\n",
              "      <th>KRW</th>\n",
              "      <td>NaN</td>\n",
              "      <td>This data was produced from the CoinDesk Bitco...</td>\n",
              "      <td>{'code': 'KRW', 'rate': '8,189,592.6911', 'des...</td>\n",
              "    </tr>\n",
              "  </tbody>\n",
              "</table>\n",
              "</div>"
            ],
            "text/plain": [
              "                                 time  ...                                                bpi\n",
              "updated      Apr 2, 2020 10:44:00 UTC  ...                                                NaN\n",
              "updatedISO  2020-04-02T10:44:00+00:00  ...                                                NaN\n",
              "updateduk    Apr 2, 2020 at 11:44 BST  ...                                                NaN\n",
              "USD                               NaN  ...  {'code': 'USD', 'rate': '6,663.3517', 'descrip...\n",
              "KRW                               NaN  ...  {'code': 'KRW', 'rate': '8,189,592.6911', 'des...\n",
              "\n",
              "[5 rows x 3 columns]"
            ]
          },
          "metadata": {
            "tags": []
          },
          "execution_count": 27
        }
      ]
    },
    {
      "cell_type": "markdown",
      "metadata": {
        "id": "kp-TAx4KY2XD",
        "colab_type": "text"
      },
      "source": [
        "[pandas.json_normalize](https://pandas.pydata.org/pandas-docs/stable/reference/api/pandas.json_normalize.html)\n",
        "- Normalize semi-structured JSON data into a flat table.\n",
        "- pandas.**json_normalize**(*data: Union[Dict, List[Dict]], record_path: Union[str, List, NoneType]=None, meta: Union[str, List[Union[str, List[str]]], NoneType]=None, meta_prefix: Union[str, NoneType]=None, record_prefix: Union[str, NoneType]=None, errors: Union[str, NoneType]='raise', sep: str='.', max_level: Union[int, NoneType]=None*) "
      ]
    },
    {
      "cell_type": "code",
      "metadata": {
        "id": "7yeV0G_OY2XG",
        "colab_type": "code",
        "colab": {
          "base_uri": "https://localhost:8080/",
          "height": 168
        },
        "outputId": "2bcd4400-d2f1-47f3-cf75-a2f5e02e1abb"
      },
      "source": [
        "# json_normalize() 함수를 이용하여 중첩 구조의 json 파일을 평평한 테이블(flat table) 형식으로 변환한다.\n",
        "# 가져올 json 파일은 'bitcoin_price.json'\n",
        "import json\n",
        "# file = open('bitcoin_price.json')  # 파일은 연다.\n",
        "# data = json.load(file)                  # 파일을 json으로 불러온다.\n",
        "# df = pandas.json_normalize(data)        # 중첩 json 파일 구조를 단순한 테이블 형식으로 정규화한다.\n",
        "df = pandas.json_normalize(json.load(open('bitcoin_price.json')))\n",
        "df"
      ],
      "execution_count": null,
      "outputs": [
        {
          "output_type": "execute_result",
          "data": {
            "text/html": [
              "<div>\n",
              "<style scoped>\n",
              "    .dataframe tbody tr th:only-of-type {\n",
              "        vertical-align: middle;\n",
              "    }\n",
              "\n",
              "    .dataframe tbody tr th {\n",
              "        vertical-align: top;\n",
              "    }\n",
              "\n",
              "    .dataframe thead th {\n",
              "        text-align: right;\n",
              "    }\n",
              "</style>\n",
              "<table border=\"1\" class=\"dataframe\">\n",
              "  <thead>\n",
              "    <tr style=\"text-align: right;\">\n",
              "      <th></th>\n",
              "      <th>disclaimer</th>\n",
              "      <th>time.updated</th>\n",
              "      <th>time.updatedISO</th>\n",
              "      <th>time.updateduk</th>\n",
              "      <th>bpi.USD.code</th>\n",
              "      <th>bpi.USD.rate</th>\n",
              "      <th>bpi.USD.description</th>\n",
              "      <th>bpi.USD.rate_float</th>\n",
              "      <th>bpi.KRW.code</th>\n",
              "      <th>bpi.KRW.rate</th>\n",
              "      <th>bpi.KRW.description</th>\n",
              "      <th>bpi.KRW.rate_float</th>\n",
              "    </tr>\n",
              "  </thead>\n",
              "  <tbody>\n",
              "    <tr>\n",
              "      <th>0</th>\n",
              "      <td>This data was produced from the CoinDesk Bitco...</td>\n",
              "      <td>Apr 2, 2020 10:44:00 UTC</td>\n",
              "      <td>2020-04-02T10:44:00+00:00</td>\n",
              "      <td>Apr 2, 2020 at 11:44 BST</td>\n",
              "      <td>USD</td>\n",
              "      <td>6,663.3517</td>\n",
              "      <td>United States Dollar</td>\n",
              "      <td>6663.3517</td>\n",
              "      <td>KRW</td>\n",
              "      <td>8,189,592.6911</td>\n",
              "      <td>South Korean Won</td>\n",
              "      <td>8.189593e+06</td>\n",
              "    </tr>\n",
              "  </tbody>\n",
              "</table>\n",
              "</div>"
            ],
            "text/plain": [
              "                                          disclaimer  ... bpi.KRW.rate_float\n",
              "0  This data was produced from the CoinDesk Bitco...  ...       8.189593e+06\n",
              "\n",
              "[1 rows x 12 columns]"
            ]
          },
          "metadata": {
            "tags": []
          },
          "execution_count": 31
        }
      ]
    },
    {
      "cell_type": "markdown",
      "metadata": {
        "id": "P0TItuHOY2XI",
        "colab_type": "text"
      },
      "source": [
        "## 클립보드 내용 불러오기 "
      ]
    },
    {
      "cell_type": "markdown",
      "metadata": {
        "id": "T4VTPK7iY2XJ",
        "colab_type": "text"
      },
      "source": [
        "[pandas.read_clipboard](https://pandas.pydata.org/pandas-docs/stable/reference/api/pandas.read_clipboard.html)\n",
        "- Read text from clipboard and pass to read_csv.\n",
        "- pandas.**read_clipboard**(*sep='\\s+', **kwargs*)\n",
        "    + ***sep*** : *str, default ‘s+’*\n",
        "        - A string or regex delimiter. The default of ‘s+’ denotes one or more whitespace characters.\n",
        "    + *****kwargs*** : See **read_csv** for the full argument list."
      ]
    },
    {
      "cell_type": "markdown",
      "metadata": {
        "id": "YGYoCDfuY2XJ",
        "colab_type": "text"
      },
      "source": [
        "## 데이터 저장하기"
      ]
    },
    {
      "cell_type": "markdown",
      "metadata": {
        "id": "lyQoPAkeY2XK",
        "colab_type": "text"
      },
      "source": [
        "판다스(Pandas)를 활용하면 csv 혹은 엑셀(excel) 형태의 데이터로 저장하는 것도 용이하다.\n",
        "- **to_csv()**와 **to_excel()** 메소드를 사용한다."
      ]
    },
    {
      "cell_type": "markdown",
      "metadata": {
        "id": "CzDNVuMzY2XK",
        "colab_type": "text"
      },
      "source": [
        "[pandas.DataFrame.to_csv](https://pandas.pydata.org/pandas-docs/stable/reference/api/pandas.DataFrame.to_csv.html#pandas.DataFrame.to_csv)\n",
        "- Write object to a comma-separated values (csv) file.\n",
        "- DataFrame.**to_csv**(*self, path_or_buf=None, sep=', ', na_rep='', float_format=None, columns=None, header=True, index=True, index_label=None, mode='w', encoding=None, compression='infer', quoting=None, quotechar='\"', line_terminator=None, chunksize=None, date_format=None, doublequote=True, escapechar=None, decimal='.'*)\n",
        "\n",
        "[pandas.DataFrame.to_excel](https://pandas.pydata.org/pandas-docs/stable/reference/api/pandas.DataFrame.to_excel.html#pandas.DataFrame.to_excel)\n",
        "- Write object to an Excel sheet.\n",
        "- To write a single object to an Excel .xlsx file it is only necessary to specify a target file name. To write to multiple sheets it is necessary to create an *ExcelWriter* object with a target file name, and specify a sheet in the file to write to.\n",
        "- Multiple sheets may be written to by specifying unique *sheet_name*. With all data written to the file, it is necessary to save the changes. Note that creating an *ExcelWriter* object with a file name that already exists will result in the contents of the existing file being erased.\n",
        "- DataFrame.**to_excel**(*self, excel_writer, sheet_name='Sheet1', na_rep='', float_format=None, columns=None, header=True, index=True, index_label=None, startrow=0, startcol=0, engine=None, merge_cells=True, encoding=None, inf_rep='inf', verbose=True, freeze_panes=None*)"
      ]
    },
    {
      "cell_type": "code",
      "metadata": {
        "id": "hG-j-XL0Y2XK",
        "colab_type": "code",
        "colab": {
          "base_uri": "https://localhost:8080/",
          "height": 204
        },
        "outputId": "59c53012-0e4b-410c-d3cf-aaf6a47b5ad5"
      },
      "source": [
        "df = pandas.read_csv('csv_data.csv')\n",
        "df"
      ],
      "execution_count": null,
      "outputs": [
        {
          "output_type": "execute_result",
          "data": {
            "text/html": [
              "<div>\n",
              "<style scoped>\n",
              "    .dataframe tbody tr th:only-of-type {\n",
              "        vertical-align: middle;\n",
              "    }\n",
              "\n",
              "    .dataframe tbody tr th {\n",
              "        vertical-align: top;\n",
              "    }\n",
              "\n",
              "    .dataframe thead th {\n",
              "        text-align: right;\n",
              "    }\n",
              "</style>\n",
              "<table border=\"1\" class=\"dataframe\">\n",
              "  <thead>\n",
              "    <tr style=\"text-align: right;\">\n",
              "      <th></th>\n",
              "      <th>ID</th>\n",
              "      <th>LAST_NAME</th>\n",
              "      <th>AGE</th>\n",
              "    </tr>\n",
              "  </thead>\n",
              "  <tbody>\n",
              "    <tr>\n",
              "      <th>0</th>\n",
              "      <td>1</td>\n",
              "      <td>KIM</td>\n",
              "      <td>30</td>\n",
              "    </tr>\n",
              "    <tr>\n",
              "      <th>1</th>\n",
              "      <td>2</td>\n",
              "      <td>CHOI</td>\n",
              "      <td>25</td>\n",
              "    </tr>\n",
              "    <tr>\n",
              "      <th>2</th>\n",
              "      <td>3</td>\n",
              "      <td>LEE</td>\n",
              "      <td>41</td>\n",
              "    </tr>\n",
              "    <tr>\n",
              "      <th>3</th>\n",
              "      <td>4</td>\n",
              "      <td>PARK</td>\n",
              "      <td>19</td>\n",
              "    </tr>\n",
              "    <tr>\n",
              "      <th>4</th>\n",
              "      <td>5</td>\n",
              "      <td>LIM</td>\n",
              "      <td>36</td>\n",
              "    </tr>\n",
              "  </tbody>\n",
              "</table>\n",
              "</div>"
            ],
            "text/plain": [
              "   ID LAST_NAME  AGE\n",
              "0   1       KIM   30\n",
              "1   2      CHOI   25\n",
              "2   3       LEE   41\n",
              "3   4      PARK   19\n",
              "4   5       LIM   36"
            ]
          },
          "metadata": {
            "tags": []
          },
          "execution_count": 32
        }
      ]
    },
    {
      "cell_type": "code",
      "metadata": {
        "id": "_ZyxQaVeY2XO",
        "colab_type": "code",
        "colab": {}
      },
      "source": [
        "# 앞서 데이터프레임으로 읽어 들인 df를 CSV 파일 형식으로 저장한다.\n",
        "# 매개변수 sep를 설정하지 않으면 기본값인 쉼표를 구분자로 하여 파일을 저장한다.\n",
        "df.to_csv('data.csv')  \n",
        "# df.to_csv('data.csv', sep = ',') 와 같다."
      ],
      "execution_count": null,
      "outputs": []
    },
    {
      "cell_type": "code",
      "metadata": {
        "id": "iTpK-ZzGY2XQ",
        "colab_type": "code",
        "colab": {}
      },
      "source": [
        "# 파일이 잘 저장되었는지 확인한다.\n",
        "%pycat data.csv"
      ],
      "execution_count": null,
      "outputs": []
    },
    {
      "cell_type": "code",
      "metadata": {
        "id": "-dtXXcOeuDWw",
        "colab_type": "code",
        "colab": {}
      },
      "source": [
        "# --- 로컬 파일로 내려받기를 한다.\n",
        "from google.colab import files\n",
        "files.download('data.csv')"
      ],
      "execution_count": null,
      "outputs": []
    },
    {
      "cell_type": "markdown",
      "metadata": {
        "id": "fiR7MNfMY2XR",
        "colab_type": "text"
      },
      "source": [
        "엑셀 파일을 읽고 쓰려면 [openpyxl](https://openpyxl.readthedocs.io/en/stable/) 모듈을 설치해야 한다."
      ]
    },
    {
      "cell_type": "code",
      "metadata": {
        "id": "ERT1tOXdY2XS",
        "colab_type": "code",
        "colab": {}
      },
      "source": [
        "# 엑셀 파일을 읽고 쓰려면 openpyxl 모듈을 설치해야 한다.\n",
        "# Google Colab에는 이미 설치가 되어 있다.\n",
        "# !pip install --upgrade openpyxl"
      ],
      "execution_count": null,
      "outputs": []
    },
    {
      "cell_type": "code",
      "metadata": {
        "id": "G4NjPJKjY2XV",
        "colab_type": "code",
        "colab": {}
      },
      "source": [
        "# 앞서 데이터프레임으로 읽어 들인 df를 엑셀 파일 형식으로 저장한다.\n",
        "# 매개변수 sheet_name을 설정하면 sheet의 이름을 지정하고 저장할 수 있다.\n",
        "df.to_excel('data.xlsx', sheet_name='Members')"
      ],
      "execution_count": null,
      "outputs": []
    },
    {
      "cell_type": "markdown",
      "metadata": {
        "id": "bytrxrE5Y2XV",
        "colab_type": "text"
      },
      "source": [
        "**실행 결과** : 파일을 성공적으로 저장하면(즉, 오류가 안 나면) 결과는 출력하지 않는다."
      ]
    },
    {
      "cell_type": "code",
      "metadata": {
        "id": "xUnVeeD3uM8E",
        "colab_type": "code",
        "colab": {}
      },
      "source": [
        "# --- 로컬 파일로 내려받기를 한다.\n",
        "from google.colab import files\n",
        "files.download('data.xlsx')"
      ],
      "execution_count": null,
      "outputs": []
    },
    {
      "cell_type": "markdown",
      "metadata": {
        "id": "DuzG_ZZrY2XW",
        "colab_type": "text"
      },
      "source": [
        "### Lab: 데이터프레임을 엑셀 파일로 저장하기"
      ]
    },
    {
      "cell_type": "markdown",
      "metadata": {
        "id": "M0CfshpiY2XW",
        "colab_type": "text"
      },
      "source": [
        "---\n",
        "\n",
        "- 앞서 < Lab: 엑셀 파일을 데이터프레임으로 불러오기 >에서 만든 데이터프레임의 데이터를 하위 폴더 **data**에 엑셀 파일로 저장한다.\n",
        "- 저장할 파일 이름은 'animals_sub.xlsx'로 한다.\n",
        "\n",
        "--- "
      ]
    },
    {
      "cell_type": "code",
      "metadata": {
        "id": "VQKcGWLjY2XX",
        "colab_type": "code",
        "colab": {}
      },
      "source": [
        "df_animals3.to_excel('animals_sub.xlsx', sheet_name='Animals')"
      ],
      "execution_count": null,
      "outputs": []
    },
    {
      "cell_type": "code",
      "metadata": {
        "id": "rgN65KYwogdg",
        "colab_type": "code",
        "colab": {}
      },
      "source": [
        "# --- 로컬 파일로 내려받기를 한다.\n",
        "from google.colab import files\n",
        "files.download('animals_sub.xlsx')"
      ],
      "execution_count": null,
      "outputs": []
    },
    {
      "cell_type": "markdown",
      "metadata": {
        "id": "tJT2FfE3msMD",
        "colab_type": "text"
      },
      "source": [
        "# 데이터프레임 열람"
      ]
    },
    {
      "cell_type": "code",
      "metadata": {
        "id": "g_2ejc4BmsME",
        "colab_type": "code",
        "colab": {
          "base_uri": "https://localhost:8080/",
          "height": 359
        },
        "outputId": "20d38cc6-7914-4b8c-aa6c-d34294cc91a5"
      },
      "source": [
        "n = 4, 0, 3, 0, 2, 5, 3, 0, 1, 2\n",
        "integers = 73, -29, 85, -32, 97, 11, 55, -78, 49, 61\n",
        "floats = 0.35,  0.12,  0.71, -0.09, -1.21, 1.32, -0.65, 0.34, -1.23, -0.79\n",
        "grades = list('AAABBb') + [numpy.nan] + list('CAB')\n",
        "\n",
        "df = pandas.DataFrame({'A': integers,\n",
        "                       'B': floats,\n",
        "                       'C': n,\n",
        "                       'D': pandas.Categorical(grades),\n",
        "                       'E': pandas.date_range('2050-4-10', periods=10)},\n",
        "                      index=list('abcdefghij'))\n",
        "df"
      ],
      "execution_count": null,
      "outputs": [
        {
          "output_type": "execute_result",
          "data": {
            "text/html": [
              "<div>\n",
              "<style scoped>\n",
              "    .dataframe tbody tr th:only-of-type {\n",
              "        vertical-align: middle;\n",
              "    }\n",
              "\n",
              "    .dataframe tbody tr th {\n",
              "        vertical-align: top;\n",
              "    }\n",
              "\n",
              "    .dataframe thead th {\n",
              "        text-align: right;\n",
              "    }\n",
              "</style>\n",
              "<table border=\"1\" class=\"dataframe\">\n",
              "  <thead>\n",
              "    <tr style=\"text-align: right;\">\n",
              "      <th></th>\n",
              "      <th>A</th>\n",
              "      <th>B</th>\n",
              "      <th>C</th>\n",
              "      <th>D</th>\n",
              "      <th>E</th>\n",
              "    </tr>\n",
              "  </thead>\n",
              "  <tbody>\n",
              "    <tr>\n",
              "      <th>a</th>\n",
              "      <td>73</td>\n",
              "      <td>0.35</td>\n",
              "      <td>4</td>\n",
              "      <td>A</td>\n",
              "      <td>2050-04-10</td>\n",
              "    </tr>\n",
              "    <tr>\n",
              "      <th>b</th>\n",
              "      <td>-29</td>\n",
              "      <td>0.12</td>\n",
              "      <td>0</td>\n",
              "      <td>A</td>\n",
              "      <td>2050-04-11</td>\n",
              "    </tr>\n",
              "    <tr>\n",
              "      <th>c</th>\n",
              "      <td>85</td>\n",
              "      <td>0.71</td>\n",
              "      <td>3</td>\n",
              "      <td>A</td>\n",
              "      <td>2050-04-12</td>\n",
              "    </tr>\n",
              "    <tr>\n",
              "      <th>d</th>\n",
              "      <td>-32</td>\n",
              "      <td>-0.09</td>\n",
              "      <td>0</td>\n",
              "      <td>B</td>\n",
              "      <td>2050-04-13</td>\n",
              "    </tr>\n",
              "    <tr>\n",
              "      <th>e</th>\n",
              "      <td>97</td>\n",
              "      <td>-1.21</td>\n",
              "      <td>2</td>\n",
              "      <td>B</td>\n",
              "      <td>2050-04-14</td>\n",
              "    </tr>\n",
              "    <tr>\n",
              "      <th>f</th>\n",
              "      <td>11</td>\n",
              "      <td>1.32</td>\n",
              "      <td>5</td>\n",
              "      <td>b</td>\n",
              "      <td>2050-04-15</td>\n",
              "    </tr>\n",
              "    <tr>\n",
              "      <th>g</th>\n",
              "      <td>55</td>\n",
              "      <td>-0.65</td>\n",
              "      <td>3</td>\n",
              "      <td>NaN</td>\n",
              "      <td>2050-04-16</td>\n",
              "    </tr>\n",
              "    <tr>\n",
              "      <th>h</th>\n",
              "      <td>-78</td>\n",
              "      <td>0.34</td>\n",
              "      <td>0</td>\n",
              "      <td>C</td>\n",
              "      <td>2050-04-17</td>\n",
              "    </tr>\n",
              "    <tr>\n",
              "      <th>i</th>\n",
              "      <td>49</td>\n",
              "      <td>-1.23</td>\n",
              "      <td>1</td>\n",
              "      <td>A</td>\n",
              "      <td>2050-04-18</td>\n",
              "    </tr>\n",
              "    <tr>\n",
              "      <th>j</th>\n",
              "      <td>61</td>\n",
              "      <td>-0.79</td>\n",
              "      <td>2</td>\n",
              "      <td>B</td>\n",
              "      <td>2050-04-19</td>\n",
              "    </tr>\n",
              "  </tbody>\n",
              "</table>\n",
              "</div>"
            ],
            "text/plain": [
              "    A     B  C    D          E\n",
              "a  73  0.35  4    A 2050-04-10\n",
              "b -29  0.12  0    A 2050-04-11\n",
              "c  85  0.71  3    A 2050-04-12\n",
              "d -32 -0.09  0    B 2050-04-13\n",
              "e  97 -1.21  2    B 2050-04-14\n",
              "f  11  1.32  5    b 2050-04-15\n",
              "g  55 -0.65  3  NaN 2050-04-16\n",
              "h -78  0.34  0    C 2050-04-17\n",
              "i  49 -1.23  1    A 2050-04-18\n",
              "j  61 -0.79  2    B 2050-04-19"
            ]
          },
          "metadata": {
            "tags": []
          },
          "execution_count": 40
        }
      ]
    },
    {
      "cell_type": "markdown",
      "metadata": {
        "id": "sV6TKLdRmsMF",
        "colab_type": "text"
      },
      "source": [
        "**<font size='+1'>인덱스와 열 제목 열람 </font>**\n",
        "\n",
        "인덱스(행)과 열(컬럼)의 정보만 열람이 가능한다.\n",
        "\n",
        "[pandas.DataFrame.index](https://pandas.pydata.org/pandas-docs/stable/reference/api/pandas.DataFrame.index.html#pandas.DataFrame.index)\n",
        "- The index (row labels) of the DataFrame.\n",
        "- DataFrame.**index**\n",
        "\n",
        "[pandas.DataFrame.columns](https://pandas.pydata.org/pandas-docs/stable/reference/api/pandas.DataFrame.columns.html#pandas.DataFrame.columns)\n",
        "- The column labels of the DataFrame.\n",
        "- DataFrame.**columns**"
      ]
    },
    {
      "cell_type": "code",
      "metadata": {
        "id": "K-X-bnu1msMH",
        "colab_type": "code",
        "colab": {
          "base_uri": "https://localhost:8080/",
          "height": 34
        },
        "outputId": "fdf107e1-c05d-4aa6-9bad-d2b17d7da384"
      },
      "source": [
        "# 인덱스 정보를 열람한다.\n",
        "df.index"
      ],
      "execution_count": null,
      "outputs": [
        {
          "output_type": "execute_result",
          "data": {
            "text/plain": [
              "Index(['a', 'b', 'c', 'd', 'e', 'f', 'g', 'h', 'i', 'j'], dtype='object')"
            ]
          },
          "metadata": {
            "tags": []
          },
          "execution_count": 41
        }
      ]
    },
    {
      "cell_type": "code",
      "metadata": {
        "id": "xy93gU9jmsMJ",
        "colab_type": "code",
        "colab": {
          "base_uri": "https://localhost:8080/",
          "height": 34
        },
        "outputId": "b9f3ad9a-4bd0-4b4b-a922-4602d167d1bd"
      },
      "source": [
        "# 열 이름 정보를 열람한다.\n",
        "df.columns"
      ],
      "execution_count": null,
      "outputs": [
        {
          "output_type": "execute_result",
          "data": {
            "text/plain": [
              "Index(['A', 'B', 'C', 'D', 'E'], dtype='object')"
            ]
          },
          "metadata": {
            "tags": []
          },
          "execution_count": 42
        }
      ]
    },
    {
      "cell_type": "markdown",
      "metadata": {
        "id": "Cx12E8_5msMK",
        "colab_type": "text"
      },
      "source": [
        "**<font size='+1'>부분 열람 </font>**\n",
        "\n",
        "**head()**와 **tail()** 메소드\n",
        "- **head()**와 **tail()** 메소드로 데이터의 일부만 열람할 수 있다.\n",
        "- 전달인자가 없으면 기본값인 상위 혹은 하위 **5**개의 데이터만 보여준다.\n",
        "\n",
        "[pandas.DataFrame.head](https://pandas.pydata.org/pandas-docs/stable/reference/api/pandas.DataFrame.head.html#pandas.DataFrame.head)\n",
        "- Return the first n rows.\n",
        "- DataFrame.**head**(*n=5*)\n",
        "\n",
        "[pandas.DataFrame.tail](https://pandas.pydata.org/pandas-docs/stable/reference/api/pandas.DataFrame.tail.html#pandas.DataFrame.tail)\n",
        "- Return the last n rows.\n",
        "- DataFrame.**tail**(*n=5*)"
      ]
    },
    {
      "cell_type": "code",
      "metadata": {
        "id": "KQ6PILUlmsMN",
        "colab_type": "code",
        "colab": {
          "base_uri": "https://localhost:8080/",
          "height": 111
        },
        "outputId": "857ecd42-d352-4004-cc7f-4c61c8a4e252"
      },
      "source": [
        "# 첫 2행만 보여준다.\n",
        "df.head(2)  "
      ],
      "execution_count": null,
      "outputs": [
        {
          "output_type": "execute_result",
          "data": {
            "text/html": [
              "<div>\n",
              "<style scoped>\n",
              "    .dataframe tbody tr th:only-of-type {\n",
              "        vertical-align: middle;\n",
              "    }\n",
              "\n",
              "    .dataframe tbody tr th {\n",
              "        vertical-align: top;\n",
              "    }\n",
              "\n",
              "    .dataframe thead th {\n",
              "        text-align: right;\n",
              "    }\n",
              "</style>\n",
              "<table border=\"1\" class=\"dataframe\">\n",
              "  <thead>\n",
              "    <tr style=\"text-align: right;\">\n",
              "      <th></th>\n",
              "      <th>A</th>\n",
              "      <th>B</th>\n",
              "      <th>C</th>\n",
              "      <th>D</th>\n",
              "      <th>E</th>\n",
              "    </tr>\n",
              "  </thead>\n",
              "  <tbody>\n",
              "    <tr>\n",
              "      <th>a</th>\n",
              "      <td>73</td>\n",
              "      <td>0.35</td>\n",
              "      <td>4</td>\n",
              "      <td>A</td>\n",
              "      <td>2050-04-10</td>\n",
              "    </tr>\n",
              "    <tr>\n",
              "      <th>b</th>\n",
              "      <td>-29</td>\n",
              "      <td>0.12</td>\n",
              "      <td>0</td>\n",
              "      <td>A</td>\n",
              "      <td>2050-04-11</td>\n",
              "    </tr>\n",
              "  </tbody>\n",
              "</table>\n",
              "</div>"
            ],
            "text/plain": [
              "    A     B  C  D          E\n",
              "a  73  0.35  4  A 2050-04-10\n",
              "b -29  0.12  0  A 2050-04-11"
            ]
          },
          "metadata": {
            "tags": []
          },
          "execution_count": 43
        }
      ]
    },
    {
      "cell_type": "code",
      "metadata": {
        "id": "d9MPn2C5msMP",
        "colab_type": "code",
        "colab": {
          "base_uri": "https://localhost:8080/",
          "height": 204
        },
        "outputId": "a49609ad-287c-45b2-99d7-47ac9322fd9b"
      },
      "source": [
        "# 마지막 5행만 보여준다.\n",
        "df.tail()  "
      ],
      "execution_count": null,
      "outputs": [
        {
          "output_type": "execute_result",
          "data": {
            "text/html": [
              "<div>\n",
              "<style scoped>\n",
              "    .dataframe tbody tr th:only-of-type {\n",
              "        vertical-align: middle;\n",
              "    }\n",
              "\n",
              "    .dataframe tbody tr th {\n",
              "        vertical-align: top;\n",
              "    }\n",
              "\n",
              "    .dataframe thead th {\n",
              "        text-align: right;\n",
              "    }\n",
              "</style>\n",
              "<table border=\"1\" class=\"dataframe\">\n",
              "  <thead>\n",
              "    <tr style=\"text-align: right;\">\n",
              "      <th></th>\n",
              "      <th>A</th>\n",
              "      <th>B</th>\n",
              "      <th>C</th>\n",
              "      <th>D</th>\n",
              "      <th>E</th>\n",
              "    </tr>\n",
              "  </thead>\n",
              "  <tbody>\n",
              "    <tr>\n",
              "      <th>f</th>\n",
              "      <td>11</td>\n",
              "      <td>1.32</td>\n",
              "      <td>5</td>\n",
              "      <td>b</td>\n",
              "      <td>2050-04-15</td>\n",
              "    </tr>\n",
              "    <tr>\n",
              "      <th>g</th>\n",
              "      <td>55</td>\n",
              "      <td>-0.65</td>\n",
              "      <td>3</td>\n",
              "      <td>NaN</td>\n",
              "      <td>2050-04-16</td>\n",
              "    </tr>\n",
              "    <tr>\n",
              "      <th>h</th>\n",
              "      <td>-78</td>\n",
              "      <td>0.34</td>\n",
              "      <td>0</td>\n",
              "      <td>C</td>\n",
              "      <td>2050-04-17</td>\n",
              "    </tr>\n",
              "    <tr>\n",
              "      <th>i</th>\n",
              "      <td>49</td>\n",
              "      <td>-1.23</td>\n",
              "      <td>1</td>\n",
              "      <td>A</td>\n",
              "      <td>2050-04-18</td>\n",
              "    </tr>\n",
              "    <tr>\n",
              "      <th>j</th>\n",
              "      <td>61</td>\n",
              "      <td>-0.79</td>\n",
              "      <td>2</td>\n",
              "      <td>B</td>\n",
              "      <td>2050-04-19</td>\n",
              "    </tr>\n",
              "  </tbody>\n",
              "</table>\n",
              "</div>"
            ],
            "text/plain": [
              "    A     B  C    D          E\n",
              "f  11  1.32  5    b 2050-04-15\n",
              "g  55 -0.65  3  NaN 2050-04-16\n",
              "h -78  0.34  0    C 2050-04-17\n",
              "i  49 -1.23  1    A 2050-04-18\n",
              "j  61 -0.79  2    B 2050-04-19"
            ]
          },
          "metadata": {
            "tags": []
          },
          "execution_count": 44
        }
      ]
    },
    {
      "cell_type": "code",
      "metadata": {
        "id": "od4Dno9UmsMS",
        "colab_type": "code",
        "colab": {
          "base_uri": "https://localhost:8080/",
          "height": 297
        },
        "outputId": "a969a1da-b298-4233-fd63-e718d393f652"
      },
      "source": [
        "# 마지막 2행만 제외하고 모두 보여준다.\n",
        "df.head(-2)"
      ],
      "execution_count": null,
      "outputs": [
        {
          "output_type": "execute_result",
          "data": {
            "text/html": [
              "<div>\n",
              "<style scoped>\n",
              "    .dataframe tbody tr th:only-of-type {\n",
              "        vertical-align: middle;\n",
              "    }\n",
              "\n",
              "    .dataframe tbody tr th {\n",
              "        vertical-align: top;\n",
              "    }\n",
              "\n",
              "    .dataframe thead th {\n",
              "        text-align: right;\n",
              "    }\n",
              "</style>\n",
              "<table border=\"1\" class=\"dataframe\">\n",
              "  <thead>\n",
              "    <tr style=\"text-align: right;\">\n",
              "      <th></th>\n",
              "      <th>A</th>\n",
              "      <th>B</th>\n",
              "      <th>C</th>\n",
              "      <th>D</th>\n",
              "      <th>E</th>\n",
              "    </tr>\n",
              "  </thead>\n",
              "  <tbody>\n",
              "    <tr>\n",
              "      <th>a</th>\n",
              "      <td>73</td>\n",
              "      <td>0.35</td>\n",
              "      <td>4</td>\n",
              "      <td>A</td>\n",
              "      <td>2050-04-10</td>\n",
              "    </tr>\n",
              "    <tr>\n",
              "      <th>b</th>\n",
              "      <td>-29</td>\n",
              "      <td>0.12</td>\n",
              "      <td>0</td>\n",
              "      <td>A</td>\n",
              "      <td>2050-04-11</td>\n",
              "    </tr>\n",
              "    <tr>\n",
              "      <th>c</th>\n",
              "      <td>85</td>\n",
              "      <td>0.71</td>\n",
              "      <td>3</td>\n",
              "      <td>A</td>\n",
              "      <td>2050-04-12</td>\n",
              "    </tr>\n",
              "    <tr>\n",
              "      <th>d</th>\n",
              "      <td>-32</td>\n",
              "      <td>-0.09</td>\n",
              "      <td>0</td>\n",
              "      <td>B</td>\n",
              "      <td>2050-04-13</td>\n",
              "    </tr>\n",
              "    <tr>\n",
              "      <th>e</th>\n",
              "      <td>97</td>\n",
              "      <td>-1.21</td>\n",
              "      <td>2</td>\n",
              "      <td>B</td>\n",
              "      <td>2050-04-14</td>\n",
              "    </tr>\n",
              "    <tr>\n",
              "      <th>f</th>\n",
              "      <td>11</td>\n",
              "      <td>1.32</td>\n",
              "      <td>5</td>\n",
              "      <td>b</td>\n",
              "      <td>2050-04-15</td>\n",
              "    </tr>\n",
              "    <tr>\n",
              "      <th>g</th>\n",
              "      <td>55</td>\n",
              "      <td>-0.65</td>\n",
              "      <td>3</td>\n",
              "      <td>NaN</td>\n",
              "      <td>2050-04-16</td>\n",
              "    </tr>\n",
              "    <tr>\n",
              "      <th>h</th>\n",
              "      <td>-78</td>\n",
              "      <td>0.34</td>\n",
              "      <td>0</td>\n",
              "      <td>C</td>\n",
              "      <td>2050-04-17</td>\n",
              "    </tr>\n",
              "  </tbody>\n",
              "</table>\n",
              "</div>"
            ],
            "text/plain": [
              "    A     B  C    D          E\n",
              "a  73  0.35  4    A 2050-04-10\n",
              "b -29  0.12  0    A 2050-04-11\n",
              "c  85  0.71  3    A 2050-04-12\n",
              "d -32 -0.09  0    B 2050-04-13\n",
              "e  97 -1.21  2    B 2050-04-14\n",
              "f  11  1.32  5    b 2050-04-15\n",
              "g  55 -0.65  3  NaN 2050-04-16\n",
              "h -78  0.34  0    C 2050-04-17"
            ]
          },
          "metadata": {
            "tags": []
          },
          "execution_count": 45
        }
      ]
    },
    {
      "cell_type": "code",
      "metadata": {
        "id": "DrhhP5krmsMU",
        "colab_type": "code",
        "colab": {
          "base_uri": "https://localhost:8080/",
          "height": 266
        },
        "outputId": "2ae6ae8f-bc0a-424b-ebb2-e0029a970c07"
      },
      "source": [
        "# 첫 3행만 제외하고 모두 보여준다.\n",
        "df.tail(-3)"
      ],
      "execution_count": null,
      "outputs": [
        {
          "output_type": "execute_result",
          "data": {
            "text/html": [
              "<div>\n",
              "<style scoped>\n",
              "    .dataframe tbody tr th:only-of-type {\n",
              "        vertical-align: middle;\n",
              "    }\n",
              "\n",
              "    .dataframe tbody tr th {\n",
              "        vertical-align: top;\n",
              "    }\n",
              "\n",
              "    .dataframe thead th {\n",
              "        text-align: right;\n",
              "    }\n",
              "</style>\n",
              "<table border=\"1\" class=\"dataframe\">\n",
              "  <thead>\n",
              "    <tr style=\"text-align: right;\">\n",
              "      <th></th>\n",
              "      <th>A</th>\n",
              "      <th>B</th>\n",
              "      <th>C</th>\n",
              "      <th>D</th>\n",
              "      <th>E</th>\n",
              "    </tr>\n",
              "  </thead>\n",
              "  <tbody>\n",
              "    <tr>\n",
              "      <th>d</th>\n",
              "      <td>-32</td>\n",
              "      <td>-0.09</td>\n",
              "      <td>0</td>\n",
              "      <td>B</td>\n",
              "      <td>2050-04-13</td>\n",
              "    </tr>\n",
              "    <tr>\n",
              "      <th>e</th>\n",
              "      <td>97</td>\n",
              "      <td>-1.21</td>\n",
              "      <td>2</td>\n",
              "      <td>B</td>\n",
              "      <td>2050-04-14</td>\n",
              "    </tr>\n",
              "    <tr>\n",
              "      <th>f</th>\n",
              "      <td>11</td>\n",
              "      <td>1.32</td>\n",
              "      <td>5</td>\n",
              "      <td>b</td>\n",
              "      <td>2050-04-15</td>\n",
              "    </tr>\n",
              "    <tr>\n",
              "      <th>g</th>\n",
              "      <td>55</td>\n",
              "      <td>-0.65</td>\n",
              "      <td>3</td>\n",
              "      <td>NaN</td>\n",
              "      <td>2050-04-16</td>\n",
              "    </tr>\n",
              "    <tr>\n",
              "      <th>h</th>\n",
              "      <td>-78</td>\n",
              "      <td>0.34</td>\n",
              "      <td>0</td>\n",
              "      <td>C</td>\n",
              "      <td>2050-04-17</td>\n",
              "    </tr>\n",
              "    <tr>\n",
              "      <th>i</th>\n",
              "      <td>49</td>\n",
              "      <td>-1.23</td>\n",
              "      <td>1</td>\n",
              "      <td>A</td>\n",
              "      <td>2050-04-18</td>\n",
              "    </tr>\n",
              "    <tr>\n",
              "      <th>j</th>\n",
              "      <td>61</td>\n",
              "      <td>-0.79</td>\n",
              "      <td>2</td>\n",
              "      <td>B</td>\n",
              "      <td>2050-04-19</td>\n",
              "    </tr>\n",
              "  </tbody>\n",
              "</table>\n",
              "</div>"
            ],
            "text/plain": [
              "    A     B  C    D          E\n",
              "d -32 -0.09  0    B 2050-04-13\n",
              "e  97 -1.21  2    B 2050-04-14\n",
              "f  11  1.32  5    b 2050-04-15\n",
              "g  55 -0.65  3  NaN 2050-04-16\n",
              "h -78  0.34  0    C 2050-04-17\n",
              "i  49 -1.23  1    A 2050-04-18\n",
              "j  61 -0.79  2    B 2050-04-19"
            ]
          },
          "metadata": {
            "tags": []
          },
          "execution_count": 46
        }
      ]
    },
    {
      "cell_type": "markdown",
      "metadata": {
        "id": "H2a8RoYfmsMV",
        "colab_type": "text"
      },
      "source": [
        "**<font size='+1'>셀 데이터 열람 </font>**"
      ]
    },
    {
      "cell_type": "markdown",
      "metadata": {
        "id": "al0tQmh6msMV",
        "colab_type": "text"
      },
      "source": [
        "데이터프레임 내의 값들만 열람 할 수 있다.\n",
        "-  인덱스와 열 제목은 포함하지 않는다."
      ]
    },
    {
      "cell_type": "markdown",
      "metadata": {
        "id": "g-PHo4dcmsMV",
        "colab_type": "text"
      },
      "source": [
        "[pandas.DataFrame.values](https://pandas.pydata.org/pandas-docs/stable/reference/api/pandas.DataFrame.values.html#pandas.DataFrame.values)\n",
        "- Return a Numpy representation of the DataFrame.\n",
        "- DataFrame.**values**"
      ]
    },
    {
      "cell_type": "code",
      "metadata": {
        "id": "8Pem7x3emsMX",
        "colab_type": "code",
        "colab": {
          "base_uri": "https://localhost:8080/",
          "height": 204
        },
        "outputId": "7a79f820-0d2d-4039-ce1a-49b8a9fd9190"
      },
      "source": [
        "# 모든 셀의 데이터를 열람한다.\n",
        "df.values"
      ],
      "execution_count": null,
      "outputs": [
        {
          "output_type": "execute_result",
          "data": {
            "text/plain": [
              "array([[73, 0.35, 4, 'A', Timestamp('2050-04-10 00:00:00')],\n",
              "       [-29, 0.12, 0, 'A', Timestamp('2050-04-11 00:00:00')],\n",
              "       [85, 0.71, 3, 'A', Timestamp('2050-04-12 00:00:00')],\n",
              "       [-32, -0.09, 0, 'B', Timestamp('2050-04-13 00:00:00')],\n",
              "       [97, -1.21, 2, 'B', Timestamp('2050-04-14 00:00:00')],\n",
              "       [11, 1.32, 5, 'b', Timestamp('2050-04-15 00:00:00')],\n",
              "       [55, -0.65, 3, nan, Timestamp('2050-04-16 00:00:00')],\n",
              "       [-78, 0.34, 0, 'C', Timestamp('2050-04-17 00:00:00')],\n",
              "       [49, -1.23, 1, 'A', Timestamp('2050-04-18 00:00:00')],\n",
              "       [61, -0.79, 2, 'B', Timestamp('2050-04-19 00:00:00')]],\n",
              "      dtype=object)"
            ]
          },
          "metadata": {
            "tags": []
          },
          "execution_count": 47
        }
      ]
    },
    {
      "cell_type": "markdown",
      "metadata": {
        "id": "1XoMEboQmsMY",
        "colab_type": "text"
      },
      "source": [
        "하지만 추천하는 방식은 **to_numpy()** 메소드를 사용하는 것이다.\n",
        "\n",
        "[pandas.DataFrame.to_numpy](https://pandas.pydata.org/pandas-docs/stable/reference/api/pandas.DataFrame.to_numpy.html#pandas.DataFrame.to_numpy)\n",
        "- Convert the DataFrame to a NumPy array\n",
        "- DataFrame.**to_numpy**(*dtype=None, copy=False*)"
      ]
    },
    {
      "cell_type": "code",
      "metadata": {
        "id": "rVROktXEmsMa",
        "colab_type": "code",
        "colab": {
          "base_uri": "https://localhost:8080/",
          "height": 204
        },
        "outputId": "c9b0dc26-e4e4-4ca7-fb62-7a84129c6640"
      },
      "source": [
        "# 모든 셀의 데이터를 열람한다.\n",
        "df.to_numpy()"
      ],
      "execution_count": null,
      "outputs": [
        {
          "output_type": "execute_result",
          "data": {
            "text/plain": [
              "array([[73, 0.35, 4, 'A', Timestamp('2050-04-10 00:00:00')],\n",
              "       [-29, 0.12, 0, 'A', Timestamp('2050-04-11 00:00:00')],\n",
              "       [85, 0.71, 3, 'A', Timestamp('2050-04-12 00:00:00')],\n",
              "       [-32, -0.09, 0, 'B', Timestamp('2050-04-13 00:00:00')],\n",
              "       [97, -1.21, 2, 'B', Timestamp('2050-04-14 00:00:00')],\n",
              "       [11, 1.32, 5, 'b', Timestamp('2050-04-15 00:00:00')],\n",
              "       [55, -0.65, 3, nan, Timestamp('2050-04-16 00:00:00')],\n",
              "       [-78, 0.34, 0, 'C', Timestamp('2050-04-17 00:00:00')],\n",
              "       [49, -1.23, 1, 'A', Timestamp('2050-04-18 00:00:00')],\n",
              "       [61, -0.79, 2, 'B', Timestamp('2050-04-19 00:00:00')]],\n",
              "      dtype=object)"
            ]
          },
          "metadata": {
            "tags": []
          },
          "execution_count": 48
        }
      ]
    },
    {
      "cell_type": "markdown",
      "metadata": {
        "id": "x0sEWijUmsMc",
        "colab_type": "text"
      },
      "source": [
        "**<font size='+1'>열(컬럼) 데이터 열람 </font>**"
      ]
    },
    {
      "cell_type": "markdown",
      "metadata": {
        "id": "je3t9rMKmsMd",
        "colab_type": "text"
      },
      "source": [
        "**단일 열** : 열 이름을 넣어 특정 단일 열의 데이터만 열람이 가능하다.\n",
        "- DataFrame[**'열이름'**] 또는 DataFrame.**열이름**\n",
        "- pandas.**Series**로 결과를 반환한다. "
      ]
    },
    {
      "cell_type": "code",
      "metadata": {
        "id": "oQtgBlYkmsMe",
        "colab_type": "code",
        "colab": {
          "base_uri": "https://localhost:8080/",
          "height": 221
        },
        "outputId": "745edbe8-3bef-4c65-d5dd-b4178ee562ed"
      },
      "source": [
        "# --- 'A' 열의 데이터만 열람한다.\n",
        "x = df['A'] # df.A와 같다. \n",
        "print(x)\n",
        "\n",
        "# 자료형을 확인한다.\n",
        "type(x)"
      ],
      "execution_count": null,
      "outputs": [
        {
          "output_type": "stream",
          "text": [
            "a    73\n",
            "b   -29\n",
            "c    85\n",
            "d   -32\n",
            "e    97\n",
            "f    11\n",
            "g    55\n",
            "h   -78\n",
            "i    49\n",
            "j    61\n",
            "Name: A, dtype: int64\n"
          ],
          "name": "stdout"
        },
        {
          "output_type": "execute_result",
          "data": {
            "text/plain": [
              "pandas.core.series.Series"
            ]
          },
          "metadata": {
            "tags": []
          },
          "execution_count": 49
        }
      ]
    },
    {
      "cell_type": "markdown",
      "metadata": {
        "id": "UsJlBPtDmsMf",
        "colab_type": "text"
      },
      "source": [
        "**복수 열** : 한 개 이상의 열 이름을 넣어 지정한 열의 데이터만 열람이 가능하다.\n",
        "- DataFrame[**['열이름', '열이름', ...]**]\n",
        "- **pandas.DataFrame**으로 결과를 반환한다. "
      ]
    },
    {
      "cell_type": "code",
      "metadata": {
        "id": "ZzkOjwOWmsMg",
        "colab_type": "code",
        "colab": {
          "base_uri": "https://localhost:8080/",
          "height": 359
        },
        "outputId": "446e4fa8-f996-4aeb-d104-74706155b15c"
      },
      "source": [
        "# --- 'C'와 'A' 열의 데이터만 열람한다.\n",
        "# NumPy의 배열 인덱싱과 유사하다.\n",
        "# df.loc[:, ['C', 'A']] 또는 df.iloc[:, 2::-2]과 같은 결과를 가진다.\n",
        "y = df[['C', 'A']]  # df.C, df.A외는 다르다.\n",
        "y"
      ],
      "execution_count": null,
      "outputs": [
        {
          "output_type": "execute_result",
          "data": {
            "text/html": [
              "<div>\n",
              "<style scoped>\n",
              "    .dataframe tbody tr th:only-of-type {\n",
              "        vertical-align: middle;\n",
              "    }\n",
              "\n",
              "    .dataframe tbody tr th {\n",
              "        vertical-align: top;\n",
              "    }\n",
              "\n",
              "    .dataframe thead th {\n",
              "        text-align: right;\n",
              "    }\n",
              "</style>\n",
              "<table border=\"1\" class=\"dataframe\">\n",
              "  <thead>\n",
              "    <tr style=\"text-align: right;\">\n",
              "      <th></th>\n",
              "      <th>C</th>\n",
              "      <th>A</th>\n",
              "    </tr>\n",
              "  </thead>\n",
              "  <tbody>\n",
              "    <tr>\n",
              "      <th>a</th>\n",
              "      <td>4</td>\n",
              "      <td>73</td>\n",
              "    </tr>\n",
              "    <tr>\n",
              "      <th>b</th>\n",
              "      <td>0</td>\n",
              "      <td>-29</td>\n",
              "    </tr>\n",
              "    <tr>\n",
              "      <th>c</th>\n",
              "      <td>3</td>\n",
              "      <td>85</td>\n",
              "    </tr>\n",
              "    <tr>\n",
              "      <th>d</th>\n",
              "      <td>0</td>\n",
              "      <td>-32</td>\n",
              "    </tr>\n",
              "    <tr>\n",
              "      <th>e</th>\n",
              "      <td>2</td>\n",
              "      <td>97</td>\n",
              "    </tr>\n",
              "    <tr>\n",
              "      <th>f</th>\n",
              "      <td>5</td>\n",
              "      <td>11</td>\n",
              "    </tr>\n",
              "    <tr>\n",
              "      <th>g</th>\n",
              "      <td>3</td>\n",
              "      <td>55</td>\n",
              "    </tr>\n",
              "    <tr>\n",
              "      <th>h</th>\n",
              "      <td>0</td>\n",
              "      <td>-78</td>\n",
              "    </tr>\n",
              "    <tr>\n",
              "      <th>i</th>\n",
              "      <td>1</td>\n",
              "      <td>49</td>\n",
              "    </tr>\n",
              "    <tr>\n",
              "      <th>j</th>\n",
              "      <td>2</td>\n",
              "      <td>61</td>\n",
              "    </tr>\n",
              "  </tbody>\n",
              "</table>\n",
              "</div>"
            ],
            "text/plain": [
              "   C   A\n",
              "a  4  73\n",
              "b  0 -29\n",
              "c  3  85\n",
              "d  0 -32\n",
              "e  2  97\n",
              "f  5  11\n",
              "g  3  55\n",
              "h  0 -78\n",
              "i  1  49\n",
              "j  2  61"
            ]
          },
          "metadata": {
            "tags": []
          },
          "execution_count": 50
        }
      ]
    },
    {
      "cell_type": "code",
      "metadata": {
        "id": "vxCw5KhtmsMh",
        "colab_type": "code",
        "colab": {
          "base_uri": "https://localhost:8080/",
          "height": 34
        },
        "outputId": "48c68723-0558-40bf-d585-fc83a7f234f2"
      },
      "source": [
        "# 자료형을 확인한다.\n",
        "type(y)"
      ],
      "execution_count": null,
      "outputs": [
        {
          "output_type": "execute_result",
          "data": {
            "text/plain": [
              "pandas.core.frame.DataFrame"
            ]
          },
          "metadata": {
            "tags": []
          },
          "execution_count": 51
        }
      ]
    },
    {
      "cell_type": "markdown",
      "metadata": {
        "id": "0onYUeJXmsMi",
        "colab_type": "text"
      },
      "source": [
        "**<font size='+1'>Lab: 데이터프레임에서 열 데이터 열람 </font>**"
      ]
    },
    {
      "cell_type": "markdown",
      "metadata": {
        "id": "FqZmuCrLmsMi",
        "colab_type": "text"
      },
      "source": [
        "---\n",
        "\n",
        "- 앞서 < Lab: 데이터프레임 구성하기 >에서 만든 데이터프레임에서 'Title' 컬럼의 데이터만 열람해서 추출한다.\n",
        "- 추출한 데이터는 모두 소문자(lowercase)로 변환한 뒤 리스트 형식으로 변수에 할당한 후 출력한다.\n",
        "\n",
        "---"
      ]
    },
    {
      "cell_type": "markdown",
      "metadata": {
        "id": "KRprWQ8MmsMj",
        "colab_type": "text"
      },
      "source": [
        "**실행 예**\n",
        "\n",
        "<pre>['skyfall',\n",
        " 'lose yourself',\n",
        " 'another brick in the wall',\n",
        " 'use somebody',\n",
        " 'treasure']</pre>"
      ]
    },
    {
      "cell_type": "code",
      "metadata": {
        "id": "jzKzZRRqmsMk",
        "colab_type": "code",
        "colab": {}
      },
      "source": [
        "# title = ['Skyfall', 'Lose Yourself', 'Another Brick in the Wall', 'Use Somebody', 'Treasure']\n",
        "# artist = ['Adele', 'Eminem', 'Pink Floyd', 'Kings of Leon', 'Bruno Mars']\n",
        "# length = ['4:46', '5:26', '3:59', '3:51', '2:58']\n",
        "# year = [2012, 2002, 1979, 2008, 2013]\n",
        "\n",
        "# df_movies = pandas.DataFrame({\n",
        "#     'Title': title, \n",
        "#     'Artist': artist, \n",
        "#     'Length': length, \n",
        "#     'Year': year})"
      ],
      "execution_count": null,
      "outputs": []
    },
    {
      "cell_type": "code",
      "metadata": {
        "id": "_F-BEXTnmsMl",
        "colab_type": "code",
        "colab": {
          "base_uri": "https://localhost:8080/",
          "height": 102
        },
        "outputId": "14def078-cec5-4143-dc87-8de08653c4ce"
      },
      "source": [
        "title_lowercase = []\n",
        "for t in df_movies['Title']:\n",
        "    title_lowercase.append(t.lower())\n",
        "\n",
        "title_lowercase"
      ],
      "execution_count": null,
      "outputs": [
        {
          "output_type": "execute_result",
          "data": {
            "text/plain": [
              "['skyfall',\n",
              " 'lose yourself',\n",
              " 'another brick in the wall',\n",
              " 'use somebody',\n",
              " 'treasure']"
            ]
          },
          "metadata": {
            "tags": []
          },
          "execution_count": 53
        }
      ]
    },
    {
      "cell_type": "code",
      "metadata": {
        "id": "3ayNa5p_msMm",
        "colab_type": "code",
        "colab": {
          "base_uri": "https://localhost:8080/",
          "height": 102
        },
        "outputId": "fd55bc19-fdec-436d-e27c-2d6a4ac7c9d1"
      },
      "source": [
        "title_lowercase = [t.lower() for t in df_movies['Title']]\n",
        "title_lowercase"
      ],
      "execution_count": null,
      "outputs": [
        {
          "output_type": "execute_result",
          "data": {
            "text/plain": [
              "['skyfall',\n",
              " 'lose yourself',\n",
              " 'another brick in the wall',\n",
              " 'use somebody',\n",
              " 'treasure']"
            ]
          },
          "metadata": {
            "tags": []
          },
          "execution_count": 54
        }
      ]
    },
    {
      "cell_type": "markdown",
      "metadata": {
        "id": "zNfvCcN2msMn",
        "colab_type": "text"
      },
      "source": [
        "**<font size='+1'>행 데이터 열람 </font>**"
      ]
    },
    {
      "cell_type": "markdown",
      "metadata": {
        "id": "dPc7pQU7msMn",
        "colab_type": "text"
      },
      "source": [
        "분할 연산자 **[::]** 를 통해 열을 기준으로 일부 또는 전체 데이터를 열람할 수 있다.\n",
        "- DataFrame[**시작:끝:폭**]\n",
        "\n",
        "**[참고]**  \n",
        "- 분할 연산 시 **숫자**를 사용하면 파이썬의 분할 연산처럼 **[시작:끝]**에서 **끝** 값은 포함하지 않는다.\n",
        "- 분할 연산 시 **인덱스 이름**을 사용하면 **[시작:끝]**에서 **끝** 값도 포함한다."
      ]
    },
    {
      "cell_type": "code",
      "metadata": {
        "id": "w-fU8kbsmsMp",
        "colab_type": "code",
        "colab": {
          "base_uri": "https://localhost:8080/",
          "height": 359
        },
        "outputId": "fa842092-a3c5-43bf-e7de-52d620494074"
      },
      "source": [
        "# 분할 연산자를 사용하여 전체 행 데이터를 열람한다.\n",
        "df[:]  # >>> df와 같다."
      ],
      "execution_count": null,
      "outputs": [
        {
          "output_type": "execute_result",
          "data": {
            "text/html": [
              "<div>\n",
              "<style scoped>\n",
              "    .dataframe tbody tr th:only-of-type {\n",
              "        vertical-align: middle;\n",
              "    }\n",
              "\n",
              "    .dataframe tbody tr th {\n",
              "        vertical-align: top;\n",
              "    }\n",
              "\n",
              "    .dataframe thead th {\n",
              "        text-align: right;\n",
              "    }\n",
              "</style>\n",
              "<table border=\"1\" class=\"dataframe\">\n",
              "  <thead>\n",
              "    <tr style=\"text-align: right;\">\n",
              "      <th></th>\n",
              "      <th>A</th>\n",
              "      <th>B</th>\n",
              "      <th>C</th>\n",
              "      <th>D</th>\n",
              "      <th>E</th>\n",
              "    </tr>\n",
              "  </thead>\n",
              "  <tbody>\n",
              "    <tr>\n",
              "      <th>a</th>\n",
              "      <td>73</td>\n",
              "      <td>0.35</td>\n",
              "      <td>4</td>\n",
              "      <td>A</td>\n",
              "      <td>2050-04-10</td>\n",
              "    </tr>\n",
              "    <tr>\n",
              "      <th>b</th>\n",
              "      <td>-29</td>\n",
              "      <td>0.12</td>\n",
              "      <td>0</td>\n",
              "      <td>A</td>\n",
              "      <td>2050-04-11</td>\n",
              "    </tr>\n",
              "    <tr>\n",
              "      <th>c</th>\n",
              "      <td>85</td>\n",
              "      <td>0.71</td>\n",
              "      <td>3</td>\n",
              "      <td>A</td>\n",
              "      <td>2050-04-12</td>\n",
              "    </tr>\n",
              "    <tr>\n",
              "      <th>d</th>\n",
              "      <td>-32</td>\n",
              "      <td>-0.09</td>\n",
              "      <td>0</td>\n",
              "      <td>B</td>\n",
              "      <td>2050-04-13</td>\n",
              "    </tr>\n",
              "    <tr>\n",
              "      <th>e</th>\n",
              "      <td>97</td>\n",
              "      <td>-1.21</td>\n",
              "      <td>2</td>\n",
              "      <td>B</td>\n",
              "      <td>2050-04-14</td>\n",
              "    </tr>\n",
              "    <tr>\n",
              "      <th>f</th>\n",
              "      <td>11</td>\n",
              "      <td>1.32</td>\n",
              "      <td>5</td>\n",
              "      <td>b</td>\n",
              "      <td>2050-04-15</td>\n",
              "    </tr>\n",
              "    <tr>\n",
              "      <th>g</th>\n",
              "      <td>55</td>\n",
              "      <td>-0.65</td>\n",
              "      <td>3</td>\n",
              "      <td>NaN</td>\n",
              "      <td>2050-04-16</td>\n",
              "    </tr>\n",
              "    <tr>\n",
              "      <th>h</th>\n",
              "      <td>-78</td>\n",
              "      <td>0.34</td>\n",
              "      <td>0</td>\n",
              "      <td>C</td>\n",
              "      <td>2050-04-17</td>\n",
              "    </tr>\n",
              "    <tr>\n",
              "      <th>i</th>\n",
              "      <td>49</td>\n",
              "      <td>-1.23</td>\n",
              "      <td>1</td>\n",
              "      <td>A</td>\n",
              "      <td>2050-04-18</td>\n",
              "    </tr>\n",
              "    <tr>\n",
              "      <th>j</th>\n",
              "      <td>61</td>\n",
              "      <td>-0.79</td>\n",
              "      <td>2</td>\n",
              "      <td>B</td>\n",
              "      <td>2050-04-19</td>\n",
              "    </tr>\n",
              "  </tbody>\n",
              "</table>\n",
              "</div>"
            ],
            "text/plain": [
              "    A     B  C    D          E\n",
              "a  73  0.35  4    A 2050-04-10\n",
              "b -29  0.12  0    A 2050-04-11\n",
              "c  85  0.71  3    A 2050-04-12\n",
              "d -32 -0.09  0    B 2050-04-13\n",
              "e  97 -1.21  2    B 2050-04-14\n",
              "f  11  1.32  5    b 2050-04-15\n",
              "g  55 -0.65  3  NaN 2050-04-16\n",
              "h -78  0.34  0    C 2050-04-17\n",
              "i  49 -1.23  1    A 2050-04-18\n",
              "j  61 -0.79  2    B 2050-04-19"
            ]
          },
          "metadata": {
            "tags": []
          },
          "execution_count": 55
        }
      ]
    },
    {
      "cell_type": "code",
      "metadata": {
        "id": "AvX12-RSmsMs",
        "colab_type": "code",
        "colab": {
          "base_uri": "https://localhost:8080/",
          "height": 204
        },
        "outputId": "552bac51-5cc9-4650-aa57-34fbdb2b7b65"
      },
      "source": [
        "# 첫 5개 행 데이터를 열람한다.\n",
        "df[:5]  # >>> df.head()와 같다."
      ],
      "execution_count": null,
      "outputs": [
        {
          "output_type": "execute_result",
          "data": {
            "text/html": [
              "<div>\n",
              "<style scoped>\n",
              "    .dataframe tbody tr th:only-of-type {\n",
              "        vertical-align: middle;\n",
              "    }\n",
              "\n",
              "    .dataframe tbody tr th {\n",
              "        vertical-align: top;\n",
              "    }\n",
              "\n",
              "    .dataframe thead th {\n",
              "        text-align: right;\n",
              "    }\n",
              "</style>\n",
              "<table border=\"1\" class=\"dataframe\">\n",
              "  <thead>\n",
              "    <tr style=\"text-align: right;\">\n",
              "      <th></th>\n",
              "      <th>A</th>\n",
              "      <th>B</th>\n",
              "      <th>C</th>\n",
              "      <th>D</th>\n",
              "      <th>E</th>\n",
              "    </tr>\n",
              "  </thead>\n",
              "  <tbody>\n",
              "    <tr>\n",
              "      <th>a</th>\n",
              "      <td>73</td>\n",
              "      <td>0.35</td>\n",
              "      <td>4</td>\n",
              "      <td>A</td>\n",
              "      <td>2050-04-10</td>\n",
              "    </tr>\n",
              "    <tr>\n",
              "      <th>b</th>\n",
              "      <td>-29</td>\n",
              "      <td>0.12</td>\n",
              "      <td>0</td>\n",
              "      <td>A</td>\n",
              "      <td>2050-04-11</td>\n",
              "    </tr>\n",
              "    <tr>\n",
              "      <th>c</th>\n",
              "      <td>85</td>\n",
              "      <td>0.71</td>\n",
              "      <td>3</td>\n",
              "      <td>A</td>\n",
              "      <td>2050-04-12</td>\n",
              "    </tr>\n",
              "    <tr>\n",
              "      <th>d</th>\n",
              "      <td>-32</td>\n",
              "      <td>-0.09</td>\n",
              "      <td>0</td>\n",
              "      <td>B</td>\n",
              "      <td>2050-04-13</td>\n",
              "    </tr>\n",
              "    <tr>\n",
              "      <th>e</th>\n",
              "      <td>97</td>\n",
              "      <td>-1.21</td>\n",
              "      <td>2</td>\n",
              "      <td>B</td>\n",
              "      <td>2050-04-14</td>\n",
              "    </tr>\n",
              "  </tbody>\n",
              "</table>\n",
              "</div>"
            ],
            "text/plain": [
              "    A     B  C  D          E\n",
              "a  73  0.35  4  A 2050-04-10\n",
              "b -29  0.12  0  A 2050-04-11\n",
              "c  85  0.71  3  A 2050-04-12\n",
              "d -32 -0.09  0  B 2050-04-13\n",
              "e  97 -1.21  2  B 2050-04-14"
            ]
          },
          "metadata": {
            "tags": []
          },
          "execution_count": 56
        }
      ]
    },
    {
      "cell_type": "code",
      "metadata": {
        "id": "4M2CcEE6msMv",
        "colab_type": "code",
        "colab": {
          "base_uri": "https://localhost:8080/",
          "height": 204
        },
        "outputId": "58357bb3-1907-4bc2-ea99-cdf5b7aeff55"
      },
      "source": [
        "# 짝수 행 데이터만 열람한다.\n",
        "df[1::2]"
      ],
      "execution_count": null,
      "outputs": [
        {
          "output_type": "execute_result",
          "data": {
            "text/html": [
              "<div>\n",
              "<style scoped>\n",
              "    .dataframe tbody tr th:only-of-type {\n",
              "        vertical-align: middle;\n",
              "    }\n",
              "\n",
              "    .dataframe tbody tr th {\n",
              "        vertical-align: top;\n",
              "    }\n",
              "\n",
              "    .dataframe thead th {\n",
              "        text-align: right;\n",
              "    }\n",
              "</style>\n",
              "<table border=\"1\" class=\"dataframe\">\n",
              "  <thead>\n",
              "    <tr style=\"text-align: right;\">\n",
              "      <th></th>\n",
              "      <th>A</th>\n",
              "      <th>B</th>\n",
              "      <th>C</th>\n",
              "      <th>D</th>\n",
              "      <th>E</th>\n",
              "    </tr>\n",
              "  </thead>\n",
              "  <tbody>\n",
              "    <tr>\n",
              "      <th>b</th>\n",
              "      <td>-29</td>\n",
              "      <td>0.12</td>\n",
              "      <td>0</td>\n",
              "      <td>A</td>\n",
              "      <td>2050-04-11</td>\n",
              "    </tr>\n",
              "    <tr>\n",
              "      <th>d</th>\n",
              "      <td>-32</td>\n",
              "      <td>-0.09</td>\n",
              "      <td>0</td>\n",
              "      <td>B</td>\n",
              "      <td>2050-04-13</td>\n",
              "    </tr>\n",
              "    <tr>\n",
              "      <th>f</th>\n",
              "      <td>11</td>\n",
              "      <td>1.32</td>\n",
              "      <td>5</td>\n",
              "      <td>b</td>\n",
              "      <td>2050-04-15</td>\n",
              "    </tr>\n",
              "    <tr>\n",
              "      <th>h</th>\n",
              "      <td>-78</td>\n",
              "      <td>0.34</td>\n",
              "      <td>0</td>\n",
              "      <td>C</td>\n",
              "      <td>2050-04-17</td>\n",
              "    </tr>\n",
              "    <tr>\n",
              "      <th>j</th>\n",
              "      <td>61</td>\n",
              "      <td>-0.79</td>\n",
              "      <td>2</td>\n",
              "      <td>B</td>\n",
              "      <td>2050-04-19</td>\n",
              "    </tr>\n",
              "  </tbody>\n",
              "</table>\n",
              "</div>"
            ],
            "text/plain": [
              "    A     B  C  D          E\n",
              "b -29  0.12  0  A 2050-04-11\n",
              "d -32 -0.09  0  B 2050-04-13\n",
              "f  11  1.32  5  b 2050-04-15\n",
              "h -78  0.34  0  C 2050-04-17\n",
              "j  61 -0.79  2  B 2050-04-19"
            ]
          },
          "metadata": {
            "tags": []
          },
          "execution_count": 57
        }
      ]
    },
    {
      "cell_type": "code",
      "metadata": {
        "id": "H9XmGcJzmsMx",
        "colab_type": "code",
        "colab": {
          "base_uri": "https://localhost:8080/",
          "height": 204
        },
        "outputId": "aeff19b1-2ed4-47f5-ef3f-7207c148aa4c"
      },
      "source": [
        "# --- 인덱스로 행 데이터를 열람한다. \n",
        "# 첫 5개 행 데이터를 열람한다. \n",
        "# 파이썬 분할 연산과 달리 끝(end)도 포함한다.\n",
        "df[:'e']  # df[:5]와 같다."
      ],
      "execution_count": null,
      "outputs": [
        {
          "output_type": "execute_result",
          "data": {
            "text/html": [
              "<div>\n",
              "<style scoped>\n",
              "    .dataframe tbody tr th:only-of-type {\n",
              "        vertical-align: middle;\n",
              "    }\n",
              "\n",
              "    .dataframe tbody tr th {\n",
              "        vertical-align: top;\n",
              "    }\n",
              "\n",
              "    .dataframe thead th {\n",
              "        text-align: right;\n",
              "    }\n",
              "</style>\n",
              "<table border=\"1\" class=\"dataframe\">\n",
              "  <thead>\n",
              "    <tr style=\"text-align: right;\">\n",
              "      <th></th>\n",
              "      <th>A</th>\n",
              "      <th>B</th>\n",
              "      <th>C</th>\n",
              "      <th>D</th>\n",
              "      <th>E</th>\n",
              "    </tr>\n",
              "  </thead>\n",
              "  <tbody>\n",
              "    <tr>\n",
              "      <th>a</th>\n",
              "      <td>73</td>\n",
              "      <td>0.35</td>\n",
              "      <td>4</td>\n",
              "      <td>A</td>\n",
              "      <td>2050-04-10</td>\n",
              "    </tr>\n",
              "    <tr>\n",
              "      <th>b</th>\n",
              "      <td>-29</td>\n",
              "      <td>0.12</td>\n",
              "      <td>0</td>\n",
              "      <td>A</td>\n",
              "      <td>2050-04-11</td>\n",
              "    </tr>\n",
              "    <tr>\n",
              "      <th>c</th>\n",
              "      <td>85</td>\n",
              "      <td>0.71</td>\n",
              "      <td>3</td>\n",
              "      <td>A</td>\n",
              "      <td>2050-04-12</td>\n",
              "    </tr>\n",
              "    <tr>\n",
              "      <th>d</th>\n",
              "      <td>-32</td>\n",
              "      <td>-0.09</td>\n",
              "      <td>0</td>\n",
              "      <td>B</td>\n",
              "      <td>2050-04-13</td>\n",
              "    </tr>\n",
              "    <tr>\n",
              "      <th>e</th>\n",
              "      <td>97</td>\n",
              "      <td>-1.21</td>\n",
              "      <td>2</td>\n",
              "      <td>B</td>\n",
              "      <td>2050-04-14</td>\n",
              "    </tr>\n",
              "  </tbody>\n",
              "</table>\n",
              "</div>"
            ],
            "text/plain": [
              "    A     B  C  D          E\n",
              "a  73  0.35  4  A 2050-04-10\n",
              "b -29  0.12  0  A 2050-04-11\n",
              "c  85  0.71  3  A 2050-04-12\n",
              "d -32 -0.09  0  B 2050-04-13\n",
              "e  97 -1.21  2  B 2050-04-14"
            ]
          },
          "metadata": {
            "tags": []
          },
          "execution_count": 58
        }
      ]
    },
    {
      "cell_type": "code",
      "metadata": {
        "id": "oVsTtx9NmsMz",
        "colab_type": "code",
        "colab": {
          "base_uri": "https://localhost:8080/",
          "height": 204
        },
        "outputId": "86486c54-4616-4cb8-89b7-694a99dea8d0"
      },
      "source": [
        "# --- 인덱스로 행 데이터를 열람한다. \n",
        "# 홀수 행 데이터만 열람한다.\n",
        "df['a'::2]  # df[::2]"
      ],
      "execution_count": null,
      "outputs": [
        {
          "output_type": "execute_result",
          "data": {
            "text/html": [
              "<div>\n",
              "<style scoped>\n",
              "    .dataframe tbody tr th:only-of-type {\n",
              "        vertical-align: middle;\n",
              "    }\n",
              "\n",
              "    .dataframe tbody tr th {\n",
              "        vertical-align: top;\n",
              "    }\n",
              "\n",
              "    .dataframe thead th {\n",
              "        text-align: right;\n",
              "    }\n",
              "</style>\n",
              "<table border=\"1\" class=\"dataframe\">\n",
              "  <thead>\n",
              "    <tr style=\"text-align: right;\">\n",
              "      <th></th>\n",
              "      <th>A</th>\n",
              "      <th>B</th>\n",
              "      <th>C</th>\n",
              "      <th>D</th>\n",
              "      <th>E</th>\n",
              "    </tr>\n",
              "  </thead>\n",
              "  <tbody>\n",
              "    <tr>\n",
              "      <th>a</th>\n",
              "      <td>73</td>\n",
              "      <td>0.35</td>\n",
              "      <td>4</td>\n",
              "      <td>A</td>\n",
              "      <td>2050-04-10</td>\n",
              "    </tr>\n",
              "    <tr>\n",
              "      <th>c</th>\n",
              "      <td>85</td>\n",
              "      <td>0.71</td>\n",
              "      <td>3</td>\n",
              "      <td>A</td>\n",
              "      <td>2050-04-12</td>\n",
              "    </tr>\n",
              "    <tr>\n",
              "      <th>e</th>\n",
              "      <td>97</td>\n",
              "      <td>-1.21</td>\n",
              "      <td>2</td>\n",
              "      <td>B</td>\n",
              "      <td>2050-04-14</td>\n",
              "    </tr>\n",
              "    <tr>\n",
              "      <th>g</th>\n",
              "      <td>55</td>\n",
              "      <td>-0.65</td>\n",
              "      <td>3</td>\n",
              "      <td>NaN</td>\n",
              "      <td>2050-04-16</td>\n",
              "    </tr>\n",
              "    <tr>\n",
              "      <th>i</th>\n",
              "      <td>49</td>\n",
              "      <td>-1.23</td>\n",
              "      <td>1</td>\n",
              "      <td>A</td>\n",
              "      <td>2050-04-18</td>\n",
              "    </tr>\n",
              "  </tbody>\n",
              "</table>\n",
              "</div>"
            ],
            "text/plain": [
              "    A     B  C    D          E\n",
              "a  73  0.35  4    A 2050-04-10\n",
              "c  85  0.71  3    A 2050-04-12\n",
              "e  97 -1.21  2    B 2050-04-14\n",
              "g  55 -0.65  3  NaN 2050-04-16\n",
              "i  49 -1.23  1    A 2050-04-18"
            ]
          },
          "metadata": {
            "tags": []
          },
          "execution_count": 59
        }
      ]
    },
    {
      "cell_type": "markdown",
      "metadata": {
        "id": "WpvkN6JZmsM0",
        "colab_type": "text"
      },
      "source": [
        "**<font size='+1'>행과 열 데이터 열람 </font>**"
      ]
    },
    {
      "cell_type": "markdown",
      "metadata": {
        "id": "Cwj3QWTZmsM0",
        "colab_type": "text"
      },
      "source": [
        "**Selection by Label: loc[]**\n",
        "- 행과 열의 이름으로 데이터를 열람한다.\n",
        "- DataFrame.**loc[인덱스[, 열이름]]**\n",
        "    + ***인덱스*** 와 ***열이름*** 의 범위에 해당하는 데이터프레임을 반환한다.\n",
        "\n",
        "[pandas.DataFrame.loc](https://pandas.pydata.org/pandas-docs/stable/reference/api/pandas.DataFrame.loc.html#pandas.DataFrame.loc)\n",
        "- Access a group of rows and columns by label(s) or a boolean array.\n",
        "- DataFrame.**loc**\n",
        "\n",
        "**[참고]**\n",
        "- 판다스 **loc**에서 활용할때는 **[시작:끝]**에서 **끝** 값도 포함한다."
      ]
    },
    {
      "cell_type": "code",
      "metadata": {
        "id": "ecwFDaiYmsM2",
        "colab_type": "code",
        "colab": {
          "base_uri": "https://localhost:8080/",
          "height": 119
        },
        "outputId": "9e590331-1be2-4944-8599-51c08d4f110a"
      },
      "source": [
        "# 인덱스 'e' 행의 데이터를 열람한다.\n",
        "df.loc['e']"
      ],
      "execution_count": null,
      "outputs": [
        {
          "output_type": "execute_result",
          "data": {
            "text/plain": [
              "A                     97\n",
              "B                  -1.21\n",
              "C                      2\n",
              "D                      B\n",
              "E    2050-04-14 00:00:00\n",
              "Name: e, dtype: object"
            ]
          },
          "metadata": {
            "tags": []
          },
          "execution_count": 60
        }
      ]
    },
    {
      "cell_type": "code",
      "metadata": {
        "id": "L2rTOlAWmsM4",
        "colab_type": "code",
        "colab": {
          "base_uri": "https://localhost:8080/",
          "height": 142
        },
        "outputId": "74c562d9-cbc5-48e7-ce77-d52e6f3fe57a"
      },
      "source": [
        "# 인덱스 'e', 'f', 'g' 행의 데이터를 열람한다.\n",
        "# 파이썬 분할 연산과는 달리 끝(end)도 포함한다.\n",
        "df.loc['e':'g']"
      ],
      "execution_count": null,
      "outputs": [
        {
          "output_type": "execute_result",
          "data": {
            "text/html": [
              "<div>\n",
              "<style scoped>\n",
              "    .dataframe tbody tr th:only-of-type {\n",
              "        vertical-align: middle;\n",
              "    }\n",
              "\n",
              "    .dataframe tbody tr th {\n",
              "        vertical-align: top;\n",
              "    }\n",
              "\n",
              "    .dataframe thead th {\n",
              "        text-align: right;\n",
              "    }\n",
              "</style>\n",
              "<table border=\"1\" class=\"dataframe\">\n",
              "  <thead>\n",
              "    <tr style=\"text-align: right;\">\n",
              "      <th></th>\n",
              "      <th>A</th>\n",
              "      <th>B</th>\n",
              "      <th>C</th>\n",
              "      <th>D</th>\n",
              "      <th>E</th>\n",
              "    </tr>\n",
              "  </thead>\n",
              "  <tbody>\n",
              "    <tr>\n",
              "      <th>e</th>\n",
              "      <td>97</td>\n",
              "      <td>-1.21</td>\n",
              "      <td>2</td>\n",
              "      <td>B</td>\n",
              "      <td>2050-04-14</td>\n",
              "    </tr>\n",
              "    <tr>\n",
              "      <th>f</th>\n",
              "      <td>11</td>\n",
              "      <td>1.32</td>\n",
              "      <td>5</td>\n",
              "      <td>b</td>\n",
              "      <td>2050-04-15</td>\n",
              "    </tr>\n",
              "    <tr>\n",
              "      <th>g</th>\n",
              "      <td>55</td>\n",
              "      <td>-0.65</td>\n",
              "      <td>3</td>\n",
              "      <td>NaN</td>\n",
              "      <td>2050-04-16</td>\n",
              "    </tr>\n",
              "  </tbody>\n",
              "</table>\n",
              "</div>"
            ],
            "text/plain": [
              "    A     B  C    D          E\n",
              "e  97 -1.21  2    B 2050-04-14\n",
              "f  11  1.32  5    b 2050-04-15\n",
              "g  55 -0.65  3  NaN 2050-04-16"
            ]
          },
          "metadata": {
            "tags": []
          },
          "execution_count": 61
        }
      ]
    },
    {
      "cell_type": "code",
      "metadata": {
        "id": "0cAl3_U1msM8",
        "colab_type": "code",
        "colab": {
          "base_uri": "https://localhost:8080/",
          "height": 173
        },
        "outputId": "a88e051d-fd03-4355-ccd1-035acb8792f6"
      },
      "source": [
        "# --- 지정한 행과 지정한 열의 데이터를 열람한다.\n",
        "# 인덱스 'a', 'c', 'i', 'j' 행의 'A', 'B', 'C' 열 데이터를 열람한다.\n",
        "df.loc[['a', 'c', 'i', 'j'], :'C']  "
      ],
      "execution_count": null,
      "outputs": [
        {
          "output_type": "execute_result",
          "data": {
            "text/html": [
              "<div>\n",
              "<style scoped>\n",
              "    .dataframe tbody tr th:only-of-type {\n",
              "        vertical-align: middle;\n",
              "    }\n",
              "\n",
              "    .dataframe tbody tr th {\n",
              "        vertical-align: top;\n",
              "    }\n",
              "\n",
              "    .dataframe thead th {\n",
              "        text-align: right;\n",
              "    }\n",
              "</style>\n",
              "<table border=\"1\" class=\"dataframe\">\n",
              "  <thead>\n",
              "    <tr style=\"text-align: right;\">\n",
              "      <th></th>\n",
              "      <th>A</th>\n",
              "      <th>B</th>\n",
              "      <th>C</th>\n",
              "    </tr>\n",
              "  </thead>\n",
              "  <tbody>\n",
              "    <tr>\n",
              "      <th>a</th>\n",
              "      <td>73</td>\n",
              "      <td>0.35</td>\n",
              "      <td>4</td>\n",
              "    </tr>\n",
              "    <tr>\n",
              "      <th>c</th>\n",
              "      <td>85</td>\n",
              "      <td>0.71</td>\n",
              "      <td>3</td>\n",
              "    </tr>\n",
              "    <tr>\n",
              "      <th>i</th>\n",
              "      <td>49</td>\n",
              "      <td>-1.23</td>\n",
              "      <td>1</td>\n",
              "    </tr>\n",
              "    <tr>\n",
              "      <th>j</th>\n",
              "      <td>61</td>\n",
              "      <td>-0.79</td>\n",
              "      <td>2</td>\n",
              "    </tr>\n",
              "  </tbody>\n",
              "</table>\n",
              "</div>"
            ],
            "text/plain": [
              "    A     B  C\n",
              "a  73  0.35  4\n",
              "c  85  0.71  3\n",
              "i  49 -1.23  1\n",
              "j  61 -0.79  2"
            ]
          },
          "metadata": {
            "tags": []
          },
          "execution_count": 62
        }
      ]
    },
    {
      "cell_type": "code",
      "metadata": {
        "id": "Utzm9WHJmsM9",
        "colab_type": "code",
        "colab": {
          "base_uri": "https://localhost:8080/",
          "height": 204
        },
        "outputId": "79b3fd45-1ddc-40ad-95e2-cbf53b48827b"
      },
      "source": [
        "# --- 지정한 행과 지정한 열의 데이터를 열람한다.\n",
        "# 인덱스 'j' 행부터 거꾸로 하나씩 건너 뛰면서 'C'와 'B' 열 데이터를 열람한다.\n",
        "df.loc['j'::-2, ['C', 'B']]"
      ],
      "execution_count": null,
      "outputs": [
        {
          "output_type": "execute_result",
          "data": {
            "text/html": [
              "<div>\n",
              "<style scoped>\n",
              "    .dataframe tbody tr th:only-of-type {\n",
              "        vertical-align: middle;\n",
              "    }\n",
              "\n",
              "    .dataframe tbody tr th {\n",
              "        vertical-align: top;\n",
              "    }\n",
              "\n",
              "    .dataframe thead th {\n",
              "        text-align: right;\n",
              "    }\n",
              "</style>\n",
              "<table border=\"1\" class=\"dataframe\">\n",
              "  <thead>\n",
              "    <tr style=\"text-align: right;\">\n",
              "      <th></th>\n",
              "      <th>C</th>\n",
              "      <th>B</th>\n",
              "    </tr>\n",
              "  </thead>\n",
              "  <tbody>\n",
              "    <tr>\n",
              "      <th>j</th>\n",
              "      <td>2</td>\n",
              "      <td>-0.79</td>\n",
              "    </tr>\n",
              "    <tr>\n",
              "      <th>h</th>\n",
              "      <td>0</td>\n",
              "      <td>0.34</td>\n",
              "    </tr>\n",
              "    <tr>\n",
              "      <th>f</th>\n",
              "      <td>5</td>\n",
              "      <td>1.32</td>\n",
              "    </tr>\n",
              "    <tr>\n",
              "      <th>d</th>\n",
              "      <td>0</td>\n",
              "      <td>-0.09</td>\n",
              "    </tr>\n",
              "    <tr>\n",
              "      <th>b</th>\n",
              "      <td>0</td>\n",
              "      <td>0.12</td>\n",
              "    </tr>\n",
              "  </tbody>\n",
              "</table>\n",
              "</div>"
            ],
            "text/plain": [
              "   C     B\n",
              "j  2 -0.79\n",
              "h  0  0.34\n",
              "f  5  1.32\n",
              "d  0 -0.09\n",
              "b  0  0.12"
            ]
          },
          "metadata": {
            "tags": []
          },
          "execution_count": 63
        }
      ]
    },
    {
      "cell_type": "code",
      "metadata": {
        "id": "hcsf9iwfmsNC",
        "colab_type": "code",
        "colab": {
          "base_uri": "https://localhost:8080/",
          "height": 34
        },
        "outputId": "6e9da407-fdda-4904-ca0f-5ec42286e7b8"
      },
      "source": [
        "# --- 지정한 행과 지정한 열의 데이터를 열람한다.\n",
        "# 인덱스 'f' 행 'B' 열의 데이터를 열람한다.\n",
        "df.loc['f', 'B']  "
      ],
      "execution_count": null,
      "outputs": [
        {
          "output_type": "execute_result",
          "data": {
            "text/plain": [
              "1.32"
            ]
          },
          "metadata": {
            "tags": []
          },
          "execution_count": 64
        }
      ]
    },
    {
      "cell_type": "markdown",
      "metadata": {
        "id": "c-2JPaZrmsNF",
        "colab_type": "text"
      },
      "source": [
        "**Selection by Position: iloc[]**\n",
        "- 정수 인덱스로 데이터를 열람한다.\n",
        "정수 인덱스로 데이터를 열람한다.\n",
        "- DataFrame.**iloc[행번호[, 열번호]]**\n",
        "    + ***행번호*** 와 ***열번호*** 의 범위에 해당하는 데이터프레임을 반환한다.\n",
        "\n",
        "[pandas.DataFrame.iloc](https://pandas.pydata.org/pandas-docs/stable/reference/api/pandas.DataFrame.iloc.html#pandas.DataFrame.iloc)\n",
        "- Purely integer-location based indexing for selection by position.\n",
        "- DataFrame.**iloc**\n",
        "\n",
        "**[참고]**\n",
        "- 파이썬의 분할 연산처럼 **[시작:끝]**에서 **끝** 값은 포함하지 않는다."
      ]
    },
    {
      "cell_type": "code",
      "metadata": {
        "id": "h9lgKqccmsNH",
        "colab_type": "code",
        "colab": {
          "base_uri": "https://localhost:8080/",
          "height": 119
        },
        "outputId": "35cf7a44-8c86-4a28-da2b-c649351941e2"
      },
      "source": [
        "# 첫 번째 행의 데이터를 열람한다.\n",
        "df.iloc[0]"
      ],
      "execution_count": null,
      "outputs": [
        {
          "output_type": "execute_result",
          "data": {
            "text/plain": [
              "A                     73\n",
              "B                   0.35\n",
              "C                      4\n",
              "D                      A\n",
              "E    2050-04-10 00:00:00\n",
              "Name: a, dtype: object"
            ]
          },
          "metadata": {
            "tags": []
          },
          "execution_count": 66
        }
      ]
    },
    {
      "cell_type": "code",
      "metadata": {
        "scrolled": true,
        "id": "JUOwpGxRmsNL",
        "colab_type": "code",
        "colab": {
          "base_uri": "https://localhost:8080/",
          "height": 111
        },
        "outputId": "a9883581-0f56-4eef-d690-d1b7e648b13d"
      },
      "source": [
        "# 첫 두 행의 데이터를 열람한다.\n",
        "df.iloc[:2]"
      ],
      "execution_count": null,
      "outputs": [
        {
          "output_type": "execute_result",
          "data": {
            "text/html": [
              "<div>\n",
              "<style scoped>\n",
              "    .dataframe tbody tr th:only-of-type {\n",
              "        vertical-align: middle;\n",
              "    }\n",
              "\n",
              "    .dataframe tbody tr th {\n",
              "        vertical-align: top;\n",
              "    }\n",
              "\n",
              "    .dataframe thead th {\n",
              "        text-align: right;\n",
              "    }\n",
              "</style>\n",
              "<table border=\"1\" class=\"dataframe\">\n",
              "  <thead>\n",
              "    <tr style=\"text-align: right;\">\n",
              "      <th></th>\n",
              "      <th>A</th>\n",
              "      <th>B</th>\n",
              "      <th>C</th>\n",
              "      <th>D</th>\n",
              "      <th>E</th>\n",
              "    </tr>\n",
              "  </thead>\n",
              "  <tbody>\n",
              "    <tr>\n",
              "      <th>a</th>\n",
              "      <td>73</td>\n",
              "      <td>0.35</td>\n",
              "      <td>4</td>\n",
              "      <td>A</td>\n",
              "      <td>2050-04-10</td>\n",
              "    </tr>\n",
              "    <tr>\n",
              "      <th>b</th>\n",
              "      <td>-29</td>\n",
              "      <td>0.12</td>\n",
              "      <td>0</td>\n",
              "      <td>A</td>\n",
              "      <td>2050-04-11</td>\n",
              "    </tr>\n",
              "  </tbody>\n",
              "</table>\n",
              "</div>"
            ],
            "text/plain": [
              "    A     B  C  D          E\n",
              "a  73  0.35  4  A 2050-04-10\n",
              "b -29  0.12  0  A 2050-04-11"
            ]
          },
          "metadata": {
            "tags": []
          },
          "execution_count": 67
        }
      ]
    },
    {
      "cell_type": "code",
      "metadata": {
        "id": "dGjiYdhqmsNN",
        "colab_type": "code",
        "colab": {
          "base_uri": "https://localhost:8080/",
          "height": 85
        },
        "outputId": "4b8c4b10-a0ca-48a7-c5ae-0e389800079c"
      },
      "source": [
        "# 마지막 행의 첫 세 열의 데이터를 열람한다.\n",
        "df.iloc[-1, :3]"
      ],
      "execution_count": null,
      "outputs": [
        {
          "output_type": "execute_result",
          "data": {
            "text/plain": [
              "A      61\n",
              "B   -0.79\n",
              "C       2\n",
              "Name: j, dtype: object"
            ]
          },
          "metadata": {
            "tags": []
          },
          "execution_count": 68
        }
      ]
    },
    {
      "cell_type": "code",
      "metadata": {
        "id": "k2fLuk2YmsNP",
        "colab_type": "code",
        "colab": {
          "base_uri": "https://localhost:8080/",
          "height": 111
        },
        "outputId": "48d15194-4e97-47c4-ccf0-7a8da0becddb"
      },
      "source": [
        "# --- 지정한 행과 지정한 열의 데이터를 열람한다.\n",
        "# 9번째 행부터 100번째 행(10행뿐임)에서 \n",
        "# 마지막과 세 번째, 첫 번째 열의 데이터를 열람한다. \n",
        "df.iloc[8:100, ::-2]"
      ],
      "execution_count": null,
      "outputs": [
        {
          "output_type": "execute_result",
          "data": {
            "text/html": [
              "<div>\n",
              "<style scoped>\n",
              "    .dataframe tbody tr th:only-of-type {\n",
              "        vertical-align: middle;\n",
              "    }\n",
              "\n",
              "    .dataframe tbody tr th {\n",
              "        vertical-align: top;\n",
              "    }\n",
              "\n",
              "    .dataframe thead th {\n",
              "        text-align: right;\n",
              "    }\n",
              "</style>\n",
              "<table border=\"1\" class=\"dataframe\">\n",
              "  <thead>\n",
              "    <tr style=\"text-align: right;\">\n",
              "      <th></th>\n",
              "      <th>E</th>\n",
              "      <th>C</th>\n",
              "      <th>A</th>\n",
              "    </tr>\n",
              "  </thead>\n",
              "  <tbody>\n",
              "    <tr>\n",
              "      <th>i</th>\n",
              "      <td>2050-04-18</td>\n",
              "      <td>1</td>\n",
              "      <td>49</td>\n",
              "    </tr>\n",
              "    <tr>\n",
              "      <th>j</th>\n",
              "      <td>2050-04-19</td>\n",
              "      <td>2</td>\n",
              "      <td>61</td>\n",
              "    </tr>\n",
              "  </tbody>\n",
              "</table>\n",
              "</div>"
            ],
            "text/plain": [
              "           E  C   A\n",
              "i 2050-04-18  1  49\n",
              "j 2050-04-19  2  61"
            ]
          },
          "metadata": {
            "tags": []
          },
          "execution_count": 69
        }
      ]
    },
    {
      "cell_type": "code",
      "metadata": {
        "id": "5DTV8at7msNQ",
        "colab_type": "code",
        "colab": {
          "base_uri": "https://localhost:8080/",
          "height": 142
        },
        "outputId": "659a9212-5014-4d5e-98c1-6dc640e04432"
      },
      "source": [
        "# --- 지정한 행과 지정한 열의 데이터를 열람한다.\n",
        "# 5번째, 8번째, 마지막 행에서 첫 번째, \n",
        "# 세 번째 열의 데이터를 열람한다.\n",
        "df.iloc[[4, 7, -1], [0, 2]]"
      ],
      "execution_count": null,
      "outputs": [
        {
          "output_type": "execute_result",
          "data": {
            "text/html": [
              "<div>\n",
              "<style scoped>\n",
              "    .dataframe tbody tr th:only-of-type {\n",
              "        vertical-align: middle;\n",
              "    }\n",
              "\n",
              "    .dataframe tbody tr th {\n",
              "        vertical-align: top;\n",
              "    }\n",
              "\n",
              "    .dataframe thead th {\n",
              "        text-align: right;\n",
              "    }\n",
              "</style>\n",
              "<table border=\"1\" class=\"dataframe\">\n",
              "  <thead>\n",
              "    <tr style=\"text-align: right;\">\n",
              "      <th></th>\n",
              "      <th>A</th>\n",
              "      <th>C</th>\n",
              "    </tr>\n",
              "  </thead>\n",
              "  <tbody>\n",
              "    <tr>\n",
              "      <th>e</th>\n",
              "      <td>97</td>\n",
              "      <td>2</td>\n",
              "    </tr>\n",
              "    <tr>\n",
              "      <th>h</th>\n",
              "      <td>-78</td>\n",
              "      <td>0</td>\n",
              "    </tr>\n",
              "    <tr>\n",
              "      <th>j</th>\n",
              "      <td>61</td>\n",
              "      <td>2</td>\n",
              "    </tr>\n",
              "  </tbody>\n",
              "</table>\n",
              "</div>"
            ],
            "text/plain": [
              "    A  C\n",
              "e  97  2\n",
              "h -78  0\n",
              "j  61  2"
            ]
          },
          "metadata": {
            "tags": []
          },
          "execution_count": 70
        }
      ]
    },
    {
      "cell_type": "markdown",
      "metadata": {
        "id": "qqN_Kz8nmsNR",
        "colab_type": "text"
      },
      "source": [
        "**특정 조건으로 열람 : 불린 인덱싱**\n",
        "- SQL의 **SELCT…FROM…WHERE** 구문과 유사하다.\n",
        "- **SELECT** 프로젝션(projection)과 **WHERE** 조건문 사용"
      ]
    },
    {
      "cell_type": "code",
      "metadata": {
        "id": "CZLAZevzmsNS",
        "colab_type": "code",
        "colab": {
          "base_uri": "https://localhost:8080/",
          "height": 142
        },
        "outputId": "515db77b-43dd-4d7c-86ae-b01910b408b2"
      },
      "source": [
        "# SELECT *\n",
        "#   FROM df \n",
        "#  WHERE A < 0\n",
        "\n",
        "# 'A' 열의 값이 음수인 행을 열람한다.\n",
        "df[df['A'] < 0]  # df[df.A < 0]와 같다."
      ],
      "execution_count": null,
      "outputs": [
        {
          "output_type": "execute_result",
          "data": {
            "text/html": [
              "<div>\n",
              "<style scoped>\n",
              "    .dataframe tbody tr th:only-of-type {\n",
              "        vertical-align: middle;\n",
              "    }\n",
              "\n",
              "    .dataframe tbody tr th {\n",
              "        vertical-align: top;\n",
              "    }\n",
              "\n",
              "    .dataframe thead th {\n",
              "        text-align: right;\n",
              "    }\n",
              "</style>\n",
              "<table border=\"1\" class=\"dataframe\">\n",
              "  <thead>\n",
              "    <tr style=\"text-align: right;\">\n",
              "      <th></th>\n",
              "      <th>A</th>\n",
              "      <th>B</th>\n",
              "      <th>C</th>\n",
              "      <th>D</th>\n",
              "      <th>E</th>\n",
              "    </tr>\n",
              "  </thead>\n",
              "  <tbody>\n",
              "    <tr>\n",
              "      <th>b</th>\n",
              "      <td>-29</td>\n",
              "      <td>0.12</td>\n",
              "      <td>0</td>\n",
              "      <td>A</td>\n",
              "      <td>2050-04-11</td>\n",
              "    </tr>\n",
              "    <tr>\n",
              "      <th>d</th>\n",
              "      <td>-32</td>\n",
              "      <td>-0.09</td>\n",
              "      <td>0</td>\n",
              "      <td>B</td>\n",
              "      <td>2050-04-13</td>\n",
              "    </tr>\n",
              "    <tr>\n",
              "      <th>h</th>\n",
              "      <td>-78</td>\n",
              "      <td>0.34</td>\n",
              "      <td>0</td>\n",
              "      <td>C</td>\n",
              "      <td>2050-04-17</td>\n",
              "    </tr>\n",
              "  </tbody>\n",
              "</table>\n",
              "</div>"
            ],
            "text/plain": [
              "    A     B  C  D          E\n",
              "b -29  0.12  0  A 2050-04-11\n",
              "d -32 -0.09  0  B 2050-04-13\n",
              "h -78  0.34  0  C 2050-04-17"
            ]
          },
          "metadata": {
            "tags": []
          },
          "execution_count": 71
        }
      ]
    },
    {
      "cell_type": "code",
      "metadata": {
        "id": "WBu1nhfkmsNU",
        "colab_type": "code",
        "colab": {
          "base_uri": "https://localhost:8080/",
          "height": 173
        },
        "outputId": "4939b0ac-6a7a-42d9-a1ff-641d922cd730"
      },
      "source": [
        "# SELECT * \n",
        "#   FROM df \n",
        "#  WHERE A > 0 AND B < 0\n",
        "\n",
        "# 'A'열의 값이 양수이면서 'B' 열의 값이 음수인 행을 열람한다.\n",
        "# AND는 '&'를 사용한다.\n",
        "df[(df.A > 0) & (df.B < 0)]  # 반드시 괄호로 묶어야 한다."
      ],
      "execution_count": null,
      "outputs": [
        {
          "output_type": "execute_result",
          "data": {
            "text/html": [
              "<div>\n",
              "<style scoped>\n",
              "    .dataframe tbody tr th:only-of-type {\n",
              "        vertical-align: middle;\n",
              "    }\n",
              "\n",
              "    .dataframe tbody tr th {\n",
              "        vertical-align: top;\n",
              "    }\n",
              "\n",
              "    .dataframe thead th {\n",
              "        text-align: right;\n",
              "    }\n",
              "</style>\n",
              "<table border=\"1\" class=\"dataframe\">\n",
              "  <thead>\n",
              "    <tr style=\"text-align: right;\">\n",
              "      <th></th>\n",
              "      <th>A</th>\n",
              "      <th>B</th>\n",
              "      <th>C</th>\n",
              "      <th>D</th>\n",
              "      <th>E</th>\n",
              "    </tr>\n",
              "  </thead>\n",
              "  <tbody>\n",
              "    <tr>\n",
              "      <th>e</th>\n",
              "      <td>97</td>\n",
              "      <td>-1.21</td>\n",
              "      <td>2</td>\n",
              "      <td>B</td>\n",
              "      <td>2050-04-14</td>\n",
              "    </tr>\n",
              "    <tr>\n",
              "      <th>g</th>\n",
              "      <td>55</td>\n",
              "      <td>-0.65</td>\n",
              "      <td>3</td>\n",
              "      <td>NaN</td>\n",
              "      <td>2050-04-16</td>\n",
              "    </tr>\n",
              "    <tr>\n",
              "      <th>i</th>\n",
              "      <td>49</td>\n",
              "      <td>-1.23</td>\n",
              "      <td>1</td>\n",
              "      <td>A</td>\n",
              "      <td>2050-04-18</td>\n",
              "    </tr>\n",
              "    <tr>\n",
              "      <th>j</th>\n",
              "      <td>61</td>\n",
              "      <td>-0.79</td>\n",
              "      <td>2</td>\n",
              "      <td>B</td>\n",
              "      <td>2050-04-19</td>\n",
              "    </tr>\n",
              "  </tbody>\n",
              "</table>\n",
              "</div>"
            ],
            "text/plain": [
              "    A     B  C    D          E\n",
              "e  97 -1.21  2    B 2050-04-14\n",
              "g  55 -0.65  3  NaN 2050-04-16\n",
              "i  49 -1.23  1    A 2050-04-18\n",
              "j  61 -0.79  2    B 2050-04-19"
            ]
          },
          "metadata": {
            "tags": []
          },
          "execution_count": 72
        }
      ]
    },
    {
      "cell_type": "code",
      "metadata": {
        "id": "PXtI1he0msNW",
        "colab_type": "code",
        "colab": {
          "base_uri": "https://localhost:8080/",
          "height": 111
        },
        "outputId": "db2bc1b5-5cc6-44dc-f466-ff36cb1dc653"
      },
      "source": [
        "# SELECT * \n",
        "#   FROM df \n",
        "#  WHERE B > 1 OR A <= -1\n",
        "\n",
        "# 'B'열의 값이 1보다 크거나 'A' 열의 값이 -50보다 작은 행을 열람한다.\n",
        "# OR는 '|'를 사용한다.\n",
        "df[(df['B'] > 1) | (df.A <= -50)]  # 반드시 괄호로 묶어야 한다."
      ],
      "execution_count": null,
      "outputs": [
        {
          "output_type": "execute_result",
          "data": {
            "text/html": [
              "<div>\n",
              "<style scoped>\n",
              "    .dataframe tbody tr th:only-of-type {\n",
              "        vertical-align: middle;\n",
              "    }\n",
              "\n",
              "    .dataframe tbody tr th {\n",
              "        vertical-align: top;\n",
              "    }\n",
              "\n",
              "    .dataframe thead th {\n",
              "        text-align: right;\n",
              "    }\n",
              "</style>\n",
              "<table border=\"1\" class=\"dataframe\">\n",
              "  <thead>\n",
              "    <tr style=\"text-align: right;\">\n",
              "      <th></th>\n",
              "      <th>A</th>\n",
              "      <th>B</th>\n",
              "      <th>C</th>\n",
              "      <th>D</th>\n",
              "      <th>E</th>\n",
              "    </tr>\n",
              "  </thead>\n",
              "  <tbody>\n",
              "    <tr>\n",
              "      <th>f</th>\n",
              "      <td>11</td>\n",
              "      <td>1.32</td>\n",
              "      <td>5</td>\n",
              "      <td>b</td>\n",
              "      <td>2050-04-15</td>\n",
              "    </tr>\n",
              "    <tr>\n",
              "      <th>h</th>\n",
              "      <td>-78</td>\n",
              "      <td>0.34</td>\n",
              "      <td>0</td>\n",
              "      <td>C</td>\n",
              "      <td>2050-04-17</td>\n",
              "    </tr>\n",
              "  </tbody>\n",
              "</table>\n",
              "</div>"
            ],
            "text/plain": [
              "    A     B  C  D          E\n",
              "f  11  1.32  5  b 2050-04-15\n",
              "h -78  0.34  0  C 2050-04-17"
            ]
          },
          "metadata": {
            "tags": []
          },
          "execution_count": 73
        }
      ]
    },
    {
      "cell_type": "code",
      "metadata": {
        "id": "bLA6P2w7msNX",
        "colab_type": "code",
        "colab": {}
      },
      "source": [
        "# --- 전체 데이터에서 조건을 만족하는 셀을 열람한다.\n",
        "# 먼저 숫치로만 이루어진 데이터프레임을 생성한다.\n",
        "df2 = pandas.DataFrame(numpy.random.randn(10, 3),  # shape of (10, 3)\n",
        "                       index=list('abcdefghij'), \n",
        "                       columns=list('ABC'))"
      ],
      "execution_count": null,
      "outputs": []
    },
    {
      "cell_type": "code",
      "metadata": {
        "id": "8l597ONimsNZ",
        "colab_type": "code",
        "colab": {
          "base_uri": "https://localhost:8080/",
          "height": 359
        },
        "outputId": "8dd9e652-1586-4ac2-f333-a19401f5356e"
      },
      "source": [
        "# df2 전체 데이터에서 0보다 큰 값을 가진 조건을 만족하는 셀을 열람한다.\n",
        "df2[df2 > 0]"
      ],
      "execution_count": null,
      "outputs": [
        {
          "output_type": "execute_result",
          "data": {
            "text/html": [
              "<div>\n",
              "<style scoped>\n",
              "    .dataframe tbody tr th:only-of-type {\n",
              "        vertical-align: middle;\n",
              "    }\n",
              "\n",
              "    .dataframe tbody tr th {\n",
              "        vertical-align: top;\n",
              "    }\n",
              "\n",
              "    .dataframe thead th {\n",
              "        text-align: right;\n",
              "    }\n",
              "</style>\n",
              "<table border=\"1\" class=\"dataframe\">\n",
              "  <thead>\n",
              "    <tr style=\"text-align: right;\">\n",
              "      <th></th>\n",
              "      <th>A</th>\n",
              "      <th>B</th>\n",
              "      <th>C</th>\n",
              "    </tr>\n",
              "  </thead>\n",
              "  <tbody>\n",
              "    <tr>\n",
              "      <th>a</th>\n",
              "      <td>NaN</td>\n",
              "      <td>NaN</td>\n",
              "      <td>NaN</td>\n",
              "    </tr>\n",
              "    <tr>\n",
              "      <th>b</th>\n",
              "      <td>NaN</td>\n",
              "      <td>NaN</td>\n",
              "      <td>1.287834</td>\n",
              "    </tr>\n",
              "    <tr>\n",
              "      <th>c</th>\n",
              "      <td>NaN</td>\n",
              "      <td>NaN</td>\n",
              "      <td>NaN</td>\n",
              "    </tr>\n",
              "    <tr>\n",
              "      <th>d</th>\n",
              "      <td>0.496370</td>\n",
              "      <td>0.483042</td>\n",
              "      <td>0.700012</td>\n",
              "    </tr>\n",
              "    <tr>\n",
              "      <th>e</th>\n",
              "      <td>0.386662</td>\n",
              "      <td>NaN</td>\n",
              "      <td>NaN</td>\n",
              "    </tr>\n",
              "    <tr>\n",
              "      <th>f</th>\n",
              "      <td>NaN</td>\n",
              "      <td>NaN</td>\n",
              "      <td>0.191709</td>\n",
              "    </tr>\n",
              "    <tr>\n",
              "      <th>g</th>\n",
              "      <td>1.115696</td>\n",
              "      <td>0.553788</td>\n",
              "      <td>0.029950</td>\n",
              "    </tr>\n",
              "    <tr>\n",
              "      <th>h</th>\n",
              "      <td>0.722985</td>\n",
              "      <td>NaN</td>\n",
              "      <td>NaN</td>\n",
              "    </tr>\n",
              "    <tr>\n",
              "      <th>i</th>\n",
              "      <td>0.795368</td>\n",
              "      <td>NaN</td>\n",
              "      <td>0.760775</td>\n",
              "    </tr>\n",
              "    <tr>\n",
              "      <th>j</th>\n",
              "      <td>0.145489</td>\n",
              "      <td>0.500949</td>\n",
              "      <td>NaN</td>\n",
              "    </tr>\n",
              "  </tbody>\n",
              "</table>\n",
              "</div>"
            ],
            "text/plain": [
              "          A         B         C\n",
              "a       NaN       NaN       NaN\n",
              "b       NaN       NaN  1.287834\n",
              "c       NaN       NaN       NaN\n",
              "d  0.496370  0.483042  0.700012\n",
              "e  0.386662       NaN       NaN\n",
              "f       NaN       NaN  0.191709\n",
              "g  1.115696  0.553788  0.029950\n",
              "h  0.722985       NaN       NaN\n",
              "i  0.795368       NaN  0.760775\n",
              "j  0.145489  0.500949       NaN"
            ]
          },
          "metadata": {
            "tags": []
          },
          "execution_count": 75
        }
      ]
    },
    {
      "cell_type": "markdown",
      "metadata": {
        "id": "NKXbtfrtmsNb",
        "colab_type": "text"
      },
      "source": [
        "**isin()** 메소드 \n",
        "- 지정한 값을 가진 데이터만 열람한다.\n",
        "\n",
        "[pandas.DataFrame.isin](https://pandas.pydata.org/pandas-docs/stable/reference/api/pandas.DataFrame.isin.html#pandas.DataFrame.isin)\n",
        "- Whether each element in the DataFrame is contained in values.\n",
        "- DataFrame.**isin**(*self, values*)\n",
        "    - **values** : *iterable*, *Series*, *DataFrame* or *dict*"
      ]
    },
    {
      "cell_type": "code",
      "metadata": {
        "id": "afxnzpwHmsNe",
        "colab_type": "code",
        "colab": {
          "base_uri": "https://localhost:8080/",
          "height": 142
        },
        "outputId": "71b9202a-8e94-4887-c344-f61a08fdd064"
      },
      "source": [
        "# C 열에서 1 또는 3을 포한한 데이터만 열람한다.\n",
        "df[df['C'].isin([1, 3])]  # df[df.C.isin([1, 3])]과 같다.\n",
        "\n",
        "# --- 튜플을 사용해도 된다.\n",
        "# df[df.C.isin((1, 3))]"
      ],
      "execution_count": null,
      "outputs": [
        {
          "output_type": "execute_result",
          "data": {
            "text/html": [
              "<div>\n",
              "<style scoped>\n",
              "    .dataframe tbody tr th:only-of-type {\n",
              "        vertical-align: middle;\n",
              "    }\n",
              "\n",
              "    .dataframe tbody tr th {\n",
              "        vertical-align: top;\n",
              "    }\n",
              "\n",
              "    .dataframe thead th {\n",
              "        text-align: right;\n",
              "    }\n",
              "</style>\n",
              "<table border=\"1\" class=\"dataframe\">\n",
              "  <thead>\n",
              "    <tr style=\"text-align: right;\">\n",
              "      <th></th>\n",
              "      <th>A</th>\n",
              "      <th>B</th>\n",
              "      <th>C</th>\n",
              "      <th>D</th>\n",
              "      <th>E</th>\n",
              "    </tr>\n",
              "  </thead>\n",
              "  <tbody>\n",
              "    <tr>\n",
              "      <th>c</th>\n",
              "      <td>85</td>\n",
              "      <td>0.71</td>\n",
              "      <td>3</td>\n",
              "      <td>A</td>\n",
              "      <td>2050-04-12</td>\n",
              "    </tr>\n",
              "    <tr>\n",
              "      <th>g</th>\n",
              "      <td>55</td>\n",
              "      <td>-0.65</td>\n",
              "      <td>3</td>\n",
              "      <td>NaN</td>\n",
              "      <td>2050-04-16</td>\n",
              "    </tr>\n",
              "    <tr>\n",
              "      <th>i</th>\n",
              "      <td>49</td>\n",
              "      <td>-1.23</td>\n",
              "      <td>1</td>\n",
              "      <td>A</td>\n",
              "      <td>2050-04-18</td>\n",
              "    </tr>\n",
              "  </tbody>\n",
              "</table>\n",
              "</div>"
            ],
            "text/plain": [
              "    A     B  C    D          E\n",
              "c  85  0.71  3    A 2050-04-12\n",
              "g  55 -0.65  3  NaN 2050-04-16\n",
              "i  49 -1.23  1    A 2050-04-18"
            ]
          },
          "metadata": {
            "tags": []
          },
          "execution_count": 77
        }
      ]
    },
    {
      "cell_type": "code",
      "metadata": {
        "id": "X2_JLVypmsNf",
        "colab_type": "code",
        "colab": {
          "base_uri": "https://localhost:8080/",
          "height": 359
        },
        "outputId": "ed8d287f-0b98-47bc-a689-025ab94b8037"
      },
      "source": [
        "# 전체 데이터에서 값이 'A' 또는 0인 셀을 불린 표현으로 열람한다.\n",
        "df.isin(['A', 0])"
      ],
      "execution_count": null,
      "outputs": [
        {
          "output_type": "execute_result",
          "data": {
            "text/html": [
              "<div>\n",
              "<style scoped>\n",
              "    .dataframe tbody tr th:only-of-type {\n",
              "        vertical-align: middle;\n",
              "    }\n",
              "\n",
              "    .dataframe tbody tr th {\n",
              "        vertical-align: top;\n",
              "    }\n",
              "\n",
              "    .dataframe thead th {\n",
              "        text-align: right;\n",
              "    }\n",
              "</style>\n",
              "<table border=\"1\" class=\"dataframe\">\n",
              "  <thead>\n",
              "    <tr style=\"text-align: right;\">\n",
              "      <th></th>\n",
              "      <th>A</th>\n",
              "      <th>B</th>\n",
              "      <th>C</th>\n",
              "      <th>D</th>\n",
              "      <th>E</th>\n",
              "    </tr>\n",
              "  </thead>\n",
              "  <tbody>\n",
              "    <tr>\n",
              "      <th>a</th>\n",
              "      <td>False</td>\n",
              "      <td>False</td>\n",
              "      <td>False</td>\n",
              "      <td>True</td>\n",
              "      <td>False</td>\n",
              "    </tr>\n",
              "    <tr>\n",
              "      <th>b</th>\n",
              "      <td>False</td>\n",
              "      <td>False</td>\n",
              "      <td>True</td>\n",
              "      <td>True</td>\n",
              "      <td>False</td>\n",
              "    </tr>\n",
              "    <tr>\n",
              "      <th>c</th>\n",
              "      <td>False</td>\n",
              "      <td>False</td>\n",
              "      <td>False</td>\n",
              "      <td>True</td>\n",
              "      <td>False</td>\n",
              "    </tr>\n",
              "    <tr>\n",
              "      <th>d</th>\n",
              "      <td>False</td>\n",
              "      <td>False</td>\n",
              "      <td>True</td>\n",
              "      <td>False</td>\n",
              "      <td>False</td>\n",
              "    </tr>\n",
              "    <tr>\n",
              "      <th>e</th>\n",
              "      <td>False</td>\n",
              "      <td>False</td>\n",
              "      <td>False</td>\n",
              "      <td>False</td>\n",
              "      <td>False</td>\n",
              "    </tr>\n",
              "    <tr>\n",
              "      <th>f</th>\n",
              "      <td>False</td>\n",
              "      <td>False</td>\n",
              "      <td>False</td>\n",
              "      <td>False</td>\n",
              "      <td>False</td>\n",
              "    </tr>\n",
              "    <tr>\n",
              "      <th>g</th>\n",
              "      <td>False</td>\n",
              "      <td>False</td>\n",
              "      <td>False</td>\n",
              "      <td>False</td>\n",
              "      <td>False</td>\n",
              "    </tr>\n",
              "    <tr>\n",
              "      <th>h</th>\n",
              "      <td>False</td>\n",
              "      <td>False</td>\n",
              "      <td>True</td>\n",
              "      <td>False</td>\n",
              "      <td>False</td>\n",
              "    </tr>\n",
              "    <tr>\n",
              "      <th>i</th>\n",
              "      <td>False</td>\n",
              "      <td>False</td>\n",
              "      <td>False</td>\n",
              "      <td>True</td>\n",
              "      <td>False</td>\n",
              "    </tr>\n",
              "    <tr>\n",
              "      <th>j</th>\n",
              "      <td>False</td>\n",
              "      <td>False</td>\n",
              "      <td>False</td>\n",
              "      <td>False</td>\n",
              "      <td>False</td>\n",
              "    </tr>\n",
              "  </tbody>\n",
              "</table>\n",
              "</div>"
            ],
            "text/plain": [
              "       A      B      C      D      E\n",
              "a  False  False  False   True  False\n",
              "b  False  False   True   True  False\n",
              "c  False  False  False   True  False\n",
              "d  False  False   True  False  False\n",
              "e  False  False  False  False  False\n",
              "f  False  False  False  False  False\n",
              "g  False  False  False  False  False\n",
              "h  False  False   True  False  False\n",
              "i  False  False  False   True  False\n",
              "j  False  False  False  False  False"
            ]
          },
          "metadata": {
            "tags": []
          },
          "execution_count": 78
        }
      ]
    },
    {
      "cell_type": "markdown",
      "metadata": {
        "id": "4P1R8SZPmsNg",
        "colab_type": "text"
      },
      "source": [
        "**isna()** 메소드\n",
        "- 데이터 값이 결측치(NaN)가 있는 셀을 불린 표현으로 열람한다.\n",
        "\n",
        "[pandas.isna](https://pandas.pydata.org/pandas-docs/stable/reference/api/pandas.isna.html#pandas.isna)\n",
        "- Detect missing values for an array-like object.\n",
        "- This function takes a scalar or array-like object and indicates whether values are missing (NaN in numeric arrays, None or NaN in object arrays, NaT in datetimelike)\n",
        "- pandas.**isna**(*obj*)\n",
        "\n",
        "**[참고]**  \n",
        "NaN(Not a Number)은 정의할 수 없는 숫자를 나타내는 말로서 \n",
        "1. 연산을 수행후 그 결과 값을 숫자로 표현할 수 없는 실수(float) 값 또는\n",
        "1. 판다스에서 결측치(missing data)를 의미할 때 사용한다."
      ]
    },
    {
      "cell_type": "code",
      "metadata": {
        "id": "OY7nsq84msNi",
        "colab_type": "code",
        "colab": {
          "base_uri": "https://localhost:8080/",
          "height": 359
        },
        "outputId": "05c44d50-6d73-4a06-94a7-8b435ae5fe71"
      },
      "source": [
        "# 전체 데이터에서 결측치가 있는 셀을 불린 표현으로 열람한다.\n",
        "pandas.isna(df)"
      ],
      "execution_count": null,
      "outputs": [
        {
          "output_type": "execute_result",
          "data": {
            "text/html": [
              "<div>\n",
              "<style scoped>\n",
              "    .dataframe tbody tr th:only-of-type {\n",
              "        vertical-align: middle;\n",
              "    }\n",
              "\n",
              "    .dataframe tbody tr th {\n",
              "        vertical-align: top;\n",
              "    }\n",
              "\n",
              "    .dataframe thead th {\n",
              "        text-align: right;\n",
              "    }\n",
              "</style>\n",
              "<table border=\"1\" class=\"dataframe\">\n",
              "  <thead>\n",
              "    <tr style=\"text-align: right;\">\n",
              "      <th></th>\n",
              "      <th>A</th>\n",
              "      <th>B</th>\n",
              "      <th>C</th>\n",
              "      <th>D</th>\n",
              "      <th>E</th>\n",
              "    </tr>\n",
              "  </thead>\n",
              "  <tbody>\n",
              "    <tr>\n",
              "      <th>a</th>\n",
              "      <td>False</td>\n",
              "      <td>False</td>\n",
              "      <td>False</td>\n",
              "      <td>False</td>\n",
              "      <td>False</td>\n",
              "    </tr>\n",
              "    <tr>\n",
              "      <th>b</th>\n",
              "      <td>False</td>\n",
              "      <td>False</td>\n",
              "      <td>False</td>\n",
              "      <td>False</td>\n",
              "      <td>False</td>\n",
              "    </tr>\n",
              "    <tr>\n",
              "      <th>c</th>\n",
              "      <td>False</td>\n",
              "      <td>False</td>\n",
              "      <td>False</td>\n",
              "      <td>False</td>\n",
              "      <td>False</td>\n",
              "    </tr>\n",
              "    <tr>\n",
              "      <th>d</th>\n",
              "      <td>False</td>\n",
              "      <td>False</td>\n",
              "      <td>False</td>\n",
              "      <td>False</td>\n",
              "      <td>False</td>\n",
              "    </tr>\n",
              "    <tr>\n",
              "      <th>e</th>\n",
              "      <td>False</td>\n",
              "      <td>False</td>\n",
              "      <td>False</td>\n",
              "      <td>False</td>\n",
              "      <td>False</td>\n",
              "    </tr>\n",
              "    <tr>\n",
              "      <th>f</th>\n",
              "      <td>False</td>\n",
              "      <td>False</td>\n",
              "      <td>False</td>\n",
              "      <td>False</td>\n",
              "      <td>False</td>\n",
              "    </tr>\n",
              "    <tr>\n",
              "      <th>g</th>\n",
              "      <td>False</td>\n",
              "      <td>False</td>\n",
              "      <td>False</td>\n",
              "      <td>True</td>\n",
              "      <td>False</td>\n",
              "    </tr>\n",
              "    <tr>\n",
              "      <th>h</th>\n",
              "      <td>False</td>\n",
              "      <td>False</td>\n",
              "      <td>False</td>\n",
              "      <td>False</td>\n",
              "      <td>False</td>\n",
              "    </tr>\n",
              "    <tr>\n",
              "      <th>i</th>\n",
              "      <td>False</td>\n",
              "      <td>False</td>\n",
              "      <td>False</td>\n",
              "      <td>False</td>\n",
              "      <td>False</td>\n",
              "    </tr>\n",
              "    <tr>\n",
              "      <th>j</th>\n",
              "      <td>False</td>\n",
              "      <td>False</td>\n",
              "      <td>False</td>\n",
              "      <td>False</td>\n",
              "      <td>False</td>\n",
              "    </tr>\n",
              "  </tbody>\n",
              "</table>\n",
              "</div>"
            ],
            "text/plain": [
              "       A      B      C      D      E\n",
              "a  False  False  False  False  False\n",
              "b  False  False  False  False  False\n",
              "c  False  False  False  False  False\n",
              "d  False  False  False  False  False\n",
              "e  False  False  False  False  False\n",
              "f  False  False  False  False  False\n",
              "g  False  False  False   True  False\n",
              "h  False  False  False  False  False\n",
              "i  False  False  False  False  False\n",
              "j  False  False  False  False  False"
            ]
          },
          "metadata": {
            "tags": []
          },
          "execution_count": 79
        }
      ]
    },
    {
      "cell_type": "markdown",
      "metadata": {
        "id": "tNsrs2eomsNi",
        "colab_type": "text"
      },
      "source": [
        "**<font size='+1'>특정 셀 데이터 열람 </font>**"
      ]
    },
    {
      "cell_type": "markdown",
      "metadata": {
        "id": "X9srTqJomsNj",
        "colab_type": "text"
      },
      "source": [
        "**Selection by Label: at[]**\n",
        "- 행과 열의 이름으로 특정 셀의 데이터를 열람한다.\n",
        "\n",
        "[pandas.DataFrame.at](https://pandas.pydata.org/pandas-docs/stable/reference/api/pandas.DataFrame.at.html#pandas.DataFrame.at)\n",
        "- Access a single value for a row/column label pair.\n",
        "- DataFrame.**at**"
      ]
    },
    {
      "cell_type": "code",
      "metadata": {
        "id": "vmaAnP9smsNj",
        "colab_type": "code",
        "colab": {
          "base_uri": "https://localhost:8080/",
          "height": 359
        },
        "outputId": "1eb1b1a8-dd3e-489a-9eec-d85a8a32596a"
      },
      "source": [
        "df"
      ],
      "execution_count": null,
      "outputs": [
        {
          "output_type": "execute_result",
          "data": {
            "text/html": [
              "<div>\n",
              "<style scoped>\n",
              "    .dataframe tbody tr th:only-of-type {\n",
              "        vertical-align: middle;\n",
              "    }\n",
              "\n",
              "    .dataframe tbody tr th {\n",
              "        vertical-align: top;\n",
              "    }\n",
              "\n",
              "    .dataframe thead th {\n",
              "        text-align: right;\n",
              "    }\n",
              "</style>\n",
              "<table border=\"1\" class=\"dataframe\">\n",
              "  <thead>\n",
              "    <tr style=\"text-align: right;\">\n",
              "      <th></th>\n",
              "      <th>A</th>\n",
              "      <th>B</th>\n",
              "      <th>C</th>\n",
              "      <th>D</th>\n",
              "      <th>E</th>\n",
              "    </tr>\n",
              "  </thead>\n",
              "  <tbody>\n",
              "    <tr>\n",
              "      <th>a</th>\n",
              "      <td>73</td>\n",
              "      <td>0.35</td>\n",
              "      <td>4</td>\n",
              "      <td>A</td>\n",
              "      <td>2050-04-10</td>\n",
              "    </tr>\n",
              "    <tr>\n",
              "      <th>b</th>\n",
              "      <td>-29</td>\n",
              "      <td>0.12</td>\n",
              "      <td>0</td>\n",
              "      <td>A</td>\n",
              "      <td>2050-04-11</td>\n",
              "    </tr>\n",
              "    <tr>\n",
              "      <th>c</th>\n",
              "      <td>85</td>\n",
              "      <td>0.71</td>\n",
              "      <td>3</td>\n",
              "      <td>A</td>\n",
              "      <td>2050-04-12</td>\n",
              "    </tr>\n",
              "    <tr>\n",
              "      <th>d</th>\n",
              "      <td>-32</td>\n",
              "      <td>-0.09</td>\n",
              "      <td>0</td>\n",
              "      <td>B</td>\n",
              "      <td>2050-04-13</td>\n",
              "    </tr>\n",
              "    <tr>\n",
              "      <th>e</th>\n",
              "      <td>97</td>\n",
              "      <td>-1.21</td>\n",
              "      <td>2</td>\n",
              "      <td>B</td>\n",
              "      <td>2050-04-14</td>\n",
              "    </tr>\n",
              "    <tr>\n",
              "      <th>f</th>\n",
              "      <td>11</td>\n",
              "      <td>1.32</td>\n",
              "      <td>5</td>\n",
              "      <td>b</td>\n",
              "      <td>2050-04-15</td>\n",
              "    </tr>\n",
              "    <tr>\n",
              "      <th>g</th>\n",
              "      <td>55</td>\n",
              "      <td>-0.65</td>\n",
              "      <td>3</td>\n",
              "      <td>NaN</td>\n",
              "      <td>2050-04-16</td>\n",
              "    </tr>\n",
              "    <tr>\n",
              "      <th>h</th>\n",
              "      <td>-78</td>\n",
              "      <td>0.34</td>\n",
              "      <td>0</td>\n",
              "      <td>C</td>\n",
              "      <td>2050-04-17</td>\n",
              "    </tr>\n",
              "    <tr>\n",
              "      <th>i</th>\n",
              "      <td>49</td>\n",
              "      <td>-1.23</td>\n",
              "      <td>1</td>\n",
              "      <td>A</td>\n",
              "      <td>2050-04-18</td>\n",
              "    </tr>\n",
              "    <tr>\n",
              "      <th>j</th>\n",
              "      <td>61</td>\n",
              "      <td>-0.79</td>\n",
              "      <td>2</td>\n",
              "      <td>B</td>\n",
              "      <td>2050-04-19</td>\n",
              "    </tr>\n",
              "  </tbody>\n",
              "</table>\n",
              "</div>"
            ],
            "text/plain": [
              "    A     B  C    D          E\n",
              "a  73  0.35  4    A 2050-04-10\n",
              "b -29  0.12  0    A 2050-04-11\n",
              "c  85  0.71  3    A 2050-04-12\n",
              "d -32 -0.09  0    B 2050-04-13\n",
              "e  97 -1.21  2    B 2050-04-14\n",
              "f  11  1.32  5    b 2050-04-15\n",
              "g  55 -0.65  3  NaN 2050-04-16\n",
              "h -78  0.34  0    C 2050-04-17\n",
              "i  49 -1.23  1    A 2050-04-18\n",
              "j  61 -0.79  2    B 2050-04-19"
            ]
          },
          "metadata": {
            "tags": []
          },
          "execution_count": 80
        }
      ]
    },
    {
      "cell_type": "code",
      "metadata": {
        "id": "RHT-1dzzmsNk",
        "colab_type": "code",
        "colab": {
          "base_uri": "https://localhost:8080/",
          "height": 34
        },
        "outputId": "a583a637-c44a-4a3c-e5a1-0a386da1feb2"
      },
      "source": [
        "# 인덱스 'f' 행의 'B' 열 데이터를 열람한다.\n",
        "df.at['f', 'B']"
      ],
      "execution_count": null,
      "outputs": [
        {
          "output_type": "execute_result",
          "data": {
            "text/plain": [
              "1.32"
            ]
          },
          "metadata": {
            "tags": []
          },
          "execution_count": 81
        }
      ]
    },
    {
      "cell_type": "markdown",
      "metadata": {
        "id": "8Kq1MaN9msNm",
        "colab_type": "text"
      },
      "source": [
        "**Selection by Position: iat[]**\n",
        "- 정수 인덱스로 특정 셀의 데이터를 열람한다.\n",
        "\n",
        "[pandas.DataFrame.iat](https://pandas.pydata.org/pandas-docs/stable/reference/api/pandas.DataFrame.iat.html#pandas.DataFrame.iat)\n",
        "- Access a single value for a row/column pair by integer position.\n",
        "- DataFrame.**iat**"
      ]
    },
    {
      "cell_type": "code",
      "metadata": {
        "id": "obwgv8p7msNm",
        "colab_type": "code",
        "colab": {
          "base_uri": "https://localhost:8080/",
          "height": 359
        },
        "outputId": "1b22ddc1-3c41-4044-f86a-59d9ddce0091"
      },
      "source": [
        "df"
      ],
      "execution_count": null,
      "outputs": [
        {
          "output_type": "execute_result",
          "data": {
            "text/html": [
              "<div>\n",
              "<style scoped>\n",
              "    .dataframe tbody tr th:only-of-type {\n",
              "        vertical-align: middle;\n",
              "    }\n",
              "\n",
              "    .dataframe tbody tr th {\n",
              "        vertical-align: top;\n",
              "    }\n",
              "\n",
              "    .dataframe thead th {\n",
              "        text-align: right;\n",
              "    }\n",
              "</style>\n",
              "<table border=\"1\" class=\"dataframe\">\n",
              "  <thead>\n",
              "    <tr style=\"text-align: right;\">\n",
              "      <th></th>\n",
              "      <th>A</th>\n",
              "      <th>B</th>\n",
              "      <th>C</th>\n",
              "      <th>D</th>\n",
              "      <th>E</th>\n",
              "    </tr>\n",
              "  </thead>\n",
              "  <tbody>\n",
              "    <tr>\n",
              "      <th>a</th>\n",
              "      <td>73</td>\n",
              "      <td>0.35</td>\n",
              "      <td>4</td>\n",
              "      <td>A</td>\n",
              "      <td>2050-04-10</td>\n",
              "    </tr>\n",
              "    <tr>\n",
              "      <th>b</th>\n",
              "      <td>-29</td>\n",
              "      <td>0.12</td>\n",
              "      <td>0</td>\n",
              "      <td>A</td>\n",
              "      <td>2050-04-11</td>\n",
              "    </tr>\n",
              "    <tr>\n",
              "      <th>c</th>\n",
              "      <td>85</td>\n",
              "      <td>0.71</td>\n",
              "      <td>3</td>\n",
              "      <td>A</td>\n",
              "      <td>2050-04-12</td>\n",
              "    </tr>\n",
              "    <tr>\n",
              "      <th>d</th>\n",
              "      <td>-32</td>\n",
              "      <td>-0.09</td>\n",
              "      <td>0</td>\n",
              "      <td>B</td>\n",
              "      <td>2050-04-13</td>\n",
              "    </tr>\n",
              "    <tr>\n",
              "      <th>e</th>\n",
              "      <td>97</td>\n",
              "      <td>-1.21</td>\n",
              "      <td>2</td>\n",
              "      <td>B</td>\n",
              "      <td>2050-04-14</td>\n",
              "    </tr>\n",
              "    <tr>\n",
              "      <th>f</th>\n",
              "      <td>11</td>\n",
              "      <td>1.32</td>\n",
              "      <td>5</td>\n",
              "      <td>b</td>\n",
              "      <td>2050-04-15</td>\n",
              "    </tr>\n",
              "    <tr>\n",
              "      <th>g</th>\n",
              "      <td>55</td>\n",
              "      <td>-0.65</td>\n",
              "      <td>3</td>\n",
              "      <td>NaN</td>\n",
              "      <td>2050-04-16</td>\n",
              "    </tr>\n",
              "    <tr>\n",
              "      <th>h</th>\n",
              "      <td>-78</td>\n",
              "      <td>0.34</td>\n",
              "      <td>0</td>\n",
              "      <td>C</td>\n",
              "      <td>2050-04-17</td>\n",
              "    </tr>\n",
              "    <tr>\n",
              "      <th>i</th>\n",
              "      <td>49</td>\n",
              "      <td>-1.23</td>\n",
              "      <td>1</td>\n",
              "      <td>A</td>\n",
              "      <td>2050-04-18</td>\n",
              "    </tr>\n",
              "    <tr>\n",
              "      <th>j</th>\n",
              "      <td>61</td>\n",
              "      <td>-0.79</td>\n",
              "      <td>2</td>\n",
              "      <td>B</td>\n",
              "      <td>2050-04-19</td>\n",
              "    </tr>\n",
              "  </tbody>\n",
              "</table>\n",
              "</div>"
            ],
            "text/plain": [
              "    A     B  C    D          E\n",
              "a  73  0.35  4    A 2050-04-10\n",
              "b -29  0.12  0    A 2050-04-11\n",
              "c  85  0.71  3    A 2050-04-12\n",
              "d -32 -0.09  0    B 2050-04-13\n",
              "e  97 -1.21  2    B 2050-04-14\n",
              "f  11  1.32  5    b 2050-04-15\n",
              "g  55 -0.65  3  NaN 2050-04-16\n",
              "h -78  0.34  0    C 2050-04-17\n",
              "i  49 -1.23  1    A 2050-04-18\n",
              "j  61 -0.79  2    B 2050-04-19"
            ]
          },
          "metadata": {
            "tags": []
          },
          "execution_count": 83
        }
      ]
    },
    {
      "cell_type": "code",
      "metadata": {
        "id": "dGHlzdSDmsNn",
        "colab_type": "code",
        "colab": {
          "base_uri": "https://localhost:8080/",
          "height": 34
        },
        "outputId": "7bf40e5d-7ac2-47f1-d69c-f1b05569e89b"
      },
      "source": [
        "# 마지막 열의 첫 번째 행 데이터를 열람한다.\n",
        "df.iat[-1, 0]"
      ],
      "execution_count": null,
      "outputs": [
        {
          "output_type": "execute_result",
          "data": {
            "text/plain": [
              "61"
            ]
          },
          "metadata": {
            "tags": []
          },
          "execution_count": 84
        }
      ]
    },
    {
      "cell_type": "markdown",
      "metadata": {
        "id": "uvOxiGD8msNo",
        "colab_type": "text"
      },
      "source": [
        "**<font size='+1'>정렬(sorting)</font>**\n",
        "- 열 혹은 행 기준으로 데이터를 정렬할 수 있다."
      ]
    },
    {
      "cell_type": "markdown",
      "metadata": {
        "id": "OK84INQVmsNo",
        "colab_type": "text"
      },
      "source": [
        "[pandas.DataFrame.sort_values](https://pandas.pydata.org/pandas-docs/stable/reference/api/pandas.DataFrame.sort_values.html#pandas.DataFrame.sort_values)\n",
        "- Sort by the values along either axis.\n",
        "- DataFrame.**sort_values**(*by, axis=0, ascending=True, inplace=False, kind='quicksort', na_position='last'*)\n",
        "    - ***by*** : *str* or *list of str*\n",
        "        - Name or list of names to sort by.\n",
        "        - if *axis* is 0 or *'index'* then **by** may contain index levels and/or column labels\n",
        "        - if *axis* is 1 or *'columns'* then **by** may contain column levels and/or index labels\n",
        "    - ***axis*** : {0 or *'index'*, 1 or *'columns'*}, default 0\n",
        "        - Axis to be sorted"
      ]
    },
    {
      "cell_type": "code",
      "metadata": {
        "id": "tsl4dyrUmsNp",
        "colab_type": "code",
        "colab": {
          "base_uri": "https://localhost:8080/",
          "height": 359
        },
        "outputId": "bdb58b2e-6909-463f-f23c-0712638681f5"
      },
      "source": [
        "# 'A'열의 값을 기준으로 오름차순 정렬한다.\n",
        "df.sort_values(by='A')"
      ],
      "execution_count": null,
      "outputs": [
        {
          "output_type": "execute_result",
          "data": {
            "text/html": [
              "<div>\n",
              "<style scoped>\n",
              "    .dataframe tbody tr th:only-of-type {\n",
              "        vertical-align: middle;\n",
              "    }\n",
              "\n",
              "    .dataframe tbody tr th {\n",
              "        vertical-align: top;\n",
              "    }\n",
              "\n",
              "    .dataframe thead th {\n",
              "        text-align: right;\n",
              "    }\n",
              "</style>\n",
              "<table border=\"1\" class=\"dataframe\">\n",
              "  <thead>\n",
              "    <tr style=\"text-align: right;\">\n",
              "      <th></th>\n",
              "      <th>A</th>\n",
              "      <th>B</th>\n",
              "      <th>C</th>\n",
              "      <th>D</th>\n",
              "      <th>E</th>\n",
              "    </tr>\n",
              "  </thead>\n",
              "  <tbody>\n",
              "    <tr>\n",
              "      <th>h</th>\n",
              "      <td>-78</td>\n",
              "      <td>0.34</td>\n",
              "      <td>0</td>\n",
              "      <td>C</td>\n",
              "      <td>2050-04-17</td>\n",
              "    </tr>\n",
              "    <tr>\n",
              "      <th>d</th>\n",
              "      <td>-32</td>\n",
              "      <td>-0.09</td>\n",
              "      <td>0</td>\n",
              "      <td>B</td>\n",
              "      <td>2050-04-13</td>\n",
              "    </tr>\n",
              "    <tr>\n",
              "      <th>b</th>\n",
              "      <td>-29</td>\n",
              "      <td>0.12</td>\n",
              "      <td>0</td>\n",
              "      <td>A</td>\n",
              "      <td>2050-04-11</td>\n",
              "    </tr>\n",
              "    <tr>\n",
              "      <th>f</th>\n",
              "      <td>11</td>\n",
              "      <td>1.32</td>\n",
              "      <td>5</td>\n",
              "      <td>b</td>\n",
              "      <td>2050-04-15</td>\n",
              "    </tr>\n",
              "    <tr>\n",
              "      <th>i</th>\n",
              "      <td>49</td>\n",
              "      <td>-1.23</td>\n",
              "      <td>1</td>\n",
              "      <td>A</td>\n",
              "      <td>2050-04-18</td>\n",
              "    </tr>\n",
              "    <tr>\n",
              "      <th>g</th>\n",
              "      <td>55</td>\n",
              "      <td>-0.65</td>\n",
              "      <td>3</td>\n",
              "      <td>NaN</td>\n",
              "      <td>2050-04-16</td>\n",
              "    </tr>\n",
              "    <tr>\n",
              "      <th>j</th>\n",
              "      <td>61</td>\n",
              "      <td>-0.79</td>\n",
              "      <td>2</td>\n",
              "      <td>B</td>\n",
              "      <td>2050-04-19</td>\n",
              "    </tr>\n",
              "    <tr>\n",
              "      <th>a</th>\n",
              "      <td>73</td>\n",
              "      <td>0.35</td>\n",
              "      <td>4</td>\n",
              "      <td>A</td>\n",
              "      <td>2050-04-10</td>\n",
              "    </tr>\n",
              "    <tr>\n",
              "      <th>c</th>\n",
              "      <td>85</td>\n",
              "      <td>0.71</td>\n",
              "      <td>3</td>\n",
              "      <td>A</td>\n",
              "      <td>2050-04-12</td>\n",
              "    </tr>\n",
              "    <tr>\n",
              "      <th>e</th>\n",
              "      <td>97</td>\n",
              "      <td>-1.21</td>\n",
              "      <td>2</td>\n",
              "      <td>B</td>\n",
              "      <td>2050-04-14</td>\n",
              "    </tr>\n",
              "  </tbody>\n",
              "</table>\n",
              "</div>"
            ],
            "text/plain": [
              "    A     B  C    D          E\n",
              "h -78  0.34  0    C 2050-04-17\n",
              "d -32 -0.09  0    B 2050-04-13\n",
              "b -29  0.12  0    A 2050-04-11\n",
              "f  11  1.32  5    b 2050-04-15\n",
              "i  49 -1.23  1    A 2050-04-18\n",
              "g  55 -0.65  3  NaN 2050-04-16\n",
              "j  61 -0.79  2    B 2050-04-19\n",
              "a  73  0.35  4    A 2050-04-10\n",
              "c  85  0.71  3    A 2050-04-12\n",
              "e  97 -1.21  2    B 2050-04-14"
            ]
          },
          "metadata": {
            "tags": []
          },
          "execution_count": 85
        }
      ]
    },
    {
      "cell_type": "code",
      "metadata": {
        "id": "Q3MEViBtmsNt",
        "colab_type": "code",
        "colab": {
          "base_uri": "https://localhost:8080/",
          "height": 359
        },
        "outputId": "8dfdccad-5e7a-4ea1-8f5e-d7cd7e332a87"
      },
      "source": [
        "# 'B'열의 값을 기준으로 오름차순 정렬한다.\n",
        "# 매개변수 by의 값이 첫 전달인자로 오면 by는 생략이 가능하다.\n",
        "df.sort_values('B', ascending=False)  "
      ],
      "execution_count": null,
      "outputs": [
        {
          "output_type": "execute_result",
          "data": {
            "text/html": [
              "<div>\n",
              "<style scoped>\n",
              "    .dataframe tbody tr th:only-of-type {\n",
              "        vertical-align: middle;\n",
              "    }\n",
              "\n",
              "    .dataframe tbody tr th {\n",
              "        vertical-align: top;\n",
              "    }\n",
              "\n",
              "    .dataframe thead th {\n",
              "        text-align: right;\n",
              "    }\n",
              "</style>\n",
              "<table border=\"1\" class=\"dataframe\">\n",
              "  <thead>\n",
              "    <tr style=\"text-align: right;\">\n",
              "      <th></th>\n",
              "      <th>A</th>\n",
              "      <th>B</th>\n",
              "      <th>C</th>\n",
              "      <th>D</th>\n",
              "      <th>E</th>\n",
              "    </tr>\n",
              "  </thead>\n",
              "  <tbody>\n",
              "    <tr>\n",
              "      <th>f</th>\n",
              "      <td>11</td>\n",
              "      <td>1.32</td>\n",
              "      <td>5</td>\n",
              "      <td>b</td>\n",
              "      <td>2050-04-15</td>\n",
              "    </tr>\n",
              "    <tr>\n",
              "      <th>c</th>\n",
              "      <td>85</td>\n",
              "      <td>0.71</td>\n",
              "      <td>3</td>\n",
              "      <td>A</td>\n",
              "      <td>2050-04-12</td>\n",
              "    </tr>\n",
              "    <tr>\n",
              "      <th>a</th>\n",
              "      <td>73</td>\n",
              "      <td>0.35</td>\n",
              "      <td>4</td>\n",
              "      <td>A</td>\n",
              "      <td>2050-04-10</td>\n",
              "    </tr>\n",
              "    <tr>\n",
              "      <th>h</th>\n",
              "      <td>-78</td>\n",
              "      <td>0.34</td>\n",
              "      <td>0</td>\n",
              "      <td>C</td>\n",
              "      <td>2050-04-17</td>\n",
              "    </tr>\n",
              "    <tr>\n",
              "      <th>b</th>\n",
              "      <td>-29</td>\n",
              "      <td>0.12</td>\n",
              "      <td>0</td>\n",
              "      <td>A</td>\n",
              "      <td>2050-04-11</td>\n",
              "    </tr>\n",
              "    <tr>\n",
              "      <th>d</th>\n",
              "      <td>-32</td>\n",
              "      <td>-0.09</td>\n",
              "      <td>0</td>\n",
              "      <td>B</td>\n",
              "      <td>2050-04-13</td>\n",
              "    </tr>\n",
              "    <tr>\n",
              "      <th>g</th>\n",
              "      <td>55</td>\n",
              "      <td>-0.65</td>\n",
              "      <td>3</td>\n",
              "      <td>NaN</td>\n",
              "      <td>2050-04-16</td>\n",
              "    </tr>\n",
              "    <tr>\n",
              "      <th>j</th>\n",
              "      <td>61</td>\n",
              "      <td>-0.79</td>\n",
              "      <td>2</td>\n",
              "      <td>B</td>\n",
              "      <td>2050-04-19</td>\n",
              "    </tr>\n",
              "    <tr>\n",
              "      <th>e</th>\n",
              "      <td>97</td>\n",
              "      <td>-1.21</td>\n",
              "      <td>2</td>\n",
              "      <td>B</td>\n",
              "      <td>2050-04-14</td>\n",
              "    </tr>\n",
              "    <tr>\n",
              "      <th>i</th>\n",
              "      <td>49</td>\n",
              "      <td>-1.23</td>\n",
              "      <td>1</td>\n",
              "      <td>A</td>\n",
              "      <td>2050-04-18</td>\n",
              "    </tr>\n",
              "  </tbody>\n",
              "</table>\n",
              "</div>"
            ],
            "text/plain": [
              "    A     B  C    D          E\n",
              "f  11  1.32  5    b 2050-04-15\n",
              "c  85  0.71  3    A 2050-04-12\n",
              "a  73  0.35  4    A 2050-04-10\n",
              "h -78  0.34  0    C 2050-04-17\n",
              "b -29  0.12  0    A 2050-04-11\n",
              "d -32 -0.09  0    B 2050-04-13\n",
              "g  55 -0.65  3  NaN 2050-04-16\n",
              "j  61 -0.79  2    B 2050-04-19\n",
              "e  97 -1.21  2    B 2050-04-14\n",
              "i  49 -1.23  1    A 2050-04-18"
            ]
          },
          "metadata": {
            "tags": []
          },
          "execution_count": 86
        }
      ]
    },
    {
      "cell_type": "code",
      "metadata": {
        "id": "aYBUF85OmsNw",
        "colab_type": "code",
        "colab": {
          "base_uri": "https://localhost:8080/",
          "height": 359
        },
        "outputId": "b71eb53b-06d2-4eef-a646-9f2e3abccfe4"
      },
      "source": [
        "# 'D' 열과 'E' 열의 값을 기준으로 오름차순 정렬한다.\n",
        "df.sort_values(by=['D', 'E'])"
      ],
      "execution_count": null,
      "outputs": [
        {
          "output_type": "execute_result",
          "data": {
            "text/html": [
              "<div>\n",
              "<style scoped>\n",
              "    .dataframe tbody tr th:only-of-type {\n",
              "        vertical-align: middle;\n",
              "    }\n",
              "\n",
              "    .dataframe tbody tr th {\n",
              "        vertical-align: top;\n",
              "    }\n",
              "\n",
              "    .dataframe thead th {\n",
              "        text-align: right;\n",
              "    }\n",
              "</style>\n",
              "<table border=\"1\" class=\"dataframe\">\n",
              "  <thead>\n",
              "    <tr style=\"text-align: right;\">\n",
              "      <th></th>\n",
              "      <th>A</th>\n",
              "      <th>B</th>\n",
              "      <th>C</th>\n",
              "      <th>D</th>\n",
              "      <th>E</th>\n",
              "    </tr>\n",
              "  </thead>\n",
              "  <tbody>\n",
              "    <tr>\n",
              "      <th>a</th>\n",
              "      <td>73</td>\n",
              "      <td>0.35</td>\n",
              "      <td>4</td>\n",
              "      <td>A</td>\n",
              "      <td>2050-04-10</td>\n",
              "    </tr>\n",
              "    <tr>\n",
              "      <th>b</th>\n",
              "      <td>-29</td>\n",
              "      <td>0.12</td>\n",
              "      <td>0</td>\n",
              "      <td>A</td>\n",
              "      <td>2050-04-11</td>\n",
              "    </tr>\n",
              "    <tr>\n",
              "      <th>c</th>\n",
              "      <td>85</td>\n",
              "      <td>0.71</td>\n",
              "      <td>3</td>\n",
              "      <td>A</td>\n",
              "      <td>2050-04-12</td>\n",
              "    </tr>\n",
              "    <tr>\n",
              "      <th>i</th>\n",
              "      <td>49</td>\n",
              "      <td>-1.23</td>\n",
              "      <td>1</td>\n",
              "      <td>A</td>\n",
              "      <td>2050-04-18</td>\n",
              "    </tr>\n",
              "    <tr>\n",
              "      <th>d</th>\n",
              "      <td>-32</td>\n",
              "      <td>-0.09</td>\n",
              "      <td>0</td>\n",
              "      <td>B</td>\n",
              "      <td>2050-04-13</td>\n",
              "    </tr>\n",
              "    <tr>\n",
              "      <th>e</th>\n",
              "      <td>97</td>\n",
              "      <td>-1.21</td>\n",
              "      <td>2</td>\n",
              "      <td>B</td>\n",
              "      <td>2050-04-14</td>\n",
              "    </tr>\n",
              "    <tr>\n",
              "      <th>j</th>\n",
              "      <td>61</td>\n",
              "      <td>-0.79</td>\n",
              "      <td>2</td>\n",
              "      <td>B</td>\n",
              "      <td>2050-04-19</td>\n",
              "    </tr>\n",
              "    <tr>\n",
              "      <th>h</th>\n",
              "      <td>-78</td>\n",
              "      <td>0.34</td>\n",
              "      <td>0</td>\n",
              "      <td>C</td>\n",
              "      <td>2050-04-17</td>\n",
              "    </tr>\n",
              "    <tr>\n",
              "      <th>f</th>\n",
              "      <td>11</td>\n",
              "      <td>1.32</td>\n",
              "      <td>5</td>\n",
              "      <td>b</td>\n",
              "      <td>2050-04-15</td>\n",
              "    </tr>\n",
              "    <tr>\n",
              "      <th>g</th>\n",
              "      <td>55</td>\n",
              "      <td>-0.65</td>\n",
              "      <td>3</td>\n",
              "      <td>NaN</td>\n",
              "      <td>2050-04-16</td>\n",
              "    </tr>\n",
              "  </tbody>\n",
              "</table>\n",
              "</div>"
            ],
            "text/plain": [
              "    A     B  C    D          E\n",
              "a  73  0.35  4    A 2050-04-10\n",
              "b -29  0.12  0    A 2050-04-11\n",
              "c  85  0.71  3    A 2050-04-12\n",
              "i  49 -1.23  1    A 2050-04-18\n",
              "d -32 -0.09  0    B 2050-04-13\n",
              "e  97 -1.21  2    B 2050-04-14\n",
              "j  61 -0.79  2    B 2050-04-19\n",
              "h -78  0.34  0    C 2050-04-17\n",
              "f  11  1.32  5    b 2050-04-15\n",
              "g  55 -0.65  3  NaN 2050-04-16"
            ]
          },
          "metadata": {
            "tags": []
          },
          "execution_count": 89
        }
      ]
    },
    {
      "cell_type": "code",
      "metadata": {
        "id": "o02e2BL4msN0",
        "colab_type": "code",
        "colab": {
          "base_uri": "https://localhost:8080/",
          "height": 359
        },
        "outputId": "02f3a567-bbda-45f6-a548-7e7a5f69314d"
      },
      "source": [
        "# 'D' 열의 값을 기준으로 오름차순 정렬한다.\n",
        "# 이 때 결측치 값을 맨 위쪽으로 위치시킨다.\n",
        "df.sort_values(by=['D'], \n",
        "               na_position='first')"
      ],
      "execution_count": null,
      "outputs": [
        {
          "output_type": "execute_result",
          "data": {
            "text/html": [
              "<div>\n",
              "<style scoped>\n",
              "    .dataframe tbody tr th:only-of-type {\n",
              "        vertical-align: middle;\n",
              "    }\n",
              "\n",
              "    .dataframe tbody tr th {\n",
              "        vertical-align: top;\n",
              "    }\n",
              "\n",
              "    .dataframe thead th {\n",
              "        text-align: right;\n",
              "    }\n",
              "</style>\n",
              "<table border=\"1\" class=\"dataframe\">\n",
              "  <thead>\n",
              "    <tr style=\"text-align: right;\">\n",
              "      <th></th>\n",
              "      <th>A</th>\n",
              "      <th>B</th>\n",
              "      <th>C</th>\n",
              "      <th>D</th>\n",
              "      <th>E</th>\n",
              "    </tr>\n",
              "  </thead>\n",
              "  <tbody>\n",
              "    <tr>\n",
              "      <th>g</th>\n",
              "      <td>55</td>\n",
              "      <td>-0.65</td>\n",
              "      <td>3</td>\n",
              "      <td>NaN</td>\n",
              "      <td>2050-04-16</td>\n",
              "    </tr>\n",
              "    <tr>\n",
              "      <th>a</th>\n",
              "      <td>73</td>\n",
              "      <td>0.35</td>\n",
              "      <td>4</td>\n",
              "      <td>A</td>\n",
              "      <td>2050-04-10</td>\n",
              "    </tr>\n",
              "    <tr>\n",
              "      <th>b</th>\n",
              "      <td>-29</td>\n",
              "      <td>0.12</td>\n",
              "      <td>0</td>\n",
              "      <td>A</td>\n",
              "      <td>2050-04-11</td>\n",
              "    </tr>\n",
              "    <tr>\n",
              "      <th>c</th>\n",
              "      <td>85</td>\n",
              "      <td>0.71</td>\n",
              "      <td>3</td>\n",
              "      <td>A</td>\n",
              "      <td>2050-04-12</td>\n",
              "    </tr>\n",
              "    <tr>\n",
              "      <th>i</th>\n",
              "      <td>49</td>\n",
              "      <td>-1.23</td>\n",
              "      <td>1</td>\n",
              "      <td>A</td>\n",
              "      <td>2050-04-18</td>\n",
              "    </tr>\n",
              "    <tr>\n",
              "      <th>d</th>\n",
              "      <td>-32</td>\n",
              "      <td>-0.09</td>\n",
              "      <td>0</td>\n",
              "      <td>B</td>\n",
              "      <td>2050-04-13</td>\n",
              "    </tr>\n",
              "    <tr>\n",
              "      <th>e</th>\n",
              "      <td>97</td>\n",
              "      <td>-1.21</td>\n",
              "      <td>2</td>\n",
              "      <td>B</td>\n",
              "      <td>2050-04-14</td>\n",
              "    </tr>\n",
              "    <tr>\n",
              "      <th>j</th>\n",
              "      <td>61</td>\n",
              "      <td>-0.79</td>\n",
              "      <td>2</td>\n",
              "      <td>B</td>\n",
              "      <td>2050-04-19</td>\n",
              "    </tr>\n",
              "    <tr>\n",
              "      <th>h</th>\n",
              "      <td>-78</td>\n",
              "      <td>0.34</td>\n",
              "      <td>0</td>\n",
              "      <td>C</td>\n",
              "      <td>2050-04-17</td>\n",
              "    </tr>\n",
              "    <tr>\n",
              "      <th>f</th>\n",
              "      <td>11</td>\n",
              "      <td>1.32</td>\n",
              "      <td>5</td>\n",
              "      <td>b</td>\n",
              "      <td>2050-04-15</td>\n",
              "    </tr>\n",
              "  </tbody>\n",
              "</table>\n",
              "</div>"
            ],
            "text/plain": [
              "    A     B  C    D          E\n",
              "g  55 -0.65  3  NaN 2050-04-16\n",
              "a  73  0.35  4    A 2050-04-10\n",
              "b -29  0.12  0    A 2050-04-11\n",
              "c  85  0.71  3    A 2050-04-12\n",
              "i  49 -1.23  1    A 2050-04-18\n",
              "d -32 -0.09  0    B 2050-04-13\n",
              "e  97 -1.21  2    B 2050-04-14\n",
              "j  61 -0.79  2    B 2050-04-19\n",
              "h -78  0.34  0    C 2050-04-17\n",
              "f  11  1.32  5    b 2050-04-15"
            ]
          },
          "metadata": {
            "tags": []
          },
          "execution_count": 90
        }
      ]
    },
    {
      "cell_type": "markdown",
      "metadata": {
        "id": "QUK-_JSmmsN4",
        "colab_type": "text"
      },
      "source": [
        "**<font size='+1'>전치(transpose)</font>**\n",
        "- 행과 열을 바꾸어 열람할 수 있다.\n",
        "\n",
        "[pandas.DataFrame.T](https://pandas.pydata.org/pandas-docs/stable/reference/api/pandas.DataFrame.T.html#pandas.DataFrame.T)\n",
        "- Transpose index and columns.\n",
        "- DataFrame.**T**"
      ]
    },
    {
      "cell_type": "code",
      "metadata": {
        "id": "158FiVlfmsN4",
        "colab_type": "code",
        "colab": {
          "base_uri": "https://localhost:8080/",
          "height": 359
        },
        "outputId": "cbfd4499-104f-4fdc-bf45-a3b3df92a420"
      },
      "source": [
        "df"
      ],
      "execution_count": null,
      "outputs": [
        {
          "output_type": "execute_result",
          "data": {
            "text/html": [
              "<div>\n",
              "<style scoped>\n",
              "    .dataframe tbody tr th:only-of-type {\n",
              "        vertical-align: middle;\n",
              "    }\n",
              "\n",
              "    .dataframe tbody tr th {\n",
              "        vertical-align: top;\n",
              "    }\n",
              "\n",
              "    .dataframe thead th {\n",
              "        text-align: right;\n",
              "    }\n",
              "</style>\n",
              "<table border=\"1\" class=\"dataframe\">\n",
              "  <thead>\n",
              "    <tr style=\"text-align: right;\">\n",
              "      <th></th>\n",
              "      <th>A</th>\n",
              "      <th>B</th>\n",
              "      <th>C</th>\n",
              "      <th>D</th>\n",
              "      <th>E</th>\n",
              "    </tr>\n",
              "  </thead>\n",
              "  <tbody>\n",
              "    <tr>\n",
              "      <th>a</th>\n",
              "      <td>73</td>\n",
              "      <td>0.35</td>\n",
              "      <td>4</td>\n",
              "      <td>A</td>\n",
              "      <td>2050-04-10</td>\n",
              "    </tr>\n",
              "    <tr>\n",
              "      <th>b</th>\n",
              "      <td>-29</td>\n",
              "      <td>0.12</td>\n",
              "      <td>0</td>\n",
              "      <td>A</td>\n",
              "      <td>2050-04-11</td>\n",
              "    </tr>\n",
              "    <tr>\n",
              "      <th>c</th>\n",
              "      <td>85</td>\n",
              "      <td>0.71</td>\n",
              "      <td>3</td>\n",
              "      <td>A</td>\n",
              "      <td>2050-04-12</td>\n",
              "    </tr>\n",
              "    <tr>\n",
              "      <th>d</th>\n",
              "      <td>-32</td>\n",
              "      <td>-0.09</td>\n",
              "      <td>0</td>\n",
              "      <td>B</td>\n",
              "      <td>2050-04-13</td>\n",
              "    </tr>\n",
              "    <tr>\n",
              "      <th>e</th>\n",
              "      <td>97</td>\n",
              "      <td>-1.21</td>\n",
              "      <td>2</td>\n",
              "      <td>B</td>\n",
              "      <td>2050-04-14</td>\n",
              "    </tr>\n",
              "    <tr>\n",
              "      <th>f</th>\n",
              "      <td>11</td>\n",
              "      <td>1.32</td>\n",
              "      <td>5</td>\n",
              "      <td>b</td>\n",
              "      <td>2050-04-15</td>\n",
              "    </tr>\n",
              "    <tr>\n",
              "      <th>g</th>\n",
              "      <td>55</td>\n",
              "      <td>-0.65</td>\n",
              "      <td>3</td>\n",
              "      <td>NaN</td>\n",
              "      <td>2050-04-16</td>\n",
              "    </tr>\n",
              "    <tr>\n",
              "      <th>h</th>\n",
              "      <td>-78</td>\n",
              "      <td>0.34</td>\n",
              "      <td>0</td>\n",
              "      <td>C</td>\n",
              "      <td>2050-04-17</td>\n",
              "    </tr>\n",
              "    <tr>\n",
              "      <th>i</th>\n",
              "      <td>49</td>\n",
              "      <td>-1.23</td>\n",
              "      <td>1</td>\n",
              "      <td>A</td>\n",
              "      <td>2050-04-18</td>\n",
              "    </tr>\n",
              "    <tr>\n",
              "      <th>j</th>\n",
              "      <td>61</td>\n",
              "      <td>-0.79</td>\n",
              "      <td>2</td>\n",
              "      <td>B</td>\n",
              "      <td>2050-04-19</td>\n",
              "    </tr>\n",
              "  </tbody>\n",
              "</table>\n",
              "</div>"
            ],
            "text/plain": [
              "    A     B  C    D          E\n",
              "a  73  0.35  4    A 2050-04-10\n",
              "b -29  0.12  0    A 2050-04-11\n",
              "c  85  0.71  3    A 2050-04-12\n",
              "d -32 -0.09  0    B 2050-04-13\n",
              "e  97 -1.21  2    B 2050-04-14\n",
              "f  11  1.32  5    b 2050-04-15\n",
              "g  55 -0.65  3  NaN 2050-04-16\n",
              "h -78  0.34  0    C 2050-04-17\n",
              "i  49 -1.23  1    A 2050-04-18\n",
              "j  61 -0.79  2    B 2050-04-19"
            ]
          },
          "metadata": {
            "tags": []
          },
          "execution_count": 92
        }
      ]
    },
    {
      "cell_type": "code",
      "metadata": {
        "id": "1HOiLKmCmsN6",
        "colab_type": "code",
        "colab": {
          "base_uri": "https://localhost:8080/",
          "height": 204
        },
        "outputId": "8c8e1e2c-f524-4f5e-c534-59ab27661a6c"
      },
      "source": [
        "# 행과 열을 바꾸어 열람한다.\n",
        "df.T"
      ],
      "execution_count": null,
      "outputs": [
        {
          "output_type": "execute_result",
          "data": {
            "text/html": [
              "<div>\n",
              "<style scoped>\n",
              "    .dataframe tbody tr th:only-of-type {\n",
              "        vertical-align: middle;\n",
              "    }\n",
              "\n",
              "    .dataframe tbody tr th {\n",
              "        vertical-align: top;\n",
              "    }\n",
              "\n",
              "    .dataframe thead th {\n",
              "        text-align: right;\n",
              "    }\n",
              "</style>\n",
              "<table border=\"1\" class=\"dataframe\">\n",
              "  <thead>\n",
              "    <tr style=\"text-align: right;\">\n",
              "      <th></th>\n",
              "      <th>a</th>\n",
              "      <th>b</th>\n",
              "      <th>c</th>\n",
              "      <th>d</th>\n",
              "      <th>e</th>\n",
              "      <th>f</th>\n",
              "      <th>g</th>\n",
              "      <th>h</th>\n",
              "      <th>i</th>\n",
              "      <th>j</th>\n",
              "    </tr>\n",
              "  </thead>\n",
              "  <tbody>\n",
              "    <tr>\n",
              "      <th>A</th>\n",
              "      <td>73</td>\n",
              "      <td>-29</td>\n",
              "      <td>85</td>\n",
              "      <td>-32</td>\n",
              "      <td>97</td>\n",
              "      <td>11</td>\n",
              "      <td>55</td>\n",
              "      <td>-78</td>\n",
              "      <td>49</td>\n",
              "      <td>61</td>\n",
              "    </tr>\n",
              "    <tr>\n",
              "      <th>B</th>\n",
              "      <td>0.35</td>\n",
              "      <td>0.12</td>\n",
              "      <td>0.71</td>\n",
              "      <td>-0.09</td>\n",
              "      <td>-1.21</td>\n",
              "      <td>1.32</td>\n",
              "      <td>-0.65</td>\n",
              "      <td>0.34</td>\n",
              "      <td>-1.23</td>\n",
              "      <td>-0.79</td>\n",
              "    </tr>\n",
              "    <tr>\n",
              "      <th>C</th>\n",
              "      <td>4</td>\n",
              "      <td>0</td>\n",
              "      <td>3</td>\n",
              "      <td>0</td>\n",
              "      <td>2</td>\n",
              "      <td>5</td>\n",
              "      <td>3</td>\n",
              "      <td>0</td>\n",
              "      <td>1</td>\n",
              "      <td>2</td>\n",
              "    </tr>\n",
              "    <tr>\n",
              "      <th>D</th>\n",
              "      <td>A</td>\n",
              "      <td>A</td>\n",
              "      <td>A</td>\n",
              "      <td>B</td>\n",
              "      <td>B</td>\n",
              "      <td>b</td>\n",
              "      <td>NaN</td>\n",
              "      <td>C</td>\n",
              "      <td>A</td>\n",
              "      <td>B</td>\n",
              "    </tr>\n",
              "    <tr>\n",
              "      <th>E</th>\n",
              "      <td>2050-04-10 00:00:00</td>\n",
              "      <td>2050-04-11 00:00:00</td>\n",
              "      <td>2050-04-12 00:00:00</td>\n",
              "      <td>2050-04-13 00:00:00</td>\n",
              "      <td>2050-04-14 00:00:00</td>\n",
              "      <td>2050-04-15 00:00:00</td>\n",
              "      <td>2050-04-16 00:00:00</td>\n",
              "      <td>2050-04-17 00:00:00</td>\n",
              "      <td>2050-04-18 00:00:00</td>\n",
              "      <td>2050-04-19 00:00:00</td>\n",
              "    </tr>\n",
              "  </tbody>\n",
              "</table>\n",
              "</div>"
            ],
            "text/plain": [
              "                     a  ...                    j\n",
              "A                   73  ...                   61\n",
              "B                 0.35  ...                -0.79\n",
              "C                    4  ...                    2\n",
              "D                    A  ...                    B\n",
              "E  2050-04-10 00:00:00  ...  2050-04-19 00:00:00\n",
              "\n",
              "[5 rows x 10 columns]"
            ]
          },
          "metadata": {
            "tags": []
          },
          "execution_count": 93
        }
      ]
    },
    {
      "cell_type": "markdown",
      "metadata": {
        "id": "rteb2kmymsN8",
        "colab_type": "text"
      },
      "source": [
        "**<font size='+1'>데이터 요약 정보 열람</font>**\n",
        "- **describe()** 메소드로 데이터의 요약(수치형인 경우 기술통계량)을 열람할 수 있다."
      ]
    },
    {
      "cell_type": "markdown",
      "metadata": {
        "id": "gAPLkxIzmsN8",
        "colab_type": "text"
      },
      "source": [
        "[pandas.DataFrame.describe](https://pandas.pydata.org/pandas-docs/stable/reference/api/pandas.DataFrame.describe.html#pandas.DataFrame.describe)\n",
        "- Generate descriptive statistics that summarize the central tendency, dispersion and shape of a dataset’s distribution, excluding NaN values.\n",
        "- Analyzes both numeric and object series, as well as **DataFrame** column sets of mixed data types. The output will vary depending on what is provided. Refer to the notes below for more detail.\n",
        "- DataFrame.**describe**(*self, percentiles=None, include=None, exclude=None*)"
      ]
    },
    {
      "cell_type": "code",
      "metadata": {
        "id": "NEFNNqnHmsN9",
        "colab_type": "code",
        "colab": {
          "base_uri": "https://localhost:8080/",
          "height": 297
        },
        "outputId": "e94372f1-7c2c-4482-9a22-9d1116a88443"
      },
      "source": [
        "# 전체 데이터의 기술통계량을 열람한다.\n",
        "df.describe()"
      ],
      "execution_count": null,
      "outputs": [
        {
          "output_type": "execute_result",
          "data": {
            "text/html": [
              "<div>\n",
              "<style scoped>\n",
              "    .dataframe tbody tr th:only-of-type {\n",
              "        vertical-align: middle;\n",
              "    }\n",
              "\n",
              "    .dataframe tbody tr th {\n",
              "        vertical-align: top;\n",
              "    }\n",
              "\n",
              "    .dataframe thead th {\n",
              "        text-align: right;\n",
              "    }\n",
              "</style>\n",
              "<table border=\"1\" class=\"dataframe\">\n",
              "  <thead>\n",
              "    <tr style=\"text-align: right;\">\n",
              "      <th></th>\n",
              "      <th>A</th>\n",
              "      <th>B</th>\n",
              "      <th>C</th>\n",
              "    </tr>\n",
              "  </thead>\n",
              "  <tbody>\n",
              "    <tr>\n",
              "      <th>count</th>\n",
              "      <td>10.000000</td>\n",
              "      <td>10.000000</td>\n",
              "      <td>10.000000</td>\n",
              "    </tr>\n",
              "    <tr>\n",
              "      <th>mean</th>\n",
              "      <td>29.200000</td>\n",
              "      <td>-0.113000</td>\n",
              "      <td>2.000000</td>\n",
              "    </tr>\n",
              "    <tr>\n",
              "      <th>std</th>\n",
              "      <td>58.360565</td>\n",
              "      <td>0.843472</td>\n",
              "      <td>1.763834</td>\n",
              "    </tr>\n",
              "    <tr>\n",
              "      <th>min</th>\n",
              "      <td>-78.000000</td>\n",
              "      <td>-1.230000</td>\n",
              "      <td>0.000000</td>\n",
              "    </tr>\n",
              "    <tr>\n",
              "      <th>25%</th>\n",
              "      <td>-19.000000</td>\n",
              "      <td>-0.755000</td>\n",
              "      <td>0.250000</td>\n",
              "    </tr>\n",
              "    <tr>\n",
              "      <th>50%</th>\n",
              "      <td>52.000000</td>\n",
              "      <td>0.015000</td>\n",
              "      <td>2.000000</td>\n",
              "    </tr>\n",
              "    <tr>\n",
              "      <th>75%</th>\n",
              "      <td>70.000000</td>\n",
              "      <td>0.347500</td>\n",
              "      <td>3.000000</td>\n",
              "    </tr>\n",
              "    <tr>\n",
              "      <th>max</th>\n",
              "      <td>97.000000</td>\n",
              "      <td>1.320000</td>\n",
              "      <td>5.000000</td>\n",
              "    </tr>\n",
              "  </tbody>\n",
              "</table>\n",
              "</div>"
            ],
            "text/plain": [
              "               A          B          C\n",
              "count  10.000000  10.000000  10.000000\n",
              "mean   29.200000  -0.113000   2.000000\n",
              "std    58.360565   0.843472   1.763834\n",
              "min   -78.000000  -1.230000   0.000000\n",
              "25%   -19.000000  -0.755000   0.250000\n",
              "50%    52.000000   0.015000   2.000000\n",
              "75%    70.000000   0.347500   3.000000\n",
              "max    97.000000   1.320000   5.000000"
            ]
          },
          "metadata": {
            "tags": []
          },
          "execution_count": 94
        }
      ]
    },
    {
      "cell_type": "code",
      "metadata": {
        "id": "DVDYneebmsN-",
        "colab_type": "code",
        "colab": {
          "base_uri": "https://localhost:8080/",
          "height": 170
        },
        "outputId": "ac00ad28-3bb6-4e5f-f7c6-aad5cf746495"
      },
      "source": [
        "# --- 특정 열의 기술통계량을 열람한다.\n",
        "# 'B' 열의 기술통계량을 열람한다.\n",
        "df['B'].describe()"
      ],
      "execution_count": null,
      "outputs": [
        {
          "output_type": "execute_result",
          "data": {
            "text/plain": [
              "count    10.000000\n",
              "mean     -0.113000\n",
              "std       0.843472\n",
              "min      -1.230000\n",
              "25%      -0.755000\n",
              "50%       0.015000\n",
              "75%       0.347500\n",
              "max       1.320000\n",
              "Name: B, dtype: float64"
            ]
          },
          "metadata": {
            "tags": []
          },
          "execution_count": 95
        }
      ]
    },
    {
      "cell_type": "code",
      "metadata": {
        "id": "PZokaIk_msOA",
        "colab_type": "code",
        "colab": {
          "base_uri": "https://localhost:8080/",
          "height": 102
        },
        "outputId": "7e2ca465-71d0-4d7f-c3eb-0c0d2e8f5a8a"
      },
      "source": [
        "# --- 수치 데이터가 없는 특정 열의 기술통계량을 열람한다.\n",
        "# 'D' 열의 기술통계량을 열람한다. \n",
        "df.D.describe()"
      ],
      "execution_count": null,
      "outputs": [
        {
          "output_type": "execute_result",
          "data": {
            "text/plain": [
              "count     9\n",
              "unique    4\n",
              "top       A\n",
              "freq      4\n",
              "Name: D, dtype: object"
            ]
          },
          "metadata": {
            "tags": []
          },
          "execution_count": 96
        }
      ]
    },
    {
      "cell_type": "code",
      "metadata": {
        "id": "ydL0KeiRmsOB",
        "colab_type": "code",
        "colab": {
          "base_uri": "https://localhost:8080/",
          "height": 297
        },
        "outputId": "5414cfdb-ed95-4f1a-de4d-8ee416a3eba8"
      },
      "source": [
        "# --- 일부(2개 이상) 열의 기술통계량을 열람한다.\n",
        "# 'B'와 'A' 열의 기술통계량을 열람한다.\n",
        "df[['B', 'A']].describe()"
      ],
      "execution_count": null,
      "outputs": [
        {
          "output_type": "execute_result",
          "data": {
            "text/html": [
              "<div>\n",
              "<style scoped>\n",
              "    .dataframe tbody tr th:only-of-type {\n",
              "        vertical-align: middle;\n",
              "    }\n",
              "\n",
              "    .dataframe tbody tr th {\n",
              "        vertical-align: top;\n",
              "    }\n",
              "\n",
              "    .dataframe thead th {\n",
              "        text-align: right;\n",
              "    }\n",
              "</style>\n",
              "<table border=\"1\" class=\"dataframe\">\n",
              "  <thead>\n",
              "    <tr style=\"text-align: right;\">\n",
              "      <th></th>\n",
              "      <th>B</th>\n",
              "      <th>A</th>\n",
              "    </tr>\n",
              "  </thead>\n",
              "  <tbody>\n",
              "    <tr>\n",
              "      <th>count</th>\n",
              "      <td>10.000000</td>\n",
              "      <td>10.000000</td>\n",
              "    </tr>\n",
              "    <tr>\n",
              "      <th>mean</th>\n",
              "      <td>-0.113000</td>\n",
              "      <td>29.200000</td>\n",
              "    </tr>\n",
              "    <tr>\n",
              "      <th>std</th>\n",
              "      <td>0.843472</td>\n",
              "      <td>58.360565</td>\n",
              "    </tr>\n",
              "    <tr>\n",
              "      <th>min</th>\n",
              "      <td>-1.230000</td>\n",
              "      <td>-78.000000</td>\n",
              "    </tr>\n",
              "    <tr>\n",
              "      <th>25%</th>\n",
              "      <td>-0.755000</td>\n",
              "      <td>-19.000000</td>\n",
              "    </tr>\n",
              "    <tr>\n",
              "      <th>50%</th>\n",
              "      <td>0.015000</td>\n",
              "      <td>52.000000</td>\n",
              "    </tr>\n",
              "    <tr>\n",
              "      <th>75%</th>\n",
              "      <td>0.347500</td>\n",
              "      <td>70.000000</td>\n",
              "    </tr>\n",
              "    <tr>\n",
              "      <th>max</th>\n",
              "      <td>1.320000</td>\n",
              "      <td>97.000000</td>\n",
              "    </tr>\n",
              "  </tbody>\n",
              "</table>\n",
              "</div>"
            ],
            "text/plain": [
              "               B          A\n",
              "count  10.000000  10.000000\n",
              "mean   -0.113000  29.200000\n",
              "std     0.843472  58.360565\n",
              "min    -1.230000 -78.000000\n",
              "25%    -0.755000 -19.000000\n",
              "50%     0.015000  52.000000\n",
              "75%     0.347500  70.000000\n",
              "max     1.320000  97.000000"
            ]
          },
          "metadata": {
            "tags": []
          },
          "execution_count": 97
        }
      ]
    },
    {
      "cell_type": "code",
      "metadata": {
        "scrolled": true,
        "id": "JCUJCUFbmsOE",
        "colab_type": "code",
        "colab": {
          "base_uri": "https://localhost:8080/",
          "height": 102
        },
        "outputId": "a5023d93-cceb-4072-d3b0-0f696e165286"
      },
      "source": [
        "# --- 특정 행의 기술통계량을 열람한다.\n",
        "# 인덱스 'j' 행의 기술통계량을 열람한다.\n",
        "df.loc['j'].describe()"
      ],
      "execution_count": null,
      "outputs": [
        {
          "output_type": "execute_result",
          "data": {
            "text/plain": [
              "count      5\n",
              "unique     5\n",
              "top       61\n",
              "freq       1\n",
              "Name: j, dtype: int64"
            ]
          },
          "metadata": {
            "tags": []
          },
          "execution_count": 99
        }
      ]
    },
    {
      "cell_type": "code",
      "metadata": {
        "id": "0Ava0x_lmsOF",
        "colab_type": "code",
        "colab": {
          "base_uri": "https://localhost:8080/",
          "height": 235
        },
        "outputId": "8b63f5b8-0926-4464-a3c9-544540881d81"
      },
      "source": [
        "# --- 일부(2개 이상) 행의 일부 열의 기술통계량을 열람한다.\n",
        "# 백분위 수를 50%만 하고 첫 5개 행의 'A', 'B' 열의 기술통계량을 열람한다.\n",
        "df.iloc[:5, :2].describe(percentiles=[])  # percentiles=[.5]와 같다."
      ],
      "execution_count": null,
      "outputs": [
        {
          "output_type": "execute_result",
          "data": {
            "text/html": [
              "<div>\n",
              "<style scoped>\n",
              "    .dataframe tbody tr th:only-of-type {\n",
              "        vertical-align: middle;\n",
              "    }\n",
              "\n",
              "    .dataframe tbody tr th {\n",
              "        vertical-align: top;\n",
              "    }\n",
              "\n",
              "    .dataframe thead th {\n",
              "        text-align: right;\n",
              "    }\n",
              "</style>\n",
              "<table border=\"1\" class=\"dataframe\">\n",
              "  <thead>\n",
              "    <tr style=\"text-align: right;\">\n",
              "      <th></th>\n",
              "      <th>A</th>\n",
              "      <th>B</th>\n",
              "    </tr>\n",
              "  </thead>\n",
              "  <tbody>\n",
              "    <tr>\n",
              "      <th>count</th>\n",
              "      <td>5.000000</td>\n",
              "      <td>5.000000</td>\n",
              "    </tr>\n",
              "    <tr>\n",
              "      <th>mean</th>\n",
              "      <td>38.800000</td>\n",
              "      <td>-0.024000</td>\n",
              "    </tr>\n",
              "    <tr>\n",
              "      <th>std</th>\n",
              "      <td>63.837293</td>\n",
              "      <td>0.726347</td>\n",
              "    </tr>\n",
              "    <tr>\n",
              "      <th>min</th>\n",
              "      <td>-32.000000</td>\n",
              "      <td>-1.210000</td>\n",
              "    </tr>\n",
              "    <tr>\n",
              "      <th>50%</th>\n",
              "      <td>73.000000</td>\n",
              "      <td>0.120000</td>\n",
              "    </tr>\n",
              "    <tr>\n",
              "      <th>max</th>\n",
              "      <td>97.000000</td>\n",
              "      <td>0.710000</td>\n",
              "    </tr>\n",
              "  </tbody>\n",
              "</table>\n",
              "</div>"
            ],
            "text/plain": [
              "               A         B\n",
              "count   5.000000  5.000000\n",
              "mean   38.800000 -0.024000\n",
              "std    63.837293  0.726347\n",
              "min   -32.000000 -1.210000\n",
              "50%    73.000000  0.120000\n",
              "max    97.000000  0.710000"
            ]
          },
          "metadata": {
            "tags": []
          },
          "execution_count": 100
        }
      ]
    },
    {
      "cell_type": "markdown",
      "metadata": {
        "id": "wayBOMZXmsOG",
        "colab_type": "text"
      },
      "source": [
        "# 데이터프레임 인덱스"
      ]
    },
    {
      "cell_type": "code",
      "metadata": {
        "id": "OuPgRpoEmsOG",
        "colab_type": "code",
        "colab": {},
        "outputId": "25968155-12f8-4d21-d7f6-943618c16564"
      },
      "source": [
        "n = 4, 0, 3, 0, 2, 5, 3, 0, 1, 2\n",
        "integers = 73, -29, 85, -32, 97, 11, 55, -78, 49, 61\n",
        "floats = 0.35,  0.12,  0.71, -0.09, -1.21, 1.32, -0.65, 0.34, -1.23, -0.79\n",
        "grades = list('AAABBb') + [numpy.nan] + list('CAB')\n",
        "\n",
        "df = pandas.DataFrame({'A': integers,\n",
        "                       'B': floats,\n",
        "                       'C': n,\n",
        "                       'D': pandas.Categorical(grades),\n",
        "                       'E': pandas.date_range('2050-4-10', periods=10)},\n",
        "                      index=list('abcdefghij'))\n",
        "df"
      ],
      "execution_count": null,
      "outputs": [
        {
          "output_type": "execute_result",
          "data": {
            "text/html": [
              "<div>\n",
              "<style scoped>\n",
              "    .dataframe tbody tr th:only-of-type {\n",
              "        vertical-align: middle;\n",
              "    }\n",
              "\n",
              "    .dataframe tbody tr th {\n",
              "        vertical-align: top;\n",
              "    }\n",
              "\n",
              "    .dataframe thead th {\n",
              "        text-align: right;\n",
              "    }\n",
              "</style>\n",
              "<table border=\"1\" class=\"dataframe\">\n",
              "  <thead>\n",
              "    <tr style=\"text-align: right;\">\n",
              "      <th></th>\n",
              "      <th>A</th>\n",
              "      <th>B</th>\n",
              "      <th>C</th>\n",
              "      <th>D</th>\n",
              "      <th>E</th>\n",
              "    </tr>\n",
              "  </thead>\n",
              "  <tbody>\n",
              "    <tr>\n",
              "      <th>a</th>\n",
              "      <td>73</td>\n",
              "      <td>0.35</td>\n",
              "      <td>4</td>\n",
              "      <td>A</td>\n",
              "      <td>2050-04-10</td>\n",
              "    </tr>\n",
              "    <tr>\n",
              "      <th>b</th>\n",
              "      <td>-29</td>\n",
              "      <td>0.12</td>\n",
              "      <td>0</td>\n",
              "      <td>A</td>\n",
              "      <td>2050-04-11</td>\n",
              "    </tr>\n",
              "    <tr>\n",
              "      <th>c</th>\n",
              "      <td>85</td>\n",
              "      <td>0.71</td>\n",
              "      <td>3</td>\n",
              "      <td>A</td>\n",
              "      <td>2050-04-12</td>\n",
              "    </tr>\n",
              "    <tr>\n",
              "      <th>d</th>\n",
              "      <td>-32</td>\n",
              "      <td>-0.09</td>\n",
              "      <td>0</td>\n",
              "      <td>B</td>\n",
              "      <td>2050-04-13</td>\n",
              "    </tr>\n",
              "    <tr>\n",
              "      <th>e</th>\n",
              "      <td>97</td>\n",
              "      <td>-1.21</td>\n",
              "      <td>2</td>\n",
              "      <td>B</td>\n",
              "      <td>2050-04-14</td>\n",
              "    </tr>\n",
              "    <tr>\n",
              "      <th>f</th>\n",
              "      <td>11</td>\n",
              "      <td>1.32</td>\n",
              "      <td>5</td>\n",
              "      <td>b</td>\n",
              "      <td>2050-04-15</td>\n",
              "    </tr>\n",
              "    <tr>\n",
              "      <th>g</th>\n",
              "      <td>55</td>\n",
              "      <td>-0.65</td>\n",
              "      <td>3</td>\n",
              "      <td>NaN</td>\n",
              "      <td>2050-04-16</td>\n",
              "    </tr>\n",
              "    <tr>\n",
              "      <th>h</th>\n",
              "      <td>-78</td>\n",
              "      <td>0.34</td>\n",
              "      <td>0</td>\n",
              "      <td>C</td>\n",
              "      <td>2050-04-17</td>\n",
              "    </tr>\n",
              "    <tr>\n",
              "      <th>i</th>\n",
              "      <td>49</td>\n",
              "      <td>-1.23</td>\n",
              "      <td>1</td>\n",
              "      <td>A</td>\n",
              "      <td>2050-04-18</td>\n",
              "    </tr>\n",
              "    <tr>\n",
              "      <th>j</th>\n",
              "      <td>61</td>\n",
              "      <td>-0.79</td>\n",
              "      <td>2</td>\n",
              "      <td>B</td>\n",
              "      <td>2050-04-19</td>\n",
              "    </tr>\n",
              "  </tbody>\n",
              "</table>\n",
              "</div>"
            ],
            "text/plain": [
              "    A     B  C    D          E\n",
              "a  73  0.35  4    A 2050-04-10\n",
              "b -29  0.12  0    A 2050-04-11\n",
              "c  85  0.71  3    A 2050-04-12\n",
              "d -32 -0.09  0    B 2050-04-13\n",
              "e  97 -1.21  2    B 2050-04-14\n",
              "f  11  1.32  5    b 2050-04-15\n",
              "g  55 -0.65  3  NaN 2050-04-16\n",
              "h -78  0.34  0    C 2050-04-17\n",
              "i  49 -1.23  1    A 2050-04-18\n",
              "j  61 -0.79  2    B 2050-04-19"
            ]
          },
          "metadata": {
            "tags": []
          },
          "execution_count": 2
        }
      ]
    },
    {
      "cell_type": "markdown",
      "metadata": {
        "id": "_hwuADEmmsOH",
        "colab_type": "text"
      },
      "source": [
        "**<font size='+1'>set_index() 메소드</font>**"
      ]
    },
    {
      "cell_type": "markdown",
      "metadata": {
        "id": "Jv1SMkVZmsOH",
        "colab_type": "text"
      },
      "source": [
        "하나 이상의 열 또는 배열을 인덱스로 설정한다.\n",
        "- 특정 열 한 개 또는 여러 개를 인덱스로 지정하거나 \n",
        "- 리스트나 배열을 인덱스로 지정할 때 사용한다.\n",
        "- 중복 값이 없어야 한다. 중복 값이 있다고 해도 오류는 나지 않는다.\n",
        "- 데이터프레임 자체의 원래 인덱스를 바꾸려면 **inplace=True**로 설정해야 한다."
      ]
    },
    {
      "cell_type": "markdown",
      "metadata": {
        "id": "J6pdA8PFmsOH",
        "colab_type": "text"
      },
      "source": [
        "[pandas.DataFrame.set_index](https://pandas.pydata.org/pandas-docs/stable/reference/api/pandas.DataFrame.set_index.html#pandas.DataFrame.set_index)\n",
        "- Set the DataFrame index (row labels) using one or more existing columns or arrays (of the correct length). The index can replace the existing index or expand on it.\n",
        "- DataFrame.**set_index**(*self, keys, drop=True, append=False, inplace=False, verify_integrity=False*)\n",
        "    - **Parameters**\n",
        "        - ***keys*** : *label* or *array-like* or *list of labels/arrays*\n",
        "            - This parameter can be either a single column key, a single array of the same length as the calling DataFrame, or a list containing an arbitrary combination of column keys and arrays. Here, “array” encompasses **Series**, **Index**, **numpy.ndarray**, and instances of **Iterator**.\n",
        "        - ***drop*** : *bool*, default True\n",
        "            - Delete columns to be used as the new index.\n",
        "        - ***append*** : *bool*, default False\n",
        "            - Whether to append columns to existing index.\n",
        "        - ***inplace*** : *bool*, default False\n",
        "            - Modify the DataFrame in place (do not create a new object).\n",
        "        - ***verify_integrity*** : *bool*, *default False*\n",
        "            - Check the new index for duplicates. Otherwise defer the check until necessary. Setting to False will improve the performance of this method.     \n",
        "    - **Returns**\n",
        "        - *DataFrame* : Changed row labels."
      ]
    },
    {
      "cell_type": "code",
      "metadata": {
        "id": "le0BFjRSmsOI",
        "colab_type": "code",
        "colab": {
          "base_uri": "https://localhost:8080/",
          "height": 390
        },
        "outputId": "2a11b5aa-f1a0-4796-952f-ffde93bdf81f"
      },
      "source": [
        "# 기존 열 'E'를 인덱스로 지정한다.\n",
        "df.set_index('E')  "
      ],
      "execution_count": null,
      "outputs": [
        {
          "output_type": "execute_result",
          "data": {
            "text/html": [
              "<div>\n",
              "<style scoped>\n",
              "    .dataframe tbody tr th:only-of-type {\n",
              "        vertical-align: middle;\n",
              "    }\n",
              "\n",
              "    .dataframe tbody tr th {\n",
              "        vertical-align: top;\n",
              "    }\n",
              "\n",
              "    .dataframe thead th {\n",
              "        text-align: right;\n",
              "    }\n",
              "</style>\n",
              "<table border=\"1\" class=\"dataframe\">\n",
              "  <thead>\n",
              "    <tr style=\"text-align: right;\">\n",
              "      <th></th>\n",
              "      <th>A</th>\n",
              "      <th>B</th>\n",
              "      <th>C</th>\n",
              "      <th>D</th>\n",
              "    </tr>\n",
              "    <tr>\n",
              "      <th>E</th>\n",
              "      <th></th>\n",
              "      <th></th>\n",
              "      <th></th>\n",
              "      <th></th>\n",
              "    </tr>\n",
              "  </thead>\n",
              "  <tbody>\n",
              "    <tr>\n",
              "      <th>2050-04-10</th>\n",
              "      <td>73</td>\n",
              "      <td>0.35</td>\n",
              "      <td>4</td>\n",
              "      <td>A</td>\n",
              "    </tr>\n",
              "    <tr>\n",
              "      <th>2050-04-11</th>\n",
              "      <td>-29</td>\n",
              "      <td>0.12</td>\n",
              "      <td>0</td>\n",
              "      <td>A</td>\n",
              "    </tr>\n",
              "    <tr>\n",
              "      <th>2050-04-12</th>\n",
              "      <td>85</td>\n",
              "      <td>0.71</td>\n",
              "      <td>3</td>\n",
              "      <td>A</td>\n",
              "    </tr>\n",
              "    <tr>\n",
              "      <th>2050-04-13</th>\n",
              "      <td>-32</td>\n",
              "      <td>-0.09</td>\n",
              "      <td>0</td>\n",
              "      <td>B</td>\n",
              "    </tr>\n",
              "    <tr>\n",
              "      <th>2050-04-14</th>\n",
              "      <td>97</td>\n",
              "      <td>-1.21</td>\n",
              "      <td>2</td>\n",
              "      <td>B</td>\n",
              "    </tr>\n",
              "    <tr>\n",
              "      <th>2050-04-15</th>\n",
              "      <td>11</td>\n",
              "      <td>1.32</td>\n",
              "      <td>5</td>\n",
              "      <td>b</td>\n",
              "    </tr>\n",
              "    <tr>\n",
              "      <th>2050-04-16</th>\n",
              "      <td>55</td>\n",
              "      <td>-0.65</td>\n",
              "      <td>3</td>\n",
              "      <td>NaN</td>\n",
              "    </tr>\n",
              "    <tr>\n",
              "      <th>2050-04-17</th>\n",
              "      <td>-78</td>\n",
              "      <td>0.34</td>\n",
              "      <td>0</td>\n",
              "      <td>C</td>\n",
              "    </tr>\n",
              "    <tr>\n",
              "      <th>2050-04-18</th>\n",
              "      <td>49</td>\n",
              "      <td>-1.23</td>\n",
              "      <td>1</td>\n",
              "      <td>A</td>\n",
              "    </tr>\n",
              "    <tr>\n",
              "      <th>2050-04-19</th>\n",
              "      <td>61</td>\n",
              "      <td>-0.79</td>\n",
              "      <td>2</td>\n",
              "      <td>B</td>\n",
              "    </tr>\n",
              "  </tbody>\n",
              "</table>\n",
              "</div>"
            ],
            "text/plain": [
              "             A     B  C    D\n",
              "E                           \n",
              "2050-04-10  73  0.35  4    A\n",
              "2050-04-11 -29  0.12  0    A\n",
              "2050-04-12  85  0.71  3    A\n",
              "2050-04-13 -32 -0.09  0    B\n",
              "2050-04-14  97 -1.21  2    B\n",
              "2050-04-15  11  1.32  5    b\n",
              "2050-04-16  55 -0.65  3  NaN\n",
              "2050-04-17 -78  0.34  0    C\n",
              "2050-04-18  49 -1.23  1    A\n",
              "2050-04-19  61 -0.79  2    B"
            ]
          },
          "metadata": {
            "tags": []
          },
          "execution_count": 102
        }
      ]
    },
    {
      "cell_type": "code",
      "metadata": {
        "id": "7fQmBv4hmsOL",
        "colab_type": "code",
        "colab": {
          "base_uri": "https://localhost:8080/",
          "height": 390
        },
        "outputId": "a2ee82fc-b759-42fe-d96b-c21a9a6e93bf"
      },
      "source": [
        "# 새로운 인덱스와 기존 열을 인덱스로 지정한다.\n",
        "idx = pandas.Index(list(range(len(df.index))))\n",
        "df.set_index([idx, 'C'])"
      ],
      "execution_count": null,
      "outputs": [
        {
          "output_type": "execute_result",
          "data": {
            "text/html": [
              "<div>\n",
              "<style scoped>\n",
              "    .dataframe tbody tr th:only-of-type {\n",
              "        vertical-align: middle;\n",
              "    }\n",
              "\n",
              "    .dataframe tbody tr th {\n",
              "        vertical-align: top;\n",
              "    }\n",
              "\n",
              "    .dataframe thead th {\n",
              "        text-align: right;\n",
              "    }\n",
              "</style>\n",
              "<table border=\"1\" class=\"dataframe\">\n",
              "  <thead>\n",
              "    <tr style=\"text-align: right;\">\n",
              "      <th></th>\n",
              "      <th></th>\n",
              "      <th>A</th>\n",
              "      <th>B</th>\n",
              "      <th>D</th>\n",
              "      <th>E</th>\n",
              "    </tr>\n",
              "    <tr>\n",
              "      <th></th>\n",
              "      <th>C</th>\n",
              "      <th></th>\n",
              "      <th></th>\n",
              "      <th></th>\n",
              "      <th></th>\n",
              "    </tr>\n",
              "  </thead>\n",
              "  <tbody>\n",
              "    <tr>\n",
              "      <th>0</th>\n",
              "      <th>4</th>\n",
              "      <td>73</td>\n",
              "      <td>0.35</td>\n",
              "      <td>A</td>\n",
              "      <td>2050-04-10</td>\n",
              "    </tr>\n",
              "    <tr>\n",
              "      <th>1</th>\n",
              "      <th>0</th>\n",
              "      <td>-29</td>\n",
              "      <td>0.12</td>\n",
              "      <td>A</td>\n",
              "      <td>2050-04-11</td>\n",
              "    </tr>\n",
              "    <tr>\n",
              "      <th>2</th>\n",
              "      <th>3</th>\n",
              "      <td>85</td>\n",
              "      <td>0.71</td>\n",
              "      <td>A</td>\n",
              "      <td>2050-04-12</td>\n",
              "    </tr>\n",
              "    <tr>\n",
              "      <th>3</th>\n",
              "      <th>0</th>\n",
              "      <td>-32</td>\n",
              "      <td>-0.09</td>\n",
              "      <td>B</td>\n",
              "      <td>2050-04-13</td>\n",
              "    </tr>\n",
              "    <tr>\n",
              "      <th>4</th>\n",
              "      <th>2</th>\n",
              "      <td>97</td>\n",
              "      <td>-1.21</td>\n",
              "      <td>B</td>\n",
              "      <td>2050-04-14</td>\n",
              "    </tr>\n",
              "    <tr>\n",
              "      <th>5</th>\n",
              "      <th>5</th>\n",
              "      <td>11</td>\n",
              "      <td>1.32</td>\n",
              "      <td>b</td>\n",
              "      <td>2050-04-15</td>\n",
              "    </tr>\n",
              "    <tr>\n",
              "      <th>6</th>\n",
              "      <th>3</th>\n",
              "      <td>55</td>\n",
              "      <td>-0.65</td>\n",
              "      <td>NaN</td>\n",
              "      <td>2050-04-16</td>\n",
              "    </tr>\n",
              "    <tr>\n",
              "      <th>7</th>\n",
              "      <th>0</th>\n",
              "      <td>-78</td>\n",
              "      <td>0.34</td>\n",
              "      <td>C</td>\n",
              "      <td>2050-04-17</td>\n",
              "    </tr>\n",
              "    <tr>\n",
              "      <th>8</th>\n",
              "      <th>1</th>\n",
              "      <td>49</td>\n",
              "      <td>-1.23</td>\n",
              "      <td>A</td>\n",
              "      <td>2050-04-18</td>\n",
              "    </tr>\n",
              "    <tr>\n",
              "      <th>9</th>\n",
              "      <th>2</th>\n",
              "      <td>61</td>\n",
              "      <td>-0.79</td>\n",
              "      <td>B</td>\n",
              "      <td>2050-04-19</td>\n",
              "    </tr>\n",
              "  </tbody>\n",
              "</table>\n",
              "</div>"
            ],
            "text/plain": [
              "      A     B    D          E\n",
              "  C                          \n",
              "0 4  73  0.35    A 2050-04-10\n",
              "1 0 -29  0.12    A 2050-04-11\n",
              "2 3  85  0.71    A 2050-04-12\n",
              "3 0 -32 -0.09    B 2050-04-13\n",
              "4 2  97 -1.21    B 2050-04-14\n",
              "5 5  11  1.32    b 2050-04-15\n",
              "6 3  55 -0.65  NaN 2050-04-16\n",
              "7 0 -78  0.34    C 2050-04-17\n",
              "8 1  49 -1.23    A 2050-04-18\n",
              "9 2  61 -0.79    B 2050-04-19"
            ]
          },
          "metadata": {
            "tags": []
          },
          "execution_count": 103
        }
      ]
    },
    {
      "cell_type": "code",
      "metadata": {
        "id": "TszJLSJ9msON",
        "colab_type": "code",
        "colab": {
          "base_uri": "https://localhost:8080/",
          "height": 390
        },
        "outputId": "512d72b0-0811-4353-d5e1-2dbf36a0694a"
      },
      "source": [
        "# 기존 열 두 개를 인덱스로 지정한다.\n",
        "df.set_index(['E', 'A'])"
      ],
      "execution_count": null,
      "outputs": [
        {
          "output_type": "execute_result",
          "data": {
            "text/html": [
              "<div>\n",
              "<style scoped>\n",
              "    .dataframe tbody tr th:only-of-type {\n",
              "        vertical-align: middle;\n",
              "    }\n",
              "\n",
              "    .dataframe tbody tr th {\n",
              "        vertical-align: top;\n",
              "    }\n",
              "\n",
              "    .dataframe thead th {\n",
              "        text-align: right;\n",
              "    }\n",
              "</style>\n",
              "<table border=\"1\" class=\"dataframe\">\n",
              "  <thead>\n",
              "    <tr style=\"text-align: right;\">\n",
              "      <th></th>\n",
              "      <th></th>\n",
              "      <th>B</th>\n",
              "      <th>C</th>\n",
              "      <th>D</th>\n",
              "    </tr>\n",
              "    <tr>\n",
              "      <th>E</th>\n",
              "      <th>A</th>\n",
              "      <th></th>\n",
              "      <th></th>\n",
              "      <th></th>\n",
              "    </tr>\n",
              "  </thead>\n",
              "  <tbody>\n",
              "    <tr>\n",
              "      <th>2050-04-10</th>\n",
              "      <th>73</th>\n",
              "      <td>0.35</td>\n",
              "      <td>4</td>\n",
              "      <td>A</td>\n",
              "    </tr>\n",
              "    <tr>\n",
              "      <th>2050-04-11</th>\n",
              "      <th>-29</th>\n",
              "      <td>0.12</td>\n",
              "      <td>0</td>\n",
              "      <td>A</td>\n",
              "    </tr>\n",
              "    <tr>\n",
              "      <th>2050-04-12</th>\n",
              "      <th>85</th>\n",
              "      <td>0.71</td>\n",
              "      <td>3</td>\n",
              "      <td>A</td>\n",
              "    </tr>\n",
              "    <tr>\n",
              "      <th>2050-04-13</th>\n",
              "      <th>-32</th>\n",
              "      <td>-0.09</td>\n",
              "      <td>0</td>\n",
              "      <td>B</td>\n",
              "    </tr>\n",
              "    <tr>\n",
              "      <th>2050-04-14</th>\n",
              "      <th>97</th>\n",
              "      <td>-1.21</td>\n",
              "      <td>2</td>\n",
              "      <td>B</td>\n",
              "    </tr>\n",
              "    <tr>\n",
              "      <th>2050-04-15</th>\n",
              "      <th>11</th>\n",
              "      <td>1.32</td>\n",
              "      <td>5</td>\n",
              "      <td>b</td>\n",
              "    </tr>\n",
              "    <tr>\n",
              "      <th>2050-04-16</th>\n",
              "      <th>55</th>\n",
              "      <td>-0.65</td>\n",
              "      <td>3</td>\n",
              "      <td>NaN</td>\n",
              "    </tr>\n",
              "    <tr>\n",
              "      <th>2050-04-17</th>\n",
              "      <th>-78</th>\n",
              "      <td>0.34</td>\n",
              "      <td>0</td>\n",
              "      <td>C</td>\n",
              "    </tr>\n",
              "    <tr>\n",
              "      <th>2050-04-18</th>\n",
              "      <th>49</th>\n",
              "      <td>-1.23</td>\n",
              "      <td>1</td>\n",
              "      <td>A</td>\n",
              "    </tr>\n",
              "    <tr>\n",
              "      <th>2050-04-19</th>\n",
              "      <th>61</th>\n",
              "      <td>-0.79</td>\n",
              "      <td>2</td>\n",
              "      <td>B</td>\n",
              "    </tr>\n",
              "  </tbody>\n",
              "</table>\n",
              "</div>"
            ],
            "text/plain": [
              "                   B  C    D\n",
              "E          A                \n",
              "2050-04-10  73  0.35  4    A\n",
              "2050-04-11 -29  0.12  0    A\n",
              "2050-04-12  85  0.71  3    A\n",
              "2050-04-13 -32 -0.09  0    B\n",
              "2050-04-14  97 -1.21  2    B\n",
              "2050-04-15  11  1.32  5    b\n",
              "2050-04-16  55 -0.65  3  NaN\n",
              "2050-04-17 -78  0.34  0    C\n",
              "2050-04-18  49 -1.23  1    A\n",
              "2050-04-19  61 -0.79  2    B"
            ]
          },
          "metadata": {
            "tags": []
          },
          "execution_count": 104
        }
      ]
    },
    {
      "cell_type": "code",
      "metadata": {
        "id": "7tSiOFRBmsOO",
        "colab_type": "code",
        "colab": {
          "base_uri": "https://localhost:8080/",
          "height": 359
        },
        "outputId": "9907f6fe-ac4d-413f-e130-82ad936af903"
      },
      "source": [
        "df  # 원본 데이터프레임은 그대로다."
      ],
      "execution_count": null,
      "outputs": [
        {
          "output_type": "execute_result",
          "data": {
            "text/html": [
              "<div>\n",
              "<style scoped>\n",
              "    .dataframe tbody tr th:only-of-type {\n",
              "        vertical-align: middle;\n",
              "    }\n",
              "\n",
              "    .dataframe tbody tr th {\n",
              "        vertical-align: top;\n",
              "    }\n",
              "\n",
              "    .dataframe thead th {\n",
              "        text-align: right;\n",
              "    }\n",
              "</style>\n",
              "<table border=\"1\" class=\"dataframe\">\n",
              "  <thead>\n",
              "    <tr style=\"text-align: right;\">\n",
              "      <th></th>\n",
              "      <th>A</th>\n",
              "      <th>B</th>\n",
              "      <th>C</th>\n",
              "      <th>D</th>\n",
              "      <th>E</th>\n",
              "    </tr>\n",
              "  </thead>\n",
              "  <tbody>\n",
              "    <tr>\n",
              "      <th>a</th>\n",
              "      <td>73</td>\n",
              "      <td>0.35</td>\n",
              "      <td>4</td>\n",
              "      <td>A</td>\n",
              "      <td>2050-04-10</td>\n",
              "    </tr>\n",
              "    <tr>\n",
              "      <th>b</th>\n",
              "      <td>-29</td>\n",
              "      <td>0.12</td>\n",
              "      <td>0</td>\n",
              "      <td>A</td>\n",
              "      <td>2050-04-11</td>\n",
              "    </tr>\n",
              "    <tr>\n",
              "      <th>c</th>\n",
              "      <td>85</td>\n",
              "      <td>0.71</td>\n",
              "      <td>3</td>\n",
              "      <td>A</td>\n",
              "      <td>2050-04-12</td>\n",
              "    </tr>\n",
              "    <tr>\n",
              "      <th>d</th>\n",
              "      <td>-32</td>\n",
              "      <td>-0.09</td>\n",
              "      <td>0</td>\n",
              "      <td>B</td>\n",
              "      <td>2050-04-13</td>\n",
              "    </tr>\n",
              "    <tr>\n",
              "      <th>e</th>\n",
              "      <td>97</td>\n",
              "      <td>-1.21</td>\n",
              "      <td>2</td>\n",
              "      <td>B</td>\n",
              "      <td>2050-04-14</td>\n",
              "    </tr>\n",
              "    <tr>\n",
              "      <th>f</th>\n",
              "      <td>11</td>\n",
              "      <td>1.32</td>\n",
              "      <td>5</td>\n",
              "      <td>b</td>\n",
              "      <td>2050-04-15</td>\n",
              "    </tr>\n",
              "    <tr>\n",
              "      <th>g</th>\n",
              "      <td>55</td>\n",
              "      <td>-0.65</td>\n",
              "      <td>3</td>\n",
              "      <td>NaN</td>\n",
              "      <td>2050-04-16</td>\n",
              "    </tr>\n",
              "    <tr>\n",
              "      <th>h</th>\n",
              "      <td>-78</td>\n",
              "      <td>0.34</td>\n",
              "      <td>0</td>\n",
              "      <td>C</td>\n",
              "      <td>2050-04-17</td>\n",
              "    </tr>\n",
              "    <tr>\n",
              "      <th>i</th>\n",
              "      <td>49</td>\n",
              "      <td>-1.23</td>\n",
              "      <td>1</td>\n",
              "      <td>A</td>\n",
              "      <td>2050-04-18</td>\n",
              "    </tr>\n",
              "    <tr>\n",
              "      <th>j</th>\n",
              "      <td>61</td>\n",
              "      <td>-0.79</td>\n",
              "      <td>2</td>\n",
              "      <td>B</td>\n",
              "      <td>2050-04-19</td>\n",
              "    </tr>\n",
              "  </tbody>\n",
              "</table>\n",
              "</div>"
            ],
            "text/plain": [
              "    A     B  C    D          E\n",
              "a  73  0.35  4    A 2050-04-10\n",
              "b -29  0.12  0    A 2050-04-11\n",
              "c  85  0.71  3    A 2050-04-12\n",
              "d -32 -0.09  0    B 2050-04-13\n",
              "e  97 -1.21  2    B 2050-04-14\n",
              "f  11  1.32  5    b 2050-04-15\n",
              "g  55 -0.65  3  NaN 2050-04-16\n",
              "h -78  0.34  0    C 2050-04-17\n",
              "i  49 -1.23  1    A 2050-04-18\n",
              "j  61 -0.79  2    B 2050-04-19"
            ]
          },
          "metadata": {
            "tags": []
          },
          "execution_count": 105
        }
      ]
    },
    {
      "cell_type": "markdown",
      "metadata": {
        "id": "9qhS59RhmsOP",
        "colab_type": "text"
      },
      "source": [
        "**<font size='+1'>reset_index() 메소드</font>**"
      ]
    },
    {
      "cell_type": "markdown",
      "metadata": {
        "id": "B3A3u1VZmsOP",
        "colab_type": "text"
      },
      "source": [
        "인덱스를 기본값 상태로 바꾼다.\n",
        "- 데이터프레임 자체의 원래 인덱스를 바꾸려면 **inplace=True**로 설정해야 한다."
      ]
    },
    {
      "cell_type": "markdown",
      "metadata": {
        "id": "HM8pVG8RmsOP",
        "colab_type": "text"
      },
      "source": [
        "[pandas.DataFrame.reset_index](https://pandas.pydata.org/pandas-docs/stable/reference/api/pandas.DataFrame.reset_index.html#pandas.DataFrame.reset_index)\n",
        "- Reset the index, or a level of it.\n",
        "- Reset the index of the DataFrame, and use the default one instead. If the DataFrame has a MultiIndex, this method can remove one or more levels.\n",
        "- DataFrame.**reset_index**(*self, level=None, drop=False, inplace=False, col_level=0, col_fill=''*)\n",
        "    - **Parameters**\n",
        "        - ***level*** : *int*, *str*, *tuple*, or *list*, default None\n",
        "            - Only remove the given levels from the index. Removes all levels by default.\n",
        "        - ***drop*** : *bool*, default False\n",
        "            - Do not try to insert index into dataframe columns. This resets the index to the default integer index.\n",
        "        - ***inplace*** : *bool*, default False\n",
        "            - Modify the DataFrame in place (do not create a new object).\n",
        "        - ***col_level*** : *int* or *str*, default 0\n",
        "            - If the columns have multiple levels, determines which level the labels are inserted into. By default it is inserted into the first level.\n",
        "        - ***col_fill*** : *object*, default ''\n",
        "            - If the columns have multiple levels, determines how the other levels are named. If None then the index name is repeated.\n",
        "\n",
        "    - **Returns**\n",
        "        - *DataFrame* with the new index."
      ]
    },
    {
      "cell_type": "code",
      "metadata": {
        "id": "l4K0ZppkmsOQ",
        "colab_type": "code",
        "colab": {
          "base_uri": "https://localhost:8080/",
          "height": 359
        },
        "outputId": "49aa8b53-df53-40e9-9d2c-03f32c965382"
      },
      "source": [
        "# reset_index()로 인덱스를 기본값 상태로 바꾼다.\n",
        "df.reset_index()"
      ],
      "execution_count": null,
      "outputs": [
        {
          "output_type": "execute_result",
          "data": {
            "text/html": [
              "<div>\n",
              "<style scoped>\n",
              "    .dataframe tbody tr th:only-of-type {\n",
              "        vertical-align: middle;\n",
              "    }\n",
              "\n",
              "    .dataframe tbody tr th {\n",
              "        vertical-align: top;\n",
              "    }\n",
              "\n",
              "    .dataframe thead th {\n",
              "        text-align: right;\n",
              "    }\n",
              "</style>\n",
              "<table border=\"1\" class=\"dataframe\">\n",
              "  <thead>\n",
              "    <tr style=\"text-align: right;\">\n",
              "      <th></th>\n",
              "      <th>index</th>\n",
              "      <th>A</th>\n",
              "      <th>B</th>\n",
              "      <th>C</th>\n",
              "      <th>D</th>\n",
              "      <th>E</th>\n",
              "    </tr>\n",
              "  </thead>\n",
              "  <tbody>\n",
              "    <tr>\n",
              "      <th>0</th>\n",
              "      <td>a</td>\n",
              "      <td>73</td>\n",
              "      <td>0.35</td>\n",
              "      <td>4</td>\n",
              "      <td>A</td>\n",
              "      <td>2050-04-10</td>\n",
              "    </tr>\n",
              "    <tr>\n",
              "      <th>1</th>\n",
              "      <td>b</td>\n",
              "      <td>-29</td>\n",
              "      <td>0.12</td>\n",
              "      <td>0</td>\n",
              "      <td>A</td>\n",
              "      <td>2050-04-11</td>\n",
              "    </tr>\n",
              "    <tr>\n",
              "      <th>2</th>\n",
              "      <td>c</td>\n",
              "      <td>85</td>\n",
              "      <td>0.71</td>\n",
              "      <td>3</td>\n",
              "      <td>A</td>\n",
              "      <td>2050-04-12</td>\n",
              "    </tr>\n",
              "    <tr>\n",
              "      <th>3</th>\n",
              "      <td>d</td>\n",
              "      <td>-32</td>\n",
              "      <td>-0.09</td>\n",
              "      <td>0</td>\n",
              "      <td>B</td>\n",
              "      <td>2050-04-13</td>\n",
              "    </tr>\n",
              "    <tr>\n",
              "      <th>4</th>\n",
              "      <td>e</td>\n",
              "      <td>97</td>\n",
              "      <td>-1.21</td>\n",
              "      <td>2</td>\n",
              "      <td>B</td>\n",
              "      <td>2050-04-14</td>\n",
              "    </tr>\n",
              "    <tr>\n",
              "      <th>5</th>\n",
              "      <td>f</td>\n",
              "      <td>11</td>\n",
              "      <td>1.32</td>\n",
              "      <td>5</td>\n",
              "      <td>b</td>\n",
              "      <td>2050-04-15</td>\n",
              "    </tr>\n",
              "    <tr>\n",
              "      <th>6</th>\n",
              "      <td>g</td>\n",
              "      <td>55</td>\n",
              "      <td>-0.65</td>\n",
              "      <td>3</td>\n",
              "      <td>NaN</td>\n",
              "      <td>2050-04-16</td>\n",
              "    </tr>\n",
              "    <tr>\n",
              "      <th>7</th>\n",
              "      <td>h</td>\n",
              "      <td>-78</td>\n",
              "      <td>0.34</td>\n",
              "      <td>0</td>\n",
              "      <td>C</td>\n",
              "      <td>2050-04-17</td>\n",
              "    </tr>\n",
              "    <tr>\n",
              "      <th>8</th>\n",
              "      <td>i</td>\n",
              "      <td>49</td>\n",
              "      <td>-1.23</td>\n",
              "      <td>1</td>\n",
              "      <td>A</td>\n",
              "      <td>2050-04-18</td>\n",
              "    </tr>\n",
              "    <tr>\n",
              "      <th>9</th>\n",
              "      <td>j</td>\n",
              "      <td>61</td>\n",
              "      <td>-0.79</td>\n",
              "      <td>2</td>\n",
              "      <td>B</td>\n",
              "      <td>2050-04-19</td>\n",
              "    </tr>\n",
              "  </tbody>\n",
              "</table>\n",
              "</div>"
            ],
            "text/plain": [
              "  index   A     B  C    D          E\n",
              "0     a  73  0.35  4    A 2050-04-10\n",
              "1     b -29  0.12  0    A 2050-04-11\n",
              "2     c  85  0.71  3    A 2050-04-12\n",
              "3     d -32 -0.09  0    B 2050-04-13\n",
              "4     e  97 -1.21  2    B 2050-04-14\n",
              "5     f  11  1.32  5    b 2050-04-15\n",
              "6     g  55 -0.65  3  NaN 2050-04-16\n",
              "7     h -78  0.34  0    C 2050-04-17\n",
              "8     i  49 -1.23  1    A 2050-04-18\n",
              "9     j  61 -0.79  2    B 2050-04-19"
            ]
          },
          "metadata": {
            "tags": []
          },
          "execution_count": 106
        }
      ]
    },
    {
      "cell_type": "code",
      "metadata": {
        "id": "_Jqgoiy6msOT",
        "colab_type": "code",
        "colab": {
          "base_uri": "https://localhost:8080/",
          "height": 359
        },
        "outputId": "028ae143-057b-4b85-cd76-34b5ec53b927"
      },
      "source": [
        "# 기존의 인덱스를 삭제하면서 새로운 열로 추가하지 않는다.\n",
        "df.reset_index(drop=True)"
      ],
      "execution_count": null,
      "outputs": [
        {
          "output_type": "execute_result",
          "data": {
            "text/html": [
              "<div>\n",
              "<style scoped>\n",
              "    .dataframe tbody tr th:only-of-type {\n",
              "        vertical-align: middle;\n",
              "    }\n",
              "\n",
              "    .dataframe tbody tr th {\n",
              "        vertical-align: top;\n",
              "    }\n",
              "\n",
              "    .dataframe thead th {\n",
              "        text-align: right;\n",
              "    }\n",
              "</style>\n",
              "<table border=\"1\" class=\"dataframe\">\n",
              "  <thead>\n",
              "    <tr style=\"text-align: right;\">\n",
              "      <th></th>\n",
              "      <th>A</th>\n",
              "      <th>B</th>\n",
              "      <th>C</th>\n",
              "      <th>D</th>\n",
              "      <th>E</th>\n",
              "    </tr>\n",
              "  </thead>\n",
              "  <tbody>\n",
              "    <tr>\n",
              "      <th>0</th>\n",
              "      <td>73</td>\n",
              "      <td>0.35</td>\n",
              "      <td>4</td>\n",
              "      <td>A</td>\n",
              "      <td>2050-04-10</td>\n",
              "    </tr>\n",
              "    <tr>\n",
              "      <th>1</th>\n",
              "      <td>-29</td>\n",
              "      <td>0.12</td>\n",
              "      <td>0</td>\n",
              "      <td>A</td>\n",
              "      <td>2050-04-11</td>\n",
              "    </tr>\n",
              "    <tr>\n",
              "      <th>2</th>\n",
              "      <td>85</td>\n",
              "      <td>0.71</td>\n",
              "      <td>3</td>\n",
              "      <td>A</td>\n",
              "      <td>2050-04-12</td>\n",
              "    </tr>\n",
              "    <tr>\n",
              "      <th>3</th>\n",
              "      <td>-32</td>\n",
              "      <td>-0.09</td>\n",
              "      <td>0</td>\n",
              "      <td>B</td>\n",
              "      <td>2050-04-13</td>\n",
              "    </tr>\n",
              "    <tr>\n",
              "      <th>4</th>\n",
              "      <td>97</td>\n",
              "      <td>-1.21</td>\n",
              "      <td>2</td>\n",
              "      <td>B</td>\n",
              "      <td>2050-04-14</td>\n",
              "    </tr>\n",
              "    <tr>\n",
              "      <th>5</th>\n",
              "      <td>11</td>\n",
              "      <td>1.32</td>\n",
              "      <td>5</td>\n",
              "      <td>b</td>\n",
              "      <td>2050-04-15</td>\n",
              "    </tr>\n",
              "    <tr>\n",
              "      <th>6</th>\n",
              "      <td>55</td>\n",
              "      <td>-0.65</td>\n",
              "      <td>3</td>\n",
              "      <td>NaN</td>\n",
              "      <td>2050-04-16</td>\n",
              "    </tr>\n",
              "    <tr>\n",
              "      <th>7</th>\n",
              "      <td>-78</td>\n",
              "      <td>0.34</td>\n",
              "      <td>0</td>\n",
              "      <td>C</td>\n",
              "      <td>2050-04-17</td>\n",
              "    </tr>\n",
              "    <tr>\n",
              "      <th>8</th>\n",
              "      <td>49</td>\n",
              "      <td>-1.23</td>\n",
              "      <td>1</td>\n",
              "      <td>A</td>\n",
              "      <td>2050-04-18</td>\n",
              "    </tr>\n",
              "    <tr>\n",
              "      <th>9</th>\n",
              "      <td>61</td>\n",
              "      <td>-0.79</td>\n",
              "      <td>2</td>\n",
              "      <td>B</td>\n",
              "      <td>2050-04-19</td>\n",
              "    </tr>\n",
              "  </tbody>\n",
              "</table>\n",
              "</div>"
            ],
            "text/plain": [
              "    A     B  C    D          E\n",
              "0  73  0.35  4    A 2050-04-10\n",
              "1 -29  0.12  0    A 2050-04-11\n",
              "2  85  0.71  3    A 2050-04-12\n",
              "3 -32 -0.09  0    B 2050-04-13\n",
              "4  97 -1.21  2    B 2050-04-14\n",
              "5  11  1.32  5    b 2050-04-15\n",
              "6  55 -0.65  3  NaN 2050-04-16\n",
              "7 -78  0.34  0    C 2050-04-17\n",
              "8  49 -1.23  1    A 2050-04-18\n",
              "9  61 -0.79  2    B 2050-04-19"
            ]
          },
          "metadata": {
            "tags": []
          },
          "execution_count": 107
        }
      ]
    },
    {
      "cell_type": "code",
      "metadata": {
        "id": "sQv4SeuXmsOT",
        "colab_type": "code",
        "colab": {
          "base_uri": "https://localhost:8080/",
          "height": 359
        },
        "outputId": "2988657d-f5ce-450d-f444-c06d411521e2"
      },
      "source": [
        "df  # 원본 데이터프레임은 그대로이다."
      ],
      "execution_count": null,
      "outputs": [
        {
          "output_type": "execute_result",
          "data": {
            "text/html": [
              "<div>\n",
              "<style scoped>\n",
              "    .dataframe tbody tr th:only-of-type {\n",
              "        vertical-align: middle;\n",
              "    }\n",
              "\n",
              "    .dataframe tbody tr th {\n",
              "        vertical-align: top;\n",
              "    }\n",
              "\n",
              "    .dataframe thead th {\n",
              "        text-align: right;\n",
              "    }\n",
              "</style>\n",
              "<table border=\"1\" class=\"dataframe\">\n",
              "  <thead>\n",
              "    <tr style=\"text-align: right;\">\n",
              "      <th></th>\n",
              "      <th>A</th>\n",
              "      <th>B</th>\n",
              "      <th>C</th>\n",
              "      <th>D</th>\n",
              "      <th>E</th>\n",
              "    </tr>\n",
              "  </thead>\n",
              "  <tbody>\n",
              "    <tr>\n",
              "      <th>a</th>\n",
              "      <td>73</td>\n",
              "      <td>0.35</td>\n",
              "      <td>4</td>\n",
              "      <td>A</td>\n",
              "      <td>2050-04-10</td>\n",
              "    </tr>\n",
              "    <tr>\n",
              "      <th>b</th>\n",
              "      <td>-29</td>\n",
              "      <td>0.12</td>\n",
              "      <td>0</td>\n",
              "      <td>A</td>\n",
              "      <td>2050-04-11</td>\n",
              "    </tr>\n",
              "    <tr>\n",
              "      <th>c</th>\n",
              "      <td>85</td>\n",
              "      <td>0.71</td>\n",
              "      <td>3</td>\n",
              "      <td>A</td>\n",
              "      <td>2050-04-12</td>\n",
              "    </tr>\n",
              "    <tr>\n",
              "      <th>d</th>\n",
              "      <td>-32</td>\n",
              "      <td>-0.09</td>\n",
              "      <td>0</td>\n",
              "      <td>B</td>\n",
              "      <td>2050-04-13</td>\n",
              "    </tr>\n",
              "    <tr>\n",
              "      <th>e</th>\n",
              "      <td>97</td>\n",
              "      <td>-1.21</td>\n",
              "      <td>2</td>\n",
              "      <td>B</td>\n",
              "      <td>2050-04-14</td>\n",
              "    </tr>\n",
              "    <tr>\n",
              "      <th>f</th>\n",
              "      <td>11</td>\n",
              "      <td>1.32</td>\n",
              "      <td>5</td>\n",
              "      <td>b</td>\n",
              "      <td>2050-04-15</td>\n",
              "    </tr>\n",
              "    <tr>\n",
              "      <th>g</th>\n",
              "      <td>55</td>\n",
              "      <td>-0.65</td>\n",
              "      <td>3</td>\n",
              "      <td>NaN</td>\n",
              "      <td>2050-04-16</td>\n",
              "    </tr>\n",
              "    <tr>\n",
              "      <th>h</th>\n",
              "      <td>-78</td>\n",
              "      <td>0.34</td>\n",
              "      <td>0</td>\n",
              "      <td>C</td>\n",
              "      <td>2050-04-17</td>\n",
              "    </tr>\n",
              "    <tr>\n",
              "      <th>i</th>\n",
              "      <td>49</td>\n",
              "      <td>-1.23</td>\n",
              "      <td>1</td>\n",
              "      <td>A</td>\n",
              "      <td>2050-04-18</td>\n",
              "    </tr>\n",
              "    <tr>\n",
              "      <th>j</th>\n",
              "      <td>61</td>\n",
              "      <td>-0.79</td>\n",
              "      <td>2</td>\n",
              "      <td>B</td>\n",
              "      <td>2050-04-19</td>\n",
              "    </tr>\n",
              "  </tbody>\n",
              "</table>\n",
              "</div>"
            ],
            "text/plain": [
              "    A     B  C    D          E\n",
              "a  73  0.35  4    A 2050-04-10\n",
              "b -29  0.12  0    A 2050-04-11\n",
              "c  85  0.71  3    A 2050-04-12\n",
              "d -32 -0.09  0    B 2050-04-13\n",
              "e  97 -1.21  2    B 2050-04-14\n",
              "f  11  1.32  5    b 2050-04-15\n",
              "g  55 -0.65  3  NaN 2050-04-16\n",
              "h -78  0.34  0    C 2050-04-17\n",
              "i  49 -1.23  1    A 2050-04-18\n",
              "j  61 -0.79  2    B 2050-04-19"
            ]
          },
          "metadata": {
            "tags": []
          },
          "execution_count": 108
        }
      ]
    },
    {
      "cell_type": "markdown",
      "metadata": {
        "id": "TOwN5OnVmsOU",
        "colab_type": "text"
      },
      "source": [
        "**<font size='+1'>원본 데이터프레임 자체의 인덱스 갱신</font>**"
      ]
    },
    {
      "cell_type": "code",
      "metadata": {
        "id": "HSvECKUKmsOU",
        "colab_type": "code",
        "colab": {
          "base_uri": "https://localhost:8080/",
          "height": 204
        },
        "outputId": "726d82a5-2351-4425-b30d-dafb8c8c44a0"
      },
      "source": [
        "df = pandas.DataFrame({'A': list(range(1, 6)), \n",
        "                       'B': list(range(2, 7)),\n",
        "                       'C': list(range(3, 8))},\n",
        "                      index=list(range(1, 6)))\n",
        "df"
      ],
      "execution_count": null,
      "outputs": [
        {
          "output_type": "execute_result",
          "data": {
            "text/html": [
              "<div>\n",
              "<style scoped>\n",
              "    .dataframe tbody tr th:only-of-type {\n",
              "        vertical-align: middle;\n",
              "    }\n",
              "\n",
              "    .dataframe tbody tr th {\n",
              "        vertical-align: top;\n",
              "    }\n",
              "\n",
              "    .dataframe thead th {\n",
              "        text-align: right;\n",
              "    }\n",
              "</style>\n",
              "<table border=\"1\" class=\"dataframe\">\n",
              "  <thead>\n",
              "    <tr style=\"text-align: right;\">\n",
              "      <th></th>\n",
              "      <th>A</th>\n",
              "      <th>B</th>\n",
              "      <th>C</th>\n",
              "    </tr>\n",
              "  </thead>\n",
              "  <tbody>\n",
              "    <tr>\n",
              "      <th>1</th>\n",
              "      <td>1</td>\n",
              "      <td>2</td>\n",
              "      <td>3</td>\n",
              "    </tr>\n",
              "    <tr>\n",
              "      <th>2</th>\n",
              "      <td>2</td>\n",
              "      <td>3</td>\n",
              "      <td>4</td>\n",
              "    </tr>\n",
              "    <tr>\n",
              "      <th>3</th>\n",
              "      <td>3</td>\n",
              "      <td>4</td>\n",
              "      <td>5</td>\n",
              "    </tr>\n",
              "    <tr>\n",
              "      <th>4</th>\n",
              "      <td>4</td>\n",
              "      <td>5</td>\n",
              "      <td>6</td>\n",
              "    </tr>\n",
              "    <tr>\n",
              "      <th>5</th>\n",
              "      <td>5</td>\n",
              "      <td>6</td>\n",
              "      <td>7</td>\n",
              "    </tr>\n",
              "  </tbody>\n",
              "</table>\n",
              "</div>"
            ],
            "text/plain": [
              "   A  B  C\n",
              "1  1  2  3\n",
              "2  2  3  4\n",
              "3  3  4  5\n",
              "4  4  5  6\n",
              "5  5  6  7"
            ]
          },
          "metadata": {
            "tags": []
          },
          "execution_count": 109
        }
      ]
    },
    {
      "cell_type": "code",
      "metadata": {
        "id": "H_iu1NSvmsOW",
        "colab_type": "code",
        "colab": {}
      },
      "source": [
        "# --- set_index()로 원본 데이터프레임 자체의 인덱스를 기존 열 'B'로 바꾼다.\n",
        "df.set_index('B', inplace=True)"
      ],
      "execution_count": null,
      "outputs": []
    },
    {
      "cell_type": "code",
      "metadata": {
        "id": "He4BCUOLmsOW",
        "colab_type": "code",
        "colab": {
          "base_uri": "https://localhost:8080/",
          "height": 235
        },
        "outputId": "8854222c-9d9d-40c4-80fb-d269cb776ff3"
      },
      "source": [
        "df  # 원본 데이터프레임이 바뀌었다."
      ],
      "execution_count": null,
      "outputs": [
        {
          "output_type": "execute_result",
          "data": {
            "text/html": [
              "<div>\n",
              "<style scoped>\n",
              "    .dataframe tbody tr th:only-of-type {\n",
              "        vertical-align: middle;\n",
              "    }\n",
              "\n",
              "    .dataframe tbody tr th {\n",
              "        vertical-align: top;\n",
              "    }\n",
              "\n",
              "    .dataframe thead th {\n",
              "        text-align: right;\n",
              "    }\n",
              "</style>\n",
              "<table border=\"1\" class=\"dataframe\">\n",
              "  <thead>\n",
              "    <tr style=\"text-align: right;\">\n",
              "      <th></th>\n",
              "      <th>A</th>\n",
              "      <th>C</th>\n",
              "    </tr>\n",
              "    <tr>\n",
              "      <th>B</th>\n",
              "      <th></th>\n",
              "      <th></th>\n",
              "    </tr>\n",
              "  </thead>\n",
              "  <tbody>\n",
              "    <tr>\n",
              "      <th>2</th>\n",
              "      <td>1</td>\n",
              "      <td>3</td>\n",
              "    </tr>\n",
              "    <tr>\n",
              "      <th>3</th>\n",
              "      <td>2</td>\n",
              "      <td>4</td>\n",
              "    </tr>\n",
              "    <tr>\n",
              "      <th>4</th>\n",
              "      <td>3</td>\n",
              "      <td>5</td>\n",
              "    </tr>\n",
              "    <tr>\n",
              "      <th>5</th>\n",
              "      <td>4</td>\n",
              "      <td>6</td>\n",
              "    </tr>\n",
              "    <tr>\n",
              "      <th>6</th>\n",
              "      <td>5</td>\n",
              "      <td>7</td>\n",
              "    </tr>\n",
              "  </tbody>\n",
              "</table>\n",
              "</div>"
            ],
            "text/plain": [
              "   A  C\n",
              "B      \n",
              "2  1  3\n",
              "3  2  4\n",
              "4  3  5\n",
              "5  4  6\n",
              "6  5  7"
            ]
          },
          "metadata": {
            "tags": []
          },
          "execution_count": 112
        }
      ]
    },
    {
      "cell_type": "markdown",
      "metadata": {
        "id": "OOB9hmdcmsOX",
        "colab_type": "text"
      },
      "source": [
        "# 데이터프레임 갱신"
      ]
    },
    {
      "cell_type": "code",
      "metadata": {
        "id": "HlOAzfTbmsOX",
        "colab_type": "code",
        "colab": {
          "base_uri": "https://localhost:8080/",
          "height": 359
        },
        "outputId": "45d21625-59b4-478c-b9c5-0ddce11eb4b8"
      },
      "source": [
        "n = 4, 0, 3, 0, 2, 5, 3, 0, 1, 2\n",
        "integers = 73, -29, 85, -32, 97, 11, 55, -78, 49, 61\n",
        "floats = 0.35,  0.12,  0.71, -0.09, -1.21, 1.32, -0.65, 0.34, -1.23, -0.79\n",
        "\n",
        "df = pandas.DataFrame({'A': integers,\n",
        "                       'B': floats,\n",
        "                       'C': n},\n",
        "                      index=list('abcdefghij'))\n",
        "df"
      ],
      "execution_count": null,
      "outputs": [
        {
          "output_type": "execute_result",
          "data": {
            "text/html": [
              "<div>\n",
              "<style scoped>\n",
              "    .dataframe tbody tr th:only-of-type {\n",
              "        vertical-align: middle;\n",
              "    }\n",
              "\n",
              "    .dataframe tbody tr th {\n",
              "        vertical-align: top;\n",
              "    }\n",
              "\n",
              "    .dataframe thead th {\n",
              "        text-align: right;\n",
              "    }\n",
              "</style>\n",
              "<table border=\"1\" class=\"dataframe\">\n",
              "  <thead>\n",
              "    <tr style=\"text-align: right;\">\n",
              "      <th></th>\n",
              "      <th>A</th>\n",
              "      <th>B</th>\n",
              "      <th>C</th>\n",
              "    </tr>\n",
              "  </thead>\n",
              "  <tbody>\n",
              "    <tr>\n",
              "      <th>a</th>\n",
              "      <td>73</td>\n",
              "      <td>0.35</td>\n",
              "      <td>4</td>\n",
              "    </tr>\n",
              "    <tr>\n",
              "      <th>b</th>\n",
              "      <td>-29</td>\n",
              "      <td>0.12</td>\n",
              "      <td>0</td>\n",
              "    </tr>\n",
              "    <tr>\n",
              "      <th>c</th>\n",
              "      <td>85</td>\n",
              "      <td>0.71</td>\n",
              "      <td>3</td>\n",
              "    </tr>\n",
              "    <tr>\n",
              "      <th>d</th>\n",
              "      <td>-32</td>\n",
              "      <td>-0.09</td>\n",
              "      <td>0</td>\n",
              "    </tr>\n",
              "    <tr>\n",
              "      <th>e</th>\n",
              "      <td>97</td>\n",
              "      <td>-1.21</td>\n",
              "      <td>2</td>\n",
              "    </tr>\n",
              "    <tr>\n",
              "      <th>f</th>\n",
              "      <td>11</td>\n",
              "      <td>1.32</td>\n",
              "      <td>5</td>\n",
              "    </tr>\n",
              "    <tr>\n",
              "      <th>g</th>\n",
              "      <td>55</td>\n",
              "      <td>-0.65</td>\n",
              "      <td>3</td>\n",
              "    </tr>\n",
              "    <tr>\n",
              "      <th>h</th>\n",
              "      <td>-78</td>\n",
              "      <td>0.34</td>\n",
              "      <td>0</td>\n",
              "    </tr>\n",
              "    <tr>\n",
              "      <th>i</th>\n",
              "      <td>49</td>\n",
              "      <td>-1.23</td>\n",
              "      <td>1</td>\n",
              "    </tr>\n",
              "    <tr>\n",
              "      <th>j</th>\n",
              "      <td>61</td>\n",
              "      <td>-0.79</td>\n",
              "      <td>2</td>\n",
              "    </tr>\n",
              "  </tbody>\n",
              "</table>\n",
              "</div>"
            ],
            "text/plain": [
              "    A     B  C\n",
              "a  73  0.35  4\n",
              "b -29  0.12  0\n",
              "c  85  0.71  3\n",
              "d -32 -0.09  0\n",
              "e  97 -1.21  2\n",
              "f  11  1.32  5\n",
              "g  55 -0.65  3\n",
              "h -78  0.34  0\n",
              "i  49 -1.23  1\n",
              "j  61 -0.79  2"
            ]
          },
          "metadata": {
            "tags": []
          },
          "execution_count": 122
        }
      ]
    },
    {
      "cell_type": "markdown",
      "metadata": {
        "id": "OqiiAFalmsOX",
        "colab_type": "text"
      },
      "source": [
        "**<font size='+2'>추가(insertion)</font>**"
      ]
    },
    {
      "cell_type": "markdown",
      "metadata": {
        "id": "6devNVYlmsOX",
        "colab_type": "text"
      },
      "source": [
        "새로운 열과 데이터 혹은 행 데이터를 추가할 수 있다."
      ]
    },
    {
      "cell_type": "markdown",
      "metadata": {
        "id": "jg9BzZl-msOX",
        "colab_type": "text"
      },
      "source": [
        "**<font size='+1'>행 추가</font>**\n",
        "\n",
        "**loc**을 사용하여 새로운 데이터를 추가할 수 있다. \n",
        "- DataFrame.**loc[인덱스]** = **데이터**\n",
        "- 이 때, **데이터**로\n",
        "    + pandas.**Series**, 리스트, 튜플 등 1차원 데이터, 혹은\n",
        "    + 숫자, 문자열 등 스칼라 값이 올 수 있다. "
      ]
    },
    {
      "cell_type": "code",
      "metadata": {
        "id": "wARTyiDRmsOY",
        "colab_type": "code",
        "colab": {
          "base_uri": "https://localhost:8080/",
          "height": 142
        },
        "outputId": "1bf6086e-bc3a-48ad-9389-9c10209759aa"
      },
      "source": [
        "# 인덱스가 'z'인 행 데이터 0, 0, 0을 추가한다.\n",
        "df.loc['z'] = [0] * 3 \n",
        "df.tail(3)"
      ],
      "execution_count": null,
      "outputs": [
        {
          "output_type": "execute_result",
          "data": {
            "text/html": [
              "<div>\n",
              "<style scoped>\n",
              "    .dataframe tbody tr th:only-of-type {\n",
              "        vertical-align: middle;\n",
              "    }\n",
              "\n",
              "    .dataframe tbody tr th {\n",
              "        vertical-align: top;\n",
              "    }\n",
              "\n",
              "    .dataframe thead th {\n",
              "        text-align: right;\n",
              "    }\n",
              "</style>\n",
              "<table border=\"1\" class=\"dataframe\">\n",
              "  <thead>\n",
              "    <tr style=\"text-align: right;\">\n",
              "      <th></th>\n",
              "      <th>A</th>\n",
              "      <th>B</th>\n",
              "      <th>C</th>\n",
              "    </tr>\n",
              "  </thead>\n",
              "  <tbody>\n",
              "    <tr>\n",
              "      <th>i</th>\n",
              "      <td>49</td>\n",
              "      <td>-1.23</td>\n",
              "      <td>1</td>\n",
              "    </tr>\n",
              "    <tr>\n",
              "      <th>j</th>\n",
              "      <td>61</td>\n",
              "      <td>-0.79</td>\n",
              "      <td>2</td>\n",
              "    </tr>\n",
              "    <tr>\n",
              "      <th>z</th>\n",
              "      <td>0</td>\n",
              "      <td>0.00</td>\n",
              "      <td>0</td>\n",
              "    </tr>\n",
              "  </tbody>\n",
              "</table>\n",
              "</div>"
            ],
            "text/plain": [
              "    A     B  C\n",
              "i  49 -1.23  1\n",
              "j  61 -0.79  2\n",
              "z   0  0.00  0"
            ]
          },
          "metadata": {
            "tags": []
          },
          "execution_count": 123
        }
      ]
    },
    {
      "cell_type": "markdown",
      "metadata": {
        "id": "m7dhlEFbmsOZ",
        "colab_type": "text"
      },
      "source": [
        "**<font size='+1'>열 추가</font>**\n",
        "\n",
        "다음과 같이 열을 추가할 수 있다.\n",
        "- DataFrame.**[열이름]** = **데이터**\n",
        "- 이 때, **데이터**로\n",
        "    + pandas.**Series**, 리스트, 튜플, 딕셔너리 등 1차원 데이터, 혹은\n",
        "    + 숫자, 문자열 등 스칼라 값이 올 수 있다. \n",
        "- **열이름**이 없으면, **데이터**로 **열이름**의 새로운 열을 추가한다. \n",
        "- **열이름**이 있으면, 해당 열의 값을 **데이터**로 갱신한다. "
      ]
    },
    {
      "cell_type": "code",
      "metadata": {
        "id": "abz0vkaBmsOa",
        "colab_type": "code",
        "colab": {
          "base_uri": "https://localhost:8080/",
          "height": 390
        },
        "outputId": "e8bb2490-63a3-44ef-af76-9ca78c2de2e1"
      },
      "source": [
        "# 1차원 데이터를 이용하여 열을 추가한다.\n",
        "df['D'] = list('AAABBb') + [numpy.nan] + list('CABD')\n",
        "df"
      ],
      "execution_count": null,
      "outputs": [
        {
          "output_type": "execute_result",
          "data": {
            "text/html": [
              "<div>\n",
              "<style scoped>\n",
              "    .dataframe tbody tr th:only-of-type {\n",
              "        vertical-align: middle;\n",
              "    }\n",
              "\n",
              "    .dataframe tbody tr th {\n",
              "        vertical-align: top;\n",
              "    }\n",
              "\n",
              "    .dataframe thead th {\n",
              "        text-align: right;\n",
              "    }\n",
              "</style>\n",
              "<table border=\"1\" class=\"dataframe\">\n",
              "  <thead>\n",
              "    <tr style=\"text-align: right;\">\n",
              "      <th></th>\n",
              "      <th>A</th>\n",
              "      <th>B</th>\n",
              "      <th>C</th>\n",
              "      <th>D</th>\n",
              "    </tr>\n",
              "  </thead>\n",
              "  <tbody>\n",
              "    <tr>\n",
              "      <th>a</th>\n",
              "      <td>73</td>\n",
              "      <td>0.35</td>\n",
              "      <td>4</td>\n",
              "      <td>A</td>\n",
              "    </tr>\n",
              "    <tr>\n",
              "      <th>b</th>\n",
              "      <td>-29</td>\n",
              "      <td>0.12</td>\n",
              "      <td>0</td>\n",
              "      <td>A</td>\n",
              "    </tr>\n",
              "    <tr>\n",
              "      <th>c</th>\n",
              "      <td>85</td>\n",
              "      <td>0.71</td>\n",
              "      <td>3</td>\n",
              "      <td>A</td>\n",
              "    </tr>\n",
              "    <tr>\n",
              "      <th>d</th>\n",
              "      <td>-32</td>\n",
              "      <td>-0.09</td>\n",
              "      <td>0</td>\n",
              "      <td>B</td>\n",
              "    </tr>\n",
              "    <tr>\n",
              "      <th>e</th>\n",
              "      <td>97</td>\n",
              "      <td>-1.21</td>\n",
              "      <td>2</td>\n",
              "      <td>B</td>\n",
              "    </tr>\n",
              "    <tr>\n",
              "      <th>f</th>\n",
              "      <td>11</td>\n",
              "      <td>1.32</td>\n",
              "      <td>5</td>\n",
              "      <td>b</td>\n",
              "    </tr>\n",
              "    <tr>\n",
              "      <th>g</th>\n",
              "      <td>55</td>\n",
              "      <td>-0.65</td>\n",
              "      <td>3</td>\n",
              "      <td>NaN</td>\n",
              "    </tr>\n",
              "    <tr>\n",
              "      <th>h</th>\n",
              "      <td>-78</td>\n",
              "      <td>0.34</td>\n",
              "      <td>0</td>\n",
              "      <td>C</td>\n",
              "    </tr>\n",
              "    <tr>\n",
              "      <th>i</th>\n",
              "      <td>49</td>\n",
              "      <td>-1.23</td>\n",
              "      <td>1</td>\n",
              "      <td>A</td>\n",
              "    </tr>\n",
              "    <tr>\n",
              "      <th>j</th>\n",
              "      <td>61</td>\n",
              "      <td>-0.79</td>\n",
              "      <td>2</td>\n",
              "      <td>B</td>\n",
              "    </tr>\n",
              "    <tr>\n",
              "      <th>z</th>\n",
              "      <td>0</td>\n",
              "      <td>0.00</td>\n",
              "      <td>0</td>\n",
              "      <td>D</td>\n",
              "    </tr>\n",
              "  </tbody>\n",
              "</table>\n",
              "</div>"
            ],
            "text/plain": [
              "    A     B  C    D\n",
              "a  73  0.35  4    A\n",
              "b -29  0.12  0    A\n",
              "c  85  0.71  3    A\n",
              "d -32 -0.09  0    B\n",
              "e  97 -1.21  2    B\n",
              "f  11  1.32  5    b\n",
              "g  55 -0.65  3  NaN\n",
              "h -78  0.34  0    C\n",
              "i  49 -1.23  1    A\n",
              "j  61 -0.79  2    B\n",
              "z   0  0.00  0    D"
            ]
          },
          "metadata": {
            "tags": []
          },
          "execution_count": 124
        }
      ]
    },
    {
      "cell_type": "code",
      "metadata": {
        "id": "CxuhqHX7msOb",
        "colab_type": "code",
        "colab": {
          "base_uri": "https://localhost:8080/",
          "height": 390
        },
        "outputId": "d9c8d34f-a09e-411b-95be-e9152883f0e2"
      },
      "source": [
        "# 1차원 데이터를 이용하여 열을 추가한다.\n",
        "df['E'] = pandas.Series(pandas.date_range('20500410', periods=len(df.index)),\n",
        "                        index=list('hijabcdefgz'))  # 기존 인덱스와 일치해야 한다.\n",
        "df\n",
        "\n",
        "# --- (참고) 만약 다음과 같이 딕셔너리로 만들어 추가하면 키만 추가되고 매핑값은 무시된다.\n",
        "# df['E'] = {\n",
        "#     '2050-04-15': 0,\n",
        "#     '2050-04-16': 1,\n",
        "#     '2050-04-17': 2,\n",
        "#     '2050-04-18': 3,\n",
        "#     '2050-04-19': 3,\n",
        "#     '2050-04-10': 3,\n",
        "#     '2050-04-11': 3,\n",
        "#     '2050-04-12': 3,\n",
        "#     '2050-04-13': 4,\n",
        "#     '2050-04-14': 5,\n",
        "#     '2050-04-20': 5\n",
        "# }"
      ],
      "execution_count": null,
      "outputs": [
        {
          "output_type": "execute_result",
          "data": {
            "text/html": [
              "<div>\n",
              "<style scoped>\n",
              "    .dataframe tbody tr th:only-of-type {\n",
              "        vertical-align: middle;\n",
              "    }\n",
              "\n",
              "    .dataframe tbody tr th {\n",
              "        vertical-align: top;\n",
              "    }\n",
              "\n",
              "    .dataframe thead th {\n",
              "        text-align: right;\n",
              "    }\n",
              "</style>\n",
              "<table border=\"1\" class=\"dataframe\">\n",
              "  <thead>\n",
              "    <tr style=\"text-align: right;\">\n",
              "      <th></th>\n",
              "      <th>A</th>\n",
              "      <th>B</th>\n",
              "      <th>C</th>\n",
              "      <th>D</th>\n",
              "      <th>E</th>\n",
              "    </tr>\n",
              "  </thead>\n",
              "  <tbody>\n",
              "    <tr>\n",
              "      <th>a</th>\n",
              "      <td>73</td>\n",
              "      <td>0.35</td>\n",
              "      <td>4</td>\n",
              "      <td>A</td>\n",
              "      <td>2050-04-13</td>\n",
              "    </tr>\n",
              "    <tr>\n",
              "      <th>b</th>\n",
              "      <td>-29</td>\n",
              "      <td>0.12</td>\n",
              "      <td>0</td>\n",
              "      <td>A</td>\n",
              "      <td>2050-04-14</td>\n",
              "    </tr>\n",
              "    <tr>\n",
              "      <th>c</th>\n",
              "      <td>85</td>\n",
              "      <td>0.71</td>\n",
              "      <td>3</td>\n",
              "      <td>A</td>\n",
              "      <td>2050-04-15</td>\n",
              "    </tr>\n",
              "    <tr>\n",
              "      <th>d</th>\n",
              "      <td>-32</td>\n",
              "      <td>-0.09</td>\n",
              "      <td>0</td>\n",
              "      <td>B</td>\n",
              "      <td>2050-04-16</td>\n",
              "    </tr>\n",
              "    <tr>\n",
              "      <th>e</th>\n",
              "      <td>97</td>\n",
              "      <td>-1.21</td>\n",
              "      <td>2</td>\n",
              "      <td>B</td>\n",
              "      <td>2050-04-17</td>\n",
              "    </tr>\n",
              "    <tr>\n",
              "      <th>f</th>\n",
              "      <td>11</td>\n",
              "      <td>1.32</td>\n",
              "      <td>5</td>\n",
              "      <td>b</td>\n",
              "      <td>2050-04-18</td>\n",
              "    </tr>\n",
              "    <tr>\n",
              "      <th>g</th>\n",
              "      <td>55</td>\n",
              "      <td>-0.65</td>\n",
              "      <td>3</td>\n",
              "      <td>NaN</td>\n",
              "      <td>2050-04-19</td>\n",
              "    </tr>\n",
              "    <tr>\n",
              "      <th>h</th>\n",
              "      <td>-78</td>\n",
              "      <td>0.34</td>\n",
              "      <td>0</td>\n",
              "      <td>C</td>\n",
              "      <td>2050-04-10</td>\n",
              "    </tr>\n",
              "    <tr>\n",
              "      <th>i</th>\n",
              "      <td>49</td>\n",
              "      <td>-1.23</td>\n",
              "      <td>1</td>\n",
              "      <td>A</td>\n",
              "      <td>2050-04-11</td>\n",
              "    </tr>\n",
              "    <tr>\n",
              "      <th>j</th>\n",
              "      <td>61</td>\n",
              "      <td>-0.79</td>\n",
              "      <td>2</td>\n",
              "      <td>B</td>\n",
              "      <td>2050-04-12</td>\n",
              "    </tr>\n",
              "    <tr>\n",
              "      <th>z</th>\n",
              "      <td>0</td>\n",
              "      <td>0.00</td>\n",
              "      <td>0</td>\n",
              "      <td>D</td>\n",
              "      <td>2050-04-20</td>\n",
              "    </tr>\n",
              "  </tbody>\n",
              "</table>\n",
              "</div>"
            ],
            "text/plain": [
              "    A     B  C    D          E\n",
              "a  73  0.35  4    A 2050-04-13\n",
              "b -29  0.12  0    A 2050-04-14\n",
              "c  85  0.71  3    A 2050-04-15\n",
              "d -32 -0.09  0    B 2050-04-16\n",
              "e  97 -1.21  2    B 2050-04-17\n",
              "f  11  1.32  5    b 2050-04-18\n",
              "g  55 -0.65  3  NaN 2050-04-19\n",
              "h -78  0.34  0    C 2050-04-10\n",
              "i  49 -1.23  1    A 2050-04-11\n",
              "j  61 -0.79  2    B 2050-04-12\n",
              "z   0  0.00  0    D 2050-04-20"
            ]
          },
          "metadata": {
            "tags": []
          },
          "execution_count": 125
        }
      ]
    },
    {
      "cell_type": "code",
      "metadata": {
        "id": "GTMdGuOWmsOc",
        "colab_type": "code",
        "colab": {
          "base_uri": "https://localhost:8080/",
          "height": 390
        },
        "outputId": "ad01ac88-6610-42dd-fa07-1e76804fd711"
      },
      "source": [
        "# 스칼라 값으로 열을 추가한다. \n",
        "df['F'] = '파이썬'\n",
        "df"
      ],
      "execution_count": null,
      "outputs": [
        {
          "output_type": "execute_result",
          "data": {
            "text/html": [
              "<div>\n",
              "<style scoped>\n",
              "    .dataframe tbody tr th:only-of-type {\n",
              "        vertical-align: middle;\n",
              "    }\n",
              "\n",
              "    .dataframe tbody tr th {\n",
              "        vertical-align: top;\n",
              "    }\n",
              "\n",
              "    .dataframe thead th {\n",
              "        text-align: right;\n",
              "    }\n",
              "</style>\n",
              "<table border=\"1\" class=\"dataframe\">\n",
              "  <thead>\n",
              "    <tr style=\"text-align: right;\">\n",
              "      <th></th>\n",
              "      <th>A</th>\n",
              "      <th>B</th>\n",
              "      <th>C</th>\n",
              "      <th>D</th>\n",
              "      <th>E</th>\n",
              "      <th>F</th>\n",
              "    </tr>\n",
              "  </thead>\n",
              "  <tbody>\n",
              "    <tr>\n",
              "      <th>a</th>\n",
              "      <td>73</td>\n",
              "      <td>0.35</td>\n",
              "      <td>4</td>\n",
              "      <td>A</td>\n",
              "      <td>2050-04-13</td>\n",
              "      <td>파이썬</td>\n",
              "    </tr>\n",
              "    <tr>\n",
              "      <th>b</th>\n",
              "      <td>-29</td>\n",
              "      <td>0.12</td>\n",
              "      <td>0</td>\n",
              "      <td>A</td>\n",
              "      <td>2050-04-14</td>\n",
              "      <td>파이썬</td>\n",
              "    </tr>\n",
              "    <tr>\n",
              "      <th>c</th>\n",
              "      <td>85</td>\n",
              "      <td>0.71</td>\n",
              "      <td>3</td>\n",
              "      <td>A</td>\n",
              "      <td>2050-04-15</td>\n",
              "      <td>파이썬</td>\n",
              "    </tr>\n",
              "    <tr>\n",
              "      <th>d</th>\n",
              "      <td>-32</td>\n",
              "      <td>-0.09</td>\n",
              "      <td>0</td>\n",
              "      <td>B</td>\n",
              "      <td>2050-04-16</td>\n",
              "      <td>파이썬</td>\n",
              "    </tr>\n",
              "    <tr>\n",
              "      <th>e</th>\n",
              "      <td>97</td>\n",
              "      <td>-1.21</td>\n",
              "      <td>2</td>\n",
              "      <td>B</td>\n",
              "      <td>2050-04-17</td>\n",
              "      <td>파이썬</td>\n",
              "    </tr>\n",
              "    <tr>\n",
              "      <th>f</th>\n",
              "      <td>11</td>\n",
              "      <td>1.32</td>\n",
              "      <td>5</td>\n",
              "      <td>b</td>\n",
              "      <td>2050-04-18</td>\n",
              "      <td>파이썬</td>\n",
              "    </tr>\n",
              "    <tr>\n",
              "      <th>g</th>\n",
              "      <td>55</td>\n",
              "      <td>-0.65</td>\n",
              "      <td>3</td>\n",
              "      <td>NaN</td>\n",
              "      <td>2050-04-19</td>\n",
              "      <td>파이썬</td>\n",
              "    </tr>\n",
              "    <tr>\n",
              "      <th>h</th>\n",
              "      <td>-78</td>\n",
              "      <td>0.34</td>\n",
              "      <td>0</td>\n",
              "      <td>C</td>\n",
              "      <td>2050-04-10</td>\n",
              "      <td>파이썬</td>\n",
              "    </tr>\n",
              "    <tr>\n",
              "      <th>i</th>\n",
              "      <td>49</td>\n",
              "      <td>-1.23</td>\n",
              "      <td>1</td>\n",
              "      <td>A</td>\n",
              "      <td>2050-04-11</td>\n",
              "      <td>파이썬</td>\n",
              "    </tr>\n",
              "    <tr>\n",
              "      <th>j</th>\n",
              "      <td>61</td>\n",
              "      <td>-0.79</td>\n",
              "      <td>2</td>\n",
              "      <td>B</td>\n",
              "      <td>2050-04-12</td>\n",
              "      <td>파이썬</td>\n",
              "    </tr>\n",
              "    <tr>\n",
              "      <th>z</th>\n",
              "      <td>0</td>\n",
              "      <td>0.00</td>\n",
              "      <td>0</td>\n",
              "      <td>D</td>\n",
              "      <td>2050-04-20</td>\n",
              "      <td>파이썬</td>\n",
              "    </tr>\n",
              "  </tbody>\n",
              "</table>\n",
              "</div>"
            ],
            "text/plain": [
              "    A     B  C    D          E    F\n",
              "a  73  0.35  4    A 2050-04-13  파이썬\n",
              "b -29  0.12  0    A 2050-04-14  파이썬\n",
              "c  85  0.71  3    A 2050-04-15  파이썬\n",
              "d -32 -0.09  0    B 2050-04-16  파이썬\n",
              "e  97 -1.21  2    B 2050-04-17  파이썬\n",
              "f  11  1.32  5    b 2050-04-18  파이썬\n",
              "g  55 -0.65  3  NaN 2050-04-19  파이썬\n",
              "h -78  0.34  0    C 2050-04-10  파이썬\n",
              "i  49 -1.23  1    A 2050-04-11  파이썬\n",
              "j  61 -0.79  2    B 2050-04-12  파이썬\n",
              "z   0  0.00  0    D 2050-04-20  파이썬"
            ]
          },
          "metadata": {
            "tags": []
          },
          "execution_count": 126
        }
      ]
    },
    {
      "cell_type": "code",
      "metadata": {
        "id": "k5Zbd8-SmsOe",
        "colab_type": "code",
        "colab": {
          "base_uri": "https://localhost:8080/",
          "height": 390
        },
        "outputId": "1c1c8baa-e0eb-46a9-cb54-d0c200bd524b"
      },
      "source": [
        "# 두 개 열의 값을 사용하여 새로운 열을 추가한다.\n",
        "# G = A / ((B / 10) ^ 2)\n",
        "df['G'] = df.A / (df['B'] / 10) ** 2\n",
        "df"
      ],
      "execution_count": null,
      "outputs": [
        {
          "output_type": "execute_result",
          "data": {
            "text/html": [
              "<div>\n",
              "<style scoped>\n",
              "    .dataframe tbody tr th:only-of-type {\n",
              "        vertical-align: middle;\n",
              "    }\n",
              "\n",
              "    .dataframe tbody tr th {\n",
              "        vertical-align: top;\n",
              "    }\n",
              "\n",
              "    .dataframe thead th {\n",
              "        text-align: right;\n",
              "    }\n",
              "</style>\n",
              "<table border=\"1\" class=\"dataframe\">\n",
              "  <thead>\n",
              "    <tr style=\"text-align: right;\">\n",
              "      <th></th>\n",
              "      <th>A</th>\n",
              "      <th>B</th>\n",
              "      <th>C</th>\n",
              "      <th>D</th>\n",
              "      <th>E</th>\n",
              "      <th>F</th>\n",
              "      <th>G</th>\n",
              "    </tr>\n",
              "  </thead>\n",
              "  <tbody>\n",
              "    <tr>\n",
              "      <th>a</th>\n",
              "      <td>73</td>\n",
              "      <td>0.35</td>\n",
              "      <td>4</td>\n",
              "      <td>A</td>\n",
              "      <td>2050-04-13</td>\n",
              "      <td>파이썬</td>\n",
              "      <td>59591.836735</td>\n",
              "    </tr>\n",
              "    <tr>\n",
              "      <th>b</th>\n",
              "      <td>-29</td>\n",
              "      <td>0.12</td>\n",
              "      <td>0</td>\n",
              "      <td>A</td>\n",
              "      <td>2050-04-14</td>\n",
              "      <td>파이썬</td>\n",
              "      <td>-201388.888889</td>\n",
              "    </tr>\n",
              "    <tr>\n",
              "      <th>c</th>\n",
              "      <td>85</td>\n",
              "      <td>0.71</td>\n",
              "      <td>3</td>\n",
              "      <td>A</td>\n",
              "      <td>2050-04-15</td>\n",
              "      <td>파이썬</td>\n",
              "      <td>16861.733783</td>\n",
              "    </tr>\n",
              "    <tr>\n",
              "      <th>d</th>\n",
              "      <td>-32</td>\n",
              "      <td>-0.09</td>\n",
              "      <td>0</td>\n",
              "      <td>B</td>\n",
              "      <td>2050-04-16</td>\n",
              "      <td>파이썬</td>\n",
              "      <td>-395061.728395</td>\n",
              "    </tr>\n",
              "    <tr>\n",
              "      <th>e</th>\n",
              "      <td>97</td>\n",
              "      <td>-1.21</td>\n",
              "      <td>2</td>\n",
              "      <td>B</td>\n",
              "      <td>2050-04-17</td>\n",
              "      <td>파이썬</td>\n",
              "      <td>6625.230517</td>\n",
              "    </tr>\n",
              "    <tr>\n",
              "      <th>f</th>\n",
              "      <td>11</td>\n",
              "      <td>1.32</td>\n",
              "      <td>5</td>\n",
              "      <td>b</td>\n",
              "      <td>2050-04-18</td>\n",
              "      <td>파이썬</td>\n",
              "      <td>631.313131</td>\n",
              "    </tr>\n",
              "    <tr>\n",
              "      <th>g</th>\n",
              "      <td>55</td>\n",
              "      <td>-0.65</td>\n",
              "      <td>3</td>\n",
              "      <td>NaN</td>\n",
              "      <td>2050-04-19</td>\n",
              "      <td>파이썬</td>\n",
              "      <td>13017.751479</td>\n",
              "    </tr>\n",
              "    <tr>\n",
              "      <th>h</th>\n",
              "      <td>-78</td>\n",
              "      <td>0.34</td>\n",
              "      <td>0</td>\n",
              "      <td>C</td>\n",
              "      <td>2050-04-10</td>\n",
              "      <td>파이썬</td>\n",
              "      <td>-67474.048443</td>\n",
              "    </tr>\n",
              "    <tr>\n",
              "      <th>i</th>\n",
              "      <td>49</td>\n",
              "      <td>-1.23</td>\n",
              "      <td>1</td>\n",
              "      <td>A</td>\n",
              "      <td>2050-04-11</td>\n",
              "      <td>파이썬</td>\n",
              "      <td>3238.812876</td>\n",
              "    </tr>\n",
              "    <tr>\n",
              "      <th>j</th>\n",
              "      <td>61</td>\n",
              "      <td>-0.79</td>\n",
              "      <td>2</td>\n",
              "      <td>B</td>\n",
              "      <td>2050-04-12</td>\n",
              "      <td>파이썬</td>\n",
              "      <td>9774.074668</td>\n",
              "    </tr>\n",
              "    <tr>\n",
              "      <th>z</th>\n",
              "      <td>0</td>\n",
              "      <td>0.00</td>\n",
              "      <td>0</td>\n",
              "      <td>D</td>\n",
              "      <td>2050-04-20</td>\n",
              "      <td>파이썬</td>\n",
              "      <td>NaN</td>\n",
              "    </tr>\n",
              "  </tbody>\n",
              "</table>\n",
              "</div>"
            ],
            "text/plain": [
              "    A     B  C    D          E    F              G\n",
              "a  73  0.35  4    A 2050-04-13  파이썬   59591.836735\n",
              "b -29  0.12  0    A 2050-04-14  파이썬 -201388.888889\n",
              "c  85  0.71  3    A 2050-04-15  파이썬   16861.733783\n",
              "d -32 -0.09  0    B 2050-04-16  파이썬 -395061.728395\n",
              "e  97 -1.21  2    B 2050-04-17  파이썬    6625.230517\n",
              "f  11  1.32  5    b 2050-04-18  파이썬     631.313131\n",
              "g  55 -0.65  3  NaN 2050-04-19  파이썬   13017.751479\n",
              "h -78  0.34  0    C 2050-04-10  파이썬  -67474.048443\n",
              "i  49 -1.23  1    A 2050-04-11  파이썬    3238.812876\n",
              "j  61 -0.79  2    B 2050-04-12  파이썬    9774.074668\n",
              "z   0  0.00  0    D 2050-04-20  파이썬            NaN"
            ]
          },
          "metadata": {
            "tags": []
          },
          "execution_count": 127
        }
      ]
    },
    {
      "cell_type": "code",
      "metadata": {
        "id": "5F5QNicnmsOh",
        "colab_type": "code",
        "colab": {
          "base_uri": "https://localhost:8080/",
          "height": 390
        },
        "outputId": "68f6d6d4-1e18-402a-f176-561bc695507d"
      },
      "source": [
        "# 'B' 열의 값이 0보다 크면 True, 0.0 또는 음수면 False를 값으로 갖는 열을 추가한다.\n",
        "df['Positive'] = df.B > 0\n",
        "df"
      ],
      "execution_count": null,
      "outputs": [
        {
          "output_type": "execute_result",
          "data": {
            "text/html": [
              "<div>\n",
              "<style scoped>\n",
              "    .dataframe tbody tr th:only-of-type {\n",
              "        vertical-align: middle;\n",
              "    }\n",
              "\n",
              "    .dataframe tbody tr th {\n",
              "        vertical-align: top;\n",
              "    }\n",
              "\n",
              "    .dataframe thead th {\n",
              "        text-align: right;\n",
              "    }\n",
              "</style>\n",
              "<table border=\"1\" class=\"dataframe\">\n",
              "  <thead>\n",
              "    <tr style=\"text-align: right;\">\n",
              "      <th></th>\n",
              "      <th>A</th>\n",
              "      <th>B</th>\n",
              "      <th>C</th>\n",
              "      <th>D</th>\n",
              "      <th>E</th>\n",
              "      <th>F</th>\n",
              "      <th>G</th>\n",
              "      <th>Positive</th>\n",
              "    </tr>\n",
              "  </thead>\n",
              "  <tbody>\n",
              "    <tr>\n",
              "      <th>a</th>\n",
              "      <td>73</td>\n",
              "      <td>0.35</td>\n",
              "      <td>4</td>\n",
              "      <td>A</td>\n",
              "      <td>2050-04-13</td>\n",
              "      <td>파이썬</td>\n",
              "      <td>59591.836735</td>\n",
              "      <td>True</td>\n",
              "    </tr>\n",
              "    <tr>\n",
              "      <th>b</th>\n",
              "      <td>-29</td>\n",
              "      <td>0.12</td>\n",
              "      <td>0</td>\n",
              "      <td>A</td>\n",
              "      <td>2050-04-14</td>\n",
              "      <td>파이썬</td>\n",
              "      <td>-201388.888889</td>\n",
              "      <td>True</td>\n",
              "    </tr>\n",
              "    <tr>\n",
              "      <th>c</th>\n",
              "      <td>85</td>\n",
              "      <td>0.71</td>\n",
              "      <td>3</td>\n",
              "      <td>A</td>\n",
              "      <td>2050-04-15</td>\n",
              "      <td>파이썬</td>\n",
              "      <td>16861.733783</td>\n",
              "      <td>True</td>\n",
              "    </tr>\n",
              "    <tr>\n",
              "      <th>d</th>\n",
              "      <td>-32</td>\n",
              "      <td>-0.09</td>\n",
              "      <td>0</td>\n",
              "      <td>B</td>\n",
              "      <td>2050-04-16</td>\n",
              "      <td>파이썬</td>\n",
              "      <td>-395061.728395</td>\n",
              "      <td>False</td>\n",
              "    </tr>\n",
              "    <tr>\n",
              "      <th>e</th>\n",
              "      <td>97</td>\n",
              "      <td>-1.21</td>\n",
              "      <td>2</td>\n",
              "      <td>B</td>\n",
              "      <td>2050-04-17</td>\n",
              "      <td>파이썬</td>\n",
              "      <td>6625.230517</td>\n",
              "      <td>False</td>\n",
              "    </tr>\n",
              "    <tr>\n",
              "      <th>f</th>\n",
              "      <td>11</td>\n",
              "      <td>1.32</td>\n",
              "      <td>5</td>\n",
              "      <td>b</td>\n",
              "      <td>2050-04-18</td>\n",
              "      <td>파이썬</td>\n",
              "      <td>631.313131</td>\n",
              "      <td>True</td>\n",
              "    </tr>\n",
              "    <tr>\n",
              "      <th>g</th>\n",
              "      <td>55</td>\n",
              "      <td>-0.65</td>\n",
              "      <td>3</td>\n",
              "      <td>NaN</td>\n",
              "      <td>2050-04-19</td>\n",
              "      <td>파이썬</td>\n",
              "      <td>13017.751479</td>\n",
              "      <td>False</td>\n",
              "    </tr>\n",
              "    <tr>\n",
              "      <th>h</th>\n",
              "      <td>-78</td>\n",
              "      <td>0.34</td>\n",
              "      <td>0</td>\n",
              "      <td>C</td>\n",
              "      <td>2050-04-10</td>\n",
              "      <td>파이썬</td>\n",
              "      <td>-67474.048443</td>\n",
              "      <td>True</td>\n",
              "    </tr>\n",
              "    <tr>\n",
              "      <th>i</th>\n",
              "      <td>49</td>\n",
              "      <td>-1.23</td>\n",
              "      <td>1</td>\n",
              "      <td>A</td>\n",
              "      <td>2050-04-11</td>\n",
              "      <td>파이썬</td>\n",
              "      <td>3238.812876</td>\n",
              "      <td>False</td>\n",
              "    </tr>\n",
              "    <tr>\n",
              "      <th>j</th>\n",
              "      <td>61</td>\n",
              "      <td>-0.79</td>\n",
              "      <td>2</td>\n",
              "      <td>B</td>\n",
              "      <td>2050-04-12</td>\n",
              "      <td>파이썬</td>\n",
              "      <td>9774.074668</td>\n",
              "      <td>False</td>\n",
              "    </tr>\n",
              "    <tr>\n",
              "      <th>z</th>\n",
              "      <td>0</td>\n",
              "      <td>0.00</td>\n",
              "      <td>0</td>\n",
              "      <td>D</td>\n",
              "      <td>2050-04-20</td>\n",
              "      <td>파이썬</td>\n",
              "      <td>NaN</td>\n",
              "      <td>False</td>\n",
              "    </tr>\n",
              "  </tbody>\n",
              "</table>\n",
              "</div>"
            ],
            "text/plain": [
              "    A     B  C    D          E    F              G  Positive\n",
              "a  73  0.35  4    A 2050-04-13  파이썬   59591.836735      True\n",
              "b -29  0.12  0    A 2050-04-14  파이썬 -201388.888889      True\n",
              "c  85  0.71  3    A 2050-04-15  파이썬   16861.733783      True\n",
              "d -32 -0.09  0    B 2050-04-16  파이썬 -395061.728395     False\n",
              "e  97 -1.21  2    B 2050-04-17  파이썬    6625.230517     False\n",
              "f  11  1.32  5    b 2050-04-18  파이썬     631.313131      True\n",
              "g  55 -0.65  3  NaN 2050-04-19  파이썬   13017.751479     False\n",
              "h -78  0.34  0    C 2050-04-10  파이썬  -67474.048443      True\n",
              "i  49 -1.23  1    A 2050-04-11  파이썬    3238.812876     False\n",
              "j  61 -0.79  2    B 2050-04-12  파이썬    9774.074668     False\n",
              "z   0  0.00  0    D 2050-04-20  파이썬            NaN     False"
            ]
          },
          "metadata": {
            "tags": []
          },
          "execution_count": 128
        }
      ]
    },
    {
      "cell_type": "markdown",
      "metadata": {
        "id": "ZhYjO5_ymsOi",
        "colab_type": "text"
      },
      "source": [
        "**<font size='+1'>갱신(update)</font>**"
      ]
    },
    {
      "cell_type": "markdown",
      "metadata": {
        "id": "3UxvMQl8msOi",
        "colab_type": "text"
      },
      "source": [
        "**<font size='+1'>셀 데이터 갱신</font>**\n",
        "- **at** 혹은 **iat**을 사용해서 특정 셀의 값을 갱신할 수 있다.\n",
        "    + DataFrame.**at[인덱스, 열이름]** = 데이터\n",
        "    + DataFrame.**iat[행번호, 열번호]** = 데이터"
      ]
    },
    {
      "cell_type": "code",
      "metadata": {
        "id": "MbE2rkDLmsOi",
        "colab_type": "code",
        "colab": {
          "base_uri": "https://localhost:8080/",
          "height": 390
        },
        "outputId": "393e18ac-2719-48cb-a2c4-14acfc332bac"
      },
      "source": [
        "df"
      ],
      "execution_count": null,
      "outputs": [
        {
          "output_type": "execute_result",
          "data": {
            "text/html": [
              "<div>\n",
              "<style scoped>\n",
              "    .dataframe tbody tr th:only-of-type {\n",
              "        vertical-align: middle;\n",
              "    }\n",
              "\n",
              "    .dataframe tbody tr th {\n",
              "        vertical-align: top;\n",
              "    }\n",
              "\n",
              "    .dataframe thead th {\n",
              "        text-align: right;\n",
              "    }\n",
              "</style>\n",
              "<table border=\"1\" class=\"dataframe\">\n",
              "  <thead>\n",
              "    <tr style=\"text-align: right;\">\n",
              "      <th></th>\n",
              "      <th>A</th>\n",
              "      <th>B</th>\n",
              "      <th>C</th>\n",
              "      <th>D</th>\n",
              "      <th>E</th>\n",
              "      <th>F</th>\n",
              "      <th>G</th>\n",
              "      <th>Positive</th>\n",
              "    </tr>\n",
              "  </thead>\n",
              "  <tbody>\n",
              "    <tr>\n",
              "      <th>a</th>\n",
              "      <td>73</td>\n",
              "      <td>0.35</td>\n",
              "      <td>4</td>\n",
              "      <td>A</td>\n",
              "      <td>2050-04-13</td>\n",
              "      <td>파이썬</td>\n",
              "      <td>59591.836735</td>\n",
              "      <td>True</td>\n",
              "    </tr>\n",
              "    <tr>\n",
              "      <th>b</th>\n",
              "      <td>-29</td>\n",
              "      <td>0.12</td>\n",
              "      <td>0</td>\n",
              "      <td>A</td>\n",
              "      <td>2050-04-14</td>\n",
              "      <td>파이썬</td>\n",
              "      <td>-201388.888889</td>\n",
              "      <td>True</td>\n",
              "    </tr>\n",
              "    <tr>\n",
              "      <th>c</th>\n",
              "      <td>85</td>\n",
              "      <td>0.71</td>\n",
              "      <td>3</td>\n",
              "      <td>A</td>\n",
              "      <td>2050-04-15</td>\n",
              "      <td>파이썬</td>\n",
              "      <td>16861.733783</td>\n",
              "      <td>True</td>\n",
              "    </tr>\n",
              "    <tr>\n",
              "      <th>d</th>\n",
              "      <td>-32</td>\n",
              "      <td>-0.09</td>\n",
              "      <td>0</td>\n",
              "      <td>B</td>\n",
              "      <td>2050-04-16</td>\n",
              "      <td>파이썬</td>\n",
              "      <td>-395061.728395</td>\n",
              "      <td>False</td>\n",
              "    </tr>\n",
              "    <tr>\n",
              "      <th>e</th>\n",
              "      <td>97</td>\n",
              "      <td>-1.21</td>\n",
              "      <td>2</td>\n",
              "      <td>B</td>\n",
              "      <td>2050-04-17</td>\n",
              "      <td>파이썬</td>\n",
              "      <td>6625.230517</td>\n",
              "      <td>False</td>\n",
              "    </tr>\n",
              "    <tr>\n",
              "      <th>f</th>\n",
              "      <td>11</td>\n",
              "      <td>1.32</td>\n",
              "      <td>5</td>\n",
              "      <td>b</td>\n",
              "      <td>2050-04-18</td>\n",
              "      <td>파이썬</td>\n",
              "      <td>631.313131</td>\n",
              "      <td>True</td>\n",
              "    </tr>\n",
              "    <tr>\n",
              "      <th>g</th>\n",
              "      <td>55</td>\n",
              "      <td>-0.65</td>\n",
              "      <td>3</td>\n",
              "      <td>NaN</td>\n",
              "      <td>2050-04-19</td>\n",
              "      <td>파이썬</td>\n",
              "      <td>13017.751479</td>\n",
              "      <td>False</td>\n",
              "    </tr>\n",
              "    <tr>\n",
              "      <th>h</th>\n",
              "      <td>-78</td>\n",
              "      <td>0.34</td>\n",
              "      <td>0</td>\n",
              "      <td>C</td>\n",
              "      <td>2050-04-10</td>\n",
              "      <td>파이썬</td>\n",
              "      <td>-67474.048443</td>\n",
              "      <td>True</td>\n",
              "    </tr>\n",
              "    <tr>\n",
              "      <th>i</th>\n",
              "      <td>49</td>\n",
              "      <td>-1.23</td>\n",
              "      <td>1</td>\n",
              "      <td>A</td>\n",
              "      <td>2050-04-11</td>\n",
              "      <td>파이썬</td>\n",
              "      <td>3238.812876</td>\n",
              "      <td>False</td>\n",
              "    </tr>\n",
              "    <tr>\n",
              "      <th>j</th>\n",
              "      <td>61</td>\n",
              "      <td>-0.79</td>\n",
              "      <td>2</td>\n",
              "      <td>B</td>\n",
              "      <td>2050-04-12</td>\n",
              "      <td>파이썬</td>\n",
              "      <td>9774.074668</td>\n",
              "      <td>False</td>\n",
              "    </tr>\n",
              "    <tr>\n",
              "      <th>z</th>\n",
              "      <td>0</td>\n",
              "      <td>0.00</td>\n",
              "      <td>0</td>\n",
              "      <td>D</td>\n",
              "      <td>2050-04-20</td>\n",
              "      <td>파이썬</td>\n",
              "      <td>NaN</td>\n",
              "      <td>False</td>\n",
              "    </tr>\n",
              "  </tbody>\n",
              "</table>\n",
              "</div>"
            ],
            "text/plain": [
              "    A     B  C    D          E    F              G  Positive\n",
              "a  73  0.35  4    A 2050-04-13  파이썬   59591.836735      True\n",
              "b -29  0.12  0    A 2050-04-14  파이썬 -201388.888889      True\n",
              "c  85  0.71  3    A 2050-04-15  파이썬   16861.733783      True\n",
              "d -32 -0.09  0    B 2050-04-16  파이썬 -395061.728395     False\n",
              "e  97 -1.21  2    B 2050-04-17  파이썬    6625.230517     False\n",
              "f  11  1.32  5    b 2050-04-18  파이썬     631.313131      True\n",
              "g  55 -0.65  3  NaN 2050-04-19  파이썬   13017.751479     False\n",
              "h -78  0.34  0    C 2050-04-10  파이썬  -67474.048443      True\n",
              "i  49 -1.23  1    A 2050-04-11  파이썬    3238.812876     False\n",
              "j  61 -0.79  2    B 2050-04-12  파이썬    9774.074668     False\n",
              "z   0  0.00  0    D 2050-04-20  파이썬            NaN     False"
            ]
          },
          "metadata": {
            "tags": []
          },
          "execution_count": 129
        }
      ]
    },
    {
      "cell_type": "code",
      "metadata": {
        "id": "bjNzzD1lmsOk",
        "colab_type": "code",
        "colab": {
          "base_uri": "https://localhost:8080/",
          "height": 111
        },
        "outputId": "97e140de-d401-4eec-91b8-a9ab6506aaec"
      },
      "source": [
        "# --- Update value by label\n",
        "# 인덱스와 컬럼 이름으로 셀 값을 갱신한다.\n",
        "# 인덱스 'z'의 'C' 열을 값을 -1로 갱신한다.\n",
        "df.at['z', 'C'] = -1\n",
        "\n",
        "# --- Update value by position\n",
        "# 행과 열 위치로 셀 값을 갱신한다.\n",
        "# 마지막 행의 두 번째 열의 값을 -1.0으로 갱신한다.\n",
        "df.iat[-1, 1] = -1.0\n",
        "\n",
        "# 결과를 확인한다.\n",
        "df.tail(2)"
      ],
      "execution_count": null,
      "outputs": [
        {
          "output_type": "execute_result",
          "data": {
            "text/html": [
              "<div>\n",
              "<style scoped>\n",
              "    .dataframe tbody tr th:only-of-type {\n",
              "        vertical-align: middle;\n",
              "    }\n",
              "\n",
              "    .dataframe tbody tr th {\n",
              "        vertical-align: top;\n",
              "    }\n",
              "\n",
              "    .dataframe thead th {\n",
              "        text-align: right;\n",
              "    }\n",
              "</style>\n",
              "<table border=\"1\" class=\"dataframe\">\n",
              "  <thead>\n",
              "    <tr style=\"text-align: right;\">\n",
              "      <th></th>\n",
              "      <th>A</th>\n",
              "      <th>B</th>\n",
              "      <th>C</th>\n",
              "      <th>D</th>\n",
              "      <th>E</th>\n",
              "      <th>F</th>\n",
              "      <th>G</th>\n",
              "      <th>Positive</th>\n",
              "    </tr>\n",
              "  </thead>\n",
              "  <tbody>\n",
              "    <tr>\n",
              "      <th>j</th>\n",
              "      <td>61</td>\n",
              "      <td>-0.79</td>\n",
              "      <td>2</td>\n",
              "      <td>B</td>\n",
              "      <td>2050-04-12</td>\n",
              "      <td>파이썬</td>\n",
              "      <td>9774.074668</td>\n",
              "      <td>False</td>\n",
              "    </tr>\n",
              "    <tr>\n",
              "      <th>z</th>\n",
              "      <td>0</td>\n",
              "      <td>-1.00</td>\n",
              "      <td>-1</td>\n",
              "      <td>D</td>\n",
              "      <td>2050-04-20</td>\n",
              "      <td>파이썬</td>\n",
              "      <td>NaN</td>\n",
              "      <td>False</td>\n",
              "    </tr>\n",
              "  </tbody>\n",
              "</table>\n",
              "</div>"
            ],
            "text/plain": [
              "    A     B  C  D          E    F            G  Positive\n",
              "j  61 -0.79  2  B 2050-04-12  파이썬  9774.074668     False\n",
              "z   0 -1.00 -1  D 2050-04-20  파이썬          NaN     False"
            ]
          },
          "metadata": {
            "tags": []
          },
          "execution_count": 130
        }
      ]
    },
    {
      "cell_type": "markdown",
      "metadata": {
        "id": "VA3A8t1vmsOl",
        "colab_type": "text"
      },
      "source": [
        "**<font size='+1'>행/열 데이터 갱신</font>**\n",
        "- **loc** 혹은 **iloc**을 사용하여 특정 행/열의 일부 또는 모든 값을 갱신할 수 있다."
      ]
    },
    {
      "cell_type": "code",
      "metadata": {
        "id": "M0l_w1YvmsOl",
        "colab_type": "code",
        "colab": {
          "base_uri": "https://localhost:8080/",
          "height": 390
        },
        "outputId": "b01f0937-3047-4d51-d385-de1f8d94130b"
      },
      "source": [
        "df  "
      ],
      "execution_count": null,
      "outputs": [
        {
          "output_type": "execute_result",
          "data": {
            "text/html": [
              "<div>\n",
              "<style scoped>\n",
              "    .dataframe tbody tr th:only-of-type {\n",
              "        vertical-align: middle;\n",
              "    }\n",
              "\n",
              "    .dataframe tbody tr th {\n",
              "        vertical-align: top;\n",
              "    }\n",
              "\n",
              "    .dataframe thead th {\n",
              "        text-align: right;\n",
              "    }\n",
              "</style>\n",
              "<table border=\"1\" class=\"dataframe\">\n",
              "  <thead>\n",
              "    <tr style=\"text-align: right;\">\n",
              "      <th></th>\n",
              "      <th>A</th>\n",
              "      <th>B</th>\n",
              "      <th>C</th>\n",
              "      <th>D</th>\n",
              "      <th>E</th>\n",
              "      <th>F</th>\n",
              "      <th>G</th>\n",
              "      <th>Positive</th>\n",
              "    </tr>\n",
              "  </thead>\n",
              "  <tbody>\n",
              "    <tr>\n",
              "      <th>a</th>\n",
              "      <td>73</td>\n",
              "      <td>0.35</td>\n",
              "      <td>4</td>\n",
              "      <td>A</td>\n",
              "      <td>2050-04-13</td>\n",
              "      <td>파이썬</td>\n",
              "      <td>59591.836735</td>\n",
              "      <td>True</td>\n",
              "    </tr>\n",
              "    <tr>\n",
              "      <th>b</th>\n",
              "      <td>-29</td>\n",
              "      <td>0.12</td>\n",
              "      <td>0</td>\n",
              "      <td>A</td>\n",
              "      <td>2050-04-14</td>\n",
              "      <td>파이썬</td>\n",
              "      <td>-201388.888889</td>\n",
              "      <td>True</td>\n",
              "    </tr>\n",
              "    <tr>\n",
              "      <th>c</th>\n",
              "      <td>85</td>\n",
              "      <td>0.71</td>\n",
              "      <td>3</td>\n",
              "      <td>A</td>\n",
              "      <td>2050-04-15</td>\n",
              "      <td>파이썬</td>\n",
              "      <td>16861.733783</td>\n",
              "      <td>True</td>\n",
              "    </tr>\n",
              "    <tr>\n",
              "      <th>d</th>\n",
              "      <td>-32</td>\n",
              "      <td>-0.09</td>\n",
              "      <td>0</td>\n",
              "      <td>B</td>\n",
              "      <td>2050-04-16</td>\n",
              "      <td>파이썬</td>\n",
              "      <td>-395061.728395</td>\n",
              "      <td>False</td>\n",
              "    </tr>\n",
              "    <tr>\n",
              "      <th>e</th>\n",
              "      <td>97</td>\n",
              "      <td>-1.21</td>\n",
              "      <td>2</td>\n",
              "      <td>B</td>\n",
              "      <td>2050-04-17</td>\n",
              "      <td>파이썬</td>\n",
              "      <td>6625.230517</td>\n",
              "      <td>False</td>\n",
              "    </tr>\n",
              "    <tr>\n",
              "      <th>f</th>\n",
              "      <td>11</td>\n",
              "      <td>1.32</td>\n",
              "      <td>5</td>\n",
              "      <td>b</td>\n",
              "      <td>2050-04-18</td>\n",
              "      <td>파이썬</td>\n",
              "      <td>631.313131</td>\n",
              "      <td>True</td>\n",
              "    </tr>\n",
              "    <tr>\n",
              "      <th>g</th>\n",
              "      <td>55</td>\n",
              "      <td>-0.65</td>\n",
              "      <td>3</td>\n",
              "      <td>NaN</td>\n",
              "      <td>2050-04-19</td>\n",
              "      <td>파이썬</td>\n",
              "      <td>13017.751479</td>\n",
              "      <td>False</td>\n",
              "    </tr>\n",
              "    <tr>\n",
              "      <th>h</th>\n",
              "      <td>-78</td>\n",
              "      <td>0.34</td>\n",
              "      <td>0</td>\n",
              "      <td>C</td>\n",
              "      <td>2050-04-10</td>\n",
              "      <td>파이썬</td>\n",
              "      <td>-67474.048443</td>\n",
              "      <td>True</td>\n",
              "    </tr>\n",
              "    <tr>\n",
              "      <th>i</th>\n",
              "      <td>49</td>\n",
              "      <td>-1.23</td>\n",
              "      <td>1</td>\n",
              "      <td>A</td>\n",
              "      <td>2050-04-11</td>\n",
              "      <td>파이썬</td>\n",
              "      <td>3238.812876</td>\n",
              "      <td>False</td>\n",
              "    </tr>\n",
              "    <tr>\n",
              "      <th>j</th>\n",
              "      <td>61</td>\n",
              "      <td>-0.79</td>\n",
              "      <td>2</td>\n",
              "      <td>B</td>\n",
              "      <td>2050-04-12</td>\n",
              "      <td>파이썬</td>\n",
              "      <td>9774.074668</td>\n",
              "      <td>False</td>\n",
              "    </tr>\n",
              "    <tr>\n",
              "      <th>z</th>\n",
              "      <td>0</td>\n",
              "      <td>-1.00</td>\n",
              "      <td>-1</td>\n",
              "      <td>D</td>\n",
              "      <td>2050-04-20</td>\n",
              "      <td>파이썬</td>\n",
              "      <td>NaN</td>\n",
              "      <td>False</td>\n",
              "    </tr>\n",
              "  </tbody>\n",
              "</table>\n",
              "</div>"
            ],
            "text/plain": [
              "    A     B  C    D          E    F              G  Positive\n",
              "a  73  0.35  4    A 2050-04-13  파이썬   59591.836735      True\n",
              "b -29  0.12  0    A 2050-04-14  파이썬 -201388.888889      True\n",
              "c  85  0.71  3    A 2050-04-15  파이썬   16861.733783      True\n",
              "d -32 -0.09  0    B 2050-04-16  파이썬 -395061.728395     False\n",
              "e  97 -1.21  2    B 2050-04-17  파이썬    6625.230517     False\n",
              "f  11  1.32  5    b 2050-04-18  파이썬     631.313131      True\n",
              "g  55 -0.65  3  NaN 2050-04-19  파이썬   13017.751479     False\n",
              "h -78  0.34  0    C 2050-04-10  파이썬  -67474.048443      True\n",
              "i  49 -1.23  1    A 2050-04-11  파이썬    3238.812876     False\n",
              "j  61 -0.79  2    B 2050-04-12  파이썬    9774.074668     False\n",
              "z   0 -1.00 -1    D 2050-04-20  파이썬            NaN     False"
            ]
          },
          "metadata": {
            "tags": []
          },
          "execution_count": 134
        }
      ]
    },
    {
      "cell_type": "code",
      "metadata": {
        "id": "x-57SWBMmsOm",
        "colab_type": "code",
        "colab": {
          "base_uri": "https://localhost:8080/",
          "height": 111
        },
        "outputId": "b8136f91-0de1-494c-f061-382730798058"
      },
      "source": [
        "# --- 특정 행의 일부 값을 갱신한다.\n",
        "# 인덱스 'z'의 'D', 'E' 열을 값을 각각 numpy.nan, pandas.NaT로 갱신한다.\n",
        "df.loc['z', ['D','E']] = [numpy.nan, pandas.NaT]\n",
        "# 또는 df.loc['z', 'D':'E'] = [numpy.nan, pandas.NaT]\n",
        "\n",
        "# 마지막 행의 첫 세 열의 값을 -100, -100, -100으로 갱신한다.\n",
        "df.iloc[-1, :3] = -100\n",
        "# 또는 df.iloc[-1, [0, 1, 2]] = -100\n",
        "\n",
        "# 결과를 확인한다.\n",
        "df.tail(2)"
      ],
      "execution_count": null,
      "outputs": [
        {
          "output_type": "execute_result",
          "data": {
            "text/html": [
              "<div>\n",
              "<style scoped>\n",
              "    .dataframe tbody tr th:only-of-type {\n",
              "        vertical-align: middle;\n",
              "    }\n",
              "\n",
              "    .dataframe tbody tr th {\n",
              "        vertical-align: top;\n",
              "    }\n",
              "\n",
              "    .dataframe thead th {\n",
              "        text-align: right;\n",
              "    }\n",
              "</style>\n",
              "<table border=\"1\" class=\"dataframe\">\n",
              "  <thead>\n",
              "    <tr style=\"text-align: right;\">\n",
              "      <th></th>\n",
              "      <th>A</th>\n",
              "      <th>B</th>\n",
              "      <th>C</th>\n",
              "      <th>D</th>\n",
              "      <th>E</th>\n",
              "      <th>F</th>\n",
              "      <th>G</th>\n",
              "      <th>Positive</th>\n",
              "    </tr>\n",
              "  </thead>\n",
              "  <tbody>\n",
              "    <tr>\n",
              "      <th>j</th>\n",
              "      <td>61</td>\n",
              "      <td>-0.79</td>\n",
              "      <td>2</td>\n",
              "      <td>B</td>\n",
              "      <td>2050-04-12</td>\n",
              "      <td>파이썬</td>\n",
              "      <td>9774.074668</td>\n",
              "      <td>False</td>\n",
              "    </tr>\n",
              "    <tr>\n",
              "      <th>z</th>\n",
              "      <td>-100</td>\n",
              "      <td>-100.00</td>\n",
              "      <td>-100</td>\n",
              "      <td>NaN</td>\n",
              "      <td>NaT</td>\n",
              "      <td>파이썬</td>\n",
              "      <td>NaN</td>\n",
              "      <td>False</td>\n",
              "    </tr>\n",
              "  </tbody>\n",
              "</table>\n",
              "</div>"
            ],
            "text/plain": [
              "     A       B    C    D          E    F            G  Positive\n",
              "j   61   -0.79    2    B 2050-04-12  파이썬  9774.074668     False\n",
              "z -100 -100.00 -100  NaN        NaT  파이썬          NaN     False"
            ]
          },
          "metadata": {
            "tags": []
          },
          "execution_count": 135
        }
      ]
    },
    {
      "cell_type": "code",
      "metadata": {
        "id": "S6h5-RW-msOn",
        "colab_type": "code",
        "colab": {
          "base_uri": "https://localhost:8080/",
          "height": 390
        },
        "outputId": "b2fcb157-d8ea-4545-e46f-51b887755a59"
      },
      "source": [
        "# --- 특정 행의 모든 값을 갱신한다.\n",
        "# 인덱스 'e'의 모든 값을 -15, 0.55, 1, numpy.nan, pandas.NaT, 'Python', 0, None으로 갱신한다.\n",
        "df.loc['e', :] = [-15, 0.55, 1, numpy.nan, pandas.NaT, 'Python', 0, None]\n",
        "\n",
        "# 마지막 행의 첫 세 열의 값을 -1000, 1000, 1000로 나머지는 numpy.nan로 갱신한다.\n",
        "df.iloc[-1, :] = [-1000, 1000, 1000, numpy.nan, numpy.nan, numpy.nan, numpy.nan, numpy.nan]\n",
        "\n",
        "df"
      ],
      "execution_count": null,
      "outputs": [
        {
          "output_type": "execute_result",
          "data": {
            "text/html": [
              "<div>\n",
              "<style scoped>\n",
              "    .dataframe tbody tr th:only-of-type {\n",
              "        vertical-align: middle;\n",
              "    }\n",
              "\n",
              "    .dataframe tbody tr th {\n",
              "        vertical-align: top;\n",
              "    }\n",
              "\n",
              "    .dataframe thead th {\n",
              "        text-align: right;\n",
              "    }\n",
              "</style>\n",
              "<table border=\"1\" class=\"dataframe\">\n",
              "  <thead>\n",
              "    <tr style=\"text-align: right;\">\n",
              "      <th></th>\n",
              "      <th>A</th>\n",
              "      <th>B</th>\n",
              "      <th>C</th>\n",
              "      <th>D</th>\n",
              "      <th>E</th>\n",
              "      <th>F</th>\n",
              "      <th>G</th>\n",
              "      <th>Positive</th>\n",
              "    </tr>\n",
              "  </thead>\n",
              "  <tbody>\n",
              "    <tr>\n",
              "      <th>a</th>\n",
              "      <td>73</td>\n",
              "      <td>0.35</td>\n",
              "      <td>4</td>\n",
              "      <td>A</td>\n",
              "      <td>2050-04-13</td>\n",
              "      <td>파이썬</td>\n",
              "      <td>59591.836735</td>\n",
              "      <td>1.0</td>\n",
              "    </tr>\n",
              "    <tr>\n",
              "      <th>b</th>\n",
              "      <td>-29</td>\n",
              "      <td>0.12</td>\n",
              "      <td>0</td>\n",
              "      <td>A</td>\n",
              "      <td>2050-04-14</td>\n",
              "      <td>파이썬</td>\n",
              "      <td>-201388.888889</td>\n",
              "      <td>1.0</td>\n",
              "    </tr>\n",
              "    <tr>\n",
              "      <th>c</th>\n",
              "      <td>85</td>\n",
              "      <td>0.71</td>\n",
              "      <td>3</td>\n",
              "      <td>A</td>\n",
              "      <td>2050-04-15</td>\n",
              "      <td>파이썬</td>\n",
              "      <td>16861.733783</td>\n",
              "      <td>1.0</td>\n",
              "    </tr>\n",
              "    <tr>\n",
              "      <th>d</th>\n",
              "      <td>-32</td>\n",
              "      <td>-0.09</td>\n",
              "      <td>0</td>\n",
              "      <td>B</td>\n",
              "      <td>2050-04-16</td>\n",
              "      <td>파이썬</td>\n",
              "      <td>-395061.728395</td>\n",
              "      <td>0.0</td>\n",
              "    </tr>\n",
              "    <tr>\n",
              "      <th>e</th>\n",
              "      <td>-15</td>\n",
              "      <td>0.55</td>\n",
              "      <td>1</td>\n",
              "      <td>NaN</td>\n",
              "      <td>NaT</td>\n",
              "      <td>Python</td>\n",
              "      <td>0.000000</td>\n",
              "      <td>NaN</td>\n",
              "    </tr>\n",
              "    <tr>\n",
              "      <th>f</th>\n",
              "      <td>11</td>\n",
              "      <td>1.32</td>\n",
              "      <td>5</td>\n",
              "      <td>b</td>\n",
              "      <td>2050-04-18</td>\n",
              "      <td>파이썬</td>\n",
              "      <td>631.313131</td>\n",
              "      <td>1.0</td>\n",
              "    </tr>\n",
              "    <tr>\n",
              "      <th>g</th>\n",
              "      <td>55</td>\n",
              "      <td>-0.65</td>\n",
              "      <td>3</td>\n",
              "      <td>NaN</td>\n",
              "      <td>2050-04-19</td>\n",
              "      <td>파이썬</td>\n",
              "      <td>13017.751479</td>\n",
              "      <td>0.0</td>\n",
              "    </tr>\n",
              "    <tr>\n",
              "      <th>h</th>\n",
              "      <td>-78</td>\n",
              "      <td>0.34</td>\n",
              "      <td>0</td>\n",
              "      <td>C</td>\n",
              "      <td>2050-04-10</td>\n",
              "      <td>파이썬</td>\n",
              "      <td>-67474.048443</td>\n",
              "      <td>1.0</td>\n",
              "    </tr>\n",
              "    <tr>\n",
              "      <th>i</th>\n",
              "      <td>49</td>\n",
              "      <td>-1.23</td>\n",
              "      <td>1</td>\n",
              "      <td>A</td>\n",
              "      <td>2050-04-11</td>\n",
              "      <td>파이썬</td>\n",
              "      <td>3238.812876</td>\n",
              "      <td>0.0</td>\n",
              "    </tr>\n",
              "    <tr>\n",
              "      <th>j</th>\n",
              "      <td>61</td>\n",
              "      <td>-0.79</td>\n",
              "      <td>2</td>\n",
              "      <td>B</td>\n",
              "      <td>2050-04-12</td>\n",
              "      <td>파이썬</td>\n",
              "      <td>9774.074668</td>\n",
              "      <td>0.0</td>\n",
              "    </tr>\n",
              "    <tr>\n",
              "      <th>z</th>\n",
              "      <td>-1000</td>\n",
              "      <td>1000.00</td>\n",
              "      <td>1000</td>\n",
              "      <td>NaN</td>\n",
              "      <td>NaT</td>\n",
              "      <td>NaN</td>\n",
              "      <td>NaN</td>\n",
              "      <td>NaN</td>\n",
              "    </tr>\n",
              "  </tbody>\n",
              "</table>\n",
              "</div>"
            ],
            "text/plain": [
              "      A        B     C    D          E       F              G  Positive\n",
              "a    73     0.35     4    A 2050-04-13     파이썬   59591.836735       1.0\n",
              "b   -29     0.12     0    A 2050-04-14     파이썬 -201388.888889       1.0\n",
              "c    85     0.71     3    A 2050-04-15     파이썬   16861.733783       1.0\n",
              "d   -32    -0.09     0    B 2050-04-16     파이썬 -395061.728395       0.0\n",
              "e   -15     0.55     1  NaN        NaT  Python       0.000000       NaN\n",
              "f    11     1.32     5    b 2050-04-18     파이썬     631.313131       1.0\n",
              "g    55    -0.65     3  NaN 2050-04-19     파이썬   13017.751479       0.0\n",
              "h   -78     0.34     0    C 2050-04-10     파이썬  -67474.048443       1.0\n",
              "i    49    -1.23     1    A 2050-04-11     파이썬    3238.812876       0.0\n",
              "j    61    -0.79     2    B 2050-04-12     파이썬    9774.074668       0.0\n",
              "z -1000  1000.00  1000  NaN        NaT     NaN            NaN       NaN"
            ]
          },
          "metadata": {
            "tags": []
          },
          "execution_count": 136
        }
      ]
    },
    {
      "cell_type": "markdown",
      "metadata": {
        "id": "8cpHxaa4msOp",
        "colab_type": "text"
      },
      "source": [
        "**<font size='+1'>조건문</font>**"
      ]
    },
    {
      "cell_type": "code",
      "metadata": {
        "id": "KJy-M_cFmsOp",
        "colab_type": "code",
        "colab": {
          "base_uri": "https://localhost:8080/",
          "height": 359
        },
        "outputId": "d8fb4439-d23a-4659-fc60-cd67b5ecd32c"
      },
      "source": [
        "df2 = df.loc[:'j', :'C']\n",
        "df2"
      ],
      "execution_count": null,
      "outputs": [
        {
          "output_type": "execute_result",
          "data": {
            "text/html": [
              "<div>\n",
              "<style scoped>\n",
              "    .dataframe tbody tr th:only-of-type {\n",
              "        vertical-align: middle;\n",
              "    }\n",
              "\n",
              "    .dataframe tbody tr th {\n",
              "        vertical-align: top;\n",
              "    }\n",
              "\n",
              "    .dataframe thead th {\n",
              "        text-align: right;\n",
              "    }\n",
              "</style>\n",
              "<table border=\"1\" class=\"dataframe\">\n",
              "  <thead>\n",
              "    <tr style=\"text-align: right;\">\n",
              "      <th></th>\n",
              "      <th>A</th>\n",
              "      <th>B</th>\n",
              "      <th>C</th>\n",
              "    </tr>\n",
              "  </thead>\n",
              "  <tbody>\n",
              "    <tr>\n",
              "      <th>a</th>\n",
              "      <td>73</td>\n",
              "      <td>0.35</td>\n",
              "      <td>4</td>\n",
              "    </tr>\n",
              "    <tr>\n",
              "      <th>b</th>\n",
              "      <td>-29</td>\n",
              "      <td>0.12</td>\n",
              "      <td>0</td>\n",
              "    </tr>\n",
              "    <tr>\n",
              "      <th>c</th>\n",
              "      <td>85</td>\n",
              "      <td>0.71</td>\n",
              "      <td>3</td>\n",
              "    </tr>\n",
              "    <tr>\n",
              "      <th>d</th>\n",
              "      <td>-32</td>\n",
              "      <td>-0.09</td>\n",
              "      <td>0</td>\n",
              "    </tr>\n",
              "    <tr>\n",
              "      <th>e</th>\n",
              "      <td>-15</td>\n",
              "      <td>0.55</td>\n",
              "      <td>1</td>\n",
              "    </tr>\n",
              "    <tr>\n",
              "      <th>f</th>\n",
              "      <td>11</td>\n",
              "      <td>1.32</td>\n",
              "      <td>5</td>\n",
              "    </tr>\n",
              "    <tr>\n",
              "      <th>g</th>\n",
              "      <td>55</td>\n",
              "      <td>-0.65</td>\n",
              "      <td>3</td>\n",
              "    </tr>\n",
              "    <tr>\n",
              "      <th>h</th>\n",
              "      <td>-78</td>\n",
              "      <td>0.34</td>\n",
              "      <td>0</td>\n",
              "    </tr>\n",
              "    <tr>\n",
              "      <th>i</th>\n",
              "      <td>49</td>\n",
              "      <td>-1.23</td>\n",
              "      <td>1</td>\n",
              "    </tr>\n",
              "    <tr>\n",
              "      <th>j</th>\n",
              "      <td>61</td>\n",
              "      <td>-0.79</td>\n",
              "      <td>2</td>\n",
              "    </tr>\n",
              "  </tbody>\n",
              "</table>\n",
              "</div>"
            ],
            "text/plain": [
              "    A     B  C\n",
              "a  73  0.35  4\n",
              "b -29  0.12  0\n",
              "c  85  0.71  3\n",
              "d -32 -0.09  0\n",
              "e -15  0.55  1\n",
              "f  11  1.32  5\n",
              "g  55 -0.65  3\n",
              "h -78  0.34  0\n",
              "i  49 -1.23  1\n",
              "j  61 -0.79  2"
            ]
          },
          "metadata": {
            "tags": []
          },
          "execution_count": 138
        }
      ]
    },
    {
      "cell_type": "markdown",
      "metadata": {
        "id": "-jzgKO24msOp",
        "colab_type": "text"
      },
      "source": [
        "조건을 만족하는 데이터 셀만 갱신할 수 있다."
      ]
    },
    {
      "cell_type": "code",
      "metadata": {
        "id": "Evo9u1VCmsOq",
        "colab_type": "code",
        "colab": {
          "base_uri": "https://localhost:8080/",
          "height": 359
        },
        "outputId": "03f24a3b-5ffa-4f58-f9e0-f05f3e05f3c2"
      },
      "source": [
        "# df2에서 3보다 큰 값은 모두 10을 곱한 후 음수로 바꾼다.\n",
        "df2[df2 > 3] = -(df2 * 10)\n",
        "df2"
      ],
      "execution_count": null,
      "outputs": [
        {
          "output_type": "execute_result",
          "data": {
            "text/html": [
              "<div>\n",
              "<style scoped>\n",
              "    .dataframe tbody tr th:only-of-type {\n",
              "        vertical-align: middle;\n",
              "    }\n",
              "\n",
              "    .dataframe tbody tr th {\n",
              "        vertical-align: top;\n",
              "    }\n",
              "\n",
              "    .dataframe thead th {\n",
              "        text-align: right;\n",
              "    }\n",
              "</style>\n",
              "<table border=\"1\" class=\"dataframe\">\n",
              "  <thead>\n",
              "    <tr style=\"text-align: right;\">\n",
              "      <th></th>\n",
              "      <th>A</th>\n",
              "      <th>B</th>\n",
              "      <th>C</th>\n",
              "    </tr>\n",
              "  </thead>\n",
              "  <tbody>\n",
              "    <tr>\n",
              "      <th>a</th>\n",
              "      <td>-730</td>\n",
              "      <td>0.35</td>\n",
              "      <td>-40</td>\n",
              "    </tr>\n",
              "    <tr>\n",
              "      <th>b</th>\n",
              "      <td>-29</td>\n",
              "      <td>0.12</td>\n",
              "      <td>0</td>\n",
              "    </tr>\n",
              "    <tr>\n",
              "      <th>c</th>\n",
              "      <td>-850</td>\n",
              "      <td>0.71</td>\n",
              "      <td>3</td>\n",
              "    </tr>\n",
              "    <tr>\n",
              "      <th>d</th>\n",
              "      <td>-32</td>\n",
              "      <td>-0.09</td>\n",
              "      <td>0</td>\n",
              "    </tr>\n",
              "    <tr>\n",
              "      <th>e</th>\n",
              "      <td>-15</td>\n",
              "      <td>0.55</td>\n",
              "      <td>1</td>\n",
              "    </tr>\n",
              "    <tr>\n",
              "      <th>f</th>\n",
              "      <td>-110</td>\n",
              "      <td>1.32</td>\n",
              "      <td>-50</td>\n",
              "    </tr>\n",
              "    <tr>\n",
              "      <th>g</th>\n",
              "      <td>-550</td>\n",
              "      <td>-0.65</td>\n",
              "      <td>3</td>\n",
              "    </tr>\n",
              "    <tr>\n",
              "      <th>h</th>\n",
              "      <td>-78</td>\n",
              "      <td>0.34</td>\n",
              "      <td>0</td>\n",
              "    </tr>\n",
              "    <tr>\n",
              "      <th>i</th>\n",
              "      <td>-490</td>\n",
              "      <td>-1.23</td>\n",
              "      <td>1</td>\n",
              "    </tr>\n",
              "    <tr>\n",
              "      <th>j</th>\n",
              "      <td>-610</td>\n",
              "      <td>-0.79</td>\n",
              "      <td>2</td>\n",
              "    </tr>\n",
              "  </tbody>\n",
              "</table>\n",
              "</div>"
            ],
            "text/plain": [
              "     A     B   C\n",
              "a -730  0.35 -40\n",
              "b  -29  0.12   0\n",
              "c -850  0.71   3\n",
              "d  -32 -0.09   0\n",
              "e  -15  0.55   1\n",
              "f -110  1.32 -50\n",
              "g -550 -0.65   3\n",
              "h  -78  0.34   0\n",
              "i -490 -1.23   1\n",
              "j -610 -0.79   2"
            ]
          },
          "metadata": {
            "tags": []
          },
          "execution_count": 139
        }
      ]
    },
    {
      "cell_type": "code",
      "metadata": {
        "scrolled": true,
        "id": "wKN1Jzg2msOr",
        "colab_type": "code",
        "colab": {
          "base_uri": "https://localhost:8080/",
          "height": 359
        },
        "outputId": "65e6ea46-98fb-479d-d479-fca957a9f344"
      },
      "source": [
        "# -100 이하의 값은 모두 NaN으로 바꾼다.\n",
        "df2[df2 < -100] = numpy.nan\n",
        "df2"
      ],
      "execution_count": null,
      "outputs": [
        {
          "output_type": "execute_result",
          "data": {
            "text/html": [
              "<div>\n",
              "<style scoped>\n",
              "    .dataframe tbody tr th:only-of-type {\n",
              "        vertical-align: middle;\n",
              "    }\n",
              "\n",
              "    .dataframe tbody tr th {\n",
              "        vertical-align: top;\n",
              "    }\n",
              "\n",
              "    .dataframe thead th {\n",
              "        text-align: right;\n",
              "    }\n",
              "</style>\n",
              "<table border=\"1\" class=\"dataframe\">\n",
              "  <thead>\n",
              "    <tr style=\"text-align: right;\">\n",
              "      <th></th>\n",
              "      <th>A</th>\n",
              "      <th>B</th>\n",
              "      <th>C</th>\n",
              "    </tr>\n",
              "  </thead>\n",
              "  <tbody>\n",
              "    <tr>\n",
              "      <th>a</th>\n",
              "      <td>NaN</td>\n",
              "      <td>0.35</td>\n",
              "      <td>-40</td>\n",
              "    </tr>\n",
              "    <tr>\n",
              "      <th>b</th>\n",
              "      <td>-29.0</td>\n",
              "      <td>0.12</td>\n",
              "      <td>0</td>\n",
              "    </tr>\n",
              "    <tr>\n",
              "      <th>c</th>\n",
              "      <td>NaN</td>\n",
              "      <td>0.71</td>\n",
              "      <td>3</td>\n",
              "    </tr>\n",
              "    <tr>\n",
              "      <th>d</th>\n",
              "      <td>-32.0</td>\n",
              "      <td>-0.09</td>\n",
              "      <td>0</td>\n",
              "    </tr>\n",
              "    <tr>\n",
              "      <th>e</th>\n",
              "      <td>-15.0</td>\n",
              "      <td>0.55</td>\n",
              "      <td>1</td>\n",
              "    </tr>\n",
              "    <tr>\n",
              "      <th>f</th>\n",
              "      <td>NaN</td>\n",
              "      <td>1.32</td>\n",
              "      <td>-50</td>\n",
              "    </tr>\n",
              "    <tr>\n",
              "      <th>g</th>\n",
              "      <td>NaN</td>\n",
              "      <td>-0.65</td>\n",
              "      <td>3</td>\n",
              "    </tr>\n",
              "    <tr>\n",
              "      <th>h</th>\n",
              "      <td>-78.0</td>\n",
              "      <td>0.34</td>\n",
              "      <td>0</td>\n",
              "    </tr>\n",
              "    <tr>\n",
              "      <th>i</th>\n",
              "      <td>NaN</td>\n",
              "      <td>-1.23</td>\n",
              "      <td>1</td>\n",
              "    </tr>\n",
              "    <tr>\n",
              "      <th>j</th>\n",
              "      <td>NaN</td>\n",
              "      <td>-0.79</td>\n",
              "      <td>2</td>\n",
              "    </tr>\n",
              "  </tbody>\n",
              "</table>\n",
              "</div>"
            ],
            "text/plain": [
              "      A     B   C\n",
              "a   NaN  0.35 -40\n",
              "b -29.0  0.12   0\n",
              "c   NaN  0.71   3\n",
              "d -32.0 -0.09   0\n",
              "e -15.0  0.55   1\n",
              "f   NaN  1.32 -50\n",
              "g   NaN -0.65   3\n",
              "h -78.0  0.34   0\n",
              "i   NaN -1.23   1\n",
              "j   NaN -0.79   2"
            ]
          },
          "metadata": {
            "tags": []
          },
          "execution_count": 140
        }
      ]
    },
    {
      "cell_type": "markdown",
      "metadata": {
        "id": "hKEE1RSwmsOr",
        "colab_type": "text"
      },
      "source": [
        "**<font size='+1'>삭제(drop)</font>**"
      ]
    },
    {
      "cell_type": "markdown",
      "metadata": {
        "id": "TsWAZm0TmsOr",
        "colab_type": "text"
      },
      "source": [
        "지정한 한 개 또는 여러 개의 열이나 행을 삭제할 수 있다.\n",
        "- 라벨 이름과 해당 축을 지정해서 삭제하거나\n",
        "- 인덱스나 열 이름을 직접 지정해서 삭제할 수 있다.\n",
        "- 데이터프레임 자체의 열/행을 바꾸려면 **inplace=True**로 설정해야 한다.\n",
        "- **분할 연산자는 사용할 수 없다.**"
      ]
    },
    {
      "cell_type": "markdown",
      "metadata": {
        "id": "iKJimk41msOr",
        "colab_type": "text"
      },
      "source": [
        "열이나 행을 삭제하는 방법은 다음과 같다.\n",
        "- *new_df* = DataFrame.**drop(인덱스[, axis={0 or 'index'}])**\n",
        "- *new_df* = DataFrame.**drop(열이름, axis={1 or 'columns'})**\n",
        "- *dropped_series* = DataFrame.**pop(열이름)**\n",
        "    + [pandas.DataFrame.pop](https://pandas.pydata.org/pandas-docs/stable/reference/api/pandas.DataFrame.pop.html)\n",
        "- **del** DataFrame **[열이름]** "
      ]
    },
    {
      "cell_type": "markdown",
      "metadata": {
        "id": "JKEp5Mk2msOs",
        "colab_type": "text"
      },
      "source": [
        "[pandas.DataFrame.drop](https://pandas.pydata.org/pandas-docs/stable/reference/api/pandas.DataFrame.drop.html#pandas.DataFrame.drop)\n",
        "- Drop specified labels from rows or columns.\n",
        "- Remove rows or columns by specifying label names and corresponding axis, or by specifying directly index or column names. When using a multi-index, labels on different levels can be removed by specifying the level.\n",
        "- DataFrame.**drop**(*self, labels=None, axis=0, index=None, columns=None, level=None, inplace=False, errors='raise'*)\n",
        "    - ***labels*** : *single label* or *list-like*\n",
        "        - Index or column labels to drop.\n",
        "    - ***axis*** : {0 or *'index'*, 1 or *'columns'*}, default 0\n",
        "        - Whether to drop labels from the index (0 or ‘index’) or columns (1 or ‘columns’).\n",
        "    - ***index*** : *single label* or *list-like*\n",
        "        - Alternative to specifying axis (labels, axis=0 is equivalent to index=labels).\n",
        "    - ***columns*** : *single label* or *list-like*\n",
        "        - Alternative to specifying axis (labels, axis=1 is equivalent to columns=labels).\n",
        "    - ***level*** : *int* or *level name*, optional\n",
        "        - For MultiIndex, level from which the labels will be removed.\n",
        "    - ***inplace*** : *bool*, default False\n",
        "        - If True, do operation inplace and return None.\n",
        "    - ***errors*** : {*'ignore'*, *'raise'*}, default ‘raise’\n",
        "        - If ‘ignore’, suppress error and only existing labels are dropped.\n",
        "    - Returns:\t\n",
        "        - dropped : *pandas.DataFrame*"
      ]
    },
    {
      "cell_type": "markdown",
      "metadata": {
        "id": "lj6d-xyomsOs",
        "colab_type": "text"
      },
      "source": [
        "**<font size='+1'>행 삭제</font>**"
      ]
    },
    {
      "cell_type": "code",
      "metadata": {
        "id": "-T7q6L4UmsOt",
        "colab_type": "code",
        "colab": {
          "base_uri": "https://localhost:8080/",
          "height": 359
        },
        "outputId": "23a8eed3-30cb-47e1-b591-b3493bcea177"
      },
      "source": [
        "# 인덱스가 'b'인 행을 삭제한다.\n",
        "new_df = df.drop('b')\n",
        "new_df"
      ],
      "execution_count": null,
      "outputs": [
        {
          "output_type": "execute_result",
          "data": {
            "text/html": [
              "<div>\n",
              "<style scoped>\n",
              "    .dataframe tbody tr th:only-of-type {\n",
              "        vertical-align: middle;\n",
              "    }\n",
              "\n",
              "    .dataframe tbody tr th {\n",
              "        vertical-align: top;\n",
              "    }\n",
              "\n",
              "    .dataframe thead th {\n",
              "        text-align: right;\n",
              "    }\n",
              "</style>\n",
              "<table border=\"1\" class=\"dataframe\">\n",
              "  <thead>\n",
              "    <tr style=\"text-align: right;\">\n",
              "      <th></th>\n",
              "      <th>A</th>\n",
              "      <th>B</th>\n",
              "      <th>C</th>\n",
              "      <th>D</th>\n",
              "      <th>E</th>\n",
              "      <th>F</th>\n",
              "      <th>G</th>\n",
              "      <th>Positive</th>\n",
              "    </tr>\n",
              "  </thead>\n",
              "  <tbody>\n",
              "    <tr>\n",
              "      <th>a</th>\n",
              "      <td>73</td>\n",
              "      <td>0.35</td>\n",
              "      <td>4</td>\n",
              "      <td>A</td>\n",
              "      <td>2050-04-13</td>\n",
              "      <td>파이썬</td>\n",
              "      <td>59591.836735</td>\n",
              "      <td>1.0</td>\n",
              "    </tr>\n",
              "    <tr>\n",
              "      <th>c</th>\n",
              "      <td>85</td>\n",
              "      <td>0.71</td>\n",
              "      <td>3</td>\n",
              "      <td>A</td>\n",
              "      <td>2050-04-15</td>\n",
              "      <td>파이썬</td>\n",
              "      <td>16861.733783</td>\n",
              "      <td>1.0</td>\n",
              "    </tr>\n",
              "    <tr>\n",
              "      <th>d</th>\n",
              "      <td>-32</td>\n",
              "      <td>-0.09</td>\n",
              "      <td>0</td>\n",
              "      <td>B</td>\n",
              "      <td>2050-04-16</td>\n",
              "      <td>파이썬</td>\n",
              "      <td>-395061.728395</td>\n",
              "      <td>0.0</td>\n",
              "    </tr>\n",
              "    <tr>\n",
              "      <th>e</th>\n",
              "      <td>-15</td>\n",
              "      <td>0.55</td>\n",
              "      <td>1</td>\n",
              "      <td>NaN</td>\n",
              "      <td>NaT</td>\n",
              "      <td>Python</td>\n",
              "      <td>0.000000</td>\n",
              "      <td>NaN</td>\n",
              "    </tr>\n",
              "    <tr>\n",
              "      <th>f</th>\n",
              "      <td>11</td>\n",
              "      <td>1.32</td>\n",
              "      <td>5</td>\n",
              "      <td>b</td>\n",
              "      <td>2050-04-18</td>\n",
              "      <td>파이썬</td>\n",
              "      <td>631.313131</td>\n",
              "      <td>1.0</td>\n",
              "    </tr>\n",
              "    <tr>\n",
              "      <th>g</th>\n",
              "      <td>55</td>\n",
              "      <td>-0.65</td>\n",
              "      <td>3</td>\n",
              "      <td>NaN</td>\n",
              "      <td>2050-04-19</td>\n",
              "      <td>파이썬</td>\n",
              "      <td>13017.751479</td>\n",
              "      <td>0.0</td>\n",
              "    </tr>\n",
              "    <tr>\n",
              "      <th>h</th>\n",
              "      <td>-78</td>\n",
              "      <td>0.34</td>\n",
              "      <td>0</td>\n",
              "      <td>C</td>\n",
              "      <td>2050-04-10</td>\n",
              "      <td>파이썬</td>\n",
              "      <td>-67474.048443</td>\n",
              "      <td>1.0</td>\n",
              "    </tr>\n",
              "    <tr>\n",
              "      <th>i</th>\n",
              "      <td>49</td>\n",
              "      <td>-1.23</td>\n",
              "      <td>1</td>\n",
              "      <td>A</td>\n",
              "      <td>2050-04-11</td>\n",
              "      <td>파이썬</td>\n",
              "      <td>3238.812876</td>\n",
              "      <td>0.0</td>\n",
              "    </tr>\n",
              "    <tr>\n",
              "      <th>j</th>\n",
              "      <td>61</td>\n",
              "      <td>-0.79</td>\n",
              "      <td>2</td>\n",
              "      <td>B</td>\n",
              "      <td>2050-04-12</td>\n",
              "      <td>파이썬</td>\n",
              "      <td>9774.074668</td>\n",
              "      <td>0.0</td>\n",
              "    </tr>\n",
              "    <tr>\n",
              "      <th>z</th>\n",
              "      <td>-1000</td>\n",
              "      <td>1000.00</td>\n",
              "      <td>1000</td>\n",
              "      <td>NaN</td>\n",
              "      <td>NaT</td>\n",
              "      <td>NaN</td>\n",
              "      <td>NaN</td>\n",
              "      <td>NaN</td>\n",
              "    </tr>\n",
              "  </tbody>\n",
              "</table>\n",
              "</div>"
            ],
            "text/plain": [
              "      A        B     C    D          E       F              G  Positive\n",
              "a    73     0.35     4    A 2050-04-13     파이썬   59591.836735       1.0\n",
              "c    85     0.71     3    A 2050-04-15     파이썬   16861.733783       1.0\n",
              "d   -32    -0.09     0    B 2050-04-16     파이썬 -395061.728395       0.0\n",
              "e   -15     0.55     1  NaN        NaT  Python       0.000000       NaN\n",
              "f    11     1.32     5    b 2050-04-18     파이썬     631.313131       1.0\n",
              "g    55    -0.65     3  NaN 2050-04-19     파이썬   13017.751479       0.0\n",
              "h   -78     0.34     0    C 2050-04-10     파이썬  -67474.048443       1.0\n",
              "i    49    -1.23     1    A 2050-04-11     파이썬    3238.812876       0.0\n",
              "j    61    -0.79     2    B 2050-04-12     파이썬    9774.074668       0.0\n",
              "z -1000  1000.00  1000  NaN        NaT     NaN            NaN       NaN"
            ]
          },
          "metadata": {
            "tags": []
          },
          "execution_count": 141
        }
      ]
    },
    {
      "cell_type": "code",
      "metadata": {
        "id": "jJC2NsDtmsOu",
        "colab_type": "code",
        "colab": {
          "base_uri": "https://localhost:8080/",
          "height": 328
        },
        "outputId": "8dac759a-9fa4-41d0-9446-1bca124daf71"
      },
      "source": [
        "# 인덱스가 'a'과 'z'인 행을 삭제한다.\n",
        "new_df = df.drop(['a', 'z'])\n",
        "new_df"
      ],
      "execution_count": null,
      "outputs": [
        {
          "output_type": "execute_result",
          "data": {
            "text/html": [
              "<div>\n",
              "<style scoped>\n",
              "    .dataframe tbody tr th:only-of-type {\n",
              "        vertical-align: middle;\n",
              "    }\n",
              "\n",
              "    .dataframe tbody tr th {\n",
              "        vertical-align: top;\n",
              "    }\n",
              "\n",
              "    .dataframe thead th {\n",
              "        text-align: right;\n",
              "    }\n",
              "</style>\n",
              "<table border=\"1\" class=\"dataframe\">\n",
              "  <thead>\n",
              "    <tr style=\"text-align: right;\">\n",
              "      <th></th>\n",
              "      <th>A</th>\n",
              "      <th>B</th>\n",
              "      <th>C</th>\n",
              "      <th>D</th>\n",
              "      <th>E</th>\n",
              "      <th>F</th>\n",
              "      <th>G</th>\n",
              "      <th>Positive</th>\n",
              "    </tr>\n",
              "  </thead>\n",
              "  <tbody>\n",
              "    <tr>\n",
              "      <th>b</th>\n",
              "      <td>-29</td>\n",
              "      <td>0.12</td>\n",
              "      <td>0</td>\n",
              "      <td>A</td>\n",
              "      <td>2050-04-14</td>\n",
              "      <td>파이썬</td>\n",
              "      <td>-201388.888889</td>\n",
              "      <td>1.0</td>\n",
              "    </tr>\n",
              "    <tr>\n",
              "      <th>c</th>\n",
              "      <td>85</td>\n",
              "      <td>0.71</td>\n",
              "      <td>3</td>\n",
              "      <td>A</td>\n",
              "      <td>2050-04-15</td>\n",
              "      <td>파이썬</td>\n",
              "      <td>16861.733783</td>\n",
              "      <td>1.0</td>\n",
              "    </tr>\n",
              "    <tr>\n",
              "      <th>d</th>\n",
              "      <td>-32</td>\n",
              "      <td>-0.09</td>\n",
              "      <td>0</td>\n",
              "      <td>B</td>\n",
              "      <td>2050-04-16</td>\n",
              "      <td>파이썬</td>\n",
              "      <td>-395061.728395</td>\n",
              "      <td>0.0</td>\n",
              "    </tr>\n",
              "    <tr>\n",
              "      <th>e</th>\n",
              "      <td>-15</td>\n",
              "      <td>0.55</td>\n",
              "      <td>1</td>\n",
              "      <td>NaN</td>\n",
              "      <td>NaT</td>\n",
              "      <td>Python</td>\n",
              "      <td>0.000000</td>\n",
              "      <td>NaN</td>\n",
              "    </tr>\n",
              "    <tr>\n",
              "      <th>f</th>\n",
              "      <td>11</td>\n",
              "      <td>1.32</td>\n",
              "      <td>5</td>\n",
              "      <td>b</td>\n",
              "      <td>2050-04-18</td>\n",
              "      <td>파이썬</td>\n",
              "      <td>631.313131</td>\n",
              "      <td>1.0</td>\n",
              "    </tr>\n",
              "    <tr>\n",
              "      <th>g</th>\n",
              "      <td>55</td>\n",
              "      <td>-0.65</td>\n",
              "      <td>3</td>\n",
              "      <td>NaN</td>\n",
              "      <td>2050-04-19</td>\n",
              "      <td>파이썬</td>\n",
              "      <td>13017.751479</td>\n",
              "      <td>0.0</td>\n",
              "    </tr>\n",
              "    <tr>\n",
              "      <th>h</th>\n",
              "      <td>-78</td>\n",
              "      <td>0.34</td>\n",
              "      <td>0</td>\n",
              "      <td>C</td>\n",
              "      <td>2050-04-10</td>\n",
              "      <td>파이썬</td>\n",
              "      <td>-67474.048443</td>\n",
              "      <td>1.0</td>\n",
              "    </tr>\n",
              "    <tr>\n",
              "      <th>i</th>\n",
              "      <td>49</td>\n",
              "      <td>-1.23</td>\n",
              "      <td>1</td>\n",
              "      <td>A</td>\n",
              "      <td>2050-04-11</td>\n",
              "      <td>파이썬</td>\n",
              "      <td>3238.812876</td>\n",
              "      <td>0.0</td>\n",
              "    </tr>\n",
              "    <tr>\n",
              "      <th>j</th>\n",
              "      <td>61</td>\n",
              "      <td>-0.79</td>\n",
              "      <td>2</td>\n",
              "      <td>B</td>\n",
              "      <td>2050-04-12</td>\n",
              "      <td>파이썬</td>\n",
              "      <td>9774.074668</td>\n",
              "      <td>0.0</td>\n",
              "    </tr>\n",
              "  </tbody>\n",
              "</table>\n",
              "</div>"
            ],
            "text/plain": [
              "    A     B  C    D          E       F              G  Positive\n",
              "b -29  0.12  0    A 2050-04-14     파이썬 -201388.888889       1.0\n",
              "c  85  0.71  3    A 2050-04-15     파이썬   16861.733783       1.0\n",
              "d -32 -0.09  0    B 2050-04-16     파이썬 -395061.728395       0.0\n",
              "e -15  0.55  1  NaN        NaT  Python       0.000000       NaN\n",
              "f  11  1.32  5    b 2050-04-18     파이썬     631.313131       1.0\n",
              "g  55 -0.65  3  NaN 2050-04-19     파이썬   13017.751479       0.0\n",
              "h -78  0.34  0    C 2050-04-10     파이썬  -67474.048443       1.0\n",
              "i  49 -1.23  1    A 2050-04-11     파이썬    3238.812876       0.0\n",
              "j  61 -0.79  2    B 2050-04-12     파이썬    9774.074668       0.0"
            ]
          },
          "metadata": {
            "tags": []
          },
          "execution_count": 142
        }
      ]
    },
    {
      "cell_type": "code",
      "metadata": {
        "id": "HB7yohmHmsOv",
        "colab_type": "code",
        "colab": {
          "base_uri": "https://localhost:8080/",
          "height": 130
        },
        "outputId": "07c47ded-a6e0-4b5b-d7dc-e2dc5d25bcc8"
      },
      "source": [
        "# 분할 연산자를 사용하여 인덱스 'e'부터 'h'까지 행을 삭제한다. \n",
        "# 분할 연산자는 사용할 수 없다.\n",
        "df.drop(['e':'h'])"
      ],
      "execution_count": null,
      "outputs": [
        {
          "output_type": "error",
          "ename": "SyntaxError",
          "evalue": "ignored",
          "traceback": [
            "\u001b[0;36m  File \u001b[0;32m\"<ipython-input-143-f65cb81bcf0b>\"\u001b[0;36m, line \u001b[0;32m3\u001b[0m\n\u001b[0;31m    df.drop(['e':'h'])\u001b[0m\n\u001b[0m                ^\u001b[0m\n\u001b[0;31mSyntaxError\u001b[0m\u001b[0;31m:\u001b[0m invalid syntax\n"
          ]
        }
      ]
    },
    {
      "cell_type": "code",
      "metadata": {
        "id": "qextDvCVmsOv",
        "colab_type": "code",
        "colab": {
          "base_uri": "https://localhost:8080/",
          "height": 390
        },
        "outputId": "be3b2fa7-ff0d-4fd3-c612-6740c54a3952"
      },
      "source": [
        "df  # 원본 데이터프레임은 그대로이다."
      ],
      "execution_count": null,
      "outputs": [
        {
          "output_type": "execute_result",
          "data": {
            "text/html": [
              "<div>\n",
              "<style scoped>\n",
              "    .dataframe tbody tr th:only-of-type {\n",
              "        vertical-align: middle;\n",
              "    }\n",
              "\n",
              "    .dataframe tbody tr th {\n",
              "        vertical-align: top;\n",
              "    }\n",
              "\n",
              "    .dataframe thead th {\n",
              "        text-align: right;\n",
              "    }\n",
              "</style>\n",
              "<table border=\"1\" class=\"dataframe\">\n",
              "  <thead>\n",
              "    <tr style=\"text-align: right;\">\n",
              "      <th></th>\n",
              "      <th>A</th>\n",
              "      <th>B</th>\n",
              "      <th>C</th>\n",
              "      <th>D</th>\n",
              "      <th>E</th>\n",
              "      <th>F</th>\n",
              "      <th>G</th>\n",
              "      <th>Positive</th>\n",
              "    </tr>\n",
              "  </thead>\n",
              "  <tbody>\n",
              "    <tr>\n",
              "      <th>a</th>\n",
              "      <td>73</td>\n",
              "      <td>0.35</td>\n",
              "      <td>4</td>\n",
              "      <td>A</td>\n",
              "      <td>2050-04-13</td>\n",
              "      <td>파이썬</td>\n",
              "      <td>59591.836735</td>\n",
              "      <td>1.0</td>\n",
              "    </tr>\n",
              "    <tr>\n",
              "      <th>b</th>\n",
              "      <td>-29</td>\n",
              "      <td>0.12</td>\n",
              "      <td>0</td>\n",
              "      <td>A</td>\n",
              "      <td>2050-04-14</td>\n",
              "      <td>파이썬</td>\n",
              "      <td>-201388.888889</td>\n",
              "      <td>1.0</td>\n",
              "    </tr>\n",
              "    <tr>\n",
              "      <th>c</th>\n",
              "      <td>85</td>\n",
              "      <td>0.71</td>\n",
              "      <td>3</td>\n",
              "      <td>A</td>\n",
              "      <td>2050-04-15</td>\n",
              "      <td>파이썬</td>\n",
              "      <td>16861.733783</td>\n",
              "      <td>1.0</td>\n",
              "    </tr>\n",
              "    <tr>\n",
              "      <th>d</th>\n",
              "      <td>-32</td>\n",
              "      <td>-0.09</td>\n",
              "      <td>0</td>\n",
              "      <td>B</td>\n",
              "      <td>2050-04-16</td>\n",
              "      <td>파이썬</td>\n",
              "      <td>-395061.728395</td>\n",
              "      <td>0.0</td>\n",
              "    </tr>\n",
              "    <tr>\n",
              "      <th>e</th>\n",
              "      <td>-15</td>\n",
              "      <td>0.55</td>\n",
              "      <td>1</td>\n",
              "      <td>NaN</td>\n",
              "      <td>NaT</td>\n",
              "      <td>Python</td>\n",
              "      <td>0.000000</td>\n",
              "      <td>NaN</td>\n",
              "    </tr>\n",
              "    <tr>\n",
              "      <th>f</th>\n",
              "      <td>11</td>\n",
              "      <td>1.32</td>\n",
              "      <td>5</td>\n",
              "      <td>b</td>\n",
              "      <td>2050-04-18</td>\n",
              "      <td>파이썬</td>\n",
              "      <td>631.313131</td>\n",
              "      <td>1.0</td>\n",
              "    </tr>\n",
              "    <tr>\n",
              "      <th>g</th>\n",
              "      <td>55</td>\n",
              "      <td>-0.65</td>\n",
              "      <td>3</td>\n",
              "      <td>NaN</td>\n",
              "      <td>2050-04-19</td>\n",
              "      <td>파이썬</td>\n",
              "      <td>13017.751479</td>\n",
              "      <td>0.0</td>\n",
              "    </tr>\n",
              "    <tr>\n",
              "      <th>h</th>\n",
              "      <td>-78</td>\n",
              "      <td>0.34</td>\n",
              "      <td>0</td>\n",
              "      <td>C</td>\n",
              "      <td>2050-04-10</td>\n",
              "      <td>파이썬</td>\n",
              "      <td>-67474.048443</td>\n",
              "      <td>1.0</td>\n",
              "    </tr>\n",
              "    <tr>\n",
              "      <th>i</th>\n",
              "      <td>49</td>\n",
              "      <td>-1.23</td>\n",
              "      <td>1</td>\n",
              "      <td>A</td>\n",
              "      <td>2050-04-11</td>\n",
              "      <td>파이썬</td>\n",
              "      <td>3238.812876</td>\n",
              "      <td>0.0</td>\n",
              "    </tr>\n",
              "    <tr>\n",
              "      <th>j</th>\n",
              "      <td>61</td>\n",
              "      <td>-0.79</td>\n",
              "      <td>2</td>\n",
              "      <td>B</td>\n",
              "      <td>2050-04-12</td>\n",
              "      <td>파이썬</td>\n",
              "      <td>9774.074668</td>\n",
              "      <td>0.0</td>\n",
              "    </tr>\n",
              "    <tr>\n",
              "      <th>z</th>\n",
              "      <td>-1000</td>\n",
              "      <td>1000.00</td>\n",
              "      <td>1000</td>\n",
              "      <td>NaN</td>\n",
              "      <td>NaT</td>\n",
              "      <td>NaN</td>\n",
              "      <td>NaN</td>\n",
              "      <td>NaN</td>\n",
              "    </tr>\n",
              "  </tbody>\n",
              "</table>\n",
              "</div>"
            ],
            "text/plain": [
              "      A        B     C    D          E       F              G  Positive\n",
              "a    73     0.35     4    A 2050-04-13     파이썬   59591.836735       1.0\n",
              "b   -29     0.12     0    A 2050-04-14     파이썬 -201388.888889       1.0\n",
              "c    85     0.71     3    A 2050-04-15     파이썬   16861.733783       1.0\n",
              "d   -32    -0.09     0    B 2050-04-16     파이썬 -395061.728395       0.0\n",
              "e   -15     0.55     1  NaN        NaT  Python       0.000000       NaN\n",
              "f    11     1.32     5    b 2050-04-18     파이썬     631.313131       1.0\n",
              "g    55    -0.65     3  NaN 2050-04-19     파이썬   13017.751479       0.0\n",
              "h   -78     0.34     0    C 2050-04-10     파이썬  -67474.048443       1.0\n",
              "i    49    -1.23     1    A 2050-04-11     파이썬    3238.812876       0.0\n",
              "j    61    -0.79     2    B 2050-04-12     파이썬    9774.074668       0.0\n",
              "z -1000  1000.00  1000  NaN        NaT     NaN            NaN       NaN"
            ]
          },
          "metadata": {
            "tags": []
          },
          "execution_count": 144
        }
      ]
    },
    {
      "cell_type": "markdown",
      "metadata": {
        "id": "6tpJXQEsmsOw",
        "colab_type": "text"
      },
      "source": [
        "**<font size='+1'>열 삭제</font>**"
      ]
    },
    {
      "cell_type": "code",
      "metadata": {
        "id": "Sl4LxyCZmsOx",
        "colab_type": "code",
        "colab": {
          "base_uri": "https://localhost:8080/",
          "height": 390
        },
        "outputId": "208d4e67-b518-44cc-b648-7f25a94c2add"
      },
      "source": [
        "# 'D' 열을 삭제한다.\n",
        "new_df = df.drop('D', axis='columns')  # axis=1과 같다.\n",
        "new_df"
      ],
      "execution_count": null,
      "outputs": [
        {
          "output_type": "execute_result",
          "data": {
            "text/html": [
              "<div>\n",
              "<style scoped>\n",
              "    .dataframe tbody tr th:only-of-type {\n",
              "        vertical-align: middle;\n",
              "    }\n",
              "\n",
              "    .dataframe tbody tr th {\n",
              "        vertical-align: top;\n",
              "    }\n",
              "\n",
              "    .dataframe thead th {\n",
              "        text-align: right;\n",
              "    }\n",
              "</style>\n",
              "<table border=\"1\" class=\"dataframe\">\n",
              "  <thead>\n",
              "    <tr style=\"text-align: right;\">\n",
              "      <th></th>\n",
              "      <th>A</th>\n",
              "      <th>B</th>\n",
              "      <th>C</th>\n",
              "      <th>E</th>\n",
              "      <th>F</th>\n",
              "      <th>G</th>\n",
              "      <th>Positive</th>\n",
              "    </tr>\n",
              "  </thead>\n",
              "  <tbody>\n",
              "    <tr>\n",
              "      <th>a</th>\n",
              "      <td>73</td>\n",
              "      <td>0.35</td>\n",
              "      <td>4</td>\n",
              "      <td>2050-04-13</td>\n",
              "      <td>파이썬</td>\n",
              "      <td>59591.836735</td>\n",
              "      <td>1.0</td>\n",
              "    </tr>\n",
              "    <tr>\n",
              "      <th>b</th>\n",
              "      <td>-29</td>\n",
              "      <td>0.12</td>\n",
              "      <td>0</td>\n",
              "      <td>2050-04-14</td>\n",
              "      <td>파이썬</td>\n",
              "      <td>-201388.888889</td>\n",
              "      <td>1.0</td>\n",
              "    </tr>\n",
              "    <tr>\n",
              "      <th>c</th>\n",
              "      <td>85</td>\n",
              "      <td>0.71</td>\n",
              "      <td>3</td>\n",
              "      <td>2050-04-15</td>\n",
              "      <td>파이썬</td>\n",
              "      <td>16861.733783</td>\n",
              "      <td>1.0</td>\n",
              "    </tr>\n",
              "    <tr>\n",
              "      <th>d</th>\n",
              "      <td>-32</td>\n",
              "      <td>-0.09</td>\n",
              "      <td>0</td>\n",
              "      <td>2050-04-16</td>\n",
              "      <td>파이썬</td>\n",
              "      <td>-395061.728395</td>\n",
              "      <td>0.0</td>\n",
              "    </tr>\n",
              "    <tr>\n",
              "      <th>e</th>\n",
              "      <td>-15</td>\n",
              "      <td>0.55</td>\n",
              "      <td>1</td>\n",
              "      <td>NaT</td>\n",
              "      <td>Python</td>\n",
              "      <td>0.000000</td>\n",
              "      <td>NaN</td>\n",
              "    </tr>\n",
              "    <tr>\n",
              "      <th>f</th>\n",
              "      <td>11</td>\n",
              "      <td>1.32</td>\n",
              "      <td>5</td>\n",
              "      <td>2050-04-18</td>\n",
              "      <td>파이썬</td>\n",
              "      <td>631.313131</td>\n",
              "      <td>1.0</td>\n",
              "    </tr>\n",
              "    <tr>\n",
              "      <th>g</th>\n",
              "      <td>55</td>\n",
              "      <td>-0.65</td>\n",
              "      <td>3</td>\n",
              "      <td>2050-04-19</td>\n",
              "      <td>파이썬</td>\n",
              "      <td>13017.751479</td>\n",
              "      <td>0.0</td>\n",
              "    </tr>\n",
              "    <tr>\n",
              "      <th>h</th>\n",
              "      <td>-78</td>\n",
              "      <td>0.34</td>\n",
              "      <td>0</td>\n",
              "      <td>2050-04-10</td>\n",
              "      <td>파이썬</td>\n",
              "      <td>-67474.048443</td>\n",
              "      <td>1.0</td>\n",
              "    </tr>\n",
              "    <tr>\n",
              "      <th>i</th>\n",
              "      <td>49</td>\n",
              "      <td>-1.23</td>\n",
              "      <td>1</td>\n",
              "      <td>2050-04-11</td>\n",
              "      <td>파이썬</td>\n",
              "      <td>3238.812876</td>\n",
              "      <td>0.0</td>\n",
              "    </tr>\n",
              "    <tr>\n",
              "      <th>j</th>\n",
              "      <td>61</td>\n",
              "      <td>-0.79</td>\n",
              "      <td>2</td>\n",
              "      <td>2050-04-12</td>\n",
              "      <td>파이썬</td>\n",
              "      <td>9774.074668</td>\n",
              "      <td>0.0</td>\n",
              "    </tr>\n",
              "    <tr>\n",
              "      <th>z</th>\n",
              "      <td>-1000</td>\n",
              "      <td>1000.00</td>\n",
              "      <td>1000</td>\n",
              "      <td>NaT</td>\n",
              "      <td>NaN</td>\n",
              "      <td>NaN</td>\n",
              "      <td>NaN</td>\n",
              "    </tr>\n",
              "  </tbody>\n",
              "</table>\n",
              "</div>"
            ],
            "text/plain": [
              "      A        B     C          E       F              G  Positive\n",
              "a    73     0.35     4 2050-04-13     파이썬   59591.836735       1.0\n",
              "b   -29     0.12     0 2050-04-14     파이썬 -201388.888889       1.0\n",
              "c    85     0.71     3 2050-04-15     파이썬   16861.733783       1.0\n",
              "d   -32    -0.09     0 2050-04-16     파이썬 -395061.728395       0.0\n",
              "e   -15     0.55     1        NaT  Python       0.000000       NaN\n",
              "f    11     1.32     5 2050-04-18     파이썬     631.313131       1.0\n",
              "g    55    -0.65     3 2050-04-19     파이썬   13017.751479       0.0\n",
              "h   -78     0.34     0 2050-04-10     파이썬  -67474.048443       1.0\n",
              "i    49    -1.23     1 2050-04-11     파이썬    3238.812876       0.0\n",
              "j    61    -0.79     2 2050-04-12     파이썬    9774.074668       0.0\n",
              "z -1000  1000.00  1000        NaT     NaN            NaN       NaN"
            ]
          },
          "metadata": {
            "tags": []
          },
          "execution_count": 145
        }
      ]
    },
    {
      "cell_type": "code",
      "metadata": {
        "id": "O-aHzvbXmsOy",
        "colab_type": "code",
        "colab": {
          "base_uri": "https://localhost:8080/",
          "height": 390
        },
        "outputId": "99e14968-d862-4a4b-fc71-830121da1b78"
      },
      "source": [
        "# (방법 1) 'F', 'G', 'Positive' 열을 삭제한다.\n",
        "df.drop(['F', 'G', 'Positive'], axis=1)  # axis='columns'와 같다."
      ],
      "execution_count": null,
      "outputs": [
        {
          "output_type": "execute_result",
          "data": {
            "text/html": [
              "<div>\n",
              "<style scoped>\n",
              "    .dataframe tbody tr th:only-of-type {\n",
              "        vertical-align: middle;\n",
              "    }\n",
              "\n",
              "    .dataframe tbody tr th {\n",
              "        vertical-align: top;\n",
              "    }\n",
              "\n",
              "    .dataframe thead th {\n",
              "        text-align: right;\n",
              "    }\n",
              "</style>\n",
              "<table border=\"1\" class=\"dataframe\">\n",
              "  <thead>\n",
              "    <tr style=\"text-align: right;\">\n",
              "      <th></th>\n",
              "      <th>A</th>\n",
              "      <th>B</th>\n",
              "      <th>C</th>\n",
              "      <th>D</th>\n",
              "      <th>E</th>\n",
              "    </tr>\n",
              "  </thead>\n",
              "  <tbody>\n",
              "    <tr>\n",
              "      <th>a</th>\n",
              "      <td>73</td>\n",
              "      <td>0.35</td>\n",
              "      <td>4</td>\n",
              "      <td>A</td>\n",
              "      <td>2050-04-13</td>\n",
              "    </tr>\n",
              "    <tr>\n",
              "      <th>b</th>\n",
              "      <td>-29</td>\n",
              "      <td>0.12</td>\n",
              "      <td>0</td>\n",
              "      <td>A</td>\n",
              "      <td>2050-04-14</td>\n",
              "    </tr>\n",
              "    <tr>\n",
              "      <th>c</th>\n",
              "      <td>85</td>\n",
              "      <td>0.71</td>\n",
              "      <td>3</td>\n",
              "      <td>A</td>\n",
              "      <td>2050-04-15</td>\n",
              "    </tr>\n",
              "    <tr>\n",
              "      <th>d</th>\n",
              "      <td>-32</td>\n",
              "      <td>-0.09</td>\n",
              "      <td>0</td>\n",
              "      <td>B</td>\n",
              "      <td>2050-04-16</td>\n",
              "    </tr>\n",
              "    <tr>\n",
              "      <th>e</th>\n",
              "      <td>-15</td>\n",
              "      <td>0.55</td>\n",
              "      <td>1</td>\n",
              "      <td>NaN</td>\n",
              "      <td>NaT</td>\n",
              "    </tr>\n",
              "    <tr>\n",
              "      <th>f</th>\n",
              "      <td>11</td>\n",
              "      <td>1.32</td>\n",
              "      <td>5</td>\n",
              "      <td>b</td>\n",
              "      <td>2050-04-18</td>\n",
              "    </tr>\n",
              "    <tr>\n",
              "      <th>g</th>\n",
              "      <td>55</td>\n",
              "      <td>-0.65</td>\n",
              "      <td>3</td>\n",
              "      <td>NaN</td>\n",
              "      <td>2050-04-19</td>\n",
              "    </tr>\n",
              "    <tr>\n",
              "      <th>h</th>\n",
              "      <td>-78</td>\n",
              "      <td>0.34</td>\n",
              "      <td>0</td>\n",
              "      <td>C</td>\n",
              "      <td>2050-04-10</td>\n",
              "    </tr>\n",
              "    <tr>\n",
              "      <th>i</th>\n",
              "      <td>49</td>\n",
              "      <td>-1.23</td>\n",
              "      <td>1</td>\n",
              "      <td>A</td>\n",
              "      <td>2050-04-11</td>\n",
              "    </tr>\n",
              "    <tr>\n",
              "      <th>j</th>\n",
              "      <td>61</td>\n",
              "      <td>-0.79</td>\n",
              "      <td>2</td>\n",
              "      <td>B</td>\n",
              "      <td>2050-04-12</td>\n",
              "    </tr>\n",
              "    <tr>\n",
              "      <th>z</th>\n",
              "      <td>-1000</td>\n",
              "      <td>1000.00</td>\n",
              "      <td>1000</td>\n",
              "      <td>NaN</td>\n",
              "      <td>NaT</td>\n",
              "    </tr>\n",
              "  </tbody>\n",
              "</table>\n",
              "</div>"
            ],
            "text/plain": [
              "      A        B     C    D          E\n",
              "a    73     0.35     4    A 2050-04-13\n",
              "b   -29     0.12     0    A 2050-04-14\n",
              "c    85     0.71     3    A 2050-04-15\n",
              "d   -32    -0.09     0    B 2050-04-16\n",
              "e   -15     0.55     1  NaN        NaT\n",
              "f    11     1.32     5    b 2050-04-18\n",
              "g    55    -0.65     3  NaN 2050-04-19\n",
              "h   -78     0.34     0    C 2050-04-10\n",
              "i    49    -1.23     1    A 2050-04-11\n",
              "j    61    -0.79     2    B 2050-04-12\n",
              "z -1000  1000.00  1000  NaN        NaT"
            ]
          },
          "metadata": {
            "tags": []
          },
          "execution_count": 146
        }
      ]
    },
    {
      "cell_type": "code",
      "metadata": {
        "id": "J14y5xQgmsOz",
        "colab_type": "code",
        "colab": {
          "base_uri": "https://localhost:8080/",
          "height": 390
        },
        "outputId": "6de2a63f-34e8-4036-b554-f36517adc8a4"
      },
      "source": [
        "# (방법 2) 'A'와 'E' 열을 삭제한다.\n",
        "df.drop(columns=['F', 'G', 'Positive'])"
      ],
      "execution_count": null,
      "outputs": [
        {
          "output_type": "execute_result",
          "data": {
            "text/html": [
              "<div>\n",
              "<style scoped>\n",
              "    .dataframe tbody tr th:only-of-type {\n",
              "        vertical-align: middle;\n",
              "    }\n",
              "\n",
              "    .dataframe tbody tr th {\n",
              "        vertical-align: top;\n",
              "    }\n",
              "\n",
              "    .dataframe thead th {\n",
              "        text-align: right;\n",
              "    }\n",
              "</style>\n",
              "<table border=\"1\" class=\"dataframe\">\n",
              "  <thead>\n",
              "    <tr style=\"text-align: right;\">\n",
              "      <th></th>\n",
              "      <th>A</th>\n",
              "      <th>B</th>\n",
              "      <th>C</th>\n",
              "      <th>D</th>\n",
              "      <th>E</th>\n",
              "    </tr>\n",
              "  </thead>\n",
              "  <tbody>\n",
              "    <tr>\n",
              "      <th>a</th>\n",
              "      <td>73</td>\n",
              "      <td>0.35</td>\n",
              "      <td>4</td>\n",
              "      <td>A</td>\n",
              "      <td>2050-04-13</td>\n",
              "    </tr>\n",
              "    <tr>\n",
              "      <th>b</th>\n",
              "      <td>-29</td>\n",
              "      <td>0.12</td>\n",
              "      <td>0</td>\n",
              "      <td>A</td>\n",
              "      <td>2050-04-14</td>\n",
              "    </tr>\n",
              "    <tr>\n",
              "      <th>c</th>\n",
              "      <td>85</td>\n",
              "      <td>0.71</td>\n",
              "      <td>3</td>\n",
              "      <td>A</td>\n",
              "      <td>2050-04-15</td>\n",
              "    </tr>\n",
              "    <tr>\n",
              "      <th>d</th>\n",
              "      <td>-32</td>\n",
              "      <td>-0.09</td>\n",
              "      <td>0</td>\n",
              "      <td>B</td>\n",
              "      <td>2050-04-16</td>\n",
              "    </tr>\n",
              "    <tr>\n",
              "      <th>e</th>\n",
              "      <td>-15</td>\n",
              "      <td>0.55</td>\n",
              "      <td>1</td>\n",
              "      <td>NaN</td>\n",
              "      <td>NaT</td>\n",
              "    </tr>\n",
              "    <tr>\n",
              "      <th>f</th>\n",
              "      <td>11</td>\n",
              "      <td>1.32</td>\n",
              "      <td>5</td>\n",
              "      <td>b</td>\n",
              "      <td>2050-04-18</td>\n",
              "    </tr>\n",
              "    <tr>\n",
              "      <th>g</th>\n",
              "      <td>55</td>\n",
              "      <td>-0.65</td>\n",
              "      <td>3</td>\n",
              "      <td>NaN</td>\n",
              "      <td>2050-04-19</td>\n",
              "    </tr>\n",
              "    <tr>\n",
              "      <th>h</th>\n",
              "      <td>-78</td>\n",
              "      <td>0.34</td>\n",
              "      <td>0</td>\n",
              "      <td>C</td>\n",
              "      <td>2050-04-10</td>\n",
              "    </tr>\n",
              "    <tr>\n",
              "      <th>i</th>\n",
              "      <td>49</td>\n",
              "      <td>-1.23</td>\n",
              "      <td>1</td>\n",
              "      <td>A</td>\n",
              "      <td>2050-04-11</td>\n",
              "    </tr>\n",
              "    <tr>\n",
              "      <th>j</th>\n",
              "      <td>61</td>\n",
              "      <td>-0.79</td>\n",
              "      <td>2</td>\n",
              "      <td>B</td>\n",
              "      <td>2050-04-12</td>\n",
              "    </tr>\n",
              "    <tr>\n",
              "      <th>z</th>\n",
              "      <td>-1000</td>\n",
              "      <td>1000.00</td>\n",
              "      <td>1000</td>\n",
              "      <td>NaN</td>\n",
              "      <td>NaT</td>\n",
              "    </tr>\n",
              "  </tbody>\n",
              "</table>\n",
              "</div>"
            ],
            "text/plain": [
              "      A        B     C    D          E\n",
              "a    73     0.35     4    A 2050-04-13\n",
              "b   -29     0.12     0    A 2050-04-14\n",
              "c    85     0.71     3    A 2050-04-15\n",
              "d   -32    -0.09     0    B 2050-04-16\n",
              "e   -15     0.55     1  NaN        NaT\n",
              "f    11     1.32     5    b 2050-04-18\n",
              "g    55    -0.65     3  NaN 2050-04-19\n",
              "h   -78     0.34     0    C 2050-04-10\n",
              "i    49    -1.23     1    A 2050-04-11\n",
              "j    61    -0.79     2    B 2050-04-12\n",
              "z -1000  1000.00  1000  NaN        NaT"
            ]
          },
          "metadata": {
            "tags": []
          },
          "execution_count": 148
        }
      ]
    },
    {
      "cell_type": "markdown",
      "metadata": {
        "id": "FuwR7ODpmsO0",
        "colab_type": "text"
      },
      "source": [
        "**<font size='+1'>원본 데이터프레임 자체의 행/열 삭제</font>**"
      ]
    },
    {
      "cell_type": "code",
      "metadata": {
        "id": "cepODPDdmsO0",
        "colab_type": "code",
        "colab": {
          "base_uri": "https://localhost:8080/",
          "height": 390
        },
        "outputId": "04fe2e70-3389-45b2-9502-103b41f1f73e"
      },
      "source": [
        "df"
      ],
      "execution_count": null,
      "outputs": [
        {
          "output_type": "execute_result",
          "data": {
            "text/html": [
              "<div>\n",
              "<style scoped>\n",
              "    .dataframe tbody tr th:only-of-type {\n",
              "        vertical-align: middle;\n",
              "    }\n",
              "\n",
              "    .dataframe tbody tr th {\n",
              "        vertical-align: top;\n",
              "    }\n",
              "\n",
              "    .dataframe thead th {\n",
              "        text-align: right;\n",
              "    }\n",
              "</style>\n",
              "<table border=\"1\" class=\"dataframe\">\n",
              "  <thead>\n",
              "    <tr style=\"text-align: right;\">\n",
              "      <th></th>\n",
              "      <th>A</th>\n",
              "      <th>B</th>\n",
              "      <th>C</th>\n",
              "      <th>D</th>\n",
              "      <th>E</th>\n",
              "      <th>F</th>\n",
              "      <th>G</th>\n",
              "      <th>Positive</th>\n",
              "    </tr>\n",
              "  </thead>\n",
              "  <tbody>\n",
              "    <tr>\n",
              "      <th>a</th>\n",
              "      <td>73</td>\n",
              "      <td>0.35</td>\n",
              "      <td>4</td>\n",
              "      <td>A</td>\n",
              "      <td>2050-04-13</td>\n",
              "      <td>파이썬</td>\n",
              "      <td>59591.836735</td>\n",
              "      <td>1.0</td>\n",
              "    </tr>\n",
              "    <tr>\n",
              "      <th>b</th>\n",
              "      <td>-29</td>\n",
              "      <td>0.12</td>\n",
              "      <td>0</td>\n",
              "      <td>A</td>\n",
              "      <td>2050-04-14</td>\n",
              "      <td>파이썬</td>\n",
              "      <td>-201388.888889</td>\n",
              "      <td>1.0</td>\n",
              "    </tr>\n",
              "    <tr>\n",
              "      <th>c</th>\n",
              "      <td>85</td>\n",
              "      <td>0.71</td>\n",
              "      <td>3</td>\n",
              "      <td>A</td>\n",
              "      <td>2050-04-15</td>\n",
              "      <td>파이썬</td>\n",
              "      <td>16861.733783</td>\n",
              "      <td>1.0</td>\n",
              "    </tr>\n",
              "    <tr>\n",
              "      <th>d</th>\n",
              "      <td>-32</td>\n",
              "      <td>-0.09</td>\n",
              "      <td>0</td>\n",
              "      <td>B</td>\n",
              "      <td>2050-04-16</td>\n",
              "      <td>파이썬</td>\n",
              "      <td>-395061.728395</td>\n",
              "      <td>0.0</td>\n",
              "    </tr>\n",
              "    <tr>\n",
              "      <th>e</th>\n",
              "      <td>-15</td>\n",
              "      <td>0.55</td>\n",
              "      <td>1</td>\n",
              "      <td>NaN</td>\n",
              "      <td>NaT</td>\n",
              "      <td>Python</td>\n",
              "      <td>0.000000</td>\n",
              "      <td>NaN</td>\n",
              "    </tr>\n",
              "    <tr>\n",
              "      <th>f</th>\n",
              "      <td>11</td>\n",
              "      <td>1.32</td>\n",
              "      <td>5</td>\n",
              "      <td>b</td>\n",
              "      <td>2050-04-18</td>\n",
              "      <td>파이썬</td>\n",
              "      <td>631.313131</td>\n",
              "      <td>1.0</td>\n",
              "    </tr>\n",
              "    <tr>\n",
              "      <th>g</th>\n",
              "      <td>55</td>\n",
              "      <td>-0.65</td>\n",
              "      <td>3</td>\n",
              "      <td>NaN</td>\n",
              "      <td>2050-04-19</td>\n",
              "      <td>파이썬</td>\n",
              "      <td>13017.751479</td>\n",
              "      <td>0.0</td>\n",
              "    </tr>\n",
              "    <tr>\n",
              "      <th>h</th>\n",
              "      <td>-78</td>\n",
              "      <td>0.34</td>\n",
              "      <td>0</td>\n",
              "      <td>C</td>\n",
              "      <td>2050-04-10</td>\n",
              "      <td>파이썬</td>\n",
              "      <td>-67474.048443</td>\n",
              "      <td>1.0</td>\n",
              "    </tr>\n",
              "    <tr>\n",
              "      <th>i</th>\n",
              "      <td>49</td>\n",
              "      <td>-1.23</td>\n",
              "      <td>1</td>\n",
              "      <td>A</td>\n",
              "      <td>2050-04-11</td>\n",
              "      <td>파이썬</td>\n",
              "      <td>3238.812876</td>\n",
              "      <td>0.0</td>\n",
              "    </tr>\n",
              "    <tr>\n",
              "      <th>j</th>\n",
              "      <td>61</td>\n",
              "      <td>-0.79</td>\n",
              "      <td>2</td>\n",
              "      <td>B</td>\n",
              "      <td>2050-04-12</td>\n",
              "      <td>파이썬</td>\n",
              "      <td>9774.074668</td>\n",
              "      <td>0.0</td>\n",
              "    </tr>\n",
              "    <tr>\n",
              "      <th>z</th>\n",
              "      <td>-1000</td>\n",
              "      <td>1000.00</td>\n",
              "      <td>1000</td>\n",
              "      <td>NaN</td>\n",
              "      <td>NaT</td>\n",
              "      <td>NaN</td>\n",
              "      <td>NaN</td>\n",
              "      <td>NaN</td>\n",
              "    </tr>\n",
              "  </tbody>\n",
              "</table>\n",
              "</div>"
            ],
            "text/plain": [
              "      A        B     C    D          E       F              G  Positive\n",
              "a    73     0.35     4    A 2050-04-13     파이썬   59591.836735       1.0\n",
              "b   -29     0.12     0    A 2050-04-14     파이썬 -201388.888889       1.0\n",
              "c    85     0.71     3    A 2050-04-15     파이썬   16861.733783       1.0\n",
              "d   -32    -0.09     0    B 2050-04-16     파이썬 -395061.728395       0.0\n",
              "e   -15     0.55     1  NaN        NaT  Python       0.000000       NaN\n",
              "f    11     1.32     5    b 2050-04-18     파이썬     631.313131       1.0\n",
              "g    55    -0.65     3  NaN 2050-04-19     파이썬   13017.751479       0.0\n",
              "h   -78     0.34     0    C 2050-04-10     파이썬  -67474.048443       1.0\n",
              "i    49    -1.23     1    A 2050-04-11     파이썬    3238.812876       0.0\n",
              "j    61    -0.79     2    B 2050-04-12     파이썬    9774.074668       0.0\n",
              "z -1000  1000.00  1000  NaN        NaT     NaN            NaN       NaN"
            ]
          },
          "metadata": {
            "tags": []
          },
          "execution_count": 150
        }
      ]
    },
    {
      "cell_type": "code",
      "metadata": {
        "id": "So3ItWlImsO1",
        "colab_type": "code",
        "colab": {
          "base_uri": "https://localhost:8080/",
          "height": 359
        },
        "outputId": "3a9ff9eb-acbd-4270-8d06-657be9bb2be1"
      },
      "source": [
        "# 인덱스가 'b'인 행을 삭제한다.\n",
        "df.drop('b', inplace=True)\n",
        "df"
      ],
      "execution_count": null,
      "outputs": [
        {
          "output_type": "execute_result",
          "data": {
            "text/html": [
              "<div>\n",
              "<style scoped>\n",
              "    .dataframe tbody tr th:only-of-type {\n",
              "        vertical-align: middle;\n",
              "    }\n",
              "\n",
              "    .dataframe tbody tr th {\n",
              "        vertical-align: top;\n",
              "    }\n",
              "\n",
              "    .dataframe thead th {\n",
              "        text-align: right;\n",
              "    }\n",
              "</style>\n",
              "<table border=\"1\" class=\"dataframe\">\n",
              "  <thead>\n",
              "    <tr style=\"text-align: right;\">\n",
              "      <th></th>\n",
              "      <th>A</th>\n",
              "      <th>B</th>\n",
              "      <th>C</th>\n",
              "      <th>D</th>\n",
              "      <th>E</th>\n",
              "      <th>F</th>\n",
              "      <th>G</th>\n",
              "      <th>Positive</th>\n",
              "    </tr>\n",
              "  </thead>\n",
              "  <tbody>\n",
              "    <tr>\n",
              "      <th>a</th>\n",
              "      <td>73</td>\n",
              "      <td>0.35</td>\n",
              "      <td>4</td>\n",
              "      <td>A</td>\n",
              "      <td>2050-04-13</td>\n",
              "      <td>파이썬</td>\n",
              "      <td>59591.836735</td>\n",
              "      <td>1.0</td>\n",
              "    </tr>\n",
              "    <tr>\n",
              "      <th>c</th>\n",
              "      <td>85</td>\n",
              "      <td>0.71</td>\n",
              "      <td>3</td>\n",
              "      <td>A</td>\n",
              "      <td>2050-04-15</td>\n",
              "      <td>파이썬</td>\n",
              "      <td>16861.733783</td>\n",
              "      <td>1.0</td>\n",
              "    </tr>\n",
              "    <tr>\n",
              "      <th>d</th>\n",
              "      <td>-32</td>\n",
              "      <td>-0.09</td>\n",
              "      <td>0</td>\n",
              "      <td>B</td>\n",
              "      <td>2050-04-16</td>\n",
              "      <td>파이썬</td>\n",
              "      <td>-395061.728395</td>\n",
              "      <td>0.0</td>\n",
              "    </tr>\n",
              "    <tr>\n",
              "      <th>e</th>\n",
              "      <td>-15</td>\n",
              "      <td>0.55</td>\n",
              "      <td>1</td>\n",
              "      <td>NaN</td>\n",
              "      <td>NaT</td>\n",
              "      <td>Python</td>\n",
              "      <td>0.000000</td>\n",
              "      <td>NaN</td>\n",
              "    </tr>\n",
              "    <tr>\n",
              "      <th>f</th>\n",
              "      <td>11</td>\n",
              "      <td>1.32</td>\n",
              "      <td>5</td>\n",
              "      <td>b</td>\n",
              "      <td>2050-04-18</td>\n",
              "      <td>파이썬</td>\n",
              "      <td>631.313131</td>\n",
              "      <td>1.0</td>\n",
              "    </tr>\n",
              "    <tr>\n",
              "      <th>g</th>\n",
              "      <td>55</td>\n",
              "      <td>-0.65</td>\n",
              "      <td>3</td>\n",
              "      <td>NaN</td>\n",
              "      <td>2050-04-19</td>\n",
              "      <td>파이썬</td>\n",
              "      <td>13017.751479</td>\n",
              "      <td>0.0</td>\n",
              "    </tr>\n",
              "    <tr>\n",
              "      <th>h</th>\n",
              "      <td>-78</td>\n",
              "      <td>0.34</td>\n",
              "      <td>0</td>\n",
              "      <td>C</td>\n",
              "      <td>2050-04-10</td>\n",
              "      <td>파이썬</td>\n",
              "      <td>-67474.048443</td>\n",
              "      <td>1.0</td>\n",
              "    </tr>\n",
              "    <tr>\n",
              "      <th>i</th>\n",
              "      <td>49</td>\n",
              "      <td>-1.23</td>\n",
              "      <td>1</td>\n",
              "      <td>A</td>\n",
              "      <td>2050-04-11</td>\n",
              "      <td>파이썬</td>\n",
              "      <td>3238.812876</td>\n",
              "      <td>0.0</td>\n",
              "    </tr>\n",
              "    <tr>\n",
              "      <th>j</th>\n",
              "      <td>61</td>\n",
              "      <td>-0.79</td>\n",
              "      <td>2</td>\n",
              "      <td>B</td>\n",
              "      <td>2050-04-12</td>\n",
              "      <td>파이썬</td>\n",
              "      <td>9774.074668</td>\n",
              "      <td>0.0</td>\n",
              "    </tr>\n",
              "    <tr>\n",
              "      <th>z</th>\n",
              "      <td>-1000</td>\n",
              "      <td>1000.00</td>\n",
              "      <td>1000</td>\n",
              "      <td>NaN</td>\n",
              "      <td>NaT</td>\n",
              "      <td>NaN</td>\n",
              "      <td>NaN</td>\n",
              "      <td>NaN</td>\n",
              "    </tr>\n",
              "  </tbody>\n",
              "</table>\n",
              "</div>"
            ],
            "text/plain": [
              "      A        B     C    D          E       F              G  Positive\n",
              "a    73     0.35     4    A 2050-04-13     파이썬   59591.836735       1.0\n",
              "c    85     0.71     3    A 2050-04-15     파이썬   16861.733783       1.0\n",
              "d   -32    -0.09     0    B 2050-04-16     파이썬 -395061.728395       0.0\n",
              "e   -15     0.55     1  NaN        NaT  Python       0.000000       NaN\n",
              "f    11     1.32     5    b 2050-04-18     파이썬     631.313131       1.0\n",
              "g    55    -0.65     3  NaN 2050-04-19     파이썬   13017.751479       0.0\n",
              "h   -78     0.34     0    C 2050-04-10     파이썬  -67474.048443       1.0\n",
              "i    49    -1.23     1    A 2050-04-11     파이썬    3238.812876       0.0\n",
              "j    61    -0.79     2    B 2050-04-12     파이썬    9774.074668       0.0\n",
              "z -1000  1000.00  1000  NaN        NaT     NaN            NaN       NaN"
            ]
          },
          "metadata": {
            "tags": []
          },
          "execution_count": 151
        }
      ]
    },
    {
      "cell_type": "code",
      "metadata": {
        "id": "9xsnay14msO2",
        "colab_type": "code",
        "colab": {
          "base_uri": "https://localhost:8080/",
          "height": 297
        },
        "outputId": "ce67c7e7-8e44-457f-faf2-3aadf09a3905"
      },
      "source": [
        "# 인덱스가 'a'과 'z'인 행을 삭제한다.\n",
        "df.drop(['a', 'z'], inplace=True)\n",
        "df"
      ],
      "execution_count": null,
      "outputs": [
        {
          "output_type": "execute_result",
          "data": {
            "text/html": [
              "<div>\n",
              "<style scoped>\n",
              "    .dataframe tbody tr th:only-of-type {\n",
              "        vertical-align: middle;\n",
              "    }\n",
              "\n",
              "    .dataframe tbody tr th {\n",
              "        vertical-align: top;\n",
              "    }\n",
              "\n",
              "    .dataframe thead th {\n",
              "        text-align: right;\n",
              "    }\n",
              "</style>\n",
              "<table border=\"1\" class=\"dataframe\">\n",
              "  <thead>\n",
              "    <tr style=\"text-align: right;\">\n",
              "      <th></th>\n",
              "      <th>A</th>\n",
              "      <th>B</th>\n",
              "      <th>C</th>\n",
              "      <th>D</th>\n",
              "      <th>E</th>\n",
              "      <th>F</th>\n",
              "      <th>G</th>\n",
              "      <th>Positive</th>\n",
              "    </tr>\n",
              "  </thead>\n",
              "  <tbody>\n",
              "    <tr>\n",
              "      <th>c</th>\n",
              "      <td>85</td>\n",
              "      <td>0.71</td>\n",
              "      <td>3</td>\n",
              "      <td>A</td>\n",
              "      <td>2050-04-15</td>\n",
              "      <td>파이썬</td>\n",
              "      <td>16861.733783</td>\n",
              "      <td>1.0</td>\n",
              "    </tr>\n",
              "    <tr>\n",
              "      <th>d</th>\n",
              "      <td>-32</td>\n",
              "      <td>-0.09</td>\n",
              "      <td>0</td>\n",
              "      <td>B</td>\n",
              "      <td>2050-04-16</td>\n",
              "      <td>파이썬</td>\n",
              "      <td>-395061.728395</td>\n",
              "      <td>0.0</td>\n",
              "    </tr>\n",
              "    <tr>\n",
              "      <th>e</th>\n",
              "      <td>-15</td>\n",
              "      <td>0.55</td>\n",
              "      <td>1</td>\n",
              "      <td>NaN</td>\n",
              "      <td>NaT</td>\n",
              "      <td>Python</td>\n",
              "      <td>0.000000</td>\n",
              "      <td>NaN</td>\n",
              "    </tr>\n",
              "    <tr>\n",
              "      <th>f</th>\n",
              "      <td>11</td>\n",
              "      <td>1.32</td>\n",
              "      <td>5</td>\n",
              "      <td>b</td>\n",
              "      <td>2050-04-18</td>\n",
              "      <td>파이썬</td>\n",
              "      <td>631.313131</td>\n",
              "      <td>1.0</td>\n",
              "    </tr>\n",
              "    <tr>\n",
              "      <th>g</th>\n",
              "      <td>55</td>\n",
              "      <td>-0.65</td>\n",
              "      <td>3</td>\n",
              "      <td>NaN</td>\n",
              "      <td>2050-04-19</td>\n",
              "      <td>파이썬</td>\n",
              "      <td>13017.751479</td>\n",
              "      <td>0.0</td>\n",
              "    </tr>\n",
              "    <tr>\n",
              "      <th>h</th>\n",
              "      <td>-78</td>\n",
              "      <td>0.34</td>\n",
              "      <td>0</td>\n",
              "      <td>C</td>\n",
              "      <td>2050-04-10</td>\n",
              "      <td>파이썬</td>\n",
              "      <td>-67474.048443</td>\n",
              "      <td>1.0</td>\n",
              "    </tr>\n",
              "    <tr>\n",
              "      <th>i</th>\n",
              "      <td>49</td>\n",
              "      <td>-1.23</td>\n",
              "      <td>1</td>\n",
              "      <td>A</td>\n",
              "      <td>2050-04-11</td>\n",
              "      <td>파이썬</td>\n",
              "      <td>3238.812876</td>\n",
              "      <td>0.0</td>\n",
              "    </tr>\n",
              "    <tr>\n",
              "      <th>j</th>\n",
              "      <td>61</td>\n",
              "      <td>-0.79</td>\n",
              "      <td>2</td>\n",
              "      <td>B</td>\n",
              "      <td>2050-04-12</td>\n",
              "      <td>파이썬</td>\n",
              "      <td>9774.074668</td>\n",
              "      <td>0.0</td>\n",
              "    </tr>\n",
              "  </tbody>\n",
              "</table>\n",
              "</div>"
            ],
            "text/plain": [
              "    A     B  C    D          E       F              G  Positive\n",
              "c  85  0.71  3    A 2050-04-15     파이썬   16861.733783       1.0\n",
              "d -32 -0.09  0    B 2050-04-16     파이썬 -395061.728395       0.0\n",
              "e -15  0.55  1  NaN        NaT  Python       0.000000       NaN\n",
              "f  11  1.32  5    b 2050-04-18     파이썬     631.313131       1.0\n",
              "g  55 -0.65  3  NaN 2050-04-19     파이썬   13017.751479       0.0\n",
              "h -78  0.34  0    C 2050-04-10     파이썬  -67474.048443       1.0\n",
              "i  49 -1.23  1    A 2050-04-11     파이썬    3238.812876       0.0\n",
              "j  61 -0.79  2    B 2050-04-12     파이썬    9774.074668       0.0"
            ]
          },
          "metadata": {
            "tags": []
          },
          "execution_count": 152
        }
      ]
    },
    {
      "cell_type": "code",
      "metadata": {
        "id": "zzDHpV5-msO3",
        "colab_type": "code",
        "colab": {
          "base_uri": "https://localhost:8080/",
          "height": 297
        },
        "outputId": "74cc26e5-082b-4f77-f966-cabea0372f88"
      },
      "source": [
        "# 'F' 열을 삭제한다.\n",
        "df.drop('F', axis=1, inplace=True)  # axis='columns'와 같다.\n",
        "df"
      ],
      "execution_count": null,
      "outputs": [
        {
          "output_type": "execute_result",
          "data": {
            "text/html": [
              "<div>\n",
              "<style scoped>\n",
              "    .dataframe tbody tr th:only-of-type {\n",
              "        vertical-align: middle;\n",
              "    }\n",
              "\n",
              "    .dataframe tbody tr th {\n",
              "        vertical-align: top;\n",
              "    }\n",
              "\n",
              "    .dataframe thead th {\n",
              "        text-align: right;\n",
              "    }\n",
              "</style>\n",
              "<table border=\"1\" class=\"dataframe\">\n",
              "  <thead>\n",
              "    <tr style=\"text-align: right;\">\n",
              "      <th></th>\n",
              "      <th>A</th>\n",
              "      <th>B</th>\n",
              "      <th>C</th>\n",
              "      <th>D</th>\n",
              "      <th>E</th>\n",
              "      <th>G</th>\n",
              "      <th>Positive</th>\n",
              "    </tr>\n",
              "  </thead>\n",
              "  <tbody>\n",
              "    <tr>\n",
              "      <th>c</th>\n",
              "      <td>85</td>\n",
              "      <td>0.71</td>\n",
              "      <td>3</td>\n",
              "      <td>A</td>\n",
              "      <td>2050-04-15</td>\n",
              "      <td>16861.733783</td>\n",
              "      <td>1.0</td>\n",
              "    </tr>\n",
              "    <tr>\n",
              "      <th>d</th>\n",
              "      <td>-32</td>\n",
              "      <td>-0.09</td>\n",
              "      <td>0</td>\n",
              "      <td>B</td>\n",
              "      <td>2050-04-16</td>\n",
              "      <td>-395061.728395</td>\n",
              "      <td>0.0</td>\n",
              "    </tr>\n",
              "    <tr>\n",
              "      <th>e</th>\n",
              "      <td>-15</td>\n",
              "      <td>0.55</td>\n",
              "      <td>1</td>\n",
              "      <td>NaN</td>\n",
              "      <td>NaT</td>\n",
              "      <td>0.000000</td>\n",
              "      <td>NaN</td>\n",
              "    </tr>\n",
              "    <tr>\n",
              "      <th>f</th>\n",
              "      <td>11</td>\n",
              "      <td>1.32</td>\n",
              "      <td>5</td>\n",
              "      <td>b</td>\n",
              "      <td>2050-04-18</td>\n",
              "      <td>631.313131</td>\n",
              "      <td>1.0</td>\n",
              "    </tr>\n",
              "    <tr>\n",
              "      <th>g</th>\n",
              "      <td>55</td>\n",
              "      <td>-0.65</td>\n",
              "      <td>3</td>\n",
              "      <td>NaN</td>\n",
              "      <td>2050-04-19</td>\n",
              "      <td>13017.751479</td>\n",
              "      <td>0.0</td>\n",
              "    </tr>\n",
              "    <tr>\n",
              "      <th>h</th>\n",
              "      <td>-78</td>\n",
              "      <td>0.34</td>\n",
              "      <td>0</td>\n",
              "      <td>C</td>\n",
              "      <td>2050-04-10</td>\n",
              "      <td>-67474.048443</td>\n",
              "      <td>1.0</td>\n",
              "    </tr>\n",
              "    <tr>\n",
              "      <th>i</th>\n",
              "      <td>49</td>\n",
              "      <td>-1.23</td>\n",
              "      <td>1</td>\n",
              "      <td>A</td>\n",
              "      <td>2050-04-11</td>\n",
              "      <td>3238.812876</td>\n",
              "      <td>0.0</td>\n",
              "    </tr>\n",
              "    <tr>\n",
              "      <th>j</th>\n",
              "      <td>61</td>\n",
              "      <td>-0.79</td>\n",
              "      <td>2</td>\n",
              "      <td>B</td>\n",
              "      <td>2050-04-12</td>\n",
              "      <td>9774.074668</td>\n",
              "      <td>0.0</td>\n",
              "    </tr>\n",
              "  </tbody>\n",
              "</table>\n",
              "</div>"
            ],
            "text/plain": [
              "    A     B  C    D          E              G  Positive\n",
              "c  85  0.71  3    A 2050-04-15   16861.733783       1.0\n",
              "d -32 -0.09  0    B 2050-04-16 -395061.728395       0.0\n",
              "e -15  0.55  1  NaN        NaT       0.000000       NaN\n",
              "f  11  1.32  5    b 2050-04-18     631.313131       1.0\n",
              "g  55 -0.65  3  NaN 2050-04-19   13017.751479       0.0\n",
              "h -78  0.34  0    C 2050-04-10  -67474.048443       1.0\n",
              "i  49 -1.23  1    A 2050-04-11    3238.812876       0.0\n",
              "j  61 -0.79  2    B 2050-04-12    9774.074668       0.0"
            ]
          },
          "metadata": {
            "tags": []
          },
          "execution_count": 153
        }
      ]
    },
    {
      "cell_type": "code",
      "metadata": {
        "id": "wSQ5Kvp5msO5",
        "colab_type": "code",
        "colab": {
          "base_uri": "https://localhost:8080/",
          "height": 297
        },
        "outputId": "cd933ba3-5f10-4952-bb6f-4d2796c286bf"
      },
      "source": [
        "# 'A'와 'G' 열을 삭제한다.\n",
        "df.drop(columns=['A', 'G'], inplace=True)\n",
        "\n",
        "# df.drop(['A', 'G'], axis='columns', inplace=True)와 같다.\n",
        "df"
      ],
      "execution_count": null,
      "outputs": [
        {
          "output_type": "execute_result",
          "data": {
            "text/html": [
              "<div>\n",
              "<style scoped>\n",
              "    .dataframe tbody tr th:only-of-type {\n",
              "        vertical-align: middle;\n",
              "    }\n",
              "\n",
              "    .dataframe tbody tr th {\n",
              "        vertical-align: top;\n",
              "    }\n",
              "\n",
              "    .dataframe thead th {\n",
              "        text-align: right;\n",
              "    }\n",
              "</style>\n",
              "<table border=\"1\" class=\"dataframe\">\n",
              "  <thead>\n",
              "    <tr style=\"text-align: right;\">\n",
              "      <th></th>\n",
              "      <th>B</th>\n",
              "      <th>C</th>\n",
              "      <th>D</th>\n",
              "      <th>E</th>\n",
              "      <th>Positive</th>\n",
              "    </tr>\n",
              "  </thead>\n",
              "  <tbody>\n",
              "    <tr>\n",
              "      <th>c</th>\n",
              "      <td>0.71</td>\n",
              "      <td>3</td>\n",
              "      <td>A</td>\n",
              "      <td>2050-04-15</td>\n",
              "      <td>1.0</td>\n",
              "    </tr>\n",
              "    <tr>\n",
              "      <th>d</th>\n",
              "      <td>-0.09</td>\n",
              "      <td>0</td>\n",
              "      <td>B</td>\n",
              "      <td>2050-04-16</td>\n",
              "      <td>0.0</td>\n",
              "    </tr>\n",
              "    <tr>\n",
              "      <th>e</th>\n",
              "      <td>0.55</td>\n",
              "      <td>1</td>\n",
              "      <td>NaN</td>\n",
              "      <td>NaT</td>\n",
              "      <td>NaN</td>\n",
              "    </tr>\n",
              "    <tr>\n",
              "      <th>f</th>\n",
              "      <td>1.32</td>\n",
              "      <td>5</td>\n",
              "      <td>b</td>\n",
              "      <td>2050-04-18</td>\n",
              "      <td>1.0</td>\n",
              "    </tr>\n",
              "    <tr>\n",
              "      <th>g</th>\n",
              "      <td>-0.65</td>\n",
              "      <td>3</td>\n",
              "      <td>NaN</td>\n",
              "      <td>2050-04-19</td>\n",
              "      <td>0.0</td>\n",
              "    </tr>\n",
              "    <tr>\n",
              "      <th>h</th>\n",
              "      <td>0.34</td>\n",
              "      <td>0</td>\n",
              "      <td>C</td>\n",
              "      <td>2050-04-10</td>\n",
              "      <td>1.0</td>\n",
              "    </tr>\n",
              "    <tr>\n",
              "      <th>i</th>\n",
              "      <td>-1.23</td>\n",
              "      <td>1</td>\n",
              "      <td>A</td>\n",
              "      <td>2050-04-11</td>\n",
              "      <td>0.0</td>\n",
              "    </tr>\n",
              "    <tr>\n",
              "      <th>j</th>\n",
              "      <td>-0.79</td>\n",
              "      <td>2</td>\n",
              "      <td>B</td>\n",
              "      <td>2050-04-12</td>\n",
              "      <td>0.0</td>\n",
              "    </tr>\n",
              "  </tbody>\n",
              "</table>\n",
              "</div>"
            ],
            "text/plain": [
              "      B  C    D          E  Positive\n",
              "c  0.71  3    A 2050-04-15       1.0\n",
              "d -0.09  0    B 2050-04-16       0.0\n",
              "e  0.55  1  NaN        NaT       NaN\n",
              "f  1.32  5    b 2050-04-18       1.0\n",
              "g -0.65  3  NaN 2050-04-19       0.0\n",
              "h  0.34  0    C 2050-04-10       1.0\n",
              "i -1.23  1    A 2050-04-11       0.0\n",
              "j -0.79  2    B 2050-04-12       0.0"
            ]
          },
          "metadata": {
            "tags": []
          },
          "execution_count": 154
        }
      ]
    },
    {
      "cell_type": "code",
      "metadata": {
        "id": "Vk5ynKcOmsO7",
        "colab_type": "code",
        "colab": {
          "base_uri": "https://localhost:8080/",
          "height": 170
        },
        "outputId": "b4049f19-8ce5-4665-f599-591283455c3a"
      },
      "source": [
        "# pop()으로 'E' 열을 삭제한다.\n",
        "s = df.pop('E')\n",
        "s"
      ],
      "execution_count": null,
      "outputs": [
        {
          "output_type": "execute_result",
          "data": {
            "text/plain": [
              "c   2050-04-15\n",
              "d   2050-04-16\n",
              "e          NaT\n",
              "f   2050-04-18\n",
              "g   2050-04-19\n",
              "h   2050-04-10\n",
              "i   2050-04-11\n",
              "j   2050-04-12\n",
              "Name: E, dtype: datetime64[ns]"
            ]
          },
          "metadata": {
            "tags": []
          },
          "execution_count": 157
        }
      ]
    },
    {
      "cell_type": "code",
      "metadata": {
        "id": "UKcb8afIzyXZ",
        "colab_type": "code",
        "colab": {
          "base_uri": "https://localhost:8080/",
          "height": 297
        },
        "outputId": "c9f29b06-6e84-4008-b126-ff953c8fe57a"
      },
      "source": [
        "df"
      ],
      "execution_count": null,
      "outputs": [
        {
          "output_type": "execute_result",
          "data": {
            "text/html": [
              "<div>\n",
              "<style scoped>\n",
              "    .dataframe tbody tr th:only-of-type {\n",
              "        vertical-align: middle;\n",
              "    }\n",
              "\n",
              "    .dataframe tbody tr th {\n",
              "        vertical-align: top;\n",
              "    }\n",
              "\n",
              "    .dataframe thead th {\n",
              "        text-align: right;\n",
              "    }\n",
              "</style>\n",
              "<table border=\"1\" class=\"dataframe\">\n",
              "  <thead>\n",
              "    <tr style=\"text-align: right;\">\n",
              "      <th></th>\n",
              "      <th>B</th>\n",
              "      <th>C</th>\n",
              "      <th>D</th>\n",
              "      <th>Positive</th>\n",
              "    </tr>\n",
              "  </thead>\n",
              "  <tbody>\n",
              "    <tr>\n",
              "      <th>c</th>\n",
              "      <td>0.71</td>\n",
              "      <td>3</td>\n",
              "      <td>A</td>\n",
              "      <td>1.0</td>\n",
              "    </tr>\n",
              "    <tr>\n",
              "      <th>d</th>\n",
              "      <td>-0.09</td>\n",
              "      <td>0</td>\n",
              "      <td>B</td>\n",
              "      <td>0.0</td>\n",
              "    </tr>\n",
              "    <tr>\n",
              "      <th>e</th>\n",
              "      <td>0.55</td>\n",
              "      <td>1</td>\n",
              "      <td>NaN</td>\n",
              "      <td>NaN</td>\n",
              "    </tr>\n",
              "    <tr>\n",
              "      <th>f</th>\n",
              "      <td>1.32</td>\n",
              "      <td>5</td>\n",
              "      <td>b</td>\n",
              "      <td>1.0</td>\n",
              "    </tr>\n",
              "    <tr>\n",
              "      <th>g</th>\n",
              "      <td>-0.65</td>\n",
              "      <td>3</td>\n",
              "      <td>NaN</td>\n",
              "      <td>0.0</td>\n",
              "    </tr>\n",
              "    <tr>\n",
              "      <th>h</th>\n",
              "      <td>0.34</td>\n",
              "      <td>0</td>\n",
              "      <td>C</td>\n",
              "      <td>1.0</td>\n",
              "    </tr>\n",
              "    <tr>\n",
              "      <th>i</th>\n",
              "      <td>-1.23</td>\n",
              "      <td>1</td>\n",
              "      <td>A</td>\n",
              "      <td>0.0</td>\n",
              "    </tr>\n",
              "    <tr>\n",
              "      <th>j</th>\n",
              "      <td>-0.79</td>\n",
              "      <td>2</td>\n",
              "      <td>B</td>\n",
              "      <td>0.0</td>\n",
              "    </tr>\n",
              "  </tbody>\n",
              "</table>\n",
              "</div>"
            ],
            "text/plain": [
              "      B  C    D  Positive\n",
              "c  0.71  3    A       1.0\n",
              "d -0.09  0    B       0.0\n",
              "e  0.55  1  NaN       NaN\n",
              "f  1.32  5    b       1.0\n",
              "g -0.65  3  NaN       0.0\n",
              "h  0.34  0    C       1.0\n",
              "i -1.23  1    A       0.0\n",
              "j -0.79  2    B       0.0"
            ]
          },
          "metadata": {
            "tags": []
          },
          "execution_count": 156
        }
      ]
    },
    {
      "cell_type": "code",
      "metadata": {
        "id": "VfC3dZxtmsO8",
        "colab_type": "code",
        "colab": {
          "base_uri": "https://localhost:8080/",
          "height": 297
        },
        "outputId": "2e3dee1f-f426-4730-8781-41e2e591d373"
      },
      "source": [
        "# del로 'Positive' 열을 삭제한다.\n",
        "del df['Positive']\n",
        "df"
      ],
      "execution_count": null,
      "outputs": [
        {
          "output_type": "execute_result",
          "data": {
            "text/html": [
              "<div>\n",
              "<style scoped>\n",
              "    .dataframe tbody tr th:only-of-type {\n",
              "        vertical-align: middle;\n",
              "    }\n",
              "\n",
              "    .dataframe tbody tr th {\n",
              "        vertical-align: top;\n",
              "    }\n",
              "\n",
              "    .dataframe thead th {\n",
              "        text-align: right;\n",
              "    }\n",
              "</style>\n",
              "<table border=\"1\" class=\"dataframe\">\n",
              "  <thead>\n",
              "    <tr style=\"text-align: right;\">\n",
              "      <th></th>\n",
              "      <th>B</th>\n",
              "      <th>C</th>\n",
              "      <th>D</th>\n",
              "    </tr>\n",
              "  </thead>\n",
              "  <tbody>\n",
              "    <tr>\n",
              "      <th>c</th>\n",
              "      <td>0.71</td>\n",
              "      <td>3</td>\n",
              "      <td>A</td>\n",
              "    </tr>\n",
              "    <tr>\n",
              "      <th>d</th>\n",
              "      <td>-0.09</td>\n",
              "      <td>0</td>\n",
              "      <td>B</td>\n",
              "    </tr>\n",
              "    <tr>\n",
              "      <th>e</th>\n",
              "      <td>0.55</td>\n",
              "      <td>1</td>\n",
              "      <td>NaN</td>\n",
              "    </tr>\n",
              "    <tr>\n",
              "      <th>f</th>\n",
              "      <td>1.32</td>\n",
              "      <td>5</td>\n",
              "      <td>b</td>\n",
              "    </tr>\n",
              "    <tr>\n",
              "      <th>g</th>\n",
              "      <td>-0.65</td>\n",
              "      <td>3</td>\n",
              "      <td>NaN</td>\n",
              "    </tr>\n",
              "    <tr>\n",
              "      <th>h</th>\n",
              "      <td>0.34</td>\n",
              "      <td>0</td>\n",
              "      <td>C</td>\n",
              "    </tr>\n",
              "    <tr>\n",
              "      <th>i</th>\n",
              "      <td>-1.23</td>\n",
              "      <td>1</td>\n",
              "      <td>A</td>\n",
              "    </tr>\n",
              "    <tr>\n",
              "      <th>j</th>\n",
              "      <td>-0.79</td>\n",
              "      <td>2</td>\n",
              "      <td>B</td>\n",
              "    </tr>\n",
              "  </tbody>\n",
              "</table>\n",
              "</div>"
            ],
            "text/plain": [
              "      B  C    D\n",
              "c  0.71  3    A\n",
              "d -0.09  0    B\n",
              "e  0.55  1  NaN\n",
              "f  1.32  5    b\n",
              "g -0.65  3  NaN\n",
              "h  0.34  0    C\n",
              "i -1.23  1    A\n",
              "j -0.79  2    B"
            ]
          },
          "metadata": {
            "tags": []
          },
          "execution_count": 158
        }
      ]
    },
    {
      "cell_type": "code",
      "metadata": {
        "id": "0pCyV--RmsO9",
        "colab_type": "code",
        "colab": {
          "base_uri": "https://localhost:8080/",
          "height": 297
        },
        "outputId": "2c55c3b3-2f77-4864-9c78-cd87d7e78c5f"
      },
      "source": [
        "df  # 원본 데이터프레임이 바꿨다."
      ],
      "execution_count": null,
      "outputs": [
        {
          "output_type": "execute_result",
          "data": {
            "text/html": [
              "<div>\n",
              "<style scoped>\n",
              "    .dataframe tbody tr th:only-of-type {\n",
              "        vertical-align: middle;\n",
              "    }\n",
              "\n",
              "    .dataframe tbody tr th {\n",
              "        vertical-align: top;\n",
              "    }\n",
              "\n",
              "    .dataframe thead th {\n",
              "        text-align: right;\n",
              "    }\n",
              "</style>\n",
              "<table border=\"1\" class=\"dataframe\">\n",
              "  <thead>\n",
              "    <tr style=\"text-align: right;\">\n",
              "      <th></th>\n",
              "      <th>B</th>\n",
              "      <th>C</th>\n",
              "      <th>D</th>\n",
              "    </tr>\n",
              "  </thead>\n",
              "  <tbody>\n",
              "    <tr>\n",
              "      <th>c</th>\n",
              "      <td>0.71</td>\n",
              "      <td>3</td>\n",
              "      <td>A</td>\n",
              "    </tr>\n",
              "    <tr>\n",
              "      <th>d</th>\n",
              "      <td>-0.09</td>\n",
              "      <td>0</td>\n",
              "      <td>B</td>\n",
              "    </tr>\n",
              "    <tr>\n",
              "      <th>e</th>\n",
              "      <td>0.55</td>\n",
              "      <td>1</td>\n",
              "      <td>NaN</td>\n",
              "    </tr>\n",
              "    <tr>\n",
              "      <th>f</th>\n",
              "      <td>1.32</td>\n",
              "      <td>5</td>\n",
              "      <td>b</td>\n",
              "    </tr>\n",
              "    <tr>\n",
              "      <th>g</th>\n",
              "      <td>-0.65</td>\n",
              "      <td>3</td>\n",
              "      <td>NaN</td>\n",
              "    </tr>\n",
              "    <tr>\n",
              "      <th>h</th>\n",
              "      <td>0.34</td>\n",
              "      <td>0</td>\n",
              "      <td>C</td>\n",
              "    </tr>\n",
              "    <tr>\n",
              "      <th>i</th>\n",
              "      <td>-1.23</td>\n",
              "      <td>1</td>\n",
              "      <td>A</td>\n",
              "    </tr>\n",
              "    <tr>\n",
              "      <th>j</th>\n",
              "      <td>-0.79</td>\n",
              "      <td>2</td>\n",
              "      <td>B</td>\n",
              "    </tr>\n",
              "  </tbody>\n",
              "</table>\n",
              "</div>"
            ],
            "text/plain": [
              "      B  C    D\n",
              "c  0.71  3    A\n",
              "d -0.09  0    B\n",
              "e  0.55  1  NaN\n",
              "f  1.32  5    b\n",
              "g -0.65  3  NaN\n",
              "h  0.34  0    C\n",
              "i -1.23  1    A\n",
              "j -0.79  2    B"
            ]
          },
          "metadata": {
            "tags": []
          },
          "execution_count": 160
        }
      ]
    },
    {
      "cell_type": "markdown",
      "metadata": {
        "id": "Bcy9f-XSmsO-",
        "colab_type": "text"
      },
      "source": [
        "# 데이터프레임 병합"
      ]
    },
    {
      "cell_type": "markdown",
      "metadata": {
        "id": "bV2TFmDdmsO-",
        "colab_type": "text"
      },
      "source": [
        "## **concat()** 메소드"
      ]
    },
    {
      "cell_type": "markdown",
      "metadata": {
        "id": "2IMnr9BOmsO-",
        "colab_type": "text"
      },
      "source": [
        "데이터프레임을 결합한다.\n",
        "- **동종** 형태의 자료형으로 구성된 리스트 혹은 딕셔너리 형태의 데이터프레임이나 시리저를 받아서 이들을 결합한다.\n",
        "- 오래된 시리즈/데이터프레임의 **append()** 메소드보다 권장하는 방식이다.\n",
        "- **concat()**/**append()**: 데이터의 전체 복사본을 만들어 반환하기 때문에, 이 메소드를 지속적으로 사용하면 상당한 성능 저하가 발생할 수 있다는 점에 유의하자."
      ]
    },
    {
      "cell_type": "markdown",
      "metadata": {
        "id": "5dYUofm8msO-",
        "colab_type": "text"
      },
      "source": [
        "**<font size='+1'>축을 따로 설정하지 않는 경우(axis=0/index)</font>**\n",
        "- 행을 결합한다.\n",
        "- 기본값은 **outer join**이다."
      ]
    },
    {
      "cell_type": "code",
      "metadata": {
        "id": "gJ_I6T41msO-",
        "colab_type": "code",
        "colab": {}
      },
      "source": [
        "df1 = pandas.DataFrame([[1, 2, 3], [4, 5, 6]],\n",
        "                       index=list('ab'),\n",
        "                       columns=list('ABC'))\n",
        "\n",
        "df2 = pandas.DataFrame([[4, 5, 6], [7, 8, 9]],\n",
        "                       index=list('ab'),\n",
        "                       columns=list('ABC'))                   "
      ],
      "execution_count": null,
      "outputs": []
    },
    {
      "cell_type": "code",
      "metadata": {
        "id": "rrwW1B88msO_",
        "colab_type": "code",
        "colab": {
          "base_uri": "https://localhost:8080/",
          "height": 111
        },
        "outputId": "b2b36b3e-bb3c-41b5-98b8-babdd8d9eee5"
      },
      "source": [
        "df1"
      ],
      "execution_count": null,
      "outputs": [
        {
          "output_type": "execute_result",
          "data": {
            "text/html": [
              "<div>\n",
              "<style scoped>\n",
              "    .dataframe tbody tr th:only-of-type {\n",
              "        vertical-align: middle;\n",
              "    }\n",
              "\n",
              "    .dataframe tbody tr th {\n",
              "        vertical-align: top;\n",
              "    }\n",
              "\n",
              "    .dataframe thead th {\n",
              "        text-align: right;\n",
              "    }\n",
              "</style>\n",
              "<table border=\"1\" class=\"dataframe\">\n",
              "  <thead>\n",
              "    <tr style=\"text-align: right;\">\n",
              "      <th></th>\n",
              "      <th>A</th>\n",
              "      <th>B</th>\n",
              "      <th>C</th>\n",
              "    </tr>\n",
              "  </thead>\n",
              "  <tbody>\n",
              "    <tr>\n",
              "      <th>a</th>\n",
              "      <td>1</td>\n",
              "      <td>2</td>\n",
              "      <td>3</td>\n",
              "    </tr>\n",
              "    <tr>\n",
              "      <th>b</th>\n",
              "      <td>4</td>\n",
              "      <td>5</td>\n",
              "      <td>6</td>\n",
              "    </tr>\n",
              "  </tbody>\n",
              "</table>\n",
              "</div>"
            ],
            "text/plain": [
              "   A  B  C\n",
              "a  1  2  3\n",
              "b  4  5  6"
            ]
          },
          "metadata": {
            "tags": []
          },
          "execution_count": 162
        }
      ]
    },
    {
      "cell_type": "code",
      "metadata": {
        "id": "qkPE1QDcmsPB",
        "colab_type": "code",
        "colab": {
          "base_uri": "https://localhost:8080/",
          "height": 111
        },
        "outputId": "71c7640c-2385-4d42-9ac3-f57725aa9912"
      },
      "source": [
        "df2"
      ],
      "execution_count": null,
      "outputs": [
        {
          "output_type": "execute_result",
          "data": {
            "text/html": [
              "<div>\n",
              "<style scoped>\n",
              "    .dataframe tbody tr th:only-of-type {\n",
              "        vertical-align: middle;\n",
              "    }\n",
              "\n",
              "    .dataframe tbody tr th {\n",
              "        vertical-align: top;\n",
              "    }\n",
              "\n",
              "    .dataframe thead th {\n",
              "        text-align: right;\n",
              "    }\n",
              "</style>\n",
              "<table border=\"1\" class=\"dataframe\">\n",
              "  <thead>\n",
              "    <tr style=\"text-align: right;\">\n",
              "      <th></th>\n",
              "      <th>A</th>\n",
              "      <th>B</th>\n",
              "      <th>C</th>\n",
              "    </tr>\n",
              "  </thead>\n",
              "  <tbody>\n",
              "    <tr>\n",
              "      <th>a</th>\n",
              "      <td>4</td>\n",
              "      <td>5</td>\n",
              "      <td>6</td>\n",
              "    </tr>\n",
              "    <tr>\n",
              "      <th>b</th>\n",
              "      <td>7</td>\n",
              "      <td>8</td>\n",
              "      <td>9</td>\n",
              "    </tr>\n",
              "  </tbody>\n",
              "</table>\n",
              "</div>"
            ],
            "text/plain": [
              "   A  B  C\n",
              "a  4  5  6\n",
              "b  7  8  9"
            ]
          },
          "metadata": {
            "tags": []
          },
          "execution_count": 163
        }
      ]
    },
    {
      "cell_type": "code",
      "metadata": {
        "id": "ztthATC8msPC",
        "colab_type": "code",
        "colab": {
          "base_uri": "https://localhost:8080/",
          "height": 173
        },
        "outputId": "129ea349-290c-4190-9dad-28ae08b2121c"
      },
      "source": [
        "# df1과 df2를 기본값(outer join)으로 결합한다.\n",
        "# axis='index'/0은 기본값이라 생략할 수 있다.\n",
        "pandas.concat([df1, df2])"
      ],
      "execution_count": null,
      "outputs": [
        {
          "output_type": "execute_result",
          "data": {
            "text/html": [
              "<div>\n",
              "<style scoped>\n",
              "    .dataframe tbody tr th:only-of-type {\n",
              "        vertical-align: middle;\n",
              "    }\n",
              "\n",
              "    .dataframe tbody tr th {\n",
              "        vertical-align: top;\n",
              "    }\n",
              "\n",
              "    .dataframe thead th {\n",
              "        text-align: right;\n",
              "    }\n",
              "</style>\n",
              "<table border=\"1\" class=\"dataframe\">\n",
              "  <thead>\n",
              "    <tr style=\"text-align: right;\">\n",
              "      <th></th>\n",
              "      <th>A</th>\n",
              "      <th>B</th>\n",
              "      <th>C</th>\n",
              "    </tr>\n",
              "  </thead>\n",
              "  <tbody>\n",
              "    <tr>\n",
              "      <th>a</th>\n",
              "      <td>1</td>\n",
              "      <td>2</td>\n",
              "      <td>3</td>\n",
              "    </tr>\n",
              "    <tr>\n",
              "      <th>b</th>\n",
              "      <td>4</td>\n",
              "      <td>5</td>\n",
              "      <td>6</td>\n",
              "    </tr>\n",
              "    <tr>\n",
              "      <th>a</th>\n",
              "      <td>4</td>\n",
              "      <td>5</td>\n",
              "      <td>6</td>\n",
              "    </tr>\n",
              "    <tr>\n",
              "      <th>b</th>\n",
              "      <td>7</td>\n",
              "      <td>8</td>\n",
              "      <td>9</td>\n",
              "    </tr>\n",
              "  </tbody>\n",
              "</table>\n",
              "</div>"
            ],
            "text/plain": [
              "   A  B  C\n",
              "a  1  2  3\n",
              "b  4  5  6\n",
              "a  4  5  6\n",
              "b  7  8  9"
            ]
          },
          "metadata": {
            "tags": []
          },
          "execution_count": 164
        }
      ]
    },
    {
      "cell_type": "code",
      "metadata": {
        "id": "Q13inTZ6msPE",
        "colab_type": "code",
        "colab": {
          "base_uri": "https://localhost:8080/",
          "height": 173
        },
        "outputId": "75e40cf0-22dc-4d45-b148-feb49c60307f"
      },
      "source": [
        "# 결합 축의 인덱스를 무시한다. \n",
        "# 즉, df1과 df2의 기존 인덱스를 무시하고 인덱스의 기본값을 사용한다.\n",
        "pandas.concat([df1, df2], ignore_index=True)"
      ],
      "execution_count": null,
      "outputs": [
        {
          "output_type": "execute_result",
          "data": {
            "text/html": [
              "<div>\n",
              "<style scoped>\n",
              "    .dataframe tbody tr th:only-of-type {\n",
              "        vertical-align: middle;\n",
              "    }\n",
              "\n",
              "    .dataframe tbody tr th {\n",
              "        vertical-align: top;\n",
              "    }\n",
              "\n",
              "    .dataframe thead th {\n",
              "        text-align: right;\n",
              "    }\n",
              "</style>\n",
              "<table border=\"1\" class=\"dataframe\">\n",
              "  <thead>\n",
              "    <tr style=\"text-align: right;\">\n",
              "      <th></th>\n",
              "      <th>A</th>\n",
              "      <th>B</th>\n",
              "      <th>C</th>\n",
              "    </tr>\n",
              "  </thead>\n",
              "  <tbody>\n",
              "    <tr>\n",
              "      <th>0</th>\n",
              "      <td>1</td>\n",
              "      <td>2</td>\n",
              "      <td>3</td>\n",
              "    </tr>\n",
              "    <tr>\n",
              "      <th>1</th>\n",
              "      <td>4</td>\n",
              "      <td>5</td>\n",
              "      <td>6</td>\n",
              "    </tr>\n",
              "    <tr>\n",
              "      <th>2</th>\n",
              "      <td>4</td>\n",
              "      <td>5</td>\n",
              "      <td>6</td>\n",
              "    </tr>\n",
              "    <tr>\n",
              "      <th>3</th>\n",
              "      <td>7</td>\n",
              "      <td>8</td>\n",
              "      <td>9</td>\n",
              "    </tr>\n",
              "  </tbody>\n",
              "</table>\n",
              "</div>"
            ],
            "text/plain": [
              "   A  B  C\n",
              "0  1  2  3\n",
              "1  4  5  6\n",
              "2  4  5  6\n",
              "3  7  8  9"
            ]
          },
          "metadata": {
            "tags": []
          },
          "execution_count": 165
        }
      ]
    },
    {
      "cell_type": "code",
      "metadata": {
        "id": "wIR0EqHGmsPF",
        "colab_type": "code",
        "colab": {
          "base_uri": "https://localhost:8080/",
          "height": 173
        },
        "outputId": "84034ed2-773b-4f21-85f8-086b87e4fe0b"
      },
      "source": [
        "# 매개변수 keys를 사용하여 df1과 df2를 다중 인덱스로 결합한다.\n",
        "df_keys = pandas.concat([df1, df2], keys=['table1', 'table2'])\n",
        "df_keys"
      ],
      "execution_count": null,
      "outputs": [
        {
          "output_type": "execute_result",
          "data": {
            "text/html": [
              "<div>\n",
              "<style scoped>\n",
              "    .dataframe tbody tr th:only-of-type {\n",
              "        vertical-align: middle;\n",
              "    }\n",
              "\n",
              "    .dataframe tbody tr th {\n",
              "        vertical-align: top;\n",
              "    }\n",
              "\n",
              "    .dataframe thead th {\n",
              "        text-align: right;\n",
              "    }\n",
              "</style>\n",
              "<table border=\"1\" class=\"dataframe\">\n",
              "  <thead>\n",
              "    <tr style=\"text-align: right;\">\n",
              "      <th></th>\n",
              "      <th></th>\n",
              "      <th>A</th>\n",
              "      <th>B</th>\n",
              "      <th>C</th>\n",
              "    </tr>\n",
              "  </thead>\n",
              "  <tbody>\n",
              "    <tr>\n",
              "      <th rowspan=\"2\" valign=\"top\">table1</th>\n",
              "      <th>a</th>\n",
              "      <td>1</td>\n",
              "      <td>2</td>\n",
              "      <td>3</td>\n",
              "    </tr>\n",
              "    <tr>\n",
              "      <th>b</th>\n",
              "      <td>4</td>\n",
              "      <td>5</td>\n",
              "      <td>6</td>\n",
              "    </tr>\n",
              "    <tr>\n",
              "      <th rowspan=\"2\" valign=\"top\">table2</th>\n",
              "      <th>a</th>\n",
              "      <td>4</td>\n",
              "      <td>5</td>\n",
              "      <td>6</td>\n",
              "    </tr>\n",
              "    <tr>\n",
              "      <th>b</th>\n",
              "      <td>7</td>\n",
              "      <td>8</td>\n",
              "      <td>9</td>\n",
              "    </tr>\n",
              "  </tbody>\n",
              "</table>\n",
              "</div>"
            ],
            "text/plain": [
              "          A  B  C\n",
              "table1 a  1  2  3\n",
              "       b  4  5  6\n",
              "table2 a  4  5  6\n",
              "       b  7  8  9"
            ]
          },
          "metadata": {
            "tags": []
          },
          "execution_count": 166
        }
      ]
    },
    {
      "cell_type": "code",
      "metadata": {
        "id": "p5TThVdnmsPH",
        "colab_type": "code",
        "colab": {
          "base_uri": "https://localhost:8080/",
          "height": 102
        },
        "outputId": "a2aaab2c-355a-4432-9287-93f3f54dac06"
      },
      "source": [
        "# df_keys의 인덱스를 열람한다.\n",
        "df_keys.index"
      ],
      "execution_count": null,
      "outputs": [
        {
          "output_type": "execute_result",
          "data": {
            "text/plain": [
              "MultiIndex([('table1', 'a'),\n",
              "            ('table1', 'b'),\n",
              "            ('table2', 'a'),\n",
              "            ('table2', 'b')],\n",
              "           )"
            ]
          },
          "metadata": {
            "tags": []
          },
          "execution_count": 167
        }
      ]
    },
    {
      "cell_type": "markdown",
      "metadata": {
        "id": "nHw-TxG8msPH",
        "colab_type": "text"
      },
      "source": [
        "**<font size='+1'>축을 1로 설정하는 경우(axis=1/columns)</font>**\n",
        "- 열(컬럼)을 결합한다."
      ]
    },
    {
      "cell_type": "markdown",
      "metadata": {
        "id": "gW-os5FP3Uib",
        "colab_type": "text"
      },
      "source": [
        "**df1** / **df2**\n",
        "<pre>\n",
        "   A  B  C\n",
        "a  1  2  3\n",
        "b  4  5  6\n",
        "\n",
        "   A  B  C\n",
        "a  4  5  6\n",
        "b  7  8  9\n",
        "</pre>"
      ]
    },
    {
      "cell_type": "code",
      "metadata": {
        "id": "W-0I2pa63Uib",
        "colab_type": "code",
        "colab": {
          "base_uri": "https://localhost:8080/",
          "height": 111
        },
        "outputId": "5fd6dc21-2759-4869-9d0f-486d86fd5b50"
      },
      "source": [
        "# df1과 df2의 열(컬럼)을 결합 축으로 하고 기본값(outer join)으로 결합한다.\n",
        "pandas.concat([df1, df2], axis='columns')"
      ],
      "execution_count": null,
      "outputs": [
        {
          "output_type": "execute_result",
          "data": {
            "text/html": [
              "<div>\n",
              "<style scoped>\n",
              "    .dataframe tbody tr th:only-of-type {\n",
              "        vertical-align: middle;\n",
              "    }\n",
              "\n",
              "    .dataframe tbody tr th {\n",
              "        vertical-align: top;\n",
              "    }\n",
              "\n",
              "    .dataframe thead th {\n",
              "        text-align: right;\n",
              "    }\n",
              "</style>\n",
              "<table border=\"1\" class=\"dataframe\">\n",
              "  <thead>\n",
              "    <tr style=\"text-align: right;\">\n",
              "      <th></th>\n",
              "      <th>A</th>\n",
              "      <th>B</th>\n",
              "      <th>C</th>\n",
              "      <th>A</th>\n",
              "      <th>B</th>\n",
              "      <th>C</th>\n",
              "    </tr>\n",
              "  </thead>\n",
              "  <tbody>\n",
              "    <tr>\n",
              "      <th>a</th>\n",
              "      <td>1</td>\n",
              "      <td>2</td>\n",
              "      <td>3</td>\n",
              "      <td>4</td>\n",
              "      <td>5</td>\n",
              "      <td>6</td>\n",
              "    </tr>\n",
              "    <tr>\n",
              "      <th>b</th>\n",
              "      <td>4</td>\n",
              "      <td>5</td>\n",
              "      <td>6</td>\n",
              "      <td>7</td>\n",
              "      <td>8</td>\n",
              "      <td>9</td>\n",
              "    </tr>\n",
              "  </tbody>\n",
              "</table>\n",
              "</div>"
            ],
            "text/plain": [
              "   A  B  C  A  B  C\n",
              "a  1  2  3  4  5  6\n",
              "b  4  5  6  7  8  9"
            ]
          },
          "metadata": {
            "tags": []
          },
          "execution_count": 169
        }
      ]
    },
    {
      "cell_type": "code",
      "metadata": {
        "id": "ZBkWi0UO3Uie",
        "colab_type": "code",
        "colab": {
          "base_uri": "https://localhost:8080/",
          "height": 111
        },
        "outputId": "f856946b-2971-428a-cd8e-1d196a1ad320"
      },
      "source": [
        "# df1과 df2의 열(컬럼)을 결합 축으로 하고 기본값(outer join)으로 결합한다.\n",
        "# 결합 축의 인덱스를 무시한다. \n",
        "# 즉, df1과 df2의 기존 인덱스를 무시하고 인덱스의 기본값을 사용한다.\n",
        "pandas.concat([df1, df2], axis=1, ignore_index=True)"
      ],
      "execution_count": null,
      "outputs": [
        {
          "output_type": "execute_result",
          "data": {
            "text/html": [
              "<div>\n",
              "<style scoped>\n",
              "    .dataframe tbody tr th:only-of-type {\n",
              "        vertical-align: middle;\n",
              "    }\n",
              "\n",
              "    .dataframe tbody tr th {\n",
              "        vertical-align: top;\n",
              "    }\n",
              "\n",
              "    .dataframe thead th {\n",
              "        text-align: right;\n",
              "    }\n",
              "</style>\n",
              "<table border=\"1\" class=\"dataframe\">\n",
              "  <thead>\n",
              "    <tr style=\"text-align: right;\">\n",
              "      <th></th>\n",
              "      <th>0</th>\n",
              "      <th>1</th>\n",
              "      <th>2</th>\n",
              "      <th>3</th>\n",
              "      <th>4</th>\n",
              "      <th>5</th>\n",
              "    </tr>\n",
              "  </thead>\n",
              "  <tbody>\n",
              "    <tr>\n",
              "      <th>a</th>\n",
              "      <td>1</td>\n",
              "      <td>2</td>\n",
              "      <td>3</td>\n",
              "      <td>4</td>\n",
              "      <td>5</td>\n",
              "      <td>6</td>\n",
              "    </tr>\n",
              "    <tr>\n",
              "      <th>b</th>\n",
              "      <td>4</td>\n",
              "      <td>5</td>\n",
              "      <td>6</td>\n",
              "      <td>7</td>\n",
              "      <td>8</td>\n",
              "      <td>9</td>\n",
              "    </tr>\n",
              "  </tbody>\n",
              "</table>\n",
              "</div>"
            ],
            "text/plain": [
              "   0  1  2  3  4  5\n",
              "a  1  2  3  4  5  6\n",
              "b  4  5  6  7  8  9"
            ]
          },
          "metadata": {
            "tags": []
          },
          "execution_count": 170
        }
      ]
    },
    {
      "cell_type": "markdown",
      "metadata": {
        "id": "L0Tg0QYvmsPL",
        "colab_type": "text"
      },
      "source": [
        "**<font size='+1'>인덱스 중복 값 확인</font>**\n",
        "- 인덱스의 값이 중복되는지 여부를 확인한다."
      ]
    },
    {
      "cell_type": "code",
      "metadata": {
        "id": "QyjQgvMhmsPM",
        "colab_type": "code",
        "colab": {}
      },
      "source": [
        "df1 = pandas.DataFrame(numpy.arange(1, 7).reshape(3, 2),\n",
        "                       columns=list('AB'))\n",
        "\n",
        "df2 = pandas.DataFrame(numpy.arange(1, 7).reshape(3, 2),\n",
        "                       index=[1, 2, 3],\n",
        "                       columns=['B', 'C'])"
      ],
      "execution_count": null,
      "outputs": []
    },
    {
      "cell_type": "code",
      "metadata": {
        "id": "tBfeoiWemsPM",
        "colab_type": "code",
        "colab": {
          "base_uri": "https://localhost:8080/",
          "height": 142
        },
        "outputId": "bd1114ea-b4cf-40ca-f8e0-977baba39aff"
      },
      "source": [
        "df1"
      ],
      "execution_count": null,
      "outputs": [
        {
          "output_type": "execute_result",
          "data": {
            "text/html": [
              "<div>\n",
              "<style scoped>\n",
              "    .dataframe tbody tr th:only-of-type {\n",
              "        vertical-align: middle;\n",
              "    }\n",
              "\n",
              "    .dataframe tbody tr th {\n",
              "        vertical-align: top;\n",
              "    }\n",
              "\n",
              "    .dataframe thead th {\n",
              "        text-align: right;\n",
              "    }\n",
              "</style>\n",
              "<table border=\"1\" class=\"dataframe\">\n",
              "  <thead>\n",
              "    <tr style=\"text-align: right;\">\n",
              "      <th></th>\n",
              "      <th>A</th>\n",
              "      <th>B</th>\n",
              "    </tr>\n",
              "  </thead>\n",
              "  <tbody>\n",
              "    <tr>\n",
              "      <th>0</th>\n",
              "      <td>1</td>\n",
              "      <td>2</td>\n",
              "    </tr>\n",
              "    <tr>\n",
              "      <th>1</th>\n",
              "      <td>3</td>\n",
              "      <td>4</td>\n",
              "    </tr>\n",
              "    <tr>\n",
              "      <th>2</th>\n",
              "      <td>5</td>\n",
              "      <td>6</td>\n",
              "    </tr>\n",
              "  </tbody>\n",
              "</table>\n",
              "</div>"
            ],
            "text/plain": [
              "   A  B\n",
              "0  1  2\n",
              "1  3  4\n",
              "2  5  6"
            ]
          },
          "metadata": {
            "tags": []
          },
          "execution_count": 172
        }
      ]
    },
    {
      "cell_type": "code",
      "metadata": {
        "id": "qWxJlq9ymsPN",
        "colab_type": "code",
        "colab": {
          "base_uri": "https://localhost:8080/",
          "height": 142
        },
        "outputId": "fe57fc9d-ae8d-4d08-8d68-e434503935df"
      },
      "source": [
        "df2"
      ],
      "execution_count": null,
      "outputs": [
        {
          "output_type": "execute_result",
          "data": {
            "text/html": [
              "<div>\n",
              "<style scoped>\n",
              "    .dataframe tbody tr th:only-of-type {\n",
              "        vertical-align: middle;\n",
              "    }\n",
              "\n",
              "    .dataframe tbody tr th {\n",
              "        vertical-align: top;\n",
              "    }\n",
              "\n",
              "    .dataframe thead th {\n",
              "        text-align: right;\n",
              "    }\n",
              "</style>\n",
              "<table border=\"1\" class=\"dataframe\">\n",
              "  <thead>\n",
              "    <tr style=\"text-align: right;\">\n",
              "      <th></th>\n",
              "      <th>B</th>\n",
              "      <th>C</th>\n",
              "    </tr>\n",
              "  </thead>\n",
              "  <tbody>\n",
              "    <tr>\n",
              "      <th>1</th>\n",
              "      <td>1</td>\n",
              "      <td>2</td>\n",
              "    </tr>\n",
              "    <tr>\n",
              "      <th>2</th>\n",
              "      <td>3</td>\n",
              "      <td>4</td>\n",
              "    </tr>\n",
              "    <tr>\n",
              "      <th>3</th>\n",
              "      <td>5</td>\n",
              "      <td>6</td>\n",
              "    </tr>\n",
              "  </tbody>\n",
              "</table>\n",
              "</div>"
            ],
            "text/plain": [
              "   B  C\n",
              "1  1  2\n",
              "2  3  4\n",
              "3  5  6"
            ]
          },
          "metadata": {
            "tags": []
          },
          "execution_count": 173
        }
      ]
    },
    {
      "cell_type": "code",
      "metadata": {
        "id": "fFS-d98TmsPO",
        "colab_type": "code",
        "colab": {
          "base_uri": "https://localhost:8080/",
          "height": 341
        },
        "outputId": "73351cc7-d750-4974-8e2d-18eaf9b12111"
      },
      "source": [
        "# 행 축으로 결합하면서 중복 여부를 확인한다. \n",
        "# 인덱스에 중복 값이 있으면 오류가 난다.\n",
        "pandas.concat([df1, df2], verify_integrity=True)"
      ],
      "execution_count": null,
      "outputs": [
        {
          "output_type": "error",
          "ename": "ValueError",
          "evalue": "ignored",
          "traceback": [
            "\u001b[0;31m---------------------------------------------------------------------------\u001b[0m",
            "\u001b[0;31mValueError\u001b[0m                                Traceback (most recent call last)",
            "\u001b[0;32m<ipython-input-174-f77f4b82f701>\u001b[0m in \u001b[0;36m<module>\u001b[0;34m()\u001b[0m\n\u001b[1;32m      1\u001b[0m \u001b[0;31m# 행 축으로 결합하면서 중복 여부를 확인한다.\u001b[0m\u001b[0;34m\u001b[0m\u001b[0;34m\u001b[0m\u001b[0;34m\u001b[0m\u001b[0m\n\u001b[1;32m      2\u001b[0m \u001b[0;31m# 인덱스에 중복 값이 있으면 오류가 난다.\u001b[0m\u001b[0;34m\u001b[0m\u001b[0;34m\u001b[0m\u001b[0;34m\u001b[0m\u001b[0m\n\u001b[0;32m----> 3\u001b[0;31m \u001b[0mpandas\u001b[0m\u001b[0;34m.\u001b[0m\u001b[0mconcat\u001b[0m\u001b[0;34m(\u001b[0m\u001b[0;34m[\u001b[0m\u001b[0mdf1\u001b[0m\u001b[0;34m,\u001b[0m \u001b[0mdf2\u001b[0m\u001b[0;34m]\u001b[0m\u001b[0;34m,\u001b[0m \u001b[0mverify_integrity\u001b[0m\u001b[0;34m=\u001b[0m\u001b[0;32mTrue\u001b[0m\u001b[0;34m)\u001b[0m\u001b[0;34m\u001b[0m\u001b[0;34m\u001b[0m\u001b[0m\n\u001b[0m",
            "\u001b[0;32m/usr/local/lib/python3.6/dist-packages/pandas/core/reshape/concat.py\u001b[0m in \u001b[0;36mconcat\u001b[0;34m(objs, axis, join, ignore_index, keys, levels, names, verify_integrity, sort, copy)\u001b[0m\n\u001b[1;32m    279\u001b[0m         \u001b[0mverify_integrity\u001b[0m\u001b[0;34m=\u001b[0m\u001b[0mverify_integrity\u001b[0m\u001b[0;34m,\u001b[0m\u001b[0;34m\u001b[0m\u001b[0;34m\u001b[0m\u001b[0m\n\u001b[1;32m    280\u001b[0m         \u001b[0mcopy\u001b[0m\u001b[0;34m=\u001b[0m\u001b[0mcopy\u001b[0m\u001b[0;34m,\u001b[0m\u001b[0;34m\u001b[0m\u001b[0;34m\u001b[0m\u001b[0m\n\u001b[0;32m--> 281\u001b[0;31m         \u001b[0msort\u001b[0m\u001b[0;34m=\u001b[0m\u001b[0msort\u001b[0m\u001b[0;34m,\u001b[0m\u001b[0;34m\u001b[0m\u001b[0;34m\u001b[0m\u001b[0m\n\u001b[0m\u001b[1;32m    282\u001b[0m     )\n\u001b[1;32m    283\u001b[0m \u001b[0;34m\u001b[0m\u001b[0m\n",
            "\u001b[0;32m/usr/local/lib/python3.6/dist-packages/pandas/core/reshape/concat.py\u001b[0m in \u001b[0;36m__init__\u001b[0;34m(self, objs, axis, join, keys, levels, names, ignore_index, verify_integrity, copy, sort)\u001b[0m\n\u001b[1;32m    450\u001b[0m         \u001b[0mself\u001b[0m\u001b[0;34m.\u001b[0m\u001b[0mcopy\u001b[0m \u001b[0;34m=\u001b[0m \u001b[0mcopy\u001b[0m\u001b[0;34m\u001b[0m\u001b[0;34m\u001b[0m\u001b[0m\n\u001b[1;32m    451\u001b[0m \u001b[0;34m\u001b[0m\u001b[0m\n\u001b[0;32m--> 452\u001b[0;31m         \u001b[0mself\u001b[0m\u001b[0;34m.\u001b[0m\u001b[0mnew_axes\u001b[0m \u001b[0;34m=\u001b[0m \u001b[0mself\u001b[0m\u001b[0;34m.\u001b[0m\u001b[0m_get_new_axes\u001b[0m\u001b[0;34m(\u001b[0m\u001b[0;34m)\u001b[0m\u001b[0;34m\u001b[0m\u001b[0;34m\u001b[0m\u001b[0m\n\u001b[0m\u001b[1;32m    453\u001b[0m \u001b[0;34m\u001b[0m\u001b[0m\n\u001b[1;32m    454\u001b[0m     \u001b[0;32mdef\u001b[0m \u001b[0mget_result\u001b[0m\u001b[0;34m(\u001b[0m\u001b[0mself\u001b[0m\u001b[0;34m)\u001b[0m\u001b[0;34m:\u001b[0m\u001b[0;34m\u001b[0m\u001b[0;34m\u001b[0m\u001b[0m\n",
            "\u001b[0;32m/usr/local/lib/python3.6/dist-packages/pandas/core/reshape/concat.py\u001b[0m in \u001b[0;36m_get_new_axes\u001b[0;34m(self)\u001b[0m\n\u001b[1;32m    515\u001b[0m         return [\n\u001b[1;32m    516\u001b[0m             \u001b[0mself\u001b[0m\u001b[0;34m.\u001b[0m\u001b[0m_get_concat_axis\u001b[0m\u001b[0;34m(\u001b[0m\u001b[0;34m)\u001b[0m \u001b[0;32mif\u001b[0m \u001b[0mi\u001b[0m \u001b[0;34m==\u001b[0m \u001b[0mself\u001b[0m\u001b[0;34m.\u001b[0m\u001b[0maxis\u001b[0m \u001b[0;32melse\u001b[0m \u001b[0mself\u001b[0m\u001b[0;34m.\u001b[0m\u001b[0m_get_comb_axis\u001b[0m\u001b[0;34m(\u001b[0m\u001b[0mi\u001b[0m\u001b[0;34m)\u001b[0m\u001b[0;34m\u001b[0m\u001b[0;34m\u001b[0m\u001b[0m\n\u001b[0;32m--> 517\u001b[0;31m             \u001b[0;32mfor\u001b[0m \u001b[0mi\u001b[0m \u001b[0;32min\u001b[0m \u001b[0mrange\u001b[0m\u001b[0;34m(\u001b[0m\u001b[0mndim\u001b[0m\u001b[0;34m)\u001b[0m\u001b[0;34m\u001b[0m\u001b[0;34m\u001b[0m\u001b[0m\n\u001b[0m\u001b[1;32m    518\u001b[0m         ]\n\u001b[1;32m    519\u001b[0m \u001b[0;34m\u001b[0m\u001b[0m\n",
            "\u001b[0;32m/usr/local/lib/python3.6/dist-packages/pandas/core/reshape/concat.py\u001b[0m in \u001b[0;36m<listcomp>\u001b[0;34m(.0)\u001b[0m\n\u001b[1;32m    515\u001b[0m         return [\n\u001b[1;32m    516\u001b[0m             \u001b[0mself\u001b[0m\u001b[0;34m.\u001b[0m\u001b[0m_get_concat_axis\u001b[0m\u001b[0;34m(\u001b[0m\u001b[0;34m)\u001b[0m \u001b[0;32mif\u001b[0m \u001b[0mi\u001b[0m \u001b[0;34m==\u001b[0m \u001b[0mself\u001b[0m\u001b[0;34m.\u001b[0m\u001b[0maxis\u001b[0m \u001b[0;32melse\u001b[0m \u001b[0mself\u001b[0m\u001b[0;34m.\u001b[0m\u001b[0m_get_comb_axis\u001b[0m\u001b[0;34m(\u001b[0m\u001b[0mi\u001b[0m\u001b[0;34m)\u001b[0m\u001b[0;34m\u001b[0m\u001b[0;34m\u001b[0m\u001b[0m\n\u001b[0;32m--> 517\u001b[0;31m             \u001b[0;32mfor\u001b[0m \u001b[0mi\u001b[0m \u001b[0;32min\u001b[0m \u001b[0mrange\u001b[0m\u001b[0;34m(\u001b[0m\u001b[0mndim\u001b[0m\u001b[0;34m)\u001b[0m\u001b[0;34m\u001b[0m\u001b[0;34m\u001b[0m\u001b[0m\n\u001b[0m\u001b[1;32m    518\u001b[0m         ]\n\u001b[1;32m    519\u001b[0m \u001b[0;34m\u001b[0m\u001b[0m\n",
            "\u001b[0;32m/usr/local/lib/python3.6/dist-packages/pandas/core/reshape/concat.py\u001b[0m in \u001b[0;36m_get_concat_axis\u001b[0;34m(self)\u001b[0m\n\u001b[1;32m    570\u001b[0m             )\n\u001b[1;32m    571\u001b[0m \u001b[0;34m\u001b[0m\u001b[0m\n\u001b[0;32m--> 572\u001b[0;31m         \u001b[0mself\u001b[0m\u001b[0;34m.\u001b[0m\u001b[0m_maybe_check_integrity\u001b[0m\u001b[0;34m(\u001b[0m\u001b[0mconcat_axis\u001b[0m\u001b[0;34m)\u001b[0m\u001b[0;34m\u001b[0m\u001b[0;34m\u001b[0m\u001b[0m\n\u001b[0m\u001b[1;32m    573\u001b[0m \u001b[0;34m\u001b[0m\u001b[0m\n\u001b[1;32m    574\u001b[0m         \u001b[0;32mreturn\u001b[0m \u001b[0mconcat_axis\u001b[0m\u001b[0;34m\u001b[0m\u001b[0;34m\u001b[0m\u001b[0m\n",
            "\u001b[0;32m/usr/local/lib/python3.6/dist-packages/pandas/core/reshape/concat.py\u001b[0m in \u001b[0;36m_maybe_check_integrity\u001b[0;34m(self, concat_index)\u001b[0m\n\u001b[1;32m    580\u001b[0m                 raise ValueError(\n\u001b[1;32m    581\u001b[0m                     \u001b[0;34m\"Indexes have overlapping values: \"\u001b[0m\u001b[0;34m\u001b[0m\u001b[0;34m\u001b[0m\u001b[0m\n\u001b[0;32m--> 582\u001b[0;31m                     \u001b[0;34m\"{overlap!s}\"\u001b[0m\u001b[0;34m.\u001b[0m\u001b[0mformat\u001b[0m\u001b[0;34m(\u001b[0m\u001b[0moverlap\u001b[0m\u001b[0;34m=\u001b[0m\u001b[0moverlap\u001b[0m\u001b[0;34m)\u001b[0m\u001b[0;34m\u001b[0m\u001b[0;34m\u001b[0m\u001b[0m\n\u001b[0m\u001b[1;32m    583\u001b[0m                 )\n\u001b[1;32m    584\u001b[0m \u001b[0;34m\u001b[0m\u001b[0m\n",
            "\u001b[0;31mValueError\u001b[0m: Indexes have overlapping values: Int64Index([1, 2], dtype='int64')"
          ]
        }
      ]
    },
    {
      "cell_type": "code",
      "metadata": {
        "id": "xYPZIb77msPQ",
        "colab_type": "code",
        "colab": {
          "base_uri": "https://localhost:8080/",
          "height": 341
        },
        "outputId": "8d3b6e2a-70c7-495c-d1da-eae180119f11"
      },
      "source": [
        "# 열 축으로 결합하면서 중복 여부를 확인한다. \n",
        "# 열 이름에 중복이 있으면 오류가 난다.\n",
        "pandas.concat([df1, df2], axis=1, verify_integrity=True)"
      ],
      "execution_count": null,
      "outputs": [
        {
          "output_type": "error",
          "ename": "ValueError",
          "evalue": "ignored",
          "traceback": [
            "\u001b[0;31m---------------------------------------------------------------------------\u001b[0m",
            "\u001b[0;31mValueError\u001b[0m                                Traceback (most recent call last)",
            "\u001b[0;32m<ipython-input-175-0db00e00f0bd>\u001b[0m in \u001b[0;36m<module>\u001b[0;34m()\u001b[0m\n\u001b[1;32m      1\u001b[0m \u001b[0;31m# 열 축으로 결합하면서 중복 여부를 확인한다.\u001b[0m\u001b[0;34m\u001b[0m\u001b[0;34m\u001b[0m\u001b[0;34m\u001b[0m\u001b[0m\n\u001b[1;32m      2\u001b[0m \u001b[0;31m# 열 이름에 중복이 있으면 오류가 난다.\u001b[0m\u001b[0;34m\u001b[0m\u001b[0;34m\u001b[0m\u001b[0;34m\u001b[0m\u001b[0m\n\u001b[0;32m----> 3\u001b[0;31m \u001b[0mpandas\u001b[0m\u001b[0;34m.\u001b[0m\u001b[0mconcat\u001b[0m\u001b[0;34m(\u001b[0m\u001b[0;34m[\u001b[0m\u001b[0mdf1\u001b[0m\u001b[0;34m,\u001b[0m \u001b[0mdf2\u001b[0m\u001b[0;34m]\u001b[0m\u001b[0;34m,\u001b[0m \u001b[0maxis\u001b[0m\u001b[0;34m=\u001b[0m\u001b[0;36m1\u001b[0m\u001b[0;34m,\u001b[0m \u001b[0mverify_integrity\u001b[0m\u001b[0;34m=\u001b[0m\u001b[0;32mTrue\u001b[0m\u001b[0;34m)\u001b[0m\u001b[0;34m\u001b[0m\u001b[0;34m\u001b[0m\u001b[0m\n\u001b[0m",
            "\u001b[0;32m/usr/local/lib/python3.6/dist-packages/pandas/core/reshape/concat.py\u001b[0m in \u001b[0;36mconcat\u001b[0;34m(objs, axis, join, ignore_index, keys, levels, names, verify_integrity, sort, copy)\u001b[0m\n\u001b[1;32m    279\u001b[0m         \u001b[0mverify_integrity\u001b[0m\u001b[0;34m=\u001b[0m\u001b[0mverify_integrity\u001b[0m\u001b[0;34m,\u001b[0m\u001b[0;34m\u001b[0m\u001b[0;34m\u001b[0m\u001b[0m\n\u001b[1;32m    280\u001b[0m         \u001b[0mcopy\u001b[0m\u001b[0;34m=\u001b[0m\u001b[0mcopy\u001b[0m\u001b[0;34m,\u001b[0m\u001b[0;34m\u001b[0m\u001b[0;34m\u001b[0m\u001b[0m\n\u001b[0;32m--> 281\u001b[0;31m         \u001b[0msort\u001b[0m\u001b[0;34m=\u001b[0m\u001b[0msort\u001b[0m\u001b[0;34m,\u001b[0m\u001b[0;34m\u001b[0m\u001b[0;34m\u001b[0m\u001b[0m\n\u001b[0m\u001b[1;32m    282\u001b[0m     )\n\u001b[1;32m    283\u001b[0m \u001b[0;34m\u001b[0m\u001b[0m\n",
            "\u001b[0;32m/usr/local/lib/python3.6/dist-packages/pandas/core/reshape/concat.py\u001b[0m in \u001b[0;36m__init__\u001b[0;34m(self, objs, axis, join, keys, levels, names, ignore_index, verify_integrity, copy, sort)\u001b[0m\n\u001b[1;32m    450\u001b[0m         \u001b[0mself\u001b[0m\u001b[0;34m.\u001b[0m\u001b[0mcopy\u001b[0m \u001b[0;34m=\u001b[0m \u001b[0mcopy\u001b[0m\u001b[0;34m\u001b[0m\u001b[0;34m\u001b[0m\u001b[0m\n\u001b[1;32m    451\u001b[0m \u001b[0;34m\u001b[0m\u001b[0m\n\u001b[0;32m--> 452\u001b[0;31m         \u001b[0mself\u001b[0m\u001b[0;34m.\u001b[0m\u001b[0mnew_axes\u001b[0m \u001b[0;34m=\u001b[0m \u001b[0mself\u001b[0m\u001b[0;34m.\u001b[0m\u001b[0m_get_new_axes\u001b[0m\u001b[0;34m(\u001b[0m\u001b[0;34m)\u001b[0m\u001b[0;34m\u001b[0m\u001b[0;34m\u001b[0m\u001b[0m\n\u001b[0m\u001b[1;32m    453\u001b[0m \u001b[0;34m\u001b[0m\u001b[0m\n\u001b[1;32m    454\u001b[0m     \u001b[0;32mdef\u001b[0m \u001b[0mget_result\u001b[0m\u001b[0;34m(\u001b[0m\u001b[0mself\u001b[0m\u001b[0;34m)\u001b[0m\u001b[0;34m:\u001b[0m\u001b[0;34m\u001b[0m\u001b[0;34m\u001b[0m\u001b[0m\n",
            "\u001b[0;32m/usr/local/lib/python3.6/dist-packages/pandas/core/reshape/concat.py\u001b[0m in \u001b[0;36m_get_new_axes\u001b[0;34m(self)\u001b[0m\n\u001b[1;32m    515\u001b[0m         return [\n\u001b[1;32m    516\u001b[0m             \u001b[0mself\u001b[0m\u001b[0;34m.\u001b[0m\u001b[0m_get_concat_axis\u001b[0m\u001b[0;34m(\u001b[0m\u001b[0;34m)\u001b[0m \u001b[0;32mif\u001b[0m \u001b[0mi\u001b[0m \u001b[0;34m==\u001b[0m \u001b[0mself\u001b[0m\u001b[0;34m.\u001b[0m\u001b[0maxis\u001b[0m \u001b[0;32melse\u001b[0m \u001b[0mself\u001b[0m\u001b[0;34m.\u001b[0m\u001b[0m_get_comb_axis\u001b[0m\u001b[0;34m(\u001b[0m\u001b[0mi\u001b[0m\u001b[0;34m)\u001b[0m\u001b[0;34m\u001b[0m\u001b[0;34m\u001b[0m\u001b[0m\n\u001b[0;32m--> 517\u001b[0;31m             \u001b[0;32mfor\u001b[0m \u001b[0mi\u001b[0m \u001b[0;32min\u001b[0m \u001b[0mrange\u001b[0m\u001b[0;34m(\u001b[0m\u001b[0mndim\u001b[0m\u001b[0;34m)\u001b[0m\u001b[0;34m\u001b[0m\u001b[0;34m\u001b[0m\u001b[0m\n\u001b[0m\u001b[1;32m    518\u001b[0m         ]\n\u001b[1;32m    519\u001b[0m \u001b[0;34m\u001b[0m\u001b[0m\n",
            "\u001b[0;32m/usr/local/lib/python3.6/dist-packages/pandas/core/reshape/concat.py\u001b[0m in \u001b[0;36m<listcomp>\u001b[0;34m(.0)\u001b[0m\n\u001b[1;32m    515\u001b[0m         return [\n\u001b[1;32m    516\u001b[0m             \u001b[0mself\u001b[0m\u001b[0;34m.\u001b[0m\u001b[0m_get_concat_axis\u001b[0m\u001b[0;34m(\u001b[0m\u001b[0;34m)\u001b[0m \u001b[0;32mif\u001b[0m \u001b[0mi\u001b[0m \u001b[0;34m==\u001b[0m \u001b[0mself\u001b[0m\u001b[0;34m.\u001b[0m\u001b[0maxis\u001b[0m \u001b[0;32melse\u001b[0m \u001b[0mself\u001b[0m\u001b[0;34m.\u001b[0m\u001b[0m_get_comb_axis\u001b[0m\u001b[0;34m(\u001b[0m\u001b[0mi\u001b[0m\u001b[0;34m)\u001b[0m\u001b[0;34m\u001b[0m\u001b[0;34m\u001b[0m\u001b[0m\n\u001b[0;32m--> 517\u001b[0;31m             \u001b[0;32mfor\u001b[0m \u001b[0mi\u001b[0m \u001b[0;32min\u001b[0m \u001b[0mrange\u001b[0m\u001b[0;34m(\u001b[0m\u001b[0mndim\u001b[0m\u001b[0;34m)\u001b[0m\u001b[0;34m\u001b[0m\u001b[0;34m\u001b[0m\u001b[0m\n\u001b[0m\u001b[1;32m    518\u001b[0m         ]\n\u001b[1;32m    519\u001b[0m \u001b[0;34m\u001b[0m\u001b[0m\n",
            "\u001b[0;32m/usr/local/lib/python3.6/dist-packages/pandas/core/reshape/concat.py\u001b[0m in \u001b[0;36m_get_concat_axis\u001b[0;34m(self)\u001b[0m\n\u001b[1;32m    570\u001b[0m             )\n\u001b[1;32m    571\u001b[0m \u001b[0;34m\u001b[0m\u001b[0m\n\u001b[0;32m--> 572\u001b[0;31m         \u001b[0mself\u001b[0m\u001b[0;34m.\u001b[0m\u001b[0m_maybe_check_integrity\u001b[0m\u001b[0;34m(\u001b[0m\u001b[0mconcat_axis\u001b[0m\u001b[0;34m)\u001b[0m\u001b[0;34m\u001b[0m\u001b[0;34m\u001b[0m\u001b[0m\n\u001b[0m\u001b[1;32m    573\u001b[0m \u001b[0;34m\u001b[0m\u001b[0m\n\u001b[1;32m    574\u001b[0m         \u001b[0;32mreturn\u001b[0m \u001b[0mconcat_axis\u001b[0m\u001b[0;34m\u001b[0m\u001b[0;34m\u001b[0m\u001b[0m\n",
            "\u001b[0;32m/usr/local/lib/python3.6/dist-packages/pandas/core/reshape/concat.py\u001b[0m in \u001b[0;36m_maybe_check_integrity\u001b[0;34m(self, concat_index)\u001b[0m\n\u001b[1;32m    580\u001b[0m                 raise ValueError(\n\u001b[1;32m    581\u001b[0m                     \u001b[0;34m\"Indexes have overlapping values: \"\u001b[0m\u001b[0;34m\u001b[0m\u001b[0;34m\u001b[0m\u001b[0m\n\u001b[0;32m--> 582\u001b[0;31m                     \u001b[0;34m\"{overlap!s}\"\u001b[0m\u001b[0;34m.\u001b[0m\u001b[0mformat\u001b[0m\u001b[0;34m(\u001b[0m\u001b[0moverlap\u001b[0m\u001b[0;34m=\u001b[0m\u001b[0moverlap\u001b[0m\u001b[0;34m)\u001b[0m\u001b[0;34m\u001b[0m\u001b[0;34m\u001b[0m\u001b[0m\n\u001b[0m\u001b[1;32m    583\u001b[0m                 )\n\u001b[1;32m    584\u001b[0m \u001b[0;34m\u001b[0m\u001b[0m\n",
            "\u001b[0;31mValueError\u001b[0m: Indexes have overlapping values: Index(['B'], dtype='object')"
          ]
        }
      ]
    },
    {
      "cell_type": "markdown",
      "metadata": {
        "id": "VOScPofDmsPR",
        "colab_type": "text"
      },
      "source": [
        "## **merge()** 메소드"
      ]
    },
    {
      "cell_type": "markdown",
      "metadata": {
        "id": "QSCRF_9omsPR",
        "colab_type": "text"
      },
      "source": [
        "데이터프레임을 병합한다.\n",
        "- 고성능 인메모리(in-memory) 조인(join) 연산을 수행한다.\n",
        "- 관계형 데이터베이스의 조인(join) 연산과 유사하다. \n",
        "    - 따라서 축과 축 이름을 기준으로 데이터를 결합하는 **concat()** 메소드와 달리 **셀의 데이터 값을 기준으로 결합**하기 때문에 데이터베이스의 SQL과 유사하게 작동한다.\n",
        "- 디폴트는 **inner join**이다."
      ]
    },
    {
      "cell_type": "markdown",
      "metadata": {
        "id": "RJTnUy9nmsPR",
        "colab_type": "text"
      },
      "source": [
        "[pandas.merge](https://pandas.pydata.org/pandas-docs/stable/reference/api/pandas.merge.html#pandas.merge)\n",
        "- Merge DataFrame or named Series objects with a database-style join.\n",
        "- The join is done on columns or indexes. If joining columns on columns, the DataFrame indexes will be ignored. Otherwise if joining indexes on indexes or indexes on a column or columns, the index will be passed on.\n",
        "- pandas.**merge**(*left, right, how='inner', on=None, left_on=None, right_on=None, left_index=False, right_index=False, sort=False, suffixes=('_x', '_y'), copy=True, indicator=False, validate=None*)\n",
        "    - ***how*** : {*'left'*, *'right'*, *'outer'*, *'inner'*}, default *'inner'*\n",
        "        - Type of merge to be performed.\n",
        "        - ***left***: use only keys from left frame, similar to a SQL **left outer join**; preserve key order.\n",
        "        - ***right***: use only keys from right frame, similar to a SQL **right outer join**; preserve key order.\n",
        "        - ***outer***: use *union* of keys from both frames, similar to a SQL **full outer join**; sort keys lexicographically.\n",
        "        - ***inner***: use intersection of keys from both frames, similar to a SQL **inner join**; preserve the order of the left keys.\n",
        "    - ***on*** : *label* or *list*\n",
        "        - Column or index level names to join on. These must be found in both DataFrames. If on *is None and not merging on indexes then this defaults to the intersection of the columns in both DataFrames.\n",
        "    - ***left_on*** : *label* or *list*, or *array-like*\n",
        "        - Column or index level names to join on in the left DataFrame. Can also be an array or list of arrays of the length of the left DataFrame. These arrays are treated as if they are columns.\n",
        "    - ***right_on*** : *label* or *list*, or *array-like*\n",
        "        - Column or index level names to join on in the right DataFrame. Can also be an array or list of arrays of the length of the right DataFrame. These arrays are treated as if they are columns.\n",
        "    - ***left_index*** : *bool*, default False\n",
        "        - Use the index from the left DataFrame as the join key(s). If it is a MultiIndex, the number of keys in the other DataFrame (either the index or a number of columns) must match the number of levels.\n",
        "    - ***right_index*** : *bool*, default False\n",
        "        - Use the index from the right DataFrame as the join key. Same caveats as left_index.\n",
        "    - ***suffixes*** : *tuple of (str, str)*, default (‘_x’, ‘_y’)\n",
        "        - Suffix to apply to overlapping column names in the left and right side, respectively. To raise an exception on overlapping columns use (False, False).\n",
        "    - ***indicator*** : *bool* or *str*, default False\n",
        "        - If True, adds a column to output DataFrame called “_merge” with information on the source of each row. If string, column with information on source of each row will be added to output DataFrame, and column will be named value of string. Information column is Categorical-type and takes on a value of “left_only” for observations whose merge key only appears in ‘left’ DataFrame, “right_only” for observations whose merge key only appears in ‘right’ DataFrame, and “both” if the observation’s merge key is found in both.\n",
        "    - ***validate*** : *str*, optional\n",
        "        - If specified, checks if merge is of specified type.\n",
        "            - **'one_to_one'** or **'1:1'**: check if merge keys are unique in both left and right datasets.\n",
        "            - **'one_to_many'** or **'1:m'**: check if merge keys are unique in left dataset.\n",
        "            - **'many_to_one'** or **'m:1'**: check if merge keys are unique in right dataset.\n",
        "            - **'many_to_many'** or **'m:m'**: allowed, but does not result in checks.\n",
        "    - Returns:\n",
        "        - DataFrame\n",
        "            - A DataFrame of the two merged objects."
      ]
    },
    {
      "cell_type": "markdown",
      "metadata": {
        "id": "BO_Yu4h3msPR",
        "colab_type": "text"
      },
      "source": [
        "**<font size='+1'>중복 키와 Catesian product</font>**"
      ]
    },
    {
      "cell_type": "code",
      "metadata": {
        "id": "JQddcWF8msPR",
        "colab_type": "code",
        "colab": {}
      },
      "source": [
        "df1 = pandas.DataFrame({'key': list('가나다가라'),\n",
        "                        'data': list(range(10, 15)),\n",
        "                        'ldata': list(range(15, 20))})\n",
        "\n",
        "df2 = pandas.DataFrame({'key': list('나가다마다'), \n",
        "                        'data': list(range(20, 25)),\n",
        "                        'rdata': list(range(25, 30))})"
      ],
      "execution_count": null,
      "outputs": []
    },
    {
      "cell_type": "code",
      "metadata": {
        "id": "NKiVn8qnmsPR",
        "colab_type": "code",
        "colab": {
          "base_uri": "https://localhost:8080/",
          "height": 204
        },
        "outputId": "e378a1d1-6429-48ae-e737-027de3147b3e"
      },
      "source": [
        "df1"
      ],
      "execution_count": null,
      "outputs": [
        {
          "output_type": "execute_result",
          "data": {
            "text/html": [
              "<div>\n",
              "<style scoped>\n",
              "    .dataframe tbody tr th:only-of-type {\n",
              "        vertical-align: middle;\n",
              "    }\n",
              "\n",
              "    .dataframe tbody tr th {\n",
              "        vertical-align: top;\n",
              "    }\n",
              "\n",
              "    .dataframe thead th {\n",
              "        text-align: right;\n",
              "    }\n",
              "</style>\n",
              "<table border=\"1\" class=\"dataframe\">\n",
              "  <thead>\n",
              "    <tr style=\"text-align: right;\">\n",
              "      <th></th>\n",
              "      <th>key</th>\n",
              "      <th>data</th>\n",
              "      <th>ldata</th>\n",
              "    </tr>\n",
              "  </thead>\n",
              "  <tbody>\n",
              "    <tr>\n",
              "      <th>0</th>\n",
              "      <td>가</td>\n",
              "      <td>10</td>\n",
              "      <td>15</td>\n",
              "    </tr>\n",
              "    <tr>\n",
              "      <th>1</th>\n",
              "      <td>나</td>\n",
              "      <td>11</td>\n",
              "      <td>16</td>\n",
              "    </tr>\n",
              "    <tr>\n",
              "      <th>2</th>\n",
              "      <td>다</td>\n",
              "      <td>12</td>\n",
              "      <td>17</td>\n",
              "    </tr>\n",
              "    <tr>\n",
              "      <th>3</th>\n",
              "      <td>가</td>\n",
              "      <td>13</td>\n",
              "      <td>18</td>\n",
              "    </tr>\n",
              "    <tr>\n",
              "      <th>4</th>\n",
              "      <td>라</td>\n",
              "      <td>14</td>\n",
              "      <td>19</td>\n",
              "    </tr>\n",
              "  </tbody>\n",
              "</table>\n",
              "</div>"
            ],
            "text/plain": [
              "  key  data  ldata\n",
              "0   가    10     15\n",
              "1   나    11     16\n",
              "2   다    12     17\n",
              "3   가    13     18\n",
              "4   라    14     19"
            ]
          },
          "metadata": {
            "tags": []
          },
          "execution_count": 177
        }
      ]
    },
    {
      "cell_type": "code",
      "metadata": {
        "id": "ubXevukqmsPS",
        "colab_type": "code",
        "colab": {
          "base_uri": "https://localhost:8080/",
          "height": 204
        },
        "outputId": "0cef6c52-f90f-433b-bc20-081ebe55a3bd"
      },
      "source": [
        "df2"
      ],
      "execution_count": null,
      "outputs": [
        {
          "output_type": "execute_result",
          "data": {
            "text/html": [
              "<div>\n",
              "<style scoped>\n",
              "    .dataframe tbody tr th:only-of-type {\n",
              "        vertical-align: middle;\n",
              "    }\n",
              "\n",
              "    .dataframe tbody tr th {\n",
              "        vertical-align: top;\n",
              "    }\n",
              "\n",
              "    .dataframe thead th {\n",
              "        text-align: right;\n",
              "    }\n",
              "</style>\n",
              "<table border=\"1\" class=\"dataframe\">\n",
              "  <thead>\n",
              "    <tr style=\"text-align: right;\">\n",
              "      <th></th>\n",
              "      <th>key</th>\n",
              "      <th>data</th>\n",
              "      <th>rdata</th>\n",
              "    </tr>\n",
              "  </thead>\n",
              "  <tbody>\n",
              "    <tr>\n",
              "      <th>0</th>\n",
              "      <td>나</td>\n",
              "      <td>20</td>\n",
              "      <td>25</td>\n",
              "    </tr>\n",
              "    <tr>\n",
              "      <th>1</th>\n",
              "      <td>가</td>\n",
              "      <td>21</td>\n",
              "      <td>26</td>\n",
              "    </tr>\n",
              "    <tr>\n",
              "      <th>2</th>\n",
              "      <td>다</td>\n",
              "      <td>22</td>\n",
              "      <td>27</td>\n",
              "    </tr>\n",
              "    <tr>\n",
              "      <th>3</th>\n",
              "      <td>마</td>\n",
              "      <td>23</td>\n",
              "      <td>28</td>\n",
              "    </tr>\n",
              "    <tr>\n",
              "      <th>4</th>\n",
              "      <td>다</td>\n",
              "      <td>24</td>\n",
              "      <td>29</td>\n",
              "    </tr>\n",
              "  </tbody>\n",
              "</table>\n",
              "</div>"
            ],
            "text/plain": [
              "  key  data  rdata\n",
              "0   나    20     25\n",
              "1   가    21     26\n",
              "2   다    22     27\n",
              "3   마    23     28\n",
              "4   다    24     29"
            ]
          },
          "metadata": {
            "tags": []
          },
          "execution_count": 178
        }
      ]
    },
    {
      "cell_type": "code",
      "metadata": {
        "id": "cqx3A0MqmsPT",
        "colab_type": "code",
        "colab": {
          "base_uri": "https://localhost:8080/",
          "height": 204
        },
        "outputId": "6c2114b5-855e-4d81-ab74-9ae64cadcd4e"
      },
      "source": [
        "# --- df1과 df2는 키 열의 이름이 같고 일부 열 이름이 다르다.\n",
        "# 병합하는 열을 'key'로 지정하고 기본값(inner join)으로 병합한다.\n",
        "pandas.merge(df1, df2, on='key')"
      ],
      "execution_count": null,
      "outputs": [
        {
          "output_type": "execute_result",
          "data": {
            "text/html": [
              "<div>\n",
              "<style scoped>\n",
              "    .dataframe tbody tr th:only-of-type {\n",
              "        vertical-align: middle;\n",
              "    }\n",
              "\n",
              "    .dataframe tbody tr th {\n",
              "        vertical-align: top;\n",
              "    }\n",
              "\n",
              "    .dataframe thead th {\n",
              "        text-align: right;\n",
              "    }\n",
              "</style>\n",
              "<table border=\"1\" class=\"dataframe\">\n",
              "  <thead>\n",
              "    <tr style=\"text-align: right;\">\n",
              "      <th></th>\n",
              "      <th>key</th>\n",
              "      <th>data_x</th>\n",
              "      <th>ldata</th>\n",
              "      <th>data_y</th>\n",
              "      <th>rdata</th>\n",
              "    </tr>\n",
              "  </thead>\n",
              "  <tbody>\n",
              "    <tr>\n",
              "      <th>0</th>\n",
              "      <td>가</td>\n",
              "      <td>10</td>\n",
              "      <td>15</td>\n",
              "      <td>21</td>\n",
              "      <td>26</td>\n",
              "    </tr>\n",
              "    <tr>\n",
              "      <th>1</th>\n",
              "      <td>가</td>\n",
              "      <td>13</td>\n",
              "      <td>18</td>\n",
              "      <td>21</td>\n",
              "      <td>26</td>\n",
              "    </tr>\n",
              "    <tr>\n",
              "      <th>2</th>\n",
              "      <td>나</td>\n",
              "      <td>11</td>\n",
              "      <td>16</td>\n",
              "      <td>20</td>\n",
              "      <td>25</td>\n",
              "    </tr>\n",
              "    <tr>\n",
              "      <th>3</th>\n",
              "      <td>다</td>\n",
              "      <td>12</td>\n",
              "      <td>17</td>\n",
              "      <td>22</td>\n",
              "      <td>27</td>\n",
              "    </tr>\n",
              "    <tr>\n",
              "      <th>4</th>\n",
              "      <td>다</td>\n",
              "      <td>12</td>\n",
              "      <td>17</td>\n",
              "      <td>24</td>\n",
              "      <td>29</td>\n",
              "    </tr>\n",
              "  </tbody>\n",
              "</table>\n",
              "</div>"
            ],
            "text/plain": [
              "  key  data_x  ldata  data_y  rdata\n",
              "0   가      10     15      21     26\n",
              "1   가      13     18      21     26\n",
              "2   나      11     16      20     25\n",
              "3   다      12     17      22     27\n",
              "4   다      12     17      24     29"
            ]
          },
          "metadata": {
            "tags": []
          },
          "execution_count": 179
        }
      ]
    },
    {
      "cell_type": "code",
      "metadata": {
        "id": "0Yl0ILBemsPV",
        "colab_type": "code",
        "colab": {
          "base_uri": "https://localhost:8080/",
          "height": 204
        },
        "outputId": "e74ae9ce-dc22-4668-8a69-ac2d9c6ee4ec"
      },
      "source": [
        "# --- df1과 df2는 키 열의 이름이 같고 일부 열 이름이 다르다.\n",
        "# 병합하는 열을 'key'로 지정하고 기본값(inner join)으로 병합한다.\n",
        "# 이 때 병합 정보를 포함하도록 한다.\n",
        "pandas.merge(df1, df2, on='key', indicator=True)"
      ],
      "execution_count": null,
      "outputs": [
        {
          "output_type": "execute_result",
          "data": {
            "text/html": [
              "<div>\n",
              "<style scoped>\n",
              "    .dataframe tbody tr th:only-of-type {\n",
              "        vertical-align: middle;\n",
              "    }\n",
              "\n",
              "    .dataframe tbody tr th {\n",
              "        vertical-align: top;\n",
              "    }\n",
              "\n",
              "    .dataframe thead th {\n",
              "        text-align: right;\n",
              "    }\n",
              "</style>\n",
              "<table border=\"1\" class=\"dataframe\">\n",
              "  <thead>\n",
              "    <tr style=\"text-align: right;\">\n",
              "      <th></th>\n",
              "      <th>key</th>\n",
              "      <th>data_x</th>\n",
              "      <th>ldata</th>\n",
              "      <th>data_y</th>\n",
              "      <th>rdata</th>\n",
              "      <th>_merge</th>\n",
              "    </tr>\n",
              "  </thead>\n",
              "  <tbody>\n",
              "    <tr>\n",
              "      <th>0</th>\n",
              "      <td>가</td>\n",
              "      <td>10</td>\n",
              "      <td>15</td>\n",
              "      <td>21</td>\n",
              "      <td>26</td>\n",
              "      <td>both</td>\n",
              "    </tr>\n",
              "    <tr>\n",
              "      <th>1</th>\n",
              "      <td>가</td>\n",
              "      <td>13</td>\n",
              "      <td>18</td>\n",
              "      <td>21</td>\n",
              "      <td>26</td>\n",
              "      <td>both</td>\n",
              "    </tr>\n",
              "    <tr>\n",
              "      <th>2</th>\n",
              "      <td>나</td>\n",
              "      <td>11</td>\n",
              "      <td>16</td>\n",
              "      <td>20</td>\n",
              "      <td>25</td>\n",
              "      <td>both</td>\n",
              "    </tr>\n",
              "    <tr>\n",
              "      <th>3</th>\n",
              "      <td>다</td>\n",
              "      <td>12</td>\n",
              "      <td>17</td>\n",
              "      <td>22</td>\n",
              "      <td>27</td>\n",
              "      <td>both</td>\n",
              "    </tr>\n",
              "    <tr>\n",
              "      <th>4</th>\n",
              "      <td>다</td>\n",
              "      <td>12</td>\n",
              "      <td>17</td>\n",
              "      <td>24</td>\n",
              "      <td>29</td>\n",
              "      <td>both</td>\n",
              "    </tr>\n",
              "  </tbody>\n",
              "</table>\n",
              "</div>"
            ],
            "text/plain": [
              "  key  data_x  ldata  data_y  rdata _merge\n",
              "0   가      10     15      21     26   both\n",
              "1   가      13     18      21     26   both\n",
              "2   나      11     16      20     25   both\n",
              "3   다      12     17      22     27   both\n",
              "4   다      12     17      24     29   both"
            ]
          },
          "metadata": {
            "tags": []
          },
          "execution_count": 180
        }
      ]
    },
    {
      "cell_type": "code",
      "metadata": {
        "id": "Jn1TVHp_msPW",
        "colab_type": "code",
        "colab": {
          "base_uri": "https://localhost:8080/",
          "height": 266
        },
        "outputId": "87279ee3-0da1-4efb-9ba8-094c19d3a260"
      },
      "source": [
        "# --- df1과 df2는 키 열의 이름이 같고 일부 열 이름이 다르다.\n",
        "# 병합하는 열을 'key'로 지정하고 outer join으로 병합한다.\n",
        "# 이 때 병합 정보를 포함하도록 한다.\n",
        "pandas.merge(df1, df2, \n",
        "             how='outer', on='key', \n",
        "             indicator=True)"
      ],
      "execution_count": null,
      "outputs": [
        {
          "output_type": "execute_result",
          "data": {
            "text/html": [
              "<div>\n",
              "<style scoped>\n",
              "    .dataframe tbody tr th:only-of-type {\n",
              "        vertical-align: middle;\n",
              "    }\n",
              "\n",
              "    .dataframe tbody tr th {\n",
              "        vertical-align: top;\n",
              "    }\n",
              "\n",
              "    .dataframe thead th {\n",
              "        text-align: right;\n",
              "    }\n",
              "</style>\n",
              "<table border=\"1\" class=\"dataframe\">\n",
              "  <thead>\n",
              "    <tr style=\"text-align: right;\">\n",
              "      <th></th>\n",
              "      <th>key</th>\n",
              "      <th>data_x</th>\n",
              "      <th>ldata</th>\n",
              "      <th>data_y</th>\n",
              "      <th>rdata</th>\n",
              "      <th>_merge</th>\n",
              "    </tr>\n",
              "  </thead>\n",
              "  <tbody>\n",
              "    <tr>\n",
              "      <th>0</th>\n",
              "      <td>가</td>\n",
              "      <td>10.0</td>\n",
              "      <td>15.0</td>\n",
              "      <td>21.0</td>\n",
              "      <td>26.0</td>\n",
              "      <td>both</td>\n",
              "    </tr>\n",
              "    <tr>\n",
              "      <th>1</th>\n",
              "      <td>가</td>\n",
              "      <td>13.0</td>\n",
              "      <td>18.0</td>\n",
              "      <td>21.0</td>\n",
              "      <td>26.0</td>\n",
              "      <td>both</td>\n",
              "    </tr>\n",
              "    <tr>\n",
              "      <th>2</th>\n",
              "      <td>나</td>\n",
              "      <td>11.0</td>\n",
              "      <td>16.0</td>\n",
              "      <td>20.0</td>\n",
              "      <td>25.0</td>\n",
              "      <td>both</td>\n",
              "    </tr>\n",
              "    <tr>\n",
              "      <th>3</th>\n",
              "      <td>다</td>\n",
              "      <td>12.0</td>\n",
              "      <td>17.0</td>\n",
              "      <td>22.0</td>\n",
              "      <td>27.0</td>\n",
              "      <td>both</td>\n",
              "    </tr>\n",
              "    <tr>\n",
              "      <th>4</th>\n",
              "      <td>다</td>\n",
              "      <td>12.0</td>\n",
              "      <td>17.0</td>\n",
              "      <td>24.0</td>\n",
              "      <td>29.0</td>\n",
              "      <td>both</td>\n",
              "    </tr>\n",
              "    <tr>\n",
              "      <th>5</th>\n",
              "      <td>라</td>\n",
              "      <td>14.0</td>\n",
              "      <td>19.0</td>\n",
              "      <td>NaN</td>\n",
              "      <td>NaN</td>\n",
              "      <td>left_only</td>\n",
              "    </tr>\n",
              "    <tr>\n",
              "      <th>6</th>\n",
              "      <td>마</td>\n",
              "      <td>NaN</td>\n",
              "      <td>NaN</td>\n",
              "      <td>23.0</td>\n",
              "      <td>28.0</td>\n",
              "      <td>right_only</td>\n",
              "    </tr>\n",
              "  </tbody>\n",
              "</table>\n",
              "</div>"
            ],
            "text/plain": [
              "  key  data_x  ldata  data_y  rdata      _merge\n",
              "0   가    10.0   15.0    21.0   26.0        both\n",
              "1   가    13.0   18.0    21.0   26.0        both\n",
              "2   나    11.0   16.0    20.0   25.0        both\n",
              "3   다    12.0   17.0    22.0   27.0        both\n",
              "4   다    12.0   17.0    24.0   29.0        both\n",
              "5   라    14.0   19.0     NaN    NaN   left_only\n",
              "6   마     NaN    NaN    23.0   28.0  right_only"
            ]
          },
          "metadata": {
            "tags": []
          },
          "execution_count": 181
        }
      ]
    },
    {
      "cell_type": "code",
      "metadata": {
        "id": "BW1KRrLMmsPY",
        "colab_type": "code",
        "colab": {
          "base_uri": "https://localhost:8080/",
          "height": 235
        },
        "outputId": "535e5230-48a2-4219-e51d-0694161cd78e"
      },
      "source": [
        "# --- df1과 df2는 키 열의 이름이 같고 일부 열 이름이 다르다.\n",
        "# 병합하는 열을 'key'로 지정하고 left outer join으로 병합한다.\n",
        "# 이 때 병합하는 열 이외 같은 이름을 가진 열을 구분하기 위해 \n",
        "# 접미어를 지정하고 병합 정보를 포함하도록 한다.\n",
        "pandas.merge(df1, df2, how='left', on='key', \n",
        "             suffixes=['_left', '_right'],\n",
        "             indicator=True)"
      ],
      "execution_count": null,
      "outputs": [
        {
          "output_type": "execute_result",
          "data": {
            "text/html": [
              "<div>\n",
              "<style scoped>\n",
              "    .dataframe tbody tr th:only-of-type {\n",
              "        vertical-align: middle;\n",
              "    }\n",
              "\n",
              "    .dataframe tbody tr th {\n",
              "        vertical-align: top;\n",
              "    }\n",
              "\n",
              "    .dataframe thead th {\n",
              "        text-align: right;\n",
              "    }\n",
              "</style>\n",
              "<table border=\"1\" class=\"dataframe\">\n",
              "  <thead>\n",
              "    <tr style=\"text-align: right;\">\n",
              "      <th></th>\n",
              "      <th>key</th>\n",
              "      <th>data_left</th>\n",
              "      <th>ldata</th>\n",
              "      <th>data_right</th>\n",
              "      <th>rdata</th>\n",
              "      <th>_merge</th>\n",
              "    </tr>\n",
              "  </thead>\n",
              "  <tbody>\n",
              "    <tr>\n",
              "      <th>0</th>\n",
              "      <td>가</td>\n",
              "      <td>10</td>\n",
              "      <td>15</td>\n",
              "      <td>21.0</td>\n",
              "      <td>26.0</td>\n",
              "      <td>both</td>\n",
              "    </tr>\n",
              "    <tr>\n",
              "      <th>1</th>\n",
              "      <td>나</td>\n",
              "      <td>11</td>\n",
              "      <td>16</td>\n",
              "      <td>20.0</td>\n",
              "      <td>25.0</td>\n",
              "      <td>both</td>\n",
              "    </tr>\n",
              "    <tr>\n",
              "      <th>2</th>\n",
              "      <td>다</td>\n",
              "      <td>12</td>\n",
              "      <td>17</td>\n",
              "      <td>22.0</td>\n",
              "      <td>27.0</td>\n",
              "      <td>both</td>\n",
              "    </tr>\n",
              "    <tr>\n",
              "      <th>3</th>\n",
              "      <td>다</td>\n",
              "      <td>12</td>\n",
              "      <td>17</td>\n",
              "      <td>24.0</td>\n",
              "      <td>29.0</td>\n",
              "      <td>both</td>\n",
              "    </tr>\n",
              "    <tr>\n",
              "      <th>4</th>\n",
              "      <td>가</td>\n",
              "      <td>13</td>\n",
              "      <td>18</td>\n",
              "      <td>21.0</td>\n",
              "      <td>26.0</td>\n",
              "      <td>both</td>\n",
              "    </tr>\n",
              "    <tr>\n",
              "      <th>5</th>\n",
              "      <td>라</td>\n",
              "      <td>14</td>\n",
              "      <td>19</td>\n",
              "      <td>NaN</td>\n",
              "      <td>NaN</td>\n",
              "      <td>left_only</td>\n",
              "    </tr>\n",
              "  </tbody>\n",
              "</table>\n",
              "</div>"
            ],
            "text/plain": [
              "  key  data_left  ldata  data_right  rdata     _merge\n",
              "0   가         10     15        21.0   26.0       both\n",
              "1   나         11     16        20.0   25.0       both\n",
              "2   다         12     17        22.0   27.0       both\n",
              "3   다         12     17        24.0   29.0       both\n",
              "4   가         13     18        21.0   26.0       both\n",
              "5   라         14     19         NaN    NaN  left_only"
            ]
          },
          "metadata": {
            "tags": []
          },
          "execution_count": 182
        }
      ]
    },
    {
      "cell_type": "code",
      "metadata": {
        "id": "x2Ua1iEWmsPZ",
        "colab_type": "code",
        "colab": {
          "base_uri": "https://localhost:8080/",
          "height": 235
        },
        "outputId": "ad0bcb8d-0113-4ee3-d6bc-2bd1b8472705"
      },
      "source": [
        "# --- df1과 df2는 키 열의 이름이 같고 일부 열 이름이 다르다.\n",
        "# 병합하는 열을 'key'로 지정하고 right outer join으로 병합한다.\n",
        "# 이 때 병합하는 열 이외 같은 이름을 가진 열을 구분하기 위해 \n",
        "# 접미어를 지정하고 병합 정보를 포함하도록 한다.\n",
        "pandas.merge(df1, df2, how='right', on='key', \n",
        "             suffixes=['_left', '_right'],\n",
        "             indicator=True)"
      ],
      "execution_count": null,
      "outputs": [
        {
          "output_type": "execute_result",
          "data": {
            "text/html": [
              "<div>\n",
              "<style scoped>\n",
              "    .dataframe tbody tr th:only-of-type {\n",
              "        vertical-align: middle;\n",
              "    }\n",
              "\n",
              "    .dataframe tbody tr th {\n",
              "        vertical-align: top;\n",
              "    }\n",
              "\n",
              "    .dataframe thead th {\n",
              "        text-align: right;\n",
              "    }\n",
              "</style>\n",
              "<table border=\"1\" class=\"dataframe\">\n",
              "  <thead>\n",
              "    <tr style=\"text-align: right;\">\n",
              "      <th></th>\n",
              "      <th>key</th>\n",
              "      <th>data_left</th>\n",
              "      <th>ldata</th>\n",
              "      <th>data_right</th>\n",
              "      <th>rdata</th>\n",
              "      <th>_merge</th>\n",
              "    </tr>\n",
              "  </thead>\n",
              "  <tbody>\n",
              "    <tr>\n",
              "      <th>0</th>\n",
              "      <td>가</td>\n",
              "      <td>10.0</td>\n",
              "      <td>15.0</td>\n",
              "      <td>21</td>\n",
              "      <td>26</td>\n",
              "      <td>both</td>\n",
              "    </tr>\n",
              "    <tr>\n",
              "      <th>1</th>\n",
              "      <td>가</td>\n",
              "      <td>13.0</td>\n",
              "      <td>18.0</td>\n",
              "      <td>21</td>\n",
              "      <td>26</td>\n",
              "      <td>both</td>\n",
              "    </tr>\n",
              "    <tr>\n",
              "      <th>2</th>\n",
              "      <td>나</td>\n",
              "      <td>11.0</td>\n",
              "      <td>16.0</td>\n",
              "      <td>20</td>\n",
              "      <td>25</td>\n",
              "      <td>both</td>\n",
              "    </tr>\n",
              "    <tr>\n",
              "      <th>3</th>\n",
              "      <td>다</td>\n",
              "      <td>12.0</td>\n",
              "      <td>17.0</td>\n",
              "      <td>22</td>\n",
              "      <td>27</td>\n",
              "      <td>both</td>\n",
              "    </tr>\n",
              "    <tr>\n",
              "      <th>4</th>\n",
              "      <td>다</td>\n",
              "      <td>12.0</td>\n",
              "      <td>17.0</td>\n",
              "      <td>24</td>\n",
              "      <td>29</td>\n",
              "      <td>both</td>\n",
              "    </tr>\n",
              "    <tr>\n",
              "      <th>5</th>\n",
              "      <td>마</td>\n",
              "      <td>NaN</td>\n",
              "      <td>NaN</td>\n",
              "      <td>23</td>\n",
              "      <td>28</td>\n",
              "      <td>right_only</td>\n",
              "    </tr>\n",
              "  </tbody>\n",
              "</table>\n",
              "</div>"
            ],
            "text/plain": [
              "  key  data_left  ldata  data_right  rdata      _merge\n",
              "0   가       10.0   15.0          21     26        both\n",
              "1   가       13.0   18.0          21     26        both\n",
              "2   나       11.0   16.0          20     25        both\n",
              "3   다       12.0   17.0          22     27        both\n",
              "4   다       12.0   17.0          24     29        both\n",
              "5   마        NaN    NaN          23     28  right_only"
            ]
          },
          "metadata": {
            "tags": []
          },
          "execution_count": 183
        }
      ]
    },
    {
      "cell_type": "markdown",
      "metadata": {
        "id": "gWlDrFHL7srs",
        "colab_type": "text"
      },
      "source": [
        "# 피벗 테이블 "
      ]
    },
    {
      "cell_type": "markdown",
      "metadata": {
        "id": "orklYtWr7srt",
        "colab_type": "text"
      },
      "source": [
        "[pandas.pivot_table](https://pandas.pydata.org/pandas-docs/stable/reference/api/pandas.pivot_table.html)\n",
        "- Create a spreadsheet-style pivot table as a DataFrame.\n",
        "- The levels in the pivot table will be stored in MultiIndex objects (hierarchical indexes) on the index and columns of the result DataFrame.\n",
        "- pandas.**pivot_table**(*data, values=None, index=None, columns=None, aggfunc='mean', fill_value=None, margins=False, dropna=True, margins_name='All', observed=False*)\n",
        "    + ***data*** : *DataFrame*\n",
        "    + ***values*** : *column to aggregate, optional*\n",
        "    + ***index*** : *column, Grouper, array, or list of the previous*\n",
        "        - If an array is passed, it must be the same length as the **data**. The list can contain any of the other types (except list). Keys to group by on the pivot table index. If an array is passed, it is being used as the same manner as column values.\n",
        "    + ***columns*** : *column, Grouper, array, or list of the previous*\n",
        "        - If an array is passed, it must be the same length as the **data**. The list can contain any of the other types (except list). Keys to group by on the pivot table column. If an array is passed, it is being used as the same manner as column values.\n",
        "    + ***aggfunc*** : *function, list of functions, dict, default numpy.mean*\n",
        "        - If **list** of functions passed, the resulting pivot table will have hierarchical columns whose top level are the function names (inferred from the function objects themselves) \n",
        "        - If **dict** is passed, the ***key*** is column to aggregate and ***value*** is function or list of functions.\n",
        "    + ***fill_value*** : *scalar, default None*\n",
        "        - Value to replace missing values with.\n",
        "    + ***margins*** : *bool, default False*\n",
        "        - Add all row / columns (e.g. for subtotal / grand totals).\n",
        "    + ***dropna*** : *bool, default True*\n",
        "        - Do not include columns whose entries are all **NaN**.\n",
        "    + ***margins_name*** : *str, default 'All'*\n",
        "        - Name of the row / column that will contain the totals when ***margins*** is **True**.\n",
        "    + ***observed*** : *bool, default False*\n",
        "        - This only applies if any of the groupers are Categoricals. \n",
        "        - If **True**: only show observed values for categorical groupers. \n",
        "        - If **False**: show all values for categorical groupers.\n",
        "    * Returns : *DataFrame*\n",
        "        - An Excel style pivot table."
      ]
    },
    {
      "cell_type": "markdown",
      "metadata": {
        "id": "_yFEr2Pl8UMA",
        "colab_type": "text"
      },
      "source": [
        "실습을 위해 저장해둔 파일을 내려받도록 한다.\n",
        "- 이 데이터는 MovieLens 1M Dataset 중 나이가 **1**살로 기록되어 있는 **user id**가 **1**인 데이터만 생략했다. \n",
        "- 그리고 'timestamp', 'movie_id', 'genres' 열을 제외한 데이터로 파일 크기는 약 **45**MB다.\n",
        "- [MovieLens 1M Dataset](https://grouplens.org/datasets/movielens/1m/)은 6,000명의 사용자가 4,000개의 영화에 대한 100만개의 평점 데이터로 이루어져 있다.\n",
        "\n",
        "\n",
        "이 실습에 사용하는 데이터 출처\n",
        "- https://grouplens.org/datasets/movielens/1m/"
      ]
    },
    {
      "cell_type": "code",
      "metadata": {
        "id": "mzSGvZO3iRwV",
        "colab_type": "code",
        "colab": {
          "base_uri": "https://localhost:8080/",
          "height": 35
        },
        "outputId": "71766dea-1273-4be0-9e14-41cfa5ad86fb"
      },
      "source": [
        "!wget -O movielens1m-modified-merge.csv -q --show-progress --no-check-certificate 'https://drive.google.com/uc?export=download&id=1WTwd30tHq12OMWL-CR4bXp16hSkky3Vt'"
      ],
      "execution_count": null,
      "outputs": [
        {
          "output_type": "stream",
          "text": [
            "movielens1m-modifie     [  <=>               ]  43.01M   110MB/s    in 0.4s    \n"
          ],
          "name": "stdout"
        }
      ]
    },
    {
      "cell_type": "code",
      "metadata": {
        "colab_type": "code",
        "id": "DOhhAy4OzWU_",
        "colab": {
          "base_uri": "https://localhost:8080/",
          "height": 52
        },
        "outputId": "1c1219d1-d390-4f4d-cc3e-1fcf33ec6004"
      },
      "source": [
        "import pandas  # as pd\n",
        "import numpy   # as np \n",
        "print('Pandas version...:', pandas.__version__)\n",
        "print('NumPy version....:', numpy.__version__)"
      ],
      "execution_count": null,
      "outputs": [
        {
          "output_type": "stream",
          "text": [
            "Pandas version...: 1.0.5\n",
            "NumPy version....: 1.18.5\n"
          ],
          "name": "stdout"
        }
      ]
    },
    {
      "cell_type": "code",
      "metadata": {
        "colab_type": "code",
        "id": "-SXuebmyzWVI",
        "colab": {
          "base_uri": "https://localhost:8080/",
          "height": 407
        },
        "outputId": "427763ac-8fae-4883-8dcc-51362d2f7e90"
      },
      "source": [
        "df = pandas.read_csv('movielens1m-modified-merge.csv')\n",
        "df"
      ],
      "execution_count": null,
      "outputs": [
        {
          "output_type": "execute_result",
          "data": {
            "text/html": [
              "<div>\n",
              "<style scoped>\n",
              "    .dataframe tbody tr th:only-of-type {\n",
              "        vertical-align: middle;\n",
              "    }\n",
              "\n",
              "    .dataframe tbody tr th {\n",
              "        vertical-align: top;\n",
              "    }\n",
              "\n",
              "    .dataframe thead th {\n",
              "        text-align: right;\n",
              "    }\n",
              "</style>\n",
              "<table border=\"1\" class=\"dataframe\">\n",
              "  <thead>\n",
              "    <tr style=\"text-align: right;\">\n",
              "      <th></th>\n",
              "      <th>user_id</th>\n",
              "      <th>rating</th>\n",
              "      <th>gender</th>\n",
              "      <th>age</th>\n",
              "      <th>occupation</th>\n",
              "      <th>zip</th>\n",
              "      <th>title</th>\n",
              "    </tr>\n",
              "  </thead>\n",
              "  <tbody>\n",
              "    <tr>\n",
              "      <th>0</th>\n",
              "      <td>2</td>\n",
              "      <td>5</td>\n",
              "      <td>M</td>\n",
              "      <td>56</td>\n",
              "      <td>16</td>\n",
              "      <td>70072</td>\n",
              "      <td>One Flew Over the Cuckoo's Nest (1975)</td>\n",
              "    </tr>\n",
              "    <tr>\n",
              "      <th>1</th>\n",
              "      <td>12</td>\n",
              "      <td>4</td>\n",
              "      <td>M</td>\n",
              "      <td>25</td>\n",
              "      <td>12</td>\n",
              "      <td>32793</td>\n",
              "      <td>One Flew Over the Cuckoo's Nest (1975)</td>\n",
              "    </tr>\n",
              "    <tr>\n",
              "      <th>2</th>\n",
              "      <td>15</td>\n",
              "      <td>4</td>\n",
              "      <td>M</td>\n",
              "      <td>25</td>\n",
              "      <td>7</td>\n",
              "      <td>22903</td>\n",
              "      <td>One Flew Over the Cuckoo's Nest (1975)</td>\n",
              "    </tr>\n",
              "    <tr>\n",
              "      <th>3</th>\n",
              "      <td>17</td>\n",
              "      <td>5</td>\n",
              "      <td>M</td>\n",
              "      <td>50</td>\n",
              "      <td>1</td>\n",
              "      <td>95350</td>\n",
              "      <td>One Flew Over the Cuckoo's Nest (1975)</td>\n",
              "    </tr>\n",
              "    <tr>\n",
              "      <th>4</th>\n",
              "      <td>18</td>\n",
              "      <td>4</td>\n",
              "      <td>F</td>\n",
              "      <td>18</td>\n",
              "      <td>3</td>\n",
              "      <td>95825</td>\n",
              "      <td>One Flew Over the Cuckoo's Nest (1975)</td>\n",
              "    </tr>\n",
              "    <tr>\n",
              "      <th>...</th>\n",
              "      <td>...</td>\n",
              "      <td>...</td>\n",
              "      <td>...</td>\n",
              "      <td>...</td>\n",
              "      <td>...</td>\n",
              "      <td>...</td>\n",
              "      <td>...</td>\n",
              "    </tr>\n",
              "    <tr>\n",
              "      <th>1000151</th>\n",
              "      <td>5949</td>\n",
              "      <td>5</td>\n",
              "      <td>M</td>\n",
              "      <td>18</td>\n",
              "      <td>17</td>\n",
              "      <td>47901</td>\n",
              "      <td>Modulations (1998)</td>\n",
              "    </tr>\n",
              "    <tr>\n",
              "      <th>1000152</th>\n",
              "      <td>5675</td>\n",
              "      <td>3</td>\n",
              "      <td>M</td>\n",
              "      <td>35</td>\n",
              "      <td>14</td>\n",
              "      <td>30030</td>\n",
              "      <td>Broken Vessels (1998)</td>\n",
              "    </tr>\n",
              "    <tr>\n",
              "      <th>1000153</th>\n",
              "      <td>5780</td>\n",
              "      <td>1</td>\n",
              "      <td>M</td>\n",
              "      <td>18</td>\n",
              "      <td>17</td>\n",
              "      <td>92886</td>\n",
              "      <td>White Boys (1999)</td>\n",
              "    </tr>\n",
              "    <tr>\n",
              "      <th>1000154</th>\n",
              "      <td>5851</td>\n",
              "      <td>5</td>\n",
              "      <td>F</td>\n",
              "      <td>18</td>\n",
              "      <td>20</td>\n",
              "      <td>55410</td>\n",
              "      <td>One Little Indian (1973)</td>\n",
              "    </tr>\n",
              "    <tr>\n",
              "      <th>1000155</th>\n",
              "      <td>5938</td>\n",
              "      <td>4</td>\n",
              "      <td>M</td>\n",
              "      <td>25</td>\n",
              "      <td>1</td>\n",
              "      <td>35401</td>\n",
              "      <td>Five Wives, Three Secretaries and Me (1998)</td>\n",
              "    </tr>\n",
              "  </tbody>\n",
              "</table>\n",
              "<p>1000156 rows × 7 columns</p>\n",
              "</div>"
            ],
            "text/plain": [
              "         user_id  rating  ...    zip                                        title\n",
              "0              2       5  ...  70072       One Flew Over the Cuckoo's Nest (1975)\n",
              "1             12       4  ...  32793       One Flew Over the Cuckoo's Nest (1975)\n",
              "2             15       4  ...  22903       One Flew Over the Cuckoo's Nest (1975)\n",
              "3             17       5  ...  95350       One Flew Over the Cuckoo's Nest (1975)\n",
              "4             18       4  ...  95825       One Flew Over the Cuckoo's Nest (1975)\n",
              "...          ...     ...  ...    ...                                          ...\n",
              "1000151     5949       5  ...  47901                           Modulations (1998)\n",
              "1000152     5675       3  ...  30030                        Broken Vessels (1998)\n",
              "1000153     5780       1  ...  92886                            White Boys (1999)\n",
              "1000154     5851       5  ...  55410                     One Little Indian (1973)\n",
              "1000155     5938       4  ...  35401  Five Wives, Three Secretaries and Me (1998)\n",
              "\n",
              "[1000156 rows x 7 columns]"
            ]
          },
          "metadata": {
            "tags": []
          },
          "execution_count": 3
        }
      ]
    },
    {
      "cell_type": "code",
      "metadata": {
        "id": "U-3Z399g7sry",
        "colab_type": "code",
        "colab": {
          "base_uri": "https://localhost:8080/",
          "height": 259
        },
        "outputId": "432dc673-2df4-438d-cb4e-c0af200d71bc"
      },
      "source": [
        "df.info()"
      ],
      "execution_count": null,
      "outputs": [
        {
          "output_type": "stream",
          "text": [
            "<class 'pandas.core.frame.DataFrame'>\n",
            "RangeIndex: 1000156 entries, 0 to 1000155\n",
            "Data columns (total 7 columns):\n",
            " #   Column      Non-Null Count    Dtype \n",
            "---  ------      --------------    ----- \n",
            " 0   user_id     1000156 non-null  int64 \n",
            " 1   rating      1000156 non-null  int64 \n",
            " 2   gender      1000156 non-null  object\n",
            " 3   age         1000156 non-null  int64 \n",
            " 4   occupation  1000156 non-null  int64 \n",
            " 5   zip         1000156 non-null  object\n",
            " 6   title       1000156 non-null  object\n",
            "dtypes: int64(4), object(3)\n",
            "memory usage: 53.4+ MB\n"
          ],
          "name": "stdout"
        }
      ]
    },
    {
      "cell_type": "code",
      "metadata": {
        "id": "oE6DjiHI7sr0",
        "colab_type": "code",
        "colab": {}
      },
      "source": [
        "# 사용자 ID의 자료형을 문자열로 바꾼다.\n",
        "df['user_id'] = df['user_id'].astype('str')"
      ],
      "execution_count": null,
      "outputs": []
    },
    {
      "cell_type": "code",
      "metadata": {
        "id": "VX2F7ulL7sr4",
        "colab_type": "code",
        "colab": {
          "base_uri": "https://localhost:8080/",
          "height": 155
        },
        "outputId": "46c91ef9-a468-47a8-87de-0bbf0aaaa52a"
      },
      "source": [
        "df.dtypes"
      ],
      "execution_count": null,
      "outputs": [
        {
          "output_type": "execute_result",
          "data": {
            "text/plain": [
              "user_id       object\n",
              "rating         int64\n",
              "gender        object\n",
              "age            int64\n",
              "occupation     int64\n",
              "zip           object\n",
              "title         object\n",
              "dtype: object"
            ]
          },
          "metadata": {
            "tags": []
          },
          "execution_count": 6
        }
      ]
    },
    {
      "cell_type": "code",
      "metadata": {
        "id": "lCpkDJnJDqEC",
        "colab_type": "code",
        "colab": {
          "base_uri": "https://localhost:8080/",
          "height": 708
        },
        "outputId": "6d685701-367e-492a-a285-48a2c8bfd3a3"
      },
      "source": [
        "# '직업(occupation)'별로로 정렬한다. \n",
        "# 이때 수치 데이터를 담고 있는 열만 포함되며,\n",
        "# '직업(occupation)'의 중복값은 하나로 합쳐지면서 해당 값들은 평균을 구해 보여준다. \n",
        "# 즉, 평균치가 기본값이다.\n",
        "pandas.pivot_table(df, index='occupation')"
      ],
      "execution_count": null,
      "outputs": [
        {
          "output_type": "execute_result",
          "data": {
            "text/html": [
              "<div>\n",
              "<style scoped>\n",
              "    .dataframe tbody tr th:only-of-type {\n",
              "        vertical-align: middle;\n",
              "    }\n",
              "\n",
              "    .dataframe tbody tr th {\n",
              "        vertical-align: top;\n",
              "    }\n",
              "\n",
              "    .dataframe thead th {\n",
              "        text-align: right;\n",
              "    }\n",
              "</style>\n",
              "<table border=\"1\" class=\"dataframe\">\n",
              "  <thead>\n",
              "    <tr style=\"text-align: right;\">\n",
              "      <th></th>\n",
              "      <th>age</th>\n",
              "      <th>rating</th>\n",
              "    </tr>\n",
              "    <tr>\n",
              "      <th>occupation</th>\n",
              "      <th></th>\n",
              "      <th></th>\n",
              "    </tr>\n",
              "  </thead>\n",
              "  <tbody>\n",
              "    <tr>\n",
              "      <th>0</th>\n",
              "      <td>29.296937</td>\n",
              "      <td>3.537544</td>\n",
              "    </tr>\n",
              "    <tr>\n",
              "      <th>1</th>\n",
              "      <td>33.652271</td>\n",
              "      <td>3.576642</td>\n",
              "    </tr>\n",
              "    <tr>\n",
              "      <th>2</th>\n",
              "      <td>29.641827</td>\n",
              "      <td>3.573081</td>\n",
              "    </tr>\n",
              "    <tr>\n",
              "      <th>3</th>\n",
              "      <td>31.396420</td>\n",
              "      <td>3.656516</td>\n",
              "    </tr>\n",
              "    <tr>\n",
              "      <th>4</th>\n",
              "      <td>20.618002</td>\n",
              "      <td>3.536793</td>\n",
              "    </tr>\n",
              "    <tr>\n",
              "      <th>5</th>\n",
              "      <td>29.430984</td>\n",
              "      <td>3.537529</td>\n",
              "    </tr>\n",
              "    <tr>\n",
              "      <th>6</th>\n",
              "      <td>35.590001</td>\n",
              "      <td>3.661578</td>\n",
              "    </tr>\n",
              "    <tr>\n",
              "      <th>7</th>\n",
              "      <td>33.483766</td>\n",
              "      <td>3.599772</td>\n",
              "    </tr>\n",
              "    <tr>\n",
              "      <th>8</th>\n",
              "      <td>40.762380</td>\n",
              "      <td>3.466741</td>\n",
              "    </tr>\n",
              "    <tr>\n",
              "      <th>9</th>\n",
              "      <td>33.638960</td>\n",
              "      <td>3.656589</td>\n",
              "    </tr>\n",
              "    <tr>\n",
              "      <th>10</th>\n",
              "      <td>4.220898</td>\n",
              "      <td>3.531179</td>\n",
              "    </tr>\n",
              "    <tr>\n",
              "      <th>11</th>\n",
              "      <td>33.071925</td>\n",
              "      <td>3.617371</td>\n",
              "    </tr>\n",
              "    <tr>\n",
              "      <th>12</th>\n",
              "      <td>29.352536</td>\n",
              "      <td>3.654001</td>\n",
              "    </tr>\n",
              "    <tr>\n",
              "      <th>13</th>\n",
              "      <td>52.476807</td>\n",
              "      <td>3.781736</td>\n",
              "    </tr>\n",
              "    <tr>\n",
              "      <th>14</th>\n",
              "      <td>29.404040</td>\n",
              "      <td>3.618481</td>\n",
              "    </tr>\n",
              "    <tr>\n",
              "      <th>15</th>\n",
              "      <td>29.642848</td>\n",
              "      <td>3.689774</td>\n",
              "    </tr>\n",
              "    <tr>\n",
              "      <th>16</th>\n",
              "      <td>36.165164</td>\n",
              "      <td>3.596575</td>\n",
              "    </tr>\n",
              "    <tr>\n",
              "      <th>17</th>\n",
              "      <td>31.807075</td>\n",
              "      <td>3.613574</td>\n",
              "    </tr>\n",
              "    <tr>\n",
              "      <th>18</th>\n",
              "      <td>32.269237</td>\n",
              "      <td>3.530117</td>\n",
              "    </tr>\n",
              "    <tr>\n",
              "      <th>19</th>\n",
              "      <td>23.549181</td>\n",
              "      <td>3.414050</td>\n",
              "    </tr>\n",
              "    <tr>\n",
              "      <th>20</th>\n",
              "      <td>30.734126</td>\n",
              "      <td>3.497392</td>\n",
              "    </tr>\n",
              "  </tbody>\n",
              "</table>\n",
              "</div>"
            ],
            "text/plain": [
              "                  age    rating\n",
              "occupation                     \n",
              "0           29.296937  3.537544\n",
              "1           33.652271  3.576642\n",
              "2           29.641827  3.573081\n",
              "3           31.396420  3.656516\n",
              "4           20.618002  3.536793\n",
              "5           29.430984  3.537529\n",
              "6           35.590001  3.661578\n",
              "7           33.483766  3.599772\n",
              "8           40.762380  3.466741\n",
              "9           33.638960  3.656589\n",
              "10           4.220898  3.531179\n",
              "11          33.071925  3.617371\n",
              "12          29.352536  3.654001\n",
              "13          52.476807  3.781736\n",
              "14          29.404040  3.618481\n",
              "15          29.642848  3.689774\n",
              "16          36.165164  3.596575\n",
              "17          31.807075  3.613574\n",
              "18          32.269237  3.530117\n",
              "19          23.549181  3.414050\n",
              "20          30.734126  3.497392"
            ]
          },
          "metadata": {
            "tags": []
          },
          "execution_count": 9
        }
      ]
    },
    {
      "cell_type": "code",
      "metadata": {
        "id": "nZ5B3cBEDqEK",
        "colab_type": "code",
        "colab": {
          "base_uri": "https://localhost:8080/",
          "height": 1000
        },
        "outputId": "2c4b97af-98bb-4985-847e-4c063c5dd7ca"
      },
      "source": [
        "# 인덱스를 여러 개 지정할 수도 있다.\n",
        "# 인덱스로 직업(occupation)에 따른 성(gender)별로 구분하여 설정한다.\n",
        "pandas.pivot_table(df, index=['occupation', 'gender'])"
      ],
      "execution_count": null,
      "outputs": [
        {
          "output_type": "execute_result",
          "data": {
            "text/html": [
              "<div>\n",
              "<style scoped>\n",
              "    .dataframe tbody tr th:only-of-type {\n",
              "        vertical-align: middle;\n",
              "    }\n",
              "\n",
              "    .dataframe tbody tr th {\n",
              "        vertical-align: top;\n",
              "    }\n",
              "\n",
              "    .dataframe thead th {\n",
              "        text-align: right;\n",
              "    }\n",
              "</style>\n",
              "<table border=\"1\" class=\"dataframe\">\n",
              "  <thead>\n",
              "    <tr style=\"text-align: right;\">\n",
              "      <th></th>\n",
              "      <th></th>\n",
              "      <th>age</th>\n",
              "      <th>rating</th>\n",
              "    </tr>\n",
              "    <tr>\n",
              "      <th>occupation</th>\n",
              "      <th>gender</th>\n",
              "      <th></th>\n",
              "      <th></th>\n",
              "    </tr>\n",
              "  </thead>\n",
              "  <tbody>\n",
              "    <tr>\n",
              "      <th rowspan=\"2\" valign=\"top\">0</th>\n",
              "      <th>F</th>\n",
              "      <td>29.990226</td>\n",
              "      <td>3.686842</td>\n",
              "    </tr>\n",
              "    <tr>\n",
              "      <th>M</th>\n",
              "      <td>29.062806</td>\n",
              "      <td>3.487125</td>\n",
              "    </tr>\n",
              "    <tr>\n",
              "      <th rowspan=\"2\" valign=\"top\">1</th>\n",
              "      <th>F</th>\n",
              "      <td>32.790766</td>\n",
              "      <td>3.584606</td>\n",
              "    </tr>\n",
              "    <tr>\n",
              "      <th>M</th>\n",
              "      <td>34.182911</td>\n",
              "      <td>3.571737</td>\n",
              "    </tr>\n",
              "    <tr>\n",
              "      <th rowspan=\"2\" valign=\"top\">2</th>\n",
              "      <th>F</th>\n",
              "      <td>31.275514</td>\n",
              "      <td>3.555888</td>\n",
              "    </tr>\n",
              "    <tr>\n",
              "      <th>M</th>\n",
              "      <td>28.871039</td>\n",
              "      <td>3.581192</td>\n",
              "    </tr>\n",
              "    <tr>\n",
              "      <th rowspan=\"2\" valign=\"top\">3</th>\n",
              "      <th>F</th>\n",
              "      <td>30.832810</td>\n",
              "      <td>3.687679</td>\n",
              "    </tr>\n",
              "    <tr>\n",
              "      <th>M</th>\n",
              "      <td>31.863163</td>\n",
              "      <td>3.630709</td>\n",
              "    </tr>\n",
              "    <tr>\n",
              "      <th rowspan=\"2\" valign=\"top\">4</th>\n",
              "      <th>F</th>\n",
              "      <td>20.889570</td>\n",
              "      <td>3.547252</td>\n",
              "    </tr>\n",
              "    <tr>\n",
              "      <th>M</th>\n",
              "      <td>20.528559</td>\n",
              "      <td>3.533348</td>\n",
              "    </tr>\n",
              "    <tr>\n",
              "      <th rowspan=\"2\" valign=\"top\">5</th>\n",
              "      <th>F</th>\n",
              "      <td>32.263252</td>\n",
              "      <td>3.584891</td>\n",
              "    </tr>\n",
              "    <tr>\n",
              "      <th>M</th>\n",
              "      <td>28.814656</td>\n",
              "      <td>3.527222</td>\n",
              "    </tr>\n",
              "    <tr>\n",
              "      <th rowspan=\"2\" valign=\"top\">6</th>\n",
              "      <th>F</th>\n",
              "      <td>37.319648</td>\n",
              "      <td>3.690834</td>\n",
              "    </tr>\n",
              "    <tr>\n",
              "      <th>M</th>\n",
              "      <td>34.424323</td>\n",
              "      <td>3.641861</td>\n",
              "    </tr>\n",
              "    <tr>\n",
              "      <th rowspan=\"2\" valign=\"top\">7</th>\n",
              "      <th>F</th>\n",
              "      <td>32.003729</td>\n",
              "      <td>3.668559</td>\n",
              "    </tr>\n",
              "    <tr>\n",
              "      <th>M</th>\n",
              "      <td>33.787818</td>\n",
              "      <td>3.585641</td>\n",
              "    </tr>\n",
              "    <tr>\n",
              "      <th rowspan=\"2\" valign=\"top\">8</th>\n",
              "      <th>F</th>\n",
              "      <td>48.745283</td>\n",
              "      <td>3.363208</td>\n",
              "    </tr>\n",
              "    <tr>\n",
              "      <th>M</th>\n",
              "      <td>38.309662</td>\n",
              "      <td>3.498551</td>\n",
              "    </tr>\n",
              "    <tr>\n",
              "      <th rowspan=\"2\" valign=\"top\">9</th>\n",
              "      <th>F</th>\n",
              "      <td>33.744173</td>\n",
              "      <td>3.668467</td>\n",
              "    </tr>\n",
              "    <tr>\n",
              "      <th>M</th>\n",
              "      <td>32.235145</td>\n",
              "      <td>3.498104</td>\n",
              "    </tr>\n",
              "    <tr>\n",
              "      <th rowspan=\"2\" valign=\"top\">10</th>\n",
              "      <th>F</th>\n",
              "      <td>1.412121</td>\n",
              "      <td>3.567677</td>\n",
              "    </tr>\n",
              "    <tr>\n",
              "      <th>M</th>\n",
              "      <td>5.414546</td>\n",
              "      <td>3.515668</td>\n",
              "    </tr>\n",
              "    <tr>\n",
              "      <th rowspan=\"2\" valign=\"top\">11</th>\n",
              "      <th>F</th>\n",
              "      <td>32.767688</td>\n",
              "      <td>3.796822</td>\n",
              "    </tr>\n",
              "    <tr>\n",
              "      <th>M</th>\n",
              "      <td>33.116797</td>\n",
              "      <td>3.590904</td>\n",
              "    </tr>\n",
              "    <tr>\n",
              "      <th rowspan=\"2\" valign=\"top\">12</th>\n",
              "      <th>F</th>\n",
              "      <td>32.558054</td>\n",
              "      <td>3.677102</td>\n",
              "    </tr>\n",
              "    <tr>\n",
              "      <th>M</th>\n",
              "      <td>28.919877</td>\n",
              "      <td>3.650883</td>\n",
              "    </tr>\n",
              "    <tr>\n",
              "      <th rowspan=\"2\" valign=\"top\">13</th>\n",
              "      <th>F</th>\n",
              "      <td>54.238657</td>\n",
              "      <td>3.903894</td>\n",
              "    </tr>\n",
              "    <tr>\n",
              "      <th>M</th>\n",
              "      <td>52.026654</td>\n",
              "      <td>3.750525</td>\n",
              "    </tr>\n",
              "    <tr>\n",
              "      <th rowspan=\"2\" valign=\"top\">14</th>\n",
              "      <th>F</th>\n",
              "      <td>27.703728</td>\n",
              "      <td>3.583702</td>\n",
              "    </tr>\n",
              "    <tr>\n",
              "      <th>M</th>\n",
              "      <td>29.953206</td>\n",
              "      <td>3.629714</td>\n",
              "    </tr>\n",
              "    <tr>\n",
              "      <th rowspan=\"2\" valign=\"top\">15</th>\n",
              "      <th>F</th>\n",
              "      <td>29.472130</td>\n",
              "      <td>3.796093</td>\n",
              "    </tr>\n",
              "    <tr>\n",
              "      <th>M</th>\n",
              "      <td>29.681064</td>\n",
              "      <td>3.665973</td>\n",
              "    </tr>\n",
              "    <tr>\n",
              "      <th rowspan=\"2\" valign=\"top\">16</th>\n",
              "      <th>F</th>\n",
              "      <td>37.957521</td>\n",
              "      <td>3.655868</td>\n",
              "    </tr>\n",
              "    <tr>\n",
              "      <th>M</th>\n",
              "      <td>35.819579</td>\n",
              "      <td>3.585143</td>\n",
              "    </tr>\n",
              "    <tr>\n",
              "      <th rowspan=\"2\" valign=\"top\">17</th>\n",
              "      <th>F</th>\n",
              "      <td>30.125899</td>\n",
              "      <td>3.649366</td>\n",
              "    </tr>\n",
              "    <tr>\n",
              "      <th>M</th>\n",
              "      <td>32.004404</td>\n",
              "      <td>3.609373</td>\n",
              "    </tr>\n",
              "    <tr>\n",
              "      <th rowspan=\"2\" valign=\"top\">18</th>\n",
              "      <th>F</th>\n",
              "      <td>41.425121</td>\n",
              "      <td>4.108696</td>\n",
              "    </tr>\n",
              "    <tr>\n",
              "      <th>M</th>\n",
              "      <td>31.944483</td>\n",
              "      <td>3.509596</td>\n",
              "    </tr>\n",
              "    <tr>\n",
              "      <th rowspan=\"2\" valign=\"top\">19</th>\n",
              "      <th>F</th>\n",
              "      <td>24.159228</td>\n",
              "      <td>3.445724</td>\n",
              "    </tr>\n",
              "    <tr>\n",
              "      <th>M</th>\n",
              "      <td>23.363835</td>\n",
              "      <td>3.404427</td>\n",
              "    </tr>\n",
              "    <tr>\n",
              "      <th rowspan=\"2\" valign=\"top\">20</th>\n",
              "      <th>F</th>\n",
              "      <td>30.692244</td>\n",
              "      <td>3.467402</td>\n",
              "    </tr>\n",
              "    <tr>\n",
              "      <th>M</th>\n",
              "      <td>30.748826</td>\n",
              "      <td>3.507918</td>\n",
              "    </tr>\n",
              "  </tbody>\n",
              "</table>\n",
              "</div>"
            ],
            "text/plain": [
              "                         age    rating\n",
              "occupation gender                     \n",
              "0          F       29.990226  3.686842\n",
              "           M       29.062806  3.487125\n",
              "1          F       32.790766  3.584606\n",
              "           M       34.182911  3.571737\n",
              "2          F       31.275514  3.555888\n",
              "           M       28.871039  3.581192\n",
              "3          F       30.832810  3.687679\n",
              "           M       31.863163  3.630709\n",
              "4          F       20.889570  3.547252\n",
              "           M       20.528559  3.533348\n",
              "5          F       32.263252  3.584891\n",
              "           M       28.814656  3.527222\n",
              "6          F       37.319648  3.690834\n",
              "           M       34.424323  3.641861\n",
              "7          F       32.003729  3.668559\n",
              "           M       33.787818  3.585641\n",
              "8          F       48.745283  3.363208\n",
              "           M       38.309662  3.498551\n",
              "9          F       33.744173  3.668467\n",
              "           M       32.235145  3.498104\n",
              "10         F        1.412121  3.567677\n",
              "           M        5.414546  3.515668\n",
              "11         F       32.767688  3.796822\n",
              "           M       33.116797  3.590904\n",
              "12         F       32.558054  3.677102\n",
              "           M       28.919877  3.650883\n",
              "13         F       54.238657  3.903894\n",
              "           M       52.026654  3.750525\n",
              "14         F       27.703728  3.583702\n",
              "           M       29.953206  3.629714\n",
              "15         F       29.472130  3.796093\n",
              "           M       29.681064  3.665973\n",
              "16         F       37.957521  3.655868\n",
              "           M       35.819579  3.585143\n",
              "17         F       30.125899  3.649366\n",
              "           M       32.004404  3.609373\n",
              "18         F       41.425121  4.108696\n",
              "           M       31.944483  3.509596\n",
              "19         F       24.159228  3.445724\n",
              "           M       23.363835  3.404427\n",
              "20         F       30.692244  3.467402\n",
              "           M       30.748826  3.507918"
            ]
          },
          "metadata": {
            "tags": []
          },
          "execution_count": 10
        }
      ]
    },
    {
      "cell_type": "code",
      "metadata": {
        "id": "mwrYN4R0DqEP",
        "colab_type": "code",
        "colab": {
          "base_uri": "https://localhost:8080/",
          "height": 1000
        },
        "outputId": "5431d6fb-fc96-4346-a259-bbb16d4b5dc4"
      },
      "source": [
        "# 특정 값만 지정하여 보여줄 수도 있다.\n",
        "# 성성(gender)별, 직업(occupation)별로 영화 평점(rating)의 평균을 구한다.\n",
        "# 합친 열들의 값은 기본값인 펑균치를 보여준다.\n",
        "pandas.pivot_table(df, \n",
        "                   index=['gender', 'occupation'], \n",
        "                   values=['rating'])"
      ],
      "execution_count": null,
      "outputs": [
        {
          "output_type": "execute_result",
          "data": {
            "text/html": [
              "<div>\n",
              "<style scoped>\n",
              "    .dataframe tbody tr th:only-of-type {\n",
              "        vertical-align: middle;\n",
              "    }\n",
              "\n",
              "    .dataframe tbody tr th {\n",
              "        vertical-align: top;\n",
              "    }\n",
              "\n",
              "    .dataframe thead th {\n",
              "        text-align: right;\n",
              "    }\n",
              "</style>\n",
              "<table border=\"1\" class=\"dataframe\">\n",
              "  <thead>\n",
              "    <tr style=\"text-align: right;\">\n",
              "      <th></th>\n",
              "      <th></th>\n",
              "      <th>rating</th>\n",
              "    </tr>\n",
              "    <tr>\n",
              "      <th>gender</th>\n",
              "      <th>occupation</th>\n",
              "      <th></th>\n",
              "    </tr>\n",
              "  </thead>\n",
              "  <tbody>\n",
              "    <tr>\n",
              "      <th rowspan=\"21\" valign=\"top\">F</th>\n",
              "      <th>0</th>\n",
              "      <td>3.686842</td>\n",
              "    </tr>\n",
              "    <tr>\n",
              "      <th>1</th>\n",
              "      <td>3.584606</td>\n",
              "    </tr>\n",
              "    <tr>\n",
              "      <th>2</th>\n",
              "      <td>3.555888</td>\n",
              "    </tr>\n",
              "    <tr>\n",
              "      <th>3</th>\n",
              "      <td>3.687679</td>\n",
              "    </tr>\n",
              "    <tr>\n",
              "      <th>4</th>\n",
              "      <td>3.547252</td>\n",
              "    </tr>\n",
              "    <tr>\n",
              "      <th>5</th>\n",
              "      <td>3.584891</td>\n",
              "    </tr>\n",
              "    <tr>\n",
              "      <th>6</th>\n",
              "      <td>3.690834</td>\n",
              "    </tr>\n",
              "    <tr>\n",
              "      <th>7</th>\n",
              "      <td>3.668559</td>\n",
              "    </tr>\n",
              "    <tr>\n",
              "      <th>8</th>\n",
              "      <td>3.363208</td>\n",
              "    </tr>\n",
              "    <tr>\n",
              "      <th>9</th>\n",
              "      <td>3.668467</td>\n",
              "    </tr>\n",
              "    <tr>\n",
              "      <th>10</th>\n",
              "      <td>3.567677</td>\n",
              "    </tr>\n",
              "    <tr>\n",
              "      <th>11</th>\n",
              "      <td>3.796822</td>\n",
              "    </tr>\n",
              "    <tr>\n",
              "      <th>12</th>\n",
              "      <td>3.677102</td>\n",
              "    </tr>\n",
              "    <tr>\n",
              "      <th>13</th>\n",
              "      <td>3.903894</td>\n",
              "    </tr>\n",
              "    <tr>\n",
              "      <th>14</th>\n",
              "      <td>3.583702</td>\n",
              "    </tr>\n",
              "    <tr>\n",
              "      <th>15</th>\n",
              "      <td>3.796093</td>\n",
              "    </tr>\n",
              "    <tr>\n",
              "      <th>16</th>\n",
              "      <td>3.655868</td>\n",
              "    </tr>\n",
              "    <tr>\n",
              "      <th>17</th>\n",
              "      <td>3.649366</td>\n",
              "    </tr>\n",
              "    <tr>\n",
              "      <th>18</th>\n",
              "      <td>4.108696</td>\n",
              "    </tr>\n",
              "    <tr>\n",
              "      <th>19</th>\n",
              "      <td>3.445724</td>\n",
              "    </tr>\n",
              "    <tr>\n",
              "      <th>20</th>\n",
              "      <td>3.467402</td>\n",
              "    </tr>\n",
              "    <tr>\n",
              "      <th rowspan=\"21\" valign=\"top\">M</th>\n",
              "      <th>0</th>\n",
              "      <td>3.487125</td>\n",
              "    </tr>\n",
              "    <tr>\n",
              "      <th>1</th>\n",
              "      <td>3.571737</td>\n",
              "    </tr>\n",
              "    <tr>\n",
              "      <th>2</th>\n",
              "      <td>3.581192</td>\n",
              "    </tr>\n",
              "    <tr>\n",
              "      <th>3</th>\n",
              "      <td>3.630709</td>\n",
              "    </tr>\n",
              "    <tr>\n",
              "      <th>4</th>\n",
              "      <td>3.533348</td>\n",
              "    </tr>\n",
              "    <tr>\n",
              "      <th>5</th>\n",
              "      <td>3.527222</td>\n",
              "    </tr>\n",
              "    <tr>\n",
              "      <th>6</th>\n",
              "      <td>3.641861</td>\n",
              "    </tr>\n",
              "    <tr>\n",
              "      <th>7</th>\n",
              "      <td>3.585641</td>\n",
              "    </tr>\n",
              "    <tr>\n",
              "      <th>8</th>\n",
              "      <td>3.498551</td>\n",
              "    </tr>\n",
              "    <tr>\n",
              "      <th>9</th>\n",
              "      <td>3.498104</td>\n",
              "    </tr>\n",
              "    <tr>\n",
              "      <th>10</th>\n",
              "      <td>3.515668</td>\n",
              "    </tr>\n",
              "    <tr>\n",
              "      <th>11</th>\n",
              "      <td>3.590904</td>\n",
              "    </tr>\n",
              "    <tr>\n",
              "      <th>12</th>\n",
              "      <td>3.650883</td>\n",
              "    </tr>\n",
              "    <tr>\n",
              "      <th>13</th>\n",
              "      <td>3.750525</td>\n",
              "    </tr>\n",
              "    <tr>\n",
              "      <th>14</th>\n",
              "      <td>3.629714</td>\n",
              "    </tr>\n",
              "    <tr>\n",
              "      <th>15</th>\n",
              "      <td>3.665973</td>\n",
              "    </tr>\n",
              "    <tr>\n",
              "      <th>16</th>\n",
              "      <td>3.585143</td>\n",
              "    </tr>\n",
              "    <tr>\n",
              "      <th>17</th>\n",
              "      <td>3.609373</td>\n",
              "    </tr>\n",
              "    <tr>\n",
              "      <th>18</th>\n",
              "      <td>3.509596</td>\n",
              "    </tr>\n",
              "    <tr>\n",
              "      <th>19</th>\n",
              "      <td>3.404427</td>\n",
              "    </tr>\n",
              "    <tr>\n",
              "      <th>20</th>\n",
              "      <td>3.507918</td>\n",
              "    </tr>\n",
              "  </tbody>\n",
              "</table>\n",
              "</div>"
            ],
            "text/plain": [
              "                     rating\n",
              "gender occupation          \n",
              "F      0           3.686842\n",
              "       1           3.584606\n",
              "       2           3.555888\n",
              "       3           3.687679\n",
              "       4           3.547252\n",
              "       5           3.584891\n",
              "       6           3.690834\n",
              "       7           3.668559\n",
              "       8           3.363208\n",
              "       9           3.668467\n",
              "       10          3.567677\n",
              "       11          3.796822\n",
              "       12          3.677102\n",
              "       13          3.903894\n",
              "       14          3.583702\n",
              "       15          3.796093\n",
              "       16          3.655868\n",
              "       17          3.649366\n",
              "       18          4.108696\n",
              "       19          3.445724\n",
              "       20          3.467402\n",
              "M      0           3.487125\n",
              "       1           3.571737\n",
              "       2           3.581192\n",
              "       3           3.630709\n",
              "       4           3.533348\n",
              "       5           3.527222\n",
              "       6           3.641861\n",
              "       7           3.585641\n",
              "       8           3.498551\n",
              "       9           3.498104\n",
              "       10          3.515668\n",
              "       11          3.590904\n",
              "       12          3.650883\n",
              "       13          3.750525\n",
              "       14          3.629714\n",
              "       15          3.665973\n",
              "       16          3.585143\n",
              "       17          3.609373\n",
              "       18          3.509596\n",
              "       19          3.404427\n",
              "       20          3.507918"
            ]
          },
          "metadata": {
            "tags": []
          },
          "execution_count": 11
        }
      ]
    },
    {
      "cell_type": "code",
      "metadata": {
        "id": "xSI31l1WDqET",
        "colab_type": "code",
        "colab": {
          "base_uri": "https://localhost:8080/",
          "height": 1000
        },
        "outputId": "86aeb62a-6a8f-4d06-c657-21207ba63a1d"
      },
      "source": [
        "# 기본값인 평균 외 다른 계산을 적용하려면 매개변수 aggfunc에 원하는 함수를 전달인자로 설정하면 된다.\n",
        "# 이번에는 평균치 대신 합계를 계산해보자.\n",
        "# 성(gender)별, 직업(occupation)별로 영화 평점(rating)의 총합(numpy.sum)을 구한다.\n",
        "# import numpy\n",
        "\n",
        "pandas.pivot_table(df, \n",
        "                   index=['gender', 'occupation'], \n",
        "                   values=['rating'],\n",
        "                   aggfunc=numpy.sum)"
      ],
      "execution_count": null,
      "outputs": [
        {
          "output_type": "execute_result",
          "data": {
            "text/html": [
              "<div>\n",
              "<style scoped>\n",
              "    .dataframe tbody tr th:only-of-type {\n",
              "        vertical-align: middle;\n",
              "    }\n",
              "\n",
              "    .dataframe tbody tr th {\n",
              "        vertical-align: top;\n",
              "    }\n",
              "\n",
              "    .dataframe thead th {\n",
              "        text-align: right;\n",
              "    }\n",
              "</style>\n",
              "<table border=\"1\" class=\"dataframe\">\n",
              "  <thead>\n",
              "    <tr style=\"text-align: right;\">\n",
              "      <th></th>\n",
              "      <th></th>\n",
              "      <th>rating</th>\n",
              "    </tr>\n",
              "    <tr>\n",
              "      <th>gender</th>\n",
              "      <th>occupation</th>\n",
              "      <th></th>\n",
              "    </tr>\n",
              "  </thead>\n",
              "  <tbody>\n",
              "    <tr>\n",
              "      <th rowspan=\"21\" valign=\"top\">F</th>\n",
              "      <th>0</th>\n",
              "      <td>121463</td>\n",
              "    </tr>\n",
              "    <tr>\n",
              "      <th>1</th>\n",
              "      <td>116618</td>\n",
              "    </tr>\n",
              "    <tr>\n",
              "      <th>2</th>\n",
              "      <td>57072</td>\n",
              "    </tr>\n",
              "    <tr>\n",
              "      <th>3</th>\n",
              "      <td>52826</td>\n",
              "    </tr>\n",
              "    <tr>\n",
              "      <th>4</th>\n",
              "      <td>115158</td>\n",
              "    </tr>\n",
              "    <tr>\n",
              "      <th>5</th>\n",
              "      <td>13999</td>\n",
              "    </tr>\n",
              "    <tr>\n",
              "      <th>6</th>\n",
              "      <td>55285</td>\n",
              "    </tr>\n",
              "    <tr>\n",
              "      <th>7</th>\n",
              "      <td>65913</td>\n",
              "    </tr>\n",
              "    <tr>\n",
              "      <th>8</th>\n",
              "      <td>2139</td>\n",
              "    </tr>\n",
              "    <tr>\n",
              "      <th>9</th>\n",
              "      <td>38717</td>\n",
              "    </tr>\n",
              "    <tr>\n",
              "      <th>10</th>\n",
              "      <td>24724</td>\n",
              "    </tr>\n",
              "    <tr>\n",
              "      <th>11</th>\n",
              "      <td>10035</td>\n",
              "    </tr>\n",
              "    <tr>\n",
              "      <th>12</th>\n",
              "      <td>25019</td>\n",
              "    </tr>\n",
              "    <tr>\n",
              "      <th>13</th>\n",
              "      <td>10927</td>\n",
              "    </tr>\n",
              "    <tr>\n",
              "      <th>14</th>\n",
              "      <td>42965</td>\n",
              "    </tr>\n",
              "    <tr>\n",
              "      <th>15</th>\n",
              "      <td>15936</td>\n",
              "    </tr>\n",
              "    <tr>\n",
              "      <th>16</th>\n",
              "      <td>27196</td>\n",
              "    </tr>\n",
              "    <tr>\n",
              "      <th>17</th>\n",
              "      <td>27914</td>\n",
              "    </tr>\n",
              "    <tr>\n",
              "      <th>18</th>\n",
              "      <td>1701</td>\n",
              "    </tr>\n",
              "    <tr>\n",
              "      <th>19</th>\n",
              "      <td>11967</td>\n",
              "    </tr>\n",
              "    <tr>\n",
              "      <th>20</th>\n",
              "      <td>54407</td>\n",
              "    </tr>\n",
              "    <tr>\n",
              "      <th rowspan=\"21\" valign=\"top\">M</th>\n",
              "      <th>0</th>\n",
              "      <td>340183</td>\n",
              "    </tr>\n",
              "    <tr>\n",
              "      <th>1</th>\n",
              "      <td>188652</td>\n",
              "    </tr>\n",
              "    <tr>\n",
              "      <th>2</th>\n",
              "      <td>121825</td>\n",
              "    </tr>\n",
              "    <tr>\n",
              "      <th>3</th>\n",
              "      <td>62804</td>\n",
              "    </tr>\n",
              "    <tr>\n",
              "      <th>4</th>\n",
              "      <td>348275</td>\n",
              "    </tr>\n",
              "    <tr>\n",
              "      <th>5</th>\n",
              "      <td>63296</td>\n",
              "    </tr>\n",
              "    <tr>\n",
              "      <th>6</th>\n",
              "      <td>80944</td>\n",
              "    </tr>\n",
              "    <tr>\n",
              "      <th>7</th>\n",
              "      <td>313593</td>\n",
              "    </tr>\n",
              "    <tr>\n",
              "      <th>8</th>\n",
              "      <td>7242</td>\n",
              "    </tr>\n",
              "    <tr>\n",
              "      <th>9</th>\n",
              "      <td>2767</td>\n",
              "    </tr>\n",
              "    <tr>\n",
              "      <th>10</th>\n",
              "      <td>57330</td>\n",
              "    </tr>\n",
              "    <tr>\n",
              "      <th>11</th>\n",
              "      <td>64349</td>\n",
              "    </tr>\n",
              "    <tr>\n",
              "      <th>12</th>\n",
              "      <td>184041</td>\n",
              "    </tr>\n",
              "    <tr>\n",
              "      <th>13</th>\n",
              "      <td>41087</td>\n",
              "    </tr>\n",
              "    <tr>\n",
              "      <th>14</th>\n",
              "      <td>134735</td>\n",
              "    </tr>\n",
              "    <tr>\n",
              "      <th>15</th>\n",
              "      <td>68748</td>\n",
              "    </tr>\n",
              "    <tr>\n",
              "      <th>16</th>\n",
              "      <td>138322</td>\n",
              "    </tr>\n",
              "    <tr>\n",
              "      <th>17</th>\n",
              "      <td>235212</td>\n",
              "    </tr>\n",
              "    <tr>\n",
              "      <th>18</th>\n",
              "      <td>40964</td>\n",
              "    </tr>\n",
              "    <tr>\n",
              "      <th>19</th>\n",
              "      <td>38916</td>\n",
              "    </tr>\n",
              "    <tr>\n",
              "      <th>20</th>\n",
              "      <td>156825</td>\n",
              "    </tr>\n",
              "  </tbody>\n",
              "</table>\n",
              "</div>"
            ],
            "text/plain": [
              "                   rating\n",
              "gender occupation        \n",
              "F      0           121463\n",
              "       1           116618\n",
              "       2            57072\n",
              "       3            52826\n",
              "       4           115158\n",
              "       5            13999\n",
              "       6            55285\n",
              "       7            65913\n",
              "       8             2139\n",
              "       9            38717\n",
              "       10           24724\n",
              "       11           10035\n",
              "       12           25019\n",
              "       13           10927\n",
              "       14           42965\n",
              "       15           15936\n",
              "       16           27196\n",
              "       17           27914\n",
              "       18            1701\n",
              "       19           11967\n",
              "       20           54407\n",
              "M      0           340183\n",
              "       1           188652\n",
              "       2           121825\n",
              "       3            62804\n",
              "       4           348275\n",
              "       5            63296\n",
              "       6            80944\n",
              "       7           313593\n",
              "       8             7242\n",
              "       9             2767\n",
              "       10           57330\n",
              "       11           64349\n",
              "       12          184041\n",
              "       13           41087\n",
              "       14          134735\n",
              "       15           68748\n",
              "       16          138322\n",
              "       17          235212\n",
              "       18           40964\n",
              "       19           38916\n",
              "       20          156825"
            ]
          },
          "metadata": {
            "tags": []
          },
          "execution_count": 12
        }
      ]
    },
    {
      "cell_type": "code",
      "metadata": {
        "id": "FMgoBIzCDqEX",
        "colab_type": "code",
        "colab": {
          "base_uri": "https://localhost:8080/",
          "height": 1000
        },
        "outputId": "6a8b1bef-cc3c-4c25-a4ff-b49521eb8158"
      },
      "source": [
        "# 이번에는 평균, 합계, 데이터 개수를 조회해보자.\n",
        "# 성(gender)별, 직업(occupation)별로 영화 평점(rating)의 총합(numpy.sum), 평균(numpy.mean), 데이터 개수(len)를 구한다.\n",
        "# import numpy\n",
        "\n",
        "pandas.pivot_table(df, \n",
        "                   index=['gender', 'occupation'], \n",
        "                   values=['rating'],\n",
        "                   aggfunc=[numpy.sum, numpy.mean, len])"
      ],
      "execution_count": null,
      "outputs": [
        {
          "output_type": "execute_result",
          "data": {
            "text/html": [
              "<div>\n",
              "<style scoped>\n",
              "    .dataframe tbody tr th:only-of-type {\n",
              "        vertical-align: middle;\n",
              "    }\n",
              "\n",
              "    .dataframe tbody tr th {\n",
              "        vertical-align: top;\n",
              "    }\n",
              "\n",
              "    .dataframe thead tr th {\n",
              "        text-align: left;\n",
              "    }\n",
              "\n",
              "    .dataframe thead tr:last-of-type th {\n",
              "        text-align: right;\n",
              "    }\n",
              "</style>\n",
              "<table border=\"1\" class=\"dataframe\">\n",
              "  <thead>\n",
              "    <tr>\n",
              "      <th></th>\n",
              "      <th></th>\n",
              "      <th>sum</th>\n",
              "      <th>mean</th>\n",
              "      <th>len</th>\n",
              "    </tr>\n",
              "    <tr>\n",
              "      <th></th>\n",
              "      <th></th>\n",
              "      <th>rating</th>\n",
              "      <th>rating</th>\n",
              "      <th>rating</th>\n",
              "    </tr>\n",
              "    <tr>\n",
              "      <th>gender</th>\n",
              "      <th>occupation</th>\n",
              "      <th></th>\n",
              "      <th></th>\n",
              "      <th></th>\n",
              "    </tr>\n",
              "  </thead>\n",
              "  <tbody>\n",
              "    <tr>\n",
              "      <th rowspan=\"21\" valign=\"top\">F</th>\n",
              "      <th>0</th>\n",
              "      <td>121463</td>\n",
              "      <td>3.686842</td>\n",
              "      <td>32945</td>\n",
              "    </tr>\n",
              "    <tr>\n",
              "      <th>1</th>\n",
              "      <td>116618</td>\n",
              "      <td>3.584606</td>\n",
              "      <td>32533</td>\n",
              "    </tr>\n",
              "    <tr>\n",
              "      <th>2</th>\n",
              "      <td>57072</td>\n",
              "      <td>3.555888</td>\n",
              "      <td>16050</td>\n",
              "    </tr>\n",
              "    <tr>\n",
              "      <th>3</th>\n",
              "      <td>52826</td>\n",
              "      <td>3.687679</td>\n",
              "      <td>14325</td>\n",
              "    </tr>\n",
              "    <tr>\n",
              "      <th>4</th>\n",
              "      <td>115158</td>\n",
              "      <td>3.547252</td>\n",
              "      <td>32464</td>\n",
              "    </tr>\n",
              "    <tr>\n",
              "      <th>5</th>\n",
              "      <td>13999</td>\n",
              "      <td>3.584891</td>\n",
              "      <td>3905</td>\n",
              "    </tr>\n",
              "    <tr>\n",
              "      <th>6</th>\n",
              "      <td>55285</td>\n",
              "      <td>3.690834</td>\n",
              "      <td>14979</td>\n",
              "    </tr>\n",
              "    <tr>\n",
              "      <th>7</th>\n",
              "      <td>65913</td>\n",
              "      <td>3.668559</td>\n",
              "      <td>17967</td>\n",
              "    </tr>\n",
              "    <tr>\n",
              "      <th>8</th>\n",
              "      <td>2139</td>\n",
              "      <td>3.363208</td>\n",
              "      <td>636</td>\n",
              "    </tr>\n",
              "    <tr>\n",
              "      <th>9</th>\n",
              "      <td>38717</td>\n",
              "      <td>3.668467</td>\n",
              "      <td>10554</td>\n",
              "    </tr>\n",
              "    <tr>\n",
              "      <th>10</th>\n",
              "      <td>24724</td>\n",
              "      <td>3.567677</td>\n",
              "      <td>6930</td>\n",
              "    </tr>\n",
              "    <tr>\n",
              "      <th>11</th>\n",
              "      <td>10035</td>\n",
              "      <td>3.796822</td>\n",
              "      <td>2643</td>\n",
              "    </tr>\n",
              "    <tr>\n",
              "      <th>12</th>\n",
              "      <td>25019</td>\n",
              "      <td>3.677102</td>\n",
              "      <td>6804</td>\n",
              "    </tr>\n",
              "    <tr>\n",
              "      <th>13</th>\n",
              "      <td>10927</td>\n",
              "      <td>3.903894</td>\n",
              "      <td>2799</td>\n",
              "    </tr>\n",
              "    <tr>\n",
              "      <th>14</th>\n",
              "      <td>42965</td>\n",
              "      <td>3.583702</td>\n",
              "      <td>11989</td>\n",
              "    </tr>\n",
              "    <tr>\n",
              "      <th>15</th>\n",
              "      <td>15936</td>\n",
              "      <td>3.796093</td>\n",
              "      <td>4198</td>\n",
              "    </tr>\n",
              "    <tr>\n",
              "      <th>16</th>\n",
              "      <td>27196</td>\n",
              "      <td>3.655868</td>\n",
              "      <td>7439</td>\n",
              "    </tr>\n",
              "    <tr>\n",
              "      <th>17</th>\n",
              "      <td>27914</td>\n",
              "      <td>3.649366</td>\n",
              "      <td>7649</td>\n",
              "    </tr>\n",
              "    <tr>\n",
              "      <th>18</th>\n",
              "      <td>1701</td>\n",
              "      <td>4.108696</td>\n",
              "      <td>414</td>\n",
              "    </tr>\n",
              "    <tr>\n",
              "      <th>19</th>\n",
              "      <td>11967</td>\n",
              "      <td>3.445724</td>\n",
              "      <td>3473</td>\n",
              "    </tr>\n",
              "    <tr>\n",
              "      <th>20</th>\n",
              "      <td>54407</td>\n",
              "      <td>3.467402</td>\n",
              "      <td>15691</td>\n",
              "    </tr>\n",
              "    <tr>\n",
              "      <th rowspan=\"21\" valign=\"top\">M</th>\n",
              "      <th>0</th>\n",
              "      <td>340183</td>\n",
              "      <td>3.487125</td>\n",
              "      <td>97554</td>\n",
              "    </tr>\n",
              "    <tr>\n",
              "      <th>1</th>\n",
              "      <td>188652</td>\n",
              "      <td>3.571737</td>\n",
              "      <td>52818</td>\n",
              "    </tr>\n",
              "    <tr>\n",
              "      <th>2</th>\n",
              "      <td>121825</td>\n",
              "      <td>3.581192</td>\n",
              "      <td>34018</td>\n",
              "    </tr>\n",
              "    <tr>\n",
              "      <th>3</th>\n",
              "      <td>62804</td>\n",
              "      <td>3.630709</td>\n",
              "      <td>17298</td>\n",
              "    </tr>\n",
              "    <tr>\n",
              "      <th>4</th>\n",
              "      <td>348275</td>\n",
              "      <td>3.533348</td>\n",
              "      <td>98568</td>\n",
              "    </tr>\n",
              "    <tr>\n",
              "      <th>5</th>\n",
              "      <td>63296</td>\n",
              "      <td>3.527222</td>\n",
              "      <td>17945</td>\n",
              "    </tr>\n",
              "    <tr>\n",
              "      <th>6</th>\n",
              "      <td>80944</td>\n",
              "      <td>3.641861</td>\n",
              "      <td>22226</td>\n",
              "    </tr>\n",
              "    <tr>\n",
              "      <th>7</th>\n",
              "      <td>313593</td>\n",
              "      <td>3.585641</td>\n",
              "      <td>87458</td>\n",
              "    </tr>\n",
              "    <tr>\n",
              "      <th>8</th>\n",
              "      <td>7242</td>\n",
              "      <td>3.498551</td>\n",
              "      <td>2070</td>\n",
              "    </tr>\n",
              "    <tr>\n",
              "      <th>9</th>\n",
              "      <td>2767</td>\n",
              "      <td>3.498104</td>\n",
              "      <td>791</td>\n",
              "    </tr>\n",
              "    <tr>\n",
              "      <th>10</th>\n",
              "      <td>57330</td>\n",
              "      <td>3.515668</td>\n",
              "      <td>16307</td>\n",
              "    </tr>\n",
              "    <tr>\n",
              "      <th>11</th>\n",
              "      <td>64349</td>\n",
              "      <td>3.590904</td>\n",
              "      <td>17920</td>\n",
              "    </tr>\n",
              "    <tr>\n",
              "      <th>12</th>\n",
              "      <td>184041</td>\n",
              "      <td>3.650883</td>\n",
              "      <td>50410</td>\n",
              "    </tr>\n",
              "    <tr>\n",
              "      <th>13</th>\n",
              "      <td>41087</td>\n",
              "      <td>3.750525</td>\n",
              "      <td>10955</td>\n",
              "    </tr>\n",
              "    <tr>\n",
              "      <th>14</th>\n",
              "      <td>134735</td>\n",
              "      <td>3.629714</td>\n",
              "      <td>37120</td>\n",
              "    </tr>\n",
              "    <tr>\n",
              "      <th>15</th>\n",
              "      <td>68748</td>\n",
              "      <td>3.665973</td>\n",
              "      <td>18753</td>\n",
              "    </tr>\n",
              "    <tr>\n",
              "      <th>16</th>\n",
              "      <td>138322</td>\n",
              "      <td>3.585143</td>\n",
              "      <td>38582</td>\n",
              "    </tr>\n",
              "    <tr>\n",
              "      <th>17</th>\n",
              "      <td>235212</td>\n",
              "      <td>3.609373</td>\n",
              "      <td>65167</td>\n",
              "    </tr>\n",
              "    <tr>\n",
              "      <th>18</th>\n",
              "      <td>40964</td>\n",
              "      <td>3.509596</td>\n",
              "      <td>11672</td>\n",
              "    </tr>\n",
              "    <tr>\n",
              "      <th>19</th>\n",
              "      <td>38916</td>\n",
              "      <td>3.404427</td>\n",
              "      <td>11431</td>\n",
              "    </tr>\n",
              "    <tr>\n",
              "      <th>20</th>\n",
              "      <td>156825</td>\n",
              "      <td>3.507918</td>\n",
              "      <td>44706</td>\n",
              "    </tr>\n",
              "  </tbody>\n",
              "</table>\n",
              "</div>"
            ],
            "text/plain": [
              "                      sum      mean    len\n",
              "                   rating    rating rating\n",
              "gender occupation                         \n",
              "F      0           121463  3.686842  32945\n",
              "       1           116618  3.584606  32533\n",
              "       2            57072  3.555888  16050\n",
              "       3            52826  3.687679  14325\n",
              "       4           115158  3.547252  32464\n",
              "       5            13999  3.584891   3905\n",
              "       6            55285  3.690834  14979\n",
              "       7            65913  3.668559  17967\n",
              "       8             2139  3.363208    636\n",
              "       9            38717  3.668467  10554\n",
              "       10           24724  3.567677   6930\n",
              "       11           10035  3.796822   2643\n",
              "       12           25019  3.677102   6804\n",
              "       13           10927  3.903894   2799\n",
              "       14           42965  3.583702  11989\n",
              "       15           15936  3.796093   4198\n",
              "       16           27196  3.655868   7439\n",
              "       17           27914  3.649366   7649\n",
              "       18            1701  4.108696    414\n",
              "       19           11967  3.445724   3473\n",
              "       20           54407  3.467402  15691\n",
              "M      0           340183  3.487125  97554\n",
              "       1           188652  3.571737  52818\n",
              "       2           121825  3.581192  34018\n",
              "       3            62804  3.630709  17298\n",
              "       4           348275  3.533348  98568\n",
              "       5            63296  3.527222  17945\n",
              "       6            80944  3.641861  22226\n",
              "       7           313593  3.585641  87458\n",
              "       8             7242  3.498551   2070\n",
              "       9             2767  3.498104    791\n",
              "       10           57330  3.515668  16307\n",
              "       11           64349  3.590904  17920\n",
              "       12          184041  3.650883  50410\n",
              "       13           41087  3.750525  10955\n",
              "       14          134735  3.629714  37120\n",
              "       15           68748  3.665973  18753\n",
              "       16          138322  3.585143  38582\n",
              "       17          235212  3.609373  65167\n",
              "       18           40964  3.509596  11672\n",
              "       19           38916  3.404427  11431\n",
              "       20          156825  3.507918  44706"
            ]
          },
          "metadata": {
            "tags": []
          },
          "execution_count": 13
        }
      ]
    },
    {
      "cell_type": "code",
      "metadata": {
        "id": "tUHbD8WcDqEb",
        "colab_type": "code",
        "colab": {
          "base_uri": "https://localhost:8080/",
          "height": 437
        },
        "outputId": "cd51cf40-5ae6-404d-a824-4d3b75a58381"
      },
      "source": [
        "# 각 영화(title)에 대해 성(gender)별로 평가(rating)한 결과의 평균을 계산한다.\n",
        "# import numpy\n",
        "\n",
        "pandas.pivot_table(df, \n",
        "                   values='rating',\n",
        "                   index='title', \n",
        "                   columns='gender',\n",
        "                   aggfunc=numpy.mean)  # 평균값이 기본값이라 생락할 수 있다."
      ],
      "execution_count": null,
      "outputs": [
        {
          "output_type": "execute_result",
          "data": {
            "text/html": [
              "<div>\n",
              "<style scoped>\n",
              "    .dataframe tbody tr th:only-of-type {\n",
              "        vertical-align: middle;\n",
              "    }\n",
              "\n",
              "    .dataframe tbody tr th {\n",
              "        vertical-align: top;\n",
              "    }\n",
              "\n",
              "    .dataframe thead th {\n",
              "        text-align: right;\n",
              "    }\n",
              "</style>\n",
              "<table border=\"1\" class=\"dataframe\">\n",
              "  <thead>\n",
              "    <tr style=\"text-align: right;\">\n",
              "      <th>gender</th>\n",
              "      <th>F</th>\n",
              "      <th>M</th>\n",
              "    </tr>\n",
              "    <tr>\n",
              "      <th>title</th>\n",
              "      <th></th>\n",
              "      <th></th>\n",
              "    </tr>\n",
              "  </thead>\n",
              "  <tbody>\n",
              "    <tr>\n",
              "      <th>$1,000,000 Duck (1971)</th>\n",
              "      <td>3.375000</td>\n",
              "      <td>2.761905</td>\n",
              "    </tr>\n",
              "    <tr>\n",
              "      <th>'Night Mother (1986)</th>\n",
              "      <td>3.388889</td>\n",
              "      <td>3.352941</td>\n",
              "    </tr>\n",
              "    <tr>\n",
              "      <th>'Til There Was You (1997)</th>\n",
              "      <td>2.675676</td>\n",
              "      <td>2.733333</td>\n",
              "    </tr>\n",
              "    <tr>\n",
              "      <th>'burbs, The (1989)</th>\n",
              "      <td>2.793478</td>\n",
              "      <td>2.962085</td>\n",
              "    </tr>\n",
              "    <tr>\n",
              "      <th>...And Justice for All (1979)</th>\n",
              "      <td>3.828571</td>\n",
              "      <td>3.689024</td>\n",
              "    </tr>\n",
              "    <tr>\n",
              "      <th>...</th>\n",
              "      <td>...</td>\n",
              "      <td>...</td>\n",
              "    </tr>\n",
              "    <tr>\n",
              "      <th>Zed &amp; Two Noughts, A (1985)</th>\n",
              "      <td>3.500000</td>\n",
              "      <td>3.380952</td>\n",
              "    </tr>\n",
              "    <tr>\n",
              "      <th>Zero Effect (1998)</th>\n",
              "      <td>3.864407</td>\n",
              "      <td>3.723140</td>\n",
              "    </tr>\n",
              "    <tr>\n",
              "      <th>Zero Kelvin (Kj�rlighetens kj�tere) (1995)</th>\n",
              "      <td>NaN</td>\n",
              "      <td>3.500000</td>\n",
              "    </tr>\n",
              "    <tr>\n",
              "      <th>Zeus and Roxanne (1997)</th>\n",
              "      <td>2.777778</td>\n",
              "      <td>2.357143</td>\n",
              "    </tr>\n",
              "    <tr>\n",
              "      <th>eXistenZ (1999)</th>\n",
              "      <td>3.098592</td>\n",
              "      <td>3.289086</td>\n",
              "    </tr>\n",
              "  </tbody>\n",
              "</table>\n",
              "<p>3706 rows × 2 columns</p>\n",
              "</div>"
            ],
            "text/plain": [
              "gender                                             F         M\n",
              "title                                                         \n",
              "$1,000,000 Duck (1971)                      3.375000  2.761905\n",
              "'Night Mother (1986)                        3.388889  3.352941\n",
              "'Til There Was You (1997)                   2.675676  2.733333\n",
              "'burbs, The (1989)                          2.793478  2.962085\n",
              "...And Justice for All (1979)               3.828571  3.689024\n",
              "...                                              ...       ...\n",
              "Zed & Two Noughts, A (1985)                 3.500000  3.380952\n",
              "Zero Effect (1998)                          3.864407  3.723140\n",
              "Zero Kelvin (Kj�rlighetens kj�tere) (1995)       NaN  3.500000\n",
              "Zeus and Roxanne (1997)                     2.777778  2.357143\n",
              "eXistenZ (1999)                             3.098592  3.289086\n",
              "\n",
              "[3706 rows x 2 columns]"
            ]
          },
          "metadata": {
            "tags": []
          },
          "execution_count": 14
        }
      ]
    },
    {
      "cell_type": "code",
      "metadata": {
        "id": "YHFNno2HDqEf",
        "colab_type": "code",
        "colab": {
          "base_uri": "https://localhost:8080/",
          "height": 437
        },
        "outputId": "8b34420c-9fea-4da0-bd57-b52b7d634a53"
      },
      "source": [
        "# 각 영화(title)에 대해 성(gender)별로 평가(rating)한 결과의 평균을 계산한다.\n",
        "# 결측치가 있으면 NaN 대신 fill_value=0으로 설정한다.\n",
        "# import numpy\n",
        "\n",
        "pandas.pivot_table(df, \n",
        "                   values='rating',\n",
        "                   index='title', \n",
        "                   columns='gender',\n",
        "#                    aggfunc=numpy.mean, # 평균값이 기본값이라 생락할 수 있다.\n",
        "                   fill_value=0)  "
      ],
      "execution_count": null,
      "outputs": [
        {
          "output_type": "execute_result",
          "data": {
            "text/html": [
              "<div>\n",
              "<style scoped>\n",
              "    .dataframe tbody tr th:only-of-type {\n",
              "        vertical-align: middle;\n",
              "    }\n",
              "\n",
              "    .dataframe tbody tr th {\n",
              "        vertical-align: top;\n",
              "    }\n",
              "\n",
              "    .dataframe thead th {\n",
              "        text-align: right;\n",
              "    }\n",
              "</style>\n",
              "<table border=\"1\" class=\"dataframe\">\n",
              "  <thead>\n",
              "    <tr style=\"text-align: right;\">\n",
              "      <th>gender</th>\n",
              "      <th>F</th>\n",
              "      <th>M</th>\n",
              "    </tr>\n",
              "    <tr>\n",
              "      <th>title</th>\n",
              "      <th></th>\n",
              "      <th></th>\n",
              "    </tr>\n",
              "  </thead>\n",
              "  <tbody>\n",
              "    <tr>\n",
              "      <th>$1,000,000 Duck (1971)</th>\n",
              "      <td>3.375000</td>\n",
              "      <td>2.761905</td>\n",
              "    </tr>\n",
              "    <tr>\n",
              "      <th>'Night Mother (1986)</th>\n",
              "      <td>3.388889</td>\n",
              "      <td>3.352941</td>\n",
              "    </tr>\n",
              "    <tr>\n",
              "      <th>'Til There Was You (1997)</th>\n",
              "      <td>2.675676</td>\n",
              "      <td>2.733333</td>\n",
              "    </tr>\n",
              "    <tr>\n",
              "      <th>'burbs, The (1989)</th>\n",
              "      <td>2.793478</td>\n",
              "      <td>2.962085</td>\n",
              "    </tr>\n",
              "    <tr>\n",
              "      <th>...And Justice for All (1979)</th>\n",
              "      <td>3.828571</td>\n",
              "      <td>3.689024</td>\n",
              "    </tr>\n",
              "    <tr>\n",
              "      <th>...</th>\n",
              "      <td>...</td>\n",
              "      <td>...</td>\n",
              "    </tr>\n",
              "    <tr>\n",
              "      <th>Zed &amp; Two Noughts, A (1985)</th>\n",
              "      <td>3.500000</td>\n",
              "      <td>3.380952</td>\n",
              "    </tr>\n",
              "    <tr>\n",
              "      <th>Zero Effect (1998)</th>\n",
              "      <td>3.864407</td>\n",
              "      <td>3.723140</td>\n",
              "    </tr>\n",
              "    <tr>\n",
              "      <th>Zero Kelvin (Kj�rlighetens kj�tere) (1995)</th>\n",
              "      <td>0.000000</td>\n",
              "      <td>3.500000</td>\n",
              "    </tr>\n",
              "    <tr>\n",
              "      <th>Zeus and Roxanne (1997)</th>\n",
              "      <td>2.777778</td>\n",
              "      <td>2.357143</td>\n",
              "    </tr>\n",
              "    <tr>\n",
              "      <th>eXistenZ (1999)</th>\n",
              "      <td>3.098592</td>\n",
              "      <td>3.289086</td>\n",
              "    </tr>\n",
              "  </tbody>\n",
              "</table>\n",
              "<p>3706 rows × 2 columns</p>\n",
              "</div>"
            ],
            "text/plain": [
              "gender                                             F         M\n",
              "title                                                         \n",
              "$1,000,000 Duck (1971)                      3.375000  2.761905\n",
              "'Night Mother (1986)                        3.388889  3.352941\n",
              "'Til There Was You (1997)                   2.675676  2.733333\n",
              "'burbs, The (1989)                          2.793478  2.962085\n",
              "...And Justice for All (1979)               3.828571  3.689024\n",
              "...                                              ...       ...\n",
              "Zed & Two Noughts, A (1985)                 3.500000  3.380952\n",
              "Zero Effect (1998)                          3.864407  3.723140\n",
              "Zero Kelvin (Kj�rlighetens kj�tere) (1995)  0.000000  3.500000\n",
              "Zeus and Roxanne (1997)                     2.777778  2.357143\n",
              "eXistenZ (1999)                             3.098592  3.289086\n",
              "\n",
              "[3706 rows x 2 columns]"
            ]
          },
          "metadata": {
            "tags": []
          },
          "execution_count": 15
        }
      ]
    },
    {
      "cell_type": "code",
      "metadata": {
        "colab_type": "code",
        "id": "Edm3p4DoEYZf",
        "colab": {
          "base_uri": "https://localhost:8080/",
          "height": 467
        },
        "outputId": "4f22cfc0-2ddb-4f0b-9030-0b2890b29547"
      },
      "source": [
        "# 이번에는 각 영화(title)를 직업별, 성(gender)별로 평가(rating)와 사용자 나이의 평균과 데이터의 개수를 계산한다.\n",
        "# 결측치가 있으면 NaN 대신 fill_value=0으로 설정한다.\n",
        "# import numpy\n",
        "\n",
        "pandas.pivot_table(df, \n",
        "                   values=['rating', 'age'],\n",
        "                   index=['title', 'occupation', 'gender'], \n",
        "                   aggfunc=[numpy.mean, len],\n",
        "                   fill_value=0)"
      ],
      "execution_count": null,
      "outputs": [
        {
          "output_type": "execute_result",
          "data": {
            "text/html": [
              "<div>\n",
              "<style scoped>\n",
              "    .dataframe tbody tr th:only-of-type {\n",
              "        vertical-align: middle;\n",
              "    }\n",
              "\n",
              "    .dataframe tbody tr th {\n",
              "        vertical-align: top;\n",
              "    }\n",
              "\n",
              "    .dataframe thead tr th {\n",
              "        text-align: left;\n",
              "    }\n",
              "\n",
              "    .dataframe thead tr:last-of-type th {\n",
              "        text-align: right;\n",
              "    }\n",
              "</style>\n",
              "<table border=\"1\" class=\"dataframe\">\n",
              "  <thead>\n",
              "    <tr>\n",
              "      <th></th>\n",
              "      <th></th>\n",
              "      <th></th>\n",
              "      <th colspan=\"2\" halign=\"left\">mean</th>\n",
              "      <th colspan=\"2\" halign=\"left\">len</th>\n",
              "    </tr>\n",
              "    <tr>\n",
              "      <th></th>\n",
              "      <th></th>\n",
              "      <th></th>\n",
              "      <th>age</th>\n",
              "      <th>rating</th>\n",
              "      <th>age</th>\n",
              "      <th>rating</th>\n",
              "    </tr>\n",
              "    <tr>\n",
              "      <th>title</th>\n",
              "      <th>occupation</th>\n",
              "      <th>gender</th>\n",
              "      <th></th>\n",
              "      <th></th>\n",
              "      <th></th>\n",
              "      <th></th>\n",
              "    </tr>\n",
              "  </thead>\n",
              "  <tbody>\n",
              "    <tr>\n",
              "      <th rowspan=\"5\" valign=\"top\">$1,000,000 Duck (1971)</th>\n",
              "      <th rowspan=\"2\" valign=\"top\">0</th>\n",
              "      <th>F</th>\n",
              "      <td>35.000000</td>\n",
              "      <td>4.000000</td>\n",
              "      <td>2</td>\n",
              "      <td>2</td>\n",
              "    </tr>\n",
              "    <tr>\n",
              "      <th>M</th>\n",
              "      <td>25.000000</td>\n",
              "      <td>3.666667</td>\n",
              "      <td>3</td>\n",
              "      <td>3</td>\n",
              "    </tr>\n",
              "    <tr>\n",
              "      <th rowspan=\"2\" valign=\"top\">1</th>\n",
              "      <th>F</th>\n",
              "      <td>35.000000</td>\n",
              "      <td>2.666667</td>\n",
              "      <td>3</td>\n",
              "      <td>3</td>\n",
              "    </tr>\n",
              "    <tr>\n",
              "      <th>M</th>\n",
              "      <td>40.000000</td>\n",
              "      <td>1.666667</td>\n",
              "      <td>3</td>\n",
              "      <td>3</td>\n",
              "    </tr>\n",
              "    <tr>\n",
              "      <th>3</th>\n",
              "      <th>F</th>\n",
              "      <td>25.000000</td>\n",
              "      <td>4.000000</td>\n",
              "      <td>1</td>\n",
              "      <td>1</td>\n",
              "    </tr>\n",
              "    <tr>\n",
              "      <th>...</th>\n",
              "      <th>...</th>\n",
              "      <th>...</th>\n",
              "      <td>...</td>\n",
              "      <td>...</td>\n",
              "      <td>...</td>\n",
              "      <td>...</td>\n",
              "    </tr>\n",
              "    <tr>\n",
              "      <th rowspan=\"5\" valign=\"top\">eXistenZ (1999)</th>\n",
              "      <th>18</th>\n",
              "      <th>M</th>\n",
              "      <td>25.000000</td>\n",
              "      <td>3.000000</td>\n",
              "      <td>2</td>\n",
              "      <td>2</td>\n",
              "    </tr>\n",
              "    <tr>\n",
              "      <th rowspan=\"2\" valign=\"top\">19</th>\n",
              "      <th>F</th>\n",
              "      <td>28.333333</td>\n",
              "      <td>3.666667</td>\n",
              "      <td>3</td>\n",
              "      <td>3</td>\n",
              "    </tr>\n",
              "    <tr>\n",
              "      <th>M</th>\n",
              "      <td>23.250000</td>\n",
              "      <td>2.500000</td>\n",
              "      <td>4</td>\n",
              "      <td>4</td>\n",
              "    </tr>\n",
              "    <tr>\n",
              "      <th rowspan=\"2\" valign=\"top\">20</th>\n",
              "      <th>F</th>\n",
              "      <td>26.500000</td>\n",
              "      <td>2.750000</td>\n",
              "      <td>4</td>\n",
              "      <td>4</td>\n",
              "    </tr>\n",
              "    <tr>\n",
              "      <th>M</th>\n",
              "      <td>29.640000</td>\n",
              "      <td>3.320000</td>\n",
              "      <td>25</td>\n",
              "      <td>25</td>\n",
              "    </tr>\n",
              "  </tbody>\n",
              "</table>\n",
              "<p>96955 rows × 4 columns</p>\n",
              "</div>"
            ],
            "text/plain": [
              "                                               mean           len       \n",
              "                                                age    rating age rating\n",
              "title                  occupation gender                                \n",
              "$1,000,000 Duck (1971) 0          F       35.000000  4.000000   2      2\n",
              "                                  M       25.000000  3.666667   3      3\n",
              "                       1          F       35.000000  2.666667   3      3\n",
              "                                  M       40.000000  1.666667   3      3\n",
              "                       3          F       25.000000  4.000000   1      1\n",
              "...                                             ...       ...  ..    ...\n",
              "eXistenZ (1999)        18         M       25.000000  3.000000   2      2\n",
              "                       19         F       28.333333  3.666667   3      3\n",
              "                                  M       23.250000  2.500000   4      4\n",
              "                       20         F       26.500000  2.750000   4      4\n",
              "                                  M       29.640000  3.320000  25     25\n",
              "\n",
              "[96955 rows x 4 columns]"
            ]
          },
          "metadata": {
            "tags": []
          },
          "execution_count": 16
        }
      ]
    },
    {
      "cell_type": "code",
      "metadata": {
        "colab_type": "code",
        "id": "1l6XdnffENPB",
        "colab": {
          "base_uri": "https://localhost:8080/",
          "height": 467
        },
        "outputId": "61a3817d-c81e-424a-b48c-4a391adca8b8"
      },
      "source": [
        "# 이번에는 각 영화(title)를 직업별, 성(gender)별로 평가(rating)와 사용자 나이의 평균과 데이터의 개수를 계산한다.\n",
        "# 결측치가 있으면 NaN 대신 fill_value=0으로 설정한다.\n",
        "# 마지막으로 전체 평균과 데이터 개수의 전체 합계도 구한다.\n",
        "# import numpy\n",
        "\n",
        "pandas.pivot_table(df, \n",
        "                   values=['rating', 'age'],\n",
        "                   index=['title', 'occupation', 'gender'], \n",
        "                   aggfunc=[numpy.mean, len],\n",
        "                   fill_value=0,\n",
        "                   margins=True, margins_name='Average/Total')"
      ],
      "execution_count": null,
      "outputs": [
        {
          "output_type": "execute_result",
          "data": {
            "text/html": [
              "<div>\n",
              "<style scoped>\n",
              "    .dataframe tbody tr th:only-of-type {\n",
              "        vertical-align: middle;\n",
              "    }\n",
              "\n",
              "    .dataframe tbody tr th {\n",
              "        vertical-align: top;\n",
              "    }\n",
              "\n",
              "    .dataframe thead tr th {\n",
              "        text-align: left;\n",
              "    }\n",
              "\n",
              "    .dataframe thead tr:last-of-type th {\n",
              "        text-align: right;\n",
              "    }\n",
              "</style>\n",
              "<table border=\"1\" class=\"dataframe\">\n",
              "  <thead>\n",
              "    <tr>\n",
              "      <th></th>\n",
              "      <th></th>\n",
              "      <th></th>\n",
              "      <th colspan=\"2\" halign=\"left\">mean</th>\n",
              "      <th colspan=\"2\" halign=\"left\">len</th>\n",
              "    </tr>\n",
              "    <tr>\n",
              "      <th></th>\n",
              "      <th></th>\n",
              "      <th></th>\n",
              "      <th>age</th>\n",
              "      <th>rating</th>\n",
              "      <th>age</th>\n",
              "      <th>rating</th>\n",
              "    </tr>\n",
              "    <tr>\n",
              "      <th>title</th>\n",
              "      <th>occupation</th>\n",
              "      <th>gender</th>\n",
              "      <th></th>\n",
              "      <th></th>\n",
              "      <th></th>\n",
              "      <th></th>\n",
              "    </tr>\n",
              "  </thead>\n",
              "  <tbody>\n",
              "    <tr>\n",
              "      <th rowspan=\"5\" valign=\"top\">$1,000,000 Duck (1971)</th>\n",
              "      <th rowspan=\"2\" valign=\"top\">0</th>\n",
              "      <th>F</th>\n",
              "      <td>35.000000</td>\n",
              "      <td>4.000000</td>\n",
              "      <td>2</td>\n",
              "      <td>2</td>\n",
              "    </tr>\n",
              "    <tr>\n",
              "      <th>M</th>\n",
              "      <td>25.000000</td>\n",
              "      <td>3.666667</td>\n",
              "      <td>3</td>\n",
              "      <td>3</td>\n",
              "    </tr>\n",
              "    <tr>\n",
              "      <th rowspan=\"2\" valign=\"top\">1</th>\n",
              "      <th>F</th>\n",
              "      <td>35.000000</td>\n",
              "      <td>2.666667</td>\n",
              "      <td>3</td>\n",
              "      <td>3</td>\n",
              "    </tr>\n",
              "    <tr>\n",
              "      <th>M</th>\n",
              "      <td>40.000000</td>\n",
              "      <td>1.666667</td>\n",
              "      <td>3</td>\n",
              "      <td>3</td>\n",
              "    </tr>\n",
              "    <tr>\n",
              "      <th>3</th>\n",
              "      <th>F</th>\n",
              "      <td>25.000000</td>\n",
              "      <td>4.000000</td>\n",
              "      <td>1</td>\n",
              "      <td>1</td>\n",
              "    </tr>\n",
              "    <tr>\n",
              "      <th>...</th>\n",
              "      <th>...</th>\n",
              "      <th>...</th>\n",
              "      <td>...</td>\n",
              "      <td>...</td>\n",
              "      <td>...</td>\n",
              "      <td>...</td>\n",
              "    </tr>\n",
              "    <tr>\n",
              "      <th rowspan=\"4\" valign=\"top\">eXistenZ (1999)</th>\n",
              "      <th rowspan=\"2\" valign=\"top\">19</th>\n",
              "      <th>F</th>\n",
              "      <td>28.333333</td>\n",
              "      <td>3.666667</td>\n",
              "      <td>3</td>\n",
              "      <td>3</td>\n",
              "    </tr>\n",
              "    <tr>\n",
              "      <th>M</th>\n",
              "      <td>23.250000</td>\n",
              "      <td>2.500000</td>\n",
              "      <td>4</td>\n",
              "      <td>4</td>\n",
              "    </tr>\n",
              "    <tr>\n",
              "      <th rowspan=\"2\" valign=\"top\">20</th>\n",
              "      <th>F</th>\n",
              "      <td>26.500000</td>\n",
              "      <td>2.750000</td>\n",
              "      <td>4</td>\n",
              "      <td>4</td>\n",
              "    </tr>\n",
              "    <tr>\n",
              "      <th>M</th>\n",
              "      <td>29.640000</td>\n",
              "      <td>3.320000</td>\n",
              "      <td>25</td>\n",
              "      <td>25</td>\n",
              "    </tr>\n",
              "    <tr>\n",
              "      <th>Average/Total</th>\n",
              "      <th></th>\n",
              "      <th></th>\n",
              "      <td>29.739837</td>\n",
              "      <td>3.581532</td>\n",
              "      <td>1000156</td>\n",
              "      <td>1000156</td>\n",
              "    </tr>\n",
              "  </tbody>\n",
              "</table>\n",
              "<p>96956 rows × 4 columns</p>\n",
              "</div>"
            ],
            "text/plain": [
              "                                               mean                len         \n",
              "                                                age    rating      age   rating\n",
              "title                  occupation gender                                       \n",
              "$1,000,000 Duck (1971) 0          F       35.000000  4.000000        2        2\n",
              "                                  M       25.000000  3.666667        3        3\n",
              "                       1          F       35.000000  2.666667        3        3\n",
              "                                  M       40.000000  1.666667        3        3\n",
              "                       3          F       25.000000  4.000000        1        1\n",
              "...                                             ...       ...      ...      ...\n",
              "eXistenZ (1999)        19         F       28.333333  3.666667        3        3\n",
              "                                  M       23.250000  2.500000        4        4\n",
              "                       20         F       26.500000  2.750000        4        4\n",
              "                                  M       29.640000  3.320000       25       25\n",
              "Average/Total                             29.739837  3.581532  1000156  1000156\n",
              "\n",
              "[96956 rows x 4 columns]"
            ]
          },
          "metadata": {
            "tags": []
          },
          "execution_count": 17
        }
      ]
    },
    {
      "cell_type": "markdown",
      "metadata": {
        "id": "UO5CCoeGmsPZ",
        "colab_type": "text"
      },
      "source": [
        "- - -\n",
        "\n",
        "# <font color='red'>THE END</font>"
      ]
    }
  ]
}