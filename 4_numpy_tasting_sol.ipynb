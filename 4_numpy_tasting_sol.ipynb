{
  "nbformat": 4,
  "nbformat_minor": 0,
  "metadata": {
    "anaconda-cloud": {},
    "hide_input": false,
    "kernelspec": {
      "display_name": "Python 3",
      "language": "python",
      "name": "python3"
    },
    "language_info": {
      "codemirror_mode": {
        "name": "ipython",
        "version": 3
      },
      "file_extension": ".py",
      "mimetype": "text/x-python",
      "name": "python",
      "nbconvert_exporter": "python",
      "pygments_lexer": "ipython3",
      "version": "3.8.2"
    },
    "toc": {
      "base_numbering": 1,
      "nav_menu": {},
      "number_sections": true,
      "sideBar": true,
      "skip_h1_title": false,
      "title_cell": "Table of Contents",
      "title_sidebar": "Contents",
      "toc_cell": true,
      "toc_position": {},
      "toc_section_display": "block",
      "toc_window_display": false
    },
    "varInspector": {
      "cols": {
        "lenName": 16,
        "lenType": 16,
        "lenVar": 40
      },
      "kernels_config": {
        "python": {
          "delete_cmd_postfix": "",
          "delete_cmd_prefix": "del ",
          "library": "var_list.py",
          "varRefreshCmd": "print(var_dic_list())"
        },
        "r": {
          "delete_cmd_postfix": ") ",
          "delete_cmd_prefix": "rm(",
          "library": "var_list.r",
          "varRefreshCmd": "cat(var_dic_list()) "
        }
      },
      "types_to_exclude": [
        "module",
        "function",
        "builtin_function_or_method",
        "instance",
        "_Feature"
      ],
      "window_display": false
    },
    "colab": {
      "name": "4.numpy-tasting-sol",
      "provenance": [],
      "collapsed_sections": [],
      "toc_visible": true,
      "include_colab_link": true
    }
  },
  "cells": [
    {
      "cell_type": "markdown",
      "metadata": {
        "id": "view-in-github",
        "colab_type": "text"
      },
      "source": [
        "<a href=\"https://colab.research.google.com/github/ibk25244/su-ai/blob/master/4_numpy_tasting_sol.ipynb\" target=\"_parent\"><img src=\"https://colab.research.google.com/assets/colab-badge.svg\" alt=\"Open In Colab\"/></a>"
      ]
    },
    {
      "cell_type": "markdown",
      "metadata": {
        "id": "gZmDtiG6RBTN",
        "colab_type": "text"
      },
      "source": [
        "- - -\n",
        "\n",
        "<font size=6 color='royalblue'>넘파이 아주 살짝 맛보기</font>\n",
        "\n",
        "<font size=5 color='forestgreen'>NumPy Tasting</font> \n",
        "\n",
        "* * *\n",
        "\n",
        "**<font size=4>박 진 수</font>** 교수  \n",
        "Intelligent Data Semantics Lab  \n",
        "Seoul National University\n",
        "\n",
        "- - -"
      ]
    },
    {
      "cell_type": "markdown",
      "metadata": {
        "id": "C6LjAWNDR0d9",
        "colab_type": "toc"
      },
      "source": [
        ">[넘파이(NumPy)란?](#scrollTo=ehYqbxznRBTP)\n",
        "\n",
        ">[관련 모듈 불러오기](#scrollTo=XVNjbKUTRBTQ)\n",
        "\n",
        ">[넘파이 배열(array)](#scrollTo=orxP9aenRBTe)\n",
        "\n",
        ">>[파이썬 리스트와의 차이](#scrollTo=8AY8gHsGRBTf)\n",
        "\n",
        ">>>[1차원 더하기 연산](#scrollTo=qSMaMQdMRBTh)\n",
        "\n",
        ">>>[2차원 더하기 연산](#scrollTo=pedzf7gfRBT0)\n",
        "\n",
        ">>>[1차원 곱하기 연산](#scrollTo=hH90bhphRBUF)\n",
        "\n",
        ">>>[2차원 곱하기 연산](#scrollTo=fXLjuN-ZRBUX)\n",
        "\n",
        ">[배열 생성](#scrollTo=zkR4NJLKRBUg)\n",
        "\n",
        ">>[array() 함수](#scrollTo=2CQxG5MvRBUg)\n",
        "\n",
        ">>>[1차원 배열](#scrollTo=6RsriuMqRBUh)\n",
        "\n",
        ">>>[다차원 배열](#scrollTo=c-FuzCILRBU1)\n",
        "\n",
        ">>[arange() 함수](#scrollTo=yutd2ymRRBVB)\n",
        "\n",
        ">>[내장함수](#scrollTo=hxn0X308RBVc)\n",
        "\n",
        ">>>[zeros() 함수](#scrollTo=4yd5rSJvRBVe)\n",
        "\n",
        ">>>[eye() 함수](#scrollTo=Z_ceX5H3RBWN)\n",
        "\n",
        ">>>[diag() 함수](#scrollTo=paHlzA5BRBYO)\n",
        "\n",
        ">>>[random.random() 함수](#scrollTo=am0zAwuURBZ0)\n",
        "\n",
        ">>>[random.randint() 함수](#scrollTo=L9TdKyxsRBaF)\n",
        "\n",
        ">>>[Lab: 랜덤 벡터 생성과 정렬](#scrollTo=VNn7NfftRBaT)\n",
        "\n",
        ">[배열 자료형](#scrollTo=__YEqWHDRBaa)\n",
        "\n",
        ">>[형변환 메소드](#scrollTo=Q7oiuSMNRBae)\n",
        "\n",
        ">[배열의 차원](#scrollTo=ITuHmWviRBan)\n",
        "\n",
        ">>[차원(rank) : ndim](#scrollTo=oRo-VAxwRBan)\n",
        "\n",
        ">>[차원 형태 : shape](#scrollTo=am5mmT34RBaq)\n",
        "\n",
        ">>[차원 변경 : reshape()](#scrollTo=S8SQChx8RBa7)\n",
        "\n",
        ">>[Lab: 벡터를 행렬로 변환하기](#scrollTo=9VykEHmSRBbK)\n",
        "\n",
        ">>[Lab: 대각행렬(diagonal matrix)](#scrollTo=Kop8dmB_RBbO)\n",
        "\n",
        ">[기본 연산](#scrollTo=GJEpEPywRBbS)\n",
        "\n",
        ">[행렬 연산](#scrollTo=Y9CCW4NIRBbu)\n",
        "\n",
        ">>[행렬 합 : numpy.sum()](#scrollTo=cJ0SU5hgRBbv)\n",
        "\n",
        ">>[내적 및 행렬 곱 : numpy.dot()](#scrollTo=tXUFFtR-RBb0)\n",
        "\n",
        ">>>[곱하기 연산 비교](#scrollTo=OmoFWdUnRBcB)\n",
        "\n",
        ">>[행렬의 전치 연산](#scrollTo=8kmX-kQIRBcP)\n",
        "\n",
        ">[넘파이 배열 함수](#scrollTo=v451zTPzRBcW)\n",
        "\n",
        ">>[Lab: 행렬 정규화(normalization)](#scrollTo=MBK5pKbnRBcn)\n",
        "\n",
        ">[THE END](#scrollTo=xIwmPTD8RBcq)\n",
        "\n"
      ]
    },
    {
      "cell_type": "markdown",
      "metadata": {
        "id": "ehYqbxznRBTP",
        "colab_type": "text"
      },
      "source": [
        "# 넘파이(NumPy)란?"
      ]
    },
    {
      "cell_type": "markdown",
      "metadata": {
        "id": "c9HFnF59RBTQ",
        "colab_type": "text"
      },
      "source": [
        "계산과학(computation science)분야에 자주 활용되는 파이썬 라이브러리다.\n",
        "- 고성능의 다차원 배열(array) 객체와 이를 다룰 수 있는 다양한 도구를 지원한다.\n",
        "    - Numpy의 내부가 상당 부분 C나 포트란으로 작성되어 있어 실행 속도도 꽤 빠르다.\n",
        "- 기본적으로 배열(array)이라는 자료를 생성하고 이를 바탕으로 인덱싱 및 연산 처리 등을 편리하게 수행한다.\n",
        "    - 난수생성, 푸리에변환, 행렬연산, 간단한 기술통계 분석 정도는 가능하지만 주로 scipy, pandas, matplotlib 등 다른 파이썬 패키지와 함께 쓰이는 경우가 많다.\n",
        "- 문법이나 구동 방식이 MATLAB과 유사하다.\n",
        "- Documentation\n",
        "    - <https://docs.scipy.org/doc/> "
      ]
    },
    {
      "cell_type": "markdown",
      "metadata": {
        "id": "XVNjbKUTRBTQ",
        "colab_type": "text"
      },
      "source": [
        "# 관련 모듈 불러오기"
      ]
    },
    {
      "cell_type": "markdown",
      "metadata": {
        "id": "v9agAtvYRBTZ",
        "colab_type": "text"
      },
      "source": [
        "**import numpy**로 numpy를 불러와서 사용해야 한다.\n",
        "- 주로 **import numpy as np**로 numpy를 불러와서, 짧게 *np*로 사용하는 경우가 많다."
      ]
    },
    {
      "cell_type": "code",
      "metadata": {
        "id": "tWlywOyWRBTa",
        "colab_type": "code",
        "colab": {
          "base_uri": "https://localhost:8080/",
          "height": 35
        },
        "outputId": "506f59cf-4cb6-4db8-a9e1-0c6b80cbd6fe"
      },
      "source": [
        "import numpy  # as np\n",
        "\n",
        "# 버전을 확인한다.\n",
        "print('NumPy version...:', numpy.__version__)  "
      ],
      "execution_count": null,
      "outputs": [
        {
          "output_type": "stream",
          "text": [
            "NumPy version...: 1.18.4\n"
          ],
          "name": "stdout"
        }
      ]
    },
    {
      "cell_type": "markdown",
      "metadata": {
        "id": "orxP9aenRBTe",
        "colab_type": "text"
      },
      "source": [
        "# 넘파이 배열(array)"
      ]
    },
    {
      "cell_type": "markdown",
      "metadata": {
        "id": "gIlkOWk8RBTf",
        "colab_type": "text"
      },
      "source": [
        "- 넘파이(NumPy)의 핵심적인 객체이다.\n",
        "- 배열은 \"동일한 자료형을 가지는 값들이 격자판 형태로 있는 것\"이다.\n",
        "- 파이썬의 리스트(list)와 거의 비슷하나 배열은 동일한 자료형만 들어가야 한다는 차이가 있다.\n",
        "- 사용 방법도 리스트와 유사하나 특성과 활용 가능한 함수 등이 다르다.\n",
        "- 다차원(n-dimensional) 배열로 확장이 가능하다."
      ]
    },
    {
      "cell_type": "markdown",
      "metadata": {
        "id": "8AY8gHsGRBTf",
        "colab_type": "text"
      },
      "source": [
        "## 파이썬 리스트와의 차이"
      ]
    },
    {
      "cell_type": "markdown",
      "metadata": {
        "id": "32Hk1WmaRBTg",
        "colab_type": "text"
      },
      "source": [
        "<font style='font-weight: bold; font-size: 115%'>NumPy array는 다차원 배열(matrix) 연산에 유용한다.</font>"
      ]
    },
    {
      "cell_type": "markdown",
      "metadata": {
        "id": "qSMaMQdMRBTh",
        "colab_type": "text"
      },
      "source": [
        "### 1차원 더하기 연산"
      ]
    },
    {
      "cell_type": "code",
      "metadata": {
        "id": "PxGwraePRBTi",
        "colab_type": "code",
        "colab": {
          "base_uri": "https://localhost:8080/",
          "height": 52
        },
        "outputId": "4e350b98-b471-4614-9e68-462a86f16d67"
      },
      "source": [
        "# --- 1차원 \n",
        "# 파이썬 1차원 리스트\n",
        "L = list(range(1, 6)) \n",
        "\n",
        "# 넘파이 1차원 배열\n",
        "arr = numpy.array(L)  \n",
        "\n",
        "print(L)\n",
        "print(arr)"
      ],
      "execution_count": null,
      "outputs": [
        {
          "output_type": "stream",
          "text": [
            "[1, 2, 3, 4, 5]\n",
            "[1 2 3 4 5]\n"
          ],
          "name": "stdout"
        }
      ]
    },
    {
      "cell_type": "code",
      "metadata": {
        "id": "nO2PaGVERBTl",
        "colab_type": "code",
        "colab": {
          "base_uri": "https://localhost:8080/",
          "height": 52
        },
        "outputId": "baa43064-d598-4cf5-9c22-8354cb46ffe4"
      },
      "source": [
        "# --- 1차원 더하기 연산\n",
        "# > L = [1, 2, 3, 4, 5]\n",
        "# > arr = [1 2 3 4 5]\n",
        "print(L + [10])       # 파이썬 리스트   \n",
        "print(arr + 10)       # 넘파이 배열  "
      ],
      "execution_count": null,
      "outputs": [
        {
          "output_type": "stream",
          "text": [
            "[1, 2, 3, 4, 5, 10]\n",
            "[11 12 13 14 15]\n"
          ],
          "name": "stdout"
        }
      ]
    },
    {
      "cell_type": "code",
      "metadata": {
        "id": "meNgVU7WRBTp",
        "colab_type": "code",
        "colab": {
          "base_uri": "https://localhost:8080/",
          "height": 52
        },
        "outputId": "42af7c83-b0a8-4b93-e9b3-e91fa28fb728"
      },
      "source": [
        "# --- 1차원 더하기 연산\n",
        "# > L = [1, 2, 3, 4, 5]\n",
        "# > arr = [1 2 3 4 5]\n",
        "print(L + L)        # 파이썬 리스트   \n",
        "print(arr + arr)    # 넘파이 배열  "
      ],
      "execution_count": null,
      "outputs": [
        {
          "output_type": "stream",
          "text": [
            "[1, 2, 3, 4, 5, 1, 2, 3, 4, 5]\n",
            "[ 2  4  6  8 10]\n"
          ],
          "name": "stdout"
        }
      ]
    },
    {
      "cell_type": "code",
      "metadata": {
        "id": "uuyZu3cPRBTt",
        "colab_type": "code",
        "colab": {
          "base_uri": "https://localhost:8080/",
          "height": 35
        },
        "outputId": "d17498a8-c6a4-4053-df75-01d7e4ee9424"
      },
      "source": [
        "# --- 만약 리스트로 넘파이 배열과 같은 계산을 하려면...\n",
        "# > arr = [1 2 3 4 5]\n",
        "# > arr + arr => [2 4 6 8 10]\n",
        "# > L = [1, 2, 3, 4, 5]\n",
        "alist = []\n",
        "for i in L:\n",
        "  alist.append(i + i)\n",
        "else:\n",
        "  print(alist)"
      ],
      "execution_count": null,
      "outputs": [
        {
          "output_type": "stream",
          "text": [
            "[2, 4, 6, 8, 10]\n"
          ],
          "name": "stdout"
        }
      ]
    },
    {
      "cell_type": "code",
      "metadata": {
        "id": "hQx5LzymRBTx",
        "colab_type": "code",
        "colab": {
          "base_uri": "https://localhost:8080/",
          "height": 35
        },
        "outputId": "6e759e42-16e5-4454-fc29-63e3c371d95f"
      },
      "source": [
        "# --- 리스트 축약으로 하면...\n",
        "# > arr = [1 2 3 4 5]\n",
        "# > arr + arr => [2 4 6 8 10]\n",
        "# > L = [1, 2, 3, 4, 5]\n",
        "[(i + i) for i in L]"
      ],
      "execution_count": null,
      "outputs": [
        {
          "output_type": "execute_result",
          "data": {
            "text/plain": [
              "[2, 4, 6, 8, 10]"
            ]
          },
          "metadata": {
            "tags": []
          },
          "execution_count": 6
        }
      ]
    },
    {
      "cell_type": "markdown",
      "metadata": {
        "id": "pedzf7gfRBT0",
        "colab_type": "text"
      },
      "source": [
        "### 2차원 더하기 연산"
      ]
    },
    {
      "cell_type": "code",
      "metadata": {
        "id": "RzZ7XsEURBT1",
        "colab_type": "code",
        "colab": {
          "base_uri": "https://localhost:8080/",
          "height": 69
        },
        "outputId": "d0543bab-7bb6-473f-d6df-3ce958a06e5b"
      },
      "source": [
        "# --- 2차원 \n",
        "# 파이썬 2차원 리스트\n",
        "L2 = [list(range(1, 6)), list(range(6, 11))]  \n",
        "\n",
        "# 넘파이 2차원 배열\n",
        "arr2 = numpy.arange(1, 11).reshape(2, 5) \n",
        "\n",
        "print(L2)\n",
        "print(arr2)"
      ],
      "execution_count": null,
      "outputs": [
        {
          "output_type": "stream",
          "text": [
            "[[1, 2, 3, 4, 5], [6, 7, 8, 9, 10]]\n",
            "[[ 1  2  3  4  5]\n",
            " [ 6  7  8  9 10]]\n"
          ],
          "name": "stdout"
        }
      ]
    },
    {
      "cell_type": "code",
      "metadata": {
        "id": "cSSq28VWRBT4",
        "colab_type": "code",
        "colab": {
          "base_uri": "https://localhost:8080/",
          "height": 69
        },
        "outputId": "c8366dec-0eaf-4d21-8fd0-1a33818928c2"
      },
      "source": [
        "# --- 2차원 더하기 연산\n",
        "# > L2 = [[1, 2, 3, 4, 5], [6, 7, 8, 9, 10]]\n",
        "# > arr2 = [[1 2 3 4 5] [6 7 8 9 10]]\n",
        "print(L2 + L2)        # 파이썬 리스트\n",
        "print(arr2 + arr2)    # 넘파이 배열"
      ],
      "execution_count": null,
      "outputs": [
        {
          "output_type": "stream",
          "text": [
            "[[1, 2, 3, 4, 5], [6, 7, 8, 9, 10], [1, 2, 3, 4, 5], [6, 7, 8, 9, 10]]\n",
            "[[ 2  4  6  8 10]\n",
            " [12 14 16 18 20]]\n"
          ],
          "name": "stdout"
        }
      ]
    },
    {
      "cell_type": "code",
      "metadata": {
        "id": "HJb2pb3PRBT8",
        "colab_type": "code",
        "colab": {
          "base_uri": "https://localhost:8080/",
          "height": 35
        },
        "outputId": "90132eef-5e46-47ed-d1b4-d7c646392d0c"
      },
      "source": [
        "# --- 만약 리스트로 넘파이 배열과 같은 계산을 하려면...\n",
        "# > arr2 = [[1 2 3 4 5] [6 7 8 9 10]]\n",
        "# > arr2 + arr2 => [[2 4 6 8 10] [12 14 16 18 20]]\n",
        "# > L2 = [[1, 2, 3, 4, 5], [6, 7, 8, 9, 10]]\n",
        "list2 = []\n",
        "for row in L2:\n",
        "  tmp = []\n",
        "  for column in row:\n",
        "    tmp.append(column + column)\n",
        "  else:\n",
        "    list2.append(tmp)\n",
        "else:\n",
        "  print(list2)  "
      ],
      "execution_count": null,
      "outputs": [
        {
          "output_type": "stream",
          "text": [
            "[[2, 4, 6, 8, 10], [12, 14, 16, 18, 20]]\n"
          ],
          "name": "stdout"
        }
      ]
    },
    {
      "cell_type": "code",
      "metadata": {
        "id": "RHLNoxvPRBT_",
        "colab_type": "code",
        "colab": {
          "base_uri": "https://localhost:8080/",
          "height": 35
        },
        "outputId": "af2ce1cc-19aa-48f6-f9f8-85e21b7293df"
      },
      "source": [
        "# --- 리스트 축약으로 하면...\n",
        "# > arr2 = [[1 2 3 4 5] [6 7 8 9 10]]\n",
        "# > arr2 + arr2 => [[2 4 6 8 10] [12 14 16 18 20]]\n",
        "# > L2 = [[1, 2, 3, 4, 5], [6, 7, 8, 9, 10]]\n",
        "[[column + column for column in row] for row in L2]  "
      ],
      "execution_count": null,
      "outputs": [
        {
          "output_type": "execute_result",
          "data": {
            "text/plain": [
              "[[2, 4, 6, 8, 10], [12, 14, 16, 18, 20]]"
            ]
          },
          "metadata": {
            "tags": []
          },
          "execution_count": 10
        }
      ]
    },
    {
      "cell_type": "code",
      "metadata": {
        "id": "R6hMgzY4RBUC",
        "colab_type": "code",
        "colab": {
          "base_uri": "https://localhost:8080/",
          "height": 35
        },
        "outputId": "046ce09c-7292-48ed-f29c-c062a0e2be09"
      },
      "source": [
        "# --- (NOTE)\n",
        "x = [[1, 2, 3], [1, 2, 3]]\n",
        "[[number + 1 for number in group] for group in x]"
      ],
      "execution_count": null,
      "outputs": [
        {
          "output_type": "execute_result",
          "data": {
            "text/plain": [
              "[[2, 3, 4], [2, 3, 4]]"
            ]
          },
          "metadata": {
            "tags": []
          },
          "execution_count": 11
        }
      ]
    },
    {
      "cell_type": "markdown",
      "metadata": {
        "id": "hH90bhphRBUF",
        "colab_type": "text"
      },
      "source": [
        "### 1차원 곱하기 연산"
      ]
    },
    {
      "cell_type": "code",
      "metadata": {
        "id": "u_BXNw92RBUG",
        "colab_type": "code",
        "colab": {
          "base_uri": "https://localhost:8080/",
          "height": 184
        },
        "outputId": "59533d85-f6a5-42e1-cff6-83dcec708b06"
      },
      "source": [
        "# --- (주의)\n",
        "print(L * L)"
      ],
      "execution_count": null,
      "outputs": [
        {
          "output_type": "error",
          "ename": "TypeError",
          "evalue": "ignored",
          "traceback": [
            "\u001b[0;31m---------------------------------------------------------------------------\u001b[0m",
            "\u001b[0;31mTypeError\u001b[0m                                 Traceback (most recent call last)",
            "\u001b[0;32m<ipython-input-12-ddafd4844539>\u001b[0m in \u001b[0;36m<module>\u001b[0;34m()\u001b[0m\n\u001b[1;32m      1\u001b[0m \u001b[0;31m# --- (주의)\u001b[0m\u001b[0;34m\u001b[0m\u001b[0;34m\u001b[0m\u001b[0;34m\u001b[0m\u001b[0m\n\u001b[0;32m----> 2\u001b[0;31m \u001b[0mprint\u001b[0m\u001b[0;34m(\u001b[0m\u001b[0mL\u001b[0m \u001b[0;34m*\u001b[0m \u001b[0mL\u001b[0m\u001b[0;34m)\u001b[0m\u001b[0;34m\u001b[0m\u001b[0;34m\u001b[0m\u001b[0m\n\u001b[0m",
            "\u001b[0;31mTypeError\u001b[0m: can't multiply sequence by non-int of type 'list'"
          ]
        }
      ]
    },
    {
      "cell_type": "code",
      "metadata": {
        "id": "DGYY4yMkRBUJ",
        "colab_type": "code",
        "colab": {
          "base_uri": "https://localhost:8080/",
          "height": 52
        },
        "outputId": "3e14641c-417d-4cc0-c315-be9ef047e672"
      },
      "source": [
        "# --- 1차원 곱하기 연산\n",
        "# > L = [1, 2, 3, 4, 5]\n",
        "# > arr = [1 2 3 4 5]\n",
        "print(L * 2)     # 파이썬 리스트\n",
        "print(arr * 2)   # 넘파이 배열"
      ],
      "execution_count": null,
      "outputs": [
        {
          "output_type": "stream",
          "text": [
            "[1, 2, 3, 4, 5, 1, 2, 3, 4, 5]\n",
            "[ 2  4  6  8 10]\n"
          ],
          "name": "stdout"
        }
      ]
    },
    {
      "cell_type": "code",
      "metadata": {
        "id": "VM8QjftjRBUN",
        "colab_type": "code",
        "colab": {
          "base_uri": "https://localhost:8080/",
          "height": 35
        },
        "outputId": "696122a5-a7ad-4487-c726-93df09931725"
      },
      "source": [
        "# --- (NOTE)\n",
        "print(arr * arr) "
      ],
      "execution_count": null,
      "outputs": [
        {
          "output_type": "stream",
          "text": [
            "[ 1  4  9 16 25]\n"
          ],
          "name": "stdout"
        }
      ]
    },
    {
      "cell_type": "code",
      "metadata": {
        "id": "oBQNZJWIRBUQ",
        "colab_type": "code",
        "colab": {
          "base_uri": "https://localhost:8080/",
          "height": 35
        },
        "outputId": "0c0ef3dc-1744-41c2-b7d2-777ed1700729"
      },
      "source": [
        "# --- 만약 리스트로 위의 넘파이 배열과 같은 계산을 하려면...\n",
        "# > arr = [1 2 3 4 5]\n",
        "# > arr * 2 => [2 4 6 8 10]\n",
        "# > L = [1, 2, 3, 4, 5]\n",
        "alist = []\n",
        "for i in L:\n",
        "  alist.append(i * 2)\n",
        "else:\n",
        "  print(alist)"
      ],
      "execution_count": null,
      "outputs": [
        {
          "output_type": "stream",
          "text": [
            "[2, 4, 6, 8, 10]\n"
          ],
          "name": "stdout"
        }
      ]
    },
    {
      "cell_type": "code",
      "metadata": {
        "id": "hugsv31jRBUT",
        "colab_type": "code",
        "colab": {
          "base_uri": "https://localhost:8080/",
          "height": 35
        },
        "outputId": "c8f102cb-2da6-44d4-f22c-394930c2ce96"
      },
      "source": [
        "# --- 리스트 축약으로 하면...\n",
        "# > arr = [1 2 3 4 5]\n",
        "# > arr * 2 => [2 4 6 8 10]\n",
        "# > L = [1, 2, 3, 4, 5]\n",
        "[(i * 2) for i in L]"
      ],
      "execution_count": null,
      "outputs": [
        {
          "output_type": "execute_result",
          "data": {
            "text/plain": [
              "[2, 4, 6, 8, 10]"
            ]
          },
          "metadata": {
            "tags": []
          },
          "execution_count": 16
        }
      ]
    },
    {
      "cell_type": "markdown",
      "metadata": {
        "id": "fXLjuN-ZRBUX",
        "colab_type": "text"
      },
      "source": [
        "### 2차원 곱하기 연산"
      ]
    },
    {
      "cell_type": "code",
      "metadata": {
        "id": "tXT3DZ-CRBUX",
        "colab_type": "code",
        "colab": {
          "base_uri": "https://localhost:8080/",
          "height": 69
        },
        "outputId": "b1064ff3-3fe2-4008-9b3c-ea5dce6afa60"
      },
      "source": [
        "# --- 2차원 곱하기 연산\n",
        "# > L2 = [[1, 2, 3, 4, 5], [6, 7, 8, 9, 10]]\n",
        "# > arr2 = [[1 2 3 4 5] [6 7 8 9 10]]\n",
        "print(L2 * 2)     # 파이썬 리스트\n",
        "print(arr2 * 2)   # 넘파이 배열"
      ],
      "execution_count": null,
      "outputs": [
        {
          "output_type": "stream",
          "text": [
            "[[1, 2, 3, 4, 5], [6, 7, 8, 9, 10], [1, 2, 3, 4, 5], [6, 7, 8, 9, 10]]\n",
            "[[ 2  4  6  8 10]\n",
            " [12 14 16 18 20]]\n"
          ],
          "name": "stdout"
        }
      ]
    },
    {
      "cell_type": "code",
      "metadata": {
        "id": "0AwJAocnRBUa",
        "colab_type": "code",
        "colab": {
          "base_uri": "https://localhost:8080/",
          "height": 35
        },
        "outputId": "d0ee580b-4b5c-4b2e-d207-f647405f18f2"
      },
      "source": [
        "# --- 만약 리스트로 위의 넘파이 배열과 같은 계산을 하려면...\n",
        "# > arr2 = [[1  2  3  4  5] [6  7  8  9 10]]\n",
        "# > arr2 * 2 => [[2 4 6 8 10] [12 14 16 18 20]]\n",
        "# > L2 = [[1, 2, 3, 4, 5], [6, 7, 8, 9, 10]]\n",
        "list2 = []\n",
        "for row in L2:\n",
        "  tmp = []\n",
        "  for column in row:\n",
        "    tmp.append(column * 2)\n",
        "  else:\n",
        "    list2.append(tmp)\n",
        "else:\n",
        "    print(list2)    "
      ],
      "execution_count": null,
      "outputs": [
        {
          "output_type": "stream",
          "text": [
            "[[2, 4, 6, 8, 10], [12, 14, 16, 18, 20]]\n"
          ],
          "name": "stdout"
        }
      ]
    },
    {
      "cell_type": "code",
      "metadata": {
        "id": "fh7EaKr5RBUd",
        "colab_type": "code",
        "colab": {
          "base_uri": "https://localhost:8080/",
          "height": 35
        },
        "outputId": "218b34e0-186f-4c0c-863b-3231342823e1"
      },
      "source": [
        "# --- 리스트 축약으로 하면...\n",
        "# > arr2 = [[1  2  3  4  5] [6  7  8  9 10]]\n",
        "# > arr2 * 2 => [[2 4 6 8 10] [12 14 16 18 20]]\n",
        "# > L2 = [[1, 2, 3, 4, 5], [6, 7, 8, 9, 10]]\n",
        "[[column * 2 for column in row] for row in L2]"
      ],
      "execution_count": null,
      "outputs": [
        {
          "output_type": "execute_result",
          "data": {
            "text/plain": [
              "[[2, 4, 6, 8, 10], [12, 14, 16, 18, 20]]"
            ]
          },
          "metadata": {
            "tags": []
          },
          "execution_count": 19
        }
      ]
    },
    {
      "cell_type": "markdown",
      "metadata": {
        "id": "zkR4NJLKRBUg",
        "colab_type": "text"
      },
      "source": [
        "# 배열 생성"
      ]
    },
    {
      "cell_type": "markdown",
      "metadata": {
        "id": "2CQxG5MvRBUg",
        "colab_type": "text"
      },
      "source": [
        "## array() 함수"
      ]
    },
    {
      "cell_type": "markdown",
      "metadata": {
        "id": "JEVi2uBERBUh",
        "colab_type": "text"
      },
      "source": [
        "**array()** 함수로 다차원 배열을 생성하여 배열 안의 배열로 차원을 구분한다.   \n",
        "\n",
        "[numpy.array](https://docs.scipy.org/doc/numpy/reference/generated/numpy.array.html?highlight=array#numpy.array)\n",
        "- Create an array.\n",
        "- numpy.**array**(*object, dtype=None, copy=True, order='K', subok=False, ndmin=0*)\n",
        "    - ***object*** : *array_like*\n",
        "        - An array, any object exposing the array interface, an object whose **\\_\\_array\\_\\_** method returns an array, or any (nested) sequence.\n",
        "\n",
        "<!--\n",
        "numpy.array(object, dtype=None, copy=True, order=’K’, subok=False, ndmin=0) \n",
        "- Create an array. \n",
        "- Returns — ndarray\n",
        "    - An array object satisfying the specified requirements.\n",
        "- Parameters\n",
        "    - object — array_like \n",
        "        - An array, any object exposing the array interface, an object whose __array__ method returns an array, or any (nested) sequence. \n",
        "    - dtype — data-type, optional \n",
        "        - The desired data-type for the array. \n",
        "        - If not given, then the type will be determined as the minimum type required to hold the objects in the sequence. \n",
        "        - This argument can only be used to ‘upcast’ the array. \n",
        "            - For downcasting, use the .astype(t) method. \n",
        "    - copy — bool, optional \n",
        "        - If true (default), then the object is copied. \n",
        "        - Otherwise, a copy will only be made if __array__ returns a copy, if obj is a nested sequence, or if a copy is needed to satisfy any of the other requirements (dtype, order, etc.). \n",
        "    - order — {‘K’, ‘A’, ‘C’, ‘F’}, optional \n",
        "        - Specify the memory layout of the array. \n",
        "        - If object is not an array, the newly created array will be in C order (row major) unless ‘F’ is specified, in which case it will be in Fortran order (column major). \n",
        "        - If object is an array the following holds. on. The default order is ‘K’. \n",
        "    - subok — bool, optional\n",
        "        - If True, then sub-classes will be passed-through, \n",
        "        - otherwise the returned array will be forced to be a base-class array (default). \n",
        "    - ndmin — int, optional \n",
        "        - Specifies the minimum number of dimensions that the resulting array should have. Ones will be pre-pended to the shape as needed to meet this requirement. \n",
        "-->"
      ]
    },
    {
      "cell_type": "markdown",
      "metadata": {
        "id": "6RsriuMqRBUh",
        "colab_type": "text"
      },
      "source": [
        "### 1차원 배열\n",
        "- 일반적으로 리스트를 배열로 변환하여 반환한다.\n",
        "    - 리스트 —> 배열"
      ]
    },
    {
      "cell_type": "code",
      "metadata": {
        "id": "NFg1UwVTRBUi",
        "colab_type": "code",
        "colab": {
          "base_uri": "https://localhost:8080/",
          "height": 52
        },
        "outputId": "9e4e6315-78e2-4c4b-c9ea-3ddeeb632744"
      },
      "source": [
        "# 1차원 배열을 만든다.\n",
        "arr1 = numpy.array([1, 2, 3])  \n",
        "print(arr1)\n",
        "print(type(arr1))"
      ],
      "execution_count": null,
      "outputs": [
        {
          "output_type": "stream",
          "text": [
            "[1 2 3]\n",
            "<class 'numpy.ndarray'>\n"
          ],
          "name": "stdout"
        }
      ]
    },
    {
      "cell_type": "code",
      "metadata": {
        "id": "OLDswTmFRBUl",
        "colab_type": "code",
        "colab": {
          "base_uri": "https://localhost:8080/",
          "height": 35
        },
        "outputId": "d13e7c6f-1c66-428a-c5e4-bb940ecb231c"
      },
      "source": [
        "# (ok) 배열로 만들 전달인자(object)는 하나다.\n",
        "numpy.array(1)"
      ],
      "execution_count": null,
      "outputs": [
        {
          "output_type": "execute_result",
          "data": {
            "text/plain": [
              "array(1)"
            ]
          },
          "metadata": {
            "tags": []
          },
          "execution_count": 21
        }
      ]
    },
    {
      "cell_type": "code",
      "metadata": {
        "id": "wDBOe91nRBUo",
        "colab_type": "code",
        "colab": {
          "base_uri": "https://localhost:8080/",
          "height": 35
        },
        "outputId": "07eed755-7689-47ee-c74a-17389164dada"
      },
      "source": [
        "# (ok) 배열로 만들 전달인자는 하나다.\n",
        "numpy.array(1, float)  # numpy.array(1, 'float')와 같다."
      ],
      "execution_count": null,
      "outputs": [
        {
          "output_type": "execute_result",
          "data": {
            "text/plain": [
              "array(1.)"
            ]
          },
          "metadata": {
            "tags": []
          },
          "execution_count": 22
        }
      ]
    },
    {
      "cell_type": "code",
      "metadata": {
        "scrolled": true,
        "id": "m8s34PsrRBUs",
        "colab_type": "code",
        "colab": {
          "base_uri": "https://localhost:8080/",
          "height": 35
        },
        "outputId": "b7089f3f-7c1b-467d-c491-09e0c300cdc9"
      },
      "source": [
        "# (ok) 배열로 만들 전달인자는 하나다.\n",
        "numpy.array(1.0, 'int')  # numpy.array(1.0, int)와 같다."
      ],
      "execution_count": null,
      "outputs": [
        {
          "output_type": "execute_result",
          "data": {
            "text/plain": [
              "array(1)"
            ]
          },
          "metadata": {
            "tags": []
          },
          "execution_count": 23
        }
      ]
    },
    {
      "cell_type": "markdown",
      "metadata": {
        "id": "c-FuzCILRBU1",
        "colab_type": "text"
      },
      "source": [
        "### 다차원 배열\n",
        "- 리스트를 배열로 변환하여 반환한다.\n",
        "    - 리스트 —> 배열 "
      ]
    },
    {
      "cell_type": "code",
      "metadata": {
        "id": "G2oUIL2yRBU1",
        "colab_type": "code",
        "colab": {
          "base_uri": "https://localhost:8080/",
          "height": 52
        },
        "outputId": "2d46b1dc-8a21-437b-b8af-315cd89f7a5c"
      },
      "source": [
        "# 2차원 배열을 만든다.\n",
        "arr2 = numpy.array([[1, 2, 3],   \n",
        "                    [4, 5, 6]])\n",
        "arr2"
      ],
      "execution_count": null,
      "outputs": [
        {
          "output_type": "execute_result",
          "data": {
            "text/plain": [
              "array([[1, 2, 3],\n",
              "       [4, 5, 6]])"
            ]
          },
          "metadata": {
            "tags": []
          },
          "execution_count": 26
        }
      ]
    },
    {
      "cell_type": "markdown",
      "metadata": {
        "id": "yutd2ymRRBVB",
        "colab_type": "text"
      },
      "source": [
        "## arange() 함수"
      ]
    },
    {
      "cell_type": "markdown",
      "metadata": {
        "id": "KBZaR7dDRBVB",
        "colab_type": "text"
      },
      "source": [
        "[numpy.arange](https://docs.scipy.org/doc/numpy/reference/generated/numpy.arange.html#numpy.arange)\n",
        "- Return evenly spaced values within a given interval.\n",
        "- numpy.**arange**(*[start, ]stop, [step, ]dtype=None*)"
      ]
    },
    {
      "cell_type": "code",
      "metadata": {
        "id": "k9C3CVI1RBVC",
        "colab_type": "code",
        "colab": {
          "base_uri": "https://localhost:8080/",
          "height": 52
        },
        "outputId": "73cac588-aede-4427-d7a0-746a6b0e8923"
      },
      "source": [
        "# 1차원 정수 배열을 만든다.\n",
        "arr = numpy.arange(10)\n",
        "print(arr)\n",
        "print(type(arr))"
      ],
      "execution_count": null,
      "outputs": [
        {
          "output_type": "stream",
          "text": [
            "[0 1 2 3 4 5 6 7 8 9]\n",
            "<class 'numpy.ndarray'>\n"
          ],
          "name": "stdout"
        }
      ]
    },
    {
      "cell_type": "code",
      "metadata": {
        "id": "PYTzL6E9RBVF",
        "colab_type": "code",
        "colab": {
          "base_uri": "https://localhost:8080/",
          "height": 35
        },
        "outputId": "0d53704f-97f9-49cf-99e9-948debb4de5c"
      },
      "source": [
        "# 1차원 실수 배열를 만든다.\n",
        "numpy.arange(10, dtype='float64')  "
      ],
      "execution_count": null,
      "outputs": [
        {
          "output_type": "execute_result",
          "data": {
            "text/plain": [
              "array([0., 1., 2., 3., 4., 5., 6., 7., 8., 9.])"
            ]
          },
          "metadata": {
            "tags": []
          },
          "execution_count": 29
        }
      ]
    },
    {
      "cell_type": "code",
      "metadata": {
        "id": "771SHbkoRBVI",
        "colab_type": "code",
        "colab": {
          "base_uri": "https://localhost:8080/",
          "height": 35
        },
        "outputId": "c251f031-92b2-4d2d-cd0f-bdb9c44ef3df"
      },
      "source": [
        "# 1차원 실수 배열를 만든다.\n",
        "numpy.arange(10, dtype=numpy.float64)  "
      ],
      "execution_count": null,
      "outputs": [
        {
          "output_type": "execute_result",
          "data": {
            "text/plain": [
              "array([0., 1., 2., 3., 4., 5., 6., 7., 8., 9.])"
            ]
          },
          "metadata": {
            "tags": []
          },
          "execution_count": 30
        }
      ]
    },
    {
      "cell_type": "code",
      "metadata": {
        "id": "alskTAoWRBVN",
        "colab_type": "code",
        "colab": {
          "base_uri": "https://localhost:8080/",
          "height": 35
        },
        "outputId": "d3b2d5ae-2455-44fb-e0f0-a8ffd88e2052"
      },
      "source": [
        "# 1차원 실수 배열을 만든다.\n",
        "numpy.arange(10.0)"
      ],
      "execution_count": null,
      "outputs": [
        {
          "output_type": "execute_result",
          "data": {
            "text/plain": [
              "array([0., 1., 2., 3., 4., 5., 6., 7., 8., 9.])"
            ]
          },
          "metadata": {
            "tags": []
          },
          "execution_count": 3
        }
      ]
    },
    {
      "cell_type": "code",
      "metadata": {
        "id": "I2TJ5fk0RBVQ",
        "colab_type": "code",
        "colab": {
          "base_uri": "https://localhost:8080/",
          "height": 35
        },
        "outputId": "f810b3e5-9b80-472d-bf00-be9b976c16ff"
      },
      "source": [
        "# 1차원 정수 배열을 만든다.\n",
        "numpy.arange(3, 10)  "
      ],
      "execution_count": null,
      "outputs": [
        {
          "output_type": "execute_result",
          "data": {
            "text/plain": [
              "array([3, 4, 5, 6, 7, 8, 9])"
            ]
          },
          "metadata": {
            "tags": []
          },
          "execution_count": 32
        }
      ]
    },
    {
      "cell_type": "code",
      "metadata": {
        "id": "lGVn3NQnRBVT",
        "colab_type": "code",
        "colab": {
          "base_uri": "https://localhost:8080/",
          "height": 35
        },
        "outputId": "4266f42a-3eef-46cb-fe69-5d2b4de12962"
      },
      "source": [
        "# 1차원 실수 배열을 만든다.\n",
        "numpy.arange(3, 10, 2, dtype=numpy.float64)"
      ],
      "execution_count": null,
      "outputs": [
        {
          "output_type": "execute_result",
          "data": {
            "text/plain": [
              "array([3., 5., 7., 9.])"
            ]
          },
          "metadata": {
            "tags": []
          },
          "execution_count": 33
        }
      ]
    },
    {
      "cell_type": "code",
      "metadata": {
        "id": "qlaxdMpzRBVW",
        "colab_type": "code",
        "colab": {
          "base_uri": "https://localhost:8080/",
          "height": 35
        },
        "outputId": "7b33d2e3-b9e7-41ba-f6aa-888b82b10470"
      },
      "source": [
        "# 1차원 정수 배열을 만든다.\n",
        "numpy.arange(10, 3, -2)"
      ],
      "execution_count": null,
      "outputs": [
        {
          "output_type": "execute_result",
          "data": {
            "text/plain": [
              "array([10,  8,  6,  4])"
            ]
          },
          "metadata": {
            "tags": []
          },
          "execution_count": 34
        }
      ]
    },
    {
      "cell_type": "code",
      "metadata": {
        "id": "Wtt5QACZRBVZ",
        "colab_type": "code",
        "colab": {
          "base_uri": "https://localhost:8080/",
          "height": 35
        },
        "outputId": "c37e2663-4916-43b4-bea2-5ece78ce3480"
      },
      "source": [
        "# 1차원 정수 배열을 만든다.\n",
        "numpy.arange(3, 10, -2)"
      ],
      "execution_count": null,
      "outputs": [
        {
          "output_type": "execute_result",
          "data": {
            "text/plain": [
              "array([], dtype=int64)"
            ]
          },
          "metadata": {
            "tags": []
          },
          "execution_count": 35
        }
      ]
    },
    {
      "cell_type": "markdown",
      "metadata": {
        "id": "hxn0X308RBVc",
        "colab_type": "text"
      },
      "source": [
        "## 내장함수"
      ]
    },
    {
      "cell_type": "markdown",
      "metadata": {
        "id": "VmdcAl_RRBVd",
        "colab_type": "text"
      },
      "source": [
        "NumPy에 내장된 다양한 함수로도 배열을 만들 수 있다."
      ]
    },
    {
      "cell_type": "markdown",
      "metadata": {
        "id": "4yd5rSJvRBVe",
        "colab_type": "text"
      },
      "source": [
        "### zeros() 함수"
      ]
    },
    {
      "cell_type": "markdown",
      "metadata": {
        "id": "6EdOmpQjRBVe",
        "colab_type": "text"
      },
      "source": [
        "[numpy.zeros](https://docs.scipy.org/doc/numpy/reference/generated/numpy.zeros.html?highlight=zeros#numpy.zeros)\n",
        "- Return a new array of given shape and type, filled with zeros.\n",
        "- numpy.**zeros**(*shape, dtype=float, order='C'*)\n",
        "    - ***dtype*** : *data-type, optional*\n",
        "        - Default is **numpy.float64**.\n",
        "    - ***order*** : *{‘C’, ‘F’}, optional, default: C*\n",
        "        - Whether to store multi-dimensional data in row-major (C-style) or column-major (Fortran-style) order in memory."
      ]
    },
    {
      "cell_type": "code",
      "metadata": {
        "id": "N2dKk--JRBVj",
        "colab_type": "code",
        "colab": {
          "base_uri": "https://localhost:8080/",
          "height": 69
        },
        "outputId": "d928c69a-30ee-4274-e37d-a2641f38d396"
      },
      "source": [
        "# 모든 값이 실수 0.0인 2차원(3 x 2) 배열을 만든다.\n",
        "numpy.zeros((3, 2)) "
      ],
      "execution_count": null,
      "outputs": [
        {
          "output_type": "execute_result",
          "data": {
            "text/plain": [
              "array([[0., 0.],\n",
              "       [0., 0.],\n",
              "       [0., 0.]])"
            ]
          },
          "metadata": {
            "tags": []
          },
          "execution_count": 37
        }
      ]
    },
    {
      "cell_type": "markdown",
      "metadata": {
        "id": "Z_ceX5H3RBWN",
        "colab_type": "text"
      },
      "source": [
        "### eye() 함수"
      ]
    },
    {
      "cell_type": "markdown",
      "metadata": {
        "id": "dEQAOmmkRBWN",
        "colab_type": "text"
      },
      "source": [
        "[numpy.eye](https://docs.scipy.org/doc/numpy/reference/generated/numpy.eye.html?highlight=eye#numpy.eye)\n",
        "- Return a 2-D array with ones on the diagonal and zeros elsewhere.\n",
        "- numpy.**eye**(*N, M=None, k=0, dtype=<class 'float'>, order='C'*)\n",
        "    - ***N*** : *int*\n",
        "        - Number of rows in the output.\n",
        "    - ***M*** : *int, optional*\n",
        "        - Number of columns in the output. If **None**, defaults to N.\n",
        "    - ***k*** : *int, optional*\n",
        "        - Index of the diagonal: **0** (the default) refers to the main diagonal, a positive value refers to an upper diagonal, and a negative value to a lower diagonal.\n",
        "    - Returns: *ndarray of shape (N,M)*\n",
        "        - An array where all elements are equal to zero, except for the *k*-th diagonal, whose values are equal to one."
      ]
    },
    {
      "cell_type": "code",
      "metadata": {
        "id": "SMwe6aR-RBWQ",
        "colab_type": "code",
        "colab": {
          "base_uri": "https://localhost:8080/",
          "height": 104
        },
        "outputId": "eb4614ed-91db-4b20-bdc5-e453ab474270"
      },
      "source": [
        "# 단위행렬 2차원(5 x 5) 배열을 만든다.\n",
        "numpy.eye(5)"
      ],
      "execution_count": null,
      "outputs": [
        {
          "output_type": "execute_result",
          "data": {
            "text/plain": [
              "array([[1., 0., 0., 0., 0.],\n",
              "       [0., 1., 0., 0., 0.],\n",
              "       [0., 0., 1., 0., 0.],\n",
              "       [0., 0., 0., 1., 0.],\n",
              "       [0., 0., 0., 0., 1.]])"
            ]
          },
          "metadata": {
            "tags": []
          },
          "execution_count": 43
        }
      ]
    },
    {
      "cell_type": "code",
      "metadata": {
        "id": "1LWIRAasRBW5",
        "colab_type": "code",
        "colab": {
          "base_uri": "https://localhost:8080/",
          "height": 104
        },
        "outputId": "78dcf1cc-83f3-4c3c-be42-ca228cc9fabd"
      },
      "source": [
        "# 단위행렬 2차원(5 x 2) 배열을 만든다.\n",
        "numpy.eye(5, 2)"
      ],
      "execution_count": null,
      "outputs": [
        {
          "output_type": "execute_result",
          "data": {
            "text/plain": [
              "array([[1., 0.],\n",
              "       [0., 1.],\n",
              "       [0., 0.],\n",
              "       [0., 0.],\n",
              "       [0., 0.]])"
            ]
          },
          "metadata": {
            "tags": []
          },
          "execution_count": 44
        }
      ]
    },
    {
      "cell_type": "code",
      "metadata": {
        "id": "P44mR8MXRBXe",
        "colab_type": "code",
        "colab": {
          "base_uri": "https://localhost:8080/",
          "height": 104
        },
        "outputId": "b3b1a1ea-d348-4769-f0f7-ffa6f8a29482"
      },
      "source": [
        "# 단위행렬 2차원(5 x 5) 배열 주사선의 \n",
        "# 상단 1 위의 사선을 1.0으로 채운 배열을 만든다.\n",
        "numpy.eye(5, k=1)"
      ],
      "execution_count": null,
      "outputs": [
        {
          "output_type": "execute_result",
          "data": {
            "text/plain": [
              "array([[0., 1., 0., 0., 0.],\n",
              "       [0., 0., 1., 0., 0.],\n",
              "       [0., 0., 0., 1., 0.],\n",
              "       [0., 0., 0., 0., 1.],\n",
              "       [0., 0., 0., 0., 0.]])"
            ]
          },
          "metadata": {
            "tags": []
          },
          "execution_count": 45
        }
      ]
    },
    {
      "cell_type": "code",
      "metadata": {
        "id": "o3Bfsw1dRBYC",
        "colab_type": "code",
        "colab": {
          "base_uri": "https://localhost:8080/",
          "height": 104
        },
        "outputId": "83c6041f-4a01-4f22-ba6a-a6f64d674a3e"
      },
      "source": [
        "# 단위행렬 2차원(5 x 5) 배열 주사선의 \n",
        "# 하단 2 아래의 사선을 1.0으로 채운 배열을 만든다.\n",
        "numpy.eye(5, k=-2)"
      ],
      "execution_count": null,
      "outputs": [
        {
          "output_type": "execute_result",
          "data": {
            "text/plain": [
              "array([[0., 0., 0., 0., 0.],\n",
              "       [0., 0., 0., 0., 0.],\n",
              "       [1., 0., 0., 0., 0.],\n",
              "       [0., 1., 0., 0., 0.],\n",
              "       [0., 0., 1., 0., 0.]])"
            ]
          },
          "metadata": {
            "tags": []
          },
          "execution_count": 46
        }
      ]
    },
    {
      "cell_type": "markdown",
      "metadata": {
        "id": "paHlzA5BRBYO",
        "colab_type": "text"
      },
      "source": [
        "### diag() 함수"
      ]
    },
    {
      "cell_type": "markdown",
      "metadata": {
        "id": "MsFWKLHmRBYV",
        "colab_type": "text"
      },
      "source": [
        "[numpy.diag](https://docs.scipy.org/doc/numpy/reference/generated/numpy.diag.html?highlight=diag#numpy.diag)\n",
        "- Extract a diagonal or construct a diagonal array.\n",
        "- numpy.**diag**(*v, k=0*)\n",
        "    - ***v*** : *array_like*\n",
        "        - **v**가 2차원일 때와 1차원일 때 작동 방식이 다르다.\n",
        "            - If ***v*** is a 2-D array, return a copy of its *k*-th diagonal. ***v***가 2차원 배열이면, 그 배열의 사선을 추출해서 1차원 배열을 만든다.\n",
        "            - If ***v*** is a 1-D array, return a 2-D array with ***v*** on the *k*-th diagonal. ***v***가 1차원 배열이면, 그 배열의 값을 사선으로 가지는 2차원 배열을 반환한다.\n",
        "    - ***k*** : *int, optional*\n",
        "        - Diagonal in question. The default is **0**. Use *k > 0* for diagonals above the main diagonal, and *k < 0* for diagonals below the main diagonal."
      ]
    },
    {
      "cell_type": "code",
      "metadata": {
        "id": "xvGtBxtsRBYW",
        "colab_type": "code",
        "colab": {
          "base_uri": "https://localhost:8080/",
          "height": 69
        },
        "outputId": "07507c87-cc2f-4940-d010-91f29d9b1e6c"
      },
      "source": [
        "# 2차원(3 x 4) 배열\n",
        "arr = numpy.array([[0, 1, 2, 3], \n",
        "                   [4, 5, 6, 7], \n",
        "                   [8, 9, 10, 11]])\n",
        "arr"
      ],
      "execution_count": null,
      "outputs": [
        {
          "output_type": "execute_result",
          "data": {
            "text/plain": [
              "array([[ 0,  1,  2,  3],\n",
              "       [ 4,  5,  6,  7],\n",
              "       [ 8,  9, 10, 11]])"
            ]
          },
          "metadata": {
            "tags": []
          },
          "execution_count": 48
        }
      ]
    },
    {
      "cell_type": "code",
      "metadata": {
        "id": "VG00E4-gRBY5",
        "colab_type": "code",
        "colab": {
          "base_uri": "https://localhost:8080/",
          "height": 35
        },
        "outputId": "1b7eca17-e833-4fbb-89d2-96e4f1a1f6d1"
      },
      "source": [
        "# 첫 번째 전달인자가 2차원(3 x 4) 배열이면, \n",
        "# 그 배열의 사선을 추출해서 1차원 배열을 만든다.\n",
        "numpy.diag(arr)   "
      ],
      "execution_count": null,
      "outputs": [
        {
          "output_type": "execute_result",
          "data": {
            "text/plain": [
              "array([ 0,  5, 10])"
            ]
          },
          "metadata": {
            "tags": []
          },
          "execution_count": 51
        }
      ]
    },
    {
      "cell_type": "code",
      "metadata": {
        "id": "BRgYrleORBZq",
        "colab_type": "code",
        "colab": {
          "base_uri": "https://localhost:8080/",
          "height": 35
        },
        "outputId": "4fb64f1b-cc39-4962-8db0-5ed4d98f77bc"
      },
      "source": [
        "# 2차원(3 x 4) 배열 주사선의 \n",
        "# 상단 1 위의 사선을 추출해서 1차원 배열을 만든다.\n",
        "numpy.diag(arr, k=1)  "
      ],
      "execution_count": null,
      "outputs": [
        {
          "output_type": "execute_result",
          "data": {
            "text/plain": [
              "array([ 1,  6, 11])"
            ]
          },
          "metadata": {
            "tags": []
          },
          "execution_count": 52
        }
      ]
    },
    {
      "cell_type": "code",
      "metadata": {
        "id": "YbnGdSFFRBZt",
        "colab_type": "code",
        "colab": {
          "base_uri": "https://localhost:8080/",
          "height": 35
        },
        "outputId": "f700fb55-56e6-41bb-e663-93e0c696a0b5"
      },
      "source": [
        "# 2차원(3 x 4) 배열 주사선의 \n",
        "# 하단 2 아래의 사선을 추출해서 1차원 배열을 만든다.\n",
        "numpy.diag(arr, k=-2)"
      ],
      "execution_count": null,
      "outputs": [
        {
          "output_type": "execute_result",
          "data": {
            "text/plain": [
              "array([8])"
            ]
          },
          "metadata": {
            "tags": []
          },
          "execution_count": 53
        }
      ]
    },
    {
      "cell_type": "code",
      "metadata": {
        "id": "nrlsqD3KRBZw",
        "colab_type": "code",
        "colab": {
          "base_uri": "https://localhost:8080/",
          "height": 69
        },
        "outputId": "1da30496-0f43-4162-efc5-76638bd5c5b7"
      },
      "source": [
        "# 첫 번째 전달인자가 1차원 배열이면, \n",
        "# 그 배열의 값을 사선으로 가지는 2차원 배열을 반환한다.\n",
        "numpy.diag([1, 5, 10])"
      ],
      "execution_count": null,
      "outputs": [
        {
          "output_type": "execute_result",
          "data": {
            "text/plain": [
              "array([[ 1,  0,  0],\n",
              "       [ 0,  5,  0],\n",
              "       [ 0,  0, 10]])"
            ]
          },
          "metadata": {
            "tags": []
          },
          "execution_count": 54
        }
      ]
    },
    {
      "cell_type": "code",
      "metadata": {
        "id": "hq2fq7BoRBZy",
        "colab_type": "code",
        "colab": {
          "base_uri": "https://localhost:8080/",
          "height": 104
        },
        "outputId": "a200fcb5-5e55-4b8e-8319-ea5c6f302e01"
      },
      "source": [
        "# 첫 번째 전달인자가 1차원 배열이고 k 값이 주어지면, \n",
        "# 그 배열의 값을 k만큼 이동한 사선으로 가지는 2차원 배열을 만든다.\n",
        "numpy.diag([1, 5, 10], k=-2)"
      ],
      "execution_count": null,
      "outputs": [
        {
          "output_type": "execute_result",
          "data": {
            "text/plain": [
              "array([[ 0,  0,  0,  0,  0],\n",
              "       [ 0,  0,  0,  0,  0],\n",
              "       [ 1,  0,  0,  0,  0],\n",
              "       [ 0,  5,  0,  0,  0],\n",
              "       [ 0,  0, 10,  0,  0]])"
            ]
          },
          "metadata": {
            "tags": []
          },
          "execution_count": 55
        }
      ]
    },
    {
      "cell_type": "markdown",
      "metadata": {
        "id": "am0zAwuURBZ0",
        "colab_type": "text"
      },
      "source": [
        "### random.random() 함수"
      ]
    },
    {
      "cell_type": "markdown",
      "metadata": {
        "id": "6xhrPTgYRBZ0",
        "colab_type": "text"
      },
      "source": [
        "[numpy.random.Generator.random](https://docs.scipy.org/doc/numpy/reference/random/generated/numpy.random.Generator.random.html#numpy.random.Generator.random)\n",
        "- **Uniform([0, 1))** 을 따르는 난수를 생성한다.\n",
        "- Return random floats in the half-open interval [0.0, 1.0).\n",
        "- Results are from the “continuous uniform” distribution over the stated interval.\n",
        "- To sample $ Unif[a, b), b > a $ multiply the output of random by *(b-a)* and add *a*:\n",
        "\n",
        "```\n",
        "(b - a) * random() + a\n",
        "```\n",
        "\n",
        "- Generator.**random**(*size=None, dtype='d', out=None*)\n",
        "    - ***size*** : *int or tuple of ints, optional*\n",
        "        - Output shape. If the given shape is, e.g., **(m, n, k)**, then m * n * k samples are drawn. \n",
        "        - Default is **None**, in which case **a single value** is returned.\n",
        "    - ***dtype*** : *{str, dtype}, optional*\n",
        "        - Desired dtype of the result, either ‘d’ (or ‘float64’) or ‘f’ (or ‘float32’). All dtypes are determined by their name. \n",
        "        - The default value is ‘d’.\n",
        "    - ***out*** : *ndarray, optional*\n",
        "        - Alternative output array in which to place the result. If size is not **None**, it must have the same shape as the provided size and must match the type of the output values."
      ]
    },
    {
      "cell_type": "code",
      "metadata": {
        "id": "DoLLh0PORBZ4",
        "colab_type": "code",
        "colab": {},
        "outputId": "0c8b4653-afce-4a31-ed60-2b7a2984a9a8"
      },
      "source": [
        "# 임의의 실수(0 이상 1 이하)를 만든다.\n",
        "numpy.random.random()"
      ],
      "execution_count": null,
      "outputs": [
        {
          "output_type": "execute_result",
          "data": {
            "text/plain": [
              "0.158669862621163"
            ]
          },
          "metadata": {
            "tags": []
          },
          "execution_count": 10
        }
      ]
    },
    {
      "cell_type": "code",
      "metadata": {
        "id": "8iTTauQ9RBZ6",
        "colab_type": "code",
        "colab": {},
        "outputId": "4142c9ed-ff39-42aa-bef8-14f728ab970e"
      },
      "source": [
        "# 임의의 실수(0 이상 1 이하)로 채워진 1차원(5,) 배열을 만든다.\n",
        "numpy.random.random(5)"
      ],
      "execution_count": null,
      "outputs": [
        {
          "output_type": "execute_result",
          "data": {
            "text/plain": [
              "array([0.51007175, 0.95131489, 0.44683025, 0.14221   , 0.62536888])"
            ]
          },
          "metadata": {
            "tags": []
          },
          "execution_count": 11
        }
      ]
    },
    {
      "cell_type": "code",
      "metadata": {
        "id": "k75ShXreRBZ9",
        "colab_type": "code",
        "colab": {},
        "outputId": "2d12b7bb-79a6-4539-b9a6-659a0089b24c"
      },
      "source": [
        "# 임의의 실수(0 이상 1 이하)로 채워진 2차원(1 x 5) 배열을 만든다.\n",
        "numpy.random.random((1, 5))"
      ],
      "execution_count": null,
      "outputs": [
        {
          "output_type": "execute_result",
          "data": {
            "text/plain": [
              "array([[0.01113246, 0.59185488, 0.68591321, 0.47793059, 0.37867388]])"
            ]
          },
          "metadata": {
            "tags": []
          },
          "execution_count": 12
        }
      ]
    },
    {
      "cell_type": "code",
      "metadata": {
        "id": "jvGnyAdDRBZ_",
        "colab_type": "code",
        "colab": {},
        "outputId": "1240dad6-1654-40d4-e7ba-01915947b649"
      },
      "source": [
        "# 임의의 실수(0 이상 1 이하)로 채워진 2차원(2 x 5) 배열을 만든다.\n",
        "numpy.random.random((2, 5))"
      ],
      "execution_count": null,
      "outputs": [
        {
          "output_type": "execute_result",
          "data": {
            "text/plain": [
              "array([[0.55054822, 0.64118906, 0.16147678, 0.00659165, 0.0820999 ],\n",
              "       [0.4486739 , 0.94477232, 0.85518623, 0.64791878, 0.56812962]])"
            ]
          },
          "metadata": {
            "tags": []
          },
          "execution_count": 13
        }
      ]
    },
    {
      "cell_type": "markdown",
      "metadata": {
        "id": "L9TdKyxsRBaF",
        "colab_type": "text"
      },
      "source": [
        "### random.randint() 함수"
      ]
    },
    {
      "cell_type": "markdown",
      "metadata": {
        "id": "vOdq1DeURBaF",
        "colab_type": "text"
      },
      "source": [
        "[numpy.random.mtrand.RandomState.randint](https://docs.scipy.org/doc/numpy/reference/random/generated/numpy.random.mtrand.RandomState.randint.html#numpy.random.mtrand.RandomState.randint)\n",
        "- Return random integers from ***low*** (inclusive) to ***high*** (exclusive).\n",
        "- Return random integers from the “discrete uniform” distribution of the specified dtype in the “half-open” interval **[low, high)**. If ***high*** is **None** (the default), then results are from **[0, low)**.\n",
        "- RandomState.**randint**(*low, high=None, size=None, dtype='l'*)\n",
        "    - ***low*** : *int or array-like of ints*\n",
        "        - Lowest (signed) integers to be drawn from the distribution (unless **high=None**, in which case this parameter is one above the highest such integer).\n",
        "    - ***high*** : *int or array-like of ints, optional*\n",
        "        - If provided, one above the largest (signed) integer to be drawn from the distribution (see above for behavior if **high=None**). If array-like, must contain integer values\n",
        "    - ***size*** : *int or tuple of ints, optional*\n",
        "        - Output shape. If the given shape is, e.g., **(m, n, k)**, then m * n * k samples are drawn. \n",
        "        - Default is **None**, in which case a single value is returned.\n",
        "    - ***dtype*** : *dtype, optional*\n",
        "        - Desired dtype of the result. All dtypes are determined by their name, i.e., ‘int64’, ‘int’, etc, so byteorder is not available and a specific precision may have different C types depending on the platform. \n",
        "        - The default value is ‘np.int’."
      ]
    },
    {
      "cell_type": "code",
      "metadata": {
        "id": "OdHcPtCaRBaI",
        "colab_type": "code",
        "colab": {},
        "outputId": "a95d3f67-5621-44bd-916f-71ce0e2d8f84"
      },
      "source": [
        "# 0~4 사이의 임의의 정수로 채워진 1차원(10,) 배열을 만든다.\n",
        "numpy.random.randint(5, size=10)"
      ],
      "execution_count": null,
      "outputs": [
        {
          "output_type": "execute_result",
          "data": {
            "text/plain": [
              "array([2, 2, 4, 1, 4, 2, 4, 3, 4, 3])"
            ]
          },
          "metadata": {
            "tags": []
          },
          "execution_count": 16
        }
      ]
    },
    {
      "cell_type": "code",
      "metadata": {
        "id": "hlzVLfAgRBaL",
        "colab_type": "code",
        "colab": {},
        "outputId": "bb923ac1-161d-41c3-fa5f-674a25eebfcb"
      },
      "source": [
        "# 0~4 사이의 임의의 정수로 채워진 2차원(2 x 5) 배열을 만든다.\n",
        "numpy.random.randint(5, size=(2, 5))"
      ],
      "execution_count": null,
      "outputs": [
        {
          "output_type": "execute_result",
          "data": {
            "text/plain": [
              "array([[2, 1, 1, 0, 3],\n",
              "       [3, 3, 3, 2, 1]])"
            ]
          },
          "metadata": {
            "tags": []
          },
          "execution_count": 17
        }
      ]
    },
    {
      "cell_type": "code",
      "metadata": {
        "id": "pkOj_2rDRBaN",
        "colab_type": "code",
        "colab": {},
        "outputId": "26740bfb-0466-4d8d-d0b3-0b904fd08e06"
      },
      "source": [
        "# 1 이상 (3 미만, 5 미만, 10 미만)의 \n",
        "# 임의의 정수로 채워진 1차원(3) 배열을 만든다.\n",
        "numpy.random.randint(1, [3, 5, 10])"
      ],
      "execution_count": null,
      "outputs": [
        {
          "output_type": "execute_result",
          "data": {
            "text/plain": [
              "array([1, 4, 9])"
            ]
          },
          "metadata": {
            "tags": []
          },
          "execution_count": 26
        }
      ]
    },
    {
      "cell_type": "code",
      "metadata": {
        "id": "T1XCtK5lRBaQ",
        "colab_type": "code",
        "colab": {},
        "outputId": "df195b96-a68b-4cb3-cb8e-97f755dc6e93"
      },
      "source": [
        "# (1 이상, 3 이상, 5 이상, 7 이상, 9 이상) 10 미만의 \n",
        "# 임의의 정수로 채워진 1차원(3) 배열을 만든다.\n",
        "numpy.random.randint([1, 3, 5, 7, 9], 10)"
      ],
      "execution_count": null,
      "outputs": [
        {
          "output_type": "execute_result",
          "data": {
            "text/plain": [
              "array([1, 4, 8, 9, 9])"
            ]
          },
          "metadata": {
            "tags": []
          },
          "execution_count": 39
        }
      ]
    },
    {
      "cell_type": "code",
      "metadata": {
        "id": "jMpALwvJRBaS",
        "colab_type": "code",
        "colab": {},
        "outputId": "794d5875-d2c8-4774-eb85-f6364a7be1e9"
      },
      "source": [
        "# (1, 3, 5, 7 이상) x (첫 번째 행은 10 미만, 두 번째 행은 20 미만)의 \n",
        "# 임의의 정수(uint)로 채워진 2차원(2 x 4) 배열을 만든다.\n",
        "numpy.random.randint([1, 3, 5, 7], [[10], [20]], dtype=numpy.uint)"
      ],
      "execution_count": null,
      "outputs": [
        {
          "output_type": "execute_result",
          "data": {
            "text/plain": [
              "array([[ 2,  3,  8,  9],\n",
              "       [ 7, 18,  9, 10]], dtype=uint64)"
            ]
          },
          "metadata": {
            "tags": []
          },
          "execution_count": 45
        }
      ]
    },
    {
      "cell_type": "markdown",
      "metadata": {
        "id": "VNn7NfftRBaT",
        "colab_type": "text"
      },
      "source": [
        "### Lab: 랜덤 벡터 생성과 정렬"
      ]
    },
    {
      "cell_type": "markdown",
      "metadata": {
        "id": "F8VAp72hRBaT",
        "colab_type": "text"
      },
      "source": [
        "- - -\n",
        "\n",
        "- 길이 **10**인 랜덤 벡터(**1**차원 배열)을 생성하고 이를 정렬한다.\n",
        "\n",
        "- 오름차순과 내림차순으로 한 번씩 정렬해 본다.\n",
        "\n",
        "- - -"
      ]
    },
    {
      "cell_type": "code",
      "metadata": {
        "id": "Yg4ieDSiRBaU",
        "colab_type": "code",
        "colab": {},
        "outputId": "53df8417-8f93-458b-abda-c928976e2d54"
      },
      "source": [
        "import numpy\n",
        "\n",
        "# 길이 10인 랜덤 벡터(1차원 배열)을 생성\n",
        "arr = numpy.random.random(10)\n",
        "arr"
      ],
      "execution_count": null,
      "outputs": [
        {
          "output_type": "execute_result",
          "data": {
            "text/plain": [
              "array([0.57325185, 0.69779706, 0.70366113, 0.01521645, 0.64375947,\n",
              "       0.92207272, 0.02126062, 0.12492399, 0.3617444 , 0.2533235 ])"
            ]
          },
          "metadata": {
            "tags": []
          },
          "execution_count": 1
        }
      ]
    },
    {
      "cell_type": "code",
      "metadata": {
        "scrolled": true,
        "id": "FXMMhTlmRBaW",
        "colab_type": "code",
        "colab": {},
        "outputId": "248ef14a-b79a-4ae4-abbc-62f2a7762f76"
      },
      "source": [
        "# 오름차순으로 정렬한다.\n",
        "arr.sort()  \n",
        "arr "
      ],
      "execution_count": null,
      "outputs": [
        {
          "output_type": "execute_result",
          "data": {
            "text/plain": [
              "array([0.01521645, 0.02126062, 0.12492399, 0.2533235 , 0.3617444 ,\n",
              "       0.57325185, 0.64375947, 0.69779706, 0.70366113, 0.92207272])"
            ]
          },
          "metadata": {
            "tags": []
          },
          "execution_count": 2
        }
      ]
    },
    {
      "cell_type": "code",
      "metadata": {
        "id": "hI_QL3dJRBaY",
        "colab_type": "code",
        "colab": {},
        "outputId": "e9264a1b-47e6-4d25-f130-3d19d3bd9f0c"
      },
      "source": [
        "# 내림차순으로 정렬한다.\n",
        "arr[::-1].sort()  \n",
        "arr "
      ],
      "execution_count": null,
      "outputs": [
        {
          "output_type": "execute_result",
          "data": {
            "text/plain": [
              "array([0.92207272, 0.70366113, 0.69779706, 0.64375947, 0.57325185,\n",
              "       0.3617444 , 0.2533235 , 0.12492399, 0.02126062, 0.01521645])"
            ]
          },
          "metadata": {
            "tags": []
          },
          "execution_count": 3
        }
      ]
    },
    {
      "cell_type": "markdown",
      "metadata": {
        "id": "__YEqWHDRBaa",
        "colab_type": "text"
      },
      "source": [
        "# 배열 자료형"
      ]
    },
    {
      "cell_type": "markdown",
      "metadata": {
        "id": "dC2ryxY2RBaa",
        "colab_type": "text"
      },
      "source": [
        "[numpy.ndarray.**dtype**](https://docs.scipy.org/doc/numpy/reference/generated/numpy.ndarray.dtype.html?highlight=dtype#numpy.ndarray.dtype)\n",
        "\n",
        "- 배열의 자료형을 알려준다."
      ]
    },
    {
      "cell_type": "code",
      "metadata": {
        "id": "NlDss1WnRBaa",
        "colab_type": "code",
        "colab": {
          "base_uri": "https://localhost:8080/",
          "height": 35
        },
        "outputId": "5474135c-8bc7-4217-88b4-ead4f1621849"
      },
      "source": [
        "arr1 = numpy.array([[1, 2, 3], [4, 5, 6]])\n",
        "arr1.dtype, arr1.dtype.name"
      ],
      "execution_count": null,
      "outputs": [
        {
          "output_type": "execute_result",
          "data": {
            "text/plain": [
              "(dtype('int64'), 'int64')"
            ]
          },
          "metadata": {
            "tags": []
          },
          "execution_count": 57
        }
      ]
    },
    {
      "cell_type": "code",
      "metadata": {
        "id": "vMPDC8d8RBad",
        "colab_type": "code",
        "colab": {
          "base_uri": "https://localhost:8080/",
          "height": 35
        },
        "outputId": "5164f98d-4678-45de-835a-0a48bc717663"
      },
      "source": [
        "arr2 = numpy.array([1.0])\n",
        "arr2.dtype"
      ],
      "execution_count": null,
      "outputs": [
        {
          "output_type": "execute_result",
          "data": {
            "text/plain": [
              "dtype('float64')"
            ]
          },
          "metadata": {
            "tags": []
          },
          "execution_count": 58
        }
      ]
    },
    {
      "cell_type": "code",
      "metadata": {
        "id": "znr5s9rWRBad",
        "colab_type": "code",
        "colab": {
          "base_uri": "https://localhost:8080/",
          "height": 35
        },
        "outputId": "9f8028cf-65c0-4709-9061-c5725debafd8"
      },
      "source": [
        "arr3 = numpy.array([1, 2], dtype = numpy.float64)\n",
        "arr3.dtype.name"
      ],
      "execution_count": null,
      "outputs": [
        {
          "output_type": "execute_result",
          "data": {
            "text/plain": [
              "'float64'"
            ]
          },
          "metadata": {
            "tags": []
          },
          "execution_count": 59
        }
      ]
    },
    {
      "cell_type": "markdown",
      "metadata": {
        "id": "Q7oiuSMNRBae",
        "colab_type": "text"
      },
      "source": [
        "## 형변환 메소드"
      ]
    },
    {
      "cell_type": "markdown",
      "metadata": {
        "id": "1Oj6i2kCRBae",
        "colab_type": "text"
      },
      "source": [
        "[numpy.ndarray.astype](https://docs.scipy.org/doc/numpy/reference/generated/numpy.ndarray.astype.html?highlight=astype#numpy.ndarray.astype)\n",
        "\n",
        "- Copy of the array, cast to a specified type.\n",
        "- ndarray.**astype**(*dtype, order='K', casting='unsafe', subok=True, copy=True*)\n",
        "    - ***dtype*** : *str or dtype*\n",
        "        - Typecode or data-type to which the array is cast.\n",
        "    - Returns:\n",
        "        - ***arr_t*** : *ndarray*\n",
        "            - Unless ***copy*** is **False** and the other conditions for returning the input array are satisfied, ***arr_t*** is a new array of the same shape as the input array, with dtype, order given by dtype, order."
      ]
    },
    {
      "cell_type": "code",
      "metadata": {
        "id": "i8hdbT0ZRBae",
        "colab_type": "code",
        "colab": {
          "base_uri": "https://localhost:8080/",
          "height": 35
        },
        "outputId": "1df80770-d13c-4842-a1af-073a46bf0c90"
      },
      "source": [
        "arr = numpy.arange(1, 13)\n",
        "arr"
      ],
      "execution_count": null,
      "outputs": [
        {
          "output_type": "execute_result",
          "data": {
            "text/plain": [
              "array([ 1,  2,  3,  4,  5,  6,  7,  8,  9, 10, 11, 12])"
            ]
          },
          "metadata": {
            "tags": []
          },
          "execution_count": 60
        }
      ]
    },
    {
      "cell_type": "code",
      "metadata": {
        "id": "L4tjROCrRBag",
        "colab_type": "code",
        "colab": {
          "base_uri": "https://localhost:8080/",
          "height": 69
        },
        "outputId": "575f481e-da5e-47bd-cfae-4024946da336"
      },
      "source": [
        "# 2차원(3 x 4) 배열로 변형한다.\n",
        "arr.shape = (3, 4)  \n",
        "arr"
      ],
      "execution_count": null,
      "outputs": [
        {
          "output_type": "execute_result",
          "data": {
            "text/plain": [
              "array([[ 1,  2,  3,  4],\n",
              "       [ 5,  6,  7,  8],\n",
              "       [ 9, 10, 11, 12]])"
            ]
          },
          "metadata": {
            "tags": []
          },
          "execution_count": 61
        }
      ]
    },
    {
      "cell_type": "code",
      "metadata": {
        "id": "NddBJ-hIRBai",
        "colab_type": "code",
        "colab": {
          "base_uri": "https://localhost:8080/",
          "height": 69
        },
        "outputId": "4f427d50-3420-4ba9-b23f-1f04f4053b0b"
      },
      "source": [
        "# 8-bit unsigned integer로 형변환한 numpy array를 생성한다.\n",
        "arr.astype('uint8')  "
      ],
      "execution_count": null,
      "outputs": [
        {
          "output_type": "execute_result",
          "data": {
            "text/plain": [
              "array([[ 1,  2,  3,  4],\n",
              "       [ 5,  6,  7,  8],\n",
              "       [ 9, 10, 11, 12]], dtype=uint8)"
            ]
          },
          "metadata": {
            "tags": []
          },
          "execution_count": 62
        }
      ]
    },
    {
      "cell_type": "code",
      "metadata": {
        "id": "kjjSzWE6RBaj",
        "colab_type": "code",
        "colab": {
          "base_uri": "https://localhost:8080/",
          "height": 69
        },
        "outputId": "e500a246-61eb-4ade-e7c0-f812128d5fb3"
      },
      "source": [
        "# 정수를 문자열로 형변환한 numpy array를 생성한다.\n",
        "arr.astype('str')"
      ],
      "execution_count": null,
      "outputs": [
        {
          "output_type": "execute_result",
          "data": {
            "text/plain": [
              "array([['1', '2', '3', '4'],\n",
              "       ['5', '6', '7', '8'],\n",
              "       ['9', '10', '11', '12']], dtype='<U21')"
            ]
          },
          "metadata": {
            "tags": []
          },
          "execution_count": 63
        }
      ]
    },
    {
      "cell_type": "code",
      "metadata": {
        "id": "FIyKuGKORBam",
        "colab_type": "code",
        "colab": {
          "base_uri": "https://localhost:8080/",
          "height": 35
        },
        "outputId": "4c081fb8-6181-4c2a-d2ba-deda7ea07316"
      },
      "source": [
        "# 문자열을 실수로 형변환한 numpy array를 생성한다.\n",
        "numpy.array(['3.14', '-1.234', '0.9']).astype('float')"
      ],
      "execution_count": null,
      "outputs": [
        {
          "output_type": "execute_result",
          "data": {
            "text/plain": [
              "array([ 3.14 , -1.234,  0.9  ])"
            ]
          },
          "metadata": {
            "tags": []
          },
          "execution_count": 64
        }
      ]
    },
    {
      "cell_type": "markdown",
      "metadata": {
        "id": "jNI6XqjWRBam",
        "colab_type": "text"
      },
      "source": [
        "**참고**\n",
        "- [NumPy 자료형](https://docs.scipy.org/doc/numpy/user/basics.types.html)"
      ]
    },
    {
      "cell_type": "markdown",
      "metadata": {
        "id": "TOTlTCdjRBan",
        "colab_type": "text"
      },
      "source": [
        "|Data Types|Description\n",
        ":-|:-\n",
        "**bool_**|Boolean (True or False) stored as a byte\n",
        "**uint8**|Unsigned integer (0 to 255)\n",
        "**uint16**|Unsigned integer (0 to 65535)\n",
        "**uint32**|Unsigned integer (0 to 4294967295)\n",
        "**uint64**|Unsigned integer (0 to 18446744073709551615)\n",
        "**int_**|Default integer type (same as C long; normally either int64 or int32)\n",
        "**intc**|Identical to C int (normally int32 or int64)\n",
        "**intp**|Integer used for indexing (same as C ssize_t; normally either int32 or int64)\n",
        "**int8**|Byte (-128 to 127)\n",
        "**int16**|Integer (-32768 to 32767)\n",
        "**int32**|Integer (-2147483648 to 2147483647)\n",
        "**int64**|Integer (-9223372036854775808 to 9223372036854775807)\n",
        "**float_**|Shorthand for float64\n",
        "**float16**|Half precision float: sign bit, 5 bits exponent, 10 bits mantissa\n",
        "**float32**|Single precision float: sign bit, 8 bits exponent, 23 bits mantissa\n",
        "**float64**|Double precision float: sign bit, 11 bits exponent, 52 bits mantissa\n",
        "**complex_**|Shorthand for complex128\n",
        "**complex64**|Complex number, represented by two 32-bit floats (real and imaginary components)\n",
        "**complex128**|Complex number, represented by two 64-bit floats (real and imaginary components)\n",
        "\n",
        "<div align='right'><span style='font-size: smaller;'>[출처: https://www.tutorialspoint.com/numpy/numpy_data_types.htm]</span></div>"
      ]
    },
    {
      "cell_type": "markdown",
      "metadata": {
        "id": "ITuHmWviRBan",
        "colab_type": "text"
      },
      "source": [
        "# 배열의 차원"
      ]
    },
    {
      "cell_type": "markdown",
      "metadata": {
        "id": "oRo-VAxwRBan",
        "colab_type": "text"
      },
      "source": [
        "## 차원(rank) : ndim"
      ]
    },
    {
      "cell_type": "markdown",
      "metadata": {
        "id": "mRoOgk_6RBan",
        "colab_type": "text"
      },
      "source": [
        "[numpy.ndarray.**ndim**](https://docs.scipy.org/doc/numpy/reference/generated/numpy.ndarray.ndim.html?highlight=ndarray%20ndim#numpy.ndarray.ndim)\n",
        "- Number of array dimensions.\n",
        "- 배열이 몇 차원인지 알려준다.\n",
        "- 배열의 차원을 **rank**라 부른다."
      ]
    },
    {
      "cell_type": "code",
      "metadata": {
        "id": "Z9o52aXkRBan",
        "colab_type": "code",
        "colab": {
          "base_uri": "https://localhost:8080/",
          "height": 35
        },
        "outputId": "f3ec0b38-eeaf-40f7-d853-797420b41c91"
      },
      "source": [
        "# 1차원(3) 배열을 반환한다. rank = 1\n",
        "arr1 = numpy.array([1, 2, 3])  \n",
        "arr1.ndim"
      ],
      "execution_count": null,
      "outputs": [
        {
          "output_type": "execute_result",
          "data": {
            "text/plain": [
              "1"
            ]
          },
          "metadata": {
            "tags": []
          },
          "execution_count": 65
        }
      ]
    },
    {
      "cell_type": "code",
      "metadata": {
        "id": "pkPeDUH3RBao",
        "colab_type": "code",
        "colab": {
          "base_uri": "https://localhost:8080/",
          "height": 35
        },
        "outputId": "839fb0af-36ee-40ea-a0e0-1ffad5994c7c"
      },
      "source": [
        "# 2차원(2 x 3)배열을 반환한다. rank = 2\n",
        "arr2 = numpy.array([[1, 2, 3], \n",
        "                    [4, 5, 6]])  \n",
        "arr2.ndim"
      ],
      "execution_count": null,
      "outputs": [
        {
          "output_type": "execute_result",
          "data": {
            "text/plain": [
              "2"
            ]
          },
          "metadata": {
            "tags": []
          },
          "execution_count": 66
        }
      ]
    },
    {
      "cell_type": "code",
      "metadata": {
        "id": "iuLZPaHmRBap",
        "colab_type": "code",
        "colab": {
          "base_uri": "https://localhost:8080/",
          "height": 35
        },
        "outputId": "6adff11d-0081-4338-d332-ae3202e7d1e0"
      },
      "source": [
        "# 3차원(3 x 2 x 4) 배열을 반환한다. rank = 3\n",
        "arr3 = numpy.array([[[1, 2, 3, 4], \n",
        "                     [5, 6, 7, 8]],\n",
        "                    \n",
        "                    [[9, 10, 11, 12], \n",
        "                     [13, 14, 15, 16]],\n",
        "                   \n",
        "                    [[17, 18, 19, 20],\n",
        "                     [21, 22, 23, 24]]])  \n",
        "arr3.ndim"
      ],
      "execution_count": null,
      "outputs": [
        {
          "output_type": "execute_result",
          "data": {
            "text/plain": [
              "3"
            ]
          },
          "metadata": {
            "tags": []
          },
          "execution_count": 67
        }
      ]
    },
    {
      "cell_type": "markdown",
      "metadata": {
        "id": "am5mmT34RBaq",
        "colab_type": "text"
      },
      "source": [
        "## 차원 형태 : shape"
      ]
    },
    {
      "cell_type": "markdown",
      "metadata": {
        "id": "P0zeG3VVRBaq",
        "colab_type": "text"
      },
      "source": [
        "[numpy.ndarray.**shape**](https://docs.scipy.org/doc/numpy/reference/generated/numpy.ndarray.shape.html?highlight=shape#numpy.ndarray.shape)\n",
        "- Tuple of array dimensions.\n",
        "- 차원 형태를 튜플 자료형으로 알려준다."
      ]
    },
    {
      "cell_type": "code",
      "metadata": {
        "id": "aj3h0tzNRBaq",
        "colab_type": "code",
        "colab": {
          "base_uri": "https://localhost:8080/",
          "height": 35
        },
        "outputId": "c43ac0ed-54cd-4bb6-806a-be93243e3c67"
      },
      "source": [
        "# 1차원(3) 배열을 반환한다.\n",
        "arr1 = numpy.array([1, 2, 3])  \n",
        "arr1.shape"
      ],
      "execution_count": null,
      "outputs": [
        {
          "output_type": "execute_result",
          "data": {
            "text/plain": [
              "(3,)"
            ]
          },
          "metadata": {
            "tags": []
          },
          "execution_count": 68
        }
      ]
    },
    {
      "cell_type": "code",
      "metadata": {
        "id": "A-DgTKHoRBas",
        "colab_type": "code",
        "colab": {
          "base_uri": "https://localhost:8080/",
          "height": 35
        },
        "outputId": "a6af9bb2-bac0-4051-808b-75ed0558f8f9"
      },
      "source": [
        "# 2차원(2 x 3)배열을 반환한다.\n",
        "arr2 = numpy.array([[1, 2, 3], \n",
        "                    [4, 5, 6]])  \n",
        "arr2.shape"
      ],
      "execution_count": null,
      "outputs": [
        {
          "output_type": "execute_result",
          "data": {
            "text/plain": [
              "(2, 3)"
            ]
          },
          "metadata": {
            "tags": []
          },
          "execution_count": 69
        }
      ]
    },
    {
      "cell_type": "code",
      "metadata": {
        "id": "5GQ4lXlKRBat",
        "colab_type": "code",
        "colab": {
          "base_uri": "https://localhost:8080/",
          "height": 35
        },
        "outputId": "2222f83f-cdc9-49b7-f1c8-27e33222be43"
      },
      "source": [
        "# 3차원(3 x 2 x 4) 배열을 반환한다.\n",
        "arr3 = numpy.array([[[1, 2, 3, 4], \n",
        "                     [5, 6, 7, 8]],\n",
        "                    \n",
        "                    [[9, 10, 11, 12], \n",
        "                     [13, 14, 15, 16]],\n",
        "                   \n",
        "                    [[17, 18, 19, 20],\n",
        "                     [21, 22, 23, 24]]])  \n",
        "arr3.shape"
      ],
      "execution_count": null,
      "outputs": [
        {
          "output_type": "execute_result",
          "data": {
            "text/plain": [
              "(3, 2, 4)"
            ]
          },
          "metadata": {
            "tags": []
          },
          "execution_count": 70
        }
      ]
    },
    {
      "cell_type": "markdown",
      "metadata": {
        "id": "S8SQChx8RBa7",
        "colab_type": "text"
      },
      "source": [
        "## 차원 변경 : reshape()"
      ]
    },
    {
      "cell_type": "markdown",
      "metadata": {
        "id": "Jpo9rvCpRBa8",
        "colab_type": "text"
      },
      "source": [
        "[**numpy.ndarray.reshape**](https://docs.scipy.org/doc/numpy/reference/generated/numpy.ndarray.reshape.html#numpy.ndarray.reshape)\n",
        "- **reshape()** 함수로 차원을 변경할 수 있다.\n",
        "- Gives a new shape to an array without changing its data.\n",
        "- ndarray.**reshape**(*shape, order='C'*)\n",
        "    - Refer to **numpy.reshape** for full documentation."
      ]
    },
    {
      "cell_type": "code",
      "metadata": {
        "id": "XfHhXzMARBa8",
        "colab_type": "code",
        "colab": {
          "base_uri": "https://localhost:8080/",
          "height": 35
        },
        "outputId": "375d93ae-3a10-4c92-8995-9729bfc77ed3"
      },
      "source": [
        "# 1차원 배열을 생성한다.\n",
        "arr = numpy.arange(15)\n",
        "arr"
      ],
      "execution_count": null,
      "outputs": [
        {
          "output_type": "execute_result",
          "data": {
            "text/plain": [
              "array([ 0,  1,  2,  3,  4,  5,  6,  7,  8,  9, 10, 11, 12, 13, 14])"
            ]
          },
          "metadata": {
            "tags": []
          },
          "execution_count": 82
        }
      ]
    },
    {
      "cell_type": "code",
      "metadata": {
        "id": "iYBqP7AtRBa-",
        "colab_type": "code",
        "colab": {
          "base_uri": "https://localhost:8080/",
          "height": 69
        },
        "outputId": "95b30450-57e7-43d5-8b89-451bd6699179"
      },
      "source": [
        "# 1차원 배열로 2차원 배열(3 x 5)을 생성한다.\n",
        "arr.reshape(3, 5)"
      ],
      "execution_count": null,
      "outputs": [
        {
          "output_type": "execute_result",
          "data": {
            "text/plain": [
              "array([[ 0,  1,  2,  3,  4],\n",
              "       [ 5,  6,  7,  8,  9],\n",
              "       [10, 11, 12, 13, 14]])"
            ]
          },
          "metadata": {
            "tags": []
          },
          "execution_count": 83
        }
      ]
    },
    {
      "cell_type": "code",
      "metadata": {
        "id": "BzN8FIFfRBbA",
        "colab_type": "code",
        "colab": {
          "base_uri": "https://localhost:8080/",
          "height": 104
        },
        "outputId": "c453131f-eb20-4037-81bd-38872c396994"
      },
      "source": [
        "# 1차원 배열 arr를 2차원 배열(5 x 3)로 바꾼다.\n",
        "arr = arr.reshape(5, 3)\n",
        "arr"
      ],
      "execution_count": null,
      "outputs": [
        {
          "output_type": "execute_result",
          "data": {
            "text/plain": [
              "array([[ 0,  1,  2],\n",
              "       [ 3,  4,  5],\n",
              "       [ 6,  7,  8],\n",
              "       [ 9, 10, 11],\n",
              "       [12, 13, 14]])"
            ]
          },
          "metadata": {
            "tags": []
          },
          "execution_count": 84
        }
      ]
    },
    {
      "cell_type": "code",
      "metadata": {
        "id": "fJ5X7H-VRBbB",
        "colab_type": "code",
        "colab": {
          "base_uri": "https://localhost:8080/",
          "height": 155
        },
        "outputId": "6801ad9c-8d44-408f-eeb6-81a59c268971"
      },
      "source": [
        "# 1차원 배열을 3차원 배열(3 x 2 x 4)로 바꾼다.\n",
        "arr = numpy.arange(1, 25).reshape(3, 2, 4)\n",
        "arr"
      ],
      "execution_count": null,
      "outputs": [
        {
          "output_type": "execute_result",
          "data": {
            "text/plain": [
              "array([[[ 1,  2,  3,  4],\n",
              "        [ 5,  6,  7,  8]],\n",
              "\n",
              "       [[ 9, 10, 11, 12],\n",
              "        [13, 14, 15, 16]],\n",
              "\n",
              "       [[17, 18, 19, 20],\n",
              "        [21, 22, 23, 24]]])"
            ]
          },
          "metadata": {
            "tags": []
          },
          "execution_count": 85
        }
      ]
    },
    {
      "cell_type": "markdown",
      "metadata": {
        "id": "9VykEHmSRBbK",
        "colab_type": "text"
      },
      "source": [
        "## Lab: 벡터를 행렬로 변환하기"
      ]
    },
    {
      "cell_type": "markdown",
      "metadata": {
        "id": "MeRRAPJORBbK",
        "colab_type": "text"
      },
      "source": [
        "- - -\n",
        "\n",
        "길이 **9**의 벡터(**1**차원 배열)를 생성하고 이를 **3** x **3** 크기의 행렬로 변환한다.\n",
        "\n",
        "- - -\n",
        "\n",
        "**힌트**\n",
        "- NumPy의 **arange()** 함수를 이용해 **0**부터 **8**까지의 정수를 담은 1차원 배열을 생성한다.\n",
        "- 이를 **reshape()** 함수로 2차원 배열로 변환하면 된다."
      ]
    },
    {
      "cell_type": "code",
      "metadata": {
        "id": "2YzZQJDcRBbM",
        "colab_type": "code",
        "colab": {
          "base_uri": "https://localhost:8080/",
          "height": 35
        },
        "outputId": "0d34c592-06c9-40fe-d008-1dcafdd72810"
      },
      "source": [
        "import numpy\n",
        "\n",
        "# 길이 9의 벡터(1차원 배열)를 생성한다.\n",
        "arr = numpy.arange(9)\n",
        "arr"
      ],
      "execution_count": null,
      "outputs": [
        {
          "output_type": "execute_result",
          "data": {
            "text/plain": [
              "array([0, 1, 2, 3, 4, 5, 6, 7, 8])"
            ]
          },
          "metadata": {
            "tags": []
          },
          "execution_count": 90
        }
      ]
    },
    {
      "cell_type": "code",
      "metadata": {
        "id": "NAQpqMwlRBbN",
        "colab_type": "code",
        "colab": {
          "base_uri": "https://localhost:8080/",
          "height": 69
        },
        "outputId": "b46a9bdd-f45f-4452-9b8d-0253d2cbb358"
      },
      "source": [
        "# 길이 9의 벡터(1차원 배열)를 3 x 3 크기의 행렬로 변환한다.\n",
        "arr = arr.reshape(3, 3)\n",
        "arr"
      ],
      "execution_count": null,
      "outputs": [
        {
          "output_type": "execute_result",
          "data": {
            "text/plain": [
              "array([[0, 1, 2],\n",
              "       [3, 4, 5],\n",
              "       [6, 7, 8]])"
            ]
          },
          "metadata": {
            "tags": []
          },
          "execution_count": 91
        }
      ]
    },
    {
      "cell_type": "markdown",
      "metadata": {
        "id": "Kop8dmB_RBbO",
        "colab_type": "text"
      },
      "source": [
        "## Lab: 대각행렬(diagonal matrix)"
      ]
    },
    {
      "cell_type": "markdown",
      "metadata": {
        "id": "NRz1YAtwRBbO",
        "colab_type": "text"
      },
      "source": [
        "- - -\n",
        "\n",
        "길이 **9**의 벡터(**1**차원 배열)를 생성한 후 생성한 행렬을 대각행렬로 변환한다.\n",
        "\n",
        "1. 우선 행렬의 주대각 원소(대각선상에 있는 원소)만 **1**차원 배열로 출력한다.\n",
        "1. **3** x **3** 대각행렬(정사각행렬의 주대각 성분 이외의 모든 성분이 **0**인 행렬)로 변환한다.\n",
        "\n",
        "- - -"
      ]
    },
    {
      "cell_type": "code",
      "metadata": {
        "id": "xN5mUXXkRBbP",
        "colab_type": "code",
        "colab": {
          "base_uri": "https://localhost:8080/",
          "height": 69
        },
        "outputId": "0084993d-9655-4083-9905-8241ad1358cf"
      },
      "source": [
        "import numpy\n",
        "\n",
        "# 길이 9의 벡터(1차원 배열)를 생성한 후 2차원 3 x 3 크기의 행렬로 변환한다.\n",
        "arr = numpy.arange(9).reshape(3, 3)\n",
        "arr"
      ],
      "execution_count": null,
      "outputs": [
        {
          "output_type": "execute_result",
          "data": {
            "text/plain": [
              "array([[0, 1, 2],\n",
              "       [3, 4, 5],\n",
              "       [6, 7, 8]])"
            ]
          },
          "metadata": {
            "tags": []
          },
          "execution_count": 92
        }
      ]
    },
    {
      "cell_type": "code",
      "metadata": {
        "id": "8lSNdcIVRBbR",
        "colab_type": "code",
        "colab": {
          "base_uri": "https://localhost:8080/",
          "height": 35
        },
        "outputId": "2ed9e277-7a15-4ca7-f929-33f123e23775"
      },
      "source": [
        "# 행렬의 주대각 원소(대각선상에 있는 원소)만 1차원 배열로 출력한다.\n",
        "diag = numpy.diag(arr)\n",
        "diag"
      ],
      "execution_count": null,
      "outputs": [
        {
          "output_type": "execute_result",
          "data": {
            "text/plain": [
              "array([0, 4, 8])"
            ]
          },
          "metadata": {
            "tags": []
          },
          "execution_count": 93
        }
      ]
    },
    {
      "cell_type": "code",
      "metadata": {
        "id": "sKJ-VymoRBbS",
        "colab_type": "code",
        "colab": {
          "base_uri": "https://localhost:8080/",
          "height": 69
        },
        "outputId": "5c611271-9485-4e49-c079-805eb5129714"
      },
      "source": [
        "# 3 x 3 대각행렬(정사각행렬의 주대각 성분 이외의 모든 성분이 0인 행렬)로 변환한다.\n",
        "diag_mat = numpy.diag(numpy.diag(arr))\n",
        "diag_mat"
      ],
      "execution_count": null,
      "outputs": [
        {
          "output_type": "execute_result",
          "data": {
            "text/plain": [
              "array([[0, 0, 0],\n",
              "       [0, 4, 0],\n",
              "       [0, 0, 8]])"
            ]
          },
          "metadata": {
            "tags": []
          },
          "execution_count": 94
        }
      ]
    },
    {
      "cell_type": "markdown",
      "metadata": {
        "id": "GJEpEPywRBbS",
        "colab_type": "text"
      },
      "source": [
        "# 기본 연산\n",
        "\n",
        "요소별 합/차/곱/나눗셈/제곱근/지수/불린"
      ]
    },
    {
      "cell_type": "markdown",
      "metadata": {
        "id": "f1SByTofRBbT",
        "colab_type": "text"
      },
      "source": [
        "**NumPy** 기본 연산의 특징\n",
        "- NumPy의 기본 연산자는 배열이 담고 있는 개별 값별로 계산을 한다."
      ]
    },
    {
      "cell_type": "code",
      "metadata": {
        "id": "frNv4vFuRBbT",
        "colab_type": "code",
        "colab": {}
      },
      "source": [
        "arr1 = numpy.array([[1, 2], [3, 4]], dtype = numpy.int_)\n",
        "arr2 = numpy.array([[5, 6], [7, 8]], dtype = numpy.int_)"
      ],
      "execution_count": null,
      "outputs": []
    },
    {
      "cell_type": "code",
      "metadata": {
        "id": "ct75MpPRRBbT",
        "colab_type": "code",
        "colab": {
          "base_uri": "https://localhost:8080/",
          "height": 52
        },
        "outputId": "4e60cef8-d545-4f81-d8ab-c2e228e09067"
      },
      "source": [
        "arr1"
      ],
      "execution_count": null,
      "outputs": [
        {
          "output_type": "execute_result",
          "data": {
            "text/plain": [
              "array([[1, 2],\n",
              "       [3, 4]])"
            ]
          },
          "metadata": {
            "tags": []
          },
          "execution_count": 96
        }
      ]
    },
    {
      "cell_type": "code",
      "metadata": {
        "id": "tJTXIAZARBbU",
        "colab_type": "code",
        "colab": {
          "base_uri": "https://localhost:8080/",
          "height": 52
        },
        "outputId": "129a6d56-6b96-44c0-adc3-1a374adbe692"
      },
      "source": [
        "arr2"
      ],
      "execution_count": null,
      "outputs": [
        {
          "output_type": "execute_result",
          "data": {
            "text/plain": [
              "array([[5, 6],\n",
              "       [7, 8]])"
            ]
          },
          "metadata": {
            "tags": []
          },
          "execution_count": 97
        }
      ]
    },
    {
      "cell_type": "code",
      "metadata": {
        "id": "NSElhSNFRBbW",
        "colab_type": "code",
        "colab": {
          "base_uri": "https://localhost:8080/",
          "height": 52
        },
        "outputId": "7d764ed4-2bbe-4b4e-8540-afc8aa808c92"
      },
      "source": [
        "# > arr1 = [[1 2] [3 4]]\n",
        "# > arr2 = [[5 6] [7 8]] \n",
        "# arr1과 arr2 더하기\n",
        "arr1 + arr2  "
      ],
      "execution_count": null,
      "outputs": [
        {
          "output_type": "execute_result",
          "data": {
            "text/plain": [
              "array([[ 6,  8],\n",
              "       [10, 12]])"
            ]
          },
          "metadata": {
            "tags": []
          },
          "execution_count": 98
        }
      ]
    },
    {
      "cell_type": "code",
      "metadata": {
        "id": "0vq_RrQfRBba",
        "colab_type": "code",
        "colab": {
          "base_uri": "https://localhost:8080/",
          "height": 52
        },
        "outputId": "c20f1f3d-2936-4466-ffb8-37fbc3e4b034"
      },
      "source": [
        "# > arr1 = [[1 2] [3 4]]\n",
        "# > arr2 = [[5 6] [7 8]] \n",
        "# arr1에서 arr2 빼기\n",
        "arr1 - arr2  "
      ],
      "execution_count": null,
      "outputs": [
        {
          "output_type": "execute_result",
          "data": {
            "text/plain": [
              "array([[-4, -4],\n",
              "       [-4, -4]])"
            ]
          },
          "metadata": {
            "tags": []
          },
          "execution_count": 99
        }
      ]
    },
    {
      "cell_type": "code",
      "metadata": {
        "id": "Y4EhJHY6RBbc",
        "colab_type": "code",
        "colab": {
          "base_uri": "https://localhost:8080/",
          "height": 52
        },
        "outputId": "643eb0f2-4359-4a02-dacd-5dca6245d00b"
      },
      "source": [
        "# > arr1 = [[1 2] [3 4]]\n",
        "# > arr2 = [[5 6] [7 8]] \n",
        "# arr1과 arr2 곱하기 : 행렬의 곱연산이 아니다.\n",
        "arr1 * arr2  "
      ],
      "execution_count": null,
      "outputs": [
        {
          "output_type": "execute_result",
          "data": {
            "text/plain": [
              "array([[ 5, 12],\n",
              "       [21, 32]])"
            ]
          },
          "metadata": {
            "tags": []
          },
          "execution_count": 100
        }
      ]
    },
    {
      "cell_type": "code",
      "metadata": {
        "id": "_iR3LhdrRBbg",
        "colab_type": "code",
        "colab": {
          "base_uri": "https://localhost:8080/",
          "height": 52
        },
        "outputId": "c4a089bf-93ea-4239-fd46-33a176330947"
      },
      "source": [
        "# > arr1 = [[1 2] [3 4]]\n",
        "# > arr2 = [[5 6] [7 8]] \n",
        "# arr1를 arr2로 나누기\n",
        "arr1 / arr2  "
      ],
      "execution_count": null,
      "outputs": [
        {
          "output_type": "execute_result",
          "data": {
            "text/plain": [
              "array([[0.2       , 0.33333333],\n",
              "       [0.42857143, 0.5       ]])"
            ]
          },
          "metadata": {
            "tags": []
          },
          "execution_count": 101
        }
      ]
    },
    {
      "cell_type": "code",
      "metadata": {
        "id": "pdBJn97MRBbi",
        "colab_type": "code",
        "colab": {
          "base_uri": "https://localhost:8080/",
          "height": 52
        },
        "outputId": "ab3aea29-c326-4758-b156-0c5313d9b98c"
      },
      "source": [
        "# > arr1 = [[1 2] [3 4]]\n",
        "# > arr2 = [[5 6] [7 8]] \n",
        "# arr1를 arr2로 나눈 몫 구하기\n",
        "arr2 // arr1  "
      ],
      "execution_count": null,
      "outputs": [
        {
          "output_type": "execute_result",
          "data": {
            "text/plain": [
              "array([[5, 3],\n",
              "       [2, 2]])"
            ]
          },
          "metadata": {
            "tags": []
          },
          "execution_count": 102
        }
      ]
    },
    {
      "cell_type": "code",
      "metadata": {
        "id": "3rgQTRmNRBbj",
        "colab_type": "code",
        "colab": {
          "base_uri": "https://localhost:8080/",
          "height": 52
        },
        "outputId": "f98786eb-f65e-4f46-c33f-34e832095338"
      },
      "source": [
        "# > arr1 = [[1 2] [3 4]]\n",
        "# > arr2 = [[5 6] [7 8]] \n",
        "# arr1를 arr2로 나눈 나머지 구하기\n",
        "arr2 % arr1  "
      ],
      "execution_count": null,
      "outputs": [
        {
          "output_type": "execute_result",
          "data": {
            "text/plain": [
              "array([[0, 0],\n",
              "       [1, 0]])"
            ]
          },
          "metadata": {
            "tags": []
          },
          "execution_count": 104
        }
      ]
    },
    {
      "cell_type": "code",
      "metadata": {
        "id": "RHGXvSiORBbn",
        "colab_type": "code",
        "colab": {
          "base_uri": "https://localhost:8080/",
          "height": 52
        },
        "outputId": "38ab9887-a093-40af-d05a-6d7ea5809258"
      },
      "source": [
        "# > arr1 = [[1 2] [3 4]]\n",
        "# arr1의 제곱근 구하기\n",
        "numpy.sqrt(arr1)  "
      ],
      "execution_count": null,
      "outputs": [
        {
          "output_type": "execute_result",
          "data": {
            "text/plain": [
              "array([[1.        , 1.41421356],\n",
              "       [1.73205081, 2.        ]])"
            ]
          },
          "metadata": {
            "tags": []
          },
          "execution_count": 105
        }
      ]
    },
    {
      "cell_type": "code",
      "metadata": {
        "id": "NJthdL4_RBbr",
        "colab_type": "code",
        "colab": {
          "base_uri": "https://localhost:8080/",
          "height": 52
        },
        "outputId": "1f4a65ce-1208-4eb1-ad0c-e63047725069"
      },
      "source": [
        "# > arr1 = [[1 2] [3 4]]\n",
        "# 지수 : arr1의 3 승 \n",
        "arr1 ** 3  "
      ],
      "execution_count": null,
      "outputs": [
        {
          "output_type": "execute_result",
          "data": {
            "text/plain": [
              "array([[ 1,  8],\n",
              "       [27, 64]])"
            ]
          },
          "metadata": {
            "tags": []
          },
          "execution_count": 106
        }
      ]
    },
    {
      "cell_type": "code",
      "metadata": {
        "id": "WMcvL-3oRBbs",
        "colab_type": "code",
        "colab": {
          "base_uri": "https://localhost:8080/",
          "height": 52
        },
        "outputId": "b3494bb1-6d4a-44b8-a261-215e9e863ac6"
      },
      "source": [
        "# > arr1 = [[1 2] [3 4]]\n",
        "# > arr2 = [[5 6] [7 8]] \n",
        "# 지수 : arr2의 arr1 승\n",
        "arr2 ** arr1  "
      ],
      "execution_count": null,
      "outputs": [
        {
          "output_type": "execute_result",
          "data": {
            "text/plain": [
              "array([[   5,   36],\n",
              "       [ 343, 4096]])"
            ]
          },
          "metadata": {
            "tags": []
          },
          "execution_count": 107
        }
      ]
    },
    {
      "cell_type": "code",
      "metadata": {
        "id": "d1Lo6hftRBbu",
        "colab_type": "code",
        "colab": {
          "base_uri": "https://localhost:8080/",
          "height": 52
        },
        "outputId": "6045c484-f0e5-44e9-9773-e0d3c9653bac"
      },
      "source": [
        "# > arr2 = [[5 6] [7 8]] \n",
        "# 불린 : arr2의 값 중 7보다 작은 값의 불린 배열\n",
        "arr2 < 7  "
      ],
      "execution_count": null,
      "outputs": [
        {
          "output_type": "execute_result",
          "data": {
            "text/plain": [
              "array([[ True,  True],\n",
              "       [False, False]])"
            ]
          },
          "metadata": {
            "tags": []
          },
          "execution_count": 108
        }
      ]
    },
    {
      "cell_type": "markdown",
      "metadata": {
        "id": "Y9CCW4NIRBbu",
        "colab_type": "text"
      },
      "source": [
        "# 행렬 연산"
      ]
    },
    {
      "cell_type": "markdown",
      "metadata": {
        "id": "cJ0SU5hgRBbv",
        "colab_type": "text"
      },
      "source": [
        "## 행렬 합 : **numpy.sum()**"
      ]
    },
    {
      "cell_type": "markdown",
      "metadata": {
        "id": "i7-z3c2GRBbv",
        "colab_type": "text"
      },
      "source": [
        "[numpy.sum](https://docs.scipy.org/doc/numpy/reference/generated/numpy.sum.html?highlight=sum#numpy.sum)\n",
        "- Sum of array elements over a given axis.\n",
        "- numpy.**sum**(*a, axis=None, dtype=None, out=None, keepdims=<no value>, initial=<no value>, where=<no value>*)\n",
        "    - ***a*** : *array_like*\n",
        "        - Elements to sum.\n",
        "    - ***axis*** : *None or int or tuple of ints*, optional\n",
        "        - Axis or axes along which a sum is performed. \n",
        "        - The default, **axis=None**, will **sum all of the elements** of the input array. \n",
        "        - If axis is **negative** it counts from the last to the first axis.\n",
        "        - If axis is a tuple of ints, a sum is performed on all of the axes specified in the tuple instead of a single axis or all the axes as before.\n",
        "    - Returns:\n",
        "        - sum_along_axis : *ndarray*\n",
        "            - An array with the same shape as *a*, with the specified axis removed. If *a* is a **0-d array**, or if ***axis*** is **None**, a **scalar** is returned. If an ***output*** array is specified, a reference to out is returned.\n",
        "\n",
        "[numpy.ndarray.sum](https://docs.scipy.org/doc/numpy/reference/generated/numpy.ndarray.sum.html?highlight=sum#numpy.ndarray.sum)\n",
        "- Return the sum of the array elements over the given axis.\n",
        "- ndarray.**sum**(*axis=None, dtype=None, out=None, keepdims=False, initial=0, where=True*)\n",
        "    - Refer to [numpy.sum](https://docs.scipy.org/doc/numpy/reference/generated/numpy.sum.html?highlight=sum#numpy.sum) for full documentation.    \n",
        "\n",
        "[numpy.matrix.sum](https://docs.scipy.org/doc/numpy/reference/generated/numpy.matrix.sum.html?highlight=sum#numpy.matrix.sum)\n",
        "- Returns the sum of the matrix elements, along the given axis.\n",
        "- matrix.**sum**(*self, axis=None, dtype=None, out=None*)\n",
        "    - Refer to [numpy.sum](https://docs.scipy.org/doc/numpy/reference/generated/numpy.sum.html?highlight=sum#numpy.sum) for full documentation.    "
      ]
    },
    {
      "cell_type": "code",
      "metadata": {
        "id": "h-LAZWPKRBbv",
        "colab_type": "code",
        "colab": {
          "base_uri": "https://localhost:8080/",
          "height": 69
        },
        "outputId": "51b498ab-92f6-4c84-d606-979ece6e6555"
      },
      "source": [
        "arr = numpy.array([[1, 2], [3, 4], [5, 6]], \n",
        "                  dtype=numpy.float64)\n",
        "arr"
      ],
      "execution_count": null,
      "outputs": [
        {
          "output_type": "execute_result",
          "data": {
            "text/plain": [
              "array([[1., 2.],\n",
              "       [3., 4.],\n",
              "       [5., 6.]])"
            ]
          },
          "metadata": {
            "tags": []
          },
          "execution_count": 109
        }
      ]
    },
    {
      "cell_type": "code",
      "metadata": {
        "id": "f69stdxuRBbx",
        "colab_type": "code",
        "colab": {
          "base_uri": "https://localhost:8080/",
          "height": 35
        },
        "outputId": "ad46eaff-1a0f-43eb-8725-16b9143ba965"
      },
      "source": [
        "# > arr = [[1. 2.]\n",
        "#          [3. 4.]\n",
        "#          [5. 6.]]\n",
        "# arr 모든 값의 합을 구한다.\n",
        "numpy.sum(arr)"
      ],
      "execution_count": null,
      "outputs": [
        {
          "output_type": "execute_result",
          "data": {
            "text/plain": [
              "21.0"
            ]
          },
          "metadata": {
            "tags": []
          },
          "execution_count": 110
        }
      ]
    },
    {
      "cell_type": "code",
      "metadata": {
        "id": "Q73kLutbRBby",
        "colab_type": "code",
        "colab": {
          "base_uri": "https://localhost:8080/",
          "height": 35
        },
        "outputId": "97809c26-fca4-4975-b453-829f36171576"
      },
      "source": [
        "# > arr = [[1. 2.]\n",
        "#          [3. 4.]\n",
        "#          [5. 6.]]\n",
        "# arr의 행 축을 기준으로 각 행의 동일 인덱스에 있는 값의 합을 구한다.  (sum of each column)\n",
        "numpy.sum(arr, axis=0)  "
      ],
      "execution_count": null,
      "outputs": [
        {
          "output_type": "execute_result",
          "data": {
            "text/plain": [
              "array([ 9., 12.])"
            ]
          },
          "metadata": {
            "tags": []
          },
          "execution_count": 111
        }
      ]
    },
    {
      "cell_type": "code",
      "metadata": {
        "id": "A0j6l9HuRBbz",
        "colab_type": "code",
        "colab": {
          "base_uri": "https://localhost:8080/",
          "height": 35
        },
        "outputId": "30c8791f-8daf-4f22-a1e8-865072b9fd2e"
      },
      "source": [
        "# > arr = [[1. 2.]\n",
        "#          [3. 4.]\n",
        "#          [5. 6.]]\n",
        "# arr의 열 축을 기준으로 각 행의 합을 구한다. (sum of each row)\n",
        "numpy.sum(arr, axis=1)  "
      ],
      "execution_count": null,
      "outputs": [
        {
          "output_type": "execute_result",
          "data": {
            "text/plain": [
              "array([ 3.,  7., 11.])"
            ]
          },
          "metadata": {
            "tags": []
          },
          "execution_count": 112
        }
      ]
    },
    {
      "cell_type": "markdown",
      "metadata": {
        "id": "tXUFFtR-RBb0",
        "colab_type": "text"
      },
      "source": [
        "## 내적 및 행렬 곱 : **numpy.dot()**"
      ]
    },
    {
      "cell_type": "markdown",
      "metadata": {
        "id": "VWCQRL1gRBb0",
        "colab_type": "text"
      },
      "source": [
        "**array()** 함수로 다차원 배열을 생성하여 배열 안의 배열로 차원을 구분한다.   \n",
        "\n",
        "[numpy.dot](https://docs.scipy.org/doc/numpy/reference/generated/numpy.dot.html?highlight=dot)  \n",
        "Dot product of two arrays. Specifically,\n",
        "- If **both** *a* and *b* are **1-D arrays**, it is **inner product** of vectors (without complex conjugation).\n",
        "- If **both** *a* and *b* are **2-D arrays**, it is **matrix multiplication**, but using [matmul](https://docs.scipy.org/doc/numpy/reference/generated/numpy.matmul.html#numpy.matmul) or **a @ b** is preferred.\n",
        "- If **either** *a* or *b* is **0-D** (scalar), it is equivalent to [multiply](https://docs.scipy.org/doc/numpy/reference/generated/numpy.multiply.html#numpy.multiply) and using **numpy.multiply(a, b)** or **a * b** is preferred.\n",
        "- If *a* is an **N-D array** and *b* is a **1-D array**, it is a sum product over the last axis of *a* and *b*.\n",
        "- If *a* is an **N-D array** and *b* is an **M-D array** (where M>=2), it is a sum product over the last axis of *a* and the second-to-last axis of *b*:\n",
        "\n",
        "```\n",
        "dot(a, b)[i,j,k,m] = sum(a[i,j,:] * b[k,:,m])\n",
        "```\n",
        "\n",
        "\n",
        "- numpy.**dot**(*a, b, out=None*)\n",
        "    - ***a*** : *array_like*\n",
        "        - First argument.\n",
        "    - ***b*** : *array_like*\n",
        "        - Second argument.\n",
        "    - ***out*** : *ndarray*, optional\n",
        "        - Output argument. This must have the exact kind that would be returned if it was not used. In particular, it must have the right type, must be C-contiguous, and its dtype must be the dtype that would be returned for **dot(a, b)**. This is a performance feature. Therefore, if these conditions are not met, an exception is raised, instead of attempting to be flexible.\n",
        "    - Returns:\n",
        "        - output : *ndarray*\n",
        "            - Returns the dot product of *a* and *b*. If *a* and *b* are *both* **scalars** or *both* **1-D arrays** then a **scalar**( is returned; *otherwise* an **array** is returned. If ***out*** is given, then it is returned.\n",
        "\n",
        "\n",
        "[numpy.ndarray.dot](https://docs.scipy.org/doc/numpy/reference/generated/numpy.ndarray.dot.html?highlight=dot#numpy.ndarray.dot)\n",
        "- Dot product of two arrays.\n",
        "- ndarray.**dot**(*b, out=None*)\n",
        "    - Refer to \n",
        "[numpy.dot](https://docs.scipy.org/doc/numpy/reference/generated/numpy.dot.html?highlight=dot) for full documentation.\n",
        "\n",
        "\n",
        "[numpy.matrix.dot](https://docs.scipy.org/doc/numpy/reference/generated/numpy.matrix.dot.html?highlight=dot#numpy.matrix.dot)\n",
        "- Dot product of two arrays.\n",
        "- matrix.**dot**(*b, out=None*)\n",
        "    - Refer to \n",
        "[numpy.dot](https://docs.scipy.org/doc/numpy/reference/generated/numpy.dot.html?highlight=dot) for full documentation."
      ]
    },
    {
      "cell_type": "code",
      "metadata": {
        "id": "COlo1234RBb2",
        "colab_type": "code",
        "colab": {
          "base_uri": "https://localhost:8080/",
          "height": 35
        },
        "outputId": "5d2787de-8c89-481b-dd65-a9db29bf455f"
      },
      "source": [
        "# --- 둘 다 1차원 벡터면, 벡터의 내적을 구한다.\n",
        "v1 = numpy.array([1, 2])\n",
        "v2 = numpy.array([3, 4])\n",
        "\n",
        "# v1과 v2의 내적을 구한다.\n",
        "numpy.dot(v1, v2)"
      ],
      "execution_count": null,
      "outputs": [
        {
          "output_type": "execute_result",
          "data": {
            "text/plain": [
              "11"
            ]
          },
          "metadata": {
            "tags": []
          },
          "execution_count": 114
        }
      ]
    },
    {
      "cell_type": "code",
      "metadata": {
        "id": "Qu0RYF5VRBb3",
        "colab_type": "code",
        "colab": {
          "base_uri": "https://localhost:8080/",
          "height": 52
        },
        "outputId": "9dc41db9-341e-4668-da7c-e8ccc2c08189"
      },
      "source": [
        "# -- 둘 다 2차원 행렬이면, 행렬의 곱 연산을 구한다.\n",
        "arr1 = numpy.array([[1, 2], [3, 4]], dtype=numpy.float_)\n",
        "arr2 = numpy.array([[5, 6], [7, 8]], dtype=numpy.float_)\n",
        "\n",
        "# arr1과 arr2의 행렬 곱을 구한다.\n",
        "numpy.dot(arr1, arr2)"
      ],
      "execution_count": null,
      "outputs": [
        {
          "output_type": "execute_result",
          "data": {
            "text/plain": [
              "array([[19., 22.],\n",
              "       [43., 50.]])"
            ]
          },
          "metadata": {
            "tags": []
          },
          "execution_count": 115
        }
      ]
    },
    {
      "cell_type": "code",
      "metadata": {
        "id": "GqelPzLdRBb5",
        "colab_type": "code",
        "colab": {
          "base_uri": "https://localhost:8080/",
          "height": 52
        },
        "outputId": "c5d34bc3-b43f-4aa7-9155-13b9b5434ab4"
      },
      "source": [
        "# > arr1 = [[1. 2.] \n",
        "#           [3. 4.]]\n",
        "# > arr2 = [[5. 6.] \n",
        "#           [7. 8.]]\n",
        "# 행렬 곱 연산은 dot()보다 matmul()이나 @가 좋다.\n",
        "# matmul()을 사용하여 arr1과 arr2의 행렬 곱을 구한다.\n",
        "numpy.matmul(arr1, arr2)"
      ],
      "execution_count": null,
      "outputs": [
        {
          "output_type": "execute_result",
          "data": {
            "text/plain": [
              "array([[19., 22.],\n",
              "       [43., 50.]])"
            ]
          },
          "metadata": {
            "tags": []
          },
          "execution_count": 116
        }
      ]
    },
    {
      "cell_type": "code",
      "metadata": {
        "id": "u6LWbAAXRBb7",
        "colab_type": "code",
        "colab": {
          "base_uri": "https://localhost:8080/",
          "height": 52
        },
        "outputId": "fe8bcebc-fcfd-4979-9d39-59a81bb9f265"
      },
      "source": [
        "# > arr1 = [[1. 2.] \n",
        "#           [3. 4.]]\n",
        "# > arr2 = [[5. 6.] \n",
        "#           [7. 8.]]\n",
        "# 행렬 곱 연산은 dot()보다 matmul()이나 @가 좋다.\n",
        "# @를 사용하여 arr1과 arr2의 행렬 곱을 구한다.\n",
        "arr1 @ arr2"
      ],
      "execution_count": null,
      "outputs": [
        {
          "output_type": "execute_result",
          "data": {
            "text/plain": [
              "array([[19., 22.],\n",
              "       [43., 50.]])"
            ]
          },
          "metadata": {
            "tags": []
          },
          "execution_count": 117
        }
      ]
    },
    {
      "cell_type": "code",
      "metadata": {
        "id": "n8LgMn00RBb8",
        "colab_type": "code",
        "colab": {
          "base_uri": "https://localhost:8080/",
          "height": 52
        },
        "outputId": "3b525686-f5a9-4e0f-ab1d-4b5fce53ebe1"
      },
      "source": [
        "# > arr1 = [[1. 2.] \n",
        "#           [3. 4.]]\n",
        "# 둘 중 하나가 스카라면, 요소별 곱 연산을 구한다.\n",
        "# (방법 1) arr1에 5를 곱한다.\n",
        "numpy.dot(arr1, 5)"
      ],
      "execution_count": null,
      "outputs": [
        {
          "output_type": "execute_result",
          "data": {
            "text/plain": [
              "array([[ 5., 10.],\n",
              "       [15., 20.]])"
            ]
          },
          "metadata": {
            "tags": []
          },
          "execution_count": 118
        }
      ]
    },
    {
      "cell_type": "code",
      "metadata": {
        "id": "NI7Y0fuARBb_",
        "colab_type": "code",
        "colab": {
          "base_uri": "https://localhost:8080/",
          "height": 52
        },
        "outputId": "cd77f9c7-9c7a-437e-cc07-634532e15a63"
      },
      "source": [
        "# > arr1 = [[1. 2.] \n",
        "#           [3. 4.]]\n",
        "# 둘 중 하나가 스카라면, 요소별 곱 연산을 구한다.\n",
        "# (방법 2) arr1에 5를 곱한다.\n",
        "arr1.dot(5)"
      ],
      "execution_count": null,
      "outputs": [
        {
          "output_type": "execute_result",
          "data": {
            "text/plain": [
              "array([[ 5., 10.],\n",
              "       [15., 20.]])"
            ]
          },
          "metadata": {
            "tags": []
          },
          "execution_count": 119
        }
      ]
    },
    {
      "cell_type": "markdown",
      "metadata": {
        "id": "OmoFWdUnRBcB",
        "colab_type": "text"
      },
      "source": [
        "### 곱하기 연산 비교"
      ]
    },
    {
      "cell_type": "code",
      "metadata": {
        "id": "P_W_WS9DRBcB",
        "colab_type": "code",
        "colab": {}
      },
      "source": [
        "arr1 = numpy.array([[-1, 0], [1, 2]])\n",
        "arr2 = numpy.array([[3, 4], [-5, 1]])"
      ],
      "execution_count": null,
      "outputs": []
    },
    {
      "cell_type": "code",
      "metadata": {
        "id": "l4h1AXCIRBcB",
        "colab_type": "code",
        "colab": {},
        "outputId": "ea921ab4-00d9-4b59-fa3e-347eac2a6221"
      },
      "source": [
        "arr1"
      ],
      "execution_count": null,
      "outputs": [
        {
          "output_type": "execute_result",
          "data": {
            "text/plain": [
              "array([[-1,  0],\n",
              "       [ 1,  2]])"
            ]
          },
          "metadata": {
            "tags": []
          },
          "execution_count": 9
        }
      ]
    },
    {
      "cell_type": "code",
      "metadata": {
        "id": "ZZTYsz0YRBcC",
        "colab_type": "code",
        "colab": {},
        "outputId": "8c67f5bc-49ce-4f4f-f842-61bd1e2a94e0"
      },
      "source": [
        "arr2"
      ],
      "execution_count": null,
      "outputs": [
        {
          "output_type": "execute_result",
          "data": {
            "text/plain": [
              "array([[ 3,  4],\n",
              "       [-5,  1]])"
            ]
          },
          "metadata": {
            "tags": []
          },
          "execution_count": 10
        }
      ]
    },
    {
      "cell_type": "code",
      "metadata": {
        "id": "ZhF6AVHTRBcE",
        "colab_type": "code",
        "colab": {
          "base_uri": "https://localhost:8080/",
          "height": 52
        },
        "outputId": "23a391e1-5486-4699-f2d3-1ca45b450ecd"
      },
      "source": [
        "# > arr1 = [[-1  0]\n",
        "#           [ 1  2]]\n",
        "# > arr2 = [[ 3  4]\n",
        "#           [-5  1]]\n",
        "# arr1와 arr2를 요소별 곱하기\n",
        "arr1 * arr2  "
      ],
      "execution_count": null,
      "outputs": [
        {
          "output_type": "execute_result",
          "data": {
            "text/plain": [
              "array([[ 5., 12.],\n",
              "       [21., 32.]])"
            ]
          },
          "metadata": {
            "tags": []
          },
          "execution_count": 120
        }
      ]
    },
    {
      "cell_type": "code",
      "metadata": {
        "id": "O0xmdAuRRBcF",
        "colab_type": "code",
        "colab": {
          "base_uri": "https://localhost:8080/",
          "height": 52
        },
        "outputId": "25a54cee-38d3-4864-ec31-ece08a9cd88b"
      },
      "source": [
        "# > arr1 = [[-1  0]\n",
        "#           [ 1  2]]\n",
        "# > arr2 = [[ 3  4]\n",
        "#           [-5  1]]\n",
        "# arr2와 arr1을 요소별 곱하기\n",
        "arr2 * arr1"
      ],
      "execution_count": null,
      "outputs": [
        {
          "output_type": "execute_result",
          "data": {
            "text/plain": [
              "array([[ 5., 12.],\n",
              "       [21., 32.]])"
            ]
          },
          "metadata": {
            "tags": []
          },
          "execution_count": 121
        }
      ]
    },
    {
      "cell_type": "code",
      "metadata": {
        "id": "1zNlzzTORBcG",
        "colab_type": "code",
        "colab": {
          "base_uri": "https://localhost:8080/",
          "height": 52
        },
        "outputId": "548de547-f108-482f-c4d9-b4f5adcb134f"
      },
      "source": [
        "# > arr1 = [[-1  0]\n",
        "#           [ 1  2]]\n",
        "# > arr2 = [[ 3  4]\n",
        "#           [-5  1]]\n",
        "# arr1과 arr2를 행렬 곱하기\n",
        "numpy.dot(arr1, arr2)"
      ],
      "execution_count": null,
      "outputs": [
        {
          "output_type": "execute_result",
          "data": {
            "text/plain": [
              "array([[19., 22.],\n",
              "       [43., 50.]])"
            ]
          },
          "metadata": {
            "tags": []
          },
          "execution_count": 122
        }
      ]
    },
    {
      "cell_type": "code",
      "metadata": {
        "id": "H-p4D-MeRBcI",
        "colab_type": "code",
        "colab": {
          "base_uri": "https://localhost:8080/",
          "height": 52
        },
        "outputId": "5dbe2a57-bf7e-4a25-e37d-3a07f8ed5fea"
      },
      "source": [
        "# > arr1 = [[-1  0]\n",
        "#           [ 1  2]]\n",
        "# > arr2 = [[ 3  4]\n",
        "#           [-5  1]]\n",
        "# arr2와 arr1을 행렬 곱하기\n",
        "numpy.dot(arr2, arr1)"
      ],
      "execution_count": null,
      "outputs": [
        {
          "output_type": "execute_result",
          "data": {
            "text/plain": [
              "array([[23., 34.],\n",
              "       [31., 46.]])"
            ]
          },
          "metadata": {
            "tags": []
          },
          "execution_count": 123
        }
      ]
    },
    {
      "cell_type": "code",
      "metadata": {
        "id": "9EeYo_rRRBcJ",
        "colab_type": "code",
        "colab": {
          "base_uri": "https://localhost:8080/",
          "height": 52
        },
        "outputId": "7f5da890-4258-4a48-f3a3-7cf33c240f5f"
      },
      "source": [
        "# > arr1 = [[-1  0]\n",
        "#           [ 1  2]]\n",
        "# > arr2 = [[ 3  4]\n",
        "#           [-5  1]]\n",
        "# arr1에 arr2를 행렬 곱하기\n",
        "arr1.dot(arr2)"
      ],
      "execution_count": null,
      "outputs": [
        {
          "output_type": "execute_result",
          "data": {
            "text/plain": [
              "array([[19., 22.],\n",
              "       [43., 50.]])"
            ]
          },
          "metadata": {
            "tags": []
          },
          "execution_count": 124
        }
      ]
    },
    {
      "cell_type": "code",
      "metadata": {
        "id": "ZIKod6xuRBcL",
        "colab_type": "code",
        "colab": {
          "base_uri": "https://localhost:8080/",
          "height": 52
        },
        "outputId": "80e7ebdd-4397-4b23-e9bc-30b8c293aa75"
      },
      "source": [
        "# > arr1 = [[-1  0]\n",
        "#           [ 1  2]]\n",
        "# > arr2 = [[ 3  4]\n",
        "#           [-5  1]]\n",
        "# arr2에 arr1을 행렬 곱하기\n",
        "arr2.dot(arr1)"
      ],
      "execution_count": null,
      "outputs": [
        {
          "output_type": "execute_result",
          "data": {
            "text/plain": [
              "array([[23., 34.],\n",
              "       [31., 46.]])"
            ]
          },
          "metadata": {
            "tags": []
          },
          "execution_count": 125
        }
      ]
    },
    {
      "cell_type": "code",
      "metadata": {
        "id": "AyfIpWLfRBcN",
        "colab_type": "code",
        "colab": {
          "base_uri": "https://localhost:8080/",
          "height": 52
        },
        "outputId": "1eae9c47-7195-479f-e863-57ba2ac0c69f"
      },
      "source": [
        "# > arr1 = [[-1  0]\n",
        "#           [ 1  2]]\n",
        "# > arr2 = [[ 3  4]\n",
        "#           [-5  1]]\n",
        "# arr1와 arr2를 @로 행렬 곱하기(since Python 3.5)\n",
        "arr1 @ arr2"
      ],
      "execution_count": null,
      "outputs": [
        {
          "output_type": "execute_result",
          "data": {
            "text/plain": [
              "array([[19., 22.],\n",
              "       [43., 50.]])"
            ]
          },
          "metadata": {
            "tags": []
          },
          "execution_count": 126
        }
      ]
    },
    {
      "cell_type": "code",
      "metadata": {
        "id": "6xuz-v-MRBcO",
        "colab_type": "code",
        "colab": {
          "base_uri": "https://localhost:8080/",
          "height": 52
        },
        "outputId": "aeb13374-37e2-4ca8-93cd-97ad82a67f13"
      },
      "source": [
        "# > arr1 = [[-1  0]\n",
        "#           [ 1  2]]\n",
        "# > arr2 = [[ 3  4]\n",
        "#           [-5  1]]\n",
        "# arr2와 arr1을 @로 행렬 곱하기(since Python 3.5)\n",
        "arr2 @ arr1"
      ],
      "execution_count": null,
      "outputs": [
        {
          "output_type": "execute_result",
          "data": {
            "text/plain": [
              "array([[23., 34.],\n",
              "       [31., 46.]])"
            ]
          },
          "metadata": {
            "tags": []
          },
          "execution_count": 127
        }
      ]
    },
    {
      "cell_type": "markdown",
      "metadata": {
        "id": "8kmX-kQIRBcP",
        "colab_type": "text"
      },
      "source": [
        "## 행렬의 전치 연산"
      ]
    },
    {
      "cell_type": "markdown",
      "metadata": {
        "id": "WF93RTNRRBcP",
        "colab_type": "text"
      },
      "source": [
        "[numpy.ndarray.transpose](https://docs.scipy.org/doc/numpy/reference/generated/numpy.ndarray.transpose.html?highlight=.t#numpy.ndarray.transpose)\n",
        "- Returns a view of the array with axes transposed.\n",
        "- For a **1-D array** this has no effect, as a transposed vector is simply the same vector. \n",
        "    - To convert a 1-D array into a 2D column vector, an additional dimension must be added. **np.atleast2d(a).T** achieves this, as does **a[:, np.newaxis]**. \n",
        "- For a **2-D array**, this is a standard matrix transpose. \n",
        "- For an **n-D array**, if axes are given, their order indicates how the axes are permuted (see Examples). \n",
        "- If axes are not provided and `a.shape = (i[0], i[1], ... i[n-2], i[n-1])`, then `a.transpose().shape = (i[n-1], i[n-2], ... i[1], i[0])`.\n",
        "- ndarray.**transpose**(<i>*axes<\\i>)\n",
        "    - ***axes*** : *None, tuple of ints, or n ints*\n",
        "        - **None** or no argument: reverses the order of the axes.\n",
        "        - tuple of ints: *i* in the *j*-th place in the tuple means *a*’s *i*-th axis becomes **a.transpose()’s *j*-th** axis.\n",
        "        - *n* ints: same as an *n*-tuple of the same ints (this form is intended simply as a “convenience” alternative to the tuple form)\n",
        "    - Returns:\n",
        "        - out : *ndarray*\n",
        "            - View of *a*, with axes suitably permuted.\n",
        "\n",
        "[numpy.ndarray.T](https://docs.scipy.org/doc/numpy/reference/generated/numpy.ndarray.T.html?highlight=.t#numpy.ndarray.T)\n",
        "- Attribute\n",
        "- The transposed array.\n",
        "- ndarray.**T**\n",
        "    - see also [transpose](https://docs.scipy.org/doc/numpy/reference/generated/numpy.transpose.html#numpy.transpose)\n",
        "    \n",
        "[numpy.matrix.T](https://docs.scipy.org/doc/numpy/reference/generated/numpy.matrix.T.html?highlight=.t#numpy.matrix.T)    \n",
        "- Attribute\n",
        "- Returns the transpose of the matrix.\n",
        "- Does not conjugate! For the complex conjugate transpose, use **.H**."
      ]
    },
    {
      "cell_type": "code",
      "metadata": {
        "id": "thwsqQc9RBcP",
        "colab_type": "code",
        "colab": {},
        "outputId": "59f21a91-2aa1-44c8-caf8-1782776d180a"
      },
      "source": [
        "arr = numpy.array([[1, 2], [3, 4], [5, 6]], \n",
        "                  dtype=numpy.float_)\n",
        "arr"
      ],
      "execution_count": null,
      "outputs": [
        {
          "output_type": "execute_result",
          "data": {
            "text/plain": [
              "array([[1., 2.],\n",
              "       [3., 4.],\n",
              "       [5., 6.]])"
            ]
          },
          "metadata": {
            "tags": []
          },
          "execution_count": 22
        }
      ]
    },
    {
      "cell_type": "code",
      "metadata": {
        "id": "Ca5Wqx7pRBcS",
        "colab_type": "code",
        "colab": {
          "base_uri": "https://localhost:8080/",
          "height": 52
        },
        "outputId": "99bb7b4c-0018-4a82-bbb6-c7bb81b6c341"
      },
      "source": [
        "# > arr = [[1. 2.]\n",
        "#          [3. 4.]\n",
        "#          [5. 6.]]\n",
        "# arr의 행과 열을 바꾼다.\n",
        "arr.T "
      ],
      "execution_count": null,
      "outputs": [
        {
          "output_type": "execute_result",
          "data": {
            "text/plain": [
              "array([[1., 3., 5.],\n",
              "       [2., 4., 6.]])"
            ]
          },
          "metadata": {
            "tags": []
          },
          "execution_count": 128
        }
      ]
    },
    {
      "cell_type": "markdown",
      "metadata": {
        "id": "v451zTPzRBcW",
        "colab_type": "text"
      },
      "source": [
        "# 넘파이 배열 함수\n",
        "\n",
        "**sum()**, **mean()**, **max()**, **min()**, **std()**, **var()**"
      ]
    },
    {
      "cell_type": "markdown",
      "metadata": {
        "id": "0jeRyOwJRBcW",
        "colab_type": "text"
      },
      "source": [
        "[numpy.sort](https://docs.scipy.org/doc/numpy/reference/generated/numpy.sort.html#numpy.sort)\n",
        "- Return a sorted copy of an array.\n",
        "- numpy.**sort**(<i>\\*, axis=-1, kind=None, order=None</i>)\n",
        "    - ***a*** : *array_like*\n",
        "        - Array to be sorted.\n",
        "    - ***axis*** : *int or None, optional*\n",
        "        - Axis along which to sort. \n",
        "        - If **None**, the array is flattened before sorting. \n",
        "        - The default is -1, which sorts along the last axis.\n",
        "    - ***kind*** : *{‘quicksort’, ‘mergesort’, ‘heapsort’, ‘stable’}, optional*\n",
        "        - Sorting algorithm. The default is ‘quicksort’. Note that both ‘stable’ and ‘mergesort’ use timsort or radix sort under the covers and, in general, the actual implementation will vary with data type. The ‘mergesort’ option is retained for backwards compatibility.\n",
        "    - ***order*** : *str or list of str, optional*\n",
        "        - When ***a*** is an array with fields defined, this argument specifies which fields to compare first, second, etc. A single field can be specified as a string, and not all fields need be specified, but unspecified fields will still be used, in the order in which they come up in the dtype, to break ties."
      ]
    },
    {
      "cell_type": "code",
      "metadata": {
        "id": "SOGhYKNeRBcX",
        "colab_type": "code",
        "colab": {
          "base_uri": "https://localhost:8080/",
          "height": 52
        },
        "outputId": "ee3d7215-ce6f-4694-9ae1-336afecb0635"
      },
      "source": [
        "numpy.random.seed(7)\n",
        "arr1 = numpy.random.random((2, 3))\n",
        "arr1"
      ],
      "execution_count": null,
      "outputs": [
        {
          "output_type": "execute_result",
          "data": {
            "text/plain": [
              "array([[0.07630829, 0.77991879, 0.43840923],\n",
              "       [0.72346518, 0.97798951, 0.53849587]])"
            ]
          },
          "metadata": {
            "tags": []
          },
          "execution_count": 130
        }
      ]
    },
    {
      "cell_type": "code",
      "metadata": {
        "id": "i0vbKCTVRBcY",
        "colab_type": "code",
        "colab": {
          "base_uri": "https://localhost:8080/",
          "height": 35
        },
        "outputId": "0a7fd842-1313-4c02-8ae5-ba7274ec9e8d"
      },
      "source": [
        "# arr1의 합을 구한다.\n",
        "arr1.sum()  # numpy.sum(arr1)와 같다."
      ],
      "execution_count": null,
      "outputs": [
        {
          "output_type": "execute_result",
          "data": {
            "text/plain": [
              "3.534586873292943"
            ]
          },
          "metadata": {
            "tags": []
          },
          "execution_count": 131
        }
      ]
    },
    {
      "cell_type": "code",
      "metadata": {
        "id": "ZYtl4ieKRBcZ",
        "colab_type": "code",
        "colab": {
          "base_uri": "https://localhost:8080/",
          "height": 35
        },
        "outputId": "b02290db-ea0d-4f84-856b-b9bd0e150522"
      },
      "source": [
        "# arr1의 평균을 구한다.\n",
        "arr1.mean()  # numpy.mean(arr1)와 같다."
      ],
      "execution_count": null,
      "outputs": [
        {
          "output_type": "execute_result",
          "data": {
            "text/plain": [
              "0.5890978122154905"
            ]
          },
          "metadata": {
            "tags": []
          },
          "execution_count": 132
        }
      ]
    },
    {
      "cell_type": "code",
      "metadata": {
        "id": "C_Xq5ddkRBca",
        "colab_type": "code",
        "colab": {
          "base_uri": "https://localhost:8080/",
          "height": 35
        },
        "outputId": "a66b0599-94b4-4acf-a84f-29a8ba726e1c"
      },
      "source": [
        "# arr1의 최댓값을 조회한다.\n",
        "arr1.max()  # numpy.max(arr1)와 같다."
      ],
      "execution_count": null,
      "outputs": [
        {
          "output_type": "execute_result",
          "data": {
            "text/plain": [
              "0.9779895119966027"
            ]
          },
          "metadata": {
            "tags": []
          },
          "execution_count": 133
        }
      ]
    },
    {
      "cell_type": "code",
      "metadata": {
        "id": "_739eqJ6RBcb",
        "colab_type": "code",
        "colab": {
          "base_uri": "https://localhost:8080/",
          "height": 35
        },
        "outputId": "3ed98a18-3625-4303-c928-faf9d79c3a9b"
      },
      "source": [
        "# arr1의 최솟값을 조회한다.\n",
        "arr1.min()  # numpy.min(arr1)와 같다."
      ],
      "execution_count": null,
      "outputs": [
        {
          "output_type": "execute_result",
          "data": {
            "text/plain": [
              "0.07630828937395717"
            ]
          },
          "metadata": {
            "tags": []
          },
          "execution_count": 134
        }
      ]
    },
    {
      "cell_type": "code",
      "metadata": {
        "id": "x3NlOC9IRBcc",
        "colab_type": "code",
        "colab": {
          "base_uri": "https://localhost:8080/",
          "height": 35
        },
        "outputId": "9e083e33-d766-4709-8551-301846fe8d6d"
      },
      "source": [
        "# arr1의 표준편차를 구한다.\n",
        "arr1.std()  # numpy.std(arr1)와 같다."
      ],
      "execution_count": null,
      "outputs": [
        {
          "output_type": "execute_result",
          "data": {
            "text/plain": [
              "0.2869159833891532"
            ]
          },
          "metadata": {
            "tags": []
          },
          "execution_count": 135
        }
      ]
    },
    {
      "cell_type": "code",
      "metadata": {
        "id": "ntNJ05GjRBce",
        "colab_type": "code",
        "colab": {
          "base_uri": "https://localhost:8080/",
          "height": 35
        },
        "outputId": "f27f5b1a-bd30-4745-8df9-47f1cb653100"
      },
      "source": [
        "# arr1의 분산을 구한다.\n",
        "arr1.var()  # numpy.var(arr1)와 같다."
      ],
      "execution_count": null,
      "outputs": [
        {
          "output_type": "execute_result",
          "data": {
            "text/plain": [
              "0.08232078152416482"
            ]
          },
          "metadata": {
            "tags": []
          },
          "execution_count": 136
        }
      ]
    },
    {
      "cell_type": "code",
      "metadata": {
        "id": "dUidcV_fRBcf",
        "colab_type": "code",
        "colab": {
          "base_uri": "https://localhost:8080/",
          "height": 52
        },
        "outputId": "5118c078-0347-4018-f986-e3273825e12d"
      },
      "source": [
        "# arr1을 오름차순으로 정렬한다.\n",
        "arr1.sort()  # arr1 = numpy.sort(arr1)와 같다.\n",
        "arr1"
      ],
      "execution_count": null,
      "outputs": [
        {
          "output_type": "execute_result",
          "data": {
            "text/plain": [
              "array([[0.07630829, 0.43840923, 0.77991879],\n",
              "       [0.53849587, 0.72346518, 0.97798951]])"
            ]
          },
          "metadata": {
            "tags": []
          },
          "execution_count": 137
        }
      ]
    },
    {
      "cell_type": "code",
      "metadata": {
        "id": "hXnQgj_yRBcg",
        "colab_type": "code",
        "colab": {
          "base_uri": "https://localhost:8080/",
          "height": 52
        },
        "outputId": "30d220e7-f1ba-4769-ab31-fe5f66996833"
      },
      "source": [
        "# 내림차순으로 정렬한다.\n",
        "arr1[::-1, ::-1].sort()\n",
        "arr1"
      ],
      "execution_count": null,
      "outputs": [
        {
          "output_type": "execute_result",
          "data": {
            "text/plain": [
              "array([[0.77991879, 0.43840923, 0.07630829],\n",
              "       [0.97798951, 0.72346518, 0.53849587]])"
            ]
          },
          "metadata": {
            "tags": []
          },
          "execution_count": 138
        }
      ]
    },
    {
      "cell_type": "code",
      "metadata": {
        "id": "RzY4pwbURBcg",
        "colab_type": "code",
        "colab": {},
        "outputId": "5ec1c56f-1c54-420b-8df2-07faebc198e5"
      },
      "source": [
        "arr2 = numpy.arange(6).reshape(2, 3)\n",
        "arr2"
      ],
      "execution_count": null,
      "outputs": [
        {
          "output_type": "execute_result",
          "data": {
            "text/plain": [
              "array([[0, 1, 2],\n",
              "       [3, 4, 5]])"
            ]
          },
          "metadata": {
            "tags": []
          },
          "execution_count": 5
        }
      ]
    },
    {
      "cell_type": "code",
      "metadata": {
        "id": "KrDszyLKRBci",
        "colab_type": "code",
        "colab": {
          "base_uri": "https://localhost:8080/",
          "height": 35
        },
        "outputId": "609330e2-d250-4ba4-9ddc-778c924c93ba"
      },
      "source": [
        "# > arr2 = [[0, 1, 2], \n",
        "#           [3, 4, 5]]\n",
        "# arr2의 모든 값의 합, \n",
        "# 행 축을 기준으로 각 행의 동일 인덱스에 있는 값의 합, \n",
        "# 열 축을 기준으로 각 행의 합을 각각 구한다.\n",
        "arr2.sum(), arr2.sum(axis=0), arr2.sum(axis=1)"
      ],
      "execution_count": null,
      "outputs": [
        {
          "output_type": "execute_result",
          "data": {
            "text/plain": [
              "(21, array([ 9, 12]), array([ 3,  7, 11]))"
            ]
          },
          "metadata": {
            "tags": []
          },
          "execution_count": 139
        }
      ]
    },
    {
      "cell_type": "code",
      "metadata": {
        "id": "ld8tABwKRBcj",
        "colab_type": "code",
        "colab": {
          "base_uri": "https://localhost:8080/",
          "height": 35
        },
        "outputId": "9c768b37-c05d-4d7c-a288-96cc223f4453"
      },
      "source": [
        "# > arr2 = [[0, 1, 2], \n",
        "#           [3, 4, 5]]\n",
        "# arr2의 모든 값의 평균, \n",
        "# 행 축을 기준으로 각 행의 동일 인덱스에 있는 값의 평균, \n",
        "# 열 축을 기준으로 각 행의 평균을 각각 구한다.\n",
        "arr2.mean(), arr2.mean(axis=0), arr2.mean(axis=1)"
      ],
      "execution_count": null,
      "outputs": [
        {
          "output_type": "execute_result",
          "data": {
            "text/plain": [
              "(3.5, array([3., 4.]), array([1.5, 3.5, 5.5]))"
            ]
          },
          "metadata": {
            "tags": []
          },
          "execution_count": 140
        }
      ]
    },
    {
      "cell_type": "code",
      "metadata": {
        "id": "ZG-zXHQ5RBck",
        "colab_type": "code",
        "colab": {
          "base_uri": "https://localhost:8080/",
          "height": 35
        },
        "outputId": "fe88e776-7116-4bd1-8b29-8b2fafc88594"
      },
      "source": [
        "# > arr2 = [[0, 1, 2], \n",
        "#           [3, 4, 5]]\n",
        "# arr2의 모든 값의 최댓값, \n",
        "# 행 축을 기준으로 각 행의 동일 인덱스에 있는 값의 최댓값, \n",
        "# 열 축을 기준으로 각 행의 최댓값을 각각 구한다.\n",
        "arr2.max(), arr2.max(axis=0), arr2.max(axis=1)"
      ],
      "execution_count": null,
      "outputs": [
        {
          "output_type": "execute_result",
          "data": {
            "text/plain": [
              "(6, array([5, 6]), array([2, 4, 6]))"
            ]
          },
          "metadata": {
            "tags": []
          },
          "execution_count": 141
        }
      ]
    },
    {
      "cell_type": "code",
      "metadata": {
        "id": "aKlDcUbgRBcl",
        "colab_type": "code",
        "colab": {
          "base_uri": "https://localhost:8080/",
          "height": 35
        },
        "outputId": "c6070bdc-767b-4964-e91a-c68daef43b5b"
      },
      "source": [
        "# > arr2 = [[0, 1, 2], \n",
        "#           [3, 4, 5]]\n",
        "# arr2의 모든 값의 최솟값, \n",
        "# 행 축을 기준으로 각 행의 동일 인덱스에 있는 값의 최솟값, \n",
        "# 열 축을 기준으로 각 행의 최솟값을 각각 구한다.\n",
        "arr2.min(), arr2.min(axis=0), arr2.min(axis=1)"
      ],
      "execution_count": null,
      "outputs": [
        {
          "output_type": "execute_result",
          "data": {
            "text/plain": [
              "(1, array([1, 2]), array([1, 3, 5]))"
            ]
          },
          "metadata": {
            "tags": []
          },
          "execution_count": 142
        }
      ]
    },
    {
      "cell_type": "code",
      "metadata": {
        "id": "Dul3S5B4RBcm",
        "colab_type": "code",
        "colab": {
          "base_uri": "https://localhost:8080/",
          "height": 35
        },
        "outputId": "4a3323ef-5e89-4c09-e075-116d29a773d9"
      },
      "source": [
        "# > arr2 = [[0, 1, 2], \n",
        "#           [3, 4, 5]]\n",
        "# arr2의 모든 값의 표준편차, \n",
        "# 행 축을 기준으로 각 행의 동일 인덱스에 있는 값의 표준편차, \n",
        "# 열 축을 기준으로 각 행의 표준편차를 각각 구한다.\n",
        "arr2.std(), arr2.std(axis=0), arr2.std(axis=1)"
      ],
      "execution_count": null,
      "outputs": [
        {
          "output_type": "execute_result",
          "data": {
            "text/plain": [
              "(1.707825127659933, array([1.63299316, 1.63299316]), array([0.5, 0.5, 0.5]))"
            ]
          },
          "metadata": {
            "tags": []
          },
          "execution_count": 143
        }
      ]
    },
    {
      "cell_type": "code",
      "metadata": {
        "id": "esyLn9uHRBcn",
        "colab_type": "code",
        "colab": {
          "base_uri": "https://localhost:8080/",
          "height": 69
        },
        "outputId": "b333cb52-23d5-492a-ec4d-85556e0f4e85"
      },
      "source": [
        "# > arr2 = [[0, 1, 2], \n",
        "#           [3, 4, 5]]\n",
        "# arr2의 모든 값의 분산, \n",
        "# 행 축을 기준으로 각 행의 동일 인덱스에 있는 값의 분산, \n",
        "# 열 축을 기준으로 각 행의 분산을 각각 구한다.\n",
        "arr2.var(), arr2.var(axis=0), arr2.var(axis=1)"
      ],
      "execution_count": null,
      "outputs": [
        {
          "output_type": "execute_result",
          "data": {
            "text/plain": [
              "(2.9166666666666665,\n",
              " array([2.66666667, 2.66666667]),\n",
              " array([0.25, 0.25, 0.25]))"
            ]
          },
          "metadata": {
            "tags": []
          },
          "execution_count": 144
        }
      ]
    },
    {
      "cell_type": "markdown",
      "metadata": {
        "id": "MBK5pKbnRBcn",
        "colab_type": "text"
      },
      "source": [
        "## Lab: 행렬 정규화(normalization)"
      ]
    },
    {
      "cell_type": "markdown",
      "metadata": {
        "id": "xs0-jdIVRBcn",
        "colab_type": "text"
      },
      "source": [
        "- - -\n",
        "\n",
        "정수로 이루어진 **5** x **5** 행렬을 만들고 이를 정규화해본다.\n",
        "\n",
        "1. **randint()** 함수를 이용해 **1**부터 **100** 사이의 정수로 이루어진 행렬을 생성한다.\n",
        "1. 행렬 내의 값들을 정규화한다.\n",
        "\n",
        "- - -"
      ]
    },
    {
      "cell_type": "markdown",
      "metadata": {
        "id": "LUQqLuCiRBco",
        "colab_type": "text"
      },
      "source": [
        "**힌트**\n",
        "\n",
        "$ \\text{normalzed-value} = \\frac{\\text{value }-\\text{ minvalue}} {\\text{maxvalue }-\\text{ minvalue}} $\n"
      ]
    },
    {
      "cell_type": "code",
      "metadata": {
        "id": "Fa3sXdwNRBcp",
        "colab_type": "code",
        "colab": {
          "base_uri": "https://localhost:8080/",
          "height": 104
        },
        "outputId": "e20c757d-eaaa-40fd-a029-145f8e402133"
      },
      "source": [
        "import numpy\n",
        "\n",
        "# 임의의 정수로 이루어진 2차원 5 x 5 행렬을 생성한다.\n",
        "arr = numpy.random.randint(1, 100, size=(5, 5))\n",
        "arr"
      ],
      "execution_count": null,
      "outputs": [
        {
          "output_type": "execute_result",
          "data": {
            "text/plain": [
              "array([[73, 90, 43, 91,  9],\n",
              "       [40, 69, 49,  8, 45],\n",
              "       [ 1, 76, 56,  7, 20],\n",
              "       [61, 45, 64, 70, 57],\n",
              "       [25, 56, 54, 62, 65]])"
            ]
          },
          "metadata": {
            "tags": []
          },
          "execution_count": 145
        }
      ]
    },
    {
      "cell_type": "code",
      "metadata": {
        "id": "7geaQ9nLRBcp",
        "colab_type": "code",
        "colab": {
          "base_uri": "https://localhost:8080/",
          "height": 104
        },
        "outputId": "13163c7d-5f4f-454f-df67-def50d1fe7d2"
      },
      "source": [
        "# 행렬 내의 값들을 정규화한다.\n",
        "arrMax, arrMin = arr.max(), arr.min()\n",
        "arr_normalized = (arr - arrMin) / (arrMax - arrMin)\n",
        "arr_normalized"
      ],
      "execution_count": null,
      "outputs": [
        {
          "output_type": "execute_result",
          "data": {
            "text/plain": [
              "array([[0.8       , 0.98888889, 0.46666667, 1.        , 0.08888889],\n",
              "       [0.43333333, 0.75555556, 0.53333333, 0.07777778, 0.48888889],\n",
              "       [0.        , 0.83333333, 0.61111111, 0.06666667, 0.21111111],\n",
              "       [0.66666667, 0.48888889, 0.7       , 0.76666667, 0.62222222],\n",
              "       [0.26666667, 0.61111111, 0.58888889, 0.67777778, 0.71111111]])"
            ]
          },
          "metadata": {
            "tags": []
          },
          "execution_count": 146
        }
      ]
    },
    {
      "cell_type": "markdown",
      "metadata": {
        "id": "xIwmPTD8RBcq",
        "colab_type": "text"
      },
      "source": [
        "- - -\n",
        "\n",
        "# <font color='red'>THE END</font>"
      ]
    }
  ]
}