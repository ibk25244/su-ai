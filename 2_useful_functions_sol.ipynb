{
  "nbformat": 4,
  "nbformat_minor": 0,
  "metadata": {
    "hide_input": false,
    "kernelspec": {
      "name": "python3",
      "display_name": "Python 3"
    },
    "language_info": {
      "codemirror_mode": {
        "name": "ipython",
        "version": 3
      },
      "file_extension": ".py",
      "mimetype": "text/x-python",
      "name": "python",
      "nbconvert_exporter": "python",
      "pygments_lexer": "ipython3",
      "version": "3.8.1"
    },
    "toc": {
      "base_numbering": 1,
      "nav_menu": {},
      "number_sections": true,
      "sideBar": true,
      "skip_h1_title": false,
      "title_cell": "Table of Contents",
      "title_sidebar": "Contents",
      "toc_cell": true,
      "toc_position": {},
      "toc_section_display": true,
      "toc_window_display": false
    },
    "varInspector": {
      "cols": {
        "lenName": 16,
        "lenType": 16,
        "lenVar": 40
      },
      "kernels_config": {
        "python": {
          "delete_cmd_postfix": "",
          "delete_cmd_prefix": "del ",
          "library": "var_list.py",
          "varRefreshCmd": "print(var_dic_list())"
        },
        "r": {
          "delete_cmd_postfix": ") ",
          "delete_cmd_prefix": "rm(",
          "library": "var_list.r",
          "varRefreshCmd": "cat(var_dic_list()) "
        }
      },
      "types_to_exclude": [
        "module",
        "function",
        "builtin_function_or_method",
        "instance",
        "_Feature"
      ],
      "window_display": false
    },
    "colab": {
      "name": "2.useful-functions-sol",
      "provenance": [],
      "collapsed_sections": [],
      "include_colab_link": true
    }
  },
  "cells": [
    {
      "cell_type": "markdown",
      "metadata": {
        "id": "view-in-github",
        "colab_type": "text"
      },
      "source": [
        "<a href=\"https://colab.research.google.com/github/ibk25244/su-ai/blob/master/2_useful_functions_sol.ipynb\" target=\"_parent\"><img src=\"https://colab.research.google.com/assets/colab-badge.svg\" alt=\"Open In Colab\"/></a>"
      ]
    },
    {
      "cell_type": "markdown",
      "metadata": {
        "id": "0ZtcwJU-lARe",
        "colab_type": "text"
      },
      "source": [
        "- - - \n",
        "\n",
        "<font size=6 color='royalblue'>유용한 함수</font>\n",
        "\n",
        "<font size=5 color='forestgreen'>Useful Functions</font> \n",
        "\n",
        "***\n",
        "\n",
        "<font size=4>**박 진 수**</font> 교수  \n",
        "Intelligent Data Semantics Lab  \n",
        "Seoul National University\n",
        "\n",
        "- - -"
      ]
    },
    {
      "cell_type": "markdown",
      "metadata": {
        "id": "GZe2yQMOo-ll",
        "colab_type": "toc"
      },
      "source": [
        ">[파이썬 함수의 특징](#scrollTo=kTKKawrPlARg)\n",
        "\n",
        ">[lambda 함수](#scrollTo=2O0--x_GlASH)\n",
        "\n",
        ">>[Lab: 일반 함수를 람다 함수로 변환하기](#scrollTo=AbFhVQNHlASZ)\n",
        "\n",
        ">>[람다 함수를 전달인자로 사용](#scrollTo=VhRZzFezlASc)\n",
        "\n",
        ">>[Lab: 람다 함수로 정렬하기](#scrollTo=o_ZAl0WP_yt5)\n",
        "\n",
        ">>>[답 1](#scrollTo=MCKzmUcJc83z)\n",
        "\n",
        ">>>[답 2](#scrollTo=Jc2ztutzdhwO)\n",
        "\n",
        ">>>[답 3](#scrollTo=EY2KU6ridkWW)\n",
        "\n",
        ">>>[답 4](#scrollTo=HDZtcO92dm2v)\n",
        "\n",
        ">>[람다 함수와 디폴트 딕셔너리](#scrollTo=J7pxF39nlASp)\n",
        "\n",
        ">[map() 함수](#scrollTo=_kp_WRAClASy)\n",
        "\n",
        ">>[Lab: 특정 문자열로 끝나는지 여부를 알려주는 불린 리스트 만들기](#scrollTo=XxZWbg1qlATP)\n",
        "\n",
        ">>[Lab: 영어 대소문자 반전하기](#scrollTo=l5DGC1AVlATR)\n",
        "\n",
        ">>[Lab: 숫자로 형변환 가능한 문자열만 숫자로 변환하기](#scrollTo=K_VKepR7lATS)\n",
        "\n",
        ">[filter() 함수](#scrollTo=Lp4Fh0y8lATU)\n",
        "\n",
        ">>[Lab: 특정 문자열로 시작하는 문자열 추출하기](#scrollTo=ZfSlkZq_lATu)\n",
        "\n",
        ">>[Lab: 양의 정수만 리스트로 담아 출력하기](#scrollTo=cg9KWlAglATw)\n",
        "\n",
        ">>[Lab: 5의 배수만 리스트로 담아 출력하기](#scrollTo=SgY8WGutlATx)\n",
        "\n",
        ">>[Lab: 숫자로 형변환 가능한 문자열만 숫자로 변환하기](#scrollTo=yoB4PuzVlATz)\n",
        "\n",
        ">[map() 함수와 filter() 함수의 차이](#scrollTo=lpBkQZIJlAT0)\n",
        "\n",
        ">[reduce() 함수](#scrollTo=crhy4XNNlAT7)\n",
        "\n",
        ">>[Lab: 모든 정수를 곱한 결과 구하기](#scrollTo=L5roA8YmlAUD)\n",
        "\n",
        ">[partial() 함수](#scrollTo=DgcChuGblAUE)\n",
        "\n",
        ">>[Lab: 전달받은 숫자의 제곱의 합을 구하는 함수 만들기](#scrollTo=YipC4VpglAUw)\n",
        "\n",
        ">[[참고] 기초 함수지만 중요한 함수](#scrollTo=GZmClCY-lAUx)\n",
        "\n",
        ">>[enumerate() 함수](#scrollTo=P4_YqTNOlAUy)\n",
        "\n",
        ">>[zip() 함수](#scrollTo=t8uTt34rlAU7)\n",
        "\n",
        ">>>[Lab: 색깔에 대한 선호도 보여주기](#scrollTo=vIVd7bM6lAVD)\n",
        "\n",
        ">[종합 실습](#scrollTo=L74DpyyPlAVD)\n",
        "\n",
        ">>[Lab: CSV 파일을 딕셔너리 자료형으로 읽기](#scrollTo=8D7Q1SWKlAVD)\n",
        "\n",
        ">>[Lab: Major League Baseball 통계](#scrollTo=fVrdZ6tRlAVF)\n",
        "\n",
        ">[THE END](#scrollTo=1T54O7b_lAVF)\n",
        "\n"
      ]
    },
    {
      "cell_type": "markdown",
      "metadata": {
        "id": "kTKKawrPlARg",
        "colab_type": "text"
      },
      "source": [
        "# 파이썬 함수의 특징"
      ]
    },
    {
      "cell_type": "markdown",
      "metadata": {
        "id": "3kwL5VDelARh",
        "colab_type": "text"
      },
      "source": [
        "파이썬에서 함수는 변수처럼 사용할 수도 있고, 다른 함수의 전달인자로도 사용할 수 있다. "
      ]
    },
    {
      "cell_type": "markdown",
      "metadata": {
        "id": "SG8eKkgPlARi",
        "colab_type": "text"
      },
      "source": [
        "먼저 함수를 변수처럼 사용하기 위해 다음과 같이 **print()** 함수를 변수에 할당해보자. 이때 함수 이름만 할당한다."
      ]
    },
    {
      "cell_type": "code",
      "metadata": {
        "id": "tjsnwsfUlARi",
        "colab_type": "code",
        "colab": {}
      },
      "source": [
        "# print() 함수 이름을 x에 할당한다.\n",
        "x = print"
      ],
      "execution_count": null,
      "outputs": []
    },
    {
      "cell_type": "code",
      "metadata": {
        "id": "Jd5SVRIKlARl",
        "colab_type": "code",
        "colab": {}
      },
      "source": [
        "# x는 print() 함수를 참조한다.\n",
        "type(x)"
      ],
      "execution_count": null,
      "outputs": []
    },
    {
      "cell_type": "markdown",
      "metadata": {
        "id": "DRl2L_3ilARn",
        "colab_type": "text"
      },
      "source": [
        "이제부터 변수 ***x***를 **print()** 함수처럼 사용할 수 있다."
      ]
    },
    {
      "cell_type": "code",
      "metadata": {
        "id": "83DNhZt-lARo",
        "colab_type": "code",
        "colab": {}
      },
      "source": [
        "x(f'2^3 = {2 ** 3}')"
      ],
      "execution_count": null,
      "outputs": []
    },
    {
      "cell_type": "markdown",
      "metadata": {
        "id": "KnSB5AP1lARq",
        "colab_type": "text"
      },
      "source": [
        "다른 함수도 변수에 할당해보자."
      ]
    },
    {
      "cell_type": "code",
      "metadata": {
        "id": "tikOMmiFlARr",
        "colab_type": "code",
        "colab": {}
      },
      "source": [
        "i = len    # len() 함수 이름을 i에 할당한다."
      ],
      "execution_count": null,
      "outputs": []
    },
    {
      "cell_type": "code",
      "metadata": {
        "id": "aBFmR9hXlARu",
        "colab_type": "code",
        "colab": {}
      },
      "source": [
        "i('파이썬')  # len('파이썬')과 같다."
      ],
      "execution_count": null,
      "outputs": []
    },
    {
      "cell_type": "code",
      "metadata": {
        "id": "D_WkMaeblARw",
        "colab_type": "code",
        "colab": {}
      },
      "source": [
        "i('drum')  # len('drum')과 같다."
      ],
      "execution_count": null,
      "outputs": []
    },
    {
      "cell_type": "markdown",
      "metadata": {
        "id": "mH1RwGyOlARy",
        "colab_type": "text"
      },
      "source": [
        "이번에는 함수를 다른 함수의 전달인자로 사용하는 예를 살펴보자. \n",
        "\n",
        "예를 들어, 다음 함수는 함수를 전달인자로 사용하는 함수다."
      ]
    },
    {
      "cell_type": "code",
      "metadata": {
        "id": "fGsoI9TilARz",
        "colab_type": "code",
        "colab": {}
      },
      "source": [
        "def get_fn(fn, n):\n",
        "  return fn(n)"
      ],
      "execution_count": null,
      "outputs": []
    },
    {
      "cell_type": "code",
      "metadata": {
        "id": "voBUy1QsIk3_",
        "colab_type": "code",
        "colab": {
          "base_uri": "https://localhost:8080/",
          "height": 34
        },
        "outputId": "9f9ca801-1fe7-4149-daa1-725edd110e93"
      },
      "source": [
        "get_fn(len, 'python')"
      ],
      "execution_count": null,
      "outputs": [
        {
          "output_type": "execute_result",
          "data": {
            "text/plain": [
              "6"
            ]
          },
          "metadata": {
            "tags": []
          },
          "execution_count": 10
        }
      ]
    },
    {
      "cell_type": "markdown",
      "metadata": {
        "id": "84xBW3O4lAR1",
        "colab_type": "text"
      },
      "source": [
        "그리고 다음과 같이 $n$번째 피보나치 수를 반환하는 함수가 있다고 가정해보자."
      ]
    },
    {
      "cell_type": "code",
      "metadata": {
        "id": "SWlWB6L2lAR1",
        "colab_type": "code",
        "cellView": "both",
        "colab": {}
      },
      "source": [
        "def fibo(n):\n",
        "  if n <= 1:\n",
        "    return n\n",
        "  return fibo(n - 1) + fibo(n - 2)"
      ],
      "execution_count": null,
      "outputs": []
    },
    {
      "cell_type": "markdown",
      "metadata": {
        "id": "FSqT9rzmlAR4",
        "colab_type": "text"
      },
      "source": [
        "**참고**. \n",
        "- 피보나치 수(Fibonacci numbers)는 첫 번째와 두 번째 항이 **1**이며 그 뒤의 모든 항은 바로 앞 두 항의 합인 수열이다. 처음 여섯 항은 각각 1, 1, 2, 3, 5, 8이다. \n",
        "- 피보나치 수의 초기값 및 점화식은 다음과 같이 정의되어 있다.\n",
        "\n",
        "$$ F_1 = F_2 = 1 $$  \n",
        "$$ F_n = F_{n-1} + F_{n-2},\\;\\text{where}\\;(n ∈ {3,4,…}) $$"
      ]
    },
    {
      "cell_type": "markdown",
      "metadata": {
        "id": "ufsK3LOKlAR5",
        "colab_type": "text"
      },
      "source": [
        "먼저 피보나치 함수를 변수에 할당한다."
      ]
    },
    {
      "cell_type": "code",
      "metadata": {
        "id": "gyPvNLCUlAR5",
        "colab_type": "code",
        "colab": {}
      },
      "source": [
        "f = fibo"
      ],
      "execution_count": null,
      "outputs": []
    },
    {
      "cell_type": "markdown",
      "metadata": {
        "id": "43IABI_AlAR7",
        "colab_type": "text"
      },
      "source": [
        "이제 이 함수를 앞서 정의한 함수의 전달인자로 사용한다."
      ]
    },
    {
      "cell_type": "code",
      "metadata": {
        "id": "J0ndWLhBlAR8",
        "colab_type": "code",
        "colab": {}
      },
      "source": [
        "# 피보나치 수를 반환하는 함수와 피보나치 수를 전달인자로 사용한다.\n",
        "get_fn(f, 6)"
      ],
      "execution_count": null,
      "outputs": []
    },
    {
      "cell_type": "markdown",
      "metadata": {
        "id": "kzIsGtPblASB",
        "colab_type": "text"
      },
      "source": [
        "하지만 계산식이 복잡하지 않은 간단한 함수면, 따로 정의하지 않고 익명 함수인 **람다 함수**를 사용하는 것이 편리한 경우가 많다."
      ]
    },
    {
      "cell_type": "code",
      "metadata": {
        "id": "l5W6yJxmlASB",
        "colab_type": "code",
        "colab": {}
      },
      "source": [
        "get_fn(lambda n: n ** 5, 2)  # 2 x 2 x 2 x 2 x 2"
      ],
      "execution_count": null,
      "outputs": []
    },
    {
      "cell_type": "markdown",
      "metadata": {
        "id": "TeQ1VdCZlASE",
        "colab_type": "text"
      },
      "source": [
        "내장 함수 안에서도 람다 함수를 사용할 수 있다."
      ]
    },
    {
      "cell_type": "code",
      "metadata": {
        "id": "iEbkFNxjlASF",
        "colab_type": "code",
        "colab": {}
      },
      "source": [
        "print((lambda n: n ** 5)(2))"
      ],
      "execution_count": null,
      "outputs": []
    },
    {
      "cell_type": "markdown",
      "metadata": {
        "toc-hr-collapsed": true,
        "id": "2O0--x_GlASH",
        "colab_type": "text"
      },
      "source": [
        "# **lambda** 함수"
      ]
    },
    {
      "cell_type": "markdown",
      "metadata": {
        "id": "Vfj-3kdzlASH",
        "colab_type": "text"
      },
      "source": [
        "**람다 함수**(lambda function)란?\n",
        "- 함수를 사용하는 시점에 표현식 형태로 정의하여 바로 사용하는 함수다.\n",
        "\n",
        "람다 함수를 정의하는 일반적인 형식은 다음과 같다.\n",
        "\n",
        "<b><pre>lambda [매개변수]: 표현식</pre></b>\n",
        "\n",
        "특징은 다음과 같다.\n",
        "\n",
        "- ***매개변수*** 를 설정하면 일반적으로 **위치 매개변수** 형태며 한 개 이상 사용할 수 있다.\n",
        "    - ***매개변수*** 는 선택 사항이다.\n",
        "- ***표현식*** 은 계산한 값을 반환한다.\n",
        "- 람다 함수의 ***표현식*** 은 몇 가지 제약이있다. \n",
        "    - ***표현식*** 에는 **return**문 또는 **yield**문을 사용할 수 없다.\n",
        "    - 조건문이나 순환문을 사용할 수 없다. \n",
        "        - 단, 간편 조건문은 사용할 수 있다.\n",
        "    - ***표현식*** 이 튜플이면 ***표현식*** 을 반드시 괄호 안에 넣어야 한다.\n",
        "- 람다 함수는 함수 이름이 없기 때문에 익명 함수(anonymous function)라고도 한다.\n",
        "    - 따라서 여러 번 호출해서 사용하기 보다는 필요한 시점에 한번 사용하는 경우가 많다.\n",
        "\n",
        "람다 함수는 일반 함수보다 구현할 수 있는 기능은 제한적이지만 일반 함수를 정의하는 것보다 간결할 뿐만 아니라 일반 함수를 사용할 수 없는 곳에서도 사용이 가능하다."
      ]
    },
    {
      "cell_type": "markdown",
      "metadata": {
        "id": "q8MKSrFklASI",
        "colab_type": "text"
      },
      "source": [
        "다음과 같은 일반 함수가 있다고 하자."
      ]
    },
    {
      "cell_type": "code",
      "metadata": {
        "id": "F0OV5CC4lASJ",
        "colab_type": "code",
        "colab": {}
      },
      "source": [
        "def say_anything(anything):\n",
        "  return f'안녕 {anything * 2}'"
      ],
      "execution_count": null,
      "outputs": []
    },
    {
      "cell_type": "code",
      "metadata": {
        "id": "a7VzBTnclASL",
        "colab_type": "code",
        "colab": {}
      },
      "source": [
        "say_anything('파이썬')"
      ],
      "execution_count": null,
      "outputs": []
    },
    {
      "cell_type": "markdown",
      "metadata": {
        "id": "_bzw__qOlASN",
        "colab_type": "text"
      },
      "source": [
        "앞서 정의한 함수를 람다 함수로 바꿔보자."
      ]
    },
    {
      "cell_type": "code",
      "metadata": {
        "id": "VSlp2EOvlASO",
        "colab_type": "code",
        "colab": {}
      },
      "source": [
        "talk = lambda anything: f'안녕 {anything * 2}'"
      ],
      "execution_count": null,
      "outputs": []
    },
    {
      "cell_type": "code",
      "metadata": {
        "id": "DRsCA7VllASQ",
        "colab_type": "code",
        "colab": {}
      },
      "source": [
        "talk('파이썬')"
      ],
      "execution_count": null,
      "outputs": []
    },
    {
      "cell_type": "code",
      "metadata": {
        "id": "PoyUVw98lASS",
        "colab_type": "code",
        "colab": {}
      },
      "source": [
        "talk('초콜릿')"
      ],
      "execution_count": null,
      "outputs": []
    },
    {
      "cell_type": "markdown",
      "metadata": {
        "id": "kQzEX_j7lASU",
        "colab_type": "text"
      },
      "source": [
        "***익명 함수인 람수 함수를 변수에 할당하는 이유는 뭘까?***"
      ]
    },
    {
      "cell_type": "markdown",
      "metadata": {
        "id": "mpVn_VvtlASU",
        "colab_type": "text"
      },
      "source": [
        "앞서 살펴봤듯이 함수 이름을 변수에 할당하면 해당 변수가 할당한 함수를 참조하기 때문에 변수를 마치 함수처럼 사용할 수 있다. \n",
        "\n",
        "이러한 파이썬의 특징을 이용하면 익명 함수인 람다 함수도 변수에 할당해서 나중에 다시 불러서 사용할 수 있기 때문에 편리하다. \n",
        "\n",
        "물론 람다 함수는 주로 즉석에서 사용하기 때문에 나중에 다시 불러 사용하는 경우가 많지는 않다. "
      ]
    },
    {
      "cell_type": "markdown",
      "metadata": {
        "id": "39NElQ1NlASV",
        "colab_type": "text"
      },
      "source": [
        "**따라해보기**"
      ]
    },
    {
      "cell_type": "code",
      "metadata": {
        "id": "ZxLa7RNvlASV",
        "colab_type": "code",
        "colab": {}
      },
      "source": [
        "# 람다 함수를 정의해서 변수 c에 할당한다.\n",
        "c = lambda i: '' if i == 1 else 's'"
      ],
      "execution_count": null,
      "outputs": []
    },
    {
      "cell_type": "code",
      "metadata": {
        "id": "h04fnCntlASX",
        "colab_type": "code",
        "colab": {}
      },
      "source": [
        "for i in range(10):\n",
        "  print(f'{i} file{c(i)} processed.')"
      ],
      "execution_count": null,
      "outputs": []
    },
    {
      "cell_type": "markdown",
      "metadata": {
        "id": "AbFhVQNHlASZ",
        "colab_type": "text"
      },
      "source": [
        "## Lab: 일반 함수를 람다 함수로 변환하기"
      ]
    },
    {
      "cell_type": "markdown",
      "metadata": {
        "id": "ymGUdLdPlASa",
        "colab_type": "text"
      },
      "source": [
        "다음 함수를 람다함수로 바꿔보자."
      ]
    },
    {
      "cell_type": "code",
      "metadata": {
        "id": "cZv1pM-6lASa",
        "colab_type": "code",
        "colab": {}
      },
      "source": [
        "# > 삼각형의 넓이를 구하는 함수\n",
        "def area(b, h):\n",
        "    \"\"\"밑변과 높이를 전달받아서 삼각형의 넓이를 구하는 함수다.\n",
        "\n",
        "    Args:\n",
        "        b (int | float): 밑변\n",
        "        h (int | float): 높이\n",
        "\n",
        "    Returns:\n",
        "        float: 삼각형의 넓이\n",
        "    \"\"\"\n",
        "    return 0.5 * b * h"
      ],
      "execution_count": null,
      "outputs": []
    },
    {
      "cell_type": "code",
      "metadata": {
        "id": "VBa3fXu5ZzhL",
        "colab_type": "code",
        "colab": {
          "base_uri": "https://localhost:8080/",
          "height": 34
        },
        "outputId": "d6d77a27-188c-4847-df5b-0ab4007dbea1"
      },
      "source": [
        "x = area(4, 5)\n",
        "print(x)"
      ],
      "execution_count": null,
      "outputs": [
        {
          "output_type": "stream",
          "text": [
            "10.0\n"
          ],
          "name": "stdout"
        }
      ]
    },
    {
      "cell_type": "code",
      "metadata": {
        "id": "KPjky1J4ckub",
        "colab_type": "code",
        "colab": {
          "base_uri": "https://localhost:8080/",
          "height": 34
        },
        "outputId": "6a1cfb28-2eb3-4677-bc25-118385617a39"
      },
      "source": [
        "# > 삼각형의 넓이를 구하는 람다 함수\n",
        "x = lambda b, h: 0.5 * b * h\n",
        "x(4, 5)"
      ],
      "execution_count": null,
      "outputs": [
        {
          "output_type": "execute_result",
          "data": {
            "text/plain": [
              "10.0"
            ]
          },
          "metadata": {
            "tags": []
          },
          "execution_count": 26
        }
      ]
    },
    {
      "cell_type": "markdown",
      "metadata": {
        "id": "VhRZzFezlASc",
        "colab_type": "text"
      },
      "source": [
        "## 람다 함수를 전달인자로 사용"
      ]
    },
    {
      "cell_type": "markdown",
      "metadata": {
        "id": "xbGYi28mlASc",
        "colab_type": "text"
      },
      "source": [
        "앞서 파이썬은 함수를 변수나 다른 함수의 전달인자로도 사용할 수 있다고 설명했다. 특히 일반 함수의 전달인자로 람다 함수를 사용하는 경우가 종종 있다. 예를 들어, 람다 함수를 **sorted()** 함수나 **list.sort()** 메소드 등에서 매개변수 ***key***의 전달인자로 사용하면 편리할 때가 많다. "
      ]
    },
    {
      "cell_type": "markdown",
      "metadata": {
        "id": "rNGrIfGLlASd",
        "colab_type": "text"
      },
      "source": [
        "문자열, 리스트, 튜플과 같은 시퀀스형을 비교하는 규칙은 다음과 같다. \n",
        "\n",
        "1. 비교 연산자는 각 시퀀스형의 첫 번째 객체부터 순차로 비교하며, \n",
        "1. 첫 번째 객체가 서로 같으면 그 다음 객체를 비교하고, \n",
        "1. 그 다음 객체도 같으면 그 다음 객체를 비교해서, \n",
        "1. 서로 다른 객체를 발견할 때까지 순서대로 비교한다. \n",
        "1. 만약 서로 다른 객체를 발견하면 비교를 멈추고 그 결과를 반환한다. \n",
        "1. 그 이후에 있는 객체들은 비교하지 않는다."
      ]
    },
    {
      "cell_type": "markdown",
      "metadata": {
        "id": "NcYS_neRlASd",
        "colab_type": "text"
      },
      "source": [
        "다음 리스트를 오름차순과 내림차순으로 정렬해보자."
      ]
    },
    {
      "cell_type": "code",
      "metadata": {
        "id": "ql2eZlBIlASe",
        "colab_type": "code",
        "colab": {}
      },
      "source": [
        "pair = [\n",
        "    (2, 'a', 'Pineapple'), \n",
        "    (1, 'b', 'Orange'), \n",
        "    (1, 'a', 'Banana'),\n",
        "    (2, 'b', 'berry'), \n",
        "    (1, 'b', 'grape'), \n",
        "    (2, 'a', 'apple')\n",
        "]"
      ],
      "execution_count": null,
      "outputs": []
    },
    {
      "cell_type": "code",
      "metadata": {
        "id": "uMmpds3fahmb",
        "colab_type": "code",
        "colab": {
          "base_uri": "https://localhost:8080/",
          "height": 119
        },
        "outputId": "35b0911f-0072-44c4-d65f-dc086358dfed"
      },
      "source": [
        "pair.sort()\n",
        "pair"
      ],
      "execution_count": null,
      "outputs": [
        {
          "output_type": "execute_result",
          "data": {
            "text/plain": [
              "[(1, 'a', 'Banana'),\n",
              " (1, 'b', 'Orange'),\n",
              " (1, 'b', 'grape'),\n",
              " (2, 'a', 'Pineapple'),\n",
              " (2, 'a', 'apple'),\n",
              " (2, 'b', 'berry')]"
            ]
          },
          "metadata": {
            "tags": []
          },
          "execution_count": 28
        }
      ]
    },
    {
      "cell_type": "code",
      "metadata": {
        "id": "iLGVyfMplASg",
        "colab_type": "code",
        "colab": {}
      },
      "source": [
        "pair.sort(reverse=True)\n",
        "pair"
      ],
      "execution_count": null,
      "outputs": []
    },
    {
      "cell_type": "markdown",
      "metadata": {
        "id": "sBUqTwRwlASi",
        "colab_type": "text"
      },
      "source": [
        "***만약 리스트가 담고 있는 튜플의 첫 번째가 아닌 두 번째나 세 번째 객체를 기준으로 정렬하고 싶으면 어떻게 하면 될까?***"
      ]
    },
    {
      "cell_type": "markdown",
      "metadata": {
        "id": "XvG8_EfSlASj",
        "colab_type": "text"
      },
      "source": [
        "람다 함수를 사용하면 된다."
      ]
    },
    {
      "cell_type": "markdown",
      "metadata": {
        "id": "YQXQJqbSlASk",
        "colab_type": "text"
      },
      "source": [
        "먼저 람다 함수를 이용하여 앞서 사용한 리스트의 튜플 중 두 번째 객체를 기준으로 오름차순 정렬해보자."
      ]
    },
    {
      "cell_type": "code",
      "metadata": {
        "id": "6plD9C0NlASl",
        "colab_type": "code",
        "colab": {}
      },
      "source": [
        "pair = [\n",
        "    (2, 'a', 'Pineapple'),\n",
        "    (1, 'b', 'Orange'),\n",
        "    (1, 'a', 'Banana'),\n",
        "    (2, 'b', 'berry'),\n",
        "    (1, 'b', 'grape'),\n",
        "    (2, 'a', 'apple')\n",
        "]"
      ],
      "execution_count": null,
      "outputs": []
    },
    {
      "cell_type": "code",
      "metadata": {
        "id": "rk_jGudpbB04",
        "colab_type": "code",
        "colab": {
          "base_uri": "https://localhost:8080/",
          "height": 119
        },
        "outputId": "e2f57b3d-053d-4ef4-be66-8b5179d8bb83"
      },
      "source": [
        "pair.sort(key=lambda e: (e[1]))\n",
        "pair"
      ],
      "execution_count": null,
      "outputs": [
        {
          "output_type": "execute_result",
          "data": {
            "text/plain": [
              "[(2, 'a', 'Pineapple'),\n",
              " (1, 'a', 'Banana'),\n",
              " (2, 'a', 'apple'),\n",
              " (1, 'b', 'Orange'),\n",
              " (2, 'b', 'berry'),\n",
              " (1, 'b', 'grape')]"
            ]
          },
          "metadata": {
            "tags": []
          },
          "execution_count": 31
        }
      ]
    },
    {
      "cell_type": "markdown",
      "metadata": {
        "colab_type": "text",
        "id": "o_ZAl0WP_yt5"
      },
      "source": [
        "## Lab: 람다 함수로 정렬하기"
      ]
    },
    {
      "cell_type": "markdown",
      "metadata": {
        "colab_type": "text",
        "id": "CAxupPRflASn"
      },
      "source": [
        "---\n",
        "\n",
        "앞서 사용한 리스트를 사용해 다음과 같은 방식으로 졍렬해보자.\n",
        "\n",
        "<pre>pair = [\n",
        "    (2, 'a', 'Pineapple'), \n",
        "    (1, 'b', 'Orange'),\n",
        "    (1, 'a', 'Banana'),\n",
        "    (2, 'b', 'berry'),\n",
        "    (1, 'b', 'grape'), \n",
        "    (2, 'a', 'apple')\n",
        "]</pre>\n",
        "\n",
        "1. 세 번째 객체를 기준으로 오름차순 정렬한다.\n",
        "1. 세 번째 객체를 기준으로 대소문자 구분하지 않고 내림차순으로 정렬한다.\n",
        "1. 두 번째 객체와 첫 번째 객체 순으로 오름차순 정렬한다.\n",
        "1. 두 번째 객체와 세 번째 객체 순으로 오름차순 정렬한다. 이때 세 번째 객체의 대소문자를 구분하지 않고 정렬한다. \n",
        "\n",
        "---\n",
        "\n",
        "**실행 예**\n",
        "\n",
        "<pre>>>> pair  # 답 1\n",
        "[(1, 'a', 'Banana'),\n",
        " (1, 'b', 'Orange'),\n",
        " (2, 'a', 'Pineapple'),\n",
        " (2, 'a', 'apple'),\n",
        " (2, 'b', 'berry'),\n",
        " (1, 'b', 'grape')]</pre>\n",
        " \n",
        "<pre>>>> pair  # 답 2\n",
        "[(2, 'a', 'Pineapple'),\n",
        " (1, 'b', 'Orange'),\n",
        " (1, 'b', 'grape'),\n",
        " (2, 'b', 'berry'),\n",
        " (1, 'a', 'Banana'),\n",
        " (2, 'a', 'apple')]</pre> \n",
        "\n",
        "<pre>>>> pair  # 답 3\n",
        "[(1, 'a', 'Banana'),\n",
        " (2, 'a', 'Pineapple'),\n",
        " (2, 'a', 'apple'),\n",
        " (1, 'b', 'Orange'),\n",
        " (1, 'b', 'grape'),\n",
        " (2, 'b', 'berry')]</pre>\n",
        " \n",
        "<pre>>>> pair  # 답 4\n",
        "[(2, 'a', 'apple'),\n",
        " (1, 'a', 'Banana'),\n",
        " (2, 'a', 'Pineapple'),\n",
        " (2, 'b', 'berry'),\n",
        " (1, 'b', 'grape'),\n",
        " (1, 'b', 'Orange')]</pre> "
      ]
    },
    {
      "cell_type": "markdown",
      "metadata": {
        "id": "MCKzmUcJc83z",
        "colab_type": "text"
      },
      "source": [
        "### 답 1"
      ]
    },
    {
      "cell_type": "code",
      "metadata": {
        "colab_type": "code",
        "id": "SnfFXlOt-W7R",
        "colab": {}
      },
      "source": [
        "pair = [\n",
        "  (2, 'a', 'Pineapple'), \n",
        "  (1, 'b', 'Orange'),\n",
        "  (1, 'a', 'Banana'),\n",
        "  (2, 'b', 'berry'),\n",
        "  (1, 'b', 'grape'), \n",
        "  (2, 'a', 'apple')\n",
        "]"
      ],
      "execution_count": null,
      "outputs": []
    },
    {
      "cell_type": "code",
      "metadata": {
        "id": "g28ZsSYvc_uw",
        "colab_type": "code",
        "colab": {
          "base_uri": "https://localhost:8080/",
          "height": 119
        },
        "outputId": "21b07c5e-829d-4ad2-924b-a1465938327d"
      },
      "source": [
        "pair.sort(key=lambda e: (e[-1]))\n",
        "pair"
      ],
      "execution_count": null,
      "outputs": [
        {
          "output_type": "execute_result",
          "data": {
            "text/plain": [
              "[(1, 'a', 'Banana'),\n",
              " (1, 'b', 'Orange'),\n",
              " (2, 'a', 'Pineapple'),\n",
              " (2, 'a', 'apple'),\n",
              " (2, 'b', 'berry'),\n",
              " (1, 'b', 'grape')]"
            ]
          },
          "metadata": {
            "tags": []
          },
          "execution_count": 32
        }
      ]
    },
    {
      "cell_type": "markdown",
      "metadata": {
        "colab_type": "text",
        "id": "Jc2ztutzdhwO"
      },
      "source": [
        "### 답 2"
      ]
    },
    {
      "cell_type": "code",
      "metadata": {
        "colab_type": "code",
        "id": "6Zo5pmI8-Xrb",
        "colab": {}
      },
      "source": [
        "pair = [\n",
        "  (2, 'a', 'Pineapple'), \n",
        "  (1, 'b', 'Orange'),\n",
        "  (1, 'a', 'Banana'),\n",
        "  (2, 'b', 'berry'),\n",
        "  (1, 'b', 'grape'), \n",
        "  (2, 'a', 'apple')\n",
        "]"
      ],
      "execution_count": null,
      "outputs": []
    },
    {
      "cell_type": "code",
      "metadata": {
        "colab_type": "code",
        "id": "LIqr4vVfdhwZ",
        "colab": {
          "base_uri": "https://localhost:8080/",
          "height": 119
        },
        "outputId": "e6109567-33cf-46b6-ea27-9baa751e9a34"
      },
      "source": [
        "pair.sort(key=lambda e: (e[-1].lower()), reverse=True)\n",
        "pair"
      ],
      "execution_count": null,
      "outputs": [
        {
          "output_type": "execute_result",
          "data": {
            "text/plain": [
              "[(2, 'a', 'Pineapple'),\n",
              " (1, 'b', 'Orange'),\n",
              " (1, 'b', 'grape'),\n",
              " (2, 'b', 'berry'),\n",
              " (1, 'a', 'Banana'),\n",
              " (2, 'a', 'apple')]"
            ]
          },
          "metadata": {
            "tags": []
          },
          "execution_count": 33
        }
      ]
    },
    {
      "cell_type": "markdown",
      "metadata": {
        "colab_type": "text",
        "id": "EY2KU6ridkWW"
      },
      "source": [
        "### 답 3"
      ]
    },
    {
      "cell_type": "code",
      "metadata": {
        "colab_type": "code",
        "id": "oaGRcfCy-YjJ",
        "colab": {}
      },
      "source": [
        "pair = [\n",
        "  (2, 'a', 'Pineapple'), \n",
        "  (1, 'b', 'Orange'),\n",
        "  (1, 'a', 'Banana'),\n",
        "  (2, 'b', 'berry'),\n",
        "  (1, 'b', 'grape'), \n",
        "  (2, 'a', 'apple')\n",
        "]"
      ],
      "execution_count": null,
      "outputs": []
    },
    {
      "cell_type": "code",
      "metadata": {
        "colab_type": "code",
        "id": "Yl5-P7dddkWX",
        "colab": {
          "base_uri": "https://localhost:8080/",
          "height": 119
        },
        "outputId": "6fcd316a-cac1-4fbf-db3f-4e79c8e6951d"
      },
      "source": [
        "pair.sort(key=lambda e: (e[1], e[0]))\n",
        "pair"
      ],
      "execution_count": null,
      "outputs": [
        {
          "output_type": "execute_result",
          "data": {
            "text/plain": [
              "[(1, 'a', 'Banana'),\n",
              " (2, 'a', 'Pineapple'),\n",
              " (2, 'a', 'apple'),\n",
              " (1, 'b', 'Orange'),\n",
              " (1, 'b', 'grape'),\n",
              " (2, 'b', 'berry')]"
            ]
          },
          "metadata": {
            "tags": []
          },
          "execution_count": 34
        }
      ]
    },
    {
      "cell_type": "markdown",
      "metadata": {
        "colab_type": "text",
        "id": "HDZtcO92dm2v"
      },
      "source": [
        "### 답 4"
      ]
    },
    {
      "cell_type": "code",
      "metadata": {
        "colab_type": "code",
        "id": "bhEyvji3-Zpy",
        "colab": {}
      },
      "source": [
        "pair = [\n",
        "  (2, 'a', 'Pineapple'), \n",
        "  (1, 'b', 'Orange'),\n",
        "  (1, 'a', 'Banana'),\n",
        "  (2, 'b', 'berry'),\n",
        "  (1, 'b', 'grape'), \n",
        "  (2, 'a', 'apple')\n",
        "]"
      ],
      "execution_count": null,
      "outputs": []
    },
    {
      "cell_type": "code",
      "metadata": {
        "colab_type": "code",
        "id": "XKMalmnVdm2w",
        "colab": {
          "base_uri": "https://localhost:8080/",
          "height": 119
        },
        "outputId": "13ffefc8-1ef8-4c6c-d224-b3458a74f0dd"
      },
      "source": [
        "pair.sort(key=lambda e: (e[1], e[-1].lower()))\n",
        "pair "
      ],
      "execution_count": null,
      "outputs": [
        {
          "output_type": "execute_result",
          "data": {
            "text/plain": [
              "[(2, 'a', 'apple'),\n",
              " (1, 'a', 'Banana'),\n",
              " (2, 'a', 'Pineapple'),\n",
              " (2, 'b', 'berry'),\n",
              " (1, 'b', 'grape'),\n",
              " (1, 'b', 'Orange')]"
            ]
          },
          "metadata": {
            "tags": []
          },
          "execution_count": 35
        }
      ]
    },
    {
      "cell_type": "markdown",
      "metadata": {
        "id": "J7pxF39nlASp",
        "colab_type": "text"
      },
      "source": [
        "## 람다 함수와 디폴트 딕셔너리"
      ]
    },
    {
      "cell_type": "markdown",
      "metadata": {
        "id": "fJAVOiQhlASp",
        "colab_type": "text"
      },
      "source": [
        "람다 함수의 매개변수는 선택 사항이라 생략이 가능하다. 다음 예는 디폴트 딕셔너리를 생성할 때 람다 함수를 사용해 기본값을 다른 값으로 설정하는 것을 보여준다."
      ]
    },
    {
      "cell_type": "code",
      "metadata": {
        "id": "QgxW2XrClASq",
        "colab_type": "code",
        "colab": {}
      },
      "source": [
        "from collections import defaultdict\n",
        "\n",
        "int_dd = defaultdict(int)\n",
        "str_dd = defaultdict(str)\n",
        "minus_one_dd = defaultdict(lambda: -1)\n",
        "msg_dd = defaultdict(lambda: '메시지가 없습니다.')\n",
        "zero_zero_dd = defaultdict(lambda: (0, 0))"
      ],
      "execution_count": null,
      "outputs": []
    },
    {
      "cell_type": "code",
      "metadata": {
        "id": "eqPxwAJBlASs",
        "colab_type": "code",
        "colab": {}
      },
      "source": [
        "# 키가 존재하지 않아 매핑값으로 기본값을 할당한다.\n",
        "i = int_dd['나이']\n",
        "j = str_dd['이름']\n",
        "x = minus_one_dd['제품번호']\n",
        "y = zero_zero_dd['좌표']\n",
        "z = msg_dd['메시지']\n",
        "i, j, x, y, z"
      ],
      "execution_count": null,
      "outputs": []
    },
    {
      "cell_type": "code",
      "metadata": {
        "id": "JStJrmMWlASu",
        "colab_type": "code",
        "colab": {}
      },
      "source": [
        "msg_dd"
      ],
      "execution_count": null,
      "outputs": []
    },
    {
      "cell_type": "code",
      "metadata": {
        "id": "EwJVDbuhlASw",
        "colab_type": "code",
        "colab": {}
      },
      "source": [
        "# 빈 딕셔너리라 키가 없어 오류가 난다.\n",
        "plain_d = {}\n",
        "d = plain_d['이름']"
      ],
      "execution_count": null,
      "outputs": []
    },
    {
      "cell_type": "markdown",
      "metadata": {
        "toc-hr-collapsed": true,
        "id": "_kp_WRAClASy",
        "colab_type": "text"
      },
      "source": [
        "# **map()** 함수"
      ]
    },
    {
      "cell_type": "markdown",
      "metadata": {
        "id": "3Z6IAMcAlASy",
        "colab_type": "text"
      },
      "source": [
        "**map() 함수**란?\n",
        "\n",
        "- 함수와 순회형(iterable) 자료를 전달인자로 받아서 순회형이 담고 있는 각각의 객체를 모두 해당 함수에 적용한 결과를 **map** 순회자로 묶어서 반환한다."
      ]
    },
    {
      "cell_type": "markdown",
      "metadata": {
        "id": "1atsKMKflASz",
        "colab_type": "text"
      },
      "source": [
        "***\n",
        "\n",
        "[**map(*function*, *iterable*, ...)**](https://docs.python.org/3/library/functions.html#map)  \n",
        "Return an iterator that applies *function* to every item of *iterable*, yielding the results. If additional *iterable* arguments are passed, *function* must take that many arguments and is applied to the items from all iterables in parallel. With multiple iterables, the iterator stops when the shortest iterable is exhausted. For cases where the function inputs are already arranged into argument tuples, see [itertools.starmap](https://docs.python.org/3/library/itertools.html#itertools.starmap).\n",
        "\n",
        "***"
      ]
    },
    {
      "cell_type": "markdown",
      "metadata": {
        "id": "5Sn2or4SlASz",
        "colab_type": "text"
      },
      "source": [
        "특징은 다음과 같다.\n",
        "\n",
        "- **for**문을 사용하지 않아도 되기 때문에 코드가 간결해진다.\n",
        "    - 물론 리스트 축약으로도 해결이 가능하다.\n",
        "- **map** 순회자를 반환하기 때문에 리스트 등으로 형변환한 후 사용할 수 있다."
      ]
    },
    {
      "cell_type": "markdown",
      "metadata": {
        "id": "apCSIoh3lAS0",
        "colab_type": "text"
      },
      "source": [
        "**map()** 함수가 어떤 경우에 유용한지 알아보자."
      ]
    },
    {
      "cell_type": "markdown",
      "metadata": {
        "id": "b_55x_GblAS0",
        "colab_type": "text"
      },
      "source": [
        "다음 예는 시퀀스형 자료가 담고 있는 객체들의 길이를 리스트로 반환하는 함수다."
      ]
    },
    {
      "cell_type": "code",
      "metadata": {
        "id": "aPb6MfOrlAS1",
        "colab_type": "code",
        "colab": {}
      },
      "source": [
        "def item_length(seq):\n",
        "  L = []\n",
        "  for i in seq:\n",
        "    L.append(len(i))\n",
        "  return L"
      ],
      "execution_count": null,
      "outputs": []
    },
    {
      "cell_type": "code",
      "metadata": {
        "id": "7uyRex02lAS3",
        "colab_type": "code",
        "colab": {}
      },
      "source": [
        "L = ['Python', 'Java', 'C++', 'R']\n",
        "x = item_length(L)\n",
        "print(x)"
      ],
      "execution_count": null,
      "outputs": []
    },
    {
      "cell_type": "markdown",
      "metadata": {
        "id": "8jc8A9eplAS6",
        "colab_type": "text"
      },
      "source": [
        "앞의 경우 **map()** 함수를 사용하면 **item_length()** 함수 없이 다음과 같이 간단하게 코드를 작성할 수 있다."
      ]
    },
    {
      "cell_type": "code",
      "metadata": {
        "id": "glOTVabElAS7",
        "colab_type": "code",
        "colab": {}
      },
      "source": [
        "L = ['Python', 'Java', 'C++', 'R']\n",
        "\n",
        "# 리스트 L이 담고 있는 객체 각각에 len() 함수를 적용한 결과를 리스트로 변환한다.\n",
        "list(map(len, L))  "
      ],
      "execution_count": null,
      "outputs": []
    },
    {
      "cell_type": "markdown",
      "metadata": {
        "id": "MktO-S6ylAS-",
        "colab_type": "text"
      },
      "source": [
        "**map()** 함수가 반환한 값은 순회자이기 때문에 그 자체로는 내용을 확인할 수 없다."
      ]
    },
    {
      "cell_type": "code",
      "metadata": {
        "id": "0h0cbsF8lAS-",
        "colab_type": "code",
        "colab": {}
      },
      "source": [
        "L = ['Python', 'Java', 'C++', 'R']\n",
        "\n",
        "# 리스트 L이 담고 있는 객체 각각에 len() 함수를 적용한다.\n",
        "x = map(len, L)  "
      ],
      "execution_count": null,
      "outputs": []
    },
    {
      "cell_type": "code",
      "metadata": {
        "id": "hxGsWCIYlATA",
        "colab_type": "code",
        "colab": {}
      },
      "source": [
        "# x의 자료형을 확인한다.\n",
        "type(x)"
      ],
      "execution_count": null,
      "outputs": []
    },
    {
      "cell_type": "code",
      "metadata": {
        "id": "t2w2ijdTlATD",
        "colab_type": "code",
        "colab": {}
      },
      "source": [
        "# x를 출력해서 결과를 확인한다.\n",
        "print(x)"
      ],
      "execution_count": null,
      "outputs": []
    },
    {
      "cell_type": "markdown",
      "metadata": {
        "id": "UtymwuJrlATF",
        "colab_type": "text"
      },
      "source": [
        "***x***는 **map** 순회자이기 때문에 그 자체로는 결과를 확인할 수 없어 출력을 위해서는 다음과 같이 자료형 변환을 해줘야 한다. "
      ]
    },
    {
      "cell_type": "code",
      "metadata": {
        "id": "QpS2_ddclATG",
        "colab_type": "code",
        "colab": {}
      },
      "source": [
        "list(x)"
      ],
      "execution_count": null,
      "outputs": []
    },
    {
      "cell_type": "markdown",
      "metadata": {
        "id": "EQfo2bxolATI",
        "colab_type": "text"
      },
      "source": [
        "물론 순회형(iterable) 객체를 사용하는 다른 함수의 전달인자로 활용할 때는 형변환을 해주지 않아도 된다."
      ]
    },
    {
      "cell_type": "markdown",
      "metadata": {
        "id": "TBZm3jawlATJ",
        "colab_type": "text"
      },
      "source": [
        "이번에는 리스트가 담고 있는 정수 각각을 제곱한 결과를 **람다 함수**와 **map()** 함수를 사용해서 작성해보자."
      ]
    },
    {
      "cell_type": "code",
      "metadata": {
        "id": "VcIkwN4OlATK",
        "colab_type": "code",
        "colab": {}
      },
      "source": [
        "L = list(range(1, 10))\n",
        "list(map(lambda i: i ** 2, L))"
      ],
      "execution_count": null,
      "outputs": []
    },
    {
      "cell_type": "markdown",
      "metadata": {
        "id": "CAZt192blATM",
        "colab_type": "text"
      },
      "source": [
        "두 개 이상의 순회형 자료에도 적용이 가능하다."
      ]
    },
    {
      "cell_type": "code",
      "metadata": {
        "id": "LFMuAhC1lATN",
        "colab_type": "code",
        "colab": {}
      },
      "source": [
        "L1, L2, L3 = [1, 2, 3, 4], [2, 3], [3, 4, 5, 6]\n",
        "list(map(lambda x, y, z: x + y + z, \n",
        "         L1, L2, L3))"
      ],
      "execution_count": null,
      "outputs": []
    },
    {
      "cell_type": "markdown",
      "metadata": {
        "colab_type": "text",
        "id": "XxZWbg1qlATP"
      },
      "source": [
        "## Lab: 특정 문자열로 끝나는지 여부를 알려주는 불린 리스트 만들기"
      ]
    },
    {
      "cell_type": "markdown",
      "metadata": {
        "colab_type": "text",
        "id": "50neDn1qlATQ"
      },
      "source": [
        "---\n",
        "\n",
        "- 아래 문자열들을 담고 있는 튜플을 생성한 후 출력한다.\n",
        "    - **'string', 'list', 'dict', 'tuple', 'set'**\n",
        "- **map()** 함수를 사용하여 방금 만든 튜플의 문자열이 **'t'**로 끝나는지 여부를 '참' 또는 '거짓'으로 보여주는 리스트를 반환한다.\n",
        "\n",
        "---\n",
        "\n",
        "**실행 예**\n",
        "\n",
        "<pre>> python ends_t.py\n",
        "('string', 'list', 'dict', 'tuple', 'set')\n",
        "[False, True, True, False, True]</pre>"
      ]
    },
    {
      "cell_type": "code",
      "metadata": {
        "id": "VDkszvRXHGC9",
        "colab_type": "code",
        "colab": {
          "base_uri": "https://localhost:8080/",
          "height": 51
        },
        "outputId": "32e0bd52-34f6-4a1e-ce18-c216c58c9184"
      },
      "source": [
        "t = 'string', 'list', 'dict', 'tuple', 'set'\n",
        "print(t)\n",
        "x = list(map(lambda i: i.endswith('t'), t))\n",
        "print(x)"
      ],
      "execution_count": null,
      "outputs": [
        {
          "output_type": "stream",
          "text": [
            "('string', 'list', 'dict', 'tuple', 'set')\n",
            "[False, True, True, False, True]\n"
          ],
          "name": "stdout"
        }
      ]
    },
    {
      "cell_type": "markdown",
      "metadata": {
        "id": "l5DGC1AVlATR",
        "colab_type": "text"
      },
      "source": [
        "## Lab: 영어 대소문자 반전하기"
      ]
    },
    {
      "cell_type": "markdown",
      "metadata": {
        "id": "DasmvbKflATR",
        "colab_type": "text"
      },
      "source": [
        "- - -\n",
        "\n",
        "다음 순서로 프로그램을 구현한다.\n",
        "\n",
        "1. 영어 문자열을 입력받아 소문자는 대문자로, 대문자는 소문자로 변환한 후 각 문자를 리스트에 담아 출력하는 코드를 **map()** 함수를 사용하여 구현한다.\n",
        "\n",
        "1. 그리고 나서 이 리스트를 문자열로 바꾼 후 촐력한다. 바뀐 문자열은 입력받은 영어의 대소문자가 바뀐 문자열이다.\n",
        "\n",
        "- - -\n",
        "\n",
        "**실행 예**\n",
        "\n",
        "<pre>\n",
        "> python reverse_case.py\n",
        "영어 문장을 입력하세요...: Right Way to Python\n",
        "['r', 'I', 'G', 'H', 'T', ' ', 'w', 'A', 'Y', ' ', 'T', 'O', ' ', 'p', 'Y', 'T', 'H', 'O', 'N']\n",
        "rIGHT wAY TO pYTHON\n",
        "</pre>"
      ]
    },
    {
      "cell_type": "code",
      "metadata": {
        "colab_type": "code",
        "id": "3V9RroLaxiTD",
        "colab": {
          "base_uri": "https://localhost:8080/",
          "height": 68
        },
        "outputId": "21ce3b94-0b1c-41a0-93ff-a48deb8336eb"
      },
      "source": [
        "s = input('영어 문장을 입력하세요...: ')\n",
        "x = list(map(lambda i: i.swapcase(), s))\n",
        "print(x)\n",
        "s = ''.join(x)\n",
        "print(s)"
      ],
      "execution_count": null,
      "outputs": [
        {
          "output_type": "stream",
          "text": [
            "영어 문장을 입력하세요...: Right Way to Python\n",
            "['r', 'I', 'G', 'H', 'T', ' ', 'w', 'A', 'Y', ' ', 'T', 'O', ' ', 'p', 'Y', 'T', 'H', 'O', 'N']\n",
            "rIGHT wAY TO pYTHON\n"
          ],
          "name": "stdout"
        }
      ]
    },
    {
      "cell_type": "markdown",
      "metadata": {
        "id": "K_VKepR7lATS",
        "colab_type": "text"
      },
      "source": [
        "## Lab: 숫자로 형변환 가능한 문자열만 숫자로 변환하기"
      ]
    },
    {
      "cell_type": "markdown",
      "metadata": {
        "id": "AAS3grVylATT",
        "colab_type": "text"
      },
      "source": [
        "---\n",
        "\n",
        "정수와 문자열을 함께 담고 있는 리스트의 모든 객체 중 **정수**로 형변환이 가능한 객체들은 정수로 변환하고 그렇지 않은 문자열은 **None**을 변환하여 리스트에 담아 출력하는 프로그램을 **map()** 함수를 사용하여 구현한다.\n",
        "\n",
        "---\n",
        "\n",
        "**실행 예**\n",
        "\n",
        "<pre>> python str_to_int_map.py\n",
        "[1, '2', 3, 'four', '5']\n",
        "[1, 2, 3, None, 5]</pre>"
      ]
    },
    {
      "cell_type": "code",
      "metadata": {
        "colab_type": "code",
        "id": "1XLaRHUpxje7",
        "colab": {
          "base_uri": "https://localhost:8080/",
          "height": 51
        },
        "outputId": "24b91a89-3ed8-454d-d6b7-89de6b483cd0"
      },
      "source": [
        "def to_int(i):\n",
        "  '''개별 객체를 정수형으로 변환한다.'''\n",
        "  if isinstance(i, str) and i.isdecimal():\n",
        "    return int(i)\n",
        "  elif isinstance(i, int):\n",
        "    return i\n",
        "  else:\n",
        "    return None\n",
        "\n",
        "L = [1, '2', 3, 'four', '5']\n",
        "print(L)\n",
        "x = map(to_int, L)\n",
        "print(list(x))"
      ],
      "execution_count": null,
      "outputs": [
        {
          "output_type": "stream",
          "text": [
            "[1, '2', 3, 'four', '5']\n",
            "[1, 2, 3, None, 5]\n"
          ],
          "name": "stdout"
        }
      ]
    },
    {
      "cell_type": "markdown",
      "metadata": {
        "toc-hr-collapsed": false,
        "id": "Lp4Fh0y8lATU",
        "colab_type": "text"
      },
      "source": [
        "# **filter()** 함수"
      ]
    },
    {
      "cell_type": "markdown",
      "metadata": {
        "id": "c_ss-WSvlATU",
        "colab_type": "text"
      },
      "source": [
        "**filter()** 함수란?\n",
        "\n",
        "- 함수와 순회형(iterable) 자료를 전달인자로 받아서 순회형이 담고 있는 각각의 객체를 모두 해당 함수에 적용한 결과가 '참(**True**)'인 객체만 골라 **filter** 순회자로 묶어서 반환한다."
      ]
    },
    {
      "cell_type": "markdown",
      "metadata": {
        "id": "x5S4wWx2lATV",
        "colab_type": "text"
      },
      "source": [
        "***\n",
        "\n",
        "[**filter(_function_, _iterable_)**](https://docs.python.org/3/library/functions.html#filter)  \n",
        "Construct an iterator from those elements of *iterable* for which *function* returns true. *iterable* may be either a sequence, a container which supports iteration, or an iterator. If *function* is **None**, the identity function is assumed, that is, all elements of iterable that are false are removed.\n",
        "\n",
        "Note that **filter**(*function, iterable*) is equivalent to the generator expression **(item for item in iterable if function(item))** if function is not **None** and **(item for item in iterable if item)** if function is **None**.\n",
        "\n",
        "See [itertools.filterfalse()](https://docs.python.org/3/library/functions.html?highlight=filter#filter) for the complementary function that returns elements of *iterable* for which *function* returns false.\n",
        "\n",
        "***"
      ]
    },
    {
      "cell_type": "markdown",
      "metadata": {
        "id": "UDBZB5-klATY",
        "colab_type": "text"
      },
      "source": [
        "특징은 다음과 같다.\n",
        "\n",
        "- **for**문을 사용하지 않아도 되기 때문에 코드가 간결해진다.\n",
        "- 조건에 맞는 객체만 필터링할 때 유용하게 사용할 수 있다.\n",
        "- **filter** 순회자를 반환하기 때문에 리스트 등으로 형변환한 후 사용할 수 있다."
      ]
    },
    {
      "cell_type": "markdown",
      "metadata": {
        "id": "NSjobBm6lATY",
        "colab_type": "text"
      },
      "source": [
        "**filter()** 함수가 어떤 경우에 유용한지 알아보자."
      ]
    },
    {
      "cell_type": "markdown",
      "metadata": {
        "id": "sytk1bjZlATZ",
        "colab_type": "text"
      },
      "source": [
        "다음 예는 시퀀스형 자료가 담고 있는 정수 중 홀수만 튜플로 반환하는 함수다."
      ]
    },
    {
      "cell_type": "code",
      "metadata": {
        "id": "wyuJqe_SlATZ",
        "colab_type": "code",
        "colab": {}
      },
      "source": [
        "def odd_only(seq):\n",
        "  odd = []\n",
        "  for i in seq:\n",
        "    if i % 2 == 1:\n",
        "      odd.append(i)\n",
        "  return tuple(odd)"
      ],
      "execution_count": null,
      "outputs": []
    },
    {
      "cell_type": "code",
      "metadata": {
        "id": "CLkX_eS7lATc",
        "colab_type": "code",
        "colab": {}
      },
      "source": [
        "t = tuple(range(10))\n",
        "x = odd_only(t)\n",
        "print(x)"
      ],
      "execution_count": null,
      "outputs": []
    },
    {
      "cell_type": "markdown",
      "metadata": {
        "id": "PrBbNCLZlATe",
        "colab_type": "text"
      },
      "source": [
        "앞의 경우 **filter()** 함수를 사용하면 **odd_only()** 함수 없이 다음과 같이 간단하게 코드를 작성할 수 있다."
      ]
    },
    {
      "cell_type": "code",
      "metadata": {
        "id": "DxXcpAzQlATe",
        "colab_type": "code",
        "colab": {}
      },
      "source": [
        "t = tuple(range(10))\n",
        "tuple(filter(lambda i: i % 2 == 1, t))"
      ],
      "execution_count": null,
      "outputs": []
    },
    {
      "cell_type": "markdown",
      "metadata": {
        "id": "JPS6aNvplATh",
        "colab_type": "text"
      },
      "source": [
        "**filter()** 함수가 반환한 값은 순회자이기 때문에 그 자체로는 내용을 확인할 수 없다."
      ]
    },
    {
      "cell_type": "code",
      "metadata": {
        "id": "N71bxGsBlATh",
        "colab_type": "code",
        "colab": {}
      },
      "source": [
        "t = tuple(range(10))\n",
        "x = filter(lambda i: i % 2 == 1, t)"
      ],
      "execution_count": null,
      "outputs": []
    },
    {
      "cell_type": "code",
      "metadata": {
        "id": "6s74_vD1lATj",
        "colab_type": "code",
        "colab": {}
      },
      "source": [
        "# x의 자료형을 확인한다.\n",
        "type(x)"
      ],
      "execution_count": null,
      "outputs": []
    },
    {
      "cell_type": "code",
      "metadata": {
        "id": "PbVhh3mJlATm",
        "colab_type": "code",
        "colab": {}
      },
      "source": [
        "# x를 출력해서 결과를 확인한다.\n",
        "print(x)"
      ],
      "execution_count": null,
      "outputs": []
    },
    {
      "cell_type": "markdown",
      "metadata": {
        "id": "_-dW4Q8VlATo",
        "colab_type": "text"
      },
      "source": [
        "***x***는 **filter** 순회자이기 때문에 그 자체로는 결과를 확인할 수 없어 출력을 위해서는 다음과 같이 자료형 변환을 해줘야 한다. "
      ]
    },
    {
      "cell_type": "code",
      "metadata": {
        "id": "3uEkvfFqlATo",
        "colab_type": "code",
        "colab": {}
      },
      "source": [
        "tuple(x)"
      ],
      "execution_count": null,
      "outputs": []
    },
    {
      "cell_type": "markdown",
      "metadata": {
        "id": "L0VjG8kilATq",
        "colab_type": "text"
      },
      "source": [
        "이번에는 딕셔너리를 필터링해보자."
      ]
    },
    {
      "cell_type": "code",
      "metadata": {
        "id": "tYpcTCmwlATq",
        "colab_type": "code",
        "colab": {}
      },
      "source": [
        "grade = [\n",
        "    {'id': '111', 'point': 10},\n",
        "    {'id': '112', 'point': 5},\n",
        "    {'id': '113', 'point': 7},\n",
        "    {'id': '114', 'point': 9},\n",
        "    {'id': '115', 'point': 3}\n",
        "]"
      ],
      "execution_count": null,
      "outputs": []
    },
    {
      "cell_type": "code",
      "metadata": {
        "id": "idLPoe3zQNe3",
        "colab_type": "code",
        "colab": {
          "base_uri": "https://localhost:8080/",
          "height": 34
        },
        "outputId": "eb03d387-f167-4b50-b9da-44f0beda79de"
      },
      "source": [
        "list(filter(lambda i: i['point'] > 8, grade))"
      ],
      "execution_count": null,
      "outputs": [
        {
          "output_type": "execute_result",
          "data": {
            "text/plain": [
              "[{'id': '111', 'point': 10}, {'id': '114', 'point': 9}]"
            ]
          },
          "metadata": {
            "tags": []
          },
          "execution_count": 11
        }
      ]
    },
    {
      "cell_type": "markdown",
      "metadata": {
        "id": "jjX1MlNllATt",
        "colab_type": "text"
      },
      "source": [
        "물론 순회형(iterable) 객체를 사용하는 다른 함수의 전달인자로 활용될 때는 형변환을 해주지 않아도 된다."
      ]
    },
    {
      "cell_type": "markdown",
      "metadata": {
        "colab_type": "text",
        "id": "ZfSlkZq_lATu"
      },
      "source": [
        "## Lab: 특정 문자열로 시작하는 문자열 추출하기"
      ]
    },
    {
      "cell_type": "markdown",
      "metadata": {
        "colab_type": "text",
        "id": "EMmzEFp-lATv"
      },
      "source": [
        "---\n",
        "\n",
        "- 아래 문자열들을 담고 있는 튜플을 생성한 후 출력한다.\n",
        "    - **'string', 'list', 'dict', 'tuple', 'set'**\n",
        "- **filter()** 함수를 사용하여 방금 만든 튜플의 문자열 중 **'s'**로 시작하는 문자열을 튜플로 반환한다.\n",
        "\n",
        "---\n",
        "\n",
        "**실행 예**\n",
        "\n",
        "<pre>> python starts_s.py\n",
        "('string', 'list', 'dict', 'tuple', 'set')\n",
        "('string', 'set')</pre>"
      ]
    },
    {
      "cell_type": "code",
      "metadata": {
        "id": "ZLcIG6uryVKc",
        "colab_type": "code",
        "colab": {
          "base_uri": "https://localhost:8080/",
          "height": 51
        },
        "outputId": "3dffab5f-59ca-48f5-d1e0-daed3bee0d99"
      },
      "source": [
        "t = 'string', 'list', 'dict', 'tuple', 'set'\n",
        "print(t)\n",
        "x = tuple(filter(lambda x: x.startswith('s'), t))\n",
        "print(x)"
      ],
      "execution_count": null,
      "outputs": [
        {
          "output_type": "stream",
          "text": [
            "('string', 'list', 'dict', 'tuple', 'set')\n",
            "('string', 'set')\n"
          ],
          "name": "stdout"
        }
      ]
    },
    {
      "cell_type": "markdown",
      "metadata": {
        "id": "cg9KWlAglATw",
        "colab_type": "text"
      },
      "source": [
        "## Lab: 양의 정수만 리스트로 담아 출력하기"
      ]
    },
    {
      "cell_type": "markdown",
      "metadata": {
        "id": "VnmUOh7zlATx",
        "colab_type": "text"
      },
      "source": [
        "- - -\n",
        "\n",
        "**-100** 이상 **100** 이하의 정수 중 임의로 **10**개를 뽑아 저장하고 이 리스트 중 **0**보다 큰 정수만 튜플로 담아서 출력하는 프로그램을 **filter()** 함수를 사용하여 구현한다.\n",
        "\n",
        "- - -\n",
        "\n",
        "**힌트**\n",
        "\n",
        "- [random.**sample**(*population, k*)](https://docs.python.org/3/library/random.html?highlight=sample#random.sample)를 사용해서 임의의 숫자를 생성한다.\n",
        "    - Return a *k* length list of unique elements chosen from the *population* sequence or set. \n",
        "    - Used for random sampling without replacement.\n",
        "\n",
        "\n",
        "**실행 예** : 다음 결과는 매번 다를 수 있다.\n",
        "\n",
        "<pre>> python pos_ints.py\n",
        "임의의 10개 정수: [-14, 13, 51, -82, -87, 81, -6, 63, 73, -36]\n",
        "0보다 큰 정수: (13, 51, 81, 63, 73)</pre>"
      ]
    },
    {
      "cell_type": "code",
      "metadata": {
        "colab_type": "code",
        "id": "RreILTJVyXLD",
        "colab": {
          "base_uri": "https://localhost:8080/",
          "height": 51
        },
        "outputId": "05ec06c7-fa30-4a91-fbdd-fe7428e338b1"
      },
      "source": [
        "import random\n",
        "\n",
        "rand_list = random.sample(range(-100, 101), k=10)\n",
        "print('임의의 10개 정수:', rand_list)\n",
        "\n",
        "x = filter(lambda i: i > 0, rand_list)\n",
        "print('0보다 큰 정수:', tuple(x))"
      ],
      "execution_count": null,
      "outputs": [
        {
          "output_type": "stream",
          "text": [
            "임의의 10개 정수: [34, -78, 48, -68, 10, 50, -97, 26, 76, -69]\n",
            "0보다 큰 정수: (34, 48, 10, 50, 26, 76)\n"
          ],
          "name": "stdout"
        }
      ]
    },
    {
      "cell_type": "markdown",
      "metadata": {
        "id": "SgY8WGutlATx",
        "colab_type": "text"
      },
      "source": [
        "## Lab: 5의 배수만 리스트로 담아 출력하기"
      ]
    },
    {
      "cell_type": "markdown",
      "metadata": {
        "id": "scEEfO6dlATy",
        "colab_type": "text"
      },
      "source": [
        "- - -\n",
        "\n",
        "**0** 이상 **200** 이하의 정수 중 임의로 **20**개를 뽑아 저장하고 이 리스트 중 **5**의 배수만 튜플로 담아서 출력하는 프로그램을 **filter()** 함수를 사용하여 구현한다.\n",
        "\n",
        "- - -\n",
        "**힌트**\n",
        "\n",
        "- [random.**sample**(*population, k*)](https://docs.python.org/3/library/random.html?highlight=sample#random.sample)를 사용해서 임의의 숫자를 생성한다.\n",
        "    - Return a *k* length list of unique elements chosen from the *population* sequence or set. \n",
        "    - Used for random sampling without replacement.\n",
        "\n",
        "**실행 예** : 다음 결과는 매번 다를 수 있다.\n",
        "\n",
        "<pre>> python multiple_of_5.py\n",
        "임의의 20개 정수: [175, 191, 159, 75, 182, 78, 4, 184, 70, 47, 105, 98, 27, 173, 113, 71, 180, 193, 187, 37]\n",
        "5의 배수: (175, 75, 70, 105, 180)</pre>"
      ]
    },
    {
      "cell_type": "code",
      "metadata": {
        "colab_type": "code",
        "id": "ejMddyRtyYFP",
        "colab": {
          "base_uri": "https://localhost:8080/",
          "height": 51
        },
        "outputId": "676d3249-9c4f-4cac-cd1e-3af7d0a16b00"
      },
      "source": [
        "import random\n",
        "\n",
        "rand_list = random.sample(range(0, 201), k=20)\n",
        "print('임의의 20개 정수:', rand_list)\n",
        "\n",
        "x = filter(lambda i: i % 5 == 0, rand_list)\n",
        "print('5의 배수:', tuple(x))"
      ],
      "execution_count": null,
      "outputs": [
        {
          "output_type": "stream",
          "text": [
            "임의의 20개 정수: [94, 13, 117, 191, 10, 197, 172, 184, 19, 30, 65, 101, 74, 129, 95, 54, 126, 44, 176, 132]\n",
            "5의 배수: (10, 30, 65, 95)\n"
          ],
          "name": "stdout"
        }
      ]
    },
    {
      "cell_type": "markdown",
      "metadata": {
        "id": "yoB4PuzVlATz",
        "colab_type": "text"
      },
      "source": [
        "## Lab: 숫자로 형변환 가능한 문자열만 숫자로 변환하기"
      ]
    },
    {
      "cell_type": "markdown",
      "metadata": {
        "id": "cnNex82blATz",
        "colab_type": "text"
      },
      "source": [
        "---\n",
        "\n",
        "정수와 문자열을 함께 담고 있는 리스트의 모든 객체 중 정수와 **정수**로 형변환이 가능한 객체들만 정수로 변환하여 리스트에 담아 출력하는 프로그램을 **filter()** 함수를 사용하여 구현한다. \n",
        "\n",
        "---\n",
        "\n",
        "**실행 예**\n",
        "\n",
        "<pre>> python str_to_int_filter.py\n",
        "[1, '2', 3, 'four', '5']\n",
        "[1, 2, 3, 5]</pre>"
      ]
    },
    {
      "cell_type": "code",
      "metadata": {
        "colab_type": "code",
        "id": "5Y9t1LH-yY3U",
        "colab": {
          "base_uri": "https://localhost:8080/",
          "height": 51
        },
        "outputId": "f334127e-381c-4fc8-aac1-5d1854556e5c"
      },
      "source": [
        "def to_int(i):\n",
        "  '''개별 객체를 정수형으로 변환한다.'''\n",
        "  if isinstance(i, str) and i.isdecimal():\n",
        "    return int(i)\n",
        "  elif isinstance(i, int):\n",
        "    return i\n",
        "  else:\n",
        "    return None\n",
        "\n",
        "L = [1, '2', 3, 'four', '5']\n",
        "print(L)\n",
        "x = map(to_int, filter(to_int, L))\n",
        "print(list(x))    "
      ],
      "execution_count": null,
      "outputs": [
        {
          "output_type": "stream",
          "text": [
            "[1, '2', 3, 'four', '5']\n",
            "[1, 2, 3, 5]\n"
          ],
          "name": "stdout"
        }
      ]
    },
    {
      "cell_type": "markdown",
      "metadata": {
        "id": "lpBkQZIJlAT0",
        "colab_type": "text"
      },
      "source": [
        "# **map()** 함수와 **filter()** 함수의 차이"
      ]
    },
    {
      "cell_type": "markdown",
      "metadata": {
        "id": "AA4WrHonlAT1",
        "colab_type": "text"
      },
      "source": [
        "- **map()** 함수는 전달받은 순회형의 객체마다 함께 전달받은 함수를 적용한 결과를 담은 **map** 순화자를 반환한다.\n",
        "\n",
        "- **filter()** 함수는 전달받은 순회형의 객체마다 함께 전달받은 함수를 적용한 결과가 '참(**True**)'인 것만 골라 담은 filter 순회자를 반환한다.\n",
        "\n",
        "즉, **map()** 함수의 실행 결과는 '순회형의 모든 객체에 함수를 적용한 결과'를 모은 것이고, **filter()** 함수의 실행 결과는 '순회형의 모든 객체에 함수를 적용한 결과가 참인 것'을 모은 것이다."
      ]
    },
    {
      "cell_type": "markdown",
      "metadata": {
        "id": "G8UZQx8GlAT1",
        "colab_type": "text"
      },
      "source": [
        "보다 확실하게 이해하기 위해 다음 예를 살펴보자."
      ]
    },
    {
      "cell_type": "code",
      "metadata": {
        "id": "ZflojY4vlAT2",
        "colab_type": "code",
        "colab": {}
      },
      "source": [
        "t = 'abcde', 'efghi', 'ijklm'\n",
        "t_map = map(lambda i: 'e' in i, t)\n",
        "t_filter = filter(lambda i: 'e' in i, t)"
      ],
      "execution_count": null,
      "outputs": []
    },
    {
      "cell_type": "code",
      "metadata": {
        "id": "AXzubfMVUOep",
        "colab_type": "code",
        "colab": {
          "base_uri": "https://localhost:8080/",
          "height": 51
        },
        "outputId": "d509bec4-4a06-4695-e2bf-00063d85ecb8"
      },
      "source": [
        "print(list(t_map))\n",
        "print(list(t_filter))"
      ],
      "execution_count": null,
      "outputs": [
        {
          "output_type": "stream",
          "text": [
            "[True, True, False]\n",
            "['abcde', 'efghi']\n"
          ],
          "name": "stdout"
        }
      ]
    },
    {
      "cell_type": "markdown",
      "metadata": {
        "id": "wbby9TlblAT4",
        "colab_type": "text"
      },
      "source": [
        "**map()** 함수에 조건문인 **if**문을 사용해서 필터 기능을 넣을 수는 있다. 단, 이 경우 반드시 **else**문을 작성해서 조건에 맞지 않는 것도 함께 처리해야 한다."
      ]
    },
    {
      "cell_type": "code",
      "metadata": {
        "id": "2jdI6usOlAT4",
        "colab_type": "code",
        "colab": {}
      },
      "source": [
        "t = 'abcde', 'efghi', 'ijklm'\n",
        "t_filter = filter(lambda i: 'e' in i, t)\n",
        "t_map_if = map(lambda i: i if 'e' in i else None, t)"
      ],
      "execution_count": null,
      "outputs": []
    },
    {
      "cell_type": "code",
      "metadata": {
        "id": "-vY7Y57VURI-",
        "colab_type": "code",
        "colab": {
          "base_uri": "https://localhost:8080/",
          "height": 51
        },
        "outputId": "c1f5e9bb-8f11-4699-baeb-755f33fe0556"
      },
      "source": [
        "print(list(t_filter))\n",
        "print(list(t_map_if))"
      ],
      "execution_count": null,
      "outputs": [
        {
          "output_type": "stream",
          "text": [
            "['abcde', 'efghi']\n",
            "['abcde', 'efghi', None]\n"
          ],
          "name": "stdout"
        }
      ]
    },
    {
      "cell_type": "markdown",
      "metadata": {
        "id": "JCTiyF9_lAT6",
        "colab_type": "text"
      },
      "source": [
        "**map()**의 결과는 '순회형의 모든 객체에 함수를 적용한 결과'를 모은 것이고, **filter()**의 결과는 '순회형의 모든 객체에 함수를 적용한 결과가 참인 것'을 모은 것이라는 점을 기억하자."
      ]
    },
    {
      "cell_type": "markdown",
      "metadata": {
        "id": "crhy4XNNlAT7",
        "colab_type": "text"
      },
      "source": [
        "# **reduce()** 함수"
      ]
    },
    {
      "cell_type": "markdown",
      "metadata": {
        "id": "zrFTFY7ElAT8",
        "colab_type": "text"
      },
      "source": [
        "**functools.reduce()** 함수란?\n",
        "\n",
        "- 두 개의 전달인자를 처리하는 함수와 순회형(iterable) 자료를 전달인자로 받아서 순회형이 담고 있는 객체를 순서대로 왼쪽부터 오른쪽으로 누적한 결과를 하나의 통합한 값으로 반환한다.\n",
        "\n",
        "리스트와 같은 순회형 자료의 객체에 하나씩 적용해서 모든 값을 통합한 결과를 반환할 때 유용하다."
      ]
    },
    {
      "cell_type": "markdown",
      "metadata": {
        "id": "Aw2UJSuDlAT8",
        "colab_type": "text"
      },
      "source": [
        "***\n",
        "\n",
        "[functools.**reduce(*function, iterable[, initializer]*)**](https://docs.python.org/3/library/functools.html#functools.reduce)  \n",
        "Apply *function* of two arguments cumulatively to the items of *iterable*, from left to right, so as to reduce the iterable to a single value. For example, **reduce(lambda x, y: x+y, [1, 2, 3, 4, 5])** calculates **((((1+2)+3)+4)+5)**. The left argument, *x*, is the accumulated value and the right argument, *y*, is the update value from the *iterable*. If the optional *initializer* is present, it is placed before the items of the *iterable* in the calculation, and serves as a default when the *iterable* is empty. If *initializer* is not given and iterable contains only one item, the first item is returned.\n",
        "\n",
        "\n",
        "Roughly equivalent to:\n",
        "```python\n",
        "def reduce(function, iterable, initializer=None):\n",
        "    it = iter(iterable)\n",
        "    if initializer is None:\n",
        "        value = next(it)\n",
        "    else:\n",
        "        value = initializer\n",
        "    for element in it:\n",
        "        value = function(value, element)\n",
        "    return value\n",
        "```\n",
        "\n",
        "See [itertools.accumulate()](https://docs.python.org/3/library/itertools.html#itertools.accumulate) for an iterator that yields all intermediate values.\n",
        "***"
      ]
    },
    {
      "cell_type": "markdown",
      "metadata": {
        "id": "jEtE7maslAT9",
        "colab_type": "text"
      },
      "source": [
        "**functools.reduce()** 함수가 어떤 경우에 유용한지 알아보자."
      ]
    },
    {
      "cell_type": "markdown",
      "metadata": {
        "id": "6HMtAs06lAT9",
        "colab_type": "text"
      },
      "source": [
        "앞서 파이썬 문서에서 설명한 예제를 사용해보자."
      ]
    },
    {
      "cell_type": "code",
      "metadata": {
        "id": "FOLcBiPzlAT-",
        "colab_type": "code",
        "colab": {}
      },
      "source": [
        "from functools import reduce\n",
        "\n",
        "L = [1,  2,  3,  4,  5]\n",
        "reduce(lambda i, j:  i + j,  L)"
      ],
      "execution_count": null,
      "outputs": []
    },
    {
      "cell_type": "code",
      "metadata": {
        "id": "tH0iX8qqY6Q6",
        "colab_type": "code",
        "colab": {
          "base_uri": "https://localhost:8080/",
          "height": 34
        },
        "outputId": "252d325d-4914-4f5b-d674-c6d524b85696"
      },
      "source": [
        "reduce(lambda i, j:  i + j,  L, 5)"
      ],
      "execution_count": null,
      "outputs": [
        {
          "output_type": "execute_result",
          "data": {
            "text/plain": [
              "20"
            ]
          },
          "metadata": {
            "tags": []
          },
          "execution_count": 21
        }
      ]
    },
    {
      "cell_type": "markdown",
      "metadata": {
        "id": "GU5hMcW3lAUA",
        "colab_type": "text"
      },
      "source": [
        "**reduce()**가 없다면 다음과 같이 해야 한다."
      ]
    },
    {
      "cell_type": "code",
      "metadata": {
        "id": "5KXoc_QzlAUB",
        "colab_type": "code",
        "colab": {}
      },
      "source": [
        "def sum_numbers(seq, initializer=0):\n",
        "  total = initializer\n",
        "  for i in seq:\n",
        "    total += i\n",
        "  return total"
      ],
      "execution_count": null,
      "outputs": []
    },
    {
      "cell_type": "code",
      "metadata": {
        "id": "Djbys6TGXick",
        "colab_type": "code",
        "colab": {
          "base_uri": "https://localhost:8080/",
          "height": 34
        },
        "outputId": "370c6536-29cd-44bc-862f-ffc7ab3f5159"
      },
      "source": [
        "L = [1, 2, 3, 4, 5]\n",
        "sum_numbers(L)"
      ],
      "execution_count": null,
      "outputs": [
        {
          "output_type": "execute_result",
          "data": {
            "text/plain": [
              "15"
            ]
          },
          "metadata": {
            "tags": []
          },
          "execution_count": 23
        }
      ]
    },
    {
      "cell_type": "code",
      "metadata": {
        "id": "PSXOj_tfY0qz",
        "colab_type": "code",
        "colab": {
          "base_uri": "https://localhost:8080/",
          "height": 34
        },
        "outputId": "4be79c57-a0ae-4a57-f8c5-eb18d76c4b89"
      },
      "source": [
        "sum_numbers(L, 5)"
      ],
      "execution_count": null,
      "outputs": [
        {
          "output_type": "execute_result",
          "data": {
            "text/plain": [
              "20"
            ]
          },
          "metadata": {
            "tags": []
          },
          "execution_count": 24
        }
      ]
    },
    {
      "cell_type": "markdown",
      "metadata": {
        "colab_type": "text",
        "id": "L5roA8YmlAUD"
      },
      "source": [
        "## Lab: 모든 정수를 곱한 결과 구하기"
      ]
    },
    {
      "cell_type": "markdown",
      "metadata": {
        "colab_type": "text",
        "id": "oafMqsAAlAUE"
      },
      "source": [
        "- - -\n",
        "\n",
        "아래 정수를 담고 있는 튜플을 생성한 후 출력한다.\n",
        "- **2, 3, 4, 5, 6, 7, 8, 9**\n",
        "\n",
        "**reduce()** 함수를 사용하여 방금 만든 튜플의 모든 정수를 곱한 결과를 출력한다.\n",
        "\n",
        "- - -\n",
        "\n",
        "**실행 예**\n",
        "\n",
        "<pre>> python multiply_all.py\n",
        "(2, 3, 4, 5, 6, 7, 8, 9)\n",
        "362,880</pre>"
      ]
    },
    {
      "cell_type": "code",
      "metadata": {
        "colab_type": "code",
        "id": "hMxx8doKyalV",
        "colab": {
          "base_uri": "https://localhost:8080/",
          "height": 51
        },
        "outputId": "7b104892-0693-47f0-aab1-856a9b257c2e"
      },
      "source": [
        "t = tuple(range(2, 10))\n",
        "print(t)\n",
        "x = reduce(lambda i, j: i * j, t)\n",
        "print(f'{x:,}')"
      ],
      "execution_count": null,
      "outputs": [
        {
          "output_type": "stream",
          "text": [
            "(2, 3, 4, 5, 6, 7, 8, 9)\n",
            "362,880\n"
          ],
          "name": "stdout"
        }
      ]
    },
    {
      "cell_type": "markdown",
      "metadata": {
        "toc-hr-collapsed": false,
        "id": "DgcChuGblAUE",
        "colab_type": "text"
      },
      "source": [
        "# **partial()** 함수"
      ]
    },
    {
      "cell_type": "markdown",
      "metadata": {
        "id": "t_p6lmwMlAUF",
        "colab_type": "text"
      },
      "source": [
        "**functools.partial()** 함수란?\n",
        "\n",
        "- 전달인자로 받은 함수에 그 함수의 위치 전달인자나 키워드 전달인자를 적용한 새로운 **partial** 객체를 반환한다."
      ]
    },
    {
      "cell_type": "markdown",
      "metadata": {
        "id": "Kfx7zjuIlAUG",
        "colab_type": "text"
      },
      "source": [
        "***\n",
        "\n",
        "[functools.<b>partial(<i>func, /, \\*args, \\**keywords</i>)</b>](https://docs.python.org/3/library/functools.html?highlight=partial#functools.partial)    \n",
        "Return a new *partial* object which when called will behave like *func* called with the positional arguments *args* and keyword arguments *keywords*. If more arguments are supplied to the call, they are appended to *args*. If additional keyword arguments are supplied, they extend and override *keywords*. Roughly equivalent to:\n",
        "\n",
        "```python\n",
        "def partial(func, /, *args, **keywords):\n",
        "    def newfunc(*fargs, **fkeywords):\n",
        "        newkeywords = {**keywords, **fkeywords}\n",
        "        return func(*args, *fargs, **newkeywords)\n",
        "    newfunc.func = func\n",
        "    newfunc.args = args\n",
        "    newfunc.keywords = keywords\n",
        "    return newfunc\n",
        "```\n",
        "\n",
        "\n",
        "The **partial()** is used for partial function application which “freezes” some portion of a function’s arguments and/or keywords resulting in a new object with a simplified signature. For example, **partial()** can be used to create a callable that behaves like the **int()** function where the base argument defaults to two:\n",
        "\n",
        "```python\n",
        ">>> from functools import partial\n",
        ">>> basetwo = partial(int, base=2)\n",
        ">>> basetwo.__doc__ = 'Convert base 2 string to an int.'\n",
        ">>> basetwo('10010')\n",
        "18\n",
        "```\n",
        "\n",
        "***"
      ]
    },
    {
      "cell_type": "markdown",
      "metadata": {
        "id": "SzzLUZxLlAUH",
        "colab_type": "text"
      },
      "source": [
        "특징은 다음과 같다.\n",
        "\n",
        "- 함수를 일부 기능만 사용할 떄 유용하다.\n",
        "- 지정한 전달인자만 적용하는 함수를 만들어 사용할 수 있기 때문에 함수를 실행할 때 전달인자를 따로 지정할 필요가 없다."
      ]
    },
    {
      "cell_type": "markdown",
      "metadata": {
        "id": "y270gLztlAUH",
        "colab_type": "text"
      },
      "source": [
        "**functools.partial()** 함수가 어떤 경우에 유용한지 알아보자."
      ]
    },
    {
      "cell_type": "markdown",
      "metadata": {
        "id": "JkWUs5wNlAUI",
        "colab_type": "text"
      },
      "source": [
        "다음 예를 **print()** 함수의 매개변수 ***sep***에 기본값인 공백 **' '** 대신 콤마로 분리하기 위해 **', '**를 적용하는 함수를 만든다."
      ]
    },
    {
      "cell_type": "code",
      "metadata": {
        "id": "4LVtsQWilAUI",
        "colab_type": "code",
        "colab": {}
      },
      "source": [
        "from functools import partial\n",
        "\n",
        "cprint = partial(print, sep=', ')\n",
        "\n",
        "cprint(1, 2, 3, 4, 5)\n",
        "print(1, 2, 3, 4, 5)"
      ],
      "execution_count": null,
      "outputs": []
    },
    {
      "cell_type": "code",
      "metadata": {
        "id": "l4EuhW4rlAUK",
        "colab_type": "code",
        "colab": {}
      },
      "source": [
        "# print() 함수를 대표 형식으로 출력한다.\n",
        "print"
      ],
      "execution_count": null,
      "outputs": []
    },
    {
      "cell_type": "code",
      "metadata": {
        "id": "tNOGDjSPlAUM",
        "colab_type": "code",
        "colab": {}
      },
      "source": [
        "# cprint() 함수를 대표 형식으로 출력한다.\n",
        "cprint"
      ],
      "execution_count": null,
      "outputs": []
    },
    {
      "cell_type": "code",
      "metadata": {
        "id": "yLK74BU0lAUO",
        "colab_type": "code",
        "colab": {}
      },
      "source": [
        "# print() 함수의 자료형을 확인핟다.\n",
        "type(print)"
      ],
      "execution_count": null,
      "outputs": []
    },
    {
      "cell_type": "code",
      "metadata": {
        "id": "tNBVuHSNlAUQ",
        "colab_type": "code",
        "colab": {}
      },
      "source": [
        "# cprint 함수의 자료형을 확인한다.\n",
        "type(cprint)"
      ],
      "execution_count": null,
      "outputs": []
    },
    {
      "cell_type": "markdown",
      "metadata": {
        "id": "o6ydGp54lAUS",
        "colab_type": "text"
      },
      "source": [
        "이번에는 **sorted()** 함수의 매개변수 ***key***에 대소문자 구분없이 정렬하도록 하는 람다 함수를 지정하고, 정렬 방식을 기본값인 오름차순 대신 내림차순으로만 적용하는 함수를 만들어 본다."
      ]
    },
    {
      "cell_type": "code",
      "metadata": {
        "id": "xMfh6-2dlAUS",
        "colab_type": "code",
        "colab": {}
      },
      "source": [
        "t = 'Pineapple', 'berry', 'Orange', 'apple', 'grape', 'Banana'\n",
        "print(sorted(t))"
      ],
      "execution_count": null,
      "outputs": []
    },
    {
      "cell_type": "code",
      "metadata": {
        "id": "DZ35p5xClAUU",
        "colab_type": "code",
        "colab": {}
      },
      "source": [
        "from functools import partial\n",
        "\n",
        "my_sorted = partial(sorted, key=str.lower)\n",
        "my_rsorted = partial(sorted, key=str.lower, reverse=True)\n",
        "\n",
        "print(my_sorted(t))\n",
        "print(my_rsorted(t))"
      ],
      "execution_count": null,
      "outputs": []
    },
    {
      "cell_type": "markdown",
      "metadata": {
        "id": "5llVIi14lAUq",
        "colab_type": "text"
      },
      "source": [
        "마지막으로 사용자 함수를 정의하고 이 함수의 일부만 사용하는 함수를 만들어 보자.\n",
        "\n",
        "다음 함수는 임의의 숫자를 전달받은 후 그 숫자를 지정한 수의 거듭제곱으로 계산한 값들을 모두 합해서 반환하는 함수다. 거듭제곱으로 숫자를 지정하지 않으면 기본값인 1이 적용된다."
      ]
    },
    {
      "cell_type": "code",
      "metadata": {
        "id": "7Xi_W8GblAUq",
        "colab_type": "code",
        "colab": {}
      },
      "source": [
        "def sum_of_powers(*args, power=1):\n",
        "  result = 0\n",
        "  for arg in args:\n",
        "    result += arg ** power\n",
        "  return result"
      ],
      "execution_count": null,
      "outputs": []
    },
    {
      "cell_type": "code",
      "metadata": {
        "id": "BOYJYrTRlAUr",
        "colab_type": "code",
        "colab": {}
      },
      "source": [
        "# > def sum_of_powers(*args, power=1):\n",
        "# 위치 전달인자는 세 개와 선택 매개변수의 기본값인 1을 사용해서 함수를 호출한다.\n",
        "x = sum_of_powers(1, 3, 5)\n",
        "print(x)"
      ],
      "execution_count": null,
      "outputs": []
    },
    {
      "cell_type": "code",
      "metadata": {
        "id": "38JCf9bVlAUt",
        "colab_type": "code",
        "colab": {}
      },
      "source": [
        "# > def sum_of_powers(*args, power=1):\n",
        "# 위치 전달인자는 두 개와 선택매개 변수에 \n",
        "# 키워드 전달인자 값을 2로 해서 함수를 호출한다.\n",
        "x = sum_of_powers(1, 3, 5, 7, power=2)\n",
        "print(x)"
      ],
      "execution_count": null,
      "outputs": []
    },
    {
      "cell_type": "code",
      "metadata": {
        "id": "HiU3803LlAUu",
        "colab_type": "code",
        "colab": {}
      },
      "source": [
        "# > def sum_of_powers(*args, power=1):\n",
        "# 위치 전달인자는 네 개와 \n",
        "# 선택매개 변수에 키워드 전달인자 값을 3으로 해서 \n",
        "# 함수를 호출한다.\n",
        "x = sum_of_powers(2, 3, power=3)\n",
        "print(x)"
      ],
      "execution_count": null,
      "outputs": []
    },
    {
      "cell_type": "markdown",
      "metadata": {
        "colab_type": "text",
        "id": "YipC4VpglAUw"
      },
      "source": [
        "## Lab: 전달받은 숫자의 제곱의 합을 구하는 함수 만들기\n",
        "\n",
        "- - -\n",
        "\n",
        "이번에는 **functools.partial()** 함수를 사용해서 **sum_of_powers()** 함수로부터 임의의 숫자를 전달받는 위치 전달인자만 사용하는 함수를 구현한다. 이 함수는 전달받은 숫자의 제곱의 합을 구하는 함수다.\n",
        "\n",
        "- - -\n",
        "\n",
        "**실행 예**\n",
        "\n",
        "<pre>>>> sum_of_squares(1, 3, 5, 7)  # 키워드 매개변수 power가 없다.\n",
        "84</pre>"
      ]
    },
    {
      "cell_type": "code",
      "metadata": {
        "colab_type": "code",
        "id": "jwlAHcdOycXq",
        "colab": {
          "base_uri": "https://localhost:8080/",
          "height": 34
        },
        "outputId": "c6462a2b-930d-4d83-d564-e260c14ae568"
      },
      "source": [
        "def sum_of_powers(*args, power=1):\n",
        "  result = 0\n",
        "  for arg in args:\n",
        "    result += arg ** power\n",
        "  return result\n",
        "\n",
        "from functools import partial\n",
        "sum_of_squares = partial(sum_of_powers, power=2)\n",
        "sum_of_squares(1, 3, 5, 7)"
      ],
      "execution_count": null,
      "outputs": [
        {
          "output_type": "execute_result",
          "data": {
            "text/plain": [
              "84"
            ]
          },
          "metadata": {
            "tags": []
          },
          "execution_count": 37
        }
      ]
    },
    {
      "cell_type": "markdown",
      "metadata": {
        "id": "GZmClCY-lAUx",
        "colab_type": "text"
      },
      "source": [
        "# [참고] 기초 함수지만 중요한 함수\n",
        "\n",
        "자세한 내용은 < 바로 쓰는 파이썬: 기초 편 > 참조"
      ]
    },
    {
      "cell_type": "markdown",
      "metadata": {
        "id": "P4_YqTNOlAUy",
        "colab_type": "text"
      },
      "source": [
        "## **enumerate()** 함수"
      ]
    },
    {
      "cell_type": "markdown",
      "metadata": {
        "id": "u7qAUyiPlAUy",
        "colab_type": "text"
      },
      "source": [
        "**enumerate()** 함수를 사용하는 형식은 다음과 같다.\n",
        "\n",
        "<b><pre>enumerate(순회형, start=0)</pre></b>"
      ]
    },
    {
      "cell_type": "markdown",
      "metadata": {
        "id": "B9WveZvmlAUz",
        "colab_type": "text"
      },
      "source": [
        "다음과 같은 특징이 있다.\n",
        "\n",
        "- ***순회형*** 자료를 전달인자로 받아, ***순회형*** 이 담은 개별 객체와 각 객체의 순서(인덱스 번호)를 **(순번, 객체)** 형식의 쌍으로 순회할 수 있는 열거형(enumerate) 객체를 반환한다.\n",
        "\n",
        "- ***start*** 는 첫 번째 객체의 **시작 번호**다. \n",
        "    - 선택해서 사용할 수 있는 ***start*** 의 기본값은 **0**이지만 다른 값으로 대체할 수 있다."
      ]
    },
    {
      "cell_type": "code",
      "metadata": {
        "id": "2GF5TwbOlAU0",
        "colab_type": "code",
        "colab": {}
      },
      "source": [
        "x = enumerate('abcdefg', start=1)"
      ],
      "execution_count": null,
      "outputs": []
    },
    {
      "cell_type": "code",
      "metadata": {
        "id": "Q_XXtvj0lAU1",
        "colab_type": "code",
        "colab": {}
      },
      "source": [
        "# x의 자료형을 확인한다.\n",
        "type(x)"
      ],
      "execution_count": null,
      "outputs": []
    },
    {
      "cell_type": "code",
      "metadata": {
        "id": "QnjhShTqlAU2",
        "colab_type": "code",
        "colab": {}
      },
      "source": [
        "# x를 출력해서 결과를 확인한다.\n",
        "print(x)"
      ],
      "execution_count": null,
      "outputs": []
    },
    {
      "cell_type": "markdown",
      "metadata": {
        "id": "CNcIoKtllAU4",
        "colab_type": "text"
      },
      "source": [
        "***x*** 는 **enumerate** 순회자이기 때문에 그 자체로는 결과를 확인할 수 없어 출력을 위해서는 다음과 같이 자료형 변환을 해줘야 한다. "
      ]
    },
    {
      "cell_type": "code",
      "metadata": {
        "id": "x6fuDXZSlAU4",
        "colab_type": "code",
        "colab": {}
      },
      "source": [
        "list(x)          "
      ],
      "execution_count": null,
      "outputs": []
    },
    {
      "cell_type": "code",
      "metadata": {
        "id": "SKN_4fsOlAU5",
        "colab_type": "code",
        "colab": {}
      },
      "source": [
        "d = dict(enumerate('abcdefg', 101))\n",
        "print(d)"
      ],
      "execution_count": null,
      "outputs": []
    },
    {
      "cell_type": "markdown",
      "metadata": {
        "id": "t8uTt34rlAU7",
        "colab_type": "text"
      },
      "source": [
        "## **zip()** 함수\n",
        "\n",
        "**zip()** 함수를 사용하는 형식은 다음과 같다.\n",
        "\n",
        "<b><pre>zip(*순회형)</pre></b>\n",
        "\n",
        "다음과 같은 특징이 있다.\n",
        "\n",
        "- 두 개 이상의 ***순회형*** 객체를 받아 각 ***순회형*** 의 개별 객체가 튜플인 순회자를 반환한다. ***i*** 번째 튜플은 각 ***순회형*** 전달인자의 ***i*** 번째 객체를 담고 있다.\n",
        "\n",
        "- ***순회형*** 앞의 __*__는 **0** 또는 그 이상 불특정 다수의 위치 전달인자를 받아서 처리하는 위치 전달인자 패킹 연산자다.\n",
        "\n",
        "- 전달인자가 하나면, 한 개의 객체만 있는 튜플 순회자를 반환한다. \n",
        "\n",
        "- 만약 전달인자가 없으면(**0**개면), 빈 순회자를 반환한다.\n",
        "\n",
        "- ***순회형*** 전달인자 중 가장 길이가 짧은 전달인자의 객체 전부 사용하면 순회자는 멈춘다.\n",
        "    - 즉, 가장 적은 개수를 담은 ***순회형*** 을 기준으로 묶음 처리를 한다."
      ]
    },
    {
      "cell_type": "code",
      "metadata": {
        "id": "QfF-Xlc5lAU8",
        "colab_type": "code",
        "colab": {}
      },
      "source": [
        "x = ('a', 'b', 'c')       # 튜플(길이=3)\n",
        "y = ['i', 'j', 'k', 'l']  # 리스트(길이=4)\n",
        "z = '12345'               # 문자열(길이=5)\n",
        "\n",
        "k = zip(x, y, z)"
      ],
      "execution_count": null,
      "outputs": []
    },
    {
      "cell_type": "code",
      "metadata": {
        "id": "r2bk-uxbgrRo",
        "colab_type": "code",
        "colab": {
          "base_uri": "https://localhost:8080/",
          "height": 34
        },
        "outputId": "025e4547-9000-4780-a49f-0c697e3137e5"
      },
      "source": [
        "# zip() 함수가 반환한 객체의 자료형은 zip 순회자다.\n",
        "type(k)   "
      ],
      "execution_count": null,
      "outputs": [
        {
          "output_type": "execute_result",
          "data": {
            "text/plain": [
              "zip"
            ]
          },
          "metadata": {
            "tags": []
          },
          "execution_count": 44
        }
      ]
    },
    {
      "cell_type": "code",
      "metadata": {
        "id": "kKgRV8JDgstQ",
        "colab_type": "code",
        "colab": {
          "base_uri": "https://localhost:8080/",
          "height": 34
        },
        "outputId": "248c2381-5b10-4c4b-aba7-431d9f138ba4"
      },
      "source": [
        "# zip() 함수가 반환한 객체의 값을 확인한다.\n",
        "print(k)  "
      ],
      "execution_count": null,
      "outputs": [
        {
          "output_type": "stream",
          "text": [
            "<zip object at 0x7fa5d4c75588>\n"
          ],
          "name": "stdout"
        }
      ]
    },
    {
      "cell_type": "code",
      "metadata": {
        "id": "VvNHkebalAU-",
        "colab_type": "code",
        "colab": {}
      },
      "source": [
        "# > x = ('a', 'b', 'c')       # 튜플(길이=3)\n",
        "# > y = ['i', 'j', 'k', 'l']  # 리스트(길이=4)\n",
        "# > z = '12345'               # 문자열(길이=5)\n",
        "# 리스트로 형변환한다.\n",
        "list(zip(x, y, z))  # zip() 함수는 튜플 형식으로 반환한다."
      ],
      "execution_count": null,
      "outputs": []
    },
    {
      "cell_type": "code",
      "metadata": {
        "id": "ca72wcKXlAU_",
        "colab_type": "code",
        "colab": {}
      },
      "source": [
        "# > x = ('a', 'b', 'c')       # 튜플(길이=3)\n",
        "# > z = '12345'               # 문자열(길이=5)\n",
        "# 튜플로 형변환한다.\n",
        "tuple(zip(x, z))    # zip() 함수는 튜플 형식으로 반환한다."
      ],
      "execution_count": null,
      "outputs": []
    },
    {
      "cell_type": "code",
      "metadata": {
        "id": "9VZ0j5UslAVA",
        "colab_type": "code",
        "colab": {}
      },
      "source": [
        "# > x = ('a', 'b', 'c')       # 튜플(길이=3)\n",
        "# > y = ['i', 'j', 'k', 'l']  # 리스트(길이=4)\n",
        "# > z = '12345'               # 문자열(길이=5)\n",
        "# zip() 함수는 튜플 형식으로 반환한다.\n",
        "for t in zip(x, y, z):   \n",
        "    print(t)"
      ],
      "execution_count": null,
      "outputs": []
    },
    {
      "cell_type": "code",
      "metadata": {
        "id": "PtDQVPYOlAVB",
        "colab_type": "code",
        "colab": {}
      },
      "source": [
        "# zip() 함수가 반환한 객체의 자료형은 zip 순회자다.\n",
        "type(zip(x, y, z))"
      ],
      "execution_count": null,
      "outputs": []
    },
    {
      "cell_type": "code",
      "metadata": {
        "id": "9NSprnnFgzlY",
        "colab_type": "code",
        "colab": {
          "base_uri": "https://localhost:8080/",
          "height": 34
        },
        "outputId": "a59a3e48-dff5-4ecf-cf20-a5aad6b96da7"
      },
      "source": [
        "# zip() 함수가 반환한 zip 순회자는 사실상 튜플 형식이다.\n",
        "type(t)  "
      ],
      "execution_count": null,
      "outputs": [
        {
          "output_type": "execute_result",
          "data": {
            "text/plain": [
              "tuple"
            ]
          },
          "metadata": {
            "tags": []
          },
          "execution_count": 50
        }
      ]
    },
    {
      "cell_type": "markdown",
      "metadata": {
        "id": "CSFrS78plAVC",
        "colab_type": "text"
      },
      "source": [
        "시퀀스형 언패킹 연산자 __*__를 사용하면 묶은 것(zip)을 반대로 풀(unzip) 수도 있다."
      ]
    },
    {
      "cell_type": "code",
      "metadata": {
        "id": "SnFSB411lAVC",
        "colab_type": "code",
        "colab": {}
      },
      "source": [
        "k = [('a', 1), ('b', 2), ('c', 3)]\n",
        "x, y = zip(*k)  # 시퀀스형 전달인자 언패킹"
      ],
      "execution_count": null,
      "outputs": []
    },
    {
      "cell_type": "code",
      "metadata": {
        "id": "x9ozpCcEg258",
        "colab_type": "code",
        "colab": {
          "base_uri": "https://localhost:8080/",
          "height": 34
        },
        "outputId": "97a71414-dc1a-4b33-8820-3b8dc3c706fc"
      },
      "source": [
        "x"
      ],
      "execution_count": null,
      "outputs": [
        {
          "output_type": "execute_result",
          "data": {
            "text/plain": [
              "('a', 'b', 'c')"
            ]
          },
          "metadata": {
            "tags": []
          },
          "execution_count": 52
        }
      ]
    },
    {
      "cell_type": "code",
      "metadata": {
        "id": "vb9V11TWg4e_",
        "colab_type": "code",
        "colab": {
          "base_uri": "https://localhost:8080/",
          "height": 34
        },
        "outputId": "dc65fae9-b2c7-4540-98ab-2910e1859d19"
      },
      "source": [
        "y"
      ],
      "execution_count": null,
      "outputs": [
        {
          "output_type": "execute_result",
          "data": {
            "text/plain": [
              "(1, 2, 3)"
            ]
          },
          "metadata": {
            "tags": []
          },
          "execution_count": 53
        }
      ]
    },
    {
      "cell_type": "markdown",
      "metadata": {
        "id": "vIVd7bM6lAVD",
        "colab_type": "text"
      },
      "source": [
        "### Lab: 색깔에 대한 선호도 보여주기\n",
        "\n",
        "---\n",
        "\n",
        "색깔에 대한 선호도를 조사하여 ***colors*** 와 ***counts*** 의 두 리스트에 동일한 순서로 다음과 같이 저장한다.\n",
        "\n",
        "- <pre>colors = ['yellow', 'white', 'red', 'plum', 'pink', 'blue', 'black']</pre>\n",
        "- <pre>counts = [54, 31, 100, 87, 32, 98, 5]</pre>\n",
        "\n",
        "즉, 'yellow'를 좋아한다고 응답한 사람은 총 **54**명이다.\n",
        "\n",
        "\n",
        "두 리스트를 선언하고 색깔별로 좋아하는 사람의 숫자를 출력하는 코드를 구현한다.\n",
        "\n",
        "---\n",
        "\n",
        "**실행 예**\n",
        "\n",
        "<pre>> python color_preference.py\n",
        "색깔 yellow을(를) 좋아하는 사람은 54명입니다.\n",
        "색깔 white을(를) 좋아하는 사람은 31명입니다.\n",
        "색깔 red을(를) 좋아하는 사람은 100명입니다.\n",
        "색깔 plum을(를) 좋아하는 사람은 87명입니다.\n",
        "색깔 pink을(를) 좋아하는 사람은 32명입니다.\n",
        "색깔 blue을(를) 좋아하는 사람은 98명입니다.\n",
        "색깔 black을(를) 좋아하는 사람은 5명입니다.</pre>"
      ]
    },
    {
      "cell_type": "code",
      "metadata": {
        "colab_type": "code",
        "id": "X1h9eXp7yeMS",
        "colab": {
          "base_uri": "https://localhost:8080/",
          "height": 136
        },
        "outputId": "6725050b-547c-42b5-da45-41057cd6eab7"
      },
      "source": [
        "colors = ['yellow', 'white', 'red', 'plum', 'pink', 'blue', 'black']\n",
        "counts = [54, 31, 100, 87, 32, 98, 5]\n",
        "\n",
        "for i, j in zip(colors, counts):\n",
        "  print(f'색깔 {i}을(를) 좋아하는 사람은 {j}명입니다.')"
      ],
      "execution_count": null,
      "outputs": [
        {
          "output_type": "stream",
          "text": [
            "색깔 yellow을(를) 좋아하는 사람은 54명입니다.\n",
            "색깔 white을(를) 좋아하는 사람은 31명입니다.\n",
            "색깔 red을(를) 좋아하는 사람은 100명입니다.\n",
            "색깔 plum을(를) 좋아하는 사람은 87명입니다.\n",
            "색깔 pink을(를) 좋아하는 사람은 32명입니다.\n",
            "색깔 blue을(를) 좋아하는 사람은 98명입니다.\n",
            "색깔 black을(를) 좋아하는 사람은 5명입니다.\n"
          ],
          "name": "stdout"
        }
      ]
    },
    {
      "cell_type": "markdown",
      "metadata": {
        "id": "L74DpyyPlAVD",
        "colab_type": "text"
      },
      "source": [
        "# 종합 실습"
      ]
    },
    {
      "cell_type": "markdown",
      "metadata": {
        "id": "8D7Q1SWKlAVD",
        "colab_type": "text"
      },
      "source": [
        "## Lab: CSV 파일을 딕셔너리 자료형으로 읽기"
      ]
    },
    {
      "cell_type": "markdown",
      "metadata": {
        "id": "_ZkgYBLKSrlK",
        "colab_type": "text"
      },
      "source": [
        "실습을 위해 저장해둔 파일을 내려받도록 한다."
      ]
    },
    {
      "cell_type": "code",
      "metadata": {
        "id": "AX5mVqpISvNJ",
        "colab_type": "code",
        "colab": {
          "base_uri": "https://localhost:8080/",
          "height": 34
        },
        "outputId": "772bcc69-fe20-4f46-8229-6ebff6f66615"
      },
      "source": [
        "!wget -O table.csv -q --show-progress --no-check-certificate 'https://docs.google.com/uc?export=download&id=1Jd5qL03WGukUlrAw4uG2A6tbhQmuYKkl'"
      ],
      "execution_count": null,
      "outputs": [
        {
          "output_type": "stream",
          "text": [
            "\rtable.csv             0%[                    ]       0  --.-KB/s               \rtable.csv           100%[===================>]   6.44K  --.-KB/s    in 0s      \n"
          ],
          "name": "stdout"
        }
      ]
    },
    {
      "cell_type": "markdown",
      "metadata": {
        "id": "FHRaSrOJlAVE",
        "colab_type": "text"
      },
      "source": [
        "- - -\n",
        "파일의 첫 부분을 살펴보면 다음과 같다.\n",
        "\n",
        "```\n",
        "Date,Start,High,Low,End,Volume\n",
        "17.07.17,2545000,2551000,2526000,2532000,157238\n",
        "17.07.14,2550000,2554000,2521000,2524000,164780\n",
        "17.07.13,2504000,2547000,2502000,2528000,320683\n",
        "17.07.12,2450000,2500000,2442000,2494000,189723\n",
        "17.07.11,2432000,2450000,2414000,2450000,194356\n",
        "...\n",
        "```\n",
        "\n",
        "파일의 전체 내용을 하나의 큰 리스트, 파일의 각 행은 딕셔너리 형태로 담는 프로그램을 구현한다.\n",
        "- - -\n",
        "\n",
        "**실행 예**\n",
        "\n",
        "<pre>> python parse_table.py\n",
        "[{'Date': '17.07.17',\n",
        "  'Start': '2545000',\n",
        "  'High': '2551000',\n",
        "  'Low': '2526000',\n",
        "  'End': '2532000',\n",
        "  'Volume': '157238'},\n",
        " {'Date': '17.07.14',\n",
        "  'Start': '2550000',\n",
        "  'High': '2554000',\n",
        "  'Low': '2521000',\n",
        "  'End': '2524000',\n",
        "  'Volume': '164780'},\n",
        " ...</pre>"
      ]
    },
    {
      "cell_type": "code",
      "metadata": {
        "colab_type": "code",
        "id": "4Q_h6RWeyfdS",
        "colab": {}
      },
      "source": [
        "lines = open('table.csv', mode='r').read().splitlines()\n",
        "\n",
        "# 첫 번째 줄에서 열 이름을 가져온다. 나중에 딕셔너리의 키로 사용한다.\n",
        "col_names = lines[0].split(',') \n",
        "\n",
        "result = list(map(lambda i: dict(zip(col_names, i.split(','))), lines[1:]))"
      ],
      "execution_count": null,
      "outputs": []
    },
    {
      "cell_type": "code",
      "metadata": {
        "id": "xcVtT1Ii4hnX",
        "colab_type": "code",
        "colab": {
          "base_uri": "https://localhost:8080/",
          "height": 527
        },
        "outputId": "c61763be-da7d-4212-c379-b158a367c4f9"
      },
      "source": [
        "# 결과의 첫 5행만 출력한다.\n",
        "result[:5]  "
      ],
      "execution_count": null,
      "outputs": [
        {
          "output_type": "execute_result",
          "data": {
            "text/plain": [
              "[{'Date': '17.07.17',\n",
              "  'End': '2532000',\n",
              "  'High': '2551000',\n",
              "  'Low': '2526000',\n",
              "  'Start': '2545000',\n",
              "  'Volume': '157238'},\n",
              " {'Date': '17.07.14',\n",
              "  'End': '2524000',\n",
              "  'High': '2554000',\n",
              "  'Low': '2521000',\n",
              "  'Start': '2550000',\n",
              "  'Volume': '164780'},\n",
              " {'Date': '17.07.13',\n",
              "  'End': '2528000',\n",
              "  'High': '2547000',\n",
              "  'Low': '2502000',\n",
              "  'Start': '2504000',\n",
              "  'Volume': '320683'},\n",
              " {'Date': '17.07.12',\n",
              "  'End': '2494000',\n",
              "  'High': '2500000',\n",
              "  'Low': '2442000',\n",
              "  'Start': '2450000',\n",
              "  'Volume': '189723'},\n",
              " {'Date': '17.07.11',\n",
              "  'End': '2450000',\n",
              "  'High': '2450000',\n",
              "  'Low': '2414000',\n",
              "  'Start': '2432000',\n",
              "  'Volume': '194356'}]"
            ]
          },
          "metadata": {
            "tags": []
          },
          "execution_count": 58
        }
      ]
    },
    {
      "cell_type": "markdown",
      "metadata": {
        "id": "fVrdZ6tRlAVF",
        "colab_type": "text"
      },
      "source": [
        "## Lab: Major League Baseball 통계"
      ]
    },
    {
      "cell_type": "markdown",
      "metadata": {
        "colab_type": "text",
        "id": "Nso0jvMDS4bM"
      },
      "source": [
        "실습을 위해 저장해둔 파일을 내려받도록 한다."
      ]
    },
    {
      "cell_type": "code",
      "metadata": {
        "colab_type": "code",
        "id": "sil23k47S4bN",
        "colab": {
          "base_uri": "https://localhost:8080/",
          "height": 34
        },
        "outputId": "30491e4f-94b9-4958-f660-e8117c4ebb4c"
      },
      "source": [
        "!wget -O MLB_batter.csv -q --show-progress --no-check-certificate 'https://docs.google.com/uc?export=download&id=1dBi2m1wc_MQj2PypiXa57BZdeBMIrK5p'"
      ],
      "execution_count": null,
      "outputs": [
        {
          "output_type": "stream",
          "text": [
            "\rMLB_batter.csv        0%[                    ]       0  --.-KB/s               \rMLB_batter.csv      100%[===================>]   6.38K  --.-KB/s    in 0s      \n"
          ],
          "name": "stdout"
        }
      ]
    },
    {
      "cell_type": "markdown",
      "metadata": {
        "id": "r66kl_DmlAVF",
        "colab_type": "text"
      },
      "source": [
        "- - -\n",
        "파일의 첫 부분을 살펴보면 다음과 같다.\n",
        "\n",
        "```\n",
        "Player,Team,Pos,AB,H,HR,RBI,BB,SO,AVG\n",
        "Altuve. J,HOU,2B,590,204,24,81,58,84,0.346\n",
        "Blackmon. C,COL,CF,644,213,37,104,65,135,0.331\n",
        "Garcia. A,CWS,RF,518,171,18,80,33,111,0.33\n",
        "Murphy. D,WSH,2B,534,172,23,93,52,77,0.322\n",
        "Turner. J,LAD,3B,457,147,21,71,59,56,0.322\n",
        "...\n",
        "```\n",
        "\n",
        "파일 데이터에서 다음 정보를 리스트 형식으로 출력한다.\n",
        "\n",
        "1. **(Q1)** 홈런(HR)이 **30**개 이상인 선수 중 타율(AVG)이 **0.300**을 넘는 선수들의 이름을 리스트로 담아서 출력한다.\n",
        "\n",
        "1. **(Q2)** 삼진(SO)이 **130**개가 넘는 선수 중 안타(H)가 **100**개 미만인 선수들의 이름을 리스트로 담아서 출력한다.\n",
        "\n",
        "- - -\n",
        "\n",
        "**실행 예**\n",
        "\n",
        "<pre>> python mbl_batting.py\n",
        "Q1:\n",
        "['Blackmon. C', 'Votto. J', 'Ozuna. M', 'Arenado. N', 'Trout. M', 'Abreu. J', 'Zimmerman. R', 'Bradley Jr.', 'Souza Jr.']\n",
        "\n",
        "Q2:\n",
        "['Davis. C', 'Gallo. J']</pre>"
      ]
    },
    {
      "cell_type": "code",
      "metadata": {
        "colab_type": "code",
        "id": "l5SoMebhygYA",
        "colab": {
          "base_uri": "https://localhost:8080/",
          "height": 102
        },
        "outputId": "ad1f4e3e-127f-464e-c1a5-f4bae749c7a9"
      },
      "source": [
        "lines = open('MLB_batter.csv', mode='r').read().splitlines()\n",
        "\n",
        "col_names = lines[0].split(',')\n",
        "\n",
        "result = list(map(lambda i: dict(zip(col_names, i.split(','))), \n",
        "                  lines[1:]))\n",
        "\n",
        "q1 = list(map(lambda i: i['Player'], \n",
        "              filter(lambda i: int(i['HR']) >= 30 \n",
        "                     and float(i['AVG']) > 0.3, result)))\n",
        "\n",
        "q2 = list(map(lambda i: i['Player'], \n",
        "              filter(lambda i: int(i['SO']) > 130 \n",
        "                     and int(i['H']) < 100, result)))\n",
        "\n",
        "print('Q1:', q1, sep='\\n', end='\\n\\n')\n",
        "print('Q2:', q2, sep='\\n')"
      ],
      "execution_count": null,
      "outputs": [
        {
          "output_type": "stream",
          "text": [
            "Q1:\n",
            "['Blackmon. C', 'Votto. J', 'Ozuna. M', 'Arenado. N', 'Trout. M', 'Abreu. J', 'Zimmerman. R', 'Bradley Jr.', 'Souza Jr.']\n",
            "\n",
            "Q2:\n",
            "['Davis. C', 'Gallo. J']\n"
          ],
          "name": "stdout"
        }
      ]
    },
    {
      "cell_type": "markdown",
      "metadata": {
        "id": "1T54O7b_lAVF",
        "colab_type": "text"
      },
      "source": [
        "---\n",
        "# <font color='red'>THE END</font>"
      ]
    }
  ]
}