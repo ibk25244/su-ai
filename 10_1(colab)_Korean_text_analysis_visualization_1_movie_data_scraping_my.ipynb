{
  "nbformat": 4,
  "nbformat_minor": 0,
  "metadata": {
    "celltoolbar": "Slideshow",
    "colab": {
      "name": "10-1(colab).Korean-text-analysis-visualization-1-movie-data-scraping의 사본",
      "provenance": [],
      "collapsed_sections": [],
      "include_colab_link": true
    },
    "kernelspec": {
      "display_name": "Python 3",
      "language": "python",
      "name": "python3"
    },
    "language_info": {
      "codemirror_mode": {
        "name": "ipython",
        "version": 3
      },
      "file_extension": ".py",
      "mimetype": "text/x-python",
      "name": "python",
      "nbconvert_exporter": "python",
      "pygments_lexer": "ipython3",
      "version": "3.8.3"
    },
    "toc": {
      "base_numbering": 1,
      "nav_menu": {},
      "number_sections": true,
      "sideBar": true,
      "skip_h1_title": false,
      "title_cell": "Table of Contents",
      "title_sidebar": "Contents",
      "toc_cell": true,
      "toc_position": {},
      "toc_section_display": true,
      "toc_window_display": false
    },
    "varInspector": {
      "cols": {
        "lenName": 16,
        "lenType": 16,
        "lenVar": 40
      },
      "kernels_config": {
        "python": {
          "delete_cmd_postfix": "",
          "delete_cmd_prefix": "del ",
          "library": "var_list.py",
          "varRefreshCmd": "print(var_dic_list())"
        },
        "r": {
          "delete_cmd_postfix": ") ",
          "delete_cmd_prefix": "rm(",
          "library": "var_list.r",
          "varRefreshCmd": "cat(var_dic_list()) "
        }
      },
      "types_to_exclude": [
        "module",
        "function",
        "builtin_function_or_method",
        "instance",
        "_Feature"
      ],
      "window_display": false
    }
  },
  "cells": [
    {
      "cell_type": "markdown",
      "metadata": {
        "id": "view-in-github",
        "colab_type": "text"
      },
      "source": [
        "<a href=\"https://colab.research.google.com/github/ibk25244/su-ai/blob/master/10_1(colab)_Korean_text_analysis_visualization_1_movie_data_scraping_my.ipynb\" target=\"_parent\"><img src=\"https://colab.research.google.com/assets/colab-badge.svg\" alt=\"Open In Colab\"/></a>"
      ]
    },
    {
      "cell_type": "markdown",
      "metadata": {
        "id": "npTjRlT7O0HO",
        "colab_type": "text"
      },
      "source": [
        "- - -\n",
        "\n",
        "<font size=6 color='tomato'>한글 텍스트 분석 및 시각화 - <font color='royalblue'>1 단계 : 데이터 수집</font>   \n",
        "<font size=5 color='purple'>Korean Text Analysis & Visualization - <font color='forestgreen'>Step 1: Movie Review Data Scraping</font>\n",
        "\n",
        "* * *\n",
        "\n",
        "**<font size=4>박 진 수</font>** 교수  \n",
        "Intelligent Data Semantics Lab  \n",
        "Seoul National University\n",
        "\n",
        "- - -"
      ]
    },
    {
      "cell_type": "markdown",
      "metadata": {
        "id": "3FOwoEiZQ77q",
        "colab_type": "toc"
      },
      "source": [
        ">[텍스트 분석 절차](#scrollTo=oVPt_2OiO0HQ)\n",
        "\n",
        ">[첫 번째 리뷰 내용 보여주기](#scrollTo=RIPJCaetD6GH)\n",
        "\n",
        ">>[URL 구조 파악](#scrollTo=guPXvSTVO0HY)\n",
        "\n",
        ">>[웹 상의 데이터 받아오기 : urllib.request.urlopen](#scrollTo=291XzvYQO0HZ)\n",
        "\n",
        ">>[웹 객체 파싱하기 : bs4.BeautifulSoup](#scrollTo=eSvGuOQAO0Hh)\n",
        "\n",
        ">>[웹 페이지(HTML) 구조 파악 : 구글 크롬 브라우저](#scrollTo=O6b3KrfgO0Hn)\n",
        "\n",
        ">[첫 페이지의 리뷰 모두 출력하기](#scrollTo=xemtb62UO0H1)\n",
        "\n",
        ">[여러 페이지의 리뷰 저장하기](#scrollTo=yWk_5NgGO0H7)\n",
        "\n",
        ">>[각 페이지의 URL 구조 패턴](#scrollTo=L2TAZTacO0H8)\n",
        "\n",
        ">>[첫 다섯 페이지의 리뷰 저장하기](#scrollTo=OYfgWMEMO0H8)\n",
        "\n",
        ">[모든 페이지의 리뷰 저장하기](#scrollTo=W_JQFvWTO0IF)\n",
        "\n",
        ">[THE END](#scrollTo=DZbP1gVfO0IV)\n",
        "\n"
      ]
    },
    {
      "cell_type": "markdown",
      "metadata": {
        "id": "oVPt_2OiO0HQ",
        "colab_type": "text"
      },
      "source": [
        "# 텍스트 분석 절차"
      ]
    },
    {
      "cell_type": "markdown",
      "metadata": {
        "colab_type": "text",
        "id": "Rlprr2NpJGgG"
      },
      "source": [
        "**<font size='+3'>1 단계 - 데이터 수집</font>**\n",
        "- 웹, SNS 등에서 분석에 필요한 데이터를 수집한다.\n",
        "- 이미 데이터가 있으면 이 단계는 생략할 수 있다.\n",
        "\n",
        "**2** 단계 - **데이터 전처리**\n",
        "- 자연어를 기계가 이해할 수 있는 인공어(artificial language)로 번역한다.\n",
        "- Tokenization, POS Tagging(형태소 분석), Pruning 등 \n",
        "\n",
        "**3** 단계 - **데이터 탐색**\n",
        "- 분석의 방향성을 제시하기 위해 전처리한 데이터를 탐색한다.\n",
        "- 일반적으로는 단어의 출현 빈도(frequency)를 기반으로 탐색한다.\n",
        "\n",
        "**4** 단계 - **데이터 분석**\n",
        "- 텍스트 데이터를 통해 유의미한 정보를 추출하는 분석을 수행한다.\n",
        "- 감성분석, 토픽모델, 머신러닝 등\n",
        "\n",
        "**5** 단계 - **인사이트 도출**\n",
        "- 경영 환경에서 효과적인 의사 결정에 도움을 줄 수 있는 인사이트를 도출한다."
      ]
    },
    {
      "cell_type": "markdown",
      "metadata": {
        "colab_type": "text",
        "id": "Nt39S5_FO0HR"
      },
      "source": [
        "'웹 스크래핑(web scraping)'이란 웹 상에 존재하는 컨텐츠를 수집하는 작업을 말한다. '웹 크롤링(web crawling)'이라고도 부른다. \n",
        "\n",
        "이를 위해서는 웹페이지를 구성하는 HTML의 구조를 이해하고 필요로 하는 정보만을 뽑아내는 것이 필수적이다.\n",
        "\n",
        "파이썬에서는 **BeautifulSoup**이라는 패키지를 이용하여 HTML을 파싱하고 필요한 정보를 얻을 수 있다."
      ]
    },
    {
      "cell_type": "code",
      "metadata": {
        "id": "YAXTdi3RO0HV",
        "colab_type": "code",
        "colab": {
          "base_uri": "https://localhost:8080/",
          "height": 34
        },
        "outputId": "cf700dc3-c6e9-4e50-8f83-7ad95234c283"
      },
      "source": [
        "import bs4\n",
        "print('BeautifulSoup version...:', bs4.__version__)"
      ],
      "execution_count": 1,
      "outputs": [
        {
          "output_type": "stream",
          "text": [
            "BeautifulSoup version...: 4.6.3\n"
          ],
          "name": "stdout"
        }
      ]
    },
    {
      "cell_type": "markdown",
      "metadata": {
        "colab_type": "text",
        "id": "RIPJCaetD6GH"
      },
      "source": [
        "# 첫 번째 리뷰 내용 보여주기"
      ]
    },
    {
      "cell_type": "markdown",
      "metadata": {
        "colab_type": "text",
        "id": "EeDZ93w4JKIS"
      },
      "source": [
        "[<다음 영화>](https://movie.daum.net/)  웹사이트에서 영화 ['비긴 어게인(2013)'](https://movie.daum.net/moviedb/main?movieId=80780)의 리뷰와 평점을 크롤링한다.\n",
        "- [다음 영화 '비긴 어게인(2013)'](https://movie.daum.net/moviedb/main?movieId=80780)  \n",
        "- 여기 사용하는 예는 '비긴 어게인(2013)'이지만 URL만 변경한다면 <다음 영화> 웹사이트에서 본인이 원하는 어떤 영화의 리뷰와 평점도 크롤링할 수 있다."
      ]
    },
    {
      "cell_type": "markdown",
      "metadata": {
        "colab_type": "text",
        "id": "pP8tIMDzO0HY"
      },
      "source": [
        "네티즌 평점 보기\n",
        "- '평점' 섹션을 클릭해 들어가면 시청자들이 남긴 평점과 리뷰를 볼 수 있다.\n",
        "- <https://movie.daum.net/moviedb/grade?movieId=80780>"
      ]
    },
    {
      "cell_type": "markdown",
      "metadata": {
        "colab_type": "text",
        "id": "guPXvSTVO0HY"
      },
      "source": [
        "## URL 구조 파악"
      ]
    },
    {
      "cell_type": "markdown",
      "metadata": {
        "colab_type": "text",
        "id": "cjzRfZNtO0HZ"
      },
      "source": [
        "URL 구조를 파악하기 위한 팁\n",
        "- URL 구조를 파악하기 위해 두 번째 페이지를 클릭해본다.\n",
        "- 보통 첫 번째 페이지는 메인 페이지와 연결되어 있기 때문에 URL 구조를 보는데 적합하지 않을 수 있다.\n",
        "- 따라서 URL 구조를 파악하기 위해서는 일반적으로 두 번째, 세 번째 페이지를 열어보변서 귀납(inductive reasoning)적으로 파악하면 도움이 된다."
      ]
    },
    {
      "cell_type": "markdown",
      "metadata": {
        "colab_type": "text",
        "id": "291XzvYQO0HZ"
      },
      "source": [
        "## 웹 상의 데이터 받아오기 : **urllib.request.urlopen**"
      ]
    },
    {
      "cell_type": "markdown",
      "metadata": {
        "colab_type": "text",
        "id": "PVLR_SmJO0HZ"
      },
      "source": [
        "이제 URL 구조를 파악하였으니, URL을 통해 웹 상의 리뷰 데이터를 받아올 수 있다."
      ]
    },
    {
      "cell_type": "code",
      "metadata": {
        "colab_type": "code",
        "id": "zC_WmHFW9IEU",
        "colab": {}
      },
      "source": [
        "import urllib\n",
        "\n",
        "# '평점' 섹션의 첫 번째 페이지 URL이다.\n",
        "url = 'https://movie.daum.net/moviedb/grade?movieId=80780&type=netizen&page=1'\n",
        "\n",
        "# urlopen()으로 받아온 리뷰 데이터는 HTTPResponse 객체로 반환한다.\n",
        "response = urllib.request.urlopen(url)"
      ],
      "execution_count": 2,
      "outputs": []
    },
    {
      "cell_type": "code",
      "metadata": {
        "colab_type": "code",
        "id": "2iX6cdhSO0Hc",
        "colab": {
          "base_uri": "https://localhost:8080/",
          "height": 34
        },
        "outputId": "c7ea4849-9960-4b46-e08b-f2202665b248"
      },
      "source": [
        "type(response)"
      ],
      "execution_count": 3,
      "outputs": [
        {
          "output_type": "execute_result",
          "data": {
            "text/plain": [
              "http.client.HTTPResponse"
            ]
          },
          "metadata": {
            "tags": []
          },
          "execution_count": 3
        }
      ]
    },
    {
      "cell_type": "code",
      "metadata": {
        "colab_type": "code",
        "id": "vBhVswXqO0He",
        "colab": {
          "base_uri": "https://localhost:8080/",
          "height": 34
        },
        "outputId": "af45a235-6a8a-407f-c139-dee3dbd22e61"
      },
      "source": [
        "response"
      ],
      "execution_count": 4,
      "outputs": [
        {
          "output_type": "execute_result",
          "data": {
            "text/plain": [
              "<http.client.HTTPResponse at 0x7eff7cd9c4a8>"
            ]
          },
          "metadata": {
            "tags": []
          },
          "execution_count": 4
        }
      ]
    },
    {
      "cell_type": "markdown",
      "metadata": {
        "colab_type": "text",
        "id": "DTIGq4KjO0Hh"
      },
      "source": [
        "이 데이터는 **HTTPResponse** 객체 형식으로 되어있기 때문에 바로 사용할 수 없고 파싱(parsing)이라는 절차를 거쳐 우리가 직관적으로 이해할 수 있는 텍스트 형식으로 변환하여야 한다."
      ]
    },
    {
      "cell_type": "markdown",
      "metadata": {
        "colab_type": "text",
        "id": "eSvGuOQAO0Hh"
      },
      "source": [
        "## 웹 객체 파싱하기 : **bs4.BeautifulSoup**"
      ]
    },
    {
      "cell_type": "code",
      "metadata": {
        "colab_type": "code",
        "id": "9pe1HljgO0Hi",
        "colab": {}
      },
      "source": [
        "from bs4 import BeautifulSoup\n",
        "\n",
        "# BeautifulSoup() 클래스의 인스턴스로 웹 데이터를 파싱한다. \n",
        "# Parser는 일반적으로 많이 사용하는 'html.parser'를 사용한다.\n",
        "bs = BeautifulSoup(response, 'html.parser')  # 'html5lib'"
      ],
      "execution_count": 5,
      "outputs": []
    },
    {
      "cell_type": "code",
      "metadata": {
        "colab_type": "code",
        "id": "GmjLsPnlO0Hk",
        "colab": {
          "base_uri": "https://localhost:8080/",
          "height": 34
        },
        "outputId": "018e9164-1400-4d00-a168-c99b2bb7e432"
      },
      "source": [
        "type(bs)"
      ],
      "execution_count": 6,
      "outputs": [
        {
          "output_type": "execute_result",
          "data": {
            "text/plain": [
              "bs4.BeautifulSoup"
            ]
          },
          "metadata": {
            "tags": []
          },
          "execution_count": 6
        }
      ]
    },
    {
      "cell_type": "code",
      "metadata": {
        "colab_type": "code",
        "id": "2QAoJEg8O0Hl",
        "colab": {}
      },
      "source": [
        "bs"
      ],
      "execution_count": null,
      "outputs": []
    },
    {
      "cell_type": "markdown",
      "metadata": {
        "colab_type": "text",
        "id": "O6b3KrfgO0Hn"
      },
      "source": [
        "## 웹 페이지(HTML) 구조 파악 : 구글 크롬 브라우저"
      ]
    },
    {
      "cell_type": "markdown",
      "metadata": {
        "colab_type": "text",
        "id": "2qc_faU8O0Ho"
      },
      "source": [
        "가져올 리뷰 데이터 구조 파악\n",
        "- 웹 스크레핑을 위해 웹 페이지의 전체 구조를 파악할 필요는 없다.\n",
        "- 구글 크롬(chrome) 브라우저로 얻고자 하는 데이터를 선택하고 마우스 오른쪽 클릭 후 '검사'를 클릭하면 HTML 소스 코드를 볼 수 있다."
      ]
    },
    {
      "cell_type": "markdown",
      "metadata": {
        "colab_type": "text",
        "id": "gqL_H__yO0Hp"
      },
      "source": [
        "HTML 소스 코드 패턴 분석\n",
        "- HTML 소스 코드를 자세히 살펴보면 우리가 수집하려는 리뷰 텍스트는 반복된 형식을 보여주고 있다.\n",
        "\n",
        "```\n",
        "<p class=\"desc_review\">리뷰 내용</p>\n",
        "```"
      ]
    },
    {
      "cell_type": "code",
      "metadata": {
        "id": "cfguwm2kp2Rk",
        "colab_type": "code",
        "colab": {
          "base_uri": "https://localhost:8080/",
          "height": 87
        },
        "outputId": "2b62adaa-390a-44b4-b248-0f912353079c"
      },
      "source": [
        "# --- 방법 1\n",
        "bs.find('p', 'desc_review')"
      ],
      "execution_count": 8,
      "outputs": [
        {
          "output_type": "execute_result",
          "data": {
            "text/plain": [
              "<p class=\"desc_review\"> <!-- 모바일에서 더보기 클릭시 style=\"height:auto\" -->\n",
              "                                            어쩌다 단체로 본 상큼한 음악영화.\n",
              "<br/>상상속에서 악기편성하는게 재미 있었고 뭔가 이루어질 듯 하다가 그냥 헤어지는 여운이 있다.\n",
              "                                        </p>"
            ]
          },
          "metadata": {
            "tags": []
          },
          "execution_count": 8
        }
      ]
    },
    {
      "cell_type": "code",
      "metadata": {
        "id": "p7_lokskp5XK",
        "colab_type": "code",
        "colab": {
          "base_uri": "https://localhost:8080/",
          "height": 87
        },
        "outputId": "c38370e7-c603-4aaf-a45d-5c3d37970b19"
      },
      "source": [
        "# --- 방법 2\n",
        "# python 에서는 class가 사용값\n",
        "bs.find('p', class_='desc_review')"
      ],
      "execution_count": 9,
      "outputs": [
        {
          "output_type": "execute_result",
          "data": {
            "text/plain": [
              "<p class=\"desc_review\"> <!-- 모바일에서 더보기 클릭시 style=\"height:auto\" -->\n",
              "                                            어쩌다 단체로 본 상큼한 음악영화.\n",
              "<br/>상상속에서 악기편성하는게 재미 있었고 뭔가 이루어질 듯 하다가 그냥 헤어지는 여운이 있다.\n",
              "                                        </p>"
            ]
          },
          "metadata": {
            "tags": []
          },
          "execution_count": 9
        }
      ]
    },
    {
      "cell_type": "code",
      "metadata": {
        "id": "WXzyJhLyp8mC",
        "colab_type": "code",
        "colab": {
          "base_uri": "https://localhost:8080/",
          "height": 87
        },
        "outputId": "eb7d7791-4e3b-4cca-ca5f-c32cbfdb3da0"
      },
      "source": [
        "# --- 방법 3\n",
        "# 딕셔너리 key, value 로 찾아옴\n",
        "bs.find('p', {'class' : 'desc_review'})"
      ],
      "execution_count": 10,
      "outputs": [
        {
          "output_type": "execute_result",
          "data": {
            "text/plain": [
              "<p class=\"desc_review\"> <!-- 모바일에서 더보기 클릭시 style=\"height:auto\" -->\n",
              "                                            어쩌다 단체로 본 상큼한 음악영화.\n",
              "<br/>상상속에서 악기편성하는게 재미 있었고 뭔가 이루어질 듯 하다가 그냥 헤어지는 여운이 있다.\n",
              "                                        </p>"
            ]
          },
          "metadata": {
            "tags": []
          },
          "execution_count": 10
        }
      ]
    },
    {
      "cell_type": "code",
      "metadata": {
        "id": "mt6vhMTMp-1e",
        "colab_type": "code",
        "colab": {}
      },
      "source": [
        "# --- 방법 4\n",
        "review = bs.find(class_='desc_review')"
      ],
      "execution_count": 12,
      "outputs": []
    },
    {
      "cell_type": "code",
      "metadata": {
        "colab_type": "code",
        "id": "-pnAMjRGO0Hx",
        "colab": {
          "base_uri": "https://localhost:8080/",
          "height": 34
        },
        "outputId": "4e4d416e-7ff1-4123-d1fe-c68107c2e49a"
      },
      "source": [
        "type(review)"
      ],
      "execution_count": 13,
      "outputs": [
        {
          "output_type": "execute_result",
          "data": {
            "text/plain": [
              "bs4.element.Tag"
            ]
          },
          "metadata": {
            "tags": []
          },
          "execution_count": 13
        }
      ]
    },
    {
      "cell_type": "code",
      "metadata": {
        "id": "lordRj7HqIx_",
        "colab_type": "code",
        "colab": {
          "base_uri": "https://localhost:8080/",
          "height": 35
        },
        "outputId": "162c86d8-e65d-4eaf-bbf9-285203f5bb07"
      },
      "source": [
        "# 텍스트만 추출한 후 화이트스페이스(whitespace)를 제거하고 출력한다.\n",
        "# 첫 번째 리뷰의 내용이 없다면 공백으로 출력될 수도 있다.\n",
        "review.get_text(strip=True)"
      ],
      "execution_count": 16,
      "outputs": [
        {
          "output_type": "execute_result",
          "data": {
            "application/vnd.google.colaboratory.intrinsic+json": {
              "type": "string"
            },
            "text/plain": [
              "'어쩌다 단체로 본 상큼한 음악영화.상상속에서 악기편성하는게 재미 있었고 뭔가 이루어질 듯 하다가 그냥 헤어지는 여운이 있다.'"
            ]
          },
          "metadata": {
            "tags": []
          },
          "execution_count": 16
        }
      ]
    },
    {
      "cell_type": "code",
      "metadata": {
        "id": "_K7ugwFDdXx4",
        "colab_type": "code",
        "colab": {}
      },
      "source": [
        "reviews = bs.findAll(class_='desc_review')"
      ],
      "execution_count": 18,
      "outputs": []
    },
    {
      "cell_type": "code",
      "metadata": {
        "id": "XjSVYGrqdh6P",
        "colab_type": "code",
        "colab": {
          "base_uri": "https://localhost:8080/",
          "height": 34
        },
        "outputId": "7f9fc294-c54f-48a9-dd9b-bde6d3f9646e"
      },
      "source": [
        "type(reviews)"
      ],
      "execution_count": 19,
      "outputs": [
        {
          "output_type": "execute_result",
          "data": {
            "text/plain": [
              "bs4.element.ResultSet"
            ]
          },
          "metadata": {
            "tags": []
          },
          "execution_count": 19
        }
      ]
    },
    {
      "cell_type": "code",
      "metadata": {
        "id": "KQZ14VCjdm52",
        "colab_type": "code",
        "colab": {
          "base_uri": "https://localhost:8080/",
          "height": 193
        },
        "outputId": "1bd40df8-53d8-459e-b0be-c58968b07d63"
      },
      "source": [
        "for i in reviews :\n",
        "  print(i.get_text(strip=True))"
      ],
      "execution_count": 21,
      "outputs": [
        {
          "output_type": "stream",
          "text": [
            "어쩌다 단체로 본 상큼한 음악영화.상상속에서 악기편성하는게 재미 있었고 뭔가 이루어질 듯 하다가 그냥 헤어지는 여운이 있다.\n",
            "좋아요...\n",
            "맘이 ..\n",
            "\n",
            "\n",
            "\n",
            "\n",
            "조금 한템포 쉬어가는 영화였으면 대박이었을까\n",
            "^^\n",
            "\n"
          ],
          "name": "stdout"
        }
      ]
    },
    {
      "cell_type": "markdown",
      "metadata": {
        "colab_type": "text",
        "id": "xemtb62UO0H1"
      },
      "source": [
        "# 첫 페이지의 리뷰 모두 출력하기"
      ]
    },
    {
      "cell_type": "markdown",
      "metadata": {
        "colab_type": "text",
        "id": "DSSQPLxMO0H2"
      },
      "source": [
        "앞의 예에서는 첫 번째 리뷰만 찾아서 텍스트를 추출했는데, 여기서는 첫 페이지의 모든 리뷰를 리스트로 받아온 후 **for** 문을 활용해 각 리뷰를 꺼내 텍스트만 추출한다.\n",
        "- **find_all**() : 전달인자로 받은 태그를 모두 찾아서 리스트(list) 자료형으로 반환한다."
      ]
    },
    {
      "cell_type": "code",
      "metadata": {
        "id": "hxITZu_dqnRv",
        "colab_type": "code",
        "colab": {}
      },
      "source": [
        "# --- 웹 스크래핑에 필요한 모듈을 불러온다.\n",
        "from urllib.request import urlopen\n",
        "# from bs4 import BeautifulSoup\n",
        "# import urllib\n",
        "\n",
        "# '비긴 어게인(2013)' 영화 리뷰의 첫 페이지를 가져온다.\n",
        "# URL만 바꾸면 다른 영화 리뷰 데이터 수집할 수 있다.\n",
        "url = 'https://movie.daum.net/moviedb/grade?movieId=134698&type=netizen&page=1' \n",
        "\n",
        "try:\n",
        "    response = urlopen(url)\n",
        "except urllib.error.HTTPError as err:\n",
        "    print('The server returned an HTTP error:', err)\n",
        "except urllib.error.URLError as err:\n",
        "    print('The server could not be found!', err)\n",
        "else:\n",
        "    bs = BeautifulSoup(response, 'html.parser')  # 'html5lib'"
      ],
      "execution_count": 24,
      "outputs": []
    },
    {
      "cell_type": "code",
      "metadata": {
        "id": "JmG1Otmwqx1c",
        "colab_type": "code",
        "colab": {
          "base_uri": "https://localhost:8080/",
          "height": 193
        },
        "outputId": "64a909f3-5b94-43f8-aeaf-d607196f44f1"
      },
      "source": [
        "# --- 해당 페이지의 리뷰들을 추출한 후 리스트에 추가한다.\n",
        "# find_all(name, attrs, recursive, string, limit, **kwargs) 메소드를 통해 모든 리뷰를 추출한다.\n",
        "tag_reviews = bs.find_all(class_='desc_review')\n",
        "\n",
        "# --- 평점도 동일하게 작업한다.\n",
        "tag_grades = bs.find_all(class_='emph_grade')\n",
        "\n",
        "\n",
        "if tag_reviews is not None:\n",
        "    reviews = [review.get_text(strip=True) for review in tag_reviews]\n",
        "\n",
        "if tag_grades is not None:\n",
        "    grades = [grade.get_text() for grade in tag_grades]\n",
        "\n",
        "# 결과를 출력한다.    \n",
        "for i, review in enumerate(reviews):\n",
        "    print(f'{grades[i]} - {review}')"
      ],
      "execution_count": 25,
      "outputs": [
        {
          "output_type": "stream",
          "text": [
            "9 - 감동적이었어요!!!\n",
            "8 - 다시금 주변국에 의해 좌지우지 되지 않도록 힘을 키워야겠다는 생각이 드네요\n",
            "10 - 감동깊게 잘보고 왔읍니다. 평일조조 이지만 사람이 많았어요. 일산에서 우리나라의 미래를 보는듯 합니다. 평화 통일\n",
            "10 - \n",
            "10 - 오랫만에 재밌게 영화 봤어요 감독이 공부를 많이한듯~오락성도 뛰어남\n",
            "10 - 좋은 영화!!\n",
            "10 - 많은 생각을 하게 만드는 영화였습니다...\n",
            "10 - 이 영화가 불편한 인간들  많네 ...몰래몰래 유니클로 들어가는 인간들\n",
            "2 - \n",
            "10 - \n"
          ],
          "name": "stdout"
        }
      ]
    },
    {
      "cell_type": "markdown",
      "metadata": {
        "colab_type": "text",
        "id": "yWk_5NgGO0H7"
      },
      "source": [
        "# 여러 페이지의 리뷰 저장하기"
      ]
    },
    {
      "cell_type": "markdown",
      "metadata": {
        "colab_type": "text",
        "id": "L2TAZTacO0H8"
      },
      "source": [
        "## 각 페이지의 URL 구조 패턴"
      ]
    },
    {
      "cell_type": "markdown",
      "metadata": {
        "colab_type": "text",
        "id": "AnSUj4guO0H8"
      },
      "source": [
        "앞서 파악한 각 페이지의 URL 구조는 아래와 같다.\n",
        "- http://movie.daum.net/moviedb/grade?movieId=80780&type=netizen&page=1\n",
        "- http://movie.daum.net/moviedb/grade?movieId=80780&type=netizen&page=2\n",
        "- http://movie.daum.net/moviedb/grade?movieId=80780&type=netizen&page=3\n",
        "- ...\n",
        "- http://movie.daum.net/moviedb/grade?movieId=80780&type=netizen&page=n\n",
        "\n",
        "다른 구조는 모두 같지만 맨 뒤의 정수(**1**, **2**, **3**,...)만 달라지면서 페이지가 달라진다.\n",
        "\n",
        "그러므로, 여러 페이지의 리뷰에 접근하기 위해서는 맨 뒤의 정수만 바꿔가면서 페이지를 열면 된다."
      ]
    },
    {
      "cell_type": "markdown",
      "metadata": {
        "colab_type": "text",
        "id": "OYfgWMEMO0H8"
      },
      "source": [
        "## 첫 다섯 페이지의 리뷰 저장하기"
      ]
    },
    {
      "cell_type": "code",
      "metadata": {
        "id": "Ud_iIYA-rYUL",
        "colab_type": "code",
        "colab": {}
      },
      "source": [
        "# --- '비긴 어게인(2013)' 영화 리뷰의 첫 5페이지 리뷰를 모두 가져온다.\n",
        "# from urllib.request import urlopen\n",
        "# from bs4 import BeautifulSoup\n",
        "\n",
        "grades = []                # 태그를 제거한 리뷰 평점 전체를 담을 리스트를 초기화한다.\n",
        "reviews = []               # 태그를 제거한 리뷰 전체를 담을 리스트를 초기화한다.\n",
        "\n",
        "try:\n",
        "    # 첫 다섯 페이지의 리뷰를 출력하고 저장한다.\n",
        "    for i in range(5):\n",
        "        #url = 'https://movie.daum.net/moviedb/grade?movieId=134698&type=netizen&page=' + str(i+1)\n",
        "        url = 'https://movie.daum.net/moviedb/grade?movieId=134698&type=netizen&page=' + f'{i+1}'\n",
        "        \n",
        "        http = urlopen(url)\n",
        "        bs = BeautifulSoup(http, 'html.parser')  # 'html5lib'\n",
        "        \n",
        "        # 해당 페이지의 평점을 추출한다.\n",
        "        grades += [grade.get_text() for grade in bs.find_all(class_='emph_grade')]\n",
        "        \n",
        "        # 해당 페이지의 리뷰를 추출한다.\n",
        "        reviews += [review.get_text(strip=True) for review in bs.find_all(class_='desc_review')]\n",
        "\n",
        "        # 진행 사항을 표시한다.\n",
        "        print(f'... {i + 1} 페이지 완료')\n",
        "    else:\n",
        "        print('=' * 7, 'Job completed!', '=' * 25)\n",
        "except urllib.error.HTTPError as err:\n",
        "    print('The server returned an HTTP error:', err)\n",
        "except urllib.error.URLError as err:\n",
        "    print('The server could not be found!', err)"
      ],
      "execution_count": null,
      "outputs": []
    },
    {
      "cell_type": "code",
      "metadata": {
        "id": "dEK_n4m0fTmp",
        "colab_type": "code",
        "colab": {}
      },
      "source": [
        "grades"
      ],
      "execution_count": null,
      "outputs": []
    },
    {
      "cell_type": "code",
      "metadata": {
        "id": "vavz8bb0ffEU",
        "colab_type": "code",
        "colab": {}
      },
      "source": [
        "reviews \n"
      ],
      "execution_count": null,
      "outputs": []
    },
    {
      "cell_type": "code",
      "metadata": {
        "colab_type": "code",
        "id": "qocPCh0ernvU",
        "colab": {}
      },
      "source": [
        "# --- 가져온 내용을 파일로 저장한다.\n",
        "path = 'movie-reviews-5-pages.txt'\n",
        "\n",
        "# 리뷰 전체 내용을 텍스트 파일 쓰기 모드로 연다.\n",
        "with open(path, mode='w', encoding='utf-8') as file:\n",
        "  for i, review in enumerate(reviews):\n",
        "    file.write(grades[i] + '|')\n",
        "    file.write(review + '\\n')\n"
      ],
      "execution_count": 30,
      "outputs": []
    },
    {
      "cell_type": "code",
      "metadata": {
        "colab_type": "code",
        "id": "p5QTyZKU-PkY",
        "colab": {
          "base_uri": "https://localhost:8080/",
          "height": 17
        },
        "outputId": "fffa9084-4c67-4a4a-f115-5df9a8f4004a"
      },
      "source": [
        "# ======= For Google Colaboratory ===============================\n",
        "# --- 수집한 데이터와 전처리한 데이터를 로컬 파일로 내려받기를 한다.\n",
        "from google.colab import files\n",
        "files.download(path)"
      ],
      "execution_count": 31,
      "outputs": [
        {
          "output_type": "display_data",
          "data": {
            "application/javascript": [
              "\n",
              "    async function download(id, filename, size) {\n",
              "      if (!google.colab.kernel.accessAllowed) {\n",
              "        return;\n",
              "      }\n",
              "      const div = document.createElement('div');\n",
              "      const label = document.createElement('label');\n",
              "      label.textContent = `Downloading \"${filename}\": `;\n",
              "      div.appendChild(label);\n",
              "      const progress = document.createElement('progress');\n",
              "      progress.max = size;\n",
              "      div.appendChild(progress);\n",
              "      document.body.appendChild(div);\n",
              "\n",
              "      const buffers = [];\n",
              "      let downloaded = 0;\n",
              "\n",
              "      const channel = await google.colab.kernel.comms.open(id);\n",
              "      // Send a message to notify the kernel that we're ready.\n",
              "      channel.send({})\n",
              "\n",
              "      for await (const message of channel.messages) {\n",
              "        // Send a message to notify the kernel that we're ready.\n",
              "        channel.send({})\n",
              "        if (message.buffers) {\n",
              "          for (const buffer of message.buffers) {\n",
              "            buffers.push(buffer);\n",
              "            downloaded += buffer.byteLength;\n",
              "            progress.value = downloaded;\n",
              "          }\n",
              "        }\n",
              "      }\n",
              "      const blob = new Blob(buffers, {type: 'application/binary'});\n",
              "      const a = document.createElement('a');\n",
              "      a.href = window.URL.createObjectURL(blob);\n",
              "      a.download = filename;\n",
              "      div.appendChild(a);\n",
              "      a.click();\n",
              "      div.remove();\n",
              "    }\n",
              "  "
            ],
            "text/plain": [
              "<IPython.core.display.Javascript object>"
            ]
          },
          "metadata": {
            "tags": []
          }
        },
        {
          "output_type": "display_data",
          "data": {
            "application/javascript": [
              "download(\"download_bf8899a4-a819-4de8-b95b-24f089dfe801\", \"movie-reviews-5-pages.txt\", 4581)"
            ],
            "text/plain": [
              "<IPython.core.display.Javascript object>"
            ]
          },
          "metadata": {
            "tags": []
          }
        }
      ]
    },
    {
      "cell_type": "markdown",
      "metadata": {
        "colab_type": "text",
        "id": "W_JQFvWTO0IF"
      },
      "source": [
        "# 모든 페이지의 리뷰 저장하기"
      ]
    },
    {
      "cell_type": "markdown",
      "metadata": {
        "colab_type": "text",
        "id": "DxJDc6nUJgC7"
      },
      "source": [
        "먼저 총 리뷰 개수와 리뷰 페이지 수를 구하고 **for** 문을 통해서 앞서 작성한 리뷰와 평점 추출을 반복하자.\n",
        "\n",
        "**[주의] : 아래 코드는 모든 리뷰 페이지를 가져오기 때문에 다소 시간이 걸릴 수 있다.**"
      ]
    },
    {
      "cell_type": "code",
      "metadata": {
        "id": "ZWTf1aSzsxeg",
        "colab_type": "code",
        "colab": {}
      },
      "source": [
        "# --- '비긴 어게인(2013)' 영화 리뷰의 첫 페이지를 가져온다.\n",
        "# from urllib.request import urlopen\n",
        "# from bs4 import BeautifulSoup\n",
        "# import urllib\n",
        "\n",
        "# URL만 바꾸면 다른 영화 리뷰 데이터 수집할 수 있다.\n",
        "movie_id = '134698'\n",
        "url = 'https://movie.daum.net/moviedb/grade?movieId=' + movie_id + '&type=netizen&page=1' \n",
        "\n",
        "try:\n",
        "    http = urlopen(url)\n",
        "except urllib.error.HTTPError as err:\n",
        "    print('The server returned an HTTP error:', err)\n",
        "except urllib.error.URLError as err:\n",
        "    print('The server could not be found!', err)\n",
        "else:\n",
        "    bs = BeautifulSoup(http, 'html.parser')  # 'html5lib'"
      ],
      "execution_count": null,
      "outputs": []
    },
    {
      "cell_type": "code",
      "metadata": {
        "id": "RPW2YUS4s6QJ",
        "colab_type": "code",
        "colab": {
          "base_uri": "https://localhost:8080/",
          "height": 34
        },
        "outputId": "20367f88-0d40-4579-834c-99a6b6f0e0dd"
      },
      "source": [
        "# -- 리뷰를 작성한 전체 네티즌의 인원을 담고 있는 태그를 가져온다\n",
        "reviewers = bs.find('span', class_='txt_menu').get_text(strip=True)\n",
        "print(reviewers)"
      ],
      "execution_count": 44,
      "outputs": [
        {
          "output_type": "stream",
          "text": [
            "(2,477)\n"
          ],
          "name": "stdout"
        }
      ]
    },
    {
      "cell_type": "code",
      "metadata": {
        "id": "Y1u52DjStHXt",
        "colab_type": "code",
        "colab": {
          "base_uri": "https://localhost:8080/",
          "height": 34
        },
        "outputId": "53c7a9d3-b653-4852-8040-564e96796194"
      },
      "source": [
        "# --- 총 리뷰 개수를 10으로 나누어 페이지 개수를 계산할 수 있다.\n",
        "# 평가를 한 네티즌 인원 수를 받아들여 공백을 지운다.\n",
        "# 총 리뷰 개수의 양쪽 괄호를 지우고 1000명이 넘으면 \n",
        "# 콤마를 제거해야 integer 전환시 에러가 없다.\n",
        "\n",
        "total = reviewers[1:-1]\n",
        "total = total.replace(\",\", \"\")\n",
        "total = int(total)\n",
        "\n",
        "print(f'총 리뷰 개수: {total:,}')"
      ],
      "execution_count": 47,
      "outputs": [
        {
          "output_type": "stream",
          "text": [
            "총 리뷰 개수: 2,477\n"
          ],
          "name": "stdout"
        }
      ]
    },
    {
      "cell_type": "code",
      "metadata": {
        "id": "m2vwe7TLtXml",
        "colab_type": "code",
        "colab": {
          "base_uri": "https://localhost:8080/",
          "height": 34
        },
        "outputId": "301db6c2-31cc-4fee-f99c-09d09dcf752d"
      },
      "source": [
        "# --- 총 페이지 수를 계산한다.\n",
        "# 총 평점 개수를 10으로 나누고 정수로 변환해 총 페이지 개수를 계산한다.\n",
        "# 10으로 나누는 이유는 한 페이지당 평점이 10개씩 있어서 그렇다.\n",
        "# 총 페이지 수를 계산한 결과를 변수 page_no에 할당한다.\n",
        "\n",
        "if total % 10 == 0 :\n",
        "  page_no = int(total/10)\n",
        "else :\n",
        "  page_no = int(total/10) +1\n",
        "\n",
        "print(f'총 리뷰 페이지 수...: {page_no:,}')"
      ],
      "execution_count": 50,
      "outputs": [
        {
          "output_type": "stream",
          "text": [
            "총 리뷰 페이지 수...: 248\n"
          ],
          "name": "stdout"
        }
      ]
    },
    {
      "cell_type": "code",
      "metadata": {
        "id": "AD6wSJSZtqix",
        "colab_type": "code",
        "colab": {
          "base_uri": "https://localhost:8080/",
          "height": 474
        },
        "outputId": "47da2fd2-9305-4519-e777-4f0b60bb4496"
      },
      "source": [
        "grades = []                   # 태그를 제거한 리뷰 평점 전체를 담을 리스트를 초기화한다.\n",
        "reviews = []                  # 태그를 제거한 리뷰 전체를 담을 리스트를 초기화한다.\n",
        "\n",
        "try:\n",
        "    for i in range(page_no):  # 총 리뷰 페이지만큼 순환문을 사용해서 전체 리뷰를 가져온다.   \n",
        "        url = 'https://movie.daum.net/moviedb/grade?movieId=134698&type=netizen&page=' + f'{i+1}'\n",
        "        bs = BeautifulSoup(urlopen(url), 'html.parser')  # 'html5lib'\n",
        "\n",
        "        # --- find_all(name, attrs, recursive, string, limit, **kwargs)메소드를 통해 모든 리뷰와 평점을 추출한다.\n",
        "        # 태그를 제거한 해당 페이지의 네티즌 평점을 리스트에 추가한다.\n",
        "        grades += [grade.get_text() for grade in bs.find_all(class_='emph_grade')]\n",
        "        # 태그를 제거한 해당 페이지의 네티즌 리뷰를 리스트에 추가한다.\n",
        "        reviews += [review.get_text(strip=True) for review in bs.find_all(class_='desc_review')]\n",
        "\n",
        "        # 진행 사항을 표시한다.\n",
        "        print('.', end='')\n",
        "        if (i + 1) % 10 == 0:\n",
        "            print(f' 현재 가져온 리뷰 개수: {len(reviews):,}')\n",
        "    else:\n",
        "        print('\\n=======', 'Job completed!', '=' * 25)\n",
        "except urllib.error.HTTPError as err:\n",
        "    print('The server returned an HTTP error:', err)\n",
        "except urllib.error.URLError as err:\n",
        "    print('The server could not be found!', err)"
      ],
      "execution_count": 51,
      "outputs": [
        {
          "output_type": "stream",
          "text": [
            ".......... 현재 가져온 리뷰 개수: 100\n",
            ".......... 현재 가져온 리뷰 개수: 200\n",
            ".......... 현재 가져온 리뷰 개수: 300\n",
            ".......... 현재 가져온 리뷰 개수: 400\n",
            ".......... 현재 가져온 리뷰 개수: 500\n",
            ".......... 현재 가져온 리뷰 개수: 600\n",
            ".......... 현재 가져온 리뷰 개수: 700\n",
            ".......... 현재 가져온 리뷰 개수: 800\n",
            ".......... 현재 가져온 리뷰 개수: 900\n",
            ".......... 현재 가져온 리뷰 개수: 1,000\n",
            ".......... 현재 가져온 리뷰 개수: 1,100\n",
            ".......... 현재 가져온 리뷰 개수: 1,200\n",
            ".......... 현재 가져온 리뷰 개수: 1,300\n",
            ".......... 현재 가져온 리뷰 개수: 1,400\n",
            ".......... 현재 가져온 리뷰 개수: 1,500\n",
            ".......... 현재 가져온 리뷰 개수: 1,600\n",
            ".......... 현재 가져온 리뷰 개수: 1,700\n",
            ".......... 현재 가져온 리뷰 개수: 1,800\n",
            ".......... 현재 가져온 리뷰 개수: 1,900\n",
            ".......... 현재 가져온 리뷰 개수: 2,000\n",
            ".......... 현재 가져온 리뷰 개수: 2,100\n",
            ".......... 현재 가져온 리뷰 개수: 2,200\n",
            ".......... 현재 가져온 리뷰 개수: 2,300\n",
            ".......... 현재 가져온 리뷰 개수: 2,400\n",
            "........\n",
            "======= Job completed! =========================\n"
          ],
          "name": "stdout"
        }
      ]
    },
    {
      "cell_type": "code",
      "metadata": {
        "id": "lUhLWU1wtyJj",
        "colab_type": "code",
        "colab": {
          "base_uri": "https://localhost:8080/",
          "height": 34
        },
        "outputId": "92f30c91-52ca-4953-b56f-d39bbdab2ebf"
      },
      "source": [
        "# --- 수집한 리뷰의 수를 확인한다.\n",
        "len(reviews),len(grades)"
      ],
      "execution_count": 52,
      "outputs": [
        {
          "output_type": "execute_result",
          "data": {
            "text/plain": [
              "(2479, 2479)"
            ]
          },
          "metadata": {
            "tags": []
          },
          "execution_count": 52
        }
      ]
    },
    {
      "cell_type": "code",
      "metadata": {
        "id": "n5QqS6-UtzYS",
        "colab_type": "code",
        "colab": {
          "base_uri": "https://localhost:8080/",
          "height": 54
        },
        "outputId": "18c0a274-94e5-4334-ae48-82972e45dcfa"
      },
      "source": [
        "# --- 수집한 리뷰 중 마지막 10개만 출력해본다.\n",
        "print(reviews[:-10])"
      ],
      "execution_count": 54,
      "outputs": [
        {
          "output_type": "stream",
          "text": [
            "['', '풍자가 훌륭했어요. 한편 우리 현실이 생각나서 씁쓸하기도 하고', '감동적이었어요!!!', '다시금 주변국에 의해 좌지우지 되지 않도록 힘을 키워야겠다는 생각이 드네요', '감동깊게 잘보고 왔읍니다. 평일조조 이지만 사람이 많았어요. 일산에서 우리나라의 미래를 보는듯 합니다. 평화 통일', '', '오랫만에 재밌게 영화 봤어요 감독이 공부를 많이한듯~오락성도 뛰어남', '좋은 영화!!', '많은 생각을 하게 만드는 영화였습니다...', '이 영화가 불편한 인간들  많네 ...몰래몰래 유니클로 들어가는 인간들', '', '', '정말 잼있게 봤습니다. 두번이나....', '일본 총리를 꽃미남 배우로 등장시키지 않아서 열받은 사람들 많네요?', '여러가지 현실성이 떨어지는 것이 사실이지만,그럼에도 불구하고 재밌었다.긴 상영시간이 전혀 지루하지 않았고, 정우성이라는 배우의 깊어진 매력도 충분히 느낄 수 있었다.', '너무 황당해서..나중에는 김정은 유엔사무총장으로 등장 시킬듣..', '북한을 두개의 모습으로 분리해서 싸우게 하는 컨셉트가 마음에 든다. 중국 중국하는 곽도원에게서 미국미국하는 이나라의 어떤 자들도 생각하게 한다.', '재밌어요^^', '에필로그 마지막 대사의 무게 때문에 잠시 자리에서 못 일어났다.', '생각하게 만드는 영화', '재미있는데... 영화도 안보고 평점테러하는 사람들 뭐임??', '', '한반도 상황에대한 깊이있는 고찰과 함께 배우들의 명연기가 더해져 좋은 영화 잘 보았습니다', '앞부분이 너무 지루함..잠수함 액션과 연기력등은 최고..', '영화관계자 가족들이 댓글 점령?진짜 이런 쓰레기중의 쓰레기 영화가 2020년에 나왔다니...할말을 잃음ㅜㅜ1만원 아까워서 참고 또 참았으나 결국 중간에 극장을 뛰쳐나왔다', '앞이 좀 지루한데, 곧 전투함 액션씬 죽임!', '영화적인  재미 있음.  각자의 역할을 한  배우와  특수 효과의 콜라보', '오늘 보고 재미있어서 친구들에게 추천해줬어요.', '', '평점을4~5 정도 주는 건  그래도 보고 주는거지만..3이하 주는 인간들은 보지도않고 평가하는게 분명한듯..내 기준에는 볼만한 영화.', '', '평점보고 기대 안했는데 기대이상임다 감동!!! 역쉬 정우성!!!', '최근 본 한국영화중에서 팩트가 아주 강한 영화였다고 봅니다.  그리고 다들 연기를 잘 하시지만특히, 이번 영화에서는 신정근 배우님이 주인공 아닌 주인공 역할로 아주 강렬한 인상을 남겼고연기가 아주 좋았습니다. 계속해서 멋진 연기 기대하겠습니다.  화이팅!!', '웃프다ᆢ한반도에 어서빨리 평화가 오기를ᆢ', '정말 재밌음. 특히 트럼프역 덕분에 많이 웃었음. 곽도원 연기 짱입니다! 정우성은 언제나 옳아~~~^^', '원래는 영화를 재미있게 보고 평점을 남기는 편이지만 이 영화는 용서할 수 없다. 어떻게 위기 대응 프로토콜 고증도 안하고 이따위로 만들수 있지? 이건 영화가 아니라 비현실적인 콩트다. 울프콜이나 헌터킬러를 보면 이 영화가 얼마나 똥같은 잠수함 영화인지 알거다', '정말 재밌게 봤다 강추', '인랑보다 못하다', '정우성 나오면 망함', '지금의 한반도정세에서 우리가 어떻게 해야하는지 고민하게 만든 좋은 작품입니다.평화를 지향하되 주변국에 휘둘리지 않게 대한민국을 지킬수 있는 힘이 필요하단걸 느꼈습니다.', '태구민을 대통령 후보이시다', '한국대통령의 입장이 얼아나 힘든것인지그속에서도 블랙코미디 너무 재밌게봤습니다', '너무나 재밌게 잘 봤습니다. 수작입니다. 추천합니다~', '한반도 정세를 잘 그려낸 수작. 마음이 아프더라. 우리의 자리가.', '장난 하나 ㅋㅋㅋㅋㅋㅋ필리핀이나 일본에서 현실반영해서 문재인 조현병 환자로 영화만드면 좋겠냐? 재미없고 유치한 개그 신파.. 국뽕판타지 영화', '남북미와 주변 중일과의 문제를 확인해 볼 수 있는 꼭 봐야할 영화', '생각보다 진짜 재미있고 감동도있다', '잼나고 의미있는 영화. 최고였습니다.', '이 시대에 봐야할 영화', '재밌습니다♡♡', '현실이다.어찌해야 우리 후손이 살아남을까, 대한민국이라는 이름으로.', '부담없이 재밌게  볼만한 영화.', '역사의식과 소망을 담은 영화!', '이 영화를 너무 정치적으로 해석하려드는 사람들이 많은듯.... 그리고 국뽕국뽕 그러는데 이땅에 살아가는 사람들이 이땅을 위주로 생각하고 해석하는게 무슨 잘못인가? 맘에 안들면 안보면 그만인것을...', '우리가 없었던 휴전부터. 이 영화는 균형을 맞추어야만 하고 아쉽고 더럽지만 미국에 맞춰야 하는 우리의 실상. 그리고 우리의 통일을 죽어도 못보는 중국과 일본의 숨은 마음이 드러난 내용이다. 국사나 현대사가 가르쳐주지 않는 우리의 현실을 가상 영화로 풀어야만 한 강철비 나는 강추다.', '뒤에 잠수함 액션신은 물론 영화적지만, 그 이외의 부분들에선 매우 현실적이고 동북아 정세를 잘 나타냈다고 생각합니다.다르게 생각하시는 분들에게는 또다른 국뽕 영화라고 생각하시는 것도 이해됩니다.', '^^', '너무나 현실적으로 보여지는 장면.. 웃프지만 어쩔수 없는 상황 ㅠㅠㅠ.', '넘  억지스럽네요 설정이~', '픽션이 난무하는 영화... 배우들의 연기력은 최고였으나, 정작 이 영화를 좋아하는 사람들은 좌파들이 많을 것으로 보인다.', '1편이 너무 강렬했나그리고 악역이여도 납득할수 있는 여지를 가진캐릭터를 만들어야하는데곽도원 캐릭터는 아쉽다이영화에서 건질수 있었던 보석같은 캐릭터는신정근 배우였다그 외 모두 음식으로 따지면 A급재료 로 어떤 조리실력도 발휘하지않은 날것의 만찬이었다아쉽다', '재미있어 우연석이 제일 ㅋ', '도 아깝지', '시간낭비 한 영호', '', '빈틈이너무 많네요,,,,,헐렁한 영화,,,,', '한반도룰 둘러싼 세계 정치상황의 집약판.', '가장 현실적인 정치 영화, 그리고 후반부 잠수함액션은 박진감 긴장감 최고였음!', '시작은 창대 하였으나 뭔가 허전한 마무리....! 코미디인가? 드라마인가?', '', '어느순간에 퍼뜩..아 우리는 분단국가였지..우리는 한민족이었지..언젠가 통일이 되어야 하겠지..근데..그 통일을 우리는 진심 원하고 있는것일까?...영화의 오락적인 재미를 떠나 적어도 그런 몰음표가 내안에 생겼던 영화..유연석이  좀.. 덜 슬림?했더라면  좋았을뻔한 아쉬움..', '잘봤습니다.', '강철비1이 좀더 재미있기는 함...유연석이랑 곽도원이랑 역활이 바뀌면 좀더 몰입이 되었을거 같기도 ...ㅋ정우성 잘생기고 멋짐!', '', '한반도를 둘러싼 강대국의 야욕, 주체인 남북의 평화와 통일의 의지를 꺾고 각국의 이해를 위해 이 상황을 이용하려는 답답한 현실을 반영한 좋은 영화였습니다. 중1인 아들이 보고 싶다고 해서 온 가족 아주 오랜만에 마스크 쓰고 영화봤네요.', '', '별기대없이 봤는데,  좋았어요!한반도를 둘러싼 복잡한 정치역학을 쉽게, 설득력있게 표현했고요.엔딩은 비현실적이라 오히려 슬펐어요.통일하시겠습니까?', '죽전CGV에서 봤습니댜. 안보고 댓글 단것 같은 사람들도 있어보입니다만.영화 자체는 허구이지만 보면서 우리의 현 상황이 충분히 그럴거라 공감되어 몰입하면서도 가슴 아프게 본 영화. 현재의 주변 시국을 어떻게 바라보느냐에 따라 몰입도가 다를듯 합니다.개인적으로 1편보다 재밌었습니다.', '바람/ 내 돈 주고 가서 봤다. 오히려 난 당신이의심스럽다.   알바냐?  아님 감독 친척이냐?자기 얘기만 쓰면 돼지 남을 왜 끌고와?기생충 보고 감독이 천재인지 알았는데, 이 작품이후   양우식 거는 안 볼 생각.', '', '', '현재 한반도 상황을 쉽게 정리해주네요초등학교 고학년이상 애들이랑 봐도 좋은 영화네요여기서 재미없다고 글 쓰는 사람들은영화내용이 불편한 알바생들이 많음안 좋다는 사람들 댓글 보니 영화와는 관계없는 댓글 단 사람도 있음알바들 출동했나봐요', '영화처럼 현실도 좋은 결말이었으면 합니다', '솔직히 재미없었요 ㅠ그량 명절에 티비에서 해주면 보시는것 추천드립니다', '양우석감독이 영화를재미나게 만드는 재주가있네요', '', '최고!!!!명연기 정우성!!!', '아주 좋았습니다. 몰입감도 있고,  시사, 오락도 갖춘 영화.', '으악 디워2 느낌 ㅠ 애국주의 내세우고 정치적인 성향 담아낸 영화 재미도 감동도 스릴도 없음', '재미있게 봤어요. 특히 잠수함 씬은 쫄깃쫄깃했어요', '예전 3s가 생각나네.....ㅋㅋㅋ 3J(적폐, 노재팬,  미\"제\"국주의 타도)', '통일 하시겠습니까?!', '', '주변국과 얽힌 대한민국의 복잡한 이야기들을 최대한 간단하게 핵심만 나열하는 것이 쉽지 않은데  그  어려운 지점을 너무 심각하지 않게 연출한 부분에서  의미있는 시도였다고 평가함', '이걸 영화라고1점도 돈낸게 아까워서..유영석연기어색곽도원연기 늘보던 그런연기미국대통령역은 대체 뭥미?코미디배우인가?강철비 1. 은 그나마 볼만했는데역시 형만한 아우는 없는건가?이건 미북사이에서 안절부절..ㅠㅠ이거 제작비 얼마짜린거야?', '뭔가 나라별 특징을 잘 잡은듯 한맘에 드는 결말의 영화세계평화를  지키는 미국대통령이 나오는 헐리웃 영화의 스펙터클 한 재미를 우리 영화에서  우리 대통령으로 만난 벅찬 감동과 재미까지 있었던 영화', '메시지를 가지고 만든 영화라는 느낌,무거운 주제라서 코믹요소로 넣어서 부담을 덜으려 했던 노력잠깐이지만 한국영화에서 흔치 않은 잠수함 액션대체적으로 괜찮은 배우들의 연기한,미,일,중,북 관계를 역학적으로 재해석한 스토리하지만,연출력 부족인듯,  의도한 그림들이 제대로 안 나온 것 같습니다.무거운 주제에 맞게 긴장감을 극한으로 끌어올리는 스토리 필요했는데화장실 갔다가 그냥 나온 느낌으로 그냥 김이 새어버렸습니다.이해가 안가는 캐릭터 설정도 고개를 까우뚱하게도 합니다.길게 적었는데,잼있다!. 잼없다!. 이분법으로는 말하라면? 좀그렇다!. ㅋㅋㅋ', '별 기대없이 영화를 보왔는데 잠수함  액션씬 넘 흥미진지했고  정우성배우님과 신정근배우님의  연기에 감동받음. 나도 모르게 눈물이 남. 재밌게 잘 봤음', '국익과 대외관계를 생각하게 만드는 영화.오락성으로 잘 풀고 몰입감있게 잘봤음', '재미있었어요전작보다는 좀 더 드라마틱하고 쉽게 다가오는 느낌남북미관계가 참 어렵구나 생각했네요', '신정근 배우님의 연기가  영화를 조금 더 살린듯', '곽도원나오기전까지는 조금 지루했지만 그이후엔 재밌었어요. 간간히 나오는 유머도 웃겼고. 영화에서 정우성이 맡은 대통령이 진짜 우리나라 대통령이었으면 좋겠네..지금이랑 완전다름', '재밌게 흥미진진하게 잘 만들었네요! 강추!', '정말 재미있게 잘 만들었네요.강추', '정말 잘 봤습니다 얼마전 북한폭파사건때문인지 피부로 와닿더군요정말 감독님 수고하셨어요', '별 액션 없이 몰입감 굳강추 우리도 헐리우드 반열에어뢰가 나에게 오는줄깜놀', '', '진짜 말로하는 액션 이 이런거구나 느낄수있음대사를 촘촘히 잘썼고정치이야기를 유머러스하게 풀어가서보는내내 재밌었음', '그야말로 소설같기도 하지만 많은 부분 사실을 패러디한 부분이 있어 재미있게 보았음. 전반부 설명이 잘 이해가 안가서 다시 봐야겠단 생각 ㅎㅎ', '설명이 일단너무많고 지루함, 글구 왜 잠수함에서 지들끼리왜싸워 싸우는것두 어썰푸고,,,', '재미있고 감동도있다  우리는진정통일을 원하는가', '', '뭔말인지 모르겠고긴장감도 없고 볼거리도 없고그냥 곽도원 연기만 볼만함', '', '', '생각보다 재미있었음.', '', '아 영화 드럽게 재미없네...  스토리도 아는내용 국어책 읽듯이 친절하게 알려주고, 후반 잠수함 씬은 외국영화에서 많이 본것들 답습하고,  코메디도 어처구니없고  참나..', '현상황을 영화적으로 잘 풀어낸거 같음중재자로서의 지금 현 대통령님과도 잘 연결된거 같고영화적으로도 완성도가 높은 영화임꼭 남북통일의 감격을 느껴봤으면....!!', '정말재미 있었다우리딸은  어떨결에 같이 갔다가 끝나고  나오면서  이 영화 코로나만 아니었으면 천만은 그냥 넘겼을꺼라 하면서충격적으로 재미 있었다고 했다', \"근래 본 영화 중에 최고입니다.감동, 액션, 탄탄한 스토리, 연기 등 어느 하나 빠진 게 없는 국민 모두가 봐야 할 영화네요~^^마지막 씬에서 정우성 대사에 소름이 돋았어요~이 영화를 만든 사람은 천재라는 생각도 들었구요~~강대국들의 얽힌 이익관계와 그 속에 있는 우리나라의 처지와 앞으로 나아가야 할 방향을 정확하게 우리에게 제시하고 있더라구요~좋은 영화 만들어주신 영화 관계자분들께 감사의 인사를 드립니다.우리 아들 어제 '악에서 구하소서' 영화 봤는데 강철비2에 비교불가라 하더라구요~강철비2 인생영화가 될수도 있습니다.아직 못보신 분들 망설이지 마시고 꼭 보시길 바랍니다.\", '잘 만들었네요 재밌게 봤습니다. 마지막 쿠키영상은 여운이 남네요.', '조조 보고 왔는데 재미있었어요.나름 몰입감 있고 좋네요', '', '', '이 영화를 보니 정우성,최민수가 주연했던 유령이라는 잠수함 나오는 영화가 떠올랐다북한의 곽도원을 보면 유령의 광적인 최민수를 그대로 갖다놓은 듯 하다.쿠데타 우두머리 곽도원이 하려는 행동은 따지고보면 이 영화의 빈틈이 될 수 있을 것 같다.그런 일을 벌였을때 남북을 떠나서 우리민족에게 대체 무슨 이득이 될 것인가하는 생각이 들지만 안 따지고 보면 재미있다.북한의 정은이가 이 영화를 봤으면 하는 생각이 드는데 정은이가 이 판타지영화를 보고 판타지를 부디 현실로 만들어주면 좋겠다.이 영화에서 벌어지는 일들이 꿈처럼 느껴지지만 말이다', '', '잘봤어요~ 보고나서 강철비 1도 찾아봤네요~', '개쓰레기 영화 앞뒤도 안맞고 그저 우리민족이 세계최고라는 밑도끝도없는 영화임양우석은 벨류인베스트코리아랑 무슨 연관이 있는지 해명부터하세요', '많은사람이 봤으면 하네요', '아니 영화도 선동이냐얼렁 낚여보셔들', '누가 쓰레기 정치 영화라고 하네요정치 영화 맞습니다현재 우리 나라 상황을 우숩기도 슬프게도 생각하게 만들었네요.쓰레기 정치 영화라고 한다면 왜지금 대통령과 매칭 할까요?이전 대통령이라고 생각하면 될텐데아마도맹박이랑 503은 이런 생각조차 안 한 것을 알기에지금 대통령으로 매칭 했겠죠.제가 생각하기에는 영화에서 대통령은 아마 우리나라 대통령의 상황을 표현했을 것입니다. 지금 대통령이 아니라..!!', '오늘 봤어요~독도를 우리나라 영토라는 것을 은연중 부각하는 작가의 의도는 좋았지만, 현재 한반도와 주변 나라의 지도자들의 모습을 거의 똑같이 등장인물만 바꾸어 설명했네요그러면서 우리 대통령을 히생과 인내 중재의 아이콘으로 많이 부각시키셨어요 ~~이 부분은 그냥 헛 웃음이 나왔어요글쎄요 그러면서 기독교, 카톨릭과 개신교를 대비적으로 대중들로부터 바라보게 했네요 많이들 재밌게 슬프게 봤다고 합니다만 전 작가와 제작진이 많이 좌편향적인 이 냄새가 나는 이유가 뭘까요~ 전 정권때 어떤 영화가 우 편향적이었듯이~~누군가 여기에 \"그냥 쓰레기 정치영화\" 라고 썼드라고요이 분의 이 한마디가 계속 생각이납니다~화질, 구성, 연기력 글쎄요~~~', '남북미 상황을 다시 돌이켜 보게 되네요 추천합니다', '30 40대들은 더 공감하고 이해할 거에요. 한반도의 현실.우리가 주변 나라들과 어떻게 지내야하는지.', '현실반영의 한계는 있었지만 대체로 훌륭.한반도 평화라는 일관된 주제로 나아가는 양우석 감독에게 찬사를!!', '앞부분도 감정선을 따라보니 좋았습니다. 저랑 울 와이프랑은  만족입니다.독도 설명부분이 아주 좋았습니다', '역사적 사실과 현실의 상황을 적절히 버무려서 긴장감과 유머코드까지 잘 버무린 작품실제였어도 문통은 영화에서처럼 양보했을 듯.........', '', '보는 내내  울었이요우리나라   지금의 현실이라 ...극한직업인 대통령님도 불쌍하고ㅠㅠ', '주변국들의 널뛰기를 홀로 제어하려니 참...', '뭉클하고 감명깊은 부분이 분명히 있슴', '우리의 현실과 앞으로의 험난한 길을 가르켜주는 영화토왜와 일베는 입에 가품을  물고별점 테러할 연화', '왜 눈물이 나는 걸까.중간에 끼어있는 입장을 정말 훌륭하게 연기해 낸 정우성이었다.유연석의 위원장 연기도 굿!스토리텔링 방식에서 약간 아쉬운 부분 있지만,그래도 남북을 둘러싼 열강의 현실을 이만큼 쉽게 담아낸 작품이 있을까?', '문재인 평화회담등등 연상시킨다고 평점테러 장난아니네...ㅋㅋ  방금 스타필드하남 메가박스에서 보고옴.  자칫 딱딱할수 있는 소재를 중간중간 웃음을 집어넣고 간장감있는 해저 잠수함 전투씬이 볼만했슴 다만 국뽕느낌 있어서 10점에서 2점 감점', '우리나라와 주변국...', '대한민국의 현실을 직시하고 있는 영화!잠수함 액션 씬은 역대 최고, 유령, 붉은 10월 보다도 멋지다!', '재밌다. 표값이 아깝지 않다. 강추다.', '', '재미도 있고 울림도 있었던 영화 입니다. 실 관람하고 쓰는 평이에요...', '굿', '첫부분의 패러디가 재미있었는데 주위 사람들이 웃지 않아서 어색했네요. 한국, 북한, 미국의 정상들이 너무 현실감 있게 느껴져서 지루하지가 않았어요. 시원하고 재미있게 잘 봤습니다. 어서 전쟁 상황이 끝나고 평화로운 세상이 되었으면 합니다. 배우들 모두 멋져요', '그냥 씨레깅 정치영화', '재미있게 잘 보고 왔습니다 ^^', '재미있게 잘 보고 왔습니다.', '장점: 정우성 얼굴 멋짐단점: 스토리, 연출, 국뽕 등등......중하 수준의 한국영화임.오늘부터 우리는 중국국뽕 비웃으면안됨.', '재미있게 잘 보고 왔습니다.', '신선, 재미, 감동! 보람찬 두시간.', '크게 생각않고 봤는데 너무 재밌어서 놀랐어요, 스토리도 좋고 보는내내 긴장감 넘치고 해서 화장실도 참으면서 봤음~^^ 마지막 메시지도 좋았구요~', '\"조국 통일 만세\"에 무너졌다는...', '간만에 긴박한 문제임에도 코믹하게 잘 그린 영화 즐겁게 봤습니다.우리 한반도의 비운도 느낄 수 있어서 가슴 한켠으로는 아프고 슬프기도 하네요. 어서 함께 할 수 있는 날이 와서 서로 오고가고 도움되는 사이가 되길 바라봅니다.', '지금 남북배경 상황자체가 실화라서 긴장감있게 재밋게 잘봤습니다.', '재밌어요 ㅎㅎ', '재미있어요.우리나라의 위치를 지각시켜줍니다.', '재미있게 봤습니다.', '부함장 신정근 배우 짱!', '', '정권 유지용 영화', '솔직히 1점도 아깝구요.... 일단 주연배우들 캐스팅은 완전 미스구요 내용도 그렇고 웃기지도 않습니다. 저는 돈 아깝다고 생각되요.... 350만이 BP 라는데 절대 그건 맞출수 없을듯 합니다. 요즘 관객들이 얼마나 똑똑한데요.... 잼있는 영화는 홍보 잘 안해도 입소문 바로 납니다. 그런데 겉만 번지르르 하고 실속 없는 영화는 반짝 올랐다가 그냥 스크린 내려요.... 다들 잘 판단하세요 1도 아까운 영화입니다.', '오글거려서 죽는 줄 알았음. 마지막 잠수함 씬은 나름 괜찮았음.', '강추 정말 재미있음!', '대사듣다 약소국 설음~~ 멍하드라중,,고생 추천', '', '흥미롭습니다.특히 잠수함 등장부터는 역동적이면서 긴박해서 몰입이 됩니다.평화통일을 남북과 주변국들, 그 안에서 다른 입장 때문에 대립하는 모습이 공감됩니다.강철비를 뚫고 나아가는 남북!희망을 봅니다.', '재미있게 그리고 긴장하면서 보았습니다. 우리나라의 지정학적 위치와 고민거리를 새삼 느끼게 해 주었습니다. 얼마전 개봉한 제라드 버틀러 주연의 미국영화 헌터 킬러가 자꾸만 떠오른 건 어쩔 수 없었네요.', '올해 제대로된 긴박감 넘치는 영화', '', '꼭들 보셔요^^오늘 조조로 조용히 감동받으며 잘봤습니다', '', '강철비2가 아니라 유령2가 맞을 듯~', '잼있었어요', '한반도 복잡한 상황이 영화 속도감을 못따라가는 느낌이지만. 전반적으로 로맨틱? 국제 정치 영화 같았던', '우리나라 현실적 문제와 그 원인을 잘 짚어 준 영화! 제발 영화의 결말처럼 올 하반기 역대급 일이 일어나길~', '신정근 배우님 진짜 인물을 입체적으로 생동감있게 연기하시고 카리스마 있으면서도 인간미 깃든 리더십에 울컥했다. 남북을 둘러싼 국제 정세를 너무도 사실적으로 그려내 미중일 사이에 낀 한반도의 가련한 처지에 씁쓸하기도. 중반부부터 극중 인물들에게 몰입하다보니 느껴지는 게 많았다. 유머코드가 좀 유치하고 극의 서사도 살짝 투박하지만 잠수함씬 구현이나 배우들의 연기력은 참 좋았다.', '대통령이 너무 잘생겨서 집중이 안되요', '재밌어요~~후반부가 더욱 압도적~~가족영화로 추천합니다', '알바들 정말 많네.길게 쓸것도 없고시간, 돈이 아까운 영화.', '어뢰가 살렸다', '굿', '유머 코드가 불편해.', '', '과거가 아닌 현시국을 어렵지않게 잘표현했다', '결말이 왜이렇게 허무하냐....컴퓨터각', '보는 내내 씁쓸하고 착찹했다. 그렇게 두시간이 지났다.', '전문가가 아니라 작품의 완성도는 잘 모르겠지만 재미는 확실히 있다는 거.두시간이 넘는 영화라 지루하지 않을까 했는데 시간가는 줄 모르게 난 재미있게 봤다.북미 사이에서 줄타기하면서 남북관계를 풀어가야 하는 우리 현실이 떠올라 울컥하게 되더라.', '원래대로 라면 7점 정도 주겠지만 별점 테러하는 사람들 고려해서 8점 주겠음', '와닿지않음', '꼭 봐야할 영화', '‘현실과 이상’ 은 다르지만 먼 훗날 한반도에 평화가 오길', '우리 현실을 더욱 자각하게 되면서 현실이라면 참 좋겠다는 생각을 하니 더욱 안타까웠다  정우성의 연기도 연륜 성품만큼 멋졌고, 처음부터 끝까지  몰입감 최고의 영화였다', '한국 잠수함 액션씬 수준 굿  꿀잼', '', '굳굳', '통일에 대해 진지하게 생각해볼 기회를 얻은거 같은 느낌이다.', '생각보다 재미있었음.', '강철비1 안보고 정치 이런거 모르고 봐도 잼나요 잠수함씬 쫄깃쫄깃', '장점이 많은 영화.한반도의 현실을 상황극으로 잘 담아낸 것 하나만으로도 충분히 추천하고 싶네요.하나:왜국은 절대로 경계를 소홀히 하면 안되는 이웃나라, 멀고도 먼 외계국가 같은. 정서적으로 역사적으로도 현실적으로도 정치 경제적으로도.절대 지면 안되는 적폐와 같은 왜국.', '뭉클하고 감동적이었습니다', '', '한반도의 평화 구축을 위해 국민으로서 노력하겠습니다정우성의 눈빛은 문통의 눈빛과 오묘하게 닮았네요 ㅋ', '재밌게 봤어요초등생아이들도 잼있다고 하네요신정근씨 캐릭터 개인적으로  젤멋있었어요', '휴가라 아이들이랑 재미나게 보고 왔습니다 ~~', '본인이 잠수함을 정말 사랑한다면 볼만한 영화 ㅇㅇ', '', '솔직히.. 1편이..더 ... 나았... 그냥 1편으로 끝냈어요.. 그게 아니라면..그냥~ 1편의 내용을 ..좀 고대로 이어가서 2편으로 하던가.. 그것도 아니고 이것도 아니고.. 1편의 내용이랑 완전 다른 내용... 뭔가요 이거....', '만화^^', '끝까지 쫄깃했습니다.우리의 소원은, 평화와 통일입니다.영화를 보면서, 영화처럼 되었음~ 좋겠다 ᆢ바램이 들었습니다. 최고의 영화, 그리고 최고의 배우님들!', '이 정도면 즐감되는 영화이지 않겠나요?올만에 한국 영화 즐거운 스크린 타임였습니다.배우님들 각자의 자리에서 개성있는 연기 다들 좋으셨구요.전 1초도 다른곳에 눈돌릴수가 없더라구요.긴 장마에 감성적으로 변했는지 마지막 부분 구름속으로  햇살이 비춰지며 독도가 나오는 장면에선 감동 눈물이.....', '초중반 지루하다고 들었던 부분들도 몰입해서 봤습니다. 끝까지 아주 아주 좋았습니다.', '재미 지식 연기 인물.다 좋고 미국 대통령 캐릭터는 진짜 트럼프네엔딩 크레딧은 예술적.신정근 배우는 후반부 주역이자 영화의 줄기같은 존재. 여운이 크게 남을 영화로 인정 !', '판타지지만 흥미진진... 잠수함 액션신은 쫄깃했습니다. 근래본 영화중 재미도는 최상임', '만약 위 영화에 나온 미국 대통령처럼 다른 나라에서 우리나라 대통령을 비하했다면 가만히 있을일인가? 말도 안되는 얘기를 진짜 말도 안되게 만든 영화. 평점이 7점이 넘는다는게 신기하다.', '시간가는줄도 모르고 푹 빠져 본 영화.', '재밌게 봤어요........내용도 시기적절했고', '강철비1을 안봐서 2랑 비교하기는 어렵지만... 미중일 삼국 사이에 껴서 외교적으로 정말 마치 줄타기하듯 아슬아슬한 한반도 운명...그런 현실이 안타깝기도 하면서 그런 상황을 역이용할 수 있는 외교적 고급 기술이 필요하다는 생각도 든다.정우성이 대한민국 대통령 역할을, 유연석이 북한 최고 지도자 역할을 했는데 감독이 두 배우를 각각 캐스팅한 이유가 궁금하기도 했다.어쨌든 정우성이 정우성한 영화...미스터 션샤인 씬스틸러 신정근이 이 영화에서도 큰 활약을 했다. 곽도원과 함께 가장 강렬한 인상을 주었다.주제가 시의적절하였고 두시간 동안 몰입해서 볼 수 있었다.우리의 소원은 한반도 평화!ps. 염정아 손이 무척 매운 듯...정우성 아팠겠다 ㅎㅎ', '재미있는 영화.. 결말이 현실이 되면 좋은 영화..', '예상 가능한 시나리오지만 배우들의 연기력과 연출이 좋아요.', '초반 30분 정도 지루했지만이후 흥미진진함.역사적 지식과 배경을 공부하고 본다면더 쉽게 이해할 수 있었을 것 같아서  아쉬움', '우리 대통령 총 맞을때 나두 모르게 욕이 나왔다.우리 대통령 건들지 마라!!!', '그동안 코로나 바이러스로 영화관에 못 가다 선택한 영화였는데, 정말 재밌네요^^특히 잠수함에서 벌어지는 긴장감 넘치는 장면들이 꽤 인상적입니다.', '대박이다.재밌다.시간가는줄 모른다...전부 거짓말임.그냥 집에서 강철비1 보는게 더 나은듯.', '간만에본영화..재미있어요~~^^', '또 보고 싶고한반도의 평화를 위해민주당 장기집권 가즈아', '지금 보고있는데계속 졸았네...잠수함에서 기관총 쏘고 난리다말도 안되는 영화다중간에 재미 있는 부분  넣었는데전혀 공감되지 않는 헛웃음만...', '보고나서내내마음에 남은 영화....특히, 마지막 장면^^', '너무 재미있게 봤어요. 꼭 보시길', '이만한 영화 많이없다', '최곱니다 가슴이 뭉클한또보고싶어요 자꾸 생각나고....', '국제정세와 정치에 관심이 있다면 이 영화는흥미진진하게 다가 올것이다.정우성과  유연석 그리고 신정근의과하지 않은 자연스런 연기는 칭찬 받기에 충분하다.', '일단 잠은 오지 않음 ㅎ', '강철비 짱!!!', '혹시나 했는데 문정권의 북한미화는 정말 소름끼친다.!!!무조건 덮어놓고 반미 반일이 과연 국익에 도움이 되는지 묻고싶다.차라리 오락적으로 볼만했던 1편이 더 낫다.', '대박...', 'A++', '픽션이지만 뭔가 지금 우리나라 정세를 알수있는 현실적안 얘기같아요~재밌게 잘봤습니다..미통당찌끄러기들이 보면 울분을 토할듯 ㅂㅅ들 ㅋㅋㅋ', '흥미로운스토리,뛰어난 연기,음악도 좋아요.정우성대통령 멋져요', '참잼있다', '시간가는 줄 모르고 봤네요!재밌었어요 ㅎㅎㅎ', '', '유머코드는 다소 어설프고개연성은 딱히 높다고 할 수 없었지만스토리 전개에 감독의 노력이 엿보였고그 덕에 충분히 재미도 있었는데특히 잠수함씬을 보면서 한국영화도이젠이 정도까진 쉽게 만들수 있구나는 생각에흡족한 마음으로 귀가.', '두 번보고 친구 티켓 선물햏어모OST 빨랑 내주세요~', '개연성은 떨어지나 현재 한반도를 중심으로 한 갈등상황 속에서 당사국들의 이야기를 흥미롭게 풀었다 특히 현재 세정상의 캐릭터를 잘 표현한 연기가 좋았다 한국정상의 살신성인의 중재역할은 북한군인들의 조연으로 돋보였다 전문용어를 동원한 잠수함 전투씬도 흥미진진한 볼 거리 였다 천신만고 끝에 평화회담을 성공시킨 남한 대통령이 다음 단계로 통일에 대한 의지를 관객에게 묻는 장면은 의미심장 했다', '본인이  보수성향이라고   생각하는  사람은  재미  하나 없을거고  평소에  국제정세  밀리터리에  관심있는  사람들한텐  나름  볼만한  영화  특히  영화  후반부  잠수함  전투씬...  일본해상초계기  나오고 일본의    오야시급  소류급  잠수함  나오고  잠수함들의  회피기동  씬은  밀덕들한텐  볼만함  그리고  한반도  주변국들의  시각  자국이익이  뭔지를  다시  생각하게  만드는  영화 ..통일은  외세  개입없이  남북이  자주통일하자   그런 주제', '말이 필요없음', '핵으로 협박하여 공짜로 뭘 얻으려고 하는 북한을 존나 좋게 미화하는 영화ㅋㅋㅋ 남들처럼 정상적으로 무역교역 하면서 살면 되는 걸 북한 스스로 핵으로 우리나라, 미국 겁박하여 이거 해줘라 저거 해줘라 하는 초딩 같은 북한을 어떻게 이리 미화 시킬 수 있을까?? 간첩이나 어디 세뇌 당한 인간이 아니고서야 어떻게 이럴 수가 있지????', '잼남 잼남 잼남앞 부분 서사가 좀 길지 않았나 생각되지만갈수록 잼남', '개연성이  떨어짐.초반 액션이 적어 지루함잠수함 전투씬은 볼만', '!', '마지막 쿠키영상 대박', '감독이 하고싶은 얘기들을 꽉 채워넣으면서도 상업성도 갖춘 영화.', '처음시작할때잠수함들 나오는 장면 보고 걱정했는데끝났을때완전 대박.ㅋ몰입감 좋고개그코드 자연스레 뭍어있고화려한 외국영화대비이렇게도 만족감을 줄 수 있구나싶어한국영화에 대해 뿌듯함을 줬네요.한국영화 화이팅~~!!!# 정우성 배우를 큰화면으로 보기위해 갔는데연기 에 녹았슴. 정배우님은잘생김 돋보이는 역활,밝은 조명 비치는 영화 많이 해 주시길~!!', '현실과 가상의 적절한 조화그리고 마지막 쿠키영상을 보고 생각이 많아지는 영화', '대한민국 국민이라면 꼭 봐야하는 영화', '', '반도보다는 좀 나음', '현실을 보는듯', '초반 살짝  지루한것  외엔  중후반 잠수함 신까지 굉장히  재밋게  봤음.', '재미있게 봤어요. 하루에  반도랑  강철비 둘다 봤는데  둘다 재미있네요. 정우성 나이 들어도 멋있고 연기도 점점 좋아지고 신정근 배우  원래도 좋아하는데 멋진 배역으로  나와서 좋아요 . 일본은 역시나 악의 축  . 인류의 적 .우리의 주적이고  진짜 사라져야할 존재입니다.', '완전 짱~~!!!', '', '초반  약간  지루함 전반적으로 좋았음', '', '초반엔 조금 지루했지만 중반부터 집중해서 재밌게 봤네요', '도입부가 살짝 지루한데 팩트와 픽션을 잘 버무려놓은 것 같네요. 사사카와재단이나 요시다 쇼인은 좋았습니다', '', '개봉 조조로 봤어요넘 잼나게 봤고 신정근씨넘  좋았네요', '쓰레기', '', '', '70년이 지나도록 남북 긴장감으로 우리의 이익을 가로채는 것들이 있다는게 화가난다.자주국방 그날까지.남북평화가 곧 국가번영이며 미래다.', '보다 울컥 눈물이 나데요넘 재밌어요~', '재미만큼 감동!!!!!', '오랜만에 찡~~했습니다. 와이프, 초등5학년 아들과 함께 좋은 시간보냈습니다.', '이 어이없는 영화 정말 졸려요절대 보지마세요돈도 시간도 아까우니 제발 보지마세요', '재밌네요~~', '최곱니다!!!감독의 소망이 담긴 영화같아요.', '어설픈 국뽕', '정우성의 눈빛..', '좋아요~~^^b', '그냥그런저런 국뽕영화이영화의주제는 독도는 우리땅이라는것그리고 신정근 배우가 주연이라는것ㅋㅋ', '강철비1도 재밌는데 시리즈로 한꺼번에 볼 수 있었으면 좋겠다.', '근래 본 영화 중 가장 감명  깊게  본 영화입니다.', '액션도 잘 나왔고 스토리의 상상력도 신박합니다. 몰입이 잘 된다는 느낌입니다.오랜만에 재미있는 영화 하나 나왔네요.', '강철비1도 넘 좋은 영화라 생각했는데  강철비2는 1과 또 다른  내용이라 더 재밌었다    같은 배우가 다른 역할로 나오는데 도 집중할 수 있었고 색다른 재미가 있었다   시나리오도 좋았지만 넘 많은  배경지식을 관객에게  설명하려 한 점이  과했다', '완성도가 썩 괜찮은 영화다 라고 표현 하고 싶습니다. 내용이 편향되어 있다라고 하는 사람 보이는데 상업영화의 본질상 편향될수 밖에 없습니다. 괜치 중립적인 입장을 고수하면 영화 완성도는 급격하게 하락 합니다. 표현의 모호함을 많이 넣은 영화는 상업으로 성공하기 힘듭니다. 메세지가 분명하지 않으니 공감도 재미도 느끼기 힘들죠. 예를 들면 남산의 부장들은 마지막 장면 때문에 양쪽에서 욕을 먹었죠.', '남북이 협력체제로 시작되는 모습 뭉클했어요 2는 곽도원님 연기력이 돋보였던 것 같애요', '재미나요~', '', '난민 인권 대사 정우성의 선택. 중졸에 돈은 충분히 벌어 놨고 있어 보이고는 싶은데 연기는 안 되고', '신정근 배우님~~물론 연기 잘하시는건 알지만,,, 정말 이 영화의 단연 주인공이십니다!!', '코로나 상황에 천만관객이 될 첫 영화! 여러모로 의미가 있다. 정우성 멋지다.!!!', '굿', '볼만해요~', '잼났어요~ 대한민국이 처해있는 상황을 잘보여주고 있는거같습니다  내가 좋아하는 해피엔딩', '통일!', '재미없다', '재밌었어요~ 외국에 수출할수 있을지...ㅎㅎ', '정말잘봤어요시간순삭.', '', '', '잘생겼다~', '너무 재밌게 봤어요....잠수함씬 멋지네요~', '', '현실과 영화적 상상력의 적절한 조화', '한반도의 상황을 정확히 이해하는 역사물이자 코믹까지 섞은 영화', '정말  시간 가는 줄 모르고 집중했다  마지막으로 갈수록  긴장감 최고  대한민국   온 국민이  다 보았어면 좋겠다', '배우(연기), 감독, 시나리오, 오락성 등등. 잘 만들었습니다.', '재미있었어요', '정말 재미있었습니다. 지루할 틈이 없었습니다. 최~~고', '', '초3,초5 아들들하고 봤습니다. 지루하지않고 재미있어여 극장에서 볼만한 영화임 별한개짜리 평점들 믿지말고 그냥 보세요', '미국과 중국의 대랍구도가 한반도에 큰 재앙을 부를 수도 있겠구나 싶었습니다.픽션이지만 감독의 깊은 통찰력에 경의를 표하고, 복잡미묘한 국제관계를 다시 한번 짚어볼 수 있는 기회를 주어 고맙습니다^^', '정말 오락성 시사성 다 잡았습니다. 잠수함씬 너무 흥미 진진했고 우리나라를 둘러싼 주변국들의 이해관계에 대한 서사도 많은걸 배운느낌.', '걍 재미없어요', '주변국에서 벗어나 홀로섰으면~~ 좋겠다', '죽창감성 한가득', '', '무리한 설정(?) 일이 터지려면 현실에서는 더 어이없는 상황이 나타남.수학교사는 영부인이라도 역사 무식이다(?) 너무 무리한 설정임.그래도 우리가 바라는 현실을 정말 오락성있게 잘 묘사해서 10점 드립니다.', '개인적으로는 강철비1이 더 재밌긴했는데 2도 재미있었습니다 코로나 이후로 극장간적 없었는데 간만에 영화관가서 본 영화네요', '재밌게 잘 봤습니다 현실성 있는 내용 한숨도 나오고,잘 만든 영화이네요!! 강추!!', '꼬~~옥   봐 야 하는 영화', '진지함과 코믹, 현실풍자와 액션을 원한다면 이 영화 보시용.. 잠수함 신이 아주 좋아용.', '좋아요.', '', '좋아요', '재미있어요.. 대통령 납치된 미국영화들만 보다가 우리나라도 잘 만드는구나 두근두근  봤어요.  장마철이라 더 실감났어요.우리 주변에 중, 러, 미, 북, 일 다 골때리는 나라들이라는걸 새삼스럽게 느끼면서, 그중 어디의 어떤 세력이 뭔 짓을 할지 다 가능하다 싶구요. 그중의 한 가능성으로 만든 영화를 보고 너무 부글부글 댈거 없다고 봄. 다른 나라들 중 하나를 대입해도 가능할듯..우리끼리라도 우리 위해서 살아야할 판에..', '너무 너무 재미있게 봤어요마지막에는  뭉클 했어요우리 대한민국 홧팅', '일베때문에 8점 줄것을  10점줬다.', '일베는 답이 없다.', '다들 보신다면 가슴에 먼가 울림이 있지않을까 생각됩니다', '좋아요', '일베것들이 평점 테러하네....', '뉴스공장 끝나니까 1점 테러에서 2점 테러로 바뀌었네', '신정근 배우님 성함을 이 영화를 보고 나서야 알았네요 죄송합니다..부드러운듯 강렬하고.. 강렬한듯 부드러운...미스터션샤인에서도 강철비2에서도 존재감 짱!!!', '영화보고나서 다른 사람들은 영화에 대해 어떻게 생각했는지 보고 싶어서 네이버와 다음을 비교해 보니, 이게 우리나라의 현실이구나를 생각했네요. 우리나라 안에 전혀 다른 두 나라가 있는 것 같다는 생각이 듭니다. 영화에 대한 제 평은 영화는 나쁘지 않았는데, 정치적 성향을 강요한 것이 불편했습니다. 그것조차 만든 사람의 영역이기는 하지만, 보는 이들로 하여금 그것이 정확한 진실인 것으로 착각하게 만들 수 있기에 문제입니다. 그건 네이버와 다음의 평가를 보면서 더 확실하게 느껴집니다.', '미, 중, 일, 러가 한반도의 통일을 기를 쓰고 막아서는 이유에 대해서 생각해 볼 이유를 던져준 영화.한국사람이라면 반드시 관람해야 할 영화.', '재미와 깊이를 고루 갖춘 영항입니다!!', '믿고 보는 정우성 출연 영화시나리오 좋고, 연기 좋고, 스릴 만점 ^^근데 악평은 모냐? 관람 하고 썼나? 토왜의 소행 아니야? ㅡㅡ+', '생각보다 재미있어서 깜놀', '감동입니다.', '첨엔 좀 지루지르 한데시간이 갈 수록 흥미진진', '기대하고봤는데  실망했어요허접한영화에요', '지금 안보면 후회.', '참 잘 봤습니다한반도의 현실을 다시 한번 생각해 볼 수있어 좋았습니다', '정말 재밌고 깊은 울림이 있습니다. 강추!!!!!', '픽션이지만 구성이 탄탄합니다, 현재를 살아가야하는 우리들이 깨닫고 판단해야 만 할 완전 공감가는 영화, 특히 젊은이들이  꼭 보고 알아야 함', '', '재밌었어요~~!강추합니다', '평점이 안좋아서 안볼라하다가 봤는데 넘 감동적이에요.평점 안좋은건 의도적 인거 같네요..', '', '미스터 선샤인에 신정근씨~ 이번에는 진중하시면서도 감동주는 연기 너무 좋았어요 정우성씨랑도 너무 케미 좋았구요 뭔가 우리나라 현실이 생각나면서 맘 뭉클해지게 하는 영화네요', '현시대상도 담고 오락성도 있고 재미있게 본 영화..!!!', '도입부터 중반까지 좀 지루했어요 ...', '올해 최고의 영화. 끝까지 긴장감 넘치는 영화. 강추입니다', '', '재미있고 긴장감 넘치네요그리고 열강속에서 남북분단의 아픔까지....', '최근 한국영화중 최고임~~~ 살아있다 보고 반도 보고 진짜 돈 아까웠음', '잠수함씬 정말 긴장감 넘쳐요', 'ᆞ', '지금 당장의 현실을 표현하는 것이 아니라냉전 이후의 국제속에 남북한의 모습과 대처, 가상 시나리오를 표현한 것.강철비 시리즈는 그 가상의 시나리오가 발생하는 상상력을영화속 현실에 표현한 것. 이라', '미국 일본 중국은 한반도가 통일하는 것은 원하지 않는다는 것을 다시금 생각하게 된.', '', '평화와  외교를 생각해볼 수 있는 계기가 됐음', '최고입니다!! 웃다가 울다가 감동 아흑ㅠㅠ정치얘기이기 때문에 저쪽 수구 보수쪽에서 안좋게 평 달고 있다고 들었는데.. 쯔쯧..정말 정말 꼭 봐야할 영화임.', '현실과 좀 안맞는 느낌... 배우역활도 좀 안맞는거 같구개인적으로 솔직이 재미없음 .. 정우성 보고 택한 영화지만', '요즘 시국에 꼭 봐야할 영화~', '약간 허술하지만 한반도를 둘러싼 현재 상황하고 중.일과의 관계등 우리가 경각심을 가질만한 스토리, 잠수함 장면 돈 아깝지 않은 영화임', '실 관람하고 글남깁니다.어른2. 중2딸.초등5년아들과 관람.4명중 아내는 지루했다고하고나머지 3인은 대만족한 영화.반도도 봤는데 반도 보다는 훨씬 재미있네요.반도 때문에 기대감이 없이 봐서 그랬는지 몰라도 기대보다 만족스러웠어요.', '한국영화에서는 한번도 보지 못했던촘촘한 시나리오의 정치스릴러.거기에 장르영화요소까지 입힌야심찬 연출까지 지루할 수 있는 소재를마법과 같이 2시간 20분 내내 몰입하게 한다.올해 여태껏 본 영화 중 10가락안에 드는 수작!', '한반도를 둘러싼 국제관계의 복잡한 역학관계와 개별행위자의 예측불허의 선택 이 격돌하는 상황을 최선을 다해서 그리려고 노력한 양우석 감독의 수작. 특히 북한 지도자 역할을 담당한 유연석 배우의 열연이 돋보인다. 충분히 괜찮은 상업영화.', '', '속지마세요  그돈으로  팥빙수나 사먹어세요', '국정홍보 영상물이 맞을것 같습니다. 기대가 커서였는지 실망이 크네요...', '평점 왠만하면 안 다는데 작금의 한반도의 현실을 잘 담았어요.. 보면서 힘없는 나라의 아픔도 느껴지지만 온 국민들이 자각하여 더이상 외부세력이 이 나라의 내정간섭을 하지 않기를 바라는 마음입니다', '지금의 남북미일 상황을 현실감있게 잘 표현되어 있어요.울컥 했습니다..', '재밌어요! 의미도 있고. 잠수함 전투 압권임', '보셔도 절대 후회 안할 영화에요~~^^', '상상력이 풍부해 보입니다잘봤읍니다', '이런 영화는!대한민국 영화계의 수치다?', '핵잠수함씬 너무 재밌어요.유연석씨 나오는 줄 모르고 봤는데, 넘 멋있어요.정우성씨야 뭐 말할것도 없고. ㅎㅎ', '시간 가는줄 모르고 봤어요.', '재미까지있음ᆢ신정근배우 재발견', '스릴 만점림.잠수함 전투는 압권임', '만화같은 영화있을 법한 시나리오.근데 쉽지 않고  보고나니마음이 무겁다.배우들  보는 재미정우성,유연석..', '강철비 재미있습니다', '재밌었어요~~~^^', '믿고보는 양우석감독작', '', '', '', '괜찬음왜구에 atomic bomb 필요한건 맞지', '누구의 뇌내망상인지...1. 현실성 없는 이상향.2.공공의 적 일본. 북한은 착하다.홍보 영화급', '강철비 시리즈로 계속 나오면 좋겠어요 엄마랑 봤는데 둘 다 만족하며 나옴', '국뽕 드링킹 오져서 민주당전당대회 전야제용 국정홍보용영화다. 미국대통령 경호를 동네  통장수준으로 알고 찍었냐? 일본이  극우인사 하나가 전쟁일으키는 저개발국 정치시스템이냐? 정우성은 역사샘으로 잠수함안에서 인강수업하고.. 내년 광복절특집으로 TV에서 해줄때봐라', '\"우리의 소원은 통일\"말로만 내뱉다이젠 진지하게  관심가져볼께요', '', '난 이것도 재밌던데', '2시간 30분짜리 비싼 국정홍보영화', '볼만 하다정치로 보지 말고 미래를 생각하고 북핵을 바라봐라.일본을 어떻게 생각해야 하는지도', '진짜 지루한 영화', '이 영화를 보고 감동을 받았다거나 아무런 거부감이 없었다면본인도 모르게 좌경화가 됐다는 것을 알아야한다좌익들이 장악한 영화계  참으로 심각하다', '1시간 30분 쯤 각오하셔야 해요배우 연기/ 스토리/ 연출 / CG 다 민망해서중간에 나올수도 있어요하지만 엔딩에서 감동이 3분 나와요 순간 눈물날정도로. 나라를 잘 지켜야겠다 싶도록', '너무 재밌게 봤고요 깔끔하고 군더더기 없습니다 대한민국의 방향,갈길을 제시해 주었지요.통일은 정치가가 하는 것도 아니고 정치 또한 아닙니다 우리가 원하고 같이 해야 합니다 늘 마지막 순간에 미군이 나타나 우릴 구해주는데 익숙했는데 대한민국 군인이 나타나는 장면엔 펑펑 울었어요', '반도 보고 강철비2 보니깐 강철비2는 명작이었습니다', '볼만했어요~ 기대도 안하고갔는데 생각보다 갠찮았습니당~', '평잠 낮은 사람들은 알바인듯? 간만에 잘만든 영화.신선한 주연들...시원했어요~~^^ 대통령 나오는 영화가 이리 센스만점 일 수가~~ 정우성 대통령 어울렸어요~~ 홧팅~~!', '초반이 지루했고,3명의 국가원수가 납치되어 있는 상황을코미디로 만들어 놨네요.북한 잠수함 부함장이 주인공이었어요.', '전반부는 사실 지루했어요욕심이 많아 이것저것 넣다보니 좀 지루하더라구요좁은 장소에서 벌어지는 배우들 말싸움이다 보니 ㅜ ㅜ그래도 잠수함 전투씬은 박진감 넘치고 그 부분부터 재미있어 지더군요편집을 좀 잘해서 영화 시간을 줄였다면 더 좋았을텐데그래도 강철비에서 같은 배우가 서로 다른 역하는것도 좋았고늘 통일에 대한 화두를 던지고 동북아 정세에 대해 생각하게 해주는 영화라강철비 시리즈가 다양한 스토리로 계속 나왔으면 좋겠습니다.뭐 정우성 대통령의 대국민 안구복지 실현으로 두시간이 그럭저럭 잘 갑니다 ㅎㅎ', '시간가는줄 모름', '현실성이 크진 않지만,우리를 둘러싼 국가들의 속내를 진솔하게 표현했네요.', '평점이 낮아 10점드립니다.우리나라 영화 많이 발전했네요. ^^진짜 시간 가는 줄모르고 재밌게 봤고통일에 대해 한번더 생각할 수 있는 영화였습니다.미중일  관계에 대해 눈치 안보고 할말하는 느낌이었습니다.', '시간 어떻게간지.. 평점테러한 사람들은 영화 안보거나, 외교정세에 관심없는 극우파들', '정말 오랜만에 영화관에 갔는데 후회없었다. 같이 간 조카가 우리나라 정치외교에 드디어 관심을 갖기 시작했다', '우리나라의 현실그리고 얍삽한 미 일 중국 장깨들', '', '꼭 보세요^^우리나라가 처한 현실입니다', '곽도원 연기 기대가 많았는데 사투리가 좀 어색했고잠수함안에서 대통령이 자켓을 계속 입고있는거나 어뢰충격시 잠수함 흔들리는 내부 묘사는 사실성에서 좀 아쉬웠음전편에 이어 발칙한 상황설정은 좋았으나관객에게 더 충분한 설명이 있었으면 좋았을 듯.성인 남자면 충분히 좋아할 영화.', '', '아 충분히 재미있는 영화.  평점이 너무 낮다..', '극강 이기주의 강대국에 둘러싸인 우리나라의 현실을 잘 반영한 영화네요. 온가족이 함께 봐야할 영화입니다.', '멋진 대통령', '보면서 오글거려서 혼났다. 정우성만 안나왔어도 그럭저럭 볼만은 했을텐데. . .  정우성은 대사에 감정이 없어서 대본 읽는 느낌이 너무 강하게 듬', '유연석 연기 돋보였어요 사실 누가 나오는지도 모르고 그냥 본건데현실과 영화가 우리의 위치가 변함이 없어서 속터질뻔했지만 영화는 잼있었어요추천추천!!', 'GOOD', '', '우리나라와 북한의 현상황을 잘 알수 있었던 영화예요우리는 하나인데 미국 중국 일본등 주변국들때문에 하나가 될수 없는 현실묘안을 찾아야할테데', '', '무슨 영화인지 모르겠음그저 대통령 영웅 만들기?!', '영화 혼자 봤는데잼 나게 잘봤어요유연석 ㅋ참 잘했어요', '영화보는중에 평점쓰는데  참 영화 볼꺼없네요', 'good', '재미있게 잘 봄. 시간 잘 가더구만', 'B급 느낌 물씬이지만 어쨌든 빵빵 터져서 웃고 결말도 속 시원하고 잠수함 액션도 기대 이상이었음!', '최근 현실성 없는 좀비 영화만 보다가정말 잼나게 본 영화 역사적 기반을 잘 모르면 아마 모라는 거야 ~~ 할듯 하지만너무 너무 현실적으로 지금의 한반도 상황을 정확히 드러낸 영화 ~ 단지 미국이랑 중국을 좀 더 못 까다보니 일본을 죽일놈 만들긴 했지만 그것또한 맞는 이야기 ~우리나라에도 저런 정우성같은 대통령이 있음 좋겠다 ~마지막에 많이 울었다아주 아주 한반도 지금의 스탠스를 잘 나타낸 유일한 영화다', '', '', '우성 오빠를 이제 믿고 걸러야겠음.. 우성오빠 대사에도 자막처리 부탁하고요.. 썰렁한 개그는 왜자꾸 나오는건지 .. 곽도원 아니었으면 보다나왔음..곽도원씨 정말 연기 잘하고 이런영화에 나온게 참 아깝고 아쉽네요.. 잠수함 씨지 세상 허술하고 하여간 증말 재미없네요유연석 노력했는데 캐릭터 자체가 별로였고영화관에 죄다 이것만 있어서 별수없이 봤다', '도대체 무슨 영화지 ?중간에껴서 ....', '참 잘만든 영화...', '잘만들었음10점은 아니지맘 특정세력때문에 10점줌', '잘 만들었네. 내내 집중하고 봄', '무슨 장르 영화인지 보는동안 좀.......', '재밋음', '마이너스 없냐', '한반도 현실적으로 잘 그려네요', '독도가 대한민국 땅임을 전 세계에 알릴 수 있는 최고의 영화이며, 현재의 사항을 잘 묘사해서 현실감이 있어 보는 재미가 있는 영화.....왜구들 미사일로 공격했으면 10점인데 못해서 9점', '영화 잼있게 잘봤어요.,.현 한국 상황 제대로 표현한거 같고. 미. 중, 일은 자국 이익을 위해서는 영화속 내용처럼 무슨짓이든 언제든 할 수 있다 봅니다..박근혜때 사드로 한반도 위기 몰고 왔고. 실제로 전쟁 터트려 영구 집권 노렸다는 이야기가 있듯이 한반도에서의 전쟁은 위정자들의 세상이지 국민들의 삶 피폐해 집니다..전쟁 없는 평화의 시대가 빨리 오기 위해서는 냉전체제 종식하고 북한하고의 교류가 빨리 이루어 져야죠..그래도 영화에서 아쉬운게 일본에 핵맛을 보여주는 장면이 나왔으면 좋았는데요', '이것도 엉회냐?  정말 시간 아깝다.  감독수준이 참..', '제작비가 적었던게 좀 아쉽다.', '정말 재밌게 봤음. 정치사안을 잘 풀어냈음. 재미요소도 빠지지 않음.', '이게 영화냐?', '방금 보고옴볼만함다들 한연기 하시는 분들이라그리고 갠적인 생각인데북이  핵을.............', '1점도 아까운 영화 .....아무리 허구...이런건 나도 만들수있다...스크린 쿼터 없어져야한다이런것때문에  영화산업   망한다', '조조로 봤는데 괜찮았어요한반도에 평화가 오기를~~', '재미짐마지막 울림무거운 주제를 가볍게 잘 다룸.현실기반한 재미.  감동은 살짝 부족.', '노잼  노잼어깨 총 맞고도 멀쩡', 'ㅠㅠㅠ감동이다', '잼있었요 꼭보세요', '재미 한개도 없음. 유치함.이 영화 10점, 9점  평가한 사람들은 거의 댓글 알배생일듯.진짜 지루 그자체', '본 영화중 최악의 영화중 하나. 정우성은 국사쌤인줄..', '정말 재밌게 봤음. 마지막에 기도하면서 반전이~~ 암튼 올해 최고의 영화임.', '재밌어요!', '나름....붉은 10호 국내...', '평점 처음써본다. 괴로웠다.', '잠수함 액션씬 아주 볼 만합니다반도보다는 많이 나은 영화', '주제는 흥미롭고 남북한 지도자는 넘 멋진데  유치한 시나리오에다 쓸데없이 밥먹는 씬 자주 나오고 뜬금없이 아재 개그 등장하고 쿠데타 씬도 넘 허술하다. 한마디로 연출력 폭망임!!!', '썰렁한 화장실 유머를 좀 줄이고생각보다 괜찮은 연출을 보여준 잠수함 전투씬과잠수함 내에서 각 캐릭터의 입체적인 성격을조금 더 부각시켜줬으면 하는 안타까움이 있음', '아주 재미있었음.중학생 아들 딸도 만족시킨 재미와 싱크로율이 놀라운 배우들의 연기가 인상적', '답..답..하다..', '어이없음...', '이게 상업영화인지  작금의 청와대 홍보 영상인가?한심하다.영화인들은 영화를 만들어라. 나팔수 하지말고군사독재  80년대  대한 뉘우스 보는게 날듯.', '반도가 그냥 커피라면 강철비2는 top입니다.', '토착왜구', '극장에서 볼만한 가치가 있습니다. 후반부 잠수함씬도 잘 찍었고 전체적으로 지루한 부분이 없었다는게 믿기지 않는군요 그런데 곽도원씨는 맨날 공무원으로만 나오네요 공무원 전문배우가 되어부렀네요.  스무트역을한 맥페이튼씨도 연기 잘했습니다. 그리고 미국부통령역을한 달튼씨도 매력있습니다.  영화 잘됐습니다.', '잘 만들었고생각해야할 부분 집어주고', '여성들이나 국제역학관계를 모르는 사람들 외에는 재미있음.', '대한민국 국민이면 꼭 봐야할 영화', '좀 신선했어요 늘 남북이야기는 강철비1도 그렇고 실무진선에서의 이야기가 전개됐는데... 헤드3인이 직접 이야기를 끌어간다는 소재는 신선함. 다만 곽도원의  연기는 좋았지만 조금  장악력이 아쉽다', '저희는 초등생 중학생  부부가 같이 봤는데모두 만족하고 재미있게 봤습니다^^', '요즘영화는 영화를 위한 영화는 없고 정권의 하수인들이 선전용으로 만드는 한편의  광고같다.  참다운영화를 언제한번 다시 볼 수 있을까? 영화인들이여 제발 본연의 자리로 돌아가세요.. ㅠㅠㅠ', '반도보다는 훨 재밌는듯', '최악의 영화,, 시대정신 반영도 없고 미래이에 대한 영감도 줄 수 없는 최악의 영화,, 제작비가 이렇게 소비된다니 한심하다', '반도보다는 재미있었어요.  그러나 1편에 비해서는 약하얐음', '지겹고 재미없는 영화현정부의 대북정책을 선전하는 영화?  보다 졸았어ᆢ', '반전있고 코믹하고 그리고 나름 감동도..0점 1점 준애들 보지도 않고 평점깎을려고 하는 쓰레기들임', '간간히 있는 웃음 코드에 ㅋㅋㅋ. 마지막 잠수함 액션은 정말 최고다. 한번 더 보고싶네', '평생봐 온 영화 중 가장 쓰레기 같은 영화1점도 아깝다', '대통령 너무 멋져요', '역시 좌음은 빨갱이 강 3는 정수성이 김일성 독립군', '반도보고 난 눈이 정화되네요반돌 먼저봐서 그런가?', '대한민국 대통령은 극한직업...', '오늘 보고 왔는데요...돈 아깝지는 않습니다...단..곽도원의 결말은 조금 아쉽습니다저질러 놓은 일에 비해 너무 시시하게 꼴까닥 하네요...', '대한민국, 정말 여러모로 대단한 나라임은 분명하다.', '이 영화는 진짜 진짜 인생 영화!!!!!!!!!!!', \"솔직히 올 해 전반부의 모든 스트레스를 쏵!! 날려 보낼 수 있어서 넘 좋았어요.  예전에 ' 명랑'을 보고 느꼈던 그 시원함, 후련함. 감동. 대양(물)이 주는 그 시원함 !!\", '재밌고 감동적이었음 . 부함장님 연기 넘 잘하심 ㅠㅠㅠ', '', '이런 영화는 자주 봐야 해.', '한반도의 미래 모습을 상상하며 ~~', '현재 정세를가장 잘 표현한 영화임애들 교육용으로도 좋음', '별로', '처음에는 조금 지루했는데 중간부터 재밌었어요같이간 친구는 정치에 전혀 관심없는 애인데 중간부터는 재밌었다고 하더라고요잠수함 장면들 아주 긴장감 있고 좋았어요', '', '', '전편이 잼있어서 큰 기대는 하지 않았는데, 긴장감있고 잼있었어요.허구이지만 진실같은 내용의 흥미진진한 영화였어요.', '지금의 현실을 아주 잘 설명해주는 코믹하면서 진중하고 생각하게 만드는 영화. 억수로 재밌게 봤어요.', '주조연 모두 연기로는 말할 것도 없고캐릭터도 적절하고잠수함 씬도 흥미진진국제정세에서 우리도 저렇게 하면 좋겠다생각하게 하는 영화네요', '평점 테러 알바들은 영화를 보긴 했나 모르겠음.심각한 주제에 유쾌한 유머로 한반도의 현재 모습을 적나라하게 표현한듯한 영화적 상상력이 볼만한 영화임.', '그럴싸한, 그리고 희망을 품게 만드는 영화', '내용적인 면이나 긴박학 상황 전개 특히, 잠수함 전투장면에서의 부함장의작전 능력에 소름... 그러나 주인공인 대한민국 대통령의 집중을 흐리게 하는 애매한 톤의 연기력에 -20점,', '너무 재밌습니다. 덤으로 우리나라 주변정세도 쉽게 이해하게 됩니다. 그리고 유연석 멋있습니다~', '너무 지루하고 헌터킬러와 비교됨 헌터킬러가 훨 재미있었네요', '통일에 대해서 막연한 생각을 갖는 사람에게 한반도 정세를 이해하는데 많은 도움이 됨. 추천요.', '', '추천요!!', '우리가 한번 고민할 문제. 마지막 잠수함전투씬은 압권.', '재미있었어요', '잘보다가 ...이상한결말과...', '최고입니다!', '재밌게봤어요추천합니다', '완전 재미있어요', '트럼프에게 하고 싶은 말, 그리고 김정은 위원장과 북한에게 하고 싶은 말을, 영화를 빌어서 하니 나름 속시원', '북한미화. 보기 불편했음.', '현실반영에 신경쓴 건 인정. 그러려니 하고 봤는데 역시나...엉성해. 연기도 구성도 치밀함이 많이 떨어짐.', '', '', '', '재밌는데', '현재 우리나라가 처한 상황,  북한도 독재정권 이라도 다 김정은 마음대로 못하는 상황 등등 현실적이라서 더 재밌음', '북한 홍보 영화인줄 . 돈이 아까움', '', '뭔가 공허해서 본 영환데 공허함을 오랜만에 채워주는 영화', '토착왜구일베들은 보지도 않고 0점주네,,,,퉤', '반도는 재인이 구세주고이거는 서프라이즈 배우데리고 국뽕영화 제대로 찍으셨네영화도 나라도 개판이구만ㅋ', '', '괴물같이 완전허구 블랙코메디. 괴물은 완전 웃겼는데 요거는 코믹요소가 덜해.', '이런 영화만들려고 그리 돈을 들였나...한심한영화. 재미 하나도 없다. 입장료 돌려받고싶다', '좋아요', '좋아요!!!!!', '감독님도 대깨문이신 듯...^^여러가지 생각이 많이 드는 영화입니다. ^^', '잠수함 타면 멀미안할까????곽도원배우님  살빠지셨네요..ᆢ그런생각를 ᆢ', '대깨문의 북괴돼지공산당미화용 영화. 댓글부대 열일하네~~', '', '', '북한과 우리나라, 국제 정세를 잘 생각해 볼 수 있게 해 준 좋은 영화인 거 같구요 개인적으로 신정근 배우님 좋아하는데 핵심적인 정의로운 역 잘 소화해 주셔서 감사합니다!!생각과 얼굴이ㅋㅋ 멋있는 정우성 배우님 좋은 아내분 만나서 등짝 스매싱 당하고 화목한 가정 꾸리시길 바래봅니다 강철비2화이팅!!', '', '주제가 무거워 어려울수도 있을내용을 쉽고 재밌게 풀어줘서 고마워요.^^잠수함씬 너무 박진감 넘치고마지막 메세지. 전  원합니다.많은 생각을 하게하네요', '한반도의 정세와 관련한 가슴뭉클한 상상력의 영화', '너무 진부해요..그리고 너무 현실성이 없는내용 아닌가요? 하..보는 내내 부끄러웠습니다. 정말 ㅋㅋ 국뽕도 적당히 해야지', '', '', '마지막에 대통령이 국민들에게 묻는 한 마디가 인상깊었다. 옳고 그름보단 생각을 하게 해주고 적이 누군지 제대로 심어주는 영화 음악과 장면 하나하나가 심장을 뛰게 만들고 스크린에서 눈을 땔수 없게한다', '가슴 속 큰 울림이 일어나네요.멋진 영화입니다.', '정상들이 너무 약해보이고 카리스마도 없다.동네 친구 3명이 만나서 코미디 하는 줄...정상들 캐릭터랑 컨셉이 너무 약해보임...', '이처럼 현 시점에서 주적이 누구인지 잘 알려주는 영화라니', '미일중러북 6자와 북미관계에서의 남한역할등 여러주제를 담으려는 노력은 알겠으나..주제만 무겁고 엮어내는데 한계가  보였다', '공짜로봐서 다행', '약소국의 비애.  빨리 자주국방하고 남북평화 이루자.', '방금 보고 왔다 .동생이랑한 십여명 정도 관람이곳은. 지방 소도시라...감동도 있고스토리가. 별겨 업는데매우. 좋은 시나리오잘 만든 영화였다.마지막 눈물이 났다 .감동의 눈물꼭 보시길 .....', '영화를 통해 남북문제가 쉽지 않다는 것을 다시 알게 되었다.. 감동도 있고  긴장감도 있어 참 재밌게 보았다.', '남북미 관계를 이정도 다룬것은 훌륭합니다.초중고생들도 보고 평화통일의 중요성을 같이 알아 갑시다.', '아무리 영화라고 이해를 하더라도일본의 대잠수함기가 독도주변에서 북한군 잠수함을 잡으려 하는데 대한민국 영해에서 적군들이 싸우는데 대한민국 전투기는 한대도 안보이고끝부분에 어뢰한방 날린것이 다네북한 홍보영화인줄...', \"강철비1의 경우엔 원작을 본 뒤에 영화로 봐서 약간의 아쉬움도 있었는데이번엔 원작을 안 보고 봐서 영화 자체를 그대로 받아들였다.한국산 잠수함 액션이야! 심지어 나쁘지 않아!그리고 현시점 남북한 정세와 한국의 분통터지는 포지션 등...마지막 엔딩 크레딧까지 여러모로 생각할 거리를 던져주는 작품이에요.기대하지 않고 보면 '어라...꽤?'라고 여길 수 있어요!기대한다해도 '오 나름...?'이라고!ㅋㅋ\", '현시점의 남북의 정세도 잘반영되고독도에 대한  내용이며미,중 사이에서 힘없는 나라의 설움등이 잘 표현되고 이래서나라에 힘이 있어야 된다는 안타까운 현실괜찮은 영화입니다', '지루하지않게 끝까지 몰입있게 잘봤어요~ 현실감없지만 현실적인 영화인데 보면 알수있을듯~봐야하는 영화인데~정치적인성향으로 갈리는 영화일듯~  정우성님 유연석님 너무 멋있어요^^ 디테일하게 웃음포인트 대박이였음요~', '기대이상~ !', '나름 볼만하고 돈이 아깝다는 생각은 안드는 영화', '우리민족 스스로 통일을 할 수없는 현실에가슴 먹먹합니다독도는  우리  스스로가슴에 새겨야 할  소중한 땅입니다', '.', '신정근 배우의  발견함안댁과의 출연이후최고의 열연굿 !!', '다시 한번 더 보고 싶네요.', '', '굿', '이게 영화냐', '재밌게 잘 봤네요^^ 유연석씨 다시 봤어요 ㅎㅎ', '8점 주고 싶은데, 일베충들이 들어와 점수 깎아서 보정해주는 차원에서 10점!', '우리나라 극우의 모습은 안나오던데.... 일본 극우와 같다 생각하면 될란가요?', '통일에 대한 진지한 질문, 한반도의 분단이 단지 우리만의 문제가 아니라 아주 복잡하게 얽혀 있음이 잘 드러나는 영화.', '솔직하게 재미없다..', '훌륭함. 짜임새가 있다.', '하...', '정치인들은 절대 못볼 영화풉~ ㅋㅋㅋ정치인들 댓글알바 푸신듯~ㅋ이정도면 잘만든 영화죠~~^^', '주연은 신정근?', '한미일중러의 관계를 아주 깔금하게 정리해주고  첩보스릴러영화로서도 완성도가 아주 높습니다. 배우들의 연기는 기대이상이었구요.. 박수를 보냅니다~', '우리의 현실과 너무나 맞닿아 있어서 더 감정이입하며 보게 된 영화. 강하고 쎈 메세지를 내기는 쉽지만, 인내와 포용, 희생은 아무나 할 수 없는...우리의 대통령님이 생각나서 뭉클하고 울컥했습니다.  겉으로 드러나지 않은 숨은 메세지를 찾으려는 노력을 해야한다...우린 준비되었을까?', '근래 본 영화중엔 그래도 제일 볼만한 영화....재밌어요...', '내용도 알차고 시간가는지 몰랐습니다', '영화적으로는 정말 재미없었음. 지루해서 듁는줄 알았음.중간에 나오고 싶었는데 친구가 끝까지 보자고 해서 나는 그냥 폰가지고 놀았음정우성은 좋아하지만... 안타깝다.', '애쓴 흔적이 보인다내용도 알차다허나 개연성이 많이 떨어진다1개분대로  쿠데타가   이해 못한다', '왜놈앞잽이 개수구 찌라시, 종편, 한국 언론은 제대로 이야기 해 주지 않는지금 대한민국 주변 상황이 어떠한지영화를 보며 대리 겪어본다 생각하면영화요금 아깝진 않을 꺼다 는', '좀 개연성이 떨어지기는 하나, 악평할 정도는 아니에요반도,결백,침입자보다는 볼만 해요', '', '너무재미로 보시지말고 우리나라의 정세에 대해한번 생각해 보는 영화로 보시면 뜻깊은 영화로남을것 같습니다. 영화 한번보시길 추천드립니다.', '동북아 정세를 기반으로 다소 극단적으로 표현하긴 했지만 이리 치이고 저리 치이는 한국의 모습을 잘 표현해낸 영화', '외국인들 장면은 TV 서프라이즈 느낌이라 마이너스 드림간간히 터지는 웃음 - 통역 장면 등 플러스 드림역사 수업같아 전반적으로 지루했으나배우들의 열연과대통령 구하는 해군함에 10점 드림', '굉장히 재밌을만한 소재를 좀 잘 못푼 것 같네요.. 안타깝습니다..', '절대 후외하지 않을 영화입니다.  마지막 장면 우리 고유 영토를 보고서 울컥했어요.', '지루했음요', '스릴도 있고 의미 있는 내용이어서 편안한 맘으로 봤습니다.당신들은 진정으로 통일을 원하십니까? 평화를 원하시나요?', '', '정말 볼만합니다. 영화 잘보고 갑니다!!', '지루해서 중간에 잤다', '잼나네요.이정도면.....', '잘봤어요 존잘 대통령 수고많으심근데 오늘 cgv 거리두기 안하더라심해 cgv잘해라', '이런영화는 평점도 아까워짜증나서 미치는줄허무맹랑누굴 영웅을 만드는겨개뿔', '저는 완전 잼있었는데요...저도 물어보고 싶네요.. 통일이 안되길 바래서 빵점 주는건가요??누군가 예상 했던 것 처럼 댓글 테러가 많네요..', '내용도 별로....영상도 별로...', '남의 아이디가지고 평점 테러 좀 그만 해라.', '영화가   만화도 아니고 너무 허접하고 정우성  영화   고르는 눈이  꽝이네', '진짜,, 댓글같은거 남기는 성격이 아닌데,,, 지금 강철비보고 평점 4점이상 준사람은 정말 진심인지 묻고싶다...', '좋은 시도였다전반적인 연출력은 좀 아쉽다', '', '', '잼있어요', '', '흥미 진진함', '잠수함 내부가 싼티가 났지만 영화 흡입력은 대단했음', '재미있어요~~', '영화 잘 만들었음. 수작. 관객수 500-600만 정도의 영화', '예전 단체로 가서보는 반공영화같은 계몽영화지루하고 액션도 별로.', '', '', '통일에는 일본과 중국이 문제인것 같네요미국,러시아는 도움이 안되고요^^', '신정근님을 알게 해준 영화.후반부가 진짜 볼만해요.사전 정보없이 봐서 그런지 국뽕이라고는 생각안들었는데... 여튼 제 돈주고 나름 개안케 보고왔어요.', '재밌어요 정우성 배우 보러 갔어요 너무 멋져요 연기하는 거 보고 잠깐 눈물 날 뻔 했어요', '국뽕 영화라는 사람들은 영화 안보고 그냥 댓글 다는 놈들이고 방금 본 감상평은 그냥 좋지도 나쁘지도 않았고 아쉬운건 액션이 넘 약하다', '역사적사실 너무 주입하는것같았네요.  다큐 보는줄~좀 지루하다가후반부는 재밌었어요', '', '재밌', '국뽕 오지는 판타지 영화!미국  대통령은 상 또라이,북한 일호는  호리호리한 외모에 영어를 잘하지만 정치는 무식,한국1호는 인간적인 면모에 끝까지 체통을 잊지 않고 조국을 위해 자신의 안위를 대신 할 정도의 대인배.일본은 중국통해 북한을 움직여 한일전 만들려고 꼼수.미국은 제2호도 또라이 실리주의스포가 될꺼 같아..요기까지만.', '국뽕이 좀 과하지만 완성도 높고 재미있음', '완성도 높고 보는 동안 숨막히는 긴장감, 한번 나라에 대해 생각하는 시간이었습니다.', '재밌었어요!!', '강력추천 올해본 영화중 가장 좋아고언근히 감동도 있네요구지 터집 잡는다면 대통령 배역 모두현실 대통령과 성격은 같은데 외모는 아닌것', '', '결말이 깔끔해서 좋았음.. 반도보다 훨씬 나음..', '국가에서 만든 영화 인줄....사회주의 국가에서  우상화  시 키는 홍보영화', '정말 감동적으로 봤습니다~~신정근연기 진짜 짱이었습니다~~^^', '볼만했어요', '처음에는 기절할 만큼 지루한 오래전 영화같더니 서서히 재미가 더해가는 영화', '왜구씨종자들이 싫어할 영화내요 우리의 주적은 북한 우리의 오백년 먹은 주적은. 일본', '억지로 개그 요소를 넣으려 한 것만 빼면 나무랄 데 없지만현실보다 너무 희망적으로 그린 것이 흠이라면 흠.현실의 냉정함을 반영했다면 더 감동적이었겠다.', '어제 잘 봤습니다. 강추합니다.', '잠수함 전투신짱!!우리나라 기술력의 향상이 눈부심~~^^', '계속 두근두근거림넘 좋았고 일본은 개쉐이고  자주국방의 중요성 느낌요', '우리나라, 우리 대통령의 역할이 무엇인가..영화 내내 답답했는데 지극한 현실반영이라 참 씁쓸했습니다. 인간적이고 헌신적인 우리 대통령의 모습은 보기 좋았지만..개그요소때문에 역할 자체가 너무 작위적으로 보여 아쉬웠습니다. 정우성씨의 코믹 연기가 부자연스러운건지 대본의 미스인건지..암튼 그부분 매우 아쉽습니다.그럼에도, 지극히 그럴법한 상황에 영화적 재미가 가미된 볼만한 영화였습니다. 잠수함 전투씬 흥미진진했습니다.', '', '진짜 한국 영화는 댓글 알바 진짜 많다 ㅋㅋ 1개적으면 얼마줌?', '오글거리는 장면 많음.반공영화로 보면 됨.대한민국은 위대하다.하지만 우리는 강대한 대한민국이 되어야 하니까.  긍정으로 생각함.', '초반 은 돔 지루한듯 했으나.  재미와 감동이었음. 계속 여운 남음.', '', '겁나 재밌게 봄  최악이란사람은  일본사람인듯 ㅋ', '....... 최악 영화', '음모를 밝히는 부분은 자백재 맞은 미국 대통령의 입을 통해 술술 흘러나오고, 음모를 분쇄하는 부분은 귀신처럼 달려온 부선장의 총질 몇방으로 이뤄진다. 담배냄새와 방귀냄새로 점철된 갈등의 해소 역시 한국 대통령의 준엄한(?) 꾸짖음에 해소된다는 황당무계함이나 에필로그에서의 오글거리는 연설이 이 영화의 무게감을 떨어뜨린다.', '', '초반에 다소 지루한 감이 있었지만, 잠수함 전투신이 흥미진진함 ㅎ 재미 있었음 ㅋ ,', '충분히 몰입감있는 내용, 배우들의 열연, 긴장감 쩌는 전개, 이제 믿고 보는 한국영화!다소  루즈하고 어려운 초반, 무리한 3국정상 납치 등이 문제라고? 영화잖아', '잘 봤습니다.', '내가 배운 역사랑 다른데? ㅋㅋㅋㅋㅋㅋ', '재밌어요전하고 싶은 메세지가 색깔있어 보여서 약간 글치만 역사를 되집어 보기 좋은 영화 같음추천!!', '잠수함씬만으로도9점충분하다', '그냥 그런 영화.감성 팔이', '애들 평점 테러하네.. 누군지는 대충 알지? 니들 수준이 딱여기다.', '', '최악', '1편보다 못함', '', '노잼.!', '국뽕 영화라는 것 알고 봤습니다.근데, 신파도 없고, 국뽕영화도 이정도 퀄리티면 괜찮네요.잠수함 마지막 장면에서는 전개를 예상했는데도 눈물이 흐릅니다.잘 봤습니다. 기대를 안 해서 그런지 매우 만족스로운 영화였습니다.', '참으로,,,, 안타까운 현실 ㅠ.ㅠ통일의 당위성에 대해 모두가 함께 공감할 수 있는 계기가 되었으면 합니다.', '영화에서 다루고 있는 현실이나 국제적 역학관계, 통일에 대한 입장 등은 생각해볼만한 점이 있으나 영화적 측면에서 미국 대통령에 대한 도를 넘어선 희화화나 염정아 등 대통령 주변 인물의 어색한 관계 설정 등은 완성도를 꽤 떨어뜨리고 있다.', '애들아 속지마라 ㅋ 리얼 노잼이야 한달뒤에 공짜로 뜨면 봐라 ... 대통령도 안어울리고', '초반부터 지루해긴장감1도 없는내가 만들어도 이것보다는 낫겠다', '초반중반... 너무 지루했었습니다 결말을 그리는 후반부는 재미있었습니다', '현실에 기인한 상황설정이 흥미로웠네요.영화 스케일도 상당했어요.재밌게 봤습니다.', '영화 재미있게 보았습니다.배우들의 연기_ 몰입감 있었습니다.소재 또한 신선했던걸로.. 후속작 기대 되네요1탄보다 스케일이 더 커서 좋았습니다잠수함 액션 멋졌구요. 멋진영화 였습니다. 그런데 쿠키영상은 좀^^ㅋㅋ', '부함장 연기때문에 그나마 6점...어린이용이었나보다..어린이랑 본 사람들은 좋았다는 댓글이 많구나', '유치찬란함... 중학생정도면 재밌어할듯... 어른들이 보기엔 식상하고...', '신천지...친일일베개독...꺼져..니들섬나라로~~', '사실상 주인공은 부함장 신정근님인 듯', '정치색 빼고 보라~ 아무 생각 없이 보라는 얘기~ 원래 좌파 지지자들은 머리가 나빠서 논리적인 사고력이 떨어지니, 보면 아주 잘 원하는 대로 선동되니까~좌파를 떠받치는 개돼지 국민들에게 보내는 메시지겠죠~', '웃음과 긴장감, 감동이 어우러지는 완전 재밌는 영화입니다. 강추합니다.', '정말 꼭 봐야 합니다. 동아시아 관계에서 우리나라가 어떤 위치인지 알게 해 주는 영화입니다.', '주유소 습격사건은 주유소에서 빠져나가기부상행은 KTX열차에서 빠져나가기강철비1은 서울에서 빠져나가기강철비2는 잠수함에서 빠져나가기흥미진진하고 1편보다 세계관이 확대되었습니다.', '', '잠수함  전투씬 멋졌어요~!', '최고', '', '일베들의 테러방지용.', '정치색빼고 보세요.꿀잼', '수준낮은 대사수준낮은 그래픽미화된 북한미화된 한국대통령', '', '정치 블랙 코미디태극기 할배와 일베는 분명히 싫어할 내용별점 테러때문에 10개줌중상은 되는 것 같음', '현실의 우리나라 상황을 잘 반영한 영화서글픔과 통쾌함이 동시에 느껴진사실과 사건의 영화적 상상력이 더해진거라현실에 대해 관심이 없으신 분들은 재미가 반감 될 수도 있으니 차라리 역사적 우리 나라 최근의 정상회담 만이라도 알고 가시면 더 즐길 실 수 있습니당', '연출력,스토리,각본,연기력 모두 관심 없다~~우리 나라를 너무 미화한게 불쾌했을 뿐!! 아무리 약소국이라고 하나 너무 대한민국을 발톱에 낀 때 마냥 취급하는게 보기 싫었음!!', '한반도에서 대두되고 있는 이념의 장벽을 뛰어넘어 잠수함의 3명의 정상의 상황이 현재의 우리나라의 처지를 반영하는 것 같아 씁쓸하지만 또한 현실적인 상황 설정이 좋았고 배우들의 연기가 너무 좋아서 감동적이였어요 특히 독도를 소재로 삼아 지금의 국제 정세를 대비 시켜 보게한 양우석 감독의 혜안에 깊은 감명을 받았습니다.', '연기도 각본도 CG도 다 훌륭했어요다만 분단된 한반도의 현실을 사실적으로 보여줘 가슴 아팠아요', '재미있게 잘봤습니다..이정도면 10점입니다...두시간 넘게 몰입했습니다...0점 주시는분은 뭐하러 시간 아깝게 보러가셨나요???10분정보 보다가 나오시던지...', '단 5초도 내버려두질 않는 긴장감', '중간중간 늘어지고, 어설픈 유머코드 넣어두고, 슴돠만 넣으면 북한사투리인가 배우들이 죄다 어색한 사투리만 구사하고. 1시간도 안되서 나가고 싶던 영화는 오랜만이었다. 감독의 역량부족이 곳곳에서 드러난다.', '참고로 1편과는 전~혀 상관없고,해당 배우들의 다른 역활에 초반 적응이 힘들었음..그리고이 좋은 배우들을 데려다가 이렇게까지 밖에 못만드나 싶음제목에 대비 너무 너절하고 억지에 현실감 없음.잠수함 방안에 한,북,미 3국 정상을 몰아놓고 시간 보내는게 정상회담인가???미국 대통령을 약간 트럼프를 빙의시킨거 같은데...똥 싸고...방귀 끼고... 그것때문에 한,북 정상이 힘들어 하고...   이게 웃으라고 만든건가??유연석의 김정은 역활....전혀 몰입감 없고...그냥 북한말 정도 하는 어설픔...정우성의 대통령 역활....아수라의 어줍잖은 대사 치기와 표정...모르겠지만...영화 중간 중간 객석에서 터져 나오는 한숨과 짜증의 소리...나도 한 서너번은 자다 깨다 했네...욕 나오는 영화...1편의 긴장감과 현실감에 몰입도를 1000점 준다면..2편의 억지 제작감에..5점 정도 주리라', '암만 영화지만 미국 대통령의 코미디 연기...삼국 정상 납치 중 미국 대통령에게 약물 투여..우리 영화의 고질적인 문제 공격을 당해도 반격을 못 함....일본 잠수함 침몰 시켰어야 함.그렇게 못할거면 걍 대치 상황만 연출하던가...맨날 두들겨 맞고 반격도 못 하는 장면 왜 넣었는지 모르겠음...1편보다 진짜 재미없고 돈 아까움.', '그럭저럭', '한반도 상황을 잘 표현했네요', '온 가족이 전혀 지루한 장면 없이 너무 재미있게 봤습니다.강대국에 끼어서 눈치만 봐야하는 우리나라 현실에, 그것이 사실이라는 점이 영화 보는 내내 너무 서글펐습니다.', '중학생 아들하고  같이 봤는데.. 간만에   재미있게  봤습나다...', '보세요', '재밋어요', '재미있어요.', '그 좋은 배우들을 모아다가... 이런 영화를 만들다니...너무 재미 없었네요.진지한 상황에 나오는 어설픈 개그는 뭐죠?한반도의 멸망이 걸린 상황에서, 미국 대통령의 방구 개그라니...아... 정말 지루하고 재미 없었습니다.', '', '생각한것보다 훨씬 재밌었다. 놓치면 개후회했을 영화!', '영화 너무 좋았어요 잠수함에 갇흰 정우성이 연기한 대한민국 대통령의 입장이란게 강대국들 사이에서 살아남기위해 애쓰는 내나라 내민족 이라 생각하니 참 맘이 아픈 대목입니다 그럼에도 이제는 민족주의를 넘어서 인류평화와 번영을 고민하는 시대로 가야할것 같습니다 민족주의에도 명암이 있고 그걸 극복하는게 후대를 위한 우리의 책임이겠죠', '전 초4학년 아들과 즐겁게 봤습니다.어린아들이 어려울법한 내용인데도 흥미롭게 보더라구요.아이들도 한번쯤 본다면 깊고 어려운건 몰라도 우리나라의 현실을 배울것같아요', '주연은 말할 것도 없고 엑스트라까지도 완벽한...오버하지 않아 더 빛난 신정근 배우.막장드라마에서만 보던 김용림도 신선했다.', '재밌게  봤어요   우리의 주적이  누군지  알게  해준  영화~~~~  설정이  재밌었어요   ,,  방해벋지 않고 북한과 우리마라가  협상하고  통일하는 날이 오기를!!!!', '북한 유사시 한반도 점령을 어떤 나라가 해야 하는가라는 질문에 국민 대부분이 당연히 남한이지! 라고 대답한답니다. 저도 마찬가지입니다. 통일은 당연한거고 어떻게 해야하는가라는 질문에 우리 국민이 답할 차례입니다. 중국은 반드시 차지하려고 할테고 일본은 또 훼방 놓을것이 분명하니까요! 정신차립시다!', '좋았어 아주', '재미있네요~', '네이버에서는 정치영화라고 별점테러오지는데 정우성이 한국대통령으로 극을 잘 이끌어가고 엄청 리얼하지는 않지만 실제로 벌어질법한 이야기를 풀어나가고 있음. 미대통령 트럼프 연기도 현실과 오버랩되며 웃음포인트. 종반부의 잠수함 속에서의 액션도 생사의 갈림길에서 선 상황들을 긴박감있게 잘 그려냄. 대단한 수작은 아니지만 한번쯤 볼만한 괜찮은 완성도의 영화임.', '코로나 때문에 미중일이 똥볼을 차고 있어서 얼마나 다행인지...', '', '', '세상돌아가는걸 알게해주는 영화입니다', '너무 현실의 그들과 닮아있어서ᆢ그주어진 환경마져 그럴것같아 더 마음아팠던ᆢ 그래서 더욱 응원해주고픈 우리의 현실같은 영화', '그럴듯하게 꾸민 억지 스토리~', '초반에는 그냥 그랬는데 후반부로 갈수록 진짜 재밌더라고요.', '우리 영화 수준이야 진작 넘사벽이였지만, 우리 조국의 현실을 정확히 알려주는 영화라 다들 꼭 보길 감히 추천합니다.', '잠수함 액션신은 엄지척한반도의 정세에 대한 현타  확실함', '이걸 진짜 재밌게 보신분들 많구나드럽게 재미없던디그나마 잠수함씬 막판에 없었음 돈아까왔어요', '2시간이 금방 지나갔어요. 신정근배우님 최고!', '시간가는줄 모르고 너무재미있게봄초중반까지 빵빵터지는 장면과막판엔 눈물이....추천합니다', '자동차극장가서 잘 보고왔어요', '정치 오타쿠 및 밀덕으로서 꼭 봐야할 영화', '너무재밌어요', '꼭 봐야할 영화!일본의 민낯', '재밌게 잘 봤습니다.', '응원합니다. 조만간 꼭 볼 생각입니다.', '', '꿀잼!!!', '', '방금 보고 왔는데재밌네요볼만함 ㅋ', '탄탄한 스토리 !! 짱!!', '잠수씬 넘 잼났어요  흥미롭고현 대통령님을 연상케 하는  씬들이  더러 있어더 좋게보았습니다문대통령님 힘드시겠지만 늘 응원합니다~!', '극한직업 대한민국 대통령', '완전 좌파 영화네 국민선동하는..북한과 힘을 합쳐?  돈뿌려도 못 합칠걸?정우성은 완죤  주사파 영화만 찍는구나뭐가뭔지 알고나 찍는건지원', '', '전편이 훨 나아요..잼없습니다. 지루합니다. 쿠키영상도 어이없고.....', '잼났어욤', '잠수함 씬은 헐리우드영화 못지않게  좋았음', '재밌어요', '재밋게봣습니다 나중에 다시볼랍니다', '막판 30분전부터 볼만합니다.1시간 40분 가량은 정말이지........', '간만에 영화관 가서 볼 만한 이유가 된다이념 따지지 않고도 잼있는 영화', '너무재밌게 봤어요 오락영화에 메세지가 묵직합니다 가볍게 꼭보세요', '- 설정과 주제 는 굿..정우성이 정말 대통령이 됐음 좋겠단 생각 했음- 배역설정은 약간 미스..곽도원과 유연석이 쫌 안어울렸고이번엔 웃음코드가 영 억지스러웠음- 그것빼곤 괜찮고 잠수함씬 몰입감이 최고였음', '와이프랑 졸다가 1시간만에 나왔어요 ㅠㅠㅠ', '', '유치합니다. 정말.감독님 너무하신서 같애요.', '전50대입니다만 와이프와 재미있게 보았습니다', '베리굿!', '완벽한 미스케스팅....', '잠수함 씬 빼고는  대한뉴스 보는듯 했습니다.영화는 영화 다워야 하지 않을까요?', '우리나라를 둘러싼 현실을 잘 반영한 스토리와 영상이 훌륭한 영화다.더구나 우리에게 제시한 질문은 많은 것을 느끼게 한다.', '이정도 스토리에 이정도 연기면 훌륭함.영화를 본 각자가 스스로에게 질문을 던질겁니다.평화유지와 통일.. 어떻게 하시렵니까?', '', '있을법한 시나리오', '', '국제정세의 복잡한 속내들...머리 정말 아프다는..잠수함씬 긴장감 엄청나네요.잘 봤습니다~', '호불호가 갈릴영화로보여집니다....영화는 개인적으로 시간가는줄 모르고 봤을정도로 재미있었습니다 오락적인면도 그렇고 전체적인 이야기도 대한민국 현재 상황과 딱 맞아떨어져 흥미로웠고 다만 아쉬운게 몇가지있었습니다 너무 각국 정상들을 희극화 시키지않았나싶고 북한은 좀 미화시키지않았나 생각들었습니다 풍자는 좋은데 영화 흐름상 너무 각국 정상들의 풍자적인 요소를 많이 넣다보니 영화중간중간 집중을 떨어뜨리는 요소가 되지않았나싶네요  그러나 전체적인 이야기가 리얼할정도로 현재상황에 맞게 잘 풀어졌고 현재 국민들의 기본적인 상식을 조금더 넓혀주기에 충분한 영화가 아닌가싶습니다....평점 이 박한듯해서 조금더 점수를 올려서 평점했습니다 충분하게 올 여름 볼만한 영화중 한편이였던것같습니다', '괜찮았어요', '부함장이 주인공이다!', '시간 잘 갔고, 잠수함 전투는 정말 잘 만든듯. 다만, 국뽕이 좀 많이 첨가되었고, 유머코드가 와이프는 낄낄대며 보던데, 나랑은 맞지 않아서 좀 어색함. 결론은 일본은 나쁜놈들이라는것', '', '돈이 아까운 영화ㅠㅠ', '굿', '8.5', '진짜 돈이 아까웠다ㅠㅠ', '정우성 완전 잘 생김. 부함장 짱 멋짐. 유연석 연기 짱.잠수함 전투씬 쫄깃했음.오늘 잠실에서 봤는데, 정우성 관객인사 있어서 깜놀.영화관 나올때 여자들 다 은혜받은 표정, 재밌었음.전체적으로 꽤 재밌었다.  감독의 노력에도 박수.', '괜찮게 봤음. 중간 중간 유머도 있고 재미났음...', '완전 지루함..', '현실감 있고 재미있다.', '1도 재미있다.2는 더재밌다.', '전체적으로 영화는 졸라 재미없다 그러나 열광에 사로잡힌 힌국의 처지를 사실대로 보여 주는것 같아서 돈은 아깝지 않더라', '11살 아들 둘이랑 봤는데 두 아들 다 잼있다고한다.영화보는 중간중간 물어봐도 푹빠져 보면서 잼있다고 한다.집에와서도 웃긴장면들 떠들어된다.남북미 현지도자들을 적당히 모방 & 풍자하는 맛이 유치한듯 잘 살린것 같았고,국제 정세(팩트)를 적당한 가상 시나리오로 긴장감있게 풀어낸듯 하다.적극 추천작이라 할수없지만, 시간이 아깝지 않은 영화라 할만하다.', '재밌다! 디테일 꼼꼼히 보고 싶어서 다시 관람하겠다', '최악의 영화.국민사상 세뇌영화...영화까지 왜이러는지...', '완전 몰입감 쩔어요. 한반도를 둘러싼 중국 일본 미쿡의 셈법을 너무나도 정확하게 묘사하고 있어서 깜놀. 마지막이 좀 비현실적이라...그래도 어린친구들이 많이 봤으면 좋겠어요.', '외교 정치 좋아 하는 사람들은 재밌게 볼법한 영화인듯..저는 재밌었는데...지루해 하는 사람도 있더라는..^^', '원래는 7점 주고 싶었는데 테러가 많아 1점 더 줍니다. 조연들의 연기가 주연들을 압도 합니다. 굳이 안 웃겨도 되는데 각 나라의 지도자들을 풍자하려는 의도였는지는 모르겠지만 별루 안 웃겼어요. 씁쓸한 느낌. 그래도 영화가 꽤 무게감 있게 진행되고 다시 한번 한반도에 평화가 정착되기를 바라는 마음이 드네요.', '우선 재미있고 시간 가는줄 모르고 봤네요 런닝타임에 비해 금방 끝난거 같아요~', '완전몰입', '이거 인증하고 댓글달게 하자. 보지도 않고 테러하는 애들 많다 .  오늘까지 4번 봤다. 재밌다', '재미 없어..ㅜ ㅜ 우성아 이런 영화 출연하지마.대깨문들만 좋아 할 듯', '', '재미있게 잘 봤습니다. 마지막 부분은 사족인듯하지만...평점은 영수증인증 같은 방식으로 진짜 영화 본 사람들만 할 수 있게 바껴야할 것 같습니다. 테러방지용으로라도.', '클레멘타인의 명작과 비슷한 수준의 영화', '재밌내', '최악ㅠㅠ개연성도 엄꼬', '크림슨타이드  생각남, 재밌어요.미대통령 역할 배우분은 브레이브하트(멜깁슨 주연)에서 스코틀랜드 귀족으로 나오셨던 분, 연기가 매우 뛰어남', '굉장히 재밌게 봤다. 여기 최악이라고 평한 사람들은 아마 본인의 정치관을 반영한 듯. 그리고 자꾸 국뽕영화라는데 별로 그렇지 않다. 한국 대통령이 에어포스원의 해리슨포드처럼 악당들을 다 무찌르는 것도 아니고.', '대한민국 존재감을 살려준 멋진영화', '잼나네요', '아이들과 함께 꼭봐야 할 영화입니다.  재미도 있고, 믿고 보는 배우분들의 연기력에,  별점을 100개는 주고 싶습니다.   친일파들이 별점테러를 왜 하는지 영화를 보면 알게됩니다.', '과감하지만 투박한 상상, 그래도 빛나는 양우석의 야심', '괜찮아요', '그냥 반일반미영화..ㅎㅎ', '간만에 재미난 영화!', '굿', '', '오나전 ㅋㅋㅋ 영화 스토리 ,, 정말 말도 안돼는 설정 그 자체,,,사상이니 뭐니 전달할 생각 다 집어치우고 ,,, 의식 바꿀 생각 꿈도 꾸지 말고 ,,,아무 생각 없이 보면 정말 좋다미국 대통령이 잡힌 설정 ,,, 이  제일 웃김진짜 부함장 역할 제일 죽임', '그냥 우리나라 현실 같아요...ㅠㅠ별점 한번도 올린적 없는데 이상한 평이 있어서 그냥 10점 줍니다.', '50대 인데 비현실적이기하나  영화는 잘만들었다.', '코로나로 영화 어려운거 감안해서 1점 준다.', '우리나라 현실이 ㅜ흥미롭게 봤습니다', '오늘 명필름아트센터에서 보고왔습니다. 대통령은 계속 외모기준으로 뽑기로 맘 먹었숨돠 ^^ 좜솸액션 멋집니다!', '소신있게 쓰려다 테러가 많아서 10점.무난한 오락영화', '', '현실의 안타까움의 눈물이 나네요', '신파나 지나친 오바 액션이 들어가나 했는데,  그런 건 놀랍게도 없었다. 오히려 기존 한국영화에 비하면 딱딱한 편이다. 아주 적절한 수준에서 자제한 개그가 있었다.', '재미와 감동마지막엔 눈물이 주르륵', '재밌음', '또 봐야겠다 싶을정도로 재밌게 봤어요. 강추강추입니다♡', '알바는 알바한다 치고 개념없이 평점 깍고 영혼없는 글 써시는 분들 생각이 있으면 소신있는 영화 평론 좀', '처음은 좀 지루하더니, 초중반 이후는 몰입하고 종반은 스릴, 스피드가 좋았습니다.', '방금 보고나왔는데 재밌어요.', '두번 이상 볼 가치가 있는 영화', '', '일베충들 펑점 테러에 맞서 10점 줍니다.개인적으로는 8점 드리고 싶네요.', '국뽕 영화', '영화가 현실을 담았습니다. 친일파들은 그렇게 일본이 좋으면 일본 가서 살지 왜 피곤하게 사는지 매국노들', '대략난감', '정말 재밌게 봤어요강추합니다', '일베충들 평점테러 땜시 10점 줍니다. 후반갈수록 쫄깃쫄깃해 집니다. 꼭 보시길 추천', '', '핵잠 필요성  느꼈다     꼭  핵잠  건조하자', '역사를 좀 알면 눈물 펑펑역사에 관심없고 정치에 관심 1도 없으면 재미없을듯', '현실과 일치하는 사실이  안타까울뿐. 시간순삭~', '미사일 격추신은 긴장이 되었다', '이 영화를 끝까지본 내 친구가 10점 받아야겠다. ㄹㅇ 끝까지 보는게 힘든 영화는 진짜 오랜만이라더라', '우리나라 현실과 같아 빠져서 봤네요.', '멋집니다.강추강추시간 순삭.저는 1편보다 재미있게 봄잠수함 전투신 희귀해서 더 박진감  짱!배우들이 역할이 다 멋집니다.곽도원님의 연기 몰입도 엄청납니다.신정근님 역할이 엄청 믿음직하게 느께집니다.우리 정배우님도 계속 계속 화이팅.잘생김이 혹시 몰입에 방해되지 않을까했는데  그런 걱정 안해도 됩니다.정우성님 영화에서 자주 뵙고 싶어요.유연석님 너무 잘 보았습니다', '', '지금 남.북의 현실을 그대로 알려줘서너무 기분 나쁘고 슬프고 안타깝다일본.중국.미국 다 같은 ㅅㅂ 놈들이란것도 현실과 너무 같고....', '최고의 영화 굳굳', '두 번 봐도 눈물이..영화관에서 봐야 실감나는 영화내돈내본 영화 !!', '이런 최악의 영화란? 장난하냐', '잠수함 전투신이 너무 현장감이 있고 전반적으로 우리 한반도의 안보 현실을 잘 나타낸 오랜만에 정말 재미있게 잘 봤네요', '잘봤다 볼만했고...  적은 일본이더라', '재밌게 봄 종전선언 평화협정 가즈아!!!말로 설명하는건 좀 줄였어도 될꺼같음엔딩 크레딧 못본게 아쉽네요 숨은 영상이 있다니 꼭 보길!!', '이야 진짜 잘만들었네요.눈물이... ㅜㅜ정우성 넘 잘생기고스토리 탄탄하고 연기를 다들 어쩜 그리 잘한대요', '그냥 재미로....지루하지않았는데..', '재밌게 잘봤습니다.', '마지막 통일에 대해 묻는 장면 때문에 2점 준다마는.. 이런 재미없는 영화는 다신 만들지 좀 말자. 왜.. 2시간이 이토록 허술하게 넘어가는 걸까? 긴장감은 1도도 없고, 인물의 매력도 1도도 없고, 반전은 더더욱 없고.. 왜 이 영화를 만들었는지 도대체가 알 수 없다. 반도에 이은 두번째 대 실망이다. 그리고.. 대체 북한 애들 대사할때 자막은 왜 넣은 거냐?', '', '1시간 견디다가 나왔다. 이게 영화냐', '이거 재밌네 꼭 보세요~', '오랜만에 재미난 영화 봤어요', '잘봤어요', '이런 영화를 만들수 있다니? 한국영화의 발전이..ㅡ', '너무평점이높은거같아', '대깨문들 호주머니 노리고 만든 영화!', '쓰레기영화', '잠수함 안에서 긴장감 췩오~~', '모처럼 가족들과 마스크쓰고 시간가는줄 모르게 재미이ㅛ게 잘봤어요~~^^', '방금 보고 나왔는데 진짜 레전드', '재밌어요', '', '현실감없고 배역진들도 아닌것 같다강철비1  더나은듯', '정말 최고인데요,,, 정우성    강추합니다...', '너무 재밌어요. 몰입감도 높고 재밌는 유머까지 힘께하는데 현 한반도를 둘러싼 현 국제상황에 잘 맞는 상황 표현에 슬프기도 해요. 우리 나라에서 이런 잠수함 영화가 나온 것도 놀라워요.', '', '그런데로 볼만함...그런데 내용상 한국  군인들의 활약이 쫌...부족해 보임...내가 정우성이었으면 곽도원의 대사중에 한마디는 동의 했을듯...한방날려...그러면서 간나쉐키 멋진데 칭찬 했을듯ㅋㅋㅋ', '평점  낮은거 보고 기대안했는데  재밌게 잘 봤습니다.  우리나라 현실이 참  안타깝기도 했고...좋은 영화 만들어주신   연기자분들 감사합니다.', '진지한영화와 국제정세도 조금알듯잼나게 봤어요교육적이고여튼 대한민국 요즘이야기반영한듯', '문빠들을위한영화   유치하다   설정과배우선택부터    그냥 007대통령 으로해라', '재밌게 봤어요!', '두번 봅니다~ 재밌어요~', '전 재미있게 봤습니다호불호는 있겠다싶은데 보기싫은분은 안보면그만다들 잼있게보세요', '영화적 재미는 어떤 헐리우드 영화보다 낫다. 특히 잠수함 액션!', '', '너무재밋는데 관점의 차이인가', '', '우리모두 평화를 원합니다.', '볼만합니다. 2시간이 후딱감', '너무너무 재미없어요, 알바 아니고 진짜임ㅠ', '기대없이 봤는데, 너무 재미있었어요. 실제로 있을 법한 이야기를 실감나게 만든 수작. 부함장과 대통령 연기도 좋았음.', '시나리오가 조끔 아쉽네.', '', '', '뉴스를 통해선 다 알 수 없는 우리나라를 둘러싼 긴박한 정세를 보여주어 좋았습니다. 영화와 100% 똑같진 않다해도 미.일.중 강대국 사이에서 우리나라가 살아남기 위해선 일부 정치인 뿐 아니라 우리 국민 모두가 마음을 모으는 것이 중요한 것 같습니다.', '너무 편파적인듯. 김정은인듯한 사람은 너무 미화시켰고  미국대통령은  모자란 사람  한국대통령은 탈권위적으로 묘사한건 현실과  너무 동떨어져  있었음. 특히  현직에 있는 대통령을  미화시키려는 아부성 영화같은 느낌을 받았다면 나만의 생각일까요?', '미대통령 풍자가 도를 지나쳐 오히려 재미가 반감 됨', '재미와 감동', '', '재미와 감동. 특히 엔딩의 연설들으면서 가슴이 짠했네요', '너무 재밌는데 슬프기도 하네요.', '코믹ㆍ액션...  웃다가 나왔음.', '저는 재밌게 봤습니다.실존인물과 차이가 나는대통령역의 정우성, 위원장역의 유연석의연기도 기대했던것보다 더 좋았습니다.시간이 금방 지나갔습니다.', '마치 언젠가 현실이 될 것 같아 쫄깃쫄깃하게 잘 봤습니다^^', '', '우리 정세를 여과 없이 보여주는 최고의 영화.액션과 의미 모두 최고였어요.', '', '', '부함장이 제일 멋있네', '휴 이걸 재밌다고 하는 인간들', '굿', '보통', '중반 지루하지만 무난1편만은 ..', '문재인 대통령님이 생각나는 영화', '재밌었어요. 유쾌하고 좋네요', '국뽕도 어느정도여야지..  초중반 너무지루하고 좋은배우들로 뭐한건지..   미국 일본 바보만들고 우리나라만세..  억지춘향 유머와 긴장감 1도없고..욕한사발 드리리다..', '미중일  강대 세력에도  언제나 고분분투했던우리내 역사과 정치  현실을  여실히  보여주고있네요  누구나 알아야할  이시대    한반도정치  상황을  잘  연출하였고  좋은 작품으로만들었네요많이들  보시길', '영화 1편 못지않게 잘 만들고 재미있구만평점 테러들이 정말 심하네 ;;그래서 별 반개 더 줍니다', '1편에 비해 많이 모자라고 개연성이 많이 부족합니다.정우성이 대통령인데....안어울리고요.곽도원이 더 악랄해야 되는데 그냥 멍청이 입니다.유연석이 평타는 치구요미대통령이 제일 잘한거 같지만....현실이 더 돌아이라서......국뽕도 마약입니다 치사량이 넘으면 죽어요.', '재밌어요. 강추!지금의 한반도 정세를 현실감 있게 그린것 같아요. 설명도 잘 되어있어요.독도의 전략적 위치가일본,중국,미국 등의 주변강대국 이해속의대한민국의 현실이 잘 그려진것 같습니다 .', '재미있음', '그냥', '추천합니다.내용도 좋고 배우들 연기도 좋았습니다.쿠키를 못 보고 나온게 아쉽네요.쿠키도 꼭 챙기세요.', '그냥저냥', '1편과는 소재가 틀리다보니 재미가 덜 할수 있으나 난 어쨌든 재밌게 봤음', '꼭 보시길 추천! 재미 있슴.', '아니네..... 90년대 애국영화', '개인적 생각으로는 전편만 못하네요. 중반까지는 지루하다는 느낌도 강하고...그래도 킬링타임용으로는 나쁘지 않았어요.', '생각대로군^~^', '댓글 알바의 장난질 일거라 믿으며 봤는데ㄷㄷㄷ 잼있게 봤다.간만에 볼만한 영화', '너무 지루하고 웃음 포인트도 유치해요.재밌다는 평점에 봤는데 실망!', '현실성이 보임', '', '재미없고 어설플까봐 걱정하며 극장행잠수함 액션은 쫄깃하고극전개도 담백유치함은 쬐꿈만찬란한 국뽕도 이해할만한수준으로나름 집중하며 봤다흥해라 ~~~', '메시지가 확실함.재밌어요', '기대안하고 봤는데 재밌었어요', '', '', '흠....', '정우성은 물론 도날프와 유연석 다 실제 정상회담에서 저랬을거 같은 작가적 상상력이 너무 재미있고 중간중간 나오는 유머도 현재 3국의 상황을 이해하는 사람들에게는 정말 빵빵 터졌음!!  특히 잠수함의 기동과 작전은 너무 흠미진진하고 우리나라 영화수준이 진짜 헐리웃과 맞먹는다는 것을 다시한번 느낄정도로 넘 졌음!!  울컥과 유머 앤 스릴도 있는 멋진 작품임', '보는 내내 흥미진진. 도람뿌, 정으니 연기  잼남한반도 주변국  이해관계와 그 사이에 낀 한반도의 현실 잘 반영.', '1편과는 전혀 다른 영화..영화적 가치는 떨어짐.', '너무재밌어었어요~', '', '', '반도는 되게 실망이 컸는데 강철비는 되게 긴 시간대비해서 몰입도 잘되고 잼나게 봤어요~ 딴거보다 사운드가 정말 강철비 특유의 긴장감 넘치게 만들어주는거 같아요 ㅋㅋ너무 과도한 신파적인 요소가 없어서 좋았어요~ 유연석 배우 배역 안어울릴줄 알았는데 생각보다 카리스마 넘치게 나와서 좋았네여 ^^', '', '1탄에서는 정우성이 북한간첩이었는데 2탄에서는 대한민국 대통령이라니....... 뭥미....', '대한민국의 아픔.. 마지막엔딩크레딧 올라갈때 광화문에서 남북 두 정상이 한국의 대통령이 하던 마지막 대사. 여러분들은 통일을 원하십니까.. 찡하더군요.', '약간 지루할수도 있으나 대체로 재미있음.잠수함등이 비교적 고증이 잘 되었다고 함', '잠수함씬 매우 볼만함', '정우성  표정  참 가슴아프다우리나라의  입장을  너무 느끼게 한다가슴  미어지는  눈물이   흐른다', '', '이제서야 보다니... 정우성이랑 곽도원 반포동 개포동 이야기할때분단된 민족만이 느끼는 뭔가가 있는거 같은 느낌이 들었다', '평점 테러하는 사람들 많네우리나라는 옛날부터 극우테러가 정말 많은 나라지', '말로만 듣던 어뢰..스케일도 크고 볼만했어요~ 웃음포인트도 꽤있었고~영화관에서 보십시오~', '', '전반적으로, 내용이 지루함.', '형들..그냥 돈을 아끼세요', '신스틸러는 미국 대통령.진 주인공은 부함장.전반적으로 무난한 영화.긴박한 상황에서 세 정상들이 개그 주고받는 게 그다지....', '트럼프.... 진짜 저랬을듯.일본 중국 미국그냥 우리끼리 저지르자.경제협력 시작하면 우리는 세계1등 지금도 1등그래서 다 싫어하아봐. 이제야 알았네 .', '메세지가 좋았음.', '멀다고하면 안되갔구나~', '이런 영화는 평점 10점.. 재미없어도.', '재미와 감동, 묵직함을 준 영화~다시 보고싶어요....', '', '양우석 감독의 또 다른 현재 국제정세의 분위기를 맛깔나게 쿠데타 스릴러로 표현했다 하지만 무거운 분위기를 잡으려고 쓰인 코미디는 올드하다.', '재밌다', '잠수함씬이 이렇게 쫄깃쫄깃할수가 없네요재밌게 잘봤어요우리나라 현실을 그려 공감하며 봤습니다정우성연기 최곱니다신정근역할 멋있네요', '한반도와 중국을 둘러싼 최근 국제정세를 공부하고 보면 대사 속도를 따라갈 수 있을듯합니다. 급변하는 세계정세 속에서 전략과 지혜가 필요함을 느꼈습니다. 그리고 잠수함 조정(?)한 부함장 완전 베테랑임~!!', '', '국제정세를 좀 볼 줄 알아야 재미납니다. 국제관계 몰라도 영화보고 배우면 될 듯...마지막 대사... 생각이 많아졌습니다.', '', '', '마음이 무겁기도 했지만 재밌었습니다', '좋은 영화!!!', '진짜 글안쓰는데 졸다가 나갈라했던 영화는 근래 첨이였음 궁금하면 직접가서 보시길~~~개그로 갈려면 확실히 가던가?이도저도 아닌 장르의 영화 트럼프 김정은 니네 몬데?? 진짜 어이가 없더라', '우리민족은 충분히 불행했다....굿입니다', '너무 비현실적', '굿 재미있고 우리나라가 처해 있는 현살 같아 조금 울적하지만 감동과 슬픔 웃음 여운이 남아요', '무조건 강추~ !!지금까지 이런 영화는 없었다~영화지만 기분좋네요!!!', '영화보다가 잤음... 이게 뭐냐', '강철비2 유툽 리뷰https://www.youtube.com/watch?v=QZLnsh-6wXo&feature=youtu.be', '휴전협정에 당사자인 대한민국의 대통령의 싸인이 없다는것, 그리고 북미협정, 그리고 평화협정 영화는 영화이지만 현실에서는 아직도 이루어지지 않은 평화협정...이 남북한 대치와 세계강국에 입지....과연 우리는 어떻게 풀어갈것인가.', '그러게말입니다...', '최근 돌아가는 국제정세를 보며 해보는 즐거운(?) 상상!묵묵히 우리나라를 지켜주시는 해군 여러분의 삶 간접체험은 보너스.', '판타지이지만 현대사를 잘 알 수 있어서 좋았습니다 아이들과 함께 보면 더 좋을듯요', '잘 봤습니다', '보는내나 우리나라의 현실에  마음 한구석이  답답했는데  그래도 마지막은 해피엔딩이라 답답한마음을 조금은 뚫어주네요  강대국사이에  끼어있는 우리나라에 대해 다시한번 생각하게 됩니다  정우성의 마지막  연설은 압권이네요', '불편해도 직시해야할 질문. 마지날 장면.', '기대없이 봤는데  완전 재미나게 봤어요물오른 정우성 배우연기도 좋았고마지막 엔딩  쿠키영상이 전하는 메시지도 굿~^^', '헌트 포 레드 옥토버 , 크림슨 타이드, 헌터킬러, 에어포스 원 까지 많은 헐리우드영화를 떠올리게 하지만 이들 영화들에 1도 밀리지 않네요. 극장에서 꼭 봐야할 영화로 강추.', '잠수함액션 좋았어요', '볼만했음', '재밌다', '강철비1을 보게하네요음.... 각국대통령을  한마디로 잘정리해서 표현했다는생각입니다  사실적인것은 뉴스나 시사정보프로그램보시면 아시겠고 영화는 영화이니 드라마와 다른 시간제한적인상황에서 잘표현된거같습니다  연기자모두 대사가 너무빨라서 감정을느낄 공간이 없었음이 아쉬웠고 잠수함장면은 박수칠뻔했어요 마지막엔 애국심을자극하시는 장면이어서 눈물이.... 마지막질문에답합니다  통일....해야죠  꼭통일이 되어야죠  같은민족아닙니까? 다만 어떻게 마음을 움직이게 하는지가 중요합니다 진심은 통합니다  시간이 걸릴뿐이죠', '변호인, 강철비1 흥행성공으로 넘 자신감이 붙은듯,, 감독이 웰케 가르치려들어? 영화는 감동이 있든지 재미가있든지 해야지 수업시간도 아니고 ㅠ, 영화 한반도2인줄 알것어', '현실을 잘 반영하면서 상상력 또한 공감 가는 내용이라 정말 좋았습니다.제한된 공간인 잠수함 안에서의 분량이 거의 대부분인데도 긴박한 상황 연출과 배우들의 호연 덕분에 전혀 지루하지 않습니다.', '민족적이여서 보기 좋았습니다. 다만 일본 좋아하고 미국 좋아하는 분들은 엄청 싫어 하실 것 같습니다.', '대통령이 돈주고 자기 입장 대변해 주라고 한줄 알았다..하.....증말.....문재인 코스프레만 뺐으면.. 증말 7점은 준다.초반엔 토나오는줄... 자상한 대통령 이미지 부각하려고 의도작 설정이 자상만하지 무능한 현 대통령을 여실히 보야줬다. 나라 대통령은 자상함이 아니라 냉철한 판단으로 100년 대개 국가를 이끌어가랴는 현명한 대통령이어야 한다.. 그저 자상한 척 연기하는 개통령이 아닌...나라가 지금 뭐냐', '재밌음', '재미없다', '전편보다 더재밌고 배우들연기 모두좋았어요강추!!', '쓰레기', '요즘 한국영화 왜 이렇지... ㅠ', 'Great!!', '감동입니다.정우성도 너무 멋지고요.', '영화 재미지다뭉클한 감동도 느끼고', '잘만듬', '뭐야 나 기대 하나도 안하고 봤는데 왤케 재밌어? 파트1:현실(ㅠㅠ 대한민국역할이 진짜 그냥 막노동 ㅠㅠ )파트2:판타지 블랙코미디(현실과 적절한 조화로 개웃김)파트3:판타지 잠수함 액션 (진짜 볼만하다!!!!!) 마지막 적절한 국뽕 양념까지! 3박자가 꽤 잘 맞았다! 아 그리고, 한중미북, 그리고 쿠테타 세력까지 그들의 입장이 이해가 너무 잘 되더라.. 결론은 ㅠㅠ 그래서 이게 해결이 너무 힘들겠구나 ㅠㅠ 일본 입장은 이해안감 나쁜넘들임', '또다시 주변국들에게 이용당하지 않기 위해서...역사를 알거.. 기억해야됩니다...잊는순간... 또다시... 반복될것입니다...', '약간 아쉽긴 하지만 지금의 한반도의 상황을 잘 묘사한것 같네요.너무나 안타까운 우리의 현실을 느끼게 합니다.', \"누가 1편보다 재미 없다 했나요? '변호인' 볼 때 처럼 눈물이 줄줄....\", '국제적 상황을 잘 알아야지 더 재밌게 볼 수 있을 것 같네요! 잘 모르시는 분들은 좀 지루할수도..', '모든게 적당해서 재밌었음', '뭉클 없던 애국심 다시 생김 막판 말이 안되지만 좋았다', '최근 본 영화중에 최고~~!', '네이버 평점테러 엄청난거 확인하고 왔는데 다음은 그나마 낫네요.개인 취향 차이는 있지만 12살 아이와 같이 3명이서 보고왔는데 2시간 10분 지루하지않게 보고 왔습니다.내용도 생각보다 쉽게풀었고요.약간 어색한부분도 있지만 전체적으로 잘 보고 왔습니다.그리고 곽도원과 신정근씨의 연기 믿고 볼만했습니다.^^', '저질영화 내손발 물어내 아 진짜 개저질 댓글까지 쓰게 만드는 삼류양아치 영화', '중반까지는 실망돈 안 드리고 재미도 없고그런데 중반 이후 슬프더라 눈물 날 거 같더라죽음이라는 것이 나를 슬프게 한 건지국가를 위하는 대통령의 마음 때문에 그런 건지', '초등학생 6학년 딸이랑 4학년 아들이랑 보고 나왔음. 아이들이 무지 잼 있다고 하네요.정우성 마지막 대사... 감동 백배무조건 추천합니다. 다들보시고 통일과 남북관계에 대해서 다시 생각하시는  계기가 될길.', '가족이 같이 봐도 좋은 영화!  많은 걸 생각하게 해줍니다.', '국민이 통일을 위해 ~~', '영화수준이 점점 나빠지나돈내고 보기에는 너무 모자란다는 ~보시면 후회할듯', '재미있게 봄 ㅋㅋㅋ 다만 가볍게 보고 나올 영화는 아님', '마지막까지 감동...', '우리나라 현상황을 확실히 알려주는 영화', '대한민국 국민만 이 영화를 좋아합니다.', '정우성을 보면 한반도 평화를 위해 애쓰신 문대통령이 생각남^^휴전협정 당사자에 한국이 없다는 사실과 북한이 원한건 평화협정이란 사실, 일본과 미국이 한반도의 평화를 원하는 않는다는 사실 등 우리 국민들이 이 영화를 통해 많이 알게 되길 바랍니다.', '', '우리들이 새겨야 할 이야기', '곽도원 분량이 적어서 조금 아쉬웠지만, 스토리,몰입감,CG 다 만족스러웠습니다. 조연들도 연기 정말 잘하더라구요.3편 기대하며 8점 줘봅니다.', '재미있었음..각 인물마다 다들 타당성이 있고 납득할 이유가 있음..결론은 일본 개싫음', '', '탄탄한 스토리에 배우들 연기가 좋아 몰입해서 재밌게 볼 수 있었습니다', '깨문이 출동', '스케일을 조금만 더 키웠다면 멋있을텐데 아쉬움 빼곤 최고특히 신정근 배우는 최고의 연기', '우리는 대한민국 해군입니다~~~ 대박재미있어요', '잠수함이라는 재료를 정말 긴장감 있게 잘 활용한 영화', '시대를 잘 읽은 관점과 스토리잠수함 영화로는 한국 최초같아가 좋다.', '정우성, 유연석등 배우들도 그렇지만 감독의 마인드가 멋진 영화. 재미도 최고.', '우리나라의 현실 실정을 반영한 흥미로운 스토리 전개와 연기력이 있는 배우들로 인해 보는 내내 몰입하여 잘 봤습니다.', '연기 좋고~재밌었어요~', '일본미국중국이 어떤 시각으로 한반도 상황을 보는지 보여 주고 싶었던거 갔습니다.이걸 정치적으로 보는 사람들에게 하고싶은  말을  마지막에 정우성이가 하고 있음.', '실망 대실망  절대 보지않는게 좋을껄? ㅋㅋㅋ  한심해서  말이  안나옴', '해도 너무하네.', '초반 어려울려나 싶었는데 중간 코믹한 연기와 후반 긴장감있는 화면과 마지막 뭉클함을 느꼈어요', '정치적으로 의도된 영화인듯 ...현실적으로 거리가 넘 먼 영화.', '한국 대통령은 극한직업이다  진짜 중간에서 ..  영화는  전작보다 더 좋다', '초반에 좀 어려운 내용인가 싶었는데.. 잠수함씬 아주 쫄깃합니다', '아...영화지만,, 코끗 찡한 장면도 나오고 누구나 재밌게 보면서 지금 우리나라를 돌아볼수 있을듯.  마지막 질문에 대답하자!!  넵!!', 'ㅋㅋㅋㅋ', '되도 않는 개그에 헛웃음이 나온다.', '국뽕  코믹영화남북평화  협정은  언제나  가능할지', '재미없다. 마지막 잠수함장면 빼면~ 그래도 볼거면 조조로 봐~ 돈 아깝잖아.', '지금의 상황에다 상상을 더한 시나리오였지만 결과가 현실로 된다면 얼마나 좋을까요', '정말강추드려요재밌어요~~~', '재미있어요 추천합니다.', '우리의 주적은 일본이란걸 다시 깨닫게 되네요좋은 영화이지만아주 재밌는 영화기도 했습니다천만가기를 진심으로 바랍니다', '흥미진진합니다.', '연기,연출 모두 완벽합니다무거운 정치 영화인줄 알았는데 유머와 감동까지최고예요헐리웃 영화 못지않아요살아있다,반도보고 실망하다가 너무 감동하며 봤네요', '좋았어요  고급졌어요  정우성  역시   멋지네요    댓글이  안  좋아   안  보려다  정우성  보러 가자하고  봤는데  안  보면  후회할뻔  했어요   액션은  적어요   그래도  좋은   영화', '재밌게 잘 봤어요', '제발 영화관에서 음식팔지도말고 쳐먹지도맙시다..마스크쓰라해놓고..실제 영화볼때는 음식쳐먹는다고 마스크는 다제껴버리니..', '역시', '너무 재미있게 봤습니다~정우성 대통령 멋있어요~특히 잠수함 전투신 헐리우드보다실감납니다^^', '처음  잠수함 얘기 듣고잠수함은  쉽지 않은  공간인데폭망하는거 아님 했는데기대 보다 훨 좋네요전쟁이나  액션 안좋아 하는우리집 실질적 지배자께서도재밌다고  하시네요', '재미있고 나름대로 의미도 찾을 수 있는 영화네요. 굳이 정치적  입장  운운하지  말고 그냥 재미로 받아들인다면 잘 만들어진 영화같아요.', '무슨영화른 정치적으로만 쳐봤네 재미만 있고만..', '부함당 만 최고', '진짜 오랜만에 영화 몰입헤서 재밌게 봤습니다비현실이지만 현실같은 영화재미와 울림이 있는 영화막판에  남한대통령의 희생이 큰 공으로 이어지는  반전그리고 영화적인 스릴 다갖춘 영화', '아주 멋진 영화임', '말과 글로 만들어진 영화네요. 다큐멘터리 냐구요? 그냥 다큐를 보세요. 잠수함 액션은 저예산 티가 많이 나는데 그것도 10분정도 나오니 액션이나 빵빵터지는 블록버스터 기대하고 가시면 그냥 꿈나라로 가실 거에요. 제 글 보고 소중한 시간 구원받으실 분이 한분이라도 생기시길 바라는 맘으로 적습니다.', '강철비1편 보다는 웃음거리가 많아 졌어요...실제 주인공은 정우성 곽도원 유인석 이 아닌 장중장임...', '100000000000000000000000', '', '초반은 길었지만내용이 공감가는 수작입니다', '생각보다 별루에요~ 강철비1보다 스토리가 탄탄하지 않은듯요~유머스러운 부분도 각국의 대통령들의 행동치곤 좀 억지스러운듯요~그리고 제가 영화보다 나간적은 거의 없는데 초중반까지 너무 지루해서 나갈까 고민했네요ㅠㅠ', '재미만점 연기만점 CG만 다소 아쉽', '영화적 재미와 시대적 주제의식을 다잡은 수작.  ㅌㄸ감별기', '', '', '오락성과 미래희망을 동시에 즐길수 있는 영화', '원대한 상상력, 현실이 되길 바라는 마음으로!', '전형적인 좌빨영화', '초반에는 조금 지루했는데 가면 갈수록 재미있어짐', '노잼', '재미있네요 잘봠ㅅ습니다', '제가 ... 정말 좋아하는 배우님들이 나와서 봤지만....초반엔 연기가 왜케 어색해보이는지... 너무 인위적으로 보이구요. 잠수함씬은 그나마 박진감이 쪼매 있었어요. ... 통일은 당연히 국민이라면 생각해봐야할 문제 맞는데 너무 노골적이었어서 ... ^^그래도 정우성 곽도원 배우님 응원합니다', '시간가는줄 모르고 보았네여.~  몰입감 짱!!!   평화통일 기원합니다.~~', '실존 인물들의 캐릭터를 잘 살린듯. 재미를 위해 약간 과하게 설정하기도 했지만,.. 간만에 몰입해서 봤습니다.', '', '정치 색깔이 강한 영화라 아쉽네요 ㅠ', '말도 안되는 스토리와 전개. 돈 아까운 영화', '개연성이 부족함', '', '적극적으로 묘사되는부분이 좋았고 캐릭터들이 생생하네요. 개인적으로는 이런 시국에 이런장르가 많이 나왔음 좋겠어요. 딸아이도 몰입해서 봤습니다', '현 시국에 잘 맞는 영화인 것 같습니다....잠수함 씬을 보면서 감독님의 디테일이 살아 있어서 영화 몰입이 가능했습니다...^^', '외교관심있으면 잼남', '재밌어요~', '오랜만에  재밋게 잘 봤습니다', '평화는 다른 그 누구도 아닌 우리 손으로 만들어야하디 않을까.', '재밌는데?', '', '흥미롭게 봤어요. 신정근배우님 연기 너무 좋았어요.', '잘 만든 영화 헤어질때의 미세 신파말고는 군더더기없는 즐거운 오락영화면서 우리에게 많은 생각과 질문을 던지는 영화', '코메디가 가미된  문화영화재밋게좀 써보지.아쉽네', '전작에서 이어지는 요소들을 전혀 다른 설정으로 버무려냈는데 아쉬운 부분도 없잖았지만 평론가로 빙의해서 8점을 주자니 정말 재밌게 봤던 마음이가 9점을 주라고 지켜섰네요.같은 방식의 3탄도 기대합니다.', '그냥 별 내용없고 약간 코믹하고 일본하고 원수진것 처럼 꾸며 놓았고 코로나로 무료하니 보는거지.', 'PC통신 시대 데프콘 시리즈 보다는 현실성을 더한 밀덕 무비.해피엔딩으로 깔끔히 끝냈으면 좋았는데 쓸데없는 훈계조 사족을 붙인 것이 흠.', '볼만함   영화끝나고   광하문연설      좋아', '재밌었네요. 트럼프 캐릭터 잘 묘사한 듯', '', '평점 7점이상 준 사람들은 머리가 이상하거나 국뽕 알바들이네.  오랜만에 기대했던 영화인데 정치적 편향성이 심하고     현정권에 노골적으로 아부하는 모습때문에  흥미를 잃게 한다.   삼국의 넘버원 묘사가 심하게 과장되고 코메디같다.  트럼프대통령 완전 바보가 된다.ㅣ', '장르불문 만화도 아니고 유치찬란함.', '한번더 보고싶음', '유치하고 비현실적이지만 그래도 아주 좋았어요', '', '인정한다 그러나 2프로 불만족하다 현실은  과연 될까?', '후반부 한번 더 보고싶어요', '완전 재밌어요...첨부터 끝까지 긴장감이 있어 손을 꼭쥐고 봤더니, 머리가 아플정도네요...일본잠수함공격 피하는 씬도 어떤 액션보다 더 화려한 화면이 펼쳐집니다.아마 친일파들은 싫어하는 영화일듯...', '', '반도보다이거보니 힐링됨..', '', '중간에 나올래다비 억수로 와서 그냥봤음왕짜증  ㅠㅠ', '처음엔 좀 루즈한 면이 있지만 마무리는 완벽한 영화', '', '우리민족의 문제를 우리끼지 못한다.. 답답하다. 해군, 공군력 키우자. 육군은 원래 강하잖아. ㅎㅎ', '생각보다 이야기가 좀 늘어지는 부분도 있었지만 매세지가 있는 ..숙제를 주는 영화인것같습니다.국민여러분 통일 하시겠습니까?네..당연히 해야죠..통일만이 대한민국의 미래입니다..잘봤습니다..', '', '이게 영화냐...?억지로 좋은건 다 갖다 붙인 영화지..... 평점 알바가 엄청 많네.....Press 가 심한듯....영화입장료가 아깝다.  내돈주고  편향된 정치적 시청각교육 보러 가는 듯......영화제작비는 혹시  국민의 세금으로 제작한것은 아니겠지....?', '초반에 평에 대한 안 좋은 글들이 많아서좀 고민하다가 보게 됐는데 재밌게 잘 보고 왔습니다다만 미국 대통령이 너무 유치한 모습으로나오는 부분들과 잠수함 안에서 대화하는장면들이 오래 나와서 사람에 따라선안좋게 평가할 수도 있겠다는 생각이 들었습니다.정말 간만에 본 영화였는데 재미있게 잘 봤어요!', '지루하구먼. 이 좋은 주제와 내용으로도 이걸 못 살리네. 한미북 평화 회담이라는 좋은 재료와 독도 전쟁이라는 첨예함에도 잠수함 밀실을 선택한 순간 액션이 사라지면서 지루함이 퍼져나간다. 잠수함 간의 긴박한 전투로 살릴수 있었을텐데. 정우성이 총에 맞았는데도 아파하지도 않고 디테일도 안살리는 영화라니. 곽도원 연기만 돋보였다. 그마마 독도를 볼 수있어서 좋았다', '최악의 영화', '오늘 보고 왔는데 정말 최고였습니다.뭐 하나 흠 잡을 것 없이 완벽하고 재미있었습니다.', '잘봣습니다', '조연들의 연기가 주연을 압도합니다', '간만에 만점 영화!각본, 연기, CG 어느 하나 구멍없고약간 개그감과 긴박감이 몰입도를 최고로 만듦.한반도를 둘러싼 미중일 국제정세의 복잡함이다소 리얼리티를 낮추지만 영화는 영화니까...곽도원한테 반하고 정우성을 사랑하게 하는 영화.', '좋은 영화', '울영부인님을 좀더 우아하고 품위있게 그려주셨으면 좋았을걸...나무가볍게 말씀하는 캐릭이라 속상했구요.왜 잠수함에 타라고했는지 개연성 스토리가 엉성해요. 울대통님이 영어못하는 분으로 나오는것도 화났어여.ㅋ다만..답답한 열강의 틈에서 고분분투하는 현실은 이해할만해요.정우성님 연가 잘하시더라구요.', '우리의 현실이 아파서 짠했고.우리민족의일은 우리가 해야한다.대통령이 정우서이면 참 좋겠다 ㅋㅋ', '정말 재밋게,   가슴 아프게 봤어요~사방이 적인가슴 아픈우리 현실을다시 들여다보게되서마음 한편 아리게한 영화~~', '강철비2   오랜만에  재밌게 봤어요 정우성 오빠가 연기도 잘하시고  멋져요 대통령 연기 멋져요 오늘은 혼자서 즐거운 시간을 보냈네요', '', '초반 억지 웃음이 다소 있지만 볼만합니다', '짜임새가 좋은 영화. 전투신도 상당히 좋음.', '잘 만들지도 않았고 스케일이 크지도 않아요. 오락영화로 볼만합니다. 이런 영화 보면서 반일 반미 따지는거 보면 답답합니다. 이렇게라도 3국 대표가 모여 친해지길 바라는 염원을 담은 통일을 기원하는 코메디에요. 설마 대한민국 국민중에 평화통일을 반대하는 공산주의 빨갱이는 없겠죠 ? 통일이 자력으론 안된다는 민족반역자 친일파 나부랭이들도 없죠 ? 통일을 이렇게나마 기원합니다', '스토리 전개등 몰입감이 좋네요.. 잘봤어요..', '재밌게 봤습니다~', '분단현실에서 만들어야 하는영화입니다. 넘 잼나게 봤어요', '진짜 재밌게 봤어요주인공 안죽어요', '관람객의 정치적 성향에 따라 평점 폭이 크겠다.한반도 안에서의 일인데 정작 한국은 평화협정문에 사인을 할 수 없는 현실을 보면서, 강대국 사이에서 대한민국이 누구도 흔들 수 없는 강한 나라가 되어야만 하는 지 새삼 다시 느낀다.', '간만에 영화관에서 볼만한 영화를 봤네요~ 2시간이 넘는 영화인데 몰입감 좋았습니다 ^^', '마지막  대통령의 연설이 크게 울림을 줍니다', '잼나게 잘 봄', '미국 북한 남한 각자 멋진 캐락터를 부여했더군요특히 김용림 총리 멋집니다. 정치 덕후가 생기겠어요', '최악의 내용없는 정치적 스토리~돈아까움~ 쩝한국 지도자 미화. 북한 지도자 미화. 미국 지도자 비하하고~ 반일감정 자극했음.', '이게 영화냐', 'Goooood!!!!!!', '통일 어떻게 생각하십니까..???마지막 질문이  기억에 남네요.통일을 원하십니까..??', '헉. 리뷰 잘 안쓰는데. 이런 영화를 보고 최악, 1편보다 못함이라고 하는데 강한 이의가 있어 다시 리뷰를 쓰네요. 1편과는 다른 스타일의 영화라는 느낌이 들구요. 무엇보다 정우성의 대통령역은 최고의 선택이었고 그의 연설을 듣고 있으면 마치 그의 정신적 생각을 그대로 얘기해 주는 것처럼 느껴집니다.이 영화보고 눈물 흘린 사람 중 하나로 강력 추천합니다.', '전반적으로 재미있었어요각본이 현실적이라 가슴아프네요미부통령 캐스팅 아쉬워요', '분단조국의 아픈현실이 참 가슴져며오게 하는 영화.한 형제를 자국의 이익을 위해 3국이 처절하게 이용하는 오늘의 현실이  눈물짓게 합니다.가슴 뭉클~~~꼭 보시길 추천해봅니다.~', '정말 재밌어요~비도 오는데 영화보러 가셔요~', '전쟁영화  취향 아닌데...몰입감 굿.대본이 훨씬 전에 나왔을텐데현 정세도 묻어나고.....인위적 감동 걱정했는데  적정한듯절제를 아는 감독님.', '솔직히 안 좋은 평가도 조금 보여서 걱정햇는데막상  관람하니 재밌네요~호불호는 있겠지만  저는 만족하고 돌아갑니다~', '간만에 재밌게 봤네 정우성배우 진짜 대통령 했음 좋겠다 ㅋㅋ', '정말 재미있게 봤어요 현실은 아마 픽션보다 더하겠지만 영화적 스토리로 잘 만들어 냈다고 생각합니다! 극적 긴장감을 끝까지 잘 유지한 영화~', '', '', '정말 재미있게 봤습니다,  픽션이 많아 현실감은 떨어지지만 구성이나 스토리는 괜찮았습니다. 긴장감도 있고..', '아무 정보 없이 봤는데 재미있었어요 영화 진짜 오랜만에 봤는데  또 보러가야징', '', '기대안코 봤다가 정말 재밌었음...', '끊임없이 사회문제를 고뇌하는 감독과 배우들이 있는 대한민국의 영화계가 너무 자랑스럽다.', '헐리우드가자', '처음엔 좀지루하고 재미있내요 그래픽도 멋있고', '감독님이 어떤 마음으로 만드셨는지 절절히 느껴졌습니다', '잠수함 전투신은 멋짐!!그외는. . . 네티즌 평점 평균치만큼 강철비1,2의 재미가 차이남.특히 아쉬운점 하나는. . .굳이 북한말 자막이 필요했을까. 전부 알아듣겠던데.  해석도 아닌 발음 그대로의 의미없는 자막.오히려 우리나라 영화도 북한말을 지막처리해줘야할만큼 남북이 멀어졌구나. . .하는 씁쓸함.', '안본사람이 종북 미화영화라니 반미영화라하는데 ㅋㅋㅋ 냉정하게 한국사 공부해본사람이라면 느낄정도의 영화고 초반은 몰입감이 방해되는건 사실이지만 중후반부터는 재밌습니다..ㅋㅋㅋ 종북이라니 반미보단 국뽕이 좀 어울릴만한 영화였음 ㅋㅋ', '코로나  때문에 극장에 잘 안와서 그런지 전 반도, 강철비2 모두 아주 재밌게 봤습니다.최소한 해운대, 명량보다 잘 만든 것 같구요. 헥갈립니다. 제가 눈이 낮아진건지 평론가들이 눈이 높아진건지강철비2만 말하자면 시나리오 좋고 박진감 있고 오락영화론 아주 좋았습니다. 다만 미국 대통령역이 너무 트럼프와 닮게 연기해서 오히려 외교적 문제가 있지 않을까 생각은 잠깐 들더군요', '잼있게 봤습니다.', '나이든 분들은 이런 느낌 아실겁니다.  본영화 시작전에 대한뉴스~ 돈주고 보는 느낌.  모처럼 아내와의 데이트에 이거 보고 짜증이 밀려왔습니다, 정말 화가나는건, 그래도 영화라는 예술? 오락? 에는 그냥 순수성을 남겨두어야하지 않을가 싶습니다. 왜이러나요,    그래도 아무것도 모르고 그냥 애쓴 배우몇분의 수고를 봐서 1점 드립니다', '동북아의 관계를 나름  풀어볼려는  대통령의 간절함이보이는 영화.  토왜들이  싫어할듯', '미국과 일본은 좋아하지 않을 영화하지만 한국은 좋아할 영화미중갈등이 심화되는 요즘 상황과 묘하게 오버랩 되면서 현실처럼 느껴져 섬뜩하기도 하지만 영화는 그 저 영화일뿐... 적절한 긴장감과 긴박감을 느낄 수 있는 구성.. 그렇지만 쓸데없는 사족 2프로..그래도 평점 올릴려고 10점', '역사를 왜곡한개 쓰레기 영화', '', '영화는 영화일뿐~~감정을 실어 보진않았으면 하네요~조금은 지루한면이 있으나 소재나 내용이 신선하고  좋았어요 ~~', '최악의 시간낭비 영화', '내가만들어도 이것보다는 재미있겠다진짜 쓰레기영화', '초반은 나이브하며 지루한 면도 있었으나, 중반부터 흥미와 몰입감이 생기고, 가끔 유머가 깃든재미와 교훈을 주는 작품이었다.', '역겨운 사회주의사상 주입 영화 그와중에 우성이 발연기는 여전하구만', '평점보니 볼맛 뚝 떨어지네.', '재미있게 잘 봤습니다', '이게 영화냐  북한 선동물이냐  미국은 북괴로부터 구한 진정한 우방이다', '감상평은 첨이네요 ㅠㅠ', '', '신정근 배우 연기, 존재감 대단하네요. 한국 대표급 배우들 속에서도 단연 돋보였음요. 응원합니다', '키티퀸은  아직 보지도 않았다면서 별점을 깍네호불호가  갈린다고 일단 평균이하로 별점을 주는 심보는 무슨 심보?', 'ㅎㅎ', '아직 보지는 않았지만 평을 보니 호불호가 확실한  영화인 듯.그래서 별점일단 6점드립니다.', '그럭저럭 재밌었어요', '이걸 재미있게 보는 사람들도 있구나ㅋㅋ', '그냥 봐라 ㅈㅁㄷ', '1편에서 죽은 주인공을 2편에서 다시 살리고....역할을 바꾸어서 곽도원도 나오고....신선하기는햇다...', '줄거리도 형편없고 3개국 국가원수가 반란군에 납치되어 감금되어서 하는말이 코메디도 아니고초등학생들 대화하는것 같고 긴장감도 일도없고 실망에 실망뿐인 영화', '잘 만든 영화 오랜만이네~', '대사가 너무 많다.  술자리에서 말많은 사람 얘기 들어주는 기분이 들었음..', '차라리 내가 영화 한번 만들어볼까? 이런생각이 드는 영화였음', '그냥 국뽕 들만 좋아할 내용 액션인지 코메디 인지 모르겠음 걍', '', '그럭저럭  볼만 했음.', '뭔가 2% 부족한  연출.  감동 증폭을 위한 국뽕 한  사발 투여.  강철비1 보다는  별루.', '재미는  반도  화제성만  강철비..연출이  촘', '완전 국뽕 영화임,반공영화 이후 최악의 느낌 마저 듦억지스런 코메디 설정은 나라도 안웃어주면눈물날 지경.왜이러냐, 반도는 한반도를 버렸고정상회담은 한반도를 희화화해버렸네  ㅠㅠ', '~~~~~~~~굿~~~~~~~', '좋습니다.한번 더 볼 생각입니다.', '...', '우리나라 영화 수준이 굉장히 높아졌다 느꼈음.팩트와 픽션을 적절히 섞어 만들었다 생각.배우들의 연기도 훌륭했다. 영화가 생각보다 길지만 그래도 몰입해서 재밌게 볼만 했음.한반도의 평화는 결국 제3자가 아닌 남북한만의 국민이 간절해야 만들 수 있다.', '3월1일 독립만세를 외치던 그날 현장에 있던 느낌이랄까. 애국심 막 느끼게되는.한국영화 보며 이렇게 속이 시원하고 뿌듯함을 느낄 수 있다니 50인생에 처음입니다. 배우들의 열연에 박수가 저절로~집에와서 아들에게 감독이 누구냐고 물어봤네요. 다시 예매해서 한번 더 보려구요', '이번 베트남에서  북미 정상회담할때 진짜 이런내용이었을듯.      김정은역할에 유연석 .   중간중간에 웃길려고만든자면들 통역사장면과  정상셋이  기관실갇혀있을때 장면관객들이 심야영화라서 지쳐서 그런지 하나도안웃음ㅋㅋ반도보다 훨씬잼났음.', '진짜 재미있고독도 멋지고첨에 지루하나 참으면 복이 온다 ㅡㅡ한줄평', '일본이 죽일듯이 달려들다가 너무 쉽게 물러나 버려서 잠시 어리둥절한거 빼곤 몰입해서 봤습니다.깊은 여운을 남기는 질문에 숙연해지네요...신정근배우님 인생작이에요^^', '', '일 없습네다라는 대사가 이 영화에 대한 총평으로 적합하지 않을까?', '', '좋은 영화입니다.', '재밌었는데 1% 아쉬운 건 남북미 정상 인질이 되었는데 바깥 상황 대한 입체적 묘사 부족각국의 언론, 군사적 대응 움직임 등이 교차편집으로 나와줘야 더 실감나고 긴장감 높을텐데 아쉬움하지만잠수함 지휘로 존재감 보인 신정근 배우님은 특히 역대급 작품으로 기록될 듯', '이상적인 한반도를 꿈꿔봅니다캐스팅 굿!!!', '서사관계 완벽연기완벽역사 설명 완벽개그감 완벽감동점 완벽쾌감 완벽전율감 완벽하... 정말 더이상 할 말이 없습니다감독님이 많이 고민하신게 느껴져요아 그리고 마지막에 우리에게 던지는 질문.. 완벽...', '', '작금의 한 미 북  중   일   정치상황 재밌게 풀었네요', '시대상황이 잘 녹아들어 있어 시사하는 점이 와닿았고, 정말 한반도가 통일하지 못하는 것이 강대국들의 틈바구니에 있는 우리의 모습이란 생각이 들었습니다. 나부터 통일을 원하고 통일이 가져다 줄 평화를 기원해봅니다.', '정말최악 서프라이즈보는줄', '잠수함나오면서부터 심장쫄깃! 잼났어요. 근데 정우성의 웃음유발 멘트들은 좀 억지스런 부분이 있네요~ 정우성씨 재밌고 능청맞게 웃기는거 연습필요함. 너무 멋있는거만 하니깐 그러죠~', '나쁘지 않았다. 재밌었다', '그럭저럭 봤슴다세계가 모두 미중 미중  카는데제  생각엔  진짜  최강 은   푸틴의러시아가 아닐까  생각드네요', '우리 나라 영화에선 잠수함전을 영화에서 처음 접하네요  마지막이 더 쫄깃해서 좋았습니다 감독님과 배우들에게 박수를, 특히 잠수함장역 배우님 역시나 관록이 느껴집니다', '재밌어요. 평화 통일. 현실이 안타깝습니다', '', '작금에 현실이 얼마나 어려운지 알았습니다~ 잘 봤어요~', '왜 우리가 남북평화로 나아가야 하는지에 대한 중요성을 일깨워준 영화네요~', '알바에 속지마세요.뭐 이딴 영화가 있나 할 정도의 영화임.변호인을 만든 감독이 맞는 건지...어휴,앞으로는 걸러야 할 감독으로 각인!', '그런대로 볼만했음', '이렇게 할꺼면.... 한반도1이 200배 더 재미음', '완전 재밌음..  올해 개봉작중 단연최고.. 앵겔스가 다 했어 ㅋㅋㅋ', '멋진영화', '생각보다 괜찮았음. 외교에 일자무식이지만', '완전 재밌음', '감동과 재미를 둘다 잡는 영화.심장이 쫄깃한 긴장감.배우들의 미친 연기에 깜놀.정치에 조금만 관심이 있다면 현실을 반영한 세세한 디테일을 볼 수 있어 재미있음.씬스틸러는 부함장~ㅋㅋ거기다가평화통일의 개념을 잡아주는 교훈까지.영화 강추합니다.  <다시보고싶은영화>', '흥미진진영화로 배우는 한반도 역사와 정세!정전 협정에 남한은 없다는 팩트체크잠수함은 많을수록 좋다~~', '이 정도면 수작이라고 해야 함 다들 눈만 높아서리', '뭐 좋아. 내용 이해했으니 통일 합시다.', '감독의 반미정서를 지나치게 우스꽝스럽고 천박하게  그려서  오히려 몰입감이나 설득력이 떨어진다무엇보다 지루하다', '세나라 수장을 잡아놨는데 연출이 너무 가볍구 유치한개그코드.그거말고는..', '동아시아정세 한반도why판권을 사서교육영화로 만들어졌나?', '유치할줄 알았는데 진짜 재밌었음   굉장히 현실적인 영화 감동', '잠수함 씨지 미쳤따...', '저만울었나요... 너무 감동적이고 생각이 많아지게 하는 영화에요 보는내내 마음 절절...ㅠㅠ 제 동생이 어려서 잘 모르는데 내용 이해하기 쉬웠다고 하더라고요 ... 이런영화 만들어주셔서 감사할따름입니다..', '현실적인 스토리에 꽤 재밌네요', '현대사와 우리 나라의 국제적 관계를 전혀 이해 못하는 사람들에게초반은 좀 어렵게 느껴질 수도 있음그러나 대충 미, 중, 일, 그리고 북에 낑겨서 어려운 우리 나라라는 사실을 전달하고 있는 것이니대충 알아먹으면 됨.그 다음부터는 몰입도 높고, 현실성도 높은 영화임감동에 웃음코드도 좋았음.', '한국 CG기술이 많이 발전한듯스토리는 현실적임중간에 껴서 이도저도 못하는 나라안타까움', '', '', '슬픈 한반도 현실  두시간 잘감', '', '통일은 누군가에게 기대어 할 수 있는 일이 아니란 걸 다시금 생각하게합니다.', '자주국방', '지루했어요.', '긴장감 있는 스토리속에 간간이 있는 유머코드에 진짜 흥미진진 재밌게 봤습니다더불어 우리나라에 대한 애정까지 생기네요 ㅋㅋ진짜 잘 만든 영화 재밌었습니다국민 누구라도 보면 좋을 영화!', '괜찮네요', '독도', '남북통일 = (서울 경제도시, 평양 천연자원관광도시, 세종 행정도시)가 되어 세계 최강의 선진국 됩시다~', '재밌네요.특히 바다밑에서의 잠수함 어뢰 발사 씬이 쫀득했습니다.중간에 코믹도 있구요.뚝심있게 만들었네요.', '재미있게봤습니다.현실에서나 영화에서나 한국은  늘 선택이 아닌 눈치를 바야하는 상황이 쓰립니다.통일은 혼자 하는것이 아니다라는 마지막 연설장면은 가슴이 찡했습니다.통일보다 싸우지 않는 국회를 보고 싶네요', '배우 신정근님이 다 살렸다.처음 전개부터 지리멸렬한 설정.억지로 끼워 맞추는 ...시간이 아까워 죽는 줄...신정근님의 연기의 힘이 이리 대단할줄이야...', '시간가는줄모름', '현실성 떨어지고 지저분하고 유치하고', '웃기네', '', '한번 더 봐야 할 듯', '', '', '국뽕의 극치.. 개연성이 하나도 없음 ㅎㅎ 광복절 온다고 보러가는 그런 바보같은짓 하지맙시다..', '주연 신정근  !!자주국방, 자주통일 이룩하자 !!', '방금 아이들하고 보고 나왔습니다.별점 테러가 많은데 진짜로는 8.5 정도 주고 싶네요.강철비 1보다 현실적인 상상력으로 잘 만든 영화입니다.', '강철비1을 너무 재밌게 봐서 기대했지만..기대한 만큼 실망감도 크네요.영화내내 지루하고 유머포인트는 중간중간 있지만재미가 없어... 곽도원 배우님은 비중이 이게뭐야? 할 정도로 별 내용도 없고 마무리도 어이없고, 액션도 별로고, 아무리 잠수함이 배경이지만 부함장 역할 배우님이 대부분 중심을 잡고있네요.사람마다 다 다르겠지만 제 경우는 영화내의 주연배우분들의 역할과 비중에 중점을 두는편인데 강철비2는 개인적으로 아쉬운 영화네요.', '잠수함 고증 쵝오다!', '지루하고 억지 스러움', '웃음을 유도하려는 몇몇 장면들을 빼고 차라리 시종일관 진지하게 갔더라면 훨씬 좋았을 듯.  등장인물에 대한 캐스팅도 좀 잘못된 느낌. 여러모로 아쉬운 영화.', '정상회담에 꼽사리 끼다가 독도로 잡혀가서북미 시다바리 하다 끝남', '풍자적인 정치 스릴러와 긴박감이 감도는 잠수함 액션에 단도직입적인 물음까지, 열강의 소용돌이에 얽힌 한반도의 처지와 운명을 현실감 있게 그렸다. (노골적이고 우직하지만, 태풍의 눈 같은 대한민국의 위치가 어떠한지에 대한 감독의 뚝심과 의지가 선명히 전해진다.)', '너무 재밌게 잘 봤어요~~^^', '라이너에게 속았네.. 반도는 신파라고 그렇게까더니 이건 왜.. 스토리는 억지에 연출은 널뛰고 액션은 지루하고 신파는 식상하고 트럼프의 오바연기는 차마 못봐주겠다. 잡탕 짬뽕인데 밍숭맹숭. 1이 100배 낫다.', '까는 쇠리들은대한민국 대통령(정우성분)의연설과마지막 한마디를 듣기가죽기보다 싫을 것이다', '', '마지막  정우성 대사가 많은 생각을 하게 만드는... 중간에 유머코드가 좀 어이가 없어서 1정 뺍니다!', '다 알바생들인가..영화보다가  중간에 나온건 처음..진짜재미없고지루함..1시간즘보면서..이제 재미있을례나?그렇게 버티다가  그냥나옴  잠자고싶은분은 보셍ᆢ..', '시간가는지몰랐어요', '지금.......인듯어렵다.  남북 관계어렵다. 통일세계는  우리를 이용만 한다.일본은 우리나라 쪽빨아 경제부흥 했다.우리도 일본 겹 눈질해 경제 강국 됐다.', '됫걸음쳐서 쥐를 잡앗네요~!!', '', '근래에 본 영화중에는 최고..반도에 넘 실망해서 상대적으로 좋아 보임...마지막 10분만 맘에 안듬..', '다른 나라는 절대 우리나라의 우방이 아니다.미러중일 각자, 잇속과 계산에 따라 철저히 움직일 뿐이다.세계사에서 강대국만이 타국을 친구라 부를 수 있다.현실감 없이 너무 잘 생긴 우리 대통령과미국 대통령을 너무 희화한 점(사실?)이나북한의 최고위원장을 너무 유약한 존재로 그린 점,그리고 미국과 싸우지 마십시요 등과 같은귀에 거슬리는 대사나 장면만 빼면(싸우지는 않으나 절대 져서도 안 됨)긴장감 있게 볼 수 있는 작품이었다.', '단연코 부함장의 연기가 최고였다~~^^*', '기대안하고 오랜만에 영화관가서 영화봤는데 재미있었어요', '전작보다 더 잘만든 속편. 긴장감 넘쳤던 잠수함액션. 액션보다 더 카타르시스를 느꼈던 배우들의 연기 앙상블', '최고의영화', '최애영화(나)vs최악영화(토착왜구)', '악착같은 평점테러에다악플다는 이들의 정체를막상 영화를 봐야 알게되지 않을까?', '수면용', '일본 놈들 때문에..', '잘 봤어요.정우성, 곽도원, 정상근, 유연석 배우님의 연기도 훌룡하여 몰입해서 잘 봤습니다.스토리도 좋고, 잠수함 전투씬의 긴박함도 잘 표현된 영화입니다.우리나라가 처한 현실을 사실적으로 잘 묘사됐다고 생각합니다.적극 추천이요~ 꼭 극장에서 보세요~한국 영화 파이팅~', '씨레기, 주사파, 살인마 돼지의 꿈, 폭망염원', '중간 중간 웃기려고 개그하는데 한번도 웃음이 나오지 않네요전체적으로 재미있는 영화는 아닙니다', '잘생긴 대통령 얼굴에 가끔씩 연기력이? 줄거리가? 가려지긴 했습니다만 영화 잘 봤습니다', '우리의현실을 그대로 보여줌', '다음도 점점 물이흐려짐 이렇게 저질스런 초딩같은.악담투성이라니!!! 어찌되었건 우리나라가 미국보다 나은 점 하나는 확실하다!!  인구로나 사이즈로나 미국 2개주만한 남과 북이 세계유일의 냉전국가인데 역사는 미국의 20배 오래되어서 이런 리얼리티 짱짱한 역사정치물  소스가 아주 짱짱한 나라 ~ 이런게 없으니 헐리우드는 맨날 수퍼히어로들이나 파고 있다 ㅋㅋ 아 역시 영화는 극장에서 봐야 제맛!! 그리고 이런 심해잠수함전투씬이니 ㄷㄷ 여름장마의 습함을 날리는 후련함~♥  그리고 북한사람들은 짜증나겠지만서도 유연석이랑 신정근 역할 좋았소 ㅋ  곽도원만 코믹씬이 하나도 없음 ㅋㅋ 심지어 정우성조차 웃겼는데 ㅎ  그리고 그 여자통역원 넘 웃겼엉 ㅋㅋ킬링포인트 풍성한 영화였음 ㅋㅋ.문과대통령과 이과영부인도 ㅎㅎ  잠수함내부정상회담씬 정말 좋았음 단지 영화초반 전개가 매끄럽지않은게 좀.^^;', '가슴이 먹먹합니다한국사람이라면  꼭  보시길..', '', '지금 문재인 정부의 역사관이 뭐가 잘못된건지  이제  확실히 알 것같네요.', '내가 본 영화중 최악', '전작보다 더 좋았습니다.', '평화를 위한 올바름하지만  좀  더 긴박감있게  전개되었다면 하는 아쉬움', '일베와 아베 극혐 영화?', '재미있습니다 지루함도 못느끼고 잘봤습니다', '', '오랜만에 영화 봤는데 재미있게 봤어요~', '쓰레기!!한국영화들 왜이리 가면 갈수록 정치선동에 횝쓸릴까?관객은 단순히 재미를 원하는거야 특정집단의 억지주장을 학습할려는것이 아니고....내돈 12000원이 진정 아깝다..영화보다가 그냥 나오긴 처음이네..', '이 영화는 X눈에X만보이는 일베아들이 극혐하는 영화임.  팩트체크는 아래  댓글로 확인 충분.', '종교영화입니다. 신앙심이 깊은 분들만 추천드립니다.연출 기대할게 하나 없고, 개그코드는 쌍팔년도, 긴장감? 졸리니까 커피 충분히 드시고 보세요', '아 ~ 좀  영화가 왜 이런지~ 그리고 정우성씨 그만큼 연기했어면 톤이나 발성좀 한번이라도 바뀔 생각은 없는지~ 이 캐릭이나 저캐릭이나   안변해서 좋은거는 인성이지 연기가 아닙니다', '좌파들의 포르노 그 자체', '안본 눈 삽니다?', '북한 정은이 미화영화ㅡ', '오늘 봤는데 재미(스릴)와 감동 두 마리 토끼 다 잡은 영화네요~~  홧팅!!!', '후반부 잠수함 액션 씬은 몰입감 끝내줍니다. 섹시한 백두호 부함장님께 덕통사고 당함. 초반 서사가 조금 느슨한 듯 하지만 후반부 스피드를 생각하면 적당함. 아이들 역사 교육용으로 강추!', '이 영화는 엔딩 크레딧이 진리다. 영화 끝났다고 자리를 뜨지 말라.  오늘 먼저 나가는 사람 거의 없이 객석에서 다들 앉아서 봤다.', '우리나라가 처한 현실을 다시 확인했어요. 전쟁이 일어나지 않도록 눈물 흘려가면서 공감했어요. 방학을 맞아 아이들과 함께보고 생각하는 시간이였어요', '잘만든 영화 ... 좋아용', '지금의 대한민국 시민들에게 던지는 메세지와 그에 다른 화두제시... 잠수함 액션씬도 몰입도 좋네요.', '나름 재미는 있게 봤는데... 북괴넘들을 너무 의인처럼 아름답게 묘사하는게 어이 없었음.ㅋㅋㅋ 전형적인 친북 선동영화.', '', '오늘 보고왔습니다. 자막많고 잠수함에서 미 북 남 3대통령이 똥싸구 하는데 지루해서 잘뻔했습니다. 돈주고보기아깝습니다.', '세명이서 대화하는 씬 좋던데, 잠수함 액션신은 1의 병원 전투씬 2개 만큼 좋고, 콤퓨타그래픽은 뭐..어쩔수 없다고 치고 전체 스토리보다 장면 마다 주고 받는 대화가 괜찮음.역사.공부 한다.치고', '몰입감 좋아요 ~ ! ( >,.< )b', '영화평점 구별법 : 일베가 별점테러 한다   그럼 그 영화는 존나 명작에 훌룽한 영화라는 뜻이다극장에서 안보면  죽을때까지  후회되서 우울증으로 죽을수 있음', '개구데기 정치 선동 영화 ㅋㅋㅋㅋ 개연성 밥말아먹고 1시간 넘게 액션은 커녕 잠수함 어뢰쏘기 장난질에 대통령 둘에 위원장 넣어두고 농담 따먹기만 하다가 끝나는데 재밌다고?? ㅋㅋㅋㅋ 정우성 잘생긴 거 말고는 볼 가치 없는 영화 돈내고 보기 아깝고 선동 영화니까 아마 설날에 특선으로 틀어줄테니 그때 봐라', '스토리, 비주얼 훌륭하네요. 정우성 등 배우들의 연기에 몰입도가 좋아 2시간 10분이라는 시간이 훌쩍 지나가네요. 특히, 미국 대통령 연기한 배우도 어려운 역할인데 매끄럽게 잘해서 자연스럽네요.', '북한을 아군으로 묘사하고, 미국 일본을 적군으로 묘사한전형적인 빨갱이 좌파 정부다운 영화다심지어 중간에 세명이 갇혀있을때는 지루하기까지...정우성은 진정한 좌빨이다', '이게 영화냐 라고 하는 사람들은 알바생 아닐까싶음.', '꼴통보수들 모여들어서 평점 깍느라 바쁘네~ㅋㅋ강철비1 보다 재미있으면 얘기는 끝!', '꼭 보세요잠수함 액션 긴장감 쥑입니다.', '이게 영화냐', '넘 재밌고 감동적임. 또 볼거임', '아.....!! 고민되네.....@@ 예매는 했는데......', '', '감동 재미 다 갖춤눈물 콧물 웃다가 감동적이에요', '볼만함... 일본의 현실적 존재가 정확히 드러나는 영화..', '미국,중국,일본등 한반도의 평화를 원하는 나라는 없다.그저 자신들의 이익만을 추구할뿐..일본 극우들의 모습은 픽션으로 보기엔 현실과 너무나 닮아있다.중반을 지나며 조여오는 긴장감이 좋았고 후반부의 감동이 벅찼다.진정 한반도의 주적은 누구인가? 아픈 과거가 있었고 여저니 그 과거속애 살지만 결국 남과북 우리는 하나다.평점 태러에 속지말자!! 테러범들 클릭해보면 대부분이 첫 리뷰.에휴..왜들 그러고 사시나?', '한반도2인줄....', '장난하냐?  영화냐 이게? 앞뒤전개 일관성도 없고 웃기지도 않고 감동도 없고 억지만 있네', '영화평 보고 나서  영화를 볼려구 했는데... 흠....고민이군요.... 정우성  마이 늙었네 ......그래도  외국영화 한편 더 보는것보다   우리나라 영화 한편 봐주고  후회해야징,.,안할수도 있으니까 ~~~~~~', '너무너무 재밌었는데 다들 평이 왜 그러시죠 ?ㅜㅜ', '평점 알바들 오지게 많은거 + 평론가들도 정권 눈치보면서 평점주는거 확실히 알았다ㅋㅋㅋ캐릭들 전부 이랬다저랬다 왔다갔다 유치뽕짝 진짜 평점 안남기는 사람인데 욕하러 왔음억지 캐릭터 억지 설정 억지 스토리에 재미도 감동도 없는데 막판에 몰입감있다던 잠수함씬은 어뢰 몇미터 심도 몇미터 이ㅈㄹ하는거 유치해서 눈뜨고 못볼지경이었음 게다가 씹노잼도 씹노잼이지만 무슨 정치선전물인줄ㅋㅋ 현정부 후빨도 정도껏 해야지 +부통령은 전부 여성?? 작위적인 남녀 밸런스ㅋㅋ +한국대통령 너무젊은것도 몰입안되는데 영부인캐릭터는 대체 왜 있는건지 모르겠음 하는거 아무것도 없고 정우성 궁둥짝때리고 등짝때리고 집구석에서 수학선생이 대통령 훈수질하고있음ㅋㅋ', '', '끝날때까지 긴장감이란...간만에 재밋는 영화봤다마국 일본 중국 역시 못믿을 놈들', '영화보고 나쁜말안쓰는데...주변에 영화소개해주고 욕먹고싶음~해주세요~나름 국뽕영화 좋아라하는데...이건~뭐~ㅜ클레멘타인 리얼 염력의 후속작!!', '대사읽다가 놓치면 끝남 그냥 다큐스러움. 영화로선 액션이나 스릴  통쾌 이런것이 마이 부족함. 미통령은 너무 미친 괴짜로그림 .  독도 앞바다는 반경 수십 킬로  해산이 존재해 영화처럼 잠수함이 바로 앞애 뜨지못함. 암튼 영화로선 좀 부족함.  잠수함전은 이미 좋은영화에서 많이 우려먹은 씬만 나옴.', '정치적인 색이 너무 강하고 감독이 관객을 가르치려함', '연출, 연기, 각본, 전쟁씬 등 아주 괜찮습니다.꽤 볼만한 영화구요 돈 절대 안 아깝습니다.우리 국민 보다도 미쿡 국민이 더 봐야할 영화인 거 같네요.바닷속 전투신 정말 괜찮습니다 CG 잘 했으니깐 믿고 보세요.', '이거 보신분들이 댓글다는건가?어어없는 시나리오 전개김정은은 샤프하게 미 대통령은 그냥 병X으로거기다 물속 CG는  진짜 우리나라가 멀긴 멀었구나거기에 통일에 대한 강요메세지까지절대 보지마라', '', '자나깨나 일본조심', '근 현대사와 대한민국의 현 위치는 이 영화를 보고 배우라. 신정근 함장 님의 열연은 이 영화의 꽃이다!북한이 나오는 영화는 무조건 스릴이 넘침;; 못먹어도 그 깡따구는 정말 세계 어느 나라도 못따라올듯;;ㅋ1편에서 본 분들이 많아 반가 웠어요~~ 깨알같은 개그도 재미짐! 3편 가즈아~~~', '현실감있는 메세지 좋습니다. 별로 지루하지 않았습니다.', '시나리오가  코미디', '메세지는 간첩이 대통령 이라는건가?', '', '후회하지 않을 거에요.보세요.!', '재미있게 봤어요. 흥미진진  특히 잠수함.  남북중미일의 관계는 우리 역사만큼 복잡한듯.', '남북한과 미중일 주변국들의 이해관계와 자국의 이익을 최우선으로 하는 위험한 욕망을 명료하게 느끼게 해주는 면이 좋았습니다. 무엇보다 배우들의 압도적인 연기도 감동적이었습니다. 마지막에 우리 모두를 향해 던지는 대통령 한경재의 질문은 쉬 대답할 수 없는 깊은 울림을 주었고, 제 마음 속에 여러 질문들을 계속 번져나게 하고 있습니다.', '초반에 지루한듯하지만, 각국 정상의 처한 상황을 배경으로 깔아주는 걸로 만족. 개인적으로는 1보다 낫다고 봄', '감독이 영화로 말하려는 메세지가 영화 시작부터 끝까지 뚜렷하고스토리도 짜임새 있게 잘 만든 영화라고 생각함.세계열강 사이에서 줄타기 해야하는 우리나라의 웃픈 현실이나한반도 주변정세를 짧은 러닝타임 속에서 잘 설명해주는게 좋았음.크레딧 올라갈때 쿠키영상은 큰 화면으로 띄워주는게 더 좋았을 것 같음.', '완벽한 외모와 멋짐 정우성.너무 재밌었어요. 세번은 볼꺼같음', '', '그냥 딱 선동, 미화 영화', '남북미 정상의 속마음회담. 액션은 덤!', '', '연기력 굿~^^', '와이프랑 일찍가서 재미있게 봤음 .ㅎ', '인물 설정이나 초반 구성이 개인적으로는 억지스러워서 탄도미사일 쏠때 나왓네요..ㅜㅜ', '', '', '', '나름 재밌고 만드는데 고생했을것같네요', '지루할 틈 없이 재밌어요~', '메세지 좋음 그러나 지루함 강철비1의 재미를 빼고메세지에 집중한듯', '전편과 동일선상에서 볼 수 없는 영화.감독이 나름의 유머코드를 넣었는데 개인적으로 너무 많이 넣었다는 생각이 듬.잠수함 전투신은 괜찮았음.스무트 대통령, 부함장(신정근배우)가 가장 돋보임.마지막 쿠키 영상 있으니 보고 나와야 함. 끝!', '초반에 지루한것 전혀없음.잠수함 액션씬 끝내줌.실질적인 주인공은 북한 해잠수함 부함장임.반도처럼 산파도 없고 감동이 있음.', '꼭 봐야할 영화다. 젊은 친구들은 특히나.. 일제 식민사관으로 교육받고 숨겨온 사실들과 미화된 미국 모습을 잘 보여준다.', '스릴 만점...', '상영도중 중간에 나온건 태어나고 첨이다,,,ㅠ', '잠수함씬 압권. 눈물남', '학교에서 역사와 사회를 배우는 것도 중요하지만......이런 영화를 통해 외교, 정치적인 한국의 현실을 보는 것 또한 중요하다------ 친일파, 신천지, 일베 같은 넘들은 매우 싫어할 듯----- 한반도 5백년 주적 일본..... Never....... No Japan...... 간도특설대에서 독립군을 잡아 죽이고 살육한 백선엽 이 사람같은 넘들이 아직도 득실득실 거린다는게 너무 안타까울 뿐(ㅠㅠ)', '1점준애들은 ㅇㅂ고 분명영화안봤다', '', '1점주는사람이 ㅇㅂ면 10점은ㄷㄲㅁ인가..', '의도는 좋았으나 캐릭터, 스토리에 감정이 이입되지 못해 영화가 힘이없다', '전편의 흥행을 이유로 억지로 만든듯한 영화... 전작과 개연성이 전혀없는 케스팅.... 스토리는 진부함... 이미 드라마나 다른영화에서 다루었던 주제들... 이렇다보니 대립하는 구도의 긴장감으로 배우들의 연기력으로 커버하는 영화... 기대가 크시면 실망도 크십니다...', '0점 때문에', '석연찮은 과정 중에도 우리에게 해야할 숙제를 남겼다....', ',,', '0점, 1점을 주신 분들이 높은 평점을 주는 영화는 어떤 것인지 궁금합니다.그냥 영화적 재미만 이야기하겠습니다.\"붉은 10월\" 만큼 흥미로운 잠수함 영화입니다.', '신정근배우 연기 좋았어요뭔가 이상한듯 아닌듯한 영화시대가 많이 바뀌었구나 하는 생각', '현재 우리나라를 둘러싼 상황에 영화의 상상력까지 더해져 충분히 가능한 이야기를 너무 재밌게 그린 영화입니다. 배우들의 뛰어난 연기력과 요소요소 코믹함과 심장을 콕 찌르는 대사와 행동들에 더욱 깊게 생각하며 영화를 봤습니다. 서툰 북한 사투리때문에 걱정했는데 북한말을 자막처리해주는 센스까지.. ㅎㅎㅎ', '정치적 견해에 따라 호불호가 갈릴것 같은 정치영화이더군요. 저는 시대의 변화와 흐름에 따라 외세의 간섭을 배제하고 남북한이 지혜를 모아 평화의 길로 가야한다는 생각을 가지고 있기에 영화의 방향을 지지합니다. 그래도 영화이기에 초반에는 좀 지루한 감이 있었고 곳곳에 유머코드가 숨어 있었으나 관객들에게 잘 전달되지 못하는 약간의 어색함은 아쉬움이 있습니다.  어쨌든 과거 독재정권시절에는 꿈도 못꿨던 이런 영화를 만들수 있다는 지금의 현실이 당연한것 같으면서도 참 감사하네요.', '양우석 감독님, 정우성, 곽도원, 유연석 배우님...북한의 위대한 지도자 김정은이 여러분들께 인민 예술가상 수여한다고 월북 하시랍니다. 조만간 월북 하셔서 북한 김정은 칭송영화를 남한에서와 같이 똑같이 만들어 달랍니다. 제발 월북하셔서 그렇게 하시길 바랍니다. 그래야 남과 북이 문화 교류가 되고 통일이 앞당겨지죠. 그쵸? 그런데, 자본주의 꿀빠는 짓거리는 북한에선 안됩니다. 오로지 북한 위대한 지도자 김정은이 제공해주는 아파트, 차, 음식만으로 생활하셔야 되고 북한 지도자 김정은을 칭송하기만 하면 됩니다.여러분들은 그럴 자격이 충분합니다. 화이팅!!!!! 정배우님의 평화에 관한 이너뷰도 감명깊게 읽었구요. 제발 북한에 네 분 모두 월북하셔서 북한의 인민 예술가로 거듭나시길 바랍니다. 화이팅!!!!그리고 절대 월남 하시면 안됩니다. ㅋㅋㅋㅋㅋ 그 곳에서 한 평생 사시면서 그렇게 소원인 김정은 칭송 영화만 만드시길...', '', 'ㅊㅊ', '알바아님..대한민국의 주변정세를..친절히 대사속에서 설명해주네요.아쉬운점은.. 코믹적인 요소나..1편같은 액션씬이 있었으면 하는 아쉬움도 있네요.대한민국의 성인이라면 한번쯤 볼만한 영화입니다.솔직히 재미는 1편보다는 살짝 떨어지지만,무게감은 훨씬 높아요..', '유연석외 배우들 연기는 좋았습니다단 정우성 연기는 별로에요경력에 비해 연기가 안 느네요사실 작품도 생각보다 별로에요', '굿', '유연석의 변신과 잠수함 액션 좋았습니다', '반일반미 선동영화에 배우들 인물이 매칭이 안돼', '생각보다 평점이 높아서 0점 드립니다', '잘봤어요.~감독님. 다음 작품도 기대합니다.^^', 'ㅋㅋ', '그저그런 좌빨 영화 ?', '잠수함 액션 볼만합니다. 유연석. 신정근 연기 좋습니다. 앞 뒤 약간 루즈한 것 빼면 아주 좋아요', '잠수한 씬 Good , 메세지는 확실한', '', '', '꼭봐야할 사실적 영화래.ㅋㅋㅋㅋㅋㅋㅋㅋㅋㅋㅋㅋㅋㅋ', '이런걸 영화라고 ㅋㅋㅋㅋㅋ', '쓰레기영화', '너무 지겹고 코미디도 아니고 이것도 저것도 아닌 영화 계속 그만 보고 나오고 싶은 유혹이... 그러다 너무 화가~~ 시간이 아깝다는 생각~~', '꼭 봐야할 사실적영화 *^^*', '평점 10보고  봤다가  나올때  욕한다', '반미반일 이 선동질...  그래서 이정부가 뭐하나 제대로 한게있는지 이 나라 잘살게 해줬는지 한번 끝까지 봅시다어디', '재밌게 잘보았습니다', '잘 봤습니다 .', '잘 만들었고,아이들과  재밌게 봤습니다..국뽕 오질까봐 걱정했는데, 다행히  적당히 절제했더군요..분단상황에 대해  많은 고민을 하게했습니다.', '지극히 현실성을 담아낸 작품 같네요 한번쯤 생각을 하게 만드는 작품인것같아서 정말 좋았습니다', '정치적인걸 떠나 모든게 어색하고 낯설고 지루하고 국뽕 어마어마한 영화.. 차라리 독도를 둘러싼 잠수함 전쟁 영화라하자..', '중간에 나오고 싶어지는 영화, 보다가 잠이 들 수 있는 영화, 보면서 화가나는 영화 딱 그정도 수준인데 평점 10점 쓰레기들은 도대체 뭐냐? 쓰레기 많네.', '', '평점테러 많이받는 것 만으로도 충분히 볼 가치가 있다', '일베 극우 개독 미통당 빼고 다 봅시다~ 강철비2 화이팅~', '알바들 평점 테러ㅜㅜ전쟁영화 싫어하는 와이프도 재밌게 봤다^^', '한국과 북한이 손을잡고 ㅋㅋ 미 대통령 쪼다처럼나오고  결국 마지막은 반일 끝판왕 딱 나오네이정도면 좀 심한거 아닌가?ㅋㅋㅋㅋㅋㅋ', '멋있네요', '용두사미    처음 3국정상들 납치 쿠테타  처음시나리오는 좋았지만 시간이지날수록 노잼   한국영화의 한계를 절실히 느낌 .....   어짜피 CG를 쓸거면 내가 시나리오 써도 3배는 더흥미진진하게 쓰겠다...신과함께나 태극기 휘날리며 작가님 써라', '잼있어요 꼭보세요', '시간이 아까움.. 고증만 좀 볼만함..', '소망과 희망은. 일류.   영화는 삼류', '평점 이상하길래 기대 안하고 봤는데충분히 재밌던데 취존하지만 5점 이하로평점 준 사람들은 ㅇㅂ인가 생각드네 ..', '그냥 메세지는 일본 니들땜이야재미있었어요. 일베들이 싫어하겠던데...', '마이너스 점수는 없나?', '', '역활이랑 실제인물? 과 매치는 안되지만 그나마 유연석은 ㅡ___ㅡ 볼만은 했음정우성은 쩝...... 그냥 정치를 하세요.', '주제  의식은 공감가고 강대국 속의 서글픈 마음까지 느껴지게 했는데 문제는 영화라는 것인데...', '노잼  . 보다가 핸드폰 주식창 열어서  얼마나 올랐나 검색했음.', '대박', '돈이 너무 아까웠다', '최근 반도도보고 강철비2도 봤지만 반도보단 부산행이 더 재밌었고 강철비도 2보단 1편이 훨....씬 낫다.어케 1편보다 이렇게 재미가 더 퇴색된건지 의아하다.정우성,곽도원 정말 좋아하는 배우라서  살짝 기대가지고 보긴 했는데 재미가 없어서 푹자게 만들었음.할인권으로 저렴하게 보긴햇지만 그 돈도 아깝다고 생각되는 영화...ㅠ', '', '재미 없다넷플렉스나 집에서 볼걸 후회', '연출이며 구성이며 많이 아쉽다.. 극적인 스토리를 억지로라도 이해해볼려고 한다만 좀 오버스럽고 정우성때문에 보긴했지만 졸음이 밀려온다.. 기대를 넘 해서 그런가...나름 잠수함씬은 그래도 쪼금 봐줄만했다.....재미짱이라는 하는 알바들은 이게 재미짱이면 어벤저스는 개거품물고 기절할정도로 재밌다고 썼냐? 하는짓도 안타깝다.  정볼게 없음 차라리 반도를 두번보는걸 추천한다. 관객수가 많은건 다 이유가 있는법이다.', '.', '보는 내가 민망해서 혼났다', '', '정우성씨가 연기를 정말 잘했어요  저는 문재인대통령인줄 알 정도로 현실몰입도 최고였습니다  곽도원씨하고 유연석씨 배역이 바뀌었다면 얼마나 좋았을까 생각도 했지만 강철비2는 대통령과 국민을 표현하고자하는  영화감독 의도인것 같기도하고  저는 또 보고 싶더라구요  재미 짱', '', '짜증나는 괴물 영화', '현실이 맘 아프고 약간의 오글거림이 있었지만  꼭 봐야하는 영화임', '한국인이라면, 한반도에 살고 있다면, 꼭 봐야 할 영화!', '무서울만치   최악', '감동적임', '0점 1점준 인간들 지난글 보니 베충이/친일파/토왜들 이네 ㅋㅋㅋ  영화는 9점인데 베충이 시러서 10점 준다', '진짜 재미있어요. 다들 꼭 보세요.^^', '좁은 공간에서 인물들의 감정을 잘 표현해냈고 몰입감과 흥미가 동시에 느껴졌다.  다만, 메세지를 중요시하여 결말이 예상이 갔다는 것, 마치 통일에 대한 메세지를 담은 다큐같았다. 이건 영화라는 정체성을 잊지말기를', '강철비1보다 훨씬 취향이더군요. 정말 몰입하면서 봤습니다.그리고 엔딩 크레딧 올라가면서여운과 많은 생각이 드는 좋은 영화였습니다.', '온가족 관람 하기 좋아요', '보는내내 나오고 싶었음리뷰에 유머가 있다는데 도대체 어디?', '재밌게 잘 봤습니다.', '이런 영화를 만들다니 정말 대단하다~!!! 내 생애 최악의 영화', '밀덕이 꿈꾸는 평화', '', '이 영화 볼라면 반도를 보세요 몰입도 제로 돈 아깝다.', '잘 만들었네요', '', '남북이 진정으로 하나되어야 하는것을 다시 깨닫게 된 영화미국도 일본도 중국도 자기들ㅈ이익이 우선인것  뭐라할수 앖지 않은가', '잠수함씬이 볼만하다.', '근래에 보기 드문 아주 촌스러운 영화입니다. 초중반 전개가 아주 지루하고 연출이 후집니다. 후반 잠수함 전투 씬은 볼만합니다. 영화가 너무 관객을 가르치려 듭니다.', '', '재밌었어요.잠수함씬 넘 좋았고부함장님 맡은 배우분 연기 퍼팩트!!!대한민국 사람이라면 봅시다.안보고 욕하지말고.', '문재인이 이영화를 좋아합니다', '세계역사에도 길이 남을 3대세습독재자를 미화하기 위해 왜 굳이 잘생긴 배우를 섭외하고, 말도 잘하고, 인간미도 있는 그런 인물로 그린걸까. 그게 가장 이해하기 힘들었다. 영화든 뭐든 독재자를 미화하는건 안될일이다. 김일성, 김정일, 김정은 독재자들의 통치아래 자유를 박탈당한채 말한마디 때문에 굶어죽고, 맞아죽고, 처형당해 죽은 영혼들에게 너무 잔인한 설정이었다.', '몰입도가 최고인 영화코믹과 진지함. 엄숙함이 표현된 최고의 영화', '에휴 ...  서프라이즈가 10배는 잼날듯 ~이거보고나니 반도가 명작이었음 ..', '강철비 1편보다 한 발자국 앞으로 나아갔네요.', '제발 제발 그냥 가고 싶으면 그냥 위로 올라가 제발', '', '유머와 감동이 적절히 배합된 영화였다어뢰장면은  긴박감이 넘치지는 않았다미대통령 우스꽝스러움 현실을 반영했다', '', '정우성연기  멋졌고 내용도 아주 좋았습니다재미있게 시간가는줄 모르고 봤네요', '친일파가 이 영화를 무지 싫어합니다', '스토리도 탄탄하고 간만에 여운이 많이 남는 작품오늘 센텀 cgv 낮 12시에 봤는데 아직까지 여운이 있는게너무 훌륭한 연출 그리고 훌륭한 배우들 ㄷㄷㄷ', '마지막 장면의 연설은 사족같은 느낌이었음.마지막 대사가 너무 아쉬움.북한 체제를 우선 존중해야 하며 통일은 북한이 민주화 과정을 거쳐  선거를 통해 국가 원수를 선발할 수 있을때까지 기다려줘야 하지 않을까? 그때쯤 경제상황은 지금보다 좀 더 나아지고 그제서야 비로소 통일을 얘기할 수 있을 것 같다.자유로운 왕래와 무역 등이 우선 이뤄지길...', '감동, 메세지, 유머, 긴장감에 140분이 순삭입니다.', '.', '에라이 씨 ㅋㅋㅋ', '강철비 1편 정도 예상했다가 뜨거운 눈물 흘리고 왔습니다. 강추입니다!!', '구토', '영화감독의 잘못된 사상주입, 미국은 제국주의, 일본은 극우..우리와 북한은 한민족..미일을 배척하고 남북이 손잡고 가야한다는 쓰레기 사상을 주입시키는 쓰레기 영화 강철비.....6.25를 일으켜 대한민국 국민을 죽인게 북한이란다..인권없고 사람 밥먹듯이 죽이는곳이 북한이란다...전쟁을 미국이 일으켰냐?.미일 등 배척, 북한과 우리는 한민족 이게 소위말하는 주체사상이란다..', '남, 북, 미, 중, 일의 현실적인 이해관계를 재 해석해서 판타지로 잘 표현한 영화다..미국 대통령이 멍청해보이긴 하지만 현실보다 더 멍청 하게 그려짐..', '발연기 정우성과 호남상 유연석의 콜라보 넘 멋집니다.김정은 위원장 역할과 찰떡인 곽도원의 뱃살도 극찬합니다', '', '', '', '우리나라..영화..참잘만든단생각이드네요..시간가는줄모르고봤어요마지막엔울컥~~현실로도이영화같았음좋겠네요..', '개 젖같튼게 평점 7.5.......헐.....우성이 넌 배우하지 마라!!!!!!', '시나리오가  현실같음', '볼려는 영화가 아니었는데 친구 따라 봤네요.극장에서 봐서 그런지 의외로 재밌게 봤습니다.현재 우리가 처한 모습도 투영되서 이야기도 나름 흥미롭습니다.메세지가 있어서 더 좋기도 하구요.오늘 아침까지 이 영화 평을 할 줄은 몰랐던 사람임.', '3번을 잠잤는데도 안 끝남..ㅠㅠ올해 첨 간 극장..내가 잘 못되었나??', '보지도 않고 평점테러하긴...  쪽바리라 부들부들..', '못난 자생적 친일파 놈들+ 한글 쓰는 왜놈들이번 미대선 트럼프 승인거 알쥐 ^^', '할말이없네...', '현실은 개성공단 남북공동연락사무소 폭파...미화도 적당히하지....선동조장....토악질 납니다.', '', '쓰레기 영화 정우성 멍청한 인간', '이것도 영화라고 만들었냐?  정우성이 대통령? 유연석이 김정은? 놀고들 있네... 트럼프를 정신병자 만들어 놓고.. . .  북한 김정은 미화 참~~~ 이건 한국 영화가 아니고 북한 미화영화임. 돈 주고 봤다는게 창피하다... 받을 수만 있다면 돌려받고 싶다.  내돈....  대깨문 아니면 볼 사람이 없을듯...', '신정근배우가 젤로 멋찌고 주인공 같았어요~왜 조연배우들에 공을 들였는지 ㅠ잠수함 내부공개가 너무 길었으~', '수중전투신 장면이 완전 박진감이 넘쳐서 좋았다!! 물론 스토리는 풍문으로 듣고 약간의 퍼즐을 돌아 현실을 가미하니 마지막엔 솔직히 울컥했다 국뽕이래도 어쩔수 없다 한국인이라면 누구나 무뎌졌어도 민족의 비극과 강대국속에서 살아남기위해 필사적으로 생존해야만 하는게 사실이니 말이다. 한번쯤 통일에 대해 이런 논재를 던지는 것도 좋은거 같다!!', '재미와 감동 추천합니다', '국뽕으로 만들려면 소설 무궁화꽃이피었습니다 정도로 가버리든가....강대국 틈바구니에서 우리나라는 너무 꿔다 논 보릿자루 같이 보인다.', '하......... 진짜.......', '볼만한 영화.주연들 좋았고조연들이 주인공 같았어요. 캐스팅 대박!잠수함씬도 비중있게 잘 다루어짐.자막을 넣은 것은 신의 한 수.정치영화로 보기엔 재미요소가 풍부.오락영화로 보기엔  생각할 꺼리가 존재함.비현실적인듯현실적인현실 아니고픈~', '정치적인 내용을 떠나서 재미있음~좋은 스토리와 긴장감 굿~~', '현실같아서 마지막엔 눈물이 났네요ㅠㅠ', '재밌었다. 아슬아슬했다. 현실도, 유머도, 신파도. 그런데, 어쨌든 재밌었다.', '잘 봤습니다', '방금 보고 나옴. 원작 보더 영화가 잼났음.', '국뽕이나 반미 반일 친중 다 이해함 애초에 문화예술계가 다 뻔하니까 ㅋㅋ 그럼에도 영화보면서 이상한 점은 각 분야 최고 전문가들이 장관일텐데 어떻게 된 게 대통령이 정세 돌아가는거나 전략적인 부분을 더 잘 알음ㅋㅋ 아마 현 정권의 낙하산 인사를 빗대서 풍자한거라 생각해야 감독의 위상이 좀 살 듯? 그리고 대통령들 성격이 너무 몰입안되게 만듬 미국 대통령은 미국 내에서 뽑힌게 아니라 사실상 국제외교와 국내정치 성과로 뽑혔다 해도 과언이 아닐텐데 가볍고 생각 없는것처럼 보임 물론 의도는 알겠지만 이 때문이 오히려 반미 각인이 아니라 현실 못 깨닫고 억지 부리는 애같음 그 외에도 총 맞았는데 버티고 수류탄 안던지는거나 평화협정 하고 그 뒤 이야기를 안 써내는 것들? 자기들도 알 듯 통일하면 개작살난다는거 ㅋㅋ', '애라이...', '', '방금 봤는데.. 정치얘기만.. 영화가 아닌 다큐 보는줄...곽도원 유연석은 엑스트라 수준.... 정우성만 대사 대박 많음... 긴장감 단 1도 없는 영화 .. 장르는 다큐에요...', '뻔한것같았는데 매우 잔상이 남는 영화. 우리의 현실이기때문일수도....', '강력 추천오랜만에 아이랑 영화관 다녀왔는데 ...후회하지 않을 영화예요', '남북통일하시겠습니까^^', '매우 기대됩니다조만간 보러 가야 겠어요', '북한 핵잠수함이 독도에서 석양을 비추며 떠오르는 국뽕으로 해피엔딩됨', '재미있다', '대깨 문버러지들 영화보기나하고 별점주는거냐?쓰레기 영화 아무리 영화라도 이딴 시나리오를 쓰냐북한은 미화하고 반미 반일 온통국뽕에돈이 아깝다 근데우짜냐 공동연락사무소 폭파했는데', '전 개인적으로 너무 재밌게 봤어요.적당한 풍자와 잠수함씬이 영화를 살렸어요.', '좋은 주제로 즐겁게 잘 봤습니다.', '정우성은  연기가  왜 맨날 그자리야?', '최악의  영화   정우성 과 곽도원도  답이없더라신정근 배우가 최고다', '문통령 생각나서 짠했어요헐리우드 잠수함 영화는 공감이 안되어서 재밌는지 몰랐는데 우리나라 영화여서 그런지 공감이 되어서 재밌있게 봤습니다추천합니다', '댓글봐라 영화로 역사배운다고 10점주고있다 진짜 한심하내', '1편을 능가하는 새로운 속편', '코로나 사태 이후 개봉한 최고의 한국영화', '좋다.최근 본 영화중에 제일 괜찮은듯...', '정부따라 영화 만든거냐?어지간하다. 이건 뭐 미통닭때보다 낳은게 뭐냐?국민 세뇌하나?영화면 영화답게정치색깔은 버려라 뭐니 ㅋ', '모두의 연기 굿~~바닷속 잠수함 액션씬도 심장쫄깃~~그중 가장 기억에 남는 건...신정근 최고!!!!!!!', '완성도가 높다', '유연석 연기 너무 좋았어요', '', '잠수함 전투씬 최고ㅜ넘 잼있었어요!', '한번 더 보고싶은 생각이  듬.', '', '일단 재미가 없다. 정치색은 둘째치고 노잼.', '코로나로 답답했는데훈훈한 영화.강대국에 치여 헤매고 있는 우리나라 입지 유머러스하게 풀었어요.', '신정근이 거의 주연급!', '우리나라의 현실과 통일에 대해 다시한번 진지하게생각해 보는 기회를  준 영화.*미대통령 연기 잘함 ㅋ*', '', '일본님들에대한 시나리오는 그럴듯함그러고도 남을님들이다', '0점 받을이유는 없는보기 싫었으면 나갈수있음잡는사람 없음꼬인사람이 많네요', '크게 점수를 줄만한 포인트가 없음', '한반도를 사이에 두고 펼쳐지는 미.중.일의 짜고 치는 정치 세계에 고스란히  당할수 밖에 없는 한.북의 처지가 안타 까울 뿐이다.', '보았는데 삐뚤어진 이념으로 이런 영화를 만든게 제정신인가 김정은 미화하는 주사파에게 바치는 영화', '재미있게 잘봤어요^^', '개영화', '강철비를 인상깊게 봐서기대했지만. 아니네요.', '쓰레기 영화  북한 선전선동   문재인이  김정은에게 바치는 영화 쓰레기', '강철비1을 보고 기대에 차서 영화를 보면 실망이 큽니다.  제목과 배경이 아주 진지한 영화인데 미국 대통령의 방구도 그렇고 액션화면도 없습니다. 그냥 잠수함 몇대 나오는게 다입니다.원본 만한 속편은 없다라는 것을 또 상기 시켜 주고 있습니다.액션장면도 없어서 나중에   dvd로 나오면 보세요!뻔한 스토리! 곽도원의 싱거운 죽음까지.....', '코로나 이후 첫 영화로 손색이 없네요..', '코미디', '우리나라 배우보다 미국대통령미국 펜타곤의 배역들 모두 아주자연스럽게 잘됬네염 기대이상', '재밌게 봤습니다', '일부러 예고편도 안보고 봐서인지 재미있게 봤어요사방에 적으로 둘러싼 우리나라를 잘 그린것같아요토착왜구들은 싫어 할것 같아요~ ㅋㅋㅋ미국대통령연기 정말 탁월했어요~ㅋㅋㅋㅋㅋㅋ', '재밌게 잘 봤습니다2시간 넘는 건 잘 못 보는데 몰입하며 봤어요', '간만에 영화를 봤는데 오랜 만이라 그런가 정말 잼 났음한국인으로서 봐도 내용이 공감되고sf마니아로서 봐도 마지막 잠수함 전투신은 한국에서 이런 액션이? 할 정도로 대박이었음...부산행 보던 때 느낌이랄까...처음부터 긴장감이 끊어지지 않고 마지막에 감동도 있고...이건 정치영화이면서 메카닉 영화라고 봄 ㅋㅋ아무튼 강철비1도 잼나게 봤는데 3편도 나오길 바라는 마음임그리고 외국인 나오는 우리나라 영화 중에 가장 튀지 않고 호흡이 잘 맞았다고 생각함여러 모로 잘 만든 영화 특히 북한 잠수함 함장인가 직급이 기억이 안 나는데...대박 멋있음 -_-b그런데 한 8점 정도인데 똥대가리들 보라고 10점 줌 ㅋㅋ', '.', 'ㅋㅋㅋ 반일 반미 친북 너무 뻔한 스토리', '꼭 영화관에서 봐야하는 영화~', '빨겡이들에게는 최고의 영화정상적인 사고방식을 가진 사람들에게는 최악의 영화', '말도 안되는 시나리오에서 나온 종북영화ㅋㅋㅋ이런 정부니깐 이런 영화가 쳐 나오지ㅋㅋㅋ막판에 휴가? 장난하냐?ㅋㅋㅋ', '최고의 영화   별점 10점도 모자람감독 천재', '잼나요...', '부담없이 재밋게 보고왔어요각자배우들의또다른배역도 유연석연기도짱~~~', '', '쓰레기영화', '', '안보면 모르고.. 보면 재밌다!', '잼있음', '초반에  마니 지루하고내용도 마니 억지스럽고오랜만에 기대하고 봤는데  실망ㅜㅜ원이 훨씬 좋았네요~~', '', '', '말도 안 되는 억지 스토리, 긴장감 전혀 없는 스토리, 엉성한 정우성의 연기, 현실성 없는 북한 캐릭터, 친일도 문제지만 친북도 문제임을 확실히 깨닫게 해 주는 영화였음.', '보다 잤다', '긴장감이 가득한 코메디 한편 본것 같습니다', '미국대통령 역활 배우분 ㅋ 기대 안했는데 누구를 연상시키는 포인트를 잘 살려서 아주 웃겨요 ^^ 이 배우 누군가 했더니 브레이브하트에서 마지막 싸움을 택한 스코틀랜드 왕자 그리고 이퀼리브리움에서 나쁜 독재자, 쏘우등 많은 영화에서 본 배우더군요. 어디서 낮이 익더니.....그리고 개그우먼 전영미 미국 통역사 역활은 진짜 웃겨서 ㅎㅎㅎ 연기 굿 !! 그리고 유연석 대사중에 한 말 \"아 멀다고하면 안되겠구나 야\"  ㅋ 깨알 같은 소소함을 찾는것 도 재미인듯!!!', '', '휴가 내고 영화 본 보람 있네요~~', '초반좀 지루하구요, 설명 많고 설정 너무 길고 액션 별로 없습니다.태풍이름 스틸레인(강철비), 잠수함 함장 이름 철우(강철비) 같은 걸로 제목을 표현하는 것 같은 은유들이 보이는데 진부해요...', '극장에 8명정도 같이봄ㅎ 혼자가 아니라 얼마나 다행인지~~~초반에 너무 지루하고 미처버릴것 같음ㅜㅜ  배우들 연기는 괜찮음~~갠적으로  1편이 좋음 액션없고 말빨로시작해서 말로 끝남', '요즘은 외국인 배우들의 연기가 수준급이군요.  미국대통령연기 좋았습니다.', '', '역쉬 믿을건 다만 악에서 구하소서  뿐이네.... 반도도 강철비도  한번 정돈 보겠지만  그리 생각날 영화는 아니네..', '타임킬러용으로 쏘쏘스토리 개연성이 조금 미흡했고거슬렸던건  염정아 한국말 쓰라고 지적하는 부분에클라우드랑 처음처럼 롯데제품 아닙니까 ?롯데가 한국기업이라 생각하는 사람이 많으려나..', '한국의 상황을 생각하게 되고애국심이 생깁니다..', '', '깨부수자 일본.중국', '오랫만에 느끼는 속 시원함 약간의 재미', '심하다 ..1점도 아깝다.조연들의 연기때문에 1점이라도 준다', '잘만든 영화고 무엇보다 지루하지 않고 재미있습니다. 추천합니다.', '엄청~재밌네요~!시간 가는 줄 모르고 봤어요.강철비 1편도 재밌더만 2편도 재밌네요.예고편에 나오는 미대통. 북한 지도자가 중량감이 떨어져재미없울 줄 알았는데웃기기도 하고 연기 참 잘하더군요.', '', '주제가 흥미롭지만, 정말 다루기 힘든 주제라고 생각됨.  이 영화가 뭘 기대하고 만들었는지 모르겠다. 뒷 부분 갈수록 뻔한 결말과 억지스런 감동 멘트... 정우성이 말해도 안멋진 이유는,,,  직접 보고 느끼시길', '정상들의 납치라는 시나리오가 좀 황당했지만~이젠 부동산문제, 좌파니 우파니~를 떠나 이제 대한민국 국민으로 통일에 대해 생각해봐야~~코로나로 자주 보지 못했지만~추천~~자주 국방~해야죠~~', '잼나', '보고 나서 판단하세요 . 재밌어요', '변호인 감독이라 더 기대했는데, 내용이 후반 갈수록 국뽕스럽고 한쪽의 시각만 부각되서 아쉬웠다. 오히려 초중반은 나름 탄탄했음.', '시간이 어떻게 가는지 모르게 빠져들어 봤습니다. 정말 재미있네요', '1편과 별개의 작품. 전작에서 재밌게 봤던 치고받는 격투 액션이 사라지고, 대신 잠수함이 주가 되는 해전이 눈길을 사로잡는다. 등장인물이 늘면서 정우성 배우와 특히 곽도원 배우의 비중이 많이 줄었다. 개그를 담당한 미 대통령 캐릭터와 부함장 역의 신정근 배우의 비중이 주인공 못지않다. 북 위원장을 미화하고, 국뽕이 과다해서 좀 오글거리지만, 이 정도는 할리우드에서도 흔해서 못 볼 정도는 아니고, 중국이나 일본과 비교하면 오히려 점잖은 수준이다. 개인적으로는 올해 개봉한 한국 영화 중 가장 재밌었다. 사족:정우성 배우는 과거 한국 최초의 잠수함 영화 [유령]에도 출연한 적이 있다.', '모두 연기가 역할에 녹아있으나,대본이 긴장감없고 전개가 지루함. 세분 정상이 카리스마가 없고 코믹하거나 밋밋하여 캐릭터 매력이 없음', '통일에 대한 관점, 방법에 대해서는 논란이 있으 수 있겠지만, 영화는 재미있었습니다.', '우리가 모르는 사이 어디선가 일어날지 모르는 남북관련문제를 다룬것은 좋았으나 핵전쟁이 일어날지 모를 상황에서 세 정상들의 역할도 개연성도 떨어지지 않았나 싶음긴박한 상황에서 웃음포인트를 넣으려고 했던것에 피식 웃음이 나오고그리고 마지막 엔딩신에 관객에게 감동을 자아내는 장면으로 인해 아쉬움이 많이 남음.', '앞부분 지루하다는 평이  있었는데..전혀 지루하지않음!  꼭 필요한 부분이라 생각해요.자칫 국뽕 영화라 비난들을수 있는걸  마지막 쿠키영상에서 한 마디로 날려버림!  good!', '어떤 작품이든 수고는 있을거라 1점', '재미있게 봤어요~~~^^', '1편도 재밋었는데...?', '기대안하고 봤는데 1보단 재밌음', '조금 지루한 부분도 있어서 잠깐 졸았는데 중반 이후부터 몰입감 있네요.  전 1편이 더 잼있긴 했지만 그래도 잠수함 전투신이 흥미로왔고 신정근 배우님 연기가 기억에 남아요~', '앞부분의 다큐같은 지루함을 견뎌야 뒤에 재미있는 장면을 볼 수 있다.', '아무 기대도 하지 않고 봤는데 영화제작기술, 시나리오, 연기 모두 좋았습니다.잠수함 전투가 외국영화(얼마전 개봉했던 프랑스 영화, 이름기억안남) 보다 더 좋았습니다.마지막 대한민국대통령 연설도 귓전에 오래 남습니다.', '', '재밌습니다. 특히 잠수함 전투신이 좋았습니다. 약간의 국뽕이 있지만 잘만들어진 영화라고 생각합니다..', '너무 잼있게 잘봤습니다. 올해 본 영화 중에 최고네요!!! 대통령 정우성 최고에요!!', '너무 허구가 있는영화 아무리 허구라는 영화지만. 현실적 감감 코믹  그리고 배역에맞지안는 몇몇 배우들의 연기 특히 두명부통령과 청와대 장관?이제  떨어지는 연기뿐뿐?', '잘봤습니다 ~  영화 잘 만들었습시다', '재밌다 현실에서도 결말처럼 되길 바란다.', 'ㄷㄲㅁ들을 위한 포르노.이걸 보고 만족했다면 ㄷㄲㅁ이겠지', '한대통령님이 미국대통령님에서 미국이 왜 위대한지에 대해 설명하는 대사와  한대통령님이 북한 지도자님에게 미국과 정상회담 준비하면서상대와 대화하기 위한 상대의 화답 연구도 없었냐고 묻는 대사가 참 기억에 남습니다.', '일베들  1점 테러해도 평균이 이정도라니..', '재밌게 봤어요 잘 만든 영화! 잠수함 함장님 역할 하신 배우님 존재감 뿜뿜!! 주인공4번째 쯤엔 올려주셔야 합니다', '알바들 웃기고 있네 이게 왜 7.6이나 되냐? 더럽게 재미없음', '와우~~  부모님들께 꼭 보여 드리고 싶은 영화이네요!! 현 정세를 제대로 반영한 영화입니다!!', '대통령은 정말 극한직업입니다.', '', '재미있게 봤습니다...신정근님도 주연에 이름 올려 주셔야 하지 않을까요ㅎㅎ', '영화  재밌습니다현정세와 맞물려서  많은 생각을 하게 합니다배우들 연기도 한몫하구요생각보다 유연석이 잘 어울리고 소화잘합니다정우성같은 얼굴이 울나라 대통령이 된다면매일 뉴스만 볼것 같단 생각도 ㅎㅎ', '휴가라 남편과 아침 일찍 봤네요. 한반도를 둘러싼 국제정세가 복잡해서 앞부분은 엄청 생각하면서~ ㅎ 하반부는 잠수함과 함께 펼쳐지는 장면들이 많아 재미있네요. 우리의 소원은 통일!!!', '오랫만에 영화보면서 울었다 연출이 뛰어나서도 시나리오가 멋져서도 아니다감독의 마음이 느껴져서 이다 역사를 조금만 알면고 보면 그게보인다', '차라리그알이나 전쟁다큐가더 긴장된다감독이 완전 초보네편집이 아주아주  지루해 죽는줄', 'Very good ~~♡♡', '', 'good!! 정우성이다.진짜.독도신에서 눈물 울컥.문대통령 생각이 갑자기.ㅋ', '안봤으면 평가 마시길...휴가철~의미있게끔...개꿀잼...오늘 아침에 봄.', '잘 봤는데 안본놈들이 징징댐 ㅋㅋ 영화는 제발 좀 영화로 봐라 ㅋㅋ. 영화 보면 느끼는 거지만 미국이 얼마나 대단한 나라인지 세삼 느낌. 극중 트럼프 묘사가 진짜 웃기게 나오는데 저 코미디 역할을 한국, 중국, 일본, 북한 정상으로 했었으면 외교문제 터지고 회사 문 닫아야함 ㅋㅋㅋㅋ 저런 것도 허용할 수 있는 자유 국가 미국의 위대함을 역설하는 영화였음', '오랜만에 개봉작 봐서 좋았고 내용도 재밌었어요. 해군은 진짜 멋진거 같아요. 한 국가의 정상이 고려해야할 많은 상황에 가슴이 답답했고. 미국중국일본북한을 상대해야 하는 문대통령 생각에 안타까웠어요. 일본은 정말 나쁜 나라. 한국에 있는 토착왜구들도 다르지 않습니다. 정신차려야 되요', '주변에 꼭 보라고 권 할 정도는 아님.', '훌쩍거리며 봤다는...주변 국가 어느 곳도 믿어선  안된다는 교훈.  친일하는 자들이 개인적 이득에 나라를 팔아먹고 이를 이용하고 있는 일본 극우파들의 전략이 현실감으로 다가온다는.', '', '매력적은 정우성 !!!!곽도원 배우는 역 나쁜 역이 잘 어울림. 유슈영 배오도 멋짐 유인석 배우 귀여움통일에 대한 질문을 던져줌 정상회담에서 대한민국 의  위치와 한계에 우리 문대통령님 애쓰셨을 상황이 눈에 선해 눈물이 찡  일본은 아직도 반성이 없음이  화가남', '', '그럭저럭 재미있게 봤어요', '오랜만에 재밌게 잘 봤습니다.어려운 외교정세를 잠수함이라는 좁고 한정된 공간으로 축소한 내용은대중들에게 쉽게 다가갈 수 있는 좋은 아이디어 였던것 같습니다.', '꼭 보세요.원이가 불쌍해요.', '재미있습니다. 꼭 보세요', '무거운 주제를 가볍게 풀어내려고 노력한 느낌. 그런데 균형적인 면에 있어서 조금의 아쉬움.', '긴장감과 스토리와 몰입감 최악...', '', '트럼프의 환생', '완전 몰입해서 보고 옴요중간중간 코믹하기도 하고마지막 대사가 생각하게 하네요', '잠수함에서 3국 정상이 대화하는  씬은 지나치게 늘어져서  지겨웠고,  코미디가 호흡이 너무 길어서  재미를  반감시켰다는 느낌.미국대통령을 지나치게 폄하해서  미국 대사관에서 항의 들어올듯.   호위총국장 곽도원이  영화의 상당 시간을 강하게 지배하다가  권총든 몇명에게  순식간에  아주 간단히  제압당해서  영화구성상 균형미가 없었음   북한  부함장 신정근이  주연인  영화로 착각했음.', '최악', '나 엄청 잼나게 보고 왔어요 ㅋㅋㅋ 나 정상회담하는내용인줄 알고 갔는데 나 혼자 대반전인 영화 ㅎㅎ 확실히 영환 모르고 가서 봐야 제맛.. 정우성 넘 잘생겨서 별 하나 더 줬어요', '생각할 것도 많아지고,  우리 현실에 속도 상하고..그러면서도 유머도 있는 정말 괜찮은 영화라고 생각합니다!', '반도에서 제대로 눈을 버려서^^나름 만족했당오늘도 조조로 다섯명 봤네 괜찮아', '1편에 나왔던 인물들이 재등장 이것부터 내 마음에는 안들었음...그래도 계속 봤는데..... 반도 느낌의 영화...', '무거운 주제 유머와  잘 버무렸어요 현재 한반도 상황이 그대로 투영되있어 마음이 좀 무겁기도 했어요 배우들 연기좋고  꽤 몰입됩니다', '괜한 기대로 실망이 큼. 평범한 스토리에 클라이막스도 반전도 없다', '처음엔 좀 지루했지만 중간부터 잠수함액션이 재미있더군요.', '지루한 장마속에한줄기 햇살같은 영화오! 주여대한민국을 구원하소서', '지금의 현실상황인듯하네요.과하지 않고 잔잔하게 잘 보고 왔습니다.지루하지는 않았습니다.', \"어떤분이 스스로 지킬 힘 1도 없으면 평화운운하는게 맞지 않다 하던데 힘 없으면 계속 대국에 당하기만 해야 한다는 말인지 궁금하네요.  힘 없고 백그라운드가 안받쳐주면 계속' 을'로만 살고, 능력 안되면 계속  '노예'로 살아야 한다는 말인지, 그걸 대물림까지 해야한다는 말인지 의아하네요평화협정체결에 우리가 싸인할 칸은 없지만 그 평화를 제일 필요로 하고 원하는게 우리나라니까 당사자로써 최선을 다해야하는게 맞는거죠. 그리고 지금 그 노력을 하고 있는거고요.\", '이영화도 기대는 좀 못미치지만그러나 반도 보다는 났습니다초반에 대화가길어 약간 지루한 면도있습니다.그러나 중반이후 는 괜찮고 흥미출연 배우들 연기도 훌륭페미 시대라  한국총리 미국부통령둘다 여자 가  좀 걸려김정은 역할을  곽도원이 했으면신정근 배우 인생작 탄생역할보다 비중이 크게 나와자칫하면 주인공인줄손익분기점은  넘길듯 합니다약 400만명', '10점만점에 1점 주려다가 신정근씨 연기 잘해서 1점 더줌~~긴장감 제로에 지루한 연극한편 본거 같음', '어제 봤습니다. 주제가 묵직하고 무거운거 같으면서도생각보다 전개가 빠르고 웃음 포인트가 많아서 잼있었습니다.유연석 1호 연기가 어떨까 궁금했었는데 날씬해도 잘 어울리더라구요 ㅎㅎ후반부 잠수함 액션씬은 정말 몰입감 쵝오였어요.', '최근 본 영화중 최고보는 내내 긴장감을 늦출수가 없이 보았네요', '♦어제 강철비2 개봉직관한 느낌을  리얼하게 정리함♦ 보실분들 참고하세요1.초반에 와 통역사 누구냐? ㅋㅋ 감탄하고 웃음 터짐  관객들 전부 다 감탄한 통역사 여배우 ㅋㅋ 궁금해졌다 미친 통역 ㅋㅋ그분 통역하시는거 보고 ㅋㅋ 감탄함 ㅎㅎ그건 직접 봐야지 이말이 먼말인지 암 ㅋㅋ2.아..!  유연석은 살을 좀 쪄서 나오던지 몰입감이 쫌.,.먹고 피둥피둥 찌고  나왔으면 공감이 덜 든다 싶었어 첫장면부터 ㅜㅜ 아니면  곽도원이 김정은역할 했으면  근데 연기는 짱 ㅎㅎ3.막판에 일본 잠수함을 확 폭파 격침 시켰으면 이얏호! 했을텐데ㅋㅋ 영화속에서라도 격침좀 했으면ㅋㅋ 아쉽근데 잠수함은 실제같았음 ㅋㅋ리얼 고증ㅋ4.미국 대통령 ㅋ똥 쌀때 개웃겼다  ㅋㅋ5.정우성이ㅋ 한놈은 위로 뿜고 한놈은 아래로 뿜고 ㅋㅋ 그리고 .90 , ,% ㅋ..8. .85%  ㅋㅋ 80 %는 알아듣는다고ㅋ6.진짜! 휴전협정문에 남한이 없어?', '유쾌한 미국대통령 정말 미국백인 특유의 성격을 볼수 있습니다.. 단연 주인공이라해도 손색없네요..다이어트 성공한 김정은도 볼수있구요 1보다 재밌어요..꼭 보세요~~', '재미있었습니다. 신정근 배우의 연기도 감동이구요', '영화끝나고 생각을 하게 하는 의미 있는 영화입니다.', '', '스토리 전개보다는 대화 위주의 흘러가다 보니 조금 지루한... 그리고 정우성이 주인공이 아닌 신정근 배우가 주인공인 것처럼 느껴졌다.너무 기대를 해서 그런가 조금 아쉬운', '', '쫄깃함이 부족', '강철비 1탄에 비해 너무 노골적인 정치적 메세지와 개연성이 떨어지는 스토리라인은 1탄을 재미있게 본 나로서 아쉽게 다가온다', '빨리 짱구가 개봉되어야지...아 한국영화 요즘 왜 이러함//ㅜㅜㅜ', '이현세 만화 스타일인데 나쁘지 않음. ㅋ', '잼있게 봤습니다', '잠수함이 사고싶어지는 최고의 액션씬이였어요 !!^^', '', '132분이 순식간에 지나 감.', '', '마음이 짠했습니다.. 나라마다 자기 입장이 있고 지키고자 하는 가치는 다를 수 있지만, 전쟁이 아닌 평화의 시대에 사는게 정말 감사합니다^^', '', '지루한 정치 판타지', '잼없음^^;;', '너무너무 재밌게 봤어요~500만 가즈아~~~', '........', '너무 재미없네요. 코믹이던데..C급. 시나리오 꽝.', '재밌게 봤어요', '그냥 평범한 영화.조선반도의 현실을 잘 그린듯..', '재미있는 설정속에 강대국의 틈 바구니에 낀 현 대한민국의 정치적 상황을 알 수 있음.', '바다속에 잠수함에서 펼쳐지는미국한국북한 대통령국제적인문제국제 흐름 모르면초반 30분 지루하다20대 정도 까지는나라 애국심 없으면재미 없음특히정치 모르면', '기대를 많이 한만큼 식상한 설정에 실망도 큰 영화.... 200만 넘을까??', '초반 조금의 재미를 줄것 같더니 얼마지나지않아 노잼으로 시작 노잼으로 끝남 ㅠ,ㅠ', 'Wellmade', '', '오늘 보러 가고 싶은데 재밌을까요?', '우리나라의 헌실을 보여주는 영화.아이와 함께봤는데 아이가 정말 재밌다고 한다.오랫만에 좋은영화 한편 봤다', '완전 민주당을 위한 정치영화 북한을 저렇게  포장해주고 미국은 완전 쓰레기로 표현햇네.', '왜 정우성인지 알겠씀.재밌게 봤습니다.', '우리나라 최초 잠수함 영화유령에서의 청년 정우성과 최민수의불꽃 튀는 대결 이후..많은 시간이 흘러멋진 중년으로 돌아온 정우성이함께 하는 한층 업그레이드 된 기술력으로 무장한 강철비2:정상회담은..간만에 가슴뭉클한 감동을 선사하는멋진 작품입니다.오~굿~N차 관람을 불러 일으키니주머니 관리 잘 하시길~탕진각..', '잘 짜여진 큰틀의 포장지  속에  설익은 풋과실들 ~감독의 주장이 학실한 정치극3명 수반이 납치되는데 총격전이 없다 ?쿠테타의 개연성 설득이 좀 부족미쿸대빵 배우는 코미디언 인증늘지않는 우성씨잠수함 전투는 어디서 본듯하지만 괜찮음근데 1편 배우들을 왜 돌려막기했을까  ?', '정말 잼나게 봤음', '무기,잠수함등등에 대해 무지한데도 넘흥미진진하게 봤어요.정치잣대 대고 악하게 평가한 것들,밑도끝도없이 낮은 점수 준것들  보고 난 더 잘 쳐줌ㅋㅋ정말 믿거평점ㅋㅋ (난 기록용으로 씀)재미도 있고 연기들도 좋아 감상 잘했어요.특히  부함장님역 신정근배우 연기 넘좋음.인생연기 되시겠네요ㅎ', '연기는 좋은데 정치적인 색깔이 짙게 나타난다.', '', '웃겨요,,겁나 웃으면서 봤어요,,,재밌어요...', '다 좋은데 일본한테 돈 받아 먹을 때 개연성만 좀 더 추가 하면 좋을 것 같고 정우성은 총 맞고 조금 더 고통스러워 했어야지그리고 쓸데없이 북한 사투리 자막은 왜 넣나 가끔 못 알아들으면 또 그 나름의 묘미가 있는건데', '잘 만든 영화다. 정우성, 유연석 배우도 좋았고 행랑아범, 김선비였던 신정근 배우가 나와서 반갑고 좋았다.', '정우성 역시 주변인들 오징어 만드는 외모 ㅎㅎㅎ 역사 정치내용이 교육적이지만 그래도 긴박함이 있음 반도보다 시간 가는줄 모르게 지나감', '미국 대통령 출연료 많이 줘라 걔가 일단 평점 5점 먹고 드간다 반도는 강철비2 반도 몬따라온다ㅋㅋㅋㅋ', '', '너무 재미있게 봄~~배우들의 연기력도 줄거리 구성도 메시지도 최고임.', '우선 신파로 흐르지 않아서 재밌었고, 처음부터 끝날 때까지 긴장되는 전개도 좋았고,그 와중에 유머를 잃지 않아서 재밌게 관람했습니다.아직은 너무 먼 희망같지만 영화의 결말 같은 현실이 돌아오기를 바랍니다.분명한건 강철비1 보다 훨씬 잘 만들었다는 것.극우 태극기 부대의 평점 테러가 우려돼서 평점을 약간 상향했음', '', '', '전편보다 훨나음액션 스토리 다 역작', '근래 나온 영화중 제일 괜찮다.', '재미있는데 왜 눈물이 나는 걸까요...좋은 영화 고맙습니다극장에서 보셔도 그리 후회되지 않을 영화', '멜로도 신파도 아닌 영화에서 눈물 쏟았다.. 이게 이 영화의 힘이라고 생각한다..', '흥미진진 합니다.  꼭 봐야할 영화로 강추합니다', '근래에 보기드물게 재밌는 영화', '정말 요즘 왜 이러는지 모르겠네. 이걸 지금 영화라고 만든건가. 스스로 지킬 힘 1도 없으면서 평화 운운하는게? 그게 자주이고 독립이며 평화인가. 에라이. 극우 주의는 아니다만 이런 국뽕 영화는 군대에서나 상영해야지.', '재밌게 잘봤네요통일 쉬운일 아니죠 잠수함 어뢰 공격씬 쫄깃하게재밌네요 시리즈로 계속 보고 싶네요', '우리와 각국의 저마다입장... 처한 현실을 잘 표현해가려운데를 제대로 긁어 줍니다.  심하게구린 미국방구 등..  글구, 마지막  메세지^^b', '독도는 우리땅이다\"를 진짜 개 재미없게도 풀었네. 그리고 대한민국 대통령을 그렇게 ㅂㅅ만들기도 어려울듯', '최고', '재밌어요 ᆢ 기대  이상 입니다   ㆍ', '내가 사는 이나라가 장기판의 말도 아니네 씁쓸하네', '최고의 영화였습니다. 티져보니 내가 못본 장면도 있더라구요.또 봐야 할 듯 합니다^^', '완전히 더불어민주당 홍보영화입니다,재미도 드럽게 없어요~~좌파 정우성의 정치성향을 말하는 영화입니다.이런영화만들어 맨날 문재인 잘한다고 홍보하면 않됩니다.', '액션 볼거리는  다소 미흡했지만내용은 좋았어.통일을 하시겠습니까?', '재밌게 잘봤습니다.', '평점 테러 장난질 그만해라', '', '분단한국이 너무나 안쓰러워 눈물이 났다고 어제 댓글 썼는데 또 보러 가야겠음이게 왜 국뽕 영화라는지 이해안됨영화보면 한국대통령 해먹기 더럽게 힘들다는건 알 수 있음북한군부가 국제정세에 눈이 어둡고, 혈맹이나 우방이 요즘 시대 얼마나 웃기고 하찮은건지  아직 깨닫지 못해서 이용당하는것도 충분히 설득력 있었음그리고 마블 유니버스나 어벤져스엔 열광하면서스틸레인 유니버스는 수긍이 안되나?', '간만에 괜찮은 영화를 만났다.  정우성등 기존 강철비 1 멤버만 생각하고 갔다가 유연석과 신정근, 그리고 스무트는 신의 한 수.', '감독이 바라보고 바라는 마음 공감 아님 반감, 그리고 오랫만에 쫄깃한 잠수함 영화의 묘미', '대깨문의  대깨문을위한 영화', '평점이  높은 이유:문재인 선전영화ㅋㅋㅋㅋㅋㅋㅋㅋㅋㅋㅋㅋㅋㅋ', '재미도 있었지만 불행한 역사를 되돌아보게함.', '역사적 사실들을 설명해줌', '아주 재밌게 잘 봤습니다', '생각보다 너무 재밌어서 놀랐어요.한 번 더 보고싶단 생각이 들었어요.주변분들에게 꼭 보라고 추천하고픈 영화예요.', '굿!', '좌파 우파 연기력 다 빼고..이 강철비2와 강철비1이랑..배우들 겹치는거 빼고무슨 연관되는 관계가 있어서같은 제목의 1,  2편인지 누가 설명좀...차라리 다른 제목으로 개봉하지..', '제목과 예고편에 정상회담 이라더니 한반도의 평화이야기는 없고 핵잠수함 어뢰만 날리고 속 울렁거려서 중간에 뛰쳐나갈뻔 영화에 메세지도 없고 티켓값졸라게 아까움 배급사 롯데면 말 다했지...ㅎ', '픽션이지만우리의 소원은 통일이기에......통일 하시겠습니까?', '기대없이 봤는데 메세지도 있고 재미있었다. (단. 우좀들의 평점테러가 염려됨)', \"그렇게 메시지가 중요하면 그냥 다큐멘터리를 찍으세요. 배우들 다 망쳐놨음. 연기를 아무리 열심히해도 이야기가 재미가 없어요. 잠수함이 이 영화 전부인데 사실상, 그냥 정우성 주연인 '유령' 보세요.훨씬 재밌음.그리고 제작비가 부족했는지 돈 안들인 티가 너무 나요. 담론은 거대한데 현실은 콧구멍만한 세트에서 표현하려니 한계가 여실히 드러남.유치하고 오글거리는 대사들. 감독 전작들 다 이런식임. 국뽕도 적당히 해야지. 배우들이 뭔죄임.감독 책임이지.\", '', '자국의 이익을 위해 벌이는 사투.그 결정권이 있는 자들의 생각이 그 나라의 국격이 되고 그 결정을 자기의 이익과 생각대로 이루고 싶은 하부의 쿠테타...그리고 그안에서 묵묵히 자기일에 충실하는 힘없는 나일수도 있고 너 일수도 있는 캐릭터이지만 그가 잠수함을 살린다.그 안에서 우리나라 영화이기에 평상심을 유지하는 대한민국 대통령.영화이기에 재밌게 그린 대한민국의 현실을 조명한 영화이다.그리고 우리의 현실이 이보다 더 비참할수 있겠다는 경고로도 해석된다.선거 잘 하자.', '이렇게 긴장감 넘치는 소재를 코미디로 풀 수 있는 것도 하나의 재능. 내 단 하나의 소원은 도쿄한복판에 북핵이 떨어지는 것.', '내가 이 꼴보수새끼들 평점 테러할 줄 알았다. ㅆㅂㄹ들아, 근래 나온 영화 중에 가장 완성도 높은 영화다. 영화도 안 쳐본 새끼들은 아닥하고 대가리 박고 있어~!!! 졸라 박진감 넘치고 졸라 현실 뼈때리는 영화구만, 어디 매국노 친일파 같은 새끼들이 쳐들어와서 평점테러짓이고~', '우리서로 솔직해 집시다~ 이영화 정우성 출연작품중최하 수준입니다~ 내용은 신선했지만 배우의 배역부터모든것이 강철비1에 비해 매우 완성도가 떨어집니다~한국영화의 수준이 떨어진것 같아 ~ 지금 보고온후화가나서 후기 ~ 올립니다~우리 정말 솔직하게 양심적으로 살아갑시다~~그러니 이나라 꼬라지가~^!! 미래가 불안 합니다~열받아서 잠이 안오네요~~관람료  환불해줘~~^', '일본은 옛날 부터 우리나라를 침략했다는 것을 깨달았다', '내생에 이런 재미없는 영화 처음이다!!작년에 트럼푸.김정은.문재인대통령 내용 축소판 정말 어이없다!!그나마 곽도원 연기 때문에 1점을 줌!!보는것은 개인자유지만 10점 주는 사람들은???', '영화의 의도는 알겠으나 조금의 한계가 느껴짐. 그것이 나의 한계 우리의 한계처럼 남의 일 같게 여겨 지지 않음.  영화 보고 나오는  영화관 엘리베이터에서 유연석 캐스팅이 황당하다고  이야기 하는 사람 있었으나 개인적으로 유연석 팬이라서 난 유연석이라서  좋았음. 담배피는 장면이 있어서 건강상했을까봐 걱정.  훗날 유연석도 대통령 역하는 날이 오지 않을까 기대 해봄. 지금의 대통령 역은 정우성이 딱임.', '아주 잘만든 영화입니다. 스토리 탄탄하고 연기도 좋아서 시간가는줄 모르고 봤네요.', '재미있게 봤습니다', '원작에 가장 가깝게 만든 영화흐름이 막히지 않고 지루한 시간이 없는듯', '', '나름괜찮게봤음. 의도는 참 쉽게 설명하려고 노력한듯하나...그래도 좀 부족했음 ㅎㅎ 다시한번 보려고함', '최고', '우리나라 현실...좌파고 우파고 쫌 나라를 위해서 우리를 위해서 나와 내 자식들을 위해서 생각 좀 하며 살자', '배역 섭외 허탈하고 웃기다.헐크 트럼프 대통령방구.똥싸는 엽기 개그2탄은 역시 1탄을  이길수 없다', '', '', '', '좀비 문베충들 땜에 0점 줍니다정우성 그렇게 인권 인권 거리는데 현 정부가북한주민들에 대처하는 인권 문제는 어떻게 생각하는지', '재밌어요~ 대한민국주적은 2천년역사로봐도 일본임', '오랜만에  본 영화인데 정우성  유연석의 조합이 신선했고 있을 수 있는 얘기라서 공감하며 관람했네요', '한반도의 역학관계를 나름 사실적으로 잘 풀어냈네요.', '현실을 적절히 반영한 수작.단역들의 연기가 조금 아쉽지만 잠수함전의 긴장감은 잘 살렸다.미국/중국/일본 국민들이 이 영화를 보면 어떤 감상일지 정말 궁금하다.', '작품완성도도 뛰어나고 있어날 수 있는 이야기를  재미있게  만든 영화로 추천우리의 주적은 역시 일본이다', '나름 괜찬음 마지막 총리가 대통령을 전쟁이 나도 지켜라무전으로 영유권 주장 하고 일본 잠수함이 아뢰발사 국군이 어뢰 폭파시키고 일본 잠수함 한대 터지고 나머지 철수 하는 내용이면 더 설득력이나 드라마틱 하지 안았을가요!!극장서 음료는 이해하나  팝콘 먹는다고 마스크 내리고 쩝쩝은 코르나 때문에 불쾌 했내요', '잘만들어진 잠수함 영화 그리고 주는 메세지는 강렬하다. 누구를 믿을 것인가. 우리밖에... 바보형은 멋있다.', '국민들은 통일을 원하십니까? 마지막 메시지가 진짜 한방~~~', '지루하고전형적인 좌파 홍보 영화 네여', '꼭 봐야하는 영화', '', '기대를 안 했는데 나름 재미 있었음.  3국 정상 역할 배우들 의 위트와 연기가 돋보이고 잠수함씬도 흥미진진함. 혐일 감정 자극한게 아니냐는 바판도 있지면 충분한 개연성 있는 설정이라 몰입감있게 봄.', '진짜 일어날수 있는 한반도를 둘러싼 역학관계를 흥미진진하게 영상화한 1보다 더 나은 수작!', '미스터션샤인과 이어지는 것같아눈물이 났네요좋은영화 만들어주셔서 감사합니다', '한반도를 둘러싼 강대국들과의 관계를 다시금 생각해보게 하는 영화. 이 땅의 평화를 지키기 위한 한국대통령의 고민과 노력을 잘 연기하셨어요  아니 북한지도자와 북한군들의 연기도 정말 좋았습니다.심지어 외국인들의 연기도!!! 코로나만 아니면 바로 천만 갈 영화.잠수함 액션이  다들 좋다고 한 이유가 있었음진심 강추!', '다섯나라가 얽혀있는 스토리라 지루했던 부분이 좀 아쉬웠지만 마지막 30분이 볼만합니다.', 'ㅋㅋㅋ  반도볼껄   ㅋㅋㅋ', '', '근데 왜 헌터킬러와 똑같을까 이상한데누구 시나리오가 먼저지?', '간만에 몰입해본 좋은영화.', '간만에 괜찮은 한국영화 봤습니다', '코믹이 섞여서 긴장감을 떨어트려 반감되지만 나름 노력을 했고 강대국사이에서 충분히 일어날수 있는 시나리오라 공감이 같다.일본을 핵으로 공격하자는 내용은 좋았는데 그렇게 되면 미국이 북한을 때린다는 설정이 가슴이 아펐다.뒤에서 걸으며 사열하던 정우성의 현실이 딱 우리나라 현실이다.북미사이에 우리의 존재는 과연 무엇이란 말인가?하루빨리 평화가 오고 남북이 오가는 현실이 만들어지기을 간절히 바래본다', '재밌게  잘봤습니다', '우리나라도 영화 잘 만들었네요', '너무 지루하다!', '이건 꼭봐야해~반도에서의 내상을 여기서 극복흥해라  정우성!!', '초반엔 긴장감이 조용히 조여온다..잠수함 내부에선 긴장감 폭발!!! 끝날때 너무 멋져서 욕나올뻔 했다..신파가 없어서 너무 좋음', '와우 굿. 우리도 긴장감 넘치는 잠수함 영화를 만들수 있네. 재밌어요 개꿀잼.', '강철비1보다 짜임새가 짱짱하고 스토리도 밀도가 높았어요. 저 개인적으로는 류수영의 연기가 짧지만 강렬하고 매우 좋았어요. 마지막 정우성의 메시지가 뇌리에서 떠나지 않네요. 강추합니다.', '', '', '볼턴 회고록 같네요. 후반 사건 내용은 픽션입니다만세계관, 미,중,일 등 관련 국가들의 치열한 이해관계.. 각 대통령들의 성격이나 캐릭터 등 모든 것이 사실 기반임이 딱 느껴지더군요.얼마나 북중미 사이에서 힘겨운 외교를 하고 있는지 볼턴 회고록을 영화로 옮긴듯 합니다.개인적으로 반도의 흐름을 끊는 마른수건 짜는  신파들 보다는 10배 만족하며 봤습니다.', '좀비보다 낫네', '', '', '긴장감 스릴 그리고 잠수함 대전의 박진감이 느껴집니다 한번 더 보고 싶네요', '재밌어서  놀랐다   ㅋㅋ', '우리의 바램을 영화에서라도 이룬것 같아 두시간이라도 행복했습니다!', '실망이 너무 크네요ㅜ강철비1을 너무재밌게봐서 그런가~유령 에어포스원이 생각남ㅜㅜ너무많은것을 담으려했나ㅜ 정우성은 증인변호사같고곽도원은 김갑수보다 약하고 웃기지않은장면이 너무많음반도가 더 낫다~  서대위 황중사같은 인물이없음', '', '쓸데없는 기도장면은 뭐냐...문통때문에 넣은거냐???잘보다가 헛웃음나왔다...통일되면 너메나라 종교 싸그리 몰아내고 단군신앙하자...', '최악이군요 1편보다못함', '잠수함 전투신은 최고!', '', '다필요없고 2시간내내 재미있게봄 최근영화 중최고', '', '이 찝찝함은 뭐지....', '지루해죽는줄...', '설정이 좀 억지스러운 면이 있지만, 전체적으로 볼만합니다! 연기력도 좋고 정우성이 대통령하기는 좀 무리인것 같습니다...TT', '극한직업 1위대한민국 대통령꼭 보세요', '욱일기 앞에서 한 행동은 10점 이상입니다. 지루하지 않고 재밌었어요', '이건 봅시다', '대박입니다.', '국뽕 영화에 뻔한 스토리지만 재미있다. 배우들의 연기가 거슬림이 없다.', '재밌어요.  2시간 금방지나가네요, 씨지도 멋지네요. 한반도 현상황이랑 딱 맞음. 잘만들었음', '양우석 감독의 연출력은 군더더기없이 깔끔하다고', '이건 봐야합니다.', '영화를 보는 내내 우리나라 대통령이 얼마나 중재자로써 고생하고 힘들었을지가 느껴졌다10점 만점의 100점 주고 싶다', '극장이 죽지 않고 살아남아야 할 이유.', '', '스토리 개연성은 그렇다치고 억지 웃음이 거슬림', '재밌게 보긴했는데 조금은 부족한..', '이벵으로 천원내고 봤는데도 지루해 죽는줄 1편이 백배 나음', '반일 화이팅. 대한민국 대통령님 화이팅. 주적은 일본.잠시 시들시들 하던 노재팬 운동 부활하자.', '', '재미있게 잘 봤습니다.조금 아쉬운 컴퓨터 그래픽잠수함전은 고증이 잘 된듯...곽도원 연기 좋네요.영화는 영화일뿐...열폭하지 말자.', '당신은  어느나라 국민입니까??꼭~~~보세요....일베?중국인(조선족)아니면?', '의도는 알겠는데, 내용의 무거움에 비해 코믹 부분이 애매했다는 생각', '^^~', '잠수함 액션 잼나더라구요.  정우성 의외로 대통령에 넘 잘 어울렸습니다. 상황 상 코믹한 부분도 꽤 있구요^^ 현 시국의 세 명의  국가 원수들을 잘 표현 했다고 봅니다.', '', '초반 너무 만화같은 설정이 좀 식상하고, 악역이 너무 전형적이어서 1점씩 깜. 나머지 스토리라인과 후반의 잠수함 액션은 베리굿.', '', '', '', '주적의 정의를 내려준 영화', '퇴근하고 저녁도안먹고 봤는데 1편 너무잼있게봐서 기대했는데 솔직히 별루임 좋은배우들 다나왔는데 내용이 부실한게 너무 아쉽네요', '일베넘들 출동했네', '현실의 측은함과 분노미래의 희망', '정우성은  솨랑입니다~~♡♡', '재미있음잘 만들었음잠수함전 재밌음.....', '최근  신작중 젤 낫다잠수함전 굿임', '같이 본 마눌님은 전개도 뻔하고, 개그도 웃기지 않고, 정우성 연기도 못한다고 마구 깜. 난 완전 반대로 재미있었음. 웃기고, 연기도 좋고, 특히 미국 대통령 연기가 눈에 확 뜨임. 정우성을 너무 멋지게 그렸고, 특히 3국 정상 중 한국대통령이 원톱으로 키크고 젤 멋지다는 점(1), 마지막 클라이막스가 만화적으로 마무리된 점(2) 등이 이 영화가 기생충급 절정 걸작이 되는데 방해요소이고, 헐리우드급 오락액션 영화로 내려앉는 요소 중 일부라고 봄. 영화평들을 읽고 든 생각: 소위 대깨문 또는 친민주당파 또는 지난 수년간 문통의 북핵외교를 지지한 정치성향이라면 위 방해요소는 쉽게 무시하고 영화를 즐길 수 있을 거임. 그러나, 일베, 통합당도배, 또는 최근 부동산정국에서 민주당정권에 크게 실망하였거나, 반문 또는 반민주당파적 정치성향이라면, 영화가 그렇게 기꺼워.보이지 않는 것 아닌가 싶음. 마눌은 부동산실망파라서 영화에 실망한듯', '영화보다가  첨으로 중간에 나왔어요ㅜ돈아까움ㅜᆢ', '', '마지막 장면보고  깨달아야합니다  이루어져야합니다', '완전 재밌어요.미.중.일.러 강대국들 사이에서 대한민국이 얼마나 힘겹게 버텨왔는지 알 수 있어요.정우성 배우님이 연기한 한경재 대통령에 우리 문프가 겹쳐져 눈물나요~', '1편보다 나은 2편...분명 또 좌파니 뭐니하며 폄훼하는  극우부대들께서 깍아 내리겠네....추천 영화 ... 꾹', '굿', '넘재미잇어 좌파우파 따지놈들 영화를안보면돼지 그러니 자한당지지자들 사라져리ㅣ', '가슴이 떨림 국민여러분 통일하시겠습니까?', '이런쓰레기영화를돈주고보다니10분도안되어서나왔음', '안타까운 우리의 현실을잘 반영함. 작품성도 좋아요.통일은 우리가 반드시이루어내야할 주체입니다.', '몰입도짱.  눈물까지 쏙~', '재미있게 봤습니다. 극한직업 대한민국 대통령! 우리나라 현실을 잘 나타내서 슬프기도 했네요', '', '스케일을 크게 가져간 점은 좋았으나 매끄럽게 이어지지 못한 부분들과 배우들의 어설픈 연기력들이 아쉬웠습니다', '트럼프가 보면 열받을 영화..ㅎㅎ배우가 어찌나 찰지게 연기를 잘하는지..', '30여년 전 종로 5가 귀퉁이 소극장.바쁘다  바뻐로 처음 본후 30년이후.신정근 형님 대표작이 나왔네요1편에 버금가는 수작', '', '초반지루하고 배역에 몰입이 안됨. 후반부 좀나아지고, 엔딩이 좋아서 점수줌', '2시20분에 보고 집에 왔는데 5시에 완전 다시보고 싶음', '오락용 킬링용 데이트용 뭐 10000% 만족 할만함', '강철비 1편에 비하면 꽤 아쉬운 영화', '전작 강철비가 남북 + 군사문제였다면 강철비2는 남북 미중일 + 군사 정치 외교 모두 망라된 듯 합니다.그렇지만 전작보다 현실감이라던지 영화의 스릴은 오히려 약한 것 같습니다. 거기다 코믹과 감동까지 집어 넣으려니...아무래도 제작진이 전작을 뛰어넘으려고 너무 과잉의욕을 부리다가 장고끝에 약간의 악수를 둔 것 같습니다.스릴감 같은 영화적 재미에 집중하고 억지 코믹 좀 덜어내고 정치적 메세지는 조금더 힘을 빼서 여백을 좀더 두었다면 오히려 관객이 느끼는 자연스러운 감동이 더 컸을 것 같습니다.', '속이 시원하네요', '그놈의 신파 ㅋㅋㅋㅋㅋ 진심 토나오고 화가많이남', '코로나19 이후 처음 극장가서 본 영화재밌었어요~4D로 봤어요 ㅋ', '영화의 앤딩 인상적이었습니다지루하진않고 스릴감도 있고무엇보다 현실성이 내포된영화다보니와닿기도 했습니다', '제목에서 얻을 수 있는 이상의 스토리가 있습니다.관람객 모두 숨죽이며 끝까지 함께한 영화였습니다.꼭 보세요.', '유치찬란', '영화 끝나고 감독 이름에다 대고 삿대잘하며 이렇게 고함치고 싶었습니다. \"적당히 쫌 하자!!!\"', '한반도를 둘러싼 핵전쟁 위협에 맞서는 정우성의 대통령 연기와 심해에서 벌어지는 잠수함 추격전을 긴장감있게만든 훌륭한 작품 이였습니다', '별기대 없이 피곤해서 졸까 걱정 했는데 너무 재미있게 봤습니다.적당한 스릴에 전개도 좋았고...', '영화 보면서 시간이 안간건 처음이네요!!보는내내 빨리 끝나고 집에 갔으면 하는 바램뿐이었습니다예고편이 훨씬 재밌게 만듦!!!!', '', '재미 있읍니다 긴장감도 있고우리나라 현실을 생각하게 하네요', '좌파영화 북한찬양 영화 보지도말고 선전도 하지 맙시다', '', '비현실적이지만 현실을 꼬집은...생각보다 재밌었다', '', '난 잘 만들었다고 본다 ㅋ긴장감도 넘치고', '그냥 영화지만 현재 한국 북한 미국 관계의 위치를명확하게 집어낸 슬픈 현실같은 영화다', '알유퍼킹키딩미?', '몰입도와 긴장감이 장난아니네요', '미사일 걍 쏘지', '초반부보다는 중반부 넘어가면서 잠수함에서의  긴장감과 몰입감~~재미있게 볼만합니다.코로나때문에 올해 처음 극장가서 영화봤네요~^^그리고 남북과 한반도를 둘러싼  국제정세 등 많은것을 생각하게 하게 되는 영화네요.', '', '생각없이 보러 갔다가 많은걸 느끼고...', '뻔한이야기일거라 생각했지만 정말 시간가는줄 모르고 봤네요', '스릴 넘치고 재밌다', '너무 기대는 하지말고...잠수함 전투씬에 비중을 두고 오락영화로 즐기면 볼만하다...중간에 개그로 넣은씬은 별로 웃기지도 않으면서 캐릭터만 너무 가볍게 만드는것 같아서 아쉬었다.유연석과 정우성은 국가 지도자 느낌이 나기엔 나이도 젊고 좀 무게감이 부족해 보인다.', '아이들 기말시험기간이라서 같이 볼려다가 참지 못하고 혼자서 먼저 강철비2를 보고 왔습니다. 코로나 19 이후 가장 볼만한 영화라 생각이 됩니다. 올해 유일하게 본 영화가 \"온워드: 단 하루의 기적\"인데, 그보다 훨씬 몰입도 있고, 재미 있습니다. 그리고, 강철비 1 보다도 훨씬 더 재미 있습니다.가끔 웃기려고 유머를 날리는데 제겐 조금 노잼.. 하지만, 가족들과 다시한번 보러 갈 생각입니다.', '식상하다 이제 충무로대깨문 빨아주는 영화만들면 우 몰려와 충성심에 봐주던정치색 은근히 깔린 영화좀 그만 만들어 대어라...', '통일 꼭 해야죠아무리 주변에서 방해해도', '와...꼭 보세요 꼭 극장에서 보세요. 예고편 미리보기 이런거 보지 말고 그냥 보세요. 리얼리티 쩐다. 정말 한국영화가 대단합니다. 치밀한 전개가 쉴 틈을 안주네요. 강철비1.2 는 박진감과 몰입도가 무간도 이후 최고인 듯.  한국인을 위해 너무 잘만든 한국영화를 볼 수 있어서 감사한 마음이 드네요.( 별점 테러 주는 것들은 국제정세를 몰라서  내용 전개를 못따라가고, 아마 그 중요했던 대사내용들도 이해를 못하는 듯) 양우석 감독은 봉준호 다음 월드클래스급 감독 아닐까 싶음', '감독의 정치성향을 영화에 나타냈고, 연출이 자연스럽지 못하고 소재 흐름이 뚝뚝 끊기며 왜 굳이 잠수함을 썼어야하나 싶네요. 기다렸다 다른영화보세요. 제 인생 첫 재미없는 영화로 꼽았습니다.', '짱~!!!시간  가는 줄 모르게 집중해서  봤네요', '대박이었음... 강철비는진리', '게 재밌네  딱130분인데 시간가는줄 몰랐음개그도 섞이고 게 멋있엉~ 화장실 생각도 안남 완전몰입', '긴장감있고 잠수함 씬도 넘 잘봤습니다|~엔딩처럼 꼭 평화롭게 되길 바랍니다', '영화가 나쁘다는게 아니다. 영화를 관람하러간 나는 대체 뭘 본것인가? 사실 영화가 재미있어야하지 않은가? 말그대로 영화일뿐인데...', '한국영화에서 잠수함을 소재로 이 정도의 퀄리티 있는 영상을 내놓다니... 솔직히 놀랐음.개인적으로 중반부까지 몰입감 있게 이끌어가는 연출과 시나리오는 신선하고 흥미진지 한게 너무 좋았습니다.각자 배역의 고충을 연기하는 배우들의 연기력 역시 만족스러웠으며, 오랜만에 불편하지 않게 영화를 본 것 같습니다.  ( 국뽕빼고...)영화 마지막 장면처럼 남북정상회담이 훈훈하게 이루어지기를 소망합니다.개그씬으로 ㅋㅋㅋ남북미 정상들을 재밌게 깠네요...ㅋㅋㅋ영화 대박니세요.', '재밌던데', '오늘 조조로 보고 왔습니다. 한국이 처한 상황을 그대로 보여주는듯 합니다. 문재인 대통령 고생이 많습니다.', '', '독도 듣기만 해도 뭉클하다. 우리의 주적이 어딘지 보여주는 영화', '', '영화 완전별로다~~홍보 영화본듯1시간40분자면서 ...', '떠들다가 끝난 영화 대실망!', '', '말이 안되는 시나리오긴 했지만, 폐권주의 양육강식 세계를 고스란히 담은 현실주의  국뽕 영화다~~!! 특히 정우성의  \"위아래서 그러니 나만 힘드네\" 대사가 영화의 모든 상황을 비교해 주는듯 하다!! 현실은 힘들지만 영화에서라도 잠시 상상력을 발휘할 수 있었던 시간인듯~~', '잠수함 영화네~한국 잠수함 영화 시초 유령 생각남정우성 유령 나옴', '우리의 주적이 누구인지 확실히 알게 해 준 영화다. 그리고 이 영화의 주인공은 신정근 배우다!', '기대보다 박진감 넘치고 재미있음', '와우..탄탄한 시나리오...배우들의 멋진 연기..바로 이런 영화를 기다렸다....정우성의 연기도 이젠 어색하지가 않네..국무총리 같은 뜬금없는 배우들 땜시 몰입이 깨질 수도 있었는데..그 정도야 옥의 티지 뭐...정말 강추!!!!', '몰입도 있게 잘봤음', '감동~현실을  아주 잘 보여줌...', '', '어뢰가 날랜 물뱀임, 왕구라 대본에학을 띰.', '화려한 액션신 기대했다가는 낭패말이 안되는 전개는 고사하고 좁은 잠수함안에서 세정상이라는 사람들 모여 한심한 농담타먹기액션신은 어뢰 쏘는게 전부 ㅜㅜㅜ', '이영화 절대강추 이다연출자가 이야기 전개를 충분히 배분해서 모두 다 설명했으며신정근 배우 조연상 자격 갖췄으며그 무엇보다도 카리스마 넘치는 정우성 하고곽도원 유연석 이 영화의 간판 주연배우들이 아주 내러티브를 멱살 잡고 끌고 갔다정우성 곽도원 유연석 셋 다 연말 각종 시상식 주연상 확실시 된다우리나라와 북한 그리고 미국과 중국 여기에 일본까지제각각 자기 자신들 나라의 자세와 입장 자국의 국익까지 예리하게 건드렸다최고수준 웹툰만화 마냥 놓치지 않고세세하게 핵잠수함 부함장 신정근 배우가 왜 그런 행동들을 했는지심플하게 서사를 준 점 기초적이지만 잘했다고 칭찬해주고 싶다상업영화 텐트폴 영화임에도 과연 스토리장인 역시나 양우석 감독이평화를 말하고 또 통일을 말하고 참 뭐랄까 나는 이 부분 고깝게 안보고좋게 따뜻한 시선을 가지고 높게 평가해주고 싶다', '예고편 보고 크게 기대는 안했는데 흥미진진. 보통 영화가 초반에 반짝 재밌고 지루한 경우가 많은데 오하려 후반으로 치달을수록 몰입도가 커짐. 특히 잠수함 밀덕들은 꼭 봐라. 4dx로 또 관람할 예정', '현실적이면서 비현실적인. 흥미진진. 일본망해랏.', '방금 보고옴잘생긴 대통령만 나오는 설익은 영화가 아닌 아주 잘익은 영화였다재밋게 영화 만들었음영화 잘 만들었음국뽕이 차오른다', '강철비1 이 진짜 명작이었음~이 영화에 비하면.', '시나리오는 꽤 좋은데현재 국내외 정세를 이해시키려다 보니약간 루즈해진다.연기들은 다 좋은데잠수함 전투씬은 긴장감이 거의 없다.', '메시지가 있는 영화', '와 진짜 짱!!!', '코로나 이후 처음 극장에 갔네요. 한반도 상황을 잘 표현했고, 잠수함신 고퀄, 통일에 대한 우리의 시각에 대한 질문? 암튼 좋았어요! Why not?', '가슴이 뭉클', '간만에 잘만든 영화 봐서 기분이 좋았다특히나 밀덕들도 좋아할만큼 고증도 훌륭했고북한군인들은 정말 군인같은 모습을 하고 있더라신정근은 이 배역에 가장 최적화 된 배우였다그리고 감독이 유머에 대한 타이밍을 잘 잡아내더라그점도 엄지 척', '신정근배우님 다시 봤습니다연기 최고입니다', '지금의 현실을 투영해 더욱 아프고 또 미래를 돌아보게하는 영화! 보지도 않고 평덤 테러 일베들 공기도 아깝다!', '강철비를 너무 재밌게 봐서 2편 개봉하자마자 가서 봤어요.', '진짜 잘 만들었다. 두번 보세요. 아니 세번 보세요', '신정근 배우님이 주인공!! 멋찜 ㅋㅋ미국 대통령은 코미디언 ??원래 대통령이 영어를.....??ㅋㅋ안정원 선생님은 여전히 똑똑하네 담배....ㅠㅠ ㅋㅋ곽도원 비중은 넘 작다', '', '강철비1보다 훨씬 스캐일도 크고 잘 만들었다고 본다.  좁은 잠수함안에서 벌어지는 긴박한 상황들을  지루할 틈없이 잘  그렸고 평화통일의 중요성과 지정학적으로 한반도가 얼마나  민감한 위치에 있는지  실감케하였다. 강추.', '', '올해 최고의 영화.. 국뽕이 아니라 자연스럽게 터지는 나라에 대한 사랑을 느낀다.. 이게 애국이고 보수지.. 평점테러하는 매국노친일파일붸벌레들은 이 영화 보지마라 보다가 속터져 뒤질거다 ㅋㅋㅋㅋ', '굿~!!2시간 넘은 영화인데도 지루함 없이 봤습니다.', '영화 퀄 무엇?크 국뽕(이라 해도 dont care)~에 취한다!그나저나 정우성 연기 바람 0%', '연기 굿~', '주적은 일본보조적은 중국미국은 장사꾼미우나 고우나 북한은 한몸그리고,, 배우 신정근의 재발견', '같이 본 아들은 오글거린다 했는데 국봉 영화 나올 때도 됐죠~ 헐리우드에서는 에어포스 원에서 대통령이 테러리스트와 대결도 하는데 뭐!!', '신정근 배우님의 연기가 예술입니다.원래부터 연기 잘하긴 했지만이번에 카리스마가 후덜덜~', '독도 잠수함 그리고 매국노새끼들', '우리나라를 더 생각하게되고,주변국가들간의 상황까지도 고려해야하는...참 생각이 많아지는 영화네요....', '잠수함 액션씬 굿', '일베들이 꿈틀데는거 보내 괜찮은 작품이 나온듯 하네요.', '약소국의 설움', '', '', '생각이 많이 나는 영화', '원래 8점 정도 생각했는데 테러하는거 보고10점을 준다.그런데 영화는 보고 테러하는거냐?', '독도는 우리땅!!!', '재밋었는데 너무 기대해서ㅠ그런디 기대만큼은 아니엇습니다 중간에 억지웃음유발 장면아아쉬었음', '', '최고!!!!!!', '독도홍보영화. 자조섞인 유머코드도 잼나고 전체적으로 재미지게 봤어요.널리널리 퍼져서 독도는한국땅 홍보 좀 많이 됐으면. east   sea도 좋았고', '현실을 반영하여 더욱 가슴 아픈 영화미래를 투영하며 더욱 가슴 벅찬 영화', '굿~근디 워찌 평점이 고대로라냐?', '아래 몽실아 니 관점에서 평점 하지마라 기레기야~!', '지루하다가 머리아품‥ 반도가 더 잼남', '한반도의 현실을 잘보여주는...연기도 볼거리도 훌륭', '신정근  배우님  훌륭합니다  화이팅', '대박~~~~~~~~~꼭 보세요', '개인적으로 기대 이상이었습니다.역시 양우석 감독 작품답더군요.견고하게 만든 분단 시뮬레이션 문학작품입니다.이런 영화를 우리나라 사람들이 많이 봤으면 좋겠습니다.앞으로도 우리가 개인주의로 살기 보단 분단 현실을 자기 일처럼 인식하고 관심을 많이 가졌으면 좋겠어요.그래야 후손들한테 좋은 사회를 물려줄 수 있으니까요.이런 좋은 작품을 만들어주셔서 <강철비2> 모든 제작진 여러분께 감사합니다.덕분에 통일 문제에 관심을 가지는 사람이 많이 생길 거예요.', '재미있구만,지금의  남북의 문제를 영화한 영화,허구성이  있지만 정치적으로  우리가  알아야할 사실들을 쉽게  알려주는 이야기', '와우 대~~~박! 연출 연기 음향 압도적! 잠수함과 어뢰는 조연상급! 미중일에 둘러싸여 참고 또 참아야하는 현실을 제대로 보여줌~~', '알바들 평점 테러 한다더니진짜인가 보네안봤으니 저런 평점을 달지', '일베들   평점 조작 하지 마라!!!', '정말 정말 시간이 남아 돌면 보러 가라', '웹툰 그대로 하면 호위총국장은 최민수가 적절할 것 같고,미국 부통령은 scott lowell그 사람이 하고 여성분은 부통령에게 훈수두는 역으로 하면 될 것 같은데요.곽ㅇㅇ 총국장은 미스캐스팅', '액션물이라기보다는 정치 드라마에 가깝다.일부 인물 묘사에는 다소 논란이 될 수 있다. 트럼프를 그대로 묘사한 미국 대통령은 개그캐이고 북한 군인들은 다소 순진한 면이 있고 북한 위원장은 신념이 강한 인물로 묘사되어 있다.하지만 영화 내용에 현실을 단순히 대입하여 문재인 대통령 혹은 김정은 찬양 영화라고 말하는 사람들은 과장된 반응일 뿐이다.  미국 대통령 캐릭터를 제외하면 외모 성격 상황이 현실과 완전히 다르기 때문이다.한국 대통령 캐릭은 이것 저것 눈치보느라 끝까지 고생한다. 이걸 보고 현 대통령 찬양한다며 싫어하는 사람들은, 현실 대통령이 영화 상 대통령처럼 정의로운 사람이라고 오히려 본인들이 인정하는 꼴이다.영화 자체로 보자면 걍 그럭저럭 극장에서 팝콘 먹으며 볼 수 있는 오락영화이고 평작 정도의 영화다.정치병 걸려서 현실 정치인이랑 똑같다며 비난 혹은 찬양하는 사람들은 걍 안 보면 된다.', '아내랑 봄 평점 10점+10점임진짜 시간가는 줄 모르는 재미속도감 높음현실 제대로 반영잠수함전 제대로반도도 잼있는데 이건 더 재미있음', '', '겁나 재미있다', '우리가 처해있는 현실을  잘보여줬고  평화만이 살길이다라는걸 다시 한번  확인하는 영화였습니다 아주 좋은 영화입니다', '요즘은 전편이 나음~~', '우리의 할 일을 말해주는것같아요. 어쩔수없는 우리의  나약한 대통령의 모습이지만, 결국 통일은 우리가 직접 풀어나가야 하는 문제라는 걸 느꼈습니다.', '아니 영화 리뷰에 왠 일베 쓰레기들이 왜 이리도 많은거야? 똥냄새나게...?', '절대 보지마라시간 낭비', '전편을 재미있게 본터라 미뤄뒀던 반도를 포기하고, 개봉하자마자 조조로 관람 하였는데, 반도를 볼껄이라는 생각이 드는건 왜인지?잠수함에서만 벌어지는 감정씬과 몇발의 어뢰 발사??아쉽다', '어이가 없네~일단 다들안 맞는 옷을 입었고배역이 안 어울림.유연석이 김정은?어색하다배우들 연기 말투가 엉망이라 자막 넣어준거냐?그건 고맙다.1시간 반 동안 잠수함에서 지들끼니 싸우다서로 어뢰쏘고 그러다 끝이다.전 편은 액션이라도 있지액션 1도 없음내가 이딴걸 왜 본건지 에휴 시간 아까워~진짜 망할거다.형만한 아우 절때없다.나처럼 보고 후회하라 봐라나만 당할순없다. 추천 강추~!!일 없슴네다.', '중간중간 유머도 있고, 긴장감 넘칩니다.', '상영관 도배장악 반대', '일베는 할복만이 답~~', '', '정말 양우석이 감독한 영화가 맞나싶다유치하기가 장난없다~일없는 사람들 보세요~ 진짜 일없음 거임', '최악의 독재자를 미화하고 현실을 왜곡하는 북한식 선동 영화.맡은 역활이 그저 정우성스럽네입으로 민주화를 얘기하면서 북한 독재자를 추종하는 좌파들.이해간 안된다.', '선동이라도 좋다 일본놈들 망하는 영화는 환영', '북한 말의 자막 오류 많아 집중해서 보기가 힘들었어요 ㅠㅠ류일 --> 유일(唯一), 령웅--> 영웅(英雄), 량보-->양보(讓步)위 단어들은 ㄹ로 시작하지 않아요.', 'cg 기술이 좀 아쉽지만...내용의 뼈대가 좋았음. 등장인물들 배경 이야기가 풍성했더라면 더 좋았을 듯...(북한 사투리 자막이 있어서 좋았음. 한국 표준어도 배우 발음 안좋으면 알아듯기 힘든 점을 생각하면, 좋은 생각~)', '멋집니다 스릴있어요', '영상미가 있고 멋지네요~ 흥하시기 바랍니다.', '잠수함씬만은 인정안할수없군기레', '일베들은 길가다가 트럭에 깔려 죽어버려라컵라면먹다가 목구녕 걸려 죽던지ㅋㅋ', '정우성= 문재인, 유연석=김정은이네 또 선동영화', '최고~ 일베들 꺼져라', '정말 기대 1도 안되는 영화.. 왠지 본 거 같은 느낌이 드는... 어휴 지겨워.. 맨 그얼굴에   그 스토리.. 누가 봐?', '■ 정우성= 죽음도 불사하는,  용맹무쌍하고  대범한 남쪽대통령■유연석=지적이고 잰틀하며,  멋진 비주얼에  매력이 넘치는  북쪽위원장현실과는 정반대구만~~!!영화 보고 현실시 하는 사람들... 참 웃겨~~^^', '', '돈 절대  안 아까워ㅎ', '최고다', '', '보러가야지~~', '믿고 보는 강철비.10점 드립니다.', '믿고봅니다예매완료!참여한 배우들 멋진분들!', '시사회 갔다온 사람이 대박 잼난다고 함....나도 보러가야지..ㅎㅎ', '', '', '', '1보다 2가 더 나을수 있다니 ㄷㄷㄷ', '토착왜구 부동산 투기 미통닭 세력들은 이 영화를 싫어합니다!!!', '참신한 소재, 검증된 배우', '초반 약간 지루하고 긴장감 없음 중후반 긴장감 오르고 연기력 짱  주연 조연 골고루 연기 잘함 신파 적절히 잘 섞음. 곽도원 연기 좋음  CG 굿', '', '문재인영화네?........', '강철비 영화 두번 봐도 재미있는 잠수함액션 강추', '', '영화 유령 생각나네..나름 명작이었지', '한국영화 쓰레기. 코로나19에 걸리면 담배 한 대 안핀 사람의 폐가 축소되고 돌처럼 굳어져서 폐이식을 받아야 될 지경이 된다. 그냥 좀 격리되서 쉬고 낫는 사람은 소수다. 코로나19는 걸리면 치료하면 되는 병이 아니라 걸려선 안되는 병이다. 언론들이 이 시국에 극장에 가라고 선동하다니 미쳐도 단단히 미쳤다.', '오랜만에 좋은 영화네요.', '예고편만 보면   약간  헌터킬러랑 스토리가 비슷한데.....?????', '일베메갈 강남송파천민졸부 대구경북 지방문둥이 미통당원 방용훈과 조중동임직원 조수진 김근식 같은 호남간잽이 신천지 전광훈과 ㄱ ㅐ 독들 전관돈에 미친 검사판사 한유총 대한의협최대집 같은 놈들은 댓글 테러 하지 마라! 진짜 좋은 영화다!', '정말 재밌게 봤습니다...', '북한말듣기 싫고빨갱이는 없어져야함', '천만 넘을것 같은데 태극기 부대 거품물고 쓰러지겠는걸? ㅋㅋㅋㅋ', '정우성배우를 통한  한반도의 통일은 현실을 깨닫고 가야할 임무라고 본다.', '오 유연석 나오네  미스터썬샤인 작품에서 유연석 좋았는데', '이 영화가 불편한 부류 팩트:미통당 지지자, 친일왜구들, 일베충', '', '최고다!', '', '1편의 짜임새. 영민한 영화.', '기대됨.강철비1도 잼있게 봤는데 더 기대됨. ^^', '김정은이 유연석이야?어느정도는 비슷하게 해줘야 되는거 아닌가?리얼리티가 너무 떨어지는데...', '정말 시간 가는 줄 모르고 봤다. 한반도를 둘러싼 주변국의 정세를 나름 생각해 볼만한 영화였다.', '진짜 기대된다. 전편과는 다른 느낌을 주는 장면들이 너무 기대됨', '기대 만땅~', '쓰레기', '', '0점 없나 어디', '0점이 있어서 다행', '', '유연석이 어떻게 북한 김뚱땡이역이야....ㅋㅋㅋㅋ 아무리 영화라지만 너무 한 거 아니냐? ㅋㅋㅋㅋ북한이 대한민국이 지어준 연락사무소 700억원짜릴 한 번에 폭파 시킨 것만 봐도 북한 정권이 얼마나 오만하고 폭력적인지 알텐데... 그냥 유연석이 북한 김뚱땡이 역활 맡은 것만 봐도 그냥 북한 미화하는 것 같이 느껴진다.그냥 차라리 연기도 잘하고 싱크율 높을 곽도원이 하면 몰라도...강철비 1을 본 사람으로서 곽도원이 정말 연기 잘 했거든. 강철비 2 나온다 했을 때, 아 그럼 정우성이 1편에서 죽었으니 만약 강철비 2가 나온다면, 곽도원이 무슨 역활로 나오겠네 생각했다.그리고 강철비 2 제작 한다 했을 때, 곽도원이 나온다면 강철비 2에서 북한의 김뚱땡이역으로 곽도원이 나오면 연기 볼 만 하겠다 했는 데.... ㅋㅋㅋㅋ그냥 이번 편은 안 볼란다. 700억원짜리 국민세금으로 지은 연락사무소 폭파한 것들 미화한 영화는 이제', '1%의 가능성만 있어도해야하는 일이 통일이다물론 돈이든 생명이든 손실은 불가피 하지만 그래도 해야하는일이 영화가 시작의 아주 작은 단초라도 되길 기도한다', '보았노라 즐겼노라 시간 순삭하도라잠수함 전투가 이렇게 흥미진진할줄이야', '서울시장으로 정우성을!', '두근두근 정말 기대됩니다!', '영화와 현실.  그래도 왜곡은 아니지 않을까?결국은 역사가 증명하는데...최소한 양심적 사명감은 있어야 하지 않을까?아무리 픽션이라 해도...너무 정부를 찬양하고... 북한을...현실은 전혀 그러하지 아니한데...픽션을 활용한 교묘한 왜곡이며 국민들의 눈가림입니다.모든것을 포용하려 했던 백범선생이 그리울뿐입니다.참.  암울한 우리 대한민국...', '기대됨...', '잼났음 잠수함 전투장면ㅋ', '잼나겠다', '강철비2전작을 흥미진진하게 봤습니다.감독과 출연진들 기대합니다.', '', '유연석 말고 안재홍이 했더라면.... 좀 더 오버랩이 되었을지도... 유연석 너무 말랐어...', '볼만한 영화 없는데, 그 와중에 기대되는 작품', '통닭좋아하는 인간들  테러하네 ㅋ', '1편 보다 더 황당해진 설정으로 당황을 안겨주는 건 넘어간다 쳐도미국 끌고 올거면 스케일은 가져오고 무모함은 버려야지.반미정치병자들 끌어모아서 평점 떡상 시키면 한국 영화가 뭐가 되겠냐.', '기대된다!!!', '시사회봤는데 재미만 있더라평점테러하는 인간들 장사리인지 그건 10점주고 남산의 부장들은 1점 주고 ㅋㅋㅋㅋㅋㅋ', '평점테러하지마 이 사사카와 료이치 후손들아', '크림슨 타이드(95’)한국식 우라까이', '정치적 평점 테러아웃 명작이라고는 말할수 없지만 몰이감은 좋습니다.', '', '정우성, 관객수?별로인 것 같아서이번엔 패스~~~', '우리 같이 살길을 같이 생각해봅시다. 시부랄 이 한마디가 멀 뜻하는건지 느낌이 짝 오네', '솔직히 인적 물적 자원낭비의 최고봉 북한에서나 상영하는게 맞을듯', '우선 기대점수는 10점... 꼭 보고 다시 평점을 등록해볼게요~', '웹툰보고 봤는데 최고', '안봐도 뻔함북한은 내 친구 미국.일본은 죽일놈그러나 현실은 북한은 남한 돈 뺏으려는 깡패 미국일본은 우리의 우방', '정우성 굿', '격하게 기대됩니다. 일베들아 평점테러 그만하자', '와. 영화를 아직 보진않았지만 0점 테러가 많은 걸로 봐서 꼭 봐야하는 영화인가 보네요.', '강철비2 심상치 않다.....코로나 시대 역대급 관객수 점쳐봅니다그냥 느낌이 너무 좋고배우분들 다믿고 무엇보다양감독님 이번에 또 제2의 변호인의울림을 만들어주실것 같다', '에혀... 정치색 드러내고 문주당 빠는 영화 안봐도 비데요네요..', '시사회 봤습니다. 적극 추천합니다~한반도의 운명에 대한 진지하고 솔직한 질문을 던지네요!북한문제 대체 어떻게 할 겁니까??', '감독의 제작의도가 너무 좋아서 보고 싶다.', '정우성은 정말 제대로 된 배우이다.공감능력이 우수하고, 우리사회에 대한 책임감과 인간에 대한 사랑과 봉사정신이 남다른 배우지요', '영화는 허구다 라는 상식을 깨줘라 좀!~그렇게 쉽게 남북을 오갈수 있다는건 영화만 가능한 거 맞지요..', '영화를 왜 이렇게 만드는지 모르겠네요 정우성은 정치 멘트 날리지말고 연기에 집중하세요', '정치색이 너무나 짙은 영화. 보는 내내 실소가 나왔다', '근거 없는 반일로 정신승리하는 영화로 개돼지들 지갑털어먹으려는 속이 뻔히 보이는 영화', '미국대통령은 건들지 말았어야 했는데 손발이 오그라드네 그거만 빼면 진짜 잘만든건데', '반드시 핵이 해결되고 한반도에 평화가....', '믿고거르는 정우성', '아픈 역사는 결국 우리 손으로', '', '정신병걸릴거같애 정신병걸릴거같애정신병걸릴거같애 정신병걸릴거같애 정신병걸릴거같애 정신병걸릴거같애 정신병걸릴거같애 정신병걸릴거같애 정신병걸릴거같애 정신병걸릴거같애 정신병걸릴거같애 정신병걸릴거같애 정신병걸릴거같애 정신병걸릴거같애 정신병걸릴거같애 정신병걸릴거같애 정신병걸릴거같애 정신병걸릴거같애 정신병걸릴거같애 정신병걸릴거같애 정신병걸릴거같애 정신병걸릴거같애 정신병걸릴거같애 정신병걸릴거같애 정신병걸릴거같애 정신병걸릴거같애 정신병걸릴거같애 정신병걸릴거같애정신병걸릴거같애 정신병걸릴거같애정신병걸릴거같애 정신병걸릴거같애 정신병걸릴거같애 정신병걸릴거같애정신병걸릴거같애 정신병걸릴거같애정신병걸릴거같애 정신병걸릴거같애정신병걸릴거같애 정신병걸릴거같애정신병걸릴거같애 정신병걸릴거같애정신병걸릴거같애 정신병걸릴거같애정신병걸릴거같애 정신병걸릴거같애정신병걸릴거같애 정신병걸릴', '', '', '기대가 안됨연기력도 안됨', '네이버 네티즌 평점에 친일파 일베들 부들부들하면서 평점 테러 중 ㅋㅋ재밌게 잘 봤습니다', '', '개봉하기를 고대하고 있습니다!', '오랫만에 영화관람 대만족 넘 재밌게 봤어요', '한반도의 현실을 재미있게 잘풀어낸 영화', '강대국 사이에서 피터지는 한반도의 현실...결말로 한번도 미래의 비젼을 제시해주길 바람니다.', '빨리보고싶어요', '빨리보고싶어요♡♡♡', '박진감 넘쳐서 재밌겠네요', '재미있어요~~^^', '스릴있고잼있네요다시보고싶어요전쟁이없는나라에서살고싶네요아직은좀불안하죠', '빨리 통일되고 핵도 가져야할텐데~~~', '현실적인 내용이며 언제든지 전개될수 있을거로 생각합니다 꼭 보러갈 것입니다 기대합니다', '정말 잘 봤습니다. 배우들 연기력 좋고 잠수함 전투 장면 압권입니다.', '너무좋아', '노무현도 울고간 영화 흔들어라이기얏', '기대됩니다', '보고 싶어요', '빨리보고싶어요', '오늘 예매했어요. 기대됩니당', '제일 기대되는 영화ㅠㅠㅠ 얼른보고시퍼요ㅠㅠ', '기대가됩니다 정우성과 곽도원이라', '기대되네요', '기대됩니다  꼭봐야겠습니다 핵잠수함에서 발사된 어뢰의 항방 스릴이넘치는군요 1편보다 더 재미있을것같아요', '기대됩니다', '지금 조용히 진행되는 강대국들의 속내가 드러납니다... 재탕 출연진 배역은 살짝 아쉽습니다... 하지만 그 만큼 잘 표현하려면 이해가 가기도합니다...', '주변 강대국의 이해 관계가 노골적으로 드러나네요... 기대합니다...', '한국 북한 미국 일본 중국 까지불곰국 빼곤 다 나오는 스케일정도면  7점정도', '기대됩니다', '혐일이 없으면 영화를 못만들어요.', '기대되네요', '아주 기대하고 기다리고 있는 영화입니다 정우성배우는 제가 제일 좋아하는 배우라 믿고보며 곽도원 배우도 연기력 짱인 배우라 정말 기대돼요..', '간만에 기대 되는 작품이네요', '한국영화  화이팅!코로나아웃!', '관심있는..그리고 학수고대하는 ...그러한 내용이라서기대됩니다', '강철비 1편 봤었는데 재미있었어요 2편도 상당히 재밌을것 같아요 기대됩니다', '볼만하겠어요', '예고편만 봐도 엄청난 스케일이란걸 알수있군요 정말 기대됩니다.', '일반인‥인 우리가 모르는 ‥뉴스에도 안나오는 이런일이‥ 정말 있을수도있을꺼라는‥', '일단 예고편은 우리나라가 가지고 있는 위협 가능성을 보여주는것 같아 너무 기대됩니다..', '예고편 보고 이미 감이 옴... 예고 마지막 정우성이 \"대한민국 대통령.. 한경재입니다\" 하고 끝나는데 뿜었음 ㅋ', '흥미 뿜뿜', '나오자마자 예약해야겠네요', '', '예고편만 봐서는 전작보다는 못하다라는 느낌이 드네요 그래서 일단 5점 드립니다', '어떤 결론이 날까 넘넘 궁금하네요~', '간절하게 바라면 이루어 질라나요?평화도 군사력이 따르지 않는다면 모두가 헛 구호지요 하지만 국가 지도자 각각의 능력에 따라 국민은 그저 울기도 웃기도 하지요,때문에 결과에 이르는 과정 중에 사심이 들어가면 매우 불행해 지지요 대다수의 국민들이요.국민들을 위한 우리의 대통령 자못 기다려 집니다.', '눈을 뗄 수 없는 긴장감과 속도감이 느껴지네요. 연기력 출중한 배우들의 조합도 기대됩니다.', '미친.... 스틸보니 유연석이 김정은역할인거같은데담배꼬나물고있고 대한민국대통령(정우성)이 쩔쩔매는거꼬라지...현실반영인지모르겠는데 보고싶지않은영화시국도 뒤숭숭한데 무슨생각으로 찍은거지?', '박진감과 스릴넘쳐 엄청 기대 됩니다..', '박진감이  넘치는  재미난 작품이에요.기대되네요', '전편보다 더 박진감이 넘친다는 느낌적인 느낌입니다기대됩니다', '스릴있고 흥미진진한 작풍 이네요 재밌네요', '기대되는 영화입니다.', '유연석~~~~완전 기대되는 영화입니다~', '기대되네요.', '흥미진진~~ 여름를 영화관에서 시원하게 보낼수있게 만든 작품 같네요 완전 기대됩니다~~화이팅', '1편보다 잼잇겟다', '기대합니다', '기대할께용!', '기대됩니다', '기대됩니다~^^', '기대됩니다', '기대합니다,,♡♡', '기대합니다', '기대되네요 왠지 정우성혼자 애쓰는  모습같아 짠하네', '독도는 우리땅우리것은 우리가지켜야죽는놈만억울해자주국방', '기대할게요', '넘넘 기대됩니다~한국영화 힘내세요!!', '기대됩니다', '둘이 역할이 바뀐게 포인트네!', '간만에 스릴 넘치는, 21세기 전쟁 영화 기대됩니다', '속이뻥뚫리네 간만에 영화같은영화 보게됬슴다', '솔직히 대놓고 국뽕영화?  YTN 뉴스에서도 정우성이 나와서 현정부와 대통령의 메시지 전달 어쩌구 하던데..제발 수준높은 영화 좀 만들어라.지금이 영화관에서 대한뉴스 보던 시절이냐?', '코로나19   로    인한  스트레스를  한방에    날려주네.', '기대됩니다.정우성같은 대통령 후보 나오면 행복할듯요', '기대 되네요 , 오랫만에 극장가게 생겼네요~', '강철비1보다는  나을듯~', '기대돼네', '', '강철비1 재밌게 보았는데 2편에서에 활약 정말기대댐니다', '뒷이야기가 궁금하고 각 배우들의 연기가 넘기대가됩니다.강철비2  파이팅!', '정우성 대통령역.넘무젊다.안성기씨가 역을했으면 어땠을까싶네요.', '잠수함전이  어떻게 전개될지~~', '와우 제 스탈이네여', '협상은 거짓  약할때 협상사는거', '연기자들의 연기는 압도적인데 현실적일까?', '스릴넘치고 스케일이 커져 관심이가네요 개봉이 기다려지는 영화네요', '액션 짱 입니다.스릴이 느껴지네요.', '잠수함 액션도 볼 만하네요', '현실적이면서 비현실적인 이야기의 묘사...현재 한반도의 상황인게지요..영화는 영화로 이해해야합니다..', '', '벌써 기대된다 10일 뒤면 하네 잼있게 봤는데 이건 흥행조짐이 보인다', '요즘잼난영화개봉도없고 볼만한영화도없었는데  기대가큼니다 화이팅!!!', '강철비도 잼잇게 봣는데,강철비2도 기대 되네요~잠수함에 남북대통령이 납치 되는것도 흥미로운 소재인듯해요~', '박진감 기대되네요응원합니다~', '응원합니다', '응원합니다 ㅜㅜ 우리 우성이형님', '결과가 젤 궁금함~함 봐줘야지요~', '연기력이 기대되는ᆢ 한반도른 둘러싼 국제정세가 슬픈핵잠수함속의 긴장감 업대박을 기대합니다', '기대이상에 큰  기대감이 생기는 영화!개봉하면 가족들과 함께  꼭  보러갈  영화! 0순위...!  초대박 예감!  가자! 기본 1000만!', '기대중', '걍  심장이 쫄깃쫄깃  할것같네요  전체내용 꼭 보고싶네요', '7.7', '대단한 배우들의 열연... 기대됩니다.꼭 볼거예요.', '기대됩니다! 응원할게요^^!', '', '와  유연석  다른 모습이네요.. 기대됩니다^^응원할께요~~', '1편도 잼나게 봤는데 2탄은 인물 체인지에 좀 더 화려한 것 같네요... 굿', 'ᆞ', '너무 기대가 되는 작품이네요 ^^빨리개봉하길 기대합니다', '긴장되고 스릴  있겠네요  기대가됩니다', '1편과 다른내용 더 기대하게 되네요 정우성은 사랑입니다ㅎㅎ', '기대되는군요', '잠수함 전투신 기대해봅니다.', '기다려지네요', '1편을 너무 재미있게 본 사람으로써 너무 기대답니다. 1편에서 정우성님이 죽어 너무 아쉬웠는데 이번에 서로 다른 쪽으로 나오네요. 신기방기 ㅎㅎ 너무 기대됩니다.', '긴장되면서 스팩타클한 장르의 영화일거  같네이다', '', '1편도 가슴조리며 너무나 잼나게 봤는데, 2편은 정상회담중 발생한 쿠테타로 3국 정상이 인질이 되는 초유의 설정으로, 또다시 가슴조리고, 주먹에 땀깨나 흘리겠네요. 출연자도 빵빵하고, 설정도 리얼 하겠네요. 무조건 빨리 보는수밖에 없네요.', '제발 대한민국이 새로운도약을 했으면 좋겠습니다', '멋진 정우성 !!!!!', '중졸 정우성 그의 무식한 신념은 계속됩니다', '기대된다.', '강철비  재미있게봤는데  강철비2 도 기대가 됩니다.배우들의연기 기대해봅니다.', '재미겠네요ㅎㅎ', '기대됨니다', '구성이 짜임새 있을 것 같고, 배우들의 연기가 기대됩니다.', '우선 출연진이 맘에 들고 완전 기대되네요~~~~', '기대하고 있습니다~강철비1을 너무 잼있게 봐서요~~', '기대되네요', '', '기대됩니다주인공 넘 멋져요♡~~', '기대기대', '우와 정말 기대되네요', '정말 기대됩니다', '기대됩니다', '넘 넘  기대돼요~두근두근', '', '기대반.흥미반 입니다.스펙타클하게 전개이루어지길바랍니다.', '기대하게만드네요', '기대 됩니다', '손에 땀을 쥐게 하네요~~~', '코미디도 나오고 재미있겠네요', '역시 곽도원 배우님 연기는 갈수록 소름끼치는거 같네요쵝오', '정우성 배우는 당연히 믿고 보는 배우이고곽도윈 배우와 유연석 배우의 연기가 정말장난이 아닌거 같군요기대가 되는군요', '볼만하겠군요', '몰입도 최강이네요.개봉하면 꼭 챙겨봐야겠어요^^', '역겨운 정권빨이 영화', '문재앙과 김정은? 믿고 걸러요', '', '딱히 뭐 정치적이진 않은것같음 한국인으로서 할수있는 정도의 국뽕ㅋㅋㅋ ?.. 생각이 그쪽으로 쏠려있으니 그런듯.. 초반부엔 설명하는 부분이라 지루한감있음 중후반부엔 존잼', '의문의 일패 일본', '쓰레기', '강철비2', '곽도원 믿고 가서 봐야지....', '나랑 같은 ㄷㅅ이 발악 평점하는 거보니 꼭 보러 가야겠군', '코로나 시국에도 정부에서 미친 홍보하는 영화인 거 보면 전형적인 북한 손잡고 노는 전형적인 좌파쓰레기 영화일듯~', '너무 재미있었어요. 여러번 보고 싶을 정도로', '난  engagement 에서 뿜었다..정말 괜찮은 영화.. 초반 전개의 개연성이 부족하지만 영화니깐..중 후반부 부터 정말 몰입하며 봤고, 배우들 연기 엉청났고.. 깔끔한 영화..감독은 정말 천재인듯..', '', '꼭 보러 가자~~~~~~~~~~~~~~', '재미남~왜구충들은 보면 잠못자니 비추~', '개봉 전부터 벌레들이 평점테를 하는 걸 보니, 좋은 영화라는 걸 알겠다.영화 변호인 때도 그렇게들 발악을 해댔었지.', '한반도를 둘려싼  극적 긴장감을 만드는 영화!! 제대로 된 액션 영화!!!', '', '일베 태극기 미통닭 토착왜구들 평점테러 설쳐대는 꼴에 더는 참을 수가 없어서 한마디. ㅋ', '올 여름을 시원하게 보내게 해줄 코미디', '뇌무현=개정ㅇㄹ. 삶은소대갈=돼지정으이.', '꿀잼', '기대됩니다. 대박 나시길 바랍니다.', '기대되네요', '전작에 배우들이 그대로 나오는데 이름도 역할도 싹 바뀐 전혀 다른 인물인 경우가 영화 역사에 있었나??? 설정이 이상함 그리고 유연석 연기는 못봐주겠음 ㅋㅋ', '', '보고시프다.', '황당무개', '난 아직도 우리나라에서친일과 토왜라는 단어가 나오는게 신기하다..일반적인 시각에서 보면 어떤 부분이 잘못되었는지 잘보이는데..사회가 양극화를 부추기는 면들이 많아보여 안타깝다..정치, 언론, 경제 등등국민들이 이런것들을 잘 살피고 우매하게 속지 말아야할텐데..', '', '꿀잼일듯', '', '평점테러방지', '평점 테러 방지....극장에서 만나요', '', '북한이 그리 좋으면 북한을 가라', '난 아직도 우리나라에서종북과 좌빨이라는 단어가 나오는게 신기하다..일반적인 시각에서 보면 어떤 부분이 잘못되었는지 잘보이는데..사회가 양극화를 부추기는 면들이 많아보여 안타깝다..정치, 언론, 경제 등등국민들이 이런것들을 잘 살피고 속지 말아야할텐데..', '토왜 쓰레기들아 나대지말고 조용히 꺼져줄래?', '북한불지르려고염장질하냐좌빨영화', '원보다 나을듯한 전개가 기대 된다.', '이게 평점 테러할 수준이냐? 예고편만 봐도 잼있어 보이네', '기대합니다.', '현실은 녹록치 않지만 희망을 담아서', '', '3배우 연기 너무 잘했음  가볍게 보기를 추천드림', '', '아직 개봉도 안했는데 왜들 이리 난리지, 어차피 결과는 뻔한데', '이 시국에 종북 쓰레기 영화굴종적인 정부에 알맞긴 하네', '', '', '0점 테러 방지용', '박** **', '박** **', '지금 준 점수는 기대점수지만 전작 1 재밌게 봤고요좋아하는 출연진들이라 기대가 많이 됩니다.파이팅!', '북한에 적당히 구걸해라쓰레기들아연락사무소 폭파 기념 영화냐', '지금 개봉하는게 이치에 맞는지 묻고싶다', '도박이다....크게 성공하거나 크게 실패하거나...일단 강철비1편에 나온 배우들을 그대로 썼는데....위치를 바꿨고 배역도 다르게 했다..이는 1편에 익숙해진 상황에서 2편의 완전 달라진 배역에 사람들이 적응이 되지 않을 수 있다.더욱이 대통령이 너무 젊다....암튼 좀 걱정된다...', '예고보면서 전율이 이는 영화는 간만에보는듯 ㄷㄷㄷ부디 대박흥행하시길 바래여~~', '최고겟지요!!!', '기대되는영화', '토착왜구 종일세력 및 일본 야동 중독자 일베들 부들부들하겠네...', '별도 아까운 영화', '연기학원이라도 다니세요.', '쓰레기같은 종북영화.............', '기대.', '잘 봤어요 ~~ 굳 무비', '이거 왜,,,1편에서 남,북 배역을 왜 바꾼거지;;;;', '', '유연석, 정우성 배드 캐스팅.....', '', '', '보고싶어요 개봉 기다려지네요', '', '꼭 보고 싶네요', '꼭 보겠습니다~!!', '', '정우성이 대통령... 영화보는 내내 너무 몰입해서 행복하게 봤네요. 날씨때문에 우울했는데 영화보고 넘 가슴이 먹먹하고 즐거웠습니다. 영화만들어주신 관계자 모두들 감사합니다.', '잘모르겠습니다', '', '', '현재 국제 정세와 비교되네요.ㅠ.ㅠ', '웹툰은 흥미진진한데요. 영화는 어떨지 기대되네요.^^', '이런 조까는 영화는 0점도 아깝지..', '포토 15장중 11번째사진 ,,, 태극기 태극무늬가 잘못 제작된것 같음.  첫번째 사진의 태극기는 바르게 되어 있는데,,, 11번재 사진의 태극기는 태극무늬가 반대로 그려져 있음,,,,인쇄한 태극기라면 반대쪽은 그렇게 보일수 있으나, 저 태극기는 양면을 따로 작업해서 붙이기 때문에 뒤집혀 보일수가 없는데,,', '기대된다', '기대작', '벌써 기대만땅', '정우성이 대통령이라니 없던 국뽕도 생길듯ㅋㅋ', '토악질 난다', '빈대 버러지 토왜 껏들이 별점테러 하는것보니 좋은 영화구만 기래! 꼭 관람하깃다 이기야!', '네오콘, 일루미나티가 싫어할영화 ,   일베들의 평점테러 영화,  그렇기 때문에  꼭 봐야할영화', '좌파 선동 영화는 더 이상 보지 마세요', '역겹다 정말 진짜', '상영 금지해야합니다', '영화에서 현실 안따지는 건극좌 알바들 농간재미있네', '영화 두 번 보았다...관객에게 주는 영화 주제와 메세지도 이해될 수 있었고 과장되거나 왜곡된 느낌 없는 잠수함 전투씬은 일품이다..영화 페트리어트 긴급명령과 크림슨타이드에서의 주요 요소가 한반도 현실에 잘 벤치마킹되어 다룬 듯 하다..', '', '비정상적 비현실적이상한의도의 영화', '기대합니다^^', '내가 이거 봐야하니깐 얘들 꼬셔야겠다', '정우성씨 본투킬때부터 팬입니다. 화이팅!!!', '주연 교체 대단합니다. 반전에 반전 흥미 진지 기대합니다. 화이팅~ 핵으로 코로나도 날려버려~!', '기대만땅~', '영화관에서 볼 낍니더', '빨갱이', '영화를 보고도 친북친북  거리냐 ㅋㅋㅋㅋ 북한이 그만큼 불안한 정권이라고 까는데도 친북거려 ㅋㅋㅋㅋ 게다가 친중도 아니지 이 영화는 지극히 친미영화 아니냐 영화 다시보고 댓글싸라', '흥하길 바랍니다.', '일벌레들과 왜구들이 ㅂㄷㅂㄷ 하는것 보니 잼밌같구나 야~!', '이번엔 곽도원이 인민군이야?ㅋㅋㅋㅋㅋㅋ', '기대 됩니다.', '1편 주인공들의 국가가 바뀌었네이 뻔한걸 왜봐? 했는데봐야할 이유가 너무 많은것 같다개봉일이 기다려짐대한민국 1등 악역 곽도원', '감독님 딱 보니 보나마나 탄탄한 작품이겠을..이 감독님 실력이나 박식함,인품..이 장난아닌분.', '오늘 예고편 봤다 극장에서 보러 가야지 역시 정우성', '강철비 1이랑은 전혀 다른내용의 웹툰원작이지만;; 강철비1 배우들이 또 출연한다는것은 많이 별로임;; 강철비1 배역이랑 너무 겹쳐보임', '무슨 반일선동 영화니 뭐니 하는 소리하는데 아무리 역사에 무지하고 일본야동 좋아하더라도 이번에 볼턴 회고록에서 터진 내용만 보더라도 이건 현실이다.  그 무식한 입들 다물어라. 일본은 제2 남북전쟁을,  6.25전쟁 때의 호황으로 다시 일제 때의 전성기를 바란다. 북한도 적이지만 더 큰 공동의 적이 누군지 생각좀 해라.', '주연 같은건 환영.하지만 전혀 다른 등장 인물로 재등장.어떻게보면 새로울 수 있지만 전편을 재미있게 봤던 관객은 설정의 괴리를 느낄 수 있는 리스크가 있네요.강철비2 라는 제목에 예고편 보면서 주연이 누군가 기대하고 정우성 곽도원 유연석 보고 오~  했다가 전혀 다른 배역에 뭐지? 하는 뻥짐이 있었습니다. 과연 어떻게 배역들을 소화하고 스토리를 풀어낼지 걱정반 기대반 입니다.배역 설정 아쉬움에 -3점과 그래도 기대한다에 7점.', '평화를 사랑해야 할 이유', '아직 못 봤지만... 1편은 정우성은 북 곽도원은 남 이였는데 바뀐 설정?? 와우~', '.', '전작도 재미있게 봤는데 정우성  & 곽도원 케미가 기대됨. 빨리 개봉해서 영화관에 갔음 좋겠다.', '진영에 상관없이 한반도 국제정세와 이슈, 분단에 관심없는 요즘 아이들에게 어려운 이야기를 쉽게 들려주는 영화, 배우들 연기와 잠수함 액션도 굿!! 강력 추천!', '개인적으로 강철비1이 주는 감동과 재미에는 미치지 못했습니다 그래도 괜찮았어요.', '', '강철비2=타이타닉2', '강철비2?ㅋㅋㅋㅋㅋ이하 1에서는 정우성이 북한군과도원은 한국 국정원 이었잔아요근데 투에서는 어떻게 이둘의 나라가 바뀌었나요 그리고 정우성은 1에서 죽었는데??????이거 강철비2라면서요???초딩도 안볼것같네요ㅋㅋㅋㅋㅋ', '', '기가 막혀서 말이 안나오는 영화. 대통령투자받았나?김정은우상화 영화. 김정은에게 바칠 영화', '', '유연석이 북한 국가 원수로 나오더만 그럼 김정은인데?! 김정은이 유연석이라고?!ㅋㅋㅋㅋ 북한을 빨아대도 정도껏 빨아야지', '', '솔직히 이럴꺼면 그냥 다른 제목으로 개봉하지강철비2라고하니까같은 배우에 전혀 설정이 틀린 배역으로 몰입감 완전 떨어짐남한사람이 북한사람되고 북한사람이 남한사람되고;;', '재미있어요', '믿고 보는 정우성, 곽도원 작품! 개봉하면 극장으로 달려감ㅋ', '기대됩니다.', '와 정우성 곽도원 유연석이라니..!!!', '와 유연석 대박이다,, 1편도 재밌었는데 2편도 완전 기대됨', '개 기대중', '연기 잘하는 배우 총출동이네 ㅎㄷㄷ', '완전 기대중ㅠㅠㅠ 현기증 나니까 빨리 개봉ㄲ~', '기대하는데는 이유가 있따!ㅠㅠ 비쥬얼 최강,,,', '예고편 봤는데 완전 기대중 ㅠㅠ 무조건 본다', '배우만 봐도 봐야한다ㅋ예고편보고 완전 기대중', '기대된다 남북 바뀐거 같아서 흥미롭고', '와씨 드디어 ㅜ !!!!! 완전 기대', '오 2편도 존잼각 1편도 재밌었는데 ㅋㅋ 비주얼만 봐도 미쳤네..', '예고편만 봤는데 벌써 기대되자나여..... 심장쫄깃 미쵸따', '아니, 1편에서는 정우성이 빨갱으로 나와서 마지막에 죽는데, 2편에서는 남한 대통령이라고?? 그리고 곽도원이 이번에는 북한???? 이거 뭐 배역설정이 이래 ㅋㅋㅋㅋㅋㅋㅋ', '오 재밌을거같다 ㅋㅋ 1편도 진자 재밌음', '아따 기대가됩니다', '넘 기대 되어요~1편도 재미있었는데  빨리 개봉일이  왔으면 좋겠어요', '남과북이 갈등하늕지금 현 시점에서정말기대되는 영화임', '정말 기대된다.1편 좋았다', '스케일도 크고 주인공 역할이 예상외라 새롭네요', '아니 그냥 주인공들 1편에서부터 쭈욱 이어가지...', '시사회에서 봤는데 강철비2 진짜 재미있습니다. 특히 30분 이후부터 등장하는 잠수함과 액션은 눈깜짝할 사이에 영화가 끝날 정도로 박진감, 스릴감 짱...그리고 유연석 넘버원 !!!! 북위원장 캐릭터입니다', '유연석이 김정은역할이라니.... 도랏 ㅋㅋㅋㅋㅋ', 'ㅋㅋㅋㄱ안본눈삽니다', 'ㄷㄲㅁ들을 위한 정신적 포르노 영화', 'ㄱㄷㅇㄹ', '기대하고 있을께요', '강철비때처럼 먹방 장면은 기대해 봅니다^^', '간만에 영화 잼있게 봤네요.', '유연석 생각보다 엄청 잘 어울릴듯.. 코로나 언넝 잠잠해져서 보고싶다아ㅏㅏ', '현우야 좀 끄지라', '유연석이 북위원장을 한다니...우와 이미 대박!!', '', '기대됩니다!', '나오지도않아는데평정테러ㄴ', '굉장히 기대중. 새로운 남북관계를 맞는 이번에는 또 어떤 영화가 나올까?', '와... 정말 이런 영화가 나오는군...시뻘건 영화.....', '기대됩니다.', '빨갱이 간첩신고 111']\n"
          ],
          "name": "stdout"
        }
      ]
    },
    {
      "cell_type": "code",
      "metadata": {
        "id": "FIzkaG6Gt5lj",
        "colab_type": "code",
        "colab": {}
      },
      "source": [
        "# --- 가져온 내용을 파일로 저장한다.\n",
        "path = 'movie-reviews-A.txt'\n",
        "\n",
        "# 텍스트 파일을 쓰기 모드로 연다.\n",
        "# 이 때 빈 리뷰와 평점은 파일로 저장하지 않는다.\n",
        "with open(path, mode='w', encoding='utf-8') as file:\n",
        "  for i, review in enumerate(reviews):\n",
        "    file.write(grades[i] + '|')\n",
        "    file.write(review + '\\n')"
      ],
      "execution_count": 55,
      "outputs": []
    },
    {
      "cell_type": "code",
      "metadata": {
        "id": "6s76eocfppjm",
        "colab_type": "code",
        "colab": {}
      },
      "source": [
        "%pycat movie-reviews-A.txt"
      ],
      "execution_count": 57,
      "outputs": []
    },
    {
      "cell_type": "code",
      "metadata": {
        "colab_type": "code",
        "id": "_Xg2kKb8O0IT",
        "colab": {
          "base_uri": "https://localhost:8080/",
          "height": 17
        },
        "outputId": "a37465a5-e497-4654-82c4-9a512a12b6eb"
      },
      "source": [
        "# ======= For Google Colaboratory ===============================\n",
        "# --- 수집한 데이터와 전처리한 데이터를 로컬 파일로 내려받기를 한다.\n",
        "from google.colab import files\n",
        "files.download(path)"
      ],
      "execution_count": 56,
      "outputs": [
        {
          "output_type": "display_data",
          "data": {
            "application/javascript": [
              "\n",
              "    async function download(id, filename, size) {\n",
              "      if (!google.colab.kernel.accessAllowed) {\n",
              "        return;\n",
              "      }\n",
              "      const div = document.createElement('div');\n",
              "      const label = document.createElement('label');\n",
              "      label.textContent = `Downloading \"${filename}\": `;\n",
              "      div.appendChild(label);\n",
              "      const progress = document.createElement('progress');\n",
              "      progress.max = size;\n",
              "      div.appendChild(progress);\n",
              "      document.body.appendChild(div);\n",
              "\n",
              "      const buffers = [];\n",
              "      let downloaded = 0;\n",
              "\n",
              "      const channel = await google.colab.kernel.comms.open(id);\n",
              "      // Send a message to notify the kernel that we're ready.\n",
              "      channel.send({})\n",
              "\n",
              "      for await (const message of channel.messages) {\n",
              "        // Send a message to notify the kernel that we're ready.\n",
              "        channel.send({})\n",
              "        if (message.buffers) {\n",
              "          for (const buffer of message.buffers) {\n",
              "            buffers.push(buffer);\n",
              "            downloaded += buffer.byteLength;\n",
              "            progress.value = downloaded;\n",
              "          }\n",
              "        }\n",
              "      }\n",
              "      const blob = new Blob(buffers, {type: 'application/binary'});\n",
              "      const a = document.createElement('a');\n",
              "      a.href = window.URL.createObjectURL(blob);\n",
              "      a.download = filename;\n",
              "      div.appendChild(a);\n",
              "      a.click();\n",
              "      div.remove();\n",
              "    }\n",
              "  "
            ],
            "text/plain": [
              "<IPython.core.display.Javascript object>"
            ]
          },
          "metadata": {
            "tags": []
          }
        },
        {
          "output_type": "display_data",
          "data": {
            "application/javascript": [
              "download(\"download_2b0c5998-7076-4bfb-a2b5-24a49a6c482b\", \"movie-reviews-A.txt\", 275865)"
            ],
            "text/plain": [
              "<IPython.core.display.Javascript object>"
            ]
          },
          "metadata": {
            "tags": []
          }
        }
      ]
    },
    {
      "cell_type": "markdown",
      "metadata": {
        "id": "DZbP1gVfO0IV",
        "colab_type": "text"
      },
      "source": [
        "---\n",
        "# <font color='red'>THE END</font>"
      ]
    }
  ]
}