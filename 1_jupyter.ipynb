{
  "nbformat": 4,
  "nbformat_minor": 0,
  "metadata": {
    "hide_input": false,
    "kernelspec": {
      "display_name": "Python 3",
      "language": "python",
      "name": "python3"
    },
    "language_info": {
      "codemirror_mode": {
        "name": "ipython",
        "version": 3
      },
      "file_extension": ".py",
      "mimetype": "text/x-python",
      "name": "python",
      "nbconvert_exporter": "python",
      "pygments_lexer": "ipython3",
      "version": "3.8.3"
    },
    "toc": {
      "base_numbering": 1,
      "nav_menu": {},
      "number_sections": false,
      "sideBar": true,
      "skip_h1_title": false,
      "title_cell": "Table of Contents",
      "title_sidebar": "Contents",
      "toc_cell": true,
      "toc_position": {},
      "toc_section_display": true,
      "toc_window_display": false
    },
    "varInspector": {
      "cols": {
        "lenName": 16,
        "lenType": 16,
        "lenVar": 40
      },
      "kernels_config": {
        "python": {
          "delete_cmd_postfix": "",
          "delete_cmd_prefix": "del ",
          "library": "var_list.py",
          "varRefreshCmd": "print(var_dic_list())"
        },
        "r": {
          "delete_cmd_postfix": ") ",
          "delete_cmd_prefix": "rm(",
          "library": "var_list.r",
          "varRefreshCmd": "cat(var_dic_list()) "
        }
      },
      "types_to_exclude": [
        "module",
        "function",
        "builtin_function_or_method",
        "instance",
        "_Feature"
      ],
      "window_display": false
    },
    "colab": {
      "name": "1.jupyter",
      "provenance": [],
      "collapsed_sections": [],
      "toc_visible": true
    }
  },
  "cells": [
    {
      "cell_type": "markdown",
      "metadata": {
        "id": "NkF2ya41X59B",
        "colab_type": "text"
      },
      "source": [
        "- - -\n",
        "\n",
        "<font size=6 color='royalblue'>쥬피터 노트북/쥬피터랩</font>\n",
        "\n",
        "<font size=5 color='forestgreen'>Jupytyer Notebook/JupyterLab</font>\n",
        "\n",
        "* * *\n",
        "\n",
        "<font size=4>**박 진 수**</font> 교수  \n",
        "Intelligent Data Semantics Lab  \n",
        "Seoul National University\n",
        "\n",
        "- - -"
      ]
    },
    {
      "cell_type": "markdown",
      "metadata": {
        "id": "-l29FjOTSNSP",
        "colab_type": "toc"
      },
      "source": [
        ">[Managing Jupyter Notebook Cell](#scrollTo=d08CtG_SX59D)\n",
        "\n",
        ">[Some Useful IPython Magic Commands](#scrollTo=UNPH5g3ZqoXv)\n",
        "\n",
        ">>[Assistants](#scrollTo=5YRDNVxBX59c)\n",
        "\n",
        ">>>[%ismagic](#scrollTo=396vrldpX59d)\n",
        "\n",
        ">>>[?](#scrollTo=urp1Ii3-X59i)\n",
        "\n",
        ">>>[??](#scrollTo=hj1uNQBuX59x)\n",
        "\n",
        ">>>[%env : 환경 변수 설정](#scrollTo=RwcuFKYiX597)\n",
        "\n",
        ">>>[%who : 전역 변수 보기](#scrollTo=IBzny3CRX5-J)\n",
        "\n",
        ">>>[%who_ls : 전역 변수 리스트로 보기](#scrollTo=A0NUwuDuX5-O)\n",
        "\n",
        ">>>[%whos : 전역 변수 상세 정보 보기](#scrollTo=UeiIrc22suES)\n",
        "\n",
        ">>>[고화질 Retina](#scrollTo=YVqwkBTRX5-a)\n",
        "\n",
        ">>[Writing, Excuting, Loading Files](#scrollTo=OkZ6yyei4HxB)\n",
        "\n",
        ">>>[%%writefile : 셀의 내용을 파일로 저장](#scrollTo=EFZU9wOoX5-i)\n",
        "\n",
        ">>>[%run : 파이썬 코드 실행](#scrollTo=KdRXXDtZX5-m)\n",
        "\n",
        ">>>[! : 셸 명령어 실행](#scrollTo=v2P1MBbIX5-r)\n",
        "\n",
        ">>>[%load : 외부 코드 삽입](#scrollTo=afJKt4AUX5--)\n",
        "\n",
        ">>>[%pycat : 외부 코드 보기](#scrollTo=Q3qVYxTPX5_A)\n",
        "\n",
        ">>>[%store : Jupyter Notebook 간에 변수 주고 받기](#scrollTo=rw8kTv5dX5_C)\n",
        "\n",
        ">>[Performance](#scrollTo=_XlmfKERX5_M)\n",
        "\n",
        ">>>[%time, %%time, %timeit, %%timeit : 코드 실행 시간](#scrollTo=xyG6_srlX5_O)\n",
        "\n",
        ">[pickle : 변수에 담긴 내용을 파일로 저장하기](#scrollTo=sWiIPnpk6yzR)\n",
        "\n",
        ">[THE END](#scrollTo=Dqwoa3HrX5_l)\n",
        "\n"
      ]
    },
    {
      "cell_type": "markdown",
      "metadata": {
        "id": "d08CtG_SX59D",
        "colab_type": "text"
      },
      "source": [
        "# Managing Jupyter Notebook Cell"
      ]
    },
    {
      "cell_type": "markdown",
      "metadata": {
        "colab_type": "text",
        "id": "gC-QwXdpoTsZ"
      },
      "source": [
        "Jupyter Notebook을 이용하면 파이썬 프로그래밍을 조금 더 편하게 할 수 있다.\n",
        "\n",
        "프로그램을 매번 새로 실행하지 않고 코드를 관리할 수 있다."
      ]
    },
    {
      "cell_type": "markdown",
      "metadata": {
        "colab_type": "text",
        "id": "fWVM1LCDphDK"
      },
      "source": [
        "**셀(cell)**은 \n",
        "1. 코드를 입력할 수 있는 부분과  \n",
        "2. 코드의 실행 결과를 나타내는 출력 창으로 구성된다."
      ]
    },
    {
      "cell_type": "code",
      "metadata": {
        "colab_type": "code",
        "id": "1wxoa31lnccY",
        "colab": {}
      },
      "source": [
        "print('Hello, Python!')"
      ],
      "execution_count": null,
      "outputs": []
    },
    {
      "cell_type": "markdown",
      "metadata": {
        "colab_type": "text",
        "id": "N4X0cZBMX59I"
      },
      "source": [
        "**셀(cell)**은 \n",
        "1. 코드를 입력할 수 있는 부분과  \n",
        "2. 코드의 실행 결과를 나타내는 출력 창으로 구성된다."
      ]
    },
    {
      "cell_type": "code",
      "metadata": {
        "colab_type": "code",
        "id": "VKwn2zWxp8OF",
        "colab": {}
      },
      "source": [
        "# 화면에 표시할 출력 결과가 없는 코드도 있다.\n",
        "k = 1  "
      ],
      "execution_count": null,
      "outputs": []
    },
    {
      "cell_type": "markdown",
      "metadata": {
        "colab_type": "text",
        "id": "_u41GqXbX59K"
      },
      "source": [
        "**셀(cell)**은 \n",
        "1. 코드를 입력할 수 있는 부분과  \n",
        "2. 코드의 실행 결과를 나타내는 출력 창으로 구성된다."
      ]
    },
    {
      "cell_type": "markdown",
      "metadata": {
        "colab_type": "text",
        "id": "ZoxSbXHHoj9h"
      },
      "source": [
        "코드의 실행은 \n",
        "- **셀(cell)** 단위로 일어나지만, \n",
        "\n",
        "실행 환경은 \n",
        "- **문서** 단위에서 공유된다."
      ]
    },
    {
      "cell_type": "code",
      "metadata": {
        "colab_type": "code",
        "id": "1Mi8t4psqG0J",
        "colab": {}
      },
      "source": [
        "k += 2"
      ],
      "execution_count": null,
      "outputs": []
    },
    {
      "cell_type": "code",
      "metadata": {
        "id": "WBWx5wUjX59T",
        "colab_type": "code",
        "colab": {}
      },
      "source": [
        "print(k)"
      ],
      "execution_count": null,
      "outputs": []
    },
    {
      "cell_type": "code",
      "metadata": {
        "colab_type": "code",
        "id": "BjhyCVKNqM2e",
        "colab": {}
      },
      "source": [
        "k?"
      ],
      "execution_count": null,
      "outputs": []
    },
    {
      "cell_type": "markdown",
      "metadata": {
        "colab_type": "text",
        "id": "OLep4q5coFVk"
      },
      "source": [
        "따라서 Jupyter Notebook을 이용해 파이썬 코드를 작성할 때는 **셀(cell)**을 잘 관리하여야 한다."
      ]
    },
    {
      "cell_type": "markdown",
      "metadata": {
        "colab_type": "text",
        "id": "UNPH5g3ZqoXv"
      },
      "source": [
        "---\n",
        "# Some Useful IPython Magic Commands"
      ]
    },
    {
      "cell_type": "markdown",
      "metadata": {
        "id": "5YRDNVxBX59c",
        "colab_type": "text"
      },
      "source": [
        "## Assistants"
      ]
    },
    {
      "cell_type": "markdown",
      "metadata": {
        "id": "396vrldpX59d",
        "colab_type": "text"
      },
      "source": [
        "### %ismagic\n",
        "\n",
        "**%ismagic**은 사용 가능한 모든 매직 명령어를 보여준다."
      ]
    },
    {
      "cell_type": "code",
      "metadata": {
        "id": "GWR1lPCDX59e",
        "colab_type": "code",
        "colab": {}
      },
      "source": [
        "%lsmagic"
      ],
      "execution_count": null,
      "outputs": []
    },
    {
      "cell_type": "markdown",
      "metadata": {
        "id": "urp1Ii3-X59i",
        "colab_type": "text"
      },
      "source": [
        "### ?\n",
        "\n",
        "각 명령어 뒤에 물음표 **?**를 붙여 실행하면 추가 정보를 확인할 수 있다."
      ]
    },
    {
      "cell_type": "code",
      "metadata": {
        "id": "KyeOcLOLX59j",
        "colab_type": "code",
        "colab": {}
      },
      "source": [
        "%lsmagic?"
      ],
      "execution_count": null,
      "outputs": []
    },
    {
      "cell_type": "code",
      "metadata": {
        "colab_type": "code",
        "id": "MAGQ_4JVqfHa",
        "colab": {}
      },
      "source": [
        "print?"
      ],
      "execution_count": null,
      "outputs": []
    },
    {
      "cell_type": "code",
      "metadata": {
        "id": "_KS7XPspX59q",
        "colab_type": "code",
        "colab": {}
      },
      "source": [
        "s = 'a'\n",
        "s?"
      ],
      "execution_count": null,
      "outputs": []
    },
    {
      "cell_type": "code",
      "metadata": {
        "id": "w4hgAKIQX59t",
        "colab_type": "code",
        "colab": {}
      },
      "source": [
        "# 명칭공간(namespace)을 검색할 수도 있다.\n",
        "import random\n",
        "random.*rand*?"
      ],
      "execution_count": null,
      "outputs": []
    },
    {
      "cell_type": "markdown",
      "metadata": {
        "id": "hj1uNQBuX59x",
        "colab_type": "text"
      },
      "source": [
        "### ??\n",
        "\n",
        "**??**를 사용하면 가능한 경우에 함수나 클래스 등의 소스 코드도 보여준다."
      ]
    },
    {
      "cell_type": "code",
      "metadata": {
        "colab_type": "code",
        "id": "xAaZu43-X59x",
        "colab": {}
      },
      "source": [
        "def myfunction(x, y):\n",
        "    \"\"\"Add two numbers and returns the sume of the two numbers.\n",
        "  \n",
        "    Args:\n",
        "        x (int): the first number\n",
        "        y (int): the second number\n",
        "        \n",
        "    Returns:\n",
        "        int: sum of x and y\n",
        "    \"\"\"\n",
        "    return x + y"
      ],
      "execution_count": null,
      "outputs": []
    },
    {
      "cell_type": "code",
      "metadata": {
        "colab_type": "code",
        "id": "W2LiVjTOX591",
        "colab": {}
      },
      "source": [
        "myfunction?"
      ],
      "execution_count": null,
      "outputs": []
    },
    {
      "cell_type": "code",
      "metadata": {
        "colab_type": "code",
        "id": "lix8nIIxX594",
        "colab": {}
      },
      "source": [
        "myfunction??"
      ],
      "execution_count": null,
      "outputs": []
    },
    {
      "cell_type": "markdown",
      "metadata": {
        "id": "RwcuFKYiX597",
        "colab_type": "text"
      },
      "source": [
        "### %env : 환경 변수 설정\n",
        "\n",
        "**%env**\n",
        "- 환경 변수들을 보여준다."
      ]
    },
    {
      "cell_type": "markdown",
      "metadata": {
        "id": "g5zII5BDX598",
        "colab_type": "text"
      },
      "source": [
        "**%env *환경변수=값***\n",
        "- ***환경변수*** 에 값을 설정한다."
      ]
    },
    {
      "cell_type": "code",
      "metadata": {
        "id": "XuONhUfgX598",
        "colab_type": "code",
        "colab": {}
      },
      "source": [
        "%env"
      ],
      "execution_count": null,
      "outputs": []
    },
    {
      "cell_type": "markdown",
      "metadata": {
        "id": "BNmp3grdX59_",
        "colab_type": "text"
      },
      "source": [
        "**%env *환경변수=값***\n",
        "- ***환경변수*** 에 값을 설정한다."
      ]
    },
    {
      "cell_type": "code",
      "metadata": {
        "id": "KMc4gEK3X5-A",
        "colab_type": "code",
        "colab": {}
      },
      "source": [
        "%env PYTHONPATH=/Users/ontology/mypythonlib"
      ],
      "execution_count": null,
      "outputs": []
    },
    {
      "cell_type": "code",
      "metadata": {
        "id": "6qRD67W_X5-D",
        "colab_type": "code",
        "colab": {}
      },
      "source": [
        "import os\n",
        "os.environ['PYTHONPATH']"
      ],
      "execution_count": null,
      "outputs": []
    },
    {
      "cell_type": "code",
      "metadata": {
        "id": "WfQ-WbhMX5-G",
        "colab_type": "code",
        "colab": {}
      },
      "source": [
        "%env"
      ],
      "execution_count": null,
      "outputs": []
    },
    {
      "cell_type": "markdown",
      "metadata": {
        "id": "IBzny3CRX5-J",
        "colab_type": "text"
      },
      "source": [
        "### %who : 전역 변수 보기\n",
        "\n",
        "**%who**\n",
        "- 현재 메모리에 할당된 모든 전역 변수를 보여준다."
      ]
    },
    {
      "cell_type": "markdown",
      "metadata": {
        "id": "wjsmHbnLX5-K",
        "colab_type": "text"
      },
      "source": [
        "**%who *자료형***\n",
        "- 현재 메모리에 할당된 전역 변수 중 지정한 ***자료형*** 의 변수만 보여준다."
      ]
    },
    {
      "cell_type": "code",
      "metadata": {
        "id": "Ur-oOTtSX5-K",
        "colab_type": "code",
        "colab": {}
      },
      "source": [
        "x = 'a'\n",
        "y = 1\n",
        "z = 0.0\n",
        "%who"
      ],
      "execution_count": null,
      "outputs": []
    },
    {
      "cell_type": "markdown",
      "metadata": {
        "id": "g4902vesX5-N",
        "colab_type": "text"
      },
      "source": [
        "**%who *자료형***\n",
        "- 현재 메모리에 할당된 전역 변수 중 지정한 ***자료형***의 변수만 보여준다."
      ]
    },
    {
      "cell_type": "markdown",
      "metadata": {
        "id": "A0NUwuDuX5-O",
        "colab_type": "text"
      },
      "source": [
        "### %who_ls : 전역 변수 리스트로 보기"
      ]
    },
    {
      "cell_type": "markdown",
      "metadata": {
        "id": "0YFabxOdX5-O",
        "colab_type": "text"
      },
      "source": [
        "**%who_ls**\n",
        "- 현재 메모리에 할당된 모든 전역 변수를 리스트 형태로 반환한다."
      ]
    },
    {
      "cell_type": "code",
      "metadata": {
        "id": "gehciOLvX5-P",
        "colab_type": "code",
        "colab": {}
      },
      "source": [
        "%who_ls"
      ],
      "execution_count": null,
      "outputs": []
    },
    {
      "cell_type": "code",
      "metadata": {
        "id": "XZ4clO2jX5-T",
        "colab_type": "code",
        "colab": {}
      },
      "source": [
        "%who float"
      ],
      "execution_count": null,
      "outputs": []
    },
    {
      "cell_type": "markdown",
      "metadata": {
        "colab_type": "text",
        "id": "UeiIrc22suES"
      },
      "source": [
        "### %whos : 전역 변수 상세 정보 보기\n",
        "\n",
        "**%whos**는 현재 메모리에 할당된 전역 변수들의 정보를 보여준다."
      ]
    },
    {
      "cell_type": "code",
      "metadata": {
        "colab_type": "code",
        "id": "TRUeaq6gqG-n",
        "colab": {}
      },
      "source": [
        "%whos"
      ],
      "execution_count": null,
      "outputs": []
    },
    {
      "cell_type": "markdown",
      "metadata": {
        "id": "YVqwkBTRX5-a",
        "colab_type": "text"
      },
      "source": [
        "### 고화질 Retina\n",
        "\n",
        "<b><pre>%config InlineBackend.figure_format = 'retina'</pre></b>\n",
        "- Retina 스크린을 장착한 컴퓨터인 경우 위의 매직 코드를 사용해 고화질 도표를 생성할 수 있다."
      ]
    },
    {
      "cell_type": "code",
      "metadata": {
        "scrolled": true,
        "id": "t2DUza-uX5-b",
        "colab_type": "code",
        "colab": {}
      },
      "source": [
        "# %matplotlib inline\n",
        "from matplotlib import pyplot\n",
        "\n",
        "x = range(1000)\n",
        "y = [i ** 2 for i in x]\n",
        "\n",
        "pyplot.plot(x, y);\n",
        "# pyplot.show();"
      ],
      "execution_count": null,
      "outputs": []
    },
    {
      "cell_type": "code",
      "metadata": {
        "scrolled": true,
        "id": "75-Hun3mX5-e",
        "colab_type": "code",
        "colab": {}
      },
      "source": [
        "%config InlineBackend.figure_format = 'retina'\n",
        "from matplotlib import pyplot\n",
        "x = range(1000)\n",
        "y = [i ** 2 for i in x]\n",
        "\n",
        "pyplot.plot(x, y);\n",
        "# pyplot.show();"
      ],
      "execution_count": null,
      "outputs": []
    },
    {
      "cell_type": "markdown",
      "metadata": {
        "colab_type": "text",
        "id": "OkZ6yyei4HxB"
      },
      "source": [
        "## Writing, Excuting, Loading Files"
      ]
    },
    {
      "cell_type": "markdown",
      "metadata": {
        "id": "EFZU9wOoX5-i",
        "colab_type": "text"
      },
      "source": [
        "### %%writefile : 셀의 내용을 파일로 저장\n",
        "\n",
        "**%%writefile *경로***\n",
        "\n",
        "- ***경로*** 의 파일로 저장한다."
      ]
    },
    {
      "cell_type": "code",
      "metadata": {
        "id": "LAlu-FQMX5-i",
        "colab_type": "code",
        "colab": {}
      },
      "source": [
        "%%writefile hellojupyter.py\n",
        "# This file is written from Jupyter Notebook using %%writefile\n",
        "msg = 'Hello Jupyter Notebook'\n",
        "for word in msg.split():\n",
        "    print(word)"
      ],
      "execution_count": null,
      "outputs": []
    },
    {
      "cell_type": "markdown",
      "metadata": {
        "id": "KdRXXDtZX5-m",
        "colab_type": "text"
      },
      "source": [
        "### %run : 파이썬 코드 실행\n",
        "\n",
        "**%run *경로***\n",
        "\n",
        "- ***경로*** 의 파이썬 파일이나 Jupyter Notebook 파일을 실행한다.\n",
        "- Jupyter Notebook의 경우에는 모든 코드 셀을 실행하고 결과를 보여준다."
      ]
    },
    {
      "cell_type": "code",
      "metadata": {
        "colab_type": "code",
        "id": "gaSnDAdS4MfS",
        "colab": {}
      },
      "source": [
        "%run hellojupyter.py"
      ],
      "execution_count": null,
      "outputs": []
    },
    {
      "cell_type": "markdown",
      "metadata": {
        "id": "v2P1MBbIX5-r",
        "colab_type": "text"
      },
      "source": [
        "### ! : 셸 명령어 실행\n",
        "\n",
        "**!**\n",
        "\n",
        "- 셸 명령어를 Jupyter Notebook 내에서 실행할 수 있다. \n",
        "- 느낌표(**!**)를 셸 명령어 앞에 붙이고 실행하면 된다."
      ]
    },
    {
      "cell_type": "code",
      "metadata": {
        "id": "Hjr9Y_QSX5-s",
        "colab_type": "code",
        "colab": {}
      },
      "source": [
        "!ls .."
      ],
      "execution_count": null,
      "outputs": []
    },
    {
      "cell_type": "markdown",
      "metadata": {
        "id": "rx5dL9UQX5-8",
        "colab_type": "text"
      },
      "source": [
        "또는 다음과 같이 할 수도 있다."
      ]
    },
    {
      "cell_type": "code",
      "metadata": {
        "id": "7dHkyqsnX5-8",
        "colab_type": "code",
        "colab": {}
      },
      "source": [
        "files = !ls sample_data\n",
        "for file in files:\n",
        "  print(file)"
      ],
      "execution_count": null,
      "outputs": []
    },
    {
      "cell_type": "markdown",
      "metadata": {
        "id": "afJKt4AUX5--",
        "colab_type": "text"
      },
      "source": [
        "### %load : 외부 코드 삽입\n",
        "\n",
        "**%load *경로***\n",
        "\n",
        "- 현재 셀을 ***경로*** 의 파일 코드로 대체한다.\n",
        "    - ***경로*** 는 url이 될 수도 있다."
      ]
    },
    {
      "cell_type": "code",
      "metadata": {
        "id": "g7J3ztiUX5--",
        "colab_type": "code",
        "colab": {}
      },
      "source": [
        "# Colab bug: not working!\n",
        "%load hellojupyter.py"
      ],
      "execution_count": null,
      "outputs": []
    },
    {
      "cell_type": "markdown",
      "metadata": {
        "id": "Q3qVYxTPX5_A",
        "colab_type": "text"
      },
      "source": [
        "### %pycat : 외부 코드 보기\n",
        "\n",
        "**%pycat *경로***\n",
        "\n",
        "- ***경로*** 의 파일 코드를 Jupyter Notebook에서는 창으로, Jupyter Lab에서는 output 셀에서 보여준다."
      ]
    },
    {
      "cell_type": "code",
      "metadata": {
        "id": "_dOLvT33X5_A",
        "colab_type": "code",
        "colab": {}
      },
      "source": [
        "%pycat hellojupyter.py"
      ],
      "execution_count": null,
      "outputs": []
    },
    {
      "cell_type": "markdown",
      "metadata": {
        "id": "rw8kTv5dX5_C",
        "colab_type": "text"
      },
      "source": [
        "### %store : Jupyter Notebook 간에 변수 주고 받기\n",
        "\n",
        "**%store *변수***\n",
        "\n",
        "- ***변수*** 를 메모리에 저장한다."
      ]
    },
    {
      "cell_type": "code",
      "metadata": {
        "id": "Kj8gIXN5X5_C",
        "colab_type": "code",
        "colab": {}
      },
      "source": [
        "x = '파이썬'\n",
        "x"
      ],
      "execution_count": null,
      "outputs": []
    },
    {
      "cell_type": "code",
      "metadata": {
        "id": "INA0Z1C3X5_E",
        "colab_type": "code",
        "colab": {}
      },
      "source": [
        "%store x"
      ],
      "execution_count": null,
      "outputs": []
    },
    {
      "cell_type": "code",
      "metadata": {
        "id": "3f2KXfjVX5_G",
        "colab_type": "code",
        "colab": {}
      },
      "source": [
        "del x"
      ],
      "execution_count": null,
      "outputs": []
    },
    {
      "cell_type": "code",
      "metadata": {
        "id": "QJ1ozuExX5_I",
        "colab_type": "code",
        "colab": {}
      },
      "source": [
        "x"
      ],
      "execution_count": null,
      "outputs": []
    },
    {
      "cell_type": "markdown",
      "metadata": {
        "id": "0xpTNqLAX5_K",
        "colab_type": "text"
      },
      "source": [
        "**%store -r *변수***\n",
        "\n",
        "- ***변수*** 를 다른(또는 같은) Jupyter Notebook에서 복원한다."
      ]
    },
    {
      "cell_type": "code",
      "metadata": {
        "id": "EkqfWRBbX5_K",
        "colab_type": "code",
        "colab": {}
      },
      "source": [
        "%store -r x\n",
        "x"
      ],
      "execution_count": null,
      "outputs": []
    },
    {
      "cell_type": "markdown",
      "metadata": {
        "toc-hr-collapsed": false,
        "id": "_XlmfKERX5_M",
        "colab_type": "text"
      },
      "source": [
        "## Performance"
      ]
    },
    {
      "cell_type": "markdown",
      "metadata": {
        "id": "xyG6_srlX5_O",
        "colab_type": "text"
      },
      "source": [
        "### %time, %%time, %timeit, %%timeit : 코드 실행 시간\n",
        "**%time** (in line mode) / **%%time** (in cell mode)\n",
        "- 코드가 한번 실행되는 시간을 보여준다.\n",
        "\n",
        "**%timeit** (in line mode) **%%timeit** (in cell mode)\n",
        "- 파이썬의 **timeit** 모듈을 사용하여 디폴트로 명령문을 **1,000,000**번 실행하고 이 중 가장 빨리 실행된 **3**개의 평균값을 보여준다.\n",
        "- timeit.**timeit**(*stmt='pass', setup='pass', timer=<default timer>, number=1000000, globals=None*)"
      ]
    },
    {
      "cell_type": "code",
      "metadata": {
        "colab_type": "code",
        "id": "4K__c236-6CE",
        "colab": {}
      },
      "source": [
        "%time x = [i % 3 for i in range(1000)]"
      ],
      "execution_count": null,
      "outputs": []
    },
    {
      "cell_type": "code",
      "metadata": {
        "colab_type": "code",
        "id": "exVrBKm6_BGO",
        "colab": {}
      },
      "source": [
        "%timeit x = [i % 3 for i in range(1000)]"
      ],
      "execution_count": null,
      "outputs": []
    },
    {
      "cell_type": "code",
      "metadata": {
        "id": "oARcCfIZX5_T",
        "colab_type": "code",
        "colab": {}
      },
      "source": [
        "import numpy\n",
        "%time numpy.random.normal(size=10)"
      ],
      "execution_count": null,
      "outputs": []
    },
    {
      "cell_type": "code",
      "metadata": {
        "id": "geTAePjmX5_X",
        "colab_type": "code",
        "colab": {}
      },
      "source": [
        "import numpy\n",
        "%timeit numpy.random.normal(size=10)"
      ],
      "execution_count": null,
      "outputs": []
    },
    {
      "cell_type": "code",
      "metadata": {
        "id": "bpN4SgP5X5_Y",
        "colab_type": "code",
        "colab": {}
      },
      "source": [
        "%%time\n",
        "import time\n",
        "for _ in range(50):\n",
        "    time.sleep(0.01) # sleep for 0.01 seconds"
      ],
      "execution_count": null,
      "outputs": []
    },
    {
      "cell_type": "code",
      "metadata": {
        "id": "WUjGTXgeX5_b",
        "colab_type": "code",
        "colab": {}
      },
      "source": [
        "%%timeit\n",
        "import time\n",
        "for _ in range(50):\n",
        "    time.sleep(0.01) # sleep for 0.01 seconds"
      ],
      "execution_count": null,
      "outputs": []
    },
    {
      "cell_type": "code",
      "metadata": {
        "id": "pnnK_IeCX5_d",
        "colab_type": "code",
        "colab": {}
      },
      "source": [
        "%time pass"
      ],
      "execution_count": null,
      "outputs": []
    },
    {
      "cell_type": "code",
      "metadata": {
        "id": "AlFjCni3X5_f",
        "colab_type": "code",
        "colab": {}
      },
      "source": [
        "%timeit pass"
      ],
      "execution_count": null,
      "outputs": []
    },
    {
      "cell_type": "markdown",
      "metadata": {
        "colab_type": "text",
        "id": "sWiIPnpk6yzR"
      },
      "source": [
        "# **pickle** : 변수에 담긴 내용을 파일로 저장하기"
      ]
    },
    {
      "cell_type": "code",
      "metadata": {
        "colab_type": "code",
        "id": "yGSFtJHxE38G",
        "colab": {}
      },
      "source": [
        "import pickle\n",
        "\n",
        "colors = ['yellow', 'white', 'red', 'plum', 'pink', 'green', 'blue', 'black']\n",
        "\n",
        "with open('colors.pickle', 'wb') as file:\n",
        "    pickle.dump(colors, file)"
      ],
      "execution_count": null,
      "outputs": []
    },
    {
      "cell_type": "code",
      "metadata": {
        "id": "aIpGgCkcaC1h",
        "colab_type": "code",
        "colab": {}
      },
      "source": [
        "# 파일에 담긴 내용을 확인한다.\n",
        "!cat colors.pickle"
      ],
      "execution_count": null,
      "outputs": []
    },
    {
      "cell_type": "code",
      "metadata": {
        "colab_type": "code",
        "id": "QIxUnizHFMnl",
        "colab": {}
      },
      "source": [
        "with open('colors.pickle', 'rb') as file:\n",
        "    loaded_colors = pickle.load(file)\n",
        "\n",
        "print(loaded_colors)"
      ],
      "execution_count": null,
      "outputs": []
    },
    {
      "cell_type": "markdown",
      "metadata": {
        "id": "Dqwoa3HrX5_l",
        "colab_type": "text"
      },
      "source": [
        "- - -\n",
        "# <font color='red'>THE END</font>"
      ]
    }
  ]
}