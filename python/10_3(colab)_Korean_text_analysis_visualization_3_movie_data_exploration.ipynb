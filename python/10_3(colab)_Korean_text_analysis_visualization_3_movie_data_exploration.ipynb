{
  "nbformat": 4,
  "nbformat_minor": 0,
  "metadata": {
    "celltoolbar": "Slideshow",
    "colab": {
      "name": "10-3(colab).Korean-text-analysis-visualization-3-movie-data-exploration",
      "provenance": [],
      "collapsed_sections": [],
      "include_colab_link": true
    },
    "kernelspec": {
      "display_name": "Python 3",
      "language": "python",
      "name": "python3"
    },
    "language_info": {
      "codemirror_mode": {
        "name": "ipython",
        "version": 3
      },
      "file_extension": ".py",
      "mimetype": "text/x-python",
      "name": "python",
      "nbconvert_exporter": "python",
      "pygments_lexer": "ipython3",
      "version": "3.8.3"
    },
    "toc": {
      "base_numbering": 1,
      "nav_menu": {},
      "number_sections": true,
      "sideBar": true,
      "skip_h1_title": false,
      "title_cell": "Table of Contents",
      "title_sidebar": "Contents",
      "toc_cell": true,
      "toc_position": {},
      "toc_section_display": true,
      "toc_window_display": false
    },
    "varInspector": {
      "cols": {
        "lenName": 16,
        "lenType": 16,
        "lenVar": 40
      },
      "kernels_config": {
        "python": {
          "delete_cmd_postfix": "",
          "delete_cmd_prefix": "del ",
          "library": "var_list.py",
          "varRefreshCmd": "print(var_dic_list())"
        },
        "r": {
          "delete_cmd_postfix": ") ",
          "delete_cmd_prefix": "rm(",
          "library": "var_list.r",
          "varRefreshCmd": "cat(var_dic_list()) "
        }
      },
      "types_to_exclude": [
        "module",
        "function",
        "builtin_function_or_method",
        "instance",
        "_Feature"
      ],
      "window_display": false
    }
  },
  "cells": [
    {
      "cell_type": "markdown",
      "metadata": {
        "id": "view-in-github",
        "colab_type": "text"
      },
      "source": [
        "<a href=\"https://colab.research.google.com/github/ibk25244/su-ai/blob/master/10_3(colab)_Korean_text_analysis_visualization_3_movie_data_exploration.ipynb\" target=\"_parent\"><img src=\"https://colab.research.google.com/assets/colab-badge.svg\" alt=\"Open In Colab\"/></a>"
      ]
    },
    {
      "cell_type": "markdown",
      "metadata": {
        "id": "wLhlM6bFO2wP",
        "colab_type": "text"
      },
      "source": [
        "- - -\n",
        "\n",
        "<font size=6 color='tomato'>한글 텍스트 분석 및 시각화 - <font color='royalblue'>3 단계 : 데이터 탐색</font>   \n",
        "<font size=5 color='purple'>Korean Text Analysis & Visualization - <font color='forestgreen'>Step 3: Data Exploration</font>\n",
        "\n",
        "* * *\n",
        "\n",
        "**<font size=4>박 진 수</font>** 교수  \n",
        "Intelligent Data Semantics Lab  \n",
        "Seoul National University\n",
        "\n",
        "- - -"
      ]
    },
    {
      "cell_type": "markdown",
      "metadata": {
        "id": "2-5xSutgRlL2",
        "colab_type": "toc"
      },
      "source": [
        ">[텍스트 분석 절차](#scrollTo=IZPdlBpJO2wQ)\n",
        "\n",
        ">[저장한 파일을 불러온다.](#scrollTo=jtGf6Uk9itCj)\n",
        "\n",
        ">>[(방법 1) 로컬 파일 업로드 하여 열기](#scrollTo=D0uivRGO6l5V)\n",
        "\n",
        ">>[(방법 2) 데이터 파일 내려받아 열기](#scrollTo=PjAWBCyc69Yj)\n",
        "\n",
        ">[자주 출현하는 단어 추출하기](#scrollTo=B7Nft3hQO2wY)\n",
        "\n",
        ">[워드클라우드 그리기](#scrollTo=3nN_XDHFO2wd)\n",
        "\n",
        ">>[wordcloud](#scrollTo=_QnYMdsTO2we)\n",
        "\n",
        ">>[pytagcloud](#scrollTo=OMOyBBkMO2wq)\n",
        "\n",
        ">[THE END](#scrollTo=7np3U1BPO2wu)\n",
        "\n"
      ]
    },
    {
      "cell_type": "markdown",
      "metadata": {
        "id": "IZPdlBpJO2wQ",
        "colab_type": "text"
      },
      "source": [
        "# 텍스트 분석 절차"
      ]
    },
    {
      "cell_type": "markdown",
      "metadata": {
        "colab_type": "text",
        "id": "Rlprr2NpJGgG"
      },
      "source": [
        "**1** 단계 - **데이터 수집**\n",
        "- 웹, SNS 등에서 분석에 필요한 데이터를 수집한다.\n",
        "- 이미 데이터가 있으면 이 단계는 생략할 수 있다.\n",
        "\n",
        "**2** 단계 - **데이터 전처리**\n",
        "- 자연어를 기계가 이해할 수 있는 인공어(artificial language)로 번역한다.\n",
        "- Tokenization, POS Tagging(형태소 분석), Pruning 등 \n",
        "\n",
        "**<font size='+3'>3 단계 - 데이터 탐색</font>**\n",
        "- 분석의 방향성을 제시하기 위해 전처리한 데이터를 탐색한다.\n",
        "- 일반적으로는 단어의 출현 빈도(frequency)를 기반으로 탐색한다.\n",
        "\n",
        "**4** 단계 - **데이터 분석**\n",
        "- 텍스트 데이터를 통해 유의미한 정보를 추출하는 분석을 수행한다.\n",
        "- 감성분석, 토픽모델, 머신러닝 등\n",
        "\n",
        "**5** 단계 - **인사이트 도출**\n",
        "- 경영 환경에서 효과적인 의사 결정에 도움을 줄 수 있는 인사이트를 도출한다."
      ]
    },
    {
      "cell_type": "markdown",
      "metadata": {
        "colab_type": "text",
        "id": "jtGf6Uk9itCj"
      },
      "source": [
        "# 저장한 파일을 불러온다."
      ]
    },
    {
      "cell_type": "markdown",
      "metadata": {
        "id": "D0uivRGO6l5V",
        "colab_type": "text"
      },
      "source": [
        "## (방법 1) 로컬 파일 업로드 하여 열기\n",
        "\n",
        "\n"
      ]
    },
    {
      "cell_type": "code",
      "metadata": {
        "id": "v2Rtjahp6xqS",
        "colab_type": "code",
        "colab": {}
      },
      "source": [
        "# ===== 만약 파일을 로컬 파일로 저장했다면 =============================================\n",
        "# --- Importing a local file\n",
        "from google.colab import files\n",
        "\n",
        "# 앞서 전처리한 파일('movie-reviews-A-corpus.txt')을 업로드 한다.\n",
        "# movie-reviews-begin-again-corpus.txt 파일을 업로드한다.\n",
        "uploaded = files.upload()\n",
        "\n",
        "# 업로드한 파일을 읽어서 메모리에 저장한다.\n",
        "text = uploaded[tuple(uploaded)[0]].decode('utf-8').splitlines()"
      ],
      "execution_count": null,
      "outputs": []
    },
    {
      "cell_type": "markdown",
      "metadata": {
        "id": "PjAWBCyc69Yj",
        "colab_type": "text"
      },
      "source": [
        "## (방법 2) 데이터 파일 내려받아 열기"
      ]
    },
    {
      "cell_type": "markdown",
      "metadata": {
        "id": "qTd3r_8iYKGw",
        "colab_type": "text"
      },
      "source": [
        "실습을 위해 저장해둔 파일을 내려받도록 한다."
      ]
    },
    {
      "cell_type": "code",
      "metadata": {
        "id": "5bAe-dHkYLgI",
        "colab_type": "code",
        "colab": {}
      },
      "source": [
        "!wget -q --show-progress --no-check-certificate https://raw.githubusercontent.com/snu-ds/data/master/movie-reviews-begin-again-corpus.txt\n",
        "\n",
        "# 파일을 읽어서 메모리에 저장한다.\n",
        "text = open('movie-reviews-begin-again-corpus.txt', mode='r', \n",
        "            encoding='utf-8').read().splitlines()"
      ],
      "execution_count": null,
      "outputs": []
    },
    {
      "cell_type": "markdown",
      "metadata": {
        "id": "B7Nft3hQO2wY",
        "colab_type": "text"
      },
      "source": [
        "# 자주 출현하는 단어 추출하기"
      ]
    },
    {
      "cell_type": "code",
      "metadata": {
        "id": "3ue4ufIwjaYb",
        "colab_type": "code",
        "colab": {}
      },
      "source": [
        "text[:5]"
      ],
      "execution_count": null,
      "outputs": []
    },
    {
      "cell_type": "code",
      "metadata": {
        "id": "J8-ViHJzO1k6",
        "colab_type": "code",
        "colab": {}
      },
      "source": [
        "# ======= 형태소 분석을 위해 한글 분석 모듈 konlpy를 설치한다. =============\n",
        "!python -m pip install konlpy"
      ],
      "execution_count": null,
      "outputs": []
    },
    {
      "cell_type": "code",
      "metadata": {
        "id": "bJqRkbOZO1k9",
        "colab_type": "code",
        "colab": {}
      },
      "source": [
        "import konlpy \n",
        "print('KoNLPy version...:', konlpy.__version__)"
      ],
      "execution_count": null,
      "outputs": []
    },
    {
      "cell_type": "code",
      "metadata": {
        "id": "iuVug_ZsgLMa",
        "colab_type": "code",
        "colab": {}
      },
      "source": [
        "# 한국어 텍스트 분석에 필요한 모듈(konlpy)의 \n",
        "# Open Korean Text 형태소 분석기를 불러온다.\n",
        "from konlpy.tag import Okt \n",
        "okt = Okt()"
      ],
      "execution_count": null,
      "outputs": []
    },
    {
      "cell_type": "code",
      "metadata": {
        "id": "SardU43Bxoq4",
        "colab_type": "code",
        "colab": {}
      },
      "source": [
        "# 전체 텍스트를 형태소(Part-of-Speech) 분석을 한다.\n",
        "# 토큰을 정규화하고 어간 단위로 구분한다.\n",
        "# 형태소 분석 결과는 ('단어', '품사 태그')의 튜플로 반환한다.\n",
        "pos_tags = __TODO__"
      ],
      "execution_count": null,
      "outputs": []
    },
    {
      "cell_type": "code",
      "metadata": {
        "id": "wZX3wTR8kGwE",
        "colab_type": "code",
        "colab": {}
      },
      "source": [
        "pos_tags[:5]"
      ],
      "execution_count": null,
      "outputs": []
    },
    {
      "cell_type": "code",
      "metadata": {
        "id": "f0EAmlcNxwNw",
        "colab_type": "code",
        "colab": {}
      },
      "source": [
        "# 전체 텍스트에서 명사(Noun)와 형용사(Adjective)만 걸러낸다.\n",
        "noun_adj_list = __TODO__"
      ],
      "execution_count": null,
      "outputs": []
    },
    {
      "cell_type": "code",
      "metadata": {
        "id": "FdaEyhSDkWTs",
        "colab_type": "code",
        "colab": {}
      },
      "source": [
        "noun_adj_list[:5]"
      ],
      "execution_count": null,
      "outputs": []
    },
    {
      "cell_type": "code",
      "metadata": {
        "id": "NuIJw_56x3LB",
        "colab_type": "code",
        "colab": {}
      },
      "source": [
        "# 리뷰에서 사용한 고유한 명사와 형용사 개수를 확인한다. \n",
        "len(__TODO__)"
      ],
      "execution_count": null,
      "outputs": []
    },
    {
      "cell_type": "code",
      "metadata": {
        "id": "3S-e000lx84T",
        "colab_type": "code",
        "colab": {}
      },
      "source": [
        "# collections 패키지에서 Counter(등장 횟수를 세주는 역할)를 불러온다.\n",
        "from collections import Counter\t\n",
        "\n",
        "# Counter에 noun_adj_list list를 넣어 서로 다른 명사와 형용사가 얼마나 많이 쓰였는지를 셈한다.\n",
        "counts = __TODO__"
      ],
      "execution_count": null,
      "outputs": []
    },
    {
      "cell_type": "code",
      "metadata": {
        "id": "S__UbUsdyFSC",
        "colab_type": "code",
        "colab": {}
      },
      "source": [
        "# 전체 텍스트에서 가장 많이 사용된 명사와 형용사만 출력한다.\n",
        "__TODO__"
      ],
      "execution_count": null,
      "outputs": []
    },
    {
      "cell_type": "markdown",
      "metadata": {
        "id": "3nN_XDHFO2wd",
        "colab_type": "text"
      },
      "source": [
        "# 워드클라우드 그리기"
      ]
    },
    {
      "cell_type": "markdown",
      "metadata": {
        "id": "_QnYMdsTO2we",
        "colab_type": "text"
      },
      "source": [
        "## wordcloud"
      ]
    },
    {
      "cell_type": "code",
      "metadata": {
        "id": "k84WAgfKyOgq",
        "colab_type": "code",
        "colab": {}
      },
      "source": [
        "from konlpy.tag import Okt  # 한국어 텍스트 분석에 필요한 모듈(konlpy)의 Open Korean Text 형태소 분석기를 불러온다.\n",
        "\n",
        "# Open Korean Text 형태소 분석기 객체를 생성한다.\n",
        "okt = Okt() \n",
        "    \n",
        "# text의 각 문장을 꺼낸 후 형태소 붆석기를 통해 \n",
        "# 명사만 추려내 리스트에 담는다.\n",
        "nouns = __TODO__"
      ],
      "execution_count": null,
      "outputs": []
    },
    {
      "cell_type": "code",
      "metadata": {
        "id": "4xSMhMDoyPks",
        "colab_type": "code",
        "colab": {}
      },
      "source": [
        "from collections import Counter\n",
        "\n",
        "# nouns 리스트에 있는 서로 다른 명사의 개수 구한다. \n",
        "count = __TODO__"
      ],
      "execution_count": null,
      "outputs": []
    },
    {
      "cell_type": "code",
      "metadata": {
        "id": "-NHwSqCtqUL3",
        "colab_type": "code",
        "colab": {}
      },
      "source": [
        "count"
      ],
      "execution_count": null,
      "outputs": []
    },
    {
      "cell_type": "code",
      "metadata": {
        "id": "Y0ouSrTkyWgO",
        "colab_type": "code",
        "colab": {}
      },
      "source": [
        "# 가장 자주 출현하는 명사 100개를 추출한다.\n",
        "data = __TODO__"
      ],
      "execution_count": null,
      "outputs": []
    },
    {
      "cell_type": "code",
      "metadata": {
        "id": "vIJ9Pa18lNPD",
        "colab_type": "code",
        "colab": {}
      },
      "source": [
        "# --- 한글 워드 클라우드를 그리기 위해 한글 폰트를 설치한다.\n",
        "# 한글 폰트를 설치한다.\n",
        "!apt -qq -y install fonts-nanum\n",
        " \n",
        "# 나눔바른고딕(NanumBarunGothic)을 사용하기 위해 경로를 포함시킨다.\n",
        "fontpath = '/usr/share/fonts/truetype/nanum/NanumBarunGothic.ttf' "
      ],
      "execution_count": null,
      "outputs": []
    },
    {
      "cell_type": "code",
      "metadata": {
        "id": "KaJN46_4yrtx",
        "colab_type": "code",
        "colab": {}
      },
      "source": [
        "from wordcloud import WordCloud\n",
        "\n",
        "wordcloud = WordCloud(\n",
        "  font_path=__TODO__,\n",
        "  relative_scaling=0.2,\n",
        "  background_color='white',\n",
        ").generate_from_frequencies(__TODO__)\n",
        "\n",
        "wordcloud"
      ],
      "execution_count": null,
      "outputs": []
    },
    {
      "cell_type": "code",
      "metadata": {
        "id": "dLc92aAvy4VV",
        "colab_type": "code",
        "colab": {}
      },
      "source": [
        "from matplotlib import pyplot\n",
        "\n",
        "pyplot.figure(figsize=(16, 10))  # width, height in inches\n",
        "pyplot.imshow(__TODO__)\n",
        "pyplot.axis('off')\n",
        "pyplot.show()"
      ],
      "execution_count": null,
      "outputs": []
    },
    {
      "cell_type": "markdown",
      "metadata": {
        "id": "OMOyBBkMO2wq",
        "colab_type": "text"
      },
      "source": [
        "## pytagcloud"
      ]
    },
    {
      "cell_type": "markdown",
      "metadata": {
        "id": "2noHt66SO2wr",
        "colab_type": "text"
      },
      "source": [
        "&#9658; <font color='red'>[참고] 아래 코드를 실행하기 위해서는 pycloudtag와 관련 한글 폰트 'Noto Sans CJK'가 사전에 설치되어 있어야 한다.</font>"
      ]
    },
    {
      "cell_type": "code",
      "metadata": {
        "colab_type": "code",
        "hidden": true,
        "id": "DvqBP_VB-kjg",
        "colab": {}
      },
      "source": [
        "# --- 워드클라우드 관련 모듈 설치 --------------------------------- #\n",
        "# pygame과 simplejson 설치\n",
        "!python -m pip install --upgrade pygame \n",
        "!python -m pip install --upgrade simplejson \n",
        "\n",
        "# pytagcloud에 한국어 폰트가 추가된 버전을 설치\n",
        "!pip install git+https://github.com/e9t/PyTagCloud.git"
      ],
      "execution_count": null,
      "outputs": []
    },
    {
      "cell_type": "code",
      "metadata": {
        "id": "4McgaNDRO2wr",
        "colab_type": "code",
        "colab": {}
      },
      "source": [
        "from konlpy.tag import Okt  \n",
        "from collections import Counter\n",
        "import random\n",
        "\n",
        "# --- wordcloud 생성에 필요한 함수 정의를 정의한다.\n",
        "def get_tags(text, ntags=100, multiplier=1):\n",
        "  '''워드클라우드를 그리기 위한 명사 태그와 그 빈도수, 그리고 색깔을 생성한다.\n",
        "  \n",
        "  Args:\n",
        "    text (list | tuple): 텍스트를 담고 있는 리스트나 튜플\n",
        "    ntags (int): 생성할 태그의 개수(기본값은 100)\n",
        "    multiplier (int): 상대적인 크기 상수(기본값은 1)\n",
        "  Returns:\n",
        "      list[dict]: 색, 총 태그 개수, 사이즈의 딕셔너리를 담고 있는 리스트\n",
        "  '''\n",
        "  okt = Okt() # Open Korean Text 형태소 분석기 객체를 생성한다.\n",
        "  \n",
        "  # 리스트 또는 튜플 자료형인 text의 각 문장을 꺼낸 후 \n",
        "  # 형태소 붆석기를 통해 명사만 추려내 리스트에 담는다.\n",
        "  nouns = [noun for sent in text \n",
        "                  for noun in okt.nouns(sent)]\n",
        "  \n",
        "  # nouns 리스트에 있는 서로 다른 명사의 개수 구한다. \n",
        "  count = Counter(nouns)    \n",
        "\n",
        "  # --- 워드 클라우드에 사용할 단어들의 색깔을 무작위로 구성한다.\n",
        "  # 람다 함수로 0부터 254 사이의 임이의 정수를 추출한다.\n",
        "  rgb = lambda: random.randint(0, 255)\n",
        "  # 람다 함수 rgb 3개를 합쳐 RGB 색을 지정하는 새로운 람다 함수를 생성한다.\n",
        "  color = lambda: (rgb(), rgb(), rgb())\n",
        "\n",
        "  return [{'color': color(), 'tag': n, 'size': c * multiplier}\n",
        "            for n, c in count.most_common(ntags)]"
      ],
      "execution_count": null,
      "outputs": []
    },
    {
      "cell_type": "code",
      "metadata": {
        "id": "wRb2-nproiGZ",
        "colab_type": "code",
        "colab": {}
      },
      "source": [
        "# 위에서 정의한 get_tags() 이용해 가장 많이 사용한 명사 100개를 추출한다.\n",
        "tags = get_tags(text)\n",
        "len(tags)"
      ],
      "execution_count": null,
      "outputs": []
    },
    {
      "cell_type": "code",
      "metadata": {
        "id": "c0UmfCt0ojyH",
        "colab_type": "code",
        "colab": {}
      },
      "source": [
        "tags[:5]"
      ],
      "execution_count": null,
      "outputs": []
    },
    {
      "cell_type": "markdown",
      "metadata": {
        "colab_type": "text",
        "id": "ab3o4QkrO2wt"
      },
      "source": [
        "[pytagcloud](https://pypi.org/project/pytagcloud/)\n",
        "\n",
        "- PyTagCloud allows us to create simple tag clouds."
      ]
    },
    {
      "cell_type": "code",
      "metadata": {
        "id": "MbSTs_stzK1x",
        "colab_type": "code",
        "colab": {}
      },
      "source": [
        "import pytagcloud\n",
        "\n",
        "filename = 'wordcloud.png'\n",
        "size = 1200, 1000   # width, height\n",
        "fontname = 'Noto Sans CJK'\n",
        "\n",
        "# pytagcloud 모듈의 함수로 워드클라우드 이미지를 생성한다(png 형식)\n",
        "pytagcloud.create_tag_image(__TODO__)"
      ],
      "execution_count": null,
      "outputs": []
    },
    {
      "cell_type": "code",
      "metadata": {
        "id": "C8LrJlbhzMfl",
        "colab_type": "code",
        "colab": {}
      },
      "source": [
        "# 가장 자주 출현한 단어 2개('영화', '음악')을 제외한 워드 클라우드를 그린다.\n",
        "del tags[:2]\n",
        "\n",
        "filename2 = 'wordcloud2.png'\n",
        "size = 1000, 600   # width, height\n",
        "fontname = 'Noto Sans CJK'\n",
        "\n",
        "# pytagcloud 모듈의 함수로 워드클라우드 이미지를 생성한다(png 형식)\n",
        "pytagcloud.create_tag_image(__TODO__)"
      ],
      "execution_count": null,
      "outputs": []
    },
    {
      "cell_type": "code",
      "metadata": {
        "colab_type": "code",
        "id": "tWtIUyFdpJ_A",
        "colab": {}
      },
      "source": [
        "# ======= For Google Colaboratory ===============================\n",
        "# --- 수집한 데이터와 전처리한 데이터를 로컬 파일로 내려받기를 한다.\n",
        "from google.colab import files\n",
        "files.download(filename)\n",
        "files.download(filename2)"
      ],
      "execution_count": null,
      "outputs": []
    },
    {
      "cell_type": "markdown",
      "metadata": {
        "id": "7np3U1BPO2wu",
        "colab_type": "text"
      },
      "source": [
        "- - -\n",
        "# <font color='red'>THE END</font>"
      ]
    }
  ]
}