{
  "nbformat": 4,
  "nbformat_minor": 0,
  "metadata": {
    "celltoolbar": "Slideshow",
    "colab": {
      "name": "00-1(colab).matplotlib-tasting",
      "provenance": [],
      "collapsed_sections": [],
      "include_colab_link": true
    },
    "hide_input": false,
    "kernelspec": {
      "display_name": "Python 3",
      "language": "python",
      "name": "python3"
    },
    "language_info": {
      "codemirror_mode": {
        "name": "ipython",
        "version": 3
      },
      "file_extension": ".py",
      "mimetype": "text/x-python",
      "name": "python",
      "nbconvert_exporter": "python",
      "pygments_lexer": "ipython3",
      "version": "3.8.2"
    },
    "toc": {
      "base_numbering": 1,
      "nav_menu": {},
      "number_sections": true,
      "sideBar": true,
      "skip_h1_title": false,
      "title_cell": "Table of Contents",
      "title_sidebar": "Contents",
      "toc_cell": true,
      "toc_position": {},
      "toc_section_display": true,
      "toc_window_display": false
    },
    "varInspector": {
      "cols": {
        "lenName": 16,
        "lenType": 16,
        "lenVar": 40
      },
      "kernels_config": {
        "python": {
          "delete_cmd_postfix": "",
          "delete_cmd_prefix": "del ",
          "library": "var_list.py",
          "varRefreshCmd": "print(var_dic_list())"
        },
        "r": {
          "delete_cmd_postfix": ") ",
          "delete_cmd_prefix": "rm(",
          "library": "var_list.r",
          "varRefreshCmd": "cat(var_dic_list()) "
        }
      },
      "types_to_exclude": [
        "module",
        "function",
        "builtin_function_or_method",
        "instance",
        "_Feature"
      ],
      "window_display": false
    }
  },
  "cells": [
    {
      "cell_type": "markdown",
      "metadata": {
        "id": "view-in-github",
        "colab_type": "text"
      },
      "source": [
        "<a href=\"https://colab.research.google.com/github/ibk25244/su-ai/blob/master/00_1(colab)_matplotlib_tasting.ipynb\" target=\"_parent\"><img src=\"https://colab.research.google.com/assets/colab-badge.svg\" alt=\"Open In Colab\"/></a>"
      ]
    },
    {
      "cell_type": "markdown",
      "metadata": {
        "id": "7Vgaq4g8EV38",
        "colab_type": "text"
      },
      "source": [
        "- - -\n",
        "\n",
        "<font size=6 color='royalblue'>시각화 : matplotlib</font>\n",
        "\n",
        "<font size=5 color='forestgreen'>Visualization : matplotlib</font> \n",
        "\n",
        "* * *\n",
        "\n",
        "**<font size=4>박 진 수</font>** 교수  \n",
        "Intelligent Data Semantics Lab  \n",
        "Seoul National University\n",
        "\n",
        "- - -"
      ]
    },
    {
      "cell_type": "markdown",
      "metadata": {
        "id": "XA-NTSU8EV38",
        "colab_type": "text"
      },
      "source": [
        "<div align='right'><font size='-1'>[credit: 김도훈(2019학번)]</font></div>"
      ]
    },
    {
      "cell_type": "markdown",
      "metadata": {
        "id": "g1LDaBbiEoKi",
        "colab_type": "toc"
      },
      "source": [
        ">[matplotlib](#scrollTo=pFokvTSnzHqr)\n",
        "\n",
        ">[관련 모듈 불러오기](#scrollTo=canmAV6pzQDO)\n",
        "\n",
        ">[기본 도표 작성하기](#scrollTo=7yh3nXyv0GTV)\n",
        "\n",
        ">>[선 색상 변경](#scrollTo=VM1Lco732BdI)\n",
        "\n",
        ">>[선 모양 변경](#scrollTo=prjElBEb2pb0)\n",
        "\n",
        ">>[제목과 라벨](#scrollTo=BtlsrTYq3-FQ)\n",
        "\n",
        ">>[범례(legend)](#scrollTo=N8Th5tpi41V5)\n",
        "\n",
        ">>[주석(annotation)](#scrollTo=gkAQaeN08FBe)\n",
        "\n",
        ">>[Lab: 상점 고객수 데이터로 선 그래프 그리기](#scrollTo=sgmvZ0GtEV5E)\n",
        "\n",
        ">[다양한 도표 그리기](#scrollTo=WEcZu_CiEV5l)\n",
        "\n",
        ">>[막대 그래프](#scrollTo=X1Wq5EHV_Jng)\n",
        "\n",
        ">>>[Lab: 상점 고객수 데이터로 막대 그래프 그리기](#scrollTo=ky1dyhrlEV50)\n",
        "\n",
        ">>[막대 그래프 나란히 그리기](#scrollTo=txnxZz6PAq4z)\n",
        "\n",
        ">>[누적 막대 그래프](#scrollTo=RPX6FS_RDf0C)\n",
        "\n",
        ">>[100% 누적 막대 그래프 그리기](#scrollTo=EsUPjxtSFrra)\n",
        "\n",
        ">>[원 그래프](#scrollTo=E0NN4lEPIa_W)\n",
        "\n",
        ">>[히스토그램](#scrollTo=_fcvE8n-IfCC)\n",
        "\n",
        ">>[박스 그래프](#scrollTo=BEgGn-xCEV6W)\n",
        "\n",
        ">>[산점도](#scrollTo=i4IN8H8DEV6j)\n",
        "\n",
        ">[Lab: 아파트 내 외국인 국적 및 연령 데이터 시각화](#scrollTo=HYUfZkxbEV6m)\n",
        "\n",
        ">>[문제 1 : 막대 그래프를 나란히 그리시오.](#scrollTo=cvlcSWDuEV6n)\n",
        "\n",
        ">>[문제 2 : 누적 막대 그래프를 그리시오](#scrollTo=EAJlGX__EV6p)\n",
        "\n",
        ">>[문제 3 : 원 그래프를 그리시오.](#scrollTo=1tJIDPUnEV6r)\n",
        "\n",
        ">[Lab: 학급의 영어와 수학 점수 데이터 시각화](#scrollTo=xlOKKIRnEV6s)\n",
        "\n",
        ">>[문제 1 : 히스토그램을 그리시오.](#scrollTo=5mOzRy5ZEV6u)\n",
        "\n",
        ">>[문제 2 : 박스 그래프를 그리시오.](#scrollTo=gg7u9ufaEV6x)\n",
        "\n",
        ">>[문제 3 : 산점도를 그리시오.](#scrollTo=ZEBglB55EV6y)\n",
        "\n",
        ">[THE END](#scrollTo=-FBwTSu6EV60)\n",
        "\n"
      ]
    },
    {
      "cell_type": "markdown",
      "metadata": {
        "colab_type": "text",
        "id": "pFokvTSnzHqr"
      },
      "source": [
        "# matplotlib"
      ]
    },
    {
      "cell_type": "markdown",
      "metadata": {
        "colab_type": "text",
        "id": "JoOvAYzCzNMK"
      },
      "source": [
        "**matplotlib**란?\n",
        "- 파이썬에서 데이터를 2-D 차트(chart)나 플롯(plot)으로 그려주는 파이썬 라이브러리로 가장 많이 사용하는 데이타 시각화(Data Visualization) 툴이다.\n",
        "- 선 그래프, 막대 그래프, 원 그래프, 히스토그램, 박스 그래프, 산점도 등을 포함한 다양한 차트와 플롯 스타일을 지원한다. \n",
        "- [matplotlib.org](https://matplotlib.org)의 [갤러리 웹페이지](https://matplotlib.org/gallery/index.html)에서 다양한 샘플 도표를 볼 수 있다."
      ]
    },
    {
      "cell_type": "markdown",
      "metadata": {
        "colab_type": "text",
        "id": "canmAV6pzQDO"
      },
      "source": [
        "# 관련 모듈 불러오기"
      ]
    },
    {
      "cell_type": "code",
      "metadata": {
        "code_folding": [],
        "colab_type": "code",
        "id": "RiSPtZT_zWWp",
        "colab": {
          "base_uri": "https://localhost:8080/",
          "height": 34
        },
        "outputId": "87bd1839-e063-4d11-cef4-0145d11e851e"
      },
      "source": [
        "# 버전 확인하기\n",
        "import matplotlib\n",
        "matplotlib.__version__"
      ],
      "execution_count": null,
      "outputs": [
        {
          "output_type": "execute_result",
          "data": {
            "text/plain": [
              "'3.2.1'"
            ]
          },
          "metadata": {
            "tags": []
          },
          "execution_count": 1
        }
      ]
    },
    {
      "cell_type": "code",
      "metadata": {
        "code_folding": [],
        "colab_type": "code",
        "id": "BA-aTDLaEV4D",
        "colab": {}
      },
      "source": [
        "# 주로 아래 방식으로 matplot.pyplot을 \n",
        "# plt이란 별칭으로 불러온다.\n",
        "# from matplotlib import pyplot as plt \n",
        "\n",
        "from matplotlib import pyplot # as plt\n",
        "import numpy # as np"
      ],
      "execution_count": null,
      "outputs": []
    },
    {
      "cell_type": "code",
      "metadata": {
        "colab_type": "code",
        "id": "D3oZTdZHz6ZN",
        "colab": {}
      },
      "source": [
        "# matplotlib 도표를 출력 영역에 표시할 것을 지시하는 매직 명령어다.\n",
        "%matplotlib inline"
      ],
      "execution_count": null,
      "outputs": []
    },
    {
      "cell_type": "markdown",
      "metadata": {
        "colab_type": "text",
        "id": "7yh3nXyv0GTV"
      },
      "source": [
        "# 기본 도표 작성하기"
      ]
    },
    {
      "cell_type": "markdown",
      "metadata": {
        "colab_type": "text",
        "id": "QxH88_CREV4J"
      },
      "source": [
        "선 그래프는 연속적인 직선이나 곡선으로 데이터 사이의 관계를 나타내는 도표다."
      ]
    },
    {
      "cell_type": "markdown",
      "metadata": {
        "colab_type": "text",
        "id": "NFlLcL-CEV4K"
      },
      "source": [
        "선 그래프를 그리기 위해서는 matplotlib.pyplot의 **plot(*x, y*)**를 사용한다. \n",
        "- ***x***, ***y*** 는 각각 **x**축과 **y**축이 된다."
      ]
    },
    {
      "cell_type": "markdown",
      "metadata": {
        "colab_type": "text",
        "id": "pzMGQ7n5EV4K"
      },
      "source": [
        "[matplotlib.pyplot.plot](https://matplotlib.org/api/_as_gen/matplotlib.pyplot.plot.html#matplotlib.pyplot.plot)\n",
        "- Plot ***y*** versus ***x*** as lines and/or markers.\n",
        "- matplotlib.pyplot.**plot**(\\**args, scalex=True, scaley=True, data=None, **kwargs*)\n",
        "    - By default, each line is assigned a different style specified by a 'style cycle'. The ***fmt*** and line property parameters are only necessary if you want explicit deviations from these defaults. Alternatively, you can also change the style cycle using the 'axes.prop_cycle' rcParam.\n",
        "    - ***fmt*** = '[marker][line][color]'"
      ]
    },
    {
      "cell_type": "code",
      "metadata": {
        "id": "J-QZ60XDEV4L",
        "colab_type": "code",
        "colab": {}
      },
      "source": [
        "# --- x 축은 1, 2, 3 # y 축은 110, 130, 120인 선 그래프를 그린다.\n",
        "pyplot.plot(__TODO__)\n",
        "pyplot.show()"
      ],
      "execution_count": null,
      "outputs": []
    },
    {
      "cell_type": "markdown",
      "metadata": {
        "id": "vdeWWCwTEV4N",
        "colab_type": "text"
      },
      "source": [
        "**실행 결과**  \n",
        "\n",
        "![matplot01](https://drive.google.com/uc?id=17C8FU2pMZodKT3_C4_NHi5WgO99Ww5L7)"
      ]
    },
    {
      "cell_type": "code",
      "metadata": {
        "colab_type": "code",
        "id": "V7JhewDtz7uF",
        "colab": {}
      },
      "source": [
        "# --- x 축은 1, 2, ... 9이고 y 축은 x * 3인 선 그래프를 작성한다.\n",
        "x = __TODO__\n",
        "y = __TODO__\n",
        "\n",
        "pyplot.plot(x, y)\n",
        "pyplot.show()"
      ],
      "execution_count": null,
      "outputs": []
    },
    {
      "cell_type": "markdown",
      "metadata": {
        "id": "0Dafl-5HEV4R",
        "colab_type": "text"
      },
      "source": [
        "**실행 결과**  \n",
        "\n",
        "![matplot02](https://drive.google.com/uc?id=1W2WUpWNpN0ar7G5AfBnhBkUx9qrZl6Et)"
      ]
    },
    {
      "cell_type": "markdown",
      "metadata": {
        "colab_type": "text",
        "id": "VM1Lco732BdI"
      },
      "source": [
        "## 선 색상 변경"
      ]
    },
    {
      "cell_type": "markdown",
      "metadata": {
        "colab_type": "text",
        "id": "aj2VLlTzEV4V"
      },
      "source": [
        "기본 색상은 파란색이지만 다른 색상으로 변경할 수 있다.\n",
        "- matplotlib.pyplot의 **plot()**의 세 번째 전달인자로 컬러 색상을 지정할 수 있다.\n",
        "- 예) plot(x, y, **'r'**)은 색상을 빨강색으로 변경한다. **'b'** 는 blue, **'g'** 는 green, **'c'** 는 cyan이다.\n",
        "- 이외 다른 색상은 아래 링크에서 확인할 수 있다.\n",
        "    + https://matplotlib.org/3.1.0/gallery/color/named_colors.html"
      ]
    },
    {
      "cell_type": "code",
      "metadata": {
        "colab_type": "code",
        "id": "0K6hAqpB17aX",
        "colab": {}
      },
      "source": [
        "# --- 선 색깔이 빨간색(red)인 선 그래프를 작성한다.\n",
        "x = numpy.arange(1, 10)\n",
        "y = x * 3\n",
        "\n",
        "pyplot.plot(__TODO__)\n",
        "pyplot.show()"
      ],
      "execution_count": null,
      "outputs": []
    },
    {
      "cell_type": "markdown",
      "metadata": {
        "id": "ZdQUg6v9EV4X",
        "colab_type": "text"
      },
      "source": [
        "**실행 결과**  \n",
        "\n",
        "![matplot03](https://drive.google.com/uc?id=1XAETuQBYFyp9rv6SOBUFVuYDr3b9fdd5)"
      ]
    },
    {
      "cell_type": "markdown",
      "metadata": {
        "colab_type": "text",
        "id": "prjElBEb2pb0"
      },
      "source": [
        "## 선 모양 변경"
      ]
    },
    {
      "cell_type": "markdown",
      "metadata": {
        "colab_type": "text",
        "id": "UDPgCATGEV4Z"
      },
      "source": [
        "기본 선은 직선이지만 마커를 변경해서 선 모양을 바꿀 수 있다. 이때 색상도 함께 바꿀 수 있다.\n",
        "- 앞서 색상을 변경한 것과 같이 **plot()**의 세 번째 전달인자로 선의 종류를 지정해주면 된다.\n",
        "- 색상과 선의 종류를 같이 지정하기 위해서는 세 번째 전달인자로 선의 종류 다음에 색상을 지정해주면 된다.\n",
        "- 예) plot(x, y, **'og'**)는 선 모양을 원으로 색깔을 초록색으로 변경한다.\n",
        "- 이외 다른 선 모양의 마커는 아래 링크에서 확인할 수 있다.\n",
        "    + https://matplotlib.org/3.1.1/api/markers_api.html"
      ]
    },
    {
      "cell_type": "code",
      "metadata": {
        "colab_type": "code",
        "id": "AfKNm2fA2DKm",
        "colab": {}
      },
      "source": [
        "# --- 마커가 원형(circle)이고 색깔이 초록색(red)인 선 그래프를 작성한다.\n",
        "x = numpy.arange(1, 10)\n",
        "y = x * 3\n",
        "\n",
        "# 'o': circle marker, 'g': green color\n",
        "pyplot.plot(__TODO__)\n",
        "pyplot.show()"
      ],
      "execution_count": null,
      "outputs": []
    },
    {
      "cell_type": "markdown",
      "metadata": {
        "id": "Gok2T2_SEV4b",
        "colab_type": "text"
      },
      "source": [
        "**실행 결과**  \n",
        "\n",
        "![matplot04](https://drive.google.com/uc?id=1fWo6E_kHbqXoJy1Tzvm97AaZmJbzMGWy)"
      ]
    },
    {
      "cell_type": "code",
      "metadata": {
        "colab_type": "code",
        "id": "QiSjpMPpEV4e",
        "colab": {}
      },
      "source": [
        "# --- 마커가 더하기(plus filled)인 선 그래프를 작성한다.\n",
        "x = numpy.arange(1, 10)\n",
        "y = x * 3\n",
        "\n",
        "# 'P': plus (filled) marker\n",
        "pyplot.plot(__TODO__)\n",
        "pyplot.show()"
      ],
      "execution_count": null,
      "outputs": []
    },
    {
      "cell_type": "markdown",
      "metadata": {
        "id": "dGV1plIAEV4g",
        "colab_type": "text"
      },
      "source": [
        "**실행 결과**  \n",
        "\n",
        "![matplot05](https://drive.google.com/uc?id=1rYnM4rfBnSJVONetTlNcuyHGh0HNxUMt)"
      ]
    },
    {
      "cell_type": "code",
      "metadata": {
        "colab_type": "code",
        "id": "EesfIXdCEV4i",
        "colab": {}
      },
      "source": [
        "# --- 마커는 원형(circle), 선 모양은 점선(dotted line)이고 색깔이 빨간색(red)인 선 그래프를 작성한다.\n",
        "x = numpy.arange(1, 10)\n",
        "y = x * 3\n",
        "\n",
        "# 'o': circle marker, ':': dotted line style, 'r': red color\n",
        "pyplot.plot(__TODO__)\n",
        "pyplot.show()"
      ],
      "execution_count": null,
      "outputs": []
    },
    {
      "cell_type": "markdown",
      "metadata": {
        "id": "BSebdJ5DEV4k",
        "colab_type": "text"
      },
      "source": [
        "**실행 결과**  \n",
        "\n",
        "![matplot06](https://drive.google.com/uc?id=1xMXELgue7Sm0ANJPDfcB-9IBobtDKDH4)"
      ]
    },
    {
      "cell_type": "markdown",
      "metadata": {
        "colab_type": "text",
        "id": "BtlsrTYq3-FQ"
      },
      "source": [
        "## 제목과 라벨"
      ]
    },
    {
      "cell_type": "markdown",
      "metadata": {
        "colab_type": "text",
        "id": "J5XwFbQkEV4m"
      },
      "source": [
        "도표의 제목이나 X, Y 축 라벨을 붙이려면 **title**('제목'), **xlabel**('x축이름'), **ylabel**('y축이름')을 사용한다."
      ]
    },
    {
      "cell_type": "code",
      "metadata": {
        "colab_type": "code",
        "id": "7EJmPrsz5sue",
        "colab": {}
      },
      "source": [
        "# 제목과 x축 y축 라벨을 설정한다. (실행 결과 참조)\n",
        "x = ['Week 1', 'Week 2', 'Week 3', 'Week 4']  # x축 라벨\n",
        "y = [70, 77, 83, 81]                          # y축 라벨\n",
        "\n",
        "__TODO__\n",
        "__TODO__\n",
        "__TODO__\n",
        "\n",
        "pyplot.plot(__TODO__)\n",
        "pyplot.show()"
      ],
      "execution_count": null,
      "outputs": []
    },
    {
      "cell_type": "markdown",
      "metadata": {
        "id": "kZfNO9S-EV4o",
        "colab_type": "text"
      },
      "source": [
        "**실행 결과**  \n",
        "\n",
        "![matplot07](https://drive.google.com/uc?id=1vChHY5djeNfiKNNHZ143t7HRrNnZbJrU)"
      ]
    },
    {
      "cell_type": "markdown",
      "metadata": {
        "colab_type": "text",
        "id": "N8Th5tpi41V5"
      },
      "source": [
        "## 범례(legend)"
      ]
    },
    {
      "cell_type": "markdown",
      "metadata": {
        "colab_type": "text",
        "id": "ke-PhH6BEV42"
      },
      "source": [
        "도표에서 여러 개의 선을 동시에 그릴 때, 각 선을 구분하기 위해 선마다 라벨을 달고 각 라벨의 이름을 보여줄 수 있는데 이를 범례(legend)라고 한다.\n",
        "- 범례를 사용하려면 **plot**()의 매개변수 ***label*** 에 선 이름을 지정하고 **legend**(*loc*='위치') 메소드를 호출하면 범례를 도표 상에 그려준다.\n",
        "- 범례의 위치는 아래 링크를 참고하면 된다.\n",
        "    + https://matplotlib.org/3.1.1/api/_as_gen/matplotlib.pyplot.legend.html"
      ]
    },
    {
      "cell_type": "markdown",
      "metadata": {
        "colab_type": "text",
        "id": "kIXVgKhaEV42"
      },
      "source": [
        "[matplotlib.pyplot.legend](https://matplotlib.org/3.1.1/api/_as_gen/matplotlib.pyplot.legend.html)\n",
        "- Place a legend on the axes.\n",
        "- matplotlib.pyplot.**legend**(_\\*args, \\**kwargs_)"
      ]
    },
    {
      "cell_type": "markdown",
      "metadata": {
        "colab_type": "text",
        "id": "Ac3yBz517o5Y"
      },
      "source": [
        "도표에 여러 개의 선을 추가하려면 **plot**() 메소드를 **show()** 메소드 전에 여러 번 호출한다."
      ]
    },
    {
      "cell_type": "markdown",
      "metadata": {
        "colab_type": "text",
        "id": "4w6tsVxQEV42"
      },
      "source": [
        "다음 예는 두 개의 선을 그린 후, 좌측 상단에 범례를 표현한 것이다."
      ]
    },
    {
      "cell_type": "code",
      "metadata": {
        "colab_type": "code",
        "id": "sDJ3t8CW4NVG",
        "colab": {}
      },
      "source": [
        "# 두 개의 선을 그린 후, 좌측 상단에 범례를 표현한다.\n",
        "x = numpy.arange(1, 10, 0.1)\n",
        "y1 = x * 0.3\n",
        "y2 = numpy.sin(x)\n",
        "\n",
        "pyplot.title('Legend Sample')\n",
        "pyplot.ylabel('y axis')\n",
        "pyplot.xlabel('x axis')\n",
        "\n",
        "# 범례(legend)에 사용할 선 이름을 설정한다.\n",
        "pyplot.plot(x, y1, 'g', label='linear')\n",
        "pyplot.plot(x, y2, 'r', label='non-linear')\n",
        "\n",
        "# 범례(legend)를 설정한다. plot() 다음에 실행해야 한다.\n",
        "pyplot.legend(__TODO__)\n",
        "pyplot.show()"
      ],
      "execution_count": null,
      "outputs": []
    },
    {
      "cell_type": "markdown",
      "metadata": {
        "id": "i3airj73EV44",
        "colab_type": "text"
      },
      "source": [
        "**실행 결과**  \n",
        "\n",
        "![matplot11](https://drive.google.com/uc?id=1Qjl5Kl8kIusx2nQ6kdKD4RYNUS_n7z0d)"
      ]
    },
    {
      "cell_type": "markdown",
      "metadata": {
        "colab_type": "text",
        "id": "yT4xW9pHEV46"
      },
      "source": [
        "앞의 예에서는 **plot**() 메소드의 매개변수 ***label*** 에 선의 이름을 지정했는데, **legend**() 메소드에서도 선의 이름을 지정할 수 있다."
      ]
    },
    {
      "cell_type": "markdown",
      "metadata": {
        "colab_type": "text",
        "id": "P4Nm71nHEV46"
      },
      "source": [
        "각 선에 대한 범례를 추가하려면 각 선에 대한 범례를 순서대로 지정하여 **legend**(*['선1범례', 선2범례', ...], ...*) 메소드를 호출하면 된다."
      ]
    },
    {
      "cell_type": "code",
      "metadata": {
        "colab_type": "code",
        "id": "wLcicA8z431v",
        "colab": {}
      },
      "source": [
        "# 두 개의 선을 그린 후, 좌측 상단에 범례를 표현한다.\n",
        "x = numpy.arange(1, 10, 0.1)\n",
        "y1 = x * 0.3\n",
        "y2 = numpy.sin(x)\n",
        "\n",
        "pyplot.title('Legend Sample')\n",
        "pyplot.ylabel('y axis')\n",
        "pyplot.xlabel('x axis')\n",
        "\n",
        "pyplot.plot(x, y1, 'g')\n",
        "pyplot.plot(x, y2, 'r')\n",
        "\n",
        "# legend() 메소드에서도 범례(legend)에 사용할 선의 이름을 설정할 수 있다.\n",
        "pyplot.legend(__TODO__)\n",
        "pyplot.show()"
      ],
      "execution_count": null,
      "outputs": []
    },
    {
      "cell_type": "markdown",
      "metadata": {
        "id": "vrkQK_8TEV48",
        "colab_type": "text"
      },
      "source": [
        "**실행 결과**  \n",
        "\n",
        "![matplot12](https://drive.google.com/uc?id=1zNqHLBnYadpvmCSBVVCBXTKrNFnZPpfx)"
      ]
    },
    {
      "cell_type": "markdown",
      "metadata": {
        "colab_type": "text",
        "id": "gkAQaeN08FBe"
      },
      "source": [
        "## 주석(annotation)"
      ]
    },
    {
      "cell_type": "markdown",
      "metadata": {
        "colab_type": "text",
        "id": "nUuSgW3SEV5A"
      },
      "source": [
        "도표의 특정 좌표를 가리키는 화살표를 그린 후, 그 화살표에 문자열을 출력하는 기능이다. \n",
        "- **annotate**() 메소드를 **annotate(*'text', xy, xytext, arrowprops*)** 형식으로 사용하면 된다.\n",
        "    + ***'text'*** 는 주석에 표시하는 문자열이고,   \n",
        "    + ***xy*** 는 화살표가 가리키는 점의 위치,  \n",
        "    + ***xytext*** 는 문자열을 출력할 위치,  \n",
        "    + ***arrowprops*** 는 화살표의 속성으로 스타일, 색상 등을 정의한다.\n",
        "- 주석과 화살표에 대해 더 자세한 정보는 아래의 링크를 참고하면 된다.\n",
        "    + https://matplotlib.org/3.1.1/api/_as_gen/matplotlib.pyplot.annotate.html"
      ]
    },
    {
      "cell_type": "markdown",
      "metadata": {
        "colab_type": "text",
        "id": "Cs88b_XuEV5B"
      },
      "source": [
        "    \n",
        "[matplotlib.pyplot.annotate](https://matplotlib.org/3.1.1/api/_as_gen/matplotlib.pyplot.annotate.html)\n",
        "- Annotate the point xy with text text.\n",
        "- matplotlib.pyplot.**annotate**(_s, xy, \\*args, \\**kwargs_)\n",
        "    - In the simplest form, the text is placed at ***xy***.\n",
        "    - Optionally, the text can be displayed in another position ***xytext***. \n",
        "        - An arrow pointing from the text to the annotated point ***xy*** can then be added by defining ***arrowprops***."
      ]
    },
    {
      "cell_type": "markdown",
      "metadata": {
        "colab_type": "text",
        "id": "x60liv95EV5B"
      },
      "source": [
        "초록색 화살표와 문자열로 주석을 표현한 도표를 작성한다."
      ]
    },
    {
      "cell_type": "code",
      "metadata": {
        "colab_type": "code",
        "id": "yH1hpPC7459g",
        "colab": {}
      },
      "source": [
        "# 주석이 있는 도표를 작성한다.\n",
        "x = numpy.arange(1, 10)\n",
        "y = x * 3\n",
        "\n",
        "pyplot.title('Annotation Sample')\n",
        "pyplot.ylabel('y axis')\n",
        "pyplot.xlabel('x axis')\n",
        "\n",
        "# 초록색 화살표와 주석을 설정한다.\n",
        "pyplot.annotate(__TODO__)\n",
        "\n",
        "pyplot.plot(x, y, 'r')\n",
        "pyplot.show()"
      ],
      "execution_count": null,
      "outputs": []
    },
    {
      "cell_type": "markdown",
      "metadata": {
        "id": "0NqXikfoEV5C",
        "colab_type": "text"
      },
      "source": [
        "**실행 결과**  \n",
        "\n",
        "![matplot13](https://drive.google.com/uc?id=19tJKmVnJJ-xgINRcmzM5JiiR2_mIdBhF)"
      ]
    },
    {
      "cell_type": "markdown",
      "metadata": {
        "id": "sgmvZ0GtEV5E",
        "colab_type": "text"
      },
      "source": [
        "## Lab: 상점 고객수 데이터로 선 그래프 그리기"
      ]
    },
    {
      "cell_type": "markdown",
      "metadata": {
        "id": "yra8vme0EV5F",
        "colab_type": "text"
      },
      "source": [
        "다음 데이터는 2010년부터 2020년까지의 상점 고객수 데이터다. 이 데이터를 이용하여 선 그래프를 그리시오."
      ]
    },
    {
      "cell_type": "code",
      "metadata": {
        "id": "cSUHRBBCEV5F",
        "colab_type": "code",
        "colab": {}
      },
      "source": [
        "year = 2010, 2011, 2012, 2013, 2014, 2015, 2016, 2017, 2018, 2019, 2020\n",
        "no_customers = 2031, 2623, 2750, 2908, 3103, 3288, 3453, 3667, 4021, 4300, 4732"
      ],
      "execution_count": null,
      "outputs": []
    },
    {
      "cell_type": "markdown",
      "metadata": {
        "id": "wZfbSO13EV5H",
        "colab_type": "text"
      },
      "source": [
        "**문제**"
      ]
    },
    {
      "cell_type": "markdown",
      "metadata": {
        "id": "a5sqwZMQEV5H",
        "colab_type": "text"
      },
      "source": [
        "---\n",
        "\n",
        "- 년도를 x축으로, 고객수를 y축으로 한다. \n",
        "- 도표의 제목은 'Store Data'로, x축의 라벨은 'Year', y축의 라벨은 'Number of Customers'로 설정한다. \n",
        "- 초록색 선을 가지는 선 그래프를 작성한다.\n",
        "\n",
        "---"
      ]
    },
    {
      "cell_type": "code",
      "metadata": {
        "code_folding": [],
        "id": "MgPm-FPiEV5I",
        "colab_type": "code",
        "colab": {}
      },
      "source": [
        "# Your ansswer here"
      ],
      "execution_count": null,
      "outputs": []
    },
    {
      "cell_type": "markdown",
      "metadata": {
        "id": "WEcZu_CiEV5l",
        "colab_type": "text"
      },
      "source": [
        "# 다양한 도표 그리기"
      ]
    },
    {
      "cell_type": "markdown",
      "metadata": {
        "colab_type": "text",
        "id": "CXQDCmL7_Cqw"
      },
      "source": [
        "matplotlib는 앞서 그린 선 그래프 이외에 여러 다양한 도표를 그릴 수 있다. \n",
        "\n",
        "이를 위해 각 도표마다 다른 메소드를 호출한다. "
      ]
    },
    {
      "cell_type": "markdown",
      "metadata": {
        "colab_type": "text",
        "id": "pOcp87j9EV5m"
      },
      "source": [
        "예를 들어, 막대 그래프를 그리기 위해서는 **bar()** 메소드를, 원 그래프를 그리기 위해서는 **pie()** 메소드를, 히스토그램을 그리기 위해선 **hist()** 메소드를 호출한다."
      ]
    },
    {
      "cell_type": "markdown",
      "metadata": {
        "colab_type": "text",
        "id": "X1Wq5EHV_Jng"
      },
      "source": [
        "## 막대 그래프"
      ]
    },
    {
      "cell_type": "markdown",
      "metadata": {
        "colab_type": "text",
        "id": "91z7mrieEV5m"
      },
      "source": [
        "막대 그래프 데이터 값에 비례하여 높이와 길이를 지닌 직사각형 막대로 범주형 데이터를 표현하는 도표다."
      ]
    },
    {
      "cell_type": "markdown",
      "metadata": {
        "colab_type": "text",
        "id": "oOtaCfjvEV5m"
      },
      "source": [
        "막대 그래프를 작성하려면 **bar()** 메소드를 주로 **bar(*x, height, width=0.8, bottom=None , align='center'*)** 형식으로 사용하면 된다.\n",
        "- ***x*** 는 표현하고자 하는 막대들,  \n",
        "- ***height*** 은 이 막대들의 높이,  \n",
        "- ***width*** 는 막대의 너비,  \n",
        "- ***bottom*** 은 막대 시작 점의 *y* 좌표,  \n",
        "- ***align*** 은 막대가 *x* 축 값의 중앙에 오도록 하거나('center') 모서리로 가도록('edge') 설정한다.\n",
        "- 이외에도 색상이나 레이블 등을 설정할 수 있는데 아래의 링크에서 더 자세한 명령어 들을 확인할 수 있다.\n",
        "    + https://matplotlib.org/api/_as_gen/matplotlib.pyplot.bar.html#matplotlib.pyplot.bar"
      ]
    },
    {
      "cell_type": "markdown",
      "metadata": {
        "colab_type": "text",
        "id": "nBS-jM9OEV5m"
      },
      "source": [
        "[matplotlib.pyplot.bar](https://matplotlib.org/api/_as_gen/matplotlib.pyplot.bar.html#matplotlib.pyplot.bar)    \n",
        "- Make a bar plot.\n",
        "- matplotlib.pyplot.**bar**(_x, height, width=0.8, bottom=None, \\*, align='center', data=None, \\**kwargs_)\n",
        "    - The bars are positioned at ***x*** with the given alignment. Their dimensions are given by ***width*** and ***height***. The vertical baseline is ***bottom*** (default 0).\n",
        "    - Each of ***x***, ***height***, ***width***, and ***bottom*** may either be a scalar applying to all bars, or it may be a sequence of length N providing a separate value for each bar."
      ]
    },
    {
      "cell_type": "markdown",
      "metadata": {
        "colab_type": "text",
        "id": "QUQ2jeTtEV5n"
      },
      "source": [
        "너비 **0.5**의 청록색 막대로 이루어진 막대 그래프를 작성한다."
      ]
    },
    {
      "cell_type": "code",
      "metadata": {
        "colab_type": "code",
        "id": "CrLKhWc3-_iB",
        "colab": {}
      },
      "source": [
        "y = [1, 4, 7, 10, 3, 4, 9, 4.5]\n",
        "x = list('abcdefgh')\n",
        "\n",
        "# 너비 0.5의 청록색('c') 막대로 이루어진 막대 그래프를 설정한다.\n",
        "pyplot.bar(__TODO__)\n",
        "pyplot.show()"
      ],
      "execution_count": null,
      "outputs": []
    },
    {
      "cell_type": "markdown",
      "metadata": {
        "id": "uwNPNN8nEV5o",
        "colab_type": "text"
      },
      "source": [
        "**실행 결과**  \n",
        "\n",
        "![matplot20](https://drive.google.com/uc?id=1GmsJJiINh5oMm7zF38_opMP8mnz_05KM)"
      ]
    },
    {
      "cell_type": "markdown",
      "metadata": {
        "colab_type": "text",
        "id": "azSbq5C1_Upd"
      },
      "source": [
        "만약 x축의 눈금 라벨이 너무 긴 경우 **xticks()** 메소드의 매개변수 ***rotation*** 을 사용하여 글자를 회전시킬 수 있다."
      ]
    },
    {
      "cell_type": "markdown",
      "metadata": {
        "colab_type": "text",
        "id": "gNVoQttUEV5q"
      },
      "source": [
        "[matplotlib.pyplot.xticks](https://matplotlib.org/api/_as_gen/matplotlib.pyplot.xticks.html#matplotlib.pyplot.xticks)\n",
        "- Get or set the current tick locations and labels of the x-axis.\n",
        "- matplotlib.pyplot.**xticks**(_ticks=None, labels=None, \\**kwargs_)\n",
        "\n",
        "Call signatures:\n",
        "\n",
        "<pre>locs, labels = xticks()            # Get locations and labels\n",
        "xticks(ticks, [labels], **kwargs)  # Set locations and labels</pre>"
      ]
    },
    {
      "cell_type": "code",
      "metadata": {
        "colab_type": "code",
        "id": "vkH0E9yV_LgQ",
        "colab": {}
      },
      "source": [
        "y = [1, 4, 7, 10, 3, 4, 9, 4.5]\n",
        "x = range(101, 109)\n",
        "\n",
        "# 너비 0.5의 청록색('c') 막대로 이루어진 막대 그래프의 \n",
        "# x축의 라벨을 90도 회전해서 보이도록 설정한다.\n",
        "pyplot.bar(__TODO__)\n",
        "pyplot.xticks(__TODO__)\n",
        "pyplot.show()"
      ],
      "execution_count": null,
      "outputs": []
    },
    {
      "cell_type": "markdown",
      "metadata": {
        "id": "7vfyeiVyEV5r",
        "colab_type": "text"
      },
      "source": [
        "**실행 결과**  \n",
        "\n",
        "![matplot21](https://drive.google.com/uc?id=1wXhCYz7SgeJ5suihHgHGD6eljTTkyv7p)"
      ]
    },
    {
      "cell_type": "markdown",
      "metadata": {
        "colab_type": "text",
        "id": "9kM5cFRQ_aPL"
      },
      "source": [
        "모든 막대 당 하나의 눈금이 기본으로 붙는 게 아니기 때문에 많은 막대를 그릴 경우에는 자연스럽게 눈금이 생략될 수 있다. "
      ]
    },
    {
      "cell_type": "markdown",
      "metadata": {
        "colab_type": "text",
        "id": "sImzmr-IEV5t"
      },
      "source": [
        "이런 때는 **xticks()** 메소드를 사용하여 눈금의 위치와 이름을 설정하면 된다. \n",
        "- 매개변수인 ***ticks*** 에는 눈금의 위치가, ***labels*** 에는 눈금의 이름이 들어가게 된다. \n",
        "- ***ticks*** 와 ***labels*** 는 같이 설정해야 하며 크기가 동일해야 한다. \n",
        "- 이 중 하나가 빠지면 오류가 나며 ***ticks*** 의 숫자와 ***labels*** 의 숫자가 일치하지 않으면 잘못된 위치에 눈금이 생길 수도 있으니 주의해야 한다."
      ]
    },
    {
      "cell_type": "markdown",
      "metadata": {
        "colab_type": "text",
        "id": "J2w5_QGjEV5t"
      },
      "source": [
        "[matplotlib.pyplot.xticks](https://matplotlib.org/api/_as_gen/matplotlib.pyplot.xticks.html#matplotlib.pyplot.xticks)\n",
        "- Get or set the current tick locations and labels of the x-axis.\n",
        "- matplotlib.pyplot.**xticks**(_ticks=None, labels=None, \\**kwargs_)\n",
        "\n",
        "Call signatures:\n",
        "\n",
        "<pre>locs, labels = xticks()            # Get locations and labels\n",
        "xticks(ticks, [labels], **kwargs)  # Set locations and labels</pre>"
      ]
    },
    {
      "cell_type": "markdown",
      "metadata": {
        "colab_type": "text",
        "id": "DK_sxsQ1EV5t"
      },
      "source": [
        "국적별 전체 외국인 관광객 수를 막대 그래프로 작성한다. "
      ]
    },
    {
      "cell_type": "code",
      "metadata": {
        "code_folding": [],
        "id": "RnItl9OgEV5t",
        "colab_type": "code",
        "colab": {}
      },
      "source": [
        "# y축의 값을 설정한다.\n",
        "number_of_tourists_total = [\n",
        "    258522, 102241, 58600, 49998, \n",
        "    49282, 43190, 41739, 23760\n",
        "]\n",
        "\n",
        "# 0부터 7번까지의 막대 밑에 눈금으로 이름을 설정한다.\n",
        "# 즉, ticks를 0, 1, 2, 3, 4, 5, 6, 7로\n",
        "# labels를 x_labels로 설정한다.\n",
        "x_labels = ('Japan', 'Taiwan', 'Hong Kong', 'Thailand', \n",
        "            'Malaysia', 'Vietnam', 'Philippines', 'Indonesia')\n",
        "pyplot.xticks(__TODO__)\n",
        "\n",
        "pyplot.bar(__TODO__)\n",
        "pyplot.show()"
      ],
      "execution_count": null,
      "outputs": []
    },
    {
      "cell_type": "markdown",
      "metadata": {
        "id": "-MX3zVQ7EV5u",
        "colab_type": "text"
      },
      "source": [
        "**실행 결과**  \n",
        "\n",
        "![matplot22](https://drive.google.com/uc?id=1CjJ5Z7o8e_MHQ0X9JwT2GtHMo608F3ry)"
      ]
    },
    {
      "cell_type": "markdown",
      "metadata": {
        "id": "ky1dyhrlEV50",
        "colab_type": "text"
      },
      "source": [
        "### Lab: 상점 고객수 데이터로 막대 그래프 그리기 "
      ]
    },
    {
      "cell_type": "markdown",
      "metadata": {
        "id": "RR5oNR_5EV50",
        "colab_type": "text"
      },
      "source": [
        "다음 데이터는 2010년부터 2020년까지의 상점 고객수 데이터다. 이 데이터를 이용하여 선 그래프를 그리시오."
      ]
    },
    {
      "cell_type": "code",
      "metadata": {
        "id": "WgJtNm3xEV50",
        "colab_type": "code",
        "colab": {}
      },
      "source": [
        "year = 2010, 2011, 2012, 2013, 2014, 2015, 2016, 2017, 2018, 2019, 2020\n",
        "no_customers = 2031, 2623, 2750, 2908, 3103, 3288, 3453, 3667, 4021, 4300, 4732"
      ],
      "execution_count": null,
      "outputs": []
    },
    {
      "cell_type": "markdown",
      "metadata": {
        "id": "ffPV78UNEV51",
        "colab_type": "text"
      },
      "source": [
        "**문제**"
      ]
    },
    {
      "cell_type": "markdown",
      "metadata": {
        "id": "aZ54c-9HEV51",
        "colab_type": "text"
      },
      "source": [
        "---\n",
        "\n",
        "- 년도 크기만큼의 범위를 x축으로, 고객수를 y축으로 한다. \n",
        "- 모든 막대에 하나의 눈금이 기본으로 붙도록 ***xticks***를 설정하고 눈금의 라벨이 겹치지 않도록 45도로 회전한다.\n",
        "- 도표의 제목은 'Store Data'로, x축의 라벨은 'Year', y축의 라벨은 'Number of Customers'로 설정한다. \n",
        "- 파란색 막대를 가지는 막대 그래프를 작성한다.\n",
        "\n",
        "---"
      ]
    },
    {
      "cell_type": "code",
      "metadata": {
        "code_folding": [],
        "id": "dNSVICHREV52",
        "colab_type": "code",
        "colab": {}
      },
      "source": [
        "# Your answer here"
      ],
      "execution_count": null,
      "outputs": []
    },
    {
      "cell_type": "markdown",
      "metadata": {
        "colab_type": "text",
        "id": "txnxZz6PAq4z"
      },
      "source": [
        "## 막대 그래프 나란히 그리기"
      ]
    },
    {
      "cell_type": "markdown",
      "metadata": {
        "colab_type": "text",
        "id": "C8LpeEkdEV53"
      },
      "source": [
        "막대 두 개를 나란히 그릴 때는 x축 눈금(xticks) 설정에 유의해야 한다. "
      ]
    },
    {
      "cell_type": "markdown",
      "metadata": {
        "colab_type": "text",
        "id": "UoNkV3fIEV53"
      },
      "source": [
        "자세한 내용은 아래 링크에서 확인할 수 있다.\n",
        "- Grouped bar chart with labels\n",
        "- https://matplotlib.org/3.1.1/gallery/lines_bars_and_markers/barchart.html#sphx-glr-gallery-lines-bars-and-markers-barchart-py"
      ]
    },
    {
      "cell_type": "markdown",
      "metadata": {
        "colab_type": "text",
        "id": "qiOwpFNWEV53"
      },
      "source": [
        "학생들의 퀴즈 점수 평균을 성별과 반으로 나누어 막대 그래프로 작성한다. 여기서는 두 ***x*** 값들의 중간값으로 설정한다."
      ]
    },
    {
      "cell_type": "code",
      "metadata": {
        "code_folding": [],
        "colab_type": "code",
        "id": "30y04nOWBHku",
        "colab": {}
      },
      "source": [
        "# 각 막대 위에 y 값을 입력하기 위한 함수\n",
        "def autolabel(rects):\n",
        "    for rect in rects:\n",
        "        height = rect.get_height()\n",
        "        pyplot.annotate(f'{height}',\n",
        "                    xy=(rect.get_x() + rect.get_width() / 2, height),\n",
        "                    xytext=(0, 3),  # 3 points vertical offset\n",
        "                    textcoords='offset points',\n",
        "                    ha='center', va='bottom')\n",
        "\n",
        "men_means = 20, 35, 30, 35, 27      # 남학생 퀴즈 평균 점수\n",
        "women_means = 28, 32, 34, 20, 25    # 여학생 퀴즈 평균 점수\n",
        "\n",
        "x_labels = [                        # x축 라벨\n",
        "    'Classroom 1', 'Classroom 2', 'Classroom 3', \n",
        "    'Classroom4', 'Classroom 5'\n",
        "]\n",
        "x = numpy.arange(len(x_labels))     # x축 눈금\n",
        "width = 0.35                        # 막대의 너비\n",
        "\n",
        "# 도표의 크기를 설정한다.\n",
        "pyplot.figure(figsize=(8,8))\n",
        "\n",
        "pyplot.title('Quiz Score by Student Groups and Gender')\n",
        "pyplot.ylabel('Quiz Score')\n",
        "pyplot.xticks(x, x_labels)\n",
        "\n",
        "# 두 개의 막대를 나란히 보여주는 막대 그래프를 설정한다.\n",
        "bar_men = pyplot.bar(__TODO__, men_means, width, label='Men')\n",
        "bar_women = pyplot.bar(__TODO__, women_means, width, label='Women')\n",
        "\n",
        "pyplot.legend()\n",
        "autolabel(bar_men)                  # 남학생 퀴즈 평균 점수를 막대 위에 표시한다.\n",
        "autolabel(bar_women)                # 여학생 퀴즈 평균 점수를 막대 위에 표시한다.\n",
        "pyplot.show()"
      ],
      "execution_count": null,
      "outputs": []
    },
    {
      "cell_type": "markdown",
      "metadata": {
        "id": "eS_Z2OEoEV56",
        "colab_type": "text"
      },
      "source": [
        "**실행 결과**  \n",
        "\n",
        "![matplot24](https://drive.google.com/uc?id=1r3Dan7izBS_Tzm0xS3yIR_GLZ4DVIETI)"
      ]
    },
    {
      "cell_type": "markdown",
      "metadata": {
        "id": "uEPIU1HtEV58",
        "colab_type": "text"
      },
      "source": [
        "**참고**  \n",
        "\n",
        "두 개 이상의 데이터를 시각화 할 때 color를 지정하지 않으면 matplotlib에서는 파랑, 주황, 초록, 빨강, 보라 .. 순으로 색이 자동으로 설정된다.\n",
        "- https://matplotlib.org/gallery/color/color_cycle_default.html"
      ]
    },
    {
      "cell_type": "markdown",
      "metadata": {
        "colab_type": "text",
        "id": "RPX6FS_RDf0C"
      },
      "source": [
        "## 누적 막대 그래프"
      ]
    },
    {
      "cell_type": "markdown",
      "metadata": {
        "colab_type": "text",
        "id": "AzMhD7K9EV59"
      },
      "source": [
        "누적(stacked) 막대 그래프는 막대를 사용하여 데이터 범주 간 비교를 표시하지만 전체를 부분으로 나눠 비교할 수 있는 도표다. 도표의 각 막대는 전체를 나타내고 막대의 세그먼트는 전체의 일부분이나 범주를 나타낸다."
      ]
    },
    {
      "cell_type": "markdown",
      "metadata": {
        "colab_type": "text",
        "id": "3Nwh3DpzEV59"
      },
      "source": [
        "누적 막대 그래프는 총계를 표시하고 각 범주 값이 어떻게 총계의 부분으로 나눠지는지 한 눈에 확인할 수 있어 편리하다."
      ]
    },
    {
      "cell_type": "markdown",
      "metadata": {
        "colab_type": "text",
        "id": "ewr-NA7VEV59"
      },
      "source": [
        "**bar()** 메소드로 여러 개의 바를 생성하여 누적 막대 그래프를 그릴 수 있다. 예를 들어, 두 개의 범주가 있을 때 **bar()** 메소드로 두 개의 막대를 생성하면 되는데 아래에 오는 값으로 먼저 막대를 생성한 후, 그 위에 오는 값으로 막대를 생성할 때 매개변수 ***bottom*** 의 전달인자로 아래에 오는 막대의 값을 지정하면 된다. "
      ]
    },
    {
      "cell_type": "markdown",
      "metadata": {
        "colab_type": "text",
        "id": "SBLrIEs9EV59"
      },
      "source": [
        "막대 그래프 위에 오차 막대(error bar)를 표시해주고 싶으면 매개변수 ***yerr*** 에 값을 전달인자로 지정하면 된다. 오차 막대의 너비는 매개변수 ***capsize*** 로 설정하면 된다. 마지막으로 **legend()** 메소드를 사용하여 각 값이 의미하는 바를 범례로 표시한다."
      ]
    },
    {
      "cell_type": "markdown",
      "metadata": {
        "colab_type": "text",
        "id": "KRebBowEEV59"
      },
      "source": [
        "학생들의 퀴즈 점수 평균과 표준편차를 성별과 반으로 나누어 누적 막대 그래프로 작성한다. "
      ]
    },
    {
      "cell_type": "code",
      "metadata": {
        "id": "N6l2YrqIEV5-",
        "colab_type": "code",
        "colab": {}
      },
      "source": [
        "# x축의 다섯 개 막대는 학생들이 속한 반을 의미하며 여기서 색상이 다른 누적 막대로 성별을 표현한다. \n",
        "# 먼저 먼저 막대 lower_bar을 생성하여 남학생들의 반별 평균 퀴즈 점수를 할당한다. \n",
        "# 마찬가지로 upper_bar에는 여학생들의 반별 평균 퀴즈 점수를 할당하되, \n",
        "# 매개변수인 bottom에 lower_bar의 y 값인 men_means를 지정하여 \n",
        "# lower_bar 위에 upper_bar가 그려지는 누적 바 차트를 작성한다.\n",
        "\n",
        "men_means = 20, 35, 30, 35, 27          # 남학생 퀴즈 평균 점수\n",
        "men_std = 5, 3, 5, 2, 4                 # 남학생 퀴즈 표준편차\n",
        "    \n",
        "women_means = 28, 32, 34, 20, 25        # 여학생 퀴즈 평균 점수\n",
        "women_std = 3, 2, 6, 3, 4               # 여학생 퀴즈 표준편차\n",
        "\n",
        "x_labels = [                            # x축 라벨\n",
        "    'Classroom 1', 'Classroom 2', 'Classroom 3', \n",
        "    'Classroom4', 'Classroom 5'\n",
        "]\n",
        "x = numpy.arange(len(x_labels))         # x축 눈금\n",
        "width = 0.35                            # 막대의 너비\n",
        "\n",
        "# 도표의 크기를 설정한다.\n",
        "pyplot.figure(figsize=(8,8))\n",
        "\n",
        "pyplot.title('Quiz Score by Student Groups and Gender')\n",
        "pyplot.ylabel('Quiz Score')\n",
        "pyplot.yticks(numpy.arange(0, 71, 5))   # y축에 0부터 70까지 눈금을 5의 단위로 작성한다.\n",
        "pyplot.xticks(x, x_labels)\n",
        "\n",
        "# 두 개의 막대를 누적 막대 그래프로 설정한다.\n",
        "lower_bar = pyplot.bar(__TODO__)\n",
        "upper_bar = pyplot.bar(__TODO__)\n",
        "\n",
        "pyplot.legend((lower_bar, upper_bar), ('Men', 'Women'))\n",
        "pyplot.show()"
      ],
      "execution_count": null,
      "outputs": []
    },
    {
      "cell_type": "markdown",
      "metadata": {
        "colab_type": "text",
        "id": "AGb1vcBEEV5_"
      },
      "source": [
        "**실행 결과**  \n",
        "\n",
        "![matplot25](https://drive.google.com/uc?id=1PdTuAY2jwhWm4YeCiojtuUiPftbrf7fe)"
      ]
    },
    {
      "cell_type": "markdown",
      "metadata": {
        "colab_type": "text",
        "id": "EsUPjxtSFrra"
      },
      "source": [
        "## 100% 누적 막대 그래프 그리기"
      ]
    },
    {
      "cell_type": "markdown",
      "metadata": {
        "colab_type": "text",
        "id": "DvDpiC3oEV6A"
      },
      "source": [
        "**100**% 누적 막대 그래프를 그릴 때는 누적해서 작성한 각 바들의 합이 모두 같아야 한다."
      ]
    },
    {
      "cell_type": "markdown",
      "metadata": {
        "colab_type": "text",
        "id": "pnNV_y-uEV6A"
      },
      "source": [
        "여러 개의 막대를 누적하여 그릴 때는 위에 쌓는 막대의 매개변수 ***bottom*** 에 아래에 놓인 모든 막대들의 누적한 값을 전달인자로 지정한다. 예를 들어, 두 번째 막대 B를 첫 번째 막대 A 위에 쌓으려면 B 막대의 ***bottom*** 에 A의 값을, 세 번째 막대 C를 두 번째 막대 B 위에 쌓으려면 C 막대의 ***bottom*** 에 A와 B를 합한 값을 전달인자로 입력한다. 네 번째 막대 D의 경우에는 첫 번째(A), 두 번째(B), 세 번째(C) 막대 값의 합을 D의 ***bottom*** 에 전달하면 된다. 즉, 네 개의 막대를 누적한 누적 막대 그래프를 작성할 때 네 번째 막대의 ***bottom*** 전달인자로 첫 번째, 두 번째, 세 번째 막대 값의 합이 들어간다."
      ]
    },
    {
      "cell_type": "markdown",
      "metadata": {
        "id": "dkgzsuQuEV6B",
        "colab_type": "text"
      },
      "source": [
        "연령대 별 선호하는 교통수단을 **100**% 누적 막대 그래프로 작성한다. 참고로 **100**% 누적 막대 그래프를 그릴 때는 누적해서 작성한 각 막대(여기서는 각 연령대)들의 합이 모두 같아야 한다. 각 막대의 합이 다르면 그래프가 그려는 지지만 막대의 높이가 일정하지 않고 달라진다."
      ]
    },
    {
      "cell_type": "code",
      "metadata": {
        "id": "SikSIzPfEV6B",
        "colab_type": "code",
        "colab": {}
      },
      "source": [
        "# 연령대 별 선호하는 교통수단을 100% 누적 막대 그래프로 설정한다.\n",
        "\n",
        "# y축 값으로 각 범주의 합이 28이다.\n",
        "car    =  2,  3, 15,  5\n",
        "bus    =  6, 10,  4,  7\n",
        "subway = 12, 10,  9, 14\n",
        "taxi   =  8,  5,  0,  2\n",
        "sum_of_car_bus = __TODO__\n",
        "sum_of_car_bus_subway = __TODO__\n",
        "\n",
        "# x축 라벨과 눈금 \n",
        "x_labels = 'Age 10-20', 'Age 20-30', 'Age 30-40', 'Age 40-50'\n",
        "x = range(len(x_labels))\n",
        "\n",
        "# 도표의 크기를 설정한다.\n",
        "pyplot.figure(figsize=(10, 10))\n",
        "\n",
        "pyplot.title('Favorite Transportation by Age Groups')\n",
        "pyplot.ylabel('Counts')\n",
        "pyplot.xlabel('Groups')\n",
        "pyplot.xticks(x, x_labels)\n",
        "\n",
        "bar1 = pyplot.bar(x, car)\n",
        "bar2 = pyplot.bar(x, bus, bottom=car)\n",
        "bar3 = pyplot.bar(x, subway, bottom=sum_of_car_bus)\n",
        "bar4 = pyplot.bar(x, taxi, bottom=sum_of_car_bus_subway)\n",
        "\n",
        "pyplot.legend((bar1, bar2, bar3, bar4), \n",
        "              ('Car', 'Bus', 'Subway', 'Taxi'), \n",
        "              bbox_to_anchor=(1.01, 0.94), \n",
        "              loc='best')  # loc='center left'\n",
        "pyplot.show()"
      ],
      "execution_count": null,
      "outputs": []
    },
    {
      "cell_type": "markdown",
      "metadata": {
        "id": "wsh7CGGoEV6C",
        "colab_type": "text"
      },
      "source": [
        "**실행 결과**  \n",
        "\n",
        "![matplot26](https://drive.google.com/uc?id=1it1U5SSQ3B_91z1G3oibMAP9WFIYNky-)"
      ]
    },
    {
      "cell_type": "markdown",
      "metadata": {
        "colab_type": "text",
        "id": "E0NN4lEPIa_W"
      },
      "source": [
        "## 원 그래프"
      ]
    },
    {
      "cell_type": "markdown",
      "metadata": {
        "colab_type": "text",
        "id": "t-iBq3hnEV6D"
      },
      "source": [
        "원 그래프는 전체에 대한 각 부분의 비율을 부채꼴 모양으로 나타낸 그래프이며, 각 부분의 비율을 한 눈에 볼 수 있다는 장점이 있다."
      ]
    },
    {
      "cell_type": "markdown",
      "metadata": {
        "colab_type": "text",
        "id": "K8gcirJGEV6D"
      },
      "source": [
        "원 그래프를 작성하려면 **pie()** 메소드를 주로 **pie(*x, explode, labels=None, autopct=None, shadow=False, startangle=None*)** 형식으로 사용하면 된다.\n",
        "- ***x*** 는 부채꼴(wedge) 크기,  \n",
        "- ***explode*** 는 원 그래프에서 특정 부채꼴만 떼어내어 강조할 때,  \n",
        "- ***labels*** 는 각 부채꼴의 라벨,  \n",
        "- ***autopct*** 는 해당 항목이 전체의 몇 퍼센트인지 값 표시를 해줘야 할 때,  \n",
        "- ***shadow*** 는 원 아래에 그림자가 생기도록 설정하고,  \n",
        "- ***startangle*** 은 원 그래프의 시작을 설정한 각도만큼 x 축에서 시계 반대 방향으로 회전한다.\n",
        "- 더 자세한 내용은 아래의 링크에서 확인할 수 있다.\n",
        "    + https://matplotlib.org/3.1.1/api/_as_gen/matplotlib.pyplot.pie.html"
      ]
    },
    {
      "cell_type": "markdown",
      "metadata": {
        "colab_type": "text",
        "id": "exnGZUWbEV6E"
      },
      "source": [
        "그리고 **axis('equal')**로 로 설정하면 Equal aspect ratio를 사용하여 그려지는 도표의 x축과 y축의 길이 비율이 같도록 설정할 수 있다. "
      ]
    },
    {
      "cell_type": "markdown",
      "metadata": {
        "colab_type": "text",
        "id": "AnjF-15TEV6E"
      },
      "source": [
        "즉, 원 그래프의 데이터나 설정 등에 따라 그려지는 파이가 원이 아닌 타원의 형태로 그려질 수 있는데 x축과 y축의 길이 비율이 같게 하여 원형으로 그려지도록 한다. "
      ]
    },
    {
      "cell_type": "markdown",
      "metadata": {
        "colab_type": "text",
        "id": "cOMSL3qwEV6E"
      },
      "source": [
        "[matplotlib.pyplot.pie](https://matplotlib.org/3.1.1/api/_as_gen/matplotlib.pyplot.pie.html)\n",
        "- Plot a pie chart.\n",
        "- matplotlib.pyplot.**pie**(_x, explode=None, labels=None, colors=None, autopct=None, pctdistance=0.6, shadow=False, labeldistance=1.1, startangle=None, radius=None, counterclock=True, wedgeprops=None, textprops=None, center=(0, 0), frame=False, rotatelabels=False, \\*, data=None_)\n",
        "    - Make a pie chart of array ***x***. The fractional area of each wedge is given by **x/sum(x)**. If **sum(x) < 1**, then the values of ***x*** give the fractional area directly and the array will not be normalized. The resulting pie will have an empty wedge of **size 1 - sum(x)**.\n",
        "    - The wedges are plotted counterclockwise, by default starting from the x-axis."
      ]
    },
    {
      "cell_type": "markdown",
      "metadata": {
        "id": "zETLbmvvEV6E",
        "colab_type": "text"
      },
      "source": [
        "학생들의 통학 수단을 원 그래프로 작성한다."
      ]
    },
    {
      "cell_type": "code",
      "metadata": {
        "colab_type": "code",
        "id": "WKSwLfufH51k",
        "colab": {}
      },
      "source": [
        "# --- 학생들의 통학 수단을 원 그래프로 설정한다.\n",
        "\n",
        "# 부채꼴의 값과 라벨을 설정한다.\n",
        "labels = 'Car', 'Taxi', 'Bus', 'Train'\n",
        "wedges = 20, 28, 45, 7\n",
        "\n",
        "# 두 번째 부채꼴인 Taxi만 떼어내어 강조한다. explode의 전달인자는 각 부채꼴의 강조 정도를 뜻한다. \n",
        "# 0일 경우 원 그래프의 중심점에 붙어 있으며 값이 커질수록 중심에서 떨어져 강조가 된다.\n",
        "# 여기서는 (0, 0.1, 0, 0)으로 설정했기 때문에 첫 번째, 세 번째, 네 번째 웨지는 0 이므로 중심에 붙어 있고\n",
        "# 두번째 부채꼴만 0.1 만큼 중심에서 떨어진다.\n",
        "explode = (0, 0.1, 0, 0)  \n",
        "\n",
        "# autopct='%0.1f%%'에서 가장 왼쪽의 %는 데이터를 백분율의 형태로 표현하도록 변환해주며 \n",
        "# 0.1f는 소수점 첫번째 자리까지 표현하도록 설정한다. 오른쪽의 %%는 각 부채꼴에서 표현하는 값 \n",
        "# 뒤에 %를 붙여준다. '%'를 표현하기 위해서는 %%로 작성해야 한다.\n",
        "pyplot.pie(__TODO__)   \n",
        "\n",
        "# 도표의 x축과 y축의 길이 비율이 같도록 설정하여 원 그래프가 원형으로 그려지도록 한다.\n",
        "pyplot.axis('equal')  \n",
        "pyplot.show()"
      ],
      "execution_count": null,
      "outputs": []
    },
    {
      "cell_type": "markdown",
      "metadata": {
        "id": "h0yYIXbKEV6F",
        "colab_type": "text"
      },
      "source": [
        "**실행 결과**  \n",
        "\n",
        "![matplot27](https://drive.google.com/uc?id=1FI0hARFftbUjbJLokC3JFjwC5n0DJG-s)"
      ]
    },
    {
      "cell_type": "markdown",
      "metadata": {
        "colab_type": "text",
        "id": "_fcvE8n-IfCC"
      },
      "source": [
        "## 히스토그램"
      ]
    },
    {
      "cell_type": "markdown",
      "metadata": {
        "colab_type": "text",
        "id": "rL_TbKbWEV6J"
      },
      "source": [
        "히스토그램은 도수분포표를 시각적으로 표현한 막대 그래프다. \n",
        "\n",
        "즉, 특정 구간에 속하는 자료의 개수를 나타내는 빈도표(frequency table)인 도수분포표를 시각화한 도형으로 비교할 양이나 수치에 대한 구간별 빈도수를 막대 모양의 도형으로 나타낸 그래프다."
      ]
    },
    {
      "cell_type": "markdown",
      "metadata": {
        "colab_type": "text",
        "id": "ThByAcc2EV6J"
      },
      "source": [
        "히스토그램을 작성하려면 **hist()** 메소드를 주로 **hist(*x, bins=None, density=None, weights=None, cumulative=False, histtype='bar', orientation='vertical', rwidth=None, color=None, **kwargs*)** 형식으로 사용하면 된다.\n",
        "- ***x*** 는 입력되는 데이터 값,  \n",
        "- ***bins*** 는 구간 수, 즉 도형에 들어갈 막대 개수,  \n",
        "- ***density*** 는 확률 밀도를 설정하기 위한 가중치 데이터 정규화,  \n",
        "- ***weights*** 는 각 *x* 값에서의 가중치 데이터로 히스토그램에서 y축이라 볼 수 있다.  \n",
        "- ***cumulative*** 는 **bool** 자료형을 입력받는데 **True**이면 *x* 방향으로 진행할수록 가중치 데이터가 축적되어 그래프를 그리며 해당 값을 반환한다. \n",
        "- ***histtype*** 에는 'bar', 'barstacked', 'step', 'stepfilled' 등이 있는데,\n",
        "    + 'bar'는 전통적인 형태의 막대 히스토그램(기본값),  \n",
        "    + 'barstacked'는 누적 막대 히스토그램,  \n",
        "    + 'step'은 안이 비어 있는 선 히스토그램  \n",
        "    + 'stepfilled'는 안이 차 있는 선 히스토그램을 그려준다. \n",
        "    + 아래 링크에서 더 자세한 내용을 확인할 수 있다.\n",
        "        - https://matplotlib.org/3.1.1/gallery/statistics/histogram_histtypes.html#sphx-glr-gallery-statistics-histogram-histtypes-py\n",
        "- ***orientation*** 은 막대가 그려지는 방향을 설정하는데 'horizontal'과 'vertical'이 있다. \n",
        "    + 'vertical'은 세로로 그려주며(기본값)\n",
        "    + 'horizontal'은 가로로 그려준다.\n",
        "- ***rwidth*** 는 막대의 상대적인 크기다. 단, ***histtype*** 이 'step'이나 'stepfilled'면 ***rwidth*** 값은 무시한다.\n",
        "- ***color*** 는 막대의 색깔을 지정한다. 지정하지 않으면 기본값이 적용된다.\n",
        "- ***facecolor*** 는 막대의 색깔을 통일하여 지정한다. ***facecolor*** 를 설정하면, 입력되는 데이터 값 ***x***가 다차원 리스트일 경우 ***color*** 로 일일이 지정하지 않고 전체 막대들의 색상을 한번에 설정할 수 있다.\n",
        "    + 히스토그램의 데이터가 한 개가 아니고 여러 개면 막대의 color를 선택할 때는 각 데이터마다 하나씩 색상을 설정해야 한다. 예를 들어, 1차원 리스트 3개를 리스트로 담고 있는 2차원 리스트의 데이터가 있다면 색상을 설정할 때 **color=['g', 'g', 'g']**와 같이 작성해야 한다. 만약 여러 개의 데이터를 하나의 색깔로 지정하려면 키워드 매개변수 중 ***facecolor*** 를 사용해서 색깔을 설정하면 여러 데이터로 그려지는 전체 막대들의 색상을 통일할 수 있다. 즉, 색상을 설정할 때 **facecolor='g'**로 하면 모든 막대의 색상을 초록색으로 통일할 수 있다. 이 ***facecolor*** 매개변수는 어떤 메소드의 변수로 사용되냐에 따라 막대, 축, 그래프의 배경 색상 등을 설정할 수 있다. 더 자세한 내용은 아래의 링크에서 확인할 수 있다.\n",
        "        - https://matplotlib.org/api/_as_gen/matplotlib.patches.Patch.html#matplotlib.patches.Patch.set_facecolor\n",
        "- ***alpha*** 는 막대의 투명도를 설정한다. **0~1** 사이의 값을 가지며 **0**에 가까울수록 투명, **1**에 가까울수록 불투명한 막대가 생성된다.\n",
        "- 더 자세한 내용은 아래의 링크에서 확인할 수 있다.\n",
        "    + https://matplotlib.org/3.1.1/api/_as_gen/matplotlib.pyplot.hist.html "
      ]
    },
    {
      "cell_type": "markdown",
      "metadata": {
        "colab_type": "text",
        "id": "XXSjhQMVEV6J"
      },
      "source": [
        "[matplotlib.pyplot.hist](https://matplotlib.org/3.1.1/api/_as_gen/matplotlib.pyplot.hist.html)    \n",
        "- Plot a histogram.\n",
        "- matplotlib.pyplot.**hist**(_x, bins=None, range=None, density=None, weights=None, cumulative=False, bottom=None, histtype='bar', align='mid', orientation='vertical', rwidth=None, log=False, color=None, label=None, stacked=False, normed=None, \\*, data=None, \\**kwargs_)\n",
        "    - Compute and draw the histogram of ***x***. The return value is a tuple **(n, bins, patches)** or **([n0, n1, ...], bins, [patches0, patches1,...])** if the input contains multiple data. See the documentation of the ***weights*** parameter to draw a histogram of already-binned data.\n",
        "    - Multiple data can be provided via ***x*** as a list of datasets of potentially different length **([x0, x1, ...])**, or as a 2-D ndarray in which each column is a dataset. Note that the ndarray form is transposed relative to the list form."
      ]
    },
    {
      "cell_type": "markdown",
      "metadata": {
        "id": "DAAH2RWrEV6K",
        "colab_type": "text"
      },
      "source": [
        "학생들의 키 데이터를 막대 히스토그램으로 작성한다. "
      ]
    },
    {
      "cell_type": "code",
      "metadata": {
        "id": "t3UNDvHFEV6K",
        "colab_type": "code",
        "colab": {}
      },
      "source": [
        "# 학생들의 키 데이터를 막대 히스토그램으로 작성한다.\n",
        "height = [\n",
        "    140, 146, 154, 156, 156, 158, 160, 161, 162, 163, 164, 165, \n",
        "    170, 171, 172, 172, 173, 174, 177, 179, 180, 181, 185, 188, 190\n",
        "]\n",
        "\n",
        "# 구간을 5로 설정하여 위의 데이터들을 5개의 막대로 표현한다. \n",
        "# color='r'로 설정하야 막대의 색깔을 red로 표현한다.\n",
        "pyplot.hist(__TODO__)\n",
        "pyplot.show()"
      ],
      "execution_count": null,
      "outputs": []
    },
    {
      "cell_type": "markdown",
      "metadata": {
        "id": "p9pLGpe3EV6M",
        "colab_type": "text"
      },
      "source": [
        "**실행 결과**  \n",
        "\n",
        "![matplot28](https://drive.google.com/uc?id=12LB4M3pxpfwVoaJvQJaDMUlyBqF5o6F4)"
      ]
    },
    {
      "cell_type": "markdown",
      "metadata": {
        "id": "-NR-g72PEV6O",
        "colab_type": "text"
      },
      "source": [
        "앞과 같은 데이터로 다른 형태의 막대 히스토그램을 작성해보자."
      ]
    },
    {
      "cell_type": "code",
      "metadata": {
        "id": "gaWhYPUoEV6O",
        "colab_type": "code",
        "colab": {}
      },
      "source": [
        "# 학생들의 키 데이터를 다른 형태의 막대 히스토그램을 작성한다.\n",
        "height = [\n",
        "    140, 146, 154, 156, 156, 158, 160, 161, 162, 163, 164, 165, \n",
        "    170, 171, 172, 172, 173, 174, 177, 179, 180, 181, 185, 188, 190\n",
        "]\n",
        "\n",
        "# 앞의 코드는 기본값을 사용했기 때문에 density=True, cumulative=True로 설정하였다. \n",
        "# y축이 빈도에서 확률 밀도로 변경하고 그래프 막대가 x축의 방향으로 진행함에 따라 구간 값을 축적해서 그리도록 한다.\n",
        "# 그리고 생성하는 5개의 막대간 간격이 있도록 rwidth = 0.9로 설정한다.\n",
        "pyplot.hist(__TODO__)\n",
        "pyplot.show();"
      ],
      "execution_count": null,
      "outputs": []
    },
    {
      "cell_type": "markdown",
      "metadata": {
        "id": "6OBwn2wvEV6P",
        "colab_type": "text"
      },
      "source": [
        "**실행 결과**  \n",
        "\n",
        "![matplot29](https://drive.google.com/uc?id=13tGd6jFovMgVXnIWVjQUHlvErwgwv6Ig)"
      ]
    },
    {
      "cell_type": "markdown",
      "metadata": {
        "id": "BEgGn-xCEV6W",
        "colab_type": "text"
      },
      "source": [
        "## 박스 그래프"
      ]
    },
    {
      "cell_type": "markdown",
      "metadata": {
        "id": "kMy3MhG6EV6W",
        "colab_type": "text"
      },
      "source": [
        "박스 그래프는 데이터의 분포를 시각적으로 표현한 박스 모양의 그래프다. 데이터의 범위, 중앙값과 이상치를 빠르게 확인할 수 있는 장점이 있다."
      ]
    },
    {
      "cell_type": "markdown",
      "metadata": {
        "id": "nYdQI466EV6X",
        "colab_type": "text"
      },
      "source": [
        "박스 그래프를 작성하려면 **boxplot()** 메소드를 주로 **boxplot(*x, notch=None, sym=None, vert=None, labels=None*)** 형식으로 사용하면 된다.\n",
        "- ***x*** 는 입력되는 데이터 값이다.  \n",
        "- ***notch*** 는 ***bool*** 자료형을 입력받으며 **True**면 잘록한 박스 그래프(notched box plot)를 그려 중앙값의 신뢰 구간을 표현한다. \n",
        "- ***sym*** 는 문자열을 입력받아 박스 그래프에서 이상치들을 어떤 모양으로 표시할지 설정한다. \n",
        "    + 기본값으로 'o' 모양이 설정되어 있으며 이상치를 표시하지 않기 위해서는 **sym=''**로 설정하면 된다.  \n",
        "- ***vert*** 는 ***bool*** 자료형을 입력받으며 **True**면 박스 그래프를 세로로, **False**이면 가로로 작성한다. \n",
        "    + 기본값은 **True**다.  \n",
        "- ***labels*** 는 박스를 라벨링할 때 사용된다. \n",
        "    + ***labels*** 의 길이는 입력되는 데이터 ***x*** 의 차원과 같아야 한다.\n",
        "- 더 자세한 내용은 아래의 링크에서 확인할 수 있다.\n",
        "    + https://matplotlib.org/api/_as_gen/matplotlib.pyplot.boxplot.html"
      ]
    },
    {
      "cell_type": "markdown",
      "metadata": {
        "id": "XCIzuen4EV6X",
        "colab_type": "text"
      },
      "source": [
        "[matplotlib.pyplot.boxplot](https://matplotlib.org/api/_as_gen/matplotlib.pyplot.boxplot.html)\n",
        "- Make a box and whisker plot.\n",
        "- matplotlib.pyplot.**boxplot**(*x, notch=None, sym=None, vert=None, whis=None, positions=None, widths=None, patch_artist=None, bootstrap=None, usermedians=None, conf_intervals=None, meanline=None, showmeans=None, showcaps=None, showbox=None, showfliers=None, boxprops=None, labels=None, flierprops=None, medianprops=None, meanprops=None, capprops=None, whiskerprops=None, manage_ticks=True, autorange=False, zorder=None, data=None*)\n",
        "    - Make a box and whisker plot for each column of ***x*** or each vector in sequence ***x***. \n",
        "    - The box extends from the lower to upper quartile values of the data, with a line at the median. \n",
        "    - The whiskers extend from the box to show the range of the data. Flier points are those past the end of the whiskers.\n",
        "    \n",
        "[matplotlib.pyplot.grid](https://matplotlib.org/api/_as_gen/matplotlib.pyplot.grid.html#matplotlib.pyplot.grid)\n",
        "- Configure the grid lines."
      ]
    },
    {
      "cell_type": "markdown",
      "metadata": {
        "id": "MCJI4wuYEV6X",
        "colab_type": "text"
      },
      "source": [
        "남자들의 몸무게를 박스 그래프로 작성한다."
      ]
    },
    {
      "cell_type": "code",
      "metadata": {
        "id": "XvWXngy-EV6X",
        "colab_type": "code",
        "colab": {}
      },
      "source": [
        "# 남자들의 몸무게를 박스 그래프로 작성한다.\n",
        "male_weights = [\n",
        "    53, 59, 66, 67, 68, 70, 73, 74, 75, 78, \n",
        "    81, 82, 85, 90, 90, 91, 120, 130\n",
        "]\n",
        "\n",
        "# 격자를 생성한다.\n",
        "__TODO__\n",
        "\n",
        "# 위 데이터 값으로 박스 그래프를 작성한다. \n",
        "pyplot.boxplot(__TODO__)\n",
        "pyplot.show()"
      ],
      "execution_count": null,
      "outputs": []
    },
    {
      "cell_type": "markdown",
      "metadata": {
        "id": "mElr_NR_EV6Y",
        "colab_type": "text"
      },
      "source": [
        "**실행 결과**  \n",
        "\n",
        "![matplot31](https://drive.google.com/uc?id=1BNhcGIwidHR-7lb-di77hlKRzKokBT1C)"
      ]
    },
    {
      "cell_type": "markdown",
      "metadata": {
        "id": "pTx70HrMEV6a",
        "colab_type": "text"
      },
      "source": [
        "이번에는 이상치의 기본값을 다른 문자로 바꿔 표시하고 잘록한 박스 그래프를 만들어 본다."
      ]
    },
    {
      "cell_type": "code",
      "metadata": {
        "id": "O8i0zOPbEV6a",
        "colab_type": "code",
        "colab": {}
      },
      "source": [
        "# 이상치의 기본값을 .로 표시하는 잘록한 박스 그래프를 설정한다.\n",
        "male_weights = [\n",
        "    53, 59, 66, 67, 68, 70, 73, 74, 75, 78, \n",
        "    81, 82, 85, 90, 90, 91, 120, 130\n",
        "]\n",
        "\n",
        "pyplot.title('Outliers = \".\"')\n",
        "\n",
        "# 격자를 생성한다.\n",
        "__TODO__\n",
        "\n",
        "# 위의 코드에서 notch=True로 설정하여 잘록한 박스 그래프(notched box plot)를 작성하고\n",
        "# sym='.'로 설정하여 이상치를 +로 표시한다.\n",
        "pyplot.boxplot(__TODO__)\n",
        "pyplot.show()"
      ],
      "execution_count": null,
      "outputs": []
    },
    {
      "cell_type": "markdown",
      "metadata": {
        "id": "rv9xCNzyEV6b",
        "colab_type": "text"
      },
      "source": [
        "**실행 결과**  \n",
        "\n",
        "![matplot32](https://drive.google.com/uc?id=11_jzbDYP-5Jp0mE_Jam6YJgnGt1FI4zU)"
      ]
    },
    {
      "cell_type": "markdown",
      "metadata": {
        "id": "7DkcVAWsEV6e",
        "colab_type": "text"
      },
      "source": [
        "도표에서 이상치를 생략하고 박스 그래프를 그려본다."
      ]
    },
    {
      "cell_type": "code",
      "metadata": {
        "id": "phnU8Q4iEV6e",
        "colab_type": "code",
        "colab": {}
      },
      "source": [
        "# 이상치의 생략한 잘록한 박스 그래프를 설정한다.\n",
        "male_weights = [\n",
        "    53, 59, 66, 67, 68, 70, 73, 74, 75, 78, \n",
        "    81, 82, 85, 90, 90, 91, 120, 130\n",
        "]\n",
        "\n",
        "pyplot.title('Outliers Not Shown')\n",
        "\n",
        "# 격자를 생성한다.\n",
        "pyplot.grid()\n",
        "\n",
        "# 위의 코드에서 sym=''로 설정하여 이상치를 표시하지 않도록 한다. \n",
        "# 이상치를 표시하지 않기 때문에 y축이 90까지 표현되도록 자동으로 변경되었다.\n",
        "pyplot.boxplot(__TODO__)\n",
        "pyplot.show()"
      ],
      "execution_count": null,
      "outputs": []
    },
    {
      "cell_type": "markdown",
      "metadata": {
        "id": "YW12iVFSEV6f",
        "colab_type": "text"
      },
      "source": [
        "**실행 결과**  \n",
        "\n",
        "![matplot33](https://drive.google.com/uc?id=1IzBQRZn3JuUNBu6qewxYWpM9ZFcsT8ac)"
      ]
    },
    {
      "cell_type": "markdown",
      "metadata": {
        "id": "1kmgppxMEV6g",
        "colab_type": "text"
      },
      "source": [
        "두 남자 그룹의 몸무게를 박스 그래프로 작성한다."
      ]
    },
    {
      "cell_type": "code",
      "metadata": {
        "id": "j9RZYbG4EV6g",
        "colab_type": "code",
        "colab": {}
      },
      "source": [
        "# 두 남자 그룹의 몸무게를 박스 그래프로 설정한다.\n",
        "male1_weights = [\n",
        "    53, 59, 66, 67, 68, 70, 73, 74, 75, 78, \n",
        "    81, 82, 85, 90, 90, 91, 120, 130\n",
        "]\n",
        "\n",
        "male2_weights = [\n",
        "    58, 61, 64, 67, 68, 71, 75, 77, 79,\n",
        "    83, 84, 85, 89, 91, 93, 94, 121, 127\n",
        "]\n",
        "\n",
        "pyplot.title('Weight comparison of Two Groups')\n",
        "\n",
        "# 격자를 생성한다.\n",
        "pyplot.grid()\n",
        "\n",
        "# 두 개의 데이터를 사용하여 박스 그래프를 작성한다.\n",
        "# sym='o' 설정으로 이상치는 o로 표시하고, \n",
        "# labels=...로 각 박스 아래에 라벨을 설정한다.\n",
        "pyplot.boxplot(__TODO__)\n",
        "pyplot.show()"
      ],
      "execution_count": null,
      "outputs": []
    },
    {
      "cell_type": "markdown",
      "metadata": {
        "id": "k540XlzdEV6h",
        "colab_type": "text"
      },
      "source": [
        "**실행 결과**  \n",
        "\n",
        "![matplot34](https://drive.google.com/uc?id=1uPHP6ph9BEmAUZIyWx5iVISj6LV4ryzt)"
      ]
    },
    {
      "cell_type": "markdown",
      "metadata": {
        "id": "i4IN8H8DEV6j",
        "colab_type": "text"
      },
      "source": [
        "## 산점도"
      ]
    },
    {
      "cell_type": "markdown",
      "metadata": {
        "id": "fqLqP3SXEV6j",
        "colab_type": "text"
      },
      "source": [
        "산점도는 두 변수간의 관계를 좌표평면 상에 점으로 나타내는 그래프이다."
      ]
    },
    {
      "cell_type": "markdown",
      "metadata": {
        "id": "g4OdY4ktEV6k",
        "colab_type": "text"
      },
      "source": [
        "산점도를 작성하려면 **scatter()** 메소드를 주로 **scatter(*x, y, s=None, c=None, marker=None, alpha=None*)** 형식으로 사용하면 된다.\n",
        "- ***x*** 와 ***y*** 는 입력되는 데이터 값이다.  \n",
        "- ***s*** 는 마커의 크기를 설정한다.   \n",
        "- ***c*** 는 마커의 색상을 설정한다.  \n",
        "- ***marker*** 는 마커의 모양을 설정한다. \n",
        "- 마커의 모양에는 'o', 'v', '*' 등이 있다.  \n",
        "- ***alpha*** 는 마커의 투명도를 설정한다. \n",
        "    + **0~1** 사이의 값을 가지며 **0**에 가까울수록 투명, \n",
        "    + **1**에 가까울수록 불투명한 마커가 생성된다.\n",
        "- 더 자세한 내용은 아래의 링크에서 확인할 수 있다.\n",
        "    + https://matplotlib.org/api/_as_gen/matplotlib.pyplot.scatter.html"
      ]
    },
    {
      "cell_type": "markdown",
      "metadata": {
        "id": "0FYGnW6dEV6k",
        "colab_type": "text"
      },
      "source": [
        "[matplotlib.pyplot.scatter](https://matplotlib.org/api/_as_gen/matplotlib.pyplot.scatter.html)\n",
        "- Make a scatter plot.\n",
        "- matplotlib.pyplot.**scatter**(_x, y, s=None, c=None, marker=None, cmap=None, norm=None, vmin=None, vmax=None, alpha=None, linewidths=None, verts=None, edgecolors=None, \\*, plotnonfinite=False, data=None, \\**kwargs_)\n",
        "    - A scatter plot of ***y*** vs ***x*** with varying marker size and/or color."
      ]
    },
    {
      "cell_type": "markdown",
      "metadata": {
        "id": "l3CVe7jkEV6k",
        "colab_type": "text"
      },
      "source": [
        "성인 남성들의 나이와 몸무게 데이터를 산점도로 작성한다. 입력값인 나이와 몸무게의 데이터 개수는 **25**이며, 마커의 색상은 초록, 투명도는 **0.5**, 모양은 다이아몬드로 설정한다. "
      ]
    },
    {
      "cell_type": "code",
      "metadata": {
        "id": "L5WdGopNEV6k",
        "colab_type": "code",
        "colab": {}
      },
      "source": [
        "# 성인 남성들의 나이와 몸무게 데이터를 산점도로 설정한다.\n",
        "age = [\n",
        "    20, 20, 21, 22, 23, 24, 25, 26, 27, 28, 29,\n",
        "    30, 33, 37, 38, 39, 40, 40, 40, 40, 40, 40, 41, 41, 41\n",
        "]\n",
        "weight = [\n",
        "    78, 65, 54, 59, 67, 80, 90, 83, 100, 64, 75,\n",
        "    89, 89, 66, 68, 75, 79, 93, 88, 78, 83, 89, 78, 71, 82\n",
        "]\n",
        "\n",
        "pyplot.title('Scatter Plot of Age & Weight')\n",
        "\n",
        "# age를 x축으로 weight을 y축으로 입력받아 산점도를 작성한다.\n",
        "# 마커의 크기는 s=40으로, 투명도는 alpha=0.5로 설정한다.\n",
        "# 마커를 빨간색 다이아몬드로 설정하기 위해 c='red', marker='D'로 설정한다. \n",
        "pyplot.scatter(__TODO__)\n",
        "pyplot.show()"
      ],
      "execution_count": null,
      "outputs": []
    },
    {
      "cell_type": "markdown",
      "metadata": {
        "id": "Jb7C-cTUEV6l",
        "colab_type": "text"
      },
      "source": [
        "**실행 결과**  \n",
        "\n",
        "![matplot35](https://drive.google.com/uc?id=1Fzx4s4ee5QOm4Ft-VHxRERv7uG-Z0CDz)"
      ]
    },
    {
      "cell_type": "markdown",
      "metadata": {
        "id": "HYUfZkxbEV6m",
        "colab_type": "text"
      },
      "source": [
        "# Lab: 아파트 내 외국인 국적 및 연령 데이터 시각화"
      ]
    },
    {
      "cell_type": "markdown",
      "metadata": {
        "id": "HCF4sWK8EV6m",
        "colab_type": "text"
      },
      "source": [
        "다음 데이터는 OO 아파트에 살고 있는 외국인들의 연령과 국적을 기록한 데이터다. \n",
        "\n",
        "이 데이터를 이용하여 각 문제에서 제시하는 그래프를 그리시오."
      ]
    },
    {
      "cell_type": "code",
      "metadata": {
        "id": "_ltSlVpbEV6m",
        "colab_type": "code",
        "colab": {}
      },
      "source": [
        "age_groups = 'Age 10-20', 'Age 20-30', 'Age 30-40', 'Age 40-50'\n",
        "chinese = 7, 8, 15, 11\n",
        "japanese = 6, 7, 14, 10\n",
        "vietnamese = 3, 5, 10, 9"
      ],
      "execution_count": null,
      "outputs": []
    },
    {
      "cell_type": "markdown",
      "metadata": {
        "id": "cvlcSWDuEV6n",
        "colab_type": "text"
      },
      "source": [
        "## 문제 1 : 막대 그래프를 나란히 그리시오."
      ]
    },
    {
      "cell_type": "markdown",
      "metadata": {
        "id": "kyx9KbJgEV6n",
        "colab_type": "text"
      },
      "source": [
        "---\n",
        "\n",
        "- 연령대(age_groups)를 x축으로 하고 y축은 중국(chinese)과 일본(japanese) 데이터를 두 개의 막대로 나란히 그리도록 한다.\n",
        "- 도표의 제목은 'OO APT Residents'로, x축의 라벨은 'Age Group', y축의 라벨은 'Number of Residents'로 설정한다. \n",
        "- Chinese 막대와 Japanese 막대의 범례를 작성하고 각 Age Group 별로 x축에 눈금을 생성하되 이 눈금은 두 막대의 중간에 위치하도록 한다.\n",
        "\n",
        "---"
      ]
    },
    {
      "cell_type": "code",
      "metadata": {
        "code_folding": [],
        "id": "50cHcsRoEV6n",
        "colab_type": "code",
        "colab": {}
      },
      "source": [
        "# Your answer here"
      ],
      "execution_count": null,
      "outputs": []
    },
    {
      "cell_type": "markdown",
      "metadata": {
        "id": "EAJlGX__EV6p",
        "colab_type": "text"
      },
      "source": [
        "## 문제 2 : 누적 막대 그래프를 그리시오"
      ]
    },
    {
      "cell_type": "markdown",
      "metadata": {
        "id": "IgO_JOrvEV6p",
        "colab_type": "text"
      },
      "source": [
        "---\n",
        "\n",
        "- 연령대(age_groups)를 x축으로 하고 y축은 중국(chinese), 일본(japanese), 베트남(vietnamese) 세 개의 데이터를 누적한 누적 막대 그래프를 작성한다.\n",
        "- 도표의 제목은 'OO APT Residents'로, x축의 라벨은 'Age Group', y축의 라벨은 'Number of Residents'로 설정한다. \n",
        "- Chinese, Japanese, Vietnamese 막대의 범례를 그래프 내에 좌측 상단에 작성하고 각 Age Group 별로 x축에 눈금을 생성한다.\n",
        "\n",
        "---"
      ]
    },
    {
      "cell_type": "code",
      "metadata": {
        "code_folding": [],
        "id": "lakmxkW3EV6p",
        "colab_type": "code",
        "colab": {}
      },
      "source": [
        "# Your answer here"
      ],
      "execution_count": null,
      "outputs": []
    },
    {
      "cell_type": "markdown",
      "metadata": {
        "id": "1tJIDPUnEV6r",
        "colab_type": "text"
      },
      "source": [
        "## 문제 3 : 원 그래프를 그리시오."
      ]
    },
    {
      "cell_type": "markdown",
      "metadata": {
        "id": "lNs1lmcfEV6r",
        "colab_type": "text"
      },
      "source": [
        "---\n",
        "\n",
        "- 베트남 데이터(vietnamese)로 원을 그리되 원의 각 부채꼴(wedge) Age Group으로 구분한다. \n",
        "- Age 10-20 그룹을 떼어내어  강조하고 각 부채꼴이 전체의 몊 퍼센트인지 값을 표기할 때 소수점 둘째자리 까지로 하고 값 뒤에 % 기호를 붙인다.\n",
        "- 원 아래 그림자가 생기도록 하고 첫 번째 부채꼴의 시작 각도를 90이 되도록 설정한다.\n",
        "- 끝으로 그려지는 원 그래프의 x축과 y축의 길이 비율을 같도록 한다.\n",
        "\n",
        "---"
      ]
    },
    {
      "cell_type": "code",
      "metadata": {
        "code_folding": [],
        "id": "KU95nGF5EV6r",
        "colab_type": "code",
        "colab": {}
      },
      "source": [
        "# Your answer here"
      ],
      "execution_count": null,
      "outputs": []
    },
    {
      "cell_type": "markdown",
      "metadata": {
        "id": "xlOKKIRnEV6s",
        "colab_type": "text"
      },
      "source": [
        "# Lab: 학급의 영어와 수학 점수 데이터 시각화"
      ]
    },
    {
      "cell_type": "markdown",
      "metadata": {
        "id": "kt4xyesrEV6t",
        "colab_type": "text"
      },
      "source": [
        "다음 데이터는 한 학급의 영어와 수학 시험 점수가 기록된 데이터다. \n",
        "\n",
        "이 데이터를 이용하여 각 문제에서 제시하는 그래프를 그리시오."
      ]
    },
    {
      "cell_type": "code",
      "metadata": {
        "id": "kjSnjzGmEV6t",
        "colab_type": "code",
        "colab": {}
      },
      "source": [
        "english_score = [\n",
        "    7, 17, 20, 28, 40, 59, 60, 62, 63, 64, \n",
        "    67, 69, 70, 70, 71, 72, 72, 72, 74, 77,\n",
        "    78, 80, 97, 97,99\n",
        "]\n",
        "math_score = [\n",
        "    5, 7, 14, 19, 28, 39, 40, 52, 60, 61, \n",
        "    63, 64, 65, 66, 66, 68, 69, 70, 71, 73,\n",
        "    74, 76, 87, 90, 100\n",
        "]"
      ],
      "execution_count": null,
      "outputs": []
    },
    {
      "cell_type": "markdown",
      "metadata": {
        "id": "5mOzRy5ZEV6u",
        "colab_type": "text"
      },
      "source": [
        "## 문제 1 : 히스토그램을 그리시오."
      ]
    },
    {
      "cell_type": "markdown",
      "metadata": {
        "id": "fKgyqAYpEV6v",
        "colab_type": "text"
      },
      "source": [
        "---\n",
        "\n",
        "- 수학 점수(*math_score*)로 일반적인 형태의 막대 히스토그램을 작성한다.\n",
        "- 각 점수대 분포가 잘 보여지도록 막대의 숫자를 설정하고 막대의 색상은 청록색(cyan)으로 한다.\n",
        "\n",
        "---"
      ]
    },
    {
      "cell_type": "code",
      "metadata": {
        "code_folding": [],
        "id": "et93s6dEEV6v",
        "colab_type": "code",
        "colab": {}
      },
      "source": [
        "# Your answer here"
      ],
      "execution_count": null,
      "outputs": []
    },
    {
      "cell_type": "markdown",
      "metadata": {
        "id": "gg7u9ufaEV6x",
        "colab_type": "text"
      },
      "source": [
        "## 문제 2 : 박스 그래프를 그리시오."
      ]
    },
    {
      "cell_type": "markdown",
      "metadata": {
        "id": "7TJPTxjTEV6x",
        "colab_type": "text"
      },
      "source": [
        "---\n",
        "\n",
        "- 영어 점수(*english_score*)와 수학 점수(*math_score*)를 이용하여 두 개의 박스 그래프를 동시에 작성한다.\n",
        "- 전체 도표의 제목은 'Final Exam Results'로 설정한다.\n",
        "- 그려지는 두 개의 박스 그래프를 각각 'English Score'와 'Math Score'로 라벨링한다.\n",
        "- 이상치는 '.' 로 표기한다.\n",
        "\n",
        "---"
      ]
    },
    {
      "cell_type": "code",
      "metadata": {
        "code_folding": [],
        "id": "iPdIAkckEV6x",
        "colab_type": "code",
        "colab": {}
      },
      "source": [
        "# Your answer here"
      ],
      "execution_count": null,
      "outputs": []
    },
    {
      "cell_type": "markdown",
      "metadata": {
        "id": "ZEBglB55EV6y",
        "colab_type": "text"
      },
      "source": [
        "## 문제 3 : 산점도를 그리시오."
      ]
    },
    {
      "cell_type": "markdown",
      "metadata": {
        "id": "1kRutFXeEV6y",
        "colab_type": "text"
      },
      "source": [
        "---\n",
        "\n",
        "- x축을 영어 성적(*english_score*)으로 y축을 수학 성적(*math_score*)으로 하는 산점도를 작성한다.\n",
        "- 산점도의 제목을 'Final Exam Results'로 라벨링하시오.\n",
        "- x축을 'English Score', y축을 'Math Score'로 라벨링한다.\n",
        "- 데이터를 표시하는 각 마커는 0.5의 투명도에 빨간색 'o' 모양이 되도록 한다.\n",
        "\n",
        "---"
      ]
    },
    {
      "cell_type": "code",
      "metadata": {
        "code_folding": [],
        "id": "xqbm2B3JEV6y",
        "colab_type": "code",
        "colab": {}
      },
      "source": [
        "# Your answer here"
      ],
      "execution_count": null,
      "outputs": []
    },
    {
      "cell_type": "markdown",
      "metadata": {
        "id": "-FBwTSu6EV60",
        "colab_type": "text"
      },
      "source": [
        "- - -\n",
        "# <font color='red'>THE END</font>\n"
      ]
    }
  ]
}