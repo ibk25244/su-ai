{
  "nbformat": 4,
  "nbformat_minor": 0,
  "metadata": {
    "celltoolbar": "Slideshow",
    "colab": {
      "name": "10-3(colab).Korean-text-analysis-visualization-3-movie-data-exploration의 사본",
      "provenance": [],
      "collapsed_sections": [],
      "include_colab_link": true
    },
    "kernelspec": {
      "display_name": "Python 3",
      "language": "python",
      "name": "python3"
    },
    "language_info": {
      "codemirror_mode": {
        "name": "ipython",
        "version": 3
      },
      "file_extension": ".py",
      "mimetype": "text/x-python",
      "name": "python",
      "nbconvert_exporter": "python",
      "pygments_lexer": "ipython3",
      "version": "3.8.3"
    },
    "toc": {
      "base_numbering": 1,
      "nav_menu": {},
      "number_sections": true,
      "sideBar": true,
      "skip_h1_title": false,
      "title_cell": "Table of Contents",
      "title_sidebar": "Contents",
      "toc_cell": true,
      "toc_position": {},
      "toc_section_display": true,
      "toc_window_display": false
    },
    "varInspector": {
      "cols": {
        "lenName": 16,
        "lenType": 16,
        "lenVar": 40
      },
      "kernels_config": {
        "python": {
          "delete_cmd_postfix": "",
          "delete_cmd_prefix": "del ",
          "library": "var_list.py",
          "varRefreshCmd": "print(var_dic_list())"
        },
        "r": {
          "delete_cmd_postfix": ") ",
          "delete_cmd_prefix": "rm(",
          "library": "var_list.r",
          "varRefreshCmd": "cat(var_dic_list()) "
        }
      },
      "types_to_exclude": [
        "module",
        "function",
        "builtin_function_or_method",
        "instance",
        "_Feature"
      ],
      "window_display": false
    }
  },
  "cells": [
    {
      "cell_type": "markdown",
      "metadata": {
        "id": "view-in-github",
        "colab_type": "text"
      },
      "source": [
        "<a href=\"https://colab.research.google.com/github/ibk25244/su-ai/blob/master/10_3(colab)_Korean_text_analysis_visualization_3_movie_data_exploration_my.ipynb\" target=\"_parent\"><img src=\"https://colab.research.google.com/assets/colab-badge.svg\" alt=\"Open In Colab\"/></a>"
      ]
    },
    {
      "cell_type": "markdown",
      "metadata": {
        "id": "wLhlM6bFO2wP",
        "colab_type": "text"
      },
      "source": [
        "- - -\n",
        "\n",
        "<font size=6 color='tomato'>한글 텍스트 분석 및 시각화 - <font color='royalblue'>3 단계 : 데이터 탐색</font>   \n",
        "<font size=5 color='purple'>Korean Text Analysis & Visualization - <font color='forestgreen'>Step 3: Data Exploration</font>\n",
        "\n",
        "* * *\n",
        "\n",
        "**<font size=4>박 진 수</font>** 교수  \n",
        "Intelligent Data Semantics Lab  \n",
        "Seoul National University\n",
        "\n",
        "- - -"
      ]
    },
    {
      "cell_type": "markdown",
      "metadata": {
        "id": "2-5xSutgRlL2",
        "colab_type": "toc"
      },
      "source": [
        ">[텍스트 분석 절차](#scrollTo=IZPdlBpJO2wQ)\n",
        "\n",
        ">[저장한 파일을 불러온다.](#scrollTo=jtGf6Uk9itCj)\n",
        "\n",
        ">>[(방법 1) 로컬 파일 업로드 하여 열기](#scrollTo=D0uivRGO6l5V)\n",
        "\n",
        ">>[(방법 2) 데이터 파일 내려받아 열기](#scrollTo=PjAWBCyc69Yj)\n",
        "\n",
        ">[자주 출현하는 단어 추출하기](#scrollTo=B7Nft3hQO2wY)\n",
        "\n",
        ">[워드클라우드 그리기](#scrollTo=3nN_XDHFO2wd)\n",
        "\n",
        ">>[wordcloud](#scrollTo=_QnYMdsTO2we)\n",
        "\n",
        ">>[pytagcloud](#scrollTo=OMOyBBkMO2wq)\n",
        "\n",
        ">[THE END](#scrollTo=7np3U1BPO2wu)\n",
        "\n"
      ]
    },
    {
      "cell_type": "markdown",
      "metadata": {
        "id": "IZPdlBpJO2wQ",
        "colab_type": "text"
      },
      "source": [
        "# 텍스트 분석 절차"
      ]
    },
    {
      "cell_type": "markdown",
      "metadata": {
        "colab_type": "text",
        "id": "Rlprr2NpJGgG"
      },
      "source": [
        "**1** 단계 - **데이터 수집**\n",
        "- 웹, SNS 등에서 분석에 필요한 데이터를 수집한다.\n",
        "- 이미 데이터가 있으면 이 단계는 생략할 수 있다.\n",
        "\n",
        "**2** 단계 - **데이터 전처리**\n",
        "- 자연어를 기계가 이해할 수 있는 인공어(artificial language)로 번역한다.\n",
        "- Tokenization, POS Tagging(형태소 분석), Pruning 등 \n",
        "\n",
        "**<font size='+3'>3 단계 - 데이터 탐색</font>**\n",
        "- 분석의 방향성을 제시하기 위해 전처리한 데이터를 탐색한다.\n",
        "- 일반적으로는 단어의 출현 빈도(frequency)를 기반으로 탐색한다.\n",
        "\n",
        "**4** 단계 - **데이터 분석**\n",
        "- 텍스트 데이터를 통해 유의미한 정보를 추출하는 분석을 수행한다.\n",
        "- 감성분석, 토픽모델, 머신러닝 등\n",
        "\n",
        "**5** 단계 - **인사이트 도출**\n",
        "- 경영 환경에서 효과적인 의사 결정에 도움을 줄 수 있는 인사이트를 도출한다."
      ]
    },
    {
      "cell_type": "markdown",
      "metadata": {
        "colab_type": "text",
        "id": "jtGf6Uk9itCj"
      },
      "source": [
        "# 저장한 파일을 불러온다."
      ]
    },
    {
      "cell_type": "markdown",
      "metadata": {
        "id": "D0uivRGO6l5V",
        "colab_type": "text"
      },
      "source": [
        "## (방법 1) 로컬 파일 업로드 하여 열기\n",
        "\n",
        "\n"
      ]
    },
    {
      "cell_type": "code",
      "metadata": {
        "id": "v2Rtjahp6xqS",
        "colab_type": "code",
        "colab": {
          "resources": {
            "http://localhost:8080/nbextensions/google.colab/files.js": {
              "data": "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",
              "ok": true,
              "headers": [
                [
                  "content-type",
                  "application/javascript"
                ]
              ],
              "status": 200,
              "status_text": ""
            }
          },
          "base_uri": "https://localhost:8080/",
          "height": 76
        },
        "outputId": "906b238a-de09-48d4-f5d0-52108a01ed8e"
      },
      "source": [
        "# ===== 만약 파일을 로컬 파일로 저장했다면 =============================================\n",
        "# --- Importing a local file\n",
        "from google.colab import files\n",
        "\n",
        "# 앞서 전처리한 파일('movie-reviews-A-corpus.txt')을 업로드 한다.\n",
        "# movie-reviews-begin-again-corpus.txt 파일을 업로드한다.\n",
        "uploaded = files.upload()\n",
        "\n",
        "# 업로드한 파일을 읽어서 메모리에 저장한다.\n",
        "text = uploaded[tuple(uploaded)[0]].decode('utf-8').splitlines()"
      ],
      "execution_count": 5,
      "outputs": [
        {
          "output_type": "display_data",
          "data": {
            "text/html": [
              "\n",
              "     <input type=\"file\" id=\"files-c2183fb8-f2d8-429a-bfeb-6a99d83fdeaf\" name=\"files[]\" multiple disabled\n",
              "        style=\"border:none\" />\n",
              "     <output id=\"result-c2183fb8-f2d8-429a-bfeb-6a99d83fdeaf\">\n",
              "      Upload widget is only available when the cell has been executed in the\n",
              "      current browser session. Please rerun this cell to enable.\n",
              "      </output>\n",
              "      <script src=\"/nbextensions/google.colab/files.js\"></script> "
            ],
            "text/plain": [
              "<IPython.core.display.HTML object>"
            ]
          },
          "metadata": {
            "tags": []
          }
        },
        {
          "output_type": "stream",
          "text": [
            "Saving movie-reviews-A-corpus.txt to movie-reviews-A-corpus (1).txt\n"
          ],
          "name": "stdout"
        }
      ]
    },
    {
      "cell_type": "markdown",
      "metadata": {
        "id": "PjAWBCyc69Yj",
        "colab_type": "text"
      },
      "source": [
        "## (방법 2) 데이터 파일 내려받아 열기"
      ]
    },
    {
      "cell_type": "markdown",
      "metadata": {
        "id": "qTd3r_8iYKGw",
        "colab_type": "text"
      },
      "source": [
        "실습을 위해 저장해둔 파일을 내려받도록 한다."
      ]
    },
    {
      "cell_type": "code",
      "metadata": {
        "id": "5bAe-dHkYLgI",
        "colab_type": "code",
        "colab": {}
      },
      "source": [
        "!wget -q --show-progress --no-check-certificate https://raw.githubusercontent.com/snu-ds/data/master/movie-reviews-begin-again-corpus.txt\n",
        "\n",
        "# 파일을 읽어서 메모리에 저장한다.\n",
        "text = open('movie-reviews-begin-again-corpus.txt', mode='r', \n",
        "            encoding='utf-8').read().splitlines()"
      ],
      "execution_count": null,
      "outputs": []
    },
    {
      "cell_type": "markdown",
      "metadata": {
        "id": "B7Nft3hQO2wY",
        "colab_type": "text"
      },
      "source": [
        "# 자주 출현하는 단어 추출하기"
      ]
    },
    {
      "cell_type": "code",
      "metadata": {
        "id": "3ue4ufIwjaYb",
        "colab_type": "code",
        "colab": {
          "base_uri": "https://localhost:8080/",
          "height": 105
        },
        "outputId": "c474f76e-c2e1-4398-9d3b-435419d89dce"
      },
      "source": [
        "text[:5]"
      ],
      "execution_count": 6,
      "outputs": [
        {
          "output_type": "execute_result",
          "data": {
            "text/plain": [
              "['',\n",
              " '풍자가 훌륭했어요. 한편 우리 현실이 생각나서 씁쓸하기도 하고',\n",
              " '감동적이었어요!!!',\n",
              " '다시금 주변국에 의해 좌지우지 되지 않도록 힘을 키워야겠다는 생각이 드네요',\n",
              " '감동깊게 잘보고 왔읍니다. 평일조조 이지만 사람이 많았어요. 일산에서 우리나라의 미래를 보는듯 합니다. 평화 통일']"
            ]
          },
          "metadata": {
            "tags": []
          },
          "execution_count": 6
        }
      ]
    },
    {
      "cell_type": "code",
      "metadata": {
        "id": "J8-ViHJzO1k6",
        "colab_type": "code",
        "colab": {
          "base_uri": "https://localhost:8080/",
          "height": 316
        },
        "outputId": "8cd26d6c-82b1-4362-8fc5-4f6678c4de16"
      },
      "source": [
        "# ======= 형태소 분석을 위해 한글 분석 모듈 konlpy를 설치한다. =============\n",
        "!python -m pip install konlpy"
      ],
      "execution_count": 7,
      "outputs": [
        {
          "output_type": "stream",
          "text": [
            "Requirement already satisfied: konlpy in /usr/local/lib/python3.6/dist-packages (0.5.2)\n",
            "Requirement already satisfied: JPype1>=0.7.0 in /usr/local/lib/python3.6/dist-packages (from konlpy) (1.0.1)\n",
            "Requirement already satisfied: beautifulsoup4==4.6.0 in /usr/local/lib/python3.6/dist-packages (from konlpy) (4.6.0)\n",
            "Requirement already satisfied: tweepy>=3.7.0 in /usr/local/lib/python3.6/dist-packages (from konlpy) (3.9.0)\n",
            "Requirement already satisfied: colorama in /usr/local/lib/python3.6/dist-packages (from konlpy) (0.4.3)\n",
            "Requirement already satisfied: numpy>=1.6 in /usr/local/lib/python3.6/dist-packages (from konlpy) (1.18.5)\n",
            "Requirement already satisfied: lxml>=4.1.0 in /usr/local/lib/python3.6/dist-packages (from konlpy) (4.2.6)\n",
            "Requirement already satisfied: typing-extensions; python_version < \"3.8\" in /usr/local/lib/python3.6/dist-packages (from JPype1>=0.7.0->konlpy) (3.7.4.2)\n",
            "Requirement already satisfied: requests-oauthlib>=0.7.0 in /usr/local/lib/python3.6/dist-packages (from tweepy>=3.7.0->konlpy) (1.3.0)\n",
            "Requirement already satisfied: six>=1.10.0 in /usr/local/lib/python3.6/dist-packages (from tweepy>=3.7.0->konlpy) (1.15.0)\n",
            "Requirement already satisfied: requests[socks]>=2.11.1 in /usr/local/lib/python3.6/dist-packages (from tweepy>=3.7.0->konlpy) (2.23.0)\n",
            "Requirement already satisfied: oauthlib>=3.0.0 in /usr/local/lib/python3.6/dist-packages (from requests-oauthlib>=0.7.0->tweepy>=3.7.0->konlpy) (3.1.0)\n",
            "Requirement already satisfied: certifi>=2017.4.17 in /usr/local/lib/python3.6/dist-packages (from requests[socks]>=2.11.1->tweepy>=3.7.0->konlpy) (2020.6.20)\n",
            "Requirement already satisfied: chardet<4,>=3.0.2 in /usr/local/lib/python3.6/dist-packages (from requests[socks]>=2.11.1->tweepy>=3.7.0->konlpy) (3.0.4)\n",
            "Requirement already satisfied: urllib3!=1.25.0,!=1.25.1,<1.26,>=1.21.1 in /usr/local/lib/python3.6/dist-packages (from requests[socks]>=2.11.1->tweepy>=3.7.0->konlpy) (1.24.3)\n",
            "Requirement already satisfied: idna<3,>=2.5 in /usr/local/lib/python3.6/dist-packages (from requests[socks]>=2.11.1->tweepy>=3.7.0->konlpy) (2.10)\n",
            "Requirement already satisfied: PySocks!=1.5.7,>=1.5.6; extra == \"socks\" in /usr/local/lib/python3.6/dist-packages (from requests[socks]>=2.11.1->tweepy>=3.7.0->konlpy) (1.7.1)\n"
          ],
          "name": "stdout"
        }
      ]
    },
    {
      "cell_type": "code",
      "metadata": {
        "id": "bJqRkbOZO1k9",
        "colab_type": "code",
        "colab": {
          "base_uri": "https://localhost:8080/",
          "height": 34
        },
        "outputId": "79ec73ee-fc95-4cd0-f4ee-263646277a28"
      },
      "source": [
        "import konlpy \n",
        "print('KoNLPy version...:', konlpy.__version__)"
      ],
      "execution_count": 8,
      "outputs": [
        {
          "output_type": "stream",
          "text": [
            "KoNLPy version...: 0.5.2\n"
          ],
          "name": "stdout"
        }
      ]
    },
    {
      "cell_type": "code",
      "metadata": {
        "id": "iuVug_ZsgLMa",
        "colab_type": "code",
        "colab": {}
      },
      "source": [
        "# 한국어 텍스트 분석에 필요한 모듈(konlpy)의 \n",
        "# Open Korean Text 형태소 분석기를 불러온다.\n",
        "from konlpy.tag import Okt \n",
        "okt = Okt()"
      ],
      "execution_count": 9,
      "outputs": []
    },
    {
      "cell_type": "code",
      "metadata": {
        "id": "SardU43Bxoq4",
        "colab_type": "code",
        "colab": {}
      },
      "source": [
        "# 전체 텍스트를 형태소(Part-of-Speech) 분석을 한다.\n",
        "# 토큰을 정규화하고 어간 단위로 구분한다.\n",
        "# 형태소 분석 결과는 ('단어', '품사 태그')의 튜플로 반환한다.\n",
        "pos_tags = [okt.pos(line) for line in text]"
      ],
      "execution_count": 11,
      "outputs": []
    },
    {
      "cell_type": "code",
      "metadata": {
        "id": "wZX3wTR8kGwE",
        "colab_type": "code",
        "colab": {
          "base_uri": "https://localhost:8080/",
          "height": 967
        },
        "outputId": "b6985ba0-548c-4077-d700-67e33bd6f24d"
      },
      "source": [
        "pos_tags[:5]"
      ],
      "execution_count": 12,
      "outputs": [
        {
          "output_type": "execute_result",
          "data": {
            "text/plain": [
              "[[],\n",
              " [('풍자', 'Noun'),\n",
              "  ('가', 'Josa'),\n",
              "  ('훌륭했어요', 'Adjective'),\n",
              "  ('.', 'Punctuation'),\n",
              "  ('한편', 'Noun'),\n",
              "  ('우리', 'Noun'),\n",
              "  ('현실', 'Noun'),\n",
              "  ('이', 'Josa'),\n",
              "  ('생각나서', 'Verb'),\n",
              "  ('씁쓸하기도', 'Adjective'),\n",
              "  ('하고', 'Verb')],\n",
              " [('감동', 'Noun'), ('적', 'Suffix'), ('이었어요', 'Verb'), ('!!!', 'Punctuation')],\n",
              " [('다시금', 'Noun'),\n",
              "  ('주', 'Modifier'),\n",
              "  ('변국', 'Noun'),\n",
              "  ('에', 'Josa'),\n",
              "  ('의해', 'Adjective'),\n",
              "  ('좌지우지', 'Noun'),\n",
              "  ('되지', 'Verb'),\n",
              "  ('않도록', 'Verb'),\n",
              "  ('힘', 'Noun'),\n",
              "  ('을', 'Josa'),\n",
              "  ('키워야겠다는', 'Verb'),\n",
              "  ('생각', 'Noun'),\n",
              "  ('이', 'Josa'),\n",
              "  ('드네', 'Noun'),\n",
              "  ('요', 'Josa')],\n",
              " [('감동', 'Noun'),\n",
              "  ('깊게', 'Adjective'),\n",
              "  ('잘', 'VerbPrefix'),\n",
              "  ('보고', 'Verb'),\n",
              "  ('왔', 'Verb'),\n",
              "  ('읍니', 'Noun'),\n",
              "  ('다', 'Josa'),\n",
              "  ('.', 'Punctuation'),\n",
              "  ('평일', 'Noun'),\n",
              "  ('조조', 'Noun'),\n",
              "  ('이지만', 'Josa'),\n",
              "  ('사람', 'Noun'),\n",
              "  ('이', 'Josa'),\n",
              "  ('많았어요', 'Adjective'),\n",
              "  ('.', 'Punctuation'),\n",
              "  ('일산', 'Noun'),\n",
              "  ('에서', 'Josa'),\n",
              "  ('우리나라', 'Noun'),\n",
              "  ('의', 'Josa'),\n",
              "  ('미래', 'Noun'),\n",
              "  ('를', 'Josa'),\n",
              "  ('보는듯', 'Verb'),\n",
              "  ('합니다', 'Verb'),\n",
              "  ('.', 'Punctuation'),\n",
              "  ('평화', 'Noun'),\n",
              "  ('통일', 'Noun')]]"
            ]
          },
          "metadata": {
            "tags": []
          },
          "execution_count": 12
        }
      ]
    },
    {
      "cell_type": "code",
      "metadata": {
        "id": "f0EAmlcNxwNw",
        "colab_type": "code",
        "colab": {}
      },
      "source": [
        "# 전체 텍스트에서 명사(Noun)와 형용사(Adjective)만 걸러낸다.\n",
        "noun_adj_list = [token for line in pos_tags \n",
        "                          for token, tag in line \n",
        "                              if tag in ['Noun', 'Adjective']]"
      ],
      "execution_count": 13,
      "outputs": []
    },
    {
      "cell_type": "code",
      "metadata": {
        "id": "FdaEyhSDkWTs",
        "colab_type": "code",
        "colab": {
          "base_uri": "https://localhost:8080/",
          "height": 34
        },
        "outputId": "50b8fcf9-77db-4769-a810-cf985ac1b2e5"
      },
      "source": [
        "noun_adj_list[:5]"
      ],
      "execution_count": 14,
      "outputs": [
        {
          "output_type": "execute_result",
          "data": {
            "text/plain": [
              "['풍자', '훌륭했어요', '한편', '우리', '현실']"
            ]
          },
          "metadata": {
            "tags": []
          },
          "execution_count": 14
        }
      ]
    },
    {
      "cell_type": "code",
      "metadata": {
        "id": "NuIJw_56x3LB",
        "colab_type": "code",
        "colab": {
          "base_uri": "https://localhost:8080/",
          "height": 34
        },
        "outputId": "9aeb49c4-e4f1-408e-ddec-faa5caadbf48"
      },
      "source": [
        "# 리뷰에서 사용한 고유한 명사와 형용사 개수를 확인한다. \n",
        "len(noun_adj_list)"
      ],
      "execution_count": 15,
      "outputs": [
        {
          "output_type": "execute_result",
          "data": {
            "text/plain": [
              "22625"
            ]
          },
          "metadata": {
            "tags": []
          },
          "execution_count": 15
        }
      ]
    },
    {
      "cell_type": "code",
      "metadata": {
        "id": "3S-e000lx84T",
        "colab_type": "code",
        "colab": {
          "base_uri": "https://localhost:8080/",
          "height": 34
        },
        "outputId": "c45eb285-8073-43bf-a789-ef3e163eb40e"
      },
      "source": [
        "# collections 패키지에서 Counter(등장 횟수를 세주는 역할)를 불러온다.\n",
        "from collections import Counter\t\n",
        "\n",
        "# Counter에 noun_adj_list list를 넣어 서로 다른 명사와 형용사가 얼마나 많이 쓰였는지를 셈한다.\n",
        "counts = Counter(noun_adj_list)\n",
        "len(counts)"
      ],
      "execution_count": 17,
      "outputs": [
        {
          "output_type": "execute_result",
          "data": {
            "text/plain": [
              "4760"
            ]
          },
          "metadata": {
            "tags": []
          },
          "execution_count": 17
        }
      ]
    },
    {
      "cell_type": "code",
      "metadata": {
        "id": "F4tpc_RjwMwY",
        "colab_type": "code",
        "colab": {
          "base_uri": "https://localhost:8080/",
          "height": 169
        },
        "outputId": "289d1401-d769-4109-c06f-6a81941da7cb"
      },
      "source": [
        ""
      ],
      "execution_count": 18,
      "outputs": [
        {
          "output_type": "error",
          "ename": "TypeError",
          "evalue": "ignored",
          "traceback": [
            "\u001b[0;31m---------------------------------------------------------------------------\u001b[0m",
            "\u001b[0;31mTypeError\u001b[0m                                 Traceback (most recent call last)",
            "\u001b[0;32m<ipython-input-18-31e411112c43>\u001b[0m in \u001b[0;36m<module>\u001b[0;34m()\u001b[0m\n\u001b[0;32m----> 1\u001b[0;31m \u001b[0mcounts\u001b[0m\u001b[0;34m[\u001b[0m\u001b[0;34m:\u001b[0m\u001b[0;36m10\u001b[0m\u001b[0;34m]\u001b[0m\u001b[0;34m\u001b[0m\u001b[0;34m\u001b[0m\u001b[0m\n\u001b[0m",
            "\u001b[0;31mTypeError\u001b[0m: unhashable type: 'slice'"
          ]
        }
      ]
    },
    {
      "cell_type": "code",
      "metadata": {
        "id": "S__UbUsdyFSC",
        "colab_type": "code",
        "colab": {
          "base_uri": "https://localhost:8080/",
          "height": 193
        },
        "outputId": "df000d5d-c526-4daa-8568-5f086cb4f6be"
      },
      "source": [
        "# 전체 텍스트에서 가장 많이 사용된 명사와 형용사만 출력한다.\n",
        "counts.most_common(10)"
      ],
      "execution_count": 19,
      "outputs": [
        {
          "output_type": "execute_result",
          "data": {
            "text/plain": [
              "[('영화', 953),\n",
              " ('잠수함', 212),\n",
              " ('현실', 211),\n",
              " ('대통령', 192),\n",
              " ('정우성', 185),\n",
              " ('생각', 183),\n",
              " ('배우', 181),\n",
              " ('연기', 171),\n",
              " ('우리', 150),\n",
              " ('것', 137)]"
            ]
          },
          "metadata": {
            "tags": []
          },
          "execution_count": 19
        }
      ]
    },
    {
      "cell_type": "markdown",
      "metadata": {
        "id": "3nN_XDHFO2wd",
        "colab_type": "text"
      },
      "source": [
        "# 워드클라우드 그리기"
      ]
    },
    {
      "cell_type": "markdown",
      "metadata": {
        "id": "_QnYMdsTO2we",
        "colab_type": "text"
      },
      "source": [
        "## wordcloud"
      ]
    },
    {
      "cell_type": "code",
      "metadata": {
        "id": "k84WAgfKyOgq",
        "colab_type": "code",
        "colab": {}
      },
      "source": [
        "from konlpy.tag import Okt  # 한국어 텍스트 분석에 필요한 모듈(konlpy)의 Open Korean Text 형태소 분석기를 불러온다.\n",
        "\n",
        "# Open Korean Text 형태소 분석기 객체를 생성한다.\n",
        "okt = Okt() \n",
        "    \n",
        "# text의 각 문장을 꺼낸 후 형태소 붆석기를 통해 \n",
        "# 명사만 추려내 리스트에 담는다.\n",
        "nouns = [noun for s in text for noun in okt.nouns(s)]"
      ],
      "execution_count": 20,
      "outputs": []
    },
    {
      "cell_type": "code",
      "metadata": {
        "id": "4xSMhMDoyPks",
        "colab_type": "code",
        "colab": {}
      },
      "source": [
        "from collections import Counter\n",
        "\n",
        "# nouns 리스트에 있는 서로 다른 명사의 개수 구한다. \n",
        "count = Counter(nouns)"
      ],
      "execution_count": 21,
      "outputs": []
    },
    {
      "cell_type": "code",
      "metadata": {
        "id": "-NHwSqCtqUL3",
        "colab_type": "code",
        "colab": {
          "base_uri": "https://localhost:8080/",
          "height": 1000
        },
        "outputId": "8abf0fb8-d3bd-435f-fbe2-28a0cfd61318"
      },
      "source": [
        "count"
      ],
      "execution_count": 22,
      "outputs": [
        {
          "output_type": "execute_result",
          "data": {
            "text/plain": [
              "Counter({'풍자': 10,\n",
              "         '한편': 8,\n",
              "         '우리': 150,\n",
              "         '현실': 211,\n",
              "         '감동': 75,\n",
              "         '다시금': 4,\n",
              "         '변국': 14,\n",
              "         '좌지우지': 1,\n",
              "         '힘': 13,\n",
              "         '생각': 183,\n",
              "         '드네': 4,\n",
              "         '읍니': 3,\n",
              "         '평일': 1,\n",
              "         '조조': 9,\n",
              "         '사람': 85,\n",
              "         '일산': 1,\n",
              "         '우리나라': 93,\n",
              "         '미래': 12,\n",
              "         '평화': 49,\n",
              "         '통일': 83,\n",
              "         '만': 37,\n",
              "         '영화': 953,\n",
              "         '감독': 63,\n",
              "         '공부': 5,\n",
              "         '듯': 51,\n",
              "         '오락': 22,\n",
              "         '성도': 7,\n",
              "         '이': 124,\n",
              "         '인간': 12,\n",
              "         '몰래': 2,\n",
              "         '유니클로': 1,\n",
              "         '정말': 125,\n",
              "         '번': 17,\n",
              "         '일본': 77,\n",
              "         '총리': 4,\n",
              "         '꽃미남': 1,\n",
              "         '배우': 181,\n",
              "         '등장': 6,\n",
              "         '열': 4,\n",
              "         '여러가지': 2,\n",
              "         '것': 137,\n",
              "         '사실': 34,\n",
              "         '불구': 1,\n",
              "         '상영': 6,\n",
              "         '시간': 74,\n",
              "         '전혀': 20,\n",
              "         '정우성': 185,\n",
              "         '매력': 6,\n",
              "         '수': 85,\n",
              "         '나중': 3,\n",
              "         '김정은': 35,\n",
              "         '유엔': 1,\n",
              "         '사무': 1,\n",
              "         '총장': 1,\n",
              "         '북한': 117,\n",
              "         '개': 17,\n",
              "         '모습': 20,\n",
              "         '분리': 1,\n",
              "         '컨셉트': 1,\n",
              "         '마음': 29,\n",
              "         '중국': 29,\n",
              "         '곽도원': 69,\n",
              "         '미국': 94,\n",
              "         '이나라': 3,\n",
              "         '자': 7,\n",
              "         '에필로그': 2,\n",
              "         '마지막': 76,\n",
              "         '대사': 33,\n",
              "         '무게': 5,\n",
              "         '때문': 36,\n",
              "         '잠시': 4,\n",
              "         '자리': 5,\n",
              "         '못': 17,\n",
              "         '안보': 17,\n",
              "         '평점': 88,\n",
              "         '테러': 60,\n",
              "         '뭐임': 1,\n",
              "         '한반도': 101,\n",
              "         '상황': 83,\n",
              "         '대한': 31,\n",
              "         '깊이': 2,\n",
              "         '고찰': 1,\n",
              "         '명연기': 2,\n",
              "         '앞': 13,\n",
              "         '부분': 46,\n",
              "         '지루함': 13,\n",
              "         '잠수함': 212,\n",
              "         '액션': 79,\n",
              "         '연기력': 25,\n",
              "         '등': 31,\n",
              "         '최고': 67,\n",
              "         '관계자': 3,\n",
              "         '가족': 9,\n",
              "         '댓글': 19,\n",
              "         '점령': 2,\n",
              "         '진짜': 75,\n",
              "         '쓰레기': 35,\n",
              "         '참고': 4,\n",
              "         '또': 25,\n",
              "         '중간': 48,\n",
              "         '극장': 24,\n",
              "         '좀': 94,\n",
              "         '곧': 2,\n",
              "         '전투함': 1,\n",
              "         '씬': 59,\n",
              "         '재미': 109,\n",
              "         '각자': 7,\n",
              "         '역할': 36,\n",
              "         '특수': 1,\n",
              "         '효과': 1,\n",
              "         '콜라보': 2,\n",
              "         '오늘': 23,\n",
              "         '보고': 101,\n",
              "         '친구': 11,\n",
              "         '추천': 40,\n",
              "         '정도': 52,\n",
              "         '건': 15,\n",
              "         '이하': 4,\n",
              "         '보지': 17,\n",
              "         '평가': 9,\n",
              "         '내': 28,\n",
              "         '기준': 2,\n",
              "         '볼': 97,\n",
              "         '기대': 119,\n",
              "         '이상': 19,\n",
              "         '역쉬': 2,\n",
              "         '최근': 12,\n",
              "         '한국영': 24,\n",
              "         '화중': 2,\n",
              "         '팩트': 8,\n",
              "         '아주': 44,\n",
              "         '연기': 171,\n",
              "         '이번': 15,\n",
              "         '신정근': 66,\n",
              "         '주인공': 26,\n",
              "         '인상': 7,\n",
              "         '계속': 19,\n",
              "         '화이팅': 15,\n",
              "         '웃프': 2,\n",
              "         '어서': 3,\n",
              "         '오기': 4,\n",
              "         '트럼프': 18,\n",
              "         '역': 19,\n",
              "         '덕분': 3,\n",
              "         '원래': 9,\n",
              "         '편이': 10,\n",
              "         '용서': 1,\n",
              "         '위기': 2,\n",
              "         '대응': 2,\n",
              "         '프로토콜': 1,\n",
              "         '고증': 7,\n",
              "         '안': 49,\n",
              "         '로': 9,\n",
              "         '이건': 14,\n",
              "         '비현실적': 11,\n",
              "         '콩트': 1,\n",
              "         '울프': 1,\n",
              "         '콜': 1,\n",
              "         '헌터': 7,\n",
              "         '킬러': 8,\n",
              "         '얼마나': 15,\n",
              "         '똥': 7,\n",
              "         '강추': 19,\n",
              "         '인': 5,\n",
              "         '지금': 44,\n",
              "         '정세': 51,\n",
              "         '고민': 11,\n",
              "         '작품': 33,\n",
              "         '지향': 1,\n",
              "         '휘': 1,\n",
              "         '둘리': 1,\n",
              "         '대한민국': 66,\n",
              "         '걸': 25,\n",
              "         '태': 1,\n",
              "         '구민': 1,\n",
              "         '대통령': 192,\n",
              "         '후': 6,\n",
              "         '보이시': 1,\n",
              "         '한국': 57,\n",
              "         '입장': 14,\n",
              "         '속': 32,\n",
              "         '블랙코미디': 2,\n",
              "         '수작': 13,\n",
              "         '장난': 11,\n",
              "         '하나': 34,\n",
              "         '필리핀': 1,\n",
              "         '영해': 2,\n",
              "         '문재인': 15,\n",
              "         '조현병': 1,\n",
              "         '환자': 1,\n",
              "         '드': 5,\n",
              "         '개그': 21,\n",
              "         '신파': 14,\n",
              "         '국뽕': 54,\n",
              "         '판타지': 11,\n",
              "         '남북': 34,\n",
              "         '주변': 20,\n",
              "         '중': 43,\n",
              "         '일과': 2,\n",
              "         '문제': 23,\n",
              "         '확인': 5,\n",
              "         '꼭': 72,\n",
              "         '의미': 11,\n",
              "         '시대': 13,\n",
              "         '어찌': 2,\n",
              "         '후손': 3,\n",
              "         '이름': 7,\n",
              "         '부담': 3,\n",
              "         '역사': 36,\n",
              "         '의식': 4,\n",
              "         '소망': 4,\n",
              "         '정치': 92,\n",
              "         '해석': 6,\n",
              "         '국뽕국뽕': 1,\n",
              "         '땅': 8,\n",
              "         '위주': 2,\n",
              "         '무슨': 11,\n",
              "         '잘못': 2,\n",
              "         '맘': 11,\n",
              "         '만인': 1,\n",
              "         '휴전': 1,\n",
              "         '균형': 3,\n",
              "         '실상': 1,\n",
              "         '내용': 59,\n",
              "         '국사': 2,\n",
              "         '가상': 5,\n",
              "         '영화로': 27,\n",
              "         '강철': 121,\n",
              "         '비': 119,\n",
              "         '나': 29,\n",
              "         '강': 13,\n",
              "         '뒤': 8,\n",
              "         '그': 49,\n",
              "         '이외': 1,\n",
              "         '매우': 12,\n",
              "         '동북아': 4,\n",
              "         '분': 22,\n",
              "         '이해': 31,\n",
              "         '장면': 54,\n",
              "         '설정': 38,\n",
              "         '픽션': 13,\n",
              "         '난무': 1,\n",
              "         '정작': 2,\n",
              "         '좌파': 17,\n",
              "         '악역': 3,\n",
              "         '도': 41,\n",
              "         '납득': 2,\n",
              "         '여지': 1,\n",
              "         '캐릭터': 25,\n",
              "         '이영화': 7,\n",
              "         '다그': 1,\n",
              "         '외': 6,\n",
              "         '모두': 26,\n",
              "         '음식': 4,\n",
              "         '급': 3,\n",
              "         '재료': 3,\n",
              "         '조리': 3,\n",
              "         '실력': 2,\n",
              "         '발휘': 2,\n",
              "         '만찬': 1,\n",
              "         '연석': 1,\n",
              "         '제일': 11,\n",
              "         '낭비': 4,\n",
              "         '영호': 1,\n",
              "         '빈틈': 2,\n",
              "         '룰': 1,\n",
              "         '세계': 14,\n",
              "         '집약': 1,\n",
              "         '판': 3,\n",
              "         '가장': 15,\n",
              "         '후반': 24,\n",
              "         '부': 41,\n",
              "         '박진': 17,\n",
              "         '감': 71,\n",
              "         '긴장감': 74,\n",
              "         '시작': 10,\n",
              "         '창': 2,\n",
              "         '뭔가': 9,\n",
              "         '마무리': 4,\n",
              "         '코미디': 15,\n",
              "         '드라마': 4,\n",
              "         '순간': 5,\n",
              "         '퍼뜩': 1,\n",
              "         '분단국가': 1,\n",
              "         '한민족': 3,\n",
              "         '진심': 6,\n",
              "         '음표': 1,\n",
              "         '유연석': 78,\n",
              "         '덜': 3,\n",
              "         '슬림': 1,\n",
              "         '아쉬움': 12,\n",
              "         '좀더': 4,\n",
              "         '함': 38,\n",
              "         '역활': 12,\n",
              "         '몰입': 65,\n",
              "         '강대국': 22,\n",
              "         '야욕': 1,\n",
              "         '주체': 2,\n",
              "         '의지': 3,\n",
              "         '각국': 8,\n",
              "         '위해': 20,\n",
              "         '이용': 5,\n",
              "         '반영': 24,\n",
              "         '아들': 14,\n",
              "         '온': 7,\n",
              "         '마스크': 5,\n",
              "         '역학': 7,\n",
              "         '설득': 5,\n",
              "         '표현': 30,\n",
              "         '엔딩': 11,\n",
              "         '오히려': 13,\n",
              "         '봤습니댜': 1,\n",
              "         '단것': 1,\n",
              "         '자체': 9,\n",
              "         '허구': 7,\n",
              "         '현': 17,\n",
              "         '공감': 20,\n",
              "         '가슴': 29,\n",
              "         '현재': 24,\n",
              "         '시국': 9,\n",
              "         '몰입도': 18,\n",
              "         '개인': 24,\n",
              "         '편': 62,\n",
              "         '바람': 2,\n",
              "         '돈': 48,\n",
              "         '난': 13,\n",
              "         '당신': 3,\n",
              "         '알바': 19,\n",
              "         '친척': 1,\n",
              "         '자기': 8,\n",
              "         '얘기': 14,\n",
              "         '돼지': 4,\n",
              "         '남': 27,\n",
              "         '왜': 46,\n",
              "         '기생충': 2,\n",
              "         '천재': 4,\n",
              "         '이후': 19,\n",
              "         '양우': 1,\n",
              "         '거': 39,\n",
              "         '정리': 4,\n",
              "         '초등학교': 1,\n",
              "         '고학년': 1,\n",
              "         '애': 48,\n",
              "         '여기': 6,\n",
              "         '글': 8,\n",
              "         '용이': 3,\n",
              "         '알바생': 3,\n",
              "         '관계': 26,\n",
              "         '단': 8,\n",
              "         '출동': 4,\n",
              "         '결말': 15,\n",
              "         '그량': 1,\n",
              "         '명절': 1,\n",
              "         '티비': 1,\n",
              "         '양우석': 14,\n",
              "         '재미나': 4,\n",
              "         '시사': 3,\n",
              "         '디워': 1,\n",
              "         '느낌': 40,\n",
              "         '애국': 3,\n",
              "         '주의': 5,\n",
              "         '성향': 5,\n",
              "         '스릴': 27,\n",
              "         '쫄깃쫄깃했어': 1,\n",
              "         '예전': 3,\n",
              "         '적폐': 2,\n",
              "         '노': 3,\n",
              "         '재팬': 2,\n",
              "         '제': 21,\n",
              "         '국': 10,\n",
              "         '타도': 1,\n",
              "         '이야기': 31,\n",
              "         '최대한': 1,\n",
              "         '핵심': 2,\n",
              "         '지점': 1,\n",
              "         '연출': 28,\n",
              "         '시도': 2,\n",
              "         '점도': 8,\n",
              "         '유영석': 1,\n",
              "         '어색': 2,\n",
              "         '늘': 7,\n",
              "         '대체': 6,\n",
              "         '뭥미': 2,\n",
              "         '은': 10,\n",
              "         '역시': 19,\n",
              "         '형': 3,\n",
              "         '아우': 2,\n",
              "         '건가': 5,\n",
              "         '북사': 1,\n",
              "         '제작비': 4,\n",
              "         '얼마': 6,\n",
              "         '린거': 1,\n",
              "         '나라': 49,\n",
              "         '별': 7,\n",
              "         '특징': 1,\n",
              "         '헐리웃': 3,\n",
              "         '스펙': 2,\n",
              "         '터': 3,\n",
              "         '만난': 1,\n",
              "         '메시지': 11,\n",
              "         '가지': 7,\n",
              "         '주제': 19,\n",
              "         '코믹': 25,\n",
              "         '요소': 18,\n",
              "         '노력': 13,\n",
              "         '잠깐': 4,\n",
              "         '치': 5,\n",
              "         '체적': 1,\n",
              "         '일': 34,\n",
              "         '북': 21,\n",
              "         '재': 8,\n",
              "         '스토리': 67,\n",
              "         '부족': 6,\n",
              "         '의도': 14,\n",
              "         '그림': 2,\n",
              "         '제대로': 15,\n",
              "         '극한': 5,\n",
              "         '화장실': 4,\n",
              "         '그냥': 63,\n",
              "         '김': 4,\n",
              "         '고개': 2,\n",
              "         '잼': 19,\n",
              "         '이분법': 1,\n",
              "         '보': 5,\n",
              "         '흥미': 13,\n",
              "         '눈물': 31,\n",
              "         '국익': 3,\n",
              "         '외관': 1,\n",
              "         '풀': 2,\n",
              "         '전작': 16,\n",
              "         '더': 102,\n",
              "         '미관': 1,\n",
              "         '조금': 33,\n",
              "         '유머': 33,\n",
              "         '완전': 43,\n",
              "         '흥미진진': 28,\n",
              "         '전': 19,\n",
              "         '폭파': 8,\n",
              "         '사건': 4,\n",
              "         '피부': 1,\n",
              "         '수고': 4,\n",
              "         '헐리우드': 8,\n",
              "         '어뢰': 18,\n",
              "         '깜놀': 5,\n",
              "         '말로': 5,\n",
              "         '거구': 1,\n",
              "         '소설': 2,\n",
              "         '패러디': 2,\n",
              "         '전반': 11,\n",
              "         '설명': 19,\n",
              "         '다시': 36,\n",
              "         '일단': 11,\n",
              "         '글구': 2,\n",
              "         '끼리': 3,\n",
              "         '어썰푸': 1,\n",
              "         '진정': 5,\n",
              "         '말': 60,\n",
              "         '볼거리': 3,\n",
              "         '국어': 1,\n",
              "         '책': 1,\n",
              "         '외국': 6,\n",
              "         '답습': 1,\n",
              "         '코메': 2,\n",
              "         '디도': 2,\n",
              "         '참나': 1,\n",
              "         '중재': 4,\n",
              "         '로서': 2,\n",
              "         '연결': 1,\n",
              "         '된거': 2,\n",
              "         '완성': 13,\n",
              "         '임꼭': 1,\n",
              "         '남북통일': 3,\n",
              "         '감격': 1,\n",
              "         '딸': 3,\n",
              "         '결': 1,\n",
              "         '코로나': 25,\n",
              "         '천만': 4,\n",
              "         '충격': 2,\n",
              "         '근래': 10,\n",
              "         '게': 14,\n",
              "         '국민': 41,\n",
              "         '소름': 2,\n",
              "         '이익관': 1,\n",
              "         '처지': 6,\n",
              "         '방향': 3,\n",
              "         '제시': 5,\n",
              "         '감사': 1,\n",
              "         '인사': 4,\n",
              "         '어제': 5,\n",
              "         '악': 2,\n",
              "         '하소': 3,\n",
              "         '비교': 8,\n",
              "         '불가라': 1,\n",
              "         '인생': 7,\n",
              "         '쿠키': 11,\n",
              "         '영상': 17,\n",
              "         '여운': 8,\n",
              "         '나름': 28,\n",
              "         '최민수': 4,\n",
              "         '주연': 20,\n",
              "         '유령': 11,\n",
              "         '광': 2,\n",
              "         '그대로': 13,\n",
              "         '쿠데타': 4,\n",
              "         '우두머리': 1,\n",
              "         '행동': 5,\n",
              "         '때': 35,\n",
              "         '민족': 12,\n",
              "         '이득': 2,\n",
              "         '정은': 3,\n",
              "         '판타지영화': 1,\n",
              "         '부디': 3,\n",
              "         '꿈': 6,\n",
              "         '앞뒤': 2,\n",
              "         '밑': 3,\n",
              "         '끝': 23,\n",
              "         '임': 37,\n",
              "         '류': 1,\n",
              "         '베스트': 1,\n",
              "         '코리아': 1,\n",
              "         '연관': 2,\n",
              "         '해명': 1,\n",
              "         '선동': 18,\n",
              "         '얼렁': 1,\n",
              "         '낚': 1,\n",
              "         '누가': 6,\n",
              "         '우숩기': 1,\n",
              "         '매칭': 3,\n",
              "         '요': 18,\n",
              "         '이전': 1,\n",
              "         '맹박': 1,\n",
              "         '아마': 8,\n",
              "         '독도': 26,\n",
              "         '영토': 2,\n",
              "         '은연중': 1,\n",
              "         '부각': 3,\n",
              "         '작가': 4,\n",
              "         '지도자': 16,\n",
              "         '거의': 7,\n",
              "         '등장인물': 4,\n",
              "         '생': 1,\n",
              "         '인내': 2,\n",
              "         '아이콘': 1,\n",
              "         '헛': 3,\n",
              "         '웃음': 25,\n",
              "         '글쎄요': 2,\n",
              "         '기독교': 1,\n",
              "         '카톨릭': 1,\n",
              "         '개신교': 1,\n",
              "         '대비': 5,\n",
              "         '대중': 8,\n",
              "         '로부터': 2,\n",
              "         '진': 9,\n",
              "         '좌편향': 1,\n",
              "         '냄새': 4,\n",
              "         '이유': 16,\n",
              "         '뭘': 4,\n",
              "         '정권': 11,\n",
              "         '편향': 5,\n",
              "         '누군가': 5,\n",
              "         '고요': 1,\n",
              "         '한마디': 8,\n",
              "         '화질': 1,\n",
              "         '구성': 10,\n",
              "         '북미': 13,\n",
              "         '한계': 8,\n",
              "         '대체로': 2,\n",
              "         '훌륭': 3,\n",
              "         '일관': 2,\n",
              "         '찬사': 1,\n",
              "         '정선': 1,\n",
              "         '저': 17,\n",
              "         '울': 1,\n",
              "         '와이프': 7,\n",
              "         '만족': 6,\n",
              "         '버무려': 1,\n",
              "         '코드': 17,\n",
              "         '버무린': 1,\n",
              "         '실제': 9,\n",
              "         '통': 9,\n",
              "         '영화에서처럼': 1,\n",
              "         '양보': 2,\n",
              "         '내내': 14,\n",
              "         '직업': 7,\n",
              "         '널뛰기': 1,\n",
              "         '홀로': 2,\n",
              "         '제어': 1,\n",
              "         '감명': 4,\n",
              "         '있슴': 2,\n",
              "         '길': 4,\n",
              "         '토왜': 7,\n",
              "         '일베': 30,\n",
              "         '입': 6,\n",
              "         '가품': 1,\n",
              "         '물': 6,\n",
              "         '고별': 1,\n",
              "         '점': 121,\n",
              "         '연화': 1,\n",
              "         '위원장': 9,\n",
              "         '굿': 36,\n",
              "         '스토리텔링': 1,\n",
              "         '방식': 3,\n",
              "         '약간': 25,\n",
              "         '열강': 5,\n",
              "         '회담': 4,\n",
              "         '등등': 7,\n",
              "         '연상': 5,\n",
              "         '방금': 11,\n",
              "         '스타': 1,\n",
              "         '필드': 1,\n",
              "         '하남': 1,\n",
              "         '메가박스': 1,\n",
              "         '자칫': 2,\n",
              "         '소재': 13,\n",
              "         '간장': 1,\n",
              "         '해저': 1,\n",
              "         '전투씬': 17,\n",
              "         '볼만했슴': 1,\n",
              "         '다만': 15,\n",
              "         '감점': 1,\n",
              "         '직시': 2,\n",
              "         '역대': 4,\n",
              "         '표값': 1,\n",
              "         '울림': 9,\n",
              "         '실': 4,\n",
              "         '관람': 18,\n",
              "         '평이': 4,\n",
              "         '주위': 1,\n",
              "         '정상': 29,\n",
              "         '실감': 21,\n",
              "         '전쟁': 17,\n",
              "         '세상': 4,\n",
              "         '씨레깅': 1,\n",
              "         '장점': 2,\n",
              "         '얼굴': 5,\n",
              "         '단점': 1,\n",
              "         '중하': 1,\n",
              "         '수준': 23,\n",
              "         '신선': 1,\n",
              "         '보람': 2,\n",
              "         '찬': 2,\n",
              "         '크게': 10,\n",
              "         '조국': 4,\n",
              "         '만세': 3,\n",
              "         '간만': 26,\n",
              "         '그린': 6,\n",
              "         '비운': 1,\n",
              "         '기도': 19,\n",
              "         '날': 6,\n",
              "         '서로': 5,\n",
              "         '고가': 1,\n",
              "         '도움': 4,\n",
              "         '사이': 19,\n",
              "         '배경': 7,\n",
              "         '실화': 1,\n",
              "         '재밋': 5,\n",
              "         '위치': 11,\n",
              "         '지각': 1,\n",
              "         '함장': 28,\n",
              "         '짱': 17,\n",
              "         '유지': 4,\n",
              "         '용': 16,\n",
              "         '캐스팅': 8,\n",
              "         '미스': 3,\n",
              "         '구': 6,\n",
              "         '절대': 14,\n",
              "         '요즘': 13,\n",
              "         '관객': 16,\n",
              "         '홍보': 16,\n",
              "         '안해': 2,\n",
              "         '소문': 1,\n",
              "         '바로': 4,\n",
              "         '겉': 2,\n",
              "         '번지르르': 1,\n",
              "         '실속': 1,\n",
              "         '반짝': 2,\n",
              "         '스크린': 4,\n",
              "         '판단': 4,\n",
              "         '줄': 30,\n",
              "         '약소국': 4,\n",
              "         '설음': 1,\n",
              "         '멍': 1,\n",
              "         '하드': 1,\n",
              "         '고생': 5,\n",
              "         '적': 9,\n",
              "         '면서': 3,\n",
              "         '평화통일': 6,\n",
              "         '다른': 26,\n",
              "         '대립': 2,\n",
              "         '희망': 8,\n",
              "         '긴장': 6,\n",
              "         '지정학적': 2,\n",
              "         '거리': 9,\n",
              "         '새삼': 3,\n",
              "         '해': 19,\n",
              "         '개봉': 26,\n",
              "         '제라드': 1,\n",
              "         '버틀러': 1,\n",
              "         '미국영화': 2,\n",
              "         '자꾸만': 1,\n",
              "         '올해': 12,\n",
              "         '긴박': 8,\n",
              "         '도감': 3,\n",
              "         '로맨틱': 1,\n",
              "         '국제': 34,\n",
              "         '원인': 1,\n",
              "         '준': 15,\n",
              "         '제발': 12,\n",
              "         '하반기': 1,\n",
              "         '인물': 20,\n",
              "         '입체': 3,\n",
              "         '생동감': 1,\n",
              "         '카리스마': 6,\n",
              "         '인간미': 2,\n",
              "         '깃': 3,\n",
              "         '리더십': 1,\n",
              "         '중일': 8,\n",
              "         '중반': 21,\n",
              "         '의': 10,\n",
              "         '서사': 6,\n",
              "         '살짝': 7,\n",
              "         '투': 3,\n",
              "         '박하': 1,\n",
              "         '구현': 1,\n",
              "         '집중': 13,\n",
              "         '부가': 4,\n",
              "         '더욱': 9,\n",
              "         '압도': 6,\n",
              "         '가족영화': 1,\n",
              "         '과거': 5,\n",
              "         '컴퓨터': 2,\n",
              "         '각': 8,\n",
              "         '착': 1,\n",
              "         '전문가': 2,\n",
              "         '줄타기': 2,\n",
              "         '남북관계': 3,\n",
              "         '라면': 16,\n",
              "         '고려': 3,\n",
              "         '훗날': 2,\n",
              "         '자각': 2,\n",
              "         '하니': 2,\n",
              "         '연륜': 1,\n",
              "         '성품': 1,\n",
              "         '처음': 25,\n",
              "         '꿀잼': 5,\n",
              "         '대해': 22,\n",
              "         '기회': 3,\n",
              "         '쫄깃쫄깃': 2,\n",
              "         '왜국': 2,\n",
              "         '절대로': 1,\n",
              "         '경계': 1,\n",
              "         '이웃': 1,\n",
              "         '외계': 1,\n",
              "         '국가': 19,\n",
              "         '정서': 2,\n",
              "         '경제': 7,\n",
              "         '지면': 1,\n",
              "         '구축': 1,\n",
              "         '눈빛': 3,\n",
              "         '초등생': 2,\n",
              "         '아이': 16,\n",
              "         '젤': 4,\n",
              "         '휴가': 5,\n",
              "         '본인': 5,\n",
              "         '사랑': 6,\n",
              "         '그게': 4,\n",
              "         '편의': 6,\n",
              "         '고대로': 1,\n",
              "         '어가': 2,\n",
              "         '그것': 9,\n",
              "         '만화': 8,\n",
              "         '쫄깃': 9,\n",
              "         '소원': 7,\n",
              "         '바램': 3,\n",
              "         '즐감': 1,\n",
              "         '타임': 3,\n",
              "         '개성': 2,\n",
              "         '곳': 4,\n",
              "         '눈': 18,\n",
              "         '장마': 3,\n",
              "         '감성': 3,\n",
              "         '구름': 1,\n",
              "         '햇살': 2,\n",
              "         '초': 11,\n",
              "         '지식': 3,\n",
              "         '크레딧': 6,\n",
              "         '예술': 4,\n",
              "         '주역': 1,\n",
              "         '이자': 1,\n",
              "         '줄기': 2,\n",
              "         '존재': 12,\n",
              "         '인정': 5,\n",
              "         '최상': 1,\n",
              "         '만약': 2,\n",
              "         '위': 20,\n",
              "         '일인': 1,\n",
              "         '푹': 3,\n",
              "         '시기': 1,\n",
              "         '삼국': 3,\n",
              "         '외교': 15,\n",
              "         '마치': 4,\n",
              "         '운명': 3,\n",
              "         '고급': 2,\n",
              "         '기술': 6,\n",
              "         '두': 9,\n",
              "         '각각': 2,\n",
              "         '어쨌든': 5,\n",
              "         '미스터': 5,\n",
              "         '션': 3,\n",
              "         '샤인': 4,\n",
              "         '씬스틸러': 2,\n",
              "         '활약': 3,\n",
              "         '주제가': 4,\n",
              "         '시': 4,\n",
              "         '동안': 4,\n",
              "         '염정아': 3,\n",
              "         '손': 6,\n",
              "         '무척': 1,\n",
              "         '예상': 5,\n",
              "         '시나리오': 33,\n",
              "         '초반': 45,\n",
              "         '총': 5,\n",
              "         '욕': 8,\n",
              "         '그동안': 1,\n",
              "         '바이러스': 1,\n",
              "         '영화관': 18,\n",
              "         '선택': 7,\n",
              "         '꽤': 13,\n",
              "         '대박': 22,\n",
              "         '전부': 7,\n",
              "         '거짓말': 1,\n",
              "         '집': 9,\n",
              "         '민주당': 6,\n",
              "         '장기': 1,\n",
              "         '집권': 2,\n",
              "         '가즈': 4,\n",
              "         '기관총': 1,\n",
              "         '난리': 2,\n",
              "         '다말': 1,\n",
              "         '헛웃음': 2,\n",
              "         '이만': 1,\n",
              "         '최': 6,\n",
              "         '자꾸': 3,\n",
              "         '관심': 16,\n",
              "         '다가': 8,\n",
              "         '의과': 1,\n",
              "         '칭찬': 3,\n",
              "         '잠': 4,\n",
              "         '오지': 4,\n",
              "         '혹시': 3,\n",
              "         '미화': 28,\n",
              "         '무조건': 6,\n",
              "         '덮어놓고': 1,\n",
              "         '반미': 11,\n",
              "         '반일': 9,\n",
              "         '과연': 6,\n",
              "         '차라리': 9,\n",
              "         '낫다': 7,\n",
              "         '찌': 2,\n",
              "         '기': 6,\n",
              "         '울분': 1,\n",
              "         '토': 1,\n",
              "         '음악': 2,\n",
              "         '다소': 9,\n",
              "         '개연': 20,\n",
              "         '전개': 26,\n",
              "         '덕': 1,\n",
              "         '젠': 4,\n",
              "         '귀가': 1,\n",
              "         '티켓': 2,\n",
              "         '선물': 1,\n",
              "         '햏': 1,\n",
              "         '모': 2,\n",
              "         '빨': 4,\n",
              "         '성은': 2,\n",
              "         '중심': 2,\n",
              "         '갈등': 4,\n",
              "         '사국': 1,\n",
              "         '국정': 6,\n",
              "         '살신성인': 1,\n",
              "         '군인': 6,\n",
              "         '조연': 8,\n",
              "         '전문용어': 1,\n",
              "         '동원': 1,\n",
              "         '천신만고': 1,\n",
              "         '성공': 2,\n",
              "         '남한': 13,\n",
              "         '다음': 8,\n",
              "         '단계': 1,\n",
              "         '심장': 8,\n",
              "         '보수': 5,\n",
              "         '평소': 1,\n",
              "         '밀리터리': 1,\n",
              "         '한텐': 2,\n",
              "         '일본해': 1,\n",
              "         '초계기': 1,\n",
              "         '오야': 1,\n",
              "         '시급': 1,\n",
              "         '소류': 1,\n",
              "         '회피': 1,\n",
              "         '기동': 2,\n",
              "         '밀덕': 5,\n",
              "         '시각': 6,\n",
              "         '자국': 6,\n",
              "         '이익': 9,\n",
              "         '를': 10,\n",
              "         '외세': 2,\n",
              "         '개입': 1,\n",
              "         '자주': 14,\n",
              "         '하자': 7,\n",
              "         '핵': 7,\n",
              "         '협박': 1,\n",
              "         '공짜': 3,\n",
              "         '존나': 2,\n",
              "         '무역': 2,\n",
              "         '교역': 1,\n",
              "         '살': 12,\n",
              "         '스스로': 6,\n",
              "         '겁': 2,\n",
              "         '초딩': 3,\n",
              "         '간첩': 4,\n",
              "         '어디': 6,\n",
              "         '세뇌': 3,\n",
              "         '당한': 1,\n",
              "         '고서': 1,\n",
              "         '수가': 3,\n",
              "         '잼남': 5,\n",
              "         '잼남앞': 1,\n",
              "         '갈수록': 9,\n",
              "         '꽉': 1,\n",
              "         '상업성': 1,\n",
              "         '걱정': 11,\n",
              "         '뭍': 1,\n",
              "         '만족감': 1,\n",
              "         '화면': 6,\n",
              "         '보기': 19,\n",
              "         '녹았슴': 1,\n",
              "         '정': 4,\n",
              "         '조명': 2,\n",
              "         '조화': 2,\n",
              "         '반도': 47,\n",
              "         '중후': 4,\n",
              "         '반': 7,\n",
              "         '신': 8,\n",
              "         '하루': 2,\n",
              "         '나이': 3,\n",
              "         '점점': 3,\n",
              "         '배역': 25,\n",
              "         '악의': 1,\n",
              "         '축': 1,\n",
              "         '인류': 2,\n",
              "         '주적': 15,\n",
              "         '도입': 2,\n",
              "         '버': 3,\n",
              "         '사카': 2,\n",
              "         '재단': 1,\n",
              "         '요시다': 1,\n",
              "         '쇼': 1,\n",
              "         '가로': 1,\n",
              "         '화가': 9,\n",
              "         '국방': 7,\n",
              "         '그날': 2,\n",
              "         '번영': 2,\n",
              "         '초등': 2,\n",
              "         '학년': 4,\n",
              "         '우리땅': 4,\n",
              "         '시리즈': 6,\n",
              "         '상상력': 13,\n",
              "         '과': 9,\n",
              "         '썩': 1,\n",
              "         '상업': 5,\n",
              "         '본질': 1,\n",
              "         '괜치': 1,\n",
              "         '중립': 1,\n",
              "         '고수': 1,\n",
              "         '하락': 1,\n",
              "         '메세지': 27,\n",
              "         '예': 1,\n",
              "         '남산': 2,\n",
              "         '부장': 2,\n",
              "         '양쪽': 1,\n",
              "         '협력': 2,\n",
              "         '체제': 3,\n",
              "         '난민': 1,\n",
              "         '인권': 5,\n",
              "         '중졸': 2,\n",
              "         '놨': 1,\n",
              "         '알': 31,\n",
              "         '단연': 5,\n",
              "         '니': 8,\n",
              "         '첫': 5,\n",
              "         '모로': 5,\n",
              "         '만해': 3,\n",
              "         '처': 11,\n",
              "         '해피엔딩': 4,\n",
              "         '수출': 1,\n",
              "         '순삭': 5,\n",
              "         '물이': 4,\n",
              "         '틈': 8,\n",
              "         '고': 5,\n",
              "         ...})"
            ]
          },
          "metadata": {
            "tags": []
          },
          "execution_count": 22
        }
      ]
    },
    {
      "cell_type": "code",
      "metadata": {
        "id": "Y0ouSrTkyWgO",
        "colab_type": "code",
        "colab": {}
      },
      "source": [
        "# 가장 자주 출현하는 명사 100개를 추출한다.\n",
        "data = count.most_common(100)"
      ],
      "execution_count": 23,
      "outputs": []
    },
    {
      "cell_type": "code",
      "metadata": {
        "id": "Y0Kb48VexX5N",
        "colab_type": "code",
        "colab": {
          "base_uri": "https://localhost:8080/",
          "height": 1000
        },
        "outputId": "6db88d96-0b63-4ac8-e4fa-858a2b44679d"
      },
      "source": [
        "data"
      ],
      "execution_count": 24,
      "outputs": [
        {
          "output_type": "execute_result",
          "data": {
            "text/plain": [
              "[('영화', 953),\n",
              " ('잠수함', 212),\n",
              " ('현실', 211),\n",
              " ('대통령', 192),\n",
              " ('정우성', 185),\n",
              " ('생각', 183),\n",
              " ('배우', 181),\n",
              " ('연기', 171),\n",
              " ('우리', 150),\n",
              " ('것', 137),\n",
              " ('정말', 125),\n",
              " ('이', 124),\n",
              " ('강철', 121),\n",
              " ('점', 121),\n",
              " ('기대', 119),\n",
              " ('비', 119),\n",
              " ('북한', 117),\n",
              " ('재미', 109),\n",
              " ('더', 102),\n",
              " ('한반도', 101),\n",
              " ('보고', 101),\n",
              " ('볼', 97),\n",
              " ('미국', 94),\n",
              " ('좀', 94),\n",
              " ('우리나라', 93),\n",
              " ('정치', 92),\n",
              " ('평점', 88),\n",
              " ('사람', 85),\n",
              " ('수', 85),\n",
              " ('통일', 83),\n",
              " ('상황', 83),\n",
              " ('액션', 79),\n",
              " ('유연석', 78),\n",
              " ('일본', 77),\n",
              " ('마지막', 76),\n",
              " ('감동', 75),\n",
              " ('진짜', 75),\n",
              " ('시간', 74),\n",
              " ('긴장감', 74),\n",
              " ('꼭', 72),\n",
              " ('감', 71),\n",
              " ('곽도원', 69),\n",
              " ('최고', 67),\n",
              " ('스토리', 67),\n",
              " ('신정근', 66),\n",
              " ('대한민국', 66),\n",
              " ('몰입', 65),\n",
              " ('감독', 63),\n",
              " ('그냥', 63),\n",
              " ('편', 62),\n",
              " ('테러', 60),\n",
              " ('말', 60),\n",
              " ('씬', 59),\n",
              " ('내용', 59),\n",
              " ('한국', 57),\n",
              " ('국뽕', 54),\n",
              " ('장면', 54),\n",
              " ('정도', 52),\n",
              " ('듯', 51),\n",
              " ('정세', 51),\n",
              " ('평화', 49),\n",
              " ('안', 49),\n",
              " ('그', 49),\n",
              " ('나라', 49),\n",
              " ('중간', 48),\n",
              " ('돈', 48),\n",
              " ('애', 48),\n",
              " ('반도', 47),\n",
              " ('부분', 46),\n",
              " ('왜', 46),\n",
              " ('초반', 45),\n",
              " ('아주', 44),\n",
              " ('지금', 44),\n",
              " ('중', 43),\n",
              " ('완전', 43),\n",
              " ('도', 41),\n",
              " ('부', 41),\n",
              " ('국민', 41),\n",
              " ('추천', 40),\n",
              " ('느낌', 40),\n",
              " ('거', 39),\n",
              " ('정신병', 39),\n",
              " ('설정', 38),\n",
              " ('함', 38),\n",
              " ('만', 37),\n",
              " ('임', 37),\n",
              " ('한번', 37),\n",
              " ('때문', 36),\n",
              " ('역할', 36),\n",
              " ('역사', 36),\n",
              " ('다시', 36),\n",
              " ('굿', 36),\n",
              " ('김정은', 35),\n",
              " ('쓰레기', 35),\n",
              " ('때', 35),\n",
              " ('사실', 34),\n",
              " ('하나', 34),\n",
              " ('남북', 34),\n",
              " ('일', 34),\n",
              " ('국제', 34)]"
            ]
          },
          "metadata": {
            "tags": []
          },
          "execution_count": 24
        }
      ]
    },
    {
      "cell_type": "code",
      "metadata": {
        "id": "vIJ9Pa18lNPD",
        "colab_type": "code",
        "colab": {
          "base_uri": "https://localhost:8080/",
          "height": 263
        },
        "outputId": "223dcb2c-cfd7-4096-f523-2fc970c3a58e"
      },
      "source": [
        "# --- 한글 워드 클라우드를 그리기 위해 한글 폰트를 설치한다.\n",
        "# 한글 폰트를 설치한다.\n",
        "!apt -qq -y install fonts-nanum\n",
        " \n",
        "# 나눔바른고딕(NanumBarunGothic)을 사용하기 위해 경로를 포함시킨다.\n",
        "fontpath = '/usr/share/fonts/truetype/nanum/NanumBarunGothic.ttf' "
      ],
      "execution_count": 25,
      "outputs": [
        {
          "output_type": "stream",
          "text": [
            "The following package was automatically installed and is no longer required:\n",
            "  libnvidia-common-440\n",
            "Use 'apt autoremove' to remove it.\n",
            "The following NEW packages will be installed:\n",
            "  fonts-nanum\n",
            "0 upgraded, 1 newly installed, 0 to remove and 35 not upgraded.\n",
            "Need to get 9,604 kB of archives.\n",
            "After this operation, 29.5 MB of additional disk space will be used.\n",
            "Selecting previously unselected package fonts-nanum.\n",
            "(Reading database ... 144487 files and directories currently installed.)\n",
            "Preparing to unpack .../fonts-nanum_20170925-1_all.deb ...\n",
            "Unpacking fonts-nanum (20170925-1) ...\n",
            "Setting up fonts-nanum (20170925-1) ...\n",
            "Processing triggers for fontconfig (2.12.6-0ubuntu2) ...\n"
          ],
          "name": "stdout"
        }
      ]
    },
    {
      "cell_type": "code",
      "metadata": {
        "id": "KaJN46_4yrtx",
        "colab_type": "code",
        "colab": {
          "base_uri": "https://localhost:8080/",
          "height": 34
        },
        "outputId": "f5768dda-853c-4791-f928-f03b29d9e1c7"
      },
      "source": [
        "from wordcloud import WordCloud\n",
        "\n",
        "wordcloud = WordCloud(\n",
        "  font_path=fontpath,\n",
        "  relative_scaling=0.2,\n",
        "  background_color='white',\n",
        ").generate_from_frequencies(dict(data))\n",
        "\n",
        "wordcloud"
      ],
      "execution_count": 26,
      "outputs": [
        {
          "output_type": "execute_result",
          "data": {
            "text/plain": [
              "<wordcloud.wordcloud.WordCloud at 0x7ff38fc71748>"
            ]
          },
          "metadata": {
            "tags": []
          },
          "execution_count": 26
        }
      ]
    },
    {
      "cell_type": "code",
      "metadata": {
        "id": "dLc92aAvy4VV",
        "colab_type": "code",
        "colab": {
          "base_uri": "https://localhost:8080/",
          "height": 477
        },
        "outputId": "a2d48013-a147-44b3-d1b8-a902709125a1"
      },
      "source": [
        "from matplotlib import pyplot\n",
        "\n",
        "pyplot.figure(figsize=(16, 10))  # width, height in inches\n",
        "pyplot.imshow(wordcloud)\n",
        "pyplot.axis('off')\n",
        "pyplot.show()"
      ],
      "execution_count": 27,
      "outputs": [
        {
          "output_type": "display_data",
          "data": {
            "image/png": "[encoded data removed]",
            "text/plain": [
              "<Figure size 1152x720 with 1 Axes>"
            ]
          },
          "metadata": {
            "tags": [],
            "needs_background": "light"
          }
        }
      ]
    },
    {
      "cell_type": "markdown",
      "metadata": {
        "id": "OMOyBBkMO2wq",
        "colab_type": "text"
      },
      "source": [
        "## pytagcloud"
      ]
    },
    {
      "cell_type": "markdown",
      "metadata": {
        "id": "2noHt66SO2wr",
        "colab_type": "text"
      },
      "source": [
        "&#9658; <font color='red'>[참고] 아래 코드를 실행하기 위해서는 pycloudtag와 관련 한글 폰트 'Noto Sans CJK'가 사전에 설치되어 있어야 한다.</font>"
      ]
    },
    {
      "cell_type": "code",
      "metadata": {
        "colab_type": "code",
        "hidden": true,
        "id": "DvqBP_VB-kjg",
        "colab": {}
      },
      "source": [
        "# --- 워드클라우드 관련 모듈 설치 --------------------------------- #\n",
        "# pygame과 simplejson 설치\n",
        "!python -m pip install --upgrade pygame \n",
        "!python -m pip install --upgrade simplejson \n",
        "\n",
        "# pytagcloud에 한국어 폰트가 추가된 버전을 설치\n",
        "!pip install git+https://github.com/e9t/PyTagCloud.git"
      ],
      "execution_count": null,
      "outputs": []
    },
    {
      "cell_type": "code",
      "metadata": {
        "id": "4McgaNDRO2wr",
        "colab_type": "code",
        "colab": {}
      },
      "source": [
        "from konlpy.tag import Okt  \n",
        "from collections import Counter\n",
        "import random\n",
        "\n",
        "# --- wordcloud 생성에 필요한 함수 정의를 정의한다.\n",
        "def get_tags(text, ntags=100, multiplier=1):\n",
        "  '''워드클라우드를 그리기 위한 명사 태그와 그 빈도수, 그리고 색깔을 생성한다.\n",
        "  \n",
        "  Args:\n",
        "    text (list | tuple): 텍스트를 담고 있는 리스트나 튜플\n",
        "    ntags (int): 생성할 태그의 개수(기본값은 100)\n",
        "    multiplier (int): 상대적인 크기 상수(기본값은 1)\n",
        "  Returns:\n",
        "      list[dict]: 색, 총 태그 개수, 사이즈의 딕셔너리를 담고 있는 리스트\n",
        "  '''\n",
        "  okt = Okt() # Open Korean Text 형태소 분석기 객체를 생성한다.\n",
        "  \n",
        "  # 리스트 또는 튜플 자료형인 text의 각 문장을 꺼낸 후 \n",
        "  # 형태소 붆석기를 통해 명사만 추려내 리스트에 담는다.\n",
        "  nouns = [noun for sent in text \n",
        "                  for noun in okt.nouns(sent)]\n",
        "  \n",
        "  # nouns 리스트에 있는 서로 다른 명사의 개수 구한다. \n",
        "  count = Counter(nouns)    \n",
        "\n",
        "  # --- 워드 클라우드에 사용할 단어들의 색깔을 무작위로 구성한다.\n",
        "  # 람다 함수로 0부터 254 사이의 임이의 정수를 추출한다.\n",
        "  rgb = lambda: random.randint(0, 255)\n",
        "  # 람다 함수 rgb 3개를 합쳐 RGB 색을 지정하는 새로운 람다 함수를 생성한다.\n",
        "  color = lambda: (rgb(), rgb(), rgb())\n",
        "\n",
        "  return [{'color': color(), 'tag': n, 'size': c * multiplier}\n",
        "            for n, c in count.most_common(ntags)]"
      ],
      "execution_count": null,
      "outputs": []
    },
    {
      "cell_type": "code",
      "metadata": {
        "id": "wRb2-nproiGZ",
        "colab_type": "code",
        "colab": {}
      },
      "source": [
        "# 위에서 정의한 get_tags() 이용해 가장 많이 사용한 명사 100개를 추출한다.\n",
        "tags = get_tags(text)\n",
        "len(tags)"
      ],
      "execution_count": null,
      "outputs": []
    },
    {
      "cell_type": "code",
      "metadata": {
        "id": "c0UmfCt0ojyH",
        "colab_type": "code",
        "colab": {}
      },
      "source": [
        "tags[:5]"
      ],
      "execution_count": null,
      "outputs": []
    },
    {
      "cell_type": "markdown",
      "metadata": {
        "colab_type": "text",
        "id": "ab3o4QkrO2wt"
      },
      "source": [
        "[pytagcloud](https://pypi.org/project/pytagcloud/)\n",
        "\n",
        "- PyTagCloud allows us to create simple tag clouds."
      ]
    },
    {
      "cell_type": "code",
      "metadata": {
        "id": "MbSTs_stzK1x",
        "colab_type": "code",
        "colab": {}
      },
      "source": [
        "import pytagcloud\n",
        "\n",
        "filename = 'wordcloud.png'\n",
        "size = 1200, 1000   # width, height\n",
        "fontname = 'Noto Sans CJK'\n",
        "\n",
        "# pytagcloud 모듈의 함수로 워드클라우드 이미지를 생성한다(png 형식)\n",
        "pytagcloud.create_tag_image(__TODO__)"
      ],
      "execution_count": null,
      "outputs": []
    },
    {
      "cell_type": "code",
      "metadata": {
        "id": "C8LrJlbhzMfl",
        "colab_type": "code",
        "colab": {}
      },
      "source": [
        "# 가장 자주 출현한 단어 2개('영화', '음악')을 제외한 워드 클라우드를 그린다.\n",
        "del tags[:2]\n",
        "\n",
        "filename2 = 'wordcloud2.png'\n",
        "size = 1000, 600   # width, height\n",
        "fontname = 'Noto Sans CJK'\n",
        "\n",
        "# pytagcloud 모듈의 함수로 워드클라우드 이미지를 생성한다(png 형식)\n",
        "pytagcloud.create_tag_image(__TODO__)"
      ],
      "execution_count": null,
      "outputs": []
    },
    {
      "cell_type": "code",
      "metadata": {
        "colab_type": "code",
        "id": "tWtIUyFdpJ_A",
        "colab": {}
      },
      "source": [
        "# ======= For Google Colaboratory ===============================\n",
        "# --- 수집한 데이터와 전처리한 데이터를 로컬 파일로 내려받기를 한다.\n",
        "from google.colab import files\n",
        "files.download(filename)\n",
        "files.download(filename2)"
      ],
      "execution_count": null,
      "outputs": []
    },
    {
      "cell_type": "markdown",
      "metadata": {
        "id": "7np3U1BPO2wu",
        "colab_type": "text"
      },
      "source": [
        "- - -\n",
        "# <font color='red'>THE END</font>"
      ]
    }
  ]
}