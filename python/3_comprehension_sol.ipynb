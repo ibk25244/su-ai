{
  "nbformat": 4,
  "nbformat_minor": 0,
  "metadata": {
    "hide_input": false,
    "kernelspec": {
      "name": "python3",
      "display_name": "Python 3"
    },
    "language_info": {
      "codemirror_mode": {
        "name": "ipython",
        "version": 3
      },
      "file_extension": ".py",
      "mimetype": "text/x-python",
      "name": "python",
      "nbconvert_exporter": "python",
      "pygments_lexer": "ipython3",
      "version": "3.8.1"
    },
    "toc": {
      "base_numbering": 1,
      "nav_menu": {},
      "number_sections": true,
      "sideBar": true,
      "skip_h1_title": false,
      "title_cell": "Table of Contents",
      "title_sidebar": "Contents",
      "toc_cell": true,
      "toc_position": {},
      "toc_section_display": "block",
      "toc_window_display": false
    },
    "varInspector": {
      "cols": {
        "lenName": 16,
        "lenType": 16,
        "lenVar": 40
      },
      "kernels_config": {
        "python": {
          "delete_cmd_postfix": "",
          "delete_cmd_prefix": "del ",
          "library": "var_list.py",
          "varRefreshCmd": "print(var_dic_list())"
        },
        "r": {
          "delete_cmd_postfix": ") ",
          "delete_cmd_prefix": "rm(",
          "library": "var_list.r",
          "varRefreshCmd": "cat(var_dic_list()) "
        }
      },
      "types_to_exclude": [
        "module",
        "function",
        "builtin_function_or_method",
        "instance",
        "_Feature"
      ],
      "window_display": false
    },
    "colab": {
      "name": "3.comprehension-sol",
      "provenance": [],
      "collapsed_sections": [],
      "include_colab_link": true
    }
  },
  "cells": [
    {
      "cell_type": "markdown",
      "metadata": {
        "id": "view-in-github",
        "colab_type": "text"
      },
      "source": [
        "<a href=\"https://colab.research.google.com/github/ibk25244/su-ai/blob/master/3_comprehension_sol.ipynb\" target=\"_parent\"><img src=\"https://colab.research.google.com/assets/colab-badge.svg\" alt=\"Open In Colab\"/></a>"
      ]
    },
    {
      "cell_type": "markdown",
      "metadata": {
        "id": "7ZLJi-rSZAdo",
        "colab_type": "text"
      },
      "source": [
        "- - -\n",
        "\n",
        "<font size=6 color='royalblue'>리스트/딕셔너리/세트 축약</font>\n",
        "\n",
        "<font size=5 color='forestgreen'>List / Dictionary / Set Comprehension</font> \n",
        "\n",
        "* * *\n",
        "\n",
        "**<font size=4>박 진 수</font>** 교수  \n",
        "Intelligent Data Semantics Lab  \n",
        "Seoul National University\n",
        "\n",
        "- - -"
      ]
    },
    {
      "cell_type": "markdown",
      "metadata": {
        "id": "Ww8u8H5XZM_0",
        "colab_type": "toc"
      },
      "source": [
        ">[리스트 축약](#scrollTo=bEpyriftZAdq)\n",
        "\n",
        ">>[Lab: 리스트 축약으로 리스트 생성하기](#scrollTo=p779QrFsZAeB)\n",
        "\n",
        ">>[Lab: 윤년 계산기](#scrollTo=hr01mSgDZAeF)\n",
        "\n",
        ">>[Lab: 단어 길이로 정렬하는 함수](#scrollTo=-n2mzsRiZAeJ)\n",
        "\n",
        ">>[중첩 리스트 축약](#scrollTo=wlEGfHF6ZAeN)\n",
        "\n",
        ">>[Lab : 중첩 리스트 축약 형식으로 변환](#scrollTo=K1Yo1PGiZAeb)\n",
        "\n",
        ">[딕셔너리 축약](#scrollTo=6QxT5VyZZAeg)\n",
        "\n",
        ">>[Lab: 한영사전을 영한사전으로 변환하기](#scrollTo=7YVoyisaZAem)\n",
        "\n",
        ">>[중첩 딕셔너리 축약](#scrollTo=pLnnBw6LZAeq)\n",
        "\n",
        ">[세트 축약](#scrollTo=OD-984CSZAer)\n",
        "\n",
        ">>[Lab: 폴더에서 특정 확장명을 가진 파일만 출력하기](#scrollTo=aaA0OPZrZAe1)\n",
        "\n",
        ">>[중첩 세트 축약](#scrollTo=59XsR77WZAe4)\n",
        "\n",
        ">[THE END](#scrollTo=OwfuNrIYZAe5)\n",
        "\n"
      ]
    },
    {
      "cell_type": "markdown",
      "metadata": {
        "id": "bEpyriftZAdq",
        "colab_type": "text"
      },
      "source": [
        "# 1. 리스트 축약"
      ]
    },
    {
      "cell_type": "markdown",
      "metadata": {
        "id": "1Gr2HtRAZAdr",
        "colab_type": "text"
      },
      "source": [
        "**리스트 축약**(list comprehension)이란?\n",
        "\n",
        "- 순회형 자료의 객체들을 활용하여 리스트를 생성하는 기법 중 하나로, 아주 간결한 문법적 구조를 제공하는 장점이 있다. \n",
        "\n",
        "파이썬에서 리스트 축약을 작성하는 일반적인 형식은 다음과 같다.\n",
        "\n",
        "<b><pre>[표현식 for 변수 in 순회형 <if 불린-표현식>]</pre></b>\n",
        "    \n",
        "특징은 다음과 같다.\n",
        "\n",
        "- 순환문을 사용하여 리스트의 객체를 생성하는 기법이다.\n",
        "\n",
        "- 대괄호(**[ ]**)로 묶은 ***표현식*** 과 **for** 순환문을 통해 간단하게 리스트를 생성할 수 있으며, 필요에 따라 조건문을 넣을 수도 있다.\n",
        "\n",
        "- ***표현식*** 은 ***변수*** 혹은 ***변수*** 의 객체를 생성하는 식이 온다.\n",
        "    \n",
        "- 선택 사항인 조건문을 통해 조건을 충족하는 객체만 선별하는 것이 가능하다."
      ]
    },
    {
      "cell_type": "markdown",
      "metadata": {
        "id": "Lv-hX6UvZAdt",
        "colab_type": "text"
      },
      "source": [
        "**for**문을 사용해서 **1**부터 **9**까지의 정수를 담고 있는 리스트를 생성해보자."
      ]
    },
    {
      "cell_type": "code",
      "metadata": {
        "id": "KNV3BhAdZAdt",
        "colab_type": "code",
        "colab": {
          "base_uri": "https://localhost:8080/",
          "height": 34
        },
        "outputId": "d4a3e858-80df-4a4a-e14c-4a9502867d46"
      },
      "source": [
        "int_list = []\n",
        "for i in range(1, 10):\n",
        "  int_list.append(i)\n",
        "else:\n",
        "  print(int_list)"
      ],
      "execution_count": null,
      "outputs": [
        {
          "output_type": "stream",
          "text": [
            "[1, 2, 3, 4, 5, 6, 7, 8, 9]\n"
          ],
          "name": "stdout"
        }
      ]
    },
    {
      "cell_type": "markdown",
      "metadata": {
        "id": "GJwJLfwzZAdw",
        "colab_type": "text"
      },
      "source": [
        "앞과 같은 결과가 나오는 코드를 리스트 축약으로 작성해보자."
      ]
    },
    {
      "cell_type": "code",
      "metadata": {
        "id": "-I46mqrSZAdw",
        "colab_type": "code",
        "colab": {
          "base_uri": "https://localhost:8080/",
          "height": 34
        },
        "outputId": "c157241e-45df-43ec-86dc-92aba2307ddb"
      },
      "source": [
        "[i for i in range(1, 10)]"
      ],
      "execution_count": null,
      "outputs": [
        {
          "output_type": "execute_result",
          "data": {
            "text/plain": [
              "[1, 2, 3, 4, 5, 6, 7, 8, 9]"
            ]
          },
          "metadata": {
            "tags": []
          },
          "execution_count": 2
        }
      ]
    },
    {
      "cell_type": "markdown",
      "metadata": {
        "id": "MrSbx4RZZAdz",
        "colab_type": "text"
      },
      "source": [
        "이번에는 **for**문을 사용해서 **1**부터 **9**까지의 정수를 문자열로 변환한 후 리스트에 추가해보자."
      ]
    },
    {
      "cell_type": "code",
      "metadata": {
        "id": "3h9xH7JaZAdz",
        "colab_type": "code",
        "colab": {
          "base_uri": "https://localhost:8080/",
          "height": 34
        },
        "outputId": "f33f3917-7497-4d0e-a03e-1223918bb804"
      },
      "source": [
        "str_L = []\n",
        "for i in range(1, 10):\n",
        "  str_L.append(str(i))\n",
        "else:\n",
        "  print(str_L)"
      ],
      "execution_count": null,
      "outputs": [
        {
          "output_type": "stream",
          "text": [
            "['1', '2', '3', '4', '5', '6', '7', '8', '9']\n"
          ],
          "name": "stdout"
        }
      ]
    },
    {
      "cell_type": "markdown",
      "metadata": {
        "id": "pwS7dR_nZAd2",
        "colab_type": "text"
      },
      "source": [
        "앞과 같은 결과가 나오는 코드를 리스트 축약으로 작성해보자."
      ]
    },
    {
      "cell_type": "code",
      "metadata": {
        "id": "G7iLQEg_CUdT",
        "colab_type": "code",
        "colab": {
          "base_uri": "https://localhost:8080/",
          "height": 34
        },
        "outputId": "f56b63f3-5f62-49ff-fbd1-11887395a446"
      },
      "source": [
        "[str(i) for i in range(1, 10)]"
      ],
      "execution_count": null,
      "outputs": [
        {
          "output_type": "execute_result",
          "data": {
            "text/plain": [
              "['1', '2', '3', '4', '5', '6', '7', '8', '9']"
            ]
          },
          "metadata": {
            "tags": []
          },
          "execution_count": 5
        }
      ]
    },
    {
      "cell_type": "markdown",
      "metadata": {
        "id": "JyvxySGRZAd5",
        "colab_type": "text"
      },
      "source": [
        "위의 두 예에서 일반 **for**문으로 리스트를 생성하면 다음과 같은 형식을 가진다는 것을 알 수 있다.\n",
        "\n",
        "<b><pre>tmp = []\n",
        "for 변수 in 순회형:\n",
        "    tmp.append(표현식)</pre></b>\n",
        "    \n",
        "- 여기서 ***표현식*** 은 ***변수*** 거나 ***변수*** 의 객체를 생성하는 식이다. \n",
        "\n",
        "앞의 예에서는 정수형을 문자열로 변환하는 **str(i)**이 ***표현식*** 이다.\n",
        "\n",
        "리스트 축약을 사용하면 일반 **for**문을 사용한 것과 비교했을 때 문법적으로 매우 간결할 뿐만 아니라 ***tmp*** 변수를 생성하지 않아도 된다.\n",
        "\n",
        "<b><pre>[표현식 for 변수 in 순회형 <if 불린-표현식>]</pre></b>    "
      ]
    },
    {
      "cell_type": "markdown",
      "metadata": {
        "id": "whoNJwiOZAd6",
        "colab_type": "text"
      },
      "source": [
        "이번에는 조건문을 사용해서 **1**부터 **9**까지의 정수 중 홀수만 문자열로 변환해서 리스트를 일반 **for**문으로 생성해보자."
      ]
    },
    {
      "cell_type": "code",
      "metadata": {
        "id": "CwgCPjTcZAd6",
        "colab_type": "code",
        "colab": {}
      },
      "source": [
        "str_odd_L = []\n",
        "for i in range(1, 10):\n",
        "    if i % 2 == 1:\n",
        "        str_odd_L.append(str(i))\n",
        "else:\n",
        "    print(str_odd_L)"
      ],
      "execution_count": null,
      "outputs": []
    },
    {
      "cell_type": "markdown",
      "metadata": {
        "id": "wN7mfJTrZAeA",
        "colab_type": "text"
      },
      "source": [
        "조건문을 사용해서 리스트를 생성할 때 일반 **for**문을 사용하면 다음과 같은 형식을 가진다.\n",
        "\n",
        "<b><pre>tmp = []\n",
        "for 변수 in 순회형:\n",
        "    if 불린-표현식:\n",
        "        tmp.append(표현식)</pre></b>"
      ]
    },
    {
      "cell_type": "markdown",
      "metadata": {
        "id": "HJWZbNvsZAeB",
        "colab_type": "text"
      },
      "source": [
        "리스트 축약으로 같은 내용을 표현하면 다음과 같다.\n",
        "\n",
        "<b><pre>[표현식 for 변수 in 순회형 if 불린-표현식]</pre></b>"
      ]
    },
    {
      "cell_type": "markdown",
      "metadata": {
        "id": "fRDJtRdrZAd9",
        "colab_type": "text"
      },
      "source": [
        "앞서 조건문을 사용하여 작성한 코드를 리스트 축약 형식으로 작성해보자."
      ]
    },
    {
      "cell_type": "code",
      "metadata": {
        "colab_type": "code",
        "id": "szVXh_bcCXKh",
        "colab": {
          "base_uri": "https://localhost:8080/",
          "height": 34
        },
        "outputId": "d7e89bab-2eb2-4eae-ae82-efc7899f4151"
      },
      "source": [
        "[str(i) for i in range(1, 10) if i % 2 == 1]"
      ],
      "execution_count": null,
      "outputs": [
        {
          "output_type": "execute_result",
          "data": {
            "text/plain": [
              "['1', '3', '5', '7', '9']"
            ]
          },
          "metadata": {
            "tags": []
          },
          "execution_count": 6
        }
      ]
    },
    {
      "cell_type": "markdown",
      "metadata": {
        "id": "p779QrFsZAeB",
        "colab_type": "text"
      },
      "source": [
        "## Lab: 리스트 축약으로 리스트 생성하기"
      ]
    },
    {
      "cell_type": "markdown",
      "metadata": {
        "id": "9ERyTD0wZAeC",
        "colab_type": "text"
      },
      "source": [
        "---\n",
        "\n",
        "1. **1** 이상 **9** 이하의 정수 중 홀수만 담은 리스트를 리스트 축약으로 작성해서 결과를 출력한다.\n",
        "1. #1에서 만든 리스트 각 숫자의 제곱을 담은 리스트를 리스트 축약으로 작성해서 결과를 출력한다.\n",
        "\n",
        "---\n",
        "\n",
        "**실행 예**\n",
        "\n",
        "<pre>> python simple_lc.py\n",
        "[1, 3, 5, 7, 9]\n",
        "[1, 9, 25, 49, 81]</pre>"
      ]
    },
    {
      "cell_type": "code",
      "metadata": {
        "colab_type": "code",
        "id": "C6VtvXKYCaKr",
        "colab": {
          "base_uri": "https://localhost:8080/",
          "height": 51
        },
        "outputId": "bda7d81c-12a3-423d-eb68-890cbff613cd"
      },
      "source": [
        "odd_ints = [i for i in range(10) if i % 2 == 1]\n",
        "squares = [pow(i, 2)for i in odd_ints]\n",
        "\n",
        "print(odd_ints)\n",
        "print(squares)"
      ],
      "execution_count": null,
      "outputs": [
        {
          "output_type": "stream",
          "text": [
            "[1, 3, 5, 7, 9]\n",
            "[1, 9, 25, 49, 81]\n"
          ],
          "name": "stdout"
        }
      ]
    },
    {
      "cell_type": "markdown",
      "metadata": {
        "id": "hr01mSgDZAeF",
        "colab_type": "text"
      },
      "source": [
        "## Lab: 윤년 계산기"
      ]
    },
    {
      "cell_type": "markdown",
      "metadata": {
        "id": "vkK4w7QlZAeG",
        "colab_type": "text"
      },
      "source": [
        "- - -\n",
        "\n",
        "**2000**년에서 **3000**년 사이(둘 다 포함)의 윤년 계산을 한 후 그 결과를 리스트에 담아 출력한다.\n",
        "\n",
        "윤년 계산 규칙은 다음과 같다.(<https://ko.wikipedia.org/wiki/윤년>)\n",
        "\n",
        "- (규칙 1) 그 해의 숫자가 **4**로 나누어 떨어지는 해는 윤년으로 한다.\n",
        "    - 예) 1988년, 1992년, 1996년, 2004년, 2008년, 2012년, ...\n",
        "- (규칙 2) 그 해의 숫자가 **4**로 나누어지지만 **100**으로도 나누어지면 평년으로 한다.\n",
        "    - 예) 1900년, 2100년, 2200년, 2300년, 2500년, ...\n",
        "- (규칙 3)그 해의 숫자가 **100**으로 나누어지지만 **400**으로도 나누어지면 윤년으로 한다.\n",
        "    - 예) 1600년, 2000년, 2400년, ...\n",
        "\n",
        "- - -\n",
        "\n",
        "**실행 예**\n",
        "\n",
        "<pre>> python leap_year.py\n",
        "[2000, 2004, 2008, 2012, 2016, 2020, 2024, 2028, 2032, 2036, 2040, 2044, 2048, 2052, 2056, 2060, 2064, 2068, 2072, 2076, 2080, 2084, 2088, 2092, 2096, 2104, 2108, 2112, 2116, 2120, 2124, 2128, 2132, 2136, 2140, 2144, 2148, 2152, 2156, 2160, 2164, 2168, 2172, 2176, 2180, 2184, 2188, 2192, 2196, 2204, 2208, 2212, 2216, 2220, 2224, 2228, 2232, 2236, 2240, 2244, 2248, 2252, 2256, 2260, 2264, 2268, 2272, 2276, 2280, 2284, 2288, 2292, 2296, 2304, 2308, 2312, 2316, 2320, 2324, 2328, 2332, 2336, 2340, 2344, 2348, 2352, 2356, 2360, 2364, 2368, 2372, 2376, 2380, 2384, 2388, 2392, 2396, 2400, 2404, 2408, 2412, 2416, 2420, 2424, 2428, 2432, 2436, 2440, 2444, 2448, 2452, 2456, 2460, 2464, 2468, 2472, 2476, 2480, 2484, 2488, 2492, 2496, 2504, 2508, 2512, 2516, 2520, 2524, 2528, 2532, 2536, 2540, 2544, 2548, 2552, 2556, 2560, 2564, 2568, 2572, 2576, 2580, 2584, 2588, 2592, 2596, 2604, 2608, 2612, 2616, 2620, 2624, 2628, 2632, 2636, 2640, 2644, 2648, 2652, 2656, 2660, 2664, 2668, 2672, 2676, 2680, 2684, 2688, 2692, 2696, 2704, 2708, 2712, 2716, 2720, 2724, 2728, 2732, 2736, 2740, 2744, 2748, 2752, 2756, 2760, 2764, 2768, 2772, 2776, 2780, 2784, 2788, 2792, 2796, 2800, 2804, 2808, 2812, 2816, 2820, 2824, 2828, 2832, 2836, 2840, 2844, 2848, 2852, 2856, 2860, 2864, 2868, 2872, 2876, 2880, 2884, 2888, 2892, 2896, 2904, 2908, 2912, 2916, 2920, 2924, 2928, 2932, 2936, 2940, 2944, 2948, 2952, 2956, 2960, 2964, 2968, 2972, 2976, 2980, 2984, 2988, 2992, 2996]</pre>"
      ]
    },
    {
      "cell_type": "code",
      "metadata": {
        "colab_type": "code",
        "id": "27kOUfMMCcvr",
        "colab": {
          "base_uri": "https://localhost:8080/",
          "height": 54
        },
        "outputId": "c8ac275c-ba46-4efa-c863-2683226788fc"
      },
      "source": [
        "leaps = [year for year in range(2000, 3001) \n",
        "         if year % 4 == 0 and year % 100 != 0 or year % 400 == 0]\n",
        "\n",
        "print(leaps)         "
      ],
      "execution_count": null,
      "outputs": [
        {
          "output_type": "stream",
          "text": [
            "[2000, 2004, 2008, 2012, 2016, 2020, 2024, 2028, 2032, 2036, 2040, 2044, 2048, 2052, 2056, 2060, 2064, 2068, 2072, 2076, 2080, 2084, 2088, 2092, 2096, 2104, 2108, 2112, 2116, 2120, 2124, 2128, 2132, 2136, 2140, 2144, 2148, 2152, 2156, 2160, 2164, 2168, 2172, 2176, 2180, 2184, 2188, 2192, 2196, 2204, 2208, 2212, 2216, 2220, 2224, 2228, 2232, 2236, 2240, 2244, 2248, 2252, 2256, 2260, 2264, 2268, 2272, 2276, 2280, 2284, 2288, 2292, 2296, 2304, 2308, 2312, 2316, 2320, 2324, 2328, 2332, 2336, 2340, 2344, 2348, 2352, 2356, 2360, 2364, 2368, 2372, 2376, 2380, 2384, 2388, 2392, 2396, 2400, 2404, 2408, 2412, 2416, 2420, 2424, 2428, 2432, 2436, 2440, 2444, 2448, 2452, 2456, 2460, 2464, 2468, 2472, 2476, 2480, 2484, 2488, 2492, 2496, 2504, 2508, 2512, 2516, 2520, 2524, 2528, 2532, 2536, 2540, 2544, 2548, 2552, 2556, 2560, 2564, 2568, 2572, 2576, 2580, 2584, 2588, 2592, 2596, 2604, 2608, 2612, 2616, 2620, 2624, 2628, 2632, 2636, 2640, 2644, 2648, 2652, 2656, 2660, 2664, 2668, 2672, 2676, 2680, 2684, 2688, 2692, 2696, 2704, 2708, 2712, 2716, 2720, 2724, 2728, 2732, 2736, 2740, 2744, 2748, 2752, 2756, 2760, 2764, 2768, 2772, 2776, 2780, 2784, 2788, 2792, 2796, 2800, 2804, 2808, 2812, 2816, 2820, 2824, 2828, 2832, 2836, 2840, 2844, 2848, 2852, 2856, 2860, 2864, 2868, 2872, 2876, 2880, 2884, 2888, 2892, 2896, 2904, 2908, 2912, 2916, 2920, 2924, 2928, 2932, 2936, 2940, 2944, 2948, 2952, 2956, 2960, 2964, 2968, 2972, 2976, 2980, 2984, 2988, 2992, 2996]\n"
          ],
          "name": "stdout"
        }
      ]
    },
    {
      "cell_type": "markdown",
      "metadata": {
        "id": "-n2mzsRiZAeJ",
        "colab_type": "text"
      },
      "source": [
        "## Lab: 단어 길이로 정렬하는 함수"
      ]
    },
    {
      "cell_type": "markdown",
      "metadata": {
        "id": "znlqhEbHZAeK",
        "colab_type": "text"
      },
      "source": [
        "- - -\n",
        "\n",
        "한 개 이상의 단어를 담고 있는 리스트나 튜플을 전달받아서 단어의 길이가 긴 순서부터 정렬해서 리스트로 반환하는 함수 **sort_by_length()**를 구현해보자. \n",
        "\n",
        "만약 단어의 길이가 같다면 단어를 내림차순으로 정렬한다.\n",
        "\n",
        "- - -\n",
        "\n",
        "**실행 예**\n",
        "\n",
        "<span style='font-family: courier;'>>>> colors = 'red', 'blue', 'green', 'brown', 'gray'</span>\n",
        "\n",
        "<span style='font-family: courier;'>>>> sort_by_word_length(colors)<br/>\n",
        "['green', 'brown', 'gray', 'blue', 'red']</span>\n",
        "\n",
        "<span style='font-family: courier;'>>>> instruments = ['피아노', '바이올린', '첼로', '기타', '드럼']</span>\n",
        "\n",
        "<span style='font-family: courier;'>>>> sort_by_word_length(instruments)<br/>\n",
        "['바이올린', '피아노', '첼로', '드럼', '기타']</span>"
      ]
    },
    {
      "cell_type": "code",
      "metadata": {
        "colab_type": "code",
        "id": "4sbGefDHCgkq",
        "colab": {}
      },
      "source": [
        "# --- 리스트 축약 : 단어 길이로 정렬하는 함수 구현하기(sort_by_word_length_lc.py)\n",
        "def sort_by_word_length_lc(words):\n",
        "  t = [(len(w), w) for w in words]\n",
        "\n",
        "  # sort() 메소드는 먼저 길이를 비교해서 만약 길이가 같다면 단어를 비교해서 정렬한다.\n",
        "  t.sort(reverse=True)\n",
        "\n",
        "  return [w for length, w in t]"
      ],
      "execution_count": null,
      "outputs": []
    },
    {
      "cell_type": "code",
      "metadata": {
        "id": "9dsH9u3rEEDy",
        "colab_type": "code",
        "colab": {
          "base_uri": "https://localhost:8080/",
          "height": 34
        },
        "outputId": "7a5b3573-6bc0-4653-e603-39d8e9552b46"
      },
      "source": [
        "# >>> 테스트 코드 <<<\n",
        "colors = 'red', 'blue', 'green', 'brown', 'gray'\n",
        "sort_by_word_length_lc(colors)"
      ],
      "execution_count": null,
      "outputs": [
        {
          "output_type": "execute_result",
          "data": {
            "text/plain": [
              "['green', 'brown', 'gray', 'blue', 'red']"
            ]
          },
          "metadata": {
            "tags": []
          },
          "execution_count": 12
        }
      ]
    },
    {
      "cell_type": "code",
      "metadata": {
        "id": "QXPBC0VJENxI",
        "colab_type": "code",
        "colab": {
          "base_uri": "https://localhost:8080/",
          "height": 34
        },
        "outputId": "42423990-ac18-492a-e494-79577d1e3f38"
      },
      "source": [
        "# >>> 테스트 코드 <<<\n",
        "instruments = ['피아노', '바이올린', '첼로', '기타', '드럼']\n",
        "sort_by_word_length_lc(instruments)"
      ],
      "execution_count": null,
      "outputs": [
        {
          "output_type": "execute_result",
          "data": {
            "text/plain": [
              "['바이올린', '피아노', '첼로', '드럼', '기타']"
            ]
          },
          "metadata": {
            "tags": []
          },
          "execution_count": 13
        }
      ]
    },
    {
      "cell_type": "markdown",
      "metadata": {
        "id": "wlEGfHF6ZAeN",
        "colab_type": "text"
      },
      "source": [
        "## 중첩 리스트 축약"
      ]
    },
    {
      "cell_type": "markdown",
      "metadata": {
        "id": "_zh_WHoGZAeQ",
        "colab_type": "text"
      },
      "source": [
        "축약 기법도 중첩으로 사용할 수 있다. 중첩되는 축약형으로는 딕셔너리 외에도 리스트나 세트 축약이 올 수 있다. \n",
        "\n",
        "중첩 리스트 축약(nested list comprehension)을 작성하는 일반적인 형식은 다음과 같다.\n",
        "\n",
        "<b><pre>[표현식 for 변수-1 in 순회형 \\<if 불린-표현식-1\\>  \n",
        "    for 변수-2 in 순회형 \\<if 불린-표현식-2\\>  \n",
        "        for 변수-3 in 순회형 \\<if 불린-표현식-3\\> \n",
        "            ...\n",
        "                for 변수-N in 순회형 \\<if 불린-표현식-N\\>]</pre><b>"
      ]
    },
    {
      "cell_type": "markdown",
      "metadata": {
        "id": "YzYUS-cdZAeR",
        "colab_type": "text"
      },
      "source": [
        "다음 예는 ***표현식*** 에 문자열 결합을 사용해서 성적 조합을 리스트로 생성한 결과를 보여준다."
      ]
    },
    {
      "cell_type": "code",
      "metadata": {
        "id": "PrbPXqb2ZAeS",
        "colab_type": "code",
        "colab": {
          "base_uri": "https://localhost:8080/",
          "height": 34
        },
        "outputId": "4a3d1073-6e94-43fa-ea0f-06dba44e9b3c"
      },
      "source": [
        "[letter + sign for letter in 'ABCD' for sign in '+0-']"
      ],
      "execution_count": null,
      "outputs": [
        {
          "output_type": "execute_result",
          "data": {
            "text/plain": [
              "['A+', 'A0', 'A-', 'B+', 'B0', 'B-', 'C+', 'C0', 'C-', 'D+', 'D0', 'D-']"
            ]
          },
          "metadata": {
            "tags": []
          },
          "execution_count": 14
        }
      ]
    },
    {
      "cell_type": "code",
      "metadata": {
        "id": "_yoSC2XLZAeU",
        "colab_type": "code",
        "colab": {
          "base_uri": "https://localhost:8080/",
          "height": 34
        },
        "outputId": "66873419-4df3-4b08-fb32-de218531e7c3"
      },
      "source": [
        "# --- 일반식\n",
        "pass_grades = []\n",
        "for letter in 'ABCD':\n",
        "  for sign in '+0-':\n",
        "    pass_grades.append(letter + sign)\n",
        "else:\n",
        "  print(pass_grades)"
      ],
      "execution_count": null,
      "outputs": [
        {
          "output_type": "stream",
          "text": [
            "['A+', 'A0', 'A-', 'B+', 'B0', 'B-', 'C+', 'C0', 'C-', 'D+', 'D0', 'D-']\n"
          ],
          "name": "stdout"
        }
      ]
    },
    {
      "cell_type": "markdown",
      "metadata": {
        "id": "3eMApU4EZAeW",
        "colab_type": "text"
      },
      "source": [
        "다음 코드는 **2**단부터 **9**단까지의 구구단 계산식을 문자열로 담고 있는 리스트를 생성한 결과를 보여준다."
      ]
    },
    {
      "cell_type": "code",
      "metadata": {
        "id": "khxmGUvxZAeX",
        "colab_type": "code",
        "colab": {
          "base_uri": "https://localhost:8080/",
          "height": 1000
        },
        "outputId": "0f72d79e-747c-40b3-dd67-03a3d7a4bf7f"
      },
      "source": [
        "[f'{x} x {y} = {x * y}' for x in range(2, 10) \n",
        "                             for y in range(1, 10)]"
      ],
      "execution_count": null,
      "outputs": [
        {
          "output_type": "execute_result",
          "data": {
            "text/plain": [
              "['2 x 1 = 2',\n",
              " '2 x 2 = 4',\n",
              " '2 x 3 = 6',\n",
              " '2 x 4 = 8',\n",
              " '2 x 5 = 10',\n",
              " '2 x 6 = 12',\n",
              " '2 x 7 = 14',\n",
              " '2 x 8 = 16',\n",
              " '2 x 9 = 18',\n",
              " '3 x 1 = 3',\n",
              " '3 x 2 = 6',\n",
              " '3 x 3 = 9',\n",
              " '3 x 4 = 12',\n",
              " '3 x 5 = 15',\n",
              " '3 x 6 = 18',\n",
              " '3 x 7 = 21',\n",
              " '3 x 8 = 24',\n",
              " '3 x 9 = 27',\n",
              " '4 x 1 = 4',\n",
              " '4 x 2 = 8',\n",
              " '4 x 3 = 12',\n",
              " '4 x 4 = 16',\n",
              " '4 x 5 = 20',\n",
              " '4 x 6 = 24',\n",
              " '4 x 7 = 28',\n",
              " '4 x 8 = 32',\n",
              " '4 x 9 = 36',\n",
              " '5 x 1 = 5',\n",
              " '5 x 2 = 10',\n",
              " '5 x 3 = 15',\n",
              " '5 x 4 = 20',\n",
              " '5 x 5 = 25',\n",
              " '5 x 6 = 30',\n",
              " '5 x 7 = 35',\n",
              " '5 x 8 = 40',\n",
              " '5 x 9 = 45',\n",
              " '6 x 1 = 6',\n",
              " '6 x 2 = 12',\n",
              " '6 x 3 = 18',\n",
              " '6 x 4 = 24',\n",
              " '6 x 5 = 30',\n",
              " '6 x 6 = 36',\n",
              " '6 x 7 = 42',\n",
              " '6 x 8 = 48',\n",
              " '6 x 9 = 54',\n",
              " '7 x 1 = 7',\n",
              " '7 x 2 = 14',\n",
              " '7 x 3 = 21',\n",
              " '7 x 4 = 28',\n",
              " '7 x 5 = 35',\n",
              " '7 x 6 = 42',\n",
              " '7 x 7 = 49',\n",
              " '7 x 8 = 56',\n",
              " '7 x 9 = 63',\n",
              " '8 x 1 = 8',\n",
              " '8 x 2 = 16',\n",
              " '8 x 3 = 24',\n",
              " '8 x 4 = 32',\n",
              " '8 x 5 = 40',\n",
              " '8 x 6 = 48',\n",
              " '8 x 7 = 56',\n",
              " '8 x 8 = 64',\n",
              " '8 x 9 = 72',\n",
              " '9 x 1 = 9',\n",
              " '9 x 2 = 18',\n",
              " '9 x 3 = 27',\n",
              " '9 x 4 = 36',\n",
              " '9 x 5 = 45',\n",
              " '9 x 6 = 54',\n",
              " '9 x 7 = 63',\n",
              " '9 x 8 = 72',\n",
              " '9 x 9 = 81']"
            ]
          },
          "metadata": {
            "tags": []
          },
          "execution_count": 16
        }
      ]
    },
    {
      "cell_type": "markdown",
      "metadata": {
        "id": "uhjvHIndZAeY",
        "colab_type": "text"
      },
      "source": [
        "나중에 나온 **for**문은 앞의 **for**문 결과를 사용할 수 있다."
      ]
    },
    {
      "cell_type": "code",
      "metadata": {
        "id": "BYn1ufI2ZAeZ",
        "colab_type": "code",
        "colab": {
          "base_uri": "https://localhost:8080/",
          "height": 714
        },
        "outputId": "4616f114-5012-4ca5-854b-f3a0e9a9aff5"
      },
      "source": [
        "[(x, y, z) for x in range(1, 10)\n",
        "               for y in range(x + 1, 10)              \n",
        "                   for z in range(y + 1, 10, x + 1)]"
      ],
      "execution_count": null,
      "outputs": [
        {
          "output_type": "execute_result",
          "data": {
            "text/plain": [
              "[(1, 2, 3),\n",
              " (1, 2, 5),\n",
              " (1, 2, 7),\n",
              " (1, 2, 9),\n",
              " (1, 3, 4),\n",
              " (1, 3, 6),\n",
              " (1, 3, 8),\n",
              " (1, 4, 5),\n",
              " (1, 4, 7),\n",
              " (1, 4, 9),\n",
              " (1, 5, 6),\n",
              " (1, 5, 8),\n",
              " (1, 6, 7),\n",
              " (1, 6, 9),\n",
              " (1, 7, 8),\n",
              " (1, 8, 9),\n",
              " (2, 3, 4),\n",
              " (2, 3, 7),\n",
              " (2, 4, 5),\n",
              " (2, 4, 8),\n",
              " (2, 5, 6),\n",
              " (2, 5, 9),\n",
              " (2, 6, 7),\n",
              " (2, 7, 8),\n",
              " (2, 8, 9),\n",
              " (3, 4, 5),\n",
              " (3, 4, 9),\n",
              " (3, 5, 6),\n",
              " (3, 6, 7),\n",
              " (3, 7, 8),\n",
              " (3, 8, 9),\n",
              " (4, 5, 6),\n",
              " (4, 6, 7),\n",
              " (4, 7, 8),\n",
              " (4, 8, 9),\n",
              " (5, 6, 7),\n",
              " (5, 7, 8),\n",
              " (5, 8, 9),\n",
              " (6, 7, 8),\n",
              " (6, 8, 9),\n",
              " (7, 8, 9)]"
            ]
          },
          "metadata": {
            "tags": []
          },
          "execution_count": 17
        }
      ]
    },
    {
      "cell_type": "markdown",
      "metadata": {
        "id": "K1Yo1PGiZAeb",
        "colab_type": "text"
      },
      "source": [
        "## Lab : 중첩 리스트 축약 형식으로 변환"
      ]
    },
    {
      "cell_type": "markdown",
      "metadata": {
        "id": "h2s44mLeZAec",
        "colab_type": "text"
      },
      "source": [
        "---\n",
        "\n",
        "다음 코드를 리스트 축약 기법을 사용해서 재작성하시오.\n",
        "\n",
        "---\n",
        "\n",
        "**실행 예**"
      ]
    },
    {
      "cell_type": "code",
      "metadata": {
        "id": "iDcKrC2gZAec",
        "colab_type": "code",
        "colab": {
          "base_uri": "https://localhost:8080/",
          "height": 54
        },
        "outputId": "fb5082de-6199-4d07-89ca-422db379482c"
      },
      "source": [
        "sku = []\n",
        "for gender in 'FM':                       # Female, Male\n",
        "  for size in 'SMLX':                   # Small, Medium, Large eXtra large\n",
        "    if gender == 'F' and size == 'X':\n",
        "      continue\n",
        "    for color in 'WGRB':              # White, Green, Red, Black\n",
        "      sku.append(gender + size + color)\n",
        "else:\n",
        "  print(sku)"
      ],
      "execution_count": null,
      "outputs": [
        {
          "output_type": "stream",
          "text": [
            "['FSW', 'FSG', 'FSR', 'FSB', 'FMW', 'FMG', 'FMR', 'FMB', 'FLW', 'FLG', 'FLR', 'FLB', 'MSW', 'MSG', 'MSR', 'MSB', 'MMW', 'MMG', 'MMR', 'MMB', 'MLW', 'MLG', 'MLR', 'MLB', 'MXW', 'MXG', 'MXR', 'MXB']\n"
          ],
          "name": "stdout"
        }
      ]
    },
    {
      "cell_type": "code",
      "metadata": {
        "colab_type": "code",
        "id": "cnW4Ppw8Ck0N",
        "colab": {
          "base_uri": "https://localhost:8080/",
          "height": 54
        },
        "outputId": "4f6aa94b-be88-4906-c8ad-50bb04868a31"
      },
      "source": [
        "sku = [gender + size + color \n",
        "         for gender in 'FM' \n",
        "           for size in 'SMLX' if not (gender == 'F' and size == 'X')\n",
        "             for color in 'WGRB']\n",
        "print(sku)"
      ],
      "execution_count": null,
      "outputs": [
        {
          "output_type": "stream",
          "text": [
            "['FSW', 'FSG', 'FSR', 'FSB', 'FMW', 'FMG', 'FMR', 'FMB', 'FLW', 'FLG', 'FLR', 'FLB', 'MSW', 'MSG', 'MSR', 'MSB', 'MMW', 'MMG', 'MMR', 'MMB', 'MLW', 'MLG', 'MLR', 'MLB', 'MXW', 'MXG', 'MXR', 'MXB']\n"
          ],
          "name": "stdout"
        }
      ]
    },
    {
      "cell_type": "code",
      "metadata": {
        "colab_type": "code",
        "id": "68thIpMwE0YB",
        "colab": {
          "base_uri": "https://localhost:8080/",
          "height": 54
        },
        "outputId": "1a9b8e5f-8cc8-44f5-b281-f831826cf0a4"
      },
      "source": [
        "sku = [gender + size + color \n",
        "         for gender in 'FM' \n",
        "           for size in 'SMLX' \n",
        "             for color in 'WGRB'\n",
        "               if not (gender == 'F' and size == 'X')]\n",
        "print(sku)"
      ],
      "execution_count": null,
      "outputs": [
        {
          "output_type": "stream",
          "text": [
            "['FSW', 'FSG', 'FSR', 'FSB', 'FMW', 'FMG', 'FMR', 'FMB', 'FLW', 'FLG', 'FLR', 'FLB', 'MSW', 'MSG', 'MSR', 'MSB', 'MMW', 'MMG', 'MMR', 'MMB', 'MLW', 'MLG', 'MLR', 'MLB', 'MXW', 'MXG', 'MXR', 'MXB']\n"
          ],
          "name": "stdout"
        }
      ]
    },
    {
      "cell_type": "markdown",
      "metadata": {
        "id": "6QxT5VyZZAeg",
        "colab_type": "text"
      },
      "source": [
        "# 딕셔너리 축약"
      ]
    },
    {
      "cell_type": "markdown",
      "metadata": {
        "id": "aeA9HX5DZAeh",
        "colab_type": "text"
      },
      "source": [
        "**딕셔너리 축약**(dictionary comprehension)이란?\n",
        "\n",
        "- 순회형 자료의 객체들을 활용하여 딕셔너리를 생성하는 기법 중 하나로, 리스트 축약처럼 간결한 구문을 사용한다.\n",
        "\n",
        "리스트 축약 형식과 비슷하지만 대괄호 대신 중괄호를 사용하며 키와 매핑값을 처리하는 점이 다르다. 딕셔너리 축약을 작성하는 일반적인 형식은 다음과 같다.\n",
        "\n",
        "<b><pre>{키-표현식:매핑값-표현식 for 변수 in 순회형 [if 불린-표현식]}</pre></b>\n",
        "\n",
        "특징은 다음과 같다.\n",
        "\n",
        "- 순환문을 사용하여 딕셔너리의 객체를 생성하는 기법이다.\n",
        "\n",
        "- 중괄호(**{ }**)로 묶은 ***표현식*** 과 **for**문을 통해 간단하게 딕셔너리를 생성할 수 있으며, 필요에 따라 조건문을 넣을 수도 있다.\n",
        "\n",
        "- ***키-표현식*** 과 ***매핑값-표현식*** 은 ***변수*** 혹은 ***변수*** 의 객체를 생성하는 식이 온다.\n",
        "\n",
        "- ***변수*** 는 하나의 변수일 수도 있고 복합 변수일 수도 있다. 복합 변수인 경우 보통 (키, 매핑값) 형식의 튜플을 사용한다.\n",
        "\n",
        "- 선택 사항인 조건문을 통해 조건을 충족하는 객체만 선별하는 것이 가능하다."
      ]
    },
    {
      "cell_type": "markdown",
      "metadata": {
        "id": "U0PJuMDJZAei",
        "colab_type": "text"
      },
      "source": [
        "**-9**부터 **9**까지의 정수를 키로, **-9**부터 **9**까지 정수의 제곱을 매핑값으로 하는 딕셔너리를 딕셔너리 축약으로 생성해보자."
      ]
    },
    {
      "cell_type": "code",
      "metadata": {
        "colab_type": "code",
        "id": "P7rxfKZbCoT-",
        "colab": {
          "base_uri": "https://localhost:8080/",
          "height": 340
        },
        "outputId": "29074dd5-994b-4c60-8923-99c5f5f5c617"
      },
      "source": [
        "{i: pow(i, 2) for i in range(-9, 10)}"
      ],
      "execution_count": null,
      "outputs": [
        {
          "output_type": "execute_result",
          "data": {
            "text/plain": [
              "{-9: 81,\n",
              " -8: 64,\n",
              " -7: 49,\n",
              " -6: 36,\n",
              " -5: 25,\n",
              " -4: 16,\n",
              " -3: 9,\n",
              " -2: 4,\n",
              " -1: 1,\n",
              " 0: 0,\n",
              " 1: 1,\n",
              " 2: 4,\n",
              " 3: 9,\n",
              " 4: 16,\n",
              " 5: 25,\n",
              " 6: 36,\n",
              " 7: 49,\n",
              " 8: 64,\n",
              " 9: 81}"
            ]
          },
          "metadata": {
            "tags": []
          },
          "execution_count": 21
        }
      ]
    },
    {
      "cell_type": "markdown",
      "metadata": {
        "id": "dKHfvWMVZAek",
        "colab_type": "text"
      },
      "source": [
        "만약 일반 **for**문을 사용한다면 앞의 코드는 다음과 같다."
      ]
    },
    {
      "cell_type": "code",
      "metadata": {
        "id": "0kI1fSQ0ZAel",
        "colab_type": "code",
        "colab": {
          "base_uri": "https://localhost:8080/",
          "height": 34
        },
        "outputId": "bca7fbbd-82c8-46c7-bacf-b17a6ecf17b3"
      },
      "source": [
        "d = {}\n",
        "for i in range(-9, 10):\n",
        "  d[i] = i ** 2\n",
        "else:\n",
        "  print(d)"
      ],
      "execution_count": null,
      "outputs": [
        {
          "output_type": "stream",
          "text": [
            "{-9: 81, -8: 64, -7: 49, -6: 36, -5: 25, -4: 16, -3: 9, -2: 4, -1: 1, 0: 0, 1: 1, 2: 4, 3: 9, 4: 16, 5: 25, 6: 36, 7: 49, 8: 64, 9: 81}\n"
          ],
          "name": "stdout"
        }
      ]
    },
    {
      "cell_type": "markdown",
      "metadata": {
        "id": "7YVoyisaZAem",
        "colab_type": "text"
      },
      "source": [
        "## Lab: 한영사전을 영한사전으로 변환하기"
      ]
    },
    {
      "cell_type": "markdown",
      "metadata": {
        "id": "pHrZYg2EZAen",
        "colab_type": "text"
      },
      "source": [
        "- - -\n",
        "다음 테이블을 간단한 한영사전으로 만들어 그 내용을 출력한다.\n",
        "\n",
        "단어|뜻\n",
        "-|-\n",
        "사과|apple\n",
        "블루베리|blueberry\n",
        "딸기|strawberry\n",
        "키위|kiwi\n",
        "바나나|banana\n",
        "포도|grape\n",
        "자두|plum\n",
        "\n",
        "\n",
        "그 다음 이 한영사전을 딕셔너리 축약을 사용해 영한사전으로 바꾼 후 **sorted()** 함수를 사용하여 영어 알파벳 오름차순 순으로 출력한다.\n",
        "\n",
        "- - -\n",
        "\n",
        "**실행 예**\n",
        "\n",
        "<pre>> koreng_dict_to_engkor_dict_lc\n",
        "{'사과': 'apple', '블루베리': 'blueberry', '딸기': 'strawberry', '키위': 'kiwi', '바나나': 'banana', '포도': 'grape', '자두': 'plum'}\n",
        "\n",
        "[('strawberry', '딸기'), ('plum', '자두'), ('kiwi', '키위'), ('grape', '포도'), ('blueberry', '블루베리'), ('banana', '바나나'), ('apple', '사과')]</pre>"
      ]
    },
    {
      "cell_type": "code",
      "metadata": {
        "colab_type": "code",
        "id": "kpM2rMr6Crn4",
        "colab": {
          "base_uri": "https://localhost:8080/",
          "height": 136
        },
        "outputId": "729ff2e1-cc73-4359-9108-1c0a4a188045"
      },
      "source": [
        "# 한영사전을 만들어 출력한다.\n",
        "koreng = dict(\n",
        "  사과='apple', 블루베리='blueberry', 딸기='strawberry', \n",
        "  키위='kiwi', 바나나='banana', 포도='grape', 자두='plum'\n",
        ")\n",
        "koreng"
      ],
      "execution_count": null,
      "outputs": [
        {
          "output_type": "execute_result",
          "data": {
            "text/plain": [
              "{'딸기': 'strawberry',\n",
              " '바나나': 'banana',\n",
              " '블루베리': 'blueberry',\n",
              " '사과': 'apple',\n",
              " '자두': 'plum',\n",
              " '키위': 'kiwi',\n",
              " '포도': 'grape'}"
            ]
          },
          "metadata": {
            "tags": []
          },
          "execution_count": 26
        }
      ]
    },
    {
      "cell_type": "code",
      "metadata": {
        "id": "lufaXXicGRo2",
        "colab_type": "code",
        "colab": {
          "base_uri": "https://localhost:8080/",
          "height": 136
        },
        "outputId": "90c8e214-6f3b-4ce6-a962-989279de9fbd"
      },
      "source": [
        "# 딕셔너리 축약으로 한영사전을 영한사전으로 변환한 후 오름차순으로출력한다.\n",
        "engkor = {v: k for k, v in koreng.items()}\n",
        "sorted(engkor.items(), reverse=True)"
      ],
      "execution_count": null,
      "outputs": [
        {
          "output_type": "execute_result",
          "data": {
            "text/plain": [
              "[('strawberry', '딸기'),\n",
              " ('plum', '자두'),\n",
              " ('kiwi', '키위'),\n",
              " ('grape', '포도'),\n",
              " ('blueberry', '블루베리'),\n",
              " ('banana', '바나나'),\n",
              " ('apple', '사과')]"
            ]
          },
          "metadata": {
            "tags": []
          },
          "execution_count": 28
        }
      ]
    },
    {
      "cell_type": "markdown",
      "metadata": {
        "id": "pLnnBw6LZAeq",
        "colab_type": "text"
      },
      "source": [
        "## 중첩 딕셔너리 축약"
      ]
    },
    {
      "cell_type": "markdown",
      "metadata": {
        "id": "t5Dt7mQpZAer",
        "colab_type": "text"
      },
      "source": [
        "리스트 축약처럼 딕셔너리 축약도 중첩으로 사용할 수 있다. 중첩되는 축약형으로는 딕셔너리 외에도 리스트나 세트 축약이 올 수 있다. \n",
        "\n",
        "\n",
        "중첩 딕셔너리 축약(nested dictionary comprehension)을 작성하는 일반적인 형식은 다음과 같다.\n",
        "\n",
        "<b><pre>{키-표현식:매핑값-표현식\n",
        "    for 변수-1 in 순회형 [if 불린-표현식-1]\n",
        "        for 변수-2 in 순회형 [if 불린-표현식-2]\n",
        "            for 변수-3 in 순회형 [if 불린-표현식-3]\n",
        "                ...\n",
        "                    for 변수-N in 순회형 [if 불린-표현식-N]}</pre></b>"
      ]
    },
    {
      "cell_type": "markdown",
      "metadata": {
        "id": "OD-984CSZAer",
        "colab_type": "text"
      },
      "source": [
        "# 세트 축약"
      ]
    },
    {
      "cell_type": "markdown",
      "metadata": {
        "id": "NYMBpuyBZAes",
        "colab_type": "text"
      },
      "source": [
        "**세트 축약**(set comprehension)이란?\n",
        "\n",
        "- 순회형 자료의 객체들을 활용하여 세트를 생성하는 기법 중 하나로, 리스트/딕셔너리 축약처럼 간결한 구문을 사용한다.\n",
        "\n",
        "\n",
        "딕셔너리 축약 형식과 비슷하지만 ***표현식*** 이 키와 매핑값 쌍으로 되어 있지 않다는 점이 다르다. 세트 축약을 작성하는 일반적인 형식은 다음과 같다.\n",
        "\n",
        "<b><pre>{표현식 for 변수 in 순회형 [if 불린-표현식]}</pre></b>\n",
        "\n",
        "특징은 다음과 같다.\n",
        "\n",
        "- 순환문을 사용하여 세트의 객체를 생성하는 기법이다.\n",
        "\n",
        "- 중괄호(**{ }**)로 묶은 ***표현식*** 과 **for**을 통해 간단하게 세트를 생성할 수 있으며, 필요에 따라 조건문을 넣을 수도 있다.\n",
        "\n",
        "- ***표현식*** 은 ***변수*** 혹은 ***변수***의 객체를 생성하는 식이 온다.\n",
        "\n",
        "- 선택 사항인 조건문을 통해 조건을 충족하는 객체만 선별하는 것이 가능하다."
      ]
    },
    {
      "cell_type": "markdown",
      "metadata": {
        "id": "yxjHMMvNZAet",
        "colab_type": "text"
      },
      "source": [
        "먼저 **-3**에서 **3**까지 정수의 제곱을 리스트 축약 방식으로 생성해보자."
      ]
    },
    {
      "cell_type": "code",
      "metadata": {
        "colab_type": "code",
        "id": "wSQqUKySCvRP",
        "colab": {
          "base_uri": "https://localhost:8080/",
          "height": 34
        },
        "outputId": "fd9eae8b-5872-481b-835d-ae1d94aedf97"
      },
      "source": [
        "# 리스트 축약\n",
        "[i * i for i in (-3, -2, -1, 0, 1, 2, 3)]  "
      ],
      "execution_count": null,
      "outputs": [
        {
          "output_type": "execute_result",
          "data": {
            "text/plain": [
              "[9, 4, 1, 0, 1, 4, 9]"
            ]
          },
          "metadata": {
            "tags": []
          },
          "execution_count": 29
        }
      ]
    },
    {
      "cell_type": "markdown",
      "metadata": {
        "id": "LraTVkQDZAew",
        "colab_type": "text"
      },
      "source": [
        "이번에는 세트 축약으로 **-3**에서 **3**까지 정수의 제곱을 세트로 만들어 보자."
      ]
    },
    {
      "cell_type": "code",
      "metadata": {
        "colab_type": "code",
        "id": "uEfKZzU_Cv7p",
        "colab": {
          "base_uri": "https://localhost:8080/",
          "height": 34
        },
        "outputId": "94f61d30-09fc-40e5-eac3-f9ffa56d09cf"
      },
      "source": [
        "# 세트 축약\n",
        "{i * i for i in (-3, -2, -1, 0, 1, 2, 3)}  "
      ],
      "execution_count": null,
      "outputs": [
        {
          "output_type": "execute_result",
          "data": {
            "text/plain": [
              "{0, 1, 4, 9}"
            ]
          },
          "metadata": {
            "tags": []
          },
          "execution_count": 30
        }
      ]
    },
    {
      "cell_type": "markdown",
      "metadata": {
        "id": "bvXCzKE2ZAey",
        "colab_type": "text"
      },
      "source": [
        "세트이기 때문에 중복 값을 포함하고 있지 않다."
      ]
    },
    {
      "cell_type": "markdown",
      "metadata": {
        "id": "G7n5HKAOZAey",
        "colab_type": "text"
      },
      "source": [
        "**-9**에서 **9**까지 정수를 생성하고 각 정수의 절댓값을 축약 기법을 사용하여 리스트와 세트로 각각 만들어보자. "
      ]
    },
    {
      "cell_type": "code",
      "metadata": {
        "colab_type": "code",
        "id": "RuNGO8uVCw49",
        "colab": {
          "base_uri": "https://localhost:8080/",
          "height": 51
        },
        "outputId": "87d052db-9507-415f-b1be-c570dba50565"
      },
      "source": [
        "# 리스트 축약\n",
        "x = [abs(i) for i in range(-9, 10)]  \n",
        "\n",
        "# 세트 축약\n",
        "y = {abs(i) for i in range(-9, 10)}  \n",
        "\n",
        "print(x)\n",
        "print(y)"
      ],
      "execution_count": null,
      "outputs": [
        {
          "output_type": "stream",
          "text": [
            "[9, 8, 7, 6, 5, 4, 3, 2, 1, 0, 1, 2, 3, 4, 5, 6, 7, 8, 9]\n",
            "{0, 1, 2, 3, 4, 5, 6, 7, 8, 9}\n"
          ],
          "name": "stdout"
        }
      ]
    },
    {
      "cell_type": "markdown",
      "metadata": {
        "id": "aaA0OPZrZAe1",
        "colab_type": "text"
      },
      "source": [
        "## Lab: 폴더에서 특정 확장명을 가진 파일만 출력하기"
      ]
    },
    {
      "cell_type": "markdown",
      "metadata": {
        "id": "FYJAJEcVZAe1",
        "colab_type": "text"
      },
      "source": [
        "- - -\n",
        "\n",
        "사용자로부터 파일의 확장명을 입력받아 해당 확장명을 가진 파일 이름만 출력하는 프로그램을 세트 축약을 사용하여 구현한다. \n",
        "\n",
        "이 때 대소문자 구분은 하지 않는다.\n",
        "\n",
        "- - -\n",
        "\n",
        "**힌트**\n",
        "- [os.**listdir**(*path='.'*)](https://docs.python.org/3/library/os.html?highlight=listdir#os.listdir)\n",
        "  + Return a list containing the names of the entries in the directory given by *path*.\n",
        "\n",
        "**실행 예**\n",
        "\n",
        "<pre>> python file_finder.py\n",
        "파일 확장명을 입력하세요: CSV\n",
        "{'mnist_test.csv', 'california_housing_train.csv', 'mnist_train_small.csv', 'california_housing_test.csv'}</pre>"
      ]
    },
    {
      "cell_type": "code",
      "metadata": {
        "colab_type": "code",
        "id": "nbymbpesCxie",
        "colab": {
          "base_uri": "https://localhost:8080/",
          "height": 51
        },
        "outputId": "6616cf3c-816f-46e6-9801-929b0aea2f41"
      },
      "source": [
        "import os\n",
        "\n",
        "ext = input('파일 확장명을 입력하세요: ')\n",
        "\n",
        "files = {file for file in os.listdir('sample_data')\n",
        "         if file.lower().endswith(('.' + ext.lower()))}\n",
        "print(files)"
      ],
      "execution_count": null,
      "outputs": [
        {
          "output_type": "stream",
          "text": [
            "파일 확장명을 입력하세요: CSV\n",
            "{'mnist_test.csv', 'mnist_train_small.csv', 'california_housing_test.csv', 'california_housing_train.csv'}\n"
          ],
          "name": "stdout"
        }
      ]
    },
    {
      "cell_type": "markdown",
      "metadata": {
        "id": "59XsR77WZAe4",
        "colab_type": "text"
      },
      "source": [
        "## 중첩 세트 축약"
      ]
    },
    {
      "cell_type": "markdown",
      "metadata": {
        "id": "yde3Fuc4ZAe5",
        "colab_type": "text"
      },
      "source": [
        "세트 축약도 다른 축약형처럼 중첩이 가능하다. 마찬가지로 중첩되는 축약형으로는 세트 외에도 리스트나 딕셔너리 축약이 올 수 있다. \n",
        "\n",
        "중첩 세트 축약(nested set comprehension)을 작성하는 일반적인 형식은 다음과 같다.\n",
        "\n",
        "<b><pre>{표현식 for 변수-1 in 순회형 [if 불린-표현식-1] \n",
        "    for 변수-2 in 순회형 [if 불린-표현식-2]\n",
        "        for 변수-3 in 순회형 [if 불린-표현식-3] \n",
        "            ...\n",
        "                for 변수-N in 순회형 [if 불린-표현식-N]}</pre></b>"
      ]
    },
    {
      "cell_type": "markdown",
      "metadata": {
        "id": "OwfuNrIYZAe5",
        "colab_type": "text"
      },
      "source": [
        "---\n",
        "# <font color='red'>THE END</font>"
      ]
    }
  ]
}