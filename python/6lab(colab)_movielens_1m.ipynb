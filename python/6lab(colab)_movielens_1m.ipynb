{
  "nbformat": 4,
  "nbformat_minor": 0,
  "metadata": {
    "celltoolbar": "Slideshow",
    "colab": {
      "name": "6lab(colab).movielens-1m",
      "provenance": [],
      "collapsed_sections": [],
      "toc_visible": true,
      "include_colab_link": true
    },
    "hide_input": false,
    "kernelspec": {
      "name": "python3",
      "display_name": "Python 3"
    },
    "language_info": {
      "codemirror_mode": {
        "name": "ipython",
        "version": 3
      },
      "file_extension": ".py",
      "mimetype": "text/x-python",
      "name": "python",
      "nbconvert_exporter": "python",
      "pygments_lexer": "ipython3",
      "version": "3.8.1"
    },
    "toc": {
      "base_numbering": 1,
      "nav_menu": {},
      "number_sections": true,
      "sideBar": true,
      "skip_h1_title": false,
      "title_cell": "Table of Contents",
      "title_sidebar": "Contents",
      "toc_cell": true,
      "toc_position": {},
      "toc_section_display": true,
      "toc_window_display": false
    },
    "varInspector": {
      "cols": {
        "lenName": 16,
        "lenType": 16,
        "lenVar": 40
      },
      "kernels_config": {
        "python": {
          "delete_cmd_postfix": "",
          "delete_cmd_prefix": "del ",
          "library": "var_list.py",
          "varRefreshCmd": "print(var_dic_list())"
        },
        "r": {
          "delete_cmd_postfix": ") ",
          "delete_cmd_prefix": "rm(",
          "library": "var_list.r",
          "varRefreshCmd": "cat(var_dic_list()) "
        }
      },
      "types_to_exclude": [
        "module",
        "function",
        "builtin_function_or_method",
        "instance",
        "_Feature"
      ],
      "window_display": false
    }
  },
  "cells": [
    {
      "cell_type": "markdown",
      "metadata": {
        "id": "view-in-github",
        "colab_type": "text"
      },
      "source": [
        "<a href=\"https://colab.research.google.com/github/ibk25244/su-ai/blob/master/6lab(colab)_movielens_1m.ipynb\" target=\"_parent\"><img src=\"https://colab.research.google.com/assets/colab-badge.svg\" alt=\"Open In Colab\"/></a>"
      ]
    },
    {
      "cell_type": "markdown",
      "metadata": {
        "id": "2LrQyqwoqa9_",
        "colab_type": "text"
      },
      "source": [
        "- - -\n",
        "<font size=6 color='tomato'>판다스 실습 : 영화 평점 데이터 탐색적 자료 분석</font>\n",
        "\n",
        "<font size=5 color='purple'>Lab: MovieLens</font> \n",
        "\n",
        "* * *\n",
        "\n",
        "**<font size=4>박 진 수</font>** 교수  \n",
        "Intelligent Data Semantics Lab  \n",
        "Seoul National University\n",
        "\n",
        "- - -"
      ]
    },
    {
      "cell_type": "markdown",
      "metadata": {
        "id": "T0LYQrcjtpi_",
        "colab_type": "toc"
      },
      "source": [
        ">[데이터 전처리](#scrollTo=Es74FLWRzWU9)\n",
        "\n",
        ">>[데이터 파일 내려받기](#scrollTo=tRbV0l4Hhy6I)\n",
        "\n",
        ">>[데이터 불러오기](#scrollTo=PS3C0JBAzWU-)\n",
        "\n",
        ">>[데이터 병합](#scrollTo=rBdfg-GezWVm)\n",
        "\n",
        ">[데이터 탐색 : 탐색적 통계 분석](#scrollTo=vtULlUfSzWV0)\n",
        "\n",
        ">>[성별로 각 영화의 평균 평점 계산](#scrollTo=VuwtHAvlzWV1)\n",
        "\n",
        ">>[영화별 총 평점과 평균 평점 계산](#scrollTo=XDa1oCGZzWWA)\n",
        "\n",
        ">>[1,000명 이상의 사용자가 평가한 영화 평점 분석](#scrollTo=yNR5Vv9mzWWH)\n",
        "\n",
        ">>>[여성에게 평균적으로 높은 평점을 받은 영화순으로 데이터 정렬](#scrollTo=za3sG7vXzWWW)\n",
        "\n",
        ">>>[남성에게 평균적으로 높은 평점을 받은 영화순으로 데이터 정렬](#scrollTo=d5u_loE4zWWc)\n",
        "\n",
        ">>>[성별 평균 평점 차이 구하기](#scrollTo=sSSuknQ4zWWe)\n",
        "\n",
        ">>[사용자들의 호불호가 확실히 나뉘는 영화 Top 10](#scrollTo=gLpAKJaRzWWh)\n",
        "\n",
        ">>[Lab: 탐색적 통계 분석](#scrollTo=7TNohnaGqa_Q)\n",
        "\n",
        ">>>[문제 1 : 각 사용자 별로 평가한 영화의 수에 대한 기초통계량을 구한다.](#scrollTo=xrdQaOWwqa_R)\n",
        "\n",
        ">>>[문제 2 : 평가한 영화의 수가 50개 이상인 사용자들에 대한 기초통계량을 구한다.](#scrollTo=QAWwM3daqa_U)\n",
        "\n",
        ">[데이터 분석 : 도표 그리기](#scrollTo=eZYzMs0EzWWk)\n",
        "\n",
        ">>[사용자 평가가 가장 많은 영화의 평점 분포](#scrollTo=rg6mU7RwzWWt)\n",
        "\n",
        ">>>[요약통계량 계산](#scrollTo=ml1SELqVzWW7)\n",
        "\n",
        ">>[Lab: 기술 통계량 도표 그리기](#scrollTo=4icvf32Xqa_z)\n",
        "\n",
        ">>>[문제 1 : 300명 이상의 사용자가 평가한 영화 중 평점이 가장 다양한 영화를 선택하여 다음 통계치를 구해보자.](#scrollTo=xl0Huh_iqa_z)\n",
        "\n",
        ">>>[문제 2 : 영화의 장르 분포를 도표로 작성하기](#scrollTo=ml4TPO_aqa_3)\n",
        "\n",
        ">>>[문제 3 : 사용자에 관한 다음 통계치를 구해보자.](#scrollTo=KY7jVA_Aqa_7)\n",
        "\n",
        ">[THE END](#scrollTo=DM5r7VxPqbAB)\n",
        "\n"
      ]
    },
    {
      "cell_type": "markdown",
      "metadata": {
        "colab_type": "text",
        "id": "Es74FLWRzWU9"
      },
      "source": [
        "# 데이터 전처리"
      ]
    },
    {
      "cell_type": "markdown",
      "metadata": {
        "colab_type": "text",
        "id": "MUB_OW6hqa-C"
      },
      "source": [
        "미국 미네소타대학교의 [GroupLens 연구소](https://grouplens.org)는 [MovieLens 웹사이트](https://movielens.org)의 사용자들로부터 수집한 [영화 평가 데이터](https://grouplens.org/datasets/movielens/)를 제공하고 있다. \n",
        "- [MovieLens 20M Dataset](https://grouplens.org/datasets/movielens/20m/) : 138,000명의 사용자가 27,000개의 영화에 대한 2,000만개의 평점 데이터로 이루어져 있어 연구용 데이터로 활용하고 있다.\n",
        "- [MovieLens Latest Datasets](https://grouplens.org/datasets/movielens/latest/) : 최신 데이터 세트로 구성되어 있으며 시간이 지나면 바뀔 수 있다.\n",
        "    - [Small Dataset](https://grouplens.org/datasets/movielens/latest/) : 600명의 사용자가 9,000개의 영화에 대한 10만개의 평점 데이터로 이루어져 있다.\n",
        "    - [Full Dataset](https://grouplens.org/datasets/movielens/latest/) : 280,000명의 사용자가 58,000개의 영화에 대한 2,700만개의 평점 데이터로 이루어져 있다.\n",
        "- [MovieLens 1M Dataset](https://grouplens.org/datasets/movielens/1m/) : 6,000명의 사용자가 4,000개의 영화에 대한 100만개의 평점 데이터로 이루어져 있다. \n",
        "    - 해당 자료는 사용자 정보(성별, 나이, 직업, 우편번호), 영화 정보(영화 제목, 장르), 영화 평점으로 구성되어 있다.\n",
        "\n",
        "\n",
        "이 실습에서는 데이터 크기가 실습하기에 적당한 **MovieLens 1M Dataset**을 사용한다."
      ]
    },
    {
      "cell_type": "markdown",
      "metadata": {
        "colab_type": "text",
        "id": "tRbV0l4Hhy6I"
      },
      "source": [
        "## 데이터 파일 내려받기"
      ]
    },
    {
      "cell_type": "markdown",
      "metadata": {
        "colab_type": "text",
        "id": "-Ee7sPYKqa-D"
      },
      "source": [
        "1. 아래 링크를 클릭해서 'ml-1m.zip' 파일을 로컬 PC에 저장한다.\n",
        "    - <https://grouplens.org/datasets/movielens/1m/>\n",
        "\n",
        "\n",
        "2. 파일을 내려 받은 후 여러분이 작업할 폴드에서 압축 파일을 푼다.\n",
        "    - 압축을 풀면 하위 폴드로 'ml-1m'가 생성된다.\n",
        "    - 폴더 안에 있는 파일 중 'users.dat', 'ratings.dat, 'movies.dat' 세 개 파일을 선택해서 업로드한다."
      ]
    },
    {
      "cell_type": "markdown",
      "metadata": {
        "id": "VvFkHLt3qa-E",
        "colab_type": "text"
      },
      "source": [
        "**구글 Colaboratory 사용자**"
      ]
    },
    {
      "cell_type": "code",
      "metadata": {
        "colab_type": "code",
        "id": "w-qZJWcLhzWS",
        "colab": {}
      },
      "source": [
        "# ===== 만약 파일을 로컬 파일로 저장했다면 =============================================\n",
        "# --- Importing a local file\n",
        "from google.colab import files\n",
        "\n",
        "# ml-1m 파일을 업로드한다.\n",
        "uploaded = files.upload()"
      ],
      "execution_count": null,
      "outputs": []
    },
    {
      "cell_type": "markdown",
      "metadata": {
        "colab_type": "text",
        "id": "PS3C0JBAzWU-"
      },
      "source": [
        "## 데이터 불러오기"
      ]
    },
    {
      "cell_type": "markdown",
      "metadata": {
        "colab_type": "text",
        "id": "nHMfdjWBqa-I"
      },
      "source": [
        "무비렌즈의 영화 평점 데이터를 판다스 데이터프레임으로 불러온다."
      ]
    },
    {
      "cell_type": "code",
      "metadata": {
        "colab_type": "code",
        "id": "DOhhAy4OzWU_",
        "colab": {}
      },
      "source": [
        "import pandas  # as pd\n",
        "import numpy   # as np <== numpy도 주로 같이 불러온다.\n",
        "print('Pandas version..:', pandas.__version__)\n",
        "print('NumPy version...:', numpy.__version__)"
      ],
      "execution_count": null,
      "outputs": []
    },
    {
      "cell_type": "code",
      "metadata": {
        "id": "mExPg2eM_ON8",
        "colab_type": "code",
        "colab": {}
      },
      "source": [
        "cols_user = ['user_id', 'gender', 'age', 'occupation', 'zip']\n",
        "cols_rating = ['user_id', 'movie_id', 'rating', 'timestamp']\n",
        "cols_movie = ['movie_id', 'title', 'genres']\n",
        "\n",
        "# read_table() 대신 read_csv()을 사용해도 사용해도 같은 결과를 가진다.\n",
        "df_users = pandas.read_table('users.dat', \n",
        "  sep='::', names=cols_user, engine='python')\n",
        "df_ratings = pandas.read_table('ratings.dat', \n",
        "  sep='::', names=cols_rating, engine='python')\n",
        "df_movies = pandas.read_table('movies.dat', \n",
        "  sep = '::', names=cols_movie, engine='python')"
      ],
      "execution_count": null,
      "outputs": []
    },
    {
      "cell_type": "code",
      "metadata": {
        "colab_type": "code",
        "id": "LsYij_W2zWVK",
        "colab": {}
      },
      "source": [
        "df_users.head()"
      ],
      "execution_count": null,
      "outputs": []
    },
    {
      "cell_type": "code",
      "metadata": {
        "colab_type": "code",
        "id": "l7CrwFxEzWVN",
        "colab": {}
      },
      "source": [
        "# 차원 형태를 확인한다.\n",
        "df_users.shape"
      ],
      "execution_count": null,
      "outputs": []
    },
    {
      "cell_type": "code",
      "metadata": {
        "colab_type": "code",
        "id": "PTPs4UfEzWVQ",
        "colab": {}
      },
      "source": [
        "# 결측치가 있는지 확인한다.\n",
        "df_users.isna().sum()  # df_users.isna().any()로도 확인 가능하다."
      ],
      "execution_count": null,
      "outputs": []
    },
    {
      "cell_type": "code",
      "metadata": {
        "colab_type": "code",
        "id": "KjcVd3XxzWVS",
        "colab": {}
      },
      "source": [
        "df_ratings.head()"
      ],
      "execution_count": null,
      "outputs": []
    },
    {
      "cell_type": "code",
      "metadata": {
        "colab_type": "code",
        "id": "pPxdpjjGzWVV",
        "colab": {}
      },
      "source": [
        "# 차원 형태를 확인한다.\n",
        "df_ratings.shape"
      ],
      "execution_count": null,
      "outputs": []
    },
    {
      "cell_type": "code",
      "metadata": {
        "colab_type": "code",
        "id": "4KdcNa-gzWVZ",
        "colab": {}
      },
      "source": [
        "# 결측치가 있는지 확인한다.\n",
        "df_ratings.isna().any()"
      ],
      "execution_count": null,
      "outputs": []
    },
    {
      "cell_type": "code",
      "metadata": {
        "colab_type": "code",
        "id": "y6leRDIDzWVd",
        "colab": {}
      },
      "source": [
        "df_movies.head()"
      ],
      "execution_count": null,
      "outputs": []
    },
    {
      "cell_type": "code",
      "metadata": {
        "colab_type": "code",
        "id": "WmMlig2yzWVg",
        "colab": {}
      },
      "source": [
        "# 차원 형태를 확인한다.\n",
        "df_movies.shape"
      ],
      "execution_count": null,
      "outputs": []
    },
    {
      "cell_type": "code",
      "metadata": {
        "colab_type": "code",
        "id": "Zbtyk0U7zWVj",
        "colab": {}
      },
      "source": [
        "# 결측치가 있는지 확인한다.\n",
        "df_movies.isna().sum()"
      ],
      "execution_count": null,
      "outputs": []
    },
    {
      "cell_type": "markdown",
      "metadata": {
        "colab_type": "text",
        "id": "rBdfg-GezWVm"
      },
      "source": [
        "## 데이터 병합"
      ]
    },
    {
      "cell_type": "markdown",
      "metadata": {
        "colab_type": "text",
        "id": "suaU68z3qa-m"
      },
      "source": [
        "**merge()** 메소드를 사용하면 병합하려는 두 데이터프레임의 중복되는 열의 이름을 키로 사용하지만 명시적으로 병합할 열 이름을 지정해주는 것이 좋다."
      ]
    },
    {
      "cell_type": "code",
      "metadata": {
        "colab_type": "code",
        "id": "vokSrL6mzWVn",
        "colab": {}
      },
      "source": [
        "df_users_ratings = pandas.merge(df_ratings, df_users, on='user_id')\n",
        "df_users_ratings.head()"
      ],
      "execution_count": null,
      "outputs": []
    },
    {
      "cell_type": "code",
      "metadata": {
        "colab_type": "code",
        "id": "n2xWmwf3zWVq",
        "colab": {}
      },
      "source": [
        "df_users_ratings.shape"
      ],
      "execution_count": null,
      "outputs": []
    },
    {
      "cell_type": "code",
      "metadata": {
        "colab_type": "code",
        "id": "-36VUVt5zWVt",
        "colab": {}
      },
      "source": [
        "df = pandas.merge(df_users_ratings, df_movies, on='movie_id')\n",
        "df.head()"
      ],
      "execution_count": null,
      "outputs": []
    },
    {
      "cell_type": "code",
      "metadata": {
        "colab_type": "code",
        "id": "zIf_kHu9zWVv",
        "colab": {}
      },
      "source": [
        "# 차원 형태를 확인한다.\n",
        "df.shape"
      ],
      "execution_count": null,
      "outputs": []
    },
    {
      "cell_type": "code",
      "metadata": {
        "colab_type": "code",
        "id": "Ez2VPEF5zWVy",
        "colab": {}
      },
      "source": [
        "# 결측치가 있는지 확인한다.\n",
        "df.isna().values.any()"
      ],
      "execution_count": null,
      "outputs": []
    },
    {
      "cell_type": "markdown",
      "metadata": {
        "colab_type": "text",
        "id": "vtULlUfSzWV0"
      },
      "source": [
        "# 데이터 탐색 : 탐색적 통계 분석"
      ]
    },
    {
      "cell_type": "markdown",
      "metadata": {
        "colab_type": "text",
        "id": "VuwtHAvlzWV1"
      },
      "source": [
        "## 성별로 각 영화의 평균 평점 계산"
      ]
    },
    {
      "cell_type": "markdown",
      "metadata": {
        "colab_type": "text",
        "id": "sPs2QCQyqa-z"
      },
      "source": [
        "영화의 평균 평점을 성별로 구분해서 구해보자."
      ]
    },
    {
      "cell_type": "markdown",
      "metadata": {
        "colab_type": "text",
        "id": "F60nYh4izWV2"
      },
      "source": [
        "[pandas.pivot_table](https://pandas.pydata.org/pandas-docs/stable/reference/api/pandas.pivot_table.html#pandas.pivot_table)\n",
        "- Create a spreadsheet-style pivot table as a DataFrame. The levels in the pivot table will be stored in MultiIndex objects (hierarchical indexes) on the index and columns of the result DataFrame.\n",
        "- pandas.**pivot_table**(*data, values=None, index=None, columns=None, aggfunc='mean', fill_value=None, margins=False, dropna=True, margins_name='All', observed=False*)\n",
        "    - **Parameters:**\n",
        "        - ***data*** : *DataFrame*\n",
        "        - ***values*** : *column to aggregate*, optional\n",
        "        - ***index*** : *column*, *Grouper*, *array*, or *list of the previous*\n",
        "            - If an array is passed, it must be the same length as the data. The list can contain any of the other types (except list). Keys to group by on the pivot table index. If an array is passed, it is being used as the same manner as column values.\n",
        "        - ***columns*** : *column*, *Grouper*, *array*, or *list of the previous*\n",
        "            - If an array is passed, it must be the same length as the data. The list can contain any of the other types (except list). Keys to group by on the pivot table column. If an array is passed, it is being used as the same manner as column values.\n",
        "        - ***aggfunc*** : *function*, *list of functions*, *dict*, default **numpy.mean**\n",
        "            - If list of functions passed, the resulting pivot table will have hierarchical columns whose top level are the function names (inferred from the function objects themselves) If dict is passed, the key is column to aggregate and value is function or list of functions.\n",
        "    - **Returns**: *DataFrame*"
      ]
    },
    {
      "cell_type": "code",
      "metadata": {
        "id": "MaS1d52JLy1J",
        "colab_type": "code",
        "colab": {}
      },
      "source": [
        "# --- 성별로 각 영화의 평균 평점을 계산한다.\n",
        "# Your answer here"
      ],
      "execution_count": null,
      "outputs": []
    },
    {
      "cell_type": "markdown",
      "metadata": {
        "colab_type": "text",
        "id": "XDa1oCGZzWWA"
      },
      "source": [
        "## 영화별 총 평점과 평균 평점 계산"
      ]
    },
    {
      "cell_type": "markdown",
      "metadata": {
        "colab_type": "text",
        "id": "HV6ntZiZqa-2"
      },
      "source": [
        "각 영화별로 평가한 사용자 수, 평점 총합, 평균 평점을 구해보자."
      ]
    },
    {
      "cell_type": "markdown",
      "metadata": {
        "colab_type": "text",
        "id": "GstlVsinzWWC"
      },
      "source": [
        "[pandas.DataFrame.pivot_table](https://pandas.pydata.org/pandas-docs/stable/reference/api/pandas.DataFrame.pivot_table.html#pandas.DataFrame.pivot_table)\n",
        "- Create a spreadsheet-style pivot table as a DataFrame. The levels in the pivot table will be stored in MultiIndex objects (hierarchical indexes) on the index and columns of the result DataFrame.\n",
        "- DataFrame.**pivot_table**(*self, values=None, index=None, columns=None, aggfunc='mean', fill_value=None, margins=False, dropna=True, margins_name='All', observed=False**)\n",
        "    - **Parameters**:\n",
        "        - ***values*** : *column to aggregate*, optional\n",
        "        - ***index*** : *column*, *Grouper*, *array*, or *list of the previous*\n",
        "            - If an array is passed, it must be the same length as the data. The list can contain any of the other types (except list). Keys to group by on the pivot table index. If an array is passed, it is being used as the same manner as column values.\n",
        "        - ***columns*** : *column*, *Grouper*, *array*, or *list of the previous*\n",
        "            - If an array is passed, it must be the same length as the data. The list can contain any of the other types (except list). Keys to group by on the pivot table column. If an array is passed, it is being used as the same manner as column values.\n",
        "        - ***aggfunc*** : *function*, *list of functions*, *dict*, default **numpy.mean**\n",
        "            - If list of functions passed, the resulting pivot table will have hierarchical columns whose top level are the function names (inferred from the function objects themselves) If dict is passed, the key is column to aggregate and value is function or list of functions.\n",
        "    - **Returns**: *DataFrame*"
      ]
    },
    {
      "cell_type": "code",
      "metadata": {
        "id": "el3trgq4MYhF",
        "colab_type": "code",
        "colab": {}
      },
      "source": [
        "# --- 각 영화별로 평가한 사용자 수, 평점 총합, 평균 평점을 구한다.\n",
        "# Your answer here"
      ],
      "execution_count": null,
      "outputs": []
    },
    {
      "cell_type": "markdown",
      "metadata": {
        "colab_type": "text",
        "id": "yNR5Vv9mzWWH"
      },
      "source": [
        "## 1,000명 이상의 사용자가 평가한 영화 평점 분석"
      ]
    },
    {
      "cell_type": "markdown",
      "metadata": {
        "colab_type": "text",
        "id": "AzFx9LndzWWI"
      },
      "source": [
        "[pandas.core.groupby.SeriesGroupBy.value_counts](https://pandas.pydata.org/pandas-docs/stable/reference/api/pandas.core.groupby.SeriesGroupBy.value_counts.html#pandas.core.groupby.SeriesGroupBy.value_counts)\n",
        "- SeriesGroupBy.**value_counts**(*self, normalize=False, sort=True, ascending=False, bins=None, dropna=True*)"
      ]
    },
    {
      "cell_type": "code",
      "metadata": {
        "id": "4eMstabfcCK4",
        "colab_type": "code",
        "colab": {}
      },
      "source": [
        "# --- 1,000명 이상의 사용자가 평가한 영화 평점 분석\n",
        "# Your answer here"
      ],
      "execution_count": null,
      "outputs": []
    },
    {
      "cell_type": "markdown",
      "metadata": {
        "colab_type": "text",
        "id": "za3sG7vXzWWW"
      },
      "source": [
        "### 여성에게 평균적으로 높은 평점을 받은 영화순으로 데이터 정렬"
      ]
    },
    {
      "cell_type": "markdown",
      "metadata": {
        "colab_type": "text",
        "id": "_P06yAN-zWWX"
      },
      "source": [
        "[pandas.DataFrame.sort_values](https://pandas.pydata.org/pandas-docs/stable/reference/api/pandas.DataFrame.sort_values.html#pandas.DataFrame.sort_values)\n",
        "- Sort by the values along either axis.\n",
        "- DataFrame.**sort_values**(*self, by, axis=0, ascending=True, inplace=False, kind='quicksort', na_position='last'*)\n",
        "    - **Parameters**:\n",
        "        - ***by*** : *str* or *list of str*\n",
        "            - Name or list of names to sort by.\n",
        "                - if axis is 0 or *'index'* then by may contain index levels and/or column labels\n",
        "                - if axis is 1 or *'columns'* then by may contain column levels and/or index labels\n",
        "        - ***axis*** : {0 or *'index'*, 1 or *'columns'*}, default 0\n",
        "            - Axis to be sorted.\n",
        "        - ***ascending*** : *bool* or *list of bool*, default **True**\n",
        "            - Sort ascending vs. descending. Specify list for multiple sort orders. If this is a list of bools, must match the length of the by.\n",
        "        - ***inplace*** : *bool*, default False\n",
        "            - If True, perform operation in-place.\n",
        "        - ***kind*** : {*'quicksort'*, *'mergesort'*, *'heapsort'*}, default *'quicksort'*\n",
        "            - Choice of sorting algorithm. See also ndarray.np.sort for more information. *mergesort* is the only stable algorithm. For DataFrames, this option is only applied when sorting on a single column or label.\n",
        "        - ***na_position*** : {*'first'*, *'last'*}, default *'last'*\n",
        "            - Puts NaNs at the beginning if first; last puts NaNs at the end.\n",
        "    - **Returns**: \n",
        "        - ***sorted_obj*** : *DataFrame* or None\n",
        "            - DataFrame with sorted values if inplace=False, None otherwise."
      ]
    },
    {
      "cell_type": "code",
      "metadata": {
        "id": "Oqu0rh89K7Z9",
        "colab_type": "code",
        "colab": {}
      },
      "source": [
        "# --- 1,000명 이상의 사용자가 평가한 영화 중 여성에게 평균적으로 높은 평점을 받은 영화순으로 데이터 정렬한다.\n",
        "# Your answer here"
      ],
      "execution_count": null,
      "outputs": []
    },
    {
      "cell_type": "markdown",
      "metadata": {
        "colab_type": "text",
        "id": "d5u_loE4zWWc"
      },
      "source": [
        "### 남성에게 평균적으로 높은 평점을 받은 영화순으로 데이터 정렬"
      ]
    },
    {
      "cell_type": "code",
      "metadata": {
        "id": "NxTdFACTLGUL",
        "colab_type": "code",
        "colab": {}
      },
      "source": [
        "# --- 1,000명 이상의 사용자가 평가한 영화 중 남성에게 평균적으로 높은 평점을 받은 영화순으로 데이터 정렬한다.\n",
        "# Your answer here"
      ],
      "execution_count": null,
      "outputs": []
    },
    {
      "cell_type": "markdown",
      "metadata": {
        "colab_type": "text",
        "id": "sSSuknQ4zWWe"
      },
      "source": [
        "### 성별 평균 평점 차이 구하기"
      ]
    },
    {
      "cell_type": "code",
      "metadata": {
        "id": "UrIqOwNHLjpj",
        "colab_type": "code",
        "colab": {}
      },
      "source": [
        "# --- 1,000명 이상의 사용자가 평가한 영화 중 성별 평균 평점 차이 구해 남녀간 호불호가 나뉘는 영화를 조회한다.\n",
        "# Your answer here"
      ],
      "execution_count": null,
      "outputs": []
    },
    {
      "cell_type": "markdown",
      "metadata": {
        "colab_type": "text",
        "id": "gLpAKJaRzWWh"
      },
      "source": [
        "## 사용자들의 호불호가 확실히 나뉘는 영화 Top 10"
      ]
    },
    {
      "cell_type": "markdown",
      "metadata": {
        "colab_type": "text",
        "id": "11A8Xf9bzWWh"
      },
      "source": [
        "[pandas.DataFrame.groupby](http://localhost:8888/notebooks/0.numpy%20pandas/TA/FIRA2018%20-%20통계/lab2/(x)pandas_visualization_lab2.ipynb)\n",
        "- Group DataFrame or Series using a mapper or by a Series of columns.\n",
        "- A groupby operation involves some combination of splitting the object, applying a function, and combining the results. This can be used to group large amounts of data and compute operations on these groups.\n",
        "- DataFrame.**groupby**(*self, by=None, axis=0, level=None, as_index=True, sort=True, group_keys=True, squeeze=False, observed=False, \\**kwargs*)\n",
        "    - **Returns**: *DataFrameGroupBy* or *SeriesGroupBy*\n",
        "        - Depends on the calling object and returns groupby object that contains information about the groups.\n",
        "        \n",
        "[pandas.core.groupby.GroupBy.std](https://pandas.pydata.org/pandas-docs/stable/reference/api/pandas.core.groupby.GroupBy.std.html#pandas.core.groupby.GroupBy.std)\n",
        "- Compute standard deviation of groups, excluding missing values.\n",
        "- For multiple groupings, the result index will be a MultiIndex.\n",
        "- GroupBy.**std**(*self*, *ddof=1*, \\**args*, \\*\\**kwargs*)\n",
        "    - **Parameters**:\t\n",
        "        - ***ddof*** : *integer*, default 1\n",
        "            - degrees of freedom\n",
        "    - **Returns**: *Series* or *DataFrame*\n",
        "        - Standard deviation of values within each group."
      ]
    },
    {
      "cell_type": "code",
      "metadata": {
        "id": "-JGwM6fmMU4g",
        "colab_type": "code",
        "colab": {}
      },
      "source": [
        "# --- 1,000명 이상의 사용자가 평가한 영화 중 사용자들의 호불호가 확실히 나뉘는 Top 10 영화를 조회한다.\n",
        "# Your answer here"
      ],
      "execution_count": null,
      "outputs": []
    },
    {
      "cell_type": "markdown",
      "metadata": {
        "id": "7TNohnaGqa_Q",
        "colab_type": "text"
      },
      "source": [
        "## Lab: 탐색적 통계 분석"
      ]
    },
    {
      "cell_type": "markdown",
      "metadata": {
        "id": "NdRqhyoWqa_R",
        "colab_type": "text"
      },
      "source": [
        "사용자별로 영화에 대한 평점을 계산한 뒤 아래 통계치를 구해보자."
      ]
    },
    {
      "cell_type": "code",
      "metadata": {
        "id": "XngrAS5aNDRU",
        "colab_type": "code",
        "colab": {}
      },
      "source": [
        "# import pandas\n",
        "# import numpy\n",
        "\n",
        "# cols_user = ['user_id', 'gender', 'age', 'occupation', 'zip']\n",
        "# cols_rating = ['user_id', 'movie_id', 'rating', 'timestamp']\n",
        "# cols_movie = ['movie_id', 'title', 'genres']\n",
        "\n",
        "# # read_table() 대신 read_csv()을 사용해도 사용해도 같은 결과를 가진다.\n",
        "# df_users = pandas.read_table('users.dat', \n",
        "#   sep='::', names=cols_user, engine='python')\n",
        "# df_ratings = pandas.read_table('ratings.dat', \n",
        "#   sep='::', names=cols_rating, engine='python')\n",
        "# df_movies = pandas.read_table('movies.dat', \n",
        "#   sep = '::', names=cols_movie, engine='python')\n",
        "\n",
        "# df = pandas.merge(pandas.merge(df_ratings, df_users, on='user_id'), \n",
        "#                   df_movies, on='movie_id')"
      ],
      "execution_count": null,
      "outputs": []
    },
    {
      "cell_type": "markdown",
      "metadata": {
        "id": "xrdQaOWwqa_R",
        "colab_type": "text"
      },
      "source": [
        "### 문제 1 : 각 사용자 별로 평가한 영화의 수에 대한 기초통계량을 구한다.  "
      ]
    },
    {
      "cell_type": "markdown",
      "metadata": {
        "id": "Tpxxj8Miqa_R",
        "colab_type": "text"
      },
      "source": [
        "최솟값(min), 최댓값(max), 평균값(mean), 표준편차(std)"
      ]
    },
    {
      "cell_type": "markdown",
      "metadata": {
        "id": "rN4eHtDTqa_S",
        "colab_type": "text"
      },
      "source": [
        "**문제 1 답**"
      ]
    },
    {
      "cell_type": "code",
      "metadata": {
        "id": "VB8mN0_nqa_S",
        "colab_type": "code",
        "colab": {}
      },
      "source": [
        "# Your answer here"
      ],
      "execution_count": null,
      "outputs": []
    },
    {
      "cell_type": "markdown",
      "metadata": {
        "id": "QAWwM3daqa_U",
        "colab_type": "text"
      },
      "source": [
        "### 문제 2 : 평가한 영화의 수가 50개 이상인 사용자들에 대한 기초통계량을 구한다."
      ]
    },
    {
      "cell_type": "markdown",
      "metadata": {
        "id": "-WUmBcDkqa_V",
        "colab_type": "text"
      },
      "source": [
        "1. 여성 사용자들의 평균 평점과 남성 사용자들의 평균 평점을 비교한다.\n",
        "1. 평균적으로 높은 평점을 부여하는 사용자를 확인한다.\n",
        "1. 평균적으로 낮은 평점을 부여하는 사용자를 확인한다.\n",
        "1. 영화마다 다양한 평점을 부여하는 사용자를 확인한다."
      ]
    },
    {
      "cell_type": "markdown",
      "metadata": {
        "id": "jSxp4vTeqa_W",
        "colab_type": "text"
      },
      "source": [
        "**문제 2-1 답 : 여성 사용자들과 남성 사용자들의 평균 평점을 비교**"
      ]
    },
    {
      "cell_type": "code",
      "metadata": {
        "id": "8jUKLBSBqa_X",
        "colab_type": "code",
        "colab": {}
      },
      "source": [
        "# Your answer here"
      ],
      "execution_count": null,
      "outputs": []
    },
    {
      "cell_type": "markdown",
      "metadata": {
        "id": "CNNvR4xrqa_a",
        "colab_type": "text"
      },
      "source": [
        "**문제 2-2 답 : 평균적으로 높은 평점을 부여하는 사용자**"
      ]
    },
    {
      "cell_type": "code",
      "metadata": {
        "id": "kc8D_alFqa_b",
        "colab_type": "code",
        "colab": {}
      },
      "source": [
        "# Your answer here"
      ],
      "execution_count": null,
      "outputs": []
    },
    {
      "cell_type": "markdown",
      "metadata": {
        "id": "KksU9xvuqa_c",
        "colab_type": "text"
      },
      "source": [
        "**문제 2-3 답 : 평균적으로 낮은 평점을 부여하는 사용자**"
      ]
    },
    {
      "cell_type": "code",
      "metadata": {
        "id": "RfbO4FCZqa_c",
        "colab_type": "code",
        "colab": {}
      },
      "source": [
        "# Your answer here"
      ],
      "execution_count": null,
      "outputs": []
    },
    {
      "cell_type": "markdown",
      "metadata": {
        "id": "lJBRJiHOqa_f",
        "colab_type": "text"
      },
      "source": [
        "**문제 2-4 답 : 영화마다 다양한 평점을 부여하는 사용자**"
      ]
    },
    {
      "cell_type": "code",
      "metadata": {
        "id": "G7KaroGSqa_g",
        "colab_type": "code",
        "colab": {}
      },
      "source": [
        "# Your answer here"
      ],
      "execution_count": null,
      "outputs": []
    },
    {
      "cell_type": "markdown",
      "metadata": {
        "colab_type": "text",
        "id": "eZYzMs0EzWWk"
      },
      "source": [
        "# 데이터 분석 : 도표 그리기"
      ]
    },
    {
      "cell_type": "markdown",
      "metadata": {
        "colab_type": "text",
        "id": "Am2X0HLjqa_i"
      },
      "source": [
        "분석에 필요한 모듈들을 불러온다."
      ]
    },
    {
      "cell_type": "code",
      "metadata": {
        "id": "6fAqaYfaC3GF",
        "colab_type": "code",
        "colab": {}
      },
      "source": [
        "# import pandas  # as pd\n",
        "# import numpy   # as np \n",
        "\n",
        "# data_folder = 'data/ml-1m/'  \n",
        "# cols_user = ['user_id', 'gender', 'age', 'occupation', 'zip']\n",
        "# cols_rating = ['user_id', 'movie_id', 'rating', 'timestamp']\n",
        "# cols_movie = ['movie_id', 'title', 'genres']\n",
        "\n",
        "# # read_table() 대신 read_csv()을 사용해도 사용해도 같은 결과를 가진다.\n",
        "# df_users = pandas.read_table(\n",
        "#     data_folder + 'users.dat', sep='::', \n",
        "#     names=cols_user, engine='python')\n",
        "# df_ratings = pandas.read_table(\n",
        "#     data_folder + 'ratings.dat', sep='::', \n",
        "#     names=cols_rating, engine='python')\n",
        "# df_movies = pandas.read_table(\n",
        "#     data_folder + 'movies.dat', sep = '::', \n",
        "#     names=cols_movie, engine='python')\n",
        "\n",
        "# df = pandas.merge(pandas.merge(df_ratings, df_users, on='user_id'), \n",
        "#                   df_movies, on='movie_id')"
      ],
      "execution_count": null,
      "outputs": []
    },
    {
      "cell_type": "code",
      "metadata": {
        "colab_type": "code",
        "id": "nYRU1q0JzWWm",
        "colab": {}
      },
      "source": [
        "import seaborn\n",
        "import matplotlib\n",
        "from matplotlib import pyplot\n",
        "\n",
        "print('Seaborn version......:', pandas.__version__)\n",
        "print('Matplotlib version...:', matplotlib.__version__)"
      ],
      "execution_count": null,
      "outputs": []
    },
    {
      "cell_type": "code",
      "metadata": {
        "colab_type": "code",
        "id": "cOwWpOWjsePs",
        "colab": {}
      },
      "source": [
        "# Retina 스크린을 장착한 컴퓨터인 경우 아래 매직 코드를 사용해 고화질 도표를 생성할 수 있다.\n",
        "%config InlineBackend.figure_format = 'retina'"
      ],
      "execution_count": null,
      "outputs": []
    },
    {
      "cell_type": "markdown",
      "metadata": {
        "colab_type": "text",
        "id": "rg6mU7RwzWWt"
      },
      "source": [
        "## 사용자 평가가 가장 많은 영화의 평점 분포"
      ]
    },
    {
      "cell_type": "code",
      "metadata": {
        "id": "hIWeoJS0EGs5",
        "colab_type": "code",
        "colab": {}
      },
      "source": [
        "# --- 사용자가 가장 많이 평가한 영화는?\n",
        "# Your answer here"
      ],
      "execution_count": null,
      "outputs": []
    },
    {
      "cell_type": "code",
      "metadata": {
        "id": "Uf30JOvfEqoy",
        "colab_type": "code",
        "colab": {}
      },
      "source": [
        "# --- 사용자가 가장 많이 평가한 영화만 따로 데이터프레임으로 추출해서 인덱스를 기본값으로 지정한다.\n",
        "# Your answer here\n",
        "df_most_rated = (__TOD__)\n",
        "print(df_most_rated)"
      ],
      "execution_count": null,
      "outputs": []
    },
    {
      "cell_type": "code",
      "metadata": {
        "id": "TR5YbXuNGBEr",
        "colab_type": "code",
        "colab": {}
      },
      "source": [
        "# --- 사용자가 가장 많이 평가한 영화의 평점을 도표로 작성한다.\n",
        "# Your answer here"
      ],
      "execution_count": null,
      "outputs": []
    },
    {
      "cell_type": "code",
      "metadata": {
        "id": "xnWfoLdgHmN_",
        "colab_type": "code",
        "colab": {}
      },
      "source": [
        "# --- 사용자가 가장 많이 평가한 영화의 평점을 성별로 구분한 도표를 작성한다.\n",
        "df_most_rated_count_by_gender = (__TODO__)\n",
        "\n",
        "seaborn.barplot(data=df_most_rated_count_by_gender,\n",
        "                x='rating', y='percentage', \n",
        "                hue='gender')\n",
        "pyplot.title(f'Rating distribution by gender for ' \n",
        "             f'{df_most_rated.title[0]}')  # \n",
        "pyplot.show();"
      ],
      "execution_count": null,
      "outputs": []
    },
    {
      "cell_type": "markdown",
      "metadata": {
        "colab_type": "text",
        "id": "ml1SELqVzWW7"
      },
      "source": [
        "### 요약통계량 계산"
      ]
    },
    {
      "cell_type": "code",
      "metadata": {
        "id": "C12hcwPAJGAn",
        "colab_type": "code",
        "colab": {}
      },
      "source": [
        "# --- 사용자가 가장 많이 평가한 영화의 기초 통계량을 구한다.\n",
        "# Your answer here"
      ],
      "execution_count": null,
      "outputs": []
    },
    {
      "cell_type": "markdown",
      "metadata": {
        "id": "4icvf32Xqa_z",
        "colab_type": "text"
      },
      "source": [
        "## Lab: 기술 통계량 도표 그리기"
      ]
    },
    {
      "cell_type": "code",
      "metadata": {
        "id": "YTzcKfVrJhaj",
        "colab_type": "code",
        "colab": {}
      },
      "source": [
        "# import pandas  # as pd\n",
        "# import numpy   # as np \n",
        "\n",
        "# data_folder = 'data/ml-1m/'  \n",
        "# cols_user = ['user_id', 'gender', 'age', 'occupation', 'zip']\n",
        "# cols_rating = ['user_id', 'movie_id', 'rating', 'timestamp']\n",
        "# cols_movie = ['movie_id', 'title', 'genres']\n",
        "\n",
        "# # read_table() 대신 read_csv()을 사용해도 사용해도 같은 결과를 가진다.\n",
        "# df_users = pandas.read_table(\n",
        "#     data_folder + 'users.dat', sep='::', \n",
        "#     names=cols_user, engine='python')\n",
        "# df_ratings = pandas.read_table(\n",
        "#     data_folder + 'ratings.dat', sep='::', \n",
        "#     names=cols_rating, engine='python')\n",
        "# df_movies = pandas.read_table(\n",
        "#     data_folder + 'movies.dat', sep = '::', \n",
        "#     names=cols_movie, engine='python')"
      ],
      "execution_count": null,
      "outputs": []
    },
    {
      "cell_type": "markdown",
      "metadata": {
        "id": "xl0Huh_iqa_z",
        "colab_type": "text"
      },
      "source": [
        "### 문제 1 : 300명 이상의 사용자가 평가한 영화 중 평점이 가장 다양한 영화를 선택하여 다음 통계치를 구해보자."
      ]
    },
    {
      "cell_type": "markdown",
      "metadata": {
        "id": "csqug21dqa_0",
        "colab_type": "text"
      },
      "source": [
        "1. 해당 영화의 평점 분포를 도표로 작성하기\n",
        "1. 해당 영화의 성별 평점 분포를 도표로 작성하기"
      ]
    },
    {
      "cell_type": "markdown",
      "metadata": {
        "id": "nHnJNfXTqa_0",
        "colab_type": "text"
      },
      "source": [
        "**문제 1-1 답 : 해당 영화의 평점 분포를 도표로 작성하기**"
      ]
    },
    {
      "cell_type": "code",
      "metadata": {
        "id": "jEFE1pt-qa_1",
        "colab_type": "code",
        "colab": {}
      },
      "source": [
        "# Your answer here"
      ],
      "execution_count": null,
      "outputs": []
    },
    {
      "cell_type": "markdown",
      "metadata": {
        "id": "E8p8oBq6qa_2",
        "colab_type": "text"
      },
      "source": [
        "**문제 1-2 답 : 해당 영화의 성별 평점 분포를 도표로 작성하기**"
      ]
    },
    {
      "cell_type": "code",
      "metadata": {
        "id": "zmnEl8rAqa_2",
        "colab_type": "code",
        "colab": {}
      },
      "source": [
        "# Your answer here"
      ],
      "execution_count": null,
      "outputs": []
    },
    {
      "cell_type": "markdown",
      "metadata": {
        "id": "ml4TPO_aqa_3",
        "colab_type": "text"
      },
      "source": [
        "### 문제 2 : 영화의 장르 분포를 도표로 작성하기"
      ]
    },
    {
      "cell_type": "markdown",
      "metadata": {
        "id": "ROb05DDXqa_4",
        "colab_type": "text"
      },
      "source": [
        "1. (각 장르별 영화의 개수) 각 장르별로  영화가 몇 개 있는지 도표로 나타낸다. 이때 영화가 가장 많은 장르부터 내림차순으로 정렬하여 도표로 작성한다.\n",
        "1. (각 장르별 평가의 개수) 각 장르별로 사용자 평가가 몇 개인지 도표로 나타낸다. 이때 사용자 평가가 많은 장르부터 내림차순으로 정렬하여 도표로 작성한다."
      ]
    },
    {
      "cell_type": "markdown",
      "metadata": {
        "colab_type": "text",
        "id": "chsm5BvOZX2i"
      },
      "source": [
        "**문제 2-1 답 : 영화의 장르 분포를 도표로 작성하기**"
      ]
    },
    {
      "cell_type": "code",
      "metadata": {
        "colab_type": "code",
        "id": "DWC6zgIkZX2o",
        "colab": {}
      },
      "source": [
        "# Your answer here"
      ],
      "execution_count": null,
      "outputs": []
    },
    {
      "cell_type": "markdown",
      "metadata": {
        "colab_type": "text",
        "id": "cSR7upoIZX2p"
      },
      "source": [
        "**문제 2-2 답 : 사용자 평가의 장르 분포를 도표로 작성하기**"
      ]
    },
    {
      "cell_type": "code",
      "metadata": {
        "colab_type": "code",
        "id": "eFgBtyQFZX2q",
        "colab": {}
      },
      "source": [
        "# Your answer here"
      ],
      "execution_count": null,
      "outputs": []
    },
    {
      "cell_type": "markdown",
      "metadata": {
        "id": "KY7jVA_Aqa_7",
        "colab_type": "text"
      },
      "source": [
        "### 문제 3 : 사용자에 관한 다음 통계치를 구해보자."
      ]
    },
    {
      "cell_type": "markdown",
      "metadata": {
        "id": "CkV8xaILqa_8",
        "colab_type": "text"
      },
      "source": [
        "1. 사용자의 나이 분포를 도표로 작성하기\n",
        "1. 사용자의 성별 나이 분포를 도표로 작성하기\n",
        "1. 사용자의 나이와 직업에 대한 이차원 분할표 만들기"
      ]
    },
    {
      "cell_type": "markdown",
      "metadata": {
        "id": "yu__WlCeqa_8",
        "colab_type": "text"
      },
      "source": [
        "**문제 3-1 답 : 사용자의 나이 분포를 도표로 작성하기**"
      ]
    },
    {
      "cell_type": "code",
      "metadata": {
        "id": "RVHWaSkjqa_8",
        "colab_type": "code",
        "colab": {}
      },
      "source": [
        "# Your answer here"
      ],
      "execution_count": null,
      "outputs": []
    },
    {
      "cell_type": "markdown",
      "metadata": {
        "id": "TyJJ8Lx-qa_9",
        "colab_type": "text"
      },
      "source": [
        "**문제 3-2 답 : 사용자의 성별 나이 분포를 도표로 작성하기**"
      ]
    },
    {
      "cell_type": "code",
      "metadata": {
        "id": "0hUrN7_Hqa_-",
        "colab_type": "code",
        "colab": {}
      },
      "source": [
        "# Your answer here"
      ],
      "execution_count": null,
      "outputs": []
    },
    {
      "cell_type": "markdown",
      "metadata": {
        "id": "VbwyCeCnqa__",
        "colab_type": "text"
      },
      "source": [
        "**문제 3-3 답 : 사용자의 나이와 직업에 대한 이차원 분할표 만들기**"
      ]
    },
    {
      "cell_type": "code",
      "metadata": {
        "id": "B3AU3PPUqa__",
        "colab_type": "code",
        "colab": {}
      },
      "source": [
        "# Your answer here"
      ],
      "execution_count": null,
      "outputs": []
    },
    {
      "cell_type": "markdown",
      "metadata": {
        "id": "DM5r7VxPqbAB",
        "colab_type": "text"
      },
      "source": [
        "- - -\n",
        "# <font size=5, color='orange'>THE END</font>"
      ]
    }
  ]
}