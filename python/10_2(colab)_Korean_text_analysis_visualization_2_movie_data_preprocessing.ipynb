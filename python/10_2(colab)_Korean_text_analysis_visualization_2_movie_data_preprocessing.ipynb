{
  "nbformat": 4,
  "nbformat_minor": 0,
  "metadata": {
    "celltoolbar": "Slideshow",
    "colab": {
      "name": "10-2(colab).Korean-text-analysis-visualization-2-movie-data-preprocessing",
      "provenance": [],
      "collapsed_sections": [],
      "include_colab_link": true
    },
    "kernelspec": {
      "display_name": "Python 3",
      "language": "python",
      "name": "python3"
    },
    "language_info": {
      "codemirror_mode": {
        "name": "ipython",
        "version": 3
      },
      "file_extension": ".py",
      "mimetype": "text/x-python",
      "name": "python",
      "nbconvert_exporter": "python",
      "pygments_lexer": "ipython3",
      "version": "3.8.3"
    },
    "toc": {
      "base_numbering": 1,
      "nav_menu": {},
      "number_sections": true,
      "sideBar": true,
      "skip_h1_title": false,
      "title_cell": "Table of Contents",
      "title_sidebar": "Contents",
      "toc_cell": true,
      "toc_position": {},
      "toc_section_display": true,
      "toc_window_display": false
    },
    "varInspector": {
      "cols": {
        "lenName": 16,
        "lenType": 16,
        "lenVar": 40
      },
      "kernels_config": {
        "python": {
          "delete_cmd_postfix": "",
          "delete_cmd_prefix": "del ",
          "library": "var_list.py",
          "varRefreshCmd": "print(var_dic_list())"
        },
        "r": {
          "delete_cmd_postfix": ") ",
          "delete_cmd_prefix": "rm(",
          "library": "var_list.r",
          "varRefreshCmd": "cat(var_dic_list()) "
        }
      },
      "types_to_exclude": [
        "module",
        "function",
        "builtin_function_or_method",
        "instance",
        "_Feature"
      ],
      "window_display": false
    }
  },
  "cells": [
    {
      "cell_type": "markdown",
      "metadata": {
        "id": "view-in-github",
        "colab_type": "text"
      },
      "source": [
        "<a href=\"https://colab.research.google.com/github/ibk25244/su-ai/blob/master/10_2(colab)_Korean_text_analysis_visualization_2_movie_data_preprocessing.ipynb\" target=\"_parent\"><img src=\"https://colab.research.google.com/assets/colab-badge.svg\" alt=\"Open In Colab\"/></a>"
      ]
    },
    {
      "cell_type": "markdown",
      "metadata": {
        "id": "owaYFwDpO1k3",
        "colab_type": "text"
      },
      "source": [
        "- - -\n",
        "\n",
        "<font size=6 color='tomato'>한글 텍스트 분석 및 시각화 - <font color='royalblue'>2 단계 : 데이터 전처리</font>   \n",
        "<font size=5 color='purple'>Korean Text Analysis & Visualization - <font color='forestgreen'>Step 2: Data Preprocessing</font>\n",
        "\n",
        "* * *\n",
        "\n",
        "**<font size=4>박 진 수</font>** 교수  \n",
        "Intelligent Data Semantics Lab  \n",
        "Seoul National University\n",
        "\n",
        "- - -"
      ]
    },
    {
      "cell_type": "markdown",
      "metadata": {
        "id": "7475EfuvRYjZ",
        "colab_type": "toc"
      },
      "source": [
        ">[텍스트 분석 절차](#scrollTo=8fXwjm1TO1k5)\n",
        "\n",
        ">[저장한 파일을 불러온다.](#scrollTo=EeDZ93w4JKIS)\n",
        "\n",
        ">>[(방법 1) 로컬 파일 업로드 하여 열기](#scrollTo=D0uivRGO6l5V)\n",
        "\n",
        ">>[(방법 2) 데이터 파일 내려받아 열기](#scrollTo=PjAWBCyc69Yj)\n",
        "\n",
        ">[전처리](#scrollTo=4nvPn1GNhdWO)\n",
        "\n",
        ">[한글 형태소 분석 맛보기](#scrollTo=mqZRWl0ohpVf)\n",
        "\n",
        ">[THE END](#scrollTo=xAaLs81RO1lV)\n",
        "\n"
      ]
    },
    {
      "cell_type": "markdown",
      "metadata": {
        "id": "8fXwjm1TO1k5",
        "colab_type": "text"
      },
      "source": [
        "# 텍스트 분석 절차"
      ]
    },
    {
      "cell_type": "markdown",
      "metadata": {
        "colab_type": "text",
        "id": "Rlprr2NpJGgG"
      },
      "source": [
        "**1** 단계 - **데이터 수집**\n",
        "- 웹, SNS 등에서 분석에 필요한 데이터를 수집한다.\n",
        "- 이미 데이터가 있으면 이 단계는 생략할 수 있다.\n",
        "\n",
        "**<font size='+3'>2 단계 - 데이터 전처리</font>**\n",
        "- 자연어를 기계가 이해할 수 있는 인공어(artificial language)로 번역한다.\n",
        "- Tokenization, POS Tagging(형태소 분석), Pruning 등 \n",
        "\n",
        "**3** 단계 - **데이터 탐색**\n",
        "- 분석의 방향성을 제시하기 위해 전처리한 데이터를 탐색한다.\n",
        "- 일반적으로는 단어의 출현 빈도(frequency)를 기반으로 탐색한다.\n",
        "\n",
        "**4** 단계 - **데이터 분석**\n",
        "- 텍스트 데이터를 통해 유의미한 정보를 추출하는 분석을 수행한다.\n",
        "- 감성분석, 토픽모델, 머신러닝 등\n",
        "\n",
        "**5** 단계 - **인사이트 도출**\n",
        "- 경영 환경에서 효과적인 의사 결정에 도움을 줄 수 있는 인사이트를 도출한다."
      ]
    },
    {
      "cell_type": "markdown",
      "metadata": {
        "colab_type": "text",
        "id": "EeDZ93w4JKIS"
      },
      "source": [
        "# 저장한 파일을 불러온다."
      ]
    },
    {
      "cell_type": "markdown",
      "metadata": {
        "id": "D0uivRGO6l5V",
        "colab_type": "text"
      },
      "source": [
        "## (방법 1) 로컬 파일 업로드 하여 열기\n",
        "\n",
        "\n"
      ]
    },
    {
      "cell_type": "code",
      "metadata": {
        "id": "v2Rtjahp6xqS",
        "colab_type": "code",
        "colab": {}
      },
      "source": [
        "# ===== 만약 파일을 로컬 파일로 저장했다면 =============================================\n",
        "# --- Importing a local file\n",
        "from google.colab import files\n",
        "\n",
        "# 앞서 수집한 영화 리뷰 파일('movie-reviews-A.txt')을 업로드한다.\n",
        "uploaded = files.upload()\n",
        "\n",
        "# 업로드한 파일을 읽어서 메모리에 저장한다.\n",
        "text = uploaded[tuple(uploaded)[0]].decode('utf-8').splitlines()"
      ],
      "execution_count": null,
      "outputs": []
    },
    {
      "cell_type": "markdown",
      "metadata": {
        "id": "PjAWBCyc69Yj",
        "colab_type": "text"
      },
      "source": [
        "## (방법 2) 데이터 파일 내려받아 열기"
      ]
    },
    {
      "cell_type": "markdown",
      "metadata": {
        "id": "qTd3r_8iYKGw",
        "colab_type": "text"
      },
      "source": [
        "실습을 위해 저장해둔 파일을 내려받도록 한다."
      ]
    },
    {
      "cell_type": "code",
      "metadata": {
        "id": "5bAe-dHkYLgI",
        "colab_type": "code",
        "colab": {}
      },
      "source": [
        "!wget -q --show-progress --no-check-certificate https://raw.githubusercontent.com/snu-ds/data/master/movie-reviews-begin-again.txt\n",
        "\n",
        "# 파일을 읽어서 메모리에 저장한다.\n",
        "text = open('movie-reviews-begin-again.txt', mode='r', \n",
        "            encoding='utf-8').read().splitlines()"
      ],
      "execution_count": null,
      "outputs": []
    },
    {
      "cell_type": "markdown",
      "metadata": {
        "id": "4nvPn1GNhdWO",
        "colab_type": "text"
      },
      "source": [
        "# 전처리"
      ]
    },
    {
      "cell_type": "code",
      "metadata": {
        "id": "4485F6L2awXn",
        "colab_type": "code",
        "colab": {}
      },
      "source": [
        "# 리뷰가 몇 개인지 확인한다.\n",
        "len(text)"
      ],
      "execution_count": null,
      "outputs": []
    },
    {
      "cell_type": "code",
      "metadata": {
        "id": "hAgndHivfPcL",
        "colab_type": "code",
        "colab": {}
      },
      "source": [
        "# 첫 다섯 개 리뷰를 열람한다.\n",
        "text[:5]"
      ],
      "execution_count": null,
      "outputs": []
    },
    {
      "cell_type": "code",
      "metadata": {
        "id": "SkmV4jLVfURe",
        "colab_type": "code",
        "colab": {}
      },
      "source": [
        "# 마지막 다섯 개 리뷰를 열람한다.\n",
        "text[-5:]"
      ],
      "execution_count": null,
      "outputs": []
    },
    {
      "cell_type": "code",
      "metadata": {
        "id": "K3y6zxdZvTxY",
        "colab_type": "code",
        "colab": {}
      },
      "source": [
        "# 평점을 제외한 리뷰 내용만으로 구성된 리스트를 생성한다.\n",
        "reviews = __TODO__"
      ],
      "execution_count": null,
      "outputs": []
    },
    {
      "cell_type": "code",
      "metadata": {
        "id": "-PVMwnaZfbMY",
        "colab_type": "code",
        "colab": {}
      },
      "source": [
        "# 첫 다섯 개 리뷰를 열람한다.\n",
        "reviews[:5]"
      ],
      "execution_count": null,
      "outputs": []
    },
    {
      "cell_type": "code",
      "metadata": {
        "id": "KT5vWQT0fezL",
        "colab_type": "code",
        "colab": {}
      },
      "source": [
        "# 마지막 다섯 개 리뷰를 열람한다.\n",
        "reviews[-5:]"
      ],
      "execution_count": null,
      "outputs": []
    },
    {
      "cell_type": "code",
      "metadata": {
        "colab_type": "code",
        "id": "-MLYN5ZLO1lE",
        "colab": {}
      },
      "source": [
        "corpus = '\\n'.join(reviews)\n",
        "corpus[:100]"
      ],
      "execution_count": null,
      "outputs": []
    },
    {
      "cell_type": "code",
      "metadata": {
        "id": "dpV1UxkFvllk",
        "colab_type": "code",
        "colab": {}
      },
      "source": [
        "# --- 지금까지 처리한 내용을 파일로 저장한다.\n",
        "path = 'movie-reviews-A-corpus.txt'\n",
        "\n",
        "# 텍스트 파일을 쓰기 모드로 연다.\n",
        "# 이 때 빈 리뷰와 평점은 파일로 저장하지 않는다.\n",
        "with open(path, mode='w', encoding='utf-8') as file:\n",
        "    __TODO__\n",
        "\n",
        "print(f\"'{path}'로 저장하였습니다.\")    "
      ],
      "execution_count": null,
      "outputs": []
    },
    {
      "cell_type": "code",
      "metadata": {
        "id": "MWF9xAPnfxI6",
        "colab_type": "code",
        "colab": {}
      },
      "source": [
        "# ======= For Google Colaboratory ===============================\n",
        "# --- 수집한 데이터와 전처리한 데이터를 로컬 파일로 내려받기를 한다.\n",
        "from google.colab import files\n",
        "files.download(path)"
      ],
      "execution_count": null,
      "outputs": []
    },
    {
      "cell_type": "markdown",
      "metadata": {
        "id": "mqZRWl0ohpVf",
        "colab_type": "text"
      },
      "source": [
        "# 한글 형태소 분석 맛보기"
      ]
    },
    {
      "cell_type": "code",
      "metadata": {
        "id": "J8-ViHJzO1k6",
        "colab_type": "code",
        "colab": {}
      },
      "source": [
        "# ======= 형태소 분석을 위해 한글 분석 모듈 konlpy를 설치한다. =============\n",
        "!python -m pip install konlpy"
      ],
      "execution_count": null,
      "outputs": []
    },
    {
      "cell_type": "code",
      "metadata": {
        "id": "bJqRkbOZO1k9",
        "colab_type": "code",
        "colab": {}
      },
      "source": [
        "import konlpy \n",
        "print('KoNLPy version...:', konlpy.__version__)"
      ],
      "execution_count": null,
      "outputs": []
    },
    {
      "cell_type": "code",
      "metadata": {
        "id": "iuVug_ZsgLMa",
        "colab_type": "code",
        "colab": {}
      },
      "source": [
        "# Open Korean Text\n",
        "from konlpy.tag import Okt \n",
        "okt = Okt()"
      ],
      "execution_count": null,
      "outputs": []
    },
    {
      "cell_type": "code",
      "metadata": {
        "colab_type": "code",
        "id": "f5VXNbLlO1lJ",
        "colab": {}
      },
      "source": [
        "# 분석을 위해 각 리뷰 마지막에 붙인 새줄바꿈 문자를 모두 제거한다. \n",
        "corpus = corpus.replace('\\n', '')"
      ],
      "execution_count": null,
      "outputs": []
    },
    {
      "cell_type": "code",
      "metadata": {
        "id": "sdPwXsdpwGf2",
        "colab_type": "code",
        "colab": {}
      },
      "source": [
        "# 형태소(Part-of-Speech)별로 추출한다. 즉, 모든 형태소를 리스트로 반환한다.\n",
        "words = __TODO__"
      ],
      "execution_count": null,
      "outputs": []
    },
    {
      "cell_type": "code",
      "metadata": {
        "id": "gj54AOAZgOoF",
        "colab_type": "code",
        "colab": {}
      },
      "source": [
        "# 말뭉치에 사용한 전체 단어(문장 부호를 포함한 토큰)의 수를 확인한다.\n",
        "len(words)"
      ],
      "execution_count": null,
      "outputs": []
    },
    {
      "cell_type": "code",
      "metadata": {
        "id": "7qcu1qbYgVCJ",
        "colab_type": "code",
        "colab": {}
      },
      "source": [
        "# [참고] 한글 형태소 분석기를 사용하지 않을 때의 단어(토큰) 수를 확인한다.\n",
        "# 공백을 기준으로 분리하기 때문에 조사 등을 따로 구분하지 않고 한 단어로 취급한다.\n",
        "raw_words = corpus.split()\n",
        "len(raw_words)"
      ],
      "execution_count": null,
      "outputs": []
    },
    {
      "cell_type": "code",
      "metadata": {
        "id": "uG9JyIxsgYW8",
        "colab_type": "code",
        "colab": {}
      },
      "source": [
        "raw_words[:10]"
      ],
      "execution_count": null,
      "outputs": []
    },
    {
      "cell_type": "code",
      "metadata": {
        "id": "KhAkACd2wMi5",
        "colab_type": "code",
        "colab": {}
      },
      "source": [
        "# 말뭉치에 사용한 전체 어휘(vocabulary) 수를 확인한다.\n",
        "vocab = __TODO__"
      ],
      "execution_count": null,
      "outputs": []
    },
    {
      "cell_type": "code",
      "metadata": {
        "id": "s9pFWeCbO1lN",
        "colab_type": "code",
        "colab": {}
      },
      "source": [
        "# Lexical diversity\n",
        "# 각 단어가 평균 몇 번 정도 사용되었는지 확인한다.\n",
        "len(words) / len(vocab)"
      ],
      "execution_count": null,
      "outputs": []
    },
    {
      "cell_type": "code",
      "metadata": {
        "id": "VVDqNrfCO1lP",
        "colab_type": "code",
        "colab": {}
      },
      "source": [
        "# Measuring the lexical richness of the text\n",
        "# 전체 단어 중 고유한 단어가 사용된 비율\n",
        "len(vocab) / len(words)"
      ],
      "execution_count": null,
      "outputs": []
    },
    {
      "cell_type": "code",
      "metadata": {
        "id": "GzMXHPl5wV9T",
        "colab_type": "code",
        "colab": {}
      },
      "source": [
        "# 형태소(Part-of-Speech) 분석을 한다.\n",
        "pos = __TODO__"
      ],
      "execution_count": null,
      "outputs": []
    },
    {
      "cell_type": "code",
      "metadata": {
        "id": "siJ3l7mqO1lR",
        "colab_type": "code",
        "colab": {}
      },
      "source": [
        "pos[:20]"
      ],
      "execution_count": null,
      "outputs": []
    },
    {
      "cell_type": "code",
      "metadata": {
        "id": "GFGnEeVjwfLl",
        "colab_type": "code",
        "colab": {}
      },
      "source": [
        "# 형태소(Part-of-Speech) 분석을 한다.\n",
        "# 토큰을 정규화하고 어간 단위로 구분한다.\n",
        "pos = __TODO__\n",
        "pos[:20]"
      ],
      "execution_count": null,
      "outputs": []
    },
    {
      "cell_type": "markdown",
      "metadata": {
        "id": "xAaLs81RO1lV",
        "colab_type": "text"
      },
      "source": [
        "- - -\n",
        "# <font color='red'>THE END</font>"
      ]
    }
  ]
}